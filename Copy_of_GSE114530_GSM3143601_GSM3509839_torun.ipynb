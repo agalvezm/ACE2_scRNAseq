{
  "nbformat": 4,
  "nbformat_minor": 0,
  "metadata": {
    "colab": {
      "name": "Copy of GSE114530_GSM3143601_GSM3509839.ipynb",
      "provenance": [],
      "collapsed_sections": [],
      "mount_file_id": "12bR-VFWOIpcUSzyJi2I6SaRbPqkQp4uK",
      "authorship_tag": "ABX9TyOsSx5tWULKIzm8HD9f5RF3",
      "include_colab_link": true
    },
    "kernelspec": {
      "name": "python3",
      "display_name": "Python 3"
    }
  },
  "cells": [
    {
      "cell_type": "markdown",
      "metadata": {
        "id": "view-in-github",
        "colab_type": "text"
      },
      "source": [
        "<a href=\"https://colab.research.google.com/github/agalvezm/ACE2_scRNAseq/blob/master/Copy_of_GSE114530_GSM3143601_GSM3509839_torun.ipynb\" target=\"_parent\"><img src=\"https://colab.research.google.com/assets/colab-badge.svg\" alt=\"Open In Colab\"/></a>"
      ]
    },
    {
      "cell_type": "markdown",
      "metadata": {
        "id": "V9ryXluJsJw9"
      },
      "source": [
        "# GSE : GSM"
      ]
    },
    {
      "cell_type": "code",
      "metadata": {
        "id": "2he7zkjDB4Kx"
      },
      "source": [
        "# Accession id for the data\n",
        "database_id = \"GSE114530\"\n",
        "species = \"human\"\n",
        "name_SRA_table = \"GSM3143601_GSM3509839.txt\""
      ],
      "execution_count": 1,
      "outputs": []
    },
    {
      "cell_type": "markdown",
      "metadata": {
        "id": "l37WEHLVJn_G"
      },
      "source": [
        "# Clone, import and install software"
      ]
    },
    {
      "cell_type": "code",
      "metadata": {
        "id": "n1TDvUzpB7xO",
        "outputId": "e775a383-345b-4267-e180-308b6ec74ad6",
        "colab": {
          "base_uri": "https://localhost:8080/"
        }
      },
      "source": [
        "# Clone repository for sradownloader\n",
        "!git clone https://github.com/s-andrews/sradownloader.git\n",
        "\n",
        "\n",
        "# install and import necessary software\n",
        "\n",
        "# Install kb and scanpy\n",
        "!pip -q install kb-python \n",
        "!pip -q install scanpy\n",
        "\n",
        "import re\n",
        "import os\n",
        "\n",
        "# Setup\n",
        "\n",
        "import anndata\n",
        "import pandas as pd\n",
        "import numpy as np\n",
        "import matplotlib.pyplot as plt\n",
        "import matplotlib as mpl\n",
        "import matplotlib.patches as mpatches\n",
        "import scanpy as sc\n",
        "from scipy import stats\n",
        "\n",
        "from collections import OrderedDict\n",
        "from sklearn.decomposition import TruncatedSVD\n",
        "from sklearn.manifold import TSNE\n",
        "from sklearn.preprocessing import scale\n",
        "\n",
        "from sklearn.cluster import KMeans\n",
        "from sklearn.preprocessing import normalize\n",
        "from sklearn.preprocessing import LabelEncoder\n",
        "from sklearn.neighbors import NeighborhoodComponentsAnalysis\n",
        "from matplotlib import cm\n",
        "from matplotlib.lines import Line2D\n",
        "\n",
        "def nd(arr):\n",
        "    return np.asarray(arr).reshape(-1)\n",
        "def yex(ax):\n",
        "    lims = [np.min([ax.get_xlim(), ax.get_ylim()]),\n",
        "            np.max([ax.get_xlim(), ax.get_ylim()])]\n",
        "\n",
        "    # now plot both limits against eachother\n",
        "    ax.plot(lims, lims, 'k-', alpha=0.75, zorder=0)\n",
        "    ax.set_aspect('equal')\n",
        "    ax.set_xlim(lims)\n",
        "    ax.set_ylim(lims)\n",
        "    return ax\n",
        "\n",
        "def trim_axs(axs, N):\n",
        "    \"\"\"little helper to massage the axs list to have correct length...\"\"\"\n",
        "    axs = axs.flat\n",
        "    for ax in axs[N:]:\n",
        "        ax.remove()\n",
        "    return axs[:N]\n",
        "\n",
        "import warnings\n",
        "warnings.filterwarnings('ignore')\n",
        "\n",
        "fsize=20\n",
        "\n",
        "plt.rcParams.update({'font.size': fsize})\n",
        "%config InlineBackend.figure_format = 'retina'"
      ],
      "execution_count": 2,
      "outputs": [
        {
          "output_type": "stream",
          "text": [
            "Cloning into 'sradownloader'...\n",
            "remote: Enumerating objects: 134, done.\u001b[K\n",
            "remote: Counting objects: 100% (134/134), done.\u001b[K\n",
            "remote: Compressing objects: 100% (101/101), done.\u001b[K\n",
            "remote: Total 134 (delta 66), reused 87 (delta 32), pack-reused 0\u001b[K\n",
            "Receiving objects: 100% (134/134), 172.50 KiB | 2.65 MiB/s, done.\n",
            "Resolving deltas: 100% (66/66), done.\n",
            "\u001b[K     |████████████████████████████████| 35.4MB 1.4MB/s \n",
            "\u001b[K     |████████████████████████████████| 51kB 5.6MB/s \n",
            "\u001b[K     |████████████████████████████████| 122kB 41.8MB/s \n",
            "\u001b[K     |████████████████████████████████| 112kB 41.1MB/s \n",
            "\u001b[?25h  Building wheel for loompy (setup.py) ... \u001b[?25l\u001b[?25hdone\n",
            "  Building wheel for numpy-groupies (setup.py) ... \u001b[?25l\u001b[?25hdone\n",
            "\u001b[K     |████████████████████████████████| 7.7MB 2.6MB/s \n",
            "\u001b[K     |████████████████████████████████| 61kB 6.2MB/s \n",
            "\u001b[K     |████████████████████████████████| 51kB 5.4MB/s \n",
            "\u001b[?25h  Building wheel for sinfo (setup.py) ... \u001b[?25l\u001b[?25hdone\n"
          ],
          "name": "stdout"
        }
      ]
    },
    {
      "cell_type": "markdown",
      "metadata": {
        "id": "t4tGtAu_Jrou"
      },
      "source": [
        "# Download data and reference"
      ]
    },
    {
      "cell_type": "markdown",
      "metadata": {
        "id": "9W7nq95LCFCm"
      },
      "source": [
        "SRA table downloaded from: "
      ]
    },
    {
      "cell_type": "code",
      "metadata": {
        "id": "wzeKyM3aCCOm",
        "outputId": "c03b88d7-ef40-496a-af55-d9dc1148d6e4",
        "colab": {
          "base_uri": "https://localhost:8080/"
        }
      },
      "source": [
        "!./sradownloader/sradownloader --outdir fastqs $name_SRA_table"
      ],
      "execution_count": null,
      "outputs": [
        {
          "output_type": "stream",
          "text": [
            "Testing for fasterq-dump at fasterq-dump\n",
            "WARNING: Couldn't find fasterq-dump at fasterq-dump. Please ensure that sratoolkit is downloaded and that you've run vdb-config if you want to download from NCBI\n",
            "Testing for gzip in the path\n",
            "Found gzip\n",
            "Reading samples from GSM3143601_GSM3509839.txt\n",
            "Trying to get name for SRR8313168 from GEO\n",
            "Found sample SRR8313168 with basename SRR8313168_GSM3509839_Week_13_fetal_kidney_Homo_sapiens_RNA-Seq\n",
            "Trying to get name for SRR8313172 from GEO\n",
            "Found sample SRR8313172 with basename SRR8313172_GSM3509839_Week_13_fetal_kidney_Homo_sapiens_RNA-Seq\n",
            "Trying to get name for SRR8313173 from GEO\n",
            "Found sample SRR8313173 with basename SRR8313173_GSM3509839_Week_13_fetal_kidney_Homo_sapiens_RNA-Seq\n",
            "Trying to get name for SRR7171581 from GEO\n",
            "Found sample SRR7171581 with basename SRR7171581_GSM3143601_w16_human_embryonic_kidney_Homo_sapiens_RNA-Seq\n",
            "Trying to get name for SRR7171582 from GEO\n",
            "Found sample SRR7171582 with basename SRR7171582_GSM3143601_w16_human_embryonic_kidney_Homo_sapiens_RNA-Seq\n",
            "Trying to get name for SRR7171583 from GEO\n",
            "Found sample SRR7171583 with basename SRR7171583_GSM3143601_w16_human_embryonic_kidney_Homo_sapiens_RNA-Seq\n",
            "Trying to get name for SRR8313167 from GEO\n",
            "Found sample SRR8313167 with basename SRR8313167_GSM3509839_Week_13_fetal_kidney_Homo_sapiens_RNA-Seq\n",
            "Trying to get name for SRR8313169 from GEO\n",
            "Found sample SRR8313169 with basename SRR8313169_GSM3509839_Week_13_fetal_kidney_Homo_sapiens_RNA-Seq\n",
            "Trying to get name for SRR8313170 from GEO\n",
            "Found sample SRR8313170 with basename SRR8313170_GSM3509839_Week_13_fetal_kidney_Homo_sapiens_RNA-Seq\n",
            "Trying to get name for SRR8313171 from GEO\n",
            "Found sample SRR8313171 with basename SRR8313171_GSM3509839_Week_13_fetal_kidney_Homo_sapiens_RNA-Seq\n",
            "Trying to get name for SRR8313174 from GEO\n",
            "Found sample SRR8313174 with basename SRR8313174_GSM3509839_Week_13_fetal_kidney_Homo_sapiens_RNA-Seq\n",
            "Trying to get name for SRR7171580 from GEO\n",
            "Found sample SRR7171580 with basename SRR7171580_GSM3143601_w16_human_embryonic_kidney_Homo_sapiens_RNA-Seq\n",
            "[ENA] Downloading SRR8313168 into SRR8313168_GSM3509839_Week_13_fetal_kidney_Homo_sapiens_RNA-Seq\n",
            "run_accession\tfastq_ftp\n",
            "SRR8313168\tftp.sra.ebi.ac.uk/vol1/fastq/SRR831/008/SRR8313168/SRR8313168_1.fastq.gz;ftp.sra.ebi.ac.uk/vol1/fastq/SRR831/008/SRR8313168/SRR8313168_2.fastq.gz\n",
            "URL is ftp.sra.ebi.ac.uk/vol1/fastq/SRR831/008/SRR8313168/SRR8313168_1.fastq.gz server=ftp.sra.ebi.ac.uk folder=vol1/fastq/SRR831/008/SRR8313168 file=SRR8313168_1.fastq.gz\n",
            "[ENA Attempt 1] Downloading ftp.sra.ebi.ac.uk/vol1/fastq/SRR831/008/SRR8313168/SRR8313168_1.fastq.gz into fastqs/SRR8313168_GSM3509839_Week_13_fetal_kidney_Homo_sapiens_RNA-Seq_1.fastq.gz\n",
            "URL is ftp.sra.ebi.ac.uk/vol1/fastq/SRR831/008/SRR8313168/SRR8313168_2.fastq.gz server=ftp.sra.ebi.ac.uk folder=vol1/fastq/SRR831/008/SRR8313168 file=SRR8313168_2.fastq.gz\n",
            "[ENA Attempt 1] Downloading ftp.sra.ebi.ac.uk/vol1/fastq/SRR831/008/SRR8313168/SRR8313168_2.fastq.gz into fastqs/SRR8313168_GSM3509839_Week_13_fetal_kidney_Homo_sapiens_RNA-Seq_2.fastq.gz\n",
            "[ENA] Downloading SRR8313172 into SRR8313172_GSM3509839_Week_13_fetal_kidney_Homo_sapiens_RNA-Seq\n",
            "run_accession\tfastq_ftp\n",
            "SRR8313172\tftp.sra.ebi.ac.uk/vol1/fastq/SRR831/002/SRR8313172/SRR8313172_1.fastq.gz;ftp.sra.ebi.ac.uk/vol1/fastq/SRR831/002/SRR8313172/SRR8313172_2.fastq.gz\n",
            "URL is ftp.sra.ebi.ac.uk/vol1/fastq/SRR831/002/SRR8313172/SRR8313172_1.fastq.gz server=ftp.sra.ebi.ac.uk folder=vol1/fastq/SRR831/002/SRR8313172 file=SRR8313172_1.fastq.gz\n",
            "[ENA Attempt 1] Downloading ftp.sra.ebi.ac.uk/vol1/fastq/SRR831/002/SRR8313172/SRR8313172_1.fastq.gz into fastqs/SRR8313172_GSM3509839_Week_13_fetal_kidney_Homo_sapiens_RNA-Seq_1.fastq.gz\n",
            "URL is ftp.sra.ebi.ac.uk/vol1/fastq/SRR831/002/SRR8313172/SRR8313172_2.fastq.gz server=ftp.sra.ebi.ac.uk folder=vol1/fastq/SRR831/002/SRR8313172 file=SRR8313172_2.fastq.gz\n",
            "[ENA Attempt 1] Downloading ftp.sra.ebi.ac.uk/vol1/fastq/SRR831/002/SRR8313172/SRR8313172_2.fastq.gz into fastqs/SRR8313172_GSM3509839_Week_13_fetal_kidney_Homo_sapiens_RNA-Seq_2.fastq.gz\n",
            "[ENA] Downloading SRR8313173 into SRR8313173_GSM3509839_Week_13_fetal_kidney_Homo_sapiens_RNA-Seq\n",
            "run_accession\tfastq_ftp\n",
            "SRR8313173\tftp.sra.ebi.ac.uk/vol1/fastq/SRR831/003/SRR8313173/SRR8313173_1.fastq.gz;ftp.sra.ebi.ac.uk/vol1/fastq/SRR831/003/SRR8313173/SRR8313173_2.fastq.gz\n",
            "URL is ftp.sra.ebi.ac.uk/vol1/fastq/SRR831/003/SRR8313173/SRR8313173_1.fastq.gz server=ftp.sra.ebi.ac.uk folder=vol1/fastq/SRR831/003/SRR8313173 file=SRR8313173_1.fastq.gz\n",
            "[ENA Attempt 1] Downloading ftp.sra.ebi.ac.uk/vol1/fastq/SRR831/003/SRR8313173/SRR8313173_1.fastq.gz into fastqs/SRR8313173_GSM3509839_Week_13_fetal_kidney_Homo_sapiens_RNA-Seq_1.fastq.gz\n",
            "URL is ftp.sra.ebi.ac.uk/vol1/fastq/SRR831/003/SRR8313173/SRR8313173_2.fastq.gz server=ftp.sra.ebi.ac.uk folder=vol1/fastq/SRR831/003/SRR8313173 file=SRR8313173_2.fastq.gz\n",
            "[ENA Attempt 1] Downloading ftp.sra.ebi.ac.uk/vol1/fastq/SRR831/003/SRR8313173/SRR8313173_2.fastq.gz into fastqs/SRR8313173_GSM3509839_Week_13_fetal_kidney_Homo_sapiens_RNA-Seq_2.fastq.gz\n",
            "[ENA] Downloading SRR7171581 into SRR7171581_GSM3143601_w16_human_embryonic_kidney_Homo_sapiens_RNA-Seq\n",
            "run_accession\tfastq_ftp\n",
            "SRR7171581\tftp.sra.ebi.ac.uk/vol1/fastq/SRR717/001/SRR7171581/SRR7171581_1.fastq.gz;ftp.sra.ebi.ac.uk/vol1/fastq/SRR717/001/SRR7171581/SRR7171581_2.fastq.gz\n",
            "URL is ftp.sra.ebi.ac.uk/vol1/fastq/SRR717/001/SRR7171581/SRR7171581_1.fastq.gz server=ftp.sra.ebi.ac.uk folder=vol1/fastq/SRR717/001/SRR7171581 file=SRR7171581_1.fastq.gz\n",
            "[ENA Attempt 1] Downloading ftp.sra.ebi.ac.uk/vol1/fastq/SRR717/001/SRR7171581/SRR7171581_1.fastq.gz into fastqs/SRR7171581_GSM3143601_w16_human_embryonic_kidney_Homo_sapiens_RNA-Seq_1.fastq.gz\n",
            "URL is ftp.sra.ebi.ac.uk/vol1/fastq/SRR717/001/SRR7171581/SRR7171581_2.fastq.gz server=ftp.sra.ebi.ac.uk folder=vol1/fastq/SRR717/001/SRR7171581 file=SRR7171581_2.fastq.gz\n",
            "[ENA Attempt 1] Downloading ftp.sra.ebi.ac.uk/vol1/fastq/SRR717/001/SRR7171581/SRR7171581_2.fastq.gz into fastqs/SRR7171581_GSM3143601_w16_human_embryonic_kidney_Homo_sapiens_RNA-Seq_2.fastq.gz\n",
            "[ENA] Downloading SRR7171582 into SRR7171582_GSM3143601_w16_human_embryonic_kidney_Homo_sapiens_RNA-Seq\n",
            "run_accession\tfastq_ftp\n",
            "SRR7171582\tftp.sra.ebi.ac.uk/vol1/fastq/SRR717/002/SRR7171582/SRR7171582_1.fastq.gz;ftp.sra.ebi.ac.uk/vol1/fastq/SRR717/002/SRR7171582/SRR7171582_2.fastq.gz\n",
            "URL is ftp.sra.ebi.ac.uk/vol1/fastq/SRR717/002/SRR7171582/SRR7171582_1.fastq.gz server=ftp.sra.ebi.ac.uk folder=vol1/fastq/SRR717/002/SRR7171582 file=SRR7171582_1.fastq.gz\n",
            "[ENA Attempt 1] Downloading ftp.sra.ebi.ac.uk/vol1/fastq/SRR717/002/SRR7171582/SRR7171582_1.fastq.gz into fastqs/SRR7171582_GSM3143601_w16_human_embryonic_kidney_Homo_sapiens_RNA-Seq_1.fastq.gz\n",
            "URL is ftp.sra.ebi.ac.uk/vol1/fastq/SRR717/002/SRR7171582/SRR7171582_2.fastq.gz server=ftp.sra.ebi.ac.uk folder=vol1/fastq/SRR717/002/SRR7171582 file=SRR7171582_2.fastq.gz\n",
            "[ENA Attempt 1] Downloading ftp.sra.ebi.ac.uk/vol1/fastq/SRR717/002/SRR7171582/SRR7171582_2.fastq.gz into fastqs/SRR7171582_GSM3143601_w16_human_embryonic_kidney_Homo_sapiens_RNA-Seq_2.fastq.gz\n",
            "[ENA] Downloading SRR7171583 into SRR7171583_GSM3143601_w16_human_embryonic_kidney_Homo_sapiens_RNA-Seq\n",
            "run_accession\tfastq_ftp\n",
            "SRR7171583\tftp.sra.ebi.ac.uk/vol1/fastq/SRR717/003/SRR7171583/SRR7171583_1.fastq.gz;ftp.sra.ebi.ac.uk/vol1/fastq/SRR717/003/SRR7171583/SRR7171583_2.fastq.gz\n",
            "URL is ftp.sra.ebi.ac.uk/vol1/fastq/SRR717/003/SRR7171583/SRR7171583_1.fastq.gz server=ftp.sra.ebi.ac.uk folder=vol1/fastq/SRR717/003/SRR7171583 file=SRR7171583_1.fastq.gz\n",
            "[ENA Attempt 1] Downloading ftp.sra.ebi.ac.uk/vol1/fastq/SRR717/003/SRR7171583/SRR7171583_1.fastq.gz into fastqs/SRR7171583_GSM3143601_w16_human_embryonic_kidney_Homo_sapiens_RNA-Seq_1.fastq.gz\n",
            "URL is ftp.sra.ebi.ac.uk/vol1/fastq/SRR717/003/SRR7171583/SRR7171583_2.fastq.gz server=ftp.sra.ebi.ac.uk folder=vol1/fastq/SRR717/003/SRR7171583 file=SRR7171583_2.fastq.gz\n",
            "[ENA Attempt 1] Downloading ftp.sra.ebi.ac.uk/vol1/fastq/SRR717/003/SRR7171583/SRR7171583_2.fastq.gz into fastqs/SRR7171583_GSM3143601_w16_human_embryonic_kidney_Homo_sapiens_RNA-Seq_2.fastq.gz\n",
            "[ENA] Downloading SRR8313167 into SRR8313167_GSM3509839_Week_13_fetal_kidney_Homo_sapiens_RNA-Seq\n",
            "run_accession\tfastq_ftp\n",
            "SRR8313167\tftp.sra.ebi.ac.uk/vol1/fastq/SRR831/007/SRR8313167/SRR8313167_1.fastq.gz;ftp.sra.ebi.ac.uk/vol1/fastq/SRR831/007/SRR8313167/SRR8313167_2.fastq.gz\n",
            "URL is ftp.sra.ebi.ac.uk/vol1/fastq/SRR831/007/SRR8313167/SRR8313167_1.fastq.gz server=ftp.sra.ebi.ac.uk folder=vol1/fastq/SRR831/007/SRR8313167 file=SRR8313167_1.fastq.gz\n",
            "[ENA Attempt 1] Downloading ftp.sra.ebi.ac.uk/vol1/fastq/SRR831/007/SRR8313167/SRR8313167_1.fastq.gz into fastqs/SRR8313167_GSM3509839_Week_13_fetal_kidney_Homo_sapiens_RNA-Seq_1.fastq.gz\n",
            "URL is ftp.sra.ebi.ac.uk/vol1/fastq/SRR831/007/SRR8313167/SRR8313167_2.fastq.gz server=ftp.sra.ebi.ac.uk folder=vol1/fastq/SRR831/007/SRR8313167 file=SRR8313167_2.fastq.gz\n",
            "[ENA Attempt 1] Downloading ftp.sra.ebi.ac.uk/vol1/fastq/SRR831/007/SRR8313167/SRR8313167_2.fastq.gz into fastqs/SRR8313167_GSM3509839_Week_13_fetal_kidney_Homo_sapiens_RNA-Seq_2.fastq.gz\n",
            "[ENA] Downloading SRR8313169 into SRR8313169_GSM3509839_Week_13_fetal_kidney_Homo_sapiens_RNA-Seq\n",
            "run_accession\tfastq_ftp\n",
            "SRR8313169\tftp.sra.ebi.ac.uk/vol1/fastq/SRR831/009/SRR8313169/SRR8313169_1.fastq.gz;ftp.sra.ebi.ac.uk/vol1/fastq/SRR831/009/SRR8313169/SRR8313169_2.fastq.gz\n",
            "URL is ftp.sra.ebi.ac.uk/vol1/fastq/SRR831/009/SRR8313169/SRR8313169_1.fastq.gz server=ftp.sra.ebi.ac.uk folder=vol1/fastq/SRR831/009/SRR8313169 file=SRR8313169_1.fastq.gz\n",
            "[ENA Attempt 1] Downloading ftp.sra.ebi.ac.uk/vol1/fastq/SRR831/009/SRR8313169/SRR8313169_1.fastq.gz into fastqs/SRR8313169_GSM3509839_Week_13_fetal_kidney_Homo_sapiens_RNA-Seq_1.fastq.gz\n",
            "URL is ftp.sra.ebi.ac.uk/vol1/fastq/SRR831/009/SRR8313169/SRR8313169_2.fastq.gz server=ftp.sra.ebi.ac.uk folder=vol1/fastq/SRR831/009/SRR8313169 file=SRR8313169_2.fastq.gz\n",
            "[ENA Attempt 1] Downloading ftp.sra.ebi.ac.uk/vol1/fastq/SRR831/009/SRR8313169/SRR8313169_2.fastq.gz into fastqs/SRR8313169_GSM3509839_Week_13_fetal_kidney_Homo_sapiens_RNA-Seq_2.fastq.gz\n",
            "[ENA] Downloading SRR8313170 into SRR8313170_GSM3509839_Week_13_fetal_kidney_Homo_sapiens_RNA-Seq\n",
            "run_accession\tfastq_ftp\n",
            "SRR8313170\tftp.sra.ebi.ac.uk/vol1/fastq/SRR831/000/SRR8313170/SRR8313170_1.fastq.gz;ftp.sra.ebi.ac.uk/vol1/fastq/SRR831/000/SRR8313170/SRR8313170_2.fastq.gz\n",
            "URL is ftp.sra.ebi.ac.uk/vol1/fastq/SRR831/000/SRR8313170/SRR8313170_1.fastq.gz server=ftp.sra.ebi.ac.uk folder=vol1/fastq/SRR831/000/SRR8313170 file=SRR8313170_1.fastq.gz\n",
            "[ENA Attempt 1] Downloading ftp.sra.ebi.ac.uk/vol1/fastq/SRR831/000/SRR8313170/SRR8313170_1.fastq.gz into fastqs/SRR8313170_GSM3509839_Week_13_fetal_kidney_Homo_sapiens_RNA-Seq_1.fastq.gz\n",
            "URL is ftp.sra.ebi.ac.uk/vol1/fastq/SRR831/000/SRR8313170/SRR8313170_2.fastq.gz server=ftp.sra.ebi.ac.uk folder=vol1/fastq/SRR831/000/SRR8313170 file=SRR8313170_2.fastq.gz\n",
            "[ENA Attempt 1] Downloading ftp.sra.ebi.ac.uk/vol1/fastq/SRR831/000/SRR8313170/SRR8313170_2.fastq.gz into fastqs/SRR8313170_GSM3509839_Week_13_fetal_kidney_Homo_sapiens_RNA-Seq_2.fastq.gz\n",
            "[ENA] Downloading SRR8313171 into SRR8313171_GSM3509839_Week_13_fetal_kidney_Homo_sapiens_RNA-Seq\n",
            "run_accession\tfastq_ftp\n",
            "SRR8313171\tftp.sra.ebi.ac.uk/vol1/fastq/SRR831/001/SRR8313171/SRR8313171_1.fastq.gz;ftp.sra.ebi.ac.uk/vol1/fastq/SRR831/001/SRR8313171/SRR8313171_2.fastq.gz\n",
            "URL is ftp.sra.ebi.ac.uk/vol1/fastq/SRR831/001/SRR8313171/SRR8313171_1.fastq.gz server=ftp.sra.ebi.ac.uk folder=vol1/fastq/SRR831/001/SRR8313171 file=SRR8313171_1.fastq.gz\n",
            "[ENA Attempt 1] Downloading ftp.sra.ebi.ac.uk/vol1/fastq/SRR831/001/SRR8313171/SRR8313171_1.fastq.gz into fastqs/SRR8313171_GSM3509839_Week_13_fetal_kidney_Homo_sapiens_RNA-Seq_1.fastq.gz\n",
            "URL is ftp.sra.ebi.ac.uk/vol1/fastq/SRR831/001/SRR8313171/SRR8313171_2.fastq.gz server=ftp.sra.ebi.ac.uk folder=vol1/fastq/SRR831/001/SRR8313171 file=SRR8313171_2.fastq.gz\n",
            "[ENA Attempt 1] Downloading ftp.sra.ebi.ac.uk/vol1/fastq/SRR831/001/SRR8313171/SRR8313171_2.fastq.gz into fastqs/SRR8313171_GSM3509839_Week_13_fetal_kidney_Homo_sapiens_RNA-Seq_2.fastq.gz\n",
            "[ENA] Downloading SRR8313174 into SRR8313174_GSM3509839_Week_13_fetal_kidney_Homo_sapiens_RNA-Seq\n",
            "run_accession\tfastq_ftp\n",
            "SRR8313174\tftp.sra.ebi.ac.uk/vol1/fastq/SRR831/004/SRR8313174/SRR8313174_1.fastq.gz;ftp.sra.ebi.ac.uk/vol1/fastq/SRR831/004/SRR8313174/SRR8313174_2.fastq.gz\n",
            "URL is ftp.sra.ebi.ac.uk/vol1/fastq/SRR831/004/SRR8313174/SRR8313174_1.fastq.gz server=ftp.sra.ebi.ac.uk folder=vol1/fastq/SRR831/004/SRR8313174 file=SRR8313174_1.fastq.gz\n",
            "[ENA Attempt 1] Downloading ftp.sra.ebi.ac.uk/vol1/fastq/SRR831/004/SRR8313174/SRR8313174_1.fastq.gz into fastqs/SRR8313174_GSM3509839_Week_13_fetal_kidney_Homo_sapiens_RNA-Seq_1.fastq.gz\n",
            "URL is ftp.sra.ebi.ac.uk/vol1/fastq/SRR831/004/SRR8313174/SRR8313174_2.fastq.gz server=ftp.sra.ebi.ac.uk folder=vol1/fastq/SRR831/004/SRR8313174 file=SRR8313174_2.fastq.gz\n",
            "[ENA Attempt 1] Downloading ftp.sra.ebi.ac.uk/vol1/fastq/SRR831/004/SRR8313174/SRR8313174_2.fastq.gz into fastqs/SRR8313174_GSM3509839_Week_13_fetal_kidney_Homo_sapiens_RNA-Seq_2.fastq.gz\n",
            "[ENA] Downloading SRR7171580 into SRR7171580_GSM3143601_w16_human_embryonic_kidney_Homo_sapiens_RNA-Seq\n",
            "run_accession\tfastq_ftp\n",
            "SRR7171580\tftp.sra.ebi.ac.uk/vol1/fastq/SRR717/000/SRR7171580/SRR7171580_1.fastq.gz;ftp.sra.ebi.ac.uk/vol1/fastq/SRR717/000/SRR7171580/SRR7171580_2.fastq.gz\n",
            "URL is ftp.sra.ebi.ac.uk/vol1/fastq/SRR717/000/SRR7171580/SRR7171580_1.fastq.gz server=ftp.sra.ebi.ac.uk folder=vol1/fastq/SRR717/000/SRR7171580 file=SRR7171580_1.fastq.gz\n",
            "[ENA Attempt 1] Downloading ftp.sra.ebi.ac.uk/vol1/fastq/SRR717/000/SRR7171580/SRR7171580_1.fastq.gz into fastqs/SRR7171580_GSM3143601_w16_human_embryonic_kidney_Homo_sapiens_RNA-Seq_1.fastq.gz\n",
            "URL is ftp.sra.ebi.ac.uk/vol1/fastq/SRR717/000/SRR7171580/SRR7171580_2.fastq.gz server=ftp.sra.ebi.ac.uk folder=vol1/fastq/SRR717/000/SRR7171580 file=SRR7171580_2.fastq.gz\n",
            "[ENA Attempt 1] Downloading ftp.sra.ebi.ac.uk/vol1/fastq/SRR717/000/SRR7171580/SRR7171580_2.fastq.gz into fastqs/SRR7171580_GSM3143601_w16_human_embryonic_kidney_Homo_sapiens_RNA-Seq_2.fastq.gz\n"
          ],
          "name": "stdout"
        }
      ]
    },
    {
      "cell_type": "code",
      "metadata": {
        "id": "6nF0cP2TC3Uw"
      },
      "source": [
        "# Download the corresponding Kallisto index to content folder\n",
        "!kb ref -d $species -i index.idx -g t2g.txt -f1 transcriptome.fasta"
      ],
      "execution_count": null,
      "outputs": []
    },
    {
      "cell_type": "markdown",
      "metadata": {
        "id": "bDX0R4C4C546"
      },
      "source": [
        "# Metadata"
      ]
    },
    {
      "cell_type": "code",
      "metadata": {
        "id": "5R3tPDqnoJUn"
      },
      "source": [
        "number_of_samples = 2\n",
        "\n",
        "fastqs_per_sample = [8, 16]\n",
        "\n",
        "sample_id = [\"GSM3143601\", \"GSM3509839\"]\n",
        "\n",
        "tissue = [\"kidney\"] * number_of_samples\n",
        "\n",
        "cell_type = [\"embrionic kidney\"] * number_of_samples\n",
        "\n",
        "condition = [\"week 16\", \"week 13\"] \n",
        "\n",
        "technology = [\"10xv2\"] * number_of_samples\n",
        "\n",
        "paper = [\"Muus et al 2020\"] * number_of_samples\n",
        "\n",
        "figure = [\"Fig 1 a,b  ED Fig 1 a,b,c,d  ED Fig 2 a,b,c,d,e\"] * number_of_samples\n",
        "\n",
        "# Filters for analysis\n",
        "\n",
        "cell_threshold = 100\n",
        "\n",
        "gene_threshold = 3\n",
        "\n",
        "# Set string variables for kb functions\n",
        "\n",
        "species_kb = species\n",
        "\n",
        "technology_kb = technology[0]"
      ],
      "execution_count": null,
      "outputs": []
    },
    {
      "cell_type": "code",
      "metadata": {
        "id": "XJBSWE7SYvpz"
      },
      "source": [
        "# Check that you have the right amount of files\n",
        "\n",
        "files = !ls /content/fastqs | wc -l\n",
        "int(files[0])  == np.sum(fastqs_per_sample)"
      ],
      "execution_count": null,
      "outputs": []
    },
    {
      "cell_type": "code",
      "metadata": {
        "id": "NDIHbeDVZ3B2"
      },
      "source": [
        "# Store filenames in fastqs variable\n",
        "fastqs = !ls /content/fastqs"
      ],
      "execution_count": null,
      "outputs": []
    },
    {
      "cell_type": "code",
      "metadata": {
        "id": "UUeNlNpoZ57l"
      },
      "source": [
        "# Check variable\n",
        "fastqs"
      ],
      "execution_count": null,
      "outputs": []
    },
    {
      "cell_type": "markdown",
      "metadata": {
        "id": "wNroCbtsDKhc"
      },
      "source": [
        "# Run kb"
      ]
    },
    {
      "cell_type": "code",
      "metadata": {
        "id": "bB2hww3hrcf5"
      },
      "source": [
        "%cd /content/fastqs"
      ],
      "execution_count": null,
      "outputs": []
    },
    {
      "cell_type": "code",
      "metadata": {
        "id": "h-hp2j7DCuGV"
      },
      "source": [
        "# Run kb\n",
        "\n",
        "if number_of_samples == 1:\n",
        "\n",
        "  # Write the kb count command as a string with all fastqs of the list as an input\n",
        "  cmd = \"kb count --h5ad -i ../index.idx -g ../t2g.txt -x \" + technology_kb + \" -o output\" + sample_id[0] + \" \"\\\n",
        "  + \"--filter bustools -t 2 --overwrite \" + \"'\" +  \"' '\".join(fastqs) + \"'\"\n",
        "  \n",
        "  # Execute it\n",
        "  !$cmd\n",
        "\n",
        "\n",
        "# If more than one sample, iterate through fastqs accordingly\n",
        "else:\n",
        "\n",
        "  # Initializa counter for fastq files\n",
        "  j = 0\n",
        "\n",
        "  # Loop over samples for analysis\n",
        "  for i in range(number_of_samples):\n",
        "\n",
        "    fastqs_to_analyze = fastqs[j:j + fastqs_per_sample[i]]\n",
        "    # Write the kb count command as a string\n",
        "    cmd = \"kb count --h5ad -i ../index.idx -g ../t2g.txt -x \" + technology_kb + \" -o output\" + sample_id[i] + \" \\\n",
        "    --filter bustools -t 2 --overwrite \" + \"'\" +  \"' '\".join(fastqs_to_analyze) + \"'\"\n",
        "\n",
        "    # Execute it\n",
        "    !$cmd\n",
        "\n",
        "    # Update j to move to the next set of fastq\n",
        "    j = j + fastqs_per_sample[i]\n",
        "\n",
        "\n",
        "\n"
      ],
      "execution_count": null,
      "outputs": []
    },
    {
      "cell_type": "markdown",
      "metadata": {
        "id": "5zSIZM7JEq2V"
      },
      "source": [
        "# Load unfiltered matrices"
      ]
    },
    {
      "cell_type": "code",
      "metadata": {
        "id": "Eg5cdcZDErXT"
      },
      "source": [
        "# Define dict to store data\n",
        "results = {}"
      ],
      "execution_count": null,
      "outputs": []
    },
    {
      "cell_type": "code",
      "metadata": {
        "id": "HtomZQLCEwmC"
      },
      "source": [
        "# load the unfiltered matrix\n",
        "\n",
        "t2g = pd.read_csv(\"../t2g.txt\", header=None, names=[\"tid\", \"gene_id\", \"gene_name\"], sep=\"\\t\")\n",
        "t2g.index = t2g.gene_id\n",
        "t2g = t2g.loc[~t2g.index.duplicated(keep='first')]\n",
        "\n",
        "for i in range(number_of_samples):\n",
        "  results[sample_id[i]] = anndata.read_h5ad(\"output\" + sample_id[i] + \"/counts_unfiltered/adata.h5ad\")\n",
        "  results[sample_id[i]].var[\"gene_id\"] = results[sample_id[i]].var.index.values\n",
        "\n",
        "  results[sample_id[i]].var[\"gene_name\"] = results[sample_id[i]].var.gene_id.map(t2g[\"gene_name\"])\n",
        "  results[sample_id[i]].var.index = results[sample_id[i]].var[\"gene_name\"]\n",
        "  print(\"The unfiltered matrix \" + sample_id[i] + \" contains {} cells by {} genes\".format(len(results[sample_id[i]].obs), len(results[sample_id[i]].var)))\n",
        "\n",
        "  results[sample_id[i]].obs[\"cell_counts\"] = results[sample_id[i]].X.sum(axis=1)\n",
        "  results[sample_id[i]].var[\"gene_counts\"] = nd(results[sample_id[i]].X.sum(axis=0))\n",
        "\n",
        "  results[sample_id[i]].obs[\"n_genes\"] = nd((results[sample_id[i]].X>0).sum(axis=1))\n",
        "  results[sample_id[i]].var[\"n_cells\"] = nd((results[sample_id[i]].X>0).sum(axis=0))\n",
        "\n",
        "  mito_genes = results[sample_id[i]].var_names.str.startswith(\"MT-\" or \"mt-\") \n",
        "  results[sample_id[i]].obs[\"percent_mito\"] = results[sample_id[i]][:,mito_genes].X.sum(axis=1)/results[sample_id[i]].X.sum(axis=1)*100\n",
        "\n",
        "  # Changing the name of the index is necessary to write the file (it won't work with duplicated names)\n",
        "  results[sample_id[i]].var.index.name = \"index\"\n",
        "\n"
      ],
      "execution_count": null,
      "outputs": []
    },
    {
      "cell_type": "markdown",
      "metadata": {
        "id": "OjhLYd01FiVL"
      },
      "source": [
        "# Assign filter to each sample individually"
      ]
    },
    {
      "cell_type": "code",
      "metadata": {
        "id": "jFvanVe5p2bk"
      },
      "source": [
        "# Change sample number manually\n",
        "samp_n = 1"
      ],
      "execution_count": null,
      "outputs": []
    },
    {
      "cell_type": "code",
      "metadata": {
        "id": "ZwjyGwHaFZtD",
        "cellView": "both"
      },
      "source": [
        "\n",
        "expected_num_cells = 5000#@param {type:\"integer\"}\n",
        "knee = np.sort(nd(results[sample_id[samp_n]].X.sum(axis=1)))[::-1]\n",
        "\n",
        "fig, ax = plt.subplots(figsize=(5, 5))\n",
        "\n",
        "x = knee\n",
        "y = range(len(knee))\n",
        "\n",
        "ax.loglog(x, y, linewidth=5, color=\"g\")\n",
        "\n",
        "ax.axvline(x=knee[expected_num_cells], linewidth=3, color=\"k\")\n",
        "ax.axhline(y=expected_num_cells, linewidth=3, color=\"k\")\n",
        "\n",
        "ax.set_xlabel(\"UMI Counts\")\n",
        "ax.set_ylabel(\"Set of Barcodes\")\n",
        "\n",
        "plt.show()\n",
        "\n",
        "cell_threshold = knee[expected_num_cells]\n",
        "\n",
        "results[\"cell_threshold\" + sample_id[samp_n]] = knee[expected_num_cells]\n",
        "\n",
        "print (\"Cells were filtered down to \" + str(expected_num_cells) + \" with at least \" + str(cell_threshold) + \" UMIs\")\n",
        "\n",
        "\n",
        "mito_criteria = 30#@param {type:\"integer\"}\n",
        "results[\"mito_criteria\" + sample_id[samp_n]] = mito_criteria\n",
        "\n",
        "fig, ax = plt.subplots(figsize=(5,5))\n",
        "\n",
        "\n",
        "x = nd(results[sample_id[samp_n]].obs[\"cell_counts\"][results[sample_id[samp_n]].obs[\"cell_counts\"] > cell_threshold])\n",
        "y = nd(results[sample_id[samp_n]].obs[\"percent_mito\"][results[sample_id[samp_n]].obs[\"cell_counts\"] > cell_threshold])\n",
        "\n",
        "ax.scatter(x, y, color=\"green\", alpha=0.1)\n",
        "\n",
        "ax.axhline(y=mito_criteria, linestyle=\"--\", color=\"k\")\n",
        "\n",
        "\n",
        "ax.set_xlabel(\"UMI Counts\")\n",
        "ax.set_ylabel(\"Percent mito\")\n",
        "\n",
        "\n",
        "plt.show()\n",
        "\n",
        "print(\"We select \" + str(mito_criteria) + \" % as the mitochondrial content threshold\")"
      ],
      "execution_count": null,
      "outputs": []
    },
    {
      "cell_type": "markdown",
      "metadata": {
        "id": "t2fTmuCPFqlG"
      },
      "source": [
        "# Filter matrix"
      ]
    },
    {
      "cell_type": "code",
      "metadata": {
        "id": "Ar02sQhaFqNw"
      },
      "source": [
        "for i in range(number_of_samples):\n",
        "  results[sample_id[i]].obs[\"pass_count_filter\"] = results[sample_id[i]].obs[\"cell_counts\"] > results[\"cell_threshold\" + sample_id[i]]\n",
        "  results[sample_id[i]].obs[\"pass_mito_filter\"] = results[sample_id[i]].obs.percent_mito < results[\"mito_criteria\" + sample_id[i]]\n",
        "  results[sample_id[i]].var[\"pass_gene_filter\"] = results[sample_id[i]].var[\"n_cells\"] > gene_threshold\n",
        "\n",
        "  cell_mask = np.logical_and(results[sample_id[i]].obs[\"pass_count_filter\"].values, results[sample_id[i]].obs[\"pass_mito_filter\"].values)\n",
        "  gene_mask = results[sample_id[i]].var[\"pass_gene_filter\"].values\n",
        "\n",
        "  print(\"Current Shape: {:,} cells x {:,} genes\".format(results[sample_id[i]].shape[0], results[sample_id[i]].shape[1]))\n",
        "  print(\"    New shape: {:,} cells x {:,} genes\".format(cell_mask.sum(), gene_mask.sum()))\n",
        "  results[\"data_\" + sample_id[i]] = results[sample_id[i]][cell_mask, gene_mask]"
      ],
      "execution_count": null,
      "outputs": []
    },
    {
      "cell_type": "markdown",
      "metadata": {
        "id": "W2ROmlGNF2Fi"
      },
      "source": [
        "# Annotate and write Anndata object"
      ]
    },
    {
      "cell_type": "code",
      "metadata": {
        "id": "8qUFDr1uF1wT"
      },
      "source": [
        "for i in range(number_of_samples):\n",
        "\n",
        "\n",
        "  results[\"data_\" + sample_id[i]].uns[\"database_id\"] = database_id\n",
        "\n",
        "  results[\"data_\" + sample_id[i]].uns[\"tissue\"] = tissue[samp_n]\n",
        "\n",
        "  results[\"data_\" + sample_id[i]].uns[\"cell_type\"] = cell_type[samp_n]\n",
        "\n",
        "  results[\"data_\" + sample_id[i]].uns[\"sample_id\"] = sample_id[samp_n]\n",
        "\n",
        "  results[\"data_\" + sample_id[i]].uns[\"condition\"] = condition[samp_n]\n",
        "\n",
        "  results[\"data_\" + sample_id[i]].uns[\"species\"] = species\n",
        "\n",
        "  results[\"data_\" + sample_id[i]].uns[\"technology\"] = technology[samp_n]\n",
        "\n",
        "  results[\"data_\" + sample_id[i]].uns[\"paper\"] = paper[samp_n]\n",
        "\n",
        "  results[\"data_\" + sample_id[i]].uns[\"figure\"] = figure[samp_n]\n",
        "\n",
        "# Write anndata object\n",
        "\n",
        "%cd /content\n",
        "\n",
        "for i in range(number_of_samples):\n",
        "\n",
        "  results[\"data_\" + sample_id[i]].write(\"result\" + sample_id[i])"
      ],
      "execution_count": null,
      "outputs": []
    }
  ]
}