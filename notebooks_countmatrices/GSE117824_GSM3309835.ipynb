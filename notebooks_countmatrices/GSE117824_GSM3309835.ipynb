{
  "nbformat": 4,
  "nbformat_minor": 0,
  "metadata": {
    "colab": {
      "name": "GSE117824_GSM3309835.ipynb",
      "provenance": [],
      "collapsed_sections": [],
      "include_colab_link": true
    },
    "kernelspec": {
      "name": "python3",
      "display_name": "Python 3"
    }
  },
  "cells": [
    {
      "cell_type": "markdown",
      "metadata": {
        "id": "view-in-github",
        "colab_type": "text"
      },
      "source": [
        "<a href=\"https://colab.research.google.com/github/agalvezm/ACE2_scRNAseq/blob/master/notebooks_countmatrices/GSE117824_GSM3309835.ipynb\" target=\"_parent\"><img src=\"https://colab.research.google.com/assets/colab-badge.svg\" alt=\"Open In Colab\"/></a>"
      ]
    },
    {
      "cell_type": "markdown",
      "metadata": {
        "id": "V9ryXluJsJw9"
      },
      "source": [
        "# GSE117824_GSM3309835"
      ]
    },
    {
      "cell_type": "code",
      "metadata": {
        "id": "ggNFAQJCRh6P",
        "colab": {
          "base_uri": "https://localhost:8080/"
        },
        "outputId": "9e9f27c0-8fb1-4771-abe2-d4a7e7256840"
      },
      "source": [
        "# define the values for the analysis\n",
        "\n",
        "# accession id for the data\n",
        "id = \"GSE117824\"\n",
        "samp_id = \"GSM3309835\"\n",
        "\n",
        "# If only bam available files, set bam = True, Fill link and filename\n",
        "bam = True\n",
        "\n",
        "if bam:\n",
        "  # Assign link to python variable\n",
        "  link_to_bam = \"https://sra-pub-src-1.s3.amazonaws.com/SRR7613778/MF01.possorted_genome_bam.bam.1\"\n",
        "  \n",
        "  # Assigns the link to the bash variable BAM_LINK. To be used by wget\n",
        "  %env BAM_LINK=$link_to_bam\n",
        "\n",
        "  # Assign filename to python variable. Used to convert to fastq and remove bam file to fastq after conversion\n",
        "\n",
        "  bam_filename=\"MF01.possorted_genome_bam.bam.1\"\n",
        "\n",
        "if not bam:\n",
        "  fastqs = [\"\",\n",
        "            \"\",\n",
        "            ]\n"
      ],
      "execution_count": 1,
      "outputs": [
        {
          "output_type": "stream",
          "text": [
            "env: BAM_LINK=https://sra-pub-src-1.s3.amazonaws.com/SRR7613778/MF01.possorted_genome_bam.bam.1\n"
          ],
          "name": "stdout"
        }
      ]
    },
    {
      "cell_type": "code",
      "metadata": {
        "id": "5R3tPDqnoJUn"
      },
      "source": [
        "no_samples = 1\n",
        "\n",
        "sample_id = [samp_id] * no_samples\n",
        "\n",
        "database_id = [id] * no_samples\n",
        "\n",
        "tissue = [\"blood\"] * no_samples\n",
        "\n",
        "cell_type = [\"PBMCs\"] * no_samples\n",
        "\n",
        "condition = [\"diagnosis MF, age 53\"] * no_samples\n",
        "\n",
        "\n",
        "species = [\"human\"] * no_samples\n",
        "\n",
        "technology = [\"10xv2\"] * no_samples\n",
        "\n",
        "paper = [\"Muus et al 2020\"] * no_samples\n",
        "\n",
        "figure = [\"Fig 1 a,b  ED Fig 1 a,b,c,d  ED Fig 2 a,b,c,d,e\"] * no_samples\n",
        "\n",
        "\n",
        "# Set string variables for kb functions\n",
        "\n",
        "species_kb = species[0]\n",
        "\n",
        "technology_kb = technology[0]"
      ],
      "execution_count": 15,
      "outputs": []
    },
    {
      "cell_type": "markdown",
      "metadata": {
        "id": "FPwL0-_-KSAw"
      },
      "source": [
        "# Imports and installs"
      ]
    },
    {
      "cell_type": "code",
      "metadata": {
        "id": "1HSlUGZEp3oP",
        "colab": {
          "base_uri": "https://localhost:8080/"
        },
        "outputId": "da67b52d-94f6-4fce-d7b2-ceb78f9cd3a9"
      },
      "source": [
        "# install and import necessary software\n",
        "\n",
        "# Install kb and scanpy\n",
        "!pip -q install kb-python \n",
        "!pip -q install scanpy\n",
        "\n",
        "import re\n",
        "import os\n",
        "\n",
        "# Setup\n",
        "\n",
        "import anndata\n",
        "import pandas as pd\n",
        "import numpy as np\n",
        "import matplotlib.pyplot as plt\n",
        "import matplotlib as mpl\n",
        "import matplotlib.patches as mpatches\n",
        "import scanpy as sc\n",
        "from scipy import stats\n",
        "\n",
        "from collections import OrderedDict\n",
        "from sklearn.decomposition import TruncatedSVD\n",
        "from sklearn.manifold import TSNE\n",
        "from sklearn.preprocessing import scale\n",
        "\n",
        "from sklearn.cluster import KMeans\n",
        "from sklearn.preprocessing import normalize\n",
        "from sklearn.preprocessing import LabelEncoder\n",
        "from sklearn.neighbors import NeighborhoodComponentsAnalysis\n",
        "from matplotlib import cm\n",
        "from matplotlib.lines import Line2D\n",
        "\n",
        "def nd(arr):\n",
        "    return np.asarray(arr).reshape(-1)\n",
        "def yex(ax):\n",
        "    lims = [np.min([ax.get_xlim(), ax.get_ylim()]),\n",
        "            np.max([ax.get_xlim(), ax.get_ylim()])]\n",
        "\n",
        "    # now plot both limits against eachother\n",
        "    ax.plot(lims, lims, 'k-', alpha=0.75, zorder=0)\n",
        "    ax.set_aspect('equal')\n",
        "    ax.set_xlim(lims)\n",
        "    ax.set_ylim(lims)\n",
        "    return ax\n",
        "\n",
        "def trim_axs(axs, N):\n",
        "    \"\"\"little helper to massage the axs list to have correct length...\"\"\"\n",
        "    axs = axs.flat\n",
        "    for ax in axs[N:]:\n",
        "        ax.remove()\n",
        "    return axs[:N]\n",
        "\n",
        "import warnings\n",
        "warnings.filterwarnings('ignore')\n",
        "\n",
        "fsize=20\n",
        "\n",
        "plt.rcParams.update({'font.size': fsize})\n",
        "%config InlineBackend.figure_format = 'retina'"
      ],
      "execution_count": 3,
      "outputs": [
        {
          "output_type": "stream",
          "text": [
            "\u001b[K     |████████████████████████████████| 59.1MB 79kB/s \n",
            "\u001b[K     |████████████████████████████████| 10.3MB 25.9MB/s \n",
            "\u001b[K     |████████████████████████████████| 51kB 4.9MB/s \n",
            "\u001b[K     |████████████████████████████████| 122kB 43.0MB/s \n",
            "\u001b[K     |████████████████████████████████| 13.2MB 51.2MB/s \n",
            "\u001b[K     |████████████████████████████████| 112kB 38.6MB/s \n",
            "\u001b[33m  WARNING: Retrying (Retry(total=4, connect=None, read=None, redirect=None, status=None)) after connection broken by 'ProtocolError('Connection aborted.', ConnectionResetError(104, 'Connection reset by peer'))': /packages/23/48/7610e884e62fff2183e7bc8592397c39a020267fb5147905fcd3f9cc820c/get_version-2.1-py3-none-any.whl\u001b[0m\n",
            "\u001b[K     |████████████████████████████████| 51kB 2.6MB/s \n",
            "\u001b[K     |████████████████████████████████| 71kB 3.6MB/s \n",
            "\u001b[?25h  Building wheel for loompy (setup.py) ... \u001b[?25l\u001b[?25hdone\n",
            "  Building wheel for sinfo (setup.py) ... \u001b[?25l\u001b[?25hdone\n",
            "  Building wheel for numpy-groupies (setup.py) ... \u001b[?25l\u001b[?25hdone\n"
          ],
          "name": "stdout"
        }
      ]
    },
    {
      "cell_type": "markdown",
      "metadata": {
        "id": "7V6FbosVrvP4"
      },
      "source": [
        "# Downloads: (bam (if bam) and index"
      ]
    },
    {
      "cell_type": "code",
      "metadata": {
        "id": "q46hw4zqKUPS",
        "colab": {
          "base_uri": "https://localhost:8080/"
        },
        "outputId": "54e0a4c9-14d0-4302-9921-3414f3d52481"
      },
      "source": [
        "if bam:\n",
        "\n",
        "  # Install bamtofastq from 10x website (only bam files available)\n",
        "  !wget http://cf.10xgenomics.com/misc/bamtofastq-1.2.0\n",
        "  !chmod +x bamtofastq-1.2.0\n",
        "  # Download the bam file\n",
        "  !wget -- continue ${BAM_LINK}\n",
        "\n",
        "\n"
      ],
      "execution_count": 4,
      "outputs": [
        {
          "output_type": "stream",
          "text": [
            "--2021-03-23 00:23:45--  http://cf.10xgenomics.com/misc/bamtofastq-1.2.0\n",
            "Resolving cf.10xgenomics.com (cf.10xgenomics.com)... 104.18.1.173, 104.18.0.173, 2606:4700::6812:1ad, ...\n",
            "Connecting to cf.10xgenomics.com (cf.10xgenomics.com)|104.18.1.173|:80... connected.\n",
            "HTTP request sent, awaiting response... 301 Moved Permanently\n",
            "Location: https://cf.10xgenomics.com/misc/bamtofastq-1.2.0 [following]\n",
            "--2021-03-23 00:23:45--  https://cf.10xgenomics.com/misc/bamtofastq-1.2.0\n",
            "Connecting to cf.10xgenomics.com (cf.10xgenomics.com)|104.18.1.173|:443... connected.\n",
            "HTTP request sent, awaiting response... 200 OK\n",
            "Length: 13288280 (13M) [binary/octet-stream]\n",
            "Saving to: ‘bamtofastq-1.2.0’\n",
            "\n",
            "bamtofastq-1.2.0    100%[===================>]  12.67M  55.5MB/s    in 0.2s    \n",
            "\n",
            "2021-03-23 00:23:46 (55.5 MB/s) - ‘bamtofastq-1.2.0’ saved [13288280/13288280]\n",
            "\n",
            "--2021-03-23 00:23:46--  http://continue/\n",
            "Resolving continue (continue)... failed: Name or service not known.\n",
            "wget: unable to resolve host address ‘continue’\n",
            "--2021-03-23 00:23:46--  https://sra-pub-src-1.s3.amazonaws.com/SRR7613778/MF01.possorted_genome_bam.bam.1\n",
            "Resolving sra-pub-src-1.s3.amazonaws.com (sra-pub-src-1.s3.amazonaws.com)... 52.216.81.208\n",
            "Connecting to sra-pub-src-1.s3.amazonaws.com (sra-pub-src-1.s3.amazonaws.com)|52.216.81.208|:443... connected.\n",
            "HTTP request sent, awaiting response... 200 OK\n",
            "Length: 26527339129 (25G) [application/x-troff-man]\n",
            "Saving to: ‘MF01.possorted_genome_bam.bam.1’\n",
            "\n",
            "MF01.possorted_geno 100%[===================>]  24.71G  36.7MB/s    in 10m 39s \n",
            "\n",
            "2021-03-23 00:34:25 (39.6 MB/s) - ‘MF01.possorted_genome_bam.bam.1’ saved [26527339129/26527339129]\n",
            "\n",
            "FINISHED --2021-03-23 00:34:25--\n",
            "Total wall clock time: 10m 39s\n",
            "Downloaded: 1 files, 25G in 10m 39s (39.6 MB/s)\n"
          ],
          "name": "stdout"
        }
      ]
    },
    {
      "cell_type": "code",
      "metadata": {
        "id": "tDQlrjtqNF0m",
        "colab": {
          "base_uri": "https://localhost:8080/"
        },
        "outputId": "f7cdd65f-50df-4eec-c785-6caba4c27370"
      },
      "source": [
        "if bam:\n",
        "  # Convert to fastq\n",
        "  !./bamtofastq-1.2.0 --reads-per-fastq=500000000 $bam_filename ./fastqs\\\n",
        "\n",
        "  # Remove original bam file to save space\n",
        "  !rm $bam_filename\n"
      ],
      "execution_count": 5,
      "outputs": [
        {
          "output_type": "stream",
          "text": [
            "bamtofastq v1.2.0\n",
            "Args { arg_bam: \"MF01.possorted_genome_bam.bam.1\", arg_output_path: \"./fastqs\", flag_nthreads: 4, flag_locus: None, flag_bx_list: None, flag_reads_per_fastq: 500000000, flag_gemcode: false, flag_lr20: false, flag_cr11: false }\n",
            "Writing finished.  Observed 254323137 read pairs. Wrote 254323137 read pairs\n"
          ],
          "name": "stdout"
        }
      ]
    },
    {
      "cell_type": "code",
      "metadata": {
        "id": "SXRDRphvqcLe",
        "colab": {
          "base_uri": "https://localhost:8080/"
        },
        "outputId": "d5f3f1fc-d4f6-416d-c6a0-8816422c1273"
      },
      "source": [
        "# Store fastq names on a list\n",
        "\n",
        "if bam:\n",
        "  # cd into fastqs folder\n",
        "  %cd /content/fastqs\n",
        "\n",
        "  #store the name of the folder generated by bamtofastq\n",
        "  _filename = os.listdir()[0]\n",
        "\n",
        "  # cd into that folder\n",
        "  %cd $_filename\n",
        "\n",
        "  # store fastq names in a list\n",
        "  fastqs = os.listdir()\n",
        "\n",
        "\n",
        "  # Remove I1 and R3 reads not relevant for our analysis\n",
        "\n",
        "  # Initialize list containing elements to remove\n",
        "  remov_elem = []\n",
        "\n",
        "  print (\"\\n\\nThis is the complete list of fastqs:\\n -----------\")\n",
        "  for elem in fastqs:\n",
        "    print (elem)\n",
        "\n",
        "  # Search index (I1 or R3) fastqs and remove them from list\n",
        "  for elem in fastqs:\n",
        "    if re.search(\"_R3_\", elem) or re.search(\"_I1_\", elem):\n",
        "      remov_elem = remov_elem +[elem]\n",
        "\n",
        "  fastqs = [elem for elem in fastqs if elem not in remov_elem] \n",
        "\n",
        "  print (\"\\n\\nThis is the filtered list of fastqs:\\n -----------\")\n",
        "  for elem in fastqs:\n",
        "    print (elem)\n"
      ],
      "execution_count": 6,
      "outputs": [
        {
          "output_type": "stream",
          "text": [
            "/content/fastqs\n",
            "/content/fastqs/CALR042-TGAAGTAC_MissingLibrary_1_HYLYNBCXY\n",
            "\n",
            "\n",
            "This is the complete list of fastqs:\n",
            " -----------\n",
            "bamtofastq_S1_L002_R2_001.fastq.gz\n",
            "bamtofastq_S1_L002_R1_001.fastq.gz\n",
            "bamtofastq_S1_L001_R2_001.fastq.gz\n",
            "bamtofastq_S1_L002_I1_001.fastq.gz\n",
            "bamtofastq_S1_L001_R1_001.fastq.gz\n",
            "bamtofastq_S1_L001_I1_001.fastq.gz\n",
            "\n",
            "\n",
            "This is the filtered list of fastqs:\n",
            " -----------\n",
            "bamtofastq_S1_L002_R2_001.fastq.gz\n",
            "bamtofastq_S1_L002_R1_001.fastq.gz\n",
            "bamtofastq_S1_L001_R2_001.fastq.gz\n",
            "bamtofastq_S1_L001_R1_001.fastq.gz\n"
          ],
          "name": "stdout"
        }
      ]
    },
    {
      "cell_type": "code",
      "metadata": {
        "id": "ZnFcqcSgjLBw"
      },
      "source": [
        "# Remove fastqs that wont be analyzed to save space\n",
        "if bam:\n",
        "  for elem in remov_elem:\n",
        "    !rm $elem"
      ],
      "execution_count": 7,
      "outputs": []
    },
    {
      "cell_type": "code",
      "metadata": {
        "id": "FLVS8aB7Dm6J"
      },
      "source": [
        "if bam:\n",
        "  # sort fastqs alphabetically to get R1 and R2 in order\n",
        "  fastqs = sorted(fastqs)"
      ],
      "execution_count": 8,
      "outputs": []
    },
    {
      "cell_type": "code",
      "metadata": {
        "id": "PC9oETW1pE9t",
        "colab": {
          "base_uri": "https://localhost:8080/"
        },
        "outputId": "3a7809c4-b4c2-40d4-f05a-c5f7c3e9f74c"
      },
      "source": [
        "if bam:\n",
        "  # Download the corresponding Kallisto index to folder containing fastqs\n",
        "  !kb ref -d $species_kb -i index.idx -g t2g.txt -f1 transcriptome.fasta\n",
        "\n",
        "if not bam:\n",
        "  %cd /content\n",
        "\n",
        "  # Download the corresponding Kallisto index to content folder\n",
        "  !kb ref -d $species_kb -i index.idx -g t2g.txt -f1 transcriptome.fasta"
      ],
      "execution_count": 9,
      "outputs": [
        {
          "output_type": "stream",
          "text": [
            "[2021-03-23 01:18:39,341]    INFO Downloading files for human from https://caltech.box.com/shared/static/v1nm7lpnqz5syh8dyzdk2zs8bglncfib.gz to tmp/v1nm7lpnqz5syh8dyzdk2zs8bglncfib.gz\n",
            "100% 2.23G/2.23G [01:39<00:00, 23.9MB/s]\n",
            "[2021-03-23 01:20:20,681]    INFO Extracting files from tmp/v1nm7lpnqz5syh8dyzdk2zs8bglncfib.gz\n"
          ],
          "name": "stdout"
        }
      ]
    },
    {
      "cell_type": "code",
      "metadata": {
        "id": "vHVNa51Cp9Nr",
        "colab": {
          "base_uri": "https://localhost:8080/"
        },
        "outputId": "7ea904c1-f1bf-4e39-b256-757d1535e4e3"
      },
      "source": [
        "print(fastqs)"
      ],
      "execution_count": 10,
      "outputs": [
        {
          "output_type": "stream",
          "text": [
            "['bamtofastq_S1_L001_R1_001.fastq.gz', 'bamtofastq_S1_L001_R2_001.fastq.gz', 'bamtofastq_S1_L002_R1_001.fastq.gz', 'bamtofastq_S1_L002_R2_001.fastq.gz']\n"
          ],
          "name": "stdout"
        }
      ]
    },
    {
      "cell_type": "markdown",
      "metadata": {
        "id": "VInyuq1Dp7iz"
      },
      "source": [
        "# Process fastq files (modify kb command according to fastqs list)\n"
      ]
    },
    {
      "cell_type": "code",
      "metadata": {
        "id": "4idlXAAotXAQ"
      },
      "source": [
        "!cd"
      ],
      "execution_count": 11,
      "outputs": []
    },
    {
      "cell_type": "code",
      "metadata": {
        "id": "OcqtBuH-pRaX",
        "colab": {
          "base_uri": "https://localhost:8080/"
        },
        "outputId": "56eb14f7-a177-41ec-e553-ef71d829208b"
      },
      "source": [
        "!ls"
      ],
      "execution_count": 12,
      "outputs": [
        {
          "output_type": "stream",
          "text": [
            "bamtofastq_S1_L001_R1_001.fastq.gz  bamtofastq_S1_L002_R2_001.fastq.gz\n",
            "bamtofastq_S1_L001_R2_001.fastq.gz  index.idx\n",
            "bamtofastq_S1_L002_R1_001.fastq.gz  t2g.txt\n"
          ],
          "name": "stdout"
        }
      ]
    },
    {
      "cell_type": "markdown",
      "metadata": {
        "id": "MKWAokS5tkTx"
      },
      "source": [
        "This code was manually changed from template to analyze all samples in all 4 folders"
      ]
    },
    {
      "cell_type": "code",
      "metadata": {
        "id": "5qFzPj-0kZTi",
        "colab": {
          "base_uri": "https://localhost:8080/"
        },
        "outputId": "2798471a-9a49-4e8f-e344-9acbb95e2fa1"
      },
      "source": [
        "# Specify the sample number and whether they are paired-ended\n",
        "number_of_samples = 1\n",
        "paired_ended = True\n",
        "\n",
        "if number_of_samples == 1:\n",
        "\n",
        "  # Write the kb count command as a string with all fastqs of the list as an input\n",
        "  cmd = \"kb count --h5ad -i index.idx -g t2g.txt -x \" + technology_kb + \" -o output\" + sample_id[0] + \" \"\\\n",
        "  + \"--filter bustools -t 2 --overwrite \"  +\\\n",
        "  \"'/content/fastqs/CALR042-ATGCTCCG_MissingLibrary_1_HYLYNBCXY/bamtofastq_S1_L001_R1_001.fastq.gz' \" \\\n",
        "  \"'/content/fastqs/CALR042-ATGCTCCG_MissingLibrary_1_HYLYNBCXY/bamtofastq_S1_L001_R2_001.fastq.gz' \" \\\n",
        "  \"/content/fastqs/CALR042-ATGCTCCG_MissingLibrary_1_HYLYNBCXY/bamtofastq_S1_L002_R1_001.fastq.gz \" \\\n",
        "  \"/content/fastqs/CALR042-ATGCTCCG_MissingLibrary_1_HYLYNBCXY/bamtofastq_S1_L002_R2_001.fastq.gz \" \\\n",
        "  \"/content/fastqs/CALR042-CACTCGGA_MissingLibrary_1_HYLYNBCXY/bamtofastq_S1_L001_R1_001.fastq.gz \" \\\n",
        "  \"/content/fastqs/CALR042-CACTCGGA_MissingLibrary_1_HYLYNBCXY/bamtofastq_S1_L001_R2_001.fastq.gz \" \\\n",
        "  \"/content/fastqs/CALR042-CACTCGGA_MissingLibrary_1_HYLYNBCXY/bamtofastq_S1_L002_R1_001.fastq.gz \" \\\n",
        "  \"/content/fastqs/CALR042-CACTCGGA_MissingLibrary_1_HYLYNBCXY/bamtofastq_S1_L002_R2_001.fastq.gz \" \\\n",
        "  \"/content/fastqs/CALR042-GCTGAATT_MissingLibrary_1_HYLYNBCXY/bamtofastq_S1_L001_R1_001.fastq.gz \" \\\n",
        "  \"/content/fastqs/CALR042-GCTGAATT_MissingLibrary_1_HYLYNBCXY/bamtofastq_S1_L001_R2_001.fastq.gz \" \\\n",
        "  \"/content/fastqs/CALR042-GCTGAATT_MissingLibrary_1_HYLYNBCXY/bamtofastq_S1_L002_R1_001.fastq.gz \" \\\n",
        "  \"/content/fastqs/CALR042-GCTGAATT_MissingLibrary_1_HYLYNBCXY/bamtofastq_S1_L002_R2_001.fastq.gz \" \\\n",
        "  \"/content/fastqs/CALR042-TGAAGTAC_MissingLibrary_1_HYLYNBCXY/bamtofastq_S1_L001_R1_001.fastq.gz \" \\\n",
        "  \"/content/fastqs/CALR042-TGAAGTAC_MissingLibrary_1_HYLYNBCXY/bamtofastq_S1_L001_R2_001.fastq.gz \" \\\n",
        "  \"/content/fastqs/CALR042-TGAAGTAC_MissingLibrary_1_HYLYNBCXY/bamtofastq_S1_L002_R1_001.fastq.gz \" \\\n",
        "  \"/content/fastqs/CALR042-TGAAGTAC_MissingLibrary_1_HYLYNBCXY/bamtofastq_S1_L002_R2_001.fastq.gz\"\n",
        "  \n",
        "  # Execute it\n",
        "  !$cmd\n",
        "\n",
        "# If more than one sample, iterate through fastqs accordingly\n",
        "else:\n",
        "\n",
        "  # Initializa counter for fastq files\n",
        "  j = 0\n",
        "\n",
        "  # Loop over samples for analysis\n",
        "  for i in range(number_of_samples):\n",
        "\n",
        "    # Write the kb count command as a string\n",
        "    cmd = \"kb count --h5ad -i index.idx -g t2g.txt -x \" + technology_kb + \" -o output\" + sample_id[i] + \" \\\n",
        "    --filter bustools -t 2 --overwrite \" +\\\n",
        "    fastqs[j] + \" \" + fastqs[j+1]\n",
        "\n",
        "    # Execute it\n",
        "    !$cmd\n",
        "\n",
        "    # Update j to move to the next fastq\n",
        "    if paired_ended:\n",
        "      j = j + 2\n",
        "    else:\n",
        "      j = j + 1\n",
        "\n",
        "\n"
      ],
      "execution_count": 16,
      "outputs": [
        {
          "output_type": "stream",
          "text": [
            "[2021-03-23 02:00:36,304]    INFO Using index index.idx to generate BUS file to outputGSM3309835 from\n",
            "[2021-03-23 02:00:36,304]    INFO         /content/fastqs/CALR042-ATGCTCCG_MissingLibrary_1_HYLYNBCXY/bamtofastq_S1_L001_R1_001.fastq.gz\n",
            "[2021-03-23 02:00:36,304]    INFO         /content/fastqs/CALR042-ATGCTCCG_MissingLibrary_1_HYLYNBCXY/bamtofastq_S1_L001_R2_001.fastq.gz\n",
            "[2021-03-23 02:00:36,304]    INFO         /content/fastqs/CALR042-ATGCTCCG_MissingLibrary_1_HYLYNBCXY/bamtofastq_S1_L002_R1_001.fastq.gz\n",
            "[2021-03-23 02:00:36,304]    INFO         /content/fastqs/CALR042-ATGCTCCG_MissingLibrary_1_HYLYNBCXY/bamtofastq_S1_L002_R2_001.fastq.gz\n",
            "[2021-03-23 02:00:36,304]    INFO         /content/fastqs/CALR042-CACTCGGA_MissingLibrary_1_HYLYNBCXY/bamtofastq_S1_L001_R1_001.fastq.gz\n",
            "[2021-03-23 02:00:36,304]    INFO         /content/fastqs/CALR042-CACTCGGA_MissingLibrary_1_HYLYNBCXY/bamtofastq_S1_L001_R2_001.fastq.gz\n",
            "[2021-03-23 02:00:36,304]    INFO         /content/fastqs/CALR042-CACTCGGA_MissingLibrary_1_HYLYNBCXY/bamtofastq_S1_L002_R1_001.fastq.gz\n",
            "[2021-03-23 02:00:36,304]    INFO         /content/fastqs/CALR042-CACTCGGA_MissingLibrary_1_HYLYNBCXY/bamtofastq_S1_L002_R2_001.fastq.gz\n",
            "[2021-03-23 02:00:36,304]    INFO         /content/fastqs/CALR042-GCTGAATT_MissingLibrary_1_HYLYNBCXY/bamtofastq_S1_L001_R1_001.fastq.gz\n",
            "[2021-03-23 02:00:36,304]    INFO         /content/fastqs/CALR042-GCTGAATT_MissingLibrary_1_HYLYNBCXY/bamtofastq_S1_L001_R2_001.fastq.gz\n",
            "[2021-03-23 02:00:36,304]    INFO         /content/fastqs/CALR042-GCTGAATT_MissingLibrary_1_HYLYNBCXY/bamtofastq_S1_L002_R1_001.fastq.gz\n",
            "[2021-03-23 02:00:36,304]    INFO         /content/fastqs/CALR042-GCTGAATT_MissingLibrary_1_HYLYNBCXY/bamtofastq_S1_L002_R2_001.fastq.gz\n",
            "[2021-03-23 02:00:36,304]    INFO         /content/fastqs/CALR042-TGAAGTAC_MissingLibrary_1_HYLYNBCXY/bamtofastq_S1_L001_R1_001.fastq.gz\n",
            "[2021-03-23 02:00:36,304]    INFO         /content/fastqs/CALR042-TGAAGTAC_MissingLibrary_1_HYLYNBCXY/bamtofastq_S1_L001_R2_001.fastq.gz\n",
            "[2021-03-23 02:00:36,304]    INFO         /content/fastqs/CALR042-TGAAGTAC_MissingLibrary_1_HYLYNBCXY/bamtofastq_S1_L002_R1_001.fastq.gz\n",
            "[2021-03-23 02:00:36,304]    INFO         /content/fastqs/CALR042-TGAAGTAC_MissingLibrary_1_HYLYNBCXY/bamtofastq_S1_L002_R2_001.fastq.gz\n",
            "[2021-03-23 02:12:50,271]   ERROR \n",
            "[index] k-mer length: 31\n",
            "[index] number of targets: 227,368\n",
            "[index] number of k-mers: 140,125,185\n",
            "tcmalloc: large alloc 6442450944 bytes == 0x2cf2000 @  0x7f6fb26b3887 0x457d7f 0x451662 0x42732d 0x7f6fb132bbf7 0x42c2c5\n",
            "[index] number of equivalence classes: 964,094\n",
            "[quant] will process sample 1: /content/fastqs/CALR042-ATGCTCCG_MissingLibrary_1_HYLYNBCXY/bamtofastq_S1_L001_R1_001.fastq.gz\n",
            "/content/fastqs/CALR042-ATGCTCCG_MissingLibrary_1_HYLYNBCXY/bamtofastq_S1_L001_R2_001.fastq.gz\n",
            "[quant] will process sample 2: /content/fastqs/CALR042-ATGCTCCG_MissingLibrary_1_HYLYNBCXY/bamtofastq_S1_L002_R1_001.fastq.gz\n",
            "/content/fastqs/CALR042-ATGCTCCG_MissingLibrary_1_HYLYNBCXY/bamtofastq_S1_L002_R2_001.fastq.gz\n",
            "[quant] will process sample 3: /content/fastqs/CALR042-CACTCGGA_MissingLibrary_1_HYLYNBCXY/bamtofastq_S1_L001_R1_001.fastq.gz\n",
            "/content/fastqs/CALR042-CACTCGGA_MissingLibrary_1_HYLYNBCXY/bamtofastq_S1_L001_R2_001.fastq.gz\n",
            "[quant] will process sample 4: /content/fastqs/CALR042-CACTCGGA_MissingLibrary_1_HYLYNBCXY/bamtofastq_S1_L002_R1_001.fastq.gz\n",
            "/content/fastqs/CALR042-CACTCGGA_MissingLibrary_1_HYLYNBCXY/bamtofastq_S1_L002_R2_001.fastq.gz\n",
            "[quant] will process sample 5: /content/fastqs/CALR042-GCTGAATT_MissingLibrary_1_HYLYNBCXY/bamtofastq_S1_L001_R1_001.fastq.gz\n",
            "/content/fastqs/CALR042-GCTGAATT_MissingLibrary_1_HYLYNBCXY/bamtofastq_S1_L001_R2_001.fastq.gz\n",
            "[quant] will process sample 6: /content/fastqs/CALR042-GCTGAATT_MissingLibrary_1_HYLYNBCXY/bamtofastq_S1_L002_R1_001.fastq.gz\n",
            "/content/fastqs/CALR042-GCTGAATT_MissingLibrary_1_HYLYNBCXY/bamtofastq_S1_L002_R2_001.fastq.gz\n",
            "[quant] will process sample 7: /content/fastqs/CALR042-TGAAGTAC_MissingLibrary_1_HYLYNBCXY/bamtofastq_S1_L001_R1_001.fastq.gz\n",
            "/content/fastqs/CALR042-TGAAGTAC_MissingLibrary_1_HYLYNBCXY/bamtofastq_S1_L001_R2_001.fastq.gz\n",
            "[quant] will process sample 8: /content/fastqs/CALR042-TGAAGTAC_MissingLibrary_1_HYLYNBCXY/bamtofastq_S1_L002_R1_001.fastq.gz\n",
            "/content/fastqs/CALR042-TGAAGTAC_MissingLibrary_1_HYLYNBCXY/bamtofastq_S1_L002_R2_001.fastq.gz\n",
            "[quant] finding pseudoalignments for the reads ... done\n",
            "[quant] processed 254,323,137 reads, 0 reads pseudoaligned[~warn] no reads pseudoaligned.\n",
            "\n",
            "[2021-03-23 02:12:50,274]   ERROR An exception occurred\n",
            "Traceback (most recent call last):\n",
            "  File \"/usr/local/lib/python3.7/dist-packages/kb_python/main.py\", line 837, in main\n",
            "    COMMAND_TO_FUNCTION[args.command](parser, args, temp_dir=temp_dir)\n",
            "  File \"/usr/local/lib/python3.7/dist-packages/kb_python/main.py\", line 323, in parse_count\n",
            "    temp_dir=temp_dir\n",
            "  File \"/usr/local/lib/python3.7/dist-packages/kb_python/count.py\", line 1124, in count\n",
            "    fastqs, index_paths[0], technology, out_dir, threads=threads\n",
            "  File \"/usr/local/lib/python3.7/dist-packages/kb_python/validate.py\", line 112, in inner\n",
            "    results = func(*args, **kwargs)\n",
            "  File \"/usr/local/lib/python3.7/dist-packages/kb_python/count.py\", line 149, in kallisto_bus\n",
            "    run_executable(command)\n",
            "  File \"/usr/local/lib/python3.7/dist-packages/kb_python/dry/__init__.py\", line 24, in inner\n",
            "    return func(*args, **kwargs)\n",
            "  File \"/usr/local/lib/python3.7/dist-packages/kb_python/utils.py\", line 233, in run_executable\n",
            "    raise sp.CalledProcessError(p.returncode, ' '.join(command))\n",
            "subprocess.CalledProcessError: Command '/usr/local/lib/python3.7/dist-packages/kb_python/bins/linux/kallisto/kallisto bus -i index.idx -o outputGSM3309835 -x 10xv3 -t 2 /content/fastqs/CALR042-ATGCTCCG_MissingLibrary_1_HYLYNBCXY/bamtofastq_S1_L001_R1_001.fastq.gz /content/fastqs/CALR042-ATGCTCCG_MissingLibrary_1_HYLYNBCXY/bamtofastq_S1_L001_R2_001.fastq.gz /content/fastqs/CALR042-ATGCTCCG_MissingLibrary_1_HYLYNBCXY/bamtofastq_S1_L002_R1_001.fastq.gz /content/fastqs/CALR042-ATGCTCCG_MissingLibrary_1_HYLYNBCXY/bamtofastq_S1_L002_R2_001.fastq.gz /content/fastqs/CALR042-CACTCGGA_MissingLibrary_1_HYLYNBCXY/bamtofastq_S1_L001_R1_001.fastq.gz /content/fastqs/CALR042-CACTCGGA_MissingLibrary_1_HYLYNBCXY/bamtofastq_S1_L001_R2_001.fastq.gz /content/fastqs/CALR042-CACTCGGA_MissingLibrary_1_HYLYNBCXY/bamtofastq_S1_L002_R1_001.fastq.gz /content/fastqs/CALR042-CACTCGGA_MissingLibrary_1_HYLYNBCXY/bamtofastq_S1_L002_R2_001.fastq.gz /content/fastqs/CALR042-GCTGAATT_MissingLibrary_1_HYLYNBCXY/bamtofastq_S1_L001_R1_001.fastq.gz /content/fastqs/CALR042-GCTGAATT_MissingLibrary_1_HYLYNBCXY/bamtofastq_S1_L001_R2_001.fastq.gz /content/fastqs/CALR042-GCTGAATT_MissingLibrary_1_HYLYNBCXY/bamtofastq_S1_L002_R1_001.fastq.gz /content/fastqs/CALR042-GCTGAATT_MissingLibrary_1_HYLYNBCXY/bamtofastq_S1_L002_R2_001.fastq.gz /content/fastqs/CALR042-TGAAGTAC_MissingLibrary_1_HYLYNBCXY/bamtofastq_S1_L001_R1_001.fastq.gz /content/fastqs/CALR042-TGAAGTAC_MissingLibrary_1_HYLYNBCXY/bamtofastq_S1_L001_R2_001.fastq.gz /content/fastqs/CALR042-TGAAGTAC_MissingLibrary_1_HYLYNBCXY/bamtofastq_S1_L002_R1_001.fastq.gz /content/fastqs/CALR042-TGAAGTAC_MissingLibrary_1_HYLYNBCXY/bamtofastq_S1_L002_R2_001.fastq.gz' returned non-zero exit status 1.\n"
          ],
          "name": "stdout"
        }
      ]
    },
    {
      "cell_type": "code",
      "metadata": {
        "id": "9n5B8PLN0Auw"
      },
      "source": [
        "import time\n",
        "time.sleep(6000000)"
      ],
      "execution_count": null,
      "outputs": []
    },
    {
      "cell_type": "markdown",
      "metadata": {
        "id": "tDijOZzrqhN2"
      },
      "source": [
        "# Load unfiltered matrix and assign filters to each matrix individually"
      ]
    },
    {
      "cell_type": "markdown",
      "metadata": {
        "id": "VkNLZh_pNFFw"
      },
      "source": [
        "## Load the unfiltered matrix (check dimensions)"
      ]
    },
    {
      "cell_type": "code",
      "metadata": {
        "id": "PppRNeV8AIyw"
      },
      "source": [
        "# Define dict to store data\n",
        "results = {}\n"
      ],
      "execution_count": null,
      "outputs": []
    },
    {
      "cell_type": "code",
      "metadata": {
        "id": "pKmtGf3c_BiZ",
        "cellView": "both"
      },
      "source": [
        "# load the unfiltered matrix\n",
        "for i in range(number_of_samples):\n",
        "  results[sample_id[i]] = anndata.read_h5ad(\"output\" + sample_id[i] + \"/counts_unfiltered/adata.h5ad\")\n",
        "  results[sample_id[i]].var[\"gene_id\"] = results[sample_id[i]].var.index.values\n",
        "\n",
        "  t2g = pd.read_csv(\"t2g.txt\", header=None, names=[\"tid\", \"gene_id\", \"gene_name\"], sep=\"\\t\")\n",
        "  t2g.index = t2g.gene_id\n",
        "  t2g = t2g.loc[~t2g.index.duplicated(keep='first')]\n",
        "\n",
        "  results[sample_id[i]].var[\"gene_name\"] = results[sample_id[i]].var.gene_id.map(t2g[\"gene_name\"])\n",
        "  results[sample_id[i]].var.index = results[sample_id[i]].var[\"gene_name\"]\n",
        "  print(\"The unfiltered matrix \" + sample_id[i] + \" contains {} cells by {} genes\".format(len(results[sample_id[i]].obs), len(results[sample_id[i]].var)))\n",
        "\n",
        "  results[sample_id[i]].obs[\"cell_counts\"] = results[sample_id[i]].X.sum(axis=1)\n",
        "  results[sample_id[i]].var[\"gene_counts\"] = nd(results[sample_id[i]].X.sum(axis=0))\n",
        "\n",
        "  results[sample_id[i]].obs[\"n_genes\"] = nd((results[sample_id[i]].X>0).sum(axis=1))\n",
        "  results[sample_id[i]].var[\"n_cells\"] = nd((results[sample_id[i]].X>0).sum(axis=0))\n",
        "\n",
        "  mito_genes = results[sample_id[i]].var_names.str.startswith(\"MT-\" or \"mt-\") \n",
        "  results[sample_id[i]].obs[\"percent_mito\"] = results[sample_id[i]][:,mito_genes].X.sum(axis=1)/results[sample_id[i]].X.sum(axis=1)*100\n",
        "\n",
        "  # Changing the name of the index is necessary to write the file (it won't work with duplicated names)\n",
        "  results[sample_id[i]].var.index.name = \"index\"\n",
        "\n"
      ],
      "execution_count": null,
      "outputs": []
    },
    {
      "cell_type": "markdown",
      "metadata": {
        "id": "hDAUH3eH_2RA"
      },
      "source": [
        "## Assign filters for each matrix individually"
      ]
    },
    {
      "cell_type": "code",
      "metadata": {
        "id": "ukinuaKk_6Po"
      },
      "source": [
        "# Modify this manually to change sample after having assigned the \"expected_num_cells\" and \"mito_criteria\" parameters\n",
        "samp_n = 0\n",
        "\n",
        "\n",
        "# Filtering criteria\n",
        "cell_threshold = 100\n",
        "gene_threshold = 3\n",
        "\n",
        "mito_criteria = 30"
      ],
      "execution_count": null,
      "outputs": []
    },
    {
      "cell_type": "code",
      "metadata": {
        "id": "a5wZB5pEfwNs",
        "cellView": "form"
      },
      "source": [
        "\n",
        "expected_num_cells = 10000#@param {type:\"integer\"}\n",
        "knee = np.sort(nd(results[sample_id[i]].X.sum(axis=1)))[::-1]\n",
        "\n",
        "fig, ax = plt.subplots(figsize=(5, 5))\n",
        "\n",
        "x = knee\n",
        "y = range(len(knee))\n",
        "\n",
        "ax.loglog(x, y, linewidth=5, color=\"g\")\n",
        "\n",
        "ax.axvline(x=knee[expected_num_cells], linewidth=3, color=\"k\")\n",
        "ax.axhline(y=expected_num_cells, linewidth=3, color=\"k\")\n",
        "\n",
        "ax.set_xlabel(\"UMI Counts\")\n",
        "ax.set_ylabel(\"Set of Barcodes\")\n",
        "\n",
        "plt.show()\n",
        "\n",
        "cell_threshold = knee[expected_num_cells]\n",
        "\n",
        "results[\"cell_threshold\" + sample_id[samp_n]] = knee[expected_num_cells]\n",
        "\n",
        "print (\"Cells were filtered down to \" + str(expected_num_cells) + \" with at least \" + str(cell_threshold) + \" UMIs\")\n",
        "\n",
        "\n",
        "mito_criteria = 18#@param {type:\"integer\"}\n",
        "results[\"mito_criteria\" + sample_id[samp_n]] = mito_criteria\n",
        "\n",
        "fig, ax = plt.subplots(figsize=(5,5))\n",
        "\n",
        "\n",
        "x = nd(results[sample_id[i]].obs[\"cell_counts\"][results[sample_id[i]].obs[\"cell_counts\"] > cell_threshold])\n",
        "y = nd(results[sample_id[i]].obs[\"percent_mito\"][results[sample_id[i]].obs[\"cell_counts\"] > cell_threshold])\n",
        "\n",
        "ax.scatter(x, y, color=\"green\", alpha=0.1)\n",
        "\n",
        "ax.axhline(y=mito_criteria, linestyle=\"--\", color=\"k\")\n",
        "\n",
        "\n",
        "ax.set_xlabel(\"UMI Counts\")\n",
        "ax.set_ylabel(\"Percent mito\")\n",
        "\n",
        "\n",
        "plt.show()\n",
        "\n",
        "print(\"We select \" + str(mito_criteria) + \" % as the mitochondrial content threshold\")"
      ],
      "execution_count": null,
      "outputs": []
    },
    {
      "cell_type": "markdown",
      "metadata": {
        "id": "eP9j2ouPq9KY"
      },
      "source": [
        "# Filter matrix"
      ]
    },
    {
      "cell_type": "code",
      "metadata": {
        "id": "sE51WUA3gVmG"
      },
      "source": [
        "for i in range(number_of_samples):\n",
        "  results[sample_id[i]].obs[\"pass_count_filter\"] = results[sample_id[i]].obs[\"cell_counts\"] > results[\"cell_threshold\" + sample_id[i]]\n",
        "  results[sample_id[i]].obs[\"pass_mito_filter\"] = results[sample_id[i]].obs.percent_mito < results[\"mito_criteria\" + sample_id[i]]\n",
        "  results[sample_id[i]].var[\"pass_gene_filter\"] = results[sample_id[i]].var[\"n_cells\"] > gene_threshold\n",
        "\n",
        "  cell_mask = np.logical_and(results[sample_id[i]].obs[\"pass_count_filter\"].values, results[sample_id[i]].obs[\"pass_mito_filter\"].values)\n",
        "  gene_mask = results[sample_id[i]].var[\"pass_gene_filter\"].values\n",
        "\n",
        "  print(\"Current Shape: {:,} cells x {:,} genes\".format(results[sample_id[i]].shape[0], results[sample_id[i]].shape[1]))\n",
        "  print(\"    New shape: {:,} cells x {:,} genes\".format(cell_mask.sum(), gene_mask.sum()))\n",
        "  results[\"data_\" + sample_id[i]] = results[sample_id[i]][cell_mask, gene_mask]"
      ],
      "execution_count": null,
      "outputs": []
    },
    {
      "cell_type": "markdown",
      "metadata": {
        "id": "BxPA81yj4TlU"
      },
      "source": [
        "# Anotate and write the Anndata object"
      ]
    },
    {
      "cell_type": "code",
      "metadata": {
        "id": "O-q_Qj2U4kDU"
      },
      "source": [
        "for i in range(number_of_samples):\n",
        "\n",
        "\n",
        "  results[\"data_\" + sample_id[i]].uns[\"database_id\"] = database_id[samp_n]\n",
        "\n",
        "  results[\"data_\" + sample_id[i]].uns[\"tissue\"] = tissue[samp_n]\n",
        "\n",
        "  results[\"data_\" + sample_id[i]].uns[\"cell_type\"] = cell_type[samp_n]\n",
        "\n",
        "  results[\"data_\" + sample_id[i]].uns[\"sample_id\"] = sample_id[samp_n]\n",
        "\n",
        "  results[\"data_\" + sample_id[i]].uns[\"condition\"] = condition[samp_n]\n",
        "\n",
        "  results[\"data_\" + sample_id[i]].uns[\"species\"] = species[samp_n]\n",
        "\n",
        "  results[\"data_\" + sample_id[i]].uns[\"technology\"] = technology[samp_n]\n",
        "\n",
        "  results[\"data_\" + sample_id[i]].uns[\"paper\"] = paper[samp_n]\n",
        "\n",
        "  results[\"data_\" + sample_id[i]].uns[\"figure\"] = figure[samp_n]"
      ],
      "execution_count": null,
      "outputs": []
    },
    {
      "cell_type": "code",
      "metadata": {
        "id": "ICc77J94_Kye"
      },
      "source": [
        "%cd /content\n",
        "\n",
        "for i in range(number_of_samples):\n",
        "\n",
        "  results[\"data_\" + sample_id[i]].write(\"result\" + sample_id[i])"
      ],
      "execution_count": null,
      "outputs": []
    }
  ]
}