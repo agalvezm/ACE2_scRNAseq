{
  "nbformat": 4,
  "nbformat_minor": 0,
  "metadata": {
    "colab": {
      "name": "PRJCA002413_CRX102293.ipynb",
      "provenance": [],
      "collapsed_sections": [],
      "toc_visible": true,
      "include_colab_link": true
    },
    "kernelspec": {
      "display_name": "Python 3",
      "name": "python3"
    }
  },
  "cells": [
    {
      "cell_type": "markdown",
      "metadata": {
        "id": "view-in-github",
        "colab_type": "text"
      },
      "source": [
        "<a href=\"https://colab.research.google.com/github/agalvezm/ACE2_scRNAseq/blob/master/notebooks_countmatrices/PRJCA002413_CRX102293.ipynb\" target=\"_parent\"><img src=\"https://colab.research.google.com/assets/colab-badge.svg\" alt=\"Open In Colab\"/></a>"
      ]
    },
    {
      "cell_type": "markdown",
      "metadata": {
        "id": "V9ryXluJsJw9"
      },
      "source": [
        "# PRJCA002413_CRX102293"
      ]
    },
    {
      "cell_type": "code",
      "metadata": {
        "id": "ggNFAQJCRh6P"
      },
      "source": [
        "# define the values for the analysis\n",
        "\n",
        "# accession id for the data\n",
        "id = \"PRJCA002413\"\n",
        "samp_id = [\"CRX102293\"]\n",
        "\n",
        "# If only bam available files, set bam = True, Fill link and filename\n",
        "bam = False\n",
        "\n",
        "# If fastq links available but are not ffq links\n",
        "fastq_ffqlinks = False\n",
        "\n",
        "\n",
        "if bam:\n",
        "  # Assign link to python variable\n",
        "  link_to_bam = \"\"\n",
        "  \n",
        "  # Assigns the link to the bash variable BAM_LINK. To be used by wget\n",
        "  %env BAM_LINK=$link_to_bam\n",
        "\n",
        "  # Assign filename to python variable. Used to convert to fastq and remove bam file to fastq after conversion\n",
        "\n",
        "  bam_filename=\"\"\n",
        "\n",
        "\n",
        "if not bam:\n",
        "\n",
        "  # Copy and paste the links from the ACE2 scRNAseq datasets google  spreadsheet\n",
        "  links_raw = \"ftp://download.big.ac.cn/gsa3/CRA002497/CRR126659/CRR126659_f1.fastq.gz\tftp://download.big.ac.cn/gsa3/CRA002497/CRR126659/CRR126659_r2.fastq.gz\tftp://download.big.ac.cn/gsa3/CRA002497/CRR126660/CRR126660_f1.fastq.gz\tftp://download.big.ac.cn/gsa3/CRA002497/CRR126660/CRR126660_r2.fastq.gz\tftp://download.big.ac.cn/gsa3/CRA002497/CRR126661/CRR126661_f1.fastq.gz\tftp://download.big.ac.cn/gsa3/CRA002497/CRR126661/CRR126661_r2.fastq.gz\tftp://download.big.ac.cn/gsa3/CRA002497/CRR126662/CRR126662_f1.fastq.gz\tftp://download.big.ac.cn/gsa3/CRA002497/CRR126662/CRR126662_r2.fastq.gz\tftp://download.big.ac.cn/gsa3/CRA002497/CRR126663/CRR126663_f1.fastq.gz\tftp://download.big.ac.cn/gsa3/CRA002497/CRR126663/CRR126663_r2.fastq.gz\tftp://download.big.ac.cn/gsa3/CRA002497/CRR126664/CRR126664_f1.fastq.gz\tftp://download.big.ac.cn/gsa3/CRA002497/CRR126664/CRR126664_r2.fastq.gz\tftp://download.big.ac.cn/gsa3/CRA002497/CRR126665/CRR126665_f1.fastq.gz\tftp://download.big.ac.cn/gsa3/CRA002497/CRR126665/CRR126665_r2.fastq.gz\tftp://download.big.ac.cn/gsa3/CRA002497/CRR126666/CRR126666_f1.fastq.gz\tftp://download.big.ac.cn/gsa3/CRA002497/CRR126666/CRR126666_r2.fastq.gz\tftp://download.big.ac.cn/gsa3/CRA002497/CRR126667/CRR126667_f1.fastq.gz\tftp://download.big.ac.cn/gsa3/CRA002497/CRR126667/CRR126667_r2.fastq.gz\tftp://download.big.ac.cn/gsa3/CRA002497/CRR126668/CRR126668_f1.fastq.gz\tftp://download.big.ac.cn/gsa3/CRA002497/CRR126668/CRR126668_r2.fastq.gz\tftp://download.big.ac.cn/gsa3/CRA002497/CRR126669/CRR126669_f1.fastq.gz\tftp://download.big.ac.cn/gsa3/CRA002497/CRR126669/CRR126669_r2.fastq.gz\tftp://download.big.ac.cn/gsa3/CRA002497/CRR126670/CRR126670_f1.fastq.gz\tftp://download.big.ac.cn/gsa3/CRA002497/CRR126670/CRR126670_r2.fastq.gz\"\n",
        "\n",
        "  # Convert it to a list where each link is an element\n",
        "  \n",
        "  fastqs = links_raw.split()\n",
        "\n",
        "#sample specific metadata\n",
        "\n",
        "no_samples = 1\n",
        "\n",
        "condition = [\"covid infected, late recovery stage\"] * no_samples"
      ],
      "execution_count": 1,
      "outputs": []
    },
    {
      "cell_type": "code",
      "metadata": {
        "id": "5R3tPDqnoJUn"
      },
      "source": [
        "no_samples = 1\n",
        "\n",
        "fastqs_per_sample = [4, 8, 8] \n",
        "\n",
        "sample_id = samp_id\n",
        "\n",
        "database_id = [id] * no_samples\n",
        "\n",
        "tissue = [\"blood\"] * no_samples\n",
        "\n",
        "cell_type = [\"PBMCs\"] * no_samples\n",
        "\n",
        "species = [\"human\"] * no_samples\n",
        "\n",
        "technology = [\"10xv2\"] * no_samples\n",
        "\n",
        "paper = [\"Wen et al 2020\"] * no_samples\n",
        "\n",
        "figure = [\"Fig: all\"] * no_samples\n",
        "\n",
        "\n",
        "# Set string variables for kb functions\n",
        "\n",
        "species_kb = species[0]\n",
        "\n",
        "technology_kb = technology[0]\n",
        "\n"
      ],
      "execution_count": 2,
      "outputs": []
    },
    {
      "cell_type": "markdown",
      "metadata": {
        "id": "FPwL0-_-KSAw"
      },
      "source": [
        "# Imports and installs"
      ]
    },
    {
      "cell_type": "code",
      "metadata": {
        "colab": {
          "base_uri": "https://localhost:8080/"
        },
        "id": "1HSlUGZEp3oP",
        "outputId": "f9867b3b-fd33-494e-a6b5-42d7eea46c0b"
      },
      "source": [
        "# install and import necessary software\n",
        "\n",
        "# Install kb and scanpy\n",
        "!pip -q install kb-python \n",
        "!pip -q install scanpy\n",
        "\n",
        "import re\n",
        "import os\n",
        "\n",
        "# Setup\n",
        "\n",
        "import anndata\n",
        "import pandas as pd\n",
        "import numpy as np\n",
        "import matplotlib.pyplot as plt\n",
        "import matplotlib as mpl\n",
        "import matplotlib.patches as mpatches\n",
        "import scanpy as sc\n",
        "from scipy import stats\n",
        "\n",
        "from collections import OrderedDict\n",
        "from sklearn.decomposition import TruncatedSVD\n",
        "from sklearn.manifold import TSNE\n",
        "from sklearn.preprocessing import scale\n",
        "\n",
        "from sklearn.cluster import KMeans\n",
        "from sklearn.preprocessing import normalize\n",
        "from sklearn.preprocessing import LabelEncoder\n",
        "from sklearn.neighbors import NeighborhoodComponentsAnalysis\n",
        "from matplotlib import cm\n",
        "from matplotlib.lines import Line2D\n",
        "\n",
        "def nd(arr):\n",
        "    return np.asarray(arr).reshape(-1)\n",
        "def yex(ax):\n",
        "    lims = [np.min([ax.get_xlim(), ax.get_ylim()]),\n",
        "            np.max([ax.get_xlim(), ax.get_ylim()])]\n",
        "\n",
        "    # now plot both limits against eachother\n",
        "    ax.plot(lims, lims, 'k-', alpha=0.75, zorder=0)\n",
        "    ax.set_aspect('equal')\n",
        "    ax.set_xlim(lims)\n",
        "    ax.set_ylim(lims)\n",
        "    return ax\n",
        "\n",
        "def trim_axs(axs, N):\n",
        "    \"\"\"little helper to massage the axs list to have correct length...\"\"\"\n",
        "    axs = axs.flat\n",
        "    for ax in axs[N:]:\n",
        "        ax.remove()\n",
        "    return axs[:N]\n",
        "\n",
        "import warnings\n",
        "warnings.filterwarnings('ignore')\n",
        "\n",
        "fsize=20\n",
        "\n",
        "plt.rcParams.update({'font.size': fsize})\n",
        "%config InlineBackend.figure_format = 'retina'"
      ],
      "execution_count": 3,
      "outputs": [
        {
          "output_type": "stream",
          "text": [
            "\u001b[K     |████████████████████████████████| 59.1MB 106kB/s \n",
            "\u001b[K     |████████████████████████████████| 133kB 39.0MB/s \n",
            "\u001b[K     |████████████████████████████████| 13.2MB 30.8MB/s \n",
            "\u001b[K     |████████████████████████████████| 10.3MB 20.6MB/s \n",
            "\u001b[K     |████████████████████████████████| 51kB 5.1MB/s \n",
            "\u001b[K     |████████████████████████████████| 81kB 7.8MB/s \n",
            "\u001b[K     |████████████████████████████████| 112kB 49.4MB/s \n",
            "\u001b[K     |████████████████████████████████| 71kB 7.5MB/s \n",
            "\u001b[K     |████████████████████████████████| 1.2MB 58.5MB/s \n",
            "\u001b[?25h  Building wheel for loompy (setup.py) ... \u001b[?25l\u001b[?25hdone\n",
            "  Building wheel for sinfo (setup.py) ... \u001b[?25l\u001b[?25hdone\n",
            "  Building wheel for umap-learn (setup.py) ... \u001b[?25l\u001b[?25hdone\n",
            "  Building wheel for numpy-groupies (setup.py) ... \u001b[?25l\u001b[?25hdone\n",
            "  Building wheel for pynndescent (setup.py) ... \u001b[?25l\u001b[?25hdone\n"
          ],
          "name": "stdout"
        }
      ]
    },
    {
      "cell_type": "markdown",
      "metadata": {
        "id": "7V6FbosVrvP4"
      },
      "source": [
        "# Downloads: (bam (if bam) and index"
      ]
    },
    {
      "cell_type": "code",
      "metadata": {
        "id": "q46hw4zqKUPS"
      },
      "source": [
        "if bam:\n",
        "\n",
        "  # Install bamtofastq from 10x website (only bam files available)\n",
        "  !wget http://cf.10xgenomics.com/misc/bamtofastq-1.2.0\n",
        "  !chmod +x bamtofastq-1.2.0\n",
        "  # Download the bam file\n",
        "  !wget -- continue ${BAM_LINK}\n",
        "\n",
        "\n"
      ],
      "execution_count": 4,
      "outputs": []
    },
    {
      "cell_type": "code",
      "metadata": {
        "id": "tDQlrjtqNF0m"
      },
      "source": [
        "if bam:\n",
        "  # Convert to fastq\n",
        "  !./bamtofastq-1.2.0 --reads-per-fastq=500000000 $bam_filename ./fastqs\\\n",
        "\n",
        "  # Remove original bam file to save space\n",
        "  !rm $bam_filename\n"
      ],
      "execution_count": 5,
      "outputs": []
    },
    {
      "cell_type": "code",
      "metadata": {
        "id": "SXRDRphvqcLe"
      },
      "source": [
        "# Store fastq names on a list\n",
        "\n",
        "if bam:\n",
        "  # cd into fastqs folder\n",
        "  %cd /content/fastqs\n",
        "\n",
        "  #store the name of the folder generated by bamtofastq\n",
        "  _filename = os.listdir()[0]\n",
        "\n",
        "  # cd into that folder\n",
        "  %cd $_filename\n",
        "\n",
        "  # store fastq names in a list\n",
        "  fastqs = os.listdir()\n",
        "\n",
        "\n",
        "  # Remove I1 and R3 reads not relevant for our analysis\n",
        "\n",
        "  # Initialize list containing elements to remove\n",
        "  remov_elem = []\n",
        "\n",
        "  print (\"\\n\\nThis is the complete list of fastqs:\\n -----------\")\n",
        "  for elem in fastqs:\n",
        "    print (elem)\n",
        "\n",
        "  # Search index (I1 or R3) fastqs and remove them from list\n",
        "  for elem in fastqs:\n",
        "    if re.search(\"_R3_\", elem) or re.search(\"_I1_\", elem):\n",
        "      remov_elem = remov_elem +[elem]\n",
        "\n",
        "  fastqs = [elem for elem in fastqs if elem not in remov_elem] \n",
        "\n",
        "  print (\"\\n\\nThis is the filtered list of fastqs:\\n -----------\")\n",
        "  for elem in fastqs:\n",
        "    print (elem)\n"
      ],
      "execution_count": 6,
      "outputs": []
    },
    {
      "cell_type": "code",
      "metadata": {
        "id": "ZnFcqcSgjLBw"
      },
      "source": [
        "# Remove fastqs that wont be analyzed to save space\n",
        "if bam:\n",
        "  for elem in remov_elem:\n",
        "    !rm $elem"
      ],
      "execution_count": 7,
      "outputs": []
    },
    {
      "cell_type": "code",
      "metadata": {
        "id": "FLVS8aB7Dm6J"
      },
      "source": [
        "if bam:\n",
        "  # sort fastqs alphabetically to get R1 and R2 in order\n",
        "  fastqs = sorted(fastqs)"
      ],
      "execution_count": 8,
      "outputs": []
    },
    {
      "cell_type": "code",
      "metadata": {
        "id": "FE9gWbQgpBfR",
        "colab": {
          "base_uri": "https://localhost:8080/"
        },
        "outputId": "2d0464ae-7240-43cc-f69b-9ad56de7009a"
      },
      "source": [
        "# wget fastqs from non ffq links in fastqs folder\n",
        "if not bam and not fastq_ffqlinks:\n",
        "  !mkdir fastqs\n",
        "  %cd fastqs\n",
        "  while len(os.listdir()) != len(fastqs):\n",
        "    for link in fastqs:\n",
        "      !wget $link --continue\n",
        "\n",
        "  # update fastqs variable with name of files\n",
        "  fastqs = sorted(os.listdir())"
      ],
      "execution_count": 9,
      "outputs": [
        {
          "output_type": "stream",
          "text": [
            "/content/fastqs\n",
            "--2021-05-03 18:22:56--  ftp://download.big.ac.cn/gsa3/CRA002497/CRR126659/CRR126659_f1.fastq.gz\n",
            "           => ‘CRR126659_f1.fastq.gz’\n",
            "Resolving download.big.ac.cn (download.big.ac.cn)... 124.16.164.229\n",
            "Connecting to download.big.ac.cn (download.big.ac.cn)|124.16.164.229|:21... connected.\n",
            "Logging in as anonymous ... Logged in!\n",
            "==> SYST ... done.    ==> PWD ... done.\n",
            "==> TYPE I ... done.  ==> CWD (1) /gsa3/CRA002497/CRR126659 ... done.\n",
            "==> SIZE CRR126659_f1.fastq.gz ... 1442806167\n",
            "==> PASV ... done.    ==> RETR CRR126659_f1.fastq.gz ... done.\n",
            "Length: 1442806167 (1.3G) (unauthoritative)\n",
            "\n",
            "CRR126659_f1.fastq. 100%[===================>]   1.34G  14.2MB/s    in 94s     \n",
            "\n",
            "2021-05-03 18:24:33 (14.6 MB/s) - ‘CRR126659_f1.fastq.gz’ saved [1442806167]\n",
            "\n",
            "--2021-05-03 18:24:33--  ftp://download.big.ac.cn/gsa3/CRA002497/CRR126659/CRR126659_r2.fastq.gz\n",
            "           => ‘CRR126659_r2.fastq.gz’\n",
            "Resolving download.big.ac.cn (download.big.ac.cn)... 124.16.164.229\n",
            "Connecting to download.big.ac.cn (download.big.ac.cn)|124.16.164.229|:21... connected.\n",
            "Logging in as anonymous ... Logged in!\n",
            "==> SYST ... done.    ==> PWD ... done.\n",
            "==> TYPE I ... done.  ==> CWD (1) /gsa3/CRA002497/CRR126659 ... done.\n",
            "==> SIZE CRR126659_r2.fastq.gz ... 5520471285\n",
            "==> PASV ... done.    ==> RETR CRR126659_r2.fastq.gz ... done.\n",
            "Length: 5520471285 (5.1G) (unauthoritative)\n",
            "\n",
            "CRR126659_r2.fastq. 100%[===================>]   5.14G  9.94MB/s    in 9m 9s   \n",
            "\n",
            "2021-05-03 18:33:44 (9.60 MB/s) - ‘CRR126659_r2.fastq.gz’ saved [5520471285]\n",
            "\n",
            "--2021-05-03 18:33:44--  ftp://download.big.ac.cn/gsa3/CRA002497/CRR126660/CRR126660_f1.fastq.gz\n",
            "           => ‘CRR126660_f1.fastq.gz’\n",
            "Resolving download.big.ac.cn (download.big.ac.cn)... 124.16.164.229\n",
            "Connecting to download.big.ac.cn (download.big.ac.cn)|124.16.164.229|:21... connected.\n",
            "Logging in as anonymous ... Logged in!\n",
            "==> SYST ... done.    ==> PWD ... done.\n",
            "==> TYPE I ... done.  ==> CWD (1) /gsa3/CRA002497/CRR126660 ... done.\n",
            "==> SIZE CRR126660_f1.fastq.gz ... 1859186764\n",
            "==> PASV ... done.    ==> RETR CRR126660_f1.fastq.gz ... done.\n",
            "Length: 1859186764 (1.7G) (unauthoritative)\n",
            "\n",
            "CRR126660_f1.fastq. 100%[===================>]   1.73G  8.63MB/s    in 3m 36s  \n",
            "\n",
            "2021-05-03 18:37:22 (8.20 MB/s) - ‘CRR126660_f1.fastq.gz’ saved [1859186764]\n",
            "\n",
            "--2021-05-03 18:37:23--  ftp://download.big.ac.cn/gsa3/CRA002497/CRR126660/CRR126660_r2.fastq.gz\n",
            "           => ‘CRR126660_r2.fastq.gz’\n",
            "Resolving download.big.ac.cn (download.big.ac.cn)... 124.16.164.229\n",
            "Connecting to download.big.ac.cn (download.big.ac.cn)|124.16.164.229|:21... connected.\n",
            "Logging in as anonymous ... Logged in!\n",
            "==> SYST ... done.    ==> PWD ... done.\n",
            "==> TYPE I ... done.  ==> CWD (1) /gsa3/CRA002497/CRR126660 ... done.\n",
            "==> SIZE CRR126660_r2.fastq.gz ... 7099252449\n",
            "==> PASV ... done.    ==> RETR CRR126660_r2.fastq.gz ... done.\n",
            "Length: 7099252449 (6.6G) (unauthoritative)\n",
            "\n",
            "CRR126660_r2.fastq. 100%[===================>]   6.61G  9.27MB/s    in 16m 48s \n",
            "\n",
            "2021-05-03 18:54:12 (6.72 MB/s) - Control connection closed.\n",
            "Retrying.\n",
            "\n",
            "--2021-05-03 19:09:13--  ftp://download.big.ac.cn/gsa3/CRA002497/CRR126660/CRR126660_r2.fastq.gz\n",
            "  (try: 2) => ‘CRR126660_r2.fastq.gz’\n",
            "Connecting to download.big.ac.cn (download.big.ac.cn)|124.16.164.229|:21... connected.\n",
            "Logging in as anonymous ... Logged in!\n",
            "==> SYST ... done.    ==> PWD ... done.\n",
            "==> TYPE I ... done.  ==> CWD (1) /gsa3/CRA002497/CRR126660 ... done.\n",
            "==> SIZE CRR126660_r2.fastq.gz ... 7099252449\n",
            "File has already been retrieved.\n",
            "2021-05-03 19:09:15 (0.00 B/s) - ‘CRR126660_r2.fastq.gz’ saved [7099252449]\n",
            "\n",
            "--2021-05-03 19:09:15--  ftp://download.big.ac.cn/gsa3/CRA002497/CRR126661/CRR126661_f1.fastq.gz\n",
            "           => ‘CRR126661_f1.fastq.gz’\n",
            "Resolving download.big.ac.cn (download.big.ac.cn)... 124.16.164.229\n",
            "Connecting to download.big.ac.cn (download.big.ac.cn)|124.16.164.229|:21... connected.\n",
            "Logging in as anonymous ... Logged in!\n",
            "==> SYST ... done.    ==> PWD ... done.\n",
            "==> TYPE I ... done.  ==> CWD (1) /gsa3/CRA002497/CRR126661 ... done.\n",
            "==> SIZE CRR126661_f1.fastq.gz ... 1483688178\n",
            "==> PASV ... done.    ==> RETR CRR126661_f1.fastq.gz ... done.\n",
            "Length: 1483688178 (1.4G) (unauthoritative)\n",
            "\n",
            "CRR126661_f1.fastq. 100%[===================>]   1.38G  7.45MB/s    in 3m 6s   \n",
            "\n",
            "2021-05-03 19:12:25 (7.59 MB/s) - ‘CRR126661_f1.fastq.gz’ saved [1483688178]\n",
            "\n",
            "--2021-05-03 19:12:25--  ftp://download.big.ac.cn/gsa3/CRA002497/CRR126661/CRR126661_r2.fastq.gz\n",
            "           => ‘CRR126661_r2.fastq.gz’\n",
            "Resolving download.big.ac.cn (download.big.ac.cn)... 124.16.164.229\n",
            "Connecting to download.big.ac.cn (download.big.ac.cn)|124.16.164.229|:21... connected.\n",
            "Logging in as anonymous ... Logged in!\n",
            "==> SYST ... done.    ==> PWD ... done.\n",
            "==> TYPE I ... done.  ==> CWD (1) /gsa3/CRA002497/CRR126661 ... done.\n",
            "==> SIZE CRR126661_r2.fastq.gz ... 5741055077\n",
            "==> PASV ... done.    ==> RETR CRR126661_r2.fastq.gz ... done.\n",
            "Length: 5741055077 (5.3G) (unauthoritative)\n",
            "\n",
            "CRR126661_r2.fastq. 100%[===================>]   5.35G  12.3MB/s    in 13m 18s \n",
            "\n",
            "2021-05-03 19:25:45 (6.86 MB/s) - Control connection closed.\n",
            "Retrying.\n",
            "\n",
            "--2021-05-03 19:40:46--  ftp://download.big.ac.cn/gsa3/CRA002497/CRR126661/CRR126661_r2.fastq.gz\n",
            "  (try: 2) => ‘CRR126661_r2.fastq.gz’\n",
            "Connecting to download.big.ac.cn (download.big.ac.cn)|124.16.164.229|:21... connected.\n",
            "Logging in as anonymous ... Logged in!\n",
            "==> SYST ... done.    ==> PWD ... done.\n",
            "==> TYPE I ... done.  ==> CWD (1) /gsa3/CRA002497/CRR126661 ... done.\n",
            "==> SIZE CRR126661_r2.fastq.gz ... 5741055077\n",
            "File has already been retrieved.\n",
            "2021-05-03 19:40:47 (0.00 B/s) - ‘CRR126661_r2.fastq.gz’ saved [5741055077]\n",
            "\n",
            "--2021-05-03 19:40:47--  ftp://download.big.ac.cn/gsa3/CRA002497/CRR126662/CRR126662_f1.fastq.gz\n",
            "           => ‘CRR126662_f1.fastq.gz’\n",
            "Resolving download.big.ac.cn (download.big.ac.cn)... 124.16.164.229\n",
            "Connecting to download.big.ac.cn (download.big.ac.cn)|124.16.164.229|:21... connected.\n",
            "Logging in as anonymous ... Logged in!\n",
            "==> SYST ... done.    ==> PWD ... done.\n",
            "==> TYPE I ... done.  ==> CWD (1) /gsa3/CRA002497/CRR126662 ... done.\n",
            "==> SIZE CRR126662_f1.fastq.gz ... 2122832413\n",
            "==> PASV ... done.    ==> RETR CRR126662_f1.fastq.gz ... done.\n",
            "Length: 2122832413 (2.0G) (unauthoritative)\n",
            "\n",
            "CRR126662_f1.fastq. 100%[===================>]   1.98G  6.61MB/s    in 4m 32s  \n",
            "\n",
            "2021-05-03 19:45:22 (7.43 MB/s) - ‘CRR126662_f1.fastq.gz’ saved [2122832413]\n",
            "\n",
            "--2021-05-03 19:45:22--  ftp://download.big.ac.cn/gsa3/CRA002497/CRR126662/CRR126662_r2.fastq.gz\n",
            "           => ‘CRR126662_r2.fastq.gz’\n",
            "Resolving download.big.ac.cn (download.big.ac.cn)... 124.16.164.229\n",
            "Connecting to download.big.ac.cn (download.big.ac.cn)|124.16.164.229|:21... connected.\n",
            "Logging in as anonymous ... Logged in!\n",
            "==> SYST ... done.    ==> PWD ... done.\n",
            "==> TYPE I ... done.  ==> CWD (1) /gsa3/CRA002497/CRR126662 ... done.\n",
            "==> SIZE CRR126662_r2.fastq.gz ... 8153118925\n",
            "==> PASV ... done.    ==> RETR CRR126662_r2.fastq.gz ... done.\n",
            "Length: 8153118925 (7.6G) (unauthoritative)\n",
            "\n",
            "CRR126662_r2.fastq. 100%[===================>]   7.59G  12.8MB/s    in 13m 29s \n",
            "\n",
            "2021-05-03 19:58:54 (9.61 MB/s) - Control connection closed.\n",
            "Retrying.\n",
            "\n",
            "--2021-05-03 20:13:55--  ftp://download.big.ac.cn/gsa3/CRA002497/CRR126662/CRR126662_r2.fastq.gz\n",
            "  (try: 2) => ‘CRR126662_r2.fastq.gz’\n",
            "Connecting to download.big.ac.cn (download.big.ac.cn)|124.16.164.229|:21... connected.\n",
            "Logging in as anonymous ... Logged in!\n",
            "==> SYST ... done.    ==> PWD ... done.\n",
            "==> TYPE I ... done.  ==> CWD (1) /gsa3/CRA002497/CRR126662 ... done.\n",
            "==> SIZE CRR126662_r2.fastq.gz ... 8153118925\n",
            "File has already been retrieved.\n",
            "2021-05-03 20:13:56 (0.00 B/s) - ‘CRR126662_r2.fastq.gz’ saved [8153118925]\n",
            "\n",
            "--2021-05-03 20:13:56--  ftp://download.big.ac.cn/gsa3/CRA002497/CRR126663/CRR126663_f1.fastq.gz\n",
            "           => ‘CRR126663_f1.fastq.gz’\n",
            "Resolving download.big.ac.cn (download.big.ac.cn)... 124.16.164.229\n",
            "Connecting to download.big.ac.cn (download.big.ac.cn)|124.16.164.229|:21... connected.\n",
            "Logging in as anonymous ... Logged in!\n",
            "==> SYST ... done.    ==> PWD ... done.\n",
            "==> TYPE I ... done.  ==> CWD (1) /gsa3/CRA002497/CRR126663 ... done.\n",
            "==> SIZE CRR126663_f1.fastq.gz ... 699316687\n",
            "==> PASV ... done.    ==> RETR CRR126663_f1.fastq.gz ... done.\n",
            "Length: 699316687 (667M) (unauthoritative)\n",
            "\n",
            "CRR126663_f1.fastq. 100%[===================>] 666.92M  15.6MB/s    in 51s     \n",
            "\n",
            "2021-05-03 20:14:50 (13.0 MB/s) - ‘CRR126663_f1.fastq.gz’ saved [699316687]\n",
            "\n",
            "--2021-05-03 20:14:50--  ftp://download.big.ac.cn/gsa3/CRA002497/CRR126663/CRR126663_r2.fastq.gz\n",
            "           => ‘CRR126663_r2.fastq.gz’\n",
            "Resolving download.big.ac.cn (download.big.ac.cn)... 124.16.164.229\n",
            "Connecting to download.big.ac.cn (download.big.ac.cn)|124.16.164.229|:21... connected.\n",
            "Logging in as anonymous ... Logged in!\n",
            "==> SYST ... done.    ==> PWD ... done.\n",
            "==> TYPE I ... done.  ==> CWD (1) /gsa3/CRA002497/CRR126663 ... done.\n",
            "==> SIZE CRR126663_r2.fastq.gz ... 764306257\n",
            "==> PASV ... done.    ==> RETR CRR126663_r2.fastq.gz ... done.\n",
            "Length: 764306257 (729M) (unauthoritative)\n",
            "\n",
            "CRR126663_r2.fastq. 100%[===================>] 728.90M  16.5MB/s    in 46s     \n",
            "\n",
            "2021-05-03 20:15:39 (15.8 MB/s) - ‘CRR126663_r2.fastq.gz’ saved [764306257]\n",
            "\n",
            "--2021-05-03 20:15:39--  ftp://download.big.ac.cn/gsa3/CRA002497/CRR126664/CRR126664_f1.fastq.gz\n",
            "           => ‘CRR126664_f1.fastq.gz’\n",
            "Resolving download.big.ac.cn (download.big.ac.cn)... 124.16.164.229\n",
            "Connecting to download.big.ac.cn (download.big.ac.cn)|124.16.164.229|:21... connected.\n",
            "Logging in as anonymous ... Logged in!\n",
            "==> SYST ... done.    ==> PWD ... done.\n",
            "==> TYPE I ... done.  ==> CWD (1) /gsa3/CRA002497/CRR126664 ... done.\n",
            "==> SIZE CRR126664_f1.fastq.gz ... 701310801\n",
            "==> PASV ... done.    ==> RETR CRR126664_f1.fastq.gz ... done.\n",
            "Length: 701310801 (669M) (unauthoritative)\n",
            "\n",
            "CRR126664_f1.fastq. 100%[===================>] 668.82M  14.5MB/s    in 55s     \n",
            "\n",
            "2021-05-03 20:16:37 (12.1 MB/s) - ‘CRR126664_f1.fastq.gz’ saved [701310801]\n",
            "\n",
            "--2021-05-03 20:16:37--  ftp://download.big.ac.cn/gsa3/CRA002497/CRR126664/CRR126664_r2.fastq.gz\n",
            "           => ‘CRR126664_r2.fastq.gz’\n",
            "Resolving download.big.ac.cn (download.big.ac.cn)... 124.16.164.229\n",
            "Connecting to download.big.ac.cn (download.big.ac.cn)|124.16.164.229|:21... connected.\n",
            "Logging in as anonymous ... Logged in!\n",
            "==> SYST ... done.    ==> PWD ... done.\n",
            "==> TYPE I ... done.  ==> CWD (1) /gsa3/CRA002497/CRR126664 ... done.\n",
            "==> SIZE CRR126664_r2.fastq.gz ... 766785774\n",
            "==> PASV ... done.    ==> RETR CRR126664_r2.fastq.gz ... done.\n",
            "Length: 766785774 (731M) (unauthoritative)\n",
            "\n",
            "CRR126664_r2.fastq. 100%[===================>] 731.26M  3.94MB/s    in 78s     \n",
            "\n",
            "2021-05-03 20:17:58 (9.36 MB/s) - ‘CRR126664_r2.fastq.gz’ saved [766785774]\n",
            "\n",
            "--2021-05-03 20:17:58--  ftp://download.big.ac.cn/gsa3/CRA002497/CRR126665/CRR126665_f1.fastq.gz\n",
            "           => ‘CRR126665_f1.fastq.gz’\n",
            "Resolving download.big.ac.cn (download.big.ac.cn)... 124.16.164.229\n",
            "Connecting to download.big.ac.cn (download.big.ac.cn)|124.16.164.229|:21... connected.\n",
            "Logging in as anonymous ... Logged in!\n",
            "==> SYST ... done.    ==> PWD ... done.\n",
            "==> TYPE I ... done.  ==> CWD (1) /gsa3/CRA002497/CRR126665 ... done.\n",
            "==> SIZE CRR126665_f1.fastq.gz ... 1050932457\n",
            "==> PASV ... done.    ==> RETR CRR126665_f1.fastq.gz ... done.\n",
            "Length: 1050932457 (1002M) (unauthoritative)\n",
            "\n",
            "CRR126665_f1.fastq. 100%[===================>]   1002M  13.5MB/s    in 72s     \n",
            "\n",
            "2021-05-03 20:19:12 (13.9 MB/s) - ‘CRR126665_f1.fastq.gz’ saved [1050932457]\n",
            "\n",
            "--2021-05-03 20:19:12--  ftp://download.big.ac.cn/gsa3/CRA002497/CRR126665/CRR126665_r2.fastq.gz\n",
            "           => ‘CRR126665_r2.fastq.gz’\n",
            "Resolving download.big.ac.cn (download.big.ac.cn)... 124.16.164.229\n",
            "Connecting to download.big.ac.cn (download.big.ac.cn)|124.16.164.229|:21... connected.\n",
            "Logging in as anonymous ... Logged in!\n",
            "==> SYST ... done.    ==> PWD ... done.\n",
            "==> TYPE I ... done.  ==> CWD (1) /gsa3/CRA002497/CRR126665 ... done.\n",
            "==> SIZE CRR126665_r2.fastq.gz ... 1155739772\n",
            "==> PASV ... done.    ==> RETR CRR126665_r2.fastq.gz ... done.\n",
            "Length: 1155739772 (1.1G) (unauthoritative)\n",
            "\n",
            "CRR126665_r2.fastq. 100%[===================>]   1.08G  12.6MB/s    in 95s     \n",
            "\n",
            "2021-05-03 20:20:49 (11.7 MB/s) - ‘CRR126665_r2.fastq.gz’ saved [1155739772]\n",
            "\n",
            "--2021-05-03 20:20:49--  ftp://download.big.ac.cn/gsa3/CRA002497/CRR126666/CRR126666_f1.fastq.gz\n",
            "           => ‘CRR126666_f1.fastq.gz’\n",
            "Resolving download.big.ac.cn (download.big.ac.cn)... 124.16.164.229\n",
            "Connecting to download.big.ac.cn (download.big.ac.cn)|124.16.164.229|:21... connected.\n",
            "Logging in as anonymous ... Logged in!\n",
            "==> SYST ... done.    ==> PWD ... done.\n",
            "==> TYPE I ... done.  ==> CWD (1) /gsa3/CRA002497/CRR126666 ... done.\n",
            "==> SIZE CRR126666_f1.fastq.gz ... 838045156\n",
            "==> PASV ... done.    ==> RETR CRR126666_f1.fastq.gz ... done.\n",
            "Length: 838045156 (799M) (unauthoritative)\n",
            "\n",
            "CRR126666_f1.fastq. 100%[===================>] 799.22M  10.3MB/s    in 67s     \n",
            "\n",
            "2021-05-03 20:21:59 (11.9 MB/s) - ‘CRR126666_f1.fastq.gz’ saved [838045156]\n",
            "\n",
            "--2021-05-03 20:21:59--  ftp://download.big.ac.cn/gsa3/CRA002497/CRR126666/CRR126666_r2.fastq.gz\n",
            "           => ‘CRR126666_r2.fastq.gz’\n",
            "Resolving download.big.ac.cn (download.big.ac.cn)... 124.16.164.229\n",
            "Connecting to download.big.ac.cn (download.big.ac.cn)|124.16.164.229|:21... connected.\n",
            "Logging in as anonymous ... Logged in!\n",
            "==> SYST ... done.    ==> PWD ... done.\n",
            "==> TYPE I ... done.  ==> CWD (1) /gsa3/CRA002497/CRR126666 ... done.\n",
            "==> SIZE CRR126666_r2.fastq.gz ... 923036274\n",
            "==> PASV ... done.    ==> RETR CRR126666_r2.fastq.gz ... done.\n",
            "Length: 923036274 (880M) (unauthoritative)\n",
            "\n",
            "CRR126666_r2.fastq. 100%[===================>] 880.28M  14.1MB/s    in 68s     \n",
            "\n",
            "2021-05-03 20:23:09 (13.0 MB/s) - ‘CRR126666_r2.fastq.gz’ saved [923036274]\n",
            "\n",
            "--2021-05-03 20:23:09--  ftp://download.big.ac.cn/gsa3/CRA002497/CRR126667/CRR126667_f1.fastq.gz\n",
            "           => ‘CRR126667_f1.fastq.gz’\n",
            "Resolving download.big.ac.cn (download.big.ac.cn)... 124.16.164.229\n",
            "Connecting to download.big.ac.cn (download.big.ac.cn)|124.16.164.229|:21... connected.\n",
            "Logging in as anonymous ... Logged in!\n",
            "==> SYST ... done.    ==> PWD ... done.\n",
            "==> TYPE I ... done.  ==> CWD (1) /gsa3/CRA002497/CRR126667 ... done.\n",
            "==> SIZE CRR126667_f1.fastq.gz ... 637785055\n",
            "==> PASV ... done.    ==> RETR CRR126667_f1.fastq.gz ... done.\n",
            "Length: 637785055 (608M) (unauthoritative)\n",
            "\n",
            "CRR126667_f1.fastq. 100%[===================>] 608.24M  14.5MB/s    in 47s     \n",
            "\n",
            "2021-05-03 20:23:58 (13.1 MB/s) - ‘CRR126667_f1.fastq.gz’ saved [637785055]\n",
            "\n",
            "--2021-05-03 20:23:58--  ftp://download.big.ac.cn/gsa3/CRA002497/CRR126667/CRR126667_r2.fastq.gz\n",
            "           => ‘CRR126667_r2.fastq.gz’\n",
            "Resolving download.big.ac.cn (download.big.ac.cn)... 124.16.164.229\n",
            "Connecting to download.big.ac.cn (download.big.ac.cn)|124.16.164.229|:21... connected.\n",
            "Logging in as anonymous ... Logged in!\n",
            "==> SYST ... done.    ==> PWD ... done.\n",
            "==> TYPE I ... done.  ==> CWD (1) /gsa3/CRA002497/CRR126667 ... done.\n",
            "==> SIZE CRR126667_r2.fastq.gz ... 673240397\n",
            "==> PASV ... done.    ==> RETR CRR126667_r2.fastq.gz ... done.\n",
            "Length: 673240397 (642M) (unauthoritative)\n",
            "\n",
            "CRR126667_r2.fastq. 100%[===================>] 642.05M  12.3MB/s    in 56s     \n",
            "\n",
            "2021-05-03 20:24:57 (11.4 MB/s) - ‘CRR126667_r2.fastq.gz’ saved [673240397]\n",
            "\n",
            "--2021-05-03 20:24:57--  ftp://download.big.ac.cn/gsa3/CRA002497/CRR126668/CRR126668_f1.fastq.gz\n",
            "           => ‘CRR126668_f1.fastq.gz’\n",
            "Resolving download.big.ac.cn (download.big.ac.cn)... 124.16.164.229\n",
            "Connecting to download.big.ac.cn (download.big.ac.cn)|124.16.164.229|:21... connected.\n",
            "Logging in as anonymous ... Logged in!\n",
            "==> SYST ... done.    ==> PWD ... done.\n",
            "==> TYPE I ... done.  ==> CWD (1) /gsa3/CRA002497/CRR126668 ... done.\n",
            "==> SIZE CRR126668_f1.fastq.gz ... 940535310\n",
            "==> PASV ... done.    ==> RETR CRR126668_f1.fastq.gz ... done.\n",
            "Length: 940535310 (897M) (unauthoritative)\n",
            "\n",
            "CRR126668_f1.fastq. 100%[===================>] 896.96M  16.2MB/s    in 64s     \n",
            "\n",
            "2021-05-03 20:26:03 (14.1 MB/s) - ‘CRR126668_f1.fastq.gz’ saved [940535310]\n",
            "\n",
            "--2021-05-03 20:26:03--  ftp://download.big.ac.cn/gsa3/CRA002497/CRR126668/CRR126668_r2.fastq.gz\n",
            "           => ‘CRR126668_r2.fastq.gz’\n",
            "Resolving download.big.ac.cn (download.big.ac.cn)... 124.16.164.229\n",
            "Connecting to download.big.ac.cn (download.big.ac.cn)|124.16.164.229|:21... connected.\n",
            "Logging in as anonymous ... Logged in!\n",
            "==> SYST ... done.    ==> PWD ... done.\n",
            "==> TYPE I ... done.  ==> CWD (1) /gsa3/CRA002497/CRR126668 ... done.\n",
            "==> SIZE CRR126668_r2.fastq.gz ... 999582641\n",
            "==> PASV ... done.    ==> RETR CRR126668_r2.fastq.gz ... done.\n",
            "Length: 999582641 (953M) (unauthoritative)\n",
            "\n",
            "CRR126668_r2.fastq. 100%[===================>] 953.28M  5.48MB/s    in 3m 49s  \n",
            "\n",
            "2021-05-03 20:29:54 (4.16 MB/s) - ‘CRR126668_r2.fastq.gz’ saved [999582641]\n",
            "\n",
            "--2021-05-03 20:29:54--  ftp://download.big.ac.cn/gsa3/CRA002497/CRR126669/CRR126669_f1.fastq.gz\n",
            "           => ‘CRR126669_f1.fastq.gz’\n",
            "Resolving download.big.ac.cn (download.big.ac.cn)... 124.16.164.229\n",
            "Connecting to download.big.ac.cn (download.big.ac.cn)|124.16.164.229|:21... connected.\n",
            "Logging in as anonymous ... Logged in!\n",
            "==> SYST ... done.    ==> PWD ... done.\n",
            "==> TYPE I ... done.  ==> CWD (1) /gsa3/CRA002497/CRR126669 ... done.\n",
            "==> SIZE CRR126669_f1.fastq.gz ... 1006042584\n",
            "==> PASV ... done.    ==> RETR CRR126669_f1.fastq.gz ... done.\n",
            "Length: 1006042584 (959M) (unauthoritative)\n",
            "\n",
            "CRR126669_f1.fastq. 100%[===================>] 959.44M  15.2MB/s    in 75s     \n",
            "\n",
            "2021-05-03 20:31:12 (12.8 MB/s) - ‘CRR126669_f1.fastq.gz’ saved [1006042584]\n",
            "\n",
            "--2021-05-03 20:31:12--  ftp://download.big.ac.cn/gsa3/CRA002497/CRR126669/CRR126669_r2.fastq.gz\n",
            "           => ‘CRR126669_r2.fastq.gz’\n",
            "Resolving download.big.ac.cn (download.big.ac.cn)... 124.16.164.229\n",
            "Connecting to download.big.ac.cn (download.big.ac.cn)|124.16.164.229|:21... connected.\n",
            "Logging in as anonymous ... Logged in!\n",
            "==> SYST ... done.    ==> PWD ... done.\n",
            "==> TYPE I ... done.  ==> CWD (1) /gsa3/CRA002497/CRR126669 ... done.\n",
            "==> SIZE CRR126669_r2.fastq.gz ... 1055403016\n",
            "==> PASV ... done.    ==> RETR CRR126669_r2.fastq.gz ... done.\n",
            "Length: 1055403016 (1007M) (unauthoritative)\n",
            "\n",
            "CRR126669_r2.fastq. 100%[===================>]   1007M  9.90MB/s    in 89s     \n",
            "\n",
            "2021-05-03 20:32:43 (11.4 MB/s) - ‘CRR126669_r2.fastq.gz’ saved [1055403016]\n",
            "\n",
            "--2021-05-03 20:32:43--  ftp://download.big.ac.cn/gsa3/CRA002497/CRR126670/CRR126670_f1.fastq.gz\n",
            "           => ‘CRR126670_f1.fastq.gz’\n",
            "Resolving download.big.ac.cn (download.big.ac.cn)... 124.16.164.229\n",
            "Connecting to download.big.ac.cn (download.big.ac.cn)|124.16.164.229|:21... connected.\n",
            "Logging in as anonymous ... Logged in!\n",
            "==> SYST ... done.    ==> PWD ... done.\n",
            "==> TYPE I ... done.  ==> CWD (1) /gsa3/CRA002497/CRR126670 ... done.\n",
            "==> SIZE CRR126670_f1.fastq.gz ... 705000956\n",
            "==> PASV ... done.    ==> RETR CRR126670_f1.fastq.gz ... done.\n",
            "Length: 705000956 (672M) (unauthoritative)\n",
            "\n",
            "CRR126670_f1.fastq. 100%[===================>] 672.34M  10.0MB/s    in 62s     \n",
            "\n",
            "2021-05-03 20:33:47 (10.8 MB/s) - ‘CRR126670_f1.fastq.gz’ saved [705000956]\n",
            "\n",
            "--2021-05-03 20:33:47--  ftp://download.big.ac.cn/gsa3/CRA002497/CRR126670/CRR126670_r2.fastq.gz\n",
            "           => ‘CRR126670_r2.fastq.gz’\n",
            "Resolving download.big.ac.cn (download.big.ac.cn)... 124.16.164.229\n",
            "Connecting to download.big.ac.cn (download.big.ac.cn)|124.16.164.229|:21... connected.\n",
            "Logging in as anonymous ... Logged in!\n",
            "==> SYST ... done.    ==> PWD ... done.\n",
            "==> TYPE I ... done.  ==> CWD (1) /gsa3/CRA002497/CRR126670 ... done.\n",
            "==> SIZE CRR126670_r2.fastq.gz ... 754745584\n",
            "==> PASV ... done.    ==> RETR CRR126670_r2.fastq.gz ... done.\n",
            "Length: 754745584 (720M) (unauthoritative)\n",
            "\n",
            "CRR126670_r2.fastq. 100%[===================>] 719.78M  12.2MB/s    in 61s     \n",
            "\n",
            "2021-05-03 20:34:51 (11.7 MB/s) - ‘CRR126670_r2.fastq.gz’ saved [754745584]\n",
            "\n"
          ],
          "name": "stdout"
        }
      ]
    },
    {
      "cell_type": "code",
      "metadata": {
        "id": "PC9oETW1pE9t",
        "colab": {
          "base_uri": "https://localhost:8080/"
        },
        "outputId": "572c78df-937b-45c1-9126-2aa43a6c3b21"
      },
      "source": [
        "if bam:\n",
        "  # Download the corresponding Kallisto index to folder containing fastqs\n",
        "  !kb ref -d $species_kb -i index.idx -g t2g.txt -f1 transcriptome.fasta\n",
        "\n",
        "if not bam and fastq_ffqlinks:\n",
        "  %cd /content\n",
        "\n",
        "  # Download the corresponding Kallisto index to content folder\n",
        "  !kb ref -d $species_kb -i index.idx -g t2g.txt -f1 transcriptome.fasta\n",
        "\n",
        "if not bam and not fastq_ffqlinks:\n",
        "  %cd /content/fastqs\n",
        "\n",
        "  # Download the corresponding Kallisto index to fastq folder\n",
        "  !kb ref -d $species_kb -i index.idx -g t2g.txt -f1 transcriptome.fasta"
      ],
      "execution_count": 10,
      "outputs": [
        {
          "output_type": "stream",
          "text": [
            "/content/fastqs\n",
            "[2021-05-03 20:34:55,472]    INFO Downloading files for human from https://caltech.box.com/shared/static/v1nm7lpnqz5syh8dyzdk2zs8bglncfib.gz to tmp/v1nm7lpnqz5syh8dyzdk2zs8bglncfib.gz\n",
            "100% 2.23G/2.23G [01:52<00:00, 21.2MB/s]\n",
            "[2021-05-03 20:36:49,246]    INFO Extracting files from tmp/v1nm7lpnqz5syh8dyzdk2zs8bglncfib.gz\n"
          ],
          "name": "stdout"
        }
      ]
    },
    {
      "cell_type": "code",
      "metadata": {
        "id": "vHVNa51Cp9Nr",
        "colab": {
          "base_uri": "https://localhost:8080/"
        },
        "outputId": "b01a2b84-765b-4a33-eac8-43f989a4f650"
      },
      "source": [
        "# Check to make sure the metadata is in the right order after sorting\n",
        "print(fastqs)"
      ],
      "execution_count": 11,
      "outputs": [
        {
          "output_type": "stream",
          "text": [
            "['CRR126659_f1.fastq.gz', 'CRR126659_r2.fastq.gz', 'CRR126660_f1.fastq.gz', 'CRR126660_r2.fastq.gz', 'CRR126661_f1.fastq.gz', 'CRR126661_r2.fastq.gz', 'CRR126662_f1.fastq.gz', 'CRR126662_r2.fastq.gz', 'CRR126663_f1.fastq.gz', 'CRR126663_r2.fastq.gz', 'CRR126664_f1.fastq.gz', 'CRR126664_r2.fastq.gz', 'CRR126665_f1.fastq.gz', 'CRR126665_r2.fastq.gz', 'CRR126666_f1.fastq.gz', 'CRR126666_r2.fastq.gz', 'CRR126667_f1.fastq.gz', 'CRR126667_r2.fastq.gz', 'CRR126668_f1.fastq.gz', 'CRR126668_r2.fastq.gz', 'CRR126669_f1.fastq.gz', 'CRR126669_r2.fastq.gz', 'CRR126670_f1.fastq.gz', 'CRR126670_r2.fastq.gz']\n"
          ],
          "name": "stdout"
        }
      ]
    },
    {
      "cell_type": "markdown",
      "metadata": {
        "id": "VInyuq1Dp7iz"
      },
      "source": [
        "# Process fastq files (modify kb command according to fastqs list)\n"
      ]
    },
    {
      "cell_type": "code",
      "metadata": {
        "id": "OcqtBuH-pRaX",
        "colab": {
          "base_uri": "https://localhost:8080/"
        },
        "outputId": "85ed6ad6-7041-49bc-f411-41b3283651ae"
      },
      "source": [
        "fastqs"
      ],
      "execution_count": 12,
      "outputs": [
        {
          "output_type": "execute_result",
          "data": {
            "text/plain": [
              "['CRR126659_f1.fastq.gz',\n",
              " 'CRR126659_r2.fastq.gz',\n",
              " 'CRR126660_f1.fastq.gz',\n",
              " 'CRR126660_r2.fastq.gz',\n",
              " 'CRR126661_f1.fastq.gz',\n",
              " 'CRR126661_r2.fastq.gz',\n",
              " 'CRR126662_f1.fastq.gz',\n",
              " 'CRR126662_r2.fastq.gz',\n",
              " 'CRR126663_f1.fastq.gz',\n",
              " 'CRR126663_r2.fastq.gz',\n",
              " 'CRR126664_f1.fastq.gz',\n",
              " 'CRR126664_r2.fastq.gz',\n",
              " 'CRR126665_f1.fastq.gz',\n",
              " 'CRR126665_r2.fastq.gz',\n",
              " 'CRR126666_f1.fastq.gz',\n",
              " 'CRR126666_r2.fastq.gz',\n",
              " 'CRR126667_f1.fastq.gz',\n",
              " 'CRR126667_r2.fastq.gz',\n",
              " 'CRR126668_f1.fastq.gz',\n",
              " 'CRR126668_r2.fastq.gz',\n",
              " 'CRR126669_f1.fastq.gz',\n",
              " 'CRR126669_r2.fastq.gz',\n",
              " 'CRR126670_f1.fastq.gz',\n",
              " 'CRR126670_r2.fastq.gz']"
            ]
          },
          "metadata": {
            "tags": []
          },
          "execution_count": 12
        }
      ]
    },
    {
      "cell_type": "code",
      "metadata": {
        "id": "5qFzPj-0kZTi",
        "colab": {
          "base_uri": "https://localhost:8080/"
        },
        "outputId": "32d4a379-6005-42b6-91b8-676fc299ab0b"
      },
      "source": [
        "# Specify the sample number and whether they are paired-ended\n",
        "\n",
        "\n",
        "if no_samples == 1:\n",
        "\n",
        "  # Write the kb count command as a string with all fastqs of the list as an input\n",
        "  cmd = \"kb count --h5ad -i index.idx -g t2g.txt -x \" + technology_kb + \" -o output\" + sample_id[0] + \" \"\\\n",
        "  + \"--filter bustools -t 2 --overwrite \" + \"'\" +  \"' '\".join(fastqs) + \"'\"\n",
        "  \n",
        "  # Execute it\n",
        "  !$cmd\n",
        "\n",
        "# If more than one sample, iterate through fastqs accordingly\n",
        "else:\n",
        "\n",
        "  # Initializa counter for fastq files\n",
        "  j = 0\n",
        "\n",
        "  # Loop over samples for analysis\n",
        "  for i in range(no_samples):\n",
        "\n",
        "    fastqs_to_analyze = fastqs[j:j + fastqs_per_sample[i]]\n",
        "    # Write the kb count command as a string\n",
        "    cmd = \"kb count --h5ad -i ../index.idx -g ../t2g.txt -x \" + technology_kb + \" -o output\" + sample_id[i] + \" \\\n",
        "    --filter bustools -t 2 --overwrite \" + \"'\" +  \"' '\".join(fastqs_to_analyze) + \"'\"\n",
        "\n",
        "    # Execute it\n",
        "    !$cmd\n",
        "\n",
        "    # Update j to move to the next set of fastq\n",
        "    j = j + fastqs_per_sample[i]\n",
        "\n",
        "\n",
        "\n",
        "\n",
        "\n"
      ],
      "execution_count": 13,
      "outputs": [
        {
          "output_type": "stream",
          "text": [
            "[2021-05-03 20:37:29,265]    INFO Using index index.idx to generate BUS file to outputCRX102293 from\n",
            "[2021-05-03 20:37:29,265]    INFO         CRR126659_f1.fastq.gz\n",
            "[2021-05-03 20:37:29,265]    INFO         CRR126659_r2.fastq.gz\n",
            "[2021-05-03 20:37:29,265]    INFO         CRR126660_f1.fastq.gz\n",
            "[2021-05-03 20:37:29,265]    INFO         CRR126660_r2.fastq.gz\n",
            "[2021-05-03 20:37:29,265]    INFO         CRR126661_f1.fastq.gz\n",
            "[2021-05-03 20:37:29,265]    INFO         CRR126661_r2.fastq.gz\n",
            "[2021-05-03 20:37:29,265]    INFO         CRR126662_f1.fastq.gz\n",
            "[2021-05-03 20:37:29,265]    INFO         CRR126662_r2.fastq.gz\n",
            "[2021-05-03 20:37:29,265]    INFO         CRR126663_f1.fastq.gz\n",
            "[2021-05-03 20:37:29,265]    INFO         CRR126663_r2.fastq.gz\n",
            "[2021-05-03 20:37:29,265]    INFO         CRR126664_f1.fastq.gz\n",
            "[2021-05-03 20:37:29,265]    INFO         CRR126664_r2.fastq.gz\n",
            "[2021-05-03 20:37:29,266]    INFO         CRR126665_f1.fastq.gz\n",
            "[2021-05-03 20:37:29,266]    INFO         CRR126665_r2.fastq.gz\n",
            "[2021-05-03 20:37:29,266]    INFO         CRR126666_f1.fastq.gz\n",
            "[2021-05-03 20:37:29,266]    INFO         CRR126666_r2.fastq.gz\n",
            "[2021-05-03 20:37:29,266]    INFO         CRR126667_f1.fastq.gz\n",
            "[2021-05-03 20:37:29,266]    INFO         CRR126667_r2.fastq.gz\n",
            "[2021-05-03 20:37:29,266]    INFO         CRR126668_f1.fastq.gz\n",
            "[2021-05-03 20:37:29,266]    INFO         CRR126668_r2.fastq.gz\n",
            "[2021-05-03 20:37:29,266]    INFO         CRR126669_f1.fastq.gz\n",
            "[2021-05-03 20:37:29,266]    INFO         CRR126669_r2.fastq.gz\n",
            "[2021-05-03 20:37:29,266]    INFO         CRR126670_f1.fastq.gz\n",
            "[2021-05-03 20:37:29,266]    INFO         CRR126670_r2.fastq.gz\n",
            "[2021-05-03 22:13:39,971]    INFO Sorting BUS file outputCRX102293/output.bus to outputCRX102293/tmp/output.s.bus\n",
            "[2021-05-03 22:17:02,648]    INFO Whitelist not provided\n",
            "[2021-05-03 22:17:02,649]    INFO Copying pre-packaged 10XV2 whitelist to outputCRX102293\n",
            "[2021-05-03 22:17:02,788]    INFO Inspecting BUS file outputCRX102293/tmp/output.s.bus\n",
            "[2021-05-03 22:17:34,421]    INFO Correcting BUS records in outputCRX102293/tmp/output.s.bus to outputCRX102293/tmp/output.s.c.bus with whitelist outputCRX102293/10xv2_whitelist.txt\n",
            "[2021-05-03 22:17:58,579]    INFO Sorting BUS file outputCRX102293/tmp/output.s.c.bus to outputCRX102293/output.unfiltered.bus\n",
            "[2021-05-03 22:19:09,727]    INFO Generating count matrix outputCRX102293/counts_unfiltered/cells_x_genes from BUS file outputCRX102293/output.unfiltered.bus\n",
            "[2021-05-03 22:19:57,178]    INFO Reading matrix outputCRX102293/counts_unfiltered/cells_x_genes.mtx\n",
            "[2021-05-03 22:20:23,104]    INFO Writing matrix to h5ad outputCRX102293/counts_unfiltered/adata.h5ad\n",
            "[2021-05-03 22:20:24,247]    INFO Filtering with bustools\n",
            "[2021-05-03 22:20:24,247]    INFO Generating whitelist outputCRX102293/filter_barcodes.txt from BUS file outputCRX102293/output.unfiltered.bus\n",
            "[2021-05-03 22:20:24,956]    INFO Correcting BUS records in outputCRX102293/output.unfiltered.bus to outputCRX102293/tmp/output.unfiltered.c.bus with whitelist outputCRX102293/filter_barcodes.txt\n",
            "[2021-05-03 22:20:48,877]    INFO Sorting BUS file outputCRX102293/tmp/output.unfiltered.c.bus to outputCRX102293/output.filtered.bus\n",
            "[2021-05-03 22:21:50,481]    INFO Generating count matrix outputCRX102293/counts_filtered/cells_x_genes from BUS file outputCRX102293/output.filtered.bus\n",
            "[2021-05-03 22:22:31,228]    INFO Reading matrix outputCRX102293/counts_filtered/cells_x_genes.mtx\n",
            "[2021-05-03 22:22:52,372]    INFO Writing matrix to h5ad outputCRX102293/counts_filtered/adata.h5ad\n"
          ],
          "name": "stdout"
        }
      ]
    },
    {
      "cell_type": "markdown",
      "metadata": {
        "id": "tDijOZzrqhN2"
      },
      "source": [
        "# Load unfiltered matrix and assign filters to each matrix individually"
      ]
    },
    {
      "cell_type": "markdown",
      "metadata": {
        "id": "VkNLZh_pNFFw"
      },
      "source": [
        "## Load the unfiltered matrix (check dimensions)"
      ]
    },
    {
      "cell_type": "code",
      "metadata": {
        "id": "PppRNeV8AIyw"
      },
      "source": [
        "# Define dict to store data\n",
        "results = {}\n"
      ],
      "execution_count": 15,
      "outputs": []
    },
    {
      "cell_type": "code",
      "metadata": {
        "cellView": "both",
        "id": "pKmtGf3c_BiZ",
        "colab": {
          "base_uri": "https://localhost:8080/"
        },
        "outputId": "24ca474d-52d9-40c3-91a9-bf0b163ee22c"
      },
      "source": [
        "# load the unfiltered matrix\n",
        "for i in range(no_samples):\n",
        "  results[sample_id[i]] = anndata.read_h5ad(\"output\" + sample_id[i] + \"/counts_unfiltered/adata.h5ad\")\n",
        "  results[sample_id[i]].var[\"gene_id\"] = results[sample_id[i]].var.index.values\n",
        "\n",
        "  t2g = pd.read_csv(\"t2g.txt\", header=None, names=[\"tid\", \"gene_id\", \"gene_name\"], sep=\"\\t\")\n",
        "  t2g.index = t2g.gene_id\n",
        "  t2g = t2g.loc[~t2g.index.duplicated(keep='first')]\n",
        "\n",
        "  results[sample_id[i]].var[\"gene_name\"] = results[sample_id[i]].var.gene_id.map(t2g[\"gene_name\"])\n",
        "  results[sample_id[i]].var.index = results[sample_id[i]].var[\"gene_name\"]\n",
        "  print(\"The unfiltered matrix \" + sample_id[i] + \" contains {} cells by {} genes\".format(len(results[sample_id[i]].obs), len(results[sample_id[i]].var)))\n",
        "\n",
        "  results[sample_id[i]].obs[\"cell_counts\"] = results[sample_id[i]].X.sum(axis=1)\n",
        "  results[sample_id[i]].var[\"gene_counts\"] = nd(results[sample_id[i]].X.sum(axis=0))\n",
        "\n",
        "  results[sample_id[i]].obs[\"n_genes\"] = nd((results[sample_id[i]].X>0).sum(axis=1))\n",
        "  results[sample_id[i]].var[\"n_cells\"] = nd((results[sample_id[i]].X>0).sum(axis=0))\n",
        "\n",
        "  mito_genes = results[sample_id[i]].var_names.str.startswith(\"MT-\" or \"mt-\") \n",
        "  results[sample_id[i]].obs[\"percent_mito\"] = results[sample_id[i]][:,mito_genes].X.sum(axis=1)/results[sample_id[i]].X.sum(axis=1)*100\n",
        "\n",
        "  # Changing the name of the index is necessary to write the file (it won't work with duplicated names)\n",
        "  results[sample_id[i]].var.index.name = \"index\"\n",
        "\n"
      ],
      "execution_count": 16,
      "outputs": [
        {
          "output_type": "stream",
          "text": [
            "The unfiltered matrix CRX102293 contains 275540 cells by 60623 genes\n"
          ],
          "name": "stdout"
        }
      ]
    },
    {
      "cell_type": "markdown",
      "metadata": {
        "id": "hDAUH3eH_2RA"
      },
      "source": [
        "## Assign filters for each matrix individually"
      ]
    },
    {
      "cell_type": "code",
      "metadata": {
        "id": "ukinuaKk_6Po"
      },
      "source": [
        "# Modify this manually to change sample after having assigned the \"expected_num_cells\" and \"mito_criteria\" parameters\n",
        "samp_n = 0\n",
        "\n",
        "\n",
        "# Filtering criteria\n",
        "cell_threshold = 100\n",
        "gene_threshold = 3\n",
        "\n",
        "mito_criteria = 30"
      ],
      "execution_count": 17,
      "outputs": []
    },
    {
      "cell_type": "code",
      "metadata": {
        "id": "a5wZB5pEfwNs",
        "colab": {
          "base_uri": "https://localhost:8080/",
          "height": 724
        },
        "cellView": "form",
        "outputId": "262d459b-dccf-451d-927d-c8b48738f8b3"
      },
      "source": [
        "\n",
        "expected_num_cells = 4500#@param {type:\"integer\"}\n",
        "knee = np.sort(nd(results[sample_id[samp_n]].X.sum(axis=1)))[::-1]\n",
        "\n",
        "fig, ax = plt.subplots(figsize=(5, 5))\n",
        "\n",
        "x = knee\n",
        "y = range(len(knee))\n",
        "\n",
        "ax.loglog(x, y, linewidth=5, color=\"g\")\n",
        "\n",
        "ax.axvline(x=knee[expected_num_cells], linewidth=3, color=\"k\")\n",
        "ax.axhline(y=expected_num_cells, linewidth=3, color=\"k\")\n",
        "\n",
        "ax.set_xlabel(\"UMI Counts\")\n",
        "ax.set_ylabel(\"Set of Barcodes\")\n",
        "\n",
        "plt.show()\n",
        "\n",
        "cell_threshold = knee[expected_num_cells]\n",
        "\n",
        "results[\"cell_threshold\" + sample_id[samp_n]] = knee[expected_num_cells]\n",
        "\n",
        "print (\"Cells were filtered down to \" + str(expected_num_cells) + \" with at least \" + str(cell_threshold) + \" UMIs\")\n",
        "\n",
        "\n",
        "mito_criteria = 23#@param {type:\"integer\"}\n",
        "results[\"mito_criteria\" + sample_id[samp_n]] = mito_criteria\n",
        "\n",
        "fig, ax = plt.subplots(figsize=(5,5))\n",
        "\n",
        "\n",
        "x = nd(results[sample_id[samp_n]].obs[\"cell_counts\"][results[sample_id[samp_n]].obs[\"cell_counts\"] > cell_threshold])\n",
        "y = nd(results[sample_id[samp_n]].obs[\"percent_mito\"][results[sample_id[samp_n]].obs[\"cell_counts\"] > cell_threshold])\n",
        "\n",
        "ax.scatter(x, y, color=\"green\", alpha=0.1)\n",
        "\n",
        "ax.axhline(y=mito_criteria, linestyle=\"--\", color=\"k\")\n",
        "\n",
        "\n",
        "ax.set_xlabel(\"UMI Counts\")\n",
        "ax.set_ylabel(\"Percent mito\")\n",
        "\n",
        "\n",
        "plt.show()\n",
        "\n",
        "print(\"We select \" + str(mito_criteria) + \" % as the mitochondrial content threshold\")"
      ],
      "execution_count": 21,
      "outputs": [
        {
          "output_type": "display_data",
          "data": {
            "image/png": "[encoded data removed]",
            "text/plain": [
              "<Figure size 360x360 with 1 Axes>"
            ]
          },
          "metadata": {
            "tags": [],
            "image/png": {
              "width": 358,
              "height": 337
            },
            "needs_background": "light"
          }
        },
        {
          "output_type": "stream",
          "text": [
            "Cells were filtered down to 4500 with at least 2763.0 UMIs\n"
          ],
          "name": "stdout"
        },
        {
          "output_type": "display_data",
          "data": {
            "image/png": "[encoded data removed]",
            "text/plain": [
              "<Figure size 360x360 with 1 Axes>"
            ]
          },
          "metadata": {
            "tags": [],
            "image/png": {
              "width": 363,
              "height": 339
            },
            "needs_background": "light"
          }
        },
        {
          "output_type": "stream",
          "text": [
            "We select 23 % as the mitochondrial content threshold\n"
          ],
          "name": "stdout"
        }
      ]
    },
    {
      "cell_type": "markdown",
      "metadata": {
        "id": "eP9j2ouPq9KY"
      },
      "source": [
        "# Filter matrix"
      ]
    },
    {
      "cell_type": "code",
      "metadata": {
        "id": "sE51WUA3gVmG",
        "colab": {
          "base_uri": "https://localhost:8080/"
        },
        "outputId": "64efdde8-5a8b-4715-a1d5-c4f190449288"
      },
      "source": [
        "for i in range(no_samples):\n",
        "  results[sample_id[i]].obs[\"pass_count_filter\"] = results[sample_id[i]].obs[\"cell_counts\"] > results[\"cell_threshold\" + sample_id[i]]\n",
        "  results[sample_id[i]].obs[\"pass_mito_filter\"] = results[sample_id[i]].obs.percent_mito < results[\"mito_criteria\" + sample_id[i]]\n",
        "  results[sample_id[i]].var[\"pass_gene_filter\"] = results[sample_id[i]].var[\"n_cells\"] > gene_threshold\n",
        "\n",
        "  cell_mask = np.logical_and(results[sample_id[i]].obs[\"pass_count_filter\"].values, results[sample_id[i]].obs[\"pass_mito_filter\"].values)\n",
        "  gene_mask = results[sample_id[i]].var[\"pass_gene_filter\"].values\n",
        "\n",
        "  print(\"Current Shape: {:,} cells x {:,} genes\".format(results[sample_id[i]].shape[0], results[sample_id[i]].shape[1]))\n",
        "  print(\"    New shape: {:,} cells x {:,} genes\".format(cell_mask.sum(), gene_mask.sum()))\n",
        "  results[\"data_\" + sample_id[i]] = results[sample_id[i]][cell_mask, gene_mask]"
      ],
      "execution_count": 22,
      "outputs": [
        {
          "output_type": "stream",
          "text": [
            "Current Shape: 275,540 cells x 60,623 genes\n",
            "    New shape: 4,443 cells x 27,829 genes\n"
          ],
          "name": "stdout"
        }
      ]
    },
    {
      "cell_type": "markdown",
      "metadata": {
        "id": "BxPA81yj4TlU"
      },
      "source": [
        "# Anotate and write the Anndata object"
      ]
    },
    {
      "cell_type": "code",
      "metadata": {
        "id": "O-q_Qj2U4kDU",
        "colab": {
          "base_uri": "https://localhost:8080/"
        },
        "outputId": "f8475b80-069a-4296-b93e-e165e83d1f65"
      },
      "source": [
        "for i in range(no_samples):\n",
        "\n",
        "\n",
        "  results[\"data_\" + sample_id[i]].uns[\"database_id\"] = database_id[i]\n",
        "\n",
        "  results[\"data_\" + sample_id[i]].uns[\"tissue\"] = tissue[i]\n",
        "\n",
        "  results[\"data_\" + sample_id[i]].uns[\"cell_type\"] = cell_type[i]\n",
        "\n",
        "  results[\"data_\" + sample_id[i]].uns[\"sample_id\"] = sample_id[i]\n",
        "\n",
        "  results[\"data_\" + sample_id[i]].uns[\"condition\"] = condition[i]\n",
        "\n",
        "  results[\"data_\" + sample_id[i]].uns[\"species\"] = species[i]\n",
        "\n",
        "  results[\"data_\" + sample_id[i]].uns[\"technology\"] = technology[i]\n",
        "\n",
        "  results[\"data_\" + sample_id[i]].uns[\"paper\"] = paper[i]\n",
        "\n",
        "  results[\"data_\" + sample_id[i]].uns[\"figure\"] = figure[i]\n",
        "\n",
        "\n",
        "%cd /content\n",
        "\n",
        "for i in range(no_samples):\n",
        "\n",
        "  results[\"data_\" + sample_id[i]].write(\"result\" + sample_id[i])"
      ],
      "execution_count": 23,
      "outputs": [
        {
          "output_type": "stream",
          "text": [
            "Trying to set attribute `.uns` of view, copying.\n",
            "Variable names are not unique. To make them unique, call `.var_names_make_unique`.\n",
            "Variable names are not unique. To make them unique, call `.var_names_make_unique`.\n"
          ],
          "name": "stderr"
        },
        {
          "output_type": "stream",
          "text": [
            "/content\n"
          ],
          "name": "stdout"
        },
        {
          "output_type": "stream",
          "text": [
            "... storing 'gene_name' as categorical\n"
          ],
          "name": "stderr"
        }
      ]
    }
  ]
}