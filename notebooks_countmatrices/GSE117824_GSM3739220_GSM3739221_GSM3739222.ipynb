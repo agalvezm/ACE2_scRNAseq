{
  "nbformat": 4,
  "nbformat_minor": 0,
  "metadata": {
    "colab": {
      "name": "GSE117824_GSM3739220_GSM3739221_GSM3739222.ipynb",
      "provenance": [],
      "collapsed_sections": [],
      "toc_visible": true,
      "authorship_tag": "ABX9TyNUhZJY2KYKPe9nIOGMYnxX",
      "include_colab_link": true
    },
    "kernelspec": {
      "name": "python3",
      "display_name": "Python 3"
    }
  },
  "cells": [
    {
      "cell_type": "markdown",
      "metadata": {
        "id": "view-in-github",
        "colab_type": "text"
      },
      "source": [
        "<a href=\"https://colab.research.google.com/github/agalvezm/ACE2_scRNAseq/blob/master/notebooks_countmatrices/GSE117824_GSM3739220_GSM3739221_GSM3739222.ipynb\" target=\"_parent\"><img src=\"https://colab.research.google.com/assets/colab-badge.svg\" alt=\"Open In Colab\"/></a>"
      ]
    },
    {
      "cell_type": "markdown",
      "metadata": {
        "id": "V9ryXluJsJw9"
      },
      "source": [
        "# GSE117824_GSM3739220_GSM3739221_GSM3739222"
      ]
    },
    {
      "cell_type": "code",
      "metadata": {
        "id": "ggNFAQJCRh6P"
      },
      "source": [
        "# define the values for the analysis\n",
        "\n",
        "# accession id for the data\n",
        "id = \"GSE117824\"\n",
        "samp_id = [\"GSM3739220\", \"GSM3739221\", \"GSM3739222\"]\n",
        "\n",
        "# If only bam available files, set bam = True, Fill link and filename\n",
        "bam = False\n",
        "\n",
        "fastq_ffqlinks = False\n",
        "\n",
        "if bam:\n",
        "  # Assign link to python variable\n",
        "  link_to_bam = \"ftp://ftp.sra.ebi.ac.uk/vol1/run/SRR638/SRR6389864/possorted_genome_bam.bam\"\n",
        "  \n",
        "  # Assigns the link to the bash variable BAM_LINK. To be used by wget\n",
        "  %env BAM_LINK=$link_to_bam\n",
        "\n",
        "  # Assign filename to python variable. Used to convert to fastq and remove bam file to fastq after conversion\n",
        "\n",
        "  bam_filename=\"possorted_genome_bam.bam\"\n",
        "\n",
        "if not bam:\n",
        "  fastqs = [\"https://sra-pub-src-2.s3.amazonaws.com/SRR8987937/MF04_FC_S3_L003_R1_001.fastq.gz\"\t,\n",
        "            \"https://sra-pub-src-2.s3.amazonaws.com/SRR8987937/MF04_FC_S3_L003_R2_001.fastq.gz\",\n",
        "\n",
        "\"https://sra-pub-src-2.s3.amazonaws.com/SRR8987938/MF04_FC_S3_L004_R1_001.fastq.gz\",\n",
        "\t\"https://sra-pub-src-2.s3.amazonaws.com/SRR8987938/MF04_FC_S3_L004_R2_001.fastq.gz\",\n",
        "\n",
        "\"https://sra-pub-src-2.s3.amazonaws.com/SRR8987939/MF04_FC_S3_L005_R1_001.fastq.gz\",\n",
        "\t\"https://sra-pub-src-2.s3.amazonaws.com/SRR8987939/MF04_FC_S3_L005_R2_001.fastq.gz\",\n",
        "\n",
        "\"https://sra-pub-src-2.s3.amazonaws.com/SRR8987940/MF04_FC_S3_L006_R1_001.fastq.gz\",\n",
        "\t\"https://sra-pub-src-2.s3.amazonaws.com/SRR8987940/MF04_FC_S3_L006_R2_001.fastq.gz\",\n",
        "\n",
        "\"https://sra-pub-src-2.s3.amazonaws.com/SRR8987942/MF05_GSe_S4_L004_R1_001.fastq.gz\", \n",
        "\"\thttps://sra-pub-src-2.s3.amazonaws.com/SRR8987942/MF05_GSe_S4_L004_R2_001.fastq.gz\",\n",
        "\n",
        "\"https://sra-pub-src-2.s3.amazonaws.com/SRR8987941/MF05_GSe_S4_L003_R1_001.fastq.gz\",\n",
        "\"\thttps://sra-pub-src-2.s3.amazonaws.com/SRR8987941/MF05_GSe_S4_L003_R2_001.fastq.gz\",\n",
        "\n",
        "\"https://sra-pub-src-2.s3.amazonaws.com/SRR8987944/MF05_GSe_S4_L006_R1_001.fastq.gz\",\n",
        "\"\thttps://sra-pub-src-2.s3.amazonaws.com/SRR8987944/MF05_GSe_S4_L006_R2_001.fastq.gz\",\n",
        "\n",
        "\"https://sra-pub-src-2.s3.amazonaws.com/SRR8987943/MF05_GSe_S4_L005_R1_001.fastq.gz\",\n",
        "\"\thttps://sra-pub-src-2.s3.amazonaws.com/SRR8987943/MF05_GSe_S4_L005_R2_001.fastq.gz\",\n",
        "\n",
        "\"https://sra-pub-src-2.s3.amazonaws.com/SRR8987945/JAK2-Patient_1_S1_L001_R1_001.fastq.gz\",\n",
        "\t\"https://sra-pub-src-2.s3.amazonaws.com/SRR8987945/JAK2-Patient_1_S1_L001_R2_001.fastq.gz\",\n",
        "\n",
        "\"https://sra-pub-src-2.s3.amazonaws.com/SRR8987946/JAK2-Patient_1_S1_L002_R1_001.fastq.gz\",\n",
        "\t\"https://sra-pub-src-2.s3.amazonaws.com/SRR8987946/JAK2-Patient_1_S1_L002_R2_001.fastq.gz\"\n",
        "\n",
        "           ]\n"
      ],
      "execution_count": 1,
      "outputs": []
    },
    {
      "cell_type": "code",
      "metadata": {
        "id": "5R3tPDqnoJUn"
      },
      "source": [
        "no_samples = 3\n",
        "\n",
        "fastqs_per_sample = [4, 8, 8] \n",
        "\n",
        "sample_id = samp_id\n",
        "\n",
        "database_id = [id] * no_samples\n",
        "\n",
        "tissue = [\"blood\"] * no_samples\n",
        "\n",
        "cell_type = [\"bone marrow\"] * no_samples\n",
        "\n",
        "condition = [\"ET09\", \"MF03\", \"MF04\"] * no_samples\n",
        "\n",
        "species = [\"human\"] * no_samples\n",
        "\n",
        "technology = [\"10xv2\"] * no_samples\n",
        "\n",
        "paper = [\"Muus et al 2020\"] * no_samples\n",
        "\n",
        "figure = [\"Fig 1 a,b  ED Fig 1 a,b,c,d  ED Fig 2 a,b,c,d,e\"] * no_samples\n",
        "\n",
        "\n",
        "# Set string variables for kb functions\n",
        "\n",
        "species_kb = species[0]\n",
        "\n",
        "technology_kb = technology[0]\n",
        "\n"
      ],
      "execution_count": 16,
      "outputs": []
    },
    {
      "cell_type": "markdown",
      "metadata": {
        "id": "FPwL0-_-KSAw"
      },
      "source": [
        "# Imports and installs"
      ]
    },
    {
      "cell_type": "code",
      "metadata": {
        "id": "1HSlUGZEp3oP",
        "outputId": "ac486d3a-a0b3-4046-d370-4e0b5fdcb1aa",
        "colab": {
          "base_uri": "https://localhost:8080/",
          "height": 187
        }
      },
      "source": [
        "# install and import necessary software\n",
        "\n",
        "# Install kb and scanpy\n",
        "!pip -q install kb-python \n",
        "!pip -q install scanpy\n",
        "\n",
        "import re\n",
        "import os\n",
        "\n",
        "# Setup\n",
        "\n",
        "import anndata\n",
        "import pandas as pd\n",
        "import numpy as np\n",
        "import matplotlib.pyplot as plt\n",
        "import matplotlib as mpl\n",
        "import matplotlib.patches as mpatches\n",
        "import scanpy as sc\n",
        "from scipy import stats\n",
        "\n",
        "from collections import OrderedDict\n",
        "from sklearn.decomposition import TruncatedSVD\n",
        "from sklearn.manifold import TSNE\n",
        "from sklearn.preprocessing import scale\n",
        "\n",
        "from sklearn.cluster import KMeans\n",
        "from sklearn.preprocessing import normalize\n",
        "from sklearn.preprocessing import LabelEncoder\n",
        "from sklearn.neighbors import NeighborhoodComponentsAnalysis\n",
        "from matplotlib import cm\n",
        "from matplotlib.lines import Line2D\n",
        "\n",
        "def nd(arr):\n",
        "    return np.asarray(arr).reshape(-1)\n",
        "def yex(ax):\n",
        "    lims = [np.min([ax.get_xlim(), ax.get_ylim()]),\n",
        "            np.max([ax.get_xlim(), ax.get_ylim()])]\n",
        "\n",
        "    # now plot both limits against eachother\n",
        "    ax.plot(lims, lims, 'k-', alpha=0.75, zorder=0)\n",
        "    ax.set_aspect('equal')\n",
        "    ax.set_xlim(lims)\n",
        "    ax.set_ylim(lims)\n",
        "    return ax\n",
        "\n",
        "def trim_axs(axs, N):\n",
        "    \"\"\"little helper to massage the axs list to have correct length...\"\"\"\n",
        "    axs = axs.flat\n",
        "    for ax in axs[N:]:\n",
        "        ax.remove()\n",
        "    return axs[:N]\n",
        "\n",
        "import warnings\n",
        "warnings.filterwarnings('ignore')\n",
        "\n",
        "fsize=20\n",
        "\n",
        "plt.rcParams.update({'font.size': fsize})\n",
        "%config InlineBackend.figure_format = 'retina'"
      ],
      "execution_count": 3,
      "outputs": [
        {
          "output_type": "stream",
          "text": [
            "\u001b[K     |████████████████████████████████| 35.4MB 1.5MB/s \n",
            "\u001b[K     |████████████████████████████████| 51kB 5.6MB/s \n",
            "\u001b[K     |████████████████████████████████| 122kB 45.0MB/s \n",
            "\u001b[K     |████████████████████████████████| 112kB 44.3MB/s \n",
            "\u001b[?25h  Building wheel for loompy (setup.py) ... \u001b[?25l\u001b[?25hdone\n",
            "  Building wheel for numpy-groupies (setup.py) ... \u001b[?25l\u001b[?25hdone\n",
            "\u001b[K     |████████████████████████████████| 7.7MB 3.9MB/s \n",
            "\u001b[K     |████████████████████████████████| 61kB 5.2MB/s \n",
            "\u001b[K     |████████████████████████████████| 51kB 5.2MB/s \n",
            "\u001b[?25h  Building wheel for sinfo (setup.py) ... \u001b[?25l\u001b[?25hdone\n"
          ],
          "name": "stdout"
        }
      ]
    },
    {
      "cell_type": "markdown",
      "metadata": {
        "id": "7V6FbosVrvP4"
      },
      "source": [
        "# Downloads: (bam (*if bam*), fastqs (*if not fastq_ffqlinks*) and index"
      ]
    },
    {
      "cell_type": "code",
      "metadata": {
        "id": "q46hw4zqKUPS"
      },
      "source": [
        "if bam:\n",
        "\n",
        "  # Install bamtofastq from 10x website (only bam files available)\n",
        "  !wget http://cf.10xgenomics.com/misc/bamtofastq-1.2.0\n",
        "  !chmod +x bamtofastq-1.2.0\n",
        "  # Download the bam file\n",
        "  !wget -- continue ${BAM_LINK}\n",
        "\n",
        "\n"
      ],
      "execution_count": 4,
      "outputs": []
    },
    {
      "cell_type": "code",
      "metadata": {
        "id": "tDQlrjtqNF0m"
      },
      "source": [
        "if bam:\n",
        "  # Convert to fastq\n",
        "  !./bamtofastq-1.2.0 --reads-per-fastq=500000000 $bam_filename ./fastqs\\\n",
        "\n",
        "  # Remove original bam file to save space\n",
        "  !rm $bam_filename\n"
      ],
      "execution_count": 5,
      "outputs": []
    },
    {
      "cell_type": "code",
      "metadata": {
        "id": "SXRDRphvqcLe"
      },
      "source": [
        "# Store fastq names on a list\n",
        "\n",
        "if bam:\n",
        "  # cd into fastqs folder\n",
        "  %cd /content/fastqs\n",
        "\n",
        "  #store the name of the folder generated by bamtofastq\n",
        "  _filename = os.listdir()[0]\n",
        "\n",
        "  # cd into that folder\n",
        "  %cd $_filename\n",
        "\n",
        "  # store fastq names in a list\n",
        "  fastqs = os.listdir()\n",
        "\n",
        "\n",
        "  # Remove I1 and R3 reads not relevant for our analysis\n",
        "\n",
        "  # Initialize list containing elements to remove\n",
        "  remov_elem = []\n",
        "\n",
        "  print (\"\\n\\nThis is the complete list of fastqs:\\n -----------\")\n",
        "  for elem in fastqs:\n",
        "    print (elem)\n",
        "\n",
        "  # Search index (I1 or R3) fastqs and remove them from list\n",
        "  for elem in fastqs:\n",
        "    if re.search(\"_R3_\", elem) or re.search(\"_I1_\", elem):\n",
        "      remov_elem = remov_elem +[elem]\n",
        "\n",
        "  fastqs = [elem for elem in fastqs if elem not in remov_elem] \n",
        "\n",
        "  print (\"\\n\\nThis is the filtered list of fastqs:\\n -----------\")\n",
        "  for elem in fastqs:\n",
        "    print (elem)\n"
      ],
      "execution_count": 6,
      "outputs": []
    },
    {
      "cell_type": "code",
      "metadata": {
        "id": "ZnFcqcSgjLBw"
      },
      "source": [
        "# Remove fastqs that wont be analyzed to save space\n",
        "if bam:\n",
        "  for elem in remov_elem:\n",
        "    !rm $elem"
      ],
      "execution_count": 7,
      "outputs": []
    },
    {
      "cell_type": "code",
      "metadata": {
        "id": "FLVS8aB7Dm6J"
      },
      "source": [
        "if bam:\n",
        "  # sort fastqs alphabetically to get R1 and R2 in order\n",
        "  fastqs = sorted(fastqs)"
      ],
      "execution_count": 8,
      "outputs": []
    },
    {
      "cell_type": "code",
      "metadata": {
        "id": "NdLvr6IU47KT",
        "outputId": "693dabed-138b-4f17-aca2-fc8b365bec4e",
        "colab": {
          "base_uri": "https://localhost:8080/",
          "height": 1000
        }
      },
      "source": [
        "# wget fastqs from non ffq links in fastqs folder\n",
        "if not bam and not fastq_ffqlinks:\n",
        "  !mkdir fastqs\n",
        "  %cd fastqs\n",
        "  for link in fastqs:\n",
        "    !wget $link --continue\n",
        "\n",
        "# update fastqs variable with name of files\n",
        "fastqs = os.listdir()"
      ],
      "execution_count": 9,
      "outputs": [
        {
          "output_type": "stream",
          "text": [
            "/content/fastqs\n",
            "--2020-10-06 19:42:02--  https://sra-pub-src-2.s3.amazonaws.com/SRR8987937/MF04_FC_S3_L003_R1_001.fastq.gz\n",
            "Resolving sra-pub-src-2.s3.amazonaws.com (sra-pub-src-2.s3.amazonaws.com)... 52.217.41.36\n",
            "Connecting to sra-pub-src-2.s3.amazonaws.com (sra-pub-src-2.s3.amazonaws.com)|52.217.41.36|:443... connected.\n",
            "HTTP request sent, awaiting response... 200 OK\n",
            "Length: 1066957338 (1018M) [application/x-troff-man]\n",
            "Saving to: ‘MF04_FC_S3_L003_R1_001.fastq.gz’\n",
            "\n",
            "MF04_FC_S3_L003_R1_ 100%[===================>]   1018M  36.5MB/s    in 26s     \n",
            "\n",
            "2020-10-06 19:42:29 (38.5 MB/s) - ‘MF04_FC_S3_L003_R1_001.fastq.gz’ saved [1066957338/1066957338]\n",
            "\n",
            "--2020-10-06 19:42:29--  https://sra-pub-src-2.s3.amazonaws.com/SRR8987937/MF04_FC_S3_L003_R2_001.fastq.gz\n",
            "Resolving sra-pub-src-2.s3.amazonaws.com (sra-pub-src-2.s3.amazonaws.com)... 52.217.85.132\n",
            "Connecting to sra-pub-src-2.s3.amazonaws.com (sra-pub-src-2.s3.amazonaws.com)|52.217.85.132|:443... connected.\n",
            "HTTP request sent, awaiting response... 200 OK\n",
            "Length: 4062067276 (3.8G) [application/x-troff-man]\n",
            "Saving to: ‘MF04_FC_S3_L003_R2_001.fastq.gz’\n",
            "\n",
            "MF04_FC_S3_L003_R2_ 100%[===================>]   3.78G  29.6MB/s    in 1m 46s  \n",
            "\n",
            "2020-10-06 19:44:16 (36.5 MB/s) - ‘MF04_FC_S3_L003_R2_001.fastq.gz’ saved [4062067276/4062067276]\n",
            "\n",
            "--2020-10-06 19:44:16--  https://sra-pub-src-2.s3.amazonaws.com/SRR8987938/MF04_FC_S3_L004_R1_001.fastq.gz\n",
            "Resolving sra-pub-src-2.s3.amazonaws.com (sra-pub-src-2.s3.amazonaws.com)... 52.216.93.27\n",
            "Connecting to sra-pub-src-2.s3.amazonaws.com (sra-pub-src-2.s3.amazonaws.com)|52.216.93.27|:443... connected.\n",
            "HTTP request sent, awaiting response... 200 OK\n",
            "Length: 1085566761 (1.0G) [application/x-troff-man]\n",
            "Saving to: ‘MF04_FC_S3_L004_R1_001.fastq.gz’\n",
            "\n",
            "MF04_FC_S3_L004_R1_ 100%[===================>]   1.01G  41.3MB/s    in 25s     \n",
            "\n",
            "2020-10-06 19:44:41 (40.9 MB/s) - ‘MF04_FC_S3_L004_R1_001.fastq.gz’ saved [1085566761/1085566761]\n",
            "\n",
            "--2020-10-06 19:44:42--  https://sra-pub-src-2.s3.amazonaws.com/SRR8987938/MF04_FC_S3_L004_R2_001.fastq.gz\n",
            "Resolving sra-pub-src-2.s3.amazonaws.com (sra-pub-src-2.s3.amazonaws.com)... 52.216.242.100\n",
            "Connecting to sra-pub-src-2.s3.amazonaws.com (sra-pub-src-2.s3.amazonaws.com)|52.216.242.100|:443... connected.\n",
            "HTTP request sent, awaiting response... 200 OK\n",
            "Length: 4111117597 (3.8G) [application/x-troff-man]\n",
            "Saving to: ‘MF04_FC_S3_L004_R2_001.fastq.gz’\n",
            "\n",
            "MF04_FC_S3_L004_R2_ 100%[===================>]   3.83G  6.15MB/s    in 17m 15s \n",
            "\n",
            "2020-10-06 20:01:57 (3.79 MB/s) - ‘MF04_FC_S3_L004_R2_001.fastq.gz’ saved [4111117597/4111117597]\n",
            "\n",
            "--2020-10-06 20:01:57--  https://sra-pub-src-2.s3.amazonaws.com/SRR8987939/MF04_FC_S3_L005_R1_001.fastq.gz\n",
            "Resolving sra-pub-src-2.s3.amazonaws.com (sra-pub-src-2.s3.amazonaws.com)... 52.217.65.220\n",
            "Connecting to sra-pub-src-2.s3.amazonaws.com (sra-pub-src-2.s3.amazonaws.com)|52.217.65.220|:443... connected.\n",
            "HTTP request sent, awaiting response... 200 OK\n",
            "Length: 567922332 (542M) [application/x-troff-man]\n",
            "Saving to: ‘MF04_FC_S3_L005_R1_001.fastq.gz’\n",
            "\n",
            "MF04_FC_S3_L005_R1_ 100%[===================>] 541.61M  44.7MB/s    in 14s     \n",
            "\n",
            "2020-10-06 20:02:12 (39.2 MB/s) - ‘MF04_FC_S3_L005_R1_001.fastq.gz’ saved [567922332/567922332]\n",
            "\n",
            "--2020-10-06 20:02:12--  https://sra-pub-src-2.s3.amazonaws.com/SRR8987939/MF04_FC_S3_L005_R2_001.fastq.gz\n",
            "Resolving sra-pub-src-2.s3.amazonaws.com (sra-pub-src-2.s3.amazonaws.com)... 52.217.84.188\n",
            "Connecting to sra-pub-src-2.s3.amazonaws.com (sra-pub-src-2.s3.amazonaws.com)|52.217.84.188|:443... connected.\n",
            "HTTP request sent, awaiting response... 200 OK\n",
            "Length: 2164229144 (2.0G) [application/x-troff-man]\n",
            "Saving to: ‘MF04_FC_S3_L005_R2_001.fastq.gz’\n",
            "\n",
            "MF04_FC_S3_L005_R2_ 100%[===================>]   2.01G  41.7MB/s    in 54s     \n",
            "\n",
            "2020-10-06 20:03:06 (37.9 MB/s) - ‘MF04_FC_S3_L005_R2_001.fastq.gz’ saved [2164229144/2164229144]\n",
            "\n",
            "--2020-10-06 20:03:07--  https://sra-pub-src-2.s3.amazonaws.com/SRR8987940/MF04_FC_S3_L006_R1_001.fastq.gz\n",
            "Resolving sra-pub-src-2.s3.amazonaws.com (sra-pub-src-2.s3.amazonaws.com)... 52.217.82.172\n",
            "Connecting to sra-pub-src-2.s3.amazonaws.com (sra-pub-src-2.s3.amazonaws.com)|52.217.82.172|:443... connected.\n",
            "HTTP request sent, awaiting response... 200 OK\n",
            "Length: 556038686 (530M) [application/x-troff-man]\n",
            "Saving to: ‘MF04_FC_S3_L006_R1_001.fastq.gz’\n",
            "\n",
            "MF04_FC_S3_L006_R1_ 100%[===================>] 530.28M  35.2MB/s    in 14s     \n",
            "\n",
            "2020-10-06 20:03:21 (38.1 MB/s) - ‘MF04_FC_S3_L006_R1_001.fastq.gz’ saved [556038686/556038686]\n",
            "\n",
            "--2020-10-06 20:03:21--  https://sra-pub-src-2.s3.amazonaws.com/SRR8987940/MF04_FC_S3_L006_R2_001.fastq.gz\n",
            "Resolving sra-pub-src-2.s3.amazonaws.com (sra-pub-src-2.s3.amazonaws.com)... 52.216.237.43\n",
            "Connecting to sra-pub-src-2.s3.amazonaws.com (sra-pub-src-2.s3.amazonaws.com)|52.216.237.43|:443... connected.\n",
            "HTTP request sent, awaiting response... 200 OK\n",
            "Length: 2194488073 (2.0G) [application/x-troff-man]\n",
            "Saving to: ‘MF04_FC_S3_L006_R2_001.fastq.gz’\n",
            "\n",
            "MF04_FC_S3_L006_R2_ 100%[===================>]   2.04G  39.2MB/s    in 53s     \n",
            "\n",
            "2020-10-06 20:04:15 (39.2 MB/s) - ‘MF04_FC_S3_L006_R2_001.fastq.gz’ saved [2194488073/2194488073]\n",
            "\n",
            "--2020-10-06 20:04:15--  https://sra-pub-src-2.s3.amazonaws.com/SRR8987942/MF05_GSe_S4_L004_R1_001.fastq.gz\n",
            "Resolving sra-pub-src-2.s3.amazonaws.com (sra-pub-src-2.s3.amazonaws.com)... 52.217.92.180\n",
            "Connecting to sra-pub-src-2.s3.amazonaws.com (sra-pub-src-2.s3.amazonaws.com)|52.217.92.180|:443... connected.\n",
            "HTTP request sent, awaiting response... 200 OK\n",
            "Length: 1058380697 (1009M) [application/x-troff-man]\n",
            "Saving to: ‘MF05_GSe_S4_L004_R1_001.fastq.gz’\n",
            "\n",
            "MF05_GSe_S4_L004_R1 100%[===================>]   1009M  36.2MB/s    in 27s     \n",
            "\n",
            "2020-10-06 20:04:42 (38.0 MB/s) - ‘MF05_GSe_S4_L004_R1_001.fastq.gz’ saved [1058380697/1058380697]\n",
            "\n",
            "--2020-10-06 20:04:42--  https://sra-pub-src-2.s3.amazonaws.com/SRR8987942/MF05_GSe_S4_L004_R2_001.fastq.gz\n",
            "Resolving sra-pub-src-2.s3.amazonaws.com (sra-pub-src-2.s3.amazonaws.com)... 52.217.67.92\n",
            "Connecting to sra-pub-src-2.s3.amazonaws.com (sra-pub-src-2.s3.amazonaws.com)|52.217.67.92|:443... connected.\n",
            "HTTP request sent, awaiting response... 200 OK\n",
            "Length: 4009268287 (3.7G) [application/x-troff-man]\n",
            "Saving to: ‘MF05_GSe_S4_L004_R2_001.fastq.gz’\n",
            "\n",
            "MF05_GSe_S4_L004_R2 100%[===================>]   3.73G  40.9MB/s    in 1m 41s  \n",
            "\n",
            "2020-10-06 20:06:24 (37.8 MB/s) - ‘MF05_GSe_S4_L004_R2_001.fastq.gz’ saved [4009268287/4009268287]\n",
            "\n",
            "--2020-10-06 20:06:24--  https://sra-pub-src-2.s3.amazonaws.com/SRR8987941/MF05_GSe_S4_L003_R1_001.fastq.gz\n",
            "Resolving sra-pub-src-2.s3.amazonaws.com (sra-pub-src-2.s3.amazonaws.com)... 52.216.92.67\n",
            "Connecting to sra-pub-src-2.s3.amazonaws.com (sra-pub-src-2.s3.amazonaws.com)|52.216.92.67|:443... connected.\n",
            "HTTP request sent, awaiting response... 200 OK\n",
            "Length: 1044715357 (996M) [application/x-troff-man]\n",
            "Saving to: ‘MF05_GSe_S4_L003_R1_001.fastq.gz’\n",
            "\n",
            "MF05_GSe_S4_L003_R1 100%[===================>] 996.32M  36.0MB/s    in 26s     \n",
            "\n",
            "2020-10-06 20:06:50 (39.0 MB/s) - ‘MF05_GSe_S4_L003_R1_001.fastq.gz’ saved [1044715357/1044715357]\n",
            "\n",
            "--2020-10-06 20:06:50--  https://sra-pub-src-2.s3.amazonaws.com/SRR8987941/MF05_GSe_S4_L003_R2_001.fastq.gz\n",
            "Resolving sra-pub-src-2.s3.amazonaws.com (sra-pub-src-2.s3.amazonaws.com)... 52.217.100.100\n",
            "Connecting to sra-pub-src-2.s3.amazonaws.com (sra-pub-src-2.s3.amazonaws.com)|52.217.100.100|:443... connected.\n",
            "HTTP request sent, awaiting response... 200 OK\n",
            "Length: 3972413269 (3.7G) [application/x-troff-man]\n",
            "Saving to: ‘MF05_GSe_S4_L003_R2_001.fastq.gz’\n",
            "\n",
            "MF05_GSe_S4_L003_R2 100%[===================>]   3.70G  39.5MB/s    in 2m 16s  \n",
            "\n",
            "2020-10-06 20:09:07 (27.8 MB/s) - ‘MF05_GSe_S4_L003_R2_001.fastq.gz’ saved [3972413269/3972413269]\n",
            "\n",
            "--2020-10-06 20:09:07--  https://sra-pub-src-2.s3.amazonaws.com/SRR8987944/MF05_GSe_S4_L006_R1_001.fastq.gz\n",
            "Resolving sra-pub-src-2.s3.amazonaws.com (sra-pub-src-2.s3.amazonaws.com)... 52.216.250.108\n",
            "Connecting to sra-pub-src-2.s3.amazonaws.com (sra-pub-src-2.s3.amazonaws.com)|52.216.250.108|:443... connected.\n",
            "HTTP request sent, awaiting response... 200 OK\n",
            "Length: 542944520 (518M) [application/x-troff-man]\n",
            "Saving to: ‘MF05_GSe_S4_L006_R1_001.fastq.gz’\n",
            "\n",
            "MF05_GSe_S4_L006_R1 100%[===================>] 517.79M  43.6MB/s    in 13s     \n",
            "\n",
            "2020-10-06 20:09:20 (39.7 MB/s) - ‘MF05_GSe_S4_L006_R1_001.fastq.gz’ saved [542944520/542944520]\n",
            "\n",
            "--2020-10-06 20:09:20--  https://sra-pub-src-2.s3.amazonaws.com/SRR8987944/MF05_GSe_S4_L006_R2_001.fastq.gz\n",
            "Resolving sra-pub-src-2.s3.amazonaws.com (sra-pub-src-2.s3.amazonaws.com)... 52.216.89.180\n",
            "Connecting to sra-pub-src-2.s3.amazonaws.com (sra-pub-src-2.s3.amazonaws.com)|52.216.89.180|:443... connected.\n",
            "HTTP request sent, awaiting response... 200 OK\n",
            "Length: 2144724054 (2.0G) [application/x-troff-man]\n",
            "Saving to: ‘MF05_GSe_S4_L006_R2_001.fastq.gz’\n",
            "\n",
            "MF05_GSe_S4_L006_R2 100%[===================>]   2.00G  35.3MB/s    in 54s     \n",
            "\n",
            "2020-10-06 20:10:15 (37.7 MB/s) - ‘MF05_GSe_S4_L006_R2_001.fastq.gz’ saved [2144724054/2144724054]\n",
            "\n",
            "--2020-10-06 20:10:15--  https://sra-pub-src-2.s3.amazonaws.com/SRR8987943/MF05_GSe_S4_L005_R1_001.fastq.gz\n",
            "Resolving sra-pub-src-2.s3.amazonaws.com (sra-pub-src-2.s3.amazonaws.com)... 52.216.18.32\n",
            "Connecting to sra-pub-src-2.s3.amazonaws.com (sra-pub-src-2.s3.amazonaws.com)|52.216.18.32|:443... connected.\n",
            "HTTP request sent, awaiting response... 200 OK\n",
            "Length: 553440867 (528M) [application/x-troff-man]\n",
            "Saving to: ‘MF05_GSe_S4_L005_R1_001.fastq.gz’\n",
            "\n",
            "MF05_GSe_S4_L005_R1 100%[===================>] 527.80M  35.4MB/s    in 15s     \n",
            "\n",
            "2020-10-06 20:10:30 (36.2 MB/s) - ‘MF05_GSe_S4_L005_R1_001.fastq.gz’ saved [553440867/553440867]\n",
            "\n",
            "--2020-10-06 20:10:30--  https://sra-pub-src-2.s3.amazonaws.com/SRR8987943/MF05_GSe_S4_L005_R2_001.fastq.gz\n",
            "Resolving sra-pub-src-2.s3.amazonaws.com (sra-pub-src-2.s3.amazonaws.com)... 52.216.9.163\n",
            "Connecting to sra-pub-src-2.s3.amazonaws.com (sra-pub-src-2.s3.amazonaws.com)|52.216.9.163|:443... connected.\n",
            "HTTP request sent, awaiting response... 200 OK\n",
            "Length: 2111010149 (2.0G) [application/x-troff-man]\n",
            "Saving to: ‘MF05_GSe_S4_L005_R2_001.fastq.gz’\n",
            "\n",
            "MF05_GSe_S4_L005_R2 100%[===================>]   1.97G  41.0MB/s    in 56s     \n",
            "\n",
            "2020-10-06 20:11:26 (36.2 MB/s) - ‘MF05_GSe_S4_L005_R2_001.fastq.gz’ saved [2111010149/2111010149]\n",
            "\n",
            "--2020-10-06 20:11:26--  https://sra-pub-src-2.s3.amazonaws.com/SRR8987945/JAK2-Patient_1_S1_L001_R1_001.fastq.gz\n",
            "Resolving sra-pub-src-2.s3.amazonaws.com (sra-pub-src-2.s3.amazonaws.com)... 52.216.143.172\n",
            "Connecting to sra-pub-src-2.s3.amazonaws.com (sra-pub-src-2.s3.amazonaws.com)|52.216.143.172|:443... connected.\n",
            "HTTP request sent, awaiting response... 200 OK\n",
            "Length: 1460538599 (1.4G) [application/x-troff-man]\n",
            "Saving to: ‘JAK2-Patient_1_S1_L001_R1_001.fastq.gz’\n",
            "\n",
            "JAK2-Patient_1_S1_L 100%[===================>]   1.36G  36.6MB/s    in 36s     \n",
            "\n",
            "2020-10-06 20:12:03 (38.3 MB/s) - ‘JAK2-Patient_1_S1_L001_R1_001.fastq.gz’ saved [1460538599/1460538599]\n",
            "\n",
            "--2020-10-06 20:12:03--  https://sra-pub-src-2.s3.amazonaws.com/SRR8987945/JAK2-Patient_1_S1_L001_R2_001.fastq.gz\n",
            "Resolving sra-pub-src-2.s3.amazonaws.com (sra-pub-src-2.s3.amazonaws.com)... 52.216.162.187\n",
            "Connecting to sra-pub-src-2.s3.amazonaws.com (sra-pub-src-2.s3.amazonaws.com)|52.216.162.187|:443... connected.\n",
            "HTTP request sent, awaiting response... 200 OK\n",
            "Length: 6683947883 (6.2G) [application/x-troff-man]\n",
            "Saving to: ‘JAK2-Patient_1_S1_L001_R2_001.fastq.gz’\n",
            "\n",
            "JAK2-Patient_1_S1_L 100%[===================>]   6.22G  41.0MB/s    in 3m 54s  \n",
            "\n",
            "2020-10-06 20:15:57 (27.3 MB/s) - ‘JAK2-Patient_1_S1_L001_R2_001.fastq.gz’ saved [6683947883/6683947883]\n",
            "\n",
            "--2020-10-06 20:15:57--  https://sra-pub-src-2.s3.amazonaws.com/SRR8987946/JAK2-Patient_1_S1_L002_R1_001.fastq.gz\n",
            "Resolving sra-pub-src-2.s3.amazonaws.com (sra-pub-src-2.s3.amazonaws.com)... 52.216.106.19\n",
            "Connecting to sra-pub-src-2.s3.amazonaws.com (sra-pub-src-2.s3.amazonaws.com)|52.216.106.19|:443... connected.\n",
            "HTTP request sent, awaiting response... 200 OK\n",
            "Length: 1464630469 (1.4G) [application/x-troff-man]\n",
            "Saving to: ‘JAK2-Patient_1_S1_L002_R1_001.fastq.gz’\n",
            "\n",
            "JAK2-Patient_1_S1_L 100%[===================>]   1.36G  37.5MB/s    in 37s     \n",
            "\n",
            "2020-10-06 20:16:34 (38.2 MB/s) - ‘JAK2-Patient_1_S1_L002_R1_001.fastq.gz’ saved [1464630469/1464630469]\n",
            "\n",
            "--2020-10-06 20:16:34--  https://sra-pub-src-2.s3.amazonaws.com/SRR8987946/JAK2-Patient_1_S1_L002_R2_001.fastq.gz\n",
            "Resolving sra-pub-src-2.s3.amazonaws.com (sra-pub-src-2.s3.amazonaws.com)... 52.216.249.252\n",
            "Connecting to sra-pub-src-2.s3.amazonaws.com (sra-pub-src-2.s3.amazonaws.com)|52.216.249.252|:443... connected.\n",
            "HTTP request sent, awaiting response... 200 OK\n",
            "Length: 6686248044 (6.2G) [application/x-troff-man]\n",
            "Saving to: ‘JAK2-Patient_1_S1_L002_R2_001.fastq.gz’\n",
            "\n",
            "JAK2-Patient_1_S1_L 100%[===================>]   6.23G  41.5MB/s    in 2m 51s  \n",
            "\n",
            "2020-10-06 20:19:25 (37.3 MB/s) - ‘JAK2-Patient_1_S1_L002_R2_001.fastq.gz’ saved [6686248044/6686248044]\n",
            "\n"
          ],
          "name": "stdout"
        }
      ]
    },
    {
      "cell_type": "code",
      "metadata": {
        "id": "PC9oETW1pE9t",
        "outputId": "f5b0930b-b2de-4d88-9778-cb77bf5215a0",
        "colab": {
          "base_uri": "https://localhost:8080/",
          "height": 139
        }
      },
      "source": [
        "if bam:\n",
        "  # Download the corresponding Kallisto index to folder containing fastqs\n",
        "  !kb ref -d $species_kb -i index.idx -g t2g.txt -f1 transcriptome.fasta\n",
        "\n",
        "if not bam:\n",
        "  %cd /content\n",
        "\n",
        "  # Download the corresponding Kallisto index to content folder\n",
        "  !kb ref -d $species_kb -i index.idx -g t2g.txt -f1 transcriptome.fasta\n",
        "\n",
        "if not bam and not fastq_ffqlinks:\n",
        "  %cd /content/fastqs\n",
        "\n",
        "  # Download the corresponding Kallisto index to fastq folder\n",
        "  !kb ref -d $species_kb -i index.idx -g t2g.txt -f1 transcriptome.fasta"
      ],
      "execution_count": 10,
      "outputs": [
        {
          "output_type": "stream",
          "text": [
            "/content\n",
            "[2020-10-06 20:19:30,117]    INFO Downloading files for human from https://caltech.box.com/shared/static/v1nm7lpnqz5syh8dyzdk2zs8bglncfib.gz to tmp/v1nm7lpnqz5syh8dyzdk2zs8bglncfib.gz\n",
            "[2020-10-06 20:20:52,422]    INFO Extracting files from tmp/v1nm7lpnqz5syh8dyzdk2zs8bglncfib.gz\n",
            "/content/fastqs\n",
            "[2020-10-06 20:21:31,134]    INFO Downloading files for human from https://caltech.box.com/shared/static/v1nm7lpnqz5syh8dyzdk2zs8bglncfib.gz to tmp/v1nm7lpnqz5syh8dyzdk2zs8bglncfib.gz\n",
            "[2020-10-06 20:23:01,402]    INFO Extracting files from tmp/v1nm7lpnqz5syh8dyzdk2zs8bglncfib.gz\n"
          ],
          "name": "stdout"
        }
      ]
    },
    {
      "cell_type": "markdown",
      "metadata": {
        "id": "VInyuq1Dp7iz"
      },
      "source": [
        "# Process fastq files (modify kb command according to fastqs list)\n"
      ]
    },
    {
      "cell_type": "code",
      "metadata": {
        "id": "OcqtBuH-pRaX"
      },
      "source": [
        "fastqs = sorted(fastqs)"
      ],
      "execution_count": 19,
      "outputs": []
    },
    {
      "cell_type": "code",
      "metadata": {
        "id": "5qFzPj-0kZTi",
        "outputId": "9db0e71a-4aa6-4ecd-fa55-c9e7621091bd",
        "colab": {
          "base_uri": "https://localhost:8080/",
          "height": 1000
        }
      },
      "source": [
        "# Specify the sample number and whether they are paired-ended\n",
        "\n",
        "\n",
        "if no_samples == 1:\n",
        "\n",
        "  # Write the kb count command as a string with all fastqs of the list as an input\n",
        "  cmd = \"kb count --h5ad -i index.idx -g t2g.txt -x \" + technology_kb + \" -o output\" + sample_id[0] + \" \"\\\n",
        "  + \"--filter bustools -t 2 --overwrite \" + \"'\" +  \"' '\".join(fastqs) + \"'\"\n",
        "  \n",
        "  # Execute it\n",
        "  !$cmd\n",
        "\n",
        "# If more than one sample, iterate through fastqs accordingly\n",
        "else:\n",
        "\n",
        "  # Initializa counter for fastq files\n",
        "  j = 0\n",
        "\n",
        "  # Loop over samples for analysis\n",
        "  for i in range(no_samples):\n",
        "\n",
        "    fastqs_to_analyze = fastqs[j:j + fastqs_per_sample[i]]\n",
        "    # Write the kb count command as a string\n",
        "    cmd = \"kb count --h5ad -i ../index.idx -g ../t2g.txt -x \" + technology_kb + \" -o output\" + sample_id[i] + \" \\\n",
        "    --filter bustools -t 2 --overwrite \" + \"'\" +  \"' '\".join(fastqs_to_analyze) + \"'\"\n",
        "\n",
        "    # Execute it\n",
        "    !$cmd\n",
        "\n",
        "    # Update j to move to the next set of fastq\n",
        "    j = j + fastqs_per_sample[i]\n",
        "\n",
        "\n",
        "\n",
        "\n",
        "\n"
      ],
      "execution_count": 20,
      "outputs": [
        {
          "output_type": "stream",
          "text": [
            "[2020-10-06 20:38:04,924]    INFO Generating BUS file from\n",
            "[2020-10-06 20:38:04,924]    INFO         JAK2-Patient_1_S1_L001_R1_001.fastq.gz\n",
            "[2020-10-06 20:38:04,924]    INFO         JAK2-Patient_1_S1_L001_R2_001.fastq.gz\n",
            "[2020-10-06 20:38:04,925]    INFO         JAK2-Patient_1_S1_L002_R1_001.fastq.gz\n",
            "[2020-10-06 20:38:04,925]    INFO         JAK2-Patient_1_S1_L002_R2_001.fastq.gz\n",
            "[2020-10-06 20:54:39,121]    INFO Sorting BUS file outputGSM3739220/output.bus to tmp/output.s.bus\n",
            "[2020-10-06 20:55:48,321]    INFO Whitelist not provided\n",
            "[2020-10-06 20:55:48,321]    INFO Copying pre-packaged 10XV2 whitelist to outputGSM3739220\n",
            "[2020-10-06 20:55:53,199]    INFO Inspecting BUS file tmp/output.s.bus\n",
            "[2020-10-06 20:56:10,392]    INFO Correcting BUS records in tmp/output.s.bus to tmp/output.s.c.bus with whitelist outputGSM3739220/10xv2_whitelist.txt\n",
            "[2020-10-06 20:56:39,718]    INFO Sorting BUS file tmp/output.s.c.bus to outputGSM3739220/output.unfiltered.bus\n",
            "[2020-10-06 20:57:22,491]    INFO Generating count matrix outputGSM3739220/counts_unfiltered/cells_x_genes from BUS file outputGSM3739220/output.unfiltered.bus\n",
            "[2020-10-06 20:57:36,325]    INFO Converting matrix outputGSM3739220/counts_unfiltered/cells_x_genes.mtx to h5ad outputGSM3739220/counts_unfiltered/adata.h5ad\n",
            "[2020-10-06 20:57:52,688]    INFO Filtering with bustools\n",
            "[2020-10-06 20:57:52,688]    INFO Generating whitelist outputGSM3739220/filter_barcodes.txt from BUS file outputGSM3739220/output.unfiltered.bus\n",
            "[2020-10-06 20:57:53,168]    INFO Capturing records from BUS file outputGSM3739220/output.unfiltered.bus to tmp/output.filtered.bus with capture list outputGSM3739220/filter_barcodes.txt\n",
            "[2020-10-06 20:57:58,450]    INFO Sorting BUS file tmp/output.filtered.bus to outputGSM3739220/output.filtered.bus\n",
            "[2020-10-06 20:58:43,804]    INFO Generating count matrix outputGSM3739220/counts_filtered/cells_x_genes from BUS file outputGSM3739220/output.filtered.bus\n",
            "[2020-10-06 20:58:57,314]    INFO Converting matrix outputGSM3739220/counts_filtered/cells_x_genes.mtx to h5ad outputGSM3739220/counts_filtered/adata.h5ad\n",
            "[2020-10-06 20:59:15,539]    INFO Generating BUS file from\n",
            "[2020-10-06 20:59:15,540]    INFO         MF04_FC_S3_L003_R1_001.fastq.gz\n",
            "[2020-10-06 20:59:15,540]    INFO         MF04_FC_S3_L003_R2_001.fastq.gz\n",
            "[2020-10-06 20:59:15,540]    INFO         MF04_FC_S3_L004_R1_001.fastq.gz\n",
            "[2020-10-06 20:59:15,540]    INFO         MF04_FC_S3_L004_R2_001.fastq.gz\n",
            "[2020-10-06 20:59:15,540]    INFO         MF04_FC_S3_L005_R1_001.fastq.gz\n",
            "[2020-10-06 20:59:15,540]    INFO         MF04_FC_S3_L005_R2_001.fastq.gz\n",
            "[2020-10-06 20:59:15,540]    INFO         MF04_FC_S3_L006_R1_001.fastq.gz\n",
            "[2020-10-06 20:59:15,540]    INFO         MF04_FC_S3_L006_R2_001.fastq.gz\n",
            "[2020-10-06 21:32:10,912]    INFO Sorting BUS file outputGSM3739221/output.bus to tmp/output.s.bus\n",
            "[2020-10-06 21:34:20,333]    INFO Whitelist not provided\n",
            "[2020-10-06 21:34:20,339]    INFO Copying pre-packaged 10XV2 whitelist to outputGSM3739221\n",
            "[2020-10-06 21:34:20,465]    INFO Inspecting BUS file tmp/output.s.bus\n",
            "[2020-10-06 21:34:43,861]    INFO Correcting BUS records in tmp/output.s.bus to tmp/output.s.c.bus with whitelist outputGSM3739221/10xv2_whitelist.txt\n",
            "[2020-10-06 21:35:08,938]    INFO Sorting BUS file tmp/output.s.c.bus to outputGSM3739221/output.unfiltered.bus\n",
            "[2020-10-06 21:35:11,938]    INFO Generating count matrix outputGSM3739221/counts_unfiltered/cells_x_genes from BUS file outputGSM3739221/output.unfiltered.bus\n",
            "[2020-10-06 21:35:15,413]    INFO Converting matrix outputGSM3739221/counts_unfiltered/cells_x_genes.mtx to h5ad outputGSM3739221/counts_unfiltered/adata.h5ad\n",
            "[2020-10-06 21:35:16,156]    INFO Filtering with bustools\n",
            "[2020-10-06 21:35:16,156]    INFO Generating whitelist outputGSM3739221/filter_barcodes.txt from BUS file outputGSM3739221/output.unfiltered.bus\n",
            "[2020-10-06 21:35:16,178]    INFO Capturing records from BUS file outputGSM3739221/output.unfiltered.bus to tmp/output.filtered.bus with capture list outputGSM3739221/filter_barcodes.txt\n",
            "[2020-10-06 21:35:16,267]    INFO Sorting BUS file tmp/output.filtered.bus to outputGSM3739221/output.filtered.bus\n",
            "[2020-10-06 21:35:19,096]    INFO Generating count matrix outputGSM3739221/counts_filtered/cells_x_genes from BUS file outputGSM3739221/output.filtered.bus\n",
            "[2020-10-06 21:35:22,411]    INFO Converting matrix outputGSM3739221/counts_filtered/cells_x_genes.mtx to h5ad outputGSM3739221/counts_filtered/adata.h5ad\n",
            "[2020-10-06 21:35:25,664]    INFO Generating BUS file from\n",
            "[2020-10-06 21:35:25,664]    INFO         MF05_GSe_S4_L003_R1_001.fastq.gz\n",
            "[2020-10-06 21:35:25,664]    INFO         MF05_GSe_S4_L003_R2_001.fastq.gz\n",
            "[2020-10-06 21:35:25,664]    INFO         MF05_GSe_S4_L004_R1_001.fastq.gz\n",
            "[2020-10-06 21:35:25,664]    INFO         MF05_GSe_S4_L004_R2_001.fastq.gz\n",
            "[2020-10-06 21:35:25,665]    INFO         MF05_GSe_S4_L005_R1_001.fastq.gz\n",
            "[2020-10-06 21:35:25,665]    INFO         MF05_GSe_S4_L005_R2_001.fastq.gz\n",
            "[2020-10-06 21:35:25,665]    INFO         MF05_GSe_S4_L006_R1_001.fastq.gz\n",
            "[2020-10-06 21:35:25,665]    INFO         MF05_GSe_S4_L006_R2_001.fastq.gz\n",
            "[2020-10-06 22:07:07,839]    INFO Sorting BUS file outputGSM3739222/output.bus to tmp/output.s.bus\n",
            "[2020-10-06 22:09:15,939]    INFO Whitelist not provided\n",
            "[2020-10-06 22:09:15,940]    INFO Copying pre-packaged 10XV2 whitelist to outputGSM3739222\n",
            "[2020-10-06 22:09:18,470]    INFO Inspecting BUS file tmp/output.s.bus\n",
            "[2020-10-06 22:09:42,599]    INFO Correcting BUS records in tmp/output.s.bus to tmp/output.s.c.bus with whitelist outputGSM3739222/10xv2_whitelist.txt\n",
            "[2020-10-06 22:10:08,234]    INFO Sorting BUS file tmp/output.s.c.bus to outputGSM3739222/output.unfiltered.bus\n",
            "[2020-10-06 22:10:11,216]    INFO Generating count matrix outputGSM3739222/counts_unfiltered/cells_x_genes from BUS file outputGSM3739222/output.unfiltered.bus\n",
            "[2020-10-06 22:10:14,698]    INFO Converting matrix outputGSM3739222/counts_unfiltered/cells_x_genes.mtx to h5ad outputGSM3739222/counts_unfiltered/adata.h5ad\n",
            "[2020-10-06 22:10:15,416]    INFO Filtering with bustools\n",
            "[2020-10-06 22:10:15,416]    INFO Generating whitelist outputGSM3739222/filter_barcodes.txt from BUS file outputGSM3739222/output.unfiltered.bus\n",
            "[2020-10-06 22:10:15,437]    INFO Capturing records from BUS file outputGSM3739222/output.unfiltered.bus to tmp/output.filtered.bus with capture list outputGSM3739222/filter_barcodes.txt\n",
            "[2020-10-06 22:10:15,522]    INFO Sorting BUS file tmp/output.filtered.bus to outputGSM3739222/output.filtered.bus\n",
            "[2020-10-06 22:10:18,365]    INFO Generating count matrix outputGSM3739222/counts_filtered/cells_x_genes from BUS file outputGSM3739222/output.filtered.bus\n",
            "[2020-10-06 22:10:21,676]    INFO Converting matrix outputGSM3739222/counts_filtered/cells_x_genes.mtx to h5ad outputGSM3739222/counts_filtered/adata.h5ad\n"
          ],
          "name": "stdout"
        }
      ]
    },
    {
      "cell_type": "markdown",
      "metadata": {
        "id": "tDijOZzrqhN2"
      },
      "source": [
        "# Load unfiltered matrix and assign filters to each matrix individually"
      ]
    },
    {
      "cell_type": "markdown",
      "metadata": {
        "id": "VkNLZh_pNFFw"
      },
      "source": [
        "## Load the unfiltered matrix (check dimensions)"
      ]
    },
    {
      "cell_type": "code",
      "metadata": {
        "id": "PppRNeV8AIyw"
      },
      "source": [
        "# Define dict to store data\n",
        "results = {}\n"
      ],
      "execution_count": 21,
      "outputs": []
    },
    {
      "cell_type": "code",
      "metadata": {
        "id": "pKmtGf3c_BiZ",
        "cellView": "both",
        "outputId": "3c3e0c9c-fbc9-4a8e-a6ed-79d5de96e88f",
        "colab": {
          "base_uri": "https://localhost:8080/",
          "height": 68
        }
      },
      "source": [
        "# load the unfiltered matrix\n",
        "for i in range(no_samples):\n",
        "  results[sample_id[i]] = anndata.read_h5ad(\"output\" + sample_id[i] + \"/counts_unfiltered/adata.h5ad\")\n",
        "  results[sample_id[i]].var[\"gene_id\"] = results[sample_id[i]].var.index.values\n",
        "\n",
        "  t2g = pd.read_csv(\"t2g.txt\", header=None, names=[\"tid\", \"gene_id\", \"gene_name\"], sep=\"\\t\")\n",
        "  t2g.index = t2g.gene_id\n",
        "  t2g = t2g.loc[~t2g.index.duplicated(keep='first')]\n",
        "\n",
        "  results[sample_id[i]].var[\"gene_name\"] = results[sample_id[i]].var.gene_id.map(t2g[\"gene_name\"])\n",
        "  results[sample_id[i]].var.index = results[sample_id[i]].var[\"gene_name\"]\n",
        "  print(\"The unfiltered matrix \" + sample_id[i] + \" contains {} cells by {} genes\".format(len(results[sample_id[i]].obs), len(results[sample_id[i]].var)))\n",
        "\n",
        "  results[sample_id[i]].obs[\"cell_counts\"] = results[sample_id[i]].X.sum(axis=1)\n",
        "  results[sample_id[i]].var[\"gene_counts\"] = nd(results[sample_id[i]].X.sum(axis=0))\n",
        "\n",
        "  results[sample_id[i]].obs[\"n_genes\"] = nd((results[sample_id[i]].X>0).sum(axis=1))\n",
        "  results[sample_id[i]].var[\"n_cells\"] = nd((results[sample_id[i]].X>0).sum(axis=0))\n",
        "\n",
        "  mito_genes = results[sample_id[i]].var_names.str.startswith(\"MT-\" or \"mt-\") \n",
        "  results[sample_id[i]].obs[\"percent_mito\"] = results[sample_id[i]][:,mito_genes].X.sum(axis=1)/results[sample_id[i]].X.sum(axis=1)*100\n",
        "\n",
        "  # Changing the name of the index is necessary to write the file (it won't work with duplicated names)\n",
        "  results[sample_id[i]].var.index.name = \"index\"\n",
        "\n"
      ],
      "execution_count": 22,
      "outputs": [
        {
          "output_type": "stream",
          "text": [
            "The unfiltered matrix GSM3739220 contains 235431 cells by 60623 genes\n",
            "The unfiltered matrix GSM3739221 contains 37002 cells by 60623 genes\n",
            "The unfiltered matrix GSM3739222 contains 38467 cells by 60623 genes\n"
          ],
          "name": "stdout"
        }
      ]
    },
    {
      "cell_type": "markdown",
      "metadata": {
        "id": "hDAUH3eH_2RA"
      },
      "source": [
        "## Assign filters for each matrix individually"
      ]
    },
    {
      "cell_type": "code",
      "metadata": {
        "id": "ukinuaKk_6Po"
      },
      "source": [
        "# Modify this manually to change sample after having assigned the \"expected_num_cells\" and \"mito_criteria\" parameters\n",
        "samp_n = 2\n",
        "\n",
        "\n",
        "# Filtering criteria\n",
        "cell_threshold = 100\n",
        "gene_threshold = 3\n",
        "\n",
        "mito_criteria = 30"
      ],
      "execution_count": 65,
      "outputs": []
    },
    {
      "cell_type": "code",
      "metadata": {
        "id": "a5wZB5pEfwNs",
        "cellView": "form",
        "outputId": "9083567b-b99d-4f42-9c45-78130662d638",
        "colab": {
          "base_uri": "https://localhost:8080/",
          "height": 726
        }
      },
      "source": [
        "\n",
        "expected_num_cells = 100#@param {type:\"integer\"}\n",
        "knee = np.sort(nd(results[sample_id[samp_n]].X.sum(axis=1)))[::-1]\n",
        "\n",
        "fig, ax = plt.subplots(figsize=(5, 5))\n",
        "\n",
        "x = knee\n",
        "y = range(len(knee))\n",
        "\n",
        "ax.loglog(x, y, linewidth=5, color=\"g\")\n",
        "\n",
        "ax.axvline(x=knee[expected_num_cells], linewidth=3, color=\"k\")\n",
        "ax.axhline(y=expected_num_cells, linewidth=3, color=\"k\")\n",
        "\n",
        "ax.set_xlabel(\"UMI Counts\")\n",
        "ax.set_ylabel(\"Set of Barcodes\")\n",
        "\n",
        "plt.show()\n",
        "\n",
        "cell_threshold = knee[expected_num_cells]\n",
        "\n",
        "results[\"cell_threshold\" + sample_id[samp_n]] = knee[expected_num_cells]\n",
        "\n",
        "print (\"Cells were filtered down to \" + str(expected_num_cells) + \" with at least \" + str(cell_threshold) + \" UMIs\")\n",
        "\n",
        "\n",
        "mito_criteria = 30#@param {type:\"integer\"}\n",
        "results[\"mito_criteria\" + sample_id[samp_n]] = mito_criteria\n",
        "\n",
        "fig, ax = plt.subplots(figsize=(5,5))\n",
        "\n",
        "\n",
        "x = nd(results[sample_id[samp_n]].obs[\"cell_counts\"][results[sample_id[samp_n]].obs[\"cell_counts\"] > cell_threshold])\n",
        "y = nd(results[sample_id[samp_n]].obs[\"percent_mito\"][results[sample_id[samp_n]].obs[\"cell_counts\"] > cell_threshold])\n",
        "\n",
        "ax.scatter(x, y, color=\"green\", alpha=0.1)\n",
        "\n",
        "ax.axhline(y=mito_criteria, linestyle=\"--\", color=\"k\")\n",
        "\n",
        "\n",
        "ax.set_xlabel(\"UMI Counts\")\n",
        "ax.set_ylabel(\"Percent mito\")\n",
        "\n",
        "\n",
        "plt.show()\n",
        "\n",
        "print(\"We select \" + str(mito_criteria) + \" % as the mitochondrial content threshold\")"
      ],
      "execution_count": 66,
      "outputs": [
        {
          "output_type": "display_data",
          "data": {
            "image/png": "[encoded data removed]",
            "text/plain": [
              "<Figure size 360x360 with 1 Axes>"
            ]
          },
          "metadata": {
            "tags": [],
            "image/png": {
              "width": 359,
              "height": 337
            },
            "needs_background": "light"
          }
        },
        {
          "output_type": "stream",
          "text": [
            "Cells were filtered down to 100 with at least 206.0 UMIs\n"
          ],
          "name": "stdout"
        },
        {
          "output_type": "display_data",
          "data": {
            "image/png": "[encoded data removed]",
            "text/plain": [
              "<Figure size 360x360 with 1 Axes>"
            ]
          },
          "metadata": {
            "tags": [],
            "image/png": {
              "width": 362,
              "height": 338
            },
            "needs_background": "light"
          }
        },
        {
          "output_type": "stream",
          "text": [
            "We select 30 % as the mitochondrial content threshold\n"
          ],
          "name": "stdout"
        }
      ]
    },
    {
      "cell_type": "markdown",
      "metadata": {
        "id": "eP9j2ouPq9KY"
      },
      "source": [
        "# Filter matrix"
      ]
    },
    {
      "cell_type": "code",
      "metadata": {
        "id": "sE51WUA3gVmG",
        "outputId": "98dff6c2-d313-44f8-e343-7044eaadebe0",
        "colab": {
          "base_uri": "https://localhost:8080/",
          "height": 119
        }
      },
      "source": [
        "for i in range(no_samples):\n",
        "  results[sample_id[i]].obs[\"pass_count_filter\"] = results[sample_id[i]].obs[\"cell_counts\"] > results[\"cell_threshold\" + sample_id[i]]\n",
        "  results[sample_id[i]].obs[\"pass_mito_filter\"] = results[sample_id[i]].obs.percent_mito < results[\"mito_criteria\" + sample_id[i]]\n",
        "  results[sample_id[i]].var[\"pass_gene_filter\"] = results[sample_id[i]].var[\"n_cells\"] > gene_threshold\n",
        "\n",
        "  cell_mask = np.logical_and(results[sample_id[i]].obs[\"pass_count_filter\"].values, results[sample_id[i]].obs[\"pass_mito_filter\"].values)\n",
        "  gene_mask = results[sample_id[i]].var[\"pass_gene_filter\"].values\n",
        "\n",
        "  print(\"Current Shape: {:,} cells x {:,} genes\".format(results[sample_id[i]].shape[0], results[sample_id[i]].shape[1]))\n",
        "  print(\"    New shape: {:,} cells x {:,} genes\".format(cell_mask.sum(), gene_mask.sum()))\n",
        "  results[\"data_\" + sample_id[i]] = results[sample_id[i]][cell_mask, gene_mask]"
      ],
      "execution_count": 67,
      "outputs": [
        {
          "output_type": "stream",
          "text": [
            "Current Shape: 235,431 cells x 60,623 genes\n",
            "    New shape: 4,802 cells x 23,583 genes\n",
            "Current Shape: 37,002 cells x 60,623 genes\n",
            "    New shape: 81 cells x 11,541 genes\n",
            "Current Shape: 38,467 cells x 60,623 genes\n",
            "    New shape: 91 cells x 11,587 genes\n"
          ],
          "name": "stdout"
        }
      ]
    },
    {
      "cell_type": "markdown",
      "metadata": {
        "id": "BxPA81yj4TlU"
      },
      "source": [
        "# Anotate and write the Anndata object"
      ]
    },
    {
      "cell_type": "code",
      "metadata": {
        "id": "O-q_Qj2U4kDU",
        "outputId": "4e0fc74b-723d-4714-f306-3a2c0ad4e4c7",
        "colab": {
          "base_uri": "https://localhost:8080/",
          "height": 170
        }
      },
      "source": [
        "for i in range(no_samples):\n",
        "\n",
        "\n",
        "  results[\"data_\" + sample_id[i]].uns[\"database_id\"] = database_id[samp_n]\n",
        "\n",
        "  results[\"data_\" + sample_id[i]].uns[\"tissue\"] = tissue[samp_n]\n",
        "\n",
        "  results[\"data_\" + sample_id[i]].uns[\"cell_type\"] = cell_type[samp_n]\n",
        "\n",
        "  results[\"data_\" + sample_id[i]].uns[\"sample_id\"] = sample_id[samp_n]\n",
        "\n",
        "  results[\"data_\" + sample_id[i]].uns[\"condition\"] = condition[samp_n]\n",
        "\n",
        "  results[\"data_\" + sample_id[i]].uns[\"species\"] = species[samp_n]\n",
        "\n",
        "  results[\"data_\" + sample_id[i]].uns[\"technology\"] = technology[samp_n]\n",
        "\n",
        "  results[\"data_\" + sample_id[i]].uns[\"paper\"] = paper[samp_n]\n",
        "\n",
        "  results[\"data_\" + sample_id[i]].uns[\"figure\"] = figure[samp_n]"
      ],
      "execution_count": 69,
      "outputs": [
        {
          "output_type": "stream",
          "text": [
            "Trying to set attribute `.uns` of view, copying.\n",
            "Variable names are not unique. To make them unique, call `.var_names_make_unique`.\n",
            "Variable names are not unique. To make them unique, call `.var_names_make_unique`.\n",
            "Trying to set attribute `.uns` of view, copying.\n",
            "Variable names are not unique. To make them unique, call `.var_names_make_unique`.\n",
            "Variable names are not unique. To make them unique, call `.var_names_make_unique`.\n",
            "Trying to set attribute `.uns` of view, copying.\n",
            "Variable names are not unique. To make them unique, call `.var_names_make_unique`.\n",
            "Variable names are not unique. To make them unique, call `.var_names_make_unique`.\n"
          ],
          "name": "stderr"
        }
      ]
    },
    {
      "cell_type": "code",
      "metadata": {
        "id": "ICc77J94_Kye",
        "outputId": "a0406594-224e-4d33-ffa5-c7af5828f7fe",
        "colab": {
          "base_uri": "https://localhost:8080/",
          "height": 85
        }
      },
      "source": [
        "%cd /content\n",
        "\n",
        "for i in range(no_samples):\n",
        "\n",
        "  results[\"data_\" + sample_id[i]].write(\"result\" + sample_id[i])"
      ],
      "execution_count": 71,
      "outputs": [
        {
          "output_type": "stream",
          "text": [
            "/content\n"
          ],
          "name": "stdout"
        },
        {
          "output_type": "stream",
          "text": [
            "... storing 'gene_name' as categorical\n",
            "... storing 'gene_name' as categorical\n",
            "... storing 'gene_name' as categorical\n"
          ],
          "name": "stderr"
        }
      ]
    }
  ]
}