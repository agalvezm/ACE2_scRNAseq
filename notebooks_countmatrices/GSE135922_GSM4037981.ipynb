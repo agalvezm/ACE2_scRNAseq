{
  "nbformat": 4,
  "nbformat_minor": 0,
  "metadata": {
    "colab": {
      "name": "GSE135922_GSM4037981.ipynb",
      "provenance": [],
      "collapsed_sections": [],
      "include_colab_link": true
    },
    "kernelspec": {
      "display_name": "Python 3",
      "name": "python3"
    }
  },
  "cells": [
    {
      "cell_type": "markdown",
      "metadata": {
        "id": "view-in-github",
        "colab_type": "text"
      },
      "source": [
        "<a href=\"https://colab.research.google.com/github/agalvezm/ACE2_scRNAseq/blob/master/notebooks_countmatrices/GSE135922_GSM4037981.ipynb\" target=\"_parent\"><img src=\"https://colab.research.google.com/assets/colab-badge.svg\" alt=\"Open In Colab\"/></a>"
      ]
    },
    {
      "cell_type": "markdown",
      "metadata": {
        "id": "V9ryXluJsJw9"
      },
      "source": [
        "# GSE135922_GSM4037981"
      ]
    },
    {
      "cell_type": "code",
      "metadata": {
        "colab": {
          "base_uri": "https://localhost:8080/"
        },
        "id": "2BiFt2wu4aLh",
        "outputId": "f863e40c-5b87-4ec0-a5d4-0b83956d1bdb"
      },
      "source": [
        "# Install SRA-toolkit \n",
        "!wget \"http://ftp-trace.ncbi.nlm.nih.gov/sra/sdk/current/sratoolkit.current-centos_linux64.tar.gz\"\n",
        "\n",
        "! tar -xzf sratoolkit.current-centos_linux64.tar.gz\n",
        "\n",
        "# Add to path\n",
        "import os\n",
        "os.environ['PATH'] += \":/content/sratoolkit.2.11.0-centos_linux64/bin\"\n",
        "\n",
        "# Configure\n",
        "!vdb-config --interactive\n",
        "\n",
        "# Import packages\n",
        "\n",
        "import numpy as np\n"
      ],
      "execution_count": 1,
      "outputs": [
        {
          "output_type": "stream",
          "text": [
            "--2021-04-12 17:48:45--  http://ftp-trace.ncbi.nlm.nih.gov/sra/sdk/current/sratoolkit.current-centos_linux64.tar.gz\n",
            "Resolving ftp-trace.ncbi.nlm.nih.gov (ftp-trace.ncbi.nlm.nih.gov)... 130.14.250.13, 130.14.250.11, 2607:f220:41e:250::11, ...\n",
            "Connecting to ftp-trace.ncbi.nlm.nih.gov (ftp-trace.ncbi.nlm.nih.gov)|130.14.250.13|:80... connected.\n",
            "HTTP request sent, awaiting response... 301 Moved Permanently\n",
            "Location: https://ftp-trace.ncbi.nlm.nih.gov/sra/sdk/current/sratoolkit.current-centos_linux64.tar.gz [following]\n",
            "--2021-04-12 17:48:46--  https://ftp-trace.ncbi.nlm.nih.gov/sra/sdk/current/sratoolkit.current-centos_linux64.tar.gz\n",
            "Connecting to ftp-trace.ncbi.nlm.nih.gov (ftp-trace.ncbi.nlm.nih.gov)|130.14.250.13|:443... connected.\n",
            "HTTP request sent, awaiting response... 200 OK\n",
            "Length: 99139357 (95M) [application/x-gzip]\n",
            "Saving to: ‘sratoolkit.current-centos_linux64.tar.gz’\n",
            "\n",
            "sratoolkit.current- 100%[===================>]  94.55M   354MB/s    in 0.3s    \n",
            "\n",
            "2021-04-12 17:48:46 (354 MB/s) - ‘sratoolkit.current-centos_linux64.tar.gz’ saved [99139357/99139357]\n",
            "\n",
            "\u001b[2J\u001b[?25l\u001b[?1000h\u001b[?1002h2021-04-12T17:48:50 vdb-config.2.11.0 fatal: SIGNAL - Segmentation fault \n"
          ],
          "name": "stdout"
        }
      ]
    },
    {
      "cell_type": "code",
      "metadata": {
        "id": "mU4XegJlo2Na"
      },
      "source": [
        "# List of SRAs to download and transform. Copy paste from excel as string\n",
        "SRAs = \"SRR9990627\tSRR9990628\tSRR9990629\tSRR9990630\tSRR9990631\tSRR9990632\tSRR9990633\tSRR9990634\tSRR9990635\tSRR9990636\tSRR9990637\tSRR9990638\tSRR9990639\tSRR9990640\tSRR9990641\tSRR9990642\tSRR9990643\tSRR9990644\tSRR9990645\tSRR9990646\tSRR9990647\tSRR9990648\tSRR9990649\tSRR9990650\"\n",
        "\n",
        "SRAs = SRAs.split()\n",
        "\n",
        "# SRA to delete, usually the index file, which get downloaded because we include technical reads. \n",
        "# It varies so check in the SRA website\n",
        "SRA_to_delete = \"3\"\n",
        "\n",
        "\n",
        "SRAs_to_keep = np.setdiff1d([\"1\", \"2\", \"3\"], [SRA_to_delete])\n",
        "\n",
        "# sample specific metadata\n",
        "\n",
        "samp_id = [\"GSM4037981\"]\n",
        "\n",
        "cell_type = [\"retinal pigment epithelium macula, unenriched\"]\n",
        "\n",
        "condition = [\"donor 1\"]"
      ],
      "execution_count": 2,
      "outputs": []
    },
    {
      "cell_type": "code",
      "metadata": {
        "id": "u3uDp_jCpfhZ",
        "colab": {
          "base_uri": "https://localhost:8080/"
        },
        "outputId": "968c77e5-f990-4615-d855-602319d5ae42"
      },
      "source": [
        "for sra in SRAs:\n",
        "  \"\"\"\n",
        "  Downloads SRAs and transforms to compressed fastq file. Remove index reads and original SRA\n",
        "  \"\"\"\n",
        "  # Download SRA\n",
        "  !prefetch $sra\n",
        "\n",
        "  # Convert to fastq. Biological reads are usually considered technicals in 10x so do not skip them.\n",
        "  fastq_dump_cmd = \"fastq-dump -F --gzip --readids --split-files \" + sra + \"/\" + sra +\".sra\"\n",
        "  !$fastq_dump_cmd\n",
        "\n",
        "  # Remove files\n",
        "  rm_cmd_1 = \"rm \" + sra + \"/\" + sra + \".sra\"\n",
        "  rm_cmd_2 = \"rm \" + sra + \"_\" + SRA_to_delete + \".fastq.gz\" \n",
        "  !$rm_cmd_1\n",
        "  !$rm_cmd_2"
      ],
      "execution_count": 3,
      "outputs": [
        {
          "output_type": "stream",
          "text": [
            "\n",
            "2021-04-12T17:49:54 prefetch.2.11.0: 1) Downloading 'SRR9990627'...\n",
            "2021-04-12T17:49:54 prefetch.2.11.0:  Downloading via HTTPS...\n",
            "2021-04-12T17:50:28 prefetch.2.11.0:  HTTPS download succeed\n",
            "2021-04-12T17:50:31 prefetch.2.11.0:  'SRR9990627' is valid\n",
            "2021-04-12T17:50:31 prefetch.2.11.0: 1) 'SRR9990627' was downloaded successfully\n",
            "2021-04-12T17:50:31 prefetch.2.11.0: 'SRR9990627' has 0 unresolved dependencies\n",
            "Read 10536649 spots for SRR9990627/SRR9990627.sra\n",
            "Written 10536649 spots for SRR9990627/SRR9990627.sra\n",
            "rm: cannot remove 'SRR9990627_3.fastq.gz': No such file or directory\n",
            "\n",
            "2021-04-12T18:07:28 prefetch.2.11.0: 1) Downloading 'SRR9990628'...\n",
            "2021-04-12T18:07:28 prefetch.2.11.0:  Downloading via HTTPS...\n",
            "2021-04-12T18:08:04 prefetch.2.11.0:  HTTPS download succeed\n",
            "2021-04-12T18:08:07 prefetch.2.11.0:  'SRR9990628' is valid\n",
            "2021-04-12T18:08:07 prefetch.2.11.0: 1) 'SRR9990628' was downloaded successfully\n",
            "2021-04-12T18:08:07 prefetch.2.11.0: 'SRR9990628' has 0 unresolved dependencies\n",
            "Read 11329458 spots for SRR9990628/SRR9990628.sra\n",
            "Written 11329458 spots for SRR9990628/SRR9990628.sra\n",
            "rm: cannot remove 'SRR9990628_3.fastq.gz': No such file or directory\n",
            "\n",
            "2021-04-12T18:26:12 prefetch.2.11.0: 1) Downloading 'SRR9990629'...\n",
            "2021-04-12T18:26:12 prefetch.2.11.0:  Downloading via HTTPS...\n",
            "2021-04-12T18:26:46 prefetch.2.11.0:  HTTPS download succeed\n",
            "2021-04-12T18:26:49 prefetch.2.11.0:  'SRR9990629' is valid\n",
            "2021-04-12T18:26:49 prefetch.2.11.0: 1) 'SRR9990629' was downloaded successfully\n",
            "2021-04-12T18:26:49 prefetch.2.11.0: 'SRR9990629' has 0 unresolved dependencies\n",
            "Read 10724345 spots for SRR9990629/SRR9990629.sra\n",
            "Written 10724345 spots for SRR9990629/SRR9990629.sra\n",
            "rm: cannot remove 'SRR9990629_3.fastq.gz': No such file or directory\n",
            "\n",
            "2021-04-12T18:43:51 prefetch.2.11.0: 1) Downloading 'SRR9990630'...\n",
            "2021-04-12T18:43:51 prefetch.2.11.0:  Downloading via HTTPS...\n",
            "2021-04-12T18:44:24 prefetch.2.11.0:  HTTPS download succeed\n",
            "2021-04-12T18:44:27 prefetch.2.11.0:  'SRR9990630' is valid\n",
            "2021-04-12T18:44:27 prefetch.2.11.0: 1) 'SRR9990630' was downloaded successfully\n",
            "2021-04-12T18:44:27 prefetch.2.11.0: 'SRR9990630' has 0 unresolved dependencies\n",
            "Read 11004293 spots for SRR9990630/SRR9990630.sra\n",
            "Written 11004293 spots for SRR9990630/SRR9990630.sra\n",
            "rm: cannot remove 'SRR9990630_3.fastq.gz': No such file or directory\n",
            "\n",
            "2021-04-12T19:02:11 prefetch.2.11.0: 1) Downloading 'SRR9990631'...\n",
            "2021-04-12T19:02:11 prefetch.2.11.0:  Downloading via HTTPS...\n",
            "2021-04-12T19:02:43 prefetch.2.11.0:  HTTPS download succeed\n",
            "2021-04-12T19:02:46 prefetch.2.11.0:  'SRR9990631' is valid\n",
            "2021-04-12T19:02:46 prefetch.2.11.0: 1) 'SRR9990631' was downloaded successfully\n",
            "2021-04-12T19:02:46 prefetch.2.11.0: 'SRR9990631' has 0 unresolved dependencies\n",
            "Read 10482615 spots for SRR9990631/SRR9990631.sra\n",
            "Written 10482615 spots for SRR9990631/SRR9990631.sra\n",
            "rm: cannot remove 'SRR9990631_3.fastq.gz': No such file or directory\n",
            "\n",
            "2021-04-12T19:19:40 prefetch.2.11.0: 1) Downloading 'SRR9990632'...\n",
            "2021-04-12T19:19:40 prefetch.2.11.0:  Downloading via HTTPS...\n",
            "2021-04-12T19:20:28 prefetch.2.11.0:  HTTPS download succeed\n",
            "2021-04-12T19:20:32 prefetch.2.11.0:  'SRR9990632' is valid\n",
            "2021-04-12T19:20:32 prefetch.2.11.0: 1) 'SRR9990632' was downloaded successfully\n",
            "2021-04-12T19:20:32 prefetch.2.11.0: 'SRR9990632' has 0 unresolved dependencies\n",
            "Read 13343813 spots for SRR9990632/SRR9990632.sra\n",
            "Written 13343813 spots for SRR9990632/SRR9990632.sra\n",
            "rm: cannot remove 'SRR9990632_3.fastq.gz': No such file or directory\n",
            "\n",
            "2021-04-12T19:41:36 prefetch.2.11.0: 1) Downloading 'SRR9990633'...\n",
            "2021-04-12T19:41:36 prefetch.2.11.0:  Downloading via HTTPS...\n",
            "2021-04-12T19:42:09 prefetch.2.11.0:  HTTPS download succeed\n",
            "2021-04-12T19:42:12 prefetch.2.11.0:  'SRR9990633' is valid\n",
            "2021-04-12T19:42:12 prefetch.2.11.0: 1) 'SRR9990633' was downloaded successfully\n",
            "2021-04-12T19:42:12 prefetch.2.11.0: 'SRR9990633' has 0 unresolved dependencies\n",
            "Read 10573404 spots for SRR9990633/SRR9990633.sra\n",
            "Written 10573404 spots for SRR9990633/SRR9990633.sra\n",
            "rm: cannot remove 'SRR9990633_3.fastq.gz': No such file or directory\n",
            "\n",
            "2021-04-12T19:59:17 prefetch.2.11.0: 1) Downloading 'SRR9990634'...\n",
            "2021-04-12T19:59:17 prefetch.2.11.0:  Downloading via HTTPS...\n",
            "2021-04-12T19:59:51 prefetch.2.11.0:  HTTPS download succeed\n",
            "2021-04-12T19:59:54 prefetch.2.11.0:  'SRR9990634' is valid\n",
            "2021-04-12T19:59:54 prefetch.2.11.0: 1) 'SRR9990634' was downloaded successfully\n",
            "2021-04-12T19:59:54 prefetch.2.11.0: 'SRR9990634' has 0 unresolved dependencies\n",
            "Read 11353324 spots for SRR9990634/SRR9990634.sra\n",
            "Written 11353324 spots for SRR9990634/SRR9990634.sra\n",
            "rm: cannot remove 'SRR9990634_3.fastq.gz': No such file or directory\n",
            "\n",
            "2021-04-12T20:18:04 prefetch.2.11.0: 1) Downloading 'SRR9990635'...\n",
            "2021-04-12T20:18:04 prefetch.2.11.0:  Downloading via HTTPS...\n",
            "2021-04-12T20:18:39 prefetch.2.11.0:  HTTPS download succeed\n",
            "2021-04-12T20:18:42 prefetch.2.11.0:  'SRR9990635' is valid\n",
            "2021-04-12T20:18:42 prefetch.2.11.0: 1) 'SRR9990635' was downloaded successfully\n",
            "2021-04-12T20:18:42 prefetch.2.11.0: 'SRR9990635' has 0 unresolved dependencies\n",
            "Read 10843813 spots for SRR9990635/SRR9990635.sra\n",
            "Written 10843813 spots for SRR9990635/SRR9990635.sra\n",
            "rm: cannot remove 'SRR9990635_3.fastq.gz': No such file or directory\n",
            "\n",
            "2021-04-12T20:36:06 prefetch.2.11.0: 1) Downloading 'SRR9990636'...\n",
            "2021-04-12T20:36:06 prefetch.2.11.0:  Downloading via HTTPS...\n",
            "2021-04-12T20:36:32 prefetch.2.11.0:  HTTPS download succeed\n",
            "2021-04-12T20:36:35 prefetch.2.11.0:  'SRR9990636' is valid\n",
            "2021-04-12T20:36:35 prefetch.2.11.0: 1) 'SRR9990636' was downloaded successfully\n",
            "2021-04-12T20:36:35 prefetch.2.11.0: 'SRR9990636' has 0 unresolved dependencies\n",
            "Read 8781311 spots for SRR9990636/SRR9990636.sra\n",
            "Written 8781311 spots for SRR9990636/SRR9990636.sra\n",
            "rm: cannot remove 'SRR9990636_3.fastq.gz': No such file or directory\n",
            "\n",
            "2021-04-12T20:52:06 prefetch.2.11.0: 1) Downloading 'SRR9990637'...\n",
            "2021-04-12T20:52:06 prefetch.2.11.0:  Downloading via HTTPS...\n",
            "2021-04-12T20:52:30 prefetch.2.11.0:  HTTPS download succeed\n",
            "2021-04-12T20:52:32 prefetch.2.11.0:  'SRR9990637' is valid\n",
            "2021-04-12T20:52:32 prefetch.2.11.0: 1) 'SRR9990637' was downloaded successfully\n",
            "2021-04-12T20:52:32 prefetch.2.11.0: 'SRR9990637' has 0 unresolved dependencies\n",
            "Read 7119346 spots for SRR9990637/SRR9990637.sra\n",
            "Written 7119346 spots for SRR9990637/SRR9990637.sra\n",
            "rm: cannot remove 'SRR9990637_3.fastq.gz': No such file or directory\n",
            "\n",
            "2021-04-12T21:05:22 prefetch.2.11.0: 1) Downloading 'SRR9990638'...\n",
            "2021-04-12T21:05:22 prefetch.2.11.0:  Downloading via HTTPS...\n",
            "2021-04-12T21:05:39 prefetch.2.11.0:  HTTPS download succeed\n",
            "2021-04-12T21:05:41 prefetch.2.11.0:  'SRR9990638' is valid\n",
            "2021-04-12T21:05:41 prefetch.2.11.0: 1) 'SRR9990638' was downloaded successfully\n",
            "2021-04-12T21:05:41 prefetch.2.11.0: 'SRR9990638' has 0 unresolved dependencies\n",
            "Read 13115661 spots for SRR9990638/SRR9990638.sra\n",
            "Written 13115661 spots for SRR9990638/SRR9990638.sra\n",
            "rm: cannot remove 'SRR9990638_3.fastq.gz': No such file or directory\n",
            "\n",
            "2021-04-12T21:19:33 prefetch.2.11.0: 1) Downloading 'SRR9990639'...\n",
            "2021-04-12T21:19:33 prefetch.2.11.0:  Downloading via HTTPS...\n",
            "2021-04-12T21:19:55 prefetch.2.11.0:  HTTPS download succeed\n",
            "2021-04-12T21:19:58 prefetch.2.11.0:  'SRR9990639' is valid\n",
            "2021-04-12T21:19:58 prefetch.2.11.0: 1) 'SRR9990639' was downloaded successfully\n",
            "2021-04-12T21:19:58 prefetch.2.11.0: 'SRR9990639' has 0 unresolved dependencies\n",
            "Read 7623882 spots for SRR9990639/SRR9990639.sra\n",
            "Written 7623882 spots for SRR9990639/SRR9990639.sra\n",
            "rm: cannot remove 'SRR9990639_3.fastq.gz': No such file or directory\n",
            "\n",
            "2021-04-12T21:33:36 prefetch.2.11.0: 1) Downloading 'SRR9990640'...\n",
            "2021-04-12T21:33:36 prefetch.2.11.0:  Downloading via HTTPS...\n",
            "2021-04-12T21:33:57 prefetch.2.11.0:  HTTPS download succeed\n",
            "2021-04-12T21:34:00 prefetch.2.11.0:  'SRR9990640' is valid\n",
            "2021-04-12T21:34:00 prefetch.2.11.0: 1) 'SRR9990640' was downloaded successfully\n",
            "2021-04-12T21:34:00 prefetch.2.11.0: 'SRR9990640' has 0 unresolved dependencies\n",
            "Read 7158711 spots for SRR9990640/SRR9990640.sra\n",
            "Written 7158711 spots for SRR9990640/SRR9990640.sra\n",
            "rm: cannot remove 'SRR9990640_3.fastq.gz': No such file or directory\n",
            "\n",
            "2021-04-12T21:46:56 prefetch.2.11.0: 1) Downloading 'SRR9990641'...\n",
            "2021-04-12T21:46:56 prefetch.2.11.0:  Downloading via HTTPS...\n",
            "2021-04-12T21:47:33 prefetch.2.11.0:  HTTPS download succeed\n",
            "2021-04-12T21:47:37 prefetch.2.11.0:  'SRR9990641' is valid\n",
            "2021-04-12T21:47:37 prefetch.2.11.0: 1) 'SRR9990641' was downloaded successfully\n",
            "2021-04-12T21:47:37 prefetch.2.11.0: 'SRR9990641' has 0 unresolved dependencies\n",
            "Read 12937995 spots for SRR9990641/SRR9990641.sra\n",
            "Written 12937995 spots for SRR9990641/SRR9990641.sra\n",
            "rm: cannot remove 'SRR9990641_3.fastq.gz': No such file or directory\n",
            "\n",
            "2021-04-12T22:08:06 prefetch.2.11.0: 1) Downloading 'SRR9990642'...\n",
            "2021-04-12T22:08:06 prefetch.2.11.0:  Downloading via HTTPS...\n",
            "2021-04-12T22:08:37 prefetch.2.11.0:  HTTPS download succeed\n",
            "2021-04-12T22:08:40 prefetch.2.11.0:  'SRR9990642' is valid\n",
            "2021-04-12T22:08:40 prefetch.2.11.0: 1) 'SRR9990642' was downloaded successfully\n",
            "2021-04-12T22:08:40 prefetch.2.11.0: 'SRR9990642' has 0 unresolved dependencies\n",
            "Read 10231477 spots for SRR9990642/SRR9990642.sra\n",
            "Written 10231477 spots for SRR9990642/SRR9990642.sra\n",
            "rm: cannot remove 'SRR9990642_3.fastq.gz': No such file or directory\n",
            "\n",
            "2021-04-12T22:25:19 prefetch.2.11.0: 1) Downloading 'SRR9990643'...\n",
            "2021-04-12T22:25:19 prefetch.2.11.0:  Downloading via HTTPS...\n",
            "2021-04-12T22:25:53 prefetch.2.11.0:  HTTPS download succeed\n",
            "2021-04-12T22:25:56 prefetch.2.11.0:  'SRR9990643' is valid\n",
            "2021-04-12T22:25:56 prefetch.2.11.0: 1) 'SRR9990643' was downloaded successfully\n",
            "2021-04-12T22:25:56 prefetch.2.11.0: 'SRR9990643' has 0 unresolved dependencies\n",
            "Read 10997899 spots for SRR9990643/SRR9990643.sra\n",
            "Written 10997899 spots for SRR9990643/SRR9990643.sra\n",
            "rm: cannot remove 'SRR9990643_3.fastq.gz': No such file or directory\n",
            "\n",
            "2021-04-12T22:43:35 prefetch.2.11.0: 1) Downloading 'SRR9990644'...\n",
            "2021-04-12T22:43:35 prefetch.2.11.0:  Downloading via HTTPS...\n",
            "2021-04-12T22:43:50 prefetch.2.11.0:  HTTPS download succeed\n",
            "2021-04-12T22:43:51 prefetch.2.11.0:  'SRR9990644' is valid\n",
            "2021-04-12T22:43:51 prefetch.2.11.0: 1) 'SRR9990644' was downloaded successfully\n",
            "2021-04-12T22:43:51 prefetch.2.11.0: 'SRR9990644' has 0 unresolved dependencies\n",
            "Read 10554424 spots for SRR9990644/SRR9990644.sra\n",
            "Written 10554424 spots for SRR9990644/SRR9990644.sra\n",
            "rm: cannot remove 'SRR9990644_3.fastq.gz': No such file or directory\n",
            "\n",
            "2021-04-12T22:55:29 prefetch.2.11.0: 1) Downloading 'SRR9990645'...\n",
            "2021-04-12T22:55:29 prefetch.2.11.0:  Downloading via HTTPS...\n",
            "2021-04-12T22:55:43 prefetch.2.11.0:  HTTPS download succeed\n",
            "2021-04-12T22:55:44 prefetch.2.11.0:  'SRR9990645' is valid\n",
            "2021-04-12T22:55:44 prefetch.2.11.0: 1) 'SRR9990645' was downloaded successfully\n",
            "2021-04-12T22:55:44 prefetch.2.11.0: 'SRR9990645' has 0 unresolved dependencies\n",
            "Read 11355017 spots for SRR9990645/SRR9990645.sra\n",
            "Written 11355017 spots for SRR9990645/SRR9990645.sra\n",
            "rm: cannot remove 'SRR9990645_3.fastq.gz': No such file or directory\n",
            "\n",
            "2021-04-12T23:07:53 prefetch.2.11.0: 1) Downloading 'SRR9990646'...\n",
            "2021-04-12T23:07:53 prefetch.2.11.0:  Downloading via HTTPS...\n",
            "2021-04-12T23:08:08 prefetch.2.11.0:  HTTPS download succeed\n",
            "2021-04-12T23:08:09 prefetch.2.11.0:  'SRR9990646' is valid\n",
            "2021-04-12T23:08:09 prefetch.2.11.0: 1) 'SRR9990646' was downloaded successfully\n",
            "2021-04-12T23:08:09 prefetch.2.11.0: 'SRR9990646' has 0 unresolved dependencies\n",
            "Read 10950939 spots for SRR9990646/SRR9990646.sra\n",
            "Written 10950939 spots for SRR9990646/SRR9990646.sra\n",
            "rm: cannot remove 'SRR9990646_3.fastq.gz': No such file or directory\n",
            "\n",
            "2021-04-12T23:19:54 prefetch.2.11.0: 1) Downloading 'SRR9990647'...\n",
            "2021-04-12T23:19:54 prefetch.2.11.0:  Downloading via HTTPS...\n",
            "2021-04-12T23:20:36 prefetch.2.11.0:  HTTPS download succeed\n",
            "2021-04-12T23:20:40 prefetch.2.11.0:  'SRR9990647' is valid\n",
            "2021-04-12T23:20:40 prefetch.2.11.0: 1) 'SRR9990647' was downloaded successfully\n",
            "2021-04-12T23:20:40 prefetch.2.11.0: 'SRR9990647' has 0 unresolved dependencies\n",
            "Read 12884052 spots for SRR9990647/SRR9990647.sra\n",
            "Written 12884052 spots for SRR9990647/SRR9990647.sra\n",
            "rm: cannot remove 'SRR9990647_3.fastq.gz': No such file or directory\n",
            "\n",
            "2021-04-12T23:40:59 prefetch.2.11.0: 1) Downloading 'SRR9990648'...\n",
            "2021-04-12T23:40:59 prefetch.2.11.0:  Downloading via HTTPS...\n",
            "2021-04-12T23:41:28 prefetch.2.11.0:  HTTPS download succeed\n",
            "2021-04-12T23:41:31 prefetch.2.11.0:  'SRR9990648' is valid\n",
            "2021-04-12T23:41:31 prefetch.2.11.0: 1) 'SRR9990648' was downloaded successfully\n",
            "2021-04-12T23:41:31 prefetch.2.11.0: 'SRR9990648' has 0 unresolved dependencies\n",
            "Read 10216311 spots for SRR9990648/SRR9990648.sra\n",
            "Written 10216311 spots for SRR9990648/SRR9990648.sra\n",
            "rm: cannot remove 'SRR9990648_3.fastq.gz': No such file or directory\n",
            "\n",
            "2021-04-12T23:58:04 prefetch.2.11.0: 1) Downloading 'SRR9990649'...\n",
            "2021-04-12T23:58:04 prefetch.2.11.0:  Downloading via HTTPS...\n",
            "2021-04-12T23:58:41 prefetch.2.11.0:  HTTPS download succeed\n",
            "2021-04-12T23:58:45 prefetch.2.11.0:  'SRR9990649' is valid\n",
            "2021-04-12T23:58:45 prefetch.2.11.0: 1) 'SRR9990649' was downloaded successfully\n",
            "2021-04-12T23:58:45 prefetch.2.11.0: 'SRR9990649' has 0 unresolved dependencies\n",
            "Read 13271228 spots for SRR9990649/SRR9990649.sra\n",
            "Written 13271228 spots for SRR9990649/SRR9990649.sra\n",
            "rm: cannot remove 'SRR9990649_3.fastq.gz': No such file or directory\n",
            "\n",
            "2021-04-13T00:19:30 prefetch.2.11.0: 1) Downloading 'SRR9990650'...\n",
            "2021-04-13T00:19:30 prefetch.2.11.0:  Downloading via HTTPS...\n",
            "2021-04-13T00:20:08 prefetch.2.11.0:  HTTPS download succeed\n",
            "2021-04-13T00:20:11 prefetch.2.11.0:  'SRR9990650' is valid\n",
            "2021-04-13T00:20:11 prefetch.2.11.0: 1) 'SRR9990650' was downloaded successfully\n",
            "2021-04-13T00:20:11 prefetch.2.11.0: 'SRR9990650' has 0 unresolved dependencies\n",
            "Read 10549316 spots for SRR9990650/SRR9990650.sra\n",
            "Written 10549316 spots for SRR9990650/SRR9990650.sra\n",
            "rm: cannot remove 'SRR9990650_3.fastq.gz': No such file or directory\n"
          ],
          "name": "stdout"
        }
      ]
    },
    {
      "cell_type": "code",
      "metadata": {
        "id": "bmN2opl1qHSh"
      },
      "source": [
        "# Define fastq list to feed kb\n",
        "\n",
        "fastqs = []\n",
        "for sra in SRAs:\n",
        "  for read in SRAs_to_keep:\n",
        "    fastqs.append(sra + \"_\" + read + \".fastq.gz\")"
      ],
      "execution_count": 4,
      "outputs": []
    },
    {
      "cell_type": "markdown",
      "metadata": {
        "id": "5tT2sVv2-XMD"
      },
      "source": [
        "## Metadata"
      ]
    },
    {
      "cell_type": "code",
      "metadata": {
        "id": "ggNFAQJCRh6P"
      },
      "source": [
        "# define the values for the analysis\n",
        "\n",
        "# accession id for the data\n",
        "id = \"GSE135922\"\n",
        "\n",
        "no_samples = 1\n",
        "\n",
        "fastqs_per_sample = [8] \n",
        "\n",
        "sample_id = samp_id\n",
        "\n",
        "database_id = [id] * no_samples\n",
        "\n",
        "tissue = [\"eye\"] * no_samples\n",
        "\n",
        "species = [\"human\"] * no_samples\n",
        "\n",
        "technology = [\"10xv3\"] * no_samples\n",
        "\n",
        "paper = [\"Sungnak et al 2020\"] * no_samples\n",
        "\n",
        "figure = [\"Fig 1\"] * no_samples\n",
        "\n",
        "\n",
        "# Set string variables for kb functions\n",
        "\n",
        "species_kb = species[0]\n",
        "\n",
        "technology_kb = technology[0]"
      ],
      "execution_count": 5,
      "outputs": []
    },
    {
      "cell_type": "markdown",
      "metadata": {
        "id": "FPwL0-_-KSAw"
      },
      "source": [
        "# Imports and installs"
      ]
    },
    {
      "cell_type": "code",
      "metadata": {
        "id": "1HSlUGZEp3oP",
        "colab": {
          "base_uri": "https://localhost:8080/"
        },
        "outputId": "dbe07331-0c6e-41c3-9a87-da442d4856b2"
      },
      "source": [
        "# install and import necessary software\n",
        "\n",
        "# Install kb and scanpy\n",
        "!pip -q install kb-python \n",
        "!pip -q install scanpy\n",
        "\n",
        "import re\n",
        "import os\n",
        "\n",
        "# Setup\n",
        "\n",
        "import anndata\n",
        "import pandas as pd\n",
        "import numpy as np\n",
        "import matplotlib.pyplot as plt\n",
        "import matplotlib as mpl\n",
        "import matplotlib.patches as mpatches\n",
        "import scanpy as sc\n",
        "from scipy import stats\n",
        "\n",
        "from collections import OrderedDict\n",
        "from sklearn.decomposition import TruncatedSVD\n",
        "from sklearn.manifold import TSNE\n",
        "from sklearn.preprocessing import scale\n",
        "\n",
        "from sklearn.cluster import KMeans\n",
        "from sklearn.preprocessing import normalize\n",
        "from sklearn.preprocessing import LabelEncoder\n",
        "from sklearn.neighbors import NeighborhoodComponentsAnalysis\n",
        "from matplotlib import cm\n",
        "from matplotlib.lines import Line2D\n",
        "\n",
        "def nd(arr):\n",
        "    return np.asarray(arr).reshape(-1)\n",
        "def yex(ax):\n",
        "    lims = [np.min([ax.get_xlim(), ax.get_ylim()]),\n",
        "            np.max([ax.get_xlim(), ax.get_ylim()])]\n",
        "\n",
        "    # now plot both limits against eachother\n",
        "    ax.plot(lims, lims, 'k-', alpha=0.75, zorder=0)\n",
        "    ax.set_aspect('equal')\n",
        "    ax.set_xlim(lims)\n",
        "    ax.set_ylim(lims)\n",
        "    return ax\n",
        "\n",
        "def trim_axs(axs, N):\n",
        "    \"\"\"little helper to massage the axs list to have correct length...\"\"\"\n",
        "    axs = axs.flat\n",
        "    for ax in axs[N:]:\n",
        "        ax.remove()\n",
        "    return axs[:N]\n",
        "\n",
        "import warnings\n",
        "warnings.filterwarnings('ignore')\n",
        "\n",
        "fsize=20\n",
        "\n",
        "plt.rcParams.update({'font.size': fsize})\n",
        "%config InlineBackend.figure_format = 'retina'"
      ],
      "execution_count": 6,
      "outputs": [
        {
          "output_type": "stream",
          "text": [
            "\u001b[K     |████████████████████████████████| 59.1MB 107kB/s \n",
            "\u001b[K     |████████████████████████████████| 51kB 5.3MB/s \n",
            "\u001b[K     |████████████████████████████████| 133kB 43.7MB/s \n",
            "\u001b[K     |████████████████████████████████| 10.3MB 25.2MB/s \n",
            "\u001b[K     |████████████████████████████████| 13.2MB 182kB/s \n",
            "\u001b[K     |████████████████████████████████| 112kB 49.5MB/s \n",
            "\u001b[K     |████████████████████████████████| 81kB 8.3MB/s \n",
            "\u001b[K     |████████████████████████████████| 51kB 4.5MB/s \n",
            "\u001b[K     |████████████████████████████████| 1.2MB 41.2MB/s \n",
            "\u001b[K     |████████████████████████████████| 71kB 7.5MB/s \n",
            "\u001b[?25h  Building wheel for loompy (setup.py) ... \u001b[?25l\u001b[?25hdone\n",
            "  Building wheel for numpy-groupies (setup.py) ... \u001b[?25l\u001b[?25hdone\n",
            "  Building wheel for umap-learn (setup.py) ... \u001b[?25l\u001b[?25hdone\n",
            "  Building wheel for sinfo (setup.py) ... \u001b[?25l\u001b[?25hdone\n",
            "  Building wheel for pynndescent (setup.py) ... \u001b[?25l\u001b[?25hdone\n"
          ],
          "name": "stdout"
        }
      ]
    },
    {
      "cell_type": "markdown",
      "metadata": {
        "id": "7V6FbosVrvP4"
      },
      "source": [
        "# Downloads: index"
      ]
    },
    {
      "cell_type": "code",
      "metadata": {
        "id": "PC9oETW1pE9t"
      },
      "source": [
        "# Download the corresponding Kallisto index to fastq folder\n",
        "!kb ref -d $species_kb -i index.idx -g t2g.txt -f1 transcriptome.fasta"
      ],
      "execution_count": null,
      "outputs": []
    },
    {
      "cell_type": "markdown",
      "metadata": {
        "id": "VInyuq1Dp7iz"
      },
      "source": [
        "# Process fastq files (modify kb command according to fastqs list)\n"
      ]
    },
    {
      "cell_type": "code",
      "metadata": {
        "id": "F6FD32x-shPe"
      },
      "source": [
        "fastqs"
      ],
      "execution_count": null,
      "outputs": []
    },
    {
      "cell_type": "code",
      "metadata": {
        "id": "5qFzPj-0kZTi"
      },
      "source": [
        "# Specify the sample number \n",
        "\n",
        "\n",
        "if no_samples == 1:\n",
        "\n",
        "  # Write the kb count command as a string with all fastqs of the list as an input\n",
        "  cmd = \"kb count --h5ad -i index.idx -g t2g.txt -x \" + technology_kb + \" -o output\" + sample_id[0] + \" \"\\\n",
        "  + \"--filter bustools -t 2 --overwrite \" + \"'\" +  \"' '\".join(fastqs) + \"'\"\n",
        "  \n",
        "  # Execute it\n",
        "  !$cmd\n",
        "\n",
        "# If more than one sample, iterate through fastqs accordingly\n",
        "else:\n",
        "\n",
        "  # Initializa counter for fastq files\n",
        "  j = 0\n",
        "\n",
        "  # Loop over samples for analysis\n",
        "  for i in range(no_samples):\n",
        "\n",
        "    fastqs_to_analyze = fastqs[j:j + fastqs_per_sample[i]]\n",
        "    # Write the kb count command as a string\n",
        "    cmd = \"kb count --h5ad -i index.idx -g t2g.txt -x \" + technology_kb + \" -o output\" + sample_id[i] + \" \\\n",
        "    --filter bustools -t 2 --overwrite \" + \"'\" +  \"' '\".join(fastqs_to_analyze) + \"'\"\n",
        "\n",
        "    # Execute it\n",
        "    !$cmd\n",
        "\n",
        "    # Update j to move to the next set of fastq\n",
        "    j = j + fastqs_per_sample[i]\n",
        "\n",
        "\n",
        "\n",
        "\n",
        "\n"
      ],
      "execution_count": null,
      "outputs": []
    },
    {
      "cell_type": "markdown",
      "metadata": {
        "id": "tDijOZzrqhN2"
      },
      "source": [
        "# Load unfiltered matrix and assign filters to each matrix individually"
      ]
    },
    {
      "cell_type": "markdown",
      "metadata": {
        "id": "VkNLZh_pNFFw"
      },
      "source": [
        "## Load the unfiltered matrix (check dimensions)"
      ]
    },
    {
      "cell_type": "code",
      "metadata": {
        "id": "PppRNeV8AIyw"
      },
      "source": [
        "# Define dict to store data\n",
        "results = {}\n"
      ],
      "execution_count": 15,
      "outputs": []
    },
    {
      "cell_type": "code",
      "metadata": {
        "id": "x0JQ0JqdHABv",
        "outputId": "fba9a0cc-f6f0-4226-e61d-ed3040b7c3a3",
        "colab": {
          "base_uri": "https://localhost:8080/"
        }
      },
      "source": [
        "# load the unfiltered matrix\n",
        "for i in range(no_samples):\n",
        "  results[sample_id[i]] = anndata.read_h5ad(\"output\" + sample_id[i] + \"/counts_unfiltered/adata.h5ad\")\n",
        "  results[sample_id[i]].var[\"gene_id\"] = results[sample_id[i]].var.index.values\n",
        "\n",
        "  t2g = pd.read_csv(\"t2g.txt\", header=None, names=[\"tid\", \"gene_id\", \"gene_name\"], sep=\"\\t\")\n",
        "  t2g.index = t2g.gene_id\n",
        "  t2g = t2g.loc[~t2g.index.duplicated(keep='first')]\n",
        "\n",
        "  results[sample_id[i]].var[\"gene_name\"] = results[sample_id[i]].var.gene_id.map(t2g[\"gene_name\"])\n",
        "  results[sample_id[i]].var.index = results[sample_id[i]].var[\"gene_name\"]\n",
        "  print(\"The unfiltered matrix \" + sample_id[i] + \" contains {} cells by {} genes\".format(len(results[sample_id[i]].obs), len(results[sample_id[i]].var)))\n",
        "\n",
        "  results[sample_id[i]].obs[\"cell_counts\"] = results[sample_id[i]].X.sum(axis=1)\n",
        "  results[sample_id[i]].var[\"gene_counts\"] = nd(results[sample_id[i]].X.sum(axis=0))\n",
        "\n",
        "  results[sample_id[i]].obs[\"n_genes\"] = nd((results[sample_id[i]].X>0).sum(axis=1))\n",
        "  results[sample_id[i]].var[\"n_cells\"] = nd((results[sample_id[i]].X>0).sum(axis=0))\n",
        "\n",
        "  mito_genes = results[sample_id[i]].var_names.str.startswith(\"MT-\" or \"mt-\") \n",
        "  results[sample_id[i]].obs[\"percent_mito\"] = results[sample_id[i]][:,mito_genes].X.sum(axis=1)/results[sample_id[i]].X.sum(axis=1)*100\n",
        "\n",
        "  # Changing the name of the index is necessary to write the file (it won't work with duplicated names)\n",
        "  results[sample_id[i]].var.index.name = \"index\"\n",
        "\n"
      ],
      "execution_count": 16,
      "outputs": [
        {
          "output_type": "stream",
          "text": [
            "The unfiltered matrix GSM4037981 contains 292638 cells by 60623 genes\n"
          ],
          "name": "stdout"
        }
      ]
    },
    {
      "cell_type": "markdown",
      "metadata": {
        "id": "hDAUH3eH_2RA"
      },
      "source": [
        "## Assign filters for each matrix individually"
      ]
    },
    {
      "cell_type": "code",
      "metadata": {
        "id": "Y7BtZ5-HHCLZ"
      },
      "source": [
        "# Modify this manually to change sample after having assigned the \"expected_num_cells\" and \"mito_criteria\" parameters\n",
        "samp_n = 0\n",
        "\n",
        "\n",
        "# Filtering criteria\n",
        "cell_threshold = 100\n",
        "gene_threshold = 3\n",
        "\n",
        "mito_criteria = 30"
      ],
      "execution_count": 17,
      "outputs": []
    },
    {
      "cell_type": "code",
      "metadata": {
        "cellView": "form",
        "id": "yGt9rjSNHF-F",
        "outputId": "b37051bc-00eb-4110-a491-e3d99e3bb8f8",
        "colab": {
          "base_uri": "https://localhost:8080/",
          "height": 722
        }
      },
      "source": [
        "\n",
        "expected_num_cells = 500#@param {type:\"integer\"}\n",
        "knee = np.sort(nd(results[sample_id[samp_n]].X.sum(axis=1)))[::-1]\n",
        "\n",
        "fig, ax = plt.subplots(figsize=(5, 5))\n",
        "\n",
        "x = knee\n",
        "y = range(len(knee))\n",
        "\n",
        "ax.loglog(x, y, linewidth=5, color=\"g\")\n",
        "\n",
        "ax.axvline(x=knee[expected_num_cells], linewidth=3, color=\"k\")\n",
        "ax.axhline(y=expected_num_cells, linewidth=3, color=\"k\")\n",
        "\n",
        "ax.set_xlabel(\"UMI Counts\")\n",
        "ax.set_ylabel(\"Set of Barcodes\")\n",
        "\n",
        "plt.show()\n",
        "\n",
        "cell_threshold = knee[expected_num_cells]\n",
        "\n",
        "results[\"cell_threshold\" + sample_id[samp_n]] = knee[expected_num_cells]\n",
        "\n",
        "print (\"Cells were filtered down to \" + str(expected_num_cells) + \" with at least \" + str(cell_threshold) + \" UMIs\")\n",
        "\n",
        "\n",
        "mito_criteria = 30#@param {type:\"integer\"}\n",
        "results[\"mito_criteria\" + sample_id[samp_n]] = mito_criteria\n",
        "\n",
        "fig, ax = plt.subplots(figsize=(5,5))\n",
        "\n",
        "\n",
        "x = nd(results[sample_id[samp_n]].obs[\"cell_counts\"][results[sample_id[samp_n]].obs[\"cell_counts\"] > cell_threshold])\n",
        "y = nd(results[sample_id[samp_n]].obs[\"percent_mito\"][results[sample_id[samp_n]].obs[\"cell_counts\"] > cell_threshold])\n",
        "\n",
        "ax.scatter(x, y, color=\"green\", alpha=0.1)\n",
        "\n",
        "ax.axhline(y=mito_criteria, linestyle=\"--\", color=\"k\")\n",
        "\n",
        "\n",
        "ax.set_xlabel(\"UMI Counts\")\n",
        "ax.set_ylabel(\"Percent mito\")\n",
        "\n",
        "\n",
        "plt.show()\n",
        "\n",
        "print(\"We select \" + str(mito_criteria) + \" % as the mitochondrial content threshold\")"
      ],
      "execution_count": 20,
      "outputs": [
        {
          "output_type": "display_data",
          "data": {
            "image/png": "[encoded data removed]",
            "text/plain": [
              "<Figure size 360x360 with 1 Axes>"
            ]
          },
          "metadata": {
            "tags": [],
            "image/png": {
              "width": 358,
              "height": 337
            },
            "needs_background": "light"
          }
        },
        {
          "output_type": "stream",
          "text": [
            "Cells were filtered down to 500 with at least 3479.0 UMIs\n"
          ],
          "name": "stdout"
        },
        {
          "output_type": "display_data",
          "data": {
            "image/png": "[encoded data removed]",
            "text/plain": [
              "<Figure size 360x360 with 1 Axes>"
            ]
          },
          "metadata": {
            "tags": [],
            "image/png": {
              "width": 362,
              "height": 337
            },
            "needs_background": "light"
          }
        },
        {
          "output_type": "stream",
          "text": [
            "We select 30 % as the mitochondrial content threshold\n"
          ],
          "name": "stdout"
        }
      ]
    },
    {
      "cell_type": "markdown",
      "metadata": {
        "id": "eP9j2ouPq9KY"
      },
      "source": [
        "# Filter matrix"
      ]
    },
    {
      "cell_type": "code",
      "metadata": {
        "colab": {
          "base_uri": "https://localhost:8080/"
        },
        "id": "sE51WUA3gVmG",
        "outputId": "46431ff8-97b8-45a8-fe30-76d3dadfa65e"
      },
      "source": [
        "for i in range(no_samples):\n",
        "  results[sample_id[i]].obs[\"pass_count_filter\"] = results[sample_id[i]].obs[\"cell_counts\"] > results[\"cell_threshold\" + sample_id[i]]\n",
        "  results[sample_id[i]].obs[\"pass_mito_filter\"] = results[sample_id[i]].obs.percent_mito < results[\"mito_criteria\" + sample_id[i]]\n",
        "  results[sample_id[i]].var[\"pass_gene_filter\"] = results[sample_id[i]].var[\"n_cells\"] > gene_threshold\n",
        "\n",
        "  cell_mask = np.logical_and(results[sample_id[i]].obs[\"pass_count_filter\"].values, results[sample_id[i]].obs[\"pass_mito_filter\"].values)\n",
        "  gene_mask = results[sample_id[i]].var[\"pass_gene_filter\"].values\n",
        "\n",
        "  print(\"Current Shape: {:,} cells x {:,} genes\".format(results[sample_id[i]].shape[0], results[sample_id[i]].shape[1]))\n",
        "  print(\"    New shape: {:,} cells x {:,} genes\".format(cell_mask.sum(), gene_mask.sum()))\n",
        "  results[\"data_\" + sample_id[i]] = results[sample_id[i]][cell_mask, gene_mask]"
      ],
      "execution_count": 21,
      "outputs": [
        {
          "output_type": "stream",
          "text": [
            "Current Shape: 292,638 cells x 60,623 genes\n",
            "    New shape: 395 cells x 25,339 genes\n"
          ],
          "name": "stdout"
        }
      ]
    },
    {
      "cell_type": "markdown",
      "metadata": {
        "id": "BxPA81yj4TlU"
      },
      "source": [
        "# Anotate and write the Anndata object"
      ]
    },
    {
      "cell_type": "code",
      "metadata": {
        "colab": {
          "base_uri": "https://localhost:8080/"
        },
        "id": "O-q_Qj2U4kDU",
        "outputId": "a2304bc1-2a7b-484f-fc31-2d9faca54a28"
      },
      "source": [
        "for i in range(no_samples):\n",
        "\n",
        "\n",
        "  results[\"data_\" + sample_id[i]].uns[\"database_id\"] = database_id[samp_n]\n",
        "\n",
        "  results[\"data_\" + sample_id[i]].uns[\"tissue\"] = tissue[samp_n]\n",
        "\n",
        "  results[\"data_\" + sample_id[i]].uns[\"cell_type\"] = cell_type[samp_n]\n",
        "\n",
        "  results[\"data_\" + sample_id[i]].uns[\"sample_id\"] = sample_id[samp_n]\n",
        "\n",
        "  results[\"data_\" + sample_id[i]].uns[\"condition\"] = condition[samp_n]\n",
        "\n",
        "  results[\"data_\" + sample_id[i]].uns[\"species\"] = species[samp_n]\n",
        "\n",
        "  results[\"data_\" + sample_id[i]].uns[\"technology\"] = technology[samp_n]\n",
        "\n",
        "  results[\"data_\" + sample_id[i]].uns[\"paper\"] = paper[samp_n]\n",
        "\n",
        "  results[\"data_\" + sample_id[i]].uns[\"figure\"] = figure[samp_n]\n",
        "\n",
        "\n",
        "%cd /content\n",
        "\n",
        "for i in range(no_samples):\n",
        "\n",
        "  results[\"data_\" + sample_id[i]].write(\"result\" + sample_id[i])"
      ],
      "execution_count": 22,
      "outputs": [
        {
          "output_type": "stream",
          "text": [
            "Trying to set attribute `.uns` of view, copying.\n",
            "Variable names are not unique. To make them unique, call `.var_names_make_unique`.\n",
            "Variable names are not unique. To make them unique, call `.var_names_make_unique`.\n"
          ],
          "name": "stderr"
        },
        {
          "output_type": "stream",
          "text": [
            "/content\n"
          ],
          "name": "stdout"
        },
        {
          "output_type": "stream",
          "text": [
            "... storing 'gene_name' as categorical\n"
          ],
          "name": "stderr"
        }
      ]
    }
  ]
}