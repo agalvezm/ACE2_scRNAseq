{
  "nbformat": 4,
  "nbformat_minor": 0,
  "metadata": {
    "colab": {
      "name": "Copy of PRJCA002413_CRX118013.ipynb",
      "provenance": [],
      "collapsed_sections": [],
      "toc_visible": true,
      "include_colab_link": true
    },
    "kernelspec": {
      "display_name": "Python 3",
      "name": "python3"
    }
  },
  "cells": [
    {
      "cell_type": "markdown",
      "metadata": {
        "id": "view-in-github",
        "colab_type": "text"
      },
      "source": [
        "<a href=\"https://colab.research.google.com/github/agalvezm/ACE2_scRNAseq/blob/master/notebooks_countmatrices/PRJCA002413_CRX118013.ipynb\" target=\"_parent\"><img src=\"https://colab.research.google.com/assets/colab-badge.svg\" alt=\"Open In Colab\"/></a>"
      ]
    },
    {
      "cell_type": "markdown",
      "metadata": {
        "id": "V9ryXluJsJw9"
      },
      "source": [
        "# PRJCA002413_CRX118013"
      ]
    },
    {
      "cell_type": "code",
      "metadata": {
        "id": "ggNFAQJCRh6P"
      },
      "source": [
        "# define the values for the analysis\n",
        "\n",
        "# accession id for the data\n",
        "id = \"PRJCA002413\"\n",
        "samp_id = [\"CRX118013\"]\n",
        "\n",
        "# If only bam available files, set bam = True, Fill link and filename\n",
        "bam = False\n",
        "\n",
        "# If fastq links available but are not ffq links\n",
        "fastq_ffqlinks = False\n",
        "\n",
        "\n",
        "if bam:\n",
        "  # Assign link to python variable\n",
        "  link_to_bam = \"\"\n",
        "  \n",
        "  # Assigns the link to the bash variable BAM_LINK. To be used by wget\n",
        "  %env BAM_LINK=$link_to_bam\n",
        "\n",
        "  # Assign filename to python variable. Used to convert to fastq and remove bam file to fastq after conversion\n",
        "\n",
        "  bam_filename=\"\"\n",
        "\n",
        "\n",
        "if not bam:\n",
        "\n",
        "  # Copy and paste the links from the ACE2 scRNAseq datasets google  spreadsheet\n",
        "  links_raw = \"ftp://download.big.ac.cn/gsa3/CRA002497/CRR143965/CRR143965_f1.fastq.gz\tftp://download.big.ac.cn/gsa3/CRA002497/CRR143965/CRR143965_r2.fastq.gz\tftp://download.big.ac.cn/gsa3/CRA002497/CRR143966/CRR143966_f1.fastq.gz\tftp://download.big.ac.cn/gsa3/CRA002497/CRR143966/CRR143966_r2.fastq.gz\tftp://download.big.ac.cn/gsa3/CRA002497/CRR143967/CRR143967_f1.fastq.gz\tftp://download.big.ac.cn/gsa3/CRA002497/CRR143967/CRR143967_r2.fastq.gz\tftp://download.big.ac.cn/gsa3/CRA002497/CRR143968/CRR143968_f1.fastq.gz\tftp://download.big.ac.cn/gsa3/CRA002497/CRR143968/CRR143968_r2.fastq.gz\tftp://download.big.ac.cn/gsa3/CRA002497/CRR143969/CRR143969_f1.fastq.gz\tftp://download.big.ac.cn/gsa3/CRA002497/CRR143969/CRR143969_r2.fastq.gz\tftp://download.big.ac.cn/gsa3/CRA002497/CRR143970/CRR143970_f1.fastq.gz\tftp://download.big.ac.cn/gsa3/CRA002497/CRR143970/CRR143970_r2.fastq.gz\tftp://download.big.ac.cn/gsa3/CRA002497/CRR143971/CRR143971_f1.fastq.gz\tftp://download.big.ac.cn/gsa3/CRA002497/CRR143971/CRR143971_r2.fastq.gz\tftp://download.big.ac.cn/gsa3/CRA002497/CRR143972/CRR143972_f1.fastq.gz\tftp://download.big.ac.cn/gsa3/CRA002497/CRR143972/CRR143972_r2.fastq.gz\tftp://download.big.ac.cn/gsa3/CRA002497/CRR143973/CRR143973_f1.fastq.gz\tftp://download.big.ac.cn/gsa3/CRA002497/CRR143973/CRR143973_r2.fastq.gz\tftp://download.big.ac.cn/gsa3/CRA002497/CRR143974/CRR143974_f1.fastq.gz\tftp://download.big.ac.cn/gsa3/CRA002497/CRR143974/CRR143974_r2.fastq.gz\tftp://download.big.ac.cn/gsa3/CRA002497/CRR143975/CRR143975_f1.fastq.gz\tftp://download.big.ac.cn/gsa3/CRA002497/CRR143975/CRR143975_r2.fastq.gz\tftp://download.big.ac.cn/gsa3/CRA002497/CRR143976/CRR143976_f1.fastq.gz\tftp://download.big.ac.cn/gsa3/CRA002497/CRR143976/CRR143976_r2.fastq.gz\"\n",
        "\n",
        "  # Convert it to a list where each link is an element\n",
        "  \n",
        "  fastqs = links_raw.split()\n",
        "\n",
        "#sample specific metadata\n",
        "\n",
        "no_samples = 1\n",
        "\n",
        "condition = [\"healthy control\"] * no_samples"
      ],
      "execution_count": 1,
      "outputs": []
    },
    {
      "cell_type": "code",
      "metadata": {
        "id": "5R3tPDqnoJUn"
      },
      "source": [
        "no_samples = 1\n",
        "\n",
        "fastqs_per_sample = [4, 8, 8] \n",
        "\n",
        "sample_id = samp_id\n",
        "\n",
        "database_id = [id] * no_samples\n",
        "\n",
        "tissue = [\"blood\"] * no_samples\n",
        "\n",
        "cell_type = [\"PBMCs\"] * no_samples\n",
        "\n",
        "species = [\"human\"] * no_samples\n",
        "\n",
        "technology = [\"10xv2\"] * no_samples\n",
        "\n",
        "paper = [\"Wen et al 2020\"] * no_samples\n",
        "\n",
        "figure = [\"Fig: all\"] * no_samples\n",
        "\n",
        "\n",
        "# Set string variables for kb functions\n",
        "\n",
        "species_kb = species[0]\n",
        "\n",
        "technology_kb = technology[0]\n",
        "\n"
      ],
      "execution_count": 2,
      "outputs": []
    },
    {
      "cell_type": "markdown",
      "metadata": {
        "id": "FPwL0-_-KSAw"
      },
      "source": [
        "# Imports and installs"
      ]
    },
    {
      "cell_type": "code",
      "metadata": {
        "colab": {
          "base_uri": "https://localhost:8080/"
        },
        "id": "1HSlUGZEp3oP",
        "outputId": "b22097db-8c8a-4963-e08c-a8202fe26e3d"
      },
      "source": [
        "# install and import necessary software\n",
        "\n",
        "# Install kb and scanpy\n",
        "!pip -q install kb-python \n",
        "!pip -q install scanpy\n",
        "\n",
        "import re\n",
        "import os\n",
        "\n",
        "# Setup\n",
        "\n",
        "import anndata\n",
        "import pandas as pd\n",
        "import numpy as np\n",
        "import matplotlib.pyplot as plt\n",
        "import matplotlib as mpl\n",
        "import matplotlib.patches as mpatches\n",
        "import scanpy as sc\n",
        "from scipy import stats\n",
        "\n",
        "from collections import OrderedDict\n",
        "from sklearn.decomposition import TruncatedSVD\n",
        "from sklearn.manifold import TSNE\n",
        "from sklearn.preprocessing import scale\n",
        "\n",
        "from sklearn.cluster import KMeans\n",
        "from sklearn.preprocessing import normalize\n",
        "from sklearn.preprocessing import LabelEncoder\n",
        "from sklearn.neighbors import NeighborhoodComponentsAnalysis\n",
        "from matplotlib import cm\n",
        "from matplotlib.lines import Line2D\n",
        "\n",
        "def nd(arr):\n",
        "    return np.asarray(arr).reshape(-1)\n",
        "def yex(ax):\n",
        "    lims = [np.min([ax.get_xlim(), ax.get_ylim()]),\n",
        "            np.max([ax.get_xlim(), ax.get_ylim()])]\n",
        "\n",
        "    # now plot both limits against eachother\n",
        "    ax.plot(lims, lims, 'k-', alpha=0.75, zorder=0)\n",
        "    ax.set_aspect('equal')\n",
        "    ax.set_xlim(lims)\n",
        "    ax.set_ylim(lims)\n",
        "    return ax\n",
        "\n",
        "def trim_axs(axs, N):\n",
        "    \"\"\"little helper to massage the axs list to have correct length...\"\"\"\n",
        "    axs = axs.flat\n",
        "    for ax in axs[N:]:\n",
        "        ax.remove()\n",
        "    return axs[:N]\n",
        "\n",
        "import warnings\n",
        "warnings.filterwarnings('ignore')\n",
        "\n",
        "fsize=20\n",
        "\n",
        "plt.rcParams.update({'font.size': fsize})\n",
        "%config InlineBackend.figure_format = 'retina'"
      ],
      "execution_count": 3,
      "outputs": [
        {
          "output_type": "stream",
          "text": [
            "\u001b[K     |████████████████████████████████| 59.1MB 125kB/s \n",
            "\u001b[K     |████████████████████████████████| 13.2MB 35.5MB/s \n",
            "\u001b[K     |████████████████████████████████| 10.3MB 36.6MB/s \n",
            "\u001b[K     |████████████████████████████████| 133kB 44.9MB/s \n",
            "\u001b[K     |████████████████████████████████| 51kB 6.4MB/s \n",
            "\u001b[K     |████████████████████████████████| 81kB 8.7MB/s \n",
            "\u001b[K     |████████████████████████████████| 112kB 39.0MB/s \n",
            "\u001b[K     |████████████████████████████████| 1.2MB 29.3MB/s \n",
            "\u001b[K     |████████████████████████████████| 71kB 7.6MB/s \n",
            "\u001b[?25h  Building wheel for loompy (setup.py) ... \u001b[?25l\u001b[?25hdone\n",
            "  Building wheel for umap-learn (setup.py) ... \u001b[?25l\u001b[?25hdone\n",
            "  Building wheel for sinfo (setup.py) ... \u001b[?25l\u001b[?25hdone\n",
            "  Building wheel for numpy-groupies (setup.py) ... \u001b[?25l\u001b[?25hdone\n",
            "  Building wheel for pynndescent (setup.py) ... \u001b[?25l\u001b[?25hdone\n"
          ],
          "name": "stdout"
        }
      ]
    },
    {
      "cell_type": "markdown",
      "metadata": {
        "id": "7V6FbosVrvP4"
      },
      "source": [
        "# Downloads: (bam (if bam) and index"
      ]
    },
    {
      "cell_type": "code",
      "metadata": {
        "id": "q46hw4zqKUPS"
      },
      "source": [
        "if bam:\n",
        "\n",
        "  # Install bamtofastq from 10x website (only bam files available)\n",
        "  !wget http://cf.10xgenomics.com/misc/bamtofastq-1.2.0\n",
        "  !chmod +x bamtofastq-1.2.0\n",
        "  # Download the bam file\n",
        "  !wget -- continue ${BAM_LINK}\n",
        "\n",
        "\n"
      ],
      "execution_count": 4,
      "outputs": []
    },
    {
      "cell_type": "code",
      "metadata": {
        "id": "tDQlrjtqNF0m"
      },
      "source": [
        "if bam:\n",
        "  # Convert to fastq\n",
        "  !./bamtofastq-1.2.0 --reads-per-fastq=500000000 $bam_filename ./fastqs\\\n",
        "\n",
        "  # Remove original bam file to save space\n",
        "  !rm $bam_filename\n"
      ],
      "execution_count": 5,
      "outputs": []
    },
    {
      "cell_type": "code",
      "metadata": {
        "id": "SXRDRphvqcLe"
      },
      "source": [
        "# Store fastq names on a list\n",
        "\n",
        "if bam:\n",
        "  # cd into fastqs folder\n",
        "  %cd /content/fastqs\n",
        "\n",
        "  #store the name of the folder generated by bamtofastq\n",
        "  _filename = os.listdir()[0]\n",
        "\n",
        "  # cd into that folder\n",
        "  %cd $_filename\n",
        "\n",
        "  # store fastq names in a list\n",
        "  fastqs = os.listdir()\n",
        "\n",
        "\n",
        "  # Remove I1 and R3 reads not relevant for our analysis\n",
        "\n",
        "  # Initialize list containing elements to remove\n",
        "  remov_elem = []\n",
        "\n",
        "  print (\"\\n\\nThis is the complete list of fastqs:\\n -----------\")\n",
        "  for elem in fastqs:\n",
        "    print (elem)\n",
        "\n",
        "  # Search index (I1 or R3) fastqs and remove them from list\n",
        "  for elem in fastqs:\n",
        "    if re.search(\"_R3_\", elem) or re.search(\"_I1_\", elem):\n",
        "      remov_elem = remov_elem +[elem]\n",
        "\n",
        "  fastqs = [elem for elem in fastqs if elem not in remov_elem] \n",
        "\n",
        "  print (\"\\n\\nThis is the filtered list of fastqs:\\n -----------\")\n",
        "  for elem in fastqs:\n",
        "    print (elem)\n"
      ],
      "execution_count": 6,
      "outputs": []
    },
    {
      "cell_type": "code",
      "metadata": {
        "id": "ZnFcqcSgjLBw"
      },
      "source": [
        "# Remove fastqs that wont be analyzed to save space\n",
        "if bam:\n",
        "  for elem in remov_elem:\n",
        "    !rm $elem"
      ],
      "execution_count": 7,
      "outputs": []
    },
    {
      "cell_type": "code",
      "metadata": {
        "id": "FLVS8aB7Dm6J"
      },
      "source": [
        "if bam:\n",
        "  # sort fastqs alphabetically to get R1 and R2 in order\n",
        "  fastqs = sorted(fastqs)"
      ],
      "execution_count": 8,
      "outputs": []
    },
    {
      "cell_type": "code",
      "metadata": {
        "id": "FE9gWbQgpBfR",
        "colab": {
          "base_uri": "https://localhost:8080/"
        },
        "outputId": "ff6e9fdc-e2f2-4e8c-82c9-965e86f2cb43"
      },
      "source": [
        "# wget fastqs from non ffq links in fastqs folder\n",
        "if not bam and not fastq_ffqlinks:\n",
        "  !mkdir fastqs\n",
        "  %cd fastqs\n",
        "  while len(os.listdir()) != len(fastqs):\n",
        "    for link in fastqs:\n",
        "      !wget $link --continue\n",
        "\n",
        "  # update fastqs variable with name of files\n",
        "  fastqs = sorted(os.listdir())"
      ],
      "execution_count": null,
      "outputs": [
        {
          "output_type": "stream",
          "text": [
            "/content/fastqs\n",
            "--2021-05-03 17:29:10--  ftp://download.big.ac.cn/gsa3/CRA002497/CRR143965/CRR143965_f1.fastq.gz\n",
            "           => ‘CRR143965_f1.fastq.gz’\n",
            "Resolving download.big.ac.cn (download.big.ac.cn)... 124.16.164.229\n",
            "Connecting to download.big.ac.cn (download.big.ac.cn)|124.16.164.229|:21... connected.\n",
            "Logging in as anonymous ... Logged in!\n",
            "==> SYST ... done.    ==> PWD ... done.\n",
            "==> TYPE I ... done.  ==> CWD (1) /gsa3/CRA002497/CRR143965 ... done.\n",
            "==> SIZE CRR143965_f1.fastq.gz ... 3432268128\n",
            "==> PASV ... done.    ==> RETR CRR143965_f1.fastq.gz ... done.\n",
            "Length: 3432268128 (3.2G) (unauthoritative)\n",
            "\n",
            "CRR143965_f1.fastq. 100%[===================>]   3.20G  14.1MB/s    in 4m 2s   \n",
            "\n",
            "2021-05-03 17:33:15 (13.5 MB/s) - ‘CRR143965_f1.fastq.gz’ saved [3432268128]\n",
            "\n",
            "--2021-05-03 17:33:15--  ftp://download.big.ac.cn/gsa3/CRA002497/CRR143965/CRR143965_r2.fastq.gz\n",
            "           => ‘CRR143965_r2.fastq.gz’\n",
            "Resolving download.big.ac.cn (download.big.ac.cn)... 124.16.164.229\n",
            "Connecting to download.big.ac.cn (download.big.ac.cn)|124.16.164.229|:21... connected.\n",
            "Logging in as anonymous ... Logged in!\n",
            "==> SYST ... done.    ==> PWD ... done.\n",
            "==> TYPE I ... done.  ==> CWD (1) /gsa3/CRA002497/CRR143965 ... done.\n",
            "==> SIZE CRR143965_r2.fastq.gz ... 12977164951\n",
            "==> PASV ... done.    ==> RETR CRR143965_r2.fastq.gz ... done.\n",
            "Length: 12977164951 (12G) (unauthoritative)\n",
            "\n",
            "CRR143965_r2.fastq. 100%[===================>]  12.08G  12.8MB/s    in 17m 11s \n",
            "\n",
            "2021-05-03 17:50:29 (12.0 MB/s) - Control connection closed.\n",
            "Retrying.\n",
            "\n",
            "--2021-05-03 18:05:30--  ftp://download.big.ac.cn/gsa3/CRA002497/CRR143965/CRR143965_r2.fastq.gz\n",
            "  (try: 2) => ‘CRR143965_r2.fastq.gz’\n",
            "Connecting to download.big.ac.cn (download.big.ac.cn)|124.16.164.229|:21... connected.\n",
            "Logging in as anonymous ... Logged in!\n",
            "==> SYST ... done.    ==> PWD ... done.\n",
            "==> TYPE I ... done.  ==> CWD (1) /gsa3/CRA002497/CRR143965 ... done.\n",
            "==> SIZE CRR143965_r2.fastq.gz ... 12977164951\n",
            "File has already been retrieved.\n",
            "2021-05-03 18:05:31 (0.00 B/s) - ‘CRR143965_r2.fastq.gz’ saved [12977164951]\n",
            "\n",
            "--2021-05-03 18:05:32--  ftp://download.big.ac.cn/gsa3/CRA002497/CRR143966/CRR143966_f1.fastq.gz\n",
            "           => ‘CRR143966_f1.fastq.gz’\n",
            "Resolving download.big.ac.cn (download.big.ac.cn)... 124.16.164.229\n",
            "Connecting to download.big.ac.cn (download.big.ac.cn)|124.16.164.229|:21... connected.\n",
            "Logging in as anonymous ... Logged in!\n",
            "==> SYST ... done.    ==> PWD ... done.\n",
            "==> TYPE I ... done.  ==> CWD (1) /gsa3/CRA002497/CRR143966 ... done.\n",
            "==> SIZE CRR143966_f1.fastq.gz ... 1649419059\n",
            "==> PASV ... done.    ==> RETR CRR143966_f1.fastq.gz ... done.\n",
            "Length: 1649419059 (1.5G) (unauthoritative)\n",
            "\n",
            "CRR143966_f1.fastq. 100%[===================>]   1.54G  13.5MB/s    in 1m 59s  \n",
            "\n",
            "2021-05-03 18:07:34 (13.2 MB/s) - ‘CRR143966_f1.fastq.gz’ saved [1649419059]\n",
            "\n",
            "--2021-05-03 18:07:34--  ftp://download.big.ac.cn/gsa3/CRA002497/CRR143966/CRR143966_r2.fastq.gz\n",
            "           => ‘CRR143966_r2.fastq.gz’\n",
            "Resolving download.big.ac.cn (download.big.ac.cn)... 124.16.164.229\n",
            "Connecting to download.big.ac.cn (download.big.ac.cn)|124.16.164.229|:21... connected.\n",
            "Logging in as anonymous ... Logged in!\n",
            "==> SYST ... done.    ==> PWD ... done.\n",
            "==> TYPE I ... done.  ==> CWD (1) /gsa3/CRA002497/CRR143966 ... done.\n",
            "==> SIZE CRR143966_r2.fastq.gz ... 6206841910\n",
            "==> PASV ... done.    ==> RETR CRR143966_r2.fastq.gz ... done.\n",
            "Length: 6206841910 (5.8G) (unauthoritative)\n",
            "\n",
            "CRR143966_r2.fastq. 100%[===================>]   5.78G  10.9MB/s    in 8m 21s  \n",
            "\n",
            "2021-05-03 18:15:58 (11.8 MB/s) - ‘CRR143966_r2.fastq.gz’ saved [6206841910]\n",
            "\n",
            "--2021-05-03 18:15:58--  ftp://download.big.ac.cn/gsa3/CRA002497/CRR143967/CRR143967_f1.fastq.gz\n",
            "           => ‘CRR143967_f1.fastq.gz’\n",
            "Resolving download.big.ac.cn (download.big.ac.cn)... 124.16.164.229\n",
            "Connecting to download.big.ac.cn (download.big.ac.cn)|124.16.164.229|:21... connected.\n",
            "Logging in as anonymous ... Logged in!\n",
            "==> SYST ... done.    ==> PWD ... done.\n",
            "==> TYPE I ... done.  ==> CWD (1) /gsa3/CRA002497/CRR143967 ... done.\n",
            "==> SIZE CRR143967_f1.fastq.gz ... 2558573618\n",
            "==> PASV ... done.    ==> RETR CRR143967_f1.fastq.gz ... done.\n",
            "Length: 2558573618 (2.4G) (unauthoritative)\n",
            "\n",
            "CRR143967_f1.fastq. 100%[===================>]   2.38G  14.2MB/s    in 2m 59s  \n",
            "\n",
            "2021-05-03 18:19:00 (13.6 MB/s) - ‘CRR143967_f1.fastq.gz’ saved [2558573618]\n",
            "\n",
            "--2021-05-03 18:19:01--  ftp://download.big.ac.cn/gsa3/CRA002497/CRR143967/CRR143967_r2.fastq.gz\n",
            "           => ‘CRR143967_r2.fastq.gz’\n",
            "Resolving download.big.ac.cn (download.big.ac.cn)... 124.16.164.229\n",
            "Connecting to download.big.ac.cn (download.big.ac.cn)|124.16.164.229|:21... connected.\n",
            "Logging in as anonymous ... Logged in!\n",
            "==> SYST ... done.    ==> PWD ... done.\n",
            "==> TYPE I ... done.  ==> CWD (1) /gsa3/CRA002497/CRR143967 ... done.\n",
            "==> SIZE CRR143967_r2.fastq.gz ... 9849936862\n",
            "==> PASV ... done.    ==> RETR CRR143967_r2.fastq.gz ... done.\n",
            "Length: 9849936862 (9.2G) (unauthoritative)\n",
            "\n",
            "CRR143967_r2.fastq. 100%[===================>]   9.17G  3.44MB/s    in 16m 49s \n",
            "\n",
            "2021-05-03 18:35:53 (9.31 MB/s) - Control connection closed.\n",
            "Retrying.\n",
            "\n",
            "--2021-05-03 18:50:54--  ftp://download.big.ac.cn/gsa3/CRA002497/CRR143967/CRR143967_r2.fastq.gz\n",
            "  (try: 2) => ‘CRR143967_r2.fastq.gz’\n",
            "Connecting to download.big.ac.cn (download.big.ac.cn)|124.16.164.229|:21... connected.\n",
            "Logging in as anonymous ... Logged in!\n",
            "==> SYST ... done.    ==> PWD ... done.\n",
            "==> TYPE I ... done.  ==> CWD (1) /gsa3/CRA002497/CRR143967 ... done.\n",
            "==> SIZE CRR143967_r2.fastq.gz ... 9849936862\n",
            "File has already been retrieved.\n",
            "2021-05-03 18:50:55 (0.00 B/s) - ‘CRR143967_r2.fastq.gz’ saved [9849936862]\n",
            "\n",
            "--2021-05-03 18:50:56--  ftp://download.big.ac.cn/gsa3/CRA002497/CRR143968/CRR143968_f1.fastq.gz\n",
            "           => ‘CRR143968_f1.fastq.gz’\n",
            "Resolving download.big.ac.cn (download.big.ac.cn)... 124.16.164.229\n",
            "Connecting to download.big.ac.cn (download.big.ac.cn)|124.16.164.229|:21... connected.\n",
            "Logging in as anonymous ... Logged in!\n",
            "==> SYST ... done.    ==> PWD ... done.\n",
            "==> TYPE I ... done.  ==> CWD (1) /gsa3/CRA002497/CRR143968 ... done.\n",
            "==> SIZE CRR143968_f1.fastq.gz ... 735820468\n",
            "==> PASV ... done.    ==> RETR CRR143968_f1.fastq.gz ... done.\n",
            "Length: 735820468 (702M) (unauthoritative)\n",
            "\n",
            "CRR143968_f1.fastq. 100%[===================>] 701.73M  8.55MB/s    in 91s     \n",
            "\n",
            "2021-05-03 18:52:29 (7.75 MB/s) - ‘CRR143968_f1.fastq.gz’ saved [735820468]\n",
            "\n",
            "--2021-05-03 18:52:29--  ftp://download.big.ac.cn/gsa3/CRA002497/CRR143968/CRR143968_r2.fastq.gz\n",
            "           => ‘CRR143968_r2.fastq.gz’\n",
            "Resolving download.big.ac.cn (download.big.ac.cn)... 124.16.164.229\n",
            "Connecting to download.big.ac.cn (download.big.ac.cn)|124.16.164.229|:21... connected.\n",
            "Logging in as anonymous ... Logged in!\n",
            "==> SYST ... done.    ==> PWD ... done.\n",
            "==> TYPE I ... done.  ==> CWD (1) /gsa3/CRA002497/CRR143968 ... done.\n",
            "==> SIZE CRR143968_r2.fastq.gz ... 2757463680\n",
            "==> PASV ... done.    ==> RETR CRR143968_r2.fastq.gz ... done.\n",
            "Length: 2757463680 (2.6G) (unauthoritative)\n",
            "\n",
            "CRR143968_r2.fastq. 100%[===================>]   2.57G  6.75MB/s    in 6m 53s  \n",
            "\n",
            "2021-05-03 18:59:25 (6.37 MB/s) - ‘CRR143968_r2.fastq.gz’ saved [2757463680]\n",
            "\n",
            "--2021-05-03 18:59:25--  ftp://download.big.ac.cn/gsa3/CRA002497/CRR143969/CRR143969_f1.fastq.gz\n",
            "           => ‘CRR143969_f1.fastq.gz’\n",
            "Resolving download.big.ac.cn (download.big.ac.cn)... 124.16.164.229\n",
            "Connecting to download.big.ac.cn (download.big.ac.cn)|124.16.164.229|:21... connected.\n",
            "Logging in as anonymous ... Logged in!\n",
            "==> SYST ... done.    ==> PWD ... done.\n",
            "==> TYPE I ... done.  ==> CWD (1) /gsa3/CRA002497/CRR143969 ... done.\n",
            "==> SIZE CRR143969_f1.fastq.gz ... 1195617563\n",
            "==> PASV ... done.    ==> RETR CRR143969_f1.fastq.gz ... done.\n",
            "Length: 1195617563 (1.1G) (unauthoritative)\n",
            "\n",
            "CRR143969_f1.fastq. 100%[===================>]   1.11G  6.25MB/s    in 3m 39s  \n",
            "\n",
            "2021-05-03 19:03:08 (5.22 MB/s) - ‘CRR143969_f1.fastq.gz’ saved [1195617563]\n",
            "\n",
            "--2021-05-03 19:03:08--  ftp://download.big.ac.cn/gsa3/CRA002497/CRR143969/CRR143969_r2.fastq.gz\n",
            "           => ‘CRR143969_r2.fastq.gz’\n",
            "Resolving download.big.ac.cn (download.big.ac.cn)... 124.16.164.229\n",
            "Connecting to download.big.ac.cn (download.big.ac.cn)|124.16.164.229|:21... connected.\n",
            "Logging in as anonymous ... Logged in!\n",
            "==> SYST ... done.    ==> PWD ... done.\n",
            "==> TYPE I ... done.  ==> CWD (1) /gsa3/CRA002497/CRR143969 ... done.\n",
            "==> SIZE CRR143969_r2.fastq.gz ... 1283542862\n",
            "==> PASV ... done.    ==> RETR CRR143969_r2.fastq.gz ... done.\n",
            "Length: 1283542862 (1.2G) (unauthoritative)\n",
            "\n",
            "CRR143969_r2.fastq. 100%[===================>]   1.20G  2.07MB/s    in 7m 52s  \n",
            "\n",
            "2021-05-03 19:11:02 (2.60 MB/s) - ‘CRR143969_r2.fastq.gz’ saved [1283542862]\n",
            "\n",
            "--2021-05-03 19:11:03--  ftp://download.big.ac.cn/gsa3/CRA002497/CRR143970/CRR143970_f1.fastq.gz\n",
            "           => ‘CRR143970_f1.fastq.gz’\n",
            "Resolving download.big.ac.cn (download.big.ac.cn)... 124.16.164.229\n",
            "Connecting to download.big.ac.cn (download.big.ac.cn)|124.16.164.229|:21... connected.\n",
            "Logging in as anonymous ... Logged in!\n",
            "==> SYST ... done.    ==> PWD ... done.\n",
            "==> TYPE I ... done.  ==> CWD (1) /gsa3/CRA002497/CRR143970 ... done.\n",
            "==> SIZE CRR143970_f1.fastq.gz ... 1192139297\n",
            "==> PASV ... done.    ==> RETR CRR143970_f1.fastq.gz ... done.\n",
            "Length: 1192139297 (1.1G) (unauthoritative)\n",
            "\n",
            "CRR143970_f1.fastq. 100%[===================>]   1.11G  6.16MB/s    in 2m 22s  \n",
            "\n",
            "2021-05-03 19:13:28 (7.98 MB/s) - ‘CRR143970_f1.fastq.gz’ saved [1192139297]\n",
            "\n",
            "--2021-05-03 19:13:28--  ftp://download.big.ac.cn/gsa3/CRA002497/CRR143970/CRR143970_r2.fastq.gz\n",
            "           => ‘CRR143970_r2.fastq.gz’\n",
            "Resolving download.big.ac.cn (download.big.ac.cn)... 124.16.164.229\n",
            "Connecting to download.big.ac.cn (download.big.ac.cn)|124.16.164.229|:21... connected.\n",
            "Logging in as anonymous ... Logged in!\n",
            "==> SYST ... done.    ==> PWD ... done.\n",
            "==> TYPE I ... done.  ==> CWD (1) /gsa3/CRA002497/CRR143970 ... done.\n",
            "==> SIZE CRR143970_r2.fastq.gz ... 1268102778\n",
            "==> PASV ... done.    ==> RETR CRR143970_r2.fastq.gz ... done.\n",
            "Length: 1268102778 (1.2G) (unauthoritative)\n",
            "\n",
            "CRR143970_r2.fastq. 100%[===================>]   1.18G  11.8MB/s    in 2m 47s  \n",
            "\n",
            "2021-05-03 19:16:18 (7.26 MB/s) - ‘CRR143970_r2.fastq.gz’ saved [1268102778]\n",
            "\n",
            "--2021-05-03 19:16:18--  ftp://download.big.ac.cn/gsa3/CRA002497/CRR143971/CRR143971_f1.fastq.gz\n",
            "           => ‘CRR143971_f1.fastq.gz’\n",
            "Resolving download.big.ac.cn (download.big.ac.cn)... 124.16.164.229\n",
            "Connecting to download.big.ac.cn (download.big.ac.cn)|124.16.164.229|:21... connected.\n",
            "Logging in as anonymous ... Logged in!\n",
            "==> SYST ... done.    ==> PWD ... done.\n",
            "==> TYPE I ... done.  ==> CWD (1) /gsa3/CRA002497/CRR143971 ... done.\n",
            "==> SIZE CRR143971_f1.fastq.gz ... 907039125\n",
            "==> PASV ... done.    ==> RETR CRR143971_f1.fastq.gz ... done.\n",
            "Length: 907039125 (865M) (unauthoritative)\n",
            "\n",
            "CRR143971_f1.fastq. 100%[===================>] 865.02M  2.95MB/s    in 2m 44s  \n",
            "\n",
            "2021-05-03 19:19:05 (5.26 MB/s) - ‘CRR143971_f1.fastq.gz’ saved [907039125]\n",
            "\n",
            "--2021-05-03 19:19:05--  ftp://download.big.ac.cn/gsa3/CRA002497/CRR143971/CRR143971_r2.fastq.gz\n",
            "           => ‘CRR143971_r2.fastq.gz’\n",
            "Resolving download.big.ac.cn (download.big.ac.cn)... 124.16.164.229\n",
            "Connecting to download.big.ac.cn (download.big.ac.cn)|124.16.164.229|:21... connected.\n",
            "Logging in as anonymous ... Logged in!\n",
            "==> SYST ... done.    ==> PWD ... done.\n",
            "==> TYPE I ... done.  ==> CWD (1) /gsa3/CRA002497/CRR143971 ... done.\n",
            "==> SIZE CRR143971_r2.fastq.gz ... 981556158\n",
            "==> PASV ... done.    ==> RETR CRR143971_r2.fastq.gz ... done.\n",
            "Length: 981556158 (936M) (unauthoritative)\n",
            "\n",
            "CRR143971_r2.fastq. 100%[===================>] 936.08M  4.84MB/s    in 3m 20s  \n",
            "\n",
            "2021-05-03 19:22:28 (4.67 MB/s) - ‘CRR143971_r2.fastq.gz’ saved [981556158]\n",
            "\n",
            "--2021-05-03 19:22:29--  ftp://download.big.ac.cn/gsa3/CRA002497/CRR143972/CRR143972_f1.fastq.gz\n",
            "           => ‘CRR143972_f1.fastq.gz’\n",
            "Resolving download.big.ac.cn (download.big.ac.cn)... 124.16.164.229\n",
            "Connecting to download.big.ac.cn (download.big.ac.cn)|124.16.164.229|:21... connected.\n",
            "Logging in as anonymous ... Logged in!\n",
            "==> SYST ... done.    ==> PWD ... done.\n",
            "==> TYPE I ... done.  ==> CWD (1) /gsa3/CRA002497/CRR143972 ... done.\n",
            "==> SIZE CRR143972_f1.fastq.gz ... 1124514281\n",
            "==> PASV ... done.    ==> RETR CRR143972_f1.fastq.gz ... done.\n",
            "Length: 1124514281 (1.0G) (unauthoritative)\n",
            "\n",
            "CRR143972_f1.fastq. 100%[===================>]   1.05G  10.6MB/s    in 1m 53s  \n",
            "\n",
            "2021-05-03 19:24:25 (9.49 MB/s) - ‘CRR143972_f1.fastq.gz’ saved [1124514281]\n",
            "\n",
            "--2021-05-03 19:24:25--  ftp://download.big.ac.cn/gsa3/CRA002497/CRR143972/CRR143972_r2.fastq.gz\n",
            "           => ‘CRR143972_r2.fastq.gz’\n",
            "Resolving download.big.ac.cn (download.big.ac.cn)... 124.16.164.229\n",
            "Connecting to download.big.ac.cn (download.big.ac.cn)|124.16.164.229|:21... connected.\n",
            "Logging in as anonymous ... Logged in!\n",
            "==> SYST ... done.    ==> PWD ... done.\n",
            "==> TYPE I ... done.  ==> CWD (1) /gsa3/CRA002497/CRR143972 ... done.\n",
            "==> SIZE CRR143972_r2.fastq.gz ... 1217176503\n",
            "==> PASV ... done.    ==> RETR CRR143972_r2.fastq.gz ... done.\n",
            "Length: 1217176503 (1.1G) (unauthoritative)\n",
            "\n",
            "CRR143972_r2.fastq. 100%[===================>]   1.13G  9.82MB/s    in 2m 50s  \n",
            "\n",
            "2021-05-03 19:27:17 (6.84 MB/s) - ‘CRR143972_r2.fastq.gz’ saved [1217176503]\n",
            "\n",
            "--2021-05-03 19:27:18--  ftp://download.big.ac.cn/gsa3/CRA002497/CRR143973/CRR143973_f1.fastq.gz\n",
            "           => ‘CRR143973_f1.fastq.gz’\n",
            "Resolving download.big.ac.cn (download.big.ac.cn)... 124.16.164.229\n",
            "Connecting to download.big.ac.cn (download.big.ac.cn)|124.16.164.229|:21... connected.\n",
            "Logging in as anonymous ... Logged in!\n",
            "==> SYST ... done.    ==> PWD ... done.\n",
            "==> TYPE I ... done.  ==> CWD (1) /gsa3/CRA002497/CRR143973 ... done.\n",
            "==> SIZE CRR143973_f1.fastq.gz ... 1272222729\n",
            "==> PASV ... done.    ==> RETR CRR143973_f1.fastq.gz ... done.\n",
            "Length: 1272222729 (1.2G) (unauthoritative)\n",
            "\n",
            "CRR143973_f1.fastq. 100%[===================>]   1.18G  2.63MB/s    in 3m 12s  \n",
            "\n",
            "2021-05-03 19:30:33 (6.31 MB/s) - ‘CRR143973_f1.fastq.gz’ saved [1272222729]\n",
            "\n",
            "--2021-05-03 19:30:33--  ftp://download.big.ac.cn/gsa3/CRA002497/CRR143973/CRR143973_r2.fastq.gz\n",
            "           => ‘CRR143973_r2.fastq.gz’\n",
            "Resolving download.big.ac.cn (download.big.ac.cn)... 124.16.164.229\n",
            "Connecting to download.big.ac.cn (download.big.ac.cn)|124.16.164.229|:21... connected.\n",
            "Logging in as anonymous ... Logged in!\n",
            "==> SYST ... done.    ==> PWD ... done.\n",
            "==> TYPE I ... done.  ==> CWD (1) /gsa3/CRA002497/CRR143973 ... done.\n",
            "==> SIZE CRR143973_r2.fastq.gz ... 1288237651\n",
            "==> PASV ... done.    ==> RETR CRR143973_r2.fastq.gz ... done.\n",
            "Length: 1288237651 (1.2G) (unauthoritative)\n",
            "\n",
            "CRR143973_r2.fastq. 100%[===================>]   1.20G  4.64MB/s    in 4m 9s   \n",
            "\n",
            "2021-05-03 19:34:46 (4.92 MB/s) - ‘CRR143973_r2.fastq.gz’ saved [1288237651]\n",
            "\n",
            "--2021-05-03 19:34:46--  ftp://download.big.ac.cn/gsa3/CRA002497/CRR143974/CRR143974_f1.fastq.gz\n",
            "           => ‘CRR143974_f1.fastq.gz’\n",
            "Resolving download.big.ac.cn (download.big.ac.cn)... 124.16.164.229\n",
            "Connecting to download.big.ac.cn (download.big.ac.cn)|124.16.164.229|:21... connected.\n",
            "Logging in as anonymous ... Logged in!\n",
            "==> SYST ... done.    ==> PWD ... done.\n",
            "==> TYPE I ... done.  ==> CWD (1) /gsa3/CRA002497/CRR143974 ... done.\n",
            "==> SIZE CRR143974_f1.fastq.gz ... 1205286294\n",
            "==> PASV ... done.    ==> RETR CRR143974_f1.fastq.gz ... done.\n",
            "Length: 1205286294 (1.1G) (unauthoritative)\n",
            "\n",
            "CRR143974_f1.fastq. 100%[===================>]   1.12G  6.13MB/s    in 2m 20s  \n",
            "\n",
            "2021-05-03 19:37:09 (8.21 MB/s) - ‘CRR143974_f1.fastq.gz’ saved [1205286294]\n",
            "\n",
            "--2021-05-03 19:37:09--  ftp://download.big.ac.cn/gsa3/CRA002497/CRR143974/CRR143974_r2.fastq.gz\n",
            "           => ‘CRR143974_r2.fastq.gz’\n",
            "Resolving download.big.ac.cn (download.big.ac.cn)... 124.16.164.229\n",
            "Connecting to download.big.ac.cn (download.big.ac.cn)|124.16.164.229|:21... connected.\n",
            "Logging in as anonymous ... Logged in!\n",
            "==> SYST ... done.    ==> PWD ... done.\n",
            "==> TYPE I ... done.  ==> CWD (1) /gsa3/CRA002497/CRR143974 ... done.\n",
            "==> SIZE CRR143974_r2.fastq.gz ... 1222178470\n",
            "==> PASV ... done.    ==> RETR CRR143974_r2.fastq.gz ... done.\n",
            "Length: 1222178470 (1.1G) (unauthoritative)\n",
            "\n",
            "CRR143974_r2.fastq. 100%[===================>]   1.14G  10.8MB/s    in 2m 44s  \n",
            "\n",
            "2021-05-03 19:39:56 (7.12 MB/s) - ‘CRR143974_r2.fastq.gz’ saved [1222178470]\n",
            "\n",
            "--2021-05-03 19:39:56--  ftp://download.big.ac.cn/gsa3/CRA002497/CRR143975/CRR143975_f1.fastq.gz\n",
            "           => ‘CRR143975_f1.fastq.gz’\n",
            "Resolving download.big.ac.cn (download.big.ac.cn)... 124.16.164.229\n",
            "Connecting to download.big.ac.cn (download.big.ac.cn)|124.16.164.229|:21... connected.\n",
            "Logging in as anonymous ... Logged in!\n",
            "==> SYST ... done.    ==> PWD ... done.\n",
            "==> TYPE I ... done.  ==> CWD (1) /gsa3/CRA002497/CRR143975 ... done.\n",
            "==> SIZE CRR143975_f1.fastq.gz ... 970485894\n",
            "==> PASV ... done.    ==> RETR CRR143975_f1.fastq.gz ... done.\n",
            "Length: 970485894 (926M) (unauthoritative)\n",
            "\n",
            "CRR143975_f1.fastq. 100%[===================>] 925.53M  4.19MB/s    in 2m 33s  \n",
            "\n",
            "2021-05-03 19:42:32 (6.03 MB/s) - ‘CRR143975_f1.fastq.gz’ saved [970485894]\n",
            "\n",
            "--2021-05-03 19:42:32--  ftp://download.big.ac.cn/gsa3/CRA002497/CRR143975/CRR143975_r2.fastq.gz\n",
            "           => ‘CRR143975_r2.fastq.gz’\n",
            "Resolving download.big.ac.cn (download.big.ac.cn)... 124.16.164.229\n",
            "Connecting to download.big.ac.cn (download.big.ac.cn)|124.16.164.229|:21... connected.\n",
            "Logging in as anonymous ... Logged in!\n",
            "==> SYST ... done.    ==> PWD ... done.\n",
            "==> TYPE I ... done.  ==> CWD (1) /gsa3/CRA002497/CRR143975 ... done.\n",
            "==> SIZE CRR143975_r2.fastq.gz ... 998888960\n",
            "==> PASV ... done.    ==> RETR CRR143975_r2.fastq.gz ... done.\n",
            "Length: 998888960 (953M) (unauthoritative)\n",
            "\n",
            "CRR143975_r2.fastq. 100%[===================>] 952.61M  9.51MB/s    in 2m 14s  \n",
            "\n",
            "2021-05-03 19:44:50 (7.10 MB/s) - ‘CRR143975_r2.fastq.gz’ saved [998888960]\n",
            "\n",
            "--2021-05-03 19:44:50--  ftp://download.big.ac.cn/gsa3/CRA002497/CRR143976/CRR143976_f1.fastq.gz\n",
            "           => ‘CRR143976_f1.fastq.gz’\n",
            "Resolving download.big.ac.cn (download.big.ac.cn)... 124.16.164.229\n",
            "Connecting to download.big.ac.cn (download.big.ac.cn)|124.16.164.229|:21... connected.\n",
            "Logging in as anonymous ... Logged in!\n",
            "==> SYST ... done.    ==> PWD ... done.\n",
            "==> TYPE I ... done.  ==> CWD (1) /gsa3/CRA002497/CRR143976 ... done.\n",
            "==> SIZE CRR143976_f1.fastq.gz ... 627996606\n",
            "==> PASV ... done.    ==> RETR CRR143976_f1.fastq.gz ... done.\n",
            "Length: 627996606 (599M) (unauthoritative)\n",
            "\n",
            "CRR143976_f1.fastq. 100%[===================>] 598.90M  6.27MB/s    in 84s     \n",
            "\n",
            "2021-05-03 19:46:17 (7.11 MB/s) - ‘CRR143976_f1.fastq.gz’ saved [627996606]\n",
            "\n",
            "--2021-05-03 19:46:17--  ftp://download.big.ac.cn/gsa3/CRA002497/CRR143976/CRR143976_r2.fastq.gz\n",
            "           => ‘CRR143976_r2.fastq.gz’\n",
            "Resolving download.big.ac.cn (download.big.ac.cn)... 124.16.164.229\n",
            "Connecting to download.big.ac.cn (download.big.ac.cn)|124.16.164.229|:21... connected.\n",
            "Logging in as anonymous ... Logged in!\n",
            "==> SYST ... done.    ==> PWD ... done.\n",
            "==> TYPE I ... done.  ==> CWD (1) /gsa3/CRA002497/CRR143976 ... done.\n",
            "==> SIZE CRR143976_r2.fastq.gz ... 639802018\n",
            "==> PASV ... done.    ==> RETR CRR143976_r2.fastq.gz ... done.\n",
            "Length: 639802018 (610M) (unauthoritative)\n",
            "\n",
            "CRR143976_r2.fastq.  96%[==================> ] 586.10M  10.4MB/s    eta 4s     "
          ],
          "name": "stdout"
        }
      ]
    },
    {
      "cell_type": "code",
      "metadata": {
        "id": "PC9oETW1pE9t"
      },
      "source": [
        "if bam:\n",
        "  # Download the corresponding Kallisto index to folder containing fastqs\n",
        "  !kb ref -d $species_kb -i index.idx -g t2g.txt -f1 transcriptome.fasta\n",
        "\n",
        "if not bam and fastq_ffqlinks:\n",
        "  %cd /content\n",
        "\n",
        "  # Download the corresponding Kallisto index to content folder\n",
        "  !kb ref -d $species_kb -i index.idx -g t2g.txt -f1 transcriptome.fasta\n",
        "\n",
        "if not bam and not fastq_ffqlinks:\n",
        "  %cd /content/fastqs\n",
        "\n",
        "  # Download the corresponding Kallisto index to fastq folder\n",
        "  !kb ref -d $species_kb -i index.idx -g t2g.txt -f1 transcriptome.fasta"
      ],
      "execution_count": null,
      "outputs": []
    },
    {
      "cell_type": "code",
      "metadata": {
        "id": "vHVNa51Cp9Nr"
      },
      "source": [
        "# Check to make sure the metadata is in the right order after sorting\n",
        "print(fastqs)"
      ],
      "execution_count": null,
      "outputs": []
    },
    {
      "cell_type": "markdown",
      "metadata": {
        "id": "VInyuq1Dp7iz"
      },
      "source": [
        "# Process fastq files (modify kb command according to fastqs list)\n"
      ]
    },
    {
      "cell_type": "code",
      "metadata": {
        "id": "OcqtBuH-pRaX"
      },
      "source": [
        "fastqs"
      ],
      "execution_count": null,
      "outputs": []
    },
    {
      "cell_type": "code",
      "metadata": {
        "id": "5qFzPj-0kZTi",
        "colab": {
          "base_uri": "https://localhost:8080/"
        },
        "outputId": "65469b8c-f767-4e08-a871-c2277f4af8ce"
      },
      "source": [
        "# Specify the sample number and whether they are paired-ended\n",
        "\n",
        "\n",
        "if no_samples == 1:\n",
        "\n",
        "  # Write the kb count command as a string with all fastqs of the list as an input\n",
        "  cmd = \"kb count --h5ad -i index.idx -g t2g.txt -x \" + technology_kb + \" -o output\" + sample_id[0] + \" \"\\\n",
        "  + \"--filter bustools -t 2 --overwrite \" + \"'\" +  \"' '\".join(fastqs) + \"'\"\n",
        "  \n",
        "  # Execute it\n",
        "  !$cmd\n",
        "\n",
        "# If more than one sample, iterate through fastqs accordingly\n",
        "else:\n",
        "\n",
        "  # Initializa counter for fastq files\n",
        "  j = 0\n",
        "\n",
        "  # Loop over samples for analysis\n",
        "  for i in range(no_samples):\n",
        "\n",
        "    fastqs_to_analyze = fastqs[j:j + fastqs_per_sample[i]]\n",
        "    # Write the kb count command as a string\n",
        "    cmd = \"kb count --h5ad -i ../index.idx -g ../t2g.txt -x \" + technology_kb + \" -o output\" + sample_id[i] + \" \\\n",
        "    --filter bustools -t 2 --overwrite \" + \"'\" +  \"' '\".join(fastqs_to_analyze) + \"'\"\n",
        "\n",
        "    # Execute it\n",
        "    !$cmd\n",
        "\n",
        "    # Update j to move to the next set of fastq\n",
        "    j = j + fastqs_per_sample[i]\n",
        "\n",
        "\n",
        "\n",
        "\n",
        "\n"
      ],
      "execution_count": 13,
      "outputs": [
        {
          "output_type": "stream",
          "text": [
            "[2021-05-03 19:49:52,603]    INFO Using index index.idx to generate BUS file to outputCRX118013 from\n",
            "[2021-05-03 19:49:52,603]    INFO         CRR143965_f1.fastq.gz\n",
            "[2021-05-03 19:49:52,603]    INFO         CRR143965_r2.fastq.gz\n",
            "[2021-05-03 19:49:52,603]    INFO         CRR143966_f1.fastq.gz\n",
            "[2021-05-03 19:49:52,603]    INFO         CRR143966_r2.fastq.gz\n",
            "[2021-05-03 19:49:52,604]    INFO         CRR143967_f1.fastq.gz\n",
            "[2021-05-03 19:49:52,604]    INFO         CRR143967_r2.fastq.gz\n",
            "[2021-05-03 19:49:52,604]    INFO         CRR143968_f1.fastq.gz\n",
            "[2021-05-03 19:49:52,604]    INFO         CRR143968_r2.fastq.gz\n",
            "[2021-05-03 19:49:52,604]    INFO         CRR143969_f1.fastq.gz\n",
            "[2021-05-03 19:49:52,604]    INFO         CRR143969_r2.fastq.gz\n",
            "[2021-05-03 19:49:52,604]    INFO         CRR143970_f1.fastq.gz\n",
            "[2021-05-03 19:49:52,604]    INFO         CRR143970_r2.fastq.gz\n",
            "[2021-05-03 19:49:52,604]    INFO         CRR143971_f1.fastq.gz\n",
            "[2021-05-03 19:49:52,604]    INFO         CRR143971_r2.fastq.gz\n",
            "[2021-05-03 19:49:52,604]    INFO         CRR143972_f1.fastq.gz\n",
            "[2021-05-03 19:49:52,605]    INFO         CRR143972_r2.fastq.gz\n",
            "[2021-05-03 19:49:52,605]    INFO         CRR143973_f1.fastq.gz\n",
            "[2021-05-03 19:49:52,605]    INFO         CRR143973_r2.fastq.gz\n",
            "[2021-05-03 19:49:52,605]    INFO         CRR143974_f1.fastq.gz\n",
            "[2021-05-03 19:49:52,605]    INFO         CRR143974_r2.fastq.gz\n",
            "[2021-05-03 19:49:52,605]    INFO         CRR143975_f1.fastq.gz\n",
            "[2021-05-03 19:49:52,605]    INFO         CRR143975_r2.fastq.gz\n",
            "[2021-05-03 19:49:52,605]    INFO         CRR143976_f1.fastq.gz\n",
            "[2021-05-03 19:49:52,605]    INFO         CRR143976_r2.fastq.gz\n",
            "[2021-05-03 21:38:22,419]    INFO Sorting BUS file outputCRX118013/output.bus to outputCRX118013/tmp/output.s.bus\n",
            "[2021-05-03 21:43:07,703]    INFO Whitelist not provided\n",
            "[2021-05-03 21:43:07,704]    INFO Copying pre-packaged 10XV2 whitelist to outputCRX118013\n",
            "[2021-05-03 21:43:07,872]    INFO Inspecting BUS file outputCRX118013/tmp/output.s.bus\n",
            "[2021-05-03 21:43:52,166]    INFO Correcting BUS records in outputCRX118013/tmp/output.s.bus to outputCRX118013/tmp/output.s.c.bus with whitelist outputCRX118013/10xv2_whitelist.txt\n",
            "[2021-05-03 21:44:30,818]    INFO Sorting BUS file outputCRX118013/tmp/output.s.c.bus to outputCRX118013/output.unfiltered.bus\n",
            "[2021-05-03 21:46:23,040]    INFO Generating count matrix outputCRX118013/counts_unfiltered/cells_x_genes from BUS file outputCRX118013/output.unfiltered.bus\n",
            "[2021-05-03 21:47:20,973]    INFO Reading matrix outputCRX118013/counts_unfiltered/cells_x_genes.mtx\n",
            "[2021-05-03 21:47:54,353]    INFO Writing matrix to h5ad outputCRX118013/counts_unfiltered/adata.h5ad\n",
            "[2021-05-03 21:47:55,681]    INFO Filtering with bustools\n",
            "[2021-05-03 21:47:55,681]    INFO Generating whitelist outputCRX118013/filter_barcodes.txt from BUS file outputCRX118013/output.unfiltered.bus\n",
            "[2021-05-03 21:47:56,667]    INFO Correcting BUS records in outputCRX118013/output.unfiltered.bus to outputCRX118013/tmp/output.unfiltered.c.bus with whitelist outputCRX118013/filter_barcodes.txt\n",
            "[2021-05-03 21:48:23,230]    INFO Sorting BUS file outputCRX118013/tmp/output.unfiltered.c.bus to outputCRX118013/output.filtered.bus\n",
            "[2021-05-03 21:49:57,793]    INFO Generating count matrix outputCRX118013/counts_filtered/cells_x_genes from BUS file outputCRX118013/output.filtered.bus\n",
            "[2021-05-03 21:50:47,511]    INFO Reading matrix outputCRX118013/counts_filtered/cells_x_genes.mtx\n",
            "[2021-05-03 21:51:14,054]    INFO Writing matrix to h5ad outputCRX118013/counts_filtered/adata.h5ad\n"
          ],
          "name": "stdout"
        }
      ]
    },
    {
      "cell_type": "markdown",
      "metadata": {
        "id": "tDijOZzrqhN2"
      },
      "source": [
        "# Load unfiltered matrix and assign filters to each matrix individually"
      ]
    },
    {
      "cell_type": "markdown",
      "metadata": {
        "id": "VkNLZh_pNFFw"
      },
      "source": [
        "## Load the unfiltered matrix (check dimensions)"
      ]
    },
    {
      "cell_type": "code",
      "metadata": {
        "id": "PppRNeV8AIyw"
      },
      "source": [
        "# Define dict to store data\n",
        "results = {}\n"
      ],
      "execution_count": 15,
      "outputs": []
    },
    {
      "cell_type": "code",
      "metadata": {
        "cellView": "both",
        "id": "pKmtGf3c_BiZ",
        "colab": {
          "base_uri": "https://localhost:8080/"
        },
        "outputId": "d23ad131-89af-4ff4-c8f3-549c08860581"
      },
      "source": [
        "# load the unfiltered matrix\n",
        "for i in range(no_samples):\n",
        "  results[sample_id[i]] = anndata.read_h5ad(\"output\" + sample_id[i] + \"/counts_unfiltered/adata.h5ad\")\n",
        "  results[sample_id[i]].var[\"gene_id\"] = results[sample_id[i]].var.index.values\n",
        "\n",
        "  t2g = pd.read_csv(\"t2g.txt\", header=None, names=[\"tid\", \"gene_id\", \"gene_name\"], sep=\"\\t\")\n",
        "  t2g.index = t2g.gene_id\n",
        "  t2g = t2g.loc[~t2g.index.duplicated(keep='first')]\n",
        "\n",
        "  results[sample_id[i]].var[\"gene_name\"] = results[sample_id[i]].var.gene_id.map(t2g[\"gene_name\"])\n",
        "  results[sample_id[i]].var.index = results[sample_id[i]].var[\"gene_name\"]\n",
        "  print(\"The unfiltered matrix \" + sample_id[i] + \" contains {} cells by {} genes\".format(len(results[sample_id[i]].obs), len(results[sample_id[i]].var)))\n",
        "\n",
        "  results[sample_id[i]].obs[\"cell_counts\"] = results[sample_id[i]].X.sum(axis=1)\n",
        "  results[sample_id[i]].var[\"gene_counts\"] = nd(results[sample_id[i]].X.sum(axis=0))\n",
        "\n",
        "  results[sample_id[i]].obs[\"n_genes\"] = nd((results[sample_id[i]].X>0).sum(axis=1))\n",
        "  results[sample_id[i]].var[\"n_cells\"] = nd((results[sample_id[i]].X>0).sum(axis=0))\n",
        "\n",
        "  mito_genes = results[sample_id[i]].var_names.str.startswith(\"MT-\" or \"mt-\") \n",
        "  results[sample_id[i]].obs[\"percent_mito\"] = results[sample_id[i]][:,mito_genes].X.sum(axis=1)/results[sample_id[i]].X.sum(axis=1)*100\n",
        "\n",
        "  # Changing the name of the index is necessary to write the file (it won't work with duplicated names)\n",
        "  results[sample_id[i]].var.index.name = \"index\"\n",
        "\n"
      ],
      "execution_count": 16,
      "outputs": [
        {
          "output_type": "stream",
          "text": [
            "The unfiltered matrix CRX118013 contains 393708 cells by 60623 genes\n"
          ],
          "name": "stdout"
        }
      ]
    },
    {
      "cell_type": "markdown",
      "metadata": {
        "id": "hDAUH3eH_2RA"
      },
      "source": [
        "## Assign filters for each matrix individually"
      ]
    },
    {
      "cell_type": "code",
      "metadata": {
        "id": "ukinuaKk_6Po"
      },
      "source": [
        "# Modify this manually to change sample after having assigned the \"expected_num_cells\" and \"mito_criteria\" parameters\n",
        "samp_n = 0\n",
        "\n",
        "\n",
        "# Filtering criteria\n",
        "cell_threshold = 100\n",
        "gene_threshold = 3\n",
        "\n",
        "mito_criteria = 30"
      ],
      "execution_count": 17,
      "outputs": []
    },
    {
      "cell_type": "code",
      "metadata": {
        "id": "a5wZB5pEfwNs",
        "colab": {
          "base_uri": "https://localhost:8080/",
          "height": 723
        },
        "cellView": "form",
        "outputId": "ad98f248-cf91-418b-b128-32067ec98527"
      },
      "source": [
        "\n",
        "expected_num_cells = 8000#@param {type:\"integer\"}\n",
        "knee = np.sort(nd(results[sample_id[samp_n]].X.sum(axis=1)))[::-1]\n",
        "\n",
        "fig, ax = plt.subplots(figsize=(5, 5))\n",
        "\n",
        "x = knee\n",
        "y = range(len(knee))\n",
        "\n",
        "ax.loglog(x, y, linewidth=5, color=\"g\")\n",
        "\n",
        "ax.axvline(x=knee[expected_num_cells], linewidth=3, color=\"k\")\n",
        "ax.axhline(y=expected_num_cells, linewidth=3, color=\"k\")\n",
        "\n",
        "ax.set_xlabel(\"UMI Counts\")\n",
        "ax.set_ylabel(\"Set of Barcodes\")\n",
        "\n",
        "plt.show()\n",
        "\n",
        "cell_threshold = knee[expected_num_cells]\n",
        "\n",
        "results[\"cell_threshold\" + sample_id[samp_n]] = knee[expected_num_cells]\n",
        "\n",
        "print (\"Cells were filtered down to \" + str(expected_num_cells) + \" with at least \" + str(cell_threshold) + \" UMIs\")\n",
        "\n",
        "\n",
        "mito_criteria = 23#@param {type:\"integer\"}\n",
        "results[\"mito_criteria\" + sample_id[samp_n]] = mito_criteria\n",
        "\n",
        "fig, ax = plt.subplots(figsize=(5,5))\n",
        "\n",
        "\n",
        "x = nd(results[sample_id[samp_n]].obs[\"cell_counts\"][results[sample_id[samp_n]].obs[\"cell_counts\"] > cell_threshold])\n",
        "y = nd(results[sample_id[samp_n]].obs[\"percent_mito\"][results[sample_id[samp_n]].obs[\"cell_counts\"] > cell_threshold])\n",
        "\n",
        "ax.scatter(x, y, color=\"green\", alpha=0.1)\n",
        "\n",
        "ax.axhline(y=mito_criteria, linestyle=\"--\", color=\"k\")\n",
        "\n",
        "\n",
        "ax.set_xlabel(\"UMI Counts\")\n",
        "ax.set_ylabel(\"Percent mito\")\n",
        "\n",
        "\n",
        "plt.show()\n",
        "\n",
        "print(\"We select \" + str(mito_criteria) + \" % as the mitochondrial content threshold\")"
      ],
      "execution_count": 20,
      "outputs": [
        {
          "output_type": "display_data",
          "data": {
            "image/png": "[encoded data removed]",
            "text/plain": [
              "<Figure size 360x360 with 1 Axes>"
            ]
          },
          "metadata": {
            "tags": [],
            "image/png": {
              "width": 358,
              "height": 337
            },
            "needs_background": "light"
          }
        },
        {
          "output_type": "stream",
          "text": [
            "Cells were filtered down to 8000 with at least 2511.0 UMIs\n"
          ],
          "name": "stdout"
        },
        {
          "output_type": "display_data",
          "data": {
            "image/png": "[encoded data removed]",
            "text/plain": [
              "<Figure size 360x360 with 1 Axes>"
            ]
          },
          "metadata": {
            "tags": [],
            "image/png": {
              "width": 349,
              "height": 338
            },
            "needs_background": "light"
          }
        },
        {
          "output_type": "stream",
          "text": [
            "We select 23 % as the mitochondrial content threshold\n"
          ],
          "name": "stdout"
        }
      ]
    },
    {
      "cell_type": "markdown",
      "metadata": {
        "id": "eP9j2ouPq9KY"
      },
      "source": [
        "# Filter matrix"
      ]
    },
    {
      "cell_type": "code",
      "metadata": {
        "id": "sE51WUA3gVmG",
        "colab": {
          "base_uri": "https://localhost:8080/"
        },
        "outputId": "4c992a5c-cf85-49e5-cde4-57e6fd0d8929"
      },
      "source": [
        "for i in range(no_samples):\n",
        "  results[sample_id[i]].obs[\"pass_count_filter\"] = results[sample_id[i]].obs[\"cell_counts\"] > results[\"cell_threshold\" + sample_id[i]]\n",
        "  results[sample_id[i]].obs[\"pass_mito_filter\"] = results[sample_id[i]].obs.percent_mito < results[\"mito_criteria\" + sample_id[i]]\n",
        "  results[sample_id[i]].var[\"pass_gene_filter\"] = results[sample_id[i]].var[\"n_cells\"] > gene_threshold\n",
        "\n",
        "  cell_mask = np.logical_and(results[sample_id[i]].obs[\"pass_count_filter\"].values, results[sample_id[i]].obs[\"pass_mito_filter\"].values)\n",
        "  gene_mask = results[sample_id[i]].var[\"pass_gene_filter\"].values\n",
        "\n",
        "  print(\"Current Shape: {:,} cells x {:,} genes\".format(results[sample_id[i]].shape[0], results[sample_id[i]].shape[1]))\n",
        "  print(\"    New shape: {:,} cells x {:,} genes\".format(cell_mask.sum(), gene_mask.sum()))\n",
        "  results[\"data_\" + sample_id[i]] = results[sample_id[i]][cell_mask, gene_mask]"
      ],
      "execution_count": 21,
      "outputs": [
        {
          "output_type": "stream",
          "text": [
            "Current Shape: 393,708 cells x 60,623 genes\n",
            "    New shape: 7,937 cells x 25,620 genes\n"
          ],
          "name": "stdout"
        }
      ]
    },
    {
      "cell_type": "markdown",
      "metadata": {
        "id": "BxPA81yj4TlU"
      },
      "source": [
        "# Anotate and write the Anndata object"
      ]
    },
    {
      "cell_type": "code",
      "metadata": {
        "id": "O-q_Qj2U4kDU",
        "colab": {
          "base_uri": "https://localhost:8080/"
        },
        "outputId": "71e551e5-ca4a-4351-ac97-afaec8aed800"
      },
      "source": [
        "for i in range(no_samples):\n",
        "\n",
        "\n",
        "  results[\"data_\" + sample_id[i]].uns[\"database_id\"] = database_id[i]\n",
        "\n",
        "  results[\"data_\" + sample_id[i]].uns[\"tissue\"] = tissue[i]\n",
        "\n",
        "  results[\"data_\" + sample_id[i]].uns[\"cell_type\"] = cell_type[i]\n",
        "\n",
        "  results[\"data_\" + sample_id[i]].uns[\"sample_id\"] = sample_id[i]\n",
        "\n",
        "  results[\"data_\" + sample_id[i]].uns[\"condition\"] = condition[i]\n",
        "\n",
        "  results[\"data_\" + sample_id[i]].uns[\"species\"] = species[i]\n",
        "\n",
        "  results[\"data_\" + sample_id[i]].uns[\"technology\"] = technology[i]\n",
        "\n",
        "  results[\"data_\" + sample_id[i]].uns[\"paper\"] = paper[i]\n",
        "\n",
        "  results[\"data_\" + sample_id[i]].uns[\"figure\"] = figure[i]\n",
        "\n",
        "\n",
        "%cd /content\n",
        "\n",
        "for i in range(no_samples):\n",
        "\n",
        "  results[\"data_\" + sample_id[i]].write(\"result\" + sample_id[i])"
      ],
      "execution_count": 22,
      "outputs": [
        {
          "output_type": "stream",
          "text": [
            "Trying to set attribute `.uns` of view, copying.\n",
            "Variable names are not unique. To make them unique, call `.var_names_make_unique`.\n",
            "Variable names are not unique. To make them unique, call `.var_names_make_unique`.\n"
          ],
          "name": "stderr"
        },
        {
          "output_type": "stream",
          "text": [
            "/content\n"
          ],
          "name": "stdout"
        },
        {
          "output_type": "stream",
          "text": [
            "... storing 'gene_name' as categorical\n"
          ],
          "name": "stderr"
        }
      ]
    }
  ]
}