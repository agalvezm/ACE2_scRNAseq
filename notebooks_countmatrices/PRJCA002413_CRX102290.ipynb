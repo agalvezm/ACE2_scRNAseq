{
  "nbformat": 4,
  "nbformat_minor": 0,
  "metadata": {
    "colab": {
      "name": "Copy of PRJCA002413_CRX102290.ipynb",
      "provenance": [],
      "collapsed_sections": [],
      "toc_visible": true,
      "include_colab_link": true
    },
    "kernelspec": {
      "display_name": "Python 3",
      "name": "python3"
    }
  },
  "cells": [
    {
      "cell_type": "markdown",
      "metadata": {
        "id": "view-in-github",
        "colab_type": "text"
      },
      "source": [
        "<a href=\"https://colab.research.google.com/github/agalvezm/ACE2_scRNAseq/blob/master/notebooks_countmatrices/PRJCA002413_CRX102290.ipynb\" target=\"_parent\"><img src=\"https://colab.research.google.com/assets/colab-badge.svg\" alt=\"Open In Colab\"/></a>"
      ]
    },
    {
      "cell_type": "markdown",
      "metadata": {
        "id": "V9ryXluJsJw9"
      },
      "source": [
        "# PRJCA002413_CRX102290"
      ]
    },
    {
      "cell_type": "code",
      "metadata": {
        "id": "ggNFAQJCRh6P"
      },
      "source": [
        "# define the values for the analysis\n",
        "\n",
        "# accession id for the data\n",
        "id = \"PRJCA002413\"\n",
        "samp_id = [\"CRX102290\"]\n",
        "\n",
        "# If only bam available files, set bam = True, Fill link and filename\n",
        "bam = False\n",
        "\n",
        "# If fastq links available but are not ffq links\n",
        "fastq_ffqlinks = False\n",
        "\n",
        "\n",
        "if bam:\n",
        "  # Assign link to python variable\n",
        "  link_to_bam = \"\"\n",
        "  \n",
        "  # Assigns the link to the bash variable BAM_LINK. To be used by wget\n",
        "  %env BAM_LINK=$link_to_bam\n",
        "\n",
        "  # Assign filename to python variable. Used to convert to fastq and remove bam file to fastq after conversion\n",
        "\n",
        "  bam_filename=\"\"\n",
        "\n",
        "\n",
        "if not bam:\n",
        "\n",
        "  # Copy and paste the links from the ACE2 scRNAseq datasets google  spreadsheet\n",
        "  links_raw = \"ftp://download.big.ac.cn/gsa3/CRA002497/CRR126623/CRR126623_f1.fastq.gz\tftp://download.big.ac.cn/gsa3/CRA002497/CRR126623/CRR126623_r2.fastq.gz\tftp://download.big.ac.cn/gsa3/CRA002497/CRR126624/CRR126624_f1.fastq.gz\tftp://download.big.ac.cn/gsa3/CRA002497/CRR126624/CRR126624_r2.fastq.gz\tftp://download.big.ac.cn/gsa3/CRA002497/CRR126625/CRR126625_f1.fastq.gz\tftp://download.big.ac.cn/gsa3/CRA002497/CRR126625/CRR126625_r2.fastq.gz\tftp://download.big.ac.cn/gsa3/CRA002497/CRR126626/CRR126626_f1.fastq.gz\tftp://download.big.ac.cn/gsa3/CRA002497/CRR126626/CRR126626_r2.fastq.gz\tftp://download.big.ac.cn/gsa3/CRA002497/CRR126627/CRR126627_f1.fastq.gz\tftp://download.big.ac.cn/gsa3/CRA002497/CRR126627/CRR126627_r2.fastq.gz\tftp://download.big.ac.cn/gsa3/CRA002497/CRR126628/CRR126628_f1.fastq.gz\tftp://download.big.ac.cn/gsa3/CRA002497/CRR126628/CRR126628_r2.fastq.gz\tftp://download.big.ac.cn/gsa3/CRA002497/CRR126629/CRR126629_f1.fastq.gz\tftp://download.big.ac.cn/gsa3/CRA002497/CRR126629/CRR126629_r2.fastq.gz\tftp://download.big.ac.cn/gsa3/CRA002497/CRR126630/CRR126630_f1.fastq.gz\tftp://download.big.ac.cn/gsa3/CRA002497/CRR126630/CRR126630_r2.fastq.gz\tftp://download.big.ac.cn/gsa3/CRA002497/CRR126631/CRR126631_f1.fastq.gz\tftp://download.big.ac.cn/gsa3/CRA002497/CRR126631/CRR126631_r2.fastq.gz\tftp://download.big.ac.cn/gsa3/CRA002497/CRR126632/CRR126632_f1.fastq.gz\tftp://download.big.ac.cn/gsa3/CRA002497/CRR126632/CRR126632_r2.fastq.gz\tftp://download.big.ac.cn/gsa3/CRA002497/CRR126633/CRR126633_f1.fastq.gz\tftp://download.big.ac.cn/gsa3/CRA002497/CRR126633/CRR126633_r2.fastq.gz\tftp://download.big.ac.cn/gsa3/CRA002497/CRR126634/CRR126634_f1.fastq.gz\tftp://download.big.ac.cn/gsa3/CRA002497/CRR126634/CRR126634_r2.fastq.gz\"\n",
        "\n",
        "  # Convert it to a list where each link is an element\n",
        "  \n",
        "  fastqs = links_raw.split()\n",
        "\n",
        "#sample specific metadata\n",
        "\n",
        "no_samples = 1\n",
        "\n",
        "condition = [\"covid infected, late recovery stage\"] * no_samples"
      ],
      "execution_count": 1,
      "outputs": []
    },
    {
      "cell_type": "code",
      "metadata": {
        "id": "5R3tPDqnoJUn"
      },
      "source": [
        "no_samples = 1\n",
        "\n",
        "fastqs_per_sample = [4, 8, 8] \n",
        "\n",
        "sample_id = samp_id\n",
        "\n",
        "database_id = [id] * no_samples\n",
        "\n",
        "tissue = [\"blood\"] * no_samples\n",
        "\n",
        "cell_type = [\"PBMCs\"] * no_samples\n",
        "\n",
        "species = [\"human\"] * no_samples\n",
        "\n",
        "technology = [\"10xv2\"] * no_samples\n",
        "\n",
        "paper = [\"Wen et al 2020\"] * no_samples\n",
        "\n",
        "figure = [\"Fig: all\"] * no_samples\n",
        "\n",
        "\n",
        "# Set string variables for kb functions\n",
        "\n",
        "species_kb = species[0]\n",
        "\n",
        "technology_kb = technology[0]\n",
        "\n"
      ],
      "execution_count": 2,
      "outputs": []
    },
    {
      "cell_type": "markdown",
      "metadata": {
        "id": "FPwL0-_-KSAw"
      },
      "source": [
        "# Imports and installs"
      ]
    },
    {
      "cell_type": "code",
      "metadata": {
        "colab": {
          "base_uri": "https://localhost:8080/"
        },
        "id": "1HSlUGZEp3oP",
        "outputId": "39073aed-06f4-4bff-a79a-5b2bd2192e2d"
      },
      "source": [
        "# install and import necessary software\n",
        "\n",
        "# Install kb and scanpy\n",
        "!pip -q install kb-python \n",
        "!pip -q install scanpy\n",
        "\n",
        "import re\n",
        "import os\n",
        "\n",
        "# Setup\n",
        "\n",
        "import anndata\n",
        "import pandas as pd\n",
        "import numpy as np\n",
        "import matplotlib.pyplot as plt\n",
        "import matplotlib as mpl\n",
        "import matplotlib.patches as mpatches\n",
        "import scanpy as sc\n",
        "from scipy import stats\n",
        "\n",
        "from collections import OrderedDict\n",
        "from sklearn.decomposition import TruncatedSVD\n",
        "from sklearn.manifold import TSNE\n",
        "from sklearn.preprocessing import scale\n",
        "\n",
        "from sklearn.cluster import KMeans\n",
        "from sklearn.preprocessing import normalize\n",
        "from sklearn.preprocessing import LabelEncoder\n",
        "from sklearn.neighbors import NeighborhoodComponentsAnalysis\n",
        "from matplotlib import cm\n",
        "from matplotlib.lines import Line2D\n",
        "\n",
        "def nd(arr):\n",
        "    return np.asarray(arr).reshape(-1)\n",
        "def yex(ax):\n",
        "    lims = [np.min([ax.get_xlim(), ax.get_ylim()]),\n",
        "            np.max([ax.get_xlim(), ax.get_ylim()])]\n",
        "\n",
        "    # now plot both limits against eachother\n",
        "    ax.plot(lims, lims, 'k-', alpha=0.75, zorder=0)\n",
        "    ax.set_aspect('equal')\n",
        "    ax.set_xlim(lims)\n",
        "    ax.set_ylim(lims)\n",
        "    return ax\n",
        "\n",
        "def trim_axs(axs, N):\n",
        "    \"\"\"little helper to massage the axs list to have correct length...\"\"\"\n",
        "    axs = axs.flat\n",
        "    for ax in axs[N:]:\n",
        "        ax.remove()\n",
        "    return axs[:N]\n",
        "\n",
        "import warnings\n",
        "warnings.filterwarnings('ignore')\n",
        "\n",
        "fsize=20\n",
        "\n",
        "plt.rcParams.update({'font.size': fsize})\n",
        "%config InlineBackend.figure_format = 'retina'"
      ],
      "execution_count": 3,
      "outputs": [
        {
          "output_type": "stream",
          "text": [
            "\u001b[K     |████████████████████████████████| 59.1MB 124kB/s \n",
            "\u001b[K     |████████████████████████████████| 10.3MB 20.5MB/s \n",
            "\u001b[K     |████████████████████████████████| 133kB 48.0MB/s \n",
            "\u001b[K     |████████████████████████████████| 51kB 6.6MB/s \n",
            "\u001b[K     |████████████████████████████████| 13.2MB 43.7MB/s \n",
            "\u001b[K     |████████████████████████████████| 81kB 10.0MB/s \n",
            "\u001b[K     |████████████████████████████████| 112kB 49.2MB/s \n",
            "\u001b[K     |████████████████████████████████| 1.2MB 40.6MB/s \n",
            "\u001b[K     |████████████████████████████████| 71kB 8.4MB/s \n",
            "\u001b[?25h  Building wheel for loompy (setup.py) ... \u001b[?25l\u001b[?25hdone\n",
            "  Building wheel for umap-learn (setup.py) ... \u001b[?25l\u001b[?25hdone\n",
            "  Building wheel for sinfo (setup.py) ... \u001b[?25l\u001b[?25hdone\n",
            "  Building wheel for numpy-groupies (setup.py) ... \u001b[?25l\u001b[?25hdone\n",
            "  Building wheel for pynndescent (setup.py) ... \u001b[?25l\u001b[?25hdone\n"
          ],
          "name": "stdout"
        }
      ]
    },
    {
      "cell_type": "markdown",
      "metadata": {
        "id": "7V6FbosVrvP4"
      },
      "source": [
        "# Downloads: (bam (if bam) and index"
      ]
    },
    {
      "cell_type": "code",
      "metadata": {
        "id": "q46hw4zqKUPS"
      },
      "source": [
        "if bam:\n",
        "\n",
        "  # Install bamtofastq from 10x website (only bam files available)\n",
        "  !wget http://cf.10xgenomics.com/misc/bamtofastq-1.2.0\n",
        "  !chmod +x bamtofastq-1.2.0\n",
        "  # Download the bam file\n",
        "  !wget -- continue ${BAM_LINK}\n",
        "\n",
        "\n"
      ],
      "execution_count": 4,
      "outputs": []
    },
    {
      "cell_type": "code",
      "metadata": {
        "id": "tDQlrjtqNF0m"
      },
      "source": [
        "if bam:\n",
        "  # Convert to fastq\n",
        "  !./bamtofastq-1.2.0 --reads-per-fastq=500000000 $bam_filename ./fastqs\\\n",
        "\n",
        "  # Remove original bam file to save space\n",
        "  !rm $bam_filename\n"
      ],
      "execution_count": 5,
      "outputs": []
    },
    {
      "cell_type": "code",
      "metadata": {
        "id": "SXRDRphvqcLe"
      },
      "source": [
        "# Store fastq names on a list\n",
        "\n",
        "if bam:\n",
        "  # cd into fastqs folder\n",
        "  %cd /content/fastqs\n",
        "\n",
        "  #store the name of the folder generated by bamtofastq\n",
        "  _filename = os.listdir()[0]\n",
        "\n",
        "  # cd into that folder\n",
        "  %cd $_filename\n",
        "\n",
        "  # store fastq names in a list\n",
        "  fastqs = os.listdir()\n",
        "\n",
        "\n",
        "  # Remove I1 and R3 reads not relevant for our analysis\n",
        "\n",
        "  # Initialize list containing elements to remove\n",
        "  remov_elem = []\n",
        "\n",
        "  print (\"\\n\\nThis is the complete list of fastqs:\\n -----------\")\n",
        "  for elem in fastqs:\n",
        "    print (elem)\n",
        "\n",
        "  # Search index (I1 or R3) fastqs and remove them from list\n",
        "  for elem in fastqs:\n",
        "    if re.search(\"_R3_\", elem) or re.search(\"_I1_\", elem):\n",
        "      remov_elem = remov_elem +[elem]\n",
        "\n",
        "  fastqs = [elem for elem in fastqs if elem not in remov_elem] \n",
        "\n",
        "  print (\"\\n\\nThis is the filtered list of fastqs:\\n -----------\")\n",
        "  for elem in fastqs:\n",
        "    print (elem)\n"
      ],
      "execution_count": 6,
      "outputs": []
    },
    {
      "cell_type": "code",
      "metadata": {
        "id": "ZnFcqcSgjLBw"
      },
      "source": [
        "# Remove fastqs that wont be analyzed to save space\n",
        "if bam:\n",
        "  for elem in remov_elem:\n",
        "    !rm $elem"
      ],
      "execution_count": 7,
      "outputs": []
    },
    {
      "cell_type": "code",
      "metadata": {
        "id": "FLVS8aB7Dm6J"
      },
      "source": [
        "if bam:\n",
        "  # sort fastqs alphabetically to get R1 and R2 in order\n",
        "  fastqs = sorted(fastqs)"
      ],
      "execution_count": 8,
      "outputs": []
    },
    {
      "cell_type": "code",
      "metadata": {
        "id": "FE9gWbQgpBfR",
        "outputId": "27c9f8be-09a7-4e47-9c29-32ad366622ff",
        "colab": {
          "base_uri": "https://localhost:8080/"
        }
      },
      "source": [
        "# wget fastqs from non ffq links in fastqs folder\n",
        "if not bam and not fastq_ffqlinks:\n",
        "  !mkdir fastqs\n",
        "  %cd fastqs\n",
        "  while len(os.listdir()) != len(fastqs):\n",
        "    for link in fastqs:\n",
        "      !wget $link --continue\n",
        "\n",
        "  # update fastqs variable with name of files\n",
        "  fastqs = sorted(os.listdir())"
      ],
      "execution_count": 9,
      "outputs": [
        {
          "output_type": "stream",
          "text": [
            "/content/fastqs\n",
            "--2021-05-04 02:44:58--  ftp://download.big.ac.cn/gsa3/CRA002497/CRR126623/CRR126623_f1.fastq.gz\n",
            "           => ‘CRR126623_f1.fastq.gz’\n",
            "Resolving download.big.ac.cn (download.big.ac.cn)... 124.16.164.229\n",
            "Connecting to download.big.ac.cn (download.big.ac.cn)|124.16.164.229|:21... connected.\n",
            "Logging in as anonymous ... Logged in!\n",
            "==> SYST ... done.    ==> PWD ... done.\n",
            "==> TYPE I ... done.  ==> CWD (1) /gsa3/CRA002497/CRR126623 ... done.\n",
            "==> SIZE CRR126623_f1.fastq.gz ... 2016513217\n",
            "==> PASV ... done.    ==> RETR CRR126623_f1.fastq.gz ... done.\n",
            "Length: 2016513217 (1.9G) (unauthoritative)\n",
            "\n",
            "CRR126623_f1.fastq. 100%[===================>]   1.88G  15.1MB/s    in 2m 10s  \n",
            "\n",
            "2021-05-04 02:47:11 (14.8 MB/s) - ‘CRR126623_f1.fastq.gz’ saved [2016513217]\n",
            "\n",
            "--2021-05-04 02:47:11--  ftp://download.big.ac.cn/gsa3/CRA002497/CRR126623/CRR126623_r2.fastq.gz\n",
            "           => ‘CRR126623_r2.fastq.gz’\n",
            "Resolving download.big.ac.cn (download.big.ac.cn)... 124.16.164.229\n",
            "Connecting to download.big.ac.cn (download.big.ac.cn)|124.16.164.229|:21... connected.\n",
            "Logging in as anonymous ... Logged in!\n",
            "==> SYST ... done.    ==> PWD ... done.\n",
            "==> TYPE I ... done.  ==> CWD (1) /gsa3/CRA002497/CRR126623 ... done.\n",
            "==> SIZE CRR126623_r2.fastq.gz ... 7950525060\n",
            "==> PASV ... done.    ==> RETR CRR126623_r2.fastq.gz ... done.\n",
            "Length: 7950525060 (7.4G) (unauthoritative)\n",
            "\n",
            "CRR126623_r2.fastq. 100%[===================>]   7.40G  13.2MB/s    in 9m 47s  \n",
            "\n",
            "2021-05-04 02:57:01 (12.9 MB/s) - ‘CRR126623_r2.fastq.gz’ saved [7950525060]\n",
            "\n",
            "--2021-05-04 02:57:01--  ftp://download.big.ac.cn/gsa3/CRA002497/CRR126624/CRR126624_f1.fastq.gz\n",
            "           => ‘CRR126624_f1.fastq.gz’\n",
            "Resolving download.big.ac.cn (download.big.ac.cn)... 124.16.164.229\n",
            "Connecting to download.big.ac.cn (download.big.ac.cn)|124.16.164.229|:21... connected.\n",
            "Logging in as anonymous ... Logged in!\n",
            "==> SYST ... done.    ==> PWD ... done.\n",
            "==> TYPE I ... done.  ==> CWD (1) /gsa3/CRA002497/CRR126624 ... done.\n",
            "==> SIZE CRR126624_f1.fastq.gz ... 2152769994\n",
            "==> PASV ... done.    ==> RETR CRR126624_f1.fastq.gz ... done.\n",
            "Length: 2152769994 (2.0G) (unauthoritative)\n",
            "\n",
            "CRR126624_f1.fastq. 100%[===================>]   2.00G  14.4MB/s    in 2m 44s  \n",
            "\n",
            "2021-05-04 02:59:47 (12.5 MB/s) - ‘CRR126624_f1.fastq.gz’ saved [2152769994]\n",
            "\n",
            "--2021-05-04 02:59:48--  ftp://download.big.ac.cn/gsa3/CRA002497/CRR126624/CRR126624_r2.fastq.gz\n",
            "           => ‘CRR126624_r2.fastq.gz’\n",
            "Resolving download.big.ac.cn (download.big.ac.cn)... 124.16.164.229\n",
            "Connecting to download.big.ac.cn (download.big.ac.cn)|124.16.164.229|:21... connected.\n",
            "Logging in as anonymous ... Logged in!\n",
            "==> SYST ... done.    ==> PWD ... done.\n",
            "==> TYPE I ... done.  ==> CWD (1) /gsa3/CRA002497/CRR126624 ... done.\n",
            "==> SIZE CRR126624_r2.fastq.gz ... 8360357400\n",
            "==> PASV ... done.    ==> RETR CRR126624_r2.fastq.gz ... done.\n",
            "Length: 8360357400 (7.8G) (unauthoritative)\n",
            "\n",
            "CRR126624_r2.fastq. 100%[===================>]   7.79G  15.0MB/s    in 9m 35s  \n",
            "\n",
            "2021-05-04 03:09:26 (13.9 MB/s) - ‘CRR126624_r2.fastq.gz’ saved [8360357400]\n",
            "\n",
            "--2021-05-04 03:09:26--  ftp://download.big.ac.cn/gsa3/CRA002497/CRR126625/CRR126625_f1.fastq.gz\n",
            "           => ‘CRR126625_f1.fastq.gz’\n",
            "Resolving download.big.ac.cn (download.big.ac.cn)... 124.16.164.229\n",
            "Connecting to download.big.ac.cn (download.big.ac.cn)|124.16.164.229|:21... connected.\n",
            "Logging in as anonymous ... Logged in!\n",
            "==> SYST ... done.    ==> PWD ... done.\n",
            "==> TYPE I ... done.  ==> CWD (1) /gsa3/CRA002497/CRR126625 ... done.\n",
            "==> SIZE CRR126625_f1.fastq.gz ... 2641687030\n",
            "==> PASV ... done.    ==> RETR CRR126625_f1.fastq.gz ... done.\n",
            "Length: 2641687030 (2.5G) (unauthoritative)\n",
            "\n",
            "CRR126625_f1.fastq. 100%[===================>]   2.46G  14.6MB/s    in 2m 57s  \n",
            "\n",
            "2021-05-04 03:12:25 (14.2 MB/s) - ‘CRR126625_f1.fastq.gz’ saved [2641687030]\n",
            "\n",
            "--2021-05-04 03:12:25--  ftp://download.big.ac.cn/gsa3/CRA002497/CRR126625/CRR126625_r2.fastq.gz\n",
            "           => ‘CRR126625_r2.fastq.gz’\n",
            "Resolving download.big.ac.cn (download.big.ac.cn)... 124.16.164.229\n",
            "Connecting to download.big.ac.cn (download.big.ac.cn)|124.16.164.229|:21... connected.\n",
            "Logging in as anonymous ... Logged in!\n",
            "==> SYST ... done.    ==> PWD ... done.\n",
            "==> TYPE I ... done.  ==> CWD (1) /gsa3/CRA002497/CRR126625 ... done.\n",
            "==> SIZE CRR126625_r2.fastq.gz ... 10371982354\n",
            "==> PASV ... done.    ==> RETR CRR126625_r2.fastq.gz ... done.\n",
            "Length: 10371982354 (9.7G) (unauthoritative)\n",
            "\n",
            "CRR126625_r2.fastq. 100%[===================>]   9.66G  12.7MB/s    in 13m 53s \n",
            "\n",
            "2021-05-04 03:26:22 (11.9 MB/s) - Control connection closed.\n",
            "Retrying.\n",
            "\n",
            "--2021-05-04 03:41:23--  ftp://download.big.ac.cn/gsa3/CRA002497/CRR126625/CRR126625_r2.fastq.gz\n",
            "  (try: 2) => ‘CRR126625_r2.fastq.gz’\n",
            "Connecting to download.big.ac.cn (download.big.ac.cn)|124.16.164.229|:21... connected.\n",
            "Logging in as anonymous ... Logged in!\n",
            "==> SYST ... done.    ==> PWD ... done.\n",
            "==> TYPE I ... done.  ==> CWD (1) /gsa3/CRA002497/CRR126625 ... done.\n",
            "==> SIZE CRR126625_r2.fastq.gz ... 10371982354\n",
            "File has already been retrieved.\n",
            "2021-05-04 03:41:24 (0.00 B/s) - ‘CRR126625_r2.fastq.gz’ saved [10371982354]\n",
            "\n",
            "--2021-05-04 03:41:25--  ftp://download.big.ac.cn/gsa3/CRA002497/CRR126626/CRR126626_f1.fastq.gz\n",
            "           => ‘CRR126626_f1.fastq.gz’\n",
            "Resolving download.big.ac.cn (download.big.ac.cn)... 124.16.164.229\n",
            "Connecting to download.big.ac.cn (download.big.ac.cn)|124.16.164.229|:21... connected.\n",
            "Logging in as anonymous ... Logged in!\n",
            "==> SYST ... done.    ==> PWD ... done.\n",
            "==> TYPE I ... done.  ==> CWD (1) /gsa3/CRA002497/CRR126626 ... done.\n",
            "==> SIZE CRR126626_f1.fastq.gz ... 2785069415\n",
            "==> PASV ... done.    ==> RETR CRR126626_f1.fastq.gz ... done.\n",
            "Length: 2785069415 (2.6G) (unauthoritative)\n",
            "\n",
            "CRR126626_f1.fastq. 100%[===================>]   2.59G  14.6MB/s    in 3m 18s  \n",
            "\n",
            "2021-05-04 03:44:46 (13.4 MB/s) - ‘CRR126626_f1.fastq.gz’ saved [2785069415]\n",
            "\n",
            "--2021-05-04 03:44:46--  ftp://download.big.ac.cn/gsa3/CRA002497/CRR126626/CRR126626_r2.fastq.gz\n",
            "           => ‘CRR126626_r2.fastq.gz’\n",
            "Resolving download.big.ac.cn (download.big.ac.cn)... 124.16.164.229\n",
            "Connecting to download.big.ac.cn (download.big.ac.cn)|124.16.164.229|:21... connected.\n",
            "Logging in as anonymous ... Logged in!\n",
            "==> SYST ... done.    ==> PWD ... done.\n",
            "==> TYPE I ... done.  ==> CWD (1) /gsa3/CRA002497/CRR126626 ... done.\n",
            "==> SIZE CRR126626_r2.fastq.gz ... 10932071433\n",
            "==> PASV ... done.    ==> RETR CRR126626_r2.fastq.gz ... done.\n",
            "Length: 10932071433 (10G) (unauthoritative)\n",
            "\n",
            "CRR126626_r2.fastq. 100%[===================>]  10.18G  13.4MB/s    in 13m 53s \n",
            "\n",
            "2021-05-04 03:58:42 (12.5 MB/s) - Control connection closed.\n",
            "Retrying.\n",
            "\n",
            "--2021-05-04 04:13:43--  ftp://download.big.ac.cn/gsa3/CRA002497/CRR126626/CRR126626_r2.fastq.gz\n",
            "  (try: 2) => ‘CRR126626_r2.fastq.gz’\n",
            "Connecting to download.big.ac.cn (download.big.ac.cn)|124.16.164.229|:21... connected.\n",
            "Logging in as anonymous ... Logged in!\n",
            "==> SYST ... done.    ==> PWD ... done.\n",
            "==> TYPE I ... done.  ==> CWD (1) /gsa3/CRA002497/CRR126626 ... done.\n",
            "==> SIZE CRR126626_r2.fastq.gz ... 10932071433\n",
            "File has already been retrieved.\n",
            "2021-05-04 04:13:44 (0.00 B/s) - ‘CRR126626_r2.fastq.gz’ saved [10932071433]\n",
            "\n",
            "--2021-05-04 04:13:44--  ftp://download.big.ac.cn/gsa3/CRA002497/CRR126627/CRR126627_f1.fastq.gz\n",
            "           => ‘CRR126627_f1.fastq.gz’\n",
            "Resolving download.big.ac.cn (download.big.ac.cn)... 124.16.164.229\n",
            "Connecting to download.big.ac.cn (download.big.ac.cn)|124.16.164.229|:21... connected.\n",
            "Logging in as anonymous ... Logged in!\n",
            "==> SYST ... done.    ==> PWD ... done.\n",
            "==> TYPE I ... done.  ==> CWD (1) /gsa3/CRA002497/CRR126627 ... done.\n",
            "==> SIZE CRR126627_f1.fastq.gz ... 754395985\n",
            "==> PASV ... done.    ==> RETR CRR126627_f1.fastq.gz ... done.\n",
            "Length: 754395985 (719M) (unauthoritative)\n",
            "\n",
            "CRR126627_f1.fastq. 100%[===================>] 719.45M  15.3MB/s    in 50s     \n",
            "\n",
            "2021-05-04 04:14:37 (14.5 MB/s) - ‘CRR126627_f1.fastq.gz’ saved [754395985]\n",
            "\n",
            "--2021-05-04 04:14:37--  ftp://download.big.ac.cn/gsa3/CRA002497/CRR126627/CRR126627_r2.fastq.gz\n",
            "           => ‘CRR126627_r2.fastq.gz’\n",
            "Resolving download.big.ac.cn (download.big.ac.cn)... 124.16.164.229\n",
            "Connecting to download.big.ac.cn (download.big.ac.cn)|124.16.164.229|:21... connected.\n",
            "Logging in as anonymous ... Logged in!\n",
            "==> SYST ... done.    ==> PWD ... done.\n",
            "==> TYPE I ... done.  ==> CWD (1) /gsa3/CRA002497/CRR126627 ... done.\n",
            "==> SIZE CRR126627_r2.fastq.gz ... 848440696\n",
            "==> PASV ... done.    ==> RETR CRR126627_r2.fastq.gz ... done.\n",
            "Length: 848440696 (809M) (unauthoritative)\n",
            "\n",
            "CRR126627_r2.fastq. 100%[===================>] 809.14M  13.5MB/s    in 63s     \n",
            "\n",
            "2021-05-04 04:15:43 (12.8 MB/s) - ‘CRR126627_r2.fastq.gz’ saved [848440696]\n",
            "\n",
            "--2021-05-04 04:15:43--  ftp://download.big.ac.cn/gsa3/CRA002497/CRR126628/CRR126628_f1.fastq.gz\n",
            "           => ‘CRR126628_f1.fastq.gz’\n",
            "Resolving download.big.ac.cn (download.big.ac.cn)... 124.16.164.229\n",
            "Connecting to download.big.ac.cn (download.big.ac.cn)|124.16.164.229|:21... connected.\n",
            "Logging in as anonymous ... Logged in!\n",
            "==> SYST ... done.    ==> PWD ... done.\n",
            "==> TYPE I ... done.  ==> CWD (1) /gsa3/CRA002497/CRR126628 ... done.\n",
            "==> SIZE CRR126628_f1.fastq.gz ... 564757786\n",
            "==> PASV ... done.    ==> RETR CRR126628_f1.fastq.gz ... done.\n",
            "Length: 564757786 (539M) (unauthoritative)\n",
            "\n",
            "CRR126628_f1.fastq. 100%[===================>] 538.59M  15.1MB/s    in 37s     \n",
            "\n",
            "2021-05-04 04:16:23 (14.4 MB/s) - ‘CRR126628_f1.fastq.gz’ saved [564757786]\n",
            "\n",
            "--2021-05-04 04:16:23--  ftp://download.big.ac.cn/gsa3/CRA002497/CRR126628/CRR126628_r2.fastq.gz\n",
            "           => ‘CRR126628_r2.fastq.gz’\n",
            "Resolving download.big.ac.cn (download.big.ac.cn)... 124.16.164.229\n",
            "Connecting to download.big.ac.cn (download.big.ac.cn)|124.16.164.229|:21... connected.\n",
            "Logging in as anonymous ... Logged in!\n",
            "==> SYST ... done.    ==> PWD ... done.\n",
            "==> TYPE I ... done.  ==> CWD (1) /gsa3/CRA002497/CRR126628 ... done.\n",
            "==> SIZE CRR126628_r2.fastq.gz ... 635610606\n",
            "==> PASV ... done.    ==> RETR CRR126628_r2.fastq.gz ... done.\n",
            "Length: 635610606 (606M) (unauthoritative)\n",
            "\n",
            "CRR126628_r2.fastq. 100%[===================>] 606.17M  13.1MB/s    in 48s     \n",
            "\n",
            "2021-05-04 04:17:14 (12.5 MB/s) - ‘CRR126628_r2.fastq.gz’ saved [635610606]\n",
            "\n",
            "--2021-05-04 04:17:14--  ftp://download.big.ac.cn/gsa3/CRA002497/CRR126629/CRR126629_f1.fastq.gz\n",
            "           => ‘CRR126629_f1.fastq.gz’\n",
            "Resolving download.big.ac.cn (download.big.ac.cn)... 124.16.164.229\n",
            "Connecting to download.big.ac.cn (download.big.ac.cn)|124.16.164.229|:21... connected.\n",
            "Logging in as anonymous ... Logged in!\n",
            "==> SYST ... done.    ==> PWD ... done.\n",
            "==> TYPE I ... done.  ==> CWD (1) /gsa3/CRA002497/CRR126629 ... done.\n",
            "==> SIZE CRR126629_f1.fastq.gz ... 592602559\n",
            "==> PASV ... done.    ==> RETR CRR126629_f1.fastq.gz ... done.\n",
            "Length: 592602559 (565M) (unauthoritative)\n",
            "\n",
            "CRR126629_f1.fastq. 100%[===================>] 565.15M  14.9MB/s    in 39s     \n",
            "\n",
            "2021-05-04 04:17:57 (14.4 MB/s) - ‘CRR126629_f1.fastq.gz’ saved [592602559]\n",
            "\n",
            "--2021-05-04 04:17:57--  ftp://download.big.ac.cn/gsa3/CRA002497/CRR126629/CRR126629_r2.fastq.gz\n",
            "           => ‘CRR126629_r2.fastq.gz’\n",
            "Resolving download.big.ac.cn (download.big.ac.cn)... 124.16.164.229\n",
            "Connecting to download.big.ac.cn (download.big.ac.cn)|124.16.164.229|:21... connected.\n",
            "Logging in as anonymous ... Logged in!\n",
            "==> SYST ... done.    ==> PWD ... done.\n",
            "==> TYPE I ... done.  ==> CWD (1) /gsa3/CRA002497/CRR126629 ... done.\n",
            "==> SIZE CRR126629_r2.fastq.gz ... 676865174\n",
            "==> PASV ... done.    ==> RETR CRR126629_r2.fastq.gz ... done.\n",
            "Length: 676865174 (646M) (unauthoritative)\n",
            "\n",
            "CRR126629_r2.fastq. 100%[===================>] 645.51M  15.0MB/s    in 45s     \n",
            "\n",
            "2021-05-04 04:18:45 (14.3 MB/s) - ‘CRR126629_r2.fastq.gz’ saved [676865174]\n",
            "\n",
            "--2021-05-04 04:18:45--  ftp://download.big.ac.cn/gsa3/CRA002497/CRR126630/CRR126630_f1.fastq.gz\n",
            "           => ‘CRR126630_f1.fastq.gz’\n",
            "Resolving download.big.ac.cn (download.big.ac.cn)... 124.16.164.229\n",
            "Connecting to download.big.ac.cn (download.big.ac.cn)|124.16.164.229|:21... connected.\n",
            "Logging in as anonymous ... Logged in!\n",
            "==> SYST ... done.    ==> PWD ... done.\n",
            "==> TYPE I ... done.  ==> CWD (1) /gsa3/CRA002497/CRR126630 ... done.\n",
            "==> SIZE CRR126630_f1.fastq.gz ... 344610587\n",
            "==> PASV ... done.    ==> RETR CRR126630_f1.fastq.gz ... done.\n",
            "Length: 344610587 (329M) (unauthoritative)\n",
            "\n",
            "CRR126630_f1.fastq. 100%[===================>] 328.65M  12.5MB/s    in 27s     \n",
            "\n",
            "2021-05-04 04:19:14 (12.3 MB/s) - ‘CRR126630_f1.fastq.gz’ saved [344610587]\n",
            "\n",
            "--2021-05-04 04:19:14--  ftp://download.big.ac.cn/gsa3/CRA002497/CRR126630/CRR126630_r2.fastq.gz\n",
            "           => ‘CRR126630_r2.fastq.gz’\n",
            "Resolving download.big.ac.cn (download.big.ac.cn)... 124.16.164.229\n",
            "Connecting to download.big.ac.cn (download.big.ac.cn)|124.16.164.229|:21... connected.\n",
            "Logging in as anonymous ... Logged in!\n",
            "==> SYST ... done.    ==> PWD ... done.\n",
            "==> TYPE I ... done.  ==> CWD (1) /gsa3/CRA002497/CRR126630 ... done.\n",
            "==> SIZE CRR126630_r2.fastq.gz ... 389075755\n",
            "==> PASV ... done.    ==> RETR CRR126630_r2.fastq.gz ... done.\n",
            "Length: 389075755 (371M) (unauthoritative)\n",
            "\n",
            "CRR126630_r2.fastq. 100%[===================>] 371.05M  13.0MB/s    in 30s     \n",
            "\n",
            "2021-05-04 04:19:48 (12.3 MB/s) - ‘CRR126630_r2.fastq.gz’ saved [389075755]\n",
            "\n",
            "--2021-05-04 04:19:48--  ftp://download.big.ac.cn/gsa3/CRA002497/CRR126631/CRR126631_f1.fastq.gz\n",
            "           => ‘CRR126631_f1.fastq.gz’\n",
            "Resolving download.big.ac.cn (download.big.ac.cn)... 124.16.164.229\n",
            "Connecting to download.big.ac.cn (download.big.ac.cn)|124.16.164.229|:21... connected.\n",
            "Logging in as anonymous ... Logged in!\n",
            "==> SYST ... done.    ==> PWD ... done.\n",
            "==> TYPE I ... done.  ==> CWD (1) /gsa3/CRA002497/CRR126631 ... done.\n",
            "==> SIZE CRR126631_f1.fastq.gz ... 657427746\n",
            "==> PASV ... done.    ==> RETR CRR126631_f1.fastq.gz ... done.\n",
            "Length: 657427746 (627M) (unauthoritative)\n",
            "\n",
            "CRR126631_f1.fastq. 100%[===================>] 626.97M  15.1MB/s    in 43s     \n",
            "\n",
            "2021-05-04 04:20:33 (14.5 MB/s) - ‘CRR126631_f1.fastq.gz’ saved [657427746]\n",
            "\n",
            "--2021-05-04 04:20:33--  ftp://download.big.ac.cn/gsa3/CRA002497/CRR126631/CRR126631_r2.fastq.gz\n",
            "           => ‘CRR126631_r2.fastq.gz’\n",
            "Resolving download.big.ac.cn (download.big.ac.cn)... 124.16.164.229\n",
            "Connecting to download.big.ac.cn (download.big.ac.cn)|124.16.164.229|:21... connected.\n",
            "Logging in as anonymous ... Logged in!\n",
            "==> SYST ... done.    ==> PWD ... done.\n",
            "==> TYPE I ... done.  ==> CWD (1) /gsa3/CRA002497/CRR126631 ... done.\n",
            "==> SIZE CRR126631_r2.fastq.gz ... 706810439\n",
            "==> PASV ... done.    ==> RETR CRR126631_r2.fastq.gz ... done.\n",
            "Length: 706810439 (674M) (unauthoritative)\n",
            "\n",
            "CRR126631_r2.fastq. 100%[===================>] 674.07M  12.6MB/s    in 53s     \n",
            "\n",
            "2021-05-04 04:21:28 (12.8 MB/s) - ‘CRR126631_r2.fastq.gz’ saved [706810439]\n",
            "\n",
            "--2021-05-04 04:21:29--  ftp://download.big.ac.cn/gsa3/CRA002497/CRR126632/CRR126632_f1.fastq.gz\n",
            "           => ‘CRR126632_f1.fastq.gz’\n",
            "Resolving download.big.ac.cn (download.big.ac.cn)... 124.16.164.229\n",
            "Connecting to download.big.ac.cn (download.big.ac.cn)|124.16.164.229|:21... connected.\n",
            "Logging in as anonymous ... Logged in!\n",
            "==> SYST ... done.    ==> PWD ... done.\n",
            "==> TYPE I ... done.  ==> CWD (1) /gsa3/CRA002497/CRR126632 ... done.\n",
            "==> SIZE CRR126632_f1.fastq.gz ... 637761114\n",
            "==> PASV ... done.    ==> RETR CRR126632_f1.fastq.gz ... done.\n",
            "Length: 637761114 (608M) (unauthoritative)\n",
            "\n",
            "CRR126632_f1.fastq. 100%[===================>] 608.22M  15.3MB/s    in 42s     \n",
            "\n",
            "2021-05-04 04:22:13 (14.5 MB/s) - ‘CRR126632_f1.fastq.gz’ saved [637761114]\n",
            "\n",
            "--2021-05-04 04:22:13--  ftp://download.big.ac.cn/gsa3/CRA002497/CRR126632/CRR126632_r2.fastq.gz\n",
            "           => ‘CRR126632_r2.fastq.gz’\n",
            "Resolving download.big.ac.cn (download.big.ac.cn)... 124.16.164.229\n",
            "Connecting to download.big.ac.cn (download.big.ac.cn)|124.16.164.229|:21... connected.\n",
            "Logging in as anonymous ... Logged in!\n",
            "==> SYST ... done.    ==> PWD ... done.\n",
            "==> TYPE I ... done.  ==> CWD (1) /gsa3/CRA002497/CRR126632 ... done.\n",
            "==> SIZE CRR126632_r2.fastq.gz ... 679566484\n",
            "==> PASV ... done.    ==> RETR CRR126632_r2.fastq.gz ... done.\n",
            "Length: 679566484 (648M) (unauthoritative)\n",
            "\n",
            "CRR126632_r2.fastq. 100%[===================>] 648.08M  13.1MB/s    in 51s     \n",
            "\n",
            "2021-05-04 04:23:07 (12.6 MB/s) - ‘CRR126632_r2.fastq.gz’ saved [679566484]\n",
            "\n",
            "--2021-05-04 04:23:07--  ftp://download.big.ac.cn/gsa3/CRA002497/CRR126633/CRR126633_f1.fastq.gz\n",
            "           => ‘CRR126633_f1.fastq.gz’\n",
            "Resolving download.big.ac.cn (download.big.ac.cn)... 124.16.164.229\n",
            "Connecting to download.big.ac.cn (download.big.ac.cn)|124.16.164.229|:21... connected.\n",
            "Logging in as anonymous ... Logged in!\n",
            "==> SYST ... done.    ==> PWD ... done.\n",
            "==> TYPE I ... done.  ==> CWD (1) /gsa3/CRA002497/CRR126633 ... done.\n",
            "==> SIZE CRR126633_f1.fastq.gz ... 629314728\n",
            "==> PASV ... done.    ==> RETR CRR126633_f1.fastq.gz ... done.\n",
            "Length: 629314728 (600M) (unauthoritative)\n",
            "\n",
            "CRR126633_f1.fastq. 100%[===================>] 600.16M  14.9MB/s    in 42s     \n",
            "\n",
            "2021-05-04 04:23:52 (14.1 MB/s) - ‘CRR126633_f1.fastq.gz’ saved [629314728]\n",
            "\n",
            "--2021-05-04 04:23:52--  ftp://download.big.ac.cn/gsa3/CRA002497/CRR126633/CRR126633_r2.fastq.gz\n",
            "           => ‘CRR126633_r2.fastq.gz’\n",
            "Resolving download.big.ac.cn (download.big.ac.cn)... 124.16.164.229\n",
            "Connecting to download.big.ac.cn (download.big.ac.cn)|124.16.164.229|:21... connected.\n",
            "Logging in as anonymous ... Logged in!\n",
            "==> SYST ... done.    ==> PWD ... done.\n",
            "==> TYPE I ... done.  ==> CWD (1) /gsa3/CRA002497/CRR126633 ... done.\n",
            "==> SIZE CRR126633_r2.fastq.gz ... 673164562\n",
            "==> PASV ... done.    ==> RETR CRR126633_r2.fastq.gz ... done.\n",
            "Length: 673164562 (642M) (unauthoritative)\n",
            "\n",
            "CRR126633_r2.fastq. 100%[===================>] 641.98M  12.4MB/s    in 52s     \n",
            "\n",
            "2021-05-04 04:24:46 (12.5 MB/s) - ‘CRR126633_r2.fastq.gz’ saved [673164562]\n",
            "\n",
            "--2021-05-04 04:24:46--  ftp://download.big.ac.cn/gsa3/CRA002497/CRR126634/CRR126634_f1.fastq.gz\n",
            "           => ‘CRR126634_f1.fastq.gz’\n",
            "Resolving download.big.ac.cn (download.big.ac.cn)... 124.16.164.229\n",
            "Connecting to download.big.ac.cn (download.big.ac.cn)|124.16.164.229|:21... connected.\n",
            "Logging in as anonymous ... Logged in!\n",
            "==> SYST ... done.    ==> PWD ... done.\n",
            "==> TYPE I ... done.  ==> CWD (1) /gsa3/CRA002497/CRR126634 ... done.\n",
            "==> SIZE CRR126634_f1.fastq.gz ... 934516345\n",
            "==> PASV ... done.    ==> RETR CRR126634_f1.fastq.gz ... done.\n",
            "Length: 934516345 (891M) (unauthoritative)\n",
            "\n",
            "CRR126634_f1.fastq. 100%[===================>] 891.22M  15.3MB/s    in 61s     \n",
            "\n",
            "2021-05-04 04:25:50 (14.6 MB/s) - ‘CRR126634_f1.fastq.gz’ saved [934516345]\n",
            "\n",
            "--2021-05-04 04:25:50--  ftp://download.big.ac.cn/gsa3/CRA002497/CRR126634/CRR126634_r2.fastq.gz\n",
            "           => ‘CRR126634_r2.fastq.gz’\n",
            "Resolving download.big.ac.cn (download.big.ac.cn)... 124.16.164.229\n",
            "Connecting to download.big.ac.cn (download.big.ac.cn)|124.16.164.229|:21... connected.\n",
            "Logging in as anonymous ... Logged in!\n",
            "==> SYST ... done.    ==> PWD ... done.\n",
            "==> TYPE I ... done.  ==> CWD (1) /gsa3/CRA002497/CRR126634 ... done.\n",
            "==> SIZE CRR126634_r2.fastq.gz ... 1001246687\n",
            "==> PASV ... done.    ==> RETR CRR126634_r2.fastq.gz ... done.\n",
            "Length: 1001246687 (955M) (unauthoritative)\n",
            "\n",
            "CRR126634_r2.fastq. 100%[===================>] 954.86M  13.3MB/s    in 74s     \n",
            "\n",
            "2021-05-04 04:27:08 (12.8 MB/s) - ‘CRR126634_r2.fastq.gz’ saved [1001246687]\n",
            "\n"
          ],
          "name": "stdout"
        }
      ]
    },
    {
      "cell_type": "code",
      "metadata": {
        "id": "PC9oETW1pE9t",
        "colab": {
          "base_uri": "https://localhost:8080/"
        },
        "outputId": "5619232f-41e2-456b-e68c-f69786e69e9b"
      },
      "source": [
        "if bam:\n",
        "  # Download the corresponding Kallisto index to folder containing fastqs\n",
        "  !kb ref -d $species_kb -i index.idx -g t2g.txt -f1 transcriptome.fasta\n",
        "\n",
        "if not bam and fastq_ffqlinks:\n",
        "  %cd /content\n",
        "\n",
        "  # Download the corresponding Kallisto index to content folder\n",
        "  !kb ref -d $species_kb -i index.idx -g t2g.txt -f1 transcriptome.fasta\n",
        "\n",
        "if not bam and not fastq_ffqlinks:\n",
        "  %cd /content/fastqs\n",
        "\n",
        "  # Download the corresponding Kallisto index to fastq folder\n",
        "  !kb ref -d $species_kb -i index.idx -g t2g.txt -f1 transcriptome.fasta"
      ],
      "execution_count": 10,
      "outputs": [
        {
          "output_type": "stream",
          "text": [
            "/content/fastqs\n",
            "[2021-05-04 04:27:10,312]    INFO Downloading files for human from https://caltech.box.com/shared/static/v1nm7lpnqz5syh8dyzdk2zs8bglncfib.gz to tmp/v1nm7lpnqz5syh8dyzdk2zs8bglncfib.gz\n",
            "100% 2.23G/2.23G [01:32<00:00, 25.9MB/s]\n",
            "[2021-05-04 04:28:43,702]    INFO Extracting files from tmp/v1nm7lpnqz5syh8dyzdk2zs8bglncfib.gz\n"
          ],
          "name": "stdout"
        }
      ]
    },
    {
      "cell_type": "code",
      "metadata": {
        "id": "vHVNa51Cp9Nr",
        "colab": {
          "base_uri": "https://localhost:8080/"
        },
        "outputId": "5b92ab51-b4d0-4752-a7e4-2761f5fcb8c6"
      },
      "source": [
        "# Check to make sure the metadata is in the right order after sorting\n",
        "print(fastqs)"
      ],
      "execution_count": 11,
      "outputs": [
        {
          "output_type": "stream",
          "text": [
            "['CRR126623_f1.fastq.gz', 'CRR126623_r2.fastq.gz', 'CRR126624_f1.fastq.gz', 'CRR126624_r2.fastq.gz', 'CRR126625_f1.fastq.gz', 'CRR126625_r2.fastq.gz', 'CRR126626_f1.fastq.gz', 'CRR126626_r2.fastq.gz', 'CRR126627_f1.fastq.gz', 'CRR126627_r2.fastq.gz', 'CRR126628_f1.fastq.gz', 'CRR126628_r2.fastq.gz', 'CRR126629_f1.fastq.gz', 'CRR126629_r2.fastq.gz', 'CRR126630_f1.fastq.gz', 'CRR126630_r2.fastq.gz', 'CRR126631_f1.fastq.gz', 'CRR126631_r2.fastq.gz', 'CRR126632_f1.fastq.gz', 'CRR126632_r2.fastq.gz', 'CRR126633_f1.fastq.gz', 'CRR126633_r2.fastq.gz', 'CRR126634_f1.fastq.gz', 'CRR126634_r2.fastq.gz']\n"
          ],
          "name": "stdout"
        }
      ]
    },
    {
      "cell_type": "markdown",
      "metadata": {
        "id": "VInyuq1Dp7iz"
      },
      "source": [
        "# Process fastq files (modify kb command according to fastqs list)\n"
      ]
    },
    {
      "cell_type": "code",
      "metadata": {
        "id": "OcqtBuH-pRaX",
        "colab": {
          "base_uri": "https://localhost:8080/"
        },
        "outputId": "0efdf5fc-bd3c-4a40-f95a-cb4af8a825a4"
      },
      "source": [
        "fastqs"
      ],
      "execution_count": 12,
      "outputs": [
        {
          "output_type": "execute_result",
          "data": {
            "text/plain": [
              "['CRR126623_f1.fastq.gz',\n",
              " 'CRR126623_r2.fastq.gz',\n",
              " 'CRR126624_f1.fastq.gz',\n",
              " 'CRR126624_r2.fastq.gz',\n",
              " 'CRR126625_f1.fastq.gz',\n",
              " 'CRR126625_r2.fastq.gz',\n",
              " 'CRR126626_f1.fastq.gz',\n",
              " 'CRR126626_r2.fastq.gz',\n",
              " 'CRR126627_f1.fastq.gz',\n",
              " 'CRR126627_r2.fastq.gz',\n",
              " 'CRR126628_f1.fastq.gz',\n",
              " 'CRR126628_r2.fastq.gz',\n",
              " 'CRR126629_f1.fastq.gz',\n",
              " 'CRR126629_r2.fastq.gz',\n",
              " 'CRR126630_f1.fastq.gz',\n",
              " 'CRR126630_r2.fastq.gz',\n",
              " 'CRR126631_f1.fastq.gz',\n",
              " 'CRR126631_r2.fastq.gz',\n",
              " 'CRR126632_f1.fastq.gz',\n",
              " 'CRR126632_r2.fastq.gz',\n",
              " 'CRR126633_f1.fastq.gz',\n",
              " 'CRR126633_r2.fastq.gz',\n",
              " 'CRR126634_f1.fastq.gz',\n",
              " 'CRR126634_r2.fastq.gz']"
            ]
          },
          "metadata": {
            "tags": []
          },
          "execution_count": 0
        }
      ]
    },
    {
      "cell_type": "code",
      "metadata": {
        "id": "5qFzPj-0kZTi",
        "colab": {
          "base_uri": "https://localhost:8080/"
        },
        "outputId": "18a9fa71-affb-48d9-c715-5771ffefb464"
      },
      "source": [
        "# Specify the sample number and whether they are paired-ended\n",
        "\n",
        "\n",
        "if no_samples == 1:\n",
        "\n",
        "  # Write the kb count command as a string with all fastqs of the list as an input\n",
        "  cmd = \"kb count --h5ad -i index.idx -g t2g.txt -x \" + technology_kb + \" -o output\" + sample_id[0] + \" \"\\\n",
        "  + \"--filter bustools -t 2 --overwrite \" + \"'\" +  \"' '\".join(fastqs) + \"'\"\n",
        "  \n",
        "  # Execute it\n",
        "  !$cmd\n",
        "\n",
        "# If more than one sample, iterate through fastqs accordingly\n",
        "else:\n",
        "\n",
        "  # Initializa counter for fastq files\n",
        "  j = 0\n",
        "\n",
        "  # Loop over samples for analysis\n",
        "  for i in range(no_samples):\n",
        "\n",
        "    fastqs_to_analyze = fastqs[j:j + fastqs_per_sample[i]]\n",
        "    # Write the kb count command as a string\n",
        "    cmd = \"kb count --h5ad -i ../index.idx -g ../t2g.txt -x \" + technology_kb + \" -o output\" + sample_id[i] + \" \\\n",
        "    --filter bustools -t 2 --overwrite \" + \"'\" +  \"' '\".join(fastqs_to_analyze) + \"'\"\n",
        "\n",
        "    # Execute it\n",
        "    !$cmd\n",
        "\n",
        "    # Update j to move to the next set of fastq\n",
        "    j = j + fastqs_per_sample[i]\n",
        "\n",
        "\n",
        "\n",
        "\n",
        "\n"
      ],
      "execution_count": 13,
      "outputs": [
        {
          "output_type": "stream",
          "text": [
            "[2021-05-04 04:29:22,344]    INFO Using index index.idx to generate BUS file to outputCRX102290 from\n",
            "[2021-05-04 04:29:22,344]    INFO         CRR126623_f1.fastq.gz\n",
            "[2021-05-04 04:29:22,344]    INFO         CRR126623_r2.fastq.gz\n",
            "[2021-05-04 04:29:22,344]    INFO         CRR126624_f1.fastq.gz\n",
            "[2021-05-04 04:29:22,344]    INFO         CRR126624_r2.fastq.gz\n",
            "[2021-05-04 04:29:22,344]    INFO         CRR126625_f1.fastq.gz\n",
            "[2021-05-04 04:29:22,344]    INFO         CRR126625_r2.fastq.gz\n",
            "[2021-05-04 04:29:22,344]    INFO         CRR126626_f1.fastq.gz\n",
            "[2021-05-04 04:29:22,344]    INFO         CRR126626_r2.fastq.gz\n",
            "[2021-05-04 04:29:22,344]    INFO         CRR126627_f1.fastq.gz\n",
            "[2021-05-04 04:29:22,344]    INFO         CRR126627_r2.fastq.gz\n",
            "[2021-05-04 04:29:22,344]    INFO         CRR126628_f1.fastq.gz\n",
            "[2021-05-04 04:29:22,345]    INFO         CRR126628_r2.fastq.gz\n",
            "[2021-05-04 04:29:22,345]    INFO         CRR126629_f1.fastq.gz\n",
            "[2021-05-04 04:29:22,345]    INFO         CRR126629_r2.fastq.gz\n",
            "[2021-05-04 04:29:22,345]    INFO         CRR126630_f1.fastq.gz\n",
            "[2021-05-04 04:29:22,345]    INFO         CRR126630_r2.fastq.gz\n",
            "[2021-05-04 04:29:22,345]    INFO         CRR126631_f1.fastq.gz\n",
            "[2021-05-04 04:29:22,345]    INFO         CRR126631_r2.fastq.gz\n",
            "[2021-05-04 04:29:22,345]    INFO         CRR126632_f1.fastq.gz\n",
            "[2021-05-04 04:29:22,345]    INFO         CRR126632_r2.fastq.gz\n",
            "[2021-05-04 04:29:22,345]    INFO         CRR126633_f1.fastq.gz\n",
            "[2021-05-04 04:29:22,345]    INFO         CRR126633_r2.fastq.gz\n",
            "[2021-05-04 04:29:22,345]    INFO         CRR126634_f1.fastq.gz\n",
            "[2021-05-04 04:29:22,345]    INFO         CRR126634_r2.fastq.gz\n",
            "[2021-05-04 06:10:06,315]    INFO Sorting BUS file outputCRX102290/output.bus to outputCRX102290/tmp/output.s.bus\n",
            "[2021-05-04 06:13:54,466]    INFO Whitelist not provided\n",
            "[2021-05-04 06:13:54,469]    INFO Copying pre-packaged 10XV2 whitelist to outputCRX102290\n",
            "[2021-05-04 06:13:54,585]    INFO Inspecting BUS file outputCRX102290/tmp/output.s.bus\n",
            "[2021-05-04 06:14:11,385]    INFO Correcting BUS records in outputCRX102290/tmp/output.s.bus to outputCRX102290/tmp/output.s.c.bus with whitelist outputCRX102290/10xv2_whitelist.txt\n",
            "[2021-05-04 06:14:25,229]    INFO Sorting BUS file outputCRX102290/tmp/output.s.c.bus to outputCRX102290/output.unfiltered.bus\n",
            "[2021-05-04 06:14:59,002]    INFO Generating count matrix outputCRX102290/counts_unfiltered/cells_x_genes from BUS file outputCRX102290/output.unfiltered.bus\n",
            "[2021-05-04 06:15:23,422]    INFO Reading matrix outputCRX102290/counts_unfiltered/cells_x_genes.mtx\n",
            "[2021-05-04 06:15:36,736]    INFO Writing matrix to h5ad outputCRX102290/counts_unfiltered/adata.h5ad\n",
            "[2021-05-04 06:15:37,594]    INFO Filtering with bustools\n",
            "[2021-05-04 06:15:37,594]    INFO Generating whitelist outputCRX102290/filter_barcodes.txt from BUS file outputCRX102290/output.unfiltered.bus\n",
            "[2021-05-04 06:15:37,983]    INFO Correcting BUS records in outputCRX102290/output.unfiltered.bus to outputCRX102290/tmp/output.unfiltered.c.bus with whitelist outputCRX102290/filter_barcodes.txt\n",
            "[2021-05-04 06:15:48,848]    INFO Sorting BUS file outputCRX102290/tmp/output.unfiltered.c.bus to outputCRX102290/output.filtered.bus\n",
            "[2021-05-04 06:16:25,366]    INFO Generating count matrix outputCRX102290/counts_filtered/cells_x_genes from BUS file outputCRX102290/output.filtered.bus\n",
            "[2021-05-04 06:16:42,476]    INFO Reading matrix outputCRX102290/counts_filtered/cells_x_genes.mtx\n",
            "[2021-05-04 06:16:50,534]    INFO Writing matrix to h5ad outputCRX102290/counts_filtered/adata.h5ad\n"
          ],
          "name": "stdout"
        }
      ]
    },
    {
      "cell_type": "markdown",
      "metadata": {
        "id": "tDijOZzrqhN2"
      },
      "source": [
        "# Load unfiltered matrix and assign filters to each matrix individually"
      ]
    },
    {
      "cell_type": "markdown",
      "metadata": {
        "id": "VkNLZh_pNFFw"
      },
      "source": [
        "## Load the unfiltered matrix (check dimensions)"
      ]
    },
    {
      "cell_type": "code",
      "metadata": {
        "id": "pKAIzjIBXl4i"
      },
      "source": [
        "# Define dict to store data\n",
        "results = {}\n"
      ],
      "execution_count": 15,
      "outputs": []
    },
    {
      "cell_type": "code",
      "metadata": {
        "id": "-12Qqq5CXmrv",
        "outputId": "9c4cfeaf-43ea-4d8f-890f-b4bd3a81266b",
        "colab": {
          "base_uri": "https://localhost:8080/"
        }
      },
      "source": [
        "# load the unfiltered matrix\n",
        "for i in range(no_samples):\n",
        "  results[sample_id[i]] = anndata.read_h5ad(\"output\" + sample_id[i] + \"/counts_unfiltered/adata.h5ad\")\n",
        "  results[sample_id[i]].var[\"gene_id\"] = results[sample_id[i]].var.index.values\n",
        "\n",
        "  t2g = pd.read_csv(\"t2g.txt\", header=None, names=[\"tid\", \"gene_id\", \"gene_name\"], sep=\"\\t\")\n",
        "  t2g.index = t2g.gene_id\n",
        "  t2g = t2g.loc[~t2g.index.duplicated(keep='first')]\n",
        "\n",
        "  results[sample_id[i]].var[\"gene_name\"] = results[sample_id[i]].var.gene_id.map(t2g[\"gene_name\"])\n",
        "  results[sample_id[i]].var.index = results[sample_id[i]].var[\"gene_name\"]\n",
        "  print(\"The unfiltered matrix \" + sample_id[i] + \" contains {} cells by {} genes\".format(len(results[sample_id[i]].obs), len(results[sample_id[i]].var)))\n",
        "\n",
        "  results[sample_id[i]].obs[\"cell_counts\"] = results[sample_id[i]].X.sum(axis=1)\n",
        "  results[sample_id[i]].var[\"gene_counts\"] = nd(results[sample_id[i]].X.sum(axis=0))\n",
        "\n",
        "  results[sample_id[i]].obs[\"n_genes\"] = nd((results[sample_id[i]].X>0).sum(axis=1))\n",
        "  results[sample_id[i]].var[\"n_cells\"] = nd((results[sample_id[i]].X>0).sum(axis=0))\n",
        "\n",
        "  mito_genes = results[sample_id[i]].var_names.str.startswith(\"MT-\" or \"mt-\") \n",
        "  results[sample_id[i]].obs[\"percent_mito\"] = results[sample_id[i]][:,mito_genes].X.sum(axis=1)/results[sample_id[i]].X.sum(axis=1)*100\n",
        "\n",
        "  # Changing the name of the index is necessary to write the file (it won't work with duplicated names)\n",
        "  results[sample_id[i]].var.index.name = \"index\"\n",
        "\n"
      ],
      "execution_count": 16,
      "outputs": [
        {
          "output_type": "stream",
          "text": [
            "The unfiltered matrix CRX102290 contains 252848 cells by 60623 genes\n"
          ],
          "name": "stdout"
        }
      ]
    },
    {
      "cell_type": "markdown",
      "metadata": {
        "id": "hDAUH3eH_2RA"
      },
      "source": [
        "## Assign filters for each matrix individually"
      ]
    },
    {
      "cell_type": "code",
      "metadata": {
        "id": "ukinuaKk_6Po"
      },
      "source": [
        "# Modify this manually to change sample after having assigned the \"expected_num_cells\" and \"mito_criteria\" parameters\n",
        "samp_n = 0\n",
        "\n",
        "\n",
        "# Filtering criteria\n",
        "cell_threshold = 100\n",
        "gene_threshold = 3\n",
        "\n",
        "mito_criteria = 30"
      ],
      "execution_count": 17,
      "outputs": []
    },
    {
      "cell_type": "code",
      "metadata": {
        "id": "a5wZB5pEfwNs",
        "cellView": "form",
        "outputId": "b741f3df-4b08-4b9f-e308-28e531086812",
        "colab": {
          "base_uri": "https://localhost:8080/",
          "height": 722
        }
      },
      "source": [
        "\n",
        "expected_num_cells = 2500#@param {type:\"integer\"}\n",
        "knee = np.sort(nd(results[sample_id[samp_n]].X.sum(axis=1)))[::-1]\n",
        "\n",
        "fig, ax = plt.subplots(figsize=(5, 5))\n",
        "\n",
        "x = knee\n",
        "y = range(len(knee))\n",
        "\n",
        "ax.loglog(x, y, linewidth=5, color=\"g\")\n",
        "\n",
        "ax.axvline(x=knee[expected_num_cells], linewidth=3, color=\"k\")\n",
        "ax.axhline(y=expected_num_cells, linewidth=3, color=\"k\")\n",
        "\n",
        "ax.set_xlabel(\"UMI Counts\")\n",
        "ax.set_ylabel(\"Set of Barcodes\")\n",
        "\n",
        "plt.show()\n",
        "\n",
        "cell_threshold = knee[expected_num_cells]\n",
        "\n",
        "results[\"cell_threshold\" + sample_id[samp_n]] = knee[expected_num_cells]\n",
        "\n",
        "print (\"Cells were filtered down to \" + str(expected_num_cells) + \" with at least \" + str(cell_threshold) + \" UMIs\")\n",
        "\n",
        "\n",
        "mito_criteria = 21#@param {type:\"integer\"}\n",
        "results[\"mito_criteria\" + sample_id[samp_n]] = mito_criteria\n",
        "\n",
        "fig, ax = plt.subplots(figsize=(5,5))\n",
        "\n",
        "\n",
        "x = nd(results[sample_id[samp_n]].obs[\"cell_counts\"][results[sample_id[samp_n]].obs[\"cell_counts\"] > cell_threshold])\n",
        "y = nd(results[sample_id[samp_n]].obs[\"percent_mito\"][results[sample_id[samp_n]].obs[\"cell_counts\"] > cell_threshold])\n",
        "\n",
        "ax.scatter(x, y, color=\"green\", alpha=0.1)\n",
        "\n",
        "ax.axhline(y=mito_criteria, linestyle=\"--\", color=\"k\")\n",
        "\n",
        "\n",
        "ax.set_xlabel(\"UMI Counts\")\n",
        "ax.set_ylabel(\"Percent mito\")\n",
        "\n",
        "\n",
        "plt.show()\n",
        "\n",
        "print(\"We select \" + str(mito_criteria) + \" % as the mitochondrial content threshold\")"
      ],
      "execution_count": 21,
      "outputs": [
        {
          "output_type": "display_data",
          "data": {
            "image/png": "[encoded data removed]",
            "text/plain": [
              "<Figure size 360x360 with 1 Axes>"
            ]
          },
          "metadata": {
            "tags": [],
            "image/png": {
              "width": 358,
              "height": 337
            },
            "needs_background": "light"
          }
        },
        {
          "output_type": "stream",
          "text": [
            "Cells were filtered down to 2500 with at least 1904.0 UMIs\n"
          ],
          "name": "stdout"
        },
        {
          "output_type": "display_data",
          "data": {
            "image/png": "[encoded data removed]",
            "text/plain": [
              "<Figure size 360x360 with 1 Axes>"
            ]
          },
          "metadata": {
            "tags": [],
            "image/png": {
              "width": 366,
              "height": 337
            },
            "needs_background": "light"
          }
        },
        {
          "output_type": "stream",
          "text": [
            "We select 21 % as the mitochondrial content threshold\n"
          ],
          "name": "stdout"
        }
      ]
    },
    {
      "cell_type": "markdown",
      "metadata": {
        "id": "eP9j2ouPq9KY"
      },
      "source": [
        "# Filter matrix"
      ]
    },
    {
      "cell_type": "code",
      "metadata": {
        "id": "sE51WUA3gVmG",
        "outputId": "28f1ffe8-1a79-4126-ac23-566114370f86",
        "colab": {
          "base_uri": "https://localhost:8080/"
        }
      },
      "source": [
        "for i in range(no_samples):\n",
        "  results[sample_id[i]].obs[\"pass_count_filter\"] = results[sample_id[i]].obs[\"cell_counts\"] > results[\"cell_threshold\" + sample_id[i]]\n",
        "  results[sample_id[i]].obs[\"pass_mito_filter\"] = results[sample_id[i]].obs.percent_mito < results[\"mito_criteria\" + sample_id[i]]\n",
        "  results[sample_id[i]].var[\"pass_gene_filter\"] = results[sample_id[i]].var[\"n_cells\"] > gene_threshold\n",
        "\n",
        "  cell_mask = np.logical_and(results[sample_id[i]].obs[\"pass_count_filter\"].values, results[sample_id[i]].obs[\"pass_mito_filter\"].values)\n",
        "  gene_mask = results[sample_id[i]].var[\"pass_gene_filter\"].values\n",
        "\n",
        "  print(\"Current Shape: {:,} cells x {:,} genes\".format(results[sample_id[i]].shape[0], results[sample_id[i]].shape[1]))\n",
        "  print(\"    New shape: {:,} cells x {:,} genes\".format(cell_mask.sum(), gene_mask.sum()))\n",
        "  results[\"data_\" + sample_id[i]] = results[sample_id[i]][cell_mask, gene_mask]"
      ],
      "execution_count": 22,
      "outputs": [
        {
          "output_type": "stream",
          "text": [
            "Current Shape: 252,848 cells x 60,623 genes\n",
            "    New shape: 2,476 cells x 24,068 genes\n"
          ],
          "name": "stdout"
        }
      ]
    },
    {
      "cell_type": "markdown",
      "metadata": {
        "id": "BxPA81yj4TlU"
      },
      "source": [
        "# Anotate and write the Anndata object"
      ]
    },
    {
      "cell_type": "code",
      "metadata": {
        "id": "O-q_Qj2U4kDU",
        "outputId": "d1c70d52-44b2-4c2e-8da5-110c55e0054c",
        "colab": {
          "base_uri": "https://localhost:8080/"
        }
      },
      "source": [
        "for i in range(no_samples):\n",
        "\n",
        "\n",
        "  results[\"data_\" + sample_id[i]].uns[\"database_id\"] = database_id[i]\n",
        "\n",
        "  results[\"data_\" + sample_id[i]].uns[\"tissue\"] = tissue[i]\n",
        "\n",
        "  results[\"data_\" + sample_id[i]].uns[\"cell_type\"] = cell_type[i]\n",
        "\n",
        "  results[\"data_\" + sample_id[i]].uns[\"sample_id\"] = sample_id[i]\n",
        "\n",
        "  results[\"data_\" + sample_id[i]].uns[\"condition\"] = condition[i]\n",
        "\n",
        "  results[\"data_\" + sample_id[i]].uns[\"species\"] = species[i]\n",
        "\n",
        "  results[\"data_\" + sample_id[i]].uns[\"technology\"] = technology[i]\n",
        "\n",
        "  results[\"data_\" + sample_id[i]].uns[\"paper\"] = paper[i]\n",
        "\n",
        "  results[\"data_\" + sample_id[i]].uns[\"figure\"] = figure[i]\n",
        "\n",
        "\n",
        "%cd /content\n",
        "\n",
        "for i in range(no_samples):\n",
        "\n",
        "  results[\"data_\" + sample_id[i]].write(\"result\" + sample_id[i])"
      ],
      "execution_count": 23,
      "outputs": [
        {
          "output_type": "stream",
          "text": [
            "Trying to set attribute `.uns` of view, copying.\n",
            "Variable names are not unique. To make them unique, call `.var_names_make_unique`.\n",
            "Variable names are not unique. To make them unique, call `.var_names_make_unique`.\n"
          ],
          "name": "stderr"
        },
        {
          "output_type": "stream",
          "text": [
            "/content\n"
          ],
          "name": "stdout"
        },
        {
          "output_type": "stream",
          "text": [
            "... storing 'gene_name' as categorical\n"
          ],
          "name": "stderr"
        }
      ]
    }
  ]
}