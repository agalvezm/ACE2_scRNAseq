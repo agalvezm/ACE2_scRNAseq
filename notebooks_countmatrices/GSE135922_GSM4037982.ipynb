{
  "nbformat": 4,
  "nbformat_minor": 0,
  "metadata": {
    "colab": {
      "name": "GSE135922_GSM4037982.ipynb",
      "provenance": [],
      "collapsed_sections": [],
      "include_colab_link": true
    },
    "kernelspec": {
      "name": "python3",
      "display_name": "Python 3"
    }
  },
  "cells": [
    {
      "cell_type": "markdown",
      "metadata": {
        "id": "view-in-github",
        "colab_type": "text"
      },
      "source": [
        "<a href=\"https://colab.research.google.com/github/agalvezm/ACE2_scRNAseq/blob/master/notebooks_countmatrices/GSE135922_GSM4037982.ipynb\" target=\"_parent\"><img src=\"https://colab.research.google.com/assets/colab-badge.svg\" alt=\"Open In Colab\"/></a>"
      ]
    },
    {
      "cell_type": "markdown",
      "metadata": {
        "id": "V9ryXluJsJw9"
      },
      "source": [
        "# GSE135922_GSM4037982"
      ]
    },
    {
      "cell_type": "code",
      "metadata": {
        "id": "2BiFt2wu4aLh",
        "colab": {
          "base_uri": "https://localhost:8080/"
        },
        "outputId": "8e9c15fd-00a3-4163-af5c-5adb06c2e943"
      },
      "source": [
        "# Install SRA-toolkit \n",
        "!wget \"http://ftp-trace.ncbi.nlm.nih.gov/sra/sdk/current/sratoolkit.current-centos_linux64.tar.gz\"\n",
        "\n",
        "! tar -xzf sratoolkit.current-centos_linux64.tar.gz\n",
        "\n",
        "# Add to path\n",
        "import os\n",
        "os.environ['PATH'] += \":/content/sratoolkit.2.11.0-centos_linux64/bin\"\n",
        "\n",
        "# Configure\n",
        "!vdb-config --interactive\n",
        "\n",
        "# Import packages\n",
        "\n",
        "import numpy as np\n"
      ],
      "execution_count": 1,
      "outputs": [
        {
          "output_type": "stream",
          "text": [
            "--2021-04-12 17:49:10--  http://ftp-trace.ncbi.nlm.nih.gov/sra/sdk/current/sratoolkit.current-centos_linux64.tar.gz\n",
            "Resolving ftp-trace.ncbi.nlm.nih.gov (ftp-trace.ncbi.nlm.nih.gov)... 130.14.250.12, 165.112.9.228, 2607:f220:41e:250::10, ...\n",
            "Connecting to ftp-trace.ncbi.nlm.nih.gov (ftp-trace.ncbi.nlm.nih.gov)|130.14.250.12|:80... connected.\n",
            "HTTP request sent, awaiting response... 301 Moved Permanently\n",
            "Location: https://ftp-trace.ncbi.nlm.nih.gov/sra/sdk/current/sratoolkit.current-centos_linux64.tar.gz [following]\n",
            "--2021-04-12 17:49:10--  https://ftp-trace.ncbi.nlm.nih.gov/sra/sdk/current/sratoolkit.current-centos_linux64.tar.gz\n",
            "Connecting to ftp-trace.ncbi.nlm.nih.gov (ftp-trace.ncbi.nlm.nih.gov)|130.14.250.12|:443... connected.\n",
            "HTTP request sent, awaiting response... 200 OK\n",
            "Length: 99139357 (95M) [application/x-gzip]\n",
            "Saving to: ‘sratoolkit.current-centos_linux64.tar.gz’\n",
            "\n",
            "sratoolkit.current- 100%[===================>]  94.55M  67.6MB/s    in 1.4s    \n",
            "\n",
            "2021-04-12 17:49:12 (67.6 MB/s) - ‘sratoolkit.current-centos_linux64.tar.gz’ saved [99139357/99139357]\n",
            "\n",
            "\u001b[2J\u001b[?25l\u001b[?1000h\u001b[?1002h2021-04-12T17:49:15 vdb-config.2.11.0 fatal: SIGNAL - Segmentation fault \n"
          ],
          "name": "stdout"
        }
      ]
    },
    {
      "cell_type": "code",
      "metadata": {
        "id": "mU4XegJlo2Na"
      },
      "source": [
        "# List of SRAs to download and transform. Copy paste from excel as string\n",
        "SRAs = \"SRR9990651\tSRR9990652\tSRR9990653\tSRR9990654\tSRR9990655\tSRR9990656\tSRR9990657\tSRR9990658\tSRR9990659\tSRR9990660\tSRR9990661\tSRR9990662\tSRR9990663\tSRR9990664\tSRR9990665\tSRR9990666\tSRR9990667\tSRR9990668\tSRR9990669\tSRR9990670\tSRR9990671\tSRR9990672\tSRR9990673\tSRR9990674\"\n",
        "\n",
        "SRAs = SRAs.split()\n",
        "\n",
        "# SRA to delete, usually the index file, which get downloaded because we include technical reads. \n",
        "# It varies so check in the SRA website\n",
        "SRA_to_delete = \"3\"\n",
        "\n",
        "\n",
        "SRAs_to_keep = np.setdiff1d([\"1\", \"2\", \"3\"], [SRA_to_delete])\n",
        "\n",
        "# sample specific metadata\n",
        "\n",
        "samp_id = [\"GSM4037982\"]\n",
        "\n",
        "cell_type = [\"retinal pigment epithelium macula, unenriched\"]\n",
        "\n",
        "condition = [\"donor 2\"]"
      ],
      "execution_count": 2,
      "outputs": []
    },
    {
      "cell_type": "code",
      "metadata": {
        "id": "u3uDp_jCpfhZ",
        "colab": {
          "base_uri": "https://localhost:8080/"
        },
        "outputId": "c936e88b-dedb-4bc4-a7f0-81d17fec2c8c"
      },
      "source": [
        "for sra in SRAs:\n",
        "  \"\"\"\n",
        "  Downloads SRAs and transforms to compressed fastq file. Remove index reads and original SRA\n",
        "  \"\"\"\n",
        "  # Download SRA\n",
        "  !prefetch $sra\n",
        "\n",
        "  # Convert to fastq. Biological reads are usually considered technicals in 10x so do not skip them.\n",
        "  fastq_dump_cmd = \"fastq-dump -F --gzip --readids --split-files \" + sra + \"/\" + sra +\".sra\"\n",
        "  !$fastq_dump_cmd\n",
        "\n",
        "  # Remove files\n",
        "  rm_cmd_1 = \"rm \" + sra + \"/\" + sra + \".sra\"\n",
        "  rm_cmd_2 = \"rm \" + sra + \"_\" + SRA_to_delete + \".fastq.gz\" \n",
        "  !$rm_cmd_1\n",
        "  !$rm_cmd_2"
      ],
      "execution_count": 3,
      "outputs": [
        {
          "output_type": "stream",
          "text": [
            "\n",
            "2021-04-12T17:50:19 prefetch.2.11.0: 1) Downloading 'SRR9990651'...\n",
            "2021-04-12T17:50:19 prefetch.2.11.0:  Downloading via HTTPS...\n",
            "2021-04-12T17:50:54 prefetch.2.11.0:  HTTPS download succeed\n",
            "2021-04-12T17:50:58 prefetch.2.11.0:  'SRR9990651' is valid\n",
            "2021-04-12T17:50:58 prefetch.2.11.0: 1) 'SRR9990651' was downloaded successfully\n",
            "2021-04-12T17:50:58 prefetch.2.11.0: 'SRR9990651' has 0 unresolved dependencies\n",
            "Read 12111002 spots for SRR9990651/SRR9990651.sra\n",
            "Written 12111002 spots for SRR9990651/SRR9990651.sra\n",
            "rm: cannot remove 'SRR9990651_3.fastq.gz': No such file or directory\n",
            "\n",
            "2021-04-12T18:10:52 prefetch.2.11.0: 1) Downloading 'SRR9990652'...\n",
            "2021-04-12T18:10:52 prefetch.2.11.0:  Downloading via HTTPS...\n",
            "2021-04-12T18:11:36 prefetch.2.11.0:  HTTPS download succeed\n",
            "2021-04-12T18:11:40 prefetch.2.11.0:  'SRR9990652' is valid\n",
            "2021-04-12T18:11:40 prefetch.2.11.0: 1) 'SRR9990652' was downloaded successfully\n",
            "2021-04-12T18:11:40 prefetch.2.11.0: 'SRR9990652' has 0 unresolved dependencies\n",
            "Read 12919852 spots for SRR9990652/SRR9990652.sra\n",
            "Written 12919852 spots for SRR9990652/SRR9990652.sra\n",
            "rm: cannot remove 'SRR9990652_3.fastq.gz': No such file or directory\n",
            "\n",
            "2021-04-12T18:32:40 prefetch.2.11.0: 1) Downloading 'SRR9990653'...\n",
            "2021-04-12T18:32:40 prefetch.2.11.0:  Downloading via HTTPS...\n",
            "2021-04-12T18:33:12 prefetch.2.11.0:  HTTPS download succeed\n",
            "2021-04-12T18:33:15 prefetch.2.11.0:  'SRR9990653' is valid\n",
            "2021-04-12T18:33:15 prefetch.2.11.0: 1) 'SRR9990653' was downloaded successfully\n",
            "2021-04-12T18:33:15 prefetch.2.11.0: 'SRR9990653' has 0 unresolved dependencies\n",
            "Read 8435643 spots for SRR9990653/SRR9990653.sra\n",
            "Written 8435643 spots for SRR9990653/SRR9990653.sra\n",
            "rm: cannot remove 'SRR9990653_3.fastq.gz': No such file or directory\n",
            "\n",
            "2021-04-12T18:47:39 prefetch.2.11.0: 1) Downloading 'SRR9990654'...\n",
            "2021-04-12T18:47:39 prefetch.2.11.0:  Downloading via HTTPS...\n",
            "2021-04-12T18:48:08 prefetch.2.11.0:  HTTPS download succeed\n",
            "2021-04-12T18:48:12 prefetch.2.11.0:  'SRR9990654' is valid\n",
            "2021-04-12T18:48:12 prefetch.2.11.0: 1) 'SRR9990654' was downloaded successfully\n",
            "2021-04-12T18:48:12 prefetch.2.11.0: 'SRR9990654' has 0 unresolved dependencies\n",
            "Read 9202803 spots for SRR9990654/SRR9990654.sra\n",
            "Written 9202803 spots for SRR9990654/SRR9990654.sra\n",
            "rm: cannot remove 'SRR9990654_3.fastq.gz': No such file or directory\n",
            "\n",
            "2021-04-12T19:03:42 prefetch.2.11.0: 1) Downloading 'SRR9990655'...\n",
            "2021-04-12T19:03:42 prefetch.2.11.0:  Downloading via HTTPS...\n",
            "2021-04-12T19:04:18 prefetch.2.11.0:  HTTPS download succeed\n",
            "2021-04-12T19:04:22 prefetch.2.11.0:  'SRR9990655' is valid\n",
            "2021-04-12T19:04:22 prefetch.2.11.0: 1) 'SRR9990655' was downloaded successfully\n",
            "2021-04-12T19:04:22 prefetch.2.11.0: 'SRR9990655' has 0 unresolved dependencies\n",
            "Read 12109520 spots for SRR9990655/SRR9990655.sra\n",
            "Written 12109520 spots for SRR9990655/SRR9990655.sra\n",
            "rm: cannot remove 'SRR9990655_3.fastq.gz': No such file or directory\n",
            "\n",
            "2021-04-12T19:24:22 prefetch.2.11.0: 1) Downloading 'SRR9990656'...\n",
            "2021-04-12T19:24:22 prefetch.2.11.0:  Downloading via HTTPS...\n",
            "2021-04-12T19:25:24 prefetch.2.11.0:  HTTPS download succeed\n",
            "2021-04-12T19:25:28 prefetch.2.11.0:  'SRR9990656' is valid\n",
            "2021-04-12T19:25:28 prefetch.2.11.0: 1) 'SRR9990656' was downloaded successfully\n",
            "2021-04-12T19:25:28 prefetch.2.11.0: 'SRR9990656' has 0 unresolved dependencies\n",
            "Read 12566469 spots for SRR9990656/SRR9990656.sra\n",
            "Written 12566469 spots for SRR9990656/SRR9990656.sra\n",
            "rm: cannot remove 'SRR9990656_3.fastq.gz': No such file or directory\n",
            "\n",
            "2021-04-12T19:46:08 prefetch.2.11.0: 1) Downloading 'SRR9990657'...\n",
            "2021-04-12T19:46:08 prefetch.2.11.0:  Downloading via HTTPS...\n",
            "2021-04-12T19:47:11 prefetch.2.11.0:  HTTPS download succeed\n",
            "2021-04-12T19:47:15 prefetch.2.11.0:  'SRR9990657' is valid\n",
            "2021-04-12T19:47:15 prefetch.2.11.0: 1) 'SRR9990657' was downloaded successfully\n",
            "2021-04-12T19:47:15 prefetch.2.11.0: 'SRR9990657' has 0 unresolved dependencies\n",
            "Read 12494093 spots for SRR9990657/SRR9990657.sra\n",
            "Written 12494093 spots for SRR9990657/SRR9990657.sra\n",
            "rm: cannot remove 'SRR9990657_3.fastq.gz': No such file or directory\n",
            "\n",
            "2021-04-12T20:07:50 prefetch.2.11.0: 1) Downloading 'SRR9990658'...\n",
            "2021-04-12T20:07:50 prefetch.2.11.0:  Downloading via HTTPS...\n",
            "2021-04-12T20:08:31 prefetch.2.11.0:  HTTPS download succeed\n",
            "2021-04-12T20:08:35 prefetch.2.11.0:  'SRR9990658' is valid\n",
            "2021-04-12T20:08:35 prefetch.2.11.0: 1) 'SRR9990658' was downloaded successfully\n",
            "2021-04-12T20:08:35 prefetch.2.11.0: 'SRR9990658' has 0 unresolved dependencies\n",
            "Read 13016697 spots for SRR9990658/SRR9990658.sra\n",
            "Written 13016697 spots for SRR9990658/SRR9990658.sra\n",
            "rm: cannot remove 'SRR9990658_3.fastq.gz': No such file or directory\n",
            "\n",
            "2021-04-12T20:29:54 prefetch.2.11.0: 1) Downloading 'SRR9990659'...\n",
            "2021-04-12T20:29:54 prefetch.2.11.0:  Downloading via HTTPS...\n",
            "2021-04-12T20:30:22 prefetch.2.11.0:  HTTPS download succeed\n",
            "2021-04-12T20:30:25 prefetch.2.11.0:  'SRR9990659' is valid\n",
            "2021-04-12T20:30:25 prefetch.2.11.0: 1) 'SRR9990659' was downloaded successfully\n",
            "2021-04-12T20:30:25 prefetch.2.11.0: 'SRR9990659' has 0 unresolved dependencies\n",
            "Read 8500676 spots for SRR9990659/SRR9990659.sra\n",
            "Written 8500676 spots for SRR9990659/SRR9990659.sra\n",
            "rm: cannot remove 'SRR9990659_3.fastq.gz': No such file or directory\n",
            "\n",
            "2021-04-12T20:45:03 prefetch.2.11.0: 1) Downloading 'SRR9990660'...\n",
            "2021-04-12T20:45:03 prefetch.2.11.0:  Downloading via HTTPS...\n",
            "2021-04-12T20:45:29 prefetch.2.11.0:  HTTPS download succeed\n",
            "2021-04-12T20:45:31 prefetch.2.11.0:  'SRR9990660' is valid\n",
            "2021-04-12T20:45:31 prefetch.2.11.0: 1) 'SRR9990660' was downloaded successfully\n",
            "2021-04-12T20:45:31 prefetch.2.11.0: 'SRR9990660' has 0 unresolved dependencies\n",
            "Read 9289995 spots for SRR9990660/SRR9990660.sra\n",
            "Written 9289995 spots for SRR9990660/SRR9990660.sra\n",
            "rm: cannot remove 'SRR9990660_3.fastq.gz': No such file or directory\n",
            "\n",
            "2021-04-12T21:01:16 prefetch.2.11.0: 1) Downloading 'SRR9990661'...\n",
            "2021-04-12T21:01:16 prefetch.2.11.0:  Downloading via HTTPS...\n",
            "2021-04-12T21:01:42 prefetch.2.11.0:  HTTPS download succeed\n",
            "2021-04-12T21:01:45 prefetch.2.11.0:  'SRR9990661' is valid\n",
            "2021-04-12T21:01:45 prefetch.2.11.0: 1) 'SRR9990661' was downloaded successfully\n",
            "2021-04-12T21:01:45 prefetch.2.11.0: 'SRR9990661' has 0 unresolved dependencies\n",
            "Read 7850780 spots for SRR9990661/SRR9990661.sra\n",
            "Written 7850780 spots for SRR9990661/SRR9990661.sra\n",
            "rm: cannot remove 'SRR9990661_3.fastq.gz': No such file or directory\n",
            "\n",
            "2021-04-12T21:16:10 prefetch.2.11.0: 1) Downloading 'SRR9990662'...\n",
            "2021-04-12T21:16:10 prefetch.2.11.0:  Downloading via HTTPS...\n",
            "2021-04-12T21:16:50 prefetch.2.11.0:  HTTPS download succeed\n",
            "2021-04-12T21:16:53 prefetch.2.11.0:  'SRR9990662' is valid\n",
            "2021-04-12T21:16:53 prefetch.2.11.0: 1) 'SRR9990662' was downloaded successfully\n",
            "2021-04-12T21:16:53 prefetch.2.11.0: 'SRR9990662' has 0 unresolved dependencies\n",
            "Read 12553112 spots for SRR9990662/SRR9990662.sra\n",
            "Written 12553112 spots for SRR9990662/SRR9990662.sra\n",
            "rm: cannot remove 'SRR9990662_3.fastq.gz': No such file or directory\n",
            "\n",
            "2021-04-12T21:37:46 prefetch.2.11.0: 1) Downloading 'SRR9990663'...\n",
            "2021-04-12T21:37:46 prefetch.2.11.0:  Downloading via HTTPS...\n",
            "2021-04-12T21:38:12 prefetch.2.11.0:  HTTPS download succeed\n",
            "2021-04-12T21:38:15 prefetch.2.11.0:  'SRR9990663' is valid\n",
            "2021-04-12T21:38:15 prefetch.2.11.0: 1) 'SRR9990663' was downloaded successfully\n",
            "2021-04-12T21:38:15 prefetch.2.11.0: 'SRR9990663' has 0 unresolved dependencies\n",
            "Read 8226216 spots for SRR9990663/SRR9990663.sra\n",
            "Written 8226216 spots for SRR9990663/SRR9990663.sra\n",
            "rm: cannot remove 'SRR9990663_3.fastq.gz': No such file or directory\n",
            "\n",
            "2021-04-12T21:53:21 prefetch.2.11.0: 1) Downloading 'SRR9990664'...\n",
            "2021-04-12T21:53:21 prefetch.2.11.0:  Downloading via HTTPS...\n",
            "2021-04-12T21:53:43 prefetch.2.11.0:  HTTPS download succeed\n",
            "2021-04-12T21:53:45 prefetch.2.11.0:  'SRR9990664' is valid\n",
            "2021-04-12T21:53:45 prefetch.2.11.0: 1) 'SRR9990664' was downloaded successfully\n",
            "2021-04-12T21:53:45 prefetch.2.11.0: 'SRR9990664' has 0 unresolved dependencies\n",
            "Read 8092158 spots for SRR9990664/SRR9990664.sra\n",
            "Written 8092158 spots for SRR9990664/SRR9990664.sra\n",
            "rm: cannot remove 'SRR9990664_3.fastq.gz': No such file or directory\n",
            "\n",
            "2021-04-12T22:07:52 prefetch.2.11.0: 1) Downloading 'SRR9990665'...\n",
            "2021-04-12T22:07:52 prefetch.2.11.0:  Downloading via HTTPS...\n",
            "2021-04-12T22:08:10 prefetch.2.11.0:  HTTPS download succeed\n",
            "2021-04-12T22:08:12 prefetch.2.11.0:  'SRR9990665' is valid\n",
            "2021-04-12T22:08:12 prefetch.2.11.0: 1) 'SRR9990665' was downloaded successfully\n",
            "2021-04-12T22:08:12 prefetch.2.11.0: 'SRR9990665' has 0 unresolved dependencies\n",
            "Read 5419865 spots for SRR9990665/SRR9990665.sra\n",
            "Written 5419865 spots for SRR9990665/SRR9990665.sra\n",
            "rm: cannot remove 'SRR9990665_3.fastq.gz': No such file or directory\n",
            "\n",
            "2021-04-12T22:18:52 prefetch.2.11.0: 1) Downloading 'SRR9990666'...\n",
            "2021-04-12T22:18:52 prefetch.2.11.0:  Downloading via HTTPS...\n",
            "2021-04-12T22:19:11 prefetch.2.11.0:  HTTPS download succeed\n",
            "2021-04-12T22:19:13 prefetch.2.11.0:  'SRR9990666' is valid\n",
            "2021-04-12T22:19:13 prefetch.2.11.0: 1) 'SRR9990666' was downloaded successfully\n",
            "2021-04-12T22:19:13 prefetch.2.11.0: 'SRR9990666' has 0 unresolved dependencies\n",
            "Read 5703468 spots for SRR9990666/SRR9990666.sra\n",
            "Written 5703468 spots for SRR9990666/SRR9990666.sra\n",
            "rm: cannot remove 'SRR9990666_3.fastq.gz': No such file or directory\n",
            "\n",
            "2021-04-12T22:30:14 prefetch.2.11.0: 1) Downloading 'SRR9990667'...\n",
            "2021-04-12T22:30:14 prefetch.2.11.0:  Downloading via HTTPS...\n",
            "2021-04-12T22:30:41 prefetch.2.11.0:  HTTPS download succeed\n",
            "2021-04-12T22:30:44 prefetch.2.11.0:  'SRR9990667' is valid\n",
            "2021-04-12T22:30:44 prefetch.2.11.0: 1) 'SRR9990667' was downloaded successfully\n",
            "2021-04-12T22:30:44 prefetch.2.11.0: 'SRR9990667' has 0 unresolved dependencies\n",
            "Read 8941704 spots for SRR9990667/SRR9990667.sra\n",
            "Written 8941704 spots for SRR9990667/SRR9990667.sra\n",
            "rm: cannot remove 'SRR9990667_3.fastq.gz': No such file or directory\n",
            "\n",
            "2021-04-12T22:46:02 prefetch.2.11.0: 1) Downloading 'SRR9990668'...\n",
            "2021-04-12T22:46:02 prefetch.2.11.0:  Downloading via HTTPS...\n",
            "2021-04-12T22:46:24 prefetch.2.11.0:  HTTPS download succeed\n",
            "2021-04-12T22:46:27 prefetch.2.11.0:  'SRR9990668' is valid\n",
            "2021-04-12T22:46:27 prefetch.2.11.0: 1) 'SRR9990668' was downloaded successfully\n",
            "2021-04-12T22:46:27 prefetch.2.11.0: 'SRR9990668' has 0 unresolved dependencies\n",
            "Read 8175990 spots for SRR9990668/SRR9990668.sra\n",
            "Written 8175990 spots for SRR9990668/SRR9990668.sra\n",
            "rm: cannot remove 'SRR9990668_3.fastq.gz': No such file or directory\n",
            "\n",
            "2021-04-12T23:00:37 prefetch.2.11.0: 1) Downloading 'SRR9990669'...\n",
            "2021-04-12T23:00:37 prefetch.2.11.0:  Downloading via HTTPS...\n",
            "2021-04-12T23:01:03 prefetch.2.11.0:  HTTPS download succeed\n",
            "2021-04-12T23:01:06 prefetch.2.11.0:  'SRR9990669' is valid\n",
            "2021-04-12T23:01:06 prefetch.2.11.0: 1) 'SRR9990669' was downloaded successfully\n",
            "2021-04-12T23:01:06 prefetch.2.11.0: 'SRR9990669' has 0 unresolved dependencies\n",
            "Read 8960328 spots for SRR9990669/SRR9990669.sra\n",
            "Written 8960328 spots for SRR9990669/SRR9990669.sra\n",
            "rm: cannot remove 'SRR9990669_3.fastq.gz': No such file or directory\n",
            "\n",
            "2021-04-12T23:16:26 prefetch.2.11.0: 1) Downloading 'SRR9990670'...\n",
            "2021-04-12T23:16:26 prefetch.2.11.0:  Downloading via HTTPS...\n",
            "2021-04-12T23:16:45 prefetch.2.11.0:  HTTPS download succeed\n",
            "2021-04-12T23:16:47 prefetch.2.11.0:  'SRR9990670' is valid\n",
            "2021-04-12T23:16:47 prefetch.2.11.0: 1) 'SRR9990670' was downloaded successfully\n",
            "2021-04-12T23:16:47 prefetch.2.11.0: 'SRR9990670' has 0 unresolved dependencies\n",
            "Read 12902107 spots for SRR9990670/SRR9990670.sra\n",
            "Written 12902107 spots for SRR9990670/SRR9990670.sra\n",
            "rm: cannot remove 'SRR9990670_3.fastq.gz': No such file or directory\n",
            "\n",
            "2021-04-12T23:30:54 prefetch.2.11.0: 1) Downloading 'SRR9990671'...\n",
            "2021-04-12T23:30:54 prefetch.2.11.0:  Downloading via HTTPS...\n",
            "2021-04-12T23:31:12 prefetch.2.11.0:  HTTPS download succeed\n",
            "2021-04-12T23:31:14 prefetch.2.11.0:  'SRR9990671' is valid\n",
            "2021-04-12T23:31:14 prefetch.2.11.0: 1) 'SRR9990671' was downloaded successfully\n",
            "2021-04-12T23:31:14 prefetch.2.11.0: 'SRR9990671' has 0 unresolved dependencies\n",
            "Read 13217915 spots for SRR9990671/SRR9990671.sra\n",
            "Written 13217915 spots for SRR9990671/SRR9990671.sra\n",
            "rm: cannot remove 'SRR9990671_3.fastq.gz': No such file or directory\n",
            "\n",
            "2021-04-12T23:45:31 prefetch.2.11.0: 1) Downloading 'SRR9990672'...\n",
            "2021-04-12T23:45:31 prefetch.2.11.0:  Downloading via HTTPS...\n",
            "2021-04-12T23:45:42 prefetch.2.11.0:  HTTPS download succeed\n",
            "2021-04-12T23:45:43 prefetch.2.11.0:  'SRR9990672' is valid\n",
            "2021-04-12T23:45:43 prefetch.2.11.0: 1) 'SRR9990672' was downloaded successfully\n",
            "2021-04-12T23:45:43 prefetch.2.11.0: 'SRR9990672' has 0 unresolved dependencies\n",
            "Read 8766736 spots for SRR9990672/SRR9990672.sra\n",
            "Written 8766736 spots for SRR9990672/SRR9990672.sra\n",
            "rm: cannot remove 'SRR9990672_3.fastq.gz': No such file or directory\n",
            "\n",
            "2021-04-12T23:55:56 prefetch.2.11.0: 1) Downloading 'SRR9990673'...\n",
            "2021-04-12T23:55:56 prefetch.2.11.0:  Downloading via HTTPS...\n",
            "2021-04-12T23:56:08 prefetch.2.11.0:  HTTPS download succeed\n",
            "2021-04-12T23:56:09 prefetch.2.11.0:  'SRR9990673' is valid\n",
            "2021-04-12T23:56:09 prefetch.2.11.0: 1) 'SRR9990673' was downloaded successfully\n",
            "2021-04-12T23:56:09 prefetch.2.11.0: 'SRR9990673' has 0 unresolved dependencies\n",
            "Read 9547256 spots for SRR9990673/SRR9990673.sra\n",
            "Written 9547256 spots for SRR9990673/SRR9990673.sra\n",
            "rm: cannot remove 'SRR9990673_3.fastq.gz': No such file or directory\n",
            "\n",
            "2021-04-13T00:06:55 prefetch.2.11.0: 1) Downloading 'SRR9990674'...\n",
            "2021-04-13T00:06:55 prefetch.2.11.0:  Downloading via HTTPS...\n",
            "2021-04-13T00:07:34 prefetch.2.11.0:  HTTPS download succeed\n",
            "2021-04-13T00:07:39 prefetch.2.11.0:  'SRR9990674' is valid\n",
            "2021-04-13T00:07:39 prefetch.2.11.0: 1) 'SRR9990674' was downloaded successfully\n",
            "2021-04-13T00:07:39 prefetch.2.11.0: 'SRR9990674' has 0 unresolved dependencies\n",
            "Read 12525647 spots for SRR9990674/SRR9990674.sra\n",
            "Written 12525647 spots for SRR9990674/SRR9990674.sra\n",
            "rm: cannot remove 'SRR9990674_3.fastq.gz': No such file or directory\n"
          ],
          "name": "stdout"
        }
      ]
    },
    {
      "cell_type": "code",
      "metadata": {
        "id": "bmN2opl1qHSh"
      },
      "source": [
        "# Define fastq list to feed kb\n",
        "\n",
        "fastqs = []\n",
        "for sra in SRAs:\n",
        "  for read in SRAs_to_keep:\n",
        "    fastqs.append(sra + \"_\" + read + \".fastq.gz\")"
      ],
      "execution_count": 4,
      "outputs": []
    },
    {
      "cell_type": "markdown",
      "metadata": {
        "id": "5tT2sVv2-XMD"
      },
      "source": [
        "## Metadata"
      ]
    },
    {
      "cell_type": "code",
      "metadata": {
        "id": "ggNFAQJCRh6P"
      },
      "source": [
        "# define the values for the analysis\n",
        "\n",
        "# accession id for the data\n",
        "id = \"GSE135922\"\n",
        "\n",
        "no_samples = 1\n",
        "\n",
        "fastqs_per_sample = [8] \n",
        "\n",
        "sample_id = samp_id\n",
        "\n",
        "database_id = [id] * no_samples\n",
        "\n",
        "tissue = [\"eye\"] * no_samples\n",
        "\n",
        "species = [\"human\"] * no_samples\n",
        "\n",
        "technology = [\"10xv3\"] * no_samples\n",
        "\n",
        "paper = [\"Sungnak et al 2020\"] * no_samples\n",
        "\n",
        "figure = [\"Fig 1\"] * no_samples\n",
        "\n",
        "\n",
        "# Set string variables for kb functions\n",
        "\n",
        "species_kb = species[0]\n",
        "\n",
        "technology_kb = technology[0]"
      ],
      "execution_count": 5,
      "outputs": []
    },
    {
      "cell_type": "markdown",
      "metadata": {
        "id": "FPwL0-_-KSAw"
      },
      "source": [
        "# Imports and installs"
      ]
    },
    {
      "cell_type": "code",
      "metadata": {
        "id": "1HSlUGZEp3oP",
        "colab": {
          "base_uri": "https://localhost:8080/"
        },
        "outputId": "73d07776-f2fa-4c6d-f565-d985894ce019"
      },
      "source": [
        "# install and import necessary software\n",
        "\n",
        "# Install kb and scanpy\n",
        "!pip -q install kb-python \n",
        "!pip -q install scanpy\n",
        "\n",
        "import re\n",
        "import os\n",
        "\n",
        "# Setup\n",
        "\n",
        "import anndata\n",
        "import pandas as pd\n",
        "import numpy as np\n",
        "import matplotlib.pyplot as plt\n",
        "import matplotlib as mpl\n",
        "import matplotlib.patches as mpatches\n",
        "import scanpy as sc\n",
        "from scipy import stats\n",
        "\n",
        "from collections import OrderedDict\n",
        "from sklearn.decomposition import TruncatedSVD\n",
        "from sklearn.manifold import TSNE\n",
        "from sklearn.preprocessing import scale\n",
        "\n",
        "from sklearn.cluster import KMeans\n",
        "from sklearn.preprocessing import normalize\n",
        "from sklearn.preprocessing import LabelEncoder\n",
        "from sklearn.neighbors import NeighborhoodComponentsAnalysis\n",
        "from matplotlib import cm\n",
        "from matplotlib.lines import Line2D\n",
        "\n",
        "def nd(arr):\n",
        "    return np.asarray(arr).reshape(-1)\n",
        "def yex(ax):\n",
        "    lims = [np.min([ax.get_xlim(), ax.get_ylim()]),\n",
        "            np.max([ax.get_xlim(), ax.get_ylim()])]\n",
        "\n",
        "    # now plot both limits against eachother\n",
        "    ax.plot(lims, lims, 'k-', alpha=0.75, zorder=0)\n",
        "    ax.set_aspect('equal')\n",
        "    ax.set_xlim(lims)\n",
        "    ax.set_ylim(lims)\n",
        "    return ax\n",
        "\n",
        "def trim_axs(axs, N):\n",
        "    \"\"\"little helper to massage the axs list to have correct length...\"\"\"\n",
        "    axs = axs.flat\n",
        "    for ax in axs[N:]:\n",
        "        ax.remove()\n",
        "    return axs[:N]\n",
        "\n",
        "import warnings\n",
        "warnings.filterwarnings('ignore')\n",
        "\n",
        "fsize=20\n",
        "\n",
        "plt.rcParams.update({'font.size': fsize})\n",
        "%config InlineBackend.figure_format = 'retina'"
      ],
      "execution_count": 6,
      "outputs": [
        {
          "output_type": "stream",
          "text": [
            "\u001b[K     |████████████████████████████████| 59.1MB 96kB/s \n",
            "\u001b[K     |████████████████████████████████| 51kB 4.2MB/s \n",
            "\u001b[K     |████████████████████████████████| 10.3MB 24.3MB/s \n",
            "\u001b[K     |████████████████████████████████| 13.2MB 177kB/s \n",
            "\u001b[K     |████████████████████████████████| 133kB 56.7MB/s \n",
            "\u001b[K     |████████████████████████████████| 112kB 54.1MB/s \n",
            "\u001b[K     |████████████████████████████████| 81kB 5.3MB/s \n",
            "\u001b[K     |████████████████████████████████| 71kB 5.4MB/s \n",
            "\u001b[K     |████████████████████████████████| 51kB 3.8MB/s \n",
            "\u001b[K     |████████████████████████████████| 1.2MB 32.4MB/s \n",
            "\u001b[?25h  Building wheel for loompy (setup.py) ... \u001b[?25l\u001b[?25hdone\n",
            "  Building wheel for numpy-groupies (setup.py) ... \u001b[?25l\u001b[?25hdone\n",
            "  Building wheel for sinfo (setup.py) ... \u001b[?25l\u001b[?25hdone\n",
            "  Building wheel for umap-learn (setup.py) ... \u001b[?25l\u001b[?25hdone\n",
            "  Building wheel for pynndescent (setup.py) ... \u001b[?25l\u001b[?25hdone\n"
          ],
          "name": "stdout"
        }
      ]
    },
    {
      "cell_type": "markdown",
      "metadata": {
        "id": "7V6FbosVrvP4"
      },
      "source": [
        "# Downloads: index"
      ]
    },
    {
      "cell_type": "code",
      "metadata": {
        "id": "PC9oETW1pE9t",
        "colab": {
          "base_uri": "https://localhost:8080/"
        },
        "outputId": "2bc52bd6-084e-44db-ffc8-966654c63dfd"
      },
      "source": [
        "# Download the corresponding Kallisto index to fastq folder\n",
        "!kb ref -d $species_kb -i index.idx -g t2g.txt -f1 transcriptome.fasta"
      ],
      "execution_count": 7,
      "outputs": [
        {
          "output_type": "stream",
          "text": [
            "[2021-04-13 00:27:54,900]    INFO Downloading files for human from https://caltech.box.com/shared/static/v1nm7lpnqz5syh8dyzdk2zs8bglncfib.gz to tmp/v1nm7lpnqz5syh8dyzdk2zs8bglncfib.gz\n",
            "100% 2.23G/2.23G [01:39<00:00, 24.1MB/s]\n",
            "[2021-04-13 00:29:35,410]    INFO Extracting files from tmp/v1nm7lpnqz5syh8dyzdk2zs8bglncfib.gz\n"
          ],
          "name": "stdout"
        }
      ]
    },
    {
      "cell_type": "markdown",
      "metadata": {
        "id": "VInyuq1Dp7iz"
      },
      "source": [
        "# Process fastq files (modify kb command according to fastqs list)\n"
      ]
    },
    {
      "cell_type": "code",
      "metadata": {
        "id": "F6FD32x-shPe",
        "colab": {
          "base_uri": "https://localhost:8080/"
        },
        "outputId": "82865518-8b49-4563-eabd-c9b3a31e00f9"
      },
      "source": [
        "fastqs"
      ],
      "execution_count": 8,
      "outputs": [
        {
          "output_type": "execute_result",
          "data": {
            "text/plain": [
              "['SRR9990651_1.fastq.gz',\n",
              " 'SRR9990651_2.fastq.gz',\n",
              " 'SRR9990652_1.fastq.gz',\n",
              " 'SRR9990652_2.fastq.gz',\n",
              " 'SRR9990653_1.fastq.gz',\n",
              " 'SRR9990653_2.fastq.gz',\n",
              " 'SRR9990654_1.fastq.gz',\n",
              " 'SRR9990654_2.fastq.gz',\n",
              " 'SRR9990655_1.fastq.gz',\n",
              " 'SRR9990655_2.fastq.gz',\n",
              " 'SRR9990656_1.fastq.gz',\n",
              " 'SRR9990656_2.fastq.gz',\n",
              " 'SRR9990657_1.fastq.gz',\n",
              " 'SRR9990657_2.fastq.gz',\n",
              " 'SRR9990658_1.fastq.gz',\n",
              " 'SRR9990658_2.fastq.gz',\n",
              " 'SRR9990659_1.fastq.gz',\n",
              " 'SRR9990659_2.fastq.gz',\n",
              " 'SRR9990660_1.fastq.gz',\n",
              " 'SRR9990660_2.fastq.gz',\n",
              " 'SRR9990661_1.fastq.gz',\n",
              " 'SRR9990661_2.fastq.gz',\n",
              " 'SRR9990662_1.fastq.gz',\n",
              " 'SRR9990662_2.fastq.gz',\n",
              " 'SRR9990663_1.fastq.gz',\n",
              " 'SRR9990663_2.fastq.gz',\n",
              " 'SRR9990664_1.fastq.gz',\n",
              " 'SRR9990664_2.fastq.gz',\n",
              " 'SRR9990665_1.fastq.gz',\n",
              " 'SRR9990665_2.fastq.gz',\n",
              " 'SRR9990666_1.fastq.gz',\n",
              " 'SRR9990666_2.fastq.gz',\n",
              " 'SRR9990667_1.fastq.gz',\n",
              " 'SRR9990667_2.fastq.gz',\n",
              " 'SRR9990668_1.fastq.gz',\n",
              " 'SRR9990668_2.fastq.gz',\n",
              " 'SRR9990669_1.fastq.gz',\n",
              " 'SRR9990669_2.fastq.gz',\n",
              " 'SRR9990670_1.fastq.gz',\n",
              " 'SRR9990670_2.fastq.gz',\n",
              " 'SRR9990671_1.fastq.gz',\n",
              " 'SRR9990671_2.fastq.gz',\n",
              " 'SRR9990672_1.fastq.gz',\n",
              " 'SRR9990672_2.fastq.gz',\n",
              " 'SRR9990673_1.fastq.gz',\n",
              " 'SRR9990673_2.fastq.gz',\n",
              " 'SRR9990674_1.fastq.gz',\n",
              " 'SRR9990674_2.fastq.gz']"
            ]
          },
          "metadata": {
            "tags": []
          },
          "execution_count": 8
        }
      ]
    },
    {
      "cell_type": "code",
      "metadata": {
        "id": "5qFzPj-0kZTi",
        "colab": {
          "base_uri": "https://localhost:8080/"
        },
        "outputId": "8544738d-8a75-4a43-8de3-7a8dfd0d4817"
      },
      "source": [
        "# Specify the sample number \n",
        "\n",
        "\n",
        "if no_samples == 1:\n",
        "\n",
        "  # Write the kb count command as a string with all fastqs of the list as an input\n",
        "  cmd = \"kb count --h5ad -i index.idx -g t2g.txt -x \" + technology_kb + \" -o output\" + sample_id[0] + \" \"\\\n",
        "  + \"--filter bustools -t 2 --overwrite \" + \"'\" +  \"' '\".join(fastqs) + \"'\"\n",
        "  \n",
        "  # Execute it\n",
        "  !$cmd\n",
        "\n",
        "# If more than one sample, iterate through fastqs accordingly\n",
        "else:\n",
        "\n",
        "  # Initializa counter for fastq files\n",
        "  j = 0\n",
        "\n",
        "  # Loop over samples for analysis\n",
        "  for i in range(no_samples):\n",
        "\n",
        "    fastqs_to_analyze = fastqs[j:j + fastqs_per_sample[i]]\n",
        "    # Write the kb count command as a string\n",
        "    cmd = \"kb count --h5ad -i index.idx -g t2g.txt -x \" + technology_kb + \" -o output\" + sample_id[i] + \" \\\n",
        "    --filter bustools -t 2 --overwrite \" + \"'\" +  \"' '\".join(fastqs_to_analyze) + \"'\"\n",
        "\n",
        "    # Execute it\n",
        "    !$cmd\n",
        "\n",
        "    # Update j to move to the next set of fastq\n",
        "    j = j + fastqs_per_sample[i]\n",
        "\n",
        "\n",
        "\n",
        "\n",
        "\n"
      ],
      "execution_count": 9,
      "outputs": [
        {
          "output_type": "stream",
          "text": [
            "[2021-04-13 00:30:18,414]    INFO Using index index.idx to generate BUS file to outputGSM4037982 from\n",
            "[2021-04-13 00:30:18,414]    INFO         SRR9990651_1.fastq.gz\n",
            "[2021-04-13 00:30:18,414]    INFO         SRR9990651_2.fastq.gz\n",
            "[2021-04-13 00:30:18,414]    INFO         SRR9990652_1.fastq.gz\n",
            "[2021-04-13 00:30:18,414]    INFO         SRR9990652_2.fastq.gz\n",
            "[2021-04-13 00:30:18,414]    INFO         SRR9990653_1.fastq.gz\n",
            "[2021-04-13 00:30:18,414]    INFO         SRR9990653_2.fastq.gz\n",
            "[2021-04-13 00:30:18,414]    INFO         SRR9990654_1.fastq.gz\n",
            "[2021-04-13 00:30:18,414]    INFO         SRR9990654_2.fastq.gz\n",
            "[2021-04-13 00:30:18,414]    INFO         SRR9990655_1.fastq.gz\n",
            "[2021-04-13 00:30:18,414]    INFO         SRR9990655_2.fastq.gz\n",
            "[2021-04-13 00:30:18,414]    INFO         SRR9990656_1.fastq.gz\n",
            "[2021-04-13 00:30:18,414]    INFO         SRR9990656_2.fastq.gz\n",
            "[2021-04-13 00:30:18,415]    INFO         SRR9990657_1.fastq.gz\n",
            "[2021-04-13 00:30:18,415]    INFO         SRR9990657_2.fastq.gz\n",
            "[2021-04-13 00:30:18,415]    INFO         SRR9990658_1.fastq.gz\n",
            "[2021-04-13 00:30:18,415]    INFO         SRR9990658_2.fastq.gz\n",
            "[2021-04-13 00:30:18,415]    INFO         SRR9990659_1.fastq.gz\n",
            "[2021-04-13 00:30:18,415]    INFO         SRR9990659_2.fastq.gz\n",
            "[2021-04-13 00:30:18,415]    INFO         SRR9990660_1.fastq.gz\n",
            "[2021-04-13 00:30:18,415]    INFO         SRR9990660_2.fastq.gz\n",
            "[2021-04-13 00:30:18,415]    INFO         SRR9990661_1.fastq.gz\n",
            "[2021-04-13 00:30:18,415]    INFO         SRR9990661_2.fastq.gz\n",
            "[2021-04-13 00:30:18,415]    INFO         SRR9990662_1.fastq.gz\n",
            "[2021-04-13 00:30:18,415]    INFO         SRR9990662_2.fastq.gz\n",
            "[2021-04-13 00:30:18,415]    INFO         SRR9990663_1.fastq.gz\n",
            "[2021-04-13 00:30:18,415]    INFO         SRR9990663_2.fastq.gz\n",
            "[2021-04-13 00:30:18,415]    INFO         SRR9990664_1.fastq.gz\n",
            "[2021-04-13 00:30:18,415]    INFO         SRR9990664_2.fastq.gz\n",
            "[2021-04-13 00:30:18,415]    INFO         SRR9990665_1.fastq.gz\n",
            "[2021-04-13 00:30:18,415]    INFO         SRR9990665_2.fastq.gz\n",
            "[2021-04-13 00:30:18,415]    INFO         SRR9990666_1.fastq.gz\n",
            "[2021-04-13 00:30:18,415]    INFO         SRR9990666_2.fastq.gz\n",
            "[2021-04-13 00:30:18,415]    INFO         SRR9990667_1.fastq.gz\n",
            "[2021-04-13 00:30:18,415]    INFO         SRR9990667_2.fastq.gz\n",
            "[2021-04-13 00:30:18,415]    INFO         SRR9990668_1.fastq.gz\n",
            "[2021-04-13 00:30:18,416]    INFO         SRR9990668_2.fastq.gz\n",
            "[2021-04-13 00:30:18,416]    INFO         SRR9990669_1.fastq.gz\n",
            "[2021-04-13 00:30:18,416]    INFO         SRR9990669_2.fastq.gz\n",
            "[2021-04-13 00:30:18,416]    INFO         SRR9990670_1.fastq.gz\n",
            "[2021-04-13 00:30:18,416]    INFO         SRR9990670_2.fastq.gz\n",
            "[2021-04-13 00:30:18,416]    INFO         SRR9990671_1.fastq.gz\n",
            "[2021-04-13 00:30:18,416]    INFO         SRR9990671_2.fastq.gz\n",
            "[2021-04-13 00:30:18,416]    INFO         SRR9990672_1.fastq.gz\n",
            "[2021-04-13 00:30:18,416]    INFO         SRR9990672_2.fastq.gz\n",
            "[2021-04-13 00:30:18,416]    INFO         SRR9990673_1.fastq.gz\n",
            "[2021-04-13 00:30:18,416]    INFO         SRR9990673_2.fastq.gz\n",
            "[2021-04-13 00:30:18,416]    INFO         SRR9990674_1.fastq.gz\n",
            "[2021-04-13 00:30:18,416]    INFO         SRR9990674_2.fastq.gz\n",
            "[2021-04-13 01:15:13,936]    INFO Sorting BUS file outputGSM4037982/output.bus to outputGSM4037982/tmp/output.s.bus\n",
            "[2021-04-13 01:15:59,757]    INFO Whitelist not provided\n",
            "[2021-04-13 01:15:59,758]    INFO Copying pre-packaged 10XV3 whitelist to outputGSM4037982\n",
            "[2021-04-13 01:16:00,852]    INFO Inspecting BUS file outputGSM4037982/tmp/output.s.bus\n",
            "[2021-04-13 01:16:23,377]    INFO Correcting BUS records in outputGSM4037982/tmp/output.s.bus to outputGSM4037982/tmp/output.s.c.bus with whitelist outputGSM4037982/10xv3_whitelist.txt\n",
            "[2021-04-13 01:16:48,846]    INFO Sorting BUS file outputGSM4037982/tmp/output.s.c.bus to outputGSM4037982/output.unfiltered.bus\n",
            "[2021-04-13 01:17:12,335]    INFO Generating count matrix outputGSM4037982/counts_unfiltered/cells_x_genes from BUS file outputGSM4037982/output.unfiltered.bus\n",
            "[2021-04-13 01:17:27,614]    INFO Reading matrix outputGSM4037982/counts_unfiltered/cells_x_genes.mtx\n",
            "[2021-04-13 01:17:34,804]    INFO Writing matrix to h5ad outputGSM4037982/counts_unfiltered/adata.h5ad\n",
            "[2021-04-13 01:17:35,827]    INFO Filtering with bustools\n",
            "[2021-04-13 01:17:35,828]    INFO Generating whitelist outputGSM4037982/filter_barcodes.txt from BUS file outputGSM4037982/output.unfiltered.bus\n",
            "[2021-04-13 01:17:36,108]    INFO Correcting BUS records in outputGSM4037982/output.unfiltered.bus to outputGSM4037982/tmp/output.unfiltered.c.bus with whitelist outputGSM4037982/filter_barcodes.txt\n",
            "[2021-04-13 01:17:46,265]    INFO Sorting BUS file outputGSM4037982/tmp/output.unfiltered.c.bus to outputGSM4037982/output.filtered.bus\n",
            "[2021-04-13 01:18:05,646]    INFO Generating count matrix outputGSM4037982/counts_filtered/cells_x_genes from BUS file outputGSM4037982/output.filtered.bus\n",
            "[2021-04-13 01:18:16,535]    INFO Reading matrix outputGSM4037982/counts_filtered/cells_x_genes.mtx\n",
            "[2021-04-13 01:18:20,407]    INFO Writing matrix to h5ad outputGSM4037982/counts_filtered/adata.h5ad\n"
          ],
          "name": "stdout"
        }
      ]
    },
    {
      "cell_type": "markdown",
      "metadata": {
        "id": "tDijOZzrqhN2"
      },
      "source": [
        "# Load unfiltered matrix and assign filters to each matrix individually"
      ]
    },
    {
      "cell_type": "markdown",
      "metadata": {
        "id": "VkNLZh_pNFFw"
      },
      "source": [
        "## Load the unfiltered matrix (check dimensions)"
      ]
    },
    {
      "cell_type": "code",
      "metadata": {
        "id": "PppRNeV8AIyw"
      },
      "source": [
        "# Define dict to store data\n",
        "results = {}\n"
      ],
      "execution_count": 10,
      "outputs": []
    },
    {
      "cell_type": "code",
      "metadata": {
        "id": "pKmtGf3c_BiZ",
        "cellView": "both",
        "colab": {
          "base_uri": "https://localhost:8080/"
        },
        "outputId": "35fe629c-4f5e-46b8-a126-02a163846409"
      },
      "source": [
        "# load the unfiltered matrix\n",
        "for i in range(no_samples):\n",
        "  results[sample_id[i]] = anndata.read_h5ad(\"output\" + sample_id[i] + \"/counts_unfiltered/adata.h5ad\")\n",
        "  results[sample_id[i]].var[\"gene_id\"] = results[sample_id[i]].var.index.values\n",
        "\n",
        "  t2g = pd.read_csv(\"t2g.txt\", header=None, names=[\"tid\", \"gene_id\", \"gene_name\"], sep=\"\\t\")\n",
        "  t2g.index = t2g.gene_id\n",
        "  t2g = t2g.loc[~t2g.index.duplicated(keep='first')]\n",
        "\n",
        "  results[sample_id[i]].var[\"gene_name\"] = results[sample_id[i]].var.gene_id.map(t2g[\"gene_name\"])\n",
        "  results[sample_id[i]].var.index = results[sample_id[i]].var[\"gene_name\"]\n",
        "  print(\"The unfiltered matrix \" + sample_id[i] + \" contains {} cells by {} genes\".format(len(results[sample_id[i]].obs), len(results[sample_id[i]].var)))\n",
        "\n",
        "  results[sample_id[i]].obs[\"cell_counts\"] = results[sample_id[i]].X.sum(axis=1)\n",
        "  results[sample_id[i]].var[\"gene_counts\"] = nd(results[sample_id[i]].X.sum(axis=0))\n",
        "\n",
        "  results[sample_id[i]].obs[\"n_genes\"] = nd((results[sample_id[i]].X>0).sum(axis=1))\n",
        "  results[sample_id[i]].var[\"n_cells\"] = nd((results[sample_id[i]].X>0).sum(axis=0))\n",
        "\n",
        "  mito_genes = results[sample_id[i]].var_names.str.startswith(\"MT-\" or \"mt-\") \n",
        "  results[sample_id[i]].obs[\"percent_mito\"] = results[sample_id[i]][:,mito_genes].X.sum(axis=1)/results[sample_id[i]].X.sum(axis=1)*100\n",
        "\n",
        "  # Changing the name of the index is necessary to write the file (it won't work with duplicated names)\n",
        "  results[sample_id[i]].var.index.name = \"index\"\n",
        "\n"
      ],
      "execution_count": 11,
      "outputs": [
        {
          "output_type": "stream",
          "text": [
            "The unfiltered matrix GSM4037982 contains 292396 cells by 60623 genes\n"
          ],
          "name": "stdout"
        }
      ]
    },
    {
      "cell_type": "markdown",
      "metadata": {
        "id": "hDAUH3eH_2RA"
      },
      "source": [
        "## Assign filters for each matrix individually"
      ]
    },
    {
      "cell_type": "code",
      "metadata": {
        "id": "ukinuaKk_6Po"
      },
      "source": [
        "# Modify this manually to change sample after having assigned the \"expected_num_cells\" and \"mito_criteria\" parameters\n",
        "samp_n = 0\n",
        "\n",
        "\n",
        "# Filtering criteria\n",
        "cell_threshold = 100\n",
        "gene_threshold = 3\n",
        "\n",
        "mito_criteria = 30"
      ],
      "execution_count": 12,
      "outputs": []
    },
    {
      "cell_type": "code",
      "metadata": {
        "id": "a5wZB5pEfwNs",
        "cellView": "form",
        "colab": {
          "base_uri": "https://localhost:8080/",
          "height": 722
        },
        "outputId": "7284046a-ac50-4d50-a12b-6cfc7cdd549a"
      },
      "source": [
        "\n",
        "expected_num_cells = 500#@param {type:\"integer\"}\n",
        "knee = np.sort(nd(results[sample_id[samp_n]].X.sum(axis=1)))[::-1]\n",
        "\n",
        "fig, ax = plt.subplots(figsize=(5, 5))\n",
        "\n",
        "x = knee\n",
        "y = range(len(knee))\n",
        "\n",
        "ax.loglog(x, y, linewidth=5, color=\"g\")\n",
        "\n",
        "ax.axvline(x=knee[expected_num_cells], linewidth=3, color=\"k\")\n",
        "ax.axhline(y=expected_num_cells, linewidth=3, color=\"k\")\n",
        "\n",
        "ax.set_xlabel(\"UMI Counts\")\n",
        "ax.set_ylabel(\"Set of Barcodes\")\n",
        "\n",
        "plt.show()\n",
        "\n",
        "cell_threshold = knee[expected_num_cells]\n",
        "\n",
        "results[\"cell_threshold\" + sample_id[samp_n]] = knee[expected_num_cells]\n",
        "\n",
        "print (\"Cells were filtered down to \" + str(expected_num_cells) + \" with at least \" + str(cell_threshold) + \" UMIs\")\n",
        "\n",
        "\n",
        "mito_criteria = 25#@param {type:\"integer\"}\n",
        "results[\"mito_criteria\" + sample_id[samp_n]] = mito_criteria\n",
        "\n",
        "fig, ax = plt.subplots(figsize=(5,5))\n",
        "\n",
        "\n",
        "x = nd(results[sample_id[samp_n]].obs[\"cell_counts\"][results[sample_id[samp_n]].obs[\"cell_counts\"] > cell_threshold])\n",
        "y = nd(results[sample_id[samp_n]].obs[\"percent_mito\"][results[sample_id[samp_n]].obs[\"cell_counts\"] > cell_threshold])\n",
        "\n",
        "ax.scatter(x, y, color=\"green\", alpha=0.1)\n",
        "\n",
        "ax.axhline(y=mito_criteria, linestyle=\"--\", color=\"k\")\n",
        "\n",
        "\n",
        "ax.set_xlabel(\"UMI Counts\")\n",
        "ax.set_ylabel(\"Percent mito\")\n",
        "\n",
        "\n",
        "plt.show()\n",
        "\n",
        "print(\"We select \" + str(mito_criteria) + \" % as the mitochondrial content threshold\")"
      ],
      "execution_count": 16,
      "outputs": [
        {
          "output_type": "display_data",
          "data": {
            "image/png": "[encoded data removed]",
            "text/plain": [
              "<Figure size 360x360 with 1 Axes>"
            ]
          },
          "metadata": {
            "tags": [],
            "image/png": {
              "width": 358,
              "height": 337
            },
            "needs_background": "light"
          }
        },
        {
          "output_type": "stream",
          "text": [
            "Cells were filtered down to 500 with at least 2743.0 UMIs\n"
          ],
          "name": "stdout"
        },
        {
          "output_type": "display_data",
          "data": {
            "image/png": "[encoded data removed]",
            "text/plain": [
              "<Figure size 360x360 with 1 Axes>"
            ]
          },
          "metadata": {
            "tags": [],
            "image/png": {
              "width": 389,
              "height": 337
            },
            "needs_background": "light"
          }
        },
        {
          "output_type": "stream",
          "text": [
            "We select 25 % as the mitochondrial content threshold\n"
          ],
          "name": "stdout"
        }
      ]
    },
    {
      "cell_type": "markdown",
      "metadata": {
        "id": "eP9j2ouPq9KY"
      },
      "source": [
        "# Filter matrix"
      ]
    },
    {
      "cell_type": "code",
      "metadata": {
        "id": "sE51WUA3gVmG",
        "colab": {
          "base_uri": "https://localhost:8080/"
        },
        "outputId": "7140da37-4924-4be1-c7ab-9d2c8da0d38c"
      },
      "source": [
        "for i in range(no_samples):\n",
        "  results[sample_id[i]].obs[\"pass_count_filter\"] = results[sample_id[i]].obs[\"cell_counts\"] > results[\"cell_threshold\" + sample_id[i]]\n",
        "  results[sample_id[i]].obs[\"pass_mito_filter\"] = results[sample_id[i]].obs.percent_mito < results[\"mito_criteria\" + sample_id[i]]\n",
        "  results[sample_id[i]].var[\"pass_gene_filter\"] = results[sample_id[i]].var[\"n_cells\"] > gene_threshold\n",
        "\n",
        "  cell_mask = np.logical_and(results[sample_id[i]].obs[\"pass_count_filter\"].values, results[sample_id[i]].obs[\"pass_mito_filter\"].values)\n",
        "  gene_mask = results[sample_id[i]].var[\"pass_gene_filter\"].values\n",
        "\n",
        "  print(\"Current Shape: {:,} cells x {:,} genes\".format(results[sample_id[i]].shape[0], results[sample_id[i]].shape[1]))\n",
        "  print(\"    New shape: {:,} cells x {:,} genes\".format(cell_mask.sum(), gene_mask.sum()))\n",
        "  results[\"data_\" + sample_id[i]] = results[sample_id[i]][cell_mask, gene_mask]"
      ],
      "execution_count": 17,
      "outputs": [
        {
          "output_type": "stream",
          "text": [
            "Current Shape: 292,396 cells x 60,623 genes\n",
            "    New shape: 402 cells x 25,757 genes\n"
          ],
          "name": "stdout"
        }
      ]
    },
    {
      "cell_type": "markdown",
      "metadata": {
        "id": "BxPA81yj4TlU"
      },
      "source": [
        "# Anotate and write the Anndata object"
      ]
    },
    {
      "cell_type": "code",
      "metadata": {
        "id": "O-q_Qj2U4kDU",
        "colab": {
          "base_uri": "https://localhost:8080/"
        },
        "outputId": "15fa3437-e120-4860-fa3a-a5c402438a16"
      },
      "source": [
        "for i in range(no_samples):\n",
        "\n",
        "\n",
        "  results[\"data_\" + sample_id[i]].uns[\"database_id\"] = database_id[samp_n]\n",
        "\n",
        "  results[\"data_\" + sample_id[i]].uns[\"tissue\"] = tissue[samp_n]\n",
        "\n",
        "  results[\"data_\" + sample_id[i]].uns[\"cell_type\"] = cell_type[samp_n]\n",
        "\n",
        "  results[\"data_\" + sample_id[i]].uns[\"sample_id\"] = sample_id[samp_n]\n",
        "\n",
        "  results[\"data_\" + sample_id[i]].uns[\"condition\"] = condition[samp_n]\n",
        "\n",
        "  results[\"data_\" + sample_id[i]].uns[\"species\"] = species[samp_n]\n",
        "\n",
        "  results[\"data_\" + sample_id[i]].uns[\"technology\"] = technology[samp_n]\n",
        "\n",
        "  results[\"data_\" + sample_id[i]].uns[\"paper\"] = paper[samp_n]\n",
        "\n",
        "  results[\"data_\" + sample_id[i]].uns[\"figure\"] = figure[samp_n]\n",
        "\n",
        "\n",
        "%cd /content\n",
        "\n",
        "for i in range(no_samples):\n",
        "\n",
        "  results[\"data_\" + sample_id[i]].write(\"result\" + sample_id[i])"
      ],
      "execution_count": 18,
      "outputs": [
        {
          "output_type": "stream",
          "text": [
            "Trying to set attribute `.uns` of view, copying.\n",
            "Variable names are not unique. To make them unique, call `.var_names_make_unique`.\n",
            "Variable names are not unique. To make them unique, call `.var_names_make_unique`.\n"
          ],
          "name": "stderr"
        },
        {
          "output_type": "stream",
          "text": [
            "/content\n"
          ],
          "name": "stdout"
        },
        {
          "output_type": "stream",
          "text": [
            "... storing 'gene_name' as categorical\n"
          ],
          "name": "stderr"
        }
      ]
    }
  ]
}