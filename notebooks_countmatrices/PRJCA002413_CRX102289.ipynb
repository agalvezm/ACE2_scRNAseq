{
  "nbformat": 4,
  "nbformat_minor": 0,
  "metadata": {
    "colab": {
      "name": "Copy of PRJCA002413_CRX102289.ipynb",
      "provenance": [],
      "collapsed_sections": [],
      "toc_visible": true,
      "include_colab_link": true
    },
    "kernelspec": {
      "display_name": "Python 3",
      "name": "python3"
    }
  },
  "cells": [
    {
      "cell_type": "markdown",
      "metadata": {
        "id": "view-in-github",
        "colab_type": "text"
      },
      "source": [
        "<a href=\"https://colab.research.google.com/github/agalvezm/ACE2_scRNAseq/blob/master/notebooks_countmatrices/PRJCA002413_CRX102289.ipynb\" target=\"_parent\"><img src=\"https://colab.research.google.com/assets/colab-badge.svg\" alt=\"Open In Colab\"/></a>"
      ]
    },
    {
      "cell_type": "markdown",
      "metadata": {
        "id": "V9ryXluJsJw9"
      },
      "source": [
        "# PRJCA002413_CRX102289"
      ]
    },
    {
      "cell_type": "code",
      "metadata": {
        "id": "ggNFAQJCRh6P"
      },
      "source": [
        "# define the values for the analysis\n",
        "\n",
        "# accession id for the data\n",
        "id = \"PRJCA002413\"\n",
        "samp_id = [\"CRX102289\"]\n",
        "\n",
        "# If only bam available files, set bam = True, Fill link and filename\n",
        "bam = False\n",
        "\n",
        "# If fastq links available but are not ffq links\n",
        "fastq_ffqlinks = False\n",
        "\n",
        "\n",
        "if bam:\n",
        "  # Assign link to python variable\n",
        "  link_to_bam = \"\"\n",
        "  \n",
        "  # Assigns the link to the bash variable BAM_LINK. To be used by wget\n",
        "  %env BAM_LINK=$link_to_bam\n",
        "\n",
        "  # Assign filename to python variable. Used to convert to fastq and remove bam file to fastq after conversion\n",
        "\n",
        "  bam_filename=\"\"\n",
        "\n",
        "\n",
        "if not bam:\n",
        "\n",
        "  # Copy and paste the links from the ACE2 scRNAseq datasets google  spreadsheet\n",
        "  links_raw = \"ftp://download.big.ac.cn/gsa3/CRA002497/CRR126611/CRR126611_f1.fastq.gz\tftp://download.big.ac.cn/gsa3/CRA002497/CRR126611/CRR126611_r2.fastq.gz\tftp://download.big.ac.cn/gsa3/CRA002497/CRR126612/CRR126612_f1.fastq.gz\tftp://download.big.ac.cn/gsa3/CRA002497/CRR126612/CRR126612_r2.fastq.gz\tftp://download.big.ac.cn/gsa3/CRA002497/CRR126613/CRR126613_f1.fastq.gz\tftp://download.big.ac.cn/gsa3/CRA002497/CRR126613/CRR126613_r2.fastq.gz\tftp://download.big.ac.cn/gsa3/CRA002497/CRR126614/CRR126614_f1.fastq.gz\tftp://download.big.ac.cn/gsa3/CRA002497/CRR126614/CRR126614_r2.fastq.gz\tftp://download.big.ac.cn/gsa3/CRA002497/CRR126615/CRR126615_f1.fastq.gz\tftp://download.big.ac.cn/gsa3/CRA002497/CRR126615/CRR126615_r2.fastq.gz\tftp://download.big.ac.cn/gsa3/CRA002497/CRR126616/CRR126616_f1.fastq.gz\tftp://download.big.ac.cn/gsa3/CRA002497/CRR126616/CRR126616_r2.fastq.gz\tftp://download.big.ac.cn/gsa3/CRA002497/CRR126617/CRR126617_f1.fastq.gz\tftp://download.big.ac.cn/gsa3/CRA002497/CRR126617/CRR126617_r2.fastq.gz\tftp://download.big.ac.cn/gsa3/CRA002497/CRR126618/CRR126618_f1.fastq.gz\tftp://download.big.ac.cn/gsa3/CRA002497/CRR126618/CRR126618_r2.fastq.gz\tftp://download.big.ac.cn/gsa3/CRA002497/CRR126619/CRR126619_f1.fastq.gz\tftp://download.big.ac.cn/gsa3/CRA002497/CRR126619/CRR126619_r2.fastq.gz\tftp://download.big.ac.cn/gsa3/CRA002497/CRR126620/CRR126620_f1.fastq.gz\tftp://download.big.ac.cn/gsa3/CRA002497/CRR126620/CRR126620_r2.fastq.gz\tftp://download.big.ac.cn/gsa3/CRA002497/CRR126621/CRR126621_f1.fastq.gz\tftp://download.big.ac.cn/gsa3/CRA002497/CRR126621/CRR126621_r2.fastq.gz\tftp://download.big.ac.cn/gsa3/CRA002497/CRR126622/CRR126622_f1.fastq.gz\tftp://download.big.ac.cn/gsa3/CRA002497/CRR126622/CRR126622_r2.fastq.gz\"\n",
        "\n",
        "  # Convert it to a list where each link is an element\n",
        "  \n",
        "  fastqs = links_raw.split()\n",
        "\n",
        "#sample specific metadata\n",
        "\n",
        "no_samples = 1\n",
        "\n",
        "condition = [\"covid infected, early recovery stage\"] * no_samples"
      ],
      "execution_count": 1,
      "outputs": []
    },
    {
      "cell_type": "code",
      "metadata": {
        "id": "5R3tPDqnoJUn"
      },
      "source": [
        "no_samples = 1\n",
        "\n",
        "fastqs_per_sample = [4, 8, 8] \n",
        "\n",
        "sample_id = samp_id\n",
        "\n",
        "database_id = [id] * no_samples\n",
        "\n",
        "tissue = [\"blood\"] * no_samples\n",
        "\n",
        "cell_type = [\"PBMCs\"] * no_samples\n",
        "\n",
        "species = [\"human\"] * no_samples\n",
        "\n",
        "technology = [\"10xv2\"] * no_samples\n",
        "\n",
        "paper = [\"Wen et al 2020\"] * no_samples\n",
        "\n",
        "figure = [\"Fig: all\"] * no_samples\n",
        "\n",
        "\n",
        "# Set string variables for kb functions\n",
        "\n",
        "species_kb = species[0]\n",
        "\n",
        "technology_kb = technology[0]\n",
        "\n"
      ],
      "execution_count": 2,
      "outputs": []
    },
    {
      "cell_type": "markdown",
      "metadata": {
        "id": "FPwL0-_-KSAw"
      },
      "source": [
        "# Imports and installs"
      ]
    },
    {
      "cell_type": "code",
      "metadata": {
        "colab": {
          "base_uri": "https://localhost:8080/"
        },
        "id": "1HSlUGZEp3oP",
        "outputId": "b0c67734-2711-4211-e08d-c4e3a89273fd"
      },
      "source": [
        "# install and import necessary software\n",
        "\n",
        "# Install kb and scanpy\n",
        "!pip -q install kb-python \n",
        "!pip -q install scanpy\n",
        "\n",
        "import re\n",
        "import os\n",
        "\n",
        "# Setup\n",
        "\n",
        "import anndata\n",
        "import pandas as pd\n",
        "import numpy as np\n",
        "import matplotlib.pyplot as plt\n",
        "import matplotlib as mpl\n",
        "import matplotlib.patches as mpatches\n",
        "import scanpy as sc\n",
        "from scipy import stats\n",
        "\n",
        "from collections import OrderedDict\n",
        "from sklearn.decomposition import TruncatedSVD\n",
        "from sklearn.manifold import TSNE\n",
        "from sklearn.preprocessing import scale\n",
        "\n",
        "from sklearn.cluster import KMeans\n",
        "from sklearn.preprocessing import normalize\n",
        "from sklearn.preprocessing import LabelEncoder\n",
        "from sklearn.neighbors import NeighborhoodComponentsAnalysis\n",
        "from matplotlib import cm\n",
        "from matplotlib.lines import Line2D\n",
        "\n",
        "def nd(arr):\n",
        "    return np.asarray(arr).reshape(-1)\n",
        "def yex(ax):\n",
        "    lims = [np.min([ax.get_xlim(), ax.get_ylim()]),\n",
        "            np.max([ax.get_xlim(), ax.get_ylim()])]\n",
        "\n",
        "    # now plot both limits against eachother\n",
        "    ax.plot(lims, lims, 'k-', alpha=0.75, zorder=0)\n",
        "    ax.set_aspect('equal')\n",
        "    ax.set_xlim(lims)\n",
        "    ax.set_ylim(lims)\n",
        "    return ax\n",
        "\n",
        "def trim_axs(axs, N):\n",
        "    \"\"\"little helper to massage the axs list to have correct length...\"\"\"\n",
        "    axs = axs.flat\n",
        "    for ax in axs[N:]:\n",
        "        ax.remove()\n",
        "    return axs[:N]\n",
        "\n",
        "import warnings\n",
        "warnings.filterwarnings('ignore')\n",
        "\n",
        "fsize=20\n",
        "\n",
        "plt.rcParams.update({'font.size': fsize})\n",
        "%config InlineBackend.figure_format = 'retina'"
      ],
      "execution_count": 3,
      "outputs": [
        {
          "output_type": "stream",
          "text": [
            "\u001b[K     |████████████████████████████████| 59.1MB 118kB/s \n",
            "\u001b[K     |████████████████████████████████| 13.2MB 44.6MB/s \n",
            "\u001b[K     |████████████████████████████████| 133kB 44.6MB/s \n",
            "\u001b[K     |████████████████████████████████| 10.3MB 22.2MB/s \n",
            "\u001b[K     |████████████████████████████████| 51kB 5.7MB/s \n",
            "\u001b[K     |████████████████████████████████| 81kB 8.8MB/s \n",
            "\u001b[K     |████████████████████████████████| 112kB 43.8MB/s \n",
            "\u001b[K     |████████████████████████████████| 71kB 1.7MB/s \n",
            "\u001b[K     |████████████████████████████████| 1.2MB 37.8MB/s \n",
            "\u001b[?25h  Building wheel for loompy (setup.py) ... \u001b[?25l\u001b[?25hdone\n",
            "  Building wheel for sinfo (setup.py) ... \u001b[?25l\u001b[?25hdone\n",
            "  Building wheel for umap-learn (setup.py) ... \u001b[?25l\u001b[?25hdone\n",
            "  Building wheel for numpy-groupies (setup.py) ... \u001b[?25l\u001b[?25hdone\n",
            "  Building wheel for pynndescent (setup.py) ... \u001b[?25l\u001b[?25hdone\n"
          ],
          "name": "stdout"
        }
      ]
    },
    {
      "cell_type": "markdown",
      "metadata": {
        "id": "7V6FbosVrvP4"
      },
      "source": [
        "# Downloads: (bam (if bam) and index"
      ]
    },
    {
      "cell_type": "code",
      "metadata": {
        "id": "q46hw4zqKUPS"
      },
      "source": [
        "if bam:\n",
        "\n",
        "  # Install bamtofastq from 10x website (only bam files available)\n",
        "  !wget http://cf.10xgenomics.com/misc/bamtofastq-1.2.0\n",
        "  !chmod +x bamtofastq-1.2.0\n",
        "  # Download the bam file\n",
        "  !wget -- continue ${BAM_LINK}\n",
        "\n",
        "\n"
      ],
      "execution_count": 4,
      "outputs": []
    },
    {
      "cell_type": "code",
      "metadata": {
        "id": "tDQlrjtqNF0m"
      },
      "source": [
        "if bam:\n",
        "  # Convert to fastq\n",
        "  !./bamtofastq-1.2.0 --reads-per-fastq=500000000 $bam_filename ./fastqs\\\n",
        "\n",
        "  # Remove original bam file to save space\n",
        "  !rm $bam_filename\n"
      ],
      "execution_count": 5,
      "outputs": []
    },
    {
      "cell_type": "code",
      "metadata": {
        "id": "SXRDRphvqcLe"
      },
      "source": [
        "# Store fastq names on a list\n",
        "\n",
        "if bam:\n",
        "  # cd into fastqs folder\n",
        "  %cd /content/fastqs\n",
        "\n",
        "  #store the name of the folder generated by bamtofastq\n",
        "  _filename = os.listdir()[0]\n",
        "\n",
        "  # cd into that folder\n",
        "  %cd $_filename\n",
        "\n",
        "  # store fastq names in a list\n",
        "  fastqs = os.listdir()\n",
        "\n",
        "\n",
        "  # Remove I1 and R3 reads not relevant for our analysis\n",
        "\n",
        "  # Initialize list containing elements to remove\n",
        "  remov_elem = []\n",
        "\n",
        "  print (\"\\n\\nThis is the complete list of fastqs:\\n -----------\")\n",
        "  for elem in fastqs:\n",
        "    print (elem)\n",
        "\n",
        "  # Search index (I1 or R3) fastqs and remove them from list\n",
        "  for elem in fastqs:\n",
        "    if re.search(\"_R3_\", elem) or re.search(\"_I1_\", elem):\n",
        "      remov_elem = remov_elem +[elem]\n",
        "\n",
        "  fastqs = [elem for elem in fastqs if elem not in remov_elem] \n",
        "\n",
        "  print (\"\\n\\nThis is the filtered list of fastqs:\\n -----------\")\n",
        "  for elem in fastqs:\n",
        "    print (elem)\n"
      ],
      "execution_count": 6,
      "outputs": []
    },
    {
      "cell_type": "code",
      "metadata": {
        "id": "ZnFcqcSgjLBw"
      },
      "source": [
        "# Remove fastqs that wont be analyzed to save space\n",
        "if bam:\n",
        "  for elem in remov_elem:\n",
        "    !rm $elem"
      ],
      "execution_count": 7,
      "outputs": []
    },
    {
      "cell_type": "code",
      "metadata": {
        "id": "FLVS8aB7Dm6J"
      },
      "source": [
        "if bam:\n",
        "  # sort fastqs alphabetically to get R1 and R2 in order\n",
        "  fastqs = sorted(fastqs)"
      ],
      "execution_count": 8,
      "outputs": []
    },
    {
      "cell_type": "code",
      "metadata": {
        "id": "FE9gWbQgpBfR",
        "outputId": "b55de288-0be0-4b2f-d7f5-6c4c9e42f2cb",
        "colab": {
          "base_uri": "https://localhost:8080/"
        }
      },
      "source": [
        "# wget fastqs from non ffq links in fastqs folder\n",
        "if not bam and not fastq_ffqlinks:\n",
        "  !mkdir fastqs\n",
        "  %cd fastqs\n",
        "  while len(os.listdir()) != len(fastqs):\n",
        "    for link in fastqs:\n",
        "      !wget $link --continue\n",
        "\n",
        "  # update fastqs variable with name of files\n",
        "  fastqs = sorted(os.listdir())"
      ],
      "execution_count": 9,
      "outputs": [
        {
          "output_type": "stream",
          "text": [
            "/content/fastqs\n",
            "--2021-05-04 03:01:47--  ftp://download.big.ac.cn/gsa3/CRA002497/CRR126611/CRR126611_f1.fastq.gz\n",
            "           => ‘CRR126611_f1.fastq.gz’\n",
            "Resolving download.big.ac.cn (download.big.ac.cn)... 124.16.164.229\n",
            "Connecting to download.big.ac.cn (download.big.ac.cn)|124.16.164.229|:21... connected.\n",
            "Logging in as anonymous ... Logged in!\n",
            "==> SYST ... done.    ==> PWD ... done.\n",
            "==> TYPE I ... done.  ==> CWD (1) /gsa3/CRA002497/CRR126611 ... done.\n",
            "==> SIZE CRR126611_f1.fastq.gz ... 2108222482\n",
            "==> PASV ... done.    ==> RETR CRR126611_f1.fastq.gz ... done.\n",
            "Length: 2108222482 (2.0G) (unauthoritative)\n",
            "\n",
            "CRR126611_f1.fastq. 100%[===================>]   1.96G  31.4MB/s    in 63s     \n",
            "\n",
            "2021-05-04 03:02:51 (32.0 MB/s) - ‘CRR126611_f1.fastq.gz’ saved [2108222482]\n",
            "\n",
            "--2021-05-04 03:02:51--  ftp://download.big.ac.cn/gsa3/CRA002497/CRR126611/CRR126611_r2.fastq.gz\n",
            "           => ‘CRR126611_r2.fastq.gz’\n",
            "Resolving download.big.ac.cn (download.big.ac.cn)... 124.16.164.229\n",
            "Connecting to download.big.ac.cn (download.big.ac.cn)|124.16.164.229|:21... connected.\n",
            "Logging in as anonymous ... Logged in!\n",
            "==> SYST ... done.    ==> PWD ... done.\n",
            "==> TYPE I ... done.  ==> CWD (1) /gsa3/CRA002497/CRR126611 ... done.\n",
            "==> SIZE CRR126611_r2.fastq.gz ... 7604362516\n",
            "==> PASV ... done.    ==> RETR CRR126611_r2.fastq.gz ... done.\n",
            "Length: 7604362516 (7.1G) (unauthoritative)\n",
            "\n",
            "CRR126611_r2.fastq. 100%[===================>]   7.08G  23.9MB/s    in 4m 59s  \n",
            "\n",
            "2021-05-04 03:07:52 (24.3 MB/s) - ‘CRR126611_r2.fastq.gz’ saved [7604362516]\n",
            "\n",
            "--2021-05-04 03:07:52--  ftp://download.big.ac.cn/gsa3/CRA002497/CRR126612/CRR126612_f1.fastq.gz\n",
            "           => ‘CRR126612_f1.fastq.gz’\n",
            "Resolving download.big.ac.cn (download.big.ac.cn)... 124.16.164.229\n",
            "Connecting to download.big.ac.cn (download.big.ac.cn)|124.16.164.229|:21... connected.\n",
            "Logging in as anonymous ... Logged in!\n",
            "==> SYST ... done.    ==> PWD ... done.\n",
            "==> TYPE I ... done.  ==> CWD (1) /gsa3/CRA002497/CRR126612 ... done.\n",
            "==> SIZE CRR126612_f1.fastq.gz ... 3878533753\n",
            "==> PASV ... done.    ==> RETR CRR126612_f1.fastq.gz ... done.\n",
            "Length: 3878533753 (3.6G) (unauthoritative)\n",
            "\n",
            "CRR126612_f1.fastq. 100%[===================>]   3.61G  25.7MB/s    in 2m 27s  \n",
            "\n",
            "2021-05-04 03:10:19 (25.2 MB/s) - ‘CRR126612_f1.fastq.gz’ saved [3878533753]\n",
            "\n",
            "--2021-05-04 03:10:19--  ftp://download.big.ac.cn/gsa3/CRA002497/CRR126612/CRR126612_r2.fastq.gz\n",
            "           => ‘CRR126612_r2.fastq.gz’\n",
            "Resolving download.big.ac.cn (download.big.ac.cn)... 124.16.164.229\n",
            "Connecting to download.big.ac.cn (download.big.ac.cn)|124.16.164.229|:21... connected.\n",
            "Logging in as anonymous ... Logged in!\n",
            "==> SYST ... done.    ==> PWD ... done.\n",
            "==> TYPE I ... done.  ==> CWD (1) /gsa3/CRA002497/CRR126612 ... done.\n",
            "==> SIZE CRR126612_r2.fastq.gz ... 14166396485\n",
            "==> PASV ... done.    ==> RETR CRR126612_r2.fastq.gz ... done.\n",
            "Length: 14166396485 (13G) (unauthoritative)\n",
            "\n",
            "CRR126612_r2.fastq. 100%[===================>]  13.19G  35.8MB/s    in 6m 41s  \n",
            "\n",
            "2021-05-04 03:17:01 (33.7 MB/s) - ‘CRR126612_r2.fastq.gz’ saved [14166396485]\n",
            "\n",
            "--2021-05-04 03:17:01--  ftp://download.big.ac.cn/gsa3/CRA002497/CRR126613/CRR126613_f1.fastq.gz\n",
            "           => ‘CRR126613_f1.fastq.gz’\n",
            "Resolving download.big.ac.cn (download.big.ac.cn)... 124.16.164.229\n",
            "Connecting to download.big.ac.cn (download.big.ac.cn)|124.16.164.229|:21... connected.\n",
            "Logging in as anonymous ... Logged in!\n",
            "==> SYST ... done.    ==> PWD ... done.\n",
            "==> TYPE I ... done.  ==> CWD (1) /gsa3/CRA002497/CRR126613 ... done.\n",
            "==> SIZE CRR126613_f1.fastq.gz ... 2618974562\n",
            "==> PASV ... done.    ==> RETR CRR126613_f1.fastq.gz ... done.\n",
            "Length: 2618974562 (2.4G) (unauthoritative)\n",
            "\n",
            "CRR126613_f1.fastq. 100%[===================>]   2.44G  25.3MB/s    in 96s     \n",
            "\n",
            "2021-05-04 03:18:37 (26.1 MB/s) - ‘CRR126613_f1.fastq.gz’ saved [2618974562]\n",
            "\n",
            "--2021-05-04 03:18:38--  ftp://download.big.ac.cn/gsa3/CRA002497/CRR126613/CRR126613_r2.fastq.gz\n",
            "           => ‘CRR126613_r2.fastq.gz’\n",
            "Resolving download.big.ac.cn (download.big.ac.cn)... 124.16.164.229\n",
            "Connecting to download.big.ac.cn (download.big.ac.cn)|124.16.164.229|:21... connected.\n",
            "Logging in as anonymous ... Logged in!\n",
            "==> SYST ... done.    ==> PWD ... done.\n",
            "==> TYPE I ... done.  ==> CWD (1) /gsa3/CRA002497/CRR126613 ... done.\n",
            "==> SIZE CRR126613_r2.fastq.gz ... 9566546070\n",
            "==> PASV ... done.    ==> RETR CRR126613_r2.fastq.gz ... done.\n",
            "Length: 9566546070 (8.9G) (unauthoritative)\n",
            "\n",
            "CRR126613_r2.fastq. 100%[===================>]   8.91G  34.4MB/s    in 5m 27s  \n",
            "\n",
            "2021-05-04 03:24:05 (27.9 MB/s) - ‘CRR126613_r2.fastq.gz’ saved [9566546070]\n",
            "\n",
            "--2021-05-04 03:24:05--  ftp://download.big.ac.cn/gsa3/CRA002497/CRR126614/CRR126614_f1.fastq.gz\n",
            "           => ‘CRR126614_f1.fastq.gz’\n",
            "Resolving download.big.ac.cn (download.big.ac.cn)... 124.16.164.229\n",
            "Connecting to download.big.ac.cn (download.big.ac.cn)|124.16.164.229|:21... connected.\n",
            "Logging in as anonymous ... Logged in!\n",
            "==> SYST ... done.    ==> PWD ... done.\n",
            "==> TYPE I ... done.  ==> CWD (1) /gsa3/CRA002497/CRR126614 ... done.\n",
            "==> SIZE CRR126614_f1.fastq.gz ... 979543480\n",
            "==> PASV ... done.    ==> RETR CRR126614_f1.fastq.gz ... done.\n",
            "Length: 979543480 (934M) (unauthoritative)\n",
            "\n",
            "CRR126614_f1.fastq. 100%[===================>] 934.17M  31.0MB/s    in 29s     \n",
            "\n",
            "2021-05-04 03:24:35 (32.3 MB/s) - ‘CRR126614_f1.fastq.gz’ saved [979543480]\n",
            "\n",
            "--2021-05-04 03:24:35--  ftp://download.big.ac.cn/gsa3/CRA002497/CRR126614/CRR126614_r2.fastq.gz\n",
            "           => ‘CRR126614_r2.fastq.gz’\n",
            "Resolving download.big.ac.cn (download.big.ac.cn)... 124.16.164.229\n",
            "Connecting to download.big.ac.cn (download.big.ac.cn)|124.16.164.229|:21... connected.\n",
            "Logging in as anonymous ... Logged in!\n",
            "==> SYST ... done.    ==> PWD ... done.\n",
            "==> TYPE I ... done.  ==> CWD (1) /gsa3/CRA002497/CRR126614 ... done.\n",
            "==> SIZE CRR126614_r2.fastq.gz ... 3483696461\n",
            "==> PASV ... done.    ==> RETR CRR126614_r2.fastq.gz ... done.\n",
            "Length: 3483696461 (3.2G) (unauthoritative)\n",
            "\n",
            "CRR126614_r2.fastq. 100%[===================>]   3.24G  30.1MB/s    in 1m 56s  \n",
            "\n",
            "2021-05-04 03:26:32 (28.7 MB/s) - ‘CRR126614_r2.fastq.gz’ saved [3483696461]\n",
            "\n",
            "--2021-05-04 03:26:32--  ftp://download.big.ac.cn/gsa3/CRA002497/CRR126615/CRR126615_f1.fastq.gz\n",
            "           => ‘CRR126615_f1.fastq.gz’\n",
            "Resolving download.big.ac.cn (download.big.ac.cn)... 124.16.164.229\n",
            "Connecting to download.big.ac.cn (download.big.ac.cn)|124.16.164.229|:21... connected.\n",
            "Logging in as anonymous ... Logged in!\n",
            "==> SYST ... done.    ==> PWD ... done.\n",
            "==> TYPE I ... done.  ==> CWD (1) /gsa3/CRA002497/CRR126615 ... done.\n",
            "==> SIZE CRR126615_f1.fastq.gz ... 1671342692\n",
            "==> PASV ... done.    ==> RETR CRR126615_f1.fastq.gz ... done.\n",
            "Length: 1671342692 (1.6G) (unauthoritative)\n",
            "\n",
            "CRR126615_f1.fastq. 100%[===================>]   1.56G  20.3MB/s    in 87s     \n",
            "\n",
            "2021-05-04 03:27:59 (18.4 MB/s) - ‘CRR126615_f1.fastq.gz’ saved [1671342692]\n",
            "\n",
            "--2021-05-04 03:27:59--  ftp://download.big.ac.cn/gsa3/CRA002497/CRR126615/CRR126615_r2.fastq.gz\n",
            "           => ‘CRR126615_r2.fastq.gz’\n",
            "Resolving download.big.ac.cn (download.big.ac.cn)... 124.16.164.229\n",
            "Connecting to download.big.ac.cn (download.big.ac.cn)|124.16.164.229|:21... connected.\n",
            "Logging in as anonymous ... Logged in!\n",
            "==> SYST ... done.    ==> PWD ... done.\n",
            "==> TYPE I ... done.  ==> CWD (1) /gsa3/CRA002497/CRR126615 ... done.\n",
            "==> SIZE CRR126615_r2.fastq.gz ... 1660361747\n",
            "==> PASV ... done.    ==> RETR CRR126615_r2.fastq.gz ... done.\n",
            "Length: 1660361747 (1.5G) (unauthoritative)\n",
            "\n",
            "CRR126615_r2.fastq. 100%[===================>]   1.55G  26.7MB/s    in 61s     \n",
            "\n",
            "2021-05-04 03:29:02 (25.8 MB/s) - ‘CRR126615_r2.fastq.gz’ saved [1660361747]\n",
            "\n",
            "--2021-05-04 03:29:02--  ftp://download.big.ac.cn/gsa3/CRA002497/CRR126616/CRR126616_f1.fastq.gz\n",
            "           => ‘CRR126616_f1.fastq.gz’\n",
            "Resolving download.big.ac.cn (download.big.ac.cn)... 124.16.164.229\n",
            "Connecting to download.big.ac.cn (download.big.ac.cn)|124.16.164.229|:21... connected.\n",
            "Logging in as anonymous ... Logged in!\n",
            "==> SYST ... done.    ==> PWD ... done.\n",
            "==> TYPE I ... done.  ==> CWD (1) /gsa3/CRA002497/CRR126616 ... done.\n",
            "==> SIZE CRR126616_f1.fastq.gz ... 955631284\n",
            "==> PASV ... done.    ==> RETR CRR126616_f1.fastq.gz ... done.\n",
            "Length: 955631284 (911M) (unauthoritative)\n",
            "\n",
            "CRR126616_f1.fastq. 100%[===================>] 911.36M  27.9MB/s    in 39s     \n",
            "\n",
            "2021-05-04 03:29:41 (23.7 MB/s) - ‘CRR126616_f1.fastq.gz’ saved [955631284]\n",
            "\n",
            "--2021-05-04 03:29:41--  ftp://download.big.ac.cn/gsa3/CRA002497/CRR126616/CRR126616_r2.fastq.gz\n",
            "           => ‘CRR126616_r2.fastq.gz’\n",
            "Resolving download.big.ac.cn (download.big.ac.cn)... 124.16.164.229\n",
            "Connecting to download.big.ac.cn (download.big.ac.cn)|124.16.164.229|:21... connected.\n",
            "Logging in as anonymous ... Logged in!\n",
            "==> SYST ... done.    ==> PWD ... done.\n",
            "==> TYPE I ... done.  ==> CWD (1) /gsa3/CRA002497/CRR126616 ... done.\n",
            "==> SIZE CRR126616_r2.fastq.gz ... 945801662\n",
            "==> PASV ... done.    ==> RETR CRR126616_r2.fastq.gz ... done.\n",
            "Length: 945801662 (902M) (unauthoritative)\n",
            "\n",
            "CRR126616_r2.fastq. 100%[===================>] 901.99M  36.7MB/s    in 25s     \n",
            "\n",
            "2021-05-04 03:30:07 (35.7 MB/s) - ‘CRR126616_r2.fastq.gz’ saved [945801662]\n",
            "\n",
            "--2021-05-04 03:30:07--  ftp://download.big.ac.cn/gsa3/CRA002497/CRR126617/CRR126617_f1.fastq.gz\n",
            "           => ‘CRR126617_f1.fastq.gz’\n",
            "Resolving download.big.ac.cn (download.big.ac.cn)... 124.16.164.229\n",
            "Connecting to download.big.ac.cn (download.big.ac.cn)|124.16.164.229|:21... connected.\n",
            "Logging in as anonymous ... Logged in!\n",
            "==> SYST ... done.    ==> PWD ... done.\n",
            "==> TYPE I ... done.  ==> CWD (1) /gsa3/CRA002497/CRR126617 ... done.\n",
            "==> SIZE CRR126617_f1.fastq.gz ... 1016987830\n",
            "==> PASV ... done.    ==> RETR CRR126617_f1.fastq.gz ... done.\n",
            "Length: 1016987830 (970M) (unauthoritative)\n",
            "\n",
            "CRR126617_f1.fastq. 100%[===================>] 969.88M  7.11MB/s    in 2m 9s   \n",
            "\n",
            "2021-05-04 03:32:17 (7.54 MB/s) - ‘CRR126617_f1.fastq.gz’ saved [1016987830]\n",
            "\n",
            "--2021-05-04 03:32:17--  ftp://download.big.ac.cn/gsa3/CRA002497/CRR126617/CRR126617_r2.fastq.gz\n",
            "           => ‘CRR126617_r2.fastq.gz’\n",
            "Resolving download.big.ac.cn (download.big.ac.cn)... 124.16.164.229\n",
            "Connecting to download.big.ac.cn (download.big.ac.cn)|124.16.164.229|:21... connected.\n",
            "Logging in as anonymous ... Logged in!\n",
            "==> SYST ... done.    ==> PWD ... done.\n",
            "==> TYPE I ... done.  ==> CWD (1) /gsa3/CRA002497/CRR126617 ... done.\n",
            "==> SIZE CRR126617_r2.fastq.gz ... 1003606051\n",
            "==> PASV ... done.    ==> RETR CRR126617_r2.fastq.gz ... done.\n",
            "Length: 1003606051 (957M) (unauthoritative)\n",
            "\n",
            "CRR126617_r2.fastq. 100%[===================>] 957.11M  36.8MB/s    in 27s     \n",
            "\n",
            "2021-05-04 03:32:44 (36.1 MB/s) - ‘CRR126617_r2.fastq.gz’ saved [1003606051]\n",
            "\n",
            "--2021-05-04 03:32:44--  ftp://download.big.ac.cn/gsa3/CRA002497/CRR126618/CRR126618_f1.fastq.gz\n",
            "           => ‘CRR126618_f1.fastq.gz’\n",
            "Resolving download.big.ac.cn (download.big.ac.cn)... 124.16.164.229\n",
            "Connecting to download.big.ac.cn (download.big.ac.cn)|124.16.164.229|:21... connected.\n",
            "Logging in as anonymous ... Logged in!\n",
            "==> SYST ... done.    ==> PWD ... done.\n",
            "==> TYPE I ... done.  ==> CWD (1) /gsa3/CRA002497/CRR126618 ... done.\n",
            "==> SIZE CRR126618_f1.fastq.gz ... 1399448813\n",
            "==> PASV ... done.    ==> RETR CRR126618_f1.fastq.gz ... done.\n",
            "Length: 1399448813 (1.3G) (unauthoritative)\n",
            "\n",
            "CRR126618_f1.fastq. 100%[===================>]   1.30G  24.0MB/s    in 56s     \n",
            "\n",
            "2021-05-04 03:33:41 (23.8 MB/s) - ‘CRR126618_f1.fastq.gz’ saved [1399448813]\n",
            "\n",
            "--2021-05-04 03:33:41--  ftp://download.big.ac.cn/gsa3/CRA002497/CRR126618/CRR126618_r2.fastq.gz\n",
            "           => ‘CRR126618_r2.fastq.gz’\n",
            "Resolving download.big.ac.cn (download.big.ac.cn)... 124.16.164.229\n",
            "Connecting to download.big.ac.cn (download.big.ac.cn)|124.16.164.229|:21... connected.\n",
            "Logging in as anonymous ... Logged in!\n",
            "==> SYST ... done.    ==> PWD ... done.\n",
            "==> TYPE I ... done.  ==> CWD (1) /gsa3/CRA002497/CRR126618 ... done.\n",
            "==> SIZE CRR126618_r2.fastq.gz ... 1396455434\n",
            "==> PASV ... done.    ==> RETR CRR126618_r2.fastq.gz ... done.\n",
            "Length: 1396455434 (1.3G) (unauthoritative)\n",
            "\n",
            "CRR126618_r2.fastq. 100%[===================>]   1.30G  37.2MB/s    in 37s     \n",
            "\n",
            "2021-05-04 03:34:19 (36.1 MB/s) - ‘CRR126618_r2.fastq.gz’ saved [1396455434]\n",
            "\n",
            "--2021-05-04 03:34:19--  ftp://download.big.ac.cn/gsa3/CRA002497/CRR126619/CRR126619_f1.fastq.gz\n",
            "           => ‘CRR126619_f1.fastq.gz’\n",
            "Resolving download.big.ac.cn (download.big.ac.cn)... 124.16.164.229\n",
            "Connecting to download.big.ac.cn (download.big.ac.cn)|124.16.164.229|:21... connected.\n",
            "Logging in as anonymous ... Logged in!\n",
            "==> SYST ... done.    ==> PWD ... done.\n",
            "==> TYPE I ... done.  ==> CWD (1) /gsa3/CRA002497/CRR126619 ... done.\n",
            "==> SIZE CRR126619_f1.fastq.gz ... 1527148300\n",
            "==> PASV ... done.    ==> RETR CRR126619_f1.fastq.gz ... done.\n",
            "Length: 1527148300 (1.4G) (unauthoritative)\n",
            "\n",
            "CRR126619_f1.fastq. 100%[===================>]   1.42G  24.8MB/s    in 71s     \n",
            "\n",
            "2021-05-04 03:35:30 (20.6 MB/s) - ‘CRR126619_f1.fastq.gz’ saved [1527148300]\n",
            "\n",
            "--2021-05-04 03:35:30--  ftp://download.big.ac.cn/gsa3/CRA002497/CRR126619/CRR126619_r2.fastq.gz\n",
            "           => ‘CRR126619_r2.fastq.gz’\n",
            "Resolving download.big.ac.cn (download.big.ac.cn)... 124.16.164.229\n",
            "Connecting to download.big.ac.cn (download.big.ac.cn)|124.16.164.229|:21... connected.\n",
            "Logging in as anonymous ... Logged in!\n",
            "==> SYST ... done.    ==> PWD ... done.\n",
            "==> TYPE I ... done.  ==> CWD (1) /gsa3/CRA002497/CRR126619 ... done.\n",
            "==> SIZE CRR126619_r2.fastq.gz ... 1592297970\n",
            "==> PASV ... done.    ==> RETR CRR126619_r2.fastq.gz ... done.\n",
            "Length: 1592297970 (1.5G) (unauthoritative)\n",
            "\n",
            "CRR126619_r2.fastq. 100%[===================>]   1.48G  23.6MB/s    in 67s     \n",
            "\n",
            "2021-05-04 03:36:38 (22.6 MB/s) - ‘CRR126619_r2.fastq.gz’ saved [1592297970]\n",
            "\n",
            "--2021-05-04 03:36:38--  ftp://download.big.ac.cn/gsa3/CRA002497/CRR126620/CRR126620_f1.fastq.gz\n",
            "           => ‘CRR126620_f1.fastq.gz’\n",
            "Resolving download.big.ac.cn (download.big.ac.cn)... 124.16.164.229\n",
            "Connecting to download.big.ac.cn (download.big.ac.cn)|124.16.164.229|:21... connected.\n",
            "Logging in as anonymous ... Logged in!\n",
            "==> SYST ... done.    ==> PWD ... done.\n",
            "==> TYPE I ... done.  ==> CWD (1) /gsa3/CRA002497/CRR126620 ... done.\n",
            "==> SIZE CRR126620_f1.fastq.gz ... 1882138318\n",
            "==> PASV ... done.    ==> RETR CRR126620_f1.fastq.gz ... done.\n",
            "Length: 1882138318 (1.8G) (unauthoritative)\n",
            "\n",
            "CRR126620_f1.fastq. 100%[===================>]   1.75G  33.2MB/s    in 52s     \n",
            "\n",
            "2021-05-04 03:37:31 (34.5 MB/s) - ‘CRR126620_f1.fastq.gz’ saved [1882138318]\n",
            "\n",
            "--2021-05-04 03:37:31--  ftp://download.big.ac.cn/gsa3/CRA002497/CRR126620/CRR126620_r2.fastq.gz\n",
            "           => ‘CRR126620_r2.fastq.gz’\n",
            "Resolving download.big.ac.cn (download.big.ac.cn)... 124.16.164.229\n",
            "Connecting to download.big.ac.cn (download.big.ac.cn)|124.16.164.229|:21... connected.\n",
            "Logging in as anonymous ... Logged in!\n",
            "==> SYST ... done.    ==> PWD ... done.\n",
            "==> TYPE I ... done.  ==> CWD (1) /gsa3/CRA002497/CRR126620 ... done.\n",
            "==> SIZE CRR126620_r2.fastq.gz ... 1960072774\n",
            "==> PASV ... done.    ==> RETR CRR126620_r2.fastq.gz ... done.\n",
            "Length: 1960072774 (1.8G) (unauthoritative)\n",
            "\n",
            "CRR126620_r2.fastq. 100%[===================>]   1.83G  36.8MB/s    in 52s     \n",
            "\n",
            "2021-05-04 03:38:23 (36.3 MB/s) - ‘CRR126620_r2.fastq.gz’ saved [1960072774]\n",
            "\n",
            "--2021-05-04 03:38:23--  ftp://download.big.ac.cn/gsa3/CRA002497/CRR126621/CRR126621_f1.fastq.gz\n",
            "           => ‘CRR126621_f1.fastq.gz’\n",
            "Resolving download.big.ac.cn (download.big.ac.cn)... 124.16.164.229\n",
            "Connecting to download.big.ac.cn (download.big.ac.cn)|124.16.164.229|:21... connected.\n",
            "Logging in as anonymous ... Logged in!\n",
            "==> SYST ... done.    ==> PWD ... done.\n",
            "==> TYPE I ... done.  ==> CWD (1) /gsa3/CRA002497/CRR126621 ... done.\n",
            "==> SIZE CRR126621_f1.fastq.gz ... 2030265445\n",
            "==> PASV ... done.    ==> RETR CRR126621_f1.fastq.gz ... done.\n",
            "Length: 2030265445 (1.9G) (unauthoritative)\n",
            "\n",
            "CRR126621_f1.fastq. 100%[===================>]   1.89G  22.6MB/s    in 76s     \n",
            "\n",
            "2021-05-04 03:39:40 (25.6 MB/s) - ‘CRR126621_f1.fastq.gz’ saved [2030265445]\n",
            "\n",
            "--2021-05-04 03:39:40--  ftp://download.big.ac.cn/gsa3/CRA002497/CRR126621/CRR126621_r2.fastq.gz\n",
            "           => ‘CRR126621_r2.fastq.gz’\n",
            "Resolving download.big.ac.cn (download.big.ac.cn)... 124.16.164.229\n",
            "Connecting to download.big.ac.cn (download.big.ac.cn)|124.16.164.229|:21... connected.\n",
            "Logging in as anonymous ... Logged in!\n",
            "==> SYST ... done.    ==> PWD ... done.\n",
            "==> TYPE I ... done.  ==> CWD (1) /gsa3/CRA002497/CRR126621 ... done.\n",
            "==> SIZE CRR126621_r2.fastq.gz ... 2128027564\n",
            "==> PASV ... done.    ==> RETR CRR126621_r2.fastq.gz ... done.\n",
            "Length: 2128027564 (2.0G) (unauthoritative)\n",
            "\n",
            "CRR126621_r2.fastq. 100%[===================>]   1.98G  25.3MB/s    in 1m 45s  \n",
            "\n",
            "2021-05-04 03:41:25 (19.4 MB/s) - ‘CRR126621_r2.fastq.gz’ saved [2128027564]\n",
            "\n",
            "--2021-05-04 03:41:25--  ftp://download.big.ac.cn/gsa3/CRA002497/CRR126622/CRR126622_f1.fastq.gz\n",
            "           => ‘CRR126622_f1.fastq.gz’\n",
            "Resolving download.big.ac.cn (download.big.ac.cn)... 124.16.164.229\n",
            "Connecting to download.big.ac.cn (download.big.ac.cn)|124.16.164.229|:21... connected.\n",
            "Logging in as anonymous ... Logged in!\n",
            "==> SYST ... done.    ==> PWD ... done.\n",
            "==> TYPE I ... done.  ==> CWD (1) /gsa3/CRA002497/CRR126622 ... done.\n",
            "==> SIZE CRR126622_f1.fastq.gz ... 709200952\n",
            "==> PASV ... done.    ==> RETR CRR126622_f1.fastq.gz ... done.\n",
            "Length: 709200952 (676M) (unauthoritative)\n",
            "\n",
            "CRR126622_f1.fastq. 100%[===================>] 676.35M  35.7MB/s    in 49s     \n",
            "\n",
            "2021-05-04 03:42:15 (13.7 MB/s) - ‘CRR126622_f1.fastq.gz’ saved [709200952]\n",
            "\n",
            "--2021-05-04 03:42:15--  ftp://download.big.ac.cn/gsa3/CRA002497/CRR126622/CRR126622_r2.fastq.gz\n",
            "           => ‘CRR126622_r2.fastq.gz’\n",
            "Resolving download.big.ac.cn (download.big.ac.cn)... 124.16.164.229\n",
            "Connecting to download.big.ac.cn (download.big.ac.cn)|124.16.164.229|:21... connected.\n",
            "Logging in as anonymous ... Logged in!\n",
            "==> SYST ... done.    ==> PWD ... done.\n",
            "==> TYPE I ... done.  ==> CWD (1) /gsa3/CRA002497/CRR126622 ... done.\n",
            "==> SIZE CRR126622_r2.fastq.gz ... 749482362\n",
            "==> PASV ... done.    ==> RETR CRR126622_r2.fastq.gz ... done.\n",
            "Length: 749482362 (715M) (unauthoritative)\n",
            "\n",
            "CRR126622_r2.fastq. 100%[===================>] 714.76M  22.5MB/s    in 37s     \n",
            "\n",
            "2021-05-04 03:42:54 (19.1 MB/s) - ‘CRR126622_r2.fastq.gz’ saved [749482362]\n",
            "\n"
          ],
          "name": "stdout"
        }
      ]
    },
    {
      "cell_type": "code",
      "metadata": {
        "id": "PC9oETW1pE9t",
        "colab": {
          "base_uri": "https://localhost:8080/"
        },
        "outputId": "a52e37af-c90e-4714-d311-8f3ede1f0d1d"
      },
      "source": [
        "if bam:\n",
        "  # Download the corresponding Kallisto index to folder containing fastqs\n",
        "  !kb ref -d $species_kb -i index.idx -g t2g.txt -f1 transcriptome.fasta\n",
        "\n",
        "if not bam and fastq_ffqlinks:\n",
        "  %cd /content\n",
        "\n",
        "  # Download the corresponding Kallisto index to content folder\n",
        "  !kb ref -d $species_kb -i index.idx -g t2g.txt -f1 transcriptome.fasta\n",
        "\n",
        "if not bam and not fastq_ffqlinks:\n",
        "  %cd /content/fastqs\n",
        "\n",
        "  # Download the corresponding Kallisto index to fastq folder\n",
        "  !kb ref -d $species_kb -i index.idx -g t2g.txt -f1 transcriptome.fasta"
      ],
      "execution_count": 10,
      "outputs": [
        {
          "output_type": "stream",
          "text": [
            "/content/fastqs\n",
            "[2021-05-04 03:42:57,364]    INFO Downloading files for human from https://caltech.box.com/shared/static/v1nm7lpnqz5syh8dyzdk2zs8bglncfib.gz to tmp/v1nm7lpnqz5syh8dyzdk2zs8bglncfib.gz\n",
            "100% 2.23G/2.23G [02:29<00:00, 16.0MB/s]\n",
            "[2021-05-04 03:45:29,049]    INFO Extracting files from tmp/v1nm7lpnqz5syh8dyzdk2zs8bglncfib.gz\n"
          ],
          "name": "stdout"
        }
      ]
    },
    {
      "cell_type": "code",
      "metadata": {
        "id": "vHVNa51Cp9Nr",
        "colab": {
          "base_uri": "https://localhost:8080/"
        },
        "outputId": "e0e3ef93-5426-4aa6-f4c6-af86c4e51177"
      },
      "source": [
        "# Check to make sure the metadata is in the right order after sorting\n",
        "print(fastqs)"
      ],
      "execution_count": 11,
      "outputs": [
        {
          "output_type": "stream",
          "text": [
            "['CRR126611_f1.fastq.gz', 'CRR126611_r2.fastq.gz', 'CRR126612_f1.fastq.gz', 'CRR126612_r2.fastq.gz', 'CRR126613_f1.fastq.gz', 'CRR126613_r2.fastq.gz', 'CRR126614_f1.fastq.gz', 'CRR126614_r2.fastq.gz', 'CRR126615_f1.fastq.gz', 'CRR126615_r2.fastq.gz', 'CRR126616_f1.fastq.gz', 'CRR126616_r2.fastq.gz', 'CRR126617_f1.fastq.gz', 'CRR126617_r2.fastq.gz', 'CRR126618_f1.fastq.gz', 'CRR126618_r2.fastq.gz', 'CRR126619_f1.fastq.gz', 'CRR126619_r2.fastq.gz', 'CRR126620_f1.fastq.gz', 'CRR126620_r2.fastq.gz', 'CRR126621_f1.fastq.gz', 'CRR126621_r2.fastq.gz', 'CRR126622_f1.fastq.gz', 'CRR126622_r2.fastq.gz']\n"
          ],
          "name": "stdout"
        }
      ]
    },
    {
      "cell_type": "markdown",
      "metadata": {
        "id": "VInyuq1Dp7iz"
      },
      "source": [
        "# Process fastq files (modify kb command according to fastqs list)\n"
      ]
    },
    {
      "cell_type": "code",
      "metadata": {
        "id": "OcqtBuH-pRaX",
        "colab": {
          "base_uri": "https://localhost:8080/"
        },
        "outputId": "66326154-6c9d-4a46-f5e5-20c39b3e2236"
      },
      "source": [
        "fastqs"
      ],
      "execution_count": 12,
      "outputs": [
        {
          "output_type": "execute_result",
          "data": {
            "text/plain": [
              "['CRR126611_f1.fastq.gz',\n",
              " 'CRR126611_r2.fastq.gz',\n",
              " 'CRR126612_f1.fastq.gz',\n",
              " 'CRR126612_r2.fastq.gz',\n",
              " 'CRR126613_f1.fastq.gz',\n",
              " 'CRR126613_r2.fastq.gz',\n",
              " 'CRR126614_f1.fastq.gz',\n",
              " 'CRR126614_r2.fastq.gz',\n",
              " 'CRR126615_f1.fastq.gz',\n",
              " 'CRR126615_r2.fastq.gz',\n",
              " 'CRR126616_f1.fastq.gz',\n",
              " 'CRR126616_r2.fastq.gz',\n",
              " 'CRR126617_f1.fastq.gz',\n",
              " 'CRR126617_r2.fastq.gz',\n",
              " 'CRR126618_f1.fastq.gz',\n",
              " 'CRR126618_r2.fastq.gz',\n",
              " 'CRR126619_f1.fastq.gz',\n",
              " 'CRR126619_r2.fastq.gz',\n",
              " 'CRR126620_f1.fastq.gz',\n",
              " 'CRR126620_r2.fastq.gz',\n",
              " 'CRR126621_f1.fastq.gz',\n",
              " 'CRR126621_r2.fastq.gz',\n",
              " 'CRR126622_f1.fastq.gz',\n",
              " 'CRR126622_r2.fastq.gz']"
            ]
          },
          "metadata": {
            "tags": []
          },
          "execution_count": 0
        }
      ]
    },
    {
      "cell_type": "code",
      "metadata": {
        "id": "5qFzPj-0kZTi",
        "colab": {
          "base_uri": "https://localhost:8080/"
        },
        "outputId": "0d2d38d8-ed27-4ac1-a0e6-17f6ab946692"
      },
      "source": [
        "# Specify the sample number and whether they are paired-ended\n",
        "\n",
        "\n",
        "if no_samples == 1:\n",
        "\n",
        "  # Write the kb count command as a string with all fastqs of the list as an input\n",
        "  cmd = \"kb count --h5ad -i index.idx -g t2g.txt -x \" + technology_kb + \" -o output\" + sample_id[0] + \" \"\\\n",
        "  + \"--filter bustools -t 2 --overwrite \" + \"'\" +  \"' '\".join(fastqs) + \"'\"\n",
        "  \n",
        "  # Execute it\n",
        "  !$cmd\n",
        "\n",
        "# If more than one sample, iterate through fastqs accordingly\n",
        "else:\n",
        "\n",
        "  # Initializa counter for fastq files\n",
        "  j = 0\n",
        "\n",
        "  # Loop over samples for analysis\n",
        "  for i in range(no_samples):\n",
        "\n",
        "    fastqs_to_analyze = fastqs[j:j + fastqs_per_sample[i]]\n",
        "    # Write the kb count command as a string\n",
        "    cmd = \"kb count --h5ad -i ../index.idx -g ../t2g.txt -x \" + technology_kb + \" -o output\" + sample_id[i] + \" \\\n",
        "    --filter bustools -t 2 --overwrite \" + \"'\" +  \"' '\".join(fastqs_to_analyze) + \"'\"\n",
        "\n",
        "    # Execute it\n",
        "    !$cmd\n",
        "\n",
        "    # Update j to move to the next set of fastq\n",
        "    j = j + fastqs_per_sample[i]\n",
        "\n",
        "\n",
        "\n",
        "\n",
        "\n"
      ],
      "execution_count": 13,
      "outputs": [
        {
          "output_type": "stream",
          "text": [
            "[2021-05-04 03:46:08,362]    INFO Using index index.idx to generate BUS file to outputCRX102289 from\n",
            "[2021-05-04 03:46:08,362]    INFO         CRR126611_f1.fastq.gz\n",
            "[2021-05-04 03:46:08,362]    INFO         CRR126611_r2.fastq.gz\n",
            "[2021-05-04 03:46:08,362]    INFO         CRR126612_f1.fastq.gz\n",
            "[2021-05-04 03:46:08,362]    INFO         CRR126612_r2.fastq.gz\n",
            "[2021-05-04 03:46:08,362]    INFO         CRR126613_f1.fastq.gz\n",
            "[2021-05-04 03:46:08,362]    INFO         CRR126613_r2.fastq.gz\n",
            "[2021-05-04 03:46:08,362]    INFO         CRR126614_f1.fastq.gz\n",
            "[2021-05-04 03:46:08,362]    INFO         CRR126614_r2.fastq.gz\n",
            "[2021-05-04 03:46:08,362]    INFO         CRR126615_f1.fastq.gz\n",
            "[2021-05-04 03:46:08,362]    INFO         CRR126615_r2.fastq.gz\n",
            "[2021-05-04 03:46:08,362]    INFO         CRR126616_f1.fastq.gz\n",
            "[2021-05-04 03:46:08,362]    INFO         CRR126616_r2.fastq.gz\n",
            "[2021-05-04 03:46:08,362]    INFO         CRR126617_f1.fastq.gz\n",
            "[2021-05-04 03:46:08,362]    INFO         CRR126617_r2.fastq.gz\n",
            "[2021-05-04 03:46:08,363]    INFO         CRR126618_f1.fastq.gz\n",
            "[2021-05-04 03:46:08,363]    INFO         CRR126618_r2.fastq.gz\n",
            "[2021-05-04 03:46:08,363]    INFO         CRR126619_f1.fastq.gz\n",
            "[2021-05-04 03:46:08,363]    INFO         CRR126619_r2.fastq.gz\n",
            "[2021-05-04 03:46:08,363]    INFO         CRR126620_f1.fastq.gz\n",
            "[2021-05-04 03:46:08,363]    INFO         CRR126620_r2.fastq.gz\n",
            "[2021-05-04 03:46:08,363]    INFO         CRR126621_f1.fastq.gz\n",
            "[2021-05-04 03:46:08,363]    INFO         CRR126621_r2.fastq.gz\n",
            "[2021-05-04 03:46:08,363]    INFO         CRR126622_f1.fastq.gz\n",
            "[2021-05-04 03:46:08,363]    INFO         CRR126622_r2.fastq.gz\n",
            "[2021-05-04 06:02:42,615]    INFO Sorting BUS file outputCRX102289/output.bus to outputCRX102289/tmp/output.s.bus\n",
            "[2021-05-04 06:07:39,287]    INFO Whitelist not provided\n",
            "[2021-05-04 06:07:39,287]    INFO Copying pre-packaged 10XV2 whitelist to outputCRX102289\n",
            "[2021-05-04 06:07:39,417]    INFO Inspecting BUS file outputCRX102289/tmp/output.s.bus\n",
            "[2021-05-04 06:08:14,599]    INFO Correcting BUS records in outputCRX102289/tmp/output.s.bus to outputCRX102289/tmp/output.s.c.bus with whitelist outputCRX102289/10xv2_whitelist.txt\n",
            "[2021-05-04 06:08:46,790]    INFO Sorting BUS file outputCRX102289/tmp/output.s.c.bus to outputCRX102289/output.unfiltered.bus\n",
            "[2021-05-04 06:10:16,100]    INFO Generating count matrix outputCRX102289/counts_unfiltered/cells_x_genes from BUS file outputCRX102289/output.unfiltered.bus\n",
            "[2021-05-04 06:11:05,494]    INFO Reading matrix outputCRX102289/counts_unfiltered/cells_x_genes.mtx\n",
            "[2021-05-04 06:11:34,251]    INFO Writing matrix to h5ad outputCRX102289/counts_unfiltered/adata.h5ad\n",
            "[2021-05-04 06:11:35,435]    INFO Filtering with bustools\n",
            "[2021-05-04 06:11:35,435]    INFO Generating whitelist outputCRX102289/filter_barcodes.txt from BUS file outputCRX102289/output.unfiltered.bus\n",
            "[2021-05-04 06:11:36,423]    INFO Correcting BUS records in outputCRX102289/output.unfiltered.bus to outputCRX102289/tmp/output.unfiltered.c.bus with whitelist outputCRX102289/filter_barcodes.txt\n",
            "[2021-05-04 06:12:19,213]    INFO Sorting BUS file outputCRX102289/tmp/output.unfiltered.c.bus to outputCRX102289/output.filtered.bus\n",
            "[2021-05-04 06:13:34,230]    INFO Generating count matrix outputCRX102289/counts_filtered/cells_x_genes from BUS file outputCRX102289/output.filtered.bus\n",
            "[2021-05-04 06:14:12,547]    INFO Reading matrix outputCRX102289/counts_filtered/cells_x_genes.mtx\n",
            "[2021-05-04 06:14:31,769]    INFO Writing matrix to h5ad outputCRX102289/counts_filtered/adata.h5ad\n"
          ],
          "name": "stdout"
        }
      ]
    },
    {
      "cell_type": "markdown",
      "metadata": {
        "id": "tDijOZzrqhN2"
      },
      "source": [
        "# Load unfiltered matrix and assign filters to each matrix individually"
      ]
    },
    {
      "cell_type": "markdown",
      "metadata": {
        "id": "VkNLZh_pNFFw"
      },
      "source": [
        "## Load the unfiltered matrix (check dimensions)"
      ]
    },
    {
      "cell_type": "code",
      "metadata": {
        "id": "J_2vsNLJYD0t"
      },
      "source": [
        "# Define dict to store data\n",
        "results = {}\n"
      ],
      "execution_count": 15,
      "outputs": []
    },
    {
      "cell_type": "code",
      "metadata": {
        "id": "-ZgezIbzYEnm",
        "outputId": "120205ed-7908-4aed-cbe6-21b7f3ee959a",
        "colab": {
          "base_uri": "https://localhost:8080/"
        }
      },
      "source": [
        "# load the unfiltered matrix\n",
        "for i in range(no_samples):\n",
        "  results[sample_id[i]] = anndata.read_h5ad(\"output\" + sample_id[i] + \"/counts_unfiltered/adata.h5ad\")\n",
        "  results[sample_id[i]].var[\"gene_id\"] = results[sample_id[i]].var.index.values\n",
        "\n",
        "  t2g = pd.read_csv(\"t2g.txt\", header=None, names=[\"tid\", \"gene_id\", \"gene_name\"], sep=\"\\t\")\n",
        "  t2g.index = t2g.gene_id\n",
        "  t2g = t2g.loc[~t2g.index.duplicated(keep='first')]\n",
        "\n",
        "  results[sample_id[i]].var[\"gene_name\"] = results[sample_id[i]].var.gene_id.map(t2g[\"gene_name\"])\n",
        "  results[sample_id[i]].var.index = results[sample_id[i]].var[\"gene_name\"]\n",
        "  print(\"The unfiltered matrix \" + sample_id[i] + \" contains {} cells by {} genes\".format(len(results[sample_id[i]].obs), len(results[sample_id[i]].var)))\n",
        "\n",
        "  results[sample_id[i]].obs[\"cell_counts\"] = results[sample_id[i]].X.sum(axis=1)\n",
        "  results[sample_id[i]].var[\"gene_counts\"] = nd(results[sample_id[i]].X.sum(axis=0))\n",
        "\n",
        "  results[sample_id[i]].obs[\"n_genes\"] = nd((results[sample_id[i]].X>0).sum(axis=1))\n",
        "  results[sample_id[i]].var[\"n_cells\"] = nd((results[sample_id[i]].X>0).sum(axis=0))\n",
        "\n",
        "  mito_genes = results[sample_id[i]].var_names.str.startswith(\"MT-\" or \"mt-\") \n",
        "  results[sample_id[i]].obs[\"percent_mito\"] = results[sample_id[i]][:,mito_genes].X.sum(axis=1)/results[sample_id[i]].X.sum(axis=1)*100\n",
        "\n",
        "  # Changing the name of the index is necessary to write the file (it won't work with duplicated names)\n",
        "  results[sample_id[i]].var.index.name = \"index\"\n",
        "\n"
      ],
      "execution_count": 16,
      "outputs": [
        {
          "output_type": "stream",
          "text": [
            "The unfiltered matrix CRX102289 contains 326689 cells by 60623 genes\n"
          ],
          "name": "stdout"
        }
      ]
    },
    {
      "cell_type": "markdown",
      "metadata": {
        "id": "hDAUH3eH_2RA"
      },
      "source": [
        "## Assign filters for each matrix individually"
      ]
    },
    {
      "cell_type": "code",
      "metadata": {
        "id": "vKJJBQWMYH8H"
      },
      "source": [
        "# Modify this manually to change sample after having assigned the \"expected_num_cells\" and \"mito_criteria\" parameters\n",
        "samp_n = 0\n",
        "\n",
        "\n",
        "# Filtering criteria\n",
        "cell_threshold = 100\n",
        "gene_threshold = 3\n",
        "\n",
        "mito_criteria = 30"
      ],
      "execution_count": 17,
      "outputs": []
    },
    {
      "cell_type": "code",
      "metadata": {
        "cellView": "form",
        "id": "gymez9HcYJD6",
        "outputId": "793e86ec-773d-4448-ffd2-0d1b2865e96b",
        "colab": {
          "base_uri": "https://localhost:8080/",
          "height": 723
        }
      },
      "source": [
        "\n",
        "expected_num_cells = 4000#@param {type:\"integer\"}\n",
        "knee = np.sort(nd(results[sample_id[samp_n]].X.sum(axis=1)))[::-1]\n",
        "\n",
        "fig, ax = plt.subplots(figsize=(5, 5))\n",
        "\n",
        "x = knee\n",
        "y = range(len(knee))\n",
        "\n",
        "ax.loglog(x, y, linewidth=5, color=\"g\")\n",
        "\n",
        "ax.axvline(x=knee[expected_num_cells], linewidth=3, color=\"k\")\n",
        "ax.axhline(y=expected_num_cells, linewidth=3, color=\"k\")\n",
        "\n",
        "ax.set_xlabel(\"UMI Counts\")\n",
        "ax.set_ylabel(\"Set of Barcodes\")\n",
        "\n",
        "plt.show()\n",
        "\n",
        "cell_threshold = knee[expected_num_cells]\n",
        "\n",
        "results[\"cell_threshold\" + sample_id[samp_n]] = knee[expected_num_cells]\n",
        "\n",
        "print (\"Cells were filtered down to \" + str(expected_num_cells) + \" with at least \" + str(cell_threshold) + \" UMIs\")\n",
        "\n",
        "\n",
        "mito_criteria = 18#@param {type:\"integer\"}\n",
        "results[\"mito_criteria\" + sample_id[samp_n]] = mito_criteria\n",
        "\n",
        "fig, ax = plt.subplots(figsize=(5,5))\n",
        "\n",
        "\n",
        "x = nd(results[sample_id[samp_n]].obs[\"cell_counts\"][results[sample_id[samp_n]].obs[\"cell_counts\"] > cell_threshold])\n",
        "y = nd(results[sample_id[samp_n]].obs[\"percent_mito\"][results[sample_id[samp_n]].obs[\"cell_counts\"] > cell_threshold])\n",
        "\n",
        "ax.scatter(x, y, color=\"green\", alpha=0.1)\n",
        "\n",
        "ax.axhline(y=mito_criteria, linestyle=\"--\", color=\"k\")\n",
        "\n",
        "\n",
        "ax.set_xlabel(\"UMI Counts\")\n",
        "ax.set_ylabel(\"Percent mito\")\n",
        "\n",
        "\n",
        "plt.show()\n",
        "\n",
        "print(\"We select \" + str(mito_criteria) + \" % as the mitochondrial content threshold\")"
      ],
      "execution_count": 20,
      "outputs": [
        {
          "output_type": "display_data",
          "data": {
            "image/png": "[encoded data removed]",
            "text/plain": [
              "<Figure size 360x360 with 1 Axes>"
            ]
          },
          "metadata": {
            "tags": [],
            "image/png": {
              "width": 358,
              "height": 337
            },
            "needs_background": "light"
          }
        },
        {
          "output_type": "stream",
          "text": [
            "Cells were filtered down to 4000 with at least 3264.0 UMIs\n"
          ],
          "name": "stdout"
        },
        {
          "output_type": "display_data",
          "data": {
            "image/png": "[encoded data removed]",
            "text/plain": [
              "<Figure size 360x360 with 1 Axes>"
            ]
          },
          "metadata": {
            "tags": [],
            "image/png": {
              "width": 349,
              "height": 338
            },
            "needs_background": "light"
          }
        },
        {
          "output_type": "stream",
          "text": [
            "We select 18 % as the mitochondrial content threshold\n"
          ],
          "name": "stdout"
        }
      ]
    },
    {
      "cell_type": "markdown",
      "metadata": {
        "id": "eP9j2ouPq9KY"
      },
      "source": [
        "# Filter matrix"
      ]
    },
    {
      "cell_type": "code",
      "metadata": {
        "id": "sE51WUA3gVmG",
        "outputId": "34f80912-c0bc-442f-9840-d1a88deceead",
        "colab": {
          "base_uri": "https://localhost:8080/"
        }
      },
      "source": [
        "for i in range(no_samples):\n",
        "  results[sample_id[i]].obs[\"pass_count_filter\"] = results[sample_id[i]].obs[\"cell_counts\"] > results[\"cell_threshold\" + sample_id[i]]\n",
        "  results[sample_id[i]].obs[\"pass_mito_filter\"] = results[sample_id[i]].obs.percent_mito < results[\"mito_criteria\" + sample_id[i]]\n",
        "  results[sample_id[i]].var[\"pass_gene_filter\"] = results[sample_id[i]].var[\"n_cells\"] > gene_threshold\n",
        "\n",
        "  cell_mask = np.logical_and(results[sample_id[i]].obs[\"pass_count_filter\"].values, results[sample_id[i]].obs[\"pass_mito_filter\"].values)\n",
        "  gene_mask = results[sample_id[i]].var[\"pass_gene_filter\"].values\n",
        "\n",
        "  print(\"Current Shape: {:,} cells x {:,} genes\".format(results[sample_id[i]].shape[0], results[sample_id[i]].shape[1]))\n",
        "  print(\"    New shape: {:,} cells x {:,} genes\".format(cell_mask.sum(), gene_mask.sum()))\n",
        "  results[\"data_\" + sample_id[i]] = results[sample_id[i]][cell_mask, gene_mask]"
      ],
      "execution_count": 21,
      "outputs": [
        {
          "output_type": "stream",
          "text": [
            "Current Shape: 326,689 cells x 60,623 genes\n",
            "    New shape: 3,943 cells x 27,905 genes\n"
          ],
          "name": "stdout"
        }
      ]
    },
    {
      "cell_type": "markdown",
      "metadata": {
        "id": "BxPA81yj4TlU"
      },
      "source": [
        "# Anotate and write the Anndata object"
      ]
    },
    {
      "cell_type": "code",
      "metadata": {
        "id": "O-q_Qj2U4kDU",
        "outputId": "5f84ad7b-aa15-4814-c020-0c3bdc77192c",
        "colab": {
          "base_uri": "https://localhost:8080/"
        }
      },
      "source": [
        "for i in range(no_samples):\n",
        "\n",
        "\n",
        "  results[\"data_\" + sample_id[i]].uns[\"database_id\"] = database_id[i]\n",
        "\n",
        "  results[\"data_\" + sample_id[i]].uns[\"tissue\"] = tissue[i]\n",
        "\n",
        "  results[\"data_\" + sample_id[i]].uns[\"cell_type\"] = cell_type[i]\n",
        "\n",
        "  results[\"data_\" + sample_id[i]].uns[\"sample_id\"] = sample_id[i]\n",
        "\n",
        "  results[\"data_\" + sample_id[i]].uns[\"condition\"] = condition[i]\n",
        "\n",
        "  results[\"data_\" + sample_id[i]].uns[\"species\"] = species[i]\n",
        "\n",
        "  results[\"data_\" + sample_id[i]].uns[\"technology\"] = technology[i]\n",
        "\n",
        "  results[\"data_\" + sample_id[i]].uns[\"paper\"] = paper[i]\n",
        "\n",
        "  results[\"data_\" + sample_id[i]].uns[\"figure\"] = figure[i]\n",
        "\n",
        "\n",
        "%cd /content\n",
        "\n",
        "for i in range(no_samples):\n",
        "\n",
        "  results[\"data_\" + sample_id[i]].write(\"result\" + sample_id[i])"
      ],
      "execution_count": 22,
      "outputs": [
        {
          "output_type": "stream",
          "text": [
            "Trying to set attribute `.uns` of view, copying.\n",
            "Variable names are not unique. To make them unique, call `.var_names_make_unique`.\n",
            "Variable names are not unique. To make them unique, call `.var_names_make_unique`.\n"
          ],
          "name": "stderr"
        },
        {
          "output_type": "stream",
          "text": [
            "/content\n"
          ],
          "name": "stdout"
        },
        {
          "output_type": "stream",
          "text": [
            "... storing 'gene_name' as categorical\n"
          ],
          "name": "stderr"
        }
      ]
    }
  ]
}