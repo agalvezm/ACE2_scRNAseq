{
  "nbformat": 4,
  "nbformat_minor": 0,
  "metadata": {
    "colab": {
      "name": "PRJCA002413_CRX102287.ipynb",
      "provenance": [],
      "collapsed_sections": [],
      "toc_visible": true,
      "include_colab_link": true
    },
    "kernelspec": {
      "display_name": "Python 3",
      "name": "python3"
    }
  },
  "cells": [
    {
      "cell_type": "markdown",
      "metadata": {
        "id": "view-in-github",
        "colab_type": "text"
      },
      "source": [
        "<a href=\"https://colab.research.google.com/github/agalvezm/ACE2_scRNAseq/blob/master/notebooks_countmatrices/PRJCA002413_CRX102287.ipynb\" target=\"_parent\"><img src=\"https://colab.research.google.com/assets/colab-badge.svg\" alt=\"Open In Colab\"/></a>"
      ]
    },
    {
      "cell_type": "markdown",
      "metadata": {
        "id": "V9ryXluJsJw9"
      },
      "source": [
        "# PRJCA002413_CRX102287"
      ]
    },
    {
      "cell_type": "code",
      "metadata": {
        "id": "ggNFAQJCRh6P"
      },
      "source": [
        "# define the values for the analysis\n",
        "\n",
        "# accession id for the data\n",
        "id = \"PRJCA002413\"\n",
        "samp_id = [\"CRX102287\"]\n",
        "\n",
        "# If only bam available files, set bam = True, Fill link and filename\n",
        "bam = False\n",
        "\n",
        "# If fastq links available but are not ffq links\n",
        "fastq_ffqlinks = False\n",
        "\n",
        "\n",
        "if bam:\n",
        "  # Assign link to python variable\n",
        "  link_to_bam = \"\"\n",
        "  \n",
        "  # Assigns the link to the bash variable BAM_LINK. To be used by wget\n",
        "  %env BAM_LINK=$link_to_bam\n",
        "\n",
        "  # Assign filename to python variable. Used to convert to fastq and remove bam file to fastq after conversion\n",
        "\n",
        "  bam_filename=\"\"\n",
        "\n",
        "\n",
        "if not bam:\n",
        "\n",
        "  # Copy and paste the links from the ACE2 scRNAseq datasets google  spreadsheet\n",
        "  links_raw = \"ftp://download.big.ac.cn/gsa3/CRA002497/CRR126587/CRR126587_f1.fastq.gz\tftp://download.big.ac.cn/gsa3/CRA002497/CRR126587/CRR126587_r2.fastq.gz\tftp://download.big.ac.cn/gsa3/CRA002497/CRR126588/CRR126588_f1.fastq.gz\tftp://download.big.ac.cn/gsa3/CRA002497/CRR126588/CRR126588_r2.fastq.gz\tftp://download.big.ac.cn/gsa3/CRA002497/CRR126589/CRR126589_f1.fastq.gz\tftp://download.big.ac.cn/gsa3/CRA002497/CRR126589/CRR126589_r2.fastq.gz\tftp://download.big.ac.cn/gsa3/CRA002497/CRR126590/CRR126590_f1.fastq.gz\tftp://download.big.ac.cn/gsa3/CRA002497/CRR126590/CRR126590_r2.fastq.gz\tftp://download.big.ac.cn/gsa3/CRA002497/CRR126591/CRR126591_f1.fastq.gz\tftp://download.big.ac.cn/gsa3/CRA002497/CRR126591/CRR126591_r2.fastq.gz\tftp://download.big.ac.cn/gsa3/CRA002497/CRR126592/CRR126592_f1.fastq.gz\tftp://download.big.ac.cn/gsa3/CRA002497/CRR126592/CRR126592_r2.fastq.gz\tftp://download.big.ac.cn/gsa3/CRA002497/CRR126593/CRR126593_f1.fastq.gz\tftp://download.big.ac.cn/gsa3/CRA002497/CRR126593/CRR126593_r2.fastq.gz\tftp://download.big.ac.cn/gsa3/CRA002497/CRR126594/CRR126594_f1.fastq.gz\tftp://download.big.ac.cn/gsa3/CRA002497/CRR126594/CRR126594_r2.fastq.gz\tftp://download.big.ac.cn/gsa3/CRA002497/CRR126595/CRR126595_f1.fastq.gz\tftp://download.big.ac.cn/gsa3/CRA002497/CRR126595/CRR126595_r2.fastq.gz\tftp://download.big.ac.cn/gsa3/CRA002497/CRR126596/CRR126596_f1.fastq.gz\tftp://download.big.ac.cn/gsa3/CRA002497/CRR126596/CRR126596_r2.fastq.gz\tftp://download.big.ac.cn/gsa3/CRA002497/CRR126597/CRR126597_f1.fastq.gz\tftp://download.big.ac.cn/gsa3/CRA002497/CRR126597/CRR126597_r2.fastq.gz\tftp://download.big.ac.cn/gsa3/CRA002497/CRR126598/CRR126598_f1.fastq.gz\tftp://download.big.ac.cn/gsa3/CRA002497/CRR126598/CRR126598_r2.fastq.gz\"\n",
        "\n",
        "  # Convert it to a list where each link is an element\n",
        "  \n",
        "  fastqs = links_raw.split()\n",
        "\n",
        "#sample specific metadata\n",
        "\n",
        "no_samples = 1\n",
        "\n",
        "condition = [\"covid infected, early recovery stage\"] * no_samples"
      ],
      "execution_count": 1,
      "outputs": []
    },
    {
      "cell_type": "code",
      "metadata": {
        "id": "5R3tPDqnoJUn"
      },
      "source": [
        "no_samples = 1\n",
        "\n",
        "fastqs_per_sample = [4, 8, 8] \n",
        "\n",
        "sample_id = samp_id\n",
        "\n",
        "database_id = [id] * no_samples\n",
        "\n",
        "tissue = [\"blood\"] * no_samples\n",
        "\n",
        "cell_type = [\"PBMCs\"] * no_samples\n",
        "\n",
        "species = [\"human\"] * no_samples\n",
        "\n",
        "technology = [\"10xv2\"] * no_samples\n",
        "\n",
        "paper = [\"Wen et al 2020\"] * no_samples\n",
        "\n",
        "figure = [\"Fig: all\"] * no_samples\n",
        "\n",
        "\n",
        "# Set string variables for kb functions\n",
        "\n",
        "species_kb = species[0]\n",
        "\n",
        "technology_kb = technology[0]\n",
        "\n"
      ],
      "execution_count": 2,
      "outputs": []
    },
    {
      "cell_type": "markdown",
      "metadata": {
        "id": "FPwL0-_-KSAw"
      },
      "source": [
        "# Imports and installs"
      ]
    },
    {
      "cell_type": "code",
      "metadata": {
        "colab": {
          "base_uri": "https://localhost:8080/"
        },
        "id": "1HSlUGZEp3oP",
        "outputId": "30652de6-0e05-4fb3-cf33-5419bce6a9bb"
      },
      "source": [
        "# install and import necessary software\n",
        "\n",
        "# Install kb and scanpy\n",
        "!pip -q install kb-python \n",
        "!pip -q install scanpy\n",
        "\n",
        "import re\n",
        "import os\n",
        "\n",
        "# Setup\n",
        "\n",
        "import anndata\n",
        "import pandas as pd\n",
        "import numpy as np\n",
        "import matplotlib.pyplot as plt\n",
        "import matplotlib as mpl\n",
        "import matplotlib.patches as mpatches\n",
        "import scanpy as sc\n",
        "from scipy import stats\n",
        "\n",
        "from collections import OrderedDict\n",
        "from sklearn.decomposition import TruncatedSVD\n",
        "from sklearn.manifold import TSNE\n",
        "from sklearn.preprocessing import scale\n",
        "\n",
        "from sklearn.cluster import KMeans\n",
        "from sklearn.preprocessing import normalize\n",
        "from sklearn.preprocessing import LabelEncoder\n",
        "from sklearn.neighbors import NeighborhoodComponentsAnalysis\n",
        "from matplotlib import cm\n",
        "from matplotlib.lines import Line2D\n",
        "\n",
        "def nd(arr):\n",
        "    return np.asarray(arr).reshape(-1)\n",
        "def yex(ax):\n",
        "    lims = [np.min([ax.get_xlim(), ax.get_ylim()]),\n",
        "            np.max([ax.get_xlim(), ax.get_ylim()])]\n",
        "\n",
        "    # now plot both limits against eachother\n",
        "    ax.plot(lims, lims, 'k-', alpha=0.75, zorder=0)\n",
        "    ax.set_aspect('equal')\n",
        "    ax.set_xlim(lims)\n",
        "    ax.set_ylim(lims)\n",
        "    return ax\n",
        "\n",
        "def trim_axs(axs, N):\n",
        "    \"\"\"little helper to massage the axs list to have correct length...\"\"\"\n",
        "    axs = axs.flat\n",
        "    for ax in axs[N:]:\n",
        "        ax.remove()\n",
        "    return axs[:N]\n",
        "\n",
        "import warnings\n",
        "warnings.filterwarnings('ignore')\n",
        "\n",
        "fsize=20\n",
        "\n",
        "plt.rcParams.update({'font.size': fsize})\n",
        "%config InlineBackend.figure_format = 'retina'"
      ],
      "execution_count": 3,
      "outputs": [
        {
          "output_type": "stream",
          "text": [
            "\u001b[K     |████████████████████████████████| 59.1MB 105kB/s \n",
            "\u001b[K     |████████████████████████████████| 13.2MB 40.9MB/s \n",
            "\u001b[K     |████████████████████████████████| 51kB 4.6MB/s \n",
            "\u001b[K     |████████████████████████████████| 10.3MB 47.7MB/s \n",
            "\u001b[K     |████████████████████████████████| 133kB 56.3MB/s \n",
            "\u001b[K     |████████████████████████████████| 112kB 53.4MB/s \n",
            "\u001b[K     |████████████████████████████████| 81kB 7.8MB/s \n",
            "\u001b[K     |████████████████████████████████| 71kB 7.4MB/s \n",
            "\u001b[K     |████████████████████████████████| 1.2MB 43.8MB/s \n",
            "\u001b[?25h  Building wheel for loompy (setup.py) ... \u001b[?25l\u001b[?25hdone\n",
            "  Building wheel for numpy-groupies (setup.py) ... \u001b[?25l\u001b[?25hdone\n",
            "  Building wheel for sinfo (setup.py) ... \u001b[?25l\u001b[?25hdone\n",
            "  Building wheel for umap-learn (setup.py) ... \u001b[?25l\u001b[?25hdone\n",
            "  Building wheel for pynndescent (setup.py) ... \u001b[?25l\u001b[?25hdone\n"
          ],
          "name": "stdout"
        }
      ]
    },
    {
      "cell_type": "markdown",
      "metadata": {
        "id": "7V6FbosVrvP4"
      },
      "source": [
        "# Downloads: (bam (if bam) and index"
      ]
    },
    {
      "cell_type": "code",
      "metadata": {
        "id": "q46hw4zqKUPS"
      },
      "source": [
        "if bam:\n",
        "\n",
        "  # Install bamtofastq from 10x website (only bam files available)\n",
        "  !wget http://cf.10xgenomics.com/misc/bamtofastq-1.2.0\n",
        "  !chmod +x bamtofastq-1.2.0\n",
        "  # Download the bam file\n",
        "  !wget -- continue ${BAM_LINK}\n",
        "\n",
        "\n"
      ],
      "execution_count": 4,
      "outputs": []
    },
    {
      "cell_type": "code",
      "metadata": {
        "id": "tDQlrjtqNF0m"
      },
      "source": [
        "if bam:\n",
        "  # Convert to fastq\n",
        "  !./bamtofastq-1.2.0 --reads-per-fastq=500000000 $bam_filename ./fastqs\\\n",
        "\n",
        "  # Remove original bam file to save space\n",
        "  !rm $bam_filename\n"
      ],
      "execution_count": 5,
      "outputs": []
    },
    {
      "cell_type": "code",
      "metadata": {
        "id": "SXRDRphvqcLe"
      },
      "source": [
        "# Store fastq names on a list\n",
        "\n",
        "if bam:\n",
        "  # cd into fastqs folder\n",
        "  %cd /content/fastqs\n",
        "\n",
        "  #store the name of the folder generated by bamtofastq\n",
        "  _filename = os.listdir()[0]\n",
        "\n",
        "  # cd into that folder\n",
        "  %cd $_filename\n",
        "\n",
        "  # store fastq names in a list\n",
        "  fastqs = os.listdir()\n",
        "\n",
        "\n",
        "  # Remove I1 and R3 reads not relevant for our analysis\n",
        "\n",
        "  # Initialize list containing elements to remove\n",
        "  remov_elem = []\n",
        "\n",
        "  print (\"\\n\\nThis is the complete list of fastqs:\\n -----------\")\n",
        "  for elem in fastqs:\n",
        "    print (elem)\n",
        "\n",
        "  # Search index (I1 or R3) fastqs and remove them from list\n",
        "  for elem in fastqs:\n",
        "    if re.search(\"_R3_\", elem) or re.search(\"_I1_\", elem):\n",
        "      remov_elem = remov_elem +[elem]\n",
        "\n",
        "  fastqs = [elem for elem in fastqs if elem not in remov_elem] \n",
        "\n",
        "  print (\"\\n\\nThis is the filtered list of fastqs:\\n -----------\")\n",
        "  for elem in fastqs:\n",
        "    print (elem)\n"
      ],
      "execution_count": 6,
      "outputs": []
    },
    {
      "cell_type": "code",
      "metadata": {
        "id": "ZnFcqcSgjLBw"
      },
      "source": [
        "# Remove fastqs that wont be analyzed to save space\n",
        "if bam:\n",
        "  for elem in remov_elem:\n",
        "    !rm $elem"
      ],
      "execution_count": 7,
      "outputs": []
    },
    {
      "cell_type": "code",
      "metadata": {
        "id": "FLVS8aB7Dm6J"
      },
      "source": [
        "if bam:\n",
        "  # sort fastqs alphabetically to get R1 and R2 in order\n",
        "  fastqs = sorted(fastqs)"
      ],
      "execution_count": 8,
      "outputs": []
    },
    {
      "cell_type": "code",
      "metadata": {
        "id": "FE9gWbQgpBfR",
        "outputId": "7f49b67c-929b-4c16-9a18-ce753c60d022",
        "colab": {
          "base_uri": "https://localhost:8080/"
        }
      },
      "source": [
        "# wget fastqs from non ffq links in fastqs folder\n",
        "if not bam and not fastq_ffqlinks:\n",
        "  !mkdir fastqs\n",
        "  %cd fastqs\n",
        "  while len(os.listdir()) != len(fastqs):\n",
        "    for link in fastqs:\n",
        "      !wget $link --continue\n",
        "\n",
        "  # update fastqs variable with name of files\n",
        "  fastqs = sorted(os.listdir())"
      ],
      "execution_count": 9,
      "outputs": [
        {
          "output_type": "stream",
          "text": [
            "/content/fastqs\n",
            "--2021-05-04 07:51:43--  ftp://download.big.ac.cn/gsa3/CRA002497/CRR126587/CRR126587_f1.fastq.gz\n",
            "           => ‘CRR126587_f1.fastq.gz’\n",
            "Resolving download.big.ac.cn (download.big.ac.cn)... 124.16.164.229\n",
            "Connecting to download.big.ac.cn (download.big.ac.cn)|124.16.164.229|:21... connected.\n",
            "Logging in as anonymous ... Logged in!\n",
            "==> SYST ... done.    ==> PWD ... done.\n",
            "==> TYPE I ... done.  ==> CWD (1) /gsa3/CRA002497/CRR126587 ... done.\n",
            "==> SIZE CRR126587_f1.fastq.gz ... 2530162178\n",
            "==> PASV ... done.    ==> RETR CRR126587_f1.fastq.gz ... done.\n",
            "Length: 2530162178 (2.4G) (unauthoritative)\n",
            "\n",
            "CRR126587_f1.fastq. 100%[===================>]   2.36G  7.02MB/s    in 4m 23s  \n",
            "\n",
            "2021-05-04 07:56:11 (9.16 MB/s) - ‘CRR126587_f1.fastq.gz’ saved [2530162178]\n",
            "\n",
            "--2021-05-04 07:56:11--  ftp://download.big.ac.cn/gsa3/CRA002497/CRR126587/CRR126587_r2.fastq.gz\n",
            "           => ‘CRR126587_r2.fastq.gz’\n",
            "Resolving download.big.ac.cn (download.big.ac.cn)... 124.16.164.229\n",
            "Connecting to download.big.ac.cn (download.big.ac.cn)|124.16.164.229|:21... connected.\n",
            "Logging in as anonymous ... Logged in!\n",
            "==> SYST ... done.    ==> PWD ... done.\n",
            "==> TYPE I ... done.  ==> CWD (1) /gsa3/CRA002497/CRR126587 ... done.\n",
            "==> SIZE CRR126587_r2.fastq.gz ... 9236282497\n",
            "==> PASV ... done.    ==> RETR CRR126587_r2.fastq.gz ... done.\n",
            "Length: 9236282497 (8.6G) (unauthoritative)\n",
            "\n",
            "CRR126587_r2.fastq. 100%[===================>]   8.60G  7.44MB/s    in 21m 21s \n",
            "\n",
            "2021-05-04 08:17:34 (6.88 MB/s) - Control connection closed.\n",
            "Retrying.\n",
            "\n",
            "--2021-05-04 08:32:35--  ftp://download.big.ac.cn/gsa3/CRA002497/CRR126587/CRR126587_r2.fastq.gz\n",
            "  (try: 2) => ‘CRR126587_r2.fastq.gz’\n",
            "Connecting to download.big.ac.cn (download.big.ac.cn)|124.16.164.229|:21... connected.\n",
            "Logging in as anonymous ... Logged in!\n",
            "==> SYST ... done.    ==> PWD ... done.\n",
            "==> TYPE I ... done.  ==> CWD (1) /gsa3/CRA002497/CRR126587 ... done.\n",
            "==> SIZE CRR126587_r2.fastq.gz ... 9236282497\n",
            "File has already been retrieved.\n",
            "2021-05-04 08:32:37 (0.00 B/s) - ‘CRR126587_r2.fastq.gz’ saved [9236282497]\n",
            "\n",
            "--2021-05-04 08:32:37--  ftp://download.big.ac.cn/gsa3/CRA002497/CRR126588/CRR126588_f1.fastq.gz\n",
            "           => ‘CRR126588_f1.fastq.gz’\n",
            "Resolving download.big.ac.cn (download.big.ac.cn)... 124.16.164.229\n",
            "Connecting to download.big.ac.cn (download.big.ac.cn)|124.16.164.229|:21... connected.\n",
            "Logging in as anonymous ... Logged in!\n",
            "==> SYST ... done.    ==> PWD ... done.\n",
            "==> TYPE I ... done.  ==> CWD (1) /gsa3/CRA002497/CRR126588 ... done.\n",
            "==> SIZE CRR126588_f1.fastq.gz ... 2055236884\n",
            "==> PASV ... done.    ==> RETR CRR126588_f1.fastq.gz ... done.\n",
            "Length: 2055236884 (1.9G) (unauthoritative)\n",
            "\n",
            "CRR126588_f1.fastq. 100%[===================>]   1.91G  13.8MB/s    in 2m 41s  \n",
            "\n",
            "2021-05-04 08:35:21 (12.1 MB/s) - ‘CRR126588_f1.fastq.gz’ saved [2055236884]\n",
            "\n",
            "--2021-05-04 08:35:21--  ftp://download.big.ac.cn/gsa3/CRA002497/CRR126588/CRR126588_r2.fastq.gz\n",
            "           => ‘CRR126588_r2.fastq.gz’\n",
            "Resolving download.big.ac.cn (download.big.ac.cn)... 124.16.164.229\n",
            "Connecting to download.big.ac.cn (download.big.ac.cn)|124.16.164.229|:21... connected.\n",
            "Logging in as anonymous ... Logged in!\n",
            "==> SYST ... done.    ==> PWD ... done.\n",
            "==> TYPE I ... done.  ==> CWD (1) /gsa3/CRA002497/CRR126588 ... done.\n",
            "==> SIZE CRR126588_r2.fastq.gz ... 7469230545\n",
            "==> PASV ... done.    ==> RETR CRR126588_r2.fastq.gz ... done.\n",
            "Length: 7469230545 (7.0G) (unauthoritative)\n",
            "\n",
            "CRR126588_r2.fastq. 100%[===================>]   6.96G  13.2MB/s    in 9m 15s  \n",
            "\n",
            "2021-05-04 08:44:38 (12.8 MB/s) - ‘CRR126588_r2.fastq.gz’ saved [7469230545]\n",
            "\n",
            "--2021-05-04 08:44:39--  ftp://download.big.ac.cn/gsa3/CRA002497/CRR126589/CRR126589_f1.fastq.gz\n",
            "           => ‘CRR126589_f1.fastq.gz’\n",
            "Resolving download.big.ac.cn (download.big.ac.cn)... 124.16.164.229\n",
            "Connecting to download.big.ac.cn (download.big.ac.cn)|124.16.164.229|:21... connected.\n",
            "Logging in as anonymous ... Logged in!\n",
            "==> SYST ... done.    ==> PWD ... done.\n",
            "==> TYPE I ... done.  ==> CWD (1) /gsa3/CRA002497/CRR126589 ... done.\n",
            "==> SIZE CRR126589_f1.fastq.gz ... 2116496324\n",
            "==> PASV ... done.    ==> RETR CRR126589_f1.fastq.gz ... done.\n",
            "Length: 2116496324 (2.0G) (unauthoritative)\n",
            "\n",
            "CRR126589_f1.fastq. 100%[===================>]   1.97G  12.0MB/s    in 3m 7s   \n",
            "\n",
            "2021-05-04 08:47:48 (10.8 MB/s) - ‘CRR126589_f1.fastq.gz’ saved [2116496324]\n",
            "\n",
            "--2021-05-04 08:47:48--  ftp://download.big.ac.cn/gsa3/CRA002497/CRR126589/CRR126589_r2.fastq.gz\n",
            "           => ‘CRR126589_r2.fastq.gz’\n",
            "Resolving download.big.ac.cn (download.big.ac.cn)... 124.16.164.229\n",
            "Connecting to download.big.ac.cn (download.big.ac.cn)|124.16.164.229|:21... connected.\n",
            "Logging in as anonymous ... Logged in!\n",
            "==> SYST ... done.    ==> PWD ... done.\n",
            "==> TYPE I ... done.  ==> CWD (1) /gsa3/CRA002497/CRR126589 ... done.\n",
            "==> SIZE CRR126589_r2.fastq.gz ... 7513485592\n",
            "==> PASV ... done.    ==> RETR CRR126589_r2.fastq.gz ... done.\n",
            "Length: 7513485592 (7.0G) (unauthoritative)\n",
            "\n",
            "CRR126589_r2.fastq. 100%[===================>]   7.00G  12.3MB/s    in 8m 44s  \n",
            "\n",
            "2021-05-04 08:56:35 (13.7 MB/s) - ‘CRR126589_r2.fastq.gz’ saved [7513485592]\n",
            "\n",
            "--2021-05-04 08:56:35--  ftp://download.big.ac.cn/gsa3/CRA002497/CRR126590/CRR126590_f1.fastq.gz\n",
            "           => ‘CRR126590_f1.fastq.gz’\n",
            "Resolving download.big.ac.cn (download.big.ac.cn)... 124.16.164.229\n",
            "Connecting to download.big.ac.cn (download.big.ac.cn)|124.16.164.229|:21... connected.\n",
            "Logging in as anonymous ... Logged in!\n",
            "==> SYST ... done.    ==> PWD ... done.\n",
            "==> TYPE I ... done.  ==> CWD (1) /gsa3/CRA002497/CRR126590 ... done.\n",
            "==> SIZE CRR126590_f1.fastq.gz ... 2726761121\n",
            "==> PASV ... done.    ==> RETR CRR126590_f1.fastq.gz ... done.\n",
            "Length: 2726761121 (2.5G) (unauthoritative)\n",
            "\n",
            "CRR126590_f1.fastq. 100%[===================>]   2.54G  16.0MB/s    in 2m 45s  \n",
            "\n",
            "2021-05-04 08:59:23 (15.7 MB/s) - ‘CRR126590_f1.fastq.gz’ saved [2726761121]\n",
            "\n",
            "--2021-05-04 08:59:23--  ftp://download.big.ac.cn/gsa3/CRA002497/CRR126590/CRR126590_r2.fastq.gz\n",
            "           => ‘CRR126590_r2.fastq.gz’\n",
            "Resolving download.big.ac.cn (download.big.ac.cn)... 124.16.164.229\n",
            "Connecting to download.big.ac.cn (download.big.ac.cn)|124.16.164.229|:21... connected.\n",
            "Logging in as anonymous ... Logged in!\n",
            "==> SYST ... done.    ==> PWD ... done.\n",
            "==> TYPE I ... done.  ==> CWD (1) /gsa3/CRA002497/CRR126590 ... done.\n",
            "==> SIZE CRR126590_r2.fastq.gz ... 9895965838\n",
            "==> PASV ... done.    ==> RETR CRR126590_r2.fastq.gz ... done.\n",
            "Length: 9895965838 (9.2G) (unauthoritative)\n",
            "\n",
            "CRR126590_r2.fastq. 100%[===================>]   9.22G  14.5MB/s    in 11m 51s \n",
            "\n",
            "2021-05-04 09:11:17 (13.3 MB/s) - Control connection closed.\n",
            "Retrying.\n",
            "\n",
            "--2021-05-04 09:26:18--  ftp://download.big.ac.cn/gsa3/CRA002497/CRR126590/CRR126590_r2.fastq.gz\n",
            "  (try: 2) => ‘CRR126590_r2.fastq.gz’\n",
            "Connecting to download.big.ac.cn (download.big.ac.cn)|124.16.164.229|:21... connected.\n",
            "Logging in as anonymous ... Logged in!\n",
            "==> SYST ... done.    ==> PWD ... done.\n",
            "==> TYPE I ... done.  ==> CWD (1) /gsa3/CRA002497/CRR126590 ... done.\n",
            "==> SIZE CRR126590_r2.fastq.gz ... 9895965838\n",
            "File has already been retrieved.\n",
            "2021-05-04 09:26:20 (0.00 B/s) - ‘CRR126590_r2.fastq.gz’ saved [9895965838]\n",
            "\n",
            "--2021-05-04 09:26:20--  ftp://download.big.ac.cn/gsa3/CRA002497/CRR126591/CRR126591_f1.fastq.gz\n",
            "           => ‘CRR126591_f1.fastq.gz’\n",
            "Resolving download.big.ac.cn (download.big.ac.cn)... 124.16.164.229\n",
            "Connecting to download.big.ac.cn (download.big.ac.cn)|124.16.164.229|:21... connected.\n",
            "Logging in as anonymous ... Logged in!\n",
            "==> SYST ... done.    ==> PWD ... done.\n",
            "==> TYPE I ... done.  ==> CWD (1) /gsa3/CRA002497/CRR126591 ... done.\n",
            "==> SIZE CRR126591_f1.fastq.gz ... 1542524606\n",
            "==> PASV ... done.    ==> RETR CRR126591_f1.fastq.gz ... done.\n",
            "Length: 1542524606 (1.4G) (unauthoritative)\n",
            "\n",
            "CRR126591_f1.fastq. 100%[===================>]   1.44G  11.7MB/s    in 1m 47s  \n",
            "\n",
            "2021-05-04 09:28:10 (13.7 MB/s) - ‘CRR126591_f1.fastq.gz’ saved [1542524606]\n",
            "\n",
            "--2021-05-04 09:28:10--  ftp://download.big.ac.cn/gsa3/CRA002497/CRR126591/CRR126591_r2.fastq.gz\n",
            "           => ‘CRR126591_r2.fastq.gz’\n",
            "Resolving download.big.ac.cn (download.big.ac.cn)... 124.16.164.229\n",
            "Connecting to download.big.ac.cn (download.big.ac.cn)|124.16.164.229|:21... connected.\n",
            "Logging in as anonymous ... Logged in!\n",
            "==> SYST ... done.    ==> PWD ... done.\n",
            "==> TYPE I ... done.  ==> CWD (1) /gsa3/CRA002497/CRR126591 ... done.\n",
            "==> SIZE CRR126591_r2.fastq.gz ... 1570656336\n",
            "==> PASV ... done.    ==> RETR CRR126591_r2.fastq.gz ... done.\n",
            "Length: 1570656336 (1.5G) (unauthoritative)\n",
            "\n",
            "CRR126591_r2.fastq. 100%[===================>]   1.46G  13.7MB/s    in 5m 18s  \n",
            "\n",
            "2021-05-04 09:33:30 (4.71 MB/s) - ‘CRR126591_r2.fastq.gz’ saved [1570656336]\n",
            "\n",
            "--2021-05-04 09:33:30--  ftp://download.big.ac.cn/gsa3/CRA002497/CRR126592/CRR126592_f1.fastq.gz\n",
            "           => ‘CRR126592_f1.fastq.gz’\n",
            "Resolving download.big.ac.cn (download.big.ac.cn)... 124.16.164.229\n",
            "Connecting to download.big.ac.cn (download.big.ac.cn)|124.16.164.229|:21... connected.\n",
            "Logging in as anonymous ... Logged in!\n",
            "==> SYST ... done.    ==> PWD ... done.\n",
            "==> TYPE I ... done.  ==> CWD (1) /gsa3/CRA002497/CRR126592 ... done.\n",
            "==> SIZE CRR126592_f1.fastq.gz ... 1601403655\n",
            "==> PASV ... done.    ==> RETR CRR126592_f1.fastq.gz ... done.\n",
            "Length: 1601403655 (1.5G) (unauthoritative)\n",
            "\n",
            "CRR126592_f1.fastq. 100%[===================>]   1.49G  14.1MB/s    in 2m 37s  \n",
            "\n",
            "2021-05-04 09:36:10 (9.72 MB/s) - ‘CRR126592_f1.fastq.gz’ saved [1601403655]\n",
            "\n",
            "--2021-05-04 09:36:10--  ftp://download.big.ac.cn/gsa3/CRA002497/CRR126592/CRR126592_r2.fastq.gz\n",
            "           => ‘CRR126592_r2.fastq.gz’\n",
            "Resolving download.big.ac.cn (download.big.ac.cn)... 124.16.164.229\n",
            "Connecting to download.big.ac.cn (download.big.ac.cn)|124.16.164.229|:21... connected.\n",
            "Logging in as anonymous ... Logged in!\n",
            "==> SYST ... done.    ==> PWD ... done.\n",
            "==> TYPE I ... done.  ==> CWD (1) /gsa3/CRA002497/CRR126592 ... done.\n",
            "==> SIZE CRR126592_r2.fastq.gz ... 1598349319\n",
            "==> PASV ... done.    ==> RETR CRR126592_r2.fastq.gz ... done.\n",
            "Length: 1598349319 (1.5G) (unauthoritative)\n",
            "\n",
            "CRR126592_r2.fastq. 100%[===================>]   1.49G  16.2MB/s    in 1m 49s  \n",
            "\n",
            "2021-05-04 09:38:02 (14.0 MB/s) - ‘CRR126592_r2.fastq.gz’ saved [1598349319]\n",
            "\n",
            "--2021-05-04 09:38:03--  ftp://download.big.ac.cn/gsa3/CRA002497/CRR126593/CRR126593_f1.fastq.gz\n",
            "           => ‘CRR126593_f1.fastq.gz’\n",
            "Resolving download.big.ac.cn (download.big.ac.cn)... 124.16.164.229\n",
            "Connecting to download.big.ac.cn (download.big.ac.cn)|124.16.164.229|:21... connected.\n",
            "Logging in as anonymous ... Logged in!\n",
            "==> SYST ... done.    ==> PWD ... done.\n",
            "==> TYPE I ... done.  ==> CWD (1) /gsa3/CRA002497/CRR126593 ... done.\n",
            "==> SIZE CRR126593_f1.fastq.gz ... 1847860137\n",
            "==> PASV ... done.    ==> RETR CRR126593_f1.fastq.gz ... done.\n",
            "Length: 1847860137 (1.7G) (unauthoritative)\n",
            "\n",
            "CRR126593_f1.fastq. 100%[===================>]   1.72G  12.5MB/s    in 2m 8s   \n",
            "\n",
            "2021-05-04 09:40:13 (13.8 MB/s) - ‘CRR126593_f1.fastq.gz’ saved [1847860137]\n",
            "\n",
            "--2021-05-04 09:40:13--  ftp://download.big.ac.cn/gsa3/CRA002497/CRR126593/CRR126593_r2.fastq.gz\n",
            "           => ‘CRR126593_r2.fastq.gz’\n",
            "Resolving download.big.ac.cn (download.big.ac.cn)... 124.16.164.229\n",
            "Connecting to download.big.ac.cn (download.big.ac.cn)|124.16.164.229|:21... connected.\n",
            "Logging in as anonymous ... Logged in!\n",
            "==> SYST ... done.    ==> PWD ... done.\n",
            "==> TYPE I ... done.  ==> CWD (1) /gsa3/CRA002497/CRR126593 ... done.\n",
            "==> SIZE CRR126593_r2.fastq.gz ... 1835573638\n",
            "==> PASV ... done.    ==> RETR CRR126593_r2.fastq.gz ... done.\n",
            "Length: 1835573638 (1.7G) (unauthoritative)\n",
            "\n",
            "CRR126593_r2.fastq. 100%[===================>]   1.71G  16.4MB/s    in 1m 53s  \n",
            "\n",
            "2021-05-04 09:42:09 (15.5 MB/s) - ‘CRR126593_r2.fastq.gz’ saved [1835573638]\n",
            "\n",
            "--2021-05-04 09:42:09--  ftp://download.big.ac.cn/gsa3/CRA002497/CRR126594/CRR126594_f1.fastq.gz\n",
            "           => ‘CRR126594_f1.fastq.gz’\n",
            "Resolving download.big.ac.cn (download.big.ac.cn)... 124.16.164.229\n",
            "Connecting to download.big.ac.cn (download.big.ac.cn)|124.16.164.229|:21... connected.\n",
            "Logging in as anonymous ... Logged in!\n",
            "==> SYST ... done.    ==> PWD ... done.\n",
            "==> TYPE I ... done.  ==> CWD (1) /gsa3/CRA002497/CRR126594 ... done.\n",
            "==> SIZE CRR126594_f1.fastq.gz ... 1707368224\n",
            "==> PASV ... done.    ==> RETR CRR126594_f1.fastq.gz ... done.\n",
            "Length: 1707368224 (1.6G) (unauthoritative)\n",
            "\n",
            "CRR126594_f1.fastq. 100%[===================>]   1.59G  16.5MB/s    in 1m 51s  \n",
            "\n",
            "2021-05-04 09:44:03 (14.6 MB/s) - ‘CRR126594_f1.fastq.gz’ saved [1707368224]\n",
            "\n",
            "--2021-05-04 09:44:03--  ftp://download.big.ac.cn/gsa3/CRA002497/CRR126594/CRR126594_r2.fastq.gz\n",
            "           => ‘CRR126594_r2.fastq.gz’\n",
            "Resolving download.big.ac.cn (download.big.ac.cn)... 124.16.164.229\n",
            "Connecting to download.big.ac.cn (download.big.ac.cn)|124.16.164.229|:21... connected.\n",
            "Logging in as anonymous ... Logged in!\n",
            "==> SYST ... done.    ==> PWD ... done.\n",
            "==> TYPE I ... done.  ==> CWD (1) /gsa3/CRA002497/CRR126594 ... done.\n",
            "==> SIZE CRR126594_r2.fastq.gz ... 1707808655\n",
            "==> PASV ... done.    ==> RETR CRR126594_r2.fastq.gz ... done.\n",
            "Length: 1707808655 (1.6G) (unauthoritative)\n",
            "\n",
            "CRR126594_r2.fastq. 100%[===================>]   1.59G  16.0MB/s    in 1m 43s  \n",
            "\n",
            "2021-05-04 09:45:48 (15.8 MB/s) - ‘CRR126594_r2.fastq.gz’ saved [1707808655]\n",
            "\n",
            "--2021-05-04 09:45:48--  ftp://download.big.ac.cn/gsa3/CRA002497/CRR126595/CRR126595_f1.fastq.gz\n",
            "           => ‘CRR126595_f1.fastq.gz’\n",
            "Resolving download.big.ac.cn (download.big.ac.cn)... 124.16.164.229\n",
            "Connecting to download.big.ac.cn (download.big.ac.cn)|124.16.164.229|:21... connected.\n",
            "Logging in as anonymous ... Logged in!\n",
            "==> SYST ... done.    ==> PWD ... done.\n",
            "==> TYPE I ... done.  ==> CWD (1) /gsa3/CRA002497/CRR126595 ... done.\n",
            "==> SIZE CRR126595_f1.fastq.gz ... 2108251551\n",
            "==> PASV ... done.    ==> RETR CRR126595_f1.fastq.gz ... done.\n",
            "Length: 2108251551 (2.0G) (unauthoritative)\n",
            "\n",
            "CRR126595_f1.fastq. 100%[===================>]   1.96G  15.3MB/s    in 2m 26s  \n",
            "\n",
            "2021-05-04 09:48:18 (13.8 MB/s) - ‘CRR126595_f1.fastq.gz’ saved [2108251551]\n",
            "\n",
            "--2021-05-04 09:48:18--  ftp://download.big.ac.cn/gsa3/CRA002497/CRR126595/CRR126595_r2.fastq.gz\n",
            "           => ‘CRR126595_r2.fastq.gz’\n",
            "Resolving download.big.ac.cn (download.big.ac.cn)... 124.16.164.229\n",
            "Connecting to download.big.ac.cn (download.big.ac.cn)|124.16.164.229|:21... connected.\n",
            "Logging in as anonymous ... Logged in!\n",
            "==> SYST ... done.    ==> PWD ... done.\n",
            "==> TYPE I ... done.  ==> CWD (1) /gsa3/CRA002497/CRR126595 ... done.\n",
            "==> SIZE CRR126595_r2.fastq.gz ... 2226646508\n",
            "==> PASV ... done.    ==> RETR CRR126595_r2.fastq.gz ... done.\n",
            "Length: 2226646508 (2.1G) (unauthoritative)\n",
            "\n",
            "CRR126595_r2.fastq. 100%[===================>]   2.07G  13.2MB/s    in 2m 49s  \n",
            "\n",
            "2021-05-04 09:51:10 (12.5 MB/s) - ‘CRR126595_r2.fastq.gz’ saved [2226646508]\n",
            "\n",
            "--2021-05-04 09:51:10--  ftp://download.big.ac.cn/gsa3/CRA002497/CRR126596/CRR126596_f1.fastq.gz\n",
            "           => ‘CRR126596_f1.fastq.gz’\n",
            "Resolving download.big.ac.cn (download.big.ac.cn)... 124.16.164.229\n",
            "Connecting to download.big.ac.cn (download.big.ac.cn)|124.16.164.229|:21... connected.\n",
            "Logging in as anonymous ... Logged in!\n",
            "==> SYST ... done.    ==> PWD ... done.\n",
            "==> TYPE I ... done.  ==> CWD (1) /gsa3/CRA002497/CRR126596 ... done.\n",
            "==> SIZE CRR126596_f1.fastq.gz ... 1898769023\n",
            "==> PASV ... done.    ==> RETR CRR126596_f1.fastq.gz ... done.\n",
            "Length: 1898769023 (1.8G) (unauthoritative)\n",
            "\n",
            "CRR126596_f1.fastq. 100%[===================>]   1.77G  6.23MB/s    in 3m 30s  \n",
            "\n",
            "2021-05-04 09:54:43 (8.61 MB/s) - ‘CRR126596_f1.fastq.gz’ saved [1898769023]\n",
            "\n",
            "--2021-05-04 09:54:43--  ftp://download.big.ac.cn/gsa3/CRA002497/CRR126596/CRR126596_r2.fastq.gz\n",
            "           => ‘CRR126596_r2.fastq.gz’\n",
            "Resolving download.big.ac.cn (download.big.ac.cn)... 124.16.164.229\n",
            "Connecting to download.big.ac.cn (download.big.ac.cn)|124.16.164.229|:21... connected.\n",
            "Logging in as anonymous ... Logged in!\n",
            "==> SYST ... done.    ==> PWD ... done.\n",
            "==> TYPE I ... done.  ==> CWD (1) /gsa3/CRA002497/CRR126596 ... done.\n",
            "==> SIZE CRR126596_r2.fastq.gz ... 1974805440\n",
            "==> PASV ... done.    ==> RETR CRR126596_r2.fastq.gz ... done.\n",
            "Length: 1974805440 (1.8G) (unauthoritative)\n",
            "\n",
            "CRR126596_r2.fastq. 100%[===================>]   1.84G  15.4MB/s    in 2m 19s  \n",
            "\n",
            "2021-05-04 09:57:05 (13.5 MB/s) - ‘CRR126596_r2.fastq.gz’ saved [1974805440]\n",
            "\n",
            "--2021-05-04 09:57:05--  ftp://download.big.ac.cn/gsa3/CRA002497/CRR126597/CRR126597_f1.fastq.gz\n",
            "           => ‘CRR126597_f1.fastq.gz’\n",
            "Resolving download.big.ac.cn (download.big.ac.cn)... 124.16.164.229\n",
            "Connecting to download.big.ac.cn (download.big.ac.cn)|124.16.164.229|:21... connected.\n",
            "Logging in as anonymous ... Logged in!\n",
            "==> SYST ... done.    ==> PWD ... done.\n",
            "==> TYPE I ... done.  ==> CWD (1) /gsa3/CRA002497/CRR126597 ... done.\n",
            "==> SIZE CRR126597_f1.fastq.gz ... 1950380117\n",
            "==> PASV ... done.    ==> RETR CRR126597_f1.fastq.gz ... done.\n",
            "Length: 1950380117 (1.8G) (unauthoritative)\n",
            "\n",
            "CRR126597_f1.fastq. 100%[===================>]   1.82G  14.7MB/s    in 2m 37s  \n",
            "\n",
            "2021-05-04 09:59:44 (11.8 MB/s) - ‘CRR126597_f1.fastq.gz’ saved [1950380117]\n",
            "\n",
            "--2021-05-04 09:59:44--  ftp://download.big.ac.cn/gsa3/CRA002497/CRR126597/CRR126597_r2.fastq.gz\n",
            "           => ‘CRR126597_r2.fastq.gz’\n",
            "Resolving download.big.ac.cn (download.big.ac.cn)... 124.16.164.229\n",
            "Connecting to download.big.ac.cn (download.big.ac.cn)|124.16.164.229|:21... connected.\n",
            "Logging in as anonymous ... Logged in!\n",
            "==> SYST ... done.    ==> PWD ... done.\n",
            "==> TYPE I ... done.  ==> CWD (1) /gsa3/CRA002497/CRR126597 ... done.\n",
            "==> SIZE CRR126597_r2.fastq.gz ... 2058605947\n",
            "==> PASV ... done.    ==> RETR CRR126597_r2.fastq.gz ... done.\n",
            "Length: 2058605947 (1.9G) (unauthoritative)\n",
            "\n",
            "CRR126597_r2.fastq. 100%[===================>]   1.92G  15.2MB/s    in 2m 33s  \n",
            "\n",
            "2021-05-04 10:02:20 (12.8 MB/s) - ‘CRR126597_r2.fastq.gz’ saved [2058605947]\n",
            "\n",
            "--2021-05-04 10:02:20--  ftp://download.big.ac.cn/gsa3/CRA002497/CRR126598/CRR126598_f1.fastq.gz\n",
            "           => ‘CRR126598_f1.fastq.gz’\n",
            "Resolving download.big.ac.cn (download.big.ac.cn)... 124.16.164.229\n",
            "Connecting to download.big.ac.cn (download.big.ac.cn)|124.16.164.229|:21... connected.\n",
            "Logging in as anonymous ... Logged in!\n",
            "==> SYST ... done.    ==> PWD ... done.\n",
            "==> TYPE I ... done.  ==> CWD (1) /gsa3/CRA002497/CRR126598 ... done.\n",
            "==> SIZE CRR126598_f1.fastq.gz ... 1698765277\n",
            "==> PASV ... done.    ==> RETR CRR126598_f1.fastq.gz ... done.\n",
            "Length: 1698765277 (1.6G) (unauthoritative)\n",
            "\n",
            "CRR126598_f1.fastq. 100%[===================>]   1.58G  15.8MB/s    in 1m 50s  \n",
            "\n",
            "2021-05-04 10:04:13 (14.7 MB/s) - ‘CRR126598_f1.fastq.gz’ saved [1698765277]\n",
            "\n",
            "--2021-05-04 10:04:13--  ftp://download.big.ac.cn/gsa3/CRA002497/CRR126598/CRR126598_r2.fastq.gz\n",
            "           => ‘CRR126598_r2.fastq.gz’\n",
            "Resolving download.big.ac.cn (download.big.ac.cn)... 124.16.164.229\n",
            "Connecting to download.big.ac.cn (download.big.ac.cn)|124.16.164.229|:21... connected.\n",
            "Logging in as anonymous ... Logged in!\n",
            "==> SYST ... done.    ==> PWD ... done.\n",
            "==> TYPE I ... done.  ==> CWD (1) /gsa3/CRA002497/CRR126598 ... done.\n",
            "==> SIZE CRR126598_r2.fastq.gz ... 1789593618\n",
            "==> PASV ... done.    ==> RETR CRR126598_r2.fastq.gz ... done.\n",
            "Length: 1789593618 (1.7G) (unauthoritative)\n",
            "\n",
            "CRR126598_r2.fastq. 100%[===================>]   1.67G  8.44MB/s    in 2m 42s  \n",
            "\n",
            "2021-05-04 10:06:58 (10.5 MB/s) - ‘CRR126598_r2.fastq.gz’ saved [1789593618]\n",
            "\n"
          ],
          "name": "stdout"
        }
      ]
    },
    {
      "cell_type": "code",
      "metadata": {
        "id": "PC9oETW1pE9t",
        "colab": {
          "base_uri": "https://localhost:8080/"
        },
        "outputId": "27d2d25e-d13c-4bfa-990b-1f71a3246f32"
      },
      "source": [
        "if bam:\n",
        "  # Download the corresponding Kallisto index to folder containing fastqs\n",
        "  !kb ref -d $species_kb -i index.idx -g t2g.txt -f1 transcriptome.fasta\n",
        "\n",
        "if not bam and fastq_ffqlinks:\n",
        "  %cd /content\n",
        "\n",
        "  # Download the corresponding Kallisto index to content folder\n",
        "  !kb ref -d $species_kb -i index.idx -g t2g.txt -f1 transcriptome.fasta\n",
        "\n",
        "if not bam and not fastq_ffqlinks:\n",
        "  %cd /content/fastqs\n",
        "\n",
        "  # Download the corresponding Kallisto index to fastq folder\n",
        "  !kb ref -d $species_kb -i index.idx -g t2g.txt -f1 transcriptome.fasta"
      ],
      "execution_count": 10,
      "outputs": [
        {
          "output_type": "stream",
          "text": [
            "/content/fastqs\n",
            "[2021-05-04 10:07:01,608]    INFO Downloading files for human from https://caltech.box.com/shared/static/v1nm7lpnqz5syh8dyzdk2zs8bglncfib.gz to tmp/v1nm7lpnqz5syh8dyzdk2zs8bglncfib.gz\n",
            "100% 2.23G/2.23G [01:38<00:00, 24.3MB/s]\n",
            "[2021-05-04 10:08:41,078]    INFO Extracting files from tmp/v1nm7lpnqz5syh8dyzdk2zs8bglncfib.gz\n"
          ],
          "name": "stdout"
        }
      ]
    },
    {
      "cell_type": "code",
      "metadata": {
        "id": "vHVNa51Cp9Nr",
        "colab": {
          "base_uri": "https://localhost:8080/"
        },
        "outputId": "0ece5238-43f8-42dc-d4ac-6cd8c4c7cdb4"
      },
      "source": [
        "# Check to make sure the metadata is in the right order after sorting\n",
        "print(fastqs)"
      ],
      "execution_count": 11,
      "outputs": [
        {
          "output_type": "stream",
          "text": [
            "['CRR126587_f1.fastq.gz', 'CRR126587_r2.fastq.gz', 'CRR126588_f1.fastq.gz', 'CRR126588_r2.fastq.gz', 'CRR126589_f1.fastq.gz', 'CRR126589_r2.fastq.gz', 'CRR126590_f1.fastq.gz', 'CRR126590_r2.fastq.gz', 'CRR126591_f1.fastq.gz', 'CRR126591_r2.fastq.gz', 'CRR126592_f1.fastq.gz', 'CRR126592_r2.fastq.gz', 'CRR126593_f1.fastq.gz', 'CRR126593_r2.fastq.gz', 'CRR126594_f1.fastq.gz', 'CRR126594_r2.fastq.gz', 'CRR126595_f1.fastq.gz', 'CRR126595_r2.fastq.gz', 'CRR126596_f1.fastq.gz', 'CRR126596_r2.fastq.gz', 'CRR126597_f1.fastq.gz', 'CRR126597_r2.fastq.gz', 'CRR126598_f1.fastq.gz', 'CRR126598_r2.fastq.gz']\n"
          ],
          "name": "stdout"
        }
      ]
    },
    {
      "cell_type": "markdown",
      "metadata": {
        "id": "VInyuq1Dp7iz"
      },
      "source": [
        "# Process fastq files (modify kb command according to fastqs list)\n"
      ]
    },
    {
      "cell_type": "code",
      "metadata": {
        "id": "OcqtBuH-pRaX",
        "colab": {
          "base_uri": "https://localhost:8080/"
        },
        "outputId": "94505611-79f5-4d4c-b47e-bd3c00ef7fd1"
      },
      "source": [
        "fastqs"
      ],
      "execution_count": 12,
      "outputs": [
        {
          "output_type": "execute_result",
          "data": {
            "text/plain": [
              "['CRR126587_f1.fastq.gz',\n",
              " 'CRR126587_r2.fastq.gz',\n",
              " 'CRR126588_f1.fastq.gz',\n",
              " 'CRR126588_r2.fastq.gz',\n",
              " 'CRR126589_f1.fastq.gz',\n",
              " 'CRR126589_r2.fastq.gz',\n",
              " 'CRR126590_f1.fastq.gz',\n",
              " 'CRR126590_r2.fastq.gz',\n",
              " 'CRR126591_f1.fastq.gz',\n",
              " 'CRR126591_r2.fastq.gz',\n",
              " 'CRR126592_f1.fastq.gz',\n",
              " 'CRR126592_r2.fastq.gz',\n",
              " 'CRR126593_f1.fastq.gz',\n",
              " 'CRR126593_r2.fastq.gz',\n",
              " 'CRR126594_f1.fastq.gz',\n",
              " 'CRR126594_r2.fastq.gz',\n",
              " 'CRR126595_f1.fastq.gz',\n",
              " 'CRR126595_r2.fastq.gz',\n",
              " 'CRR126596_f1.fastq.gz',\n",
              " 'CRR126596_r2.fastq.gz',\n",
              " 'CRR126597_f1.fastq.gz',\n",
              " 'CRR126597_r2.fastq.gz',\n",
              " 'CRR126598_f1.fastq.gz',\n",
              " 'CRR126598_r2.fastq.gz']"
            ]
          },
          "metadata": {
            "tags": []
          },
          "execution_count": 12
        }
      ]
    },
    {
      "cell_type": "code",
      "metadata": {
        "id": "5qFzPj-0kZTi",
        "colab": {
          "base_uri": "https://localhost:8080/"
        },
        "outputId": "ac1fd9b9-217a-40b4-b4e5-6511b3be10d5"
      },
      "source": [
        "# Specify the sample number and whether they are paired-ended\n",
        "\n",
        "\n",
        "if no_samples == 1:\n",
        "\n",
        "  # Write the kb count command as a string with all fastqs of the list as an input\n",
        "  cmd = \"kb count --h5ad -i index.idx -g t2g.txt -x \" + technology_kb + \" -o output\" + sample_id[0] + \" \"\\\n",
        "  + \"--filter bustools -t 2 --overwrite \" + \"'\" +  \"' '\".join(fastqs) + \"'\"\n",
        "  \n",
        "  # Execute it\n",
        "  !$cmd\n",
        "\n",
        "# If more than one sample, iterate through fastqs accordingly\n",
        "else:\n",
        "\n",
        "  # Initializa counter for fastq files\n",
        "  j = 0\n",
        "\n",
        "  # Loop over samples for analysis\n",
        "  for i in range(no_samples):\n",
        "\n",
        "    fastqs_to_analyze = fastqs[j:j + fastqs_per_sample[i]]\n",
        "    # Write the kb count command as a string\n",
        "    cmd = \"kb count --h5ad -i ../index.idx -g ../t2g.txt -x \" + technology_kb + \" -o output\" + sample_id[i] + \" \\\n",
        "    --filter bustools -t 2 --overwrite \" + \"'\" +  \"' '\".join(fastqs_to_analyze) + \"'\"\n",
        "\n",
        "    # Execute it\n",
        "    !$cmd\n",
        "\n",
        "    # Update j to move to the next set of fastq\n",
        "    j = j + fastqs_per_sample[i]\n",
        "\n",
        "\n",
        "\n",
        "\n",
        "\n"
      ],
      "execution_count": 13,
      "outputs": [
        {
          "output_type": "stream",
          "text": [
            "[2021-05-04 10:09:20,538]    INFO Using index index.idx to generate BUS file to outputCRX102287 from\n",
            "[2021-05-04 10:09:20,538]    INFO         CRR126587_f1.fastq.gz\n",
            "[2021-05-04 10:09:20,538]    INFO         CRR126587_r2.fastq.gz\n",
            "[2021-05-04 10:09:20,539]    INFO         CRR126588_f1.fastq.gz\n",
            "[2021-05-04 10:09:20,539]    INFO         CRR126588_r2.fastq.gz\n",
            "[2021-05-04 10:09:20,539]    INFO         CRR126589_f1.fastq.gz\n",
            "[2021-05-04 10:09:20,539]    INFO         CRR126589_r2.fastq.gz\n",
            "[2021-05-04 10:09:20,539]    INFO         CRR126590_f1.fastq.gz\n",
            "[2021-05-04 10:09:20,539]    INFO         CRR126590_r2.fastq.gz\n",
            "[2021-05-04 10:09:20,539]    INFO         CRR126591_f1.fastq.gz\n",
            "[2021-05-04 10:09:20,539]    INFO         CRR126591_r2.fastq.gz\n",
            "[2021-05-04 10:09:20,539]    INFO         CRR126592_f1.fastq.gz\n",
            "[2021-05-04 10:09:20,539]    INFO         CRR126592_r2.fastq.gz\n",
            "[2021-05-04 10:09:20,539]    INFO         CRR126593_f1.fastq.gz\n",
            "[2021-05-04 10:09:20,539]    INFO         CRR126593_r2.fastq.gz\n",
            "[2021-05-04 10:09:20,539]    INFO         CRR126594_f1.fastq.gz\n",
            "[2021-05-04 10:09:20,539]    INFO         CRR126594_r2.fastq.gz\n",
            "[2021-05-04 10:09:20,539]    INFO         CRR126595_f1.fastq.gz\n",
            "[2021-05-04 10:09:20,539]    INFO         CRR126595_r2.fastq.gz\n",
            "[2021-05-04 10:09:20,539]    INFO         CRR126596_f1.fastq.gz\n",
            "[2021-05-04 10:09:20,539]    INFO         CRR126596_r2.fastq.gz\n",
            "[2021-05-04 10:09:20,539]    INFO         CRR126597_f1.fastq.gz\n",
            "[2021-05-04 10:09:20,539]    INFO         CRR126597_r2.fastq.gz\n",
            "[2021-05-04 10:09:20,539]    INFO         CRR126598_f1.fastq.gz\n",
            "[2021-05-04 10:09:20,539]    INFO         CRR126598_r2.fastq.gz\n",
            "[2021-05-04 12:23:14,024]    INFO Sorting BUS file outputCRX102287/output.bus to outputCRX102287/tmp/output.s.bus\n",
            "[2021-05-04 12:28:33,957]    INFO Whitelist not provided\n",
            "[2021-05-04 12:28:33,957]    INFO Copying pre-packaged 10XV2 whitelist to outputCRX102287\n",
            "[2021-05-04 12:28:34,082]    INFO Inspecting BUS file outputCRX102287/tmp/output.s.bus\n",
            "[2021-05-04 12:29:12,514]    INFO Correcting BUS records in outputCRX102287/tmp/output.s.bus to outputCRX102287/tmp/output.s.c.bus with whitelist outputCRX102287/10xv2_whitelist.txt\n",
            "[2021-05-04 12:29:53,001]    INFO Sorting BUS file outputCRX102287/tmp/output.s.c.bus to outputCRX102287/output.unfiltered.bus\n",
            "[2021-05-04 12:31:55,226]    INFO Generating count matrix outputCRX102287/counts_unfiltered/cells_x_genes from BUS file outputCRX102287/output.unfiltered.bus\n",
            "[2021-05-04 12:32:55,142]    INFO Reading matrix outputCRX102287/counts_unfiltered/cells_x_genes.mtx\n",
            "[2021-05-04 12:33:29,329]    INFO Writing matrix to h5ad outputCRX102287/counts_unfiltered/adata.h5ad\n",
            "[2021-05-04 12:33:30,568]    INFO Filtering with bustools\n",
            "[2021-05-04 12:33:30,568]    INFO Generating whitelist outputCRX102287/filter_barcodes.txt from BUS file outputCRX102287/output.unfiltered.bus\n",
            "[2021-05-04 12:33:31,533]    INFO Correcting BUS records in outputCRX102287/output.unfiltered.bus to outputCRX102287/tmp/output.unfiltered.c.bus with whitelist outputCRX102287/filter_barcodes.txt\n",
            "[2021-05-04 12:33:59,449]    INFO Sorting BUS file outputCRX102287/tmp/output.unfiltered.c.bus to outputCRX102287/output.filtered.bus\n",
            "[2021-05-04 12:35:34,462]    INFO Generating count matrix outputCRX102287/counts_filtered/cells_x_genes from BUS file outputCRX102287/output.filtered.bus\n",
            "[2021-05-04 12:36:21,470]    INFO Reading matrix outputCRX102287/counts_filtered/cells_x_genes.mtx\n",
            "[2021-05-04 12:36:45,248]    INFO Writing matrix to h5ad outputCRX102287/counts_filtered/adata.h5ad\n"
          ],
          "name": "stdout"
        }
      ]
    },
    {
      "cell_type": "markdown",
      "metadata": {
        "id": "tDijOZzrqhN2"
      },
      "source": [
        "# Load unfiltered matrix and assign filters to each matrix individually"
      ]
    },
    {
      "cell_type": "markdown",
      "metadata": {
        "id": "VkNLZh_pNFFw"
      },
      "source": [
        "## Load the unfiltered matrix (check dimensions)"
      ]
    },
    {
      "cell_type": "code",
      "metadata": {
        "id": "PppRNeV8AIyw"
      },
      "source": [
        "# Define dict to store data\n",
        "results = {}\n"
      ],
      "execution_count": 15,
      "outputs": []
    },
    {
      "cell_type": "code",
      "metadata": {
        "cellView": "both",
        "id": "pKmtGf3c_BiZ",
        "outputId": "f6187f43-9673-4748-8208-70104551ebe3",
        "colab": {
          "base_uri": "https://localhost:8080/"
        }
      },
      "source": [
        "# load the unfiltered matrix\n",
        "for i in range(no_samples):\n",
        "  results[sample_id[i]] = anndata.read_h5ad(\"output\" + sample_id[i] + \"/counts_unfiltered/adata.h5ad\")\n",
        "  results[sample_id[i]].var[\"gene_id\"] = results[sample_id[i]].var.index.values\n",
        "\n",
        "  t2g = pd.read_csv(\"t2g.txt\", header=None, names=[\"tid\", \"gene_id\", \"gene_name\"], sep=\"\\t\")\n",
        "  t2g.index = t2g.gene_id\n",
        "  t2g = t2g.loc[~t2g.index.duplicated(keep='first')]\n",
        "\n",
        "  results[sample_id[i]].var[\"gene_name\"] = results[sample_id[i]].var.gene_id.map(t2g[\"gene_name\"])\n",
        "  results[sample_id[i]].var.index = results[sample_id[i]].var[\"gene_name\"]\n",
        "  print(\"The unfiltered matrix \" + sample_id[i] + \" contains {} cells by {} genes\".format(len(results[sample_id[i]].obs), len(results[sample_id[i]].var)))\n",
        "\n",
        "  results[sample_id[i]].obs[\"cell_counts\"] = results[sample_id[i]].X.sum(axis=1)\n",
        "  results[sample_id[i]].var[\"gene_counts\"] = nd(results[sample_id[i]].X.sum(axis=0))\n",
        "\n",
        "  results[sample_id[i]].obs[\"n_genes\"] = nd((results[sample_id[i]].X>0).sum(axis=1))\n",
        "  results[sample_id[i]].var[\"n_cells\"] = nd((results[sample_id[i]].X>0).sum(axis=0))\n",
        "\n",
        "  mito_genes = results[sample_id[i]].var_names.str.startswith(\"MT-\" or \"mt-\") \n",
        "  results[sample_id[i]].obs[\"percent_mito\"] = results[sample_id[i]][:,mito_genes].X.sum(axis=1)/results[sample_id[i]].X.sum(axis=1)*100\n",
        "\n",
        "  # Changing the name of the index is necessary to write the file (it won't work with duplicated names)\n",
        "  results[sample_id[i]].var.index.name = \"index\"\n",
        "\n"
      ],
      "execution_count": 17,
      "outputs": [
        {
          "output_type": "stream",
          "text": [
            "The unfiltered matrix CRX102287 contains 365581 cells by 60623 genes\n"
          ],
          "name": "stdout"
        }
      ]
    },
    {
      "cell_type": "markdown",
      "metadata": {
        "id": "hDAUH3eH_2RA"
      },
      "source": [
        "## Assign filters for each matrix individually"
      ]
    },
    {
      "cell_type": "code",
      "metadata": {
        "id": "ukinuaKk_6Po"
      },
      "source": [
        "# Modify this manually to change sample after having assigned the \"expected_num_cells\" and \"mito_criteria\" parameters\n",
        "samp_n = 0\n",
        "\n",
        "\n",
        "# Filtering criteria\n",
        "cell_threshold = 100\n",
        "gene_threshold = 3\n",
        "\n",
        "mito_criteria = 30"
      ],
      "execution_count": 18,
      "outputs": []
    },
    {
      "cell_type": "code",
      "metadata": {
        "id": "a5wZB5pEfwNs",
        "cellView": "form",
        "outputId": "70f01bc1-abbf-4698-c72f-99d2c594f626",
        "colab": {
          "base_uri": "https://localhost:8080/",
          "height": 725
        }
      },
      "source": [
        "\n",
        "expected_num_cells = 4000#@param {type:\"integer\"}\n",
        "knee = np.sort(nd(results[sample_id[samp_n]].X.sum(axis=1)))[::-1]\n",
        "\n",
        "fig, ax = plt.subplots(figsize=(5, 5))\n",
        "\n",
        "x = knee\n",
        "y = range(len(knee))\n",
        "\n",
        "ax.loglog(x, y, linewidth=5, color=\"g\")\n",
        "\n",
        "ax.axvline(x=knee[expected_num_cells], linewidth=3, color=\"k\")\n",
        "ax.axhline(y=expected_num_cells, linewidth=3, color=\"k\")\n",
        "\n",
        "ax.set_xlabel(\"UMI Counts\")\n",
        "ax.set_ylabel(\"Set of Barcodes\")\n",
        "\n",
        "plt.show()\n",
        "\n",
        "cell_threshold = knee[expected_num_cells]\n",
        "\n",
        "results[\"cell_threshold\" + sample_id[samp_n]] = knee[expected_num_cells]\n",
        "\n",
        "print (\"Cells were filtered down to \" + str(expected_num_cells) + \" with at least \" + str(cell_threshold) + \" UMIs\")\n",
        "\n",
        "\n",
        "mito_criteria = 16#@param {type:\"integer\"}\n",
        "results[\"mito_criteria\" + sample_id[samp_n]] = mito_criteria\n",
        "\n",
        "fig, ax = plt.subplots(figsize=(5,5))\n",
        "\n",
        "\n",
        "x = nd(results[sample_id[samp_n]].obs[\"cell_counts\"][results[sample_id[samp_n]].obs[\"cell_counts\"] > cell_threshold])\n",
        "y = nd(results[sample_id[samp_n]].obs[\"percent_mito\"][results[sample_id[samp_n]].obs[\"cell_counts\"] > cell_threshold])\n",
        "\n",
        "ax.scatter(x, y, color=\"green\", alpha=0.1)\n",
        "\n",
        "ax.axhline(y=mito_criteria, linestyle=\"--\", color=\"k\")\n",
        "\n",
        "\n",
        "ax.set_xlabel(\"UMI Counts\")\n",
        "ax.set_ylabel(\"Percent mito\")\n",
        "\n",
        "\n",
        "plt.show()\n",
        "\n",
        "print(\"We select \" + str(mito_criteria) + \" % as the mitochondrial content threshold\")"
      ],
      "execution_count": 22,
      "outputs": [
        {
          "output_type": "display_data",
          "data": {
            "image/png": "[encoded data removed]",
            "text/plain": [
              "<Figure size 360x360 with 1 Axes>"
            ]
          },
          "metadata": {
            "tags": [],
            "image/png": {
              "width": 374,
              "height": 337
            },
            "needs_background": "light"
          }
        },
        {
          "output_type": "stream",
          "text": [
            "Cells were filtered down to 4000 with at least 4438.0 UMIs\n"
          ],
          "name": "stdout"
        },
        {
          "output_type": "display_data",
          "data": {
            "image/png": "[encoded data removed]",
            "text/plain": [
              "<Figure size 360x360 with 1 Axes>"
            ]
          },
          "metadata": {
            "tags": [],
            "image/png": {
              "width": 370,
              "height": 340
            },
            "needs_background": "light"
          }
        },
        {
          "output_type": "stream",
          "text": [
            "We select 16 % as the mitochondrial content threshold\n"
          ],
          "name": "stdout"
        }
      ]
    },
    {
      "cell_type": "markdown",
      "metadata": {
        "id": "eP9j2ouPq9KY"
      },
      "source": [
        "# Filter matrix"
      ]
    },
    {
      "cell_type": "code",
      "metadata": {
        "id": "sE51WUA3gVmG",
        "outputId": "673b538c-386a-4dbc-e2c5-869f93e4a0e1",
        "colab": {
          "base_uri": "https://localhost:8080/"
        }
      },
      "source": [
        "for i in range(no_samples):\n",
        "  results[sample_id[i]].obs[\"pass_count_filter\"] = results[sample_id[i]].obs[\"cell_counts\"] > results[\"cell_threshold\" + sample_id[i]]\n",
        "  results[sample_id[i]].obs[\"pass_mito_filter\"] = results[sample_id[i]].obs.percent_mito < results[\"mito_criteria\" + sample_id[i]]\n",
        "  results[sample_id[i]].var[\"pass_gene_filter\"] = results[sample_id[i]].var[\"n_cells\"] > gene_threshold\n",
        "\n",
        "  cell_mask = np.logical_and(results[sample_id[i]].obs[\"pass_count_filter\"].values, results[sample_id[i]].obs[\"pass_mito_filter\"].values)\n",
        "  gene_mask = results[sample_id[i]].var[\"pass_gene_filter\"].values\n",
        "\n",
        "  print(\"Current Shape: {:,} cells x {:,} genes\".format(results[sample_id[i]].shape[0], results[sample_id[i]].shape[1]))\n",
        "  print(\"    New shape: {:,} cells x {:,} genes\".format(cell_mask.sum(), gene_mask.sum()))\n",
        "  results[\"data_\" + sample_id[i]] = results[sample_id[i]][cell_mask, gene_mask]"
      ],
      "execution_count": 23,
      "outputs": [
        {
          "output_type": "stream",
          "text": [
            "Current Shape: 365,581 cells x 60,623 genes\n",
            "    New shape: 3,927 cells x 28,996 genes\n"
          ],
          "name": "stdout"
        }
      ]
    },
    {
      "cell_type": "markdown",
      "metadata": {
        "id": "BxPA81yj4TlU"
      },
      "source": [
        "# Anotate and write the Anndata object"
      ]
    },
    {
      "cell_type": "code",
      "metadata": {
        "id": "O-q_Qj2U4kDU",
        "outputId": "a34cb9f9-0d21-4823-e7d9-6093e99f4643",
        "colab": {
          "base_uri": "https://localhost:8080/"
        }
      },
      "source": [
        "for i in range(no_samples):\n",
        "\n",
        "\n",
        "  results[\"data_\" + sample_id[i]].uns[\"database_id\"] = database_id[i]\n",
        "\n",
        "  results[\"data_\" + sample_id[i]].uns[\"tissue\"] = tissue[i]\n",
        "\n",
        "  results[\"data_\" + sample_id[i]].uns[\"cell_type\"] = cell_type[i]\n",
        "\n",
        "  results[\"data_\" + sample_id[i]].uns[\"sample_id\"] = sample_id[i]\n",
        "\n",
        "  results[\"data_\" + sample_id[i]].uns[\"condition\"] = condition[i]\n",
        "\n",
        "  results[\"data_\" + sample_id[i]].uns[\"species\"] = species[i]\n",
        "\n",
        "  results[\"data_\" + sample_id[i]].uns[\"technology\"] = technology[i]\n",
        "\n",
        "  results[\"data_\" + sample_id[i]].uns[\"paper\"] = paper[i]\n",
        "\n",
        "  results[\"data_\" + sample_id[i]].uns[\"figure\"] = figure[i]\n",
        "\n",
        "\n",
        "%cd /content\n",
        "\n",
        "for i in range(no_samples):\n",
        "\n",
        "  results[\"data_\" + sample_id[i]].write(\"result\" + sample_id[i])"
      ],
      "execution_count": 24,
      "outputs": [
        {
          "output_type": "stream",
          "text": [
            "Trying to set attribute `.uns` of view, copying.\n",
            "Variable names are not unique. To make them unique, call `.var_names_make_unique`.\n",
            "Variable names are not unique. To make them unique, call `.var_names_make_unique`.\n"
          ],
          "name": "stderr"
        },
        {
          "output_type": "stream",
          "text": [
            "/content\n"
          ],
          "name": "stdout"
        },
        {
          "output_type": "stream",
          "text": [
            "... storing 'gene_name' as categorical\n"
          ],
          "name": "stderr"
        }
      ]
    }
  ]
}