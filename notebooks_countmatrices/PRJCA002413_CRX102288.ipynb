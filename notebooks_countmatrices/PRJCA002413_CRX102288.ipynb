{
  "nbformat": 4,
  "nbformat_minor": 0,
  "metadata": {
    "colab": {
      "name": "PRJCA002413_CRX102288.ipynb",
      "provenance": [],
      "collapsed_sections": [],
      "toc_visible": true,
      "include_colab_link": true
    },
    "kernelspec": {
      "display_name": "Python 3",
      "name": "python3"
    }
  },
  "cells": [
    {
      "cell_type": "markdown",
      "metadata": {
        "id": "view-in-github",
        "colab_type": "text"
      },
      "source": [
        "<a href=\"https://colab.research.google.com/github/agalvezm/ACE2_scRNAseq/blob/master/notebooks_countmatrices/PRJCA002413_CRX102288.ipynb\" target=\"_parent\"><img src=\"https://colab.research.google.com/assets/colab-badge.svg\" alt=\"Open In Colab\"/></a>"
      ]
    },
    {
      "cell_type": "markdown",
      "metadata": {
        "id": "V9ryXluJsJw9"
      },
      "source": [
        "# PRJCA002413_CRX102288"
      ]
    },
    {
      "cell_type": "code",
      "metadata": {
        "id": "ggNFAQJCRh6P"
      },
      "source": [
        "# define the values for the analysis\n",
        "\n",
        "# accession id for the data\n",
        "id = \"PRJCA002413\"\n",
        "samp_id = [\"CRX1022878\"]\n",
        "\n",
        "# If only bam available files, set bam = True, Fill link and filename\n",
        "bam = False\n",
        "\n",
        "# If fastq links available but are not ffq links\n",
        "fastq_ffqlinks = False\n",
        "\n",
        "\n",
        "if bam:\n",
        "  # Assign link to python variable\n",
        "  link_to_bam = \"\"\n",
        "  \n",
        "  # Assigns the link to the bash variable BAM_LINK. To be used by wget\n",
        "  %env BAM_LINK=$link_to_bam\n",
        "\n",
        "  # Assign filename to python variable. Used to convert to fastq and remove bam file to fastq after conversion\n",
        "\n",
        "  bam_filename=\"\"\n",
        "\n",
        "\n",
        "if not bam:\n",
        "\n",
        "  # Copy and paste the links from the ACE2 scRNAseq datasets google  spreadsheet\n",
        "  links_raw = \"ftp://download.big.ac.cn/gsa3/CRA002497/CRR126599/CRR126599_f1.fastq.gz\tftp://download.big.ac.cn/gsa3/CRA002497/CRR126599/CRR126599_r2.fastq.gz\tftp://download.big.ac.cn/gsa3/CRA002497/CRR126600/CRR126600_f1.fastq.gz\tftp://download.big.ac.cn/gsa3/CRA002497/CRR126600/CRR126600_r2.fastq.gz\tftp://download.big.ac.cn/gsa3/CRA002497/CRR126601/CRR126601_f1.fastq.gz\tftp://download.big.ac.cn/gsa3/CRA002497/CRR126601/CRR126601_r2.fastq.gz\tftp://download.big.ac.cn/gsa3/CRA002497/CRR126602/CRR126602_f1.fastq.gz\tftp://download.big.ac.cn/gsa3/CRA002497/CRR126602/CRR126602_r2.fastq.gz\tftp://download.big.ac.cn/gsa3/CRA002497/CRR126603/CRR126603_f1.fastq.gz\tftp://download.big.ac.cn/gsa3/CRA002497/CRR126603/CRR126603_r2.fastq.gz\tftp://download.big.ac.cn/gsa3/CRA002497/CRR126604/CRR126604_f1.fastq.gz\tftp://download.big.ac.cn/gsa3/CRA002497/CRR126604/CRR126604_r2.fastq.gz\tftp://download.big.ac.cn/gsa3/CRA002497/CRR126605/CRR126605_f1.fastq.gz\tftp://download.big.ac.cn/gsa3/CRA002497/CRR126605/CRR126605_r2.fastq.gz\tftp://download.big.ac.cn/gsa3/CRA002497/CRR126606/CRR126606_f1.fastq.gz\tftp://download.big.ac.cn/gsa3/CRA002497/CRR126606/CRR126606_r2.fastq.gz\tftp://download.big.ac.cn/gsa3/CRA002497/CRR126607/CRR126607_f1.fastq.gz\tftp://download.big.ac.cn/gsa3/CRA002497/CRR126607/CRR126607_r2.fastq.gz\tftp://download.big.ac.cn/gsa3/CRA002497/CRR126608/CRR126608_f1.fastq.gz\tftp://download.big.ac.cn/gsa3/CRA002497/CRR126608/CRR126608_r2.fastq.gz\tftp://download.big.ac.cn/gsa3/CRA002497/CRR126609/CRR126609_f1.fastq.gz\tftp://download.big.ac.cn/gsa3/CRA002497/CRR126609/CRR126609_r2.fastq.gz\tftp://download.big.ac.cn/gsa3/CRA002497/CRR126610/CRR126610_f1.fastq.gz\tftp://download.big.ac.cn/gsa3/CRA002497/CRR126610/CRR126610_r2.fastq.gz\"\n",
        "  # Convert it to a list where each link is an element\n",
        "  \n",
        "  fastqs = links_raw.split()\n",
        "\n",
        "#sample specific metadata\n",
        "\n",
        "no_samples = 1\n",
        "\n",
        "condition = [\"covid infected, early recovery stage\"] * no_samples"
      ],
      "execution_count": 1,
      "outputs": []
    },
    {
      "cell_type": "code",
      "metadata": {
        "id": "5R3tPDqnoJUn"
      },
      "source": [
        "no_samples = 1\n",
        "\n",
        "fastqs_per_sample = [4, 8, 8] \n",
        "\n",
        "sample_id = samp_id\n",
        "\n",
        "database_id = [id] * no_samples\n",
        "\n",
        "tissue = [\"blood\"] * no_samples\n",
        "\n",
        "cell_type = [\"PBMCs\"] * no_samples\n",
        "\n",
        "species = [\"human\"] * no_samples\n",
        "\n",
        "technology = [\"10xv2\"] * no_samples\n",
        "\n",
        "paper = [\"Wen et al 2020\"] * no_samples\n",
        "\n",
        "figure = [\"Fig: all\"] * no_samples\n",
        "\n",
        "\n",
        "# Set string variables for kb functions\n",
        "\n",
        "species_kb = species[0]\n",
        "\n",
        "technology_kb = technology[0]\n",
        "\n"
      ],
      "execution_count": 2,
      "outputs": []
    },
    {
      "cell_type": "markdown",
      "metadata": {
        "id": "FPwL0-_-KSAw"
      },
      "source": [
        "# Imports and installs"
      ]
    },
    {
      "cell_type": "code",
      "metadata": {
        "colab": {
          "base_uri": "https://localhost:8080/"
        },
        "id": "1HSlUGZEp3oP",
        "outputId": "1722f6bb-e643-4bd2-fe32-de7c9fbafd4c"
      },
      "source": [
        "# install and import necessary software\n",
        "\n",
        "# Install kb and scanpy\n",
        "!pip -q install kb-python \n",
        "!pip -q install scanpy\n",
        "\n",
        "import re\n",
        "import os\n",
        "\n",
        "# Setup\n",
        "\n",
        "import anndata\n",
        "import pandas as pd\n",
        "import numpy as np\n",
        "import matplotlib.pyplot as plt\n",
        "import matplotlib as mpl\n",
        "import matplotlib.patches as mpatches\n",
        "import scanpy as sc\n",
        "from scipy import stats\n",
        "\n",
        "from collections import OrderedDict\n",
        "from sklearn.decomposition import TruncatedSVD\n",
        "from sklearn.manifold import TSNE\n",
        "from sklearn.preprocessing import scale\n",
        "\n",
        "from sklearn.cluster import KMeans\n",
        "from sklearn.preprocessing import normalize\n",
        "from sklearn.preprocessing import LabelEncoder\n",
        "from sklearn.neighbors import NeighborhoodComponentsAnalysis\n",
        "from matplotlib import cm\n",
        "from matplotlib.lines import Line2D\n",
        "\n",
        "def nd(arr):\n",
        "    return np.asarray(arr).reshape(-1)\n",
        "def yex(ax):\n",
        "    lims = [np.min([ax.get_xlim(), ax.get_ylim()]),\n",
        "            np.max([ax.get_xlim(), ax.get_ylim()])]\n",
        "\n",
        "    # now plot both limits against eachother\n",
        "    ax.plot(lims, lims, 'k-', alpha=0.75, zorder=0)\n",
        "    ax.set_aspect('equal')\n",
        "    ax.set_xlim(lims)\n",
        "    ax.set_ylim(lims)\n",
        "    return ax\n",
        "\n",
        "def trim_axs(axs, N):\n",
        "    \"\"\"little helper to massage the axs list to have correct length...\"\"\"\n",
        "    axs = axs.flat\n",
        "    for ax in axs[N:]:\n",
        "        ax.remove()\n",
        "    return axs[:N]\n",
        "\n",
        "import warnings\n",
        "warnings.filterwarnings('ignore')\n",
        "\n",
        "fsize=20\n",
        "\n",
        "plt.rcParams.update({'font.size': fsize})\n",
        "%config InlineBackend.figure_format = 'retina'"
      ],
      "execution_count": 3,
      "outputs": [
        {
          "output_type": "stream",
          "text": [
            "\u001b[K     |████████████████████████████████| 59.1MB 107kB/s \n",
            "\u001b[K     |████████████████████████████████| 13.2MB 36.2MB/s \n",
            "\u001b[K     |████████████████████████████████| 10.3MB 45.9MB/s \n",
            "\u001b[K     |████████████████████████████████| 51kB 6.3MB/s \n",
            "\u001b[K     |████████████████████████████████| 133kB 53.2MB/s \n",
            "\u001b[K     |████████████████████████████████| 81kB 11.8MB/s \n",
            "\u001b[K     |████████████████████████████████| 112kB 55.7MB/s \n",
            "\u001b[K     |████████████████████████████████| 1.2MB 42.5MB/s \n",
            "\u001b[K     |████████████████████████████████| 71kB 11.3MB/s \n",
            "\u001b[?25h  Building wheel for loompy (setup.py) ... \u001b[?25l\u001b[?25hdone\n",
            "  Building wheel for umap-learn (setup.py) ... \u001b[?25l\u001b[?25hdone\n",
            "  Building wheel for sinfo (setup.py) ... \u001b[?25l\u001b[?25hdone\n",
            "  Building wheel for numpy-groupies (setup.py) ... \u001b[?25l\u001b[?25hdone\n",
            "  Building wheel for pynndescent (setup.py) ... \u001b[?25l\u001b[?25hdone\n"
          ],
          "name": "stdout"
        }
      ]
    },
    {
      "cell_type": "markdown",
      "metadata": {
        "id": "7V6FbosVrvP4"
      },
      "source": [
        "# Downloads: (bam (if bam) and index"
      ]
    },
    {
      "cell_type": "code",
      "metadata": {
        "id": "q46hw4zqKUPS"
      },
      "source": [
        "if bam:\n",
        "\n",
        "  # Install bamtofastq from 10x website (only bam files available)\n",
        "  !wget http://cf.10xgenomics.com/misc/bamtofastq-1.2.0\n",
        "  !chmod +x bamtofastq-1.2.0\n",
        "  # Download the bam file\n",
        "  !wget -- continue ${BAM_LINK}\n",
        "\n",
        "\n"
      ],
      "execution_count": 4,
      "outputs": []
    },
    {
      "cell_type": "code",
      "metadata": {
        "id": "tDQlrjtqNF0m"
      },
      "source": [
        "if bam:\n",
        "  # Convert to fastq\n",
        "  !./bamtofastq-1.2.0 --reads-per-fastq=500000000 $bam_filename ./fastqs\\\n",
        "\n",
        "  # Remove original bam file to save space\n",
        "  !rm $bam_filename\n"
      ],
      "execution_count": 5,
      "outputs": []
    },
    {
      "cell_type": "code",
      "metadata": {
        "id": "SXRDRphvqcLe"
      },
      "source": [
        "# Store fastq names on a list\n",
        "\n",
        "if bam:\n",
        "  # cd into fastqs folder\n",
        "  %cd /content/fastqs\n",
        "\n",
        "  #store the name of the folder generated by bamtofastq\n",
        "  _filename = os.listdir()[0]\n",
        "\n",
        "  # cd into that folder\n",
        "  %cd $_filename\n",
        "\n",
        "  # store fastq names in a list\n",
        "  fastqs = os.listdir()\n",
        "\n",
        "\n",
        "  # Remove I1 and R3 reads not relevant for our analysis\n",
        "\n",
        "  # Initialize list containing elements to remove\n",
        "  remov_elem = []\n",
        "\n",
        "  print (\"\\n\\nThis is the complete list of fastqs:\\n -----------\")\n",
        "  for elem in fastqs:\n",
        "    print (elem)\n",
        "\n",
        "  # Search index (I1 or R3) fastqs and remove them from list\n",
        "  for elem in fastqs:\n",
        "    if re.search(\"_R3_\", elem) or re.search(\"_I1_\", elem):\n",
        "      remov_elem = remov_elem +[elem]\n",
        "\n",
        "  fastqs = [elem for elem in fastqs if elem not in remov_elem] \n",
        "\n",
        "  print (\"\\n\\nThis is the filtered list of fastqs:\\n -----------\")\n",
        "  for elem in fastqs:\n",
        "    print (elem)\n"
      ],
      "execution_count": 6,
      "outputs": []
    },
    {
      "cell_type": "code",
      "metadata": {
        "id": "ZnFcqcSgjLBw"
      },
      "source": [
        "# Remove fastqs that wont be analyzed to save space\n",
        "if bam:\n",
        "  for elem in remov_elem:\n",
        "    !rm $elem"
      ],
      "execution_count": 7,
      "outputs": []
    },
    {
      "cell_type": "code",
      "metadata": {
        "id": "FLVS8aB7Dm6J"
      },
      "source": [
        "if bam:\n",
        "  # sort fastqs alphabetically to get R1 and R2 in order\n",
        "  fastqs = sorted(fastqs)"
      ],
      "execution_count": 8,
      "outputs": []
    },
    {
      "cell_type": "code",
      "metadata": {
        "id": "FE9gWbQgpBfR",
        "outputId": "1abb56ab-3f05-4947-a24c-baf8f0b9eed0",
        "colab": {
          "base_uri": "https://localhost:8080/"
        }
      },
      "source": [
        "# wget fastqs from non ffq links in fastqs folder\n",
        "if not bam and not fastq_ffqlinks:\n",
        "  !mkdir fastqs\n",
        "  %cd fastqs\n",
        "  while len(os.listdir()) != len(fastqs):\n",
        "    for link in fastqs:\n",
        "      !wget $link --continue\n",
        "\n",
        "  # update fastqs variable with name of files\n",
        "  fastqs = sorted(os.listdir())"
      ],
      "execution_count": 9,
      "outputs": [
        {
          "output_type": "stream",
          "text": [
            "/content/fastqs\n",
            "--2021-05-04 18:59:48--  ftp://download.big.ac.cn/gsa3/CRA002497/CRR126599/CRR126599_f1.fastq.gz\n",
            "           => ‘CRR126599_f1.fastq.gz’\n",
            "Resolving download.big.ac.cn (download.big.ac.cn)... 124.16.164.229\n",
            "Connecting to download.big.ac.cn (download.big.ac.cn)|124.16.164.229|:21... connected.\n",
            "Logging in as anonymous ... Logged in!\n",
            "==> SYST ... done.    ==> PWD ... done.\n",
            "==> TYPE I ... done.  ==> CWD (1) /gsa3/CRA002497/CRR126599 ... done.\n",
            "==> SIZE CRR126599_f1.fastq.gz ... 2592505547\n",
            "==> PASV ... done.    ==> RETR CRR126599_f1.fastq.gz ... done.\n",
            "Length: 2592505547 (2.4G) (unauthoritative)\n",
            "\n",
            "CRR126599_f1.fastq. 100%[===================>]   2.41G  12.9MB/s    in 3m 11s  \n",
            "\n",
            "2021-05-04 19:03:01 (12.9 MB/s) - ‘CRR126599_f1.fastq.gz’ saved [2592505547]\n",
            "\n",
            "--2021-05-04 19:03:01--  ftp://download.big.ac.cn/gsa3/CRA002497/CRR126599/CRR126599_r2.fastq.gz\n",
            "           => ‘CRR126599_r2.fastq.gz’\n",
            "Resolving download.big.ac.cn (download.big.ac.cn)... 124.16.164.229\n",
            "Connecting to download.big.ac.cn (download.big.ac.cn)|124.16.164.229|:21... connected.\n",
            "Logging in as anonymous ... Logged in!\n",
            "==> SYST ... done.    ==> PWD ... done.\n",
            "==> TYPE I ... done.  ==> CWD (1) /gsa3/CRA002497/CRR126599 ... done.\n",
            "==> SIZE CRR126599_r2.fastq.gz ... 9312213174\n",
            "==> PASV ... done.    ==> RETR CRR126599_r2.fastq.gz ... done.\n",
            "Length: 9312213174 (8.7G) (unauthoritative)\n",
            "\n",
            "CRR126599_r2.fastq. 100%[===================>]   8.67G  13.1MB/s    in 12m 23s \n",
            "\n",
            "2021-05-04 19:15:27 (11.9 MB/s) - Control connection closed.\n",
            "Retrying.\n",
            "\n",
            "--2021-05-04 19:30:28--  ftp://download.big.ac.cn/gsa3/CRA002497/CRR126599/CRR126599_r2.fastq.gz\n",
            "  (try: 2) => ‘CRR126599_r2.fastq.gz’\n",
            "Connecting to download.big.ac.cn (download.big.ac.cn)|124.16.164.229|:21... connected.\n",
            "Logging in as anonymous ... Logged in!\n",
            "==> SYST ... done.    ==> PWD ... done.\n",
            "==> TYPE I ... done.  ==> CWD (1) /gsa3/CRA002497/CRR126599 ... done.\n",
            "==> SIZE CRR126599_r2.fastq.gz ... 9312213174\n",
            "File has already been retrieved.\n",
            "2021-05-04 19:30:30 (0.00 B/s) - ‘CRR126599_r2.fastq.gz’ saved [9312213174]\n",
            "\n",
            "--2021-05-04 19:30:30--  ftp://download.big.ac.cn/gsa3/CRA002497/CRR126600/CRR126600_f1.fastq.gz\n",
            "           => ‘CRR126600_f1.fastq.gz’\n",
            "Resolving download.big.ac.cn (download.big.ac.cn)... 124.16.164.229\n",
            "Connecting to download.big.ac.cn (download.big.ac.cn)|124.16.164.229|:21... connected.\n",
            "Logging in as anonymous ... Logged in!\n",
            "==> SYST ... done.    ==> PWD ... done.\n",
            "==> TYPE I ... done.  ==> CWD (1) /gsa3/CRA002497/CRR126600 ... done.\n",
            "==> SIZE CRR126600_f1.fastq.gz ... 3053637655\n",
            "==> PASV ... done.    ==> RETR CRR126600_f1.fastq.gz ... done.\n",
            "Length: 3053637655 (2.8G) (unauthoritative)\n",
            "\n",
            "CRR126600_f1.fastq. 100%[===================>]   2.84G  14.9MB/s    in 3m 22s  \n",
            "\n",
            "2021-05-04 19:33:55 (14.4 MB/s) - ‘CRR126600_f1.fastq.gz’ saved [3053637655]\n",
            "\n",
            "--2021-05-04 19:33:55--  ftp://download.big.ac.cn/gsa3/CRA002497/CRR126600/CRR126600_r2.fastq.gz\n",
            "           => ‘CRR126600_r2.fastq.gz’\n",
            "Resolving download.big.ac.cn (download.big.ac.cn)... 124.16.164.229\n",
            "Connecting to download.big.ac.cn (download.big.ac.cn)|124.16.164.229|:21... connected.\n",
            "Logging in as anonymous ... Logged in!\n",
            "==> SYST ... done.    ==> PWD ... done.\n",
            "==> TYPE I ... done.  ==> CWD (1) /gsa3/CRA002497/CRR126600 ... done.\n",
            "==> SIZE CRR126600_r2.fastq.gz ... 10978145028\n",
            "==> PASV ... done.    ==> RETR CRR126600_r2.fastq.gz ... done.\n",
            "Length: 10978145028 (10G) (unauthoritative)\n",
            "\n",
            "CRR126600_r2.fastq. 100%[===================>]  10.22G  9.42MB/s    in 15m 47s \n",
            "\n",
            "2021-05-04 19:49:45 (11.1 MB/s) - Control connection closed.\n",
            "Retrying.\n",
            "\n",
            "--2021-05-04 20:04:46--  ftp://download.big.ac.cn/gsa3/CRA002497/CRR126600/CRR126600_r2.fastq.gz\n",
            "  (try: 2) => ‘CRR126600_r2.fastq.gz’\n",
            "Connecting to download.big.ac.cn (download.big.ac.cn)|124.16.164.229|:21... connected.\n",
            "Logging in as anonymous ... Logged in!\n",
            "==> SYST ... done.    ==> PWD ... done.\n",
            "==> TYPE I ... done.  ==> CWD (1) /gsa3/CRA002497/CRR126600 ... done.\n",
            "==> SIZE CRR126600_r2.fastq.gz ... 10978145028\n",
            "File has already been retrieved.\n",
            "2021-05-04 20:04:47 (0.00 B/s) - ‘CRR126600_r2.fastq.gz’ saved [10978145028]\n",
            "\n",
            "--2021-05-04 20:04:48--  ftp://download.big.ac.cn/gsa3/CRA002497/CRR126601/CRR126601_f1.fastq.gz\n",
            "           => ‘CRR126601_f1.fastq.gz’\n",
            "Resolving download.big.ac.cn (download.big.ac.cn)... 124.16.164.229\n",
            "Connecting to download.big.ac.cn (download.big.ac.cn)|124.16.164.229|:21... connected.\n",
            "Logging in as anonymous ... Logged in!\n",
            "==> SYST ... done.    ==> PWD ... done.\n",
            "==> TYPE I ... done.  ==> CWD (1) /gsa3/CRA002497/CRR126601 ... done.\n",
            "==> SIZE CRR126601_f1.fastq.gz ... 2198501816\n",
            "==> PASV ... done.    ==> RETR CRR126601_f1.fastq.gz ... done.\n",
            "Length: 2198501816 (2.0G) (unauthoritative)\n",
            "\n",
            "CRR126601_f1.fastq. 100%[===================>]   2.05G  15.0MB/s    in 2m 49s  \n",
            "\n",
            "2021-05-04 20:07:40 (12.4 MB/s) - ‘CRR126601_f1.fastq.gz’ saved [2198501816]\n",
            "\n",
            "--2021-05-04 20:07:40--  ftp://download.big.ac.cn/gsa3/CRA002497/CRR126601/CRR126601_r2.fastq.gz\n",
            "           => ‘CRR126601_r2.fastq.gz’\n",
            "Resolving download.big.ac.cn (download.big.ac.cn)... 124.16.164.229\n",
            "Connecting to download.big.ac.cn (download.big.ac.cn)|124.16.164.229|:21... connected.\n",
            "Logging in as anonymous ... Logged in!\n",
            "==> SYST ... done.    ==> PWD ... done.\n",
            "==> TYPE I ... done.  ==> CWD (1) /gsa3/CRA002497/CRR126601 ... done.\n",
            "==> SIZE CRR126601_r2.fastq.gz ... 7908165034\n",
            "==> PASV ... done.    ==> RETR CRR126601_r2.fastq.gz ... done.\n",
            "Length: 7908165034 (7.4G) (unauthoritative)\n",
            "\n",
            "CRR126601_r2.fastq. 100%[===================>]   7.36G  7.66MB/s    in 10m 14s \n",
            "\n",
            "2021-05-04 20:17:57 (12.3 MB/s) - Control connection closed.\n",
            "Retrying.\n",
            "\n",
            "--2021-05-04 20:32:58--  ftp://download.big.ac.cn/gsa3/CRA002497/CRR126601/CRR126601_r2.fastq.gz\n",
            "  (try: 2) => ‘CRR126601_r2.fastq.gz’\n",
            "Connecting to download.big.ac.cn (download.big.ac.cn)|124.16.164.229|:21... connected.\n",
            "Logging in as anonymous ... Logged in!\n",
            "==> SYST ... done.    ==> PWD ... done.\n",
            "==> TYPE I ... done.  ==> CWD (1) /gsa3/CRA002497/CRR126601 ... done.\n",
            "==> SIZE CRR126601_r2.fastq.gz ... 7908165034\n",
            "File has already been retrieved.\n",
            "2021-05-04 20:32:59 (0.00 B/s) - ‘CRR126601_r2.fastq.gz’ saved [7908165034]\n",
            "\n",
            "--2021-05-04 20:33:00--  ftp://download.big.ac.cn/gsa3/CRA002497/CRR126602/CRR126602_f1.fastq.gz\n",
            "           => ‘CRR126602_f1.fastq.gz’\n",
            "Resolving download.big.ac.cn (download.big.ac.cn)... 124.16.164.229\n",
            "Connecting to download.big.ac.cn (download.big.ac.cn)|124.16.164.229|:21... connected.\n",
            "Logging in as anonymous ... Logged in!\n",
            "==> SYST ... done.    ==> PWD ... done.\n",
            "==> TYPE I ... done.  ==> CWD (1) /gsa3/CRA002497/CRR126602 ... done.\n",
            "==> SIZE CRR126602_f1.fastq.gz ... 1832846957\n",
            "==> PASV ... done.    ==> RETR CRR126602_f1.fastq.gz ... done.\n",
            "Length: 1832846957 (1.7G) (unauthoritative)\n",
            "\n",
            "CRR126602_f1.fastq. 100%[===================>]   1.71G  12.5MB/s    in 2m 17s  \n",
            "\n",
            "2021-05-04 20:35:20 (12.7 MB/s) - ‘CRR126602_f1.fastq.gz’ saved [1832846957]\n",
            "\n",
            "--2021-05-04 20:35:20--  ftp://download.big.ac.cn/gsa3/CRA002497/CRR126602/CRR126602_r2.fastq.gz\n",
            "           => ‘CRR126602_r2.fastq.gz’\n",
            "Resolving download.big.ac.cn (download.big.ac.cn)... 124.16.164.229\n",
            "Connecting to download.big.ac.cn (download.big.ac.cn)|124.16.164.229|:21... connected.\n",
            "Logging in as anonymous ... Logged in!\n",
            "==> SYST ... done.    ==> PWD ... done.\n",
            "==> TYPE I ... done.  ==> CWD (1) /gsa3/CRA002497/CRR126602 ... done.\n",
            "==> SIZE CRR126602_r2.fastq.gz ... 6574614397\n",
            "==> PASV ... done.    ==> RETR CRR126602_r2.fastq.gz ... done.\n",
            "Length: 6574614397 (6.1G) (unauthoritative)\n",
            "\n",
            "CRR126602_r2.fastq. 100%[===================>]   6.12G  13.8MB/s    in 8m 18s  \n",
            "\n",
            "2021-05-04 20:43:42 (12.6 MB/s) - ‘CRR126602_r2.fastq.gz’ saved [6574614397]\n",
            "\n",
            "--2021-05-04 20:43:42--  ftp://download.big.ac.cn/gsa3/CRA002497/CRR126603/CRR126603_f1.fastq.gz\n",
            "           => ‘CRR126603_f1.fastq.gz’\n",
            "Resolving download.big.ac.cn (download.big.ac.cn)... 124.16.164.229\n",
            "Connecting to download.big.ac.cn (download.big.ac.cn)|124.16.164.229|:21... connected.\n",
            "Logging in as anonymous ... Logged in!\n",
            "==> SYST ... done.    ==> PWD ... done.\n",
            "==> TYPE I ... done.  ==> CWD (1) /gsa3/CRA002497/CRR126603 ... done.\n",
            "==> SIZE CRR126603_f1.fastq.gz ... 1840429909\n",
            "==> PASV ... done.    ==> RETR CRR126603_f1.fastq.gz ... done.\n",
            "Length: 1840429909 (1.7G) (unauthoritative)\n",
            "\n",
            "CRR126603_f1.fastq. 100%[===================>]   1.71G  14.6MB/s    in 2m 6s   \n",
            "\n",
            "2021-05-04 20:45:51 (14.0 MB/s) - ‘CRR126603_f1.fastq.gz’ saved [1840429909]\n",
            "\n",
            "--2021-05-04 20:45:51--  ftp://download.big.ac.cn/gsa3/CRA002497/CRR126603/CRR126603_r2.fastq.gz\n",
            "           => ‘CRR126603_r2.fastq.gz’\n",
            "Resolving download.big.ac.cn (download.big.ac.cn)... 124.16.164.229\n",
            "Connecting to download.big.ac.cn (download.big.ac.cn)|124.16.164.229|:21... connected.\n",
            "Logging in as anonymous ... Logged in!\n",
            "==> SYST ... done.    ==> PWD ... done.\n",
            "==> TYPE I ... done.  ==> CWD (1) /gsa3/CRA002497/CRR126603 ... done.\n",
            "==> SIZE CRR126603_r2.fastq.gz ... 1859469334\n",
            "==> PASV ... done.    ==> RETR CRR126603_r2.fastq.gz ... done.\n",
            "Length: 1859469334 (1.7G) (unauthoritative)\n",
            "\n",
            "CRR126603_r2.fastq. 100%[===================>]   1.73G  12.8MB/s    in 2m 51s  \n",
            "\n",
            "2021-05-04 20:48:45 (10.4 MB/s) - ‘CRR126603_r2.fastq.gz’ saved [1859469334]\n",
            "\n",
            "--2021-05-04 20:48:45--  ftp://download.big.ac.cn/gsa3/CRA002497/CRR126604/CRR126604_f1.fastq.gz\n",
            "           => ‘CRR126604_f1.fastq.gz’\n",
            "Resolving download.big.ac.cn (download.big.ac.cn)... 124.16.164.229\n",
            "Connecting to download.big.ac.cn (download.big.ac.cn)|124.16.164.229|:21... connected.\n",
            "Logging in as anonymous ... Logged in!\n",
            "==> SYST ... done.    ==> PWD ... done.\n",
            "==> TYPE I ... done.  ==> CWD (1) /gsa3/CRA002497/CRR126604 ... done.\n",
            "==> SIZE CRR126604_f1.fastq.gz ... 1418025161\n",
            "==> PASV ... done.    ==> RETR CRR126604_f1.fastq.gz ... done.\n",
            "Length: 1418025161 (1.3G) (unauthoritative)\n",
            "\n",
            "CRR126604_f1.fastq. 100%[===================>]   1.32G  13.2MB/s    in 1m 46s  \n",
            "\n",
            "2021-05-04 20:50:34 (12.8 MB/s) - ‘CRR126604_f1.fastq.gz’ saved [1418025161]\n",
            "\n",
            "--2021-05-04 20:50:34--  ftp://download.big.ac.cn/gsa3/CRA002497/CRR126604/CRR126604_r2.fastq.gz\n",
            "           => ‘CRR126604_r2.fastq.gz’\n",
            "Resolving download.big.ac.cn (download.big.ac.cn)... 124.16.164.229\n",
            "Connecting to download.big.ac.cn (download.big.ac.cn)|124.16.164.229|:21... connected.\n",
            "Logging in as anonymous ... Logged in!\n",
            "==> SYST ... done.    ==> PWD ... done.\n",
            "==> TYPE I ... done.  ==> CWD (1) /gsa3/CRA002497/CRR126604 ... done.\n",
            "==> SIZE CRR126604_r2.fastq.gz ... 1429874944\n",
            "==> PASV ... done.    ==> RETR CRR126604_r2.fastq.gz ... done.\n",
            "Length: 1429874944 (1.3G) (unauthoritative)\n",
            "\n",
            "CRR126604_r2.fastq. 100%[===================>]   1.33G  14.7MB/s    in 96s     \n",
            "\n",
            "2021-05-04 20:52:12 (14.2 MB/s) - ‘CRR126604_r2.fastq.gz’ saved [1429874944]\n",
            "\n",
            "--2021-05-04 20:52:12--  ftp://download.big.ac.cn/gsa3/CRA002497/CRR126605/CRR126605_f1.fastq.gz\n",
            "           => ‘CRR126605_f1.fastq.gz’\n",
            "Resolving download.big.ac.cn (download.big.ac.cn)... 124.16.164.229\n",
            "Connecting to download.big.ac.cn (download.big.ac.cn)|124.16.164.229|:21... connected.\n",
            "Logging in as anonymous ... Logged in!\n",
            "==> SYST ... done.    ==> PWD ... done.\n",
            "==> TYPE I ... done.  ==> CWD (1) /gsa3/CRA002497/CRR126605 ... done.\n",
            "==> SIZE CRR126605_f1.fastq.gz ... 1310443214\n",
            "==> PASV ... done.    ==> RETR CRR126605_f1.fastq.gz ... done.\n",
            "Length: 1310443214 (1.2G) (unauthoritative)\n",
            "\n",
            "CRR126605_f1.fastq. 100%[===================>]   1.22G  15.0MB/s    in 87s     \n",
            "\n",
            "2021-05-04 20:53:42 (14.4 MB/s) - ‘CRR126605_f1.fastq.gz’ saved [1310443214]\n",
            "\n",
            "--2021-05-04 20:53:42--  ftp://download.big.ac.cn/gsa3/CRA002497/CRR126605/CRR126605_r2.fastq.gz\n",
            "           => ‘CRR126605_r2.fastq.gz’\n",
            "Resolving download.big.ac.cn (download.big.ac.cn)... 124.16.164.229\n",
            "Connecting to download.big.ac.cn (download.big.ac.cn)|124.16.164.229|:21... connected.\n",
            "Logging in as anonymous ... Logged in!\n",
            "==> SYST ... done.    ==> PWD ... done.\n",
            "==> TYPE I ... done.  ==> CWD (1) /gsa3/CRA002497/CRR126605 ... done.\n",
            "==> SIZE CRR126605_r2.fastq.gz ... 1324994157\n",
            "==> PASV ... done.    ==> RETR CRR126605_r2.fastq.gz ... done.\n",
            "Length: 1324994157 (1.2G) (unauthoritative)\n",
            "\n",
            "CRR126605_r2.fastq. 100%[===================>]   1.23G  12.3MB/s    in 99s     \n",
            "\n",
            "2021-05-04 20:55:23 (12.8 MB/s) - ‘CRR126605_r2.fastq.gz’ saved [1324994157]\n",
            "\n",
            "--2021-05-04 20:55:23--  ftp://download.big.ac.cn/gsa3/CRA002497/CRR126606/CRR126606_f1.fastq.gz\n",
            "           => ‘CRR126606_f1.fastq.gz’\n",
            "Resolving download.big.ac.cn (download.big.ac.cn)... 124.16.164.229\n",
            "Connecting to download.big.ac.cn (download.big.ac.cn)|124.16.164.229|:21... connected.\n",
            "Logging in as anonymous ... Logged in!\n",
            "==> SYST ... done.    ==> PWD ... done.\n",
            "==> TYPE I ... done.  ==> CWD (1) /gsa3/CRA002497/CRR126606 ... done.\n",
            "==> SIZE CRR126606_f1.fastq.gz ... 1542017138\n",
            "==> PASV ... done.    ==> RETR CRR126606_f1.fastq.gz ... done.\n",
            "Length: 1542017138 (1.4G) (unauthoritative)\n",
            "\n",
            "CRR126606_f1.fastq. 100%[===================>]   1.44G  13.3MB/s    in 1m 57s  \n",
            "\n",
            "2021-05-04 20:57:23 (12.6 MB/s) - ‘CRR126606_f1.fastq.gz’ saved [1542017138]\n",
            "\n",
            "--2021-05-04 20:57:23--  ftp://download.big.ac.cn/gsa3/CRA002497/CRR126606/CRR126606_r2.fastq.gz\n",
            "           => ‘CRR126606_r2.fastq.gz’\n",
            "Resolving download.big.ac.cn (download.big.ac.cn)... 124.16.164.229\n",
            "Connecting to download.big.ac.cn (download.big.ac.cn)|124.16.164.229|:21... connected.\n",
            "Logging in as anonymous ... Logged in!\n",
            "==> SYST ... done.    ==> PWD ... done.\n",
            "==> TYPE I ... done.  ==> CWD (1) /gsa3/CRA002497/CRR126606 ... done.\n",
            "==> SIZE CRR126606_r2.fastq.gz ... 1555276529\n",
            "==> PASV ... done.    ==> RETR CRR126606_r2.fastq.gz ... done.\n",
            "Length: 1555276529 (1.4G) (unauthoritative)\n",
            "\n",
            "CRR126606_r2.fastq. 100%[===================>]   1.45G  14.7MB/s    in 1m 45s  \n",
            "\n",
            "2021-05-04 20:59:11 (14.1 MB/s) - ‘CRR126606_r2.fastq.gz’ saved [1555276529]\n",
            "\n",
            "--2021-05-04 20:59:11--  ftp://download.big.ac.cn/gsa3/CRA002497/CRR126607/CRR126607_f1.fastq.gz\n",
            "           => ‘CRR126607_f1.fastq.gz’\n",
            "Resolving download.big.ac.cn (download.big.ac.cn)... 124.16.164.229\n",
            "Connecting to download.big.ac.cn (download.big.ac.cn)|124.16.164.229|:21... connected.\n",
            "Logging in as anonymous ... Logged in!\n",
            "==> SYST ... done.    ==> PWD ... done.\n",
            "==> TYPE I ... done.  ==> CWD (1) /gsa3/CRA002497/CRR126607 ... done.\n",
            "==> SIZE CRR126607_f1.fastq.gz ... 2218261239\n",
            "==> PASV ... done.    ==> RETR CRR126607_f1.fastq.gz ... done.\n",
            "Length: 2218261239 (2.1G) (unauthoritative)\n",
            "\n",
            "CRR126607_f1.fastq. 100%[===================>]   2.07G  14.7MB/s    in 2m 27s  \n",
            "\n",
            "2021-05-04 21:01:40 (14.4 MB/s) - ‘CRR126607_f1.fastq.gz’ saved [2218261239]\n",
            "\n",
            "--2021-05-04 21:01:40--  ftp://download.big.ac.cn/gsa3/CRA002497/CRR126607/CRR126607_r2.fastq.gz\n",
            "           => ‘CRR126607_r2.fastq.gz’\n",
            "Resolving download.big.ac.cn (download.big.ac.cn)... 124.16.164.229\n",
            "Connecting to download.big.ac.cn (download.big.ac.cn)|124.16.164.229|:21... connected.\n",
            "Logging in as anonymous ... Logged in!\n",
            "==> SYST ... done.    ==> PWD ... done.\n",
            "==> TYPE I ... done.  ==> CWD (1) /gsa3/CRA002497/CRR126607 ... done.\n",
            "==> SIZE CRR126607_r2.fastq.gz ... 2304928119\n",
            "==> PASV ... done.    ==> RETR CRR126607_r2.fastq.gz ... done.\n",
            "Length: 2304928119 (2.1G) (unauthoritative)\n",
            "\n",
            "CRR126607_r2.fastq. 100%[===================>]   2.15G  13.2MB/s    in 3m 22s  \n",
            "\n",
            "2021-05-04 21:05:06 (10.9 MB/s) - ‘CRR126607_r2.fastq.gz’ saved [2304928119]\n",
            "\n",
            "--2021-05-04 21:05:06--  ftp://download.big.ac.cn/gsa3/CRA002497/CRR126608/CRR126608_f1.fastq.gz\n",
            "           => ‘CRR126608_f1.fastq.gz’\n",
            "Resolving download.big.ac.cn (download.big.ac.cn)... 124.16.164.229\n",
            "Connecting to download.big.ac.cn (download.big.ac.cn)|124.16.164.229|:21... connected.\n",
            "Logging in as anonymous ... Logged in!\n",
            "==> SYST ... done.    ==> PWD ... done.\n",
            "==> TYPE I ... done.  ==> CWD (1) /gsa3/CRA002497/CRR126608 ... done.\n",
            "==> SIZE CRR126608_f1.fastq.gz ... 1196560761\n",
            "==> PASV ... done.    ==> RETR CRR126608_f1.fastq.gz ... done.\n",
            "Length: 1196560761 (1.1G) (unauthoritative)\n",
            "\n",
            "CRR126608_f1.fastq. 100%[===================>]   1.11G  13.4MB/s    in 93s     \n",
            "\n",
            "2021-05-04 21:06:41 (12.3 MB/s) - ‘CRR126608_f1.fastq.gz’ saved [1196560761]\n",
            "\n",
            "--2021-05-04 21:06:41--  ftp://download.big.ac.cn/gsa3/CRA002497/CRR126608/CRR126608_r2.fastq.gz\n",
            "           => ‘CRR126608_r2.fastq.gz’\n",
            "Resolving download.big.ac.cn (download.big.ac.cn)... 124.16.164.229\n",
            "Connecting to download.big.ac.cn (download.big.ac.cn)|124.16.164.229|:21... connected.\n",
            "Logging in as anonymous ... Logged in!\n",
            "==> SYST ... done.    ==> PWD ... done.\n",
            "==> TYPE I ... done.  ==> CWD (1) /gsa3/CRA002497/CRR126608 ... done.\n",
            "==> SIZE CRR126608_r2.fastq.gz ... 1256159336\n",
            "==> PASV ... done.    ==> RETR CRR126608_r2.fastq.gz ... done.\n",
            "Length: 1256159336 (1.2G) (unauthoritative)\n",
            "\n",
            "CRR126608_r2.fastq. 100%[===================>]   1.17G  14.8MB/s    in 85s     \n",
            "\n",
            "2021-05-04 21:08:08 (14.1 MB/s) - ‘CRR126608_r2.fastq.gz’ saved [1256159336]\n",
            "\n",
            "--2021-05-04 21:08:08--  ftp://download.big.ac.cn/gsa3/CRA002497/CRR126609/CRR126609_f1.fastq.gz\n",
            "           => ‘CRR126609_f1.fastq.gz’\n",
            "Resolving download.big.ac.cn (download.big.ac.cn)... 124.16.164.229\n",
            "Connecting to download.big.ac.cn (download.big.ac.cn)|124.16.164.229|:21... connected.\n",
            "Logging in as anonymous ... Logged in!\n",
            "==> SYST ... done.    ==> PWD ... done.\n",
            "==> TYPE I ... done.  ==> CWD (1) /gsa3/CRA002497/CRR126609 ... done.\n",
            "==> SIZE CRR126609_f1.fastq.gz ... 3037407612\n",
            "==> PASV ... done.    ==> RETR CRR126609_f1.fastq.gz ... done.\n",
            "Length: 3037407612 (2.8G) (unauthoritative)\n",
            "\n",
            "CRR126609_f1.fastq. 100%[===================>]   2.83G  13.4MB/s    in 4m 3s   \n",
            "\n",
            "2021-05-04 21:12:14 (11.9 MB/s) - ‘CRR126609_f1.fastq.gz’ saved [3037407612]\n",
            "\n",
            "--2021-05-04 21:12:14--  ftp://download.big.ac.cn/gsa3/CRA002497/CRR126609/CRR126609_r2.fastq.gz\n",
            "           => ‘CRR126609_r2.fastq.gz’\n",
            "Resolving download.big.ac.cn (download.big.ac.cn)... 124.16.164.229\n",
            "Connecting to download.big.ac.cn (download.big.ac.cn)|124.16.164.229|:21... connected.\n",
            "Logging in as anonymous ... Logged in!\n",
            "==> SYST ... done.    ==> PWD ... done.\n",
            "==> TYPE I ... done.  ==> CWD (1) /gsa3/CRA002497/CRR126609 ... done.\n",
            "==> SIZE CRR126609_r2.fastq.gz ... 3173320425\n",
            "==> PASV ... done.    ==> RETR CRR126609_r2.fastq.gz ... done.\n",
            "Length: 3173320425 (3.0G) (unauthoritative)\n",
            "\n",
            "CRR126609_r2.fastq. 100%[===================>]   2.96G  11.9MB/s    in 4m 12s  \n",
            "\n",
            "2021-05-04 21:16:28 (12.0 MB/s) - ‘CRR126609_r2.fastq.gz’ saved [3173320425]\n",
            "\n",
            "--2021-05-04 21:16:28--  ftp://download.big.ac.cn/gsa3/CRA002497/CRR126610/CRR126610_f1.fastq.gz\n",
            "           => ‘CRR126610_f1.fastq.gz’\n",
            "Resolving download.big.ac.cn (download.big.ac.cn)... 124.16.164.229\n",
            "Connecting to download.big.ac.cn (download.big.ac.cn)|124.16.164.229|:21... connected.\n",
            "Logging in as anonymous ... Logged in!\n",
            "==> SYST ... done.    ==> PWD ... done.\n",
            "==> TYPE I ... done.  ==> CWD (1) /gsa3/CRA002497/CRR126610 ... done.\n",
            "==> SIZE CRR126610_f1.fastq.gz ... 1566016555\n",
            "==> PASV ... done.    ==> RETR CRR126610_f1.fastq.gz ... done.\n",
            "Length: 1566016555 (1.5G) (unauthoritative)\n",
            "\n",
            "CRR126610_f1.fastq. 100%[===================>]   1.46G  13.4MB/s    in 1m 48s  \n",
            "\n",
            "2021-05-04 21:18:19 (13.9 MB/s) - ‘CRR126610_f1.fastq.gz’ saved [1566016555]\n",
            "\n",
            "--2021-05-04 21:18:19--  ftp://download.big.ac.cn/gsa3/CRA002497/CRR126610/CRR126610_r2.fastq.gz\n",
            "           => ‘CRR126610_r2.fastq.gz’\n",
            "Resolving download.big.ac.cn (download.big.ac.cn)... 124.16.164.229\n",
            "Connecting to download.big.ac.cn (download.big.ac.cn)|124.16.164.229|:21... connected.\n",
            "Logging in as anonymous ... Logged in!\n",
            "==> SYST ... done.    ==> PWD ... done.\n",
            "==> TYPE I ... done.  ==> CWD (1) /gsa3/CRA002497/CRR126610 ... done.\n",
            "==> SIZE CRR126610_r2.fastq.gz ... 1642193416\n",
            "==> PASV ... done.    ==> RETR CRR126610_r2.fastq.gz ... done.\n",
            "Length: 1642193416 (1.5G) (unauthoritative)\n",
            "\n",
            "CRR126610_r2.fastq. 100%[===================>]   1.53G  12.1MB/s    in 2m 4s   \n",
            "\n",
            "2021-05-04 21:20:27 (12.6 MB/s) - ‘CRR126610_r2.fastq.gz’ saved [1642193416]\n",
            "\n"
          ],
          "name": "stdout"
        }
      ]
    },
    {
      "cell_type": "code",
      "metadata": {
        "id": "PC9oETW1pE9t",
        "colab": {
          "base_uri": "https://localhost:8080/"
        },
        "outputId": "142f1ab5-d910-4080-ee05-aa6006a009a9"
      },
      "source": [
        "if bam:\n",
        "  # Download the corresponding Kallisto index to folder containing fastqs\n",
        "  !kb ref -d $species_kb -i index.idx -g t2g.txt -f1 transcriptome.fasta\n",
        "\n",
        "if not bam and fastq_ffqlinks:\n",
        "  %cd /content\n",
        "\n",
        "  # Download the corresponding Kallisto index to content folder\n",
        "  !kb ref -d $species_kb -i index.idx -g t2g.txt -f1 transcriptome.fasta\n",
        "\n",
        "if not bam and not fastq_ffqlinks:\n",
        "  %cd /content/fastqs\n",
        "\n",
        "  # Download the corresponding Kallisto index to fastq folder\n",
        "  !kb ref -d $species_kb -i index.idx -g t2g.txt -f1 transcriptome.fasta"
      ],
      "execution_count": 10,
      "outputs": [
        {
          "output_type": "stream",
          "text": [
            "/content/fastqs\n",
            "[2021-05-04 21:20:30,223]    INFO Downloading files for human from https://caltech.box.com/shared/static/v1nm7lpnqz5syh8dyzdk2zs8bglncfib.gz to tmp/v1nm7lpnqz5syh8dyzdk2zs8bglncfib.gz\n",
            "100% 2.23G/2.23G [01:56<00:00, 20.5MB/s]\n",
            "[2021-05-04 21:22:27,909]    INFO Extracting files from tmp/v1nm7lpnqz5syh8dyzdk2zs8bglncfib.gz\n"
          ],
          "name": "stdout"
        }
      ]
    },
    {
      "cell_type": "code",
      "metadata": {
        "id": "vHVNa51Cp9Nr",
        "colab": {
          "base_uri": "https://localhost:8080/"
        },
        "outputId": "407e942c-c34e-4dbc-fb5a-823ae86fbdf4"
      },
      "source": [
        "# Check to make sure the metadata is in the right order after sorting\n",
        "print(fastqs)"
      ],
      "execution_count": 11,
      "outputs": [
        {
          "output_type": "stream",
          "text": [
            "['CRR126599_f1.fastq.gz', 'CRR126599_r2.fastq.gz', 'CRR126600_f1.fastq.gz', 'CRR126600_r2.fastq.gz', 'CRR126601_f1.fastq.gz', 'CRR126601_r2.fastq.gz', 'CRR126602_f1.fastq.gz', 'CRR126602_r2.fastq.gz', 'CRR126603_f1.fastq.gz', 'CRR126603_r2.fastq.gz', 'CRR126604_f1.fastq.gz', 'CRR126604_r2.fastq.gz', 'CRR126605_f1.fastq.gz', 'CRR126605_r2.fastq.gz', 'CRR126606_f1.fastq.gz', 'CRR126606_r2.fastq.gz', 'CRR126607_f1.fastq.gz', 'CRR126607_r2.fastq.gz', 'CRR126608_f1.fastq.gz', 'CRR126608_r2.fastq.gz', 'CRR126609_f1.fastq.gz', 'CRR126609_r2.fastq.gz', 'CRR126610_f1.fastq.gz', 'CRR126610_r2.fastq.gz']\n"
          ],
          "name": "stdout"
        }
      ]
    },
    {
      "cell_type": "markdown",
      "metadata": {
        "id": "VInyuq1Dp7iz"
      },
      "source": [
        "# Process fastq files (modify kb command according to fastqs list)\n"
      ]
    },
    {
      "cell_type": "code",
      "metadata": {
        "id": "OcqtBuH-pRaX",
        "colab": {
          "base_uri": "https://localhost:8080/"
        },
        "outputId": "a9975156-a3fb-4079-b9a7-3594c4fee59f"
      },
      "source": [
        "fastqs"
      ],
      "execution_count": 12,
      "outputs": [
        {
          "output_type": "execute_result",
          "data": {
            "text/plain": [
              "['CRR126599_f1.fastq.gz',\n",
              " 'CRR126599_r2.fastq.gz',\n",
              " 'CRR126600_f1.fastq.gz',\n",
              " 'CRR126600_r2.fastq.gz',\n",
              " 'CRR126601_f1.fastq.gz',\n",
              " 'CRR126601_r2.fastq.gz',\n",
              " 'CRR126602_f1.fastq.gz',\n",
              " 'CRR126602_r2.fastq.gz',\n",
              " 'CRR126603_f1.fastq.gz',\n",
              " 'CRR126603_r2.fastq.gz',\n",
              " 'CRR126604_f1.fastq.gz',\n",
              " 'CRR126604_r2.fastq.gz',\n",
              " 'CRR126605_f1.fastq.gz',\n",
              " 'CRR126605_r2.fastq.gz',\n",
              " 'CRR126606_f1.fastq.gz',\n",
              " 'CRR126606_r2.fastq.gz',\n",
              " 'CRR126607_f1.fastq.gz',\n",
              " 'CRR126607_r2.fastq.gz',\n",
              " 'CRR126608_f1.fastq.gz',\n",
              " 'CRR126608_r2.fastq.gz',\n",
              " 'CRR126609_f1.fastq.gz',\n",
              " 'CRR126609_r2.fastq.gz',\n",
              " 'CRR126610_f1.fastq.gz',\n",
              " 'CRR126610_r2.fastq.gz']"
            ]
          },
          "metadata": {
            "tags": []
          },
          "execution_count": 0
        }
      ]
    },
    {
      "cell_type": "code",
      "metadata": {
        "id": "5qFzPj-0kZTi",
        "colab": {
          "base_uri": "https://localhost:8080/"
        },
        "outputId": "2e787302-2f6e-4c4d-8a37-6f523b74e3d5"
      },
      "source": [
        "# Specify the sample number and whether they are paired-ended\n",
        "\n",
        "\n",
        "if no_samples == 1:\n",
        "\n",
        "  # Write the kb count command as a string with all fastqs of the list as an input\n",
        "  cmd = \"kb count --h5ad -i index.idx -g t2g.txt -x \" + technology_kb + \" -o output\" + sample_id[0] + \" \"\\\n",
        "  + \"--filter bustools -t 2 --overwrite \" + \"'\" +  \"' '\".join(fastqs) + \"'\"\n",
        "  \n",
        "  # Execute it\n",
        "  !$cmd\n",
        "\n",
        "# If more than one sample, iterate through fastqs accordingly\n",
        "else:\n",
        "\n",
        "  # Initializa counter for fastq files\n",
        "  j = 0\n",
        "\n",
        "  # Loop over samples for analysis\n",
        "  for i in range(no_samples):\n",
        "\n",
        "    fastqs_to_analyze = fastqs[j:j + fastqs_per_sample[i]]\n",
        "    # Write the kb count command as a string\n",
        "    cmd = \"kb count --h5ad -i ../index.idx -g ../t2g.txt -x \" + technology_kb + \" -o output\" + sample_id[i] + \" \\\n",
        "    --filter bustools -t 2 --overwrite \" + \"'\" +  \"' '\".join(fastqs_to_analyze) + \"'\"\n",
        "\n",
        "    # Execute it\n",
        "    !$cmd\n",
        "\n",
        "    # Update j to move to the next set of fastq\n",
        "    j = j + fastqs_per_sample[i]\n",
        "\n",
        "\n",
        "\n",
        "\n",
        "\n"
      ],
      "execution_count": 13,
      "outputs": [
        {
          "output_type": "stream",
          "text": [
            "[2021-05-04 21:23:06,480]    INFO Using index index.idx to generate BUS file to outputCRX1022878 from\n",
            "[2021-05-04 21:23:06,481]    INFO         CRR126599_f1.fastq.gz\n",
            "[2021-05-04 21:23:06,481]    INFO         CRR126599_r2.fastq.gz\n",
            "[2021-05-04 21:23:06,481]    INFO         CRR126600_f1.fastq.gz\n",
            "[2021-05-04 21:23:06,481]    INFO         CRR126600_r2.fastq.gz\n",
            "[2021-05-04 21:23:06,481]    INFO         CRR126601_f1.fastq.gz\n",
            "[2021-05-04 21:23:06,481]    INFO         CRR126601_r2.fastq.gz\n",
            "[2021-05-04 21:23:06,481]    INFO         CRR126602_f1.fastq.gz\n",
            "[2021-05-04 21:23:06,481]    INFO         CRR126602_r2.fastq.gz\n",
            "[2021-05-04 21:23:06,481]    INFO         CRR126603_f1.fastq.gz\n",
            "[2021-05-04 21:23:06,481]    INFO         CRR126603_r2.fastq.gz\n",
            "[2021-05-04 21:23:06,481]    INFO         CRR126604_f1.fastq.gz\n",
            "[2021-05-04 21:23:06,481]    INFO         CRR126604_r2.fastq.gz\n",
            "[2021-05-04 21:23:06,481]    INFO         CRR126605_f1.fastq.gz\n",
            "[2021-05-04 21:23:06,481]    INFO         CRR126605_r2.fastq.gz\n",
            "[2021-05-04 21:23:06,481]    INFO         CRR126606_f1.fastq.gz\n",
            "[2021-05-04 21:23:06,481]    INFO         CRR126606_r2.fastq.gz\n",
            "[2021-05-04 21:23:06,481]    INFO         CRR126607_f1.fastq.gz\n",
            "[2021-05-04 21:23:06,481]    INFO         CRR126607_r2.fastq.gz\n",
            "[2021-05-04 21:23:06,481]    INFO         CRR126608_f1.fastq.gz\n",
            "[2021-05-04 21:23:06,481]    INFO         CRR126608_r2.fastq.gz\n",
            "[2021-05-04 21:23:06,481]    INFO         CRR126609_f1.fastq.gz\n",
            "[2021-05-04 21:23:06,481]    INFO         CRR126609_r2.fastq.gz\n",
            "[2021-05-04 21:23:06,481]    INFO         CRR126610_f1.fastq.gz\n",
            "[2021-05-04 21:23:06,481]    INFO         CRR126610_r2.fastq.gz\n",
            "[2021-05-04 23:20:32,179]    INFO Sorting BUS file outputCRX1022878/output.bus to outputCRX1022878/tmp/output.s.bus\n",
            "[2021-05-04 23:26:25,739]    INFO Whitelist not provided\n",
            "[2021-05-04 23:26:25,742]    INFO Copying pre-packaged 10XV2 whitelist to outputCRX1022878\n",
            "[2021-05-04 23:26:25,875]    INFO Inspecting BUS file outputCRX1022878/tmp/output.s.bus\n",
            "[2021-05-04 23:27:06,269]    INFO Correcting BUS records in outputCRX1022878/tmp/output.s.bus to outputCRX1022878/tmp/output.s.c.bus with whitelist outputCRX1022878/10xv2_whitelist.txt\n",
            "[2021-05-04 23:28:02,890]    INFO Sorting BUS file outputCRX1022878/tmp/output.s.c.bus to outputCRX1022878/output.unfiltered.bus\n",
            "[2021-05-04 23:30:22,629]    INFO Generating count matrix outputCRX1022878/counts_unfiltered/cells_x_genes from BUS file outputCRX1022878/output.unfiltered.bus\n",
            "[2021-05-04 23:31:35,436]    INFO Reading matrix outputCRX1022878/counts_unfiltered/cells_x_genes.mtx\n",
            "[2021-05-04 23:32:16,333]    INFO Writing matrix to h5ad outputCRX1022878/counts_unfiltered/adata.h5ad\n",
            "[2021-05-04 23:32:17,548]    INFO Filtering with bustools\n",
            "[2021-05-04 23:32:17,548]    INFO Generating whitelist outputCRX1022878/filter_barcodes.txt from BUS file outputCRX1022878/output.unfiltered.bus\n",
            "[2021-05-04 23:32:18,717]    INFO Correcting BUS records in outputCRX1022878/output.unfiltered.bus to outputCRX1022878/tmp/output.unfiltered.c.bus with whitelist outputCRX1022878/filter_barcodes.txt\n",
            "[2021-05-04 23:33:16,568]    INFO Sorting BUS file outputCRX1022878/tmp/output.unfiltered.c.bus to outputCRX1022878/output.filtered.bus\n",
            "[2021-05-04 23:35:19,697]    INFO Generating count matrix outputCRX1022878/counts_filtered/cells_x_genes from BUS file outputCRX1022878/output.filtered.bus\n",
            "[2021-05-04 23:36:23,505]    INFO Reading matrix outputCRX1022878/counts_filtered/cells_x_genes.mtx\n",
            "[2021-05-04 23:36:56,179]    INFO Writing matrix to h5ad outputCRX1022878/counts_filtered/adata.h5ad\n"
          ],
          "name": "stdout"
        }
      ]
    },
    {
      "cell_type": "markdown",
      "metadata": {
        "id": "tDijOZzrqhN2"
      },
      "source": [
        "# Load unfiltered matrix and assign filters to each matrix individually"
      ]
    },
    {
      "cell_type": "markdown",
      "metadata": {
        "id": "VkNLZh_pNFFw"
      },
      "source": [
        "## Load the unfiltered matrix (check dimensions)"
      ]
    },
    {
      "cell_type": "code",
      "metadata": {
        "id": "PppRNeV8AIyw"
      },
      "source": [
        "# Define dict to store data\n",
        "results = {}\n"
      ],
      "execution_count": 15,
      "outputs": []
    },
    {
      "cell_type": "code",
      "metadata": {
        "cellView": "both",
        "id": "pKmtGf3c_BiZ",
        "outputId": "56e32fc8-8058-419c-bbf4-9e099e5e06d9",
        "colab": {
          "base_uri": "https://localhost:8080/"
        }
      },
      "source": [
        "# load the unfiltered matrix\n",
        "for i in range(no_samples):\n",
        "  results[sample_id[i]] = anndata.read_h5ad(\"output\" + sample_id[i] + \"/counts_unfiltered/adata.h5ad\")\n",
        "  results[sample_id[i]].var[\"gene_id\"] = results[sample_id[i]].var.index.values\n",
        "\n",
        "  t2g = pd.read_csv(\"t2g.txt\", header=None, names=[\"tid\", \"gene_id\", \"gene_name\"], sep=\"\\t\")\n",
        "  t2g.index = t2g.gene_id\n",
        "  t2g = t2g.loc[~t2g.index.duplicated(keep='first')]\n",
        "\n",
        "  results[sample_id[i]].var[\"gene_name\"] = results[sample_id[i]].var.gene_id.map(t2g[\"gene_name\"])\n",
        "  results[sample_id[i]].var.index = results[sample_id[i]].var[\"gene_name\"]\n",
        "  print(\"The unfiltered matrix \" + sample_id[i] + \" contains {} cells by {} genes\".format(len(results[sample_id[i]].obs), len(results[sample_id[i]].var)))\n",
        "\n",
        "  results[sample_id[i]].obs[\"cell_counts\"] = results[sample_id[i]].X.sum(axis=1)\n",
        "  results[sample_id[i]].var[\"gene_counts\"] = nd(results[sample_id[i]].X.sum(axis=0))\n",
        "\n",
        "  results[sample_id[i]].obs[\"n_genes\"] = nd((results[sample_id[i]].X>0).sum(axis=1))\n",
        "  results[sample_id[i]].var[\"n_cells\"] = nd((results[sample_id[i]].X>0).sum(axis=0))\n",
        "\n",
        "  mito_genes = results[sample_id[i]].var_names.str.startswith(\"MT-\" or \"mt-\") \n",
        "  results[sample_id[i]].obs[\"percent_mito\"] = results[sample_id[i]][:,mito_genes].X.sum(axis=1)/results[sample_id[i]].X.sum(axis=1)*100\n",
        "\n",
        "  # Changing the name of the index is necessary to write the file (it won't work with duplicated names)\n",
        "  results[sample_id[i]].var.index.name = \"index\"\n",
        "\n"
      ],
      "execution_count": 16,
      "outputs": [
        {
          "output_type": "stream",
          "text": [
            "The unfiltered matrix CRX1022878 contains 420898 cells by 60623 genes\n"
          ],
          "name": "stdout"
        }
      ]
    },
    {
      "cell_type": "markdown",
      "metadata": {
        "id": "hDAUH3eH_2RA"
      },
      "source": [
        "## Assign filters for each matrix individually"
      ]
    },
    {
      "cell_type": "code",
      "metadata": {
        "id": "ukinuaKk_6Po"
      },
      "source": [
        "# Modify this manually to change sample after having assigned the \"expected_num_cells\" and \"mito_criteria\" parameters\n",
        "samp_n = 0\n",
        "\n",
        "\n",
        "# Filtering criteria\n",
        "cell_threshold = 100\n",
        "gene_threshold = 3\n",
        "\n",
        "mito_criteria = 30"
      ],
      "execution_count": 17,
      "outputs": []
    },
    {
      "cell_type": "code",
      "metadata": {
        "id": "a5wZB5pEfwNs",
        "cellView": "form",
        "outputId": "87ae8c62-2a07-4913-85d1-19e2a4036b60",
        "colab": {
          "base_uri": "https://localhost:8080/",
          "height": 722
        }
      },
      "source": [
        "\n",
        "expected_num_cells = 8000#@param {type:\"integer\"}\n",
        "knee = np.sort(nd(results[sample_id[samp_n]].X.sum(axis=1)))[::-1]\n",
        "\n",
        "fig, ax = plt.subplots(figsize=(5, 5))\n",
        "\n",
        "x = knee\n",
        "y = range(len(knee))\n",
        "\n",
        "ax.loglog(x, y, linewidth=5, color=\"g\")\n",
        "\n",
        "ax.axvline(x=knee[expected_num_cells], linewidth=3, color=\"k\")\n",
        "ax.axhline(y=expected_num_cells, linewidth=3, color=\"k\")\n",
        "\n",
        "ax.set_xlabel(\"UMI Counts\")\n",
        "ax.set_ylabel(\"Set of Barcodes\")\n",
        "\n",
        "plt.show()\n",
        "\n",
        "cell_threshold = knee[expected_num_cells]\n",
        "\n",
        "results[\"cell_threshold\" + sample_id[samp_n]] = knee[expected_num_cells]\n",
        "\n",
        "print (\"Cells were filtered down to \" + str(expected_num_cells) + \" with at least \" + str(cell_threshold) + \" UMIs\")\n",
        "\n",
        "\n",
        "mito_criteria = 18#@param {type:\"integer\"}\n",
        "results[\"mito_criteria\" + sample_id[samp_n]] = mito_criteria\n",
        "\n",
        "fig, ax = plt.subplots(figsize=(5,5))\n",
        "\n",
        "\n",
        "x = nd(results[sample_id[samp_n]].obs[\"cell_counts\"][results[sample_id[samp_n]].obs[\"cell_counts\"] > cell_threshold])\n",
        "y = nd(results[sample_id[samp_n]].obs[\"percent_mito\"][results[sample_id[samp_n]].obs[\"cell_counts\"] > cell_threshold])\n",
        "\n",
        "ax.scatter(x, y, color=\"green\", alpha=0.1)\n",
        "\n",
        "ax.axhline(y=mito_criteria, linestyle=\"--\", color=\"k\")\n",
        "\n",
        "\n",
        "ax.set_xlabel(\"UMI Counts\")\n",
        "ax.set_ylabel(\"Percent mito\")\n",
        "\n",
        "\n",
        "plt.show()\n",
        "\n",
        "print(\"We select \" + str(mito_criteria) + \" % as the mitochondrial content threshold\")"
      ],
      "execution_count": 19,
      "outputs": [
        {
          "output_type": "display_data",
          "data": {
            "image/png": "[encoded data removed]",
            "text/plain": [
              "<Figure size 360x360 with 1 Axes>"
            ]
          },
          "metadata": {
            "tags": [],
            "image/png": {
              "width": 358,
              "height": 337
            },
            "needs_background": "light"
          }
        },
        {
          "output_type": "stream",
          "text": [
            "Cells were filtered down to 8000 with at least 3154.0 UMIs\n"
          ],
          "name": "stdout"
        },
        {
          "output_type": "display_data",
          "data": {
            "image/png": "[encoded data removed]",
            "text/plain": [
              "<Figure size 360x360 with 1 Axes>"
            ]
          },
          "metadata": {
            "tags": [],
            "image/png": {
              "width": 362,
              "height": 337
            },
            "needs_background": "light"
          }
        },
        {
          "output_type": "stream",
          "text": [
            "We select 18 % as the mitochondrial content threshold\n"
          ],
          "name": "stdout"
        }
      ]
    },
    {
      "cell_type": "markdown",
      "metadata": {
        "id": "eP9j2ouPq9KY"
      },
      "source": [
        "# Filter matrix"
      ]
    },
    {
      "cell_type": "code",
      "metadata": {
        "id": "sE51WUA3gVmG",
        "outputId": "ebd3af3e-c28e-4a6f-f710-2f1f8b62dc52",
        "colab": {
          "base_uri": "https://localhost:8080/"
        }
      },
      "source": [
        "for i in range(no_samples):\n",
        "  results[sample_id[i]].obs[\"pass_count_filter\"] = results[sample_id[i]].obs[\"cell_counts\"] > results[\"cell_threshold\" + sample_id[i]]\n",
        "  results[sample_id[i]].obs[\"pass_mito_filter\"] = results[sample_id[i]].obs.percent_mito < results[\"mito_criteria\" + sample_id[i]]\n",
        "  results[sample_id[i]].var[\"pass_gene_filter\"] = results[sample_id[i]].var[\"n_cells\"] > gene_threshold\n",
        "\n",
        "  cell_mask = np.logical_and(results[sample_id[i]].obs[\"pass_count_filter\"].values, results[sample_id[i]].obs[\"pass_mito_filter\"].values)\n",
        "  gene_mask = results[sample_id[i]].var[\"pass_gene_filter\"].values\n",
        "\n",
        "  print(\"Current Shape: {:,} cells x {:,} genes\".format(results[sample_id[i]].shape[0], results[sample_id[i]].shape[1]))\n",
        "  print(\"    New shape: {:,} cells x {:,} genes\".format(cell_mask.sum(), gene_mask.sum()))\n",
        "  results[\"data_\" + sample_id[i]] = results[sample_id[i]][cell_mask, gene_mask]"
      ],
      "execution_count": 20,
      "outputs": [
        {
          "output_type": "stream",
          "text": [
            "Current Shape: 420,898 cells x 60,623 genes\n",
            "    New shape: 7,880 cells x 29,410 genes\n"
          ],
          "name": "stdout"
        }
      ]
    },
    {
      "cell_type": "markdown",
      "metadata": {
        "id": "BxPA81yj4TlU"
      },
      "source": [
        "# Anotate and write the Anndata object"
      ]
    },
    {
      "cell_type": "code",
      "metadata": {
        "id": "O-q_Qj2U4kDU",
        "outputId": "21d3f957-80bc-425d-dc8e-136f66c1283a",
        "colab": {
          "base_uri": "https://localhost:8080/"
        }
      },
      "source": [
        "for i in range(no_samples):\n",
        "\n",
        "\n",
        "  results[\"data_\" + sample_id[i]].uns[\"database_id\"] = database_id[i]\n",
        "\n",
        "  results[\"data_\" + sample_id[i]].uns[\"tissue\"] = tissue[i]\n",
        "\n",
        "  results[\"data_\" + sample_id[i]].uns[\"cell_type\"] = cell_type[i]\n",
        "\n",
        "  results[\"data_\" + sample_id[i]].uns[\"sample_id\"] = sample_id[i]\n",
        "\n",
        "  results[\"data_\" + sample_id[i]].uns[\"condition\"] = condition[i]\n",
        "\n",
        "  results[\"data_\" + sample_id[i]].uns[\"species\"] = species[i]\n",
        "\n",
        "  results[\"data_\" + sample_id[i]].uns[\"technology\"] = technology[i]\n",
        "\n",
        "  results[\"data_\" + sample_id[i]].uns[\"paper\"] = paper[i]\n",
        "\n",
        "  results[\"data_\" + sample_id[i]].uns[\"figure\"] = figure[i]\n",
        "\n",
        "\n",
        "%cd /content\n",
        "\n",
        "for i in range(no_samples):\n",
        "\n",
        "  results[\"data_\" + sample_id[i]].write(\"result\" + sample_id[i])"
      ],
      "execution_count": 21,
      "outputs": [
        {
          "output_type": "stream",
          "text": [
            "Trying to set attribute `.uns` of view, copying.\n",
            "Variable names are not unique. To make them unique, call `.var_names_make_unique`.\n",
            "Variable names are not unique. To make them unique, call `.var_names_make_unique`.\n"
          ],
          "name": "stderr"
        },
        {
          "output_type": "stream",
          "text": [
            "/content\n"
          ],
          "name": "stdout"
        },
        {
          "output_type": "stream",
          "text": [
            "... storing 'gene_name' as categorical\n"
          ],
          "name": "stderr"
        }
      ]
    }
  ]
}