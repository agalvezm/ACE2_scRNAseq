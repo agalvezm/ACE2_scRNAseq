{
  "nbformat": 4,
  "nbformat_minor": 0,
  "metadata": {
    "colab": {
      "name": "PRJCA002413_CRX102294.ipynb",
      "provenance": [],
      "collapsed_sections": [],
      "include_colab_link": true
    },
    "kernelspec": {
      "display_name": "Python 3",
      "name": "python3"
    }
  },
  "cells": [
    {
      "cell_type": "markdown",
      "metadata": {
        "id": "view-in-github",
        "colab_type": "text"
      },
      "source": [
        "<a href=\"https://colab.research.google.com/github/agalvezm/ACE2_scRNAseq/blob/master/notebooks_countmatrices/PRJCA002413_CRX102294.ipynb\" target=\"_parent\"><img src=\"https://colab.research.google.com/assets/colab-badge.svg\" alt=\"Open In Colab\"/></a>"
      ]
    },
    {
      "cell_type": "markdown",
      "metadata": {
        "id": "V9ryXluJsJw9"
      },
      "source": [
        "# PRJCA002413_CRX102294"
      ]
    },
    {
      "cell_type": "code",
      "metadata": {
        "id": "ggNFAQJCRh6P"
      },
      "source": [
        "# define the values for the analysis\n",
        "\n",
        "# accession id for the data\n",
        "id = \"PRJCA002413\"\n",
        "samp_id = [\"CRX102294\"]\n",
        "\n",
        "# If only bam available files, set bam = True, Fill link and filename\n",
        "bam = False\n",
        "\n",
        "# If fastq links available but are not ffq links\n",
        "fastq_ffqlinks = False\n",
        "\n",
        "\n",
        "if bam:\n",
        "  # Assign link to python variable\n",
        "  link_to_bam = \"\"\n",
        "  \n",
        "  # Assigns the link to the bash variable BAM_LINK. To be used by wget\n",
        "  %env BAM_LINK=$link_to_bam\n",
        "\n",
        "  # Assign filename to python variable. Used to convert to fastq and remove bam file to fastq after conversion\n",
        "\n",
        "  bam_filename=\"\"\n",
        "\n",
        "\n",
        "if not bam:\n",
        "\n",
        "  # Copy and paste the links from the ACE2 scRNAseq datasets google  spreadsheet\n",
        "  links_raw = \"ftp://download.big.ac.cn/gsa3/CRA002497/CRR126671/CRR126671_f1.fastq.gz\tftp://download.big.ac.cn/gsa3/CRA002497/CRR126671/CRR126671_r2.fastq.gz\tftp://download.big.ac.cn/gsa3/CRA002497/CRR126672/CRR126672_f1.fastq.gz\tftp://download.big.ac.cn/gsa3/CRA002497/CRR126672/CRR126672_r2.fastq.gz\tftp://download.big.ac.cn/gsa3/CRA002497/CRR126673/CRR126673_f1.fastq.gz\tftp://download.big.ac.cn/gsa3/CRA002497/CRR126673/CRR126673_r2.fastq.gz\tftp://download.big.ac.cn/gsa3/CRA002497/CRR126674/CRR126674_f1.fastq.gz\tftp://download.big.ac.cn/gsa3/CRA002497/CRR126674/CRR126674_r2.fastq.gz\tftp://download.big.ac.cn/gsa3/CRA002497/CRR126675/CRR126675_f1.fastq.gz\tftp://download.big.ac.cn/gsa3/CRA002497/CRR126675/CRR126675_r2.fastq.gz\tftp://download.big.ac.cn/gsa3/CRA002497/CRR126676/CRR126676_f1.fastq.gz\tftp://download.big.ac.cn/gsa3/CRA002497/CRR126676/CRR126676_r2.fastq.gz\tftp://download.big.ac.cn/gsa3/CRA002497/CRR126677/CRR126677_f1.fastq.gz\tftp://download.big.ac.cn/gsa3/CRA002497/CRR126677/CRR126677_r2.fastq.gz\tftp://download.big.ac.cn/gsa3/CRA002497/CRR126678/CRR126678_f1.fastq.gz\tftp://download.big.ac.cn/gsa3/CRA002497/CRR126678/CRR126678_r2.fastq.gz\tftp://download.big.ac.cn/gsa3/CRA002497/CRR126679/CRR126679_f1.fastq.gz\tftp://download.big.ac.cn/gsa3/CRA002497/CRR126679/CRR126679_r2.fastq.gz\tftp://download.big.ac.cn/gsa3/CRA002497/CRR126680/CRR126680_f1.fastq.gz\tftp://download.big.ac.cn/gsa3/CRA002497/CRR126680/CRR126680_r2.fastq.gz\tftp://download.big.ac.cn/gsa3/CRA002497/CRR126681/CRR126681_f1.fastq.gz\tftp://download.big.ac.cn/gsa3/CRA002497/CRR126681/CRR126681_r2.fastq.gz\tftp://download.big.ac.cn/gsa3/CRA002497/CRR126682/CRR126682_f1.fastq.gz\tftp://download.big.ac.cn/gsa3/CRA002497/CRR126682/CRR126682_r2.fastq.gz\"\n",
        "\n",
        "  # Convert it to a list where each link is an element\n",
        "  \n",
        "  fastqs = links_raw.split()\n",
        "\n",
        "#sample specific metadata\n",
        "\n",
        "no_samples = 1\n",
        "\n",
        "condition = [\"covid infected, late recovery stage\"] * no_samples"
      ],
      "execution_count": 1,
      "outputs": []
    },
    {
      "cell_type": "code",
      "metadata": {
        "id": "5R3tPDqnoJUn"
      },
      "source": [
        "no_samples = 1\n",
        "\n",
        "fastqs_per_sample = [4, 8, 8] \n",
        "\n",
        "sample_id = samp_id\n",
        "\n",
        "database_id = [id] * no_samples\n",
        "\n",
        "tissue = [\"blood\"] * no_samples\n",
        "\n",
        "cell_type = [\"PBMCs\"] * no_samples\n",
        "\n",
        "species = [\"human\"] * no_samples\n",
        "\n",
        "technology = [\"10xv2\"] * no_samples\n",
        "\n",
        "paper = [\"Wen et al 2020\"] * no_samples\n",
        "\n",
        "figure = [\"Fig: all\"] * no_samples\n",
        "\n",
        "\n",
        "# Set string variables for kb functions\n",
        "\n",
        "species_kb = species[0]\n",
        "\n",
        "technology_kb = technology[0]\n",
        "\n"
      ],
      "execution_count": 2,
      "outputs": []
    },
    {
      "cell_type": "markdown",
      "metadata": {
        "id": "FPwL0-_-KSAw"
      },
      "source": [
        "# Imports and installs"
      ]
    },
    {
      "cell_type": "code",
      "metadata": {
        "colab": {
          "base_uri": "https://localhost:8080/"
        },
        "id": "1HSlUGZEp3oP",
        "outputId": "4531eeff-a772-4e31-d05d-ab32645b94d6"
      },
      "source": [
        "# install and import necessary software\n",
        "\n",
        "# Install kb and scanpy\n",
        "!pip -q install kb-python \n",
        "!pip -q install scanpy\n",
        "\n",
        "import re\n",
        "import os\n",
        "\n",
        "# Setup\n",
        "\n",
        "import anndata\n",
        "import pandas as pd\n",
        "import numpy as np\n",
        "import matplotlib.pyplot as plt\n",
        "import matplotlib as mpl\n",
        "import matplotlib.patches as mpatches\n",
        "import scanpy as sc\n",
        "from scipy import stats\n",
        "\n",
        "from collections import OrderedDict\n",
        "from sklearn.decomposition import TruncatedSVD\n",
        "from sklearn.manifold import TSNE\n",
        "from sklearn.preprocessing import scale\n",
        "\n",
        "from sklearn.cluster import KMeans\n",
        "from sklearn.preprocessing import normalize\n",
        "from sklearn.preprocessing import LabelEncoder\n",
        "from sklearn.neighbors import NeighborhoodComponentsAnalysis\n",
        "from matplotlib import cm\n",
        "from matplotlib.lines import Line2D\n",
        "\n",
        "def nd(arr):\n",
        "    return np.asarray(arr).reshape(-1)\n",
        "def yex(ax):\n",
        "    lims = [np.min([ax.get_xlim(), ax.get_ylim()]),\n",
        "            np.max([ax.get_xlim(), ax.get_ylim()])]\n",
        "\n",
        "    # now plot both limits against eachother\n",
        "    ax.plot(lims, lims, 'k-', alpha=0.75, zorder=0)\n",
        "    ax.set_aspect('equal')\n",
        "    ax.set_xlim(lims)\n",
        "    ax.set_ylim(lims)\n",
        "    return ax\n",
        "\n",
        "def trim_axs(axs, N):\n",
        "    \"\"\"little helper to massage the axs list to have correct length...\"\"\"\n",
        "    axs = axs.flat\n",
        "    for ax in axs[N:]:\n",
        "        ax.remove()\n",
        "    return axs[:N]\n",
        "\n",
        "import warnings\n",
        "warnings.filterwarnings('ignore')\n",
        "\n",
        "fsize=20\n",
        "\n",
        "plt.rcParams.update({'font.size': fsize})\n",
        "%config InlineBackend.figure_format = 'retina'"
      ],
      "execution_count": 3,
      "outputs": [
        {
          "output_type": "stream",
          "text": [
            "\u001b[K     |████████████████████████████████| 59.1MB 109kB/s \n",
            "\u001b[K     |████████████████████████████████| 10.3MB 37.1MB/s \n",
            "\u001b[K     |████████████████████████████████| 133kB 44.4MB/s \n",
            "\u001b[K     |████████████████████████████████| 13.2MB 164kB/s \n",
            "\u001b[K     |████████████████████████████████| 51kB 3.5MB/s \n",
            "\u001b[K     |████████████████████████████████| 81kB 7.1MB/s \n",
            "\u001b[K     |████████████████████████████████| 112kB 50.1MB/s \n",
            "\u001b[K     |████████████████████████████████| 1.2MB 43.6MB/s \n",
            "\u001b[K     |████████████████████████████████| 71kB 7.0MB/s \n",
            "\u001b[?25h  Building wheel for loompy (setup.py) ... \u001b[?25l\u001b[?25hdone\n",
            "  Building wheel for umap-learn (setup.py) ... \u001b[?25l\u001b[?25hdone\n",
            "  Building wheel for sinfo (setup.py) ... \u001b[?25l\u001b[?25hdone\n",
            "  Building wheel for numpy-groupies (setup.py) ... \u001b[?25l\u001b[?25hdone\n",
            "  Building wheel for pynndescent (setup.py) ... \u001b[?25l\u001b[?25hdone\n"
          ],
          "name": "stdout"
        }
      ]
    },
    {
      "cell_type": "markdown",
      "metadata": {
        "id": "7V6FbosVrvP4"
      },
      "source": [
        "# Downloads: (bam (if bam) and index"
      ]
    },
    {
      "cell_type": "code",
      "metadata": {
        "id": "q46hw4zqKUPS"
      },
      "source": [
        "if bam:\n",
        "\n",
        "  # Install bamtofastq from 10x website (only bam files available)\n",
        "  !wget http://cf.10xgenomics.com/misc/bamtofastq-1.2.0\n",
        "  !chmod +x bamtofastq-1.2.0\n",
        "  # Download the bam file\n",
        "  !wget -- continue ${BAM_LINK}\n",
        "\n",
        "\n"
      ],
      "execution_count": 4,
      "outputs": []
    },
    {
      "cell_type": "code",
      "metadata": {
        "id": "tDQlrjtqNF0m"
      },
      "source": [
        "if bam:\n",
        "  # Convert to fastq\n",
        "  !./bamtofastq-1.2.0 --reads-per-fastq=500000000 $bam_filename ./fastqs\\\n",
        "\n",
        "  # Remove original bam file to save space\n",
        "  !rm $bam_filename\n"
      ],
      "execution_count": 5,
      "outputs": []
    },
    {
      "cell_type": "code",
      "metadata": {
        "id": "SXRDRphvqcLe"
      },
      "source": [
        "# Store fastq names on a list\n",
        "\n",
        "if bam:\n",
        "  # cd into fastqs folder\n",
        "  %cd /content/fastqs\n",
        "\n",
        "  #store the name of the folder generated by bamtofastq\n",
        "  _filename = os.listdir()[0]\n",
        "\n",
        "  # cd into that folder\n",
        "  %cd $_filename\n",
        "\n",
        "  # store fastq names in a list\n",
        "  fastqs = os.listdir()\n",
        "\n",
        "\n",
        "  # Remove I1 and R3 reads not relevant for our analysis\n",
        "\n",
        "  # Initialize list containing elements to remove\n",
        "  remov_elem = []\n",
        "\n",
        "  print (\"\\n\\nThis is the complete list of fastqs:\\n -----------\")\n",
        "  for elem in fastqs:\n",
        "    print (elem)\n",
        "\n",
        "  # Search index (I1 or R3) fastqs and remove them from list\n",
        "  for elem in fastqs:\n",
        "    if re.search(\"_R3_\", elem) or re.search(\"_I1_\", elem):\n",
        "      remov_elem = remov_elem +[elem]\n",
        "\n",
        "  fastqs = [elem for elem in fastqs if elem not in remov_elem] \n",
        "\n",
        "  print (\"\\n\\nThis is the filtered list of fastqs:\\n -----------\")\n",
        "  for elem in fastqs:\n",
        "    print (elem)\n"
      ],
      "execution_count": 6,
      "outputs": []
    },
    {
      "cell_type": "code",
      "metadata": {
        "id": "ZnFcqcSgjLBw"
      },
      "source": [
        "# Remove fastqs that wont be analyzed to save space\n",
        "if bam:\n",
        "  for elem in remov_elem:\n",
        "    !rm $elem"
      ],
      "execution_count": 7,
      "outputs": []
    },
    {
      "cell_type": "code",
      "metadata": {
        "id": "FLVS8aB7Dm6J"
      },
      "source": [
        "if bam:\n",
        "  # sort fastqs alphabetically to get R1 and R2 in order\n",
        "  fastqs = sorted(fastqs)"
      ],
      "execution_count": 8,
      "outputs": []
    },
    {
      "cell_type": "code",
      "metadata": {
        "id": "FE9gWbQgpBfR",
        "colab": {
          "base_uri": "https://localhost:8080/"
        },
        "outputId": "45aeb3de-d422-4e34-824e-3f6d1910f0a6"
      },
      "source": [
        "# wget fastqs from non ffq links in fastqs folder\n",
        "if not bam and not fastq_ffqlinks:\n",
        "  !mkdir fastqs\n",
        "  %cd fastqs\n",
        "  while len(os.listdir()) != len(fastqs):\n",
        "    for link in fastqs:\n",
        "      !wget $link --continue\n",
        "\n",
        "  # update fastqs variable with name of files\n",
        "  fastqs = sorted(os.listdir())"
      ],
      "execution_count": 9,
      "outputs": [
        {
          "output_type": "stream",
          "text": [
            "/content/fastqs\n",
            "--2021-05-03 18:20:08--  ftp://download.big.ac.cn/gsa3/CRA002497/CRR126671/CRR126671_f1.fastq.gz\n",
            "           => ‘CRR126671_f1.fastq.gz’\n",
            "Resolving download.big.ac.cn (download.big.ac.cn)... 124.16.164.229\n",
            "Connecting to download.big.ac.cn (download.big.ac.cn)|124.16.164.229|:21... connected.\n",
            "Logging in as anonymous ... Logged in!\n",
            "==> SYST ... done.    ==> PWD ... done.\n",
            "==> TYPE I ... done.  ==> CWD (1) /gsa3/CRA002497/CRR126671 ... done.\n",
            "==> SIZE CRR126671_f1.fastq.gz ... 2293004319\n",
            "==> PASV ... done.    ==> RETR CRR126671_f1.fastq.gz ... done.\n",
            "Length: 2293004319 (2.1G) (unauthoritative)\n",
            "\n",
            "CRR126671_f1.fastq. 100%[===================>]   2.13G  11.9MB/s    in 3m 7s   \n",
            "\n",
            "2021-05-03 18:23:19 (11.7 MB/s) - ‘CRR126671_f1.fastq.gz’ saved [2293004319]\n",
            "\n",
            "--2021-05-03 18:23:19--  ftp://download.big.ac.cn/gsa3/CRA002497/CRR126671/CRR126671_r2.fastq.gz\n",
            "           => ‘CRR126671_r2.fastq.gz’\n",
            "Resolving download.big.ac.cn (download.big.ac.cn)... 124.16.164.229\n",
            "Connecting to download.big.ac.cn (download.big.ac.cn)|124.16.164.229|:21... connected.\n",
            "Logging in as anonymous ... Logged in!\n",
            "==> SYST ... done.    ==> PWD ... done.\n",
            "==> TYPE I ... done.  ==> CWD (1) /gsa3/CRA002497/CRR126671 ... done.\n",
            "==> SIZE CRR126671_r2.fastq.gz ... 8765958874\n",
            "==> PASV ... done.    ==> RETR CRR126671_r2.fastq.gz ... done.\n",
            "Length: 8765958874 (8.2G) (unauthoritative)\n",
            "\n",
            "CRR126671_r2.fastq. 100%[===================>]   8.16G  7.02MB/s    in 20m 16s \n",
            "\n",
            "2021-05-03 18:43:40 (6.87 MB/s) - Control connection closed.\n",
            "Retrying.\n",
            "\n",
            "--2021-05-03 18:58:41--  ftp://download.big.ac.cn/gsa3/CRA002497/CRR126671/CRR126671_r2.fastq.gz\n",
            "  (try: 2) => ‘CRR126671_r2.fastq.gz’\n",
            "Connecting to download.big.ac.cn (download.big.ac.cn)|124.16.164.229|:21... connected.\n",
            "Logging in as anonymous ... Logged in!\n",
            "==> SYST ... done.    ==> PWD ... done.\n",
            "==> TYPE I ... done.  ==> CWD (1) /gsa3/CRA002497/CRR126671 ... done.\n",
            "==> SIZE CRR126671_r2.fastq.gz ... 8765958874\n",
            "File has already been retrieved.\n",
            "2021-05-03 18:58:43 (0.00 B/s) - ‘CRR126671_r2.fastq.gz’ saved [8765958874]\n",
            "\n",
            "--2021-05-03 18:58:43--  ftp://download.big.ac.cn/gsa3/CRA002497/CRR126672/CRR126672_f1.fastq.gz\n",
            "           => ‘CRR126672_f1.fastq.gz’\n",
            "Resolving download.big.ac.cn (download.big.ac.cn)... 124.16.164.229\n",
            "Connecting to download.big.ac.cn (download.big.ac.cn)|124.16.164.229|:21... connected.\n",
            "Logging in as anonymous ... Logged in!\n",
            "==> SYST ... done.    ==> PWD ... done.\n",
            "==> TYPE I ... done.  ==> CWD (1) /gsa3/CRA002497/CRR126672 ... done.\n",
            "==> SIZE CRR126672_f1.fastq.gz ... 1837513178\n",
            "==> PASV ... done.    ==> RETR CRR126672_f1.fastq.gz ... done.\n",
            "Length: 1837513178 (1.7G) (unauthoritative)\n",
            "\n",
            "CRR126672_f1.fastq. 100%[===================>]   1.71G  6.53MB/s    in 5m 1s   \n",
            "\n",
            "2021-05-03 19:03:48 (5.82 MB/s) - ‘CRR126672_f1.fastq.gz’ saved [1837513178]\n",
            "\n",
            "--2021-05-03 19:03:48--  ftp://download.big.ac.cn/gsa3/CRA002497/CRR126672/CRR126672_r2.fastq.gz\n",
            "           => ‘CRR126672_r2.fastq.gz’\n",
            "Resolving download.big.ac.cn (download.big.ac.cn)... 124.16.164.229\n",
            "Connecting to download.big.ac.cn (download.big.ac.cn)|124.16.164.229|:21... connected.\n",
            "Logging in as anonymous ... Logged in!\n",
            "==> SYST ... done.    ==> PWD ... done.\n",
            "==> TYPE I ... done.  ==> CWD (1) /gsa3/CRA002497/CRR126672 ... done.\n",
            "==> SIZE CRR126672_r2.fastq.gz ... 7028354746\n",
            "==> PASV ... done.    ==> RETR CRR126672_r2.fastq.gz ... done.\n",
            "Length: 7028354746 (6.5G) (unauthoritative)\n",
            "\n",
            "CRR126672_r2.fastq. 100%[===================>]   6.54G  3.54MB/s    in 18m 1s  \n",
            "\n",
            "2021-05-03 19:21:52 (6.20 MB/s) - Control connection closed.\n",
            "Retrying.\n",
            "\n",
            "--2021-05-03 19:36:53--  ftp://download.big.ac.cn/gsa3/CRA002497/CRR126672/CRR126672_r2.fastq.gz\n",
            "  (try: 2) => ‘CRR126672_r2.fastq.gz’\n",
            "Connecting to download.big.ac.cn (download.big.ac.cn)|124.16.164.229|:21... connected.\n",
            "Logging in as anonymous ... Logged in!\n",
            "==> SYST ... done.    ==> PWD ... done.\n",
            "==> TYPE I ... done.  ==> CWD (1) /gsa3/CRA002497/CRR126672 ... done.\n",
            "==> SIZE CRR126672_r2.fastq.gz ... 7028354746\n",
            "File has already been retrieved.\n",
            "2021-05-03 19:36:55 (0.00 B/s) - ‘CRR126672_r2.fastq.gz’ saved [7028354746]\n",
            "\n",
            "--2021-05-03 19:36:55--  ftp://download.big.ac.cn/gsa3/CRA002497/CRR126673/CRR126673_f1.fastq.gz\n",
            "           => ‘CRR126673_f1.fastq.gz’\n",
            "Resolving download.big.ac.cn (download.big.ac.cn)... 124.16.164.229\n",
            "Connecting to download.big.ac.cn (download.big.ac.cn)|124.16.164.229|:21... connected.\n",
            "Logging in as anonymous ... Logged in!\n",
            "==> SYST ... done.    ==> PWD ... done.\n",
            "==> TYPE I ... done.  ==> CWD (1) /gsa3/CRA002497/CRR126673 ... done.\n",
            "==> SIZE CRR126673_f1.fastq.gz ... 2643384792\n",
            "==> PASV ... done.    ==> RETR CRR126673_f1.fastq.gz ... done.\n",
            "Length: 2643384792 (2.5G) (unauthoritative)\n",
            "\n",
            "CRR126673_f1.fastq. 100%[===================>]   2.46G  6.77MB/s    in 7m 46s  \n",
            "\n",
            "2021-05-03 19:44:45 (5.41 MB/s) - ‘CRR126673_f1.fastq.gz’ saved [2643384792]\n",
            "\n",
            "--2021-05-03 19:44:45--  ftp://download.big.ac.cn/gsa3/CRA002497/CRR126673/CRR126673_r2.fastq.gz\n",
            "           => ‘CRR126673_r2.fastq.gz’\n",
            "Resolving download.big.ac.cn (download.big.ac.cn)... 124.16.164.229\n",
            "Connecting to download.big.ac.cn (download.big.ac.cn)|124.16.164.229|:21... connected.\n",
            "Logging in as anonymous ... Logged in!\n",
            "==> SYST ... done.    ==> PWD ... done.\n",
            "==> TYPE I ... done.  ==> CWD (1) /gsa3/CRA002497/CRR126673 ... done.\n",
            "==> SIZE CRR126673_r2.fastq.gz ... 10158600222\n",
            "==> PASV ... done.    ==> RETR CRR126673_r2.fastq.gz ... done.\n",
            "Length: 10158600222 (9.5G) (unauthoritative)\n",
            "\n",
            "CRR126673_r2.fastq. 100%[===================>]   9.46G  11.8MB/s    in 19m 40s \n",
            "\n",
            "2021-05-03 20:04:28 (8.21 MB/s) - Control connection closed.\n",
            "Retrying.\n",
            "\n",
            "--2021-05-03 20:19:29--  ftp://download.big.ac.cn/gsa3/CRA002497/CRR126673/CRR126673_r2.fastq.gz\n",
            "  (try: 2) => ‘CRR126673_r2.fastq.gz’\n",
            "Connecting to download.big.ac.cn (download.big.ac.cn)|124.16.164.229|:21... connected.\n",
            "Logging in as anonymous ... Logged in!\n",
            "==> SYST ... done.    ==> PWD ... done.\n",
            "==> TYPE I ... done.  ==> CWD (1) /gsa3/CRA002497/CRR126673 ... done.\n",
            "==> SIZE CRR126673_r2.fastq.gz ... 10158600222\n",
            "File has already been retrieved.\n",
            "2021-05-03 20:19:31 (0.00 B/s) - ‘CRR126673_r2.fastq.gz’ saved [10158600222]\n",
            "\n",
            "--2021-05-03 20:19:31--  ftp://download.big.ac.cn/gsa3/CRA002497/CRR126674/CRR126674_f1.fastq.gz\n",
            "           => ‘CRR126674_f1.fastq.gz’\n",
            "Resolving download.big.ac.cn (download.big.ac.cn)... 124.16.164.229\n",
            "Connecting to download.big.ac.cn (download.big.ac.cn)|124.16.164.229|:21... connected.\n",
            "Logging in as anonymous ... Logged in!\n",
            "==> SYST ... done.    ==> PWD ... done.\n",
            "==> TYPE I ... done.  ==> CWD (1) /gsa3/CRA002497/CRR126674 ... done.\n",
            "==> SIZE CRR126674_f1.fastq.gz ... 2573994871\n",
            "==> PASV ... done.    ==> RETR CRR126674_f1.fastq.gz ... done.\n",
            "Length: 2573994871 (2.4G) (unauthoritative)\n",
            "\n",
            "CRR126674_f1.fastq. 100%[===================>]   2.40G  5.40MB/s    in 4m 17s  \n",
            "\n",
            "2021-05-03 20:23:51 (9.56 MB/s) - ‘CRR126674_f1.fastq.gz’ saved [2573994871]\n",
            "\n",
            "--2021-05-03 20:23:52--  ftp://download.big.ac.cn/gsa3/CRA002497/CRR126674/CRR126674_r2.fastq.gz\n",
            "           => ‘CRR126674_r2.fastq.gz’\n",
            "Resolving download.big.ac.cn (download.big.ac.cn)... 124.16.164.229\n",
            "Connecting to download.big.ac.cn (download.big.ac.cn)|124.16.164.229|:21... connected.\n",
            "Logging in as anonymous ... Logged in!\n",
            "==> SYST ... done.    ==> PWD ... done.\n",
            "==> TYPE I ... done.  ==> CWD (1) /gsa3/CRA002497/CRR126674 ... done.\n",
            "==> SIZE CRR126674_r2.fastq.gz ... 9826252954\n",
            "==> PASV ... done.    ==> RETR CRR126674_r2.fastq.gz ... done.\n",
            "Length: 9826252954 (9.2G) (unauthoritative)\n",
            "\n",
            "CRR126674_r2.fastq. 100%[===================>]   9.15G  11.4MB/s    in 15m 29s \n",
            "\n",
            "2021-05-03 20:39:25 (10.1 MB/s) - Control connection closed.\n",
            "Retrying.\n",
            "\n",
            "--2021-05-03 20:54:26--  ftp://download.big.ac.cn/gsa3/CRA002497/CRR126674/CRR126674_r2.fastq.gz\n",
            "  (try: 2) => ‘CRR126674_r2.fastq.gz’\n",
            "Connecting to download.big.ac.cn (download.big.ac.cn)|124.16.164.229|:21... connected.\n",
            "Logging in as anonymous ... Logged in!\n",
            "==> SYST ... done.    ==> PWD ... done.\n",
            "==> TYPE I ... done.  ==> CWD (1) /gsa3/CRA002497/CRR126674 ... done.\n",
            "==> SIZE CRR126674_r2.fastq.gz ... 9826252954\n",
            "File has already been retrieved.\n",
            "2021-05-03 20:54:28 (0.00 B/s) - ‘CRR126674_r2.fastq.gz’ saved [9826252954]\n",
            "\n",
            "--2021-05-03 20:54:28--  ftp://download.big.ac.cn/gsa3/CRA002497/CRR126675/CRR126675_f1.fastq.gz\n",
            "           => ‘CRR126675_f1.fastq.gz’\n",
            "Resolving download.big.ac.cn (download.big.ac.cn)... 124.16.164.229\n",
            "Connecting to download.big.ac.cn (download.big.ac.cn)|124.16.164.229|:21... connected.\n",
            "Logging in as anonymous ... Logged in!\n",
            "==> SYST ... done.    ==> PWD ... done.\n",
            "==> TYPE I ... done.  ==> CWD (1) /gsa3/CRA002497/CRR126675 ... done.\n",
            "==> SIZE CRR126675_f1.fastq.gz ... 1120375423\n",
            "==> PASV ... done.    ==> RETR CRR126675_f1.fastq.gz ... done.\n",
            "Length: 1120375423 (1.0G) (unauthoritative)\n",
            "\n",
            "CRR126675_f1.fastq. 100%[===================>]   1.04G  10.4MB/s    in 1m 50s  \n",
            "\n",
            "2021-05-03 20:56:22 (9.75 MB/s) - ‘CRR126675_f1.fastq.gz’ saved [1120375423]\n",
            "\n",
            "--2021-05-03 20:56:22--  ftp://download.big.ac.cn/gsa3/CRA002497/CRR126675/CRR126675_r2.fastq.gz\n",
            "           => ‘CRR126675_r2.fastq.gz’\n",
            "Resolving download.big.ac.cn (download.big.ac.cn)... 124.16.164.229\n",
            "Connecting to download.big.ac.cn (download.big.ac.cn)|124.16.164.229|:21... connected.\n",
            "Logging in as anonymous ... Logged in!\n",
            "==> SYST ... done.    ==> PWD ... done.\n",
            "==> TYPE I ... done.  ==> CWD (1) /gsa3/CRA002497/CRR126675 ... done.\n",
            "==> SIZE CRR126675_r2.fastq.gz ... 1124907706\n",
            "==> PASV ... done.    ==> RETR CRR126675_r2.fastq.gz ... done.\n",
            "Length: 1124907706 (1.0G) (unauthoritative)\n",
            "\n",
            "CRR126675_r2.fastq. 100%[===================>]   1.05G  8.69MB/s    in 1m 50s  \n",
            "\n",
            "2021-05-03 20:58:16 (9.72 MB/s) - ‘CRR126675_r2.fastq.gz’ saved [1124907706]\n",
            "\n",
            "--2021-05-03 20:58:16--  ftp://download.big.ac.cn/gsa3/CRA002497/CRR126676/CRR126676_f1.fastq.gz\n",
            "           => ‘CRR126676_f1.fastq.gz’\n",
            "Resolving download.big.ac.cn (download.big.ac.cn)... 124.16.164.229\n",
            "Connecting to download.big.ac.cn (download.big.ac.cn)|124.16.164.229|:21... connected.\n",
            "Logging in as anonymous ... Logged in!\n",
            "==> SYST ... done.    ==> PWD ... done.\n",
            "==> TYPE I ... done.  ==> CWD (1) /gsa3/CRA002497/CRR126676 ... done.\n",
            "==> SIZE CRR126676_f1.fastq.gz ... 1389624245\n",
            "==> PASV ... done.    ==> RETR CRR126676_f1.fastq.gz ... done.\n",
            "Length: 1389624245 (1.3G) (unauthoritative)\n",
            "\n",
            "CRR126676_f1.fastq. 100%[===================>]   1.29G  11.0MB/s    in 2m 23s  \n",
            "\n",
            "2021-05-03 21:00:42 (9.26 MB/s) - ‘CRR126676_f1.fastq.gz’ saved [1389624245]\n",
            "\n",
            "--2021-05-03 21:00:42--  ftp://download.big.ac.cn/gsa3/CRA002497/CRR126676/CRR126676_r2.fastq.gz\n",
            "           => ‘CRR126676_r2.fastq.gz’\n",
            "Resolving download.big.ac.cn (download.big.ac.cn)... 124.16.164.229\n",
            "Connecting to download.big.ac.cn (download.big.ac.cn)|124.16.164.229|:21... connected.\n",
            "Logging in as anonymous ... Logged in!\n",
            "==> SYST ... done.    ==> PWD ... done.\n",
            "==> TYPE I ... done.  ==> CWD (1) /gsa3/CRA002497/CRR126676 ... done.\n",
            "==> SIZE CRR126676_r2.fastq.gz ... 1387745700\n",
            "==> PASV ... done.    ==> RETR CRR126676_r2.fastq.gz ... done.\n",
            "Length: 1387745700 (1.3G) (unauthoritative)\n",
            "\n",
            "CRR126676_r2.fastq. 100%[===================>]   1.29G  11.2MB/s    in 2m 16s  \n",
            "\n",
            "2021-05-03 21:03:02 (9.74 MB/s) - ‘CRR126676_r2.fastq.gz’ saved [1387745700]\n",
            "\n",
            "--2021-05-03 21:03:02--  ftp://download.big.ac.cn/gsa3/CRA002497/CRR126677/CRR126677_f1.fastq.gz\n",
            "           => ‘CRR126677_f1.fastq.gz’\n",
            "Resolving download.big.ac.cn (download.big.ac.cn)... 124.16.164.229\n",
            "Connecting to download.big.ac.cn (download.big.ac.cn)|124.16.164.229|:21... connected.\n",
            "Logging in as anonymous ... Logged in!\n",
            "==> SYST ... done.    ==> PWD ... done.\n",
            "==> TYPE I ... done.  ==> CWD (1) /gsa3/CRA002497/CRR126677 ... done.\n",
            "==> SIZE CRR126677_f1.fastq.gz ... 1286117679\n",
            "==> PASV ... done.    ==> RETR CRR126677_f1.fastq.gz ... done.\n",
            "Length: 1286117679 (1.2G) (unauthoritative)\n",
            "\n",
            "CRR126677_f1.fastq. 100%[===================>]   1.20G  11.7MB/s    in 1m 47s  \n",
            "\n",
            "2021-05-03 21:04:53 (11.4 MB/s) - ‘CRR126677_f1.fastq.gz’ saved [1286117679]\n",
            "\n",
            "--2021-05-03 21:04:53--  ftp://download.big.ac.cn/gsa3/CRA002497/CRR126677/CRR126677_r2.fastq.gz\n",
            "           => ‘CRR126677_r2.fastq.gz’\n",
            "Resolving download.big.ac.cn (download.big.ac.cn)... 124.16.164.229\n",
            "Connecting to download.big.ac.cn (download.big.ac.cn)|124.16.164.229|:21... connected.\n",
            "Logging in as anonymous ... Logged in!\n",
            "==> SYST ... done.    ==> PWD ... done.\n",
            "==> TYPE I ... done.  ==> CWD (1) /gsa3/CRA002497/CRR126677 ... done.\n",
            "==> SIZE CRR126677_r2.fastq.gz ... 1285299446\n",
            "==> PASV ... done.    ==> RETR CRR126677_r2.fastq.gz ... done.\n",
            "Length: 1285299446 (1.2G) (unauthoritative)\n",
            "\n",
            "CRR126677_r2.fastq. 100%[===================>]   1.20G  10.6MB/s    in 1m 56s  \n",
            "\n",
            "2021-05-03 21:06:52 (10.6 MB/s) - ‘CRR126677_r2.fastq.gz’ saved [1285299446]\n",
            "\n",
            "--2021-05-03 21:06:52--  ftp://download.big.ac.cn/gsa3/CRA002497/CRR126678/CRR126678_f1.fastq.gz\n",
            "           => ‘CRR126678_f1.fastq.gz’\n",
            "Resolving download.big.ac.cn (download.big.ac.cn)... 124.16.164.229\n",
            "Connecting to download.big.ac.cn (download.big.ac.cn)|124.16.164.229|:21... connected.\n",
            "Logging in as anonymous ... Logged in!\n",
            "==> SYST ... done.    ==> PWD ... done.\n",
            "==> TYPE I ... done.  ==> CWD (1) /gsa3/CRA002497/CRR126678 ... done.\n",
            "==> SIZE CRR126678_f1.fastq.gz ... 1408281604\n",
            "==> PASV ... done.    ==> RETR CRR126678_f1.fastq.gz ... done.\n",
            "Length: 1408281604 (1.3G) (unauthoritative)\n",
            "\n",
            "CRR126678_f1.fastq. 100%[===================>]   1.31G  10.8MB/s    in 2m 5s   \n",
            "\n",
            "2021-05-03 21:09:01 (10.7 MB/s) - ‘CRR126678_f1.fastq.gz’ saved [1408281604]\n",
            "\n",
            "--2021-05-03 21:09:01--  ftp://download.big.ac.cn/gsa3/CRA002497/CRR126678/CRR126678_r2.fastq.gz\n",
            "           => ‘CRR126678_r2.fastq.gz’\n",
            "Resolving download.big.ac.cn (download.big.ac.cn)... 124.16.164.229\n",
            "Connecting to download.big.ac.cn (download.big.ac.cn)|124.16.164.229|:21... connected.\n",
            "Logging in as anonymous ... Logged in!\n",
            "==> SYST ... done.    ==> PWD ... done.\n",
            "==> TYPE I ... done.  ==> CWD (1) /gsa3/CRA002497/CRR126678 ... done.\n",
            "==> SIZE CRR126678_r2.fastq.gz ... 1391685694\n",
            "==> PASV ... done.    ==> RETR CRR126678_r2.fastq.gz ... done.\n",
            "Length: 1391685694 (1.3G) (unauthoritative)\n",
            "\n",
            "CRR126678_r2.fastq. 100%[===================>]   1.30G  11.2MB/s    in 2m 5s   \n",
            "\n",
            "2021-05-03 21:11:10 (10.6 MB/s) - ‘CRR126678_r2.fastq.gz’ saved [1391685694]\n",
            "\n",
            "--2021-05-03 21:11:11--  ftp://download.big.ac.cn/gsa3/CRA002497/CRR126679/CRR126679_f1.fastq.gz\n",
            "           => ‘CRR126679_f1.fastq.gz’\n",
            "Resolving download.big.ac.cn (download.big.ac.cn)... 124.16.164.229\n",
            "Connecting to download.big.ac.cn (download.big.ac.cn)|124.16.164.229|:21... connected.\n",
            "Logging in as anonymous ... Logged in!\n",
            "==> SYST ... done.    ==> PWD ... done.\n",
            "==> TYPE I ... done.  ==> CWD (1) /gsa3/CRA002497/CRR126679 ... done.\n",
            "==> SIZE CRR126679_f1.fastq.gz ... 1742164154\n",
            "==> PASV ... done.    ==> RETR CRR126679_f1.fastq.gz ... done.\n",
            "Length: 1742164154 (1.6G) (unauthoritative)\n",
            "\n",
            "CRR126679_f1.fastq. 100%[===================>]   1.62G  2.93MB/s    in 7m 21s  \n",
            "\n",
            "2021-05-03 21:18:35 (3.76 MB/s) - ‘CRR126679_f1.fastq.gz’ saved [1742164154]\n",
            "\n",
            "--2021-05-03 21:18:36--  ftp://download.big.ac.cn/gsa3/CRA002497/CRR126679/CRR126679_r2.fastq.gz\n",
            "           => ‘CRR126679_r2.fastq.gz’\n",
            "Resolving download.big.ac.cn (download.big.ac.cn)... 124.16.164.229\n",
            "Connecting to download.big.ac.cn (download.big.ac.cn)|124.16.164.229|:21... connected.\n",
            "Logging in as anonymous ... Logged in!\n",
            "==> SYST ... done.    ==> PWD ... done.\n",
            "==> TYPE I ... done.  ==> CWD (1) /gsa3/CRA002497/CRR126679 ... done.\n",
            "==> SIZE CRR126679_r2.fastq.gz ... 1863482400\n",
            "==> PASV ... done.    ==> RETR CRR126679_r2.fastq.gz ... done.\n",
            "Length: 1863482400 (1.7G) (unauthoritative)\n",
            "\n",
            "CRR126679_r2.fastq. 100%[===================>]   1.74G  12.1MB/s    in 2m 33s  \n",
            "\n",
            "2021-05-03 21:21:13 (11.6 MB/s) - ‘CRR126679_r2.fastq.gz’ saved [1863482400]\n",
            "\n",
            "--2021-05-03 21:21:13--  ftp://download.big.ac.cn/gsa3/CRA002497/CRR126680/CRR126680_f1.fastq.gz\n",
            "           => ‘CRR126680_f1.fastq.gz’\n",
            "Resolving download.big.ac.cn (download.big.ac.cn)... 124.16.164.229\n",
            "Connecting to download.big.ac.cn (download.big.ac.cn)|124.16.164.229|:21... connected.\n",
            "Logging in as anonymous ... Logged in!\n",
            "==> SYST ... done.    ==> PWD ... done.\n",
            "==> TYPE I ... done.  ==> CWD (1) /gsa3/CRA002497/CRR126680 ... done.\n",
            "==> SIZE CRR126680_f1.fastq.gz ... 1543047646\n",
            "==> PASV ... done.    ==> RETR CRR126680_f1.fastq.gz ... done.\n",
            "Length: 1543047646 (1.4G) (unauthoritative)\n",
            "\n",
            "CRR126680_f1.fastq. 100%[===================>]   1.44G  11.7MB/s    in 2m 8s   \n",
            "\n",
            "2021-05-03 21:23:24 (11.5 MB/s) - ‘CRR126680_f1.fastq.gz’ saved [1543047646]\n",
            "\n",
            "--2021-05-03 21:23:25--  ftp://download.big.ac.cn/gsa3/CRA002497/CRR126680/CRR126680_r2.fastq.gz\n",
            "           => ‘CRR126680_r2.fastq.gz’\n",
            "Resolving download.big.ac.cn (download.big.ac.cn)... 124.16.164.229\n",
            "Connecting to download.big.ac.cn (download.big.ac.cn)|124.16.164.229|:21... connected.\n",
            "Logging in as anonymous ... Logged in!\n",
            "==> SYST ... done.    ==> PWD ... done.\n",
            "==> TYPE I ... done.  ==> CWD (1) /gsa3/CRA002497/CRR126680 ... done.\n",
            "==> SIZE CRR126680_r2.fastq.gz ... 1624424194\n",
            "==> PASV ... done.    ==> RETR CRR126680_r2.fastq.gz ... done.\n",
            "Length: 1624424194 (1.5G) (unauthoritative)\n",
            "\n",
            "CRR126680_r2.fastq. 100%[===================>]   1.51G  10.8MB/s    in 2m 22s  \n",
            "\n",
            "2021-05-03 21:25:50 (10.9 MB/s) - ‘CRR126680_r2.fastq.gz’ saved [1624424194]\n",
            "\n",
            "--2021-05-03 21:25:50--  ftp://download.big.ac.cn/gsa3/CRA002497/CRR126681/CRR126681_f1.fastq.gz\n",
            "           => ‘CRR126681_f1.fastq.gz’\n",
            "Resolving download.big.ac.cn (download.big.ac.cn)... 124.16.164.229\n",
            "Connecting to download.big.ac.cn (download.big.ac.cn)|124.16.164.229|:21... connected.\n",
            "Logging in as anonymous ... Logged in!\n",
            "==> SYST ... done.    ==> PWD ... done.\n",
            "==> TYPE I ... done.  ==> CWD (1) /gsa3/CRA002497/CRR126681 ... done.\n",
            "==> SIZE CRR126681_f1.fastq.gz ... 1459919802\n",
            "==> PASV ... done.    ==> RETR CRR126681_f1.fastq.gz ... done.\n",
            "Length: 1459919802 (1.4G) (unauthoritative)\n",
            "\n",
            "CRR126681_f1.fastq. 100%[===================>]   1.36G  11.2MB/s    in 5m 0s   \n",
            "\n",
            "2021-05-03 21:30:54 (4.64 MB/s) - ‘CRR126681_f1.fastq.gz’ saved [1459919802]\n",
            "\n",
            "--2021-05-03 21:30:54--  ftp://download.big.ac.cn/gsa3/CRA002497/CRR126681/CRR126681_r2.fastq.gz\n",
            "           => ‘CRR126681_r2.fastq.gz’\n",
            "Resolving download.big.ac.cn (download.big.ac.cn)... 124.16.164.229\n",
            "Connecting to download.big.ac.cn (download.big.ac.cn)|124.16.164.229|:21... connected.\n",
            "Logging in as anonymous ... Logged in!\n",
            "==> SYST ... done.    ==> PWD ... done.\n",
            "==> TYPE I ... done.  ==> CWD (1) /gsa3/CRA002497/CRR126681 ... done.\n",
            "==> SIZE CRR126681_r2.fastq.gz ... 1523964851\n",
            "==> PASV ... done.    ==> RETR CRR126681_r2.fastq.gz ... done.\n",
            "Length: 1523964851 (1.4G) (unauthoritative)\n",
            "\n",
            "CRR126681_r2.fastq. 100%[===================>]   1.42G  10.6MB/s    in 2m 15s  \n",
            "\n",
            "2021-05-03 21:33:12 (10.8 MB/s) - ‘CRR126681_r2.fastq.gz’ saved [1523964851]\n",
            "\n",
            "--2021-05-03 21:33:12--  ftp://download.big.ac.cn/gsa3/CRA002497/CRR126682/CRR126682_f1.fastq.gz\n",
            "           => ‘CRR126682_f1.fastq.gz’\n",
            "Resolving download.big.ac.cn (download.big.ac.cn)... 124.16.164.229\n",
            "Connecting to download.big.ac.cn (download.big.ac.cn)|124.16.164.229|:21... connected.\n",
            "Logging in as anonymous ... Logged in!\n",
            "==> SYST ... done.    ==> PWD ... done.\n",
            "==> TYPE I ... done.  ==> CWD (1) /gsa3/CRA002497/CRR126682 ... done.\n",
            "==> SIZE CRR126682_f1.fastq.gz ... 1822557872\n",
            "==> PASV ... done.    ==> RETR CRR126682_f1.fastq.gz ... done.\n",
            "Length: 1822557872 (1.7G) (unauthoritative)\n",
            "\n",
            "CRR126682_f1.fastq. 100%[===================>]   1.70G  11.7MB/s    in 2m 33s  \n",
            "\n",
            "2021-05-03 21:35:48 (11.4 MB/s) - ‘CRR126682_f1.fastq.gz’ saved [1822557872]\n",
            "\n",
            "--2021-05-03 21:35:48--  ftp://download.big.ac.cn/gsa3/CRA002497/CRR126682/CRR126682_r2.fastq.gz\n",
            "           => ‘CRR126682_r2.fastq.gz’\n",
            "Resolving download.big.ac.cn (download.big.ac.cn)... 124.16.164.229\n",
            "Connecting to download.big.ac.cn (download.big.ac.cn)|124.16.164.229|:21... connected.\n",
            "Logging in as anonymous ... Logged in!\n",
            "==> SYST ... done.    ==> PWD ... done.\n",
            "==> TYPE I ... done.  ==> CWD (1) /gsa3/CRA002497/CRR126682 ... done.\n",
            "==> SIZE CRR126682_r2.fastq.gz ... 1912179534\n",
            "==> PASV ... done.    ==> RETR CRR126682_r2.fastq.gz ... done.\n",
            "Length: 1912179534 (1.8G) (unauthoritative)\n",
            "\n",
            "CRR126682_r2.fastq. 100%[===================>]   1.78G  10.5MB/s    in 2m 49s  \n",
            "\n",
            "2021-05-03 21:38:41 (10.8 MB/s) - ‘CRR126682_r2.fastq.gz’ saved [1912179534]\n",
            "\n"
          ],
          "name": "stdout"
        }
      ]
    },
    {
      "cell_type": "code",
      "metadata": {
        "id": "PC9oETW1pE9t",
        "colab": {
          "base_uri": "https://localhost:8080/"
        },
        "outputId": "27e111fa-5ba6-44bc-b504-b30881070ddb"
      },
      "source": [
        "if bam:\n",
        "  # Download the corresponding Kallisto index to folder containing fastqs\n",
        "  !kb ref -d $species_kb -i index.idx -g t2g.txt -f1 transcriptome.fasta\n",
        "\n",
        "if not bam and fastq_ffqlinks:\n",
        "  %cd /content\n",
        "\n",
        "  # Download the corresponding Kallisto index to content folder\n",
        "  !kb ref -d $species_kb -i index.idx -g t2g.txt -f1 transcriptome.fasta\n",
        "\n",
        "if not bam and not fastq_ffqlinks:\n",
        "  %cd /content/fastqs\n",
        "\n",
        "  # Download the corresponding Kallisto index to fastq folder\n",
        "  !kb ref -d $species_kb -i index.idx -g t2g.txt -f1 transcriptome.fasta"
      ],
      "execution_count": 10,
      "outputs": [
        {
          "output_type": "stream",
          "text": [
            "/content/fastqs\n",
            "[2021-05-03 21:38:46,035]    INFO Downloading files for human from https://caltech.box.com/shared/static/v1nm7lpnqz5syh8dyzdk2zs8bglncfib.gz to tmp/v1nm7lpnqz5syh8dyzdk2zs8bglncfib.gz\n",
            "100% 2.23G/2.23G [02:57<00:00, 13.5MB/s]\n",
            "[2021-05-03 21:41:45,323]    INFO Extracting files from tmp/v1nm7lpnqz5syh8dyzdk2zs8bglncfib.gz\n"
          ],
          "name": "stdout"
        }
      ]
    },
    {
      "cell_type": "code",
      "metadata": {
        "id": "vHVNa51Cp9Nr"
      },
      "source": [
        "# Check to make sure the metadata is in the right order after sorting\n",
        "print(fastqs)"
      ],
      "execution_count": null,
      "outputs": []
    },
    {
      "cell_type": "markdown",
      "metadata": {
        "id": "VInyuq1Dp7iz"
      },
      "source": [
        "# Process fastq files (modify kb command according to fastqs list)\n"
      ]
    },
    {
      "cell_type": "code",
      "metadata": {
        "id": "OcqtBuH-pRaX",
        "colab": {
          "base_uri": "https://localhost:8080/"
        },
        "outputId": "8ca61d6a-23b5-4100-9c8a-5986f69dc935"
      },
      "source": [
        "fastqs"
      ],
      "execution_count": 12,
      "outputs": [
        {
          "output_type": "execute_result",
          "data": {
            "text/plain": [
              "['CRR126671_f1.fastq.gz',\n",
              " 'CRR126671_r2.fastq.gz',\n",
              " 'CRR126672_f1.fastq.gz',\n",
              " 'CRR126672_r2.fastq.gz',\n",
              " 'CRR126673_f1.fastq.gz',\n",
              " 'CRR126673_r2.fastq.gz',\n",
              " 'CRR126674_f1.fastq.gz',\n",
              " 'CRR126674_r2.fastq.gz',\n",
              " 'CRR126675_f1.fastq.gz',\n",
              " 'CRR126675_r2.fastq.gz',\n",
              " 'CRR126676_f1.fastq.gz',\n",
              " 'CRR126676_r2.fastq.gz',\n",
              " 'CRR126677_f1.fastq.gz',\n",
              " 'CRR126677_r2.fastq.gz',\n",
              " 'CRR126678_f1.fastq.gz',\n",
              " 'CRR126678_r2.fastq.gz',\n",
              " 'CRR126679_f1.fastq.gz',\n",
              " 'CRR126679_r2.fastq.gz',\n",
              " 'CRR126680_f1.fastq.gz',\n",
              " 'CRR126680_r2.fastq.gz',\n",
              " 'CRR126681_f1.fastq.gz',\n",
              " 'CRR126681_r2.fastq.gz',\n",
              " 'CRR126682_f1.fastq.gz',\n",
              " 'CRR126682_r2.fastq.gz']"
            ]
          },
          "metadata": {
            "tags": []
          },
          "execution_count": 12
        }
      ]
    },
    {
      "cell_type": "code",
      "metadata": {
        "id": "5qFzPj-0kZTi",
        "colab": {
          "base_uri": "https://localhost:8080/"
        },
        "outputId": "04999911-afd5-45de-f42e-8532c5a044ae"
      },
      "source": [
        "# Specify the sample number and whether they are paired-ended\n",
        "\n",
        "\n",
        "if no_samples == 1:\n",
        "\n",
        "  # Write the kb count command as a string with all fastqs of the list as an input\n",
        "  cmd = \"kb count --h5ad -i index.idx -g t2g.txt -x \" + technology_kb + \" -o output\" + sample_id[0] + \" \"\\\n",
        "  + \"--filter bustools -t 2 --overwrite \" + \"'\" +  \"' '\".join(fastqs) + \"'\"\n",
        "  \n",
        "  # Execute it\n",
        "  !$cmd\n",
        "\n",
        "# If more than one sample, iterate through fastqs accordingly\n",
        "else:\n",
        "\n",
        "  # Initializa counter for fastq files\n",
        "  j = 0\n",
        "\n",
        "  # Loop over samples for analysis\n",
        "  for i in range(no_samples):\n",
        "\n",
        "    fastqs_to_analyze = fastqs[j:j + fastqs_per_sample[i]]\n",
        "    # Write the kb count command as a string\n",
        "    cmd = \"kb count --h5ad -i ../index.idx -g ../t2g.txt -x \" + technology_kb + \" -o output\" + sample_id[i] + \" \\\n",
        "    --filter bustools -t 2 --overwrite \" + \"'\" +  \"' '\".join(fastqs_to_analyze) + \"'\"\n",
        "\n",
        "    # Execute it\n",
        "    !$cmd\n",
        "\n",
        "    # Update j to move to the next set of fastq\n",
        "    j = j + fastqs_per_sample[i]\n",
        "\n",
        "\n",
        "\n",
        "\n",
        "\n"
      ],
      "execution_count": 13,
      "outputs": [
        {
          "output_type": "stream",
          "text": [
            "[2021-05-03 21:42:26,964]    INFO Using index index.idx to generate BUS file to outputCRX102294 from\n",
            "[2021-05-03 21:42:26,964]    INFO         CRR126671_f1.fastq.gz\n",
            "[2021-05-03 21:42:26,964]    INFO         CRR126671_r2.fastq.gz\n",
            "[2021-05-03 21:42:26,964]    INFO         CRR126672_f1.fastq.gz\n",
            "[2021-05-03 21:42:26,964]    INFO         CRR126672_r2.fastq.gz\n",
            "[2021-05-03 21:42:26,964]    INFO         CRR126673_f1.fastq.gz\n",
            "[2021-05-03 21:42:26,964]    INFO         CRR126673_r2.fastq.gz\n",
            "[2021-05-03 21:42:26,964]    INFO         CRR126674_f1.fastq.gz\n",
            "[2021-05-03 21:42:26,964]    INFO         CRR126674_r2.fastq.gz\n",
            "[2021-05-03 21:42:26,964]    INFO         CRR126675_f1.fastq.gz\n",
            "[2021-05-03 21:42:26,964]    INFO         CRR126675_r2.fastq.gz\n",
            "[2021-05-03 21:42:26,964]    INFO         CRR126676_f1.fastq.gz\n",
            "[2021-05-03 21:42:26,964]    INFO         CRR126676_r2.fastq.gz\n",
            "[2021-05-03 21:42:26,964]    INFO         CRR126677_f1.fastq.gz\n",
            "[2021-05-03 21:42:26,964]    INFO         CRR126677_r2.fastq.gz\n",
            "[2021-05-03 21:42:26,964]    INFO         CRR126678_f1.fastq.gz\n",
            "[2021-05-03 21:42:26,964]    INFO         CRR126678_r2.fastq.gz\n",
            "[2021-05-03 21:42:26,964]    INFO         CRR126679_f1.fastq.gz\n",
            "[2021-05-03 21:42:26,964]    INFO         CRR126679_r2.fastq.gz\n",
            "[2021-05-03 21:42:26,964]    INFO         CRR126680_f1.fastq.gz\n",
            "[2021-05-03 21:42:26,965]    INFO         CRR126680_r2.fastq.gz\n",
            "[2021-05-03 21:42:26,965]    INFO         CRR126681_f1.fastq.gz\n",
            "[2021-05-03 21:42:26,965]    INFO         CRR126681_r2.fastq.gz\n",
            "[2021-05-03 21:42:26,965]    INFO         CRR126682_f1.fastq.gz\n",
            "[2021-05-03 21:42:26,965]    INFO         CRR126682_r2.fastq.gz\n",
            "[2021-05-04 00:14:47,952]    INFO Sorting BUS file outputCRX102294/output.bus to outputCRX102294/tmp/output.s.bus\n",
            "[2021-05-04 00:20:19,768]    INFO Whitelist not provided\n",
            "[2021-05-04 00:20:19,768]    INFO Copying pre-packaged 10XV2 whitelist to outputCRX102294\n",
            "[2021-05-04 00:20:19,916]    INFO Inspecting BUS file outputCRX102294/tmp/output.s.bus\n",
            "[2021-05-04 00:21:10,881]    INFO Correcting BUS records in outputCRX102294/tmp/output.s.bus to outputCRX102294/tmp/output.s.c.bus with whitelist outputCRX102294/10xv2_whitelist.txt\n",
            "[2021-05-04 00:21:58,516]    INFO Sorting BUS file outputCRX102294/tmp/output.s.c.bus to outputCRX102294/output.unfiltered.bus\n",
            "[2021-05-04 00:24:04,220]    INFO Generating count matrix outputCRX102294/counts_unfiltered/cells_x_genes from BUS file outputCRX102294/output.unfiltered.bus\n",
            "[2021-05-04 00:25:04,271]    INFO Reading matrix outputCRX102294/counts_unfiltered/cells_x_genes.mtx\n",
            "[2021-05-04 00:25:36,895]    INFO Writing matrix to h5ad outputCRX102294/counts_unfiltered/adata.h5ad\n",
            "[2021-05-04 00:25:38,110]    INFO Filtering with bustools\n",
            "[2021-05-04 00:25:38,110]    INFO Generating whitelist outputCRX102294/filter_barcodes.txt from BUS file outputCRX102294/output.unfiltered.bus\n",
            "[2021-05-04 00:25:39,336]    INFO Correcting BUS records in outputCRX102294/output.unfiltered.bus to outputCRX102294/tmp/output.unfiltered.c.bus with whitelist outputCRX102294/filter_barcodes.txt\n",
            "[2021-05-04 00:26:22,028]    INFO Sorting BUS file outputCRX102294/tmp/output.unfiltered.c.bus to outputCRX102294/output.filtered.bus\n",
            "[2021-05-04 00:28:04,061]    INFO Generating count matrix outputCRX102294/counts_filtered/cells_x_genes from BUS file outputCRX102294/output.filtered.bus\n",
            "[2021-05-04 00:29:03,056]    INFO Reading matrix outputCRX102294/counts_filtered/cells_x_genes.mtx\n",
            "[2021-05-04 00:29:27,801]    INFO Writing matrix to h5ad outputCRX102294/counts_filtered/adata.h5ad\n"
          ],
          "name": "stdout"
        }
      ]
    },
    {
      "cell_type": "markdown",
      "metadata": {
        "id": "tDijOZzrqhN2"
      },
      "source": [
        "# Load unfiltered matrix and assign filters to each matrix individually"
      ]
    },
    {
      "cell_type": "markdown",
      "metadata": {
        "id": "VkNLZh_pNFFw"
      },
      "source": [
        "## Load the unfiltered matrix (check dimensions)"
      ]
    },
    {
      "cell_type": "code",
      "metadata": {
        "id": "PppRNeV8AIyw"
      },
      "source": [
        "# Define dict to store data\n",
        "results = {}\n"
      ],
      "execution_count": 15,
      "outputs": []
    },
    {
      "cell_type": "code",
      "metadata": {
        "cellView": "both",
        "id": "pKmtGf3c_BiZ",
        "colab": {
          "base_uri": "https://localhost:8080/"
        },
        "outputId": "7f4f52ab-70dd-459f-bb54-d8c4488ca4e3"
      },
      "source": [
        "# load the unfiltered matrix\n",
        "for i in range(no_samples):\n",
        "  results[sample_id[i]] = anndata.read_h5ad(\"output\" + sample_id[i] + \"/counts_unfiltered/adata.h5ad\")\n",
        "  results[sample_id[i]].var[\"gene_id\"] = results[sample_id[i]].var.index.values\n",
        "\n",
        "  t2g = pd.read_csv(\"t2g.txt\", header=None, names=[\"tid\", \"gene_id\", \"gene_name\"], sep=\"\\t\")\n",
        "  t2g.index = t2g.gene_id\n",
        "  t2g = t2g.loc[~t2g.index.duplicated(keep='first')]\n",
        "\n",
        "  results[sample_id[i]].var[\"gene_name\"] = results[sample_id[i]].var.gene_id.map(t2g[\"gene_name\"])\n",
        "  results[sample_id[i]].var.index = results[sample_id[i]].var[\"gene_name\"]\n",
        "  print(\"The unfiltered matrix \" + sample_id[i] + \" contains {} cells by {} genes\".format(len(results[sample_id[i]].obs), len(results[sample_id[i]].var)))\n",
        "\n",
        "  results[sample_id[i]].obs[\"cell_counts\"] = results[sample_id[i]].X.sum(axis=1)\n",
        "  results[sample_id[i]].var[\"gene_counts\"] = nd(results[sample_id[i]].X.sum(axis=0))\n",
        "\n",
        "  results[sample_id[i]].obs[\"n_genes\"] = nd((results[sample_id[i]].X>0).sum(axis=1))\n",
        "  results[sample_id[i]].var[\"n_cells\"] = nd((results[sample_id[i]].X>0).sum(axis=0))\n",
        "\n",
        "  mito_genes = results[sample_id[i]].var_names.str.startswith(\"MT-\" or \"mt-\") \n",
        "  results[sample_id[i]].obs[\"percent_mito\"] = results[sample_id[i]][:,mito_genes].X.sum(axis=1)/results[sample_id[i]].X.sum(axis=1)*100\n",
        "\n",
        "  # Changing the name of the index is necessary to write the file (it won't work with duplicated names)\n",
        "  results[sample_id[i]].var.index.name = \"index\"\n",
        "\n"
      ],
      "execution_count": 16,
      "outputs": [
        {
          "output_type": "stream",
          "text": [
            "The unfiltered matrix CRX102294 contains 351565 cells by 60623 genes\n"
          ],
          "name": "stdout"
        }
      ]
    },
    {
      "cell_type": "markdown",
      "metadata": {
        "id": "hDAUH3eH_2RA"
      },
      "source": [
        "## Assign filters for each matrix individually"
      ]
    },
    {
      "cell_type": "code",
      "metadata": {
        "id": "ukinuaKk_6Po"
      },
      "source": [
        "# Modify this manually to change sample after having assigned the \"expected_num_cells\" and \"mito_criteria\" parameters\n",
        "samp_n = 0\n",
        "\n",
        "\n",
        "# Filtering criteria\n",
        "cell_threshold = 100\n",
        "gene_threshold = 3\n",
        "\n",
        "mito_criteria = 30"
      ],
      "execution_count": 17,
      "outputs": []
    },
    {
      "cell_type": "code",
      "metadata": {
        "id": "a5wZB5pEfwNs",
        "colab": {
          "base_uri": "https://localhost:8080/",
          "height": 723
        },
        "cellView": "form",
        "outputId": "a300bd48-2be6-4a23-a553-d48f6048c6cc"
      },
      "source": [
        "\n",
        "expected_num_cells = 6000#@param {type:\"integer\"}\n",
        "knee = np.sort(nd(results[sample_id[samp_n]].X.sum(axis=1)))[::-1]\n",
        "\n",
        "fig, ax = plt.subplots(figsize=(5, 5))\n",
        "\n",
        "x = knee\n",
        "y = range(len(knee))\n",
        "\n",
        "ax.loglog(x, y, linewidth=5, color=\"g\")\n",
        "\n",
        "ax.axvline(x=knee[expected_num_cells], linewidth=3, color=\"k\")\n",
        "ax.axhline(y=expected_num_cells, linewidth=3, color=\"k\")\n",
        "\n",
        "ax.set_xlabel(\"UMI Counts\")\n",
        "ax.set_ylabel(\"Set of Barcodes\")\n",
        "\n",
        "plt.show()\n",
        "\n",
        "cell_threshold = knee[expected_num_cells]\n",
        "\n",
        "results[\"cell_threshold\" + sample_id[samp_n]] = knee[expected_num_cells]\n",
        "\n",
        "print (\"Cells were filtered down to \" + str(expected_num_cells) + \" with at least \" + str(cell_threshold) + \" UMIs\")\n",
        "\n",
        "\n",
        "mito_criteria = 23#@param {type:\"integer\"}\n",
        "results[\"mito_criteria\" + sample_id[samp_n]] = mito_criteria\n",
        "\n",
        "fig, ax = plt.subplots(figsize=(5,5))\n",
        "\n",
        "\n",
        "x = nd(results[sample_id[samp_n]].obs[\"cell_counts\"][results[sample_id[samp_n]].obs[\"cell_counts\"] > cell_threshold])\n",
        "y = nd(results[sample_id[samp_n]].obs[\"percent_mito\"][results[sample_id[samp_n]].obs[\"cell_counts\"] > cell_threshold])\n",
        "\n",
        "ax.scatter(x, y, color=\"green\", alpha=0.1)\n",
        "\n",
        "ax.axhline(y=mito_criteria, linestyle=\"--\", color=\"k\")\n",
        "\n",
        "\n",
        "ax.set_xlabel(\"UMI Counts\")\n",
        "ax.set_ylabel(\"Percent mito\")\n",
        "\n",
        "\n",
        "plt.show()\n",
        "\n",
        "print(\"We select \" + str(mito_criteria) + \" % as the mitochondrial content threshold\")"
      ],
      "execution_count": 21,
      "outputs": [
        {
          "output_type": "display_data",
          "data": {
            "image/png": "[encoded data removed]",
            "text/plain": [
              "<Figure size 360x360 with 1 Axes>"
            ]
          },
          "metadata": {
            "tags": [],
            "image/png": {
              "width": 358,
              "height": 337
            },
            "needs_background": "light"
          }
        },
        {
          "output_type": "stream",
          "text": [
            "Cells were filtered down to 6000 with at least 3073.0 UMIs\n"
          ],
          "name": "stdout"
        },
        {
          "output_type": "display_data",
          "data": {
            "image/png": "[encoded data removed]",
            "text/plain": [
              "<Figure size 360x360 with 1 Axes>"
            ]
          },
          "metadata": {
            "tags": [],
            "image/png": {
              "width": 362,
              "height": 338
            },
            "needs_background": "light"
          }
        },
        {
          "output_type": "stream",
          "text": [
            "We select 23 % as the mitochondrial content threshold\n"
          ],
          "name": "stdout"
        }
      ]
    },
    {
      "cell_type": "markdown",
      "metadata": {
        "id": "eP9j2ouPq9KY"
      },
      "source": [
        "# Filter matrix"
      ]
    },
    {
      "cell_type": "code",
      "metadata": {
        "id": "sE51WUA3gVmG",
        "colab": {
          "base_uri": "https://localhost:8080/"
        },
        "outputId": "df2b8563-826c-4180-834c-2f46b187ec07"
      },
      "source": [
        "for i in range(no_samples):\n",
        "  results[sample_id[i]].obs[\"pass_count_filter\"] = results[sample_id[i]].obs[\"cell_counts\"] > results[\"cell_threshold\" + sample_id[i]]\n",
        "  results[sample_id[i]].obs[\"pass_mito_filter\"] = results[sample_id[i]].obs.percent_mito < results[\"mito_criteria\" + sample_id[i]]\n",
        "  results[sample_id[i]].var[\"pass_gene_filter\"] = results[sample_id[i]].var[\"n_cells\"] > gene_threshold\n",
        "\n",
        "  cell_mask = np.logical_and(results[sample_id[i]].obs[\"pass_count_filter\"].values, results[sample_id[i]].obs[\"pass_mito_filter\"].values)\n",
        "  gene_mask = results[sample_id[i]].var[\"pass_gene_filter\"].values\n",
        "\n",
        "  print(\"Current Shape: {:,} cells x {:,} genes\".format(results[sample_id[i]].shape[0], results[sample_id[i]].shape[1]))\n",
        "  print(\"    New shape: {:,} cells x {:,} genes\".format(cell_mask.sum(), gene_mask.sum()))\n",
        "  results[\"data_\" + sample_id[i]] = results[sample_id[i]][cell_mask, gene_mask]"
      ],
      "execution_count": 23,
      "outputs": [
        {
          "output_type": "stream",
          "text": [
            "Current Shape: 351,565 cells x 60,623 genes\n",
            "    New shape: 5,920 cells x 28,459 genes\n"
          ],
          "name": "stdout"
        }
      ]
    },
    {
      "cell_type": "markdown",
      "metadata": {
        "id": "BxPA81yj4TlU"
      },
      "source": [
        "# Anotate and write the Anndata object"
      ]
    },
    {
      "cell_type": "code",
      "metadata": {
        "id": "O-q_Qj2U4kDU",
        "colab": {
          "base_uri": "https://localhost:8080/"
        },
        "outputId": "bab0997a-9adf-44c3-972f-137c925d4d43"
      },
      "source": [
        "for i in range(no_samples):\n",
        "\n",
        "\n",
        "  results[\"data_\" + sample_id[i]].uns[\"database_id\"] = database_id[i]\n",
        "\n",
        "  results[\"data_\" + sample_id[i]].uns[\"tissue\"] = tissue[i]\n",
        "\n",
        "  results[\"data_\" + sample_id[i]].uns[\"cell_type\"] = cell_type[i]\n",
        "\n",
        "  results[\"data_\" + sample_id[i]].uns[\"sample_id\"] = sample_id[i]\n",
        "\n",
        "  results[\"data_\" + sample_id[i]].uns[\"condition\"] = condition[i]\n",
        "\n",
        "  results[\"data_\" + sample_id[i]].uns[\"species\"] = species[i]\n",
        "\n",
        "  results[\"data_\" + sample_id[i]].uns[\"technology\"] = technology[i]\n",
        "\n",
        "  results[\"data_\" + sample_id[i]].uns[\"paper\"] = paper[i]\n",
        "\n",
        "  results[\"data_\" + sample_id[i]].uns[\"figure\"] = figure[i]\n",
        "\n",
        "\n",
        "%cd /content\n",
        "\n",
        "for i in range(no_samples):\n",
        "\n",
        "  results[\"data_\" + sample_id[i]].write(\"result\" + sample_id[i])"
      ],
      "execution_count": 24,
      "outputs": [
        {
          "output_type": "stream",
          "text": [
            "Trying to set attribute `.uns` of view, copying.\n",
            "Variable names are not unique. To make them unique, call `.var_names_make_unique`.\n",
            "Variable names are not unique. To make them unique, call `.var_names_make_unique`.\n"
          ],
          "name": "stderr"
        },
        {
          "output_type": "stream",
          "text": [
            "/content\n"
          ],
          "name": "stdout"
        },
        {
          "output_type": "stream",
          "text": [
            "... storing 'gene_name' as categorical\n"
          ],
          "name": "stderr"
        }
      ]
    }
  ]
}