{
  "nbformat": 4,
  "nbformat_minor": 0,
  "metadata": {
    "colab": {
      "name": "GSE130888_GSM3755693.ipynb",
      "provenance": [],
      "collapsed_sections": [],
      "toc_visible": true,
      "include_colab_link": true
    },
    "kernelspec": {
      "name": "python3",
      "display_name": "Python 3"
    }
  },
  "cells": [
    {
      "cell_type": "markdown",
      "metadata": {
        "id": "view-in-github",
        "colab_type": "text"
      },
      "source": [
        "<a href=\"https://colab.research.google.com/github/agalvezm/ACE2_scRNAseq/blob/master/notebooks_countmatrices/GSE130888_GSM3755693.ipynb\" target=\"_parent\"><img src=\"https://colab.research.google.com/assets/colab-badge.svg\" alt=\"Open In Colab\"/></a>"
      ]
    },
    {
      "cell_type": "markdown",
      "metadata": {
        "id": "V9ryXluJsJw9"
      },
      "source": [
        "# GSE130888_GSM3755693"
      ]
    },
    {
      "cell_type": "code",
      "metadata": {
        "id": "ggNFAQJCRh6P"
      },
      "source": [
        "# define the values for the analysis\n",
        "\n",
        "# accession id for the data\n",
        "id = \"GSE130888\"\n",
        "samp_id = [\"GSM3755693\"]\n",
        "\n",
        "# If only bam available files, set bam = True, Fill link and filename\n",
        "bam = False\n",
        "\n",
        "# If fastq links available but are not ffq links\n",
        "fastq_ffqlinks = False\n",
        "\n",
        "\n",
        "if bam:\n",
        "  # Assign link to python variable\n",
        "  link_to_bam = \"\"\n",
        "  \n",
        "  # Assigns the link to the bash variable BAM_LINK. To be used by wget\n",
        "  %env BAM_LINK=$link_to_bam\n",
        "\n",
        "  # Assign filename to python variable. Used to convert to fastq and remove bam file to fastq after conversion\n",
        "\n",
        "  bam_filename=\"\"\n",
        "\n",
        "\n",
        "if not bam:\n",
        "\n",
        "  # Copy and paste the links from the ACE2 scRNAseq datasets google  spreadsheet\n",
        "\n",
        "  links_raw = \"https://sra-pub-src-2.s3.amazonaws.com/SRR9029604/sampleQSL_S1_L001_R1_001.fastq.gz\thttps://sra-pub-src-2.s3.amazonaws.com/SRR9029604/sampleQSL_S1_L001_R2_001.fastq.gz\"\n",
        "\n",
        "  # Convert it to a list where each link is an element\n",
        "  \n",
        "  fastqs = links_raw.split()\n"
      ],
      "execution_count": 1,
      "outputs": []
    },
    {
      "cell_type": "code",
      "metadata": {
        "id": "5R3tPDqnoJUn"
      },
      "source": [
        "no_samples = 1\n",
        "\n",
        "fastqs_per_sample = [2] \n",
        "\n",
        "sample_id = samp_id\n",
        "\n",
        "database_id = [id] * no_samples\n",
        "\n",
        "tissue = [\"peritoneal\"] * no_samples\n",
        "\n",
        "cell_type = [\"peritoneal cells\"] * no_samples\n",
        "\n",
        "condition = [\"healthy patient\"] * no_samples\n",
        "\n",
        "species = [\"human\"] * no_samples\n",
        "\n",
        "technology = [\"10xv2\"] * no_samples\n",
        "\n",
        "paper = [\"Muus et al 2020\"] * no_samples\n",
        "\n",
        "figure = [\"Fig 1 a,b  ED Fig 1 a,b,c,d  ED Fig 2 a,b,c,d,e\"] * no_samples\n",
        "\n",
        "\n",
        "# Set string variables for kb functions\n",
        "\n",
        "species_kb = species[0]\n",
        "\n",
        "technology_kb = technology[0]"
      ],
      "execution_count": 33,
      "outputs": []
    },
    {
      "cell_type": "markdown",
      "metadata": {
        "id": "FPwL0-_-KSAw"
      },
      "source": [
        "# Imports and installs"
      ]
    },
    {
      "cell_type": "code",
      "metadata": {
        "id": "1HSlUGZEp3oP",
        "outputId": "9a434abb-3469-47ac-a1c4-3532c7359b29",
        "colab": {
          "base_uri": "https://localhost:8080/"
        }
      },
      "source": [
        "# install and import necessary software\n",
        "\n",
        "# Install kb and scanpy\n",
        "!pip -q install kb-python \n",
        "!pip -q install scanpy\n",
        "\n",
        "import re\n",
        "import os\n",
        "\n",
        "# Setup\n",
        "\n",
        "import anndata\n",
        "import pandas as pd\n",
        "import numpy as np\n",
        "import matplotlib.pyplot as plt\n",
        "import matplotlib as mpl\n",
        "import matplotlib.patches as mpatches\n",
        "import scanpy as sc\n",
        "from scipy import stats\n",
        "\n",
        "from collections import OrderedDict\n",
        "from sklearn.decomposition import TruncatedSVD\n",
        "from sklearn.manifold import TSNE\n",
        "from sklearn.preprocessing import scale\n",
        "\n",
        "from sklearn.cluster import KMeans\n",
        "from sklearn.preprocessing import normalize\n",
        "from sklearn.preprocessing import LabelEncoder\n",
        "from sklearn.neighbors import NeighborhoodComponentsAnalysis\n",
        "from matplotlib import cm\n",
        "from matplotlib.lines import Line2D\n",
        "\n",
        "def nd(arr):\n",
        "    return np.asarray(arr).reshape(-1)\n",
        "def yex(ax):\n",
        "    lims = [np.min([ax.get_xlim(), ax.get_ylim()]),\n",
        "            np.max([ax.get_xlim(), ax.get_ylim()])]\n",
        "\n",
        "    # now plot both limits against eachother\n",
        "    ax.plot(lims, lims, 'k-', alpha=0.75, zorder=0)\n",
        "    ax.set_aspect('equal')\n",
        "    ax.set_xlim(lims)\n",
        "    ax.set_ylim(lims)\n",
        "    return ax\n",
        "\n",
        "def trim_axs(axs, N):\n",
        "    \"\"\"little helper to massage the axs list to have correct length...\"\"\"\n",
        "    axs = axs.flat\n",
        "    for ax in axs[N:]:\n",
        "        ax.remove()\n",
        "    return axs[:N]\n",
        "\n",
        "import warnings\n",
        "warnings.filterwarnings('ignore')\n",
        "\n",
        "fsize=20\n",
        "\n",
        "plt.rcParams.update({'font.size': fsize})\n",
        "%config InlineBackend.figure_format = 'retina'"
      ],
      "execution_count": 3,
      "outputs": [
        {
          "output_type": "stream",
          "text": [
            "\u001b[K     |████████████████████████████████| 35.4MB 1.3MB/s \n",
            "\u001b[K     |████████████████████████████████| 122kB 52.5MB/s \n",
            "\u001b[K     |████████████████████████████████| 51kB 7.0MB/s \n",
            "\u001b[K     |████████████████████████████████| 112kB 47.9MB/s \n",
            "\u001b[?25h  Building wheel for loompy (setup.py) ... \u001b[?25l\u001b[?25hdone\n",
            "  Building wheel for numpy-groupies (setup.py) ... \u001b[?25l\u001b[?25hdone\n",
            "\u001b[K     |████████████████████████████████| 7.7MB 2.7MB/s \n",
            "\u001b[K     |████████████████████████████████| 51kB 6.1MB/s \n",
            "\u001b[K     |████████████████████████████████| 61kB 7.8MB/s \n",
            "\u001b[?25h  Building wheel for sinfo (setup.py) ... \u001b[?25l\u001b[?25hdone\n"
          ],
          "name": "stdout"
        }
      ]
    },
    {
      "cell_type": "markdown",
      "metadata": {
        "id": "7V6FbosVrvP4"
      },
      "source": [
        "# Downloads: (bam (if bam) and index"
      ]
    },
    {
      "cell_type": "code",
      "metadata": {
        "id": "q46hw4zqKUPS"
      },
      "source": [
        "if bam:\n",
        "\n",
        "  # Install bamtofastq from 10x website (only bam files available)\n",
        "  !wget http://cf.10xgenomics.com/misc/bamtofastq-1.2.0\n",
        "  !chmod +x bamtofastq-1.2.0\n",
        "  # Download the bam file\n",
        "  !wget -- continue ${BAM_LINK}\n",
        "\n",
        "\n"
      ],
      "execution_count": 4,
      "outputs": []
    },
    {
      "cell_type": "code",
      "metadata": {
        "id": "tDQlrjtqNF0m"
      },
      "source": [
        "if bam:\n",
        "  # Convert to fastq\n",
        "  !./bamtofastq-1.2.0 --reads-per-fastq=500000000 $bam_filename ./fastqs\\\n",
        "\n",
        "  # Remove original bam file to save space\n",
        "  !rm $bam_filename\n"
      ],
      "execution_count": 5,
      "outputs": []
    },
    {
      "cell_type": "code",
      "metadata": {
        "id": "SXRDRphvqcLe"
      },
      "source": [
        "# Store fastq names on a list\n",
        "\n",
        "if bam:\n",
        "  # cd into fastqs folder\n",
        "  %cd /content/fastqs\n",
        "\n",
        "  #store the name of the folder generated by bamtofastq\n",
        "  _filename = os.listdir()[0]\n",
        "\n",
        "  # cd into that folder\n",
        "  %cd $_filename\n",
        "\n",
        "  # store fastq names in a list\n",
        "  fastqs = os.listdir()\n",
        "\n",
        "\n",
        "  # Remove I1 and R3 reads not relevant for our analysis\n",
        "\n",
        "  # Initialize list containing elements to remove\n",
        "  remov_elem = []\n",
        "\n",
        "  print (\"\\n\\nThis is the complete list of fastqs:\\n -----------\")\n",
        "  for elem in fastqs:\n",
        "    print (elem)\n",
        "\n",
        "  # Search index (I1 or R3) fastqs and remove them from list\n",
        "  for elem in fastqs:\n",
        "    if re.search(\"_R3_\", elem) or re.search(\"_I1_\", elem):\n",
        "      remov_elem = remov_elem +[elem]\n",
        "\n",
        "  fastqs = [elem for elem in fastqs if elem not in remov_elem] \n",
        "\n",
        "  print (\"\\n\\nThis is the filtered list of fastqs:\\n -----------\")\n",
        "  for elem in fastqs:\n",
        "    print (elem)\n"
      ],
      "execution_count": 6,
      "outputs": []
    },
    {
      "cell_type": "code",
      "metadata": {
        "id": "ZnFcqcSgjLBw"
      },
      "source": [
        "# Remove fastqs that wont be analyzed to save space\n",
        "if bam:\n",
        "  for elem in remov_elem:\n",
        "    !rm $elem"
      ],
      "execution_count": 7,
      "outputs": []
    },
    {
      "cell_type": "code",
      "metadata": {
        "id": "FLVS8aB7Dm6J"
      },
      "source": [
        "if bam:\n",
        "  # sort fastqs alphabetically to get R1 and R2 in order\n",
        "  fastqs = sorted(fastqs)"
      ],
      "execution_count": 8,
      "outputs": []
    },
    {
      "cell_type": "code",
      "metadata": {
        "id": "FE9gWbQgpBfR",
        "outputId": "176ce749-41f6-4f97-90d3-19ce56d11177",
        "colab": {
          "base_uri": "https://localhost:8080/"
        }
      },
      "source": [
        "# wget fastqs from non ffq links in fastqs folder\n",
        "if not bam and not fastq_ffqlinks:\n",
        "  !mkdir fastqs\n",
        "  %cd fastqs\n",
        "  for link in fastqs:\n",
        "    !wget $link --continue\n",
        "\n",
        "  # update fastqs variable with name of files\n",
        "  fastqs = sorted(os.listdir())"
      ],
      "execution_count": 9,
      "outputs": [
        {
          "output_type": "stream",
          "text": [
            "/content/fastqs\n",
            "--2020-11-11 15:37:53--  https://sra-pub-src-2.s3.amazonaws.com/SRR9029604/sampleQSL_S1_L001_R1_001.fastq.gz\n",
            "Resolving sra-pub-src-2.s3.amazonaws.com (sra-pub-src-2.s3.amazonaws.com)... 52.216.245.108\n",
            "Connecting to sra-pub-src-2.s3.amazonaws.com (sra-pub-src-2.s3.amazonaws.com)|52.216.245.108|:443... connected.\n",
            "HTTP request sent, awaiting response... 200 OK\n",
            "Length: 5405624432 (5.0G) [application/x-troff-man]\n",
            "Saving to: ‘sampleQSL_S1_L001_R1_001.fastq.gz’\n",
            "\n",
            "sampleQSL_S1_L001_R 100%[===================>]   5.03G  37.5MB/s    in 2m 25s  \n",
            "\n",
            "2020-11-11 15:40:18 (35.4 MB/s) - ‘sampleQSL_S1_L001_R1_001.fastq.gz’ saved [5405624432/5405624432]\n",
            "\n",
            "--2020-11-11 15:40:18--  https://sra-pub-src-2.s3.amazonaws.com/SRR9029604/sampleQSL_S1_L001_R2_001.fastq.gz\n",
            "Resolving sra-pub-src-2.s3.amazonaws.com (sra-pub-src-2.s3.amazonaws.com)... 52.216.112.123\n",
            "Connecting to sra-pub-src-2.s3.amazonaws.com (sra-pub-src-2.s3.amazonaws.com)|52.216.112.123|:443... connected.\n",
            "HTTP request sent, awaiting response... 200 OK\n",
            "Length: 14661139260 (14G) [application/x-troff-man]\n",
            "Saving to: ‘sampleQSL_S1_L001_R2_001.fastq.gz’\n",
            "\n",
            "sampleQSL_S1_L001_R 100%[===================>]  13.65G  32.8MB/s    in 6m 28s  \n",
            "\n",
            "2020-11-11 15:46:47 (36.0 MB/s) - ‘sampleQSL_S1_L001_R2_001.fastq.gz’ saved [14661139260/14661139260]\n",
            "\n",
            "--2020-11-11 15:46:47--  ftp://ftp.sra.ebi.ac.uk/vol1/fastq/SRR902/005/SRR9029605/SRR9029605_1.fastq.gz\n",
            "           => ‘SRR9029605_1.fastq.gz’\n",
            "Resolving ftp.sra.ebi.ac.uk (ftp.sra.ebi.ac.uk)... 193.62.197.74\n",
            "Connecting to ftp.sra.ebi.ac.uk (ftp.sra.ebi.ac.uk)|193.62.197.74|:21... connected.\n",
            "Logging in as anonymous ... Logged in!\n",
            "==> SYST ... done.    ==> PWD ... done.\n",
            "==> TYPE I ... done.  ==> CWD (1) /vol1/fastq/SRR902/005/SRR9029605 ... done.\n",
            "==> SIZE SRR9029605_1.fastq.gz ... 6355194592\n",
            "==> PASV ... done.    ==> RETR SRR9029605_1.fastq.gz ... done.\n",
            "Length: 6355194592 (5.9G) (unauthoritative)\n",
            "\n",
            "SRR9029605_1.fastq. 100%[===================>]   5.92G  20.1MB/s    in 6m 44s  \n",
            "\n",
            "2020-11-11 15:53:33 (15.0 MB/s) - ‘SRR9029605_1.fastq.gz’ saved [6355194592]\n",
            "\n",
            "--2020-11-11 15:53:33--  ftp://ftp.sra.ebi.ac.uk/vol1/fastq/SRR902/005/SRR9029605/SRR9029605_2.fastq.gz\n",
            "           => ‘SRR9029605_2.fastq.gz’\n",
            "Resolving ftp.sra.ebi.ac.uk (ftp.sra.ebi.ac.uk)... 193.62.197.74\n",
            "Connecting to ftp.sra.ebi.ac.uk (ftp.sra.ebi.ac.uk)|193.62.197.74|:21... connected.\n",
            "Logging in as anonymous ... Logged in!\n",
            "==> SYST ... done.    ==> PWD ... done.\n",
            "==> TYPE I ... done.  ==> CWD (1) /vol1/fastq/SRR902/005/SRR9029605 ... done.\n",
            "==> SIZE SRR9029605_2.fastq.gz ... 17259518962\n",
            "==> PASV ... done.    ==> RETR SRR9029605_2.fastq.gz ... done.\n",
            "Length: 17259518962 (16G) (unauthoritative)\n",
            "\n",
            "SRR9029605_2.fastq. 100%[===================>]  16.07G  32.7MB/s    in 11m 3s  \n",
            "\n",
            "2020-11-11 16:04:38 (24.8 MB/s) - Control connection closed.\n",
            "Retrying.\n",
            "\n",
            "--2020-11-11 16:19:39--  ftp://ftp.sra.ebi.ac.uk/vol1/fastq/SRR902/005/SRR9029605/SRR9029605_2.fastq.gz\n",
            "  (try: 2) => ‘SRR9029605_2.fastq.gz’\n",
            "Connecting to ftp.sra.ebi.ac.uk (ftp.sra.ebi.ac.uk)|193.62.197.74|:21... connected.\n",
            "Logging in as anonymous ... Logged in!\n",
            "==> SYST ... done.    ==> PWD ... done.\n",
            "==> TYPE I ... done.  ==> CWD (1) /vol1/fastq/SRR902/005/SRR9029605 ... done.\n",
            "==> SIZE SRR9029605_2.fastq.gz ... 17259518962\n",
            "File has already been retrieved.\n",
            "2020-11-11 16:19:40 (0.00 B/s) - ‘SRR9029605_2.fastq.gz’ saved [17259518962]\n",
            "\n",
            "--2020-11-11 16:19:40--  https://sra-pub-src-2.s3.amazonaws.com/SRR9029606/sampleA3_S1_L001_R1_001.fastq.gz\n",
            "Resolving sra-pub-src-2.s3.amazonaws.com (sra-pub-src-2.s3.amazonaws.com)... 52.217.9.60\n",
            "Connecting to sra-pub-src-2.s3.amazonaws.com (sra-pub-src-2.s3.amazonaws.com)|52.217.9.60|:443... connected.\n",
            "HTTP request sent, awaiting response... 200 OK\n",
            "Length: 5407653290 (5.0G) [application/x-troff-man]\n",
            "Saving to: ‘sampleA3_S1_L001_R1_001.fastq.gz’\n",
            "\n",
            "sampleA3_S1_L001_R1 100%[===================>]   5.04G  31.9MB/s    in 2m 28s  \n",
            "\n",
            "2020-11-11 16:22:08 (34.9 MB/s) - ‘sampleA3_S1_L001_R1_001.fastq.gz’ saved [5407653290/5407653290]\n",
            "\n",
            "--2020-11-11 16:22:08--  https://sra-pub-src-2.s3.amazonaws.com/SRR9029606/sampleA3_S1_L001_R2_001.fastq.gz\n",
            "Resolving sra-pub-src-2.s3.amazonaws.com (sra-pub-src-2.s3.amazonaws.com)... 52.217.66.204\n",
            "Connecting to sra-pub-src-2.s3.amazonaws.com (sra-pub-src-2.s3.amazonaws.com)|52.217.66.204|:443... connected.\n",
            "HTTP request sent, awaiting response... 200 OK\n",
            "Length: 14855544451 (14G) [application/x-troff-man]\n",
            "Saving to: ‘sampleA3_S1_L001_R2_001.fastq.gz’\n",
            "\n",
            "sampleA3_S1_L001_R2 100%[===================>]  13.83G  39.0MB/s    in 6m 46s  \n",
            "\n",
            "2020-11-11 16:28:54 (34.9 MB/s) - ‘sampleA3_S1_L001_R2_001.fastq.gz’ saved [14855544451/14855544451]\n",
            "\n"
          ],
          "name": "stdout"
        }
      ]
    },
    {
      "cell_type": "code",
      "metadata": {
        "id": "PC9oETW1pE9t",
        "outputId": "367d9686-2d63-4b71-c1a7-291b0f762453",
        "colab": {
          "base_uri": "https://localhost:8080/"
        }
      },
      "source": [
        "if bam:\n",
        "  # Download the corresponding Kallisto index to folder containing fastqs\n",
        "  !kb ref -d $species_kb -i index.idx -g t2g.txt -f1 transcriptome.fasta\n",
        "\n",
        "if not bam and fastq_ffqlinks:\n",
        "  %cd /content\n",
        "\n",
        "  # Download the corresponding Kallisto index to content folder\n",
        "  !kb ref -d $species_kb -i index.idx -g t2g.txt -f1 transcriptome.fasta\n",
        "\n",
        "if not bam and not fastq_ffqlinks:\n",
        "  %cd /content/fastqs\n",
        "\n",
        "  # Download the corresponding Kallisto index to fastq folder\n",
        "  !kb ref -d $species_kb -i index.idx -g t2g.txt -f1 transcriptome.fasta"
      ],
      "execution_count": 10,
      "outputs": [
        {
          "output_type": "stream",
          "text": [
            "/content/fastqs\n",
            "[2020-11-11 16:28:58,562]    INFO Downloading files for human from https://caltech.box.com/shared/static/v1nm7lpnqz5syh8dyzdk2zs8bglncfib.gz to tmp/v1nm7lpnqz5syh8dyzdk2zs8bglncfib.gz\n",
            "[2020-11-11 16:30:48,604]    INFO Extracting files from tmp/v1nm7lpnqz5syh8dyzdk2zs8bglncfib.gz\n"
          ],
          "name": "stdout"
        }
      ]
    },
    {
      "cell_type": "code",
      "metadata": {
        "id": "vHVNa51Cp9Nr",
        "outputId": "184228ac-b6a0-4f1d-8cd7-65c6e56a9bba",
        "colab": {
          "base_uri": "https://localhost:8080/"
        }
      },
      "source": [
        "# Check to make sure the metadata is in the right order after sorting\n",
        "print(fastqs)"
      ],
      "execution_count": 11,
      "outputs": [
        {
          "output_type": "stream",
          "text": [
            "['SRR9029605_1.fastq.gz', 'SRR9029605_2.fastq.gz', 'sampleA3_S1_L001_R1_001.fastq.gz', 'sampleA3_S1_L001_R2_001.fastq.gz', 'sampleQSL_S1_L001_R1_001.fastq.gz', 'sampleQSL_S1_L001_R2_001.fastq.gz']\n"
          ],
          "name": "stdout"
        }
      ]
    },
    {
      "cell_type": "markdown",
      "metadata": {
        "id": "VInyuq1Dp7iz"
      },
      "source": [
        "# Process fastq files (modify kb command according to fastqs list)\n"
      ]
    },
    {
      "cell_type": "code",
      "metadata": {
        "id": "OcqtBuH-pRaX"
      },
      "source": [
        "fastqs = ['sampleQSL_S1_L001_R1_001.fastq.gz',\n",
        " 'sampleQSL_S1_L001_R2_001.fastq.gz'\n",
        " ]"
      ],
      "execution_count": 16,
      "outputs": []
    },
    {
      "cell_type": "code",
      "metadata": {
        "id": "5qFzPj-0kZTi",
        "outputId": "686919c7-e421-40b2-a931-4fce684d1e4f",
        "colab": {
          "base_uri": "https://localhost:8080/"
        }
      },
      "source": [
        "# Specify the sample number and whether they are paired-ended\n",
        "\n",
        "\n",
        "if no_samples == 1:\n",
        "\n",
        "  # Write the kb count command as a string with all fastqs of the list as an input\n",
        "  cmd = \"kb count --h5ad -i index.idx -g t2g.txt -x \" + technology_kb + \" -o output\" + sample_id[0] + \" \"\\\n",
        "  + \"--filter bustools -t 2 --overwrite \" + \"'\" +  \"' '\".join(fastqs) + \"'\"\n",
        "  \n",
        "  # Execute it\n",
        "  !$cmd\n",
        "\n",
        "# If more than one sample, iterate through fastqs accordingly\n",
        "else:\n",
        "\n",
        "  # Initializa counter for fastq files\n",
        "  j = 0\n",
        "\n",
        "  # Loop over samples for analysis\n",
        "  for i in range(no_samples):\n",
        "\n",
        "    fastqs_to_analyze = fastqs[j:j + fastqs_per_sample[i]]\n",
        "    # Write the kb count command as a string\n",
        "    cmd = \"kb count --h5ad -i index.idx -g t2g.txt -x \" + technology_kb + \" -o output\" + sample_id[i] + \" \\\n",
        "    --filter bustools -t 2 --overwrite \" + \"'\" +  \"' '\".join(fastqs_to_analyze) + \"'\"\n",
        "\n",
        "    # Execute it\n",
        "    !$cmd\n",
        "\n",
        "    # Update j to move to the next set of fastq\n",
        "    j = j + fastqs_per_sample[i]\n",
        "\n",
        "\n",
        "\n",
        "\n",
        "\n"
      ],
      "execution_count": 18,
      "outputs": [
        {
          "output_type": "stream",
          "text": [
            "[2020-11-11 18:29:15,387]    INFO Generating BUS file from\n",
            "[2020-11-11 18:29:15,387]    INFO         sampleQSL_S1_L001_R1_001.fastq.gz\n",
            "[2020-11-11 18:29:15,388]    INFO         sampleQSL_S1_L001_R2_001.fastq.gz\n",
            "[2020-11-11 18:45:36,610]    INFO Sorting BUS file outputGSM3755693/output.bus to tmp/output.s.bus\n",
            "[2020-11-11 18:46:48,013]    INFO Whitelist not provided\n",
            "[2020-11-11 18:46:48,013]    INFO Copying pre-packaged 10XV2 whitelist to outputGSM3755693\n",
            "[2020-11-11 18:46:48,130]    INFO Inspecting BUS file tmp/output.s.bus\n",
            "[2020-11-11 18:47:04,222]    INFO Correcting BUS records in tmp/output.s.bus to tmp/output.s.c.bus with whitelist outputGSM3755693/10xv2_whitelist.txt\n",
            "[2020-11-11 18:47:29,816]    INFO Sorting BUS file tmp/output.s.c.bus to outputGSM3755693/output.unfiltered.bus\n",
            "[2020-11-11 18:48:08,328]    INFO Generating count matrix outputGSM3755693/counts_unfiltered/cells_x_genes from BUS file outputGSM3755693/output.unfiltered.bus\n",
            "[2020-11-11 18:48:27,121]    INFO Converting matrix outputGSM3755693/counts_unfiltered/cells_x_genes.mtx to h5ad outputGSM3755693/counts_unfiltered/adata.h5ad\n",
            "[2020-11-11 18:48:54,063]    INFO Filtering with bustools\n",
            "[2020-11-11 18:48:54,063]    INFO Generating whitelist outputGSM3755693/filter_barcodes.txt from BUS file outputGSM3755693/output.unfiltered.bus\n",
            "[2020-11-11 18:48:54,441]    INFO Capturing records from BUS file outputGSM3755693/output.unfiltered.bus to tmp/output.filtered.bus with capture list outputGSM3755693/filter_barcodes.txt\n",
            "[2020-11-11 18:48:58,598]    INFO Sorting BUS file tmp/output.filtered.bus to outputGSM3755693/output.filtered.bus\n",
            "[2020-11-11 18:49:32,448]    INFO Generating count matrix outputGSM3755693/counts_filtered/cells_x_genes from BUS file outputGSM3755693/output.filtered.bus\n",
            "[2020-11-11 18:49:49,308]    INFO Converting matrix outputGSM3755693/counts_filtered/cells_x_genes.mtx to h5ad outputGSM3755693/counts_filtered/adata.h5ad\n",
            "[2020-11-11 18:50:11,342]    INFO Generating BUS file from\n",
            "[2020-11-11 18:50:11,342]    INFO         SRR9029605_1.fastq.gz\n",
            "[2020-11-11 18:50:11,342]    INFO         SRR9029605_2.fastq.gz\n",
            "[2020-11-11 19:51:06,459]    INFO Sorting BUS file outputGSM3755694/output.bus to tmp/output.s.bus\n",
            "[2020-11-11 19:55:31,714]    INFO Whitelist not provided\n",
            "[2020-11-11 19:55:31,714]    INFO Copying pre-packaged 10XV2 whitelist to outputGSM3755694\n",
            "[2020-11-11 19:55:31,831]    INFO Inspecting BUS file tmp/output.s.bus\n",
            "[2020-11-11 19:55:33,762]    INFO Correcting BUS records in tmp/output.s.bus to tmp/output.s.c.bus with whitelist outputGSM3755694/10xv2_whitelist.txt\n",
            "[2020-11-11 19:55:55,150]    INFO Sorting BUS file tmp/output.s.c.bus to outputGSM3755694/output.unfiltered.bus\n",
            "[2020-11-11 19:55:57,971]   ERROR An exception occurred\n",
            "Traceback (most recent call last):\n",
            "  File \"/usr/local/lib/python3.6/dist-packages/kb_python/main.py\", line 483, in main\n",
            "    COMMAND_TO_FUNCTION[args.command](args)\n",
            "  File \"/usr/local/lib/python3.6/dist-packages/kb_python/main.py\", line 150, in parse_count\n",
            "    h5ad=args.h5ad,\n",
            "  File \"/usr/local/lib/python3.6/dist-packages/kb_python/count.py\", line 544, in count\n",
            "    memory=memory\n",
            "  File \"/usr/local/lib/python3.6/dist-packages/kb_python/count.py\", line 97, in bustools_sort\n",
            "    run_executable(command)\n",
            "  File \"/usr/local/lib/python3.6/dist-packages/kb_python/utils.py\", line 147, in run_executable\n",
            "    raise sp.CalledProcessError(p.returncode, ' '.join(command))\n",
            "subprocess.CalledProcessError: Command '/usr/local/lib/python3.6/dist-packages/kb_python/bins/linux/bustools/bustools sort -o outputGSM3755694/output.unfiltered.bus -T tmp -t 2 -m 4G tmp/output.s.c.bus' died with <Signals.SIGSEGV: 11>.\n",
            "[2020-11-11 19:55:59,629]    INFO Generating BUS file from\n",
            "[2020-11-11 19:55:59,629]    INFO         sampleA3_S1_L001_R1_001.fastq.gz\n",
            "[2020-11-11 19:55:59,629]    INFO         sampleA3_S1_L001_R2_001.fastq.gz\n",
            "[2020-11-11 20:12:18,104]    INFO Sorting BUS file outputGSM3755695/output.bus to tmp/output.s.bus\n",
            "[2020-11-11 20:12:59,118]    INFO Whitelist not provided\n",
            "[2020-11-11 20:12:59,118]    INFO Copying pre-packaged 10XV2 whitelist to outputGSM3755695\n",
            "[2020-11-11 20:12:59,222]   ERROR An exception occurred\n",
            "Traceback (most recent call last):\n",
            "  File \"/usr/local/lib/python3.6/dist-packages/kb_python/main.py\", line 483, in main\n",
            "    COMMAND_TO_FUNCTION[args.command](args)\n",
            "  File \"/usr/local/lib/python3.6/dist-packages/kb_python/main.py\", line 150, in parse_count\n",
            "    h5ad=args.h5ad,\n",
            "  File \"/usr/local/lib/python3.6/dist-packages/kb_python/count.py\", line 526, in count\n",
            "    technology, sort_result['bus'], out_dir\n",
            "  File \"/usr/local/lib/python3.6/dist-packages/kb_python/count.py\", line 392, in copy_or_create_whitelist\n",
            "    return copy_whitelist(technology, out_dir)\n",
            "  File \"/usr/local/lib/python3.6/dist-packages/kb_python/utils.py\", line 300, in copy_whitelist\n",
            "    out.write(f.read())\n",
            "OSError: [Errno 28] No space left on device\n"
          ],
          "name": "stdout"
        }
      ]
    },
    {
      "cell_type": "markdown",
      "metadata": {
        "id": "tDijOZzrqhN2"
      },
      "source": [
        "# Load unfiltered matrix and assign filters to each matrix individually"
      ]
    },
    {
      "cell_type": "markdown",
      "metadata": {
        "id": "VkNLZh_pNFFw"
      },
      "source": [
        "## Load the unfiltered matrix (check dimensions)"
      ]
    },
    {
      "cell_type": "code",
      "metadata": {
        "id": "PppRNeV8AIyw"
      },
      "source": [
        "# Define dict to store data\n",
        "results = {}\n"
      ],
      "execution_count": 34,
      "outputs": []
    },
    {
      "cell_type": "code",
      "metadata": {
        "id": "pKmtGf3c_BiZ",
        "cellView": "both",
        "outputId": "85ed3ced-9f5c-4dad-8e59-1ebf86571600",
        "colab": {
          "base_uri": "https://localhost:8080/"
        }
      },
      "source": [
        "# load the unfiltered matrix\n",
        "for i in range(no_samples):\n",
        "  results[sample_id[i]] = anndata.read_h5ad(\"output\" + sample_id[i] + \"/counts_unfiltered/adata.h5ad\")\n",
        "  results[sample_id[i]].var[\"gene_id\"] = results[sample_id[i]].var.index.values\n",
        "\n",
        "  t2g = pd.read_csv(\"t2g.txt\", header=None, names=[\"tid\", \"gene_id\", \"gene_name\"], sep=\"\\t\")\n",
        "  t2g.index = t2g.gene_id\n",
        "  t2g = t2g.loc[~t2g.index.duplicated(keep='first')]\n",
        "\n",
        "  results[sample_id[i]].var[\"gene_name\"] = results[sample_id[i]].var.gene_id.map(t2g[\"gene_name\"])\n",
        "  results[sample_id[i]].var.index = results[sample_id[i]].var[\"gene_name\"]\n",
        "  print(\"The unfiltered matrix \" + sample_id[i] + \" contains {} cells by {} genes\".format(len(results[sample_id[i]].obs), len(results[sample_id[i]].var)))\n",
        "\n",
        "  results[sample_id[i]].obs[\"cell_counts\"] = results[sample_id[i]].X.sum(axis=1)\n",
        "  results[sample_id[i]].var[\"gene_counts\"] = nd(results[sample_id[i]].X.sum(axis=0))\n",
        "\n",
        "  results[sample_id[i]].obs[\"n_genes\"] = nd((results[sample_id[i]].X>0).sum(axis=1))\n",
        "  results[sample_id[i]].var[\"n_cells\"] = nd((results[sample_id[i]].X>0).sum(axis=0))\n",
        "\n",
        "  mito_genes = results[sample_id[i]].var_names.str.startswith(\"MT-\" or \"mt-\") \n",
        "  results[sample_id[i]].obs[\"percent_mito\"] = results[sample_id[i]][:,mito_genes].X.sum(axis=1)/results[sample_id[i]].X.sum(axis=1)*100\n",
        "\n",
        "  # Changing the name of the index is necessary to write the file (it won't work with duplicated names)\n",
        "  results[sample_id[i]].var.index.name = \"index\"\n",
        "\n"
      ],
      "execution_count": 35,
      "outputs": [
        {
          "output_type": "stream",
          "text": [
            "The unfiltered matrix GSM3755693 contains 430033 cells by 60623 genes\n"
          ],
          "name": "stdout"
        }
      ]
    },
    {
      "cell_type": "markdown",
      "metadata": {
        "id": "hDAUH3eH_2RA"
      },
      "source": [
        "## Assign filters for each matrix individually"
      ]
    },
    {
      "cell_type": "markdown",
      "metadata": {
        "id": "NXH8n33MTk-d"
      },
      "source": [
        "Save 93, then change notebook and open new one for 94 and 95"
      ]
    },
    {
      "cell_type": "code",
      "metadata": {
        "id": "Fdt6F6t1Tk0W"
      },
      "source": [
        "import time\n",
        "\n",
        "time.sleep (6000)"
      ],
      "execution_count": 32,
      "outputs": []
    },
    {
      "cell_type": "code",
      "metadata": {
        "id": "ukinuaKk_6Po"
      },
      "source": [
        "# Modify this manually to change sample after having assigned the \"expected_num_cells\" and \"mito_criteria\" parameters\n",
        "samp_n = 0\n",
        "\n",
        "\n",
        "# Filtering criteria\n",
        "cell_threshold = 100\n",
        "gene_threshold = 3\n",
        "\n",
        "mito_criteria = 30"
      ],
      "execution_count": 36,
      "outputs": []
    },
    {
      "cell_type": "code",
      "metadata": {
        "id": "a5wZB5pEfwNs",
        "cellView": "form",
        "outputId": "c75a1a93-1622-4ff0-86ed-42d14da94374",
        "colab": {
          "base_uri": "https://localhost:8080/",
          "height": 725
        }
      },
      "source": [
        "\n",
        "expected_num_cells = 10000#@param {type:\"integer\"}\n",
        "knee = np.sort(nd(results[sample_id[samp_n]].X.sum(axis=1)))[::-1]\n",
        "\n",
        "fig, ax = plt.subplots(figsize=(5, 5))\n",
        "\n",
        "x = knee\n",
        "y = range(len(knee))\n",
        "\n",
        "ax.loglog(x, y, linewidth=5, color=\"g\")\n",
        "\n",
        "ax.axvline(x=knee[expected_num_cells], linewidth=3, color=\"k\")\n",
        "ax.axhline(y=expected_num_cells, linewidth=3, color=\"k\")\n",
        "\n",
        "ax.set_xlabel(\"UMI Counts\")\n",
        "ax.set_ylabel(\"Set of Barcodes\")\n",
        "\n",
        "plt.show()\n",
        "\n",
        "cell_threshold = knee[expected_num_cells]\n",
        "\n",
        "results[\"cell_threshold\" + sample_id[samp_n]] = knee[expected_num_cells]\n",
        "\n",
        "print (\"Cells were filtered down to \" + str(expected_num_cells) + \" with at least \" + str(cell_threshold) + \" UMIs\")\n",
        "\n",
        "\n",
        "mito_criteria = 18#@param {type:\"integer\"}\n",
        "results[\"mito_criteria\" + sample_id[samp_n]] = mito_criteria\n",
        "\n",
        "fig, ax = plt.subplots(figsize=(5,5))\n",
        "\n",
        "\n",
        "x = nd(results[sample_id[samp_n]].obs[\"cell_counts\"][results[sample_id[i]].obs[\"cell_counts\"] > cell_threshold])\n",
        "y = nd(results[sample_id[samp_n]].obs[\"percent_mito\"][results[sample_id[i]].obs[\"cell_counts\"] > cell_threshold])\n",
        "\n",
        "ax.scatter(x, y, color=\"green\", alpha=0.1)\n",
        "\n",
        "ax.axhline(y=mito_criteria, linestyle=\"--\", color=\"k\")\n",
        "\n",
        "\n",
        "ax.set_xlabel(\"UMI Counts\")\n",
        "ax.set_ylabel(\"Percent mito\")\n",
        "\n",
        "\n",
        "plt.show()\n",
        "\n",
        "print(\"We select \" + str(mito_criteria) + \" % as the mitochondrial content threshold\")"
      ],
      "execution_count": 38,
      "outputs": [
        {
          "output_type": "display_data",
          "data": {
            "image/png": "[encoded data removed]",
            "text/plain": [
              "<Figure size 360x360 with 1 Axes>"
            ]
          },
          "metadata": {
            "tags": [],
            "image/png": {
              "width": 358,
              "height": 337
            },
            "needs_background": "light"
          }
        },
        {
          "output_type": "stream",
          "text": [
            "Cells were filtered down to 10000 with at least 444.0 UMIs\n"
          ],
          "name": "stdout"
        },
        {
          "output_type": "display_data",
          "data": {
            "image/png": "[encoded data removed]",
            "text/plain": [
              "<Figure size 360x360 with 1 Axes>"
            ]
          },
          "metadata": {
            "tags": [],
            "image/png": {
              "width": 349,
              "height": 337
            },
            "needs_background": "light"
          }
        },
        {
          "output_type": "stream",
          "text": [
            "We select 18 % as the mitochondrial content threshold\n"
          ],
          "name": "stdout"
        }
      ]
    },
    {
      "cell_type": "markdown",
      "metadata": {
        "id": "eP9j2ouPq9KY"
      },
      "source": [
        "# Filter matrix"
      ]
    },
    {
      "cell_type": "code",
      "metadata": {
        "id": "sE51WUA3gVmG",
        "outputId": "d5b5b339-7003-41ba-eea9-d1691de57869",
        "colab": {
          "base_uri": "https://localhost:8080/"
        }
      },
      "source": [
        "for i in range(no_samples):\n",
        "  results[sample_id[i]].obs[\"pass_count_filter\"] = results[sample_id[i]].obs[\"cell_counts\"] > results[\"cell_threshold\" + sample_id[i]]\n",
        "  results[sample_id[i]].obs[\"pass_mito_filter\"] = results[sample_id[i]].obs.percent_mito < results[\"mito_criteria\" + sample_id[i]]\n",
        "  results[sample_id[i]].var[\"pass_gene_filter\"] = results[sample_id[i]].var[\"n_cells\"] > gene_threshold\n",
        "\n",
        "  cell_mask = np.logical_and(results[sample_id[i]].obs[\"pass_count_filter\"].values, results[sample_id[i]].obs[\"pass_mito_filter\"].values)\n",
        "  gene_mask = results[sample_id[i]].var[\"pass_gene_filter\"].values\n",
        "\n",
        "  print(\"Current Shape: {:,} cells x {:,} genes\".format(results[sample_id[i]].shape[0], results[sample_id[i]].shape[1]))\n",
        "  print(\"    New shape: {:,} cells x {:,} genes\".format(cell_mask.sum(), gene_mask.sum()))\n",
        "  results[\"data_\" + sample_id[i]] = results[sample_id[i]][cell_mask, gene_mask]"
      ],
      "execution_count": 39,
      "outputs": [
        {
          "output_type": "stream",
          "text": [
            "Current Shape: 430,033 cells x 60,623 genes\n",
            "    New shape: 9,854 cells x 27,870 genes\n"
          ],
          "name": "stdout"
        }
      ]
    },
    {
      "cell_type": "markdown",
      "metadata": {
        "id": "BxPA81yj4TlU"
      },
      "source": [
        "# Anotate and write the Anndata object"
      ]
    },
    {
      "cell_type": "code",
      "metadata": {
        "id": "O-q_Qj2U4kDU",
        "outputId": "b6891768-c030-4289-cc75-2fe999791ff5",
        "colab": {
          "base_uri": "https://localhost:8080/"
        }
      },
      "source": [
        "for i in range(no_samples):\n",
        "\n",
        "\n",
        "  results[\"data_\" + sample_id[i]].uns[\"database_id\"] = database_id[samp_n]\n",
        "\n",
        "  results[\"data_\" + sample_id[i]].uns[\"tissue\"] = tissue[samp_n]\n",
        "\n",
        "  results[\"data_\" + sample_id[i]].uns[\"cell_type\"] = cell_type[samp_n]\n",
        "\n",
        "  results[\"data_\" + sample_id[i]].uns[\"sample_id\"] = sample_id[samp_n]\n",
        "\n",
        "  results[\"data_\" + sample_id[i]].uns[\"condition\"] = condition[samp_n]\n",
        "\n",
        "  results[\"data_\" + sample_id[i]].uns[\"species\"] = species[samp_n]\n",
        "\n",
        "  results[\"data_\" + sample_id[i]].uns[\"technology\"] = technology[samp_n]\n",
        "\n",
        "  results[\"data_\" + sample_id[i]].uns[\"paper\"] = paper[samp_n]\n",
        "\n",
        "  results[\"data_\" + sample_id[i]].uns[\"figure\"] = figure[samp_n]\n",
        "\n",
        "\n",
        "%cd /content\n",
        "\n",
        "for i in range(no_samples):\n",
        "\n",
        "  results[\"data_\" + sample_id[i]].write(\"result\" + sample_id[i])"
      ],
      "execution_count": 40,
      "outputs": [
        {
          "output_type": "stream",
          "text": [
            "Trying to set attribute `.uns` of view, copying.\n",
            "Variable names are not unique. To make them unique, call `.var_names_make_unique`.\n",
            "Variable names are not unique. To make them unique, call `.var_names_make_unique`.\n"
          ],
          "name": "stderr"
        },
        {
          "output_type": "stream",
          "text": [
            "/content\n"
          ],
          "name": "stdout"
        },
        {
          "output_type": "stream",
          "text": [
            "... storing 'gene_name' as categorical\n"
          ],
          "name": "stderr"
        }
      ]
    }
  ]
}