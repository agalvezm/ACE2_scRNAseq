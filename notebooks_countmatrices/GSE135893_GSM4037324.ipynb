{
  "nbformat": 4,
  "nbformat_minor": 0,
  "metadata": {
    "colab": {
      "name": "GSE135893_GSM4037324.ipynb",
      "provenance": [],
      "collapsed_sections": [],
      "toc_visible": true,
      "include_colab_link": true
    },
    "kernelspec": {
      "name": "python3",
      "display_name": "Python 3"
    }
  },
  "cells": [
    {
      "cell_type": "markdown",
      "metadata": {
        "id": "view-in-github",
        "colab_type": "text"
      },
      "source": [
        "<a href=\"https://colab.research.google.com/github/agalvezm/ACE2_scRNAseq/blob/master/notebooks_countmatrices/GSE135893_GSM4037324.ipynb\" target=\"_parent\"><img src=\"https://colab.research.google.com/assets/colab-badge.svg\" alt=\"Open In Colab\"/></a>"
      ]
    },
    {
      "cell_type": "markdown",
      "metadata": {
        "id": "V9ryXluJsJw9"
      },
      "source": [
        "# GSE135893_GSM4037324"
      ]
    },
    {
      "cell_type": "code",
      "metadata": {
        "id": "ggNFAQJCRh6P"
      },
      "source": [
        "# define the values for the analysis\n",
        "\n",
        "# accession id for the data\n",
        "id = \"GSE135893\"\n",
        "samp_id = [\"GSM4037324\"]\n",
        "\n",
        "# If only bam available files, set bam = True, Fill link and filename\n",
        "bam = False\n",
        "\n",
        "# If fastq links available but are not ffq links\n",
        "fastq_ffqlinks = False\n",
        "\n",
        "\n",
        "if bam:\n",
        "  # Assign link to python variable\n",
        "  link_to_bam = \"\"\n",
        "  \n",
        "  # Assigns the link to the bash variable BAM_LINK. To be used by wget\n",
        "  %env BAM_LINK=$link_to_bam\n",
        "\n",
        "  # Assign filename to python variable. Used to convert to fastq and remove bam file to fastq after conversion\n",
        "\n",
        "  bam_filename=\"\"\n",
        "\n",
        "\n",
        "if not bam:\n",
        "\n",
        "  # Copy and paste the links from the ACE2 scRNAseq datasets google  spreadsheet\n",
        "\n",
        "  links_raw = \"ftp://ftp.sra.ebi.ac.uk/vol1/fastq/SRR998/004/SRR9985494/SRR9985494_1.fastq.gz\tftp://ftp.sra.ebi.ac.uk/vol1/fastq/SRR998/004/SRR9985494/SRR9985494_2.fastq.gz\tftp://ftp.sra.ebi.ac.uk/vol1/fastq/SRR998/002/SRR9985492/SRR9985492_1.fastq.gz\tftp://ftp.sra.ebi.ac.uk/vol1/fastq/SRR998/002/SRR9985492/SRR9985492_2.fastq.gz\tftp://ftp.sra.ebi.ac.uk/vol1/fastq/SRR998/003/SRR9985493/SRR9985493_1.fastq.gz\tftp://ftp.sra.ebi.ac.uk/vol1/fastq/SRR998/003/SRR9985493/SRR9985493_2.fastq.gz\tftp://ftp.sra.ebi.ac.uk/vol1/fastq/SRR998/001/SRR9985441/SRR9985441_1.fastq.gz\tftp://ftp.sra.ebi.ac.uk/vol1/fastq/SRR998/001/SRR9985441/SRR9985441_2.fastq.gz\tftp://ftp.sra.ebi.ac.uk/vol1/fastq/SRR998/003/SRR9985443/SRR9985443_1.fastq.gz\tftp://ftp.sra.ebi.ac.uk/vol1/fastq/SRR998/003/SRR9985443/SRR9985443_2.fastq.gz\tftp://ftp.sra.ebi.ac.uk/vol1/fastq/SRR998/002/SRR9985442/SRR9985442_1.fastq.gz\tftp://ftp.sra.ebi.ac.uk/vol1/fastq/SRR998/002/SRR9985442/SRR9985442_2.fastq.gz\tftp://ftp.sra.ebi.ac.uk/vol1/fastq/SRR998/000/SRR9985440/SRR9985440_1.fastq.gz\tftp://ftp.sra.ebi.ac.uk/vol1/fastq/SRR998/000/SRR9985440/SRR9985440_2.fastq.gz\tftp://ftp.sra.ebi.ac.uk/vol1/fastq/SRR998/009/SRR9985439/SRR9985439_1.fastq.gz\tftp://ftp.sra.ebi.ac.uk/vol1/fastq/SRR998/009/SRR9985439/SRR9985439_2.fastq.gz\"\n",
        "\n",
        "  # Convert it to a list where each link is an element\n",
        "  \n",
        "  fastqs = links_raw.split()\n"
      ],
      "execution_count": null,
      "outputs": []
    },
    {
      "cell_type": "code",
      "metadata": {
        "id": "5R3tPDqnoJUn"
      },
      "source": [
        "no_samples = 1\n",
        "\n",
        "fastqs_per_sample = [4, 8, 8] \n",
        "\n",
        "sample_id = samp_id\n",
        "\n",
        "database_id = [id] * no_samples\n",
        "\n",
        "tissue = [\"lung\"] * no_samples\n",
        "\n",
        "cell_type = [\"lung biopsy (multiple locations)\"] * no_samples\n",
        "\n",
        "condition = [\"healthy\"] * no_samples\n",
        "\n",
        "species = [\"human\"] * no_samples\n",
        "\n",
        "technology = [\"10xv2\"] * no_samples\n",
        "\n",
        "paper = [\"Muus et al 2020\"] * no_samples\n",
        "\n",
        "figure = [\"Fig 1 c,d Fig 4 e ED Fig 11 a,c\"] * no_samples\n",
        "\n",
        "\n",
        "# Set string variables for kb functions\n",
        "\n",
        "species_kb = species[0]\n",
        "\n",
        "technology_kb = technology[0]\n",
        "\n"
      ],
      "execution_count": null,
      "outputs": []
    },
    {
      "cell_type": "markdown",
      "metadata": {
        "id": "FPwL0-_-KSAw"
      },
      "source": [
        "# Imports and installs"
      ]
    },
    {
      "cell_type": "code",
      "metadata": {
        "id": "1HSlUGZEp3oP",
        "colab": {
          "base_uri": "https://localhost:8080/"
        },
        "outputId": "3f0f2e5f-9bcf-4b3b-fafe-33e2d1475240"
      },
      "source": [
        "# install and import necessary software\n",
        "\n",
        "# Install kb and scanpy\n",
        "!pip -q install kb-python \n",
        "!pip -q install scanpy\n",
        "\n",
        "import re\n",
        "import os\n",
        "\n",
        "# Setup\n",
        "\n",
        "import anndata\n",
        "import pandas as pd\n",
        "import numpy as np\n",
        "import matplotlib.pyplot as plt\n",
        "import matplotlib as mpl\n",
        "import matplotlib.patches as mpatches\n",
        "import scanpy as sc\n",
        "from scipy import stats\n",
        "\n",
        "from collections import OrderedDict\n",
        "from sklearn.decomposition import TruncatedSVD\n",
        "from sklearn.manifold import TSNE\n",
        "from sklearn.preprocessing import scale\n",
        "\n",
        "from sklearn.cluster import KMeans\n",
        "from sklearn.preprocessing import normalize\n",
        "from sklearn.preprocessing import LabelEncoder\n",
        "from sklearn.neighbors import NeighborhoodComponentsAnalysis\n",
        "from matplotlib import cm\n",
        "from matplotlib.lines import Line2D\n",
        "\n",
        "def nd(arr):\n",
        "    return np.asarray(arr).reshape(-1)\n",
        "def yex(ax):\n",
        "    lims = [np.min([ax.get_xlim(), ax.get_ylim()]),\n",
        "            np.max([ax.get_xlim(), ax.get_ylim()])]\n",
        "\n",
        "    # now plot both limits against eachother\n",
        "    ax.plot(lims, lims, 'k-', alpha=0.75, zorder=0)\n",
        "    ax.set_aspect('equal')\n",
        "    ax.set_xlim(lims)\n",
        "    ax.set_ylim(lims)\n",
        "    return ax\n",
        "\n",
        "def trim_axs(axs, N):\n",
        "    \"\"\"little helper to massage the axs list to have correct length...\"\"\"\n",
        "    axs = axs.flat\n",
        "    for ax in axs[N:]:\n",
        "        ax.remove()\n",
        "    return axs[:N]\n",
        "\n",
        "import warnings\n",
        "warnings.filterwarnings('ignore')\n",
        "\n",
        "fsize=20\n",
        "\n",
        "plt.rcParams.update({'font.size': fsize})\n",
        "%config InlineBackend.figure_format = 'retina'"
      ],
      "execution_count": null,
      "outputs": [
        {
          "output_type": "stream",
          "text": [
            "\u001b[K     |████████████████████████████████| 35.4MB 141kB/s \n",
            "\u001b[K     |████████████████████████████████| 122kB 48.0MB/s \n",
            "\u001b[K     |████████████████████████████████| 51kB 6.3MB/s \n",
            "\u001b[K     |████████████████████████████████| 112kB 51.3MB/s \n",
            "\u001b[?25h  Building wheel for loompy (setup.py) ... \u001b[?25l\u001b[?25hdone\n",
            "  Building wheel for numpy-groupies (setup.py) ... \u001b[?25l\u001b[?25hdone\n",
            "\u001b[K     |████████████████████████████████| 7.7MB 8.8MB/s \n",
            "\u001b[K     |████████████████████████████████| 61kB 8.2MB/s \n",
            "\u001b[K     |████████████████████████████████| 51kB 7.2MB/s \n",
            "\u001b[?25h  Building wheel for sinfo (setup.py) ... \u001b[?25l\u001b[?25hdone\n"
          ],
          "name": "stdout"
        }
      ]
    },
    {
      "cell_type": "markdown",
      "metadata": {
        "id": "7V6FbosVrvP4"
      },
      "source": [
        "# Downloads: (bam (if bam) and index"
      ]
    },
    {
      "cell_type": "code",
      "metadata": {
        "id": "q46hw4zqKUPS"
      },
      "source": [
        "if bam:\n",
        "\n",
        "  # Install bamtofastq from 10x website (only bam files available)\n",
        "  !wget http://cf.10xgenomics.com/misc/bamtofastq-1.2.0\n",
        "  !chmod +x bamtofastq-1.2.0\n",
        "  # Download the bam file\n",
        "  !wget -- continue ${BAM_LINK}\n",
        "\n",
        "\n"
      ],
      "execution_count": null,
      "outputs": []
    },
    {
      "cell_type": "code",
      "metadata": {
        "id": "tDQlrjtqNF0m"
      },
      "source": [
        "if bam:\n",
        "  # Convert to fastq\n",
        "  !./bamtofastq-1.2.0 --reads-per-fastq=500000000 $bam_filename ./fastqs\\\n",
        "\n",
        "  # Remove original bam file to save space\n",
        "  !rm $bam_filename\n"
      ],
      "execution_count": null,
      "outputs": []
    },
    {
      "cell_type": "code",
      "metadata": {
        "id": "SXRDRphvqcLe"
      },
      "source": [
        "# Store fastq names on a list\n",
        "\n",
        "if bam:\n",
        "  # cd into fastqs folder\n",
        "  %cd /content/fastqs\n",
        "\n",
        "  #store the name of the folder generated by bamtofastq\n",
        "  _filename = os.listdir()[0]\n",
        "\n",
        "  # cd into that folder\n",
        "  %cd $_filename\n",
        "\n",
        "  # store fastq names in a list\n",
        "  fastqs = os.listdir()\n",
        "\n",
        "\n",
        "  # Remove I1 and R3 reads not relevant for our analysis\n",
        "\n",
        "  # Initialize list containing elements to remove\n",
        "  remov_elem = []\n",
        "\n",
        "  print (\"\\n\\nThis is the complete list of fastqs:\\n -----------\")\n",
        "  for elem in fastqs:\n",
        "    print (elem)\n",
        "\n",
        "  # Search index (I1 or R3) fastqs and remove them from list\n",
        "  for elem in fastqs:\n",
        "    if re.search(\"_R3_\", elem) or re.search(\"_I1_\", elem):\n",
        "      remov_elem = remov_elem +[elem]\n",
        "\n",
        "  fastqs = [elem for elem in fastqs if elem not in remov_elem] \n",
        "\n",
        "  print (\"\\n\\nThis is the filtered list of fastqs:\\n -----------\")\n",
        "  for elem in fastqs:\n",
        "    print (elem)\n"
      ],
      "execution_count": null,
      "outputs": []
    },
    {
      "cell_type": "code",
      "metadata": {
        "id": "ZnFcqcSgjLBw"
      },
      "source": [
        "# Remove fastqs that wont be analyzed to save space\n",
        "if bam:\n",
        "  for elem in remov_elem:\n",
        "    !rm $elem"
      ],
      "execution_count": null,
      "outputs": []
    },
    {
      "cell_type": "code",
      "metadata": {
        "id": "FLVS8aB7Dm6J"
      },
      "source": [
        "if bam:\n",
        "  # sort fastqs alphabetically to get R1 and R2 in order\n",
        "  fastqs = sorted(fastqs)"
      ],
      "execution_count": null,
      "outputs": []
    },
    {
      "cell_type": "code",
      "metadata": {
        "id": "FE9gWbQgpBfR",
        "colab": {
          "base_uri": "https://localhost:8080/"
        },
        "outputId": "6756962e-1909-477c-b896-8cdbeb99d78d"
      },
      "source": [
        "# wget fastqs from non ffq links in fastqs folder\n",
        "if not bam and not fastq_ffqlinks:\n",
        "  !mkdir fastqs\n",
        "  %cd fastqs\n",
        "  for link in fastqs:\n",
        "    !wget $link --continue \n",
        "\n",
        "  # update fastqs variable with name of files\n",
        "  fastqs = sorted(os.listdir())"
      ],
      "execution_count": null,
      "outputs": [
        {
          "output_type": "stream",
          "text": [
            "/content/fastqs\n",
            "--2020-11-17 18:49:21--  ftp://ftp.sra.ebi.ac.uk/vol1/fastq/SRR998/004/SRR9985494/SRR9985494_1.fastq.gz\n",
            "           => ‘SRR9985494_1.fastq.gz’\n",
            "Resolving ftp.sra.ebi.ac.uk (ftp.sra.ebi.ac.uk)... 193.62.193.138\n",
            "Connecting to ftp.sra.ebi.ac.uk (ftp.sra.ebi.ac.uk)|193.62.193.138|:21... connected.\n",
            "Logging in as anonymous ... Logged in!\n",
            "==> SYST ... done.    ==> PWD ... done.\n",
            "==> TYPE I ... done.  ==> CWD (1) /vol1/fastq/SRR998/004/SRR9985494 ... done.\n",
            "==> SIZE SRR9985494_1.fastq.gz ... 623812004\n",
            "==> PASV ... done.    ==> RETR SRR9985494_1.fastq.gz ... done.\n",
            "Length: 623812004 (595M) (unauthoritative)\n",
            "\n",
            "SRR9985494_1.fastq. 100%[===================>] 594.91M  22.2MB/s    in 28s     \n",
            "\n",
            "2020-11-17 18:49:51 (21.2 MB/s) - ‘SRR9985494_1.fastq.gz’ saved [623812004]\n",
            "\n",
            "--2020-11-17 18:49:51--  ftp://ftp.sra.ebi.ac.uk/vol1/fastq/SRR998/004/SRR9985494/SRR9985494_2.fastq.gz\n",
            "           => ‘SRR9985494_2.fastq.gz’\n",
            "Resolving ftp.sra.ebi.ac.uk (ftp.sra.ebi.ac.uk)... 193.62.193.138\n",
            "Connecting to ftp.sra.ebi.ac.uk (ftp.sra.ebi.ac.uk)|193.62.193.138|:21... connected.\n",
            "Logging in as anonymous ... Logged in!\n",
            "==> SYST ... done.    ==> PWD ... done.\n",
            "==> TYPE I ... done.  ==> CWD (1) /vol1/fastq/SRR998/004/SRR9985494 ... done.\n",
            "==> SIZE SRR9985494_2.fastq.gz ... 632778606\n",
            "==> PASV ... done.    ==> RETR SRR9985494_2.fastq.gz ... done.\n",
            "Length: 632778606 (603M) (unauthoritative)\n",
            "\n",
            "SRR9985494_2.fastq. 100%[===================>] 603.46M  22.8MB/s    in 34s     \n",
            "\n",
            "2020-11-17 18:50:28 (17.6 MB/s) - ‘SRR9985494_2.fastq.gz’ saved [632778606]\n",
            "\n",
            "--2020-11-17 18:50:28--  ftp://ftp.sra.ebi.ac.uk/vol1/fastq/SRR998/002/SRR9985492/SRR9985492_1.fastq.gz\n",
            "           => ‘SRR9985492_1.fastq.gz’\n",
            "Resolving ftp.sra.ebi.ac.uk (ftp.sra.ebi.ac.uk)... 193.62.193.138\n",
            "Connecting to ftp.sra.ebi.ac.uk (ftp.sra.ebi.ac.uk)|193.62.193.138|:21... connected.\n",
            "Logging in as anonymous ... Logged in!\n",
            "==> SYST ... done.    ==> PWD ... done.\n",
            "==> TYPE I ... done.  ==> CWD (1) /vol1/fastq/SRR998/002/SRR9985492 ... done.\n",
            "==> SIZE SRR9985492_1.fastq.gz ... 556957254\n",
            "==> PASV ... done.    ==> RETR SRR9985492_1.fastq.gz ... done.\n",
            "Length: 556957254 (531M) (unauthoritative)\n",
            "\n",
            "SRR9985492_1.fastq. 100%[===================>] 531.16M  22.6MB/s    in 42s     \n",
            "\n",
            "2020-11-17 18:51:12 (12.5 MB/s) - ‘SRR9985492_1.fastq.gz’ saved [556957254]\n",
            "\n",
            "--2020-11-17 18:51:12--  ftp://ftp.sra.ebi.ac.uk/vol1/fastq/SRR998/002/SRR9985492/SRR9985492_2.fastq.gz\n",
            "           => ‘SRR9985492_2.fastq.gz’\n",
            "Resolving ftp.sra.ebi.ac.uk (ftp.sra.ebi.ac.uk)... 193.62.197.74\n",
            "Connecting to ftp.sra.ebi.ac.uk (ftp.sra.ebi.ac.uk)|193.62.197.74|:21... connected.\n",
            "Logging in as anonymous ... Logged in!\n",
            "==> SYST ... done.    ==> PWD ... done.\n",
            "==> TYPE I ... done.  ==> CWD (1) /vol1/fastq/SRR998/002/SRR9985492 ... done.\n",
            "==> SIZE SRR9985492_2.fastq.gz ... 555816381\n",
            "==> PASV ... done.    ==> RETR SRR9985492_2.fastq.gz ... done.\n",
            "Length: 555816381 (530M) (unauthoritative)\n",
            "\n",
            "SRR9985492_2.fastq. 100%[===================>] 530.07M  22.7MB/s    in 35s     \n",
            "\n",
            "2020-11-17 18:51:49 (15.3 MB/s) - ‘SRR9985492_2.fastq.gz’ saved [555816381]\n",
            "\n",
            "--2020-11-17 18:51:49--  ftp://ftp.sra.ebi.ac.uk/vol1/fastq/SRR998/003/SRR9985493/SRR9985493_1.fastq.gz\n",
            "           => ‘SRR9985493_1.fastq.gz’\n",
            "Resolving ftp.sra.ebi.ac.uk (ftp.sra.ebi.ac.uk)... 193.62.197.74\n",
            "Connecting to ftp.sra.ebi.ac.uk (ftp.sra.ebi.ac.uk)|193.62.197.74|:21... connected.\n",
            "Logging in as anonymous ... Logged in!\n",
            "==> SYST ... done.    ==> PWD ... done.\n",
            "==> TYPE I ... done.  ==> CWD (1) /vol1/fastq/SRR998/003/SRR9985493 ... done.\n",
            "==> SIZE SRR9985493_1.fastq.gz ... 627354119\n",
            "==> PASV ... done.    ==> RETR SRR9985493_1.fastq.gz ... done.\n",
            "Length: 627354119 (598M) (unauthoritative)\n",
            "\n",
            "SRR9985493_1.fastq. 100%[===================>] 598.29M  17.6MB/s    in 52s     \n",
            "\n",
            "2020-11-17 18:52:46 (11.5 MB/s) - ‘SRR9985493_1.fastq.gz’ saved [627354119]\n",
            "\n",
            "--2020-11-17 18:52:46--  ftp://ftp.sra.ebi.ac.uk/vol1/fastq/SRR998/003/SRR9985493/SRR9985493_2.fastq.gz\n",
            "           => ‘SRR9985493_2.fastq.gz’\n",
            "Resolving ftp.sra.ebi.ac.uk (ftp.sra.ebi.ac.uk)... 193.62.197.74\n",
            "Connecting to ftp.sra.ebi.ac.uk (ftp.sra.ebi.ac.uk)|193.62.197.74|:21... connected.\n",
            "Error in server response. Closing.\n",
            "Retrying.\n",
            "\n",
            "--2020-11-17 18:52:48--  ftp://ftp.sra.ebi.ac.uk/vol1/fastq/SRR998/003/SRR9985493/SRR9985493_2.fastq.gz\n",
            "  (try: 2) => ‘SRR9985493_2.fastq.gz’\n",
            "Connecting to ftp.sra.ebi.ac.uk (ftp.sra.ebi.ac.uk)|193.62.197.74|:21... connected.\n",
            "Error in server response. Closing.\n",
            "Retrying.\n",
            "\n",
            "--2020-11-17 18:52:53--  ftp://ftp.sra.ebi.ac.uk/vol1/fastq/SRR998/003/SRR9985493/SRR9985493_2.fastq.gz\n",
            "  (try: 3) => ‘SRR9985493_2.fastq.gz’\n",
            "Connecting to ftp.sra.ebi.ac.uk (ftp.sra.ebi.ac.uk)|193.62.197.74|:21... connected.\n",
            "Error in server response. Closing.\n",
            "Retrying.\n",
            "\n",
            "--2020-11-17 18:52:56--  ftp://ftp.sra.ebi.ac.uk/vol1/fastq/SRR998/003/SRR9985493/SRR9985493_2.fastq.gz\n",
            "  (try: 4) => ‘SRR9985493_2.fastq.gz’\n",
            "Connecting to ftp.sra.ebi.ac.uk (ftp.sra.ebi.ac.uk)|193.62.197.74|:21... connected.\n",
            "Error in server response. Closing.\n",
            "Retrying.\n",
            "\n",
            "--2020-11-17 18:53:01--  ftp://ftp.sra.ebi.ac.uk/vol1/fastq/SRR998/003/SRR9985493/SRR9985493_2.fastq.gz\n",
            "  (try: 5) => ‘SRR9985493_2.fastq.gz’\n",
            "Connecting to ftp.sra.ebi.ac.uk (ftp.sra.ebi.ac.uk)|193.62.197.74|:21... connected.\n",
            "Logging in as anonymous ... Logged in!\n",
            "==> SYST ... done.    ==> PWD ... done.\n",
            "==> TYPE I ... done.  ==> CWD (1) /vol1/fastq/SRR998/003/SRR9985493 ... done.\n",
            "==> SIZE SRR9985493_2.fastq.gz ... 639143136\n",
            "==> PASV ... done.    ==> RETR SRR9985493_2.fastq.gz ... done.\n",
            "Length: 639143136 (610M) (unauthoritative)\n",
            "\n",
            "SRR9985493_2.fastq. 100%[===================>] 609.53M  22.7MB/s    in 34s     \n",
            "\n",
            "2020-11-17 18:53:38 (17.7 MB/s) - ‘SRR9985493_2.fastq.gz’ saved [639143136]\n",
            "\n",
            "--2020-11-17 18:53:38--  ftp://ftp.sra.ebi.ac.uk/vol1/fastq/SRR998/001/SRR9985441/SRR9985441_1.fastq.gz\n",
            "           => ‘SRR9985441_1.fastq.gz’\n",
            "Resolving ftp.sra.ebi.ac.uk (ftp.sra.ebi.ac.uk)... 193.62.197.74\n",
            "Connecting to ftp.sra.ebi.ac.uk (ftp.sra.ebi.ac.uk)|193.62.197.74|:21... connected.\n",
            "Error in server response. Closing.\n",
            "Retrying.\n",
            "\n",
            "--2020-11-17 18:53:40--  ftp://ftp.sra.ebi.ac.uk/vol1/fastq/SRR998/001/SRR9985441/SRR9985441_1.fastq.gz\n",
            "  (try: 2) => ‘SRR9985441_1.fastq.gz’\n",
            "Connecting to ftp.sra.ebi.ac.uk (ftp.sra.ebi.ac.uk)|193.62.197.74|:21... connected.\n",
            "Error in server response. Closing.\n",
            "Retrying.\n",
            "\n",
            "--2020-11-17 18:53:42--  ftp://ftp.sra.ebi.ac.uk/vol1/fastq/SRR998/001/SRR9985441/SRR9985441_1.fastq.gz\n",
            "  (try: 3) => ‘SRR9985441_1.fastq.gz’\n",
            "Connecting to ftp.sra.ebi.ac.uk (ftp.sra.ebi.ac.uk)|193.62.197.74|:21... connected.\n",
            "Error in server response. Closing.\n",
            "Retrying.\n",
            "\n",
            "--2020-11-17 18:53:46--  ftp://ftp.sra.ebi.ac.uk/vol1/fastq/SRR998/001/SRR9985441/SRR9985441_1.fastq.gz\n",
            "  (try: 4) => ‘SRR9985441_1.fastq.gz’\n",
            "Connecting to ftp.sra.ebi.ac.uk (ftp.sra.ebi.ac.uk)|193.62.197.74|:21... connected.\n",
            "Error in server response. Closing.\n",
            "Retrying.\n",
            "\n",
            "--2020-11-17 18:53:52--  ftp://ftp.sra.ebi.ac.uk/vol1/fastq/SRR998/001/SRR9985441/SRR9985441_1.fastq.gz\n",
            "  (try: 5) => ‘SRR9985441_1.fastq.gz’\n",
            "Connecting to ftp.sra.ebi.ac.uk (ftp.sra.ebi.ac.uk)|193.62.197.74|:21... connected.\n",
            "Logging in as anonymous ... \n",
            "The server refuses login.\n",
            "Retrying.\n",
            "\n",
            "--2020-11-17 18:53:57--  ftp://ftp.sra.ebi.ac.uk/vol1/fastq/SRR998/001/SRR9985441/SRR9985441_1.fastq.gz\n",
            "  (try: 6) => ‘SRR9985441_1.fastq.gz’\n",
            "Connecting to ftp.sra.ebi.ac.uk (ftp.sra.ebi.ac.uk)|193.62.197.74|:21... connected.\n",
            "Logging in as anonymous ... Logged in!\n",
            "==> SYST ... done.    ==> PWD ... done.\n",
            "==> TYPE I ... done.  ==> CWD (1) /vol1/fastq/SRR998/001/SRR9985441 ... done.\n",
            "==> SIZE SRR9985441_1.fastq.gz ... 630460149\n",
            "==> PASV ... done.    ==> RETR SRR9985441_1.fastq.gz ... done.\n",
            "Length: 630460149 (601M) (unauthoritative)\n",
            "\n",
            "SRR9985441_1.fastq. 100%[===================>] 601.25M  22.6MB/s    in 30s     \n",
            "\n",
            "2020-11-17 18:54:29 (19.8 MB/s) - ‘SRR9985441_1.fastq.gz’ saved [630460149]\n",
            "\n",
            "--2020-11-17 18:54:30--  ftp://ftp.sra.ebi.ac.uk/vol1/fastq/SRR998/001/SRR9985441/SRR9985441_2.fastq.gz\n",
            "           => ‘SRR9985441_2.fastq.gz’\n",
            "Resolving ftp.sra.ebi.ac.uk (ftp.sra.ebi.ac.uk)... 193.62.193.138\n",
            "Connecting to ftp.sra.ebi.ac.uk (ftp.sra.ebi.ac.uk)|193.62.193.138|:21... connected.\n",
            "Logging in as anonymous ... Logged in!\n",
            "==> SYST ... done.    ==> PWD ... done.\n",
            "==> TYPE I ... done.  ==> CWD (1) /vol1/fastq/SRR998/001/SRR9985441 ... done.\n",
            "==> SIZE SRR9985441_2.fastq.gz ... 637577048\n",
            "==> PASV ... done.    ==> RETR SRR9985441_2.fastq.gz ... done.\n",
            "Length: 637577048 (608M) (unauthoritative)\n",
            "\n",
            "SRR9985441_2.fastq. 100%[===================>] 608.04M  22.3MB/s    in 45s     \n",
            "\n",
            "2020-11-17 18:55:16 (13.6 MB/s) - ‘SRR9985441_2.fastq.gz’ saved [637577048]\n",
            "\n",
            "--2020-11-17 18:55:16--  ftp://ftp.sra.ebi.ac.uk/vol1/fastq/SRR998/003/SRR9985443/SRR9985443_1.fastq.gz\n",
            "           => ‘SRR9985443_1.fastq.gz’\n",
            "Resolving ftp.sra.ebi.ac.uk (ftp.sra.ebi.ac.uk)... 193.62.193.138\n",
            "Connecting to ftp.sra.ebi.ac.uk (ftp.sra.ebi.ac.uk)|193.62.193.138|:21... connected.\n",
            "Logging in as anonymous ... Logged in!\n",
            "==> SYST ... done.    ==> PWD ... done.\n",
            "==> TYPE I ... done.  ==> CWD (1) /vol1/fastq/SRR998/003/SRR9985443 ... done.\n",
            "==> SIZE SRR9985443_1.fastq.gz ... 559925378\n",
            "==> PASV ... done.    ==> RETR SRR9985443_1.fastq.gz ... done.\n",
            "Length: 559925378 (534M) (unauthoritative)\n",
            "\n",
            "SRR9985443_1.fastq. 100%[===================>] 533.99M  22.7MB/s    in 29s     \n",
            "\n",
            "2020-11-17 18:55:47 (18.6 MB/s) - ‘SRR9985443_1.fastq.gz’ saved [559925378]\n",
            "\n",
            "--2020-11-17 18:55:47--  ftp://ftp.sra.ebi.ac.uk/vol1/fastq/SRR998/003/SRR9985443/SRR9985443_2.fastq.gz\n",
            "           => ‘SRR9985443_2.fastq.gz’\n",
            "Resolving ftp.sra.ebi.ac.uk (ftp.sra.ebi.ac.uk)... 193.62.193.138\n",
            "Connecting to ftp.sra.ebi.ac.uk (ftp.sra.ebi.ac.uk)|193.62.193.138|:21... connected.\n",
            "Logging in as anonymous ... Logged in!\n",
            "==> SYST ... done.    ==> PWD ... done.\n",
            "==> TYPE I ... done.  ==> CWD (1) /vol1/fastq/SRR998/003/SRR9985443 ... done.\n",
            "==> SIZE SRR9985443_2.fastq.gz ... 561057304\n",
            "==> PASV ... done.    ==> RETR SRR9985443_2.fastq.gz ... done.\n",
            "Length: 561057304 (535M) (unauthoritative)\n",
            "\n",
            "SRR9985443_2.fastq. 100%[===================>] 535.07M  22.2MB/s    in 30s     \n",
            "\n",
            "2020-11-17 18:56:19 (18.0 MB/s) - ‘SRR9985443_2.fastq.gz’ saved [561057304]\n",
            "\n",
            "--2020-11-17 18:56:19--  ftp://ftp.sra.ebi.ac.uk/vol1/fastq/SRR998/002/SRR9985442/SRR9985442_1.fastq.gz\n",
            "           => ‘SRR9985442_1.fastq.gz’\n",
            "Resolving ftp.sra.ebi.ac.uk (ftp.sra.ebi.ac.uk)... 193.62.197.74\n",
            "Connecting to ftp.sra.ebi.ac.uk (ftp.sra.ebi.ac.uk)|193.62.197.74|:21... connected.\n",
            "Error in server response. Closing.\n",
            "Retrying.\n",
            "\n",
            "--2020-11-17 18:56:21--  ftp://ftp.sra.ebi.ac.uk/vol1/fastq/SRR998/002/SRR9985442/SRR9985442_1.fastq.gz\n",
            "  (try: 2) => ‘SRR9985442_1.fastq.gz’\n",
            "Connecting to ftp.sra.ebi.ac.uk (ftp.sra.ebi.ac.uk)|193.62.197.74|:21... connected.\n",
            "Logging in as anonymous ... Logged in!\n",
            "==> SYST ... done.    ==> PWD ... done.\n",
            "==> TYPE I ... done.  ==> CWD (1) /vol1/fastq/SRR998/002/SRR9985442 ... done.\n",
            "==> SIZE SRR9985442_1.fastq.gz ... 628392080\n",
            "==> PASV ... done.    ==> RETR SRR9985442_1.fastq.gz ... done.\n",
            "Length: 628392080 (599M) (unauthoritative)\n",
            "\n",
            "SRR9985442_1.fastq. 100%[===================>] 599.28M  22.7MB/s    in 30s     \n",
            "\n",
            "2020-11-17 18:56:53 (19.9 MB/s) - ‘SRR9985442_1.fastq.gz’ saved [628392080]\n",
            "\n",
            "--2020-11-17 18:56:53--  ftp://ftp.sra.ebi.ac.uk/vol1/fastq/SRR998/002/SRR9985442/SRR9985442_2.fastq.gz\n",
            "           => ‘SRR9985442_2.fastq.gz’\n",
            "Resolving ftp.sra.ebi.ac.uk (ftp.sra.ebi.ac.uk)... 193.62.193.138\n",
            "Connecting to ftp.sra.ebi.ac.uk (ftp.sra.ebi.ac.uk)|193.62.193.138|:21... connected.\n",
            "Logging in as anonymous ... Logged in!\n",
            "==> SYST ... done.    ==> PWD ... done.\n",
            "==> TYPE I ... done.  ==> CWD (1) /vol1/fastq/SRR998/002/SRR9985442 ... done.\n",
            "==> SIZE SRR9985442_2.fastq.gz ... 633504745\n",
            "==> PASV ... done.    ==> RETR SRR9985442_2.fastq.gz ... done.\n",
            "Length: 633504745 (604M) (unauthoritative)\n",
            "\n",
            "SRR9985442_2.fastq. 100%[===================>] 604.16M  22.4MB/s    in 30s     \n",
            "\n",
            "2020-11-17 18:57:24 (20.3 MB/s) - ‘SRR9985442_2.fastq.gz’ saved [633504745]\n",
            "\n",
            "--2020-11-17 18:57:25--  ftp://ftp.sra.ebi.ac.uk/vol1/fastq/SRR998/000/SRR9985440/SRR9985440_1.fastq.gz\n",
            "           => ‘SRR9985440_1.fastq.gz’\n",
            "Resolving ftp.sra.ebi.ac.uk (ftp.sra.ebi.ac.uk)... 193.62.197.74\n",
            "Connecting to ftp.sra.ebi.ac.uk (ftp.sra.ebi.ac.uk)|193.62.197.74|:21... connected.\n",
            "Logging in as anonymous ... Logged in!\n",
            "==> SYST ... done.    ==> PWD ... done.\n",
            "==> TYPE I ... done.  ==> CWD (1) /vol1/fastq/SRR998/000/SRR9985440 ... done.\n",
            "==> SIZE SRR9985440_1.fastq.gz ... 637614081\n",
            "==> PASV ... done.    ==> RETR SRR9985440_1.fastq.gz ... done.\n",
            "Length: 637614081 (608M) (unauthoritative)\n",
            "\n",
            "SRR9985440_1.fastq. 100%[===================>] 608.08M  22.7MB/s    in 33s     \n",
            "\n",
            "2020-11-17 18:58:02 (18.2 MB/s) - ‘SRR9985440_1.fastq.gz’ saved [637614081]\n",
            "\n",
            "--2020-11-17 18:58:02--  ftp://ftp.sra.ebi.ac.uk/vol1/fastq/SRR998/000/SRR9985440/SRR9985440_2.fastq.gz\n",
            "           => ‘SRR9985440_2.fastq.gz’\n",
            "Resolving ftp.sra.ebi.ac.uk (ftp.sra.ebi.ac.uk)... 193.62.193.138\n",
            "Connecting to ftp.sra.ebi.ac.uk (ftp.sra.ebi.ac.uk)|193.62.193.138|:21... connected.\n",
            "Logging in as anonymous ... Logged in!\n",
            "==> SYST ... done.    ==> PWD ... done.\n",
            "==> TYPE I ... done.  ==> CWD (1) /vol1/fastq/SRR998/000/SRR9985440 ... done.\n",
            "==> SIZE SRR9985440_2.fastq.gz ... 646287773\n",
            "==> PASV ... done.    ==> RETR SRR9985440_2.fastq.gz ... done.\n",
            "Length: 646287773 (616M) (unauthoritative)\n",
            "\n",
            "SRR9985440_2.fastq. 100%[===================>] 616.35M  22.8MB/s    in 30s     \n",
            "\n",
            "2020-11-17 18:58:35 (20.5 MB/s) - ‘SRR9985440_2.fastq.gz’ saved [646287773]\n",
            "\n",
            "--2020-11-17 18:58:35--  ftp://ftp.sra.ebi.ac.uk/vol1/fastq/SRR998/009/SRR9985439/SRR9985439_1.fastq.gz\n",
            "           => ‘SRR9985439_1.fastq.gz’\n",
            "Resolving ftp.sra.ebi.ac.uk (ftp.sra.ebi.ac.uk)... 193.62.193.138\n",
            "Connecting to ftp.sra.ebi.ac.uk (ftp.sra.ebi.ac.uk)|193.62.193.138|:21... connected.\n",
            "Logging in as anonymous ... Logged in!\n",
            "==> SYST ... done.    ==> PWD ... done.\n",
            "==> TYPE I ... done.  ==> CWD (1) /vol1/fastq/SRR998/009/SRR9985439 ... done.\n",
            "==> SIZE SRR9985439_1.fastq.gz ... 638130185\n",
            "==> PASV ... done.    ==> RETR SRR9985439_1.fastq.gz ... done.\n",
            "Length: 638130185 (609M) (unauthoritative)\n",
            "\n",
            "SRR9985439_1.fastq. 100%[===================>] 608.57M  19.9MB/s    in 33s     \n",
            "\n",
            "2020-11-17 18:59:10 (18.4 MB/s) - ‘SRR9985439_1.fastq.gz’ saved [638130185]\n",
            "\n",
            "--2020-11-17 18:59:10--  ftp://ftp.sra.ebi.ac.uk/vol1/fastq/SRR998/009/SRR9985439/SRR9985439_2.fastq.gz\n",
            "           => ‘SRR9985439_2.fastq.gz’\n",
            "Resolving ftp.sra.ebi.ac.uk (ftp.sra.ebi.ac.uk)... 193.62.197.74\n",
            "Connecting to ftp.sra.ebi.ac.uk (ftp.sra.ebi.ac.uk)|193.62.197.74|:21... connected.\n",
            "Logging in as anonymous ... Logged in!\n",
            "==> SYST ... done.    ==> PWD ... done.\n",
            "==> TYPE I ... done.  ==> CWD (1) /vol1/fastq/SRR998/009/SRR9985439 ... done.\n",
            "==> SIZE SRR9985439_2.fastq.gz ... 649284488\n",
            "==> PASV ... done.    ==> RETR SRR9985439_2.fastq.gz ... done.\n",
            "Length: 649284488 (619M) (unauthoritative)\n",
            "\n",
            "SRR9985439_2.fastq. 100%[===================>] 619.21M  9.23MB/s    in 55s     \n",
            "\n",
            "2020-11-17 19:00:09 (11.2 MB/s) - ‘SRR9985439_2.fastq.gz’ saved [649284488]\n",
            "\n"
          ],
          "name": "stdout"
        }
      ]
    },
    {
      "cell_type": "code",
      "metadata": {
        "id": "PC9oETW1pE9t",
        "colab": {
          "base_uri": "https://localhost:8080/"
        },
        "outputId": "0623b5eb-8403-4bc5-bb8b-ebd613a8e9a7"
      },
      "source": [
        "if bam:\n",
        "  # Download the corresponding Kallisto index to folder containing fastqs\n",
        "  !kb ref -d $species_kb -i index.idx -g t2g.txt -f1 transcriptome.fasta\n",
        "\n",
        "if not bam and fastq_ffqlinks:\n",
        "  %cd /content\n",
        "\n",
        "  # Download the corresponding Kallisto index to content folder\n",
        "  !kb ref -d $species_kb -i index.idx -g t2g.txt -f1 transcriptome.fasta\n",
        "\n",
        "if not bam and not fastq_ffqlinks:\n",
        "  %cd /content/fastqs\n",
        "\n",
        "  # Download the corresponding Kallisto index to fastq folder\n",
        "  !kb ref -d $species_kb -i index.idx -g t2g.txt -f1 transcriptome.fasta"
      ],
      "execution_count": null,
      "outputs": [
        {
          "output_type": "stream",
          "text": [
            "/content/fastqs\n",
            "[2020-11-17 19:00:10,829]    INFO Downloading files for human from https://caltech.box.com/shared/static/v1nm7lpnqz5syh8dyzdk2zs8bglncfib.gz to tmp/v1nm7lpnqz5syh8dyzdk2zs8bglncfib.gz\n",
            "[2020-11-17 19:01:31,699]    INFO Extracting files from tmp/v1nm7lpnqz5syh8dyzdk2zs8bglncfib.gz\n"
          ],
          "name": "stdout"
        }
      ]
    },
    {
      "cell_type": "code",
      "metadata": {
        "id": "vHVNa51Cp9Nr",
        "colab": {
          "base_uri": "https://localhost:8080/"
        },
        "outputId": "2851261f-a67b-4e6a-943b-699c9312967f"
      },
      "source": [
        "# Check to make sure the metadata is in the right order after sorting\n",
        "print(fastqs)"
      ],
      "execution_count": null,
      "outputs": [
        {
          "output_type": "stream",
          "text": [
            "['SRR9985439_1.fastq.gz', 'SRR9985439_2.fastq.gz', 'SRR9985440_1.fastq.gz', 'SRR9985440_2.fastq.gz', 'SRR9985441_1.fastq.gz', 'SRR9985441_2.fastq.gz', 'SRR9985442_1.fastq.gz', 'SRR9985442_2.fastq.gz', 'SRR9985443_1.fastq.gz', 'SRR9985443_2.fastq.gz', 'SRR9985492_1.fastq.gz', 'SRR9985492_2.fastq.gz', 'SRR9985493_1.fastq.gz', 'SRR9985493_2.fastq.gz', 'SRR9985494_1.fastq.gz', 'SRR9985494_2.fastq.gz']\n"
          ],
          "name": "stdout"
        }
      ]
    },
    {
      "cell_type": "markdown",
      "metadata": {
        "id": "VInyuq1Dp7iz"
      },
      "source": [
        "# Process fastq files (modify kb command according to fastqs list)\n"
      ]
    },
    {
      "cell_type": "code",
      "metadata": {
        "id": "OcqtBuH-pRaX",
        "colab": {
          "base_uri": "https://localhost:8080/"
        },
        "outputId": "deff5d0f-1815-46c2-ba88-70d9bd7856fa"
      },
      "source": [
        "fastqs"
      ],
      "execution_count": null,
      "outputs": [
        {
          "output_type": "execute_result",
          "data": {
            "text/plain": [
              "['SRR9985439_1.fastq.gz',\n",
              " 'SRR9985439_2.fastq.gz',\n",
              " 'SRR9985440_1.fastq.gz',\n",
              " 'SRR9985440_2.fastq.gz',\n",
              " 'SRR9985441_1.fastq.gz',\n",
              " 'SRR9985441_2.fastq.gz',\n",
              " 'SRR9985442_1.fastq.gz',\n",
              " 'SRR9985442_2.fastq.gz',\n",
              " 'SRR9985443_1.fastq.gz',\n",
              " 'SRR9985443_2.fastq.gz',\n",
              " 'SRR9985492_1.fastq.gz',\n",
              " 'SRR9985492_2.fastq.gz',\n",
              " 'SRR9985493_1.fastq.gz',\n",
              " 'SRR9985493_2.fastq.gz',\n",
              " 'SRR9985494_1.fastq.gz',\n",
              " 'SRR9985494_2.fastq.gz']"
            ]
          },
          "metadata": {
            "tags": []
          },
          "execution_count": 12
        }
      ]
    },
    {
      "cell_type": "code",
      "metadata": {
        "id": "5qFzPj-0kZTi",
        "colab": {
          "base_uri": "https://localhost:8080/"
        },
        "outputId": "3f274140-ce16-4945-f00d-6d4041d3532e"
      },
      "source": [
        "# Specify the sample number and whether they are paired-ended\n",
        "\n",
        "\n",
        "if no_samples == 1:\n",
        "\n",
        "  # Write the kb count command as a string with all fastqs of the list as an input\n",
        "  cmd = \"kb count --h5ad -i index.idx -g t2g.txt -x \" + technology_kb + \" -o output\" + sample_id[0] + \" \"\\\n",
        "  + \"--filter bustools -t 2 --overwrite \" + \"'\" +  \"' '\".join(fastqs) + \"'\"\n",
        "  \n",
        "  # Execute it\n",
        "  !$cmd\n",
        "\n",
        "# If more than one sample, iterate through fastqs accordingly\n",
        "else:\n",
        "\n",
        "  # Initializa counter for fastq files\n",
        "  j = 0\n",
        "\n",
        "  # Loop over samples for analysis\n",
        "  for i in range(no_samples):\n",
        "\n",
        "    fastqs_to_analyze = fastqs[j:j + fastqs_per_sample[i]]\n",
        "    # Write the kb count command as a string\n",
        "    cmd = \"kb count --h5ad -i ../index.idx -g ../t2g.txt -x \" + technology_kb + \" -o output\" + sample_id[i] + \" \\\n",
        "    --filter bustools -t 2 --overwrite \" + \"'\" +  \"' '\".join(fastqs_to_analyze) + \"'\"\n",
        "\n",
        "    # Execute it\n",
        "    !$cmd\n",
        "\n",
        "    # Update j to move to the next set of fastq\n",
        "    j = j + fastqs_per_sample[i]\n",
        "\n",
        "\n",
        "\n",
        "\n",
        "\n"
      ],
      "execution_count": null,
      "outputs": [
        {
          "output_type": "stream",
          "text": [
            "[2020-11-17 19:02:09,256]    INFO Generating BUS file from\n",
            "[2020-11-17 19:02:09,256]    INFO         SRR9985439_1.fastq.gz\n",
            "[2020-11-17 19:02:09,256]    INFO         SRR9985439_2.fastq.gz\n",
            "[2020-11-17 19:02:09,256]    INFO         SRR9985440_1.fastq.gz\n",
            "[2020-11-17 19:02:09,256]    INFO         SRR9985440_2.fastq.gz\n",
            "[2020-11-17 19:02:09,257]    INFO         SRR9985441_1.fastq.gz\n",
            "[2020-11-17 19:02:09,257]    INFO         SRR9985441_2.fastq.gz\n",
            "[2020-11-17 19:02:09,257]    INFO         SRR9985442_1.fastq.gz\n",
            "[2020-11-17 19:02:09,257]    INFO         SRR9985442_2.fastq.gz\n",
            "[2020-11-17 19:02:09,257]    INFO         SRR9985443_1.fastq.gz\n",
            "[2020-11-17 19:02:09,257]    INFO         SRR9985443_2.fastq.gz\n",
            "[2020-11-17 19:02:09,257]    INFO         SRR9985492_1.fastq.gz\n",
            "[2020-11-17 19:02:09,257]    INFO         SRR9985492_2.fastq.gz\n",
            "[2020-11-17 19:02:09,257]    INFO         SRR9985493_1.fastq.gz\n",
            "[2020-11-17 19:02:09,257]    INFO         SRR9985493_2.fastq.gz\n",
            "[2020-11-17 19:02:09,257]    INFO         SRR9985494_1.fastq.gz\n",
            "[2020-11-17 19:02:09,257]    INFO         SRR9985494_2.fastq.gz\n",
            "[2020-11-17 19:15:59,658]    INFO Sorting BUS file outputGSM4037324/output.bus to tmp/output.s.bus\n",
            "[2020-11-17 19:17:24,087]    INFO Whitelist not provided\n",
            "[2020-11-17 19:17:24,087]    INFO Copying pre-packaged 10XV2 whitelist to outputGSM4037324\n",
            "[2020-11-17 19:17:24,478]    INFO Inspecting BUS file tmp/output.s.bus\n",
            "[2020-11-17 19:17:38,831]    INFO Correcting BUS records in tmp/output.s.bus to tmp/output.s.c.bus with whitelist outputGSM4037324/10xv2_whitelist.txt\n",
            "[2020-11-17 19:18:03,252]    INFO Sorting BUS file tmp/output.s.c.bus to outputGSM4037324/output.unfiltered.bus\n",
            "[2020-11-17 19:18:48,964]    INFO Generating count matrix outputGSM4037324/counts_unfiltered/cells_x_genes from BUS file outputGSM4037324/output.unfiltered.bus\n",
            "[2020-11-17 19:19:02,276]    INFO Converting matrix outputGSM4037324/counts_unfiltered/cells_x_genes.mtx to h5ad outputGSM4037324/counts_unfiltered/adata.h5ad\n",
            "[2020-11-17 19:19:21,565]    INFO Filtering with bustools\n",
            "[2020-11-17 19:19:21,565]    INFO Generating whitelist outputGSM4037324/filter_barcodes.txt from BUS file outputGSM4037324/output.unfiltered.bus\n",
            "[2020-11-17 19:19:21,967]    INFO Capturing records from BUS file outputGSM4037324/output.unfiltered.bus to tmp/output.filtered.bus with capture list outputGSM4037324/filter_barcodes.txt\n",
            "[2020-11-17 19:19:26,065]    INFO Sorting BUS file tmp/output.filtered.bus to outputGSM4037324/output.filtered.bus\n",
            "[2020-11-17 19:19:57,655]    INFO Generating count matrix outputGSM4037324/counts_filtered/cells_x_genes from BUS file outputGSM4037324/output.filtered.bus\n",
            "[2020-11-17 19:20:11,314]    INFO Converting matrix outputGSM4037324/counts_filtered/cells_x_genes.mtx to h5ad outputGSM4037324/counts_filtered/adata.h5ad\n"
          ],
          "name": "stdout"
        }
      ]
    },
    {
      "cell_type": "markdown",
      "metadata": {
        "id": "tDijOZzrqhN2"
      },
      "source": [
        "# Load unfiltered matrix and assign filters to each matrix individually"
      ]
    },
    {
      "cell_type": "markdown",
      "metadata": {
        "id": "VkNLZh_pNFFw"
      },
      "source": [
        "## Load the unfiltered matrix (check dimensions)"
      ]
    },
    {
      "cell_type": "code",
      "metadata": {
        "id": "PppRNeV8AIyw"
      },
      "source": [
        "# Define dict to store data\n",
        "results = {}\n"
      ],
      "execution_count": null,
      "outputs": []
    },
    {
      "cell_type": "code",
      "metadata": {
        "id": "pKmtGf3c_BiZ",
        "cellView": "both",
        "colab": {
          "base_uri": "https://localhost:8080/"
        },
        "outputId": "093db3eb-2914-496d-b7fc-53bcff0f3bc9"
      },
      "source": [
        "# load the unfiltered matrix\n",
        "for i in range(no_samples):\n",
        "  results[sample_id[i]] = anndata.read_h5ad(\"output\" + sample_id[i] + \"/counts_unfiltered/adata.h5ad\")\n",
        "  results[sample_id[i]].var[\"gene_id\"] = results[sample_id[i]].var.index.values\n",
        "\n",
        "  t2g = pd.read_csv(\"t2g.txt\", header=None, names=[\"tid\", \"gene_id\", \"gene_name\"], sep=\"\\t\")\n",
        "  t2g.index = t2g.gene_id\n",
        "  t2g = t2g.loc[~t2g.index.duplicated(keep='first')]\n",
        "\n",
        "  results[sample_id[i]].var[\"gene_name\"] = results[sample_id[i]].var.gene_id.map(t2g[\"gene_name\"])\n",
        "  results[sample_id[i]].var.index = results[sample_id[i]].var[\"gene_name\"]\n",
        "  print(\"The unfiltered matrix \" + sample_id[i] + \" contains {} cells by {} genes\".format(len(results[sample_id[i]].obs), len(results[sample_id[i]].var)))\n",
        "\n",
        "  results[sample_id[i]].obs[\"cell_counts\"] = results[sample_id[i]].X.sum(axis=1)\n",
        "  results[sample_id[i]].var[\"gene_counts\"] = nd(results[sample_id[i]].X.sum(axis=0))\n",
        "\n",
        "  results[sample_id[i]].obs[\"n_genes\"] = nd((results[sample_id[i]].X>0).sum(axis=1))\n",
        "  results[sample_id[i]].var[\"n_cells\"] = nd((results[sample_id[i]].X>0).sum(axis=0))\n",
        "\n",
        "  mito_genes = results[sample_id[i]].var_names.str.startswith(\"MT-\" or \"mt-\") \n",
        "  results[sample_id[i]].obs[\"percent_mito\"] = results[sample_id[i]][:,mito_genes].X.sum(axis=1)/results[sample_id[i]].X.sum(axis=1)*100\n",
        "\n",
        "  # Changing the name of the index is necessary to write the file (it won't work with duplicated names)\n",
        "  results[sample_id[i]].var.index.name = \"index\"\n",
        "\n"
      ],
      "execution_count": null,
      "outputs": [
        {
          "output_type": "stream",
          "text": [
            "The unfiltered matrix GSM4037324 contains 305305 cells by 60623 genes\n"
          ],
          "name": "stdout"
        }
      ]
    },
    {
      "cell_type": "markdown",
      "metadata": {
        "id": "hDAUH3eH_2RA"
      },
      "source": [
        "## Assign filters for each matrix individually"
      ]
    },
    {
      "cell_type": "code",
      "metadata": {
        "id": "ukinuaKk_6Po"
      },
      "source": [
        "# Modify this manually to change sample after having assigned the \"expected_num_cells\" and \"mito_criteria\" parameters\n",
        "samp_n = 0\n",
        "\n",
        "\n",
        "# Filtering criteria\n",
        "cell_threshold = 100\n",
        "gene_threshold = 3\n",
        "\n",
        "mito_criteria = 30"
      ],
      "execution_count": null,
      "outputs": []
    },
    {
      "cell_type": "code",
      "metadata": {
        "id": "a5wZB5pEfwNs",
        "cellView": "form",
        "colab": {
          "base_uri": "https://localhost:8080/",
          "height": 725
        },
        "outputId": "3191a05a-9e1d-4bdc-f1ad-9ecad0a7432f"
      },
      "source": [
        "\n",
        "expected_num_cells = 8000#@param {type:\"integer\"}\n",
        "knee = np.sort(nd(results[sample_id[samp_n]].X.sum(axis=1)))[::-1]\n",
        "\n",
        "fig, ax = plt.subplots(figsize=(5, 5))\n",
        "\n",
        "x = knee\n",
        "y = range(len(knee))\n",
        "\n",
        "ax.loglog(x, y, linewidth=5, color=\"g\")\n",
        "\n",
        "ax.axvline(x=knee[expected_num_cells], linewidth=3, color=\"k\")\n",
        "ax.axhline(y=expected_num_cells, linewidth=3, color=\"k\")\n",
        "\n",
        "ax.set_xlabel(\"UMI Counts\")\n",
        "ax.set_ylabel(\"Set of Barcodes\")\n",
        "\n",
        "plt.show()\n",
        "\n",
        "cell_threshold = knee[expected_num_cells]\n",
        "\n",
        "results[\"cell_threshold\" + sample_id[samp_n]] = knee[expected_num_cells]\n",
        "\n",
        "print (\"Cells were filtered down to \" + str(expected_num_cells) + \" with at least \" + str(cell_threshold) + \" UMIs\")\n",
        "\n",
        "\n",
        "mito_criteria = 30#@param {type:\"integer\"}\n",
        "results[\"mito_criteria\" + sample_id[samp_n]] = mito_criteria\n",
        "\n",
        "fig, ax = plt.subplots(figsize=(5,5))\n",
        "\n",
        "\n",
        "x = nd(results[sample_id[samp_n]].obs[\"cell_counts\"][results[sample_id[samp_n]].obs[\"cell_counts\"] > cell_threshold])\n",
        "y = nd(results[sample_id[samp_n]].obs[\"percent_mito\"][results[sample_id[samp_n]].obs[\"cell_counts\"] > cell_threshold])\n",
        "\n",
        "ax.scatter(x, y, color=\"green\", alpha=0.1)\n",
        "\n",
        "ax.axhline(y=mito_criteria, linestyle=\"--\", color=\"k\")\n",
        "\n",
        "\n",
        "ax.set_xlabel(\"UMI Counts\")\n",
        "ax.set_ylabel(\"Percent mito\")\n",
        "\n",
        "\n",
        "plt.show()\n",
        "\n",
        "print(\"We select \" + str(mito_criteria) + \" % as the mitochondrial content threshold\")"
      ],
      "execution_count": null,
      "outputs": [
        {
          "output_type": "display_data",
          "data": {
            "image/png": "[encoded data removed]",
            "text/plain": [
              "<Figure size 360x360 with 1 Axes>"
            ]
          },
          "metadata": {
            "tags": [],
            "image/png": {
              "width": 358,
              "height": 337
            },
            "needs_background": "light"
          }
        },
        {
          "output_type": "stream",
          "text": [
            "Cells were filtered down to 8000 with at least 278.0 UMIs\n"
          ],
          "name": "stdout"
        },
        {
          "output_type": "display_data",
          "data": {
            "image/png": "[encoded data removed]",
            "text/plain": [
              "<Figure size 360x360 with 1 Axes>"
            ]
          },
          "metadata": {
            "tags": [],
            "image/png": {
              "width": 349,
              "height": 337
            },
            "needs_background": "light"
          }
        },
        {
          "output_type": "stream",
          "text": [
            "We select 30 % as the mitochondrial content threshold\n"
          ],
          "name": "stdout"
        }
      ]
    },
    {
      "cell_type": "markdown",
      "metadata": {
        "id": "eP9j2ouPq9KY"
      },
      "source": [
        "# Filter matrix"
      ]
    },
    {
      "cell_type": "code",
      "metadata": {
        "id": "sE51WUA3gVmG",
        "colab": {
          "base_uri": "https://localhost:8080/"
        },
        "outputId": "e3c31a43-f02e-4b97-8946-40f179bdd120"
      },
      "source": [
        "for i in range(no_samples):\n",
        "  results[sample_id[i]].obs[\"pass_count_filter\"] = results[sample_id[i]].obs[\"cell_counts\"] > results[\"cell_threshold\" + sample_id[i]]\n",
        "  results[sample_id[i]].obs[\"pass_mito_filter\"] = results[sample_id[i]].obs.percent_mito < results[\"mito_criteria\" + sample_id[i]]\n",
        "  results[sample_id[i]].var[\"pass_gene_filter\"] = results[sample_id[i]].var[\"n_cells\"] > gene_threshold\n",
        "\n",
        "  cell_mask = np.logical_and(results[sample_id[i]].obs[\"pass_count_filter\"].values, results[sample_id[i]].obs[\"pass_mito_filter\"].values)\n",
        "  gene_mask = results[sample_id[i]].var[\"pass_gene_filter\"].values\n",
        "\n",
        "  print(\"Current Shape: {:,} cells x {:,} genes\".format(results[sample_id[i]].shape[0], results[sample_id[i]].shape[1]))\n",
        "  print(\"    New shape: {:,} cells x {:,} genes\".format(cell_mask.sum(), gene_mask.sum()))\n",
        "  results[\"data_\" + sample_id[i]] = results[sample_id[i]][cell_mask, gene_mask]"
      ],
      "execution_count": null,
      "outputs": [
        {
          "output_type": "stream",
          "text": [
            "Current Shape: 305,305 cells x 60,623 genes\n",
            "    New shape: 7,729 cells x 26,023 genes\n"
          ],
          "name": "stdout"
        }
      ]
    },
    {
      "cell_type": "markdown",
      "metadata": {
        "id": "BxPA81yj4TlU"
      },
      "source": [
        "# Anotate and write the Anndata object"
      ]
    },
    {
      "cell_type": "code",
      "metadata": {
        "id": "O-q_Qj2U4kDU",
        "colab": {
          "base_uri": "https://localhost:8080/"
        },
        "outputId": "d464910c-94d5-493f-dd3e-5ad15ea2dfa1"
      },
      "source": [
        "for i in range(no_samples):\n",
        "\n",
        "\n",
        "  results[\"data_\" + sample_id[i]].uns[\"database_id\"] = database_id[samp_n]\n",
        "\n",
        "  results[\"data_\" + sample_id[i]].uns[\"tissue\"] = tissue[samp_n]\n",
        "\n",
        "  results[\"data_\" + sample_id[i]].uns[\"cell_type\"] = cell_type[samp_n]\n",
        "\n",
        "  results[\"data_\" + sample_id[i]].uns[\"sample_id\"] = sample_id[samp_n]\n",
        "\n",
        "  results[\"data_\" + sample_id[i]].uns[\"condition\"] = condition[samp_n]\n",
        "\n",
        "  results[\"data_\" + sample_id[i]].uns[\"species\"] = species[samp_n]\n",
        "\n",
        "  results[\"data_\" + sample_id[i]].uns[\"technology\"] = technology[samp_n]\n",
        "\n",
        "  results[\"data_\" + sample_id[i]].uns[\"paper\"] = paper[samp_n]\n",
        "\n",
        "  results[\"data_\" + sample_id[i]].uns[\"figure\"] = figure[samp_n]\n",
        "\n",
        "\n",
        "%cd /content\n",
        "\n",
        "for i in range(no_samples):\n",
        "\n",
        "  results[\"data_\" + sample_id[i]].write(\"result\" + sample_id[i])"
      ],
      "execution_count": null,
      "outputs": [
        {
          "output_type": "stream",
          "text": [
            "Trying to set attribute `.uns` of view, copying.\n",
            "Variable names are not unique. To make them unique, call `.var_names_make_unique`.\n",
            "Variable names are not unique. To make them unique, call `.var_names_make_unique`.\n"
          ],
          "name": "stderr"
        },
        {
          "output_type": "stream",
          "text": [
            "/content\n"
          ],
          "name": "stdout"
        },
        {
          "output_type": "stream",
          "text": [
            "... storing 'gene_name' as categorical\n"
          ],
          "name": "stderr"
        }
      ]
    }
  ]
}