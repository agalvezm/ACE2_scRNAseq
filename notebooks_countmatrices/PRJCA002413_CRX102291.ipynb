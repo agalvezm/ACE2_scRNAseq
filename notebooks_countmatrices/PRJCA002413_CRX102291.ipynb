{
  "nbformat": 4,
  "nbformat_minor": 0,
  "metadata": {
    "colab": {
      "name": "PRJCA002413_CRX102291.ipynb",
      "provenance": [],
      "collapsed_sections": [],
      "toc_visible": true,
      "include_colab_link": true
    },
    "kernelspec": {
      "display_name": "Python 3",
      "name": "python3"
    }
  },
  "cells": [
    {
      "cell_type": "markdown",
      "metadata": {
        "id": "view-in-github",
        "colab_type": "text"
      },
      "source": [
        "<a href=\"https://colab.research.google.com/github/agalvezm/ACE2_scRNAseq/blob/master/notebooks_countmatrices/PRJCA002413_CRX102291.ipynb\" target=\"_parent\"><img src=\"https://colab.research.google.com/assets/colab-badge.svg\" alt=\"Open In Colab\"/></a>"
      ]
    },
    {
      "cell_type": "markdown",
      "metadata": {
        "id": "V9ryXluJsJw9"
      },
      "source": [
        "# PRJCA002413__CRX102291"
      ]
    },
    {
      "cell_type": "code",
      "metadata": {
        "id": "ggNFAQJCRh6P"
      },
      "source": [
        "# define the values for the analysis\n",
        "\n",
        "# accession id for the data\n",
        "id = \"PRJCA002413\"\n",
        "samp_id = [\"CRX102291\"]\n",
        "\n",
        "# If only bam available files, set bam = True, Fill link and filename\n",
        "bam = False\n",
        "\n",
        "# If fastq links available but are not ffq links\n",
        "fastq_ffqlinks = False\n",
        "\n",
        "\n",
        "if bam:\n",
        "  # Assign link to python variable\n",
        "  link_to_bam = \"\"\n",
        "  \n",
        "  # Assigns the link to the bash variable BAM_LINK. To be used by wget\n",
        "  %env BAM_LINK=$link_to_bam\n",
        "\n",
        "  # Assign filename to python variable. Used to convert to fastq and remove bam file to fastq after conversion\n",
        "\n",
        "  bam_filename=\"\"\n",
        "\n",
        "\n",
        "if not bam:\n",
        "\n",
        "  # Copy and paste the links from the ACE2 scRNAseq datasets google  spreadsheet\n",
        "  links_raw = \"ftp://download.big.ac.cn/gsa3/CRA002497/CRR126635/CRR126635_f1.fastq.gz\tftp://download.big.ac.cn/gsa3/CRA002497/CRR126635/CRR126635_r2.fastq.gz\tftp://download.big.ac.cn/gsa3/CRA002497/CRR126636/CRR126636_f1.fastq.gz\tftp://download.big.ac.cn/gsa3/CRA002497/CRR126636/CRR126636_r2.fastq.gz\tftp://download.big.ac.cn/gsa3/CRA002497/CRR126637/CRR126637_f1.fastq.gz\tftp://download.big.ac.cn/gsa3/CRA002497/CRR126637/CRR126637_r2.fastq.gz\tftp://download.big.ac.cn/gsa3/CRA002497/CRR126638/CRR126638_f1.fastq.gz\tftp://download.big.ac.cn/gsa3/CRA002497/CRR126638/CRR126638_r2.fastq.gz\tftp://download.big.ac.cn/gsa3/CRA002497/CRR126639/CRR126639_f1.fastq.gz\tftp://download.big.ac.cn/gsa3/CRA002497/CRR126639/CRR126639_r2.fastq.gz\tftp://download.big.ac.cn/gsa3/CRA002497/CRR126640/CRR126640_f1.fastq.gz\tftp://download.big.ac.cn/gsa3/CRA002497/CRR126640/CRR126640_r2.fastq.gz\tftp://download.big.ac.cn/gsa3/CRA002497/CRR126641/CRR126641_f1.fastq.gz\tftp://download.big.ac.cn/gsa3/CRA002497/CRR126641/CRR126641_r2.fastq.gz\tftp://download.big.ac.cn/gsa3/CRA002497/CRR126642/CRR126642_f1.fastq.gz\tftp://download.big.ac.cn/gsa3/CRA002497/CRR126642/CRR126642_r2.fastq.gz\tftp://download.big.ac.cn/gsa3/CRA002497/CRR126643/CRR126643_f1.fastq.gz\tftp://download.big.ac.cn/gsa3/CRA002497/CRR126643/CRR126643_r2.fastq.gz\tftp://download.big.ac.cn/gsa3/CRA002497/CRR126644/CRR126644_f1.fastq.gz\tftp://download.big.ac.cn/gsa3/CRA002497/CRR126644/CRR126644_r2.fastq.gz\tftp://download.big.ac.cn/gsa3/CRA002497/CRR126645/CRR126645_f1.fastq.gz\tftp://download.big.ac.cn/gsa3/CRA002497/CRR126645/CRR126645_r2.fastq.gz\tftp://download.big.ac.cn/gsa3/CRA002497/CRR126646/CRR126646_f1.fastq.gz\tftp://download.big.ac.cn/gsa3/CRA002497/CRR126646/CRR126646_r2.fastq.gz\"\n",
        "  # Convert it to a list where each link is an element\n",
        "  \n",
        "  fastqs = links_raw.split()\n",
        "\n",
        "#sample specific metadata\n",
        "\n",
        "no_samples = 1\n",
        "\n",
        "condition = [\"covid infected, late recovery stage\"] * no_samples"
      ],
      "execution_count": 1,
      "outputs": []
    },
    {
      "cell_type": "code",
      "metadata": {
        "id": "5R3tPDqnoJUn"
      },
      "source": [
        "no_samples = 1\n",
        "\n",
        "fastqs_per_sample = [4, 8, 8] \n",
        "\n",
        "sample_id = samp_id\n",
        "\n",
        "database_id = [id] * no_samples\n",
        "\n",
        "tissue = [\"blood\"] * no_samples\n",
        "\n",
        "cell_type = [\"PBMCs\"] * no_samples\n",
        "\n",
        "species = [\"human\"] * no_samples\n",
        "\n",
        "technology = [\"10xv2\"] * no_samples\n",
        "\n",
        "paper = [\"Wen et al 2020\"] * no_samples\n",
        "\n",
        "figure = [\"Fig: all\"] * no_samples\n",
        "\n",
        "\n",
        "# Set string variables for kb functions\n",
        "\n",
        "species_kb = species[0]\n",
        "\n",
        "technology_kb = technology[0]\n",
        "\n"
      ],
      "execution_count": 2,
      "outputs": []
    },
    {
      "cell_type": "markdown",
      "metadata": {
        "id": "FPwL0-_-KSAw"
      },
      "source": [
        "# Imports and installs"
      ]
    },
    {
      "cell_type": "code",
      "metadata": {
        "colab": {
          "base_uri": "https://localhost:8080/"
        },
        "id": "1HSlUGZEp3oP",
        "outputId": "b6bea33b-90e9-4f68-aebb-6a853d9bddc2"
      },
      "source": [
        "# install and import necessary software\n",
        "\n",
        "# Install kb and scanpy\n",
        "!pip -q install kb-python \n",
        "!pip -q install scanpy\n",
        "\n",
        "import re\n",
        "import os\n",
        "\n",
        "# Setup\n",
        "\n",
        "import anndata\n",
        "import pandas as pd\n",
        "import numpy as np\n",
        "import matplotlib.pyplot as plt\n",
        "import matplotlib as mpl\n",
        "import matplotlib.patches as mpatches\n",
        "import scanpy as sc\n",
        "from scipy import stats\n",
        "\n",
        "from collections import OrderedDict\n",
        "from sklearn.decomposition import TruncatedSVD\n",
        "from sklearn.manifold import TSNE\n",
        "from sklearn.preprocessing import scale\n",
        "\n",
        "from sklearn.cluster import KMeans\n",
        "from sklearn.preprocessing import normalize\n",
        "from sklearn.preprocessing import LabelEncoder\n",
        "from sklearn.neighbors import NeighborhoodComponentsAnalysis\n",
        "from matplotlib import cm\n",
        "from matplotlib.lines import Line2D\n",
        "\n",
        "def nd(arr):\n",
        "    return np.asarray(arr).reshape(-1)\n",
        "def yex(ax):\n",
        "    lims = [np.min([ax.get_xlim(), ax.get_ylim()]),\n",
        "            np.max([ax.get_xlim(), ax.get_ylim()])]\n",
        "\n",
        "    # now plot both limits against eachother\n",
        "    ax.plot(lims, lims, 'k-', alpha=0.75, zorder=0)\n",
        "    ax.set_aspect('equal')\n",
        "    ax.set_xlim(lims)\n",
        "    ax.set_ylim(lims)\n",
        "    return ax\n",
        "\n",
        "def trim_axs(axs, N):\n",
        "    \"\"\"little helper to massage the axs list to have correct length...\"\"\"\n",
        "    axs = axs.flat\n",
        "    for ax in axs[N:]:\n",
        "        ax.remove()\n",
        "    return axs[:N]\n",
        "\n",
        "import warnings\n",
        "warnings.filterwarnings('ignore')\n",
        "\n",
        "fsize=20\n",
        "\n",
        "plt.rcParams.update({'font.size': fsize})\n",
        "%config InlineBackend.figure_format = 'retina'"
      ],
      "execution_count": 3,
      "outputs": [
        {
          "output_type": "stream",
          "text": [
            "\u001b[K     |████████████████████████████████| 59.1MB 1.2MB/s \n",
            "\u001b[K     |████████████████████████████████| 13.2MB 47.5MB/s \n",
            "\u001b[K     |████████████████████████████████| 51kB 5.7MB/s \n",
            "\u001b[K     |████████████████████████████████| 10.3MB 28.7MB/s \n",
            "\u001b[K     |████████████████████████████████| 133kB 58.4MB/s \n",
            "\u001b[K     |████████████████████████████████| 112kB 55.8MB/s \n",
            "\u001b[K     |████████████████████████████████| 81kB 5.7MB/s \n",
            "\u001b[K     |████████████████████████████████| 1.2MB 46.3MB/s \n",
            "\u001b[K     |████████████████████████████████| 71kB 7.2MB/s \n",
            "\u001b[?25h  Building wheel for loompy (setup.py) ... \u001b[?25l\u001b[?25hdone\n",
            "  Building wheel for numpy-groupies (setup.py) ... \u001b[?25l\u001b[?25hdone\n",
            "  Building wheel for umap-learn (setup.py) ... \u001b[?25l\u001b[?25hdone\n",
            "  Building wheel for sinfo (setup.py) ... \u001b[?25l\u001b[?25hdone\n",
            "  Building wheel for pynndescent (setup.py) ... \u001b[?25l\u001b[?25hdone\n"
          ],
          "name": "stdout"
        }
      ]
    },
    {
      "cell_type": "markdown",
      "metadata": {
        "id": "7V6FbosVrvP4"
      },
      "source": [
        "# Downloads: (bam (if bam) and index"
      ]
    },
    {
      "cell_type": "code",
      "metadata": {
        "id": "q46hw4zqKUPS"
      },
      "source": [
        "if bam:\n",
        "\n",
        "  # Install bamtofastq from 10x website (only bam files available)\n",
        "  !wget http://cf.10xgenomics.com/misc/bamtofastq-1.2.0\n",
        "  !chmod +x bamtofastq-1.2.0\n",
        "  # Download the bam file\n",
        "  !wget -- continue ${BAM_LINK}\n",
        "\n",
        "\n"
      ],
      "execution_count": 4,
      "outputs": []
    },
    {
      "cell_type": "code",
      "metadata": {
        "id": "tDQlrjtqNF0m"
      },
      "source": [
        "if bam:\n",
        "  # Convert to fastq\n",
        "  !./bamtofastq-1.2.0 --reads-per-fastq=500000000 $bam_filename ./fastqs\\\n",
        "\n",
        "  # Remove original bam file to save space\n",
        "  !rm $bam_filename\n"
      ],
      "execution_count": 5,
      "outputs": []
    },
    {
      "cell_type": "code",
      "metadata": {
        "id": "SXRDRphvqcLe"
      },
      "source": [
        "# Store fastq names on a list\n",
        "\n",
        "if bam:\n",
        "  # cd into fastqs folder\n",
        "  %cd /content/fastqs\n",
        "\n",
        "  #store the name of the folder generated by bamtofastq\n",
        "  _filename = os.listdir()[0]\n",
        "\n",
        "  # cd into that folder\n",
        "  %cd $_filename\n",
        "\n",
        "  # store fastq names in a list\n",
        "  fastqs = os.listdir()\n",
        "\n",
        "\n",
        "  # Remove I1 and R3 reads not relevant for our analysis\n",
        "\n",
        "  # Initialize list containing elements to remove\n",
        "  remov_elem = []\n",
        "\n",
        "  print (\"\\n\\nThis is the complete list of fastqs:\\n -----------\")\n",
        "  for elem in fastqs:\n",
        "    print (elem)\n",
        "\n",
        "  # Search index (I1 or R3) fastqs and remove them from list\n",
        "  for elem in fastqs:\n",
        "    if re.search(\"_R3_\", elem) or re.search(\"_I1_\", elem):\n",
        "      remov_elem = remov_elem +[elem]\n",
        "\n",
        "  fastqs = [elem for elem in fastqs if elem not in remov_elem] \n",
        "\n",
        "  print (\"\\n\\nThis is the filtered list of fastqs:\\n -----------\")\n",
        "  for elem in fastqs:\n",
        "    print (elem)\n"
      ],
      "execution_count": 6,
      "outputs": []
    },
    {
      "cell_type": "code",
      "metadata": {
        "id": "ZnFcqcSgjLBw"
      },
      "source": [
        "# Remove fastqs that wont be analyzed to save space\n",
        "if bam:\n",
        "  for elem in remov_elem:\n",
        "    !rm $elem"
      ],
      "execution_count": 7,
      "outputs": []
    },
    {
      "cell_type": "code",
      "metadata": {
        "id": "FLVS8aB7Dm6J"
      },
      "source": [
        "if bam:\n",
        "  # sort fastqs alphabetically to get R1 and R2 in order\n",
        "  fastqs = sorted(fastqs)"
      ],
      "execution_count": 8,
      "outputs": []
    },
    {
      "cell_type": "code",
      "metadata": {
        "id": "FE9gWbQgpBfR",
        "colab": {
          "base_uri": "https://localhost:8080/"
        },
        "outputId": "784c1587-b3ea-4c65-cae3-82a3b98375c0"
      },
      "source": [
        "# wget fastqs from non ffq links in fastqs folder\n",
        "if not bam and not fastq_ffqlinks:\n",
        "  !mkdir fastqs\n",
        "  %cd fastqs\n",
        "  while len(os.listdir()) != len(fastqs):\n",
        "    for link in fastqs:\n",
        "      !wget $link --continue\n",
        "\n",
        "  # update fastqs variable with name of files\n",
        "  fastqs = sorted(os.listdir())"
      ],
      "execution_count": 9,
      "outputs": [
        {
          "output_type": "stream",
          "text": [
            "/content/fastqs\n",
            "--2021-05-03 18:31:11--  ftp://download.big.ac.cn/gsa3/CRA002497/CRR126635/CRR126635_f1.fastq.gz\n",
            "           => ‘CRR126635_f1.fastq.gz’\n",
            "Resolving download.big.ac.cn (download.big.ac.cn)... 124.16.164.229\n",
            "Connecting to download.big.ac.cn (download.big.ac.cn)|124.16.164.229|:21... connected.\n",
            "Logging in as anonymous ... Logged in!\n",
            "==> SYST ... done.    ==> PWD ... done.\n",
            "==> TYPE I ... done.  ==> CWD (1) /gsa3/CRA002497/CRR126635 ... done.\n",
            "==> SIZE CRR126635_f1.fastq.gz ... 542511609\n",
            "==> PASV ... done.    ==> RETR CRR126635_f1.fastq.gz ... done.\n",
            "Length: 542511609 (517M) (unauthoritative)\n",
            "\n",
            "CRR126635_f1.fastq. 100%[===================>] 517.38M  6.78MB/s    in 54s     \n",
            "\n",
            "2021-05-03 18:32:08 (9.64 MB/s) - ‘CRR126635_f1.fastq.gz’ saved [542511609]\n",
            "\n",
            "--2021-05-03 18:32:08--  ftp://download.big.ac.cn/gsa3/CRA002497/CRR126635/CRR126635_r2.fastq.gz\n",
            "           => ‘CRR126635_r2.fastq.gz’\n",
            "Resolving download.big.ac.cn (download.big.ac.cn)... 124.16.164.229\n",
            "Connecting to download.big.ac.cn (download.big.ac.cn)|124.16.164.229|:21... connected.\n",
            "Logging in as anonymous ... Logged in!\n",
            "==> SYST ... done.    ==> PWD ... done.\n",
            "==> TYPE I ... done.  ==> CWD (1) /gsa3/CRA002497/CRR126635 ... done.\n",
            "==> SIZE CRR126635_r2.fastq.gz ... 606699335\n",
            "==> PASV ... done.    ==> RETR CRR126635_r2.fastq.gz ... done.\n",
            "Length: 606699335 (579M) (unauthoritative)\n",
            "\n",
            "CRR126635_r2.fastq. 100%[===================>] 578.59M  8.68MB/s    in 62s     \n",
            "\n",
            "2021-05-03 18:33:13 (9.29 MB/s) - ‘CRR126635_r2.fastq.gz’ saved [606699335]\n",
            "\n",
            "--2021-05-03 18:33:13--  ftp://download.big.ac.cn/gsa3/CRA002497/CRR126636/CRR126636_f1.fastq.gz\n",
            "           => ‘CRR126636_f1.fastq.gz’\n",
            "Resolving download.big.ac.cn (download.big.ac.cn)... 124.16.164.229\n",
            "Connecting to download.big.ac.cn (download.big.ac.cn)|124.16.164.229|:21... connected.\n",
            "Logging in as anonymous ... Logged in!\n",
            "==> SYST ... done.    ==> PWD ... done.\n",
            "==> TYPE I ... done.  ==> CWD (1) /gsa3/CRA002497/CRR126636 ... done.\n",
            "==> SIZE CRR126636_f1.fastq.gz ... 489760755\n",
            "==> PASV ... done.    ==> RETR CRR126636_f1.fastq.gz ... done.\n",
            "Length: 489760755 (467M) (unauthoritative)\n",
            "\n",
            "CRR126636_f1.fastq. 100%[===================>] 467.07M  4.46MB/s    in 82s     \n",
            "\n",
            "2021-05-03 18:34:40 (5.69 MB/s) - ‘CRR126636_f1.fastq.gz’ saved [489760755]\n",
            "\n",
            "--2021-05-03 18:34:40--  ftp://download.big.ac.cn/gsa3/CRA002497/CRR126636/CRR126636_r2.fastq.gz\n",
            "           => ‘CRR126636_r2.fastq.gz’\n",
            "Resolving download.big.ac.cn (download.big.ac.cn)... 124.16.164.229\n",
            "Connecting to download.big.ac.cn (download.big.ac.cn)|124.16.164.229|:21... connected.\n",
            "Logging in as anonymous ... Logged in!\n",
            "==> SYST ... done.    ==> PWD ... done.\n",
            "==> TYPE I ... done.  ==> CWD (1) /gsa3/CRA002497/CRR126636 ... done.\n",
            "==> SIZE CRR126636_r2.fastq.gz ... 550846801\n",
            "==> PASV ... done.    ==> RETR CRR126636_r2.fastq.gz ... done.\n",
            "Length: 550846801 (525M) (unauthoritative)\n",
            "\n",
            "CRR126636_r2.fastq. 100%[===================>] 525.33M  4.45MB/s    in 82s     \n",
            "\n",
            "2021-05-03 18:36:05 (6.38 MB/s) - ‘CRR126636_r2.fastq.gz’ saved [550846801]\n",
            "\n",
            "--2021-05-03 18:36:05--  ftp://download.big.ac.cn/gsa3/CRA002497/CRR126637/CRR126637_f1.fastq.gz\n",
            "           => ‘CRR126637_f1.fastq.gz’\n",
            "Resolving download.big.ac.cn (download.big.ac.cn)... 124.16.164.229\n",
            "Connecting to download.big.ac.cn (download.big.ac.cn)|124.16.164.229|:21... connected.\n",
            "Logging in as anonymous ... Logged in!\n",
            "==> SYST ... done.    ==> PWD ... done.\n",
            "==> TYPE I ... done.  ==> CWD (1) /gsa3/CRA002497/CRR126637 ... done.\n",
            "==> SIZE CRR126637_f1.fastq.gz ... 863814283\n",
            "==> PASV ... done.    ==> RETR CRR126637_f1.fastq.gz ... done.\n",
            "Length: 863814283 (824M) (unauthoritative)\n",
            "\n",
            "CRR126637_f1.fastq. 100%[===================>] 823.80M  5.56MB/s    in 2m 49s  \n",
            "\n",
            "2021-05-03 18:38:57 (4.87 MB/s) - ‘CRR126637_f1.fastq.gz’ saved [863814283]\n",
            "\n",
            "--2021-05-03 18:38:57--  ftp://download.big.ac.cn/gsa3/CRA002497/CRR126637/CRR126637_r2.fastq.gz\n",
            "           => ‘CRR126637_r2.fastq.gz’\n",
            "Resolving download.big.ac.cn (download.big.ac.cn)... 124.16.164.229\n",
            "Connecting to download.big.ac.cn (download.big.ac.cn)|124.16.164.229|:21... connected.\n",
            "Logging in as anonymous ... Logged in!\n",
            "==> SYST ... done.    ==> PWD ... done.\n",
            "==> TYPE I ... done.  ==> CWD (1) /gsa3/CRA002497/CRR126637 ... done.\n",
            "==> SIZE CRR126637_r2.fastq.gz ... 957455861\n",
            "==> PASV ... done.    ==> RETR CRR126637_r2.fastq.gz ... done.\n",
            "Length: 957455861 (913M) (unauthoritative)\n",
            "\n",
            "CRR126637_r2.fastq. 100%[===================>] 913.10M  8.24MB/s    in 2m 10s  \n",
            "\n",
            "2021-05-03 18:41:11 (7.01 MB/s) - ‘CRR126637_r2.fastq.gz’ saved [957455861]\n",
            "\n",
            "--2021-05-03 18:41:11--  ftp://download.big.ac.cn/gsa3/CRA002497/CRR126638/CRR126638_f1.fastq.gz\n",
            "           => ‘CRR126638_f1.fastq.gz’\n",
            "Resolving download.big.ac.cn (download.big.ac.cn)... 124.16.164.229\n",
            "Connecting to download.big.ac.cn (download.big.ac.cn)|124.16.164.229|:21... connected.\n",
            "Logging in as anonymous ... Logged in!\n",
            "==> SYST ... done.    ==> PWD ... done.\n",
            "==> TYPE I ... done.  ==> CWD (1) /gsa3/CRA002497/CRR126638 ... done.\n",
            "==> SIZE CRR126638_f1.fastq.gz ... 762132008\n",
            "==> PASV ... done.    ==> RETR CRR126638_f1.fastq.gz ... done.\n",
            "Length: 762132008 (727M) (unauthoritative)\n",
            "\n",
            "CRR126638_f1.fastq. 100%[===================>] 726.83M  1.73MB/s    in 5m 6s   \n",
            "\n",
            "2021-05-03 18:46:20 (2.37 MB/s) - ‘CRR126638_f1.fastq.gz’ saved [762132008]\n",
            "\n",
            "--2021-05-03 18:46:20--  ftp://download.big.ac.cn/gsa3/CRA002497/CRR126638/CRR126638_r2.fastq.gz\n",
            "           => ‘CRR126638_r2.fastq.gz’\n",
            "Resolving download.big.ac.cn (download.big.ac.cn)... 124.16.164.229\n",
            "Connecting to download.big.ac.cn (download.big.ac.cn)|124.16.164.229|:21... connected.\n",
            "Logging in as anonymous ... Logged in!\n",
            "==> SYST ... done.    ==> PWD ... done.\n",
            "==> TYPE I ... done.  ==> CWD (1) /gsa3/CRA002497/CRR126638 ... done.\n",
            "==> SIZE CRR126638_r2.fastq.gz ... 835891840\n",
            "==> PASV ... done.    ==> RETR CRR126638_r2.fastq.gz ... done.\n",
            "Length: 835891840 (797M) (unauthoritative)\n",
            "\n",
            "CRR126638_r2.fastq. 100%[===================>] 797.17M  11.5MB/s    in 2m 11s  \n",
            "\n",
            "2021-05-03 18:48:34 (6.08 MB/s) - ‘CRR126638_r2.fastq.gz’ saved [835891840]\n",
            "\n",
            "--2021-05-03 18:48:34--  ftp://download.big.ac.cn/gsa3/CRA002497/CRR126639/CRR126639_f1.fastq.gz\n",
            "           => ‘CRR126639_f1.fastq.gz’\n",
            "Resolving download.big.ac.cn (download.big.ac.cn)... 124.16.164.229\n",
            "Connecting to download.big.ac.cn (download.big.ac.cn)|124.16.164.229|:21... connected.\n",
            "Logging in as anonymous ... Logged in!\n",
            "==> SYST ... done.    ==> PWD ... done.\n",
            "==> TYPE I ... done.  ==> CWD (1) /gsa3/CRA002497/CRR126639 ... done.\n",
            "==> SIZE CRR126639_f1.fastq.gz ... 630877274\n",
            "==> PASV ... done.    ==> RETR CRR126639_f1.fastq.gz ... done.\n",
            "Length: 630877274 (602M) (unauthoritative)\n",
            "\n",
            "CRR126639_f1.fastq. 100%[===================>] 601.65M  12.2MB/s    in 97s     \n",
            "\n",
            "2021-05-03 18:50:15 (6.19 MB/s) - ‘CRR126639_f1.fastq.gz’ saved [630877274]\n",
            "\n",
            "--2021-05-03 18:50:15--  ftp://download.big.ac.cn/gsa3/CRA002497/CRR126639/CRR126639_r2.fastq.gz\n",
            "           => ‘CRR126639_r2.fastq.gz’\n",
            "Resolving download.big.ac.cn (download.big.ac.cn)... 124.16.164.229\n",
            "Connecting to download.big.ac.cn (download.big.ac.cn)|124.16.164.229|:21... connected.\n",
            "Logging in as anonymous ... Logged in!\n",
            "==> SYST ... done.    ==> PWD ... done.\n",
            "==> TYPE I ... done.  ==> CWD (1) /gsa3/CRA002497/CRR126639 ... done.\n",
            "==> SIZE CRR126639_r2.fastq.gz ... 669903771\n",
            "==> PASV ... done.    ==> RETR CRR126639_r2.fastq.gz ... done.\n",
            "Length: 669903771 (639M) (unauthoritative)\n",
            "\n",
            "CRR126639_r2.fastq. 100%[===================>] 638.87M  6.40MB/s    in 75s     \n",
            "\n",
            "2021-05-03 18:51:32 (8.57 MB/s) - ‘CRR126639_r2.fastq.gz’ saved [669903771]\n",
            "\n",
            "--2021-05-03 18:51:32--  ftp://download.big.ac.cn/gsa3/CRA002497/CRR126640/CRR126640_f1.fastq.gz\n",
            "           => ‘CRR126640_f1.fastq.gz’\n",
            "Resolving download.big.ac.cn (download.big.ac.cn)... 124.16.164.229\n",
            "Connecting to download.big.ac.cn (download.big.ac.cn)|124.16.164.229|:21... connected.\n",
            "Logging in as anonymous ... Logged in!\n",
            "==> SYST ... done.    ==> PWD ... done.\n",
            "==> TYPE I ... done.  ==> CWD (1) /gsa3/CRA002497/CRR126640 ... done.\n",
            "==> SIZE CRR126640_f1.fastq.gz ... 994745116\n",
            "==> PASV ... done.    ==> RETR CRR126640_f1.fastq.gz ... done.\n",
            "Length: 994745116 (949M) (unauthoritative)\n",
            "\n",
            "CRR126640_f1.fastq. 100%[===================>] 948.66M  3.33MB/s    in 6m 16s  \n",
            "\n",
            "2021-05-03 18:57:51 (2.52 MB/s) - ‘CRR126640_f1.fastq.gz’ saved [994745116]\n",
            "\n",
            "--2021-05-03 18:57:51--  ftp://download.big.ac.cn/gsa3/CRA002497/CRR126640/CRR126640_r2.fastq.gz\n",
            "           => ‘CRR126640_r2.fastq.gz’\n",
            "Resolving download.big.ac.cn (download.big.ac.cn)... 124.16.164.229\n",
            "Connecting to download.big.ac.cn (download.big.ac.cn)|124.16.164.229|:21... connected.\n",
            "Logging in as anonymous ... Logged in!\n",
            "==> SYST ... done.    ==> PWD ... done.\n",
            "==> TYPE I ... done.  ==> CWD (1) /gsa3/CRA002497/CRR126640 ... done.\n",
            "==> SIZE CRR126640_r2.fastq.gz ... 1055515390\n",
            "==> PASV ... done.    ==> RETR CRR126640_r2.fastq.gz ... done.\n",
            "Length: 1055515390 (1007M) (unauthoritative)\n",
            "\n",
            "CRR126640_r2.fastq. 100%[===================>]   1007M  6.14MB/s    in 2m 3s   \n",
            "\n",
            "2021-05-03 18:59:57 (8.18 MB/s) - ‘CRR126640_r2.fastq.gz’ saved [1055515390]\n",
            "\n",
            "--2021-05-03 18:59:57--  ftp://download.big.ac.cn/gsa3/CRA002497/CRR126641/CRR126641_f1.fastq.gz\n",
            "           => ‘CRR126641_f1.fastq.gz’\n",
            "Resolving download.big.ac.cn (download.big.ac.cn)... 124.16.164.229\n",
            "Connecting to download.big.ac.cn (download.big.ac.cn)|124.16.164.229|:21... connected.\n",
            "Logging in as anonymous ... Logged in!\n",
            "==> SYST ... done.    ==> PWD ... done.\n",
            "==> TYPE I ... done.  ==> CWD (1) /gsa3/CRA002497/CRR126641 ... done.\n",
            "==> SIZE CRR126641_f1.fastq.gz ... 860894651\n",
            "==> PASV ... done.    ==> RETR CRR126641_f1.fastq.gz ... done.\n",
            "Length: 860894651 (821M) (unauthoritative)\n",
            "\n",
            "CRR126641_f1.fastq. 100%[===================>] 821.01M  6.59MB/s    in 2m 16s  \n",
            "\n",
            "2021-05-03 19:02:17 (6.02 MB/s) - ‘CRR126641_f1.fastq.gz’ saved [860894651]\n",
            "\n",
            "--2021-05-03 19:02:17--  ftp://download.big.ac.cn/gsa3/CRA002497/CRR126641/CRR126641_r2.fastq.gz\n",
            "           => ‘CRR126641_r2.fastq.gz’\n",
            "Resolving download.big.ac.cn (download.big.ac.cn)... 124.16.164.229\n",
            "Connecting to download.big.ac.cn (download.big.ac.cn)|124.16.164.229|:21... connected.\n",
            "Logging in as anonymous ... Logged in!\n",
            "==> SYST ... done.    ==> PWD ... done.\n",
            "==> TYPE I ... done.  ==> CWD (1) /gsa3/CRA002497/CRR126641 ... done.\n",
            "==> SIZE CRR126641_r2.fastq.gz ... 938144930\n",
            "==> PASV ... done.    ==> RETR CRR126641_r2.fastq.gz ... done.\n",
            "Length: 938144930 (895M) (unauthoritative)\n",
            "\n",
            "CRR126641_r2.fastq. 100%[===================>] 894.68M  4.51MB/s    in 5m 53s  \n",
            "\n",
            "2021-05-03 19:08:12 (2.54 MB/s) - ‘CRR126641_r2.fastq.gz’ saved [938144930]\n",
            "\n",
            "--2021-05-03 19:08:13--  ftp://download.big.ac.cn/gsa3/CRA002497/CRR126642/CRR126642_f1.fastq.gz\n",
            "           => ‘CRR126642_f1.fastq.gz’\n",
            "Resolving download.big.ac.cn (download.big.ac.cn)... 124.16.164.229\n",
            "Connecting to download.big.ac.cn (download.big.ac.cn)|124.16.164.229|:21... connected.\n",
            "Logging in as anonymous ... Logged in!\n",
            "==> SYST ... done.    ==> PWD ... done.\n",
            "==> TYPE I ... done.  ==> CWD (1) /gsa3/CRA002497/CRR126642 ... done.\n",
            "==> SIZE CRR126642_f1.fastq.gz ... 857767144\n",
            "==> PASV ... done.    ==> RETR CRR126642_f1.fastq.gz ... done.\n",
            "Length: 857767144 (818M) (unauthoritative)\n",
            "\n",
            "CRR126642_f1.fastq. 100%[===================>] 818.03M  6.78MB/s    in 1m 54s  \n",
            "\n",
            "2021-05-03 19:10:10 (7.15 MB/s) - ‘CRR126642_f1.fastq.gz’ saved [857767144]\n",
            "\n",
            "--2021-05-03 19:10:10--  ftp://download.big.ac.cn/gsa3/CRA002497/CRR126642/CRR126642_r2.fastq.gz\n",
            "           => ‘CRR126642_r2.fastq.gz’\n",
            "Resolving download.big.ac.cn (download.big.ac.cn)... 124.16.164.229\n",
            "Connecting to download.big.ac.cn (download.big.ac.cn)|124.16.164.229|:21... connected.\n",
            "Logging in as anonymous ... Logged in!\n",
            "==> SYST ... done.    ==> PWD ... done.\n",
            "==> TYPE I ... done.  ==> CWD (1) /gsa3/CRA002497/CRR126642 ... done.\n",
            "==> SIZE CRR126642_r2.fastq.gz ... 907888594\n",
            "==> PASV ... done.    ==> RETR CRR126642_r2.fastq.gz ... done.\n",
            "Length: 907888594 (866M) (unauthoritative)\n",
            "\n",
            "CRR126642_r2.fastq. 100%[===================>] 865.83M  9.25MB/s    in 2m 10s  \n",
            "\n",
            "2021-05-03 19:12:23 (6.67 MB/s) - ‘CRR126642_r2.fastq.gz’ saved [907888594]\n",
            "\n",
            "--2021-05-03 19:12:23--  ftp://download.big.ac.cn/gsa3/CRA002497/CRR126643/CRR126643_f1.fastq.gz\n",
            "           => ‘CRR126643_f1.fastq.gz’\n",
            "Resolving download.big.ac.cn (download.big.ac.cn)... 124.16.164.229\n",
            "Connecting to download.big.ac.cn (download.big.ac.cn)|124.16.164.229|:21... connected.\n",
            "Logging in as anonymous ... Logged in!\n",
            "==> SYST ... done.    ==> PWD ... done.\n",
            "==> TYPE I ... done.  ==> CWD (1) /gsa3/CRA002497/CRR126643 ... done.\n",
            "==> SIZE CRR126643_f1.fastq.gz ... 2779034907\n",
            "==> PASV ... done.    ==> RETR CRR126643_f1.fastq.gz ... done.\n",
            "Length: 2779034907 (2.6G) (unauthoritative)\n",
            "\n",
            "CRR126643_f1.fastq. 100%[===================>]   2.59G  6.28MB/s    in 8m 24s  \n",
            "\n",
            "2021-05-03 19:20:50 (5.26 MB/s) - ‘CRR126643_f1.fastq.gz’ saved [2779034907]\n",
            "\n",
            "--2021-05-03 19:20:50--  ftp://download.big.ac.cn/gsa3/CRA002497/CRR126643/CRR126643_r2.fastq.gz\n",
            "           => ‘CRR126643_r2.fastq.gz’\n",
            "Resolving download.big.ac.cn (download.big.ac.cn)... 124.16.164.229\n",
            "Connecting to download.big.ac.cn (download.big.ac.cn)|124.16.164.229|:21... connected.\n",
            "Logging in as anonymous ... Logged in!\n",
            "==> SYST ... done.    ==> PWD ... done.\n",
            "==> TYPE I ... done.  ==> CWD (1) /gsa3/CRA002497/CRR126643 ... done.\n",
            "==> SIZE CRR126643_r2.fastq.gz ... 10887423544\n",
            "==> PASV ... done.    ==> RETR CRR126643_r2.fastq.gz ... done.\n",
            "Length: 10887423544 (10G) (unauthoritative)\n",
            "\n",
            "CRR126643_r2.fastq. 100%[===================>]  10.14G  9.90MB/s    in 31m 47s \n",
            "\n",
            "2021-05-03 19:52:40 (5.45 MB/s) - Control connection closed.\n",
            "Retrying.\n",
            "\n",
            "--2021-05-03 20:07:41--  ftp://download.big.ac.cn/gsa3/CRA002497/CRR126643/CRR126643_r2.fastq.gz\n",
            "  (try: 2) => ‘CRR126643_r2.fastq.gz’\n",
            "Connecting to download.big.ac.cn (download.big.ac.cn)|124.16.164.229|:21... connected.\n",
            "Logging in as anonymous ... Logged in!\n",
            "==> SYST ... done.    ==> PWD ... done.\n",
            "==> TYPE I ... done.  ==> CWD (1) /gsa3/CRA002497/CRR126643 ... done.\n",
            "==> SIZE CRR126643_r2.fastq.gz ... 10887423544\n",
            "File has already been retrieved.\n",
            "2021-05-03 20:07:43 (0.00 B/s) - ‘CRR126643_r2.fastq.gz’ saved [10887423544]\n",
            "\n",
            "--2021-05-03 20:07:43--  ftp://download.big.ac.cn/gsa3/CRA002497/CRR126644/CRR126644_f1.fastq.gz\n",
            "           => ‘CRR126644_f1.fastq.gz’\n",
            "Resolving download.big.ac.cn (download.big.ac.cn)... 124.16.164.229\n",
            "Connecting to download.big.ac.cn (download.big.ac.cn)|124.16.164.229|:21... connected.\n",
            "Logging in as anonymous ... Logged in!\n",
            "==> SYST ... done.    ==> PWD ... done.\n",
            "==> TYPE I ... done.  ==> CWD (1) /gsa3/CRA002497/CRR126644 ... done.\n",
            "==> SIZE CRR126644_f1.fastq.gz ... 1848469679\n",
            "==> PASV ... done.    ==> RETR CRR126644_f1.fastq.gz ... done.\n",
            "Length: 1848469679 (1.7G) (unauthoritative)\n",
            "\n",
            "CRR126644_f1.fastq. 100%[===================>]   1.72G  13.6MB/s    in 2m 52s  \n",
            "\n",
            "2021-05-03 20:10:38 (10.2 MB/s) - ‘CRR126644_f1.fastq.gz’ saved [1848469679]\n",
            "\n",
            "--2021-05-03 20:10:38--  ftp://download.big.ac.cn/gsa3/CRA002497/CRR126644/CRR126644_r2.fastq.gz\n",
            "           => ‘CRR126644_r2.fastq.gz’\n",
            "Resolving download.big.ac.cn (download.big.ac.cn)... 124.16.164.229\n",
            "Connecting to download.big.ac.cn (download.big.ac.cn)|124.16.164.229|:21... connected.\n",
            "Logging in as anonymous ... Logged in!\n",
            "==> SYST ... done.    ==> PWD ... done.\n",
            "==> TYPE I ... done.  ==> CWD (1) /gsa3/CRA002497/CRR126644 ... done.\n",
            "==> SIZE CRR126644_r2.fastq.gz ... 7230297208\n",
            "==> PASV ... done.    ==> RETR CRR126644_r2.fastq.gz ... done.\n",
            "Length: 7230297208 (6.7G) (unauthoritative)\n",
            "\n",
            "CRR126644_r2.fastq. 100%[===================>]   6.73G  12.5MB/s    in 9m 38s  \n",
            "\n",
            "2021-05-03 20:20:19 (11.9 MB/s) - ‘CRR126644_r2.fastq.gz’ saved [7230297208]\n",
            "\n",
            "--2021-05-03 20:20:19--  ftp://download.big.ac.cn/gsa3/CRA002497/CRR126645/CRR126645_f1.fastq.gz\n",
            "           => ‘CRR126645_f1.fastq.gz’\n",
            "Resolving download.big.ac.cn (download.big.ac.cn)... 124.16.164.229\n",
            "Connecting to download.big.ac.cn (download.big.ac.cn)|124.16.164.229|:21... connected.\n",
            "Logging in as anonymous ... Logged in!\n",
            "==> SYST ... done.    ==> PWD ... done.\n",
            "==> TYPE I ... done.  ==> CWD (1) /gsa3/CRA002497/CRR126645 ... done.\n",
            "==> SIZE CRR126645_f1.fastq.gz ... 2021879139\n",
            "==> PASV ... done.    ==> RETR CRR126645_f1.fastq.gz ... done.\n",
            "Length: 2021879139 (1.9G) (unauthoritative)\n",
            "\n",
            "CRR126645_f1.fastq. 100%[===================>]   1.88G  11.6MB/s    in 3m 7s   \n",
            "\n",
            "2021-05-03 20:23:29 (10.3 MB/s) - ‘CRR126645_f1.fastq.gz’ saved [2021879139]\n",
            "\n",
            "--2021-05-03 20:23:30--  ftp://download.big.ac.cn/gsa3/CRA002497/CRR126645/CRR126645_r2.fastq.gz\n",
            "           => ‘CRR126645_r2.fastq.gz’\n",
            "Resolving download.big.ac.cn (download.big.ac.cn)... 124.16.164.229\n",
            "Connecting to download.big.ac.cn (download.big.ac.cn)|124.16.164.229|:21... connected.\n",
            "Logging in as anonymous ... Logged in!\n",
            "==> SYST ... done.    ==> PWD ... done.\n",
            "==> TYPE I ... done.  ==> CWD (1) /gsa3/CRA002497/CRR126645 ... done.\n",
            "==> SIZE CRR126645_r2.fastq.gz ... 7940811735\n",
            "==> PASV ... done.    ==> RETR CRR126645_r2.fastq.gz ... done.\n",
            "Length: 7940811735 (7.4G) (unauthoritative)\n",
            "\n",
            "CRR126645_r2.fastq. 100%[===================>]   7.39G  11.5MB/s    in 12m 22s \n",
            "\n",
            "2021-05-03 20:35:54 (10.2 MB/s) - Control connection closed.\n",
            "Retrying.\n",
            "\n",
            "--2021-05-03 20:50:55--  ftp://download.big.ac.cn/gsa3/CRA002497/CRR126645/CRR126645_r2.fastq.gz\n",
            "  (try: 2) => ‘CRR126645_r2.fastq.gz’\n",
            "Connecting to download.big.ac.cn (download.big.ac.cn)|124.16.164.229|:21... connected.\n",
            "Logging in as anonymous ... Logged in!\n",
            "==> SYST ... done.    ==> PWD ... done.\n",
            "==> TYPE I ... done.  ==> CWD (1) /gsa3/CRA002497/CRR126645 ... done.\n",
            "==> SIZE CRR126645_r2.fastq.gz ... 7940811735\n",
            "File has already been retrieved.\n",
            "2021-05-03 20:50:57 (0.00 B/s) - ‘CRR126645_r2.fastq.gz’ saved [7940811735]\n",
            "\n",
            "--2021-05-03 20:50:57--  ftp://download.big.ac.cn/gsa3/CRA002497/CRR126646/CRR126646_f1.fastq.gz\n",
            "           => ‘CRR126646_f1.fastq.gz’\n",
            "Resolving download.big.ac.cn (download.big.ac.cn)... 124.16.164.229\n",
            "Connecting to download.big.ac.cn (download.big.ac.cn)|124.16.164.229|:21... connected.\n",
            "Logging in as anonymous ... Logged in!\n",
            "==> SYST ... done.    ==> PWD ... done.\n",
            "==> TYPE I ... done.  ==> CWD (1) /gsa3/CRA002497/CRR126646 ... done.\n",
            "==> SIZE CRR126646_f1.fastq.gz ... 1833079324\n",
            "==> PASV ... done.    ==> RETR CRR126646_f1.fastq.gz ... done.\n",
            "Length: 1833079324 (1.7G) (unauthoritative)\n",
            "\n",
            "CRR126646_f1.fastq. 100%[===================>]   1.71G  13.5MB/s    in 2m 12s  \n",
            "\n",
            "2021-05-03 20:53:12 (13.2 MB/s) - ‘CRR126646_f1.fastq.gz’ saved [1833079324]\n",
            "\n",
            "--2021-05-03 20:53:12--  ftp://download.big.ac.cn/gsa3/CRA002497/CRR126646/CRR126646_r2.fastq.gz\n",
            "           => ‘CRR126646_r2.fastq.gz’\n",
            "Resolving download.big.ac.cn (download.big.ac.cn)... 124.16.164.229\n",
            "Connecting to download.big.ac.cn (download.big.ac.cn)|124.16.164.229|:21... connected.\n",
            "Logging in as anonymous ... Logged in!\n",
            "==> SYST ... done.    ==> PWD ... done.\n",
            "==> TYPE I ... done.  ==> CWD (1) /gsa3/CRA002497/CRR126646 ... done.\n",
            "==> SIZE CRR126646_r2.fastq.gz ... 7109377961\n",
            "==> PASV ... done.    ==> RETR CRR126646_r2.fastq.gz ... done.\n",
            "Length: 7109377961 (6.6G) (unauthoritative)\n",
            "\n",
            "CRR126646_r2.fastq. 100%[===================>]   6.62G  12.0MB/s    in 9m 20s  \n",
            "\n",
            "2021-05-03 21:02:35 (12.1 MB/s) - ‘CRR126646_r2.fastq.gz’ saved [7109377961]\n",
            "\n"
          ],
          "name": "stdout"
        }
      ]
    },
    {
      "cell_type": "code",
      "metadata": {
        "id": "PC9oETW1pE9t",
        "colab": {
          "base_uri": "https://localhost:8080/"
        },
        "outputId": "db218c68-0237-49a0-9b71-2e3370dbdc33"
      },
      "source": [
        "if bam:\n",
        "  # Download the corresponding Kallisto index to folder containing fastqs\n",
        "  !kb ref -d $species_kb -i index.idx -g t2g.txt -f1 transcriptome.fasta\n",
        "\n",
        "if not bam and fastq_ffqlinks:\n",
        "  %cd /content\n",
        "\n",
        "  # Download the corresponding Kallisto index to content folder\n",
        "  !kb ref -d $species_kb -i index.idx -g t2g.txt -f1 transcriptome.fasta\n",
        "\n",
        "if not bam and not fastq_ffqlinks:\n",
        "  %cd /content/fastqs\n",
        "\n",
        "  # Download the corresponding Kallisto index to fastq folder\n",
        "  !kb ref -d $species_kb -i index.idx -g t2g.txt -f1 transcriptome.fasta"
      ],
      "execution_count": 10,
      "outputs": [
        {
          "output_type": "stream",
          "text": [
            "/content/fastqs\n",
            "[2021-05-03 21:02:41,697]    INFO Downloading files for human from https://caltech.box.com/shared/static/v1nm7lpnqz5syh8dyzdk2zs8bglncfib.gz to tmp/v1nm7lpnqz5syh8dyzdk2zs8bglncfib.gz\n",
            "100% 2.23G/2.23G [02:00<00:00, 19.8MB/s]\n",
            "[2021-05-03 21:04:44,073]    INFO Extracting files from tmp/v1nm7lpnqz5syh8dyzdk2zs8bglncfib.gz\n"
          ],
          "name": "stdout"
        }
      ]
    },
    {
      "cell_type": "code",
      "metadata": {
        "id": "vHVNa51Cp9Nr",
        "colab": {
          "base_uri": "https://localhost:8080/"
        },
        "outputId": "96a4f4dc-f321-4d36-d758-93b820586ac5"
      },
      "source": [
        "# Check to make sure the metadata is in the right order after sorting\n",
        "print(fastqs)"
      ],
      "execution_count": 11,
      "outputs": [
        {
          "output_type": "stream",
          "text": [
            "['CRR126635_f1.fastq.gz', 'CRR126635_r2.fastq.gz', 'CRR126636_f1.fastq.gz', 'CRR126636_r2.fastq.gz', 'CRR126637_f1.fastq.gz', 'CRR126637_r2.fastq.gz', 'CRR126638_f1.fastq.gz', 'CRR126638_r2.fastq.gz', 'CRR126639_f1.fastq.gz', 'CRR126639_r2.fastq.gz', 'CRR126640_f1.fastq.gz', 'CRR126640_r2.fastq.gz', 'CRR126641_f1.fastq.gz', 'CRR126641_r2.fastq.gz', 'CRR126642_f1.fastq.gz', 'CRR126642_r2.fastq.gz', 'CRR126643_f1.fastq.gz', 'CRR126643_r2.fastq.gz', 'CRR126644_f1.fastq.gz', 'CRR126644_r2.fastq.gz', 'CRR126645_f1.fastq.gz', 'CRR126645_r2.fastq.gz', 'CRR126646_f1.fastq.gz', 'CRR126646_r2.fastq.gz']\n"
          ],
          "name": "stdout"
        }
      ]
    },
    {
      "cell_type": "markdown",
      "metadata": {
        "id": "VInyuq1Dp7iz"
      },
      "source": [
        "# Process fastq files (modify kb command according to fastqs list)\n"
      ]
    },
    {
      "cell_type": "code",
      "metadata": {
        "id": "OcqtBuH-pRaX",
        "colab": {
          "base_uri": "https://localhost:8080/"
        },
        "outputId": "a22f69da-b6cd-43e8-9611-334e05537724"
      },
      "source": [
        "fastqs"
      ],
      "execution_count": 12,
      "outputs": [
        {
          "output_type": "execute_result",
          "data": {
            "text/plain": [
              "['CRR126635_f1.fastq.gz',\n",
              " 'CRR126635_r2.fastq.gz',\n",
              " 'CRR126636_f1.fastq.gz',\n",
              " 'CRR126636_r2.fastq.gz',\n",
              " 'CRR126637_f1.fastq.gz',\n",
              " 'CRR126637_r2.fastq.gz',\n",
              " 'CRR126638_f1.fastq.gz',\n",
              " 'CRR126638_r2.fastq.gz',\n",
              " 'CRR126639_f1.fastq.gz',\n",
              " 'CRR126639_r2.fastq.gz',\n",
              " 'CRR126640_f1.fastq.gz',\n",
              " 'CRR126640_r2.fastq.gz',\n",
              " 'CRR126641_f1.fastq.gz',\n",
              " 'CRR126641_r2.fastq.gz',\n",
              " 'CRR126642_f1.fastq.gz',\n",
              " 'CRR126642_r2.fastq.gz',\n",
              " 'CRR126643_f1.fastq.gz',\n",
              " 'CRR126643_r2.fastq.gz',\n",
              " 'CRR126644_f1.fastq.gz',\n",
              " 'CRR126644_r2.fastq.gz',\n",
              " 'CRR126645_f1.fastq.gz',\n",
              " 'CRR126645_r2.fastq.gz',\n",
              " 'CRR126646_f1.fastq.gz',\n",
              " 'CRR126646_r2.fastq.gz']"
            ]
          },
          "metadata": {
            "tags": []
          },
          "execution_count": 12
        }
      ]
    },
    {
      "cell_type": "code",
      "metadata": {
        "id": "5qFzPj-0kZTi",
        "colab": {
          "base_uri": "https://localhost:8080/"
        },
        "outputId": "9c03dcf1-91e5-481f-e5c6-6d20c2d2866e"
      },
      "source": [
        "# Specify the sample number and whether they are paired-ended\n",
        "\n",
        "\n",
        "if no_samples == 1:\n",
        "\n",
        "  # Write the kb count command as a string with all fastqs of the list as an input\n",
        "  cmd = \"kb count --h5ad -i index.idx -g t2g.txt -x \" + technology_kb + \" -o output\" + sample_id[0] + \" \"\\\n",
        "  + \"--filter bustools -t 2 --overwrite \" + \"'\" +  \"' '\".join(fastqs) + \"'\"\n",
        "  \n",
        "  # Execute it\n",
        "  !$cmd\n",
        "\n",
        "# If more than one sample, iterate through fastqs accordingly\n",
        "else:\n",
        "\n",
        "  # Initializa counter for fastq files\n",
        "  j = 0\n",
        "\n",
        "  # Loop over samples for analysis\n",
        "  for i in range(no_samples):\n",
        "\n",
        "    fastqs_to_analyze = fastqs[j:j + fastqs_per_sample[i]]\n",
        "    # Write the kb count command as a string\n",
        "    cmd = \"kb count --h5ad -i ../index.idx -g ../t2g.txt -x \" + technology_kb + \" -o output\" + sample_id[i] + \" \\\n",
        "    --filter bustools -t 2 --overwrite \" + \"'\" +  \"' '\".join(fastqs_to_analyze) + \"'\"\n",
        "\n",
        "    # Execute it\n",
        "    !$cmd\n",
        "\n",
        "    # Update j to move to the next set of fastq\n",
        "    j = j + fastqs_per_sample[i]\n",
        "\n",
        "\n",
        "\n",
        "\n",
        "\n"
      ],
      "execution_count": 13,
      "outputs": [
        {
          "output_type": "stream",
          "text": [
            "[2021-05-03 21:05:26,892]    INFO Using index index.idx to generate BUS file to outputCRX102291 from\n",
            "[2021-05-03 21:05:26,892]    INFO         CRR126635_f1.fastq.gz\n",
            "[2021-05-03 21:05:26,892]    INFO         CRR126635_r2.fastq.gz\n",
            "[2021-05-03 21:05:26,892]    INFO         CRR126636_f1.fastq.gz\n",
            "[2021-05-03 21:05:26,892]    INFO         CRR126636_r2.fastq.gz\n",
            "[2021-05-03 21:05:26,892]    INFO         CRR126637_f1.fastq.gz\n",
            "[2021-05-03 21:05:26,892]    INFO         CRR126637_r2.fastq.gz\n",
            "[2021-05-03 21:05:26,892]    INFO         CRR126638_f1.fastq.gz\n",
            "[2021-05-03 21:05:26,892]    INFO         CRR126638_r2.fastq.gz\n",
            "[2021-05-03 21:05:26,892]    INFO         CRR126639_f1.fastq.gz\n",
            "[2021-05-03 21:05:26,892]    INFO         CRR126639_r2.fastq.gz\n",
            "[2021-05-03 21:05:26,892]    INFO         CRR126640_f1.fastq.gz\n",
            "[2021-05-03 21:05:26,892]    INFO         CRR126640_r2.fastq.gz\n",
            "[2021-05-03 21:05:26,892]    INFO         CRR126641_f1.fastq.gz\n",
            "[2021-05-03 21:05:26,892]    INFO         CRR126641_r2.fastq.gz\n",
            "[2021-05-03 21:05:26,893]    INFO         CRR126642_f1.fastq.gz\n",
            "[2021-05-03 21:05:26,893]    INFO         CRR126642_r2.fastq.gz\n",
            "[2021-05-03 21:05:26,893]    INFO         CRR126643_f1.fastq.gz\n",
            "[2021-05-03 21:05:26,893]    INFO         CRR126643_r2.fastq.gz\n",
            "[2021-05-03 21:05:26,893]    INFO         CRR126644_f1.fastq.gz\n",
            "[2021-05-03 21:05:26,893]    INFO         CRR126644_r2.fastq.gz\n",
            "[2021-05-03 21:05:26,893]    INFO         CRR126645_f1.fastq.gz\n",
            "[2021-05-03 21:05:26,893]    INFO         CRR126645_r2.fastq.gz\n",
            "[2021-05-03 21:05:26,893]    INFO         CRR126646_f1.fastq.gz\n",
            "[2021-05-03 21:05:26,893]    INFO         CRR126646_r2.fastq.gz\n",
            "[2021-05-03 23:10:37,717]    INFO Sorting BUS file outputCRX102291/output.bus to outputCRX102291/tmp/output.s.bus\n",
            "[2021-05-03 23:14:52,502]    INFO Whitelist not provided\n",
            "[2021-05-03 23:14:52,508]    INFO Copying pre-packaged 10XV2 whitelist to outputCRX102291\n",
            "[2021-05-03 23:14:52,648]    INFO Inspecting BUS file outputCRX102291/tmp/output.s.bus\n",
            "[2021-05-03 23:15:34,518]    INFO Correcting BUS records in outputCRX102291/tmp/output.s.bus to outputCRX102291/tmp/output.s.c.bus with whitelist outputCRX102291/10xv2_whitelist.txt\n",
            "[2021-05-03 23:16:06,790]    INFO Sorting BUS file outputCRX102291/tmp/output.s.c.bus to outputCRX102291/output.unfiltered.bus\n",
            "[2021-05-03 23:17:35,803]    INFO Generating count matrix outputCRX102291/counts_unfiltered/cells_x_genes from BUS file outputCRX102291/output.unfiltered.bus\n",
            "[2021-05-03 23:18:29,903]    INFO Reading matrix outputCRX102291/counts_unfiltered/cells_x_genes.mtx\n",
            "[2021-05-03 23:18:58,209]    INFO Writing matrix to h5ad outputCRX102291/counts_unfiltered/adata.h5ad\n",
            "[2021-05-03 23:18:59,525]    INFO Filtering with bustools\n",
            "[2021-05-03 23:18:59,526]    INFO Generating whitelist outputCRX102291/filter_barcodes.txt from BUS file outputCRX102291/output.unfiltered.bus\n",
            "[2021-05-03 23:19:00,535]    INFO Correcting BUS records in outputCRX102291/output.unfiltered.bus to outputCRX102291/tmp/output.unfiltered.c.bus with whitelist outputCRX102291/filter_barcodes.txt\n",
            "[2021-05-03 23:19:31,399]    INFO Sorting BUS file outputCRX102291/tmp/output.unfiltered.c.bus to outputCRX102291/output.filtered.bus\n",
            "[2021-05-03 23:20:42,055]    INFO Generating count matrix outputCRX102291/counts_filtered/cells_x_genes from BUS file outputCRX102291/output.filtered.bus\n",
            "[2021-05-03 23:21:26,226]    INFO Reading matrix outputCRX102291/counts_filtered/cells_x_genes.mtx\n",
            "[2021-05-03 23:21:47,426]    INFO Writing matrix to h5ad outputCRX102291/counts_filtered/adata.h5ad\n"
          ],
          "name": "stdout"
        }
      ]
    },
    {
      "cell_type": "markdown",
      "metadata": {
        "id": "tDijOZzrqhN2"
      },
      "source": [
        "# Load unfiltered matrix and assign filters to each matrix individually"
      ]
    },
    {
      "cell_type": "markdown",
      "metadata": {
        "id": "VkNLZh_pNFFw"
      },
      "source": [
        "## Load the unfiltered matrix (check dimensions)"
      ]
    },
    {
      "cell_type": "code",
      "metadata": {
        "id": "PppRNeV8AIyw"
      },
      "source": [
        "# Define dict to store data\n",
        "results = {}\n"
      ],
      "execution_count": 15,
      "outputs": []
    },
    {
      "cell_type": "code",
      "metadata": {
        "cellView": "both",
        "id": "pKmtGf3c_BiZ",
        "colab": {
          "base_uri": "https://localhost:8080/"
        },
        "outputId": "b9dc5650-eaa5-41ad-d15c-ad0de48f2c10"
      },
      "source": [
        "# load the unfiltered matrix\n",
        "for i in range(no_samples):\n",
        "  results[sample_id[i]] = anndata.read_h5ad(\"output\" + sample_id[i] + \"/counts_unfiltered/adata.h5ad\")\n",
        "  results[sample_id[i]].var[\"gene_id\"] = results[sample_id[i]].var.index.values\n",
        "\n",
        "  t2g = pd.read_csv(\"t2g.txt\", header=None, names=[\"tid\", \"gene_id\", \"gene_name\"], sep=\"\\t\")\n",
        "  t2g.index = t2g.gene_id\n",
        "  t2g = t2g.loc[~t2g.index.duplicated(keep='first')]\n",
        "\n",
        "  results[sample_id[i]].var[\"gene_name\"] = results[sample_id[i]].var.gene_id.map(t2g[\"gene_name\"])\n",
        "  results[sample_id[i]].var.index = results[sample_id[i]].var[\"gene_name\"]\n",
        "  print(\"The unfiltered matrix \" + sample_id[i] + \" contains {} cells by {} genes\".format(len(results[sample_id[i]].obs), len(results[sample_id[i]].var)))\n",
        "\n",
        "  results[sample_id[i]].obs[\"cell_counts\"] = results[sample_id[i]].X.sum(axis=1)\n",
        "  results[sample_id[i]].var[\"gene_counts\"] = nd(results[sample_id[i]].X.sum(axis=0))\n",
        "\n",
        "  results[sample_id[i]].obs[\"n_genes\"] = nd((results[sample_id[i]].X>0).sum(axis=1))\n",
        "  results[sample_id[i]].var[\"n_cells\"] = nd((results[sample_id[i]].X>0).sum(axis=0))\n",
        "\n",
        "  mito_genes = results[sample_id[i]].var_names.str.startswith(\"MT-\" or \"mt-\") \n",
        "  results[sample_id[i]].obs[\"percent_mito\"] = results[sample_id[i]][:,mito_genes].X.sum(axis=1)/results[sample_id[i]].X.sum(axis=1)*100\n",
        "\n",
        "  # Changing the name of the index is necessary to write the file (it won't work with duplicated names)\n",
        "  results[sample_id[i]].var.index.name = \"index\"\n",
        "\n"
      ],
      "execution_count": 16,
      "outputs": [
        {
          "output_type": "stream",
          "text": [
            "The unfiltered matrix CRX102291 contains 326487 cells by 60623 genes\n"
          ],
          "name": "stdout"
        }
      ]
    },
    {
      "cell_type": "markdown",
      "metadata": {
        "id": "hDAUH3eH_2RA"
      },
      "source": [
        "## Assign filters for each matrix individually"
      ]
    },
    {
      "cell_type": "code",
      "metadata": {
        "id": "ukinuaKk_6Po"
      },
      "source": [
        "# Modify this manually to change sample after having assigned the \"expected_num_cells\" and \"mito_criteria\" parameters\n",
        "samp_n = 0\n",
        "\n",
        "\n",
        "# Filtering criteria\n",
        "cell_threshold = 100\n",
        "gene_threshold = 3\n",
        "\n",
        "mito_criteria = 30"
      ],
      "execution_count": 17,
      "outputs": []
    },
    {
      "cell_type": "code",
      "metadata": {
        "id": "a5wZB5pEfwNs",
        "colab": {
          "base_uri": "https://localhost:8080/",
          "height": 722
        },
        "cellView": "form",
        "outputId": "8724070a-7e32-4fae-bcc3-13ef0ea3c929"
      },
      "source": [
        "\n",
        "expected_num_cells = 4000#@param {type:\"integer\"}\n",
        "knee = np.sort(nd(results[sample_id[samp_n]].X.sum(axis=1)))[::-1]\n",
        "\n",
        "fig, ax = plt.subplots(figsize=(5, 5))\n",
        "\n",
        "x = knee\n",
        "y = range(len(knee))\n",
        "\n",
        "ax.loglog(x, y, linewidth=5, color=\"g\")\n",
        "\n",
        "ax.axvline(x=knee[expected_num_cells], linewidth=3, color=\"k\")\n",
        "ax.axhline(y=expected_num_cells, linewidth=3, color=\"k\")\n",
        "\n",
        "ax.set_xlabel(\"UMI Counts\")\n",
        "ax.set_ylabel(\"Set of Barcodes\")\n",
        "\n",
        "plt.show()\n",
        "\n",
        "cell_threshold = knee[expected_num_cells]\n",
        "\n",
        "results[\"cell_threshold\" + sample_id[samp_n]] = knee[expected_num_cells]\n",
        "\n",
        "print (\"Cells were filtered down to \" + str(expected_num_cells) + \" with at least \" + str(cell_threshold) + \" UMIs\")\n",
        "\n",
        "\n",
        "mito_criteria = 18#@param {type:\"integer\"}\n",
        "results[\"mito_criteria\" + sample_id[samp_n]] = mito_criteria\n",
        "\n",
        "fig, ax = plt.subplots(figsize=(5,5))\n",
        "\n",
        "\n",
        "x = nd(results[sample_id[samp_n]].obs[\"cell_counts\"][results[sample_id[samp_n]].obs[\"cell_counts\"] > cell_threshold])\n",
        "y = nd(results[sample_id[samp_n]].obs[\"percent_mito\"][results[sample_id[samp_n]].obs[\"cell_counts\"] > cell_threshold])\n",
        "\n",
        "ax.scatter(x, y, color=\"green\", alpha=0.1)\n",
        "\n",
        "ax.axhline(y=mito_criteria, linestyle=\"--\", color=\"k\")\n",
        "\n",
        "\n",
        "ax.set_xlabel(\"UMI Counts\")\n",
        "ax.set_ylabel(\"Percent mito\")\n",
        "\n",
        "\n",
        "plt.show()\n",
        "\n",
        "print(\"We select \" + str(mito_criteria) + \" % as the mitochondrial content threshold\")"
      ],
      "execution_count": 19,
      "outputs": [
        {
          "output_type": "display_data",
          "data": {
            "image/png": "[encoded data removed]",
            "text/plain": [
              "<Figure size 360x360 with 1 Axes>"
            ]
          },
          "metadata": {
            "tags": [],
            "image/png": {
              "width": 358,
              "height": 337
            },
            "needs_background": "light"
          }
        },
        {
          "output_type": "stream",
          "text": [
            "Cells were filtered down to 4000 with at least 3337.0 UMIs\n"
          ],
          "name": "stdout"
        },
        {
          "output_type": "display_data",
          "data": {
            "image/png": "[encoded data removed]",
            "text/plain": [
              "<Figure size 360x360 with 1 Axes>"
            ]
          },
          "metadata": {
            "tags": [],
            "image/png": {
              "width": 349,
              "height": 337
            },
            "needs_background": "light"
          }
        },
        {
          "output_type": "stream",
          "text": [
            "We select 18 % as the mitochondrial content threshold\n"
          ],
          "name": "stdout"
        }
      ]
    },
    {
      "cell_type": "markdown",
      "metadata": {
        "id": "eP9j2ouPq9KY"
      },
      "source": [
        "# Filter matrix"
      ]
    },
    {
      "cell_type": "code",
      "metadata": {
        "id": "sE51WUA3gVmG",
        "colab": {
          "base_uri": "https://localhost:8080/"
        },
        "outputId": "0c8df569-c432-4763-d8e4-945c87f381e7"
      },
      "source": [
        "for i in range(no_samples):\n",
        "  results[sample_id[i]].obs[\"pass_count_filter\"] = results[sample_id[i]].obs[\"cell_counts\"] > results[\"cell_threshold\" + sample_id[i]]\n",
        "  results[sample_id[i]].obs[\"pass_mito_filter\"] = results[sample_id[i]].obs.percent_mito < results[\"mito_criteria\" + sample_id[i]]\n",
        "  results[sample_id[i]].var[\"pass_gene_filter\"] = results[sample_id[i]].var[\"n_cells\"] > gene_threshold\n",
        "\n",
        "  cell_mask = np.logical_and(results[sample_id[i]].obs[\"pass_count_filter\"].values, results[sample_id[i]].obs[\"pass_mito_filter\"].values)\n",
        "  gene_mask = results[sample_id[i]].var[\"pass_gene_filter\"].values\n",
        "\n",
        "  print(\"Current Shape: {:,} cells x {:,} genes\".format(results[sample_id[i]].shape[0], results[sample_id[i]].shape[1]))\n",
        "  print(\"    New shape: {:,} cells x {:,} genes\".format(cell_mask.sum(), gene_mask.sum()))\n",
        "  results[\"data_\" + sample_id[i]] = results[sample_id[i]][cell_mask, gene_mask]"
      ],
      "execution_count": 20,
      "outputs": [
        {
          "output_type": "stream",
          "text": [
            "Current Shape: 326,487 cells x 60,623 genes\n",
            "    New shape: 3,963 cells x 28,239 genes\n"
          ],
          "name": "stdout"
        }
      ]
    },
    {
      "cell_type": "markdown",
      "metadata": {
        "id": "BxPA81yj4TlU"
      },
      "source": [
        "# Anotate and write the Anndata object"
      ]
    },
    {
      "cell_type": "code",
      "metadata": {
        "id": "O-q_Qj2U4kDU",
        "colab": {
          "base_uri": "https://localhost:8080/"
        },
        "outputId": "23b3558e-9279-422c-a7be-1d7c3585c563"
      },
      "source": [
        "for i in range(no_samples):\n",
        "\n",
        "\n",
        "  results[\"data_\" + sample_id[i]].uns[\"database_id\"] = database_id[i]\n",
        "\n",
        "  results[\"data_\" + sample_id[i]].uns[\"tissue\"] = tissue[i]\n",
        "\n",
        "  results[\"data_\" + sample_id[i]].uns[\"cell_type\"] = cell_type[i]\n",
        "\n",
        "  results[\"data_\" + sample_id[i]].uns[\"sample_id\"] = sample_id[i]\n",
        "\n",
        "  results[\"data_\" + sample_id[i]].uns[\"condition\"] = condition[i]\n",
        "\n",
        "  results[\"data_\" + sample_id[i]].uns[\"species\"] = species[i]\n",
        "\n",
        "  results[\"data_\" + sample_id[i]].uns[\"technology\"] = technology[i]\n",
        "\n",
        "  results[\"data_\" + sample_id[i]].uns[\"paper\"] = paper[i]\n",
        "\n",
        "  results[\"data_\" + sample_id[i]].uns[\"figure\"] = figure[i]\n",
        "\n",
        "\n",
        "%cd /content\n",
        "\n",
        "for i in range(no_samples):\n",
        "\n",
        "  results[\"data_\" + sample_id[i]].write(\"result\" + sample_id[i])"
      ],
      "execution_count": 21,
      "outputs": [
        {
          "output_type": "stream",
          "text": [
            "Trying to set attribute `.uns` of view, copying.\n",
            "Variable names are not unique. To make them unique, call `.var_names_make_unique`.\n",
            "Variable names are not unique. To make them unique, call `.var_names_make_unique`.\n"
          ],
          "name": "stderr"
        },
        {
          "output_type": "stream",
          "text": [
            "/content\n"
          ],
          "name": "stdout"
        },
        {
          "output_type": "stream",
          "text": [
            "... storing 'gene_name' as categorical\n"
          ],
          "name": "stderr"
        }
      ]
    }
  ]
}