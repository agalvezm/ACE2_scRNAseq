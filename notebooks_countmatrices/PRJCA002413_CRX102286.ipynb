{
  "nbformat": 4,
  "nbformat_minor": 0,
  "metadata": {
    "colab": {
      "name": "Copy of PRJCA002413_CRX102286.ipynb",
      "provenance": [],
      "collapsed_sections": [],
      "include_colab_link": true
    },
    "kernelspec": {
      "display_name": "Python 3",
      "name": "python3"
    }
  },
  "cells": [
    {
      "cell_type": "markdown",
      "metadata": {
        "id": "view-in-github",
        "colab_type": "text"
      },
      "source": [
        "<a href=\"https://colab.research.google.com/github/agalvezm/ACE2_scRNAseq/blob/master/notebooks_countmatrices/PRJCA002413_CRX102286.ipynb\" target=\"_parent\"><img src=\"https://colab.research.google.com/assets/colab-badge.svg\" alt=\"Open In Colab\"/></a>"
      ]
    },
    {
      "cell_type": "markdown",
      "metadata": {
        "id": "V9ryXluJsJw9"
      },
      "source": [
        "# PRJCA002413_CRX102286"
      ]
    },
    {
      "cell_type": "code",
      "metadata": {
        "id": "ggNFAQJCRh6P"
      },
      "source": [
        "# define the values for the analysis\n",
        "\n",
        "# accession id for the data\n",
        "id = \"PRJCA002413\"\n",
        "samp_id = [\"CRX102286\"]\n",
        "\n",
        "# If only bam available files, set bam = True, Fill link and filename\n",
        "bam = False\n",
        "\n",
        "# If fastq links available but are not ffq links\n",
        "fastq_ffqlinks = False\n",
        "\n",
        "\n",
        "if bam:\n",
        "  # Assign link to python variable\n",
        "  link_to_bam = \"\"\n",
        "  \n",
        "  # Assigns the link to the bash variable BAM_LINK. To be used by wget\n",
        "  %env BAM_LINK=$link_to_bam\n",
        "\n",
        "  # Assign filename to python variable. Used to convert to fastq and remove bam file to fastq after conversion\n",
        "\n",
        "  bam_filename=\"\"\n",
        "\n",
        "\n",
        "if not bam:\n",
        "\n",
        "  # Copy and paste the links from the ACE2 scRNAseq datasets google  spreadsheet\n",
        "  links_raw = \"ftp://download.big.ac.cn/gsa3/CRA002497/CRR126575/CRR126575_f1.fastq.gz\tftp://download.big.ac.cn/gsa3/CRA002497/CRR126575/CRR126575_r2.fastq.gz\tftp://download.big.ac.cn/gsa3/CRA002497/CRR126576/CRR126576_f1.fastq.gz\tftp://download.big.ac.cn/gsa3/CRA002497/CRR126576/CRR126576_r2.fastq.gz\tftp://download.big.ac.cn/gsa3/CRA002497/CRR126577/CRR126577_f1.fastq.gz\tftp://download.big.ac.cn/gsa3/CRA002497/CRR126577/CRR126577_r2.fastq.gz\tftp://download.big.ac.cn/gsa3/CRA002497/CRR126578/CRR126578_f1.fastq.gz\tftp://download.big.ac.cn/gsa3/CRA002497/CRR126578/CRR126578_r2.fastq.gz\tftp://download.big.ac.cn/gsa3/CRA002497/CRR126579/CRR126579_f1.fastq.gz\tftp://download.big.ac.cn/gsa3/CRA002497/CRR126579/CRR126579_r2.fastq.gz\tftp://download.big.ac.cn/gsa3/CRA002497/CRR126580/CRR126580_f1.fastq.gz\tftp://download.big.ac.cn/gsa3/CRA002497/CRR126580/CRR126580_r2.fastq.gz\tftp://download.big.ac.cn/gsa3/CRA002497/CRR126581/CRR126581_f1.fastq.gz\tftp://download.big.ac.cn/gsa3/CRA002497/CRR126581/CRR126581_r2.fastq.gz\tftp://download.big.ac.cn/gsa3/CRA002497/CRR126582/CRR126582_f1.fastq.gz\tftp://download.big.ac.cn/gsa3/CRA002497/CRR126582/CRR126582_r2.fastq.gz\tftp://download.big.ac.cn/gsa3/CRA002497/CRR126583/CRR126583_f1.fastq.gz\tftp://download.big.ac.cn/gsa3/CRA002497/CRR126583/CRR126583_r2.fastq.gz\tftp://download.big.ac.cn/gsa3/CRA002497/CRR126584/CRR126584_f1.fastq.gz\tftp://download.big.ac.cn/gsa3/CRA002497/CRR126584/CRR126584_r2.fastq.gz\tftp://download.big.ac.cn/gsa3/CRA002497/CRR126585/CRR126585_f1.fastq.gz\tftp://download.big.ac.cn/gsa3/CRA002497/CRR126585/CRR126585_r2.fastq.gz\tftp://download.big.ac.cn/gsa3/CRA002497/CRR126586/CRR126586_f1.fastq.gz\tftp://download.big.ac.cn/gsa3/CRA002497/CRR126586/CRR126586_r2.fastq.gz\"\n",
        "  # Convert it to a list where each link is an element\n",
        "  \n",
        "  fastqs = links_raw.split()\n",
        "\n",
        "#sample specific metadata\n",
        "\n",
        "no_samples = 1\n",
        "\n",
        "condition = [\"covid infected, early recovery stage\"] * no_samples"
      ],
      "execution_count": 14,
      "outputs": []
    },
    {
      "cell_type": "code",
      "metadata": {
        "id": "5R3tPDqnoJUn"
      },
      "source": [
        "no_samples = 1\n",
        "\n",
        "fastqs_per_sample = [4, 8, 8] \n",
        "\n",
        "sample_id = samp_id\n",
        "\n",
        "database_id = [id] * no_samples\n",
        "\n",
        "tissue = [\"blood\"] * no_samples\n",
        "\n",
        "cell_type = [\"PBMCs\"] * no_samples\n",
        "\n",
        "species = [\"human\"] * no_samples\n",
        "\n",
        "technology = [\"10xv2\"] * no_samples\n",
        "\n",
        "paper = [\"Wen et al 2020\"] * no_samples\n",
        "\n",
        "figure = [\"Fig: all\"] * no_samples\n",
        "\n",
        "\n",
        "# Set string variables for kb functions\n",
        "\n",
        "species_kb = species[0]\n",
        "\n",
        "technology_kb = technology[0]\n",
        "\n"
      ],
      "execution_count": 15,
      "outputs": []
    },
    {
      "cell_type": "markdown",
      "metadata": {
        "id": "FPwL0-_-KSAw"
      },
      "source": [
        "# Imports and installs"
      ]
    },
    {
      "cell_type": "code",
      "metadata": {
        "id": "1HSlUGZEp3oP"
      },
      "source": [
        "# install and import necessary software\n",
        "\n",
        "# Install kb and scanpy\n",
        "!pip -q install kb-python \n",
        "!pip -q install scanpy\n",
        "\n",
        "import re\n",
        "import os\n",
        "\n",
        "# Setup\n",
        "\n",
        "import anndata\n",
        "import pandas as pd\n",
        "import numpy as np\n",
        "import matplotlib.pyplot as plt\n",
        "import matplotlib as mpl\n",
        "import matplotlib.patches as mpatches\n",
        "import scanpy as sc\n",
        "from scipy import stats\n",
        "\n",
        "from collections import OrderedDict\n",
        "from sklearn.decomposition import TruncatedSVD\n",
        "from sklearn.manifold import TSNE\n",
        "from sklearn.preprocessing import scale\n",
        "\n",
        "from sklearn.cluster import KMeans\n",
        "from sklearn.preprocessing import normalize\n",
        "from sklearn.preprocessing import LabelEncoder\n",
        "from sklearn.neighbors import NeighborhoodComponentsAnalysis\n",
        "from matplotlib import cm\n",
        "from matplotlib.lines import Line2D\n",
        "\n",
        "def nd(arr):\n",
        "    return np.asarray(arr).reshape(-1)\n",
        "def yex(ax):\n",
        "    lims = [np.min([ax.get_xlim(), ax.get_ylim()]),\n",
        "            np.max([ax.get_xlim(), ax.get_ylim()])]\n",
        "\n",
        "    # now plot both limits against eachother\n",
        "    ax.plot(lims, lims, 'k-', alpha=0.75, zorder=0)\n",
        "    ax.set_aspect('equal')\n",
        "    ax.set_xlim(lims)\n",
        "    ax.set_ylim(lims)\n",
        "    return ax\n",
        "\n",
        "def trim_axs(axs, N):\n",
        "    \"\"\"little helper to massage the axs list to have correct length...\"\"\"\n",
        "    axs = axs.flat\n",
        "    for ax in axs[N:]:\n",
        "        ax.remove()\n",
        "    return axs[:N]\n",
        "\n",
        "import warnings\n",
        "warnings.filterwarnings('ignore')\n",
        "\n",
        "fsize=20\n",
        "\n",
        "plt.rcParams.update({'font.size': fsize})\n",
        "%config InlineBackend.figure_format = 'retina'"
      ],
      "execution_count": 16,
      "outputs": []
    },
    {
      "cell_type": "markdown",
      "metadata": {
        "id": "7V6FbosVrvP4"
      },
      "source": [
        "# Downloads: (bam (if bam) and index"
      ]
    },
    {
      "cell_type": "code",
      "metadata": {
        "id": "q46hw4zqKUPS"
      },
      "source": [
        "if bam:\n",
        "\n",
        "  # Install bamtofastq from 10x website (only bam files available)\n",
        "  !wget http://cf.10xgenomics.com/misc/bamtofastq-1.2.0\n",
        "  !chmod +x bamtofastq-1.2.0\n",
        "  # Download the bam file\n",
        "  !wget -- continue ${BAM_LINK}\n",
        "\n",
        "\n"
      ],
      "execution_count": 17,
      "outputs": []
    },
    {
      "cell_type": "code",
      "metadata": {
        "id": "tDQlrjtqNF0m"
      },
      "source": [
        "if bam:\n",
        "  # Convert to fastq\n",
        "  !./bamtofastq-1.2.0 --reads-per-fastq=500000000 $bam_filename ./fastqs\\\n",
        "\n",
        "  # Remove original bam file to save space\n",
        "  !rm $bam_filename\n"
      ],
      "execution_count": 18,
      "outputs": []
    },
    {
      "cell_type": "code",
      "metadata": {
        "id": "SXRDRphvqcLe"
      },
      "source": [
        "# Store fastq names on a list\n",
        "\n",
        "if bam:\n",
        "  # cd into fastqs folder\n",
        "  %cd /content/fastqs\n",
        "\n",
        "  #store the name of the folder generated by bamtofastq\n",
        "  _filename = os.listdir()[0]\n",
        "\n",
        "  # cd into that folder\n",
        "  %cd $_filename\n",
        "\n",
        "  # store fastq names in a list\n",
        "  fastqs = os.listdir()\n",
        "\n",
        "\n",
        "  # Remove I1 and R3 reads not relevant for our analysis\n",
        "\n",
        "  # Initialize list containing elements to remove\n",
        "  remov_elem = []\n",
        "\n",
        "  print (\"\\n\\nThis is the complete list of fastqs:\\n -----------\")\n",
        "  for elem in fastqs:\n",
        "    print (elem)\n",
        "\n",
        "  # Search index (I1 or R3) fastqs and remove them from list\n",
        "  for elem in fastqs:\n",
        "    if re.search(\"_R3_\", elem) or re.search(\"_I1_\", elem):\n",
        "      remov_elem = remov_elem +[elem]\n",
        "\n",
        "  fastqs = [elem for elem in fastqs if elem not in remov_elem] \n",
        "\n",
        "  print (\"\\n\\nThis is the filtered list of fastqs:\\n -----------\")\n",
        "  for elem in fastqs:\n",
        "    print (elem)\n"
      ],
      "execution_count": 19,
      "outputs": []
    },
    {
      "cell_type": "code",
      "metadata": {
        "id": "ZnFcqcSgjLBw"
      },
      "source": [
        "# Remove fastqs that wont be analyzed to save space\n",
        "if bam:\n",
        "  for elem in remov_elem:\n",
        "    !rm $elem"
      ],
      "execution_count": 20,
      "outputs": []
    },
    {
      "cell_type": "code",
      "metadata": {
        "id": "FLVS8aB7Dm6J"
      },
      "source": [
        "if bam:\n",
        "  # sort fastqs alphabetically to get R1 and R2 in order\n",
        "  fastqs = sorted(fastqs)"
      ],
      "execution_count": 21,
      "outputs": []
    },
    {
      "cell_type": "code",
      "metadata": {
        "id": "FE9gWbQgpBfR",
        "outputId": "94f680e0-dc97-4fc4-e013-7aae17e06918",
        "colab": {
          "base_uri": "https://localhost:8080/"
        }
      },
      "source": [
        "# wget fastqs from non ffq links in fastqs folder\n",
        "if not bam and not fastq_ffqlinks:\n",
        "  !mkdir fastqs\n",
        "  %cd fastqs\n",
        "  while len(os.listdir()) != len(fastqs):\n",
        "    for link in fastqs:\n",
        "      !wget $link --continue\n",
        "\n",
        "  # update fastqs variable with name of files\n",
        "  fastqs = sorted(os.listdir())"
      ],
      "execution_count": 22,
      "outputs": [
        {
          "output_type": "stream",
          "text": [
            "/content/fastqs/fastqs\n",
            "--2021-05-05 10:31:46--  ftp://download.big.ac.cn/gsa3/CRA002497/CRR126575/CRR126575_f1.fastq.gz\n",
            "           => ‘CRR126575_f1.fastq.gz’\n",
            "Resolving download.big.ac.cn (download.big.ac.cn)... 124.16.164.229\n",
            "Connecting to download.big.ac.cn (download.big.ac.cn)|124.16.164.229|:21... connected.\n",
            "Logging in as anonymous ... Logged in!\n",
            "==> SYST ... done.    ==> PWD ... done.\n",
            "==> TYPE I ... done.  ==> CWD (1) /gsa3/CRA002497/CRR126575 ... done.\n",
            "==> SIZE CRR126575_f1.fastq.gz ... 1892258751\n",
            "==> PASV ... done.    ==> RETR CRR126575_f1.fastq.gz ... done.\n",
            "Length: 1892258751 (1.8G) (unauthoritative)\n",
            "\n",
            "CRR126575_f1.fastq. 100%[===================>]   1.76G  16.4MB/s    in 1m 53s  \n",
            "\n",
            "2021-05-05 10:33:41 (16.0 MB/s) - ‘CRR126575_f1.fastq.gz’ saved [1892258751]\n",
            "\n",
            "--2021-05-05 10:33:41--  ftp://download.big.ac.cn/gsa3/CRA002497/CRR126575/CRR126575_r2.fastq.gz\n",
            "           => ‘CRR126575_r2.fastq.gz’\n",
            "Resolving download.big.ac.cn (download.big.ac.cn)... 124.16.164.229\n",
            "Connecting to download.big.ac.cn (download.big.ac.cn)|124.16.164.229|:21... connected.\n",
            "Logging in as anonymous ... Logged in!\n",
            "==> SYST ... done.    ==> PWD ... done.\n",
            "==> TYPE I ... done.  ==> CWD (1) /gsa3/CRA002497/CRR126575 ... done.\n",
            "==> SIZE CRR126575_r2.fastq.gz ... 6846659768\n",
            "==> PASV ... done.    ==> RETR CRR126575_r2.fastq.gz ... done.\n",
            "Length: 6846659768 (6.4G) (unauthoritative)\n",
            "\n",
            "CRR126575_r2.fastq. 100%[===================>]   6.38G  13.4MB/s    in 7m 49s  \n",
            "\n",
            "2021-05-05 10:41:33 (13.9 MB/s) - ‘CRR126575_r2.fastq.gz’ saved [6846659768]\n",
            "\n",
            "--2021-05-05 10:41:33--  ftp://download.big.ac.cn/gsa3/CRA002497/CRR126576/CRR126576_f1.fastq.gz\n",
            "           => ‘CRR126576_f1.fastq.gz’\n",
            "Resolving download.big.ac.cn (download.big.ac.cn)... 124.16.164.229\n",
            "Connecting to download.big.ac.cn (download.big.ac.cn)|124.16.164.229|:21... connected.\n",
            "Logging in as anonymous ... Logged in!\n",
            "==> SYST ... done.    ==> PWD ... done.\n",
            "==> TYPE I ... done.  ==> CWD (1) /gsa3/CRA002497/CRR126576 ... done.\n",
            "==> SIZE CRR126576_f1.fastq.gz ... 3156812188\n",
            "==> PASV ... done.    ==> RETR CRR126576_f1.fastq.gz ... done.\n",
            "Length: 3156812188 (2.9G) (unauthoritative)\n",
            "\n",
            "CRR126576_f1.fastq. 100%[===================>]   2.94G  16.2MB/s    in 3m 7s   \n",
            "\n",
            "2021-05-05 10:44:42 (16.1 MB/s) - ‘CRR126576_f1.fastq.gz’ saved [3156812188]\n",
            "\n",
            "--2021-05-05 10:44:43--  ftp://download.big.ac.cn/gsa3/CRA002497/CRR126576/CRR126576_r2.fastq.gz\n",
            "           => ‘CRR126576_r2.fastq.gz’\n",
            "Resolving download.big.ac.cn (download.big.ac.cn)... 124.16.164.229\n",
            "Connecting to download.big.ac.cn (download.big.ac.cn)|124.16.164.229|:21... connected.\n",
            "Logging in as anonymous ... Logged in!\n",
            "==> SYST ... done.    ==> PWD ... done.\n",
            "==> TYPE I ... done.  ==> CWD (1) /gsa3/CRA002497/CRR126576 ... done.\n",
            "==> SIZE CRR126576_r2.fastq.gz ... 11470801231\n",
            "==> PASV ... done.    ==> RETR CRR126576_r2.fastq.gz ... done.\n",
            "Length: 11470801231 (11G) (unauthoritative)\n",
            "\n",
            "CRR126576_r2.fastq. 100%[===================>]  10.68G  14.6MB/s    in 13m 39s \n",
            "\n",
            "2021-05-05 10:58:24 (13.4 MB/s) - Control connection closed.\n",
            "Retrying.\n",
            "\n",
            "--2021-05-05 11:13:25--  ftp://download.big.ac.cn/gsa3/CRA002497/CRR126576/CRR126576_r2.fastq.gz\n",
            "  (try: 2) => ‘CRR126576_r2.fastq.gz’\n",
            "Connecting to download.big.ac.cn (download.big.ac.cn)|124.16.164.229|:21... connected.\n",
            "Logging in as anonymous ... Logged in!\n",
            "==> SYST ... done.    ==> PWD ... done.\n",
            "==> TYPE I ... done.  ==> CWD (1) /gsa3/CRA002497/CRR126576 ... done.\n",
            "==> SIZE CRR126576_r2.fastq.gz ... 11470801231\n",
            "File has already been retrieved.\n",
            "2021-05-05 11:13:27 (0.00 B/s) - ‘CRR126576_r2.fastq.gz’ saved [11470801231]\n",
            "\n",
            "--2021-05-05 11:13:27--  ftp://download.big.ac.cn/gsa3/CRA002497/CRR126577/CRR126577_f1.fastq.gz\n",
            "           => ‘CRR126577_f1.fastq.gz’\n",
            "Resolving download.big.ac.cn (download.big.ac.cn)... 124.16.164.229\n",
            "Connecting to download.big.ac.cn (download.big.ac.cn)|124.16.164.229|:21... connected.\n",
            "Logging in as anonymous ... Logged in!\n",
            "==> SYST ... done.    ==> PWD ... done.\n",
            "==> TYPE I ... done.  ==> CWD (1) /gsa3/CRA002497/CRR126577 ... done.\n",
            "==> SIZE CRR126577_f1.fastq.gz ... 2845593147\n",
            "==> PASV ... done.    ==> RETR CRR126577_f1.fastq.gz ... done.\n",
            "Length: 2845593147 (2.6G) (unauthoritative)\n",
            "\n",
            "CRR126577_f1.fastq. 100%[===================>]   2.65G  16.3MB/s    in 2m 49s  \n",
            "\n",
            "2021-05-05 11:16:19 (16.1 MB/s) - ‘CRR126577_f1.fastq.gz’ saved [2845593147]\n",
            "\n",
            "--2021-05-05 11:16:19--  ftp://download.big.ac.cn/gsa3/CRA002497/CRR126577/CRR126577_r2.fastq.gz\n",
            "           => ‘CRR126577_r2.fastq.gz’\n",
            "Resolving download.big.ac.cn (download.big.ac.cn)... 124.16.164.229\n",
            "Connecting to download.big.ac.cn (download.big.ac.cn)|124.16.164.229|:21... connected.\n",
            "Logging in as anonymous ... Logged in!\n",
            "==> SYST ... done.    ==> PWD ... done.\n",
            "==> TYPE I ... done.  ==> CWD (1) /gsa3/CRA002497/CRR126577 ... done.\n",
            "==> SIZE CRR126577_r2.fastq.gz ... 10556936767\n",
            "==> PASV ... done.    ==> RETR CRR126577_r2.fastq.gz ... done.\n",
            "Length: 10556936767 (9.8G) (unauthoritative)\n",
            "\n",
            "CRR126577_r2.fastq. 100%[===================>]   9.83G  10.9MB/s    in 13m 43s \n",
            "\n",
            "2021-05-05 11:30:04 (12.2 MB/s) - Control connection closed.\n",
            "Retrying.\n",
            "\n",
            "--2021-05-05 11:45:05--  ftp://download.big.ac.cn/gsa3/CRA002497/CRR126577/CRR126577_r2.fastq.gz\n",
            "  (try: 2) => ‘CRR126577_r2.fastq.gz’\n",
            "Connecting to download.big.ac.cn (download.big.ac.cn)|124.16.164.229|:21... connected.\n",
            "Logging in as anonymous ... Logged in!\n",
            "==> SYST ... done.    ==> PWD ... done.\n",
            "==> TYPE I ... done.  ==> CWD (1) /gsa3/CRA002497/CRR126577 ... done.\n",
            "==> SIZE CRR126577_r2.fastq.gz ... 10556936767\n",
            "File has already been retrieved.\n",
            "2021-05-05 11:45:07 (0.00 B/s) - ‘CRR126577_r2.fastq.gz’ saved [10556936767]\n",
            "\n",
            "--2021-05-05 11:45:07--  ftp://download.big.ac.cn/gsa3/CRA002497/CRR126578/CRR126578_f1.fastq.gz\n",
            "           => ‘CRR126578_f1.fastq.gz’\n",
            "Resolving download.big.ac.cn (download.big.ac.cn)... 124.16.164.229\n",
            "Connecting to download.big.ac.cn (download.big.ac.cn)|124.16.164.229|:21... connected.\n",
            "Logging in as anonymous ... Logged in!\n",
            "==> SYST ... done.    ==> PWD ... done.\n",
            "==> TYPE I ... done.  ==> CWD (1) /gsa3/CRA002497/CRR126578 ... done.\n",
            "==> SIZE CRR126578_f1.fastq.gz ... 2823408924\n",
            "==> PASV ... done.    ==> RETR CRR126578_f1.fastq.gz ... done.\n",
            "Length: 2823408924 (2.6G) (unauthoritative)\n",
            "\n",
            "CRR126578_f1.fastq. 100%[===================>]   2.63G  14.1MB/s    in 3m 18s  \n",
            "\n",
            "2021-05-05 11:48:27 (13.6 MB/s) - ‘CRR126578_f1.fastq.gz’ saved [2823408924]\n",
            "\n",
            "--2021-05-05 11:48:27--  ftp://download.big.ac.cn/gsa3/CRA002497/CRR126578/CRR126578_r2.fastq.gz\n",
            "           => ‘CRR126578_r2.fastq.gz’\n",
            "Resolving download.big.ac.cn (download.big.ac.cn)... 124.16.164.229\n",
            "Connecting to download.big.ac.cn (download.big.ac.cn)|124.16.164.229|:21... connected.\n",
            "Logging in as anonymous ... Logged in!\n",
            "==> SYST ... done.    ==> PWD ... done.\n",
            "==> TYPE I ... done.  ==> CWD (1) /gsa3/CRA002497/CRR126578 ... done.\n",
            "==> SIZE CRR126578_r2.fastq.gz ... 10256622814\n",
            "==> PASV ... done.    ==> RETR CRR126578_r2.fastq.gz ... done.\n",
            "Length: 10256622814 (9.6G) (unauthoritative)\n",
            "\n",
            "CRR126578_r2.fastq. 100%[===================>]   9.55G  16.4MB/s    in 10m 0s  \n",
            "\n",
            "2021-05-05 11:58:30 (16.3 MB/s) - ‘CRR126578_r2.fastq.gz’ saved [10256622814]\n",
            "\n",
            "--2021-05-05 11:58:31--  ftp://download.big.ac.cn/gsa3/CRA002497/CRR126579/CRR126579_f1.fastq.gz\n",
            "           => ‘CRR126579_f1.fastq.gz’\n",
            "Resolving download.big.ac.cn (download.big.ac.cn)... 124.16.164.229\n",
            "Connecting to download.big.ac.cn (download.big.ac.cn)|124.16.164.229|:21... connected.\n",
            "Logging in as anonymous ... Logged in!\n",
            "==> SYST ... done.    ==> PWD ... done.\n",
            "==> TYPE I ... done.  ==> CWD (1) /gsa3/CRA002497/CRR126579 ... done.\n",
            "==> SIZE CRR126579_f1.fastq.gz ... 1246276998\n",
            "==> PASV ... done.    ==> RETR CRR126579_f1.fastq.gz ... done.\n",
            "Length: 1246276998 (1.2G) (unauthoritative)\n",
            "\n",
            "CRR126579_f1.fastq. 100%[===================>]   1.16G  12.6MB/s    in 89s     \n",
            "\n",
            "2021-05-05 12:00:02 (13.4 MB/s) - ‘CRR126579_f1.fastq.gz’ saved [1246276998]\n",
            "\n",
            "--2021-05-05 12:00:02--  ftp://download.big.ac.cn/gsa3/CRA002497/CRR126579/CRR126579_r2.fastq.gz\n",
            "           => ‘CRR126579_r2.fastq.gz’\n",
            "Resolving download.big.ac.cn (download.big.ac.cn)... 124.16.164.229\n",
            "Connecting to download.big.ac.cn (download.big.ac.cn)|124.16.164.229|:21... connected.\n",
            "Logging in as anonymous ... Logged in!\n",
            "==> SYST ... done.    ==> PWD ... done.\n",
            "==> TYPE I ... done.  ==> CWD (1) /gsa3/CRA002497/CRR126579 ... done.\n",
            "==> SIZE CRR126579_r2.fastq.gz ... 1260238859\n",
            "==> PASV ... done.    ==> RETR CRR126579_r2.fastq.gz ... done.\n",
            "Length: 1260238859 (1.2G) (unauthoritative)\n",
            "\n",
            "CRR126579_r2.fastq. 100%[===================>]   1.17G  12.9MB/s    in 87s     \n",
            "\n",
            "2021-05-05 12:01:32 (13.8 MB/s) - ‘CRR126579_r2.fastq.gz’ saved [1260238859]\n",
            "\n",
            "--2021-05-05 12:01:32--  ftp://download.big.ac.cn/gsa3/CRA002497/CRR126580/CRR126580_f1.fastq.gz\n",
            "           => ‘CRR126580_f1.fastq.gz’\n",
            "Resolving download.big.ac.cn (download.big.ac.cn)... 124.16.164.229\n",
            "Connecting to download.big.ac.cn (download.big.ac.cn)|124.16.164.229|:21... connected.\n",
            "Logging in as anonymous ... Logged in!\n",
            "==> SYST ... done.    ==> PWD ... done.\n",
            "==> TYPE I ... done.  ==> CWD (1) /gsa3/CRA002497/CRR126580 ... done.\n",
            "==> SIZE CRR126580_f1.fastq.gz ... 1171419953\n",
            "==> PASV ... done.    ==> RETR CRR126580_f1.fastq.gz ... done.\n",
            "Length: 1171419953 (1.1G) (unauthoritative)\n",
            "\n",
            "CRR126580_f1.fastq. 100%[===================>]   1.09G  16.4MB/s    in 70s     \n",
            "\n",
            "2021-05-05 12:02:45 (15.9 MB/s) - ‘CRR126580_f1.fastq.gz’ saved [1171419953]\n",
            "\n",
            "--2021-05-05 12:02:45--  ftp://download.big.ac.cn/gsa3/CRA002497/CRR126580/CRR126580_r2.fastq.gz\n",
            "           => ‘CRR126580_r2.fastq.gz’\n",
            "Resolving download.big.ac.cn (download.big.ac.cn)... 124.16.164.229\n",
            "Connecting to download.big.ac.cn (download.big.ac.cn)|124.16.164.229|:21... connected.\n",
            "Logging in as anonymous ... Logged in!\n",
            "==> SYST ... done.    ==> PWD ... done.\n",
            "==> TYPE I ... done.  ==> CWD (1) /gsa3/CRA002497/CRR126580 ... done.\n",
            "==> SIZE CRR126580_r2.fastq.gz ... 1186116427\n",
            "==> PASV ... done.    ==> RETR CRR126580_r2.fastq.gz ... done.\n",
            "Length: 1186116427 (1.1G) (unauthoritative)\n",
            "\n",
            "CRR126580_r2.fastq. 100%[===================>]   1.10G  16.4MB/s    in 96s     \n",
            "\n",
            "2021-05-05 12:04:23 (11.8 MB/s) - ‘CRR126580_r2.fastq.gz’ saved [1186116427]\n",
            "\n",
            "--2021-05-05 12:04:23--  ftp://download.big.ac.cn/gsa3/CRA002497/CRR126581/CRR126581_f1.fastq.gz\n",
            "           => ‘CRR126581_f1.fastq.gz’\n",
            "Resolving download.big.ac.cn (download.big.ac.cn)... 124.16.164.229\n",
            "Connecting to download.big.ac.cn (download.big.ac.cn)|124.16.164.229|:21... connected.\n",
            "Logging in as anonymous ... Logged in!\n",
            "==> SYST ... done.    ==> PWD ... done.\n",
            "==> TYPE I ... done.  ==> CWD (1) /gsa3/CRA002497/CRR126581 ... done.\n",
            "==> SIZE CRR126581_f1.fastq.gz ... 1979261724\n",
            "==> PASV ... done.    ==> RETR CRR126581_f1.fastq.gz ... done.\n",
            "Length: 1979261724 (1.8G) (unauthoritative)\n",
            "\n",
            "CRR126581_f1.fastq. 100%[===================>]   1.84G  16.2MB/s    in 1m 58s  \n",
            "\n",
            "2021-05-05 12:06:23 (16.1 MB/s) - ‘CRR126581_f1.fastq.gz’ saved [1979261724]\n",
            "\n",
            "--2021-05-05 12:06:23--  ftp://download.big.ac.cn/gsa3/CRA002497/CRR126581/CRR126581_r2.fastq.gz\n",
            "           => ‘CRR126581_r2.fastq.gz’\n",
            "Resolving download.big.ac.cn (download.big.ac.cn)... 124.16.164.229\n",
            "Connecting to download.big.ac.cn (download.big.ac.cn)|124.16.164.229|:21... connected.\n",
            "Logging in as anonymous ... Logged in!\n",
            "==> SYST ... done.    ==> PWD ... done.\n",
            "==> TYPE I ... done.  ==> CWD (1) /gsa3/CRA002497/CRR126581 ... done.\n",
            "==> SIZE CRR126581_r2.fastq.gz ... 1986633122\n",
            "==> PASV ... done.    ==> RETR CRR126581_r2.fastq.gz ... done.\n",
            "Length: 1986633122 (1.8G) (unauthoritative)\n",
            "\n",
            "CRR126581_r2.fastq. 100%[===================>]   1.85G  13.5MB/s    in 2m 19s  \n",
            "\n",
            "2021-05-05 12:08:45 (13.7 MB/s) - ‘CRR126581_r2.fastq.gz’ saved [1986633122]\n",
            "\n",
            "--2021-05-05 12:08:46--  ftp://download.big.ac.cn/gsa3/CRA002497/CRR126582/CRR126582_f1.fastq.gz\n",
            "           => ‘CRR126582_f1.fastq.gz’\n",
            "Resolving download.big.ac.cn (download.big.ac.cn)... 124.16.164.229\n",
            "Connecting to download.big.ac.cn (download.big.ac.cn)|124.16.164.229|:21... connected.\n",
            "Logging in as anonymous ... Logged in!\n",
            "==> SYST ... done.    ==> PWD ... done.\n",
            "==> TYPE I ... done.  ==> CWD (1) /gsa3/CRA002497/CRR126582 ... done.\n",
            "==> SIZE CRR126582_f1.fastq.gz ... 1727291379\n",
            "==> PASV ... done.    ==> RETR CRR126582_f1.fastq.gz ... done.\n",
            "Length: 1727291379 (1.6G) (unauthoritative)\n",
            "\n",
            "CRR126582_f1.fastq. 100%[===================>]   1.61G  13.5MB/s    in 2m 0s   \n",
            "\n",
            "2021-05-05 12:10:49 (13.8 MB/s) - ‘CRR126582_f1.fastq.gz’ saved [1727291379]\n",
            "\n",
            "--2021-05-05 12:10:49--  ftp://download.big.ac.cn/gsa3/CRA002497/CRR126582/CRR126582_r2.fastq.gz\n",
            "           => ‘CRR126582_r2.fastq.gz’\n",
            "Resolving download.big.ac.cn (download.big.ac.cn)... 124.16.164.229\n",
            "Connecting to download.big.ac.cn (download.big.ac.cn)|124.16.164.229|:21... connected.\n",
            "Logging in as anonymous ... Logged in!\n",
            "==> SYST ... done.    ==> PWD ... done.\n",
            "==> TYPE I ... done.  ==> CWD (1) /gsa3/CRA002497/CRR126582 ... done.\n",
            "==> SIZE CRR126582_r2.fastq.gz ... 1717260989\n",
            "==> PASV ... done.    ==> RETR CRR126582_r2.fastq.gz ... done.\n",
            "Length: 1717260989 (1.6G) (unauthoritative)\n",
            "\n",
            "CRR126582_r2.fastq. 100%[===================>]   1.60G  15.2MB/s    in 1m 58s  \n",
            "\n",
            "2021-05-05 12:12:50 (13.9 MB/s) - ‘CRR126582_r2.fastq.gz’ saved [1717260989]\n",
            "\n",
            "--2021-05-05 12:12:50--  ftp://download.big.ac.cn/gsa3/CRA002497/CRR126583/CRR126583_f1.fastq.gz\n",
            "           => ‘CRR126583_f1.fastq.gz’\n",
            "Resolving download.big.ac.cn (download.big.ac.cn)... 124.16.164.229\n",
            "Connecting to download.big.ac.cn (download.big.ac.cn)|124.16.164.229|:21... connected.\n",
            "Logging in as anonymous ... Logged in!\n",
            "==> SYST ... done.    ==> PWD ... done.\n",
            "==> TYPE I ... done.  ==> CWD (1) /gsa3/CRA002497/CRR126583 ... done.\n",
            "==> SIZE CRR126583_f1.fastq.gz ... 2253173116\n",
            "==> PASV ... done.    ==> RETR CRR126583_f1.fastq.gz ... done.\n",
            "Length: 2253173116 (2.1G) (unauthoritative)\n",
            "\n",
            "CRR126583_f1.fastq. 100%[===================>]   2.10G  16.2MB/s    in 2m 14s  \n",
            "\n",
            "2021-05-05 12:15:11 (16.0 MB/s) - ‘CRR126583_f1.fastq.gz’ saved [2253173116]\n",
            "\n",
            "--2021-05-05 12:15:11--  ftp://download.big.ac.cn/gsa3/CRA002497/CRR126583/CRR126583_r2.fastq.gz\n",
            "           => ‘CRR126583_r2.fastq.gz’\n",
            "Resolving download.big.ac.cn (download.big.ac.cn)... 124.16.164.229\n",
            "Connecting to download.big.ac.cn (download.big.ac.cn)|124.16.164.229|:21... connected.\n",
            "Logging in as anonymous ... Logged in!\n",
            "==> SYST ... done.    ==> PWD ... done.\n",
            "==> TYPE I ... done.  ==> CWD (1) /gsa3/CRA002497/CRR126583 ... done.\n",
            "==> SIZE CRR126583_r2.fastq.gz ... 2374983039\n",
            "==> PASV ... done.    ==> RETR CRR126583_r2.fastq.gz ... done.\n",
            "Length: 2374983039 (2.2G) (unauthoritative)\n",
            "\n",
            "CRR126583_r2.fastq. 100%[===================>]   2.21G  13.7MB/s    in 2m 41s  \n",
            "\n",
            "2021-05-05 12:17:54 (14.1 MB/s) - ‘CRR126583_r2.fastq.gz’ saved [2374983039]\n",
            "\n",
            "--2021-05-05 12:17:55--  ftp://download.big.ac.cn/gsa3/CRA002497/CRR126584/CRR126584_f1.fastq.gz\n",
            "           => ‘CRR126584_f1.fastq.gz’\n",
            "Resolving download.big.ac.cn (download.big.ac.cn)... 124.16.164.229\n",
            "Connecting to download.big.ac.cn (download.big.ac.cn)|124.16.164.229|:21... connected.\n",
            "Logging in as anonymous ... Logged in!\n",
            "==> SYST ... done.    ==> PWD ... done.\n",
            "==> TYPE I ... done.  ==> CWD (1) /gsa3/CRA002497/CRR126584 ... done.\n",
            "==> SIZE CRR126584_f1.fastq.gz ... 1337836797\n",
            "==> PASV ... done.    ==> RETR CRR126584_f1.fastq.gz ... done.\n",
            "Length: 1337836797 (1.2G) (unauthoritative)\n",
            "\n",
            "CRR126584_f1.fastq. 100%[===================>]   1.25G  16.3MB/s    in 80s     \n",
            "\n",
            "2021-05-05 12:19:18 (15.9 MB/s) - ‘CRR126584_f1.fastq.gz’ saved [1337836797]\n",
            "\n",
            "--2021-05-05 12:19:18--  ftp://download.big.ac.cn/gsa3/CRA002497/CRR126584/CRR126584_r2.fastq.gz\n",
            "           => ‘CRR126584_r2.fastq.gz’\n",
            "Resolving download.big.ac.cn (download.big.ac.cn)... 124.16.164.229\n",
            "Connecting to download.big.ac.cn (download.big.ac.cn)|124.16.164.229|:21... connected.\n",
            "Logging in as anonymous ... Logged in!\n",
            "==> SYST ... done.    ==> PWD ... done.\n",
            "==> TYPE I ... done.  ==> CWD (1) /gsa3/CRA002497/CRR126584 ... done.\n",
            "==> SIZE CRR126584_r2.fastq.gz ... 1414814279\n",
            "==> PASV ... done.    ==> RETR CRR126584_r2.fastq.gz ... done.\n",
            "Length: 1414814279 (1.3G) (unauthoritative)\n",
            "\n",
            "CRR126584_r2.fastq. 100%[===================>]   1.32G  16.4MB/s    in 84s     \n",
            "\n",
            "2021-05-05 12:20:45 (16.0 MB/s) - ‘CRR126584_r2.fastq.gz’ saved [1414814279]\n",
            "\n",
            "--2021-05-05 12:20:45--  ftp://download.big.ac.cn/gsa3/CRA002497/CRR126585/CRR126585_f1.fastq.gz\n",
            "           => ‘CRR126585_f1.fastq.gz’\n",
            "Resolving download.big.ac.cn (download.big.ac.cn)... 124.16.164.229\n",
            "Connecting to download.big.ac.cn (download.big.ac.cn)|124.16.164.229|:21... connected.\n",
            "Logging in as anonymous ... Logged in!\n",
            "==> SYST ... done.    ==> PWD ... done.\n",
            "==> TYPE I ... done.  ==> CWD (1) /gsa3/CRA002497/CRR126585 ... done.\n",
            "==> SIZE CRR126585_f1.fastq.gz ... 1461231177\n",
            "==> PASV ... done.    ==> RETR CRR126585_f1.fastq.gz ... done.\n",
            "Length: 1461231177 (1.4G) (unauthoritative)\n",
            "\n",
            "CRR126585_f1.fastq. 100%[===================>]   1.36G  16.1MB/s    in 1m 40s  \n",
            "\n",
            "2021-05-05 12:22:27 (13.9 MB/s) - ‘CRR126585_f1.fastq.gz’ saved [1461231177]\n",
            "\n",
            "--2021-05-05 12:22:28--  ftp://download.big.ac.cn/gsa3/CRA002497/CRR126585/CRR126585_r2.fastq.gz\n",
            "           => ‘CRR126585_r2.fastq.gz’\n",
            "Resolving download.big.ac.cn (download.big.ac.cn)... 124.16.164.229\n",
            "Connecting to download.big.ac.cn (download.big.ac.cn)|124.16.164.229|:21... connected.\n",
            "Logging in as anonymous ... Logged in!\n",
            "==> SYST ... done.    ==> PWD ... done.\n",
            "==> TYPE I ... done.  ==> CWD (1) /gsa3/CRA002497/CRR126585 ... done.\n",
            "==> SIZE CRR126585_r2.fastq.gz ... 1552759318\n",
            "==> PASV ... done.    ==> RETR CRR126585_r2.fastq.gz ... done.\n",
            "Length: 1552759318 (1.4G) (unauthoritative)\n",
            "\n",
            "CRR126585_r2.fastq. 100%[===================>]   1.45G  16.4MB/s    in 93s     \n",
            "\n",
            "2021-05-05 12:24:03 (15.9 MB/s) - ‘CRR126585_r2.fastq.gz’ saved [1552759318]\n",
            "\n",
            "--2021-05-05 12:24:03--  ftp://download.big.ac.cn/gsa3/CRA002497/CRR126586/CRR126586_f1.fastq.gz\n",
            "           => ‘CRR126586_f1.fastq.gz’\n",
            "Resolving download.big.ac.cn (download.big.ac.cn)... 124.16.164.229\n",
            "Connecting to download.big.ac.cn (download.big.ac.cn)|124.16.164.229|:21... connected.\n",
            "Logging in as anonymous ... Logged in!\n",
            "==> SYST ... done.    ==> PWD ... done.\n",
            "==> TYPE I ... done.  ==> CWD (1) /gsa3/CRA002497/CRR126586 ... done.\n",
            "==> SIZE CRR126586_f1.fastq.gz ... 1345898626\n",
            "==> PASV ... done.    ==> RETR CRR126586_f1.fastq.gz ... done.\n",
            "Length: 1345898626 (1.3G) (unauthoritative)\n",
            "\n",
            "CRR126586_f1.fastq. 100%[===================>]   1.25G  16.4MB/s    in 80s     \n",
            "\n",
            "2021-05-05 12:25:26 (16.0 MB/s) - ‘CRR126586_f1.fastq.gz’ saved [1345898626]\n",
            "\n",
            "--2021-05-05 12:25:26--  ftp://download.big.ac.cn/gsa3/CRA002497/CRR126586/CRR126586_r2.fastq.gz\n",
            "           => ‘CRR126586_r2.fastq.gz’\n",
            "Resolving download.big.ac.cn (download.big.ac.cn)... 124.16.164.229\n",
            "Connecting to download.big.ac.cn (download.big.ac.cn)|124.16.164.229|:21... connected.\n",
            "Logging in as anonymous ... Logged in!\n",
            "==> SYST ... done.    ==> PWD ... done.\n",
            "==> TYPE I ... done.  ==> CWD (1) /gsa3/CRA002497/CRR126586 ... done.\n",
            "==> SIZE CRR126586_r2.fastq.gz ... 1416677199\n",
            "==> PASV ... done.    ==> RETR CRR126586_r2.fastq.gz ... done.\n",
            "Length: 1416677199 (1.3G) (unauthoritative)\n",
            "\n",
            "CRR126586_r2.fastq. 100%[===================>]   1.32G  15.7MB/s    in 99s     \n",
            "\n",
            "2021-05-05 12:27:08 (13.6 MB/s) - ‘CRR126586_r2.fastq.gz’ saved [1416677199]\n",
            "\n"
          ],
          "name": "stdout"
        }
      ]
    },
    {
      "cell_type": "code",
      "metadata": {
        "colab": {
          "base_uri": "https://localhost:8080/"
        },
        "id": "PC9oETW1pE9t",
        "outputId": "13dc1221-c60a-4a83-cef4-2f238e4387aa"
      },
      "source": [
        "if bam:\n",
        "  # Download the corresponding Kallisto index to folder containing fastqs\n",
        "  !kb ref -d $species_kb -i index.idx -g t2g.txt -f1 transcriptome.fasta\n",
        "\n",
        "if not bam and fastq_ffqlinks:\n",
        "  %cd /content\n",
        "\n",
        "  # Download the corresponding Kallisto index to content folder\n",
        "  !kb ref -d $species_kb -i index.idx -g t2g.txt -f1 transcriptome.fasta\n",
        "\n",
        "if not bam and not fastq_ffqlinks:\n",
        "  %cd /content/fastqs\n",
        "\n",
        "  # Download the corresponding Kallisto index to fastq folder\n",
        "  !kb ref -d $species_kb -i index.idx -g t2g.txt -f1 transcriptome.fasta"
      ],
      "execution_count": 23,
      "outputs": [
        {
          "output_type": "stream",
          "text": [
            "/content/fastqs\n",
            "[2021-05-05 12:27:11,853]    INFO Downloading files for human from https://caltech.box.com/shared/static/v1nm7lpnqz5syh8dyzdk2zs8bglncfib.gz to tmp/v1nm7lpnqz5syh8dyzdk2zs8bglncfib.gz\n",
            "100% 2.23G/2.23G [01:45<00:00, 22.6MB/s]\n",
            "[2021-05-05 12:28:58,981]    INFO Extracting files from tmp/v1nm7lpnqz5syh8dyzdk2zs8bglncfib.gz\n"
          ],
          "name": "stdout"
        }
      ]
    },
    {
      "cell_type": "code",
      "metadata": {
        "colab": {
          "base_uri": "https://localhost:8080/"
        },
        "id": "vHVNa51Cp9Nr",
        "outputId": "e351841b-1c0a-4410-91a4-e12300f5bf28"
      },
      "source": [
        "# Check to make sure the metadata is in the right order after sorting\n",
        "print(fastqs)"
      ],
      "execution_count": 24,
      "outputs": [
        {
          "output_type": "stream",
          "text": [
            "['CRR126575_f1.fastq.gz', 'CRR126575_r2.fastq.gz', 'CRR126576_f1.fastq.gz', 'CRR126576_r2.fastq.gz', 'CRR126577_f1.fastq.gz', 'CRR126577_r2.fastq.gz', 'CRR126578_f1.fastq.gz', 'CRR126578_r2.fastq.gz', 'CRR126579_f1.fastq.gz', 'CRR126579_r2.fastq.gz', 'CRR126580_f1.fastq.gz', 'CRR126580_r2.fastq.gz', 'CRR126581_f1.fastq.gz', 'CRR126581_r2.fastq.gz', 'CRR126582_f1.fastq.gz', 'CRR126582_r2.fastq.gz', 'CRR126583_f1.fastq.gz', 'CRR126583_r2.fastq.gz', 'CRR126584_f1.fastq.gz', 'CRR126584_r2.fastq.gz', 'CRR126585_f1.fastq.gz', 'CRR126585_r2.fastq.gz', 'CRR126586_f1.fastq.gz', 'CRR126586_r2.fastq.gz']\n"
          ],
          "name": "stdout"
        }
      ]
    },
    {
      "cell_type": "markdown",
      "metadata": {
        "id": "VInyuq1Dp7iz"
      },
      "source": [
        "# Process fastq files (modify kb command according to fastqs list)\n"
      ]
    },
    {
      "cell_type": "code",
      "metadata": {
        "colab": {
          "base_uri": "https://localhost:8080/"
        },
        "id": "OcqtBuH-pRaX",
        "outputId": "a76564d5-3655-4572-dbc9-010c7e116851"
      },
      "source": [
        "fastqs"
      ],
      "execution_count": 25,
      "outputs": [
        {
          "output_type": "execute_result",
          "data": {
            "text/plain": [
              "['CRR126575_f1.fastq.gz',\n",
              " 'CRR126575_r2.fastq.gz',\n",
              " 'CRR126576_f1.fastq.gz',\n",
              " 'CRR126576_r2.fastq.gz',\n",
              " 'CRR126577_f1.fastq.gz',\n",
              " 'CRR126577_r2.fastq.gz',\n",
              " 'CRR126578_f1.fastq.gz',\n",
              " 'CRR126578_r2.fastq.gz',\n",
              " 'CRR126579_f1.fastq.gz',\n",
              " 'CRR126579_r2.fastq.gz',\n",
              " 'CRR126580_f1.fastq.gz',\n",
              " 'CRR126580_r2.fastq.gz',\n",
              " 'CRR126581_f1.fastq.gz',\n",
              " 'CRR126581_r2.fastq.gz',\n",
              " 'CRR126582_f1.fastq.gz',\n",
              " 'CRR126582_r2.fastq.gz',\n",
              " 'CRR126583_f1.fastq.gz',\n",
              " 'CRR126583_r2.fastq.gz',\n",
              " 'CRR126584_f1.fastq.gz',\n",
              " 'CRR126584_r2.fastq.gz',\n",
              " 'CRR126585_f1.fastq.gz',\n",
              " 'CRR126585_r2.fastq.gz',\n",
              " 'CRR126586_f1.fastq.gz',\n",
              " 'CRR126586_r2.fastq.gz']"
            ]
          },
          "metadata": {
            "tags": []
          },
          "execution_count": 25
        }
      ]
    },
    {
      "cell_type": "code",
      "metadata": {
        "colab": {
          "base_uri": "https://localhost:8080/"
        },
        "id": "5qFzPj-0kZTi",
        "outputId": "67488c2b-ea8f-4f5c-ec3f-fc8b61c924e5"
      },
      "source": [
        "# Specify the sample number and whether they are paired-ended\n",
        "\n",
        "\n",
        "if no_samples == 1:\n",
        "\n",
        "  # Write the kb count command as a string with all fastqs of the list as an input\n",
        "  cmd = \"kb count --h5ad -i index.idx -g t2g.txt -x \" + technology_kb + \" -o output\" + sample_id[0] + \" \"\\\n",
        "  + \"--filter bustools -t 2 --overwrite \" + \"'\" +  \"' '\".join(fastqs) + \"'\"\n",
        "  \n",
        "  # Execute it\n",
        "  !$cmd\n",
        "\n",
        "# If more than one sample, iterate through fastqs accordingly\n",
        "else:\n",
        "\n",
        "  # Initializa counter for fastq files\n",
        "  j = 0\n",
        "\n",
        "  # Loop over samples for analysis\n",
        "  for i in range(no_samples):\n",
        "\n",
        "    fastqs_to_analyze = fastqs[j:j + fastqs_per_sample[i]]\n",
        "    # Write the kb count command as a string\n",
        "    cmd = \"kb count --h5ad -i ../index.idx -g ../t2g.txt -x \" + technology_kb + \" -o output\" + sample_id[i] + \" \\\n",
        "    --filter bustools -t 2 --overwrite \" + \"'\" +  \"' '\".join(fastqs_to_analyze) + \"'\"\n",
        "\n",
        "    # Execute it\n",
        "    !$cmd\n",
        "\n",
        "    # Update j to move to the next set of fastq\n",
        "    j = j + fastqs_per_sample[i]\n",
        "\n",
        "\n",
        "\n",
        "\n",
        "\n"
      ],
      "execution_count": 26,
      "outputs": [
        {
          "output_type": "stream",
          "text": [
            "[2021-05-05 12:29:44,035]    INFO Using index index.idx to generate BUS file to outputCRX102286 from\n",
            "[2021-05-05 12:29:44,035]    INFO         CRR126575_f1.fastq.gz\n",
            "[2021-05-05 12:29:44,035]    INFO         CRR126575_r2.fastq.gz\n",
            "[2021-05-05 12:29:44,035]    INFO         CRR126576_f1.fastq.gz\n",
            "[2021-05-05 12:29:44,035]    INFO         CRR126576_r2.fastq.gz\n",
            "[2021-05-05 12:29:44,035]    INFO         CRR126577_f1.fastq.gz\n",
            "[2021-05-05 12:29:44,035]    INFO         CRR126577_r2.fastq.gz\n",
            "[2021-05-05 12:29:44,035]    INFO         CRR126578_f1.fastq.gz\n",
            "[2021-05-05 12:29:44,035]    INFO         CRR126578_r2.fastq.gz\n",
            "[2021-05-05 12:29:44,035]    INFO         CRR126579_f1.fastq.gz\n",
            "[2021-05-05 12:29:44,035]    INFO         CRR126579_r2.fastq.gz\n",
            "[2021-05-05 12:29:44,035]    INFO         CRR126580_f1.fastq.gz\n",
            "[2021-05-05 12:29:44,035]    INFO         CRR126580_r2.fastq.gz\n",
            "[2021-05-05 12:29:44,035]    INFO         CRR126581_f1.fastq.gz\n",
            "[2021-05-05 12:29:44,036]    INFO         CRR126581_r2.fastq.gz\n",
            "[2021-05-05 12:29:44,036]    INFO         CRR126582_f1.fastq.gz\n",
            "[2021-05-05 12:29:44,036]    INFO         CRR126582_r2.fastq.gz\n",
            "[2021-05-05 12:29:44,036]    INFO         CRR126583_f1.fastq.gz\n",
            "[2021-05-05 12:29:44,036]    INFO         CRR126583_r2.fastq.gz\n",
            "[2021-05-05 12:29:44,036]    INFO         CRR126584_f1.fastq.gz\n",
            "[2021-05-05 12:29:44,036]    INFO         CRR126584_r2.fastq.gz\n",
            "[2021-05-05 12:29:44,036]    INFO         CRR126585_f1.fastq.gz\n",
            "[2021-05-05 12:29:44,036]    INFO         CRR126585_r2.fastq.gz\n",
            "[2021-05-05 12:29:44,036]    INFO         CRR126586_f1.fastq.gz\n",
            "[2021-05-05 12:29:44,036]    INFO         CRR126586_r2.fastq.gz\n",
            "[2021-05-05 15:05:27,870]    INFO Sorting BUS file outputCRX102286/output.bus to outputCRX102286/tmp/output.s.bus\n",
            "[2021-05-05 15:11:49,412]    INFO Whitelist not provided\n",
            "[2021-05-05 15:11:49,412]    INFO Copying pre-packaged 10XV2 whitelist to outputCRX102286\n",
            "[2021-05-05 15:11:49,548]    INFO Inspecting BUS file outputCRX102286/tmp/output.s.bus\n",
            "[2021-05-05 15:12:40,430]    INFO Correcting BUS records in outputCRX102286/tmp/output.s.bus to outputCRX102286/tmp/output.s.c.bus with whitelist outputCRX102286/10xv2_whitelist.txt\n",
            "[2021-05-05 15:13:38,502]    INFO Sorting BUS file outputCRX102286/tmp/output.s.c.bus to outputCRX102286/output.unfiltered.bus\n",
            "[2021-05-05 15:15:53,884]    INFO Generating count matrix outputCRX102286/counts_unfiltered/cells_x_genes from BUS file outputCRX102286/output.unfiltered.bus\n",
            "[2021-05-05 15:17:02,012]    INFO Reading matrix outputCRX102286/counts_unfiltered/cells_x_genes.mtx\n",
            "[2021-05-05 15:17:36,793]    INFO Writing matrix to h5ad outputCRX102286/counts_unfiltered/adata.h5ad\n",
            "[2021-05-05 15:17:38,164]    INFO Filtering with bustools\n",
            "[2021-05-05 15:17:38,164]    INFO Generating whitelist outputCRX102286/filter_barcodes.txt from BUS file outputCRX102286/output.unfiltered.bus\n",
            "[2021-05-05 15:17:39,478]    INFO Correcting BUS records in outputCRX102286/output.unfiltered.bus to outputCRX102286/tmp/output.unfiltered.c.bus with whitelist outputCRX102286/filter_barcodes.txt\n",
            "[2021-05-05 15:18:26,977]    INFO Sorting BUS file outputCRX102286/tmp/output.unfiltered.c.bus to outputCRX102286/output.filtered.bus\n",
            "[2021-05-05 15:19:53,923]    INFO Generating count matrix outputCRX102286/counts_filtered/cells_x_genes from BUS file outputCRX102286/output.filtered.bus\n",
            "[2021-05-05 15:20:38,374]    INFO Reading matrix outputCRX102286/counts_filtered/cells_x_genes.mtx\n",
            "[2021-05-05 15:20:58,890]    INFO Writing matrix to h5ad outputCRX102286/counts_filtered/adata.h5ad\n"
          ],
          "name": "stdout"
        }
      ]
    },
    {
      "cell_type": "markdown",
      "metadata": {
        "id": "tDijOZzrqhN2"
      },
      "source": [
        "# Load unfiltered matrix and assign filters to each matrix individually"
      ]
    },
    {
      "cell_type": "markdown",
      "metadata": {
        "id": "VkNLZh_pNFFw"
      },
      "source": [
        "## Load the unfiltered matrix (check dimensions)"
      ]
    },
    {
      "cell_type": "code",
      "metadata": {
        "id": "PppRNeV8AIyw"
      },
      "source": [
        "# Define dict to store data\n",
        "results = {}\n"
      ],
      "execution_count": 28,
      "outputs": []
    },
    {
      "cell_type": "code",
      "metadata": {
        "cellView": "both",
        "id": "pKmtGf3c_BiZ",
        "outputId": "c8dfb45f-3db0-49ff-f5a5-002fc134b485",
        "colab": {
          "base_uri": "https://localhost:8080/"
        }
      },
      "source": [
        "# load the unfiltered matrix\n",
        "for i in range(no_samples):\n",
        "  results[sample_id[i]] = anndata.read_h5ad(\"output\" + sample_id[i] + \"/counts_unfiltered/adata.h5ad\")\n",
        "  results[sample_id[i]].var[\"gene_id\"] = results[sample_id[i]].var.index.values\n",
        "\n",
        "  t2g = pd.read_csv(\"t2g.txt\", header=None, names=[\"tid\", \"gene_id\", \"gene_name\"], sep=\"\\t\")\n",
        "  t2g.index = t2g.gene_id\n",
        "  t2g = t2g.loc[~t2g.index.duplicated(keep='first')]\n",
        "\n",
        "  results[sample_id[i]].var[\"gene_name\"] = results[sample_id[i]].var.gene_id.map(t2g[\"gene_name\"])\n",
        "  results[sample_id[i]].var.index = results[sample_id[i]].var[\"gene_name\"]\n",
        "  print(\"The unfiltered matrix \" + sample_id[i] + \" contains {} cells by {} genes\".format(len(results[sample_id[i]].obs), len(results[sample_id[i]].var)))\n",
        "\n",
        "  results[sample_id[i]].obs[\"cell_counts\"] = results[sample_id[i]].X.sum(axis=1)\n",
        "  results[sample_id[i]].var[\"gene_counts\"] = nd(results[sample_id[i]].X.sum(axis=0))\n",
        "\n",
        "  results[sample_id[i]].obs[\"n_genes\"] = nd((results[sample_id[i]].X>0).sum(axis=1))\n",
        "  results[sample_id[i]].var[\"n_cells\"] = nd((results[sample_id[i]].X>0).sum(axis=0))\n",
        "\n",
        "  mito_genes = results[sample_id[i]].var_names.str.startswith(\"MT-\" or \"mt-\") \n",
        "  results[sample_id[i]].obs[\"percent_mito\"] = results[sample_id[i]][:,mito_genes].X.sum(axis=1)/results[sample_id[i]].X.sum(axis=1)*100\n",
        "\n",
        "  # Changing the name of the index is necessary to write the file (it won't work with duplicated names)\n",
        "  results[sample_id[i]].var.index.name = \"index\"\n",
        "\n"
      ],
      "execution_count": 29,
      "outputs": [
        {
          "output_type": "stream",
          "text": [
            "The unfiltered matrix CRX102286 contains 386468 cells by 60623 genes\n"
          ],
          "name": "stdout"
        }
      ]
    },
    {
      "cell_type": "markdown",
      "metadata": {
        "id": "hDAUH3eH_2RA"
      },
      "source": [
        "## Assign filters for each matrix individually"
      ]
    },
    {
      "cell_type": "code",
      "metadata": {
        "id": "ukinuaKk_6Po"
      },
      "source": [
        "# Modify this manually to change sample after having assigned the \"expected_num_cells\" and \"mito_criteria\" parameters\n",
        "samp_n = 0\n",
        "\n",
        "\n",
        "# Filtering criteria\n",
        "cell_threshold = 100\n",
        "gene_threshold = 3\n",
        "\n",
        "mito_criteria = 30"
      ],
      "execution_count": 30,
      "outputs": []
    },
    {
      "cell_type": "code",
      "metadata": {
        "id": "a5wZB5pEfwNs",
        "cellView": "form",
        "outputId": "2f7bd195-e37b-499b-cb51-01e22402cb82",
        "colab": {
          "base_uri": "https://localhost:8080/",
          "height": 722
        }
      },
      "source": [
        "\n",
        "expected_num_cells = 5000#@param {type:\"integer\"}\n",
        "knee = np.sort(nd(results[sample_id[samp_n]].X.sum(axis=1)))[::-1]\n",
        "\n",
        "fig, ax = plt.subplots(figsize=(5, 5))\n",
        "\n",
        "x = knee\n",
        "y = range(len(knee))\n",
        "\n",
        "ax.loglog(x, y, linewidth=5, color=\"g\")\n",
        "\n",
        "ax.axvline(x=knee[expected_num_cells], linewidth=3, color=\"k\")\n",
        "ax.axhline(y=expected_num_cells, linewidth=3, color=\"k\")\n",
        "\n",
        "ax.set_xlabel(\"UMI Counts\")\n",
        "ax.set_ylabel(\"Set of Barcodes\")\n",
        "\n",
        "plt.show()\n",
        "\n",
        "cell_threshold = knee[expected_num_cells]\n",
        "\n",
        "results[\"cell_threshold\" + sample_id[samp_n]] = knee[expected_num_cells]\n",
        "\n",
        "print (\"Cells were filtered down to \" + str(expected_num_cells) + \" with at least \" + str(cell_threshold) + \" UMIs\")\n",
        "\n",
        "\n",
        "mito_criteria = 18#@param {type:\"integer\"}\n",
        "results[\"mito_criteria\" + sample_id[samp_n]] = mito_criteria\n",
        "\n",
        "fig, ax = plt.subplots(figsize=(5,5))\n",
        "\n",
        "\n",
        "x = nd(results[sample_id[samp_n]].obs[\"cell_counts\"][results[sample_id[samp_n]].obs[\"cell_counts\"] > cell_threshold])\n",
        "y = nd(results[sample_id[samp_n]].obs[\"percent_mito\"][results[sample_id[samp_n]].obs[\"cell_counts\"] > cell_threshold])\n",
        "\n",
        "ax.scatter(x, y, color=\"green\", alpha=0.1)\n",
        "\n",
        "ax.axhline(y=mito_criteria, linestyle=\"--\", color=\"k\")\n",
        "\n",
        "\n",
        "ax.set_xlabel(\"UMI Counts\")\n",
        "ax.set_ylabel(\"Percent mito\")\n",
        "\n",
        "\n",
        "plt.show()\n",
        "\n",
        "print(\"We select \" + str(mito_criteria) + \" % as the mitochondrial content threshold\")"
      ],
      "execution_count": 32,
      "outputs": [
        {
          "output_type": "display_data",
          "data": {
            "image/png": "[encoded data removed]",
            "text/plain": [
              "<Figure size 360x360 with 1 Axes>"
            ]
          },
          "metadata": {
            "tags": [],
            "image/png": {
              "width": 372,
              "height": 337
            },
            "needs_background": "light"
          }
        },
        {
          "output_type": "stream",
          "text": [
            "Cells were filtered down to 5000 with at least 3957.0 UMIs\n"
          ],
          "name": "stdout"
        },
        {
          "output_type": "display_data",
          "data": {
            "image/png": "[encoded data removed]",
            "text/plain": [
              "<Figure size 360x360 with 1 Axes>"
            ]
          },
          "metadata": {
            "tags": [],
            "image/png": {
              "width": 362,
              "height": 337
            },
            "needs_background": "light"
          }
        },
        {
          "output_type": "stream",
          "text": [
            "We select 18 % as the mitochondrial content threshold\n"
          ],
          "name": "stdout"
        }
      ]
    },
    {
      "cell_type": "markdown",
      "metadata": {
        "id": "eP9j2ouPq9KY"
      },
      "source": [
        "# Filter matrix"
      ]
    },
    {
      "cell_type": "code",
      "metadata": {
        "id": "sE51WUA3gVmG",
        "outputId": "e160f918-690b-4f09-d688-aae3b9ad5e6e",
        "colab": {
          "base_uri": "https://localhost:8080/"
        }
      },
      "source": [
        "for i in range(no_samples):\n",
        "  results[sample_id[i]].obs[\"pass_count_filter\"] = results[sample_id[i]].obs[\"cell_counts\"] > results[\"cell_threshold\" + sample_id[i]]\n",
        "  results[sample_id[i]].obs[\"pass_mito_filter\"] = results[sample_id[i]].obs.percent_mito < results[\"mito_criteria\" + sample_id[i]]\n",
        "  results[sample_id[i]].var[\"pass_gene_filter\"] = results[sample_id[i]].var[\"n_cells\"] > gene_threshold\n",
        "\n",
        "  cell_mask = np.logical_and(results[sample_id[i]].obs[\"pass_count_filter\"].values, results[sample_id[i]].obs[\"pass_mito_filter\"].values)\n",
        "  gene_mask = results[sample_id[i]].var[\"pass_gene_filter\"].values\n",
        "\n",
        "  print(\"Current Shape: {:,} cells x {:,} genes\".format(results[sample_id[i]].shape[0], results[sample_id[i]].shape[1]))\n",
        "  print(\"    New shape: {:,} cells x {:,} genes\".format(cell_mask.sum(), gene_mask.sum()))\n",
        "  results[\"data_\" + sample_id[i]] = results[sample_id[i]][cell_mask, gene_mask]"
      ],
      "execution_count": 33,
      "outputs": [
        {
          "output_type": "stream",
          "text": [
            "Current Shape: 386,468 cells x 60,623 genes\n",
            "    New shape: 4,885 cells x 29,189 genes\n"
          ],
          "name": "stdout"
        }
      ]
    },
    {
      "cell_type": "markdown",
      "metadata": {
        "id": "BxPA81yj4TlU"
      },
      "source": [
        "# Anotate and write the Anndata object"
      ]
    },
    {
      "cell_type": "code",
      "metadata": {
        "id": "O-q_Qj2U4kDU",
        "outputId": "ab190e6e-edaa-4d11-dfd2-4c3cd6e8ab3d",
        "colab": {
          "base_uri": "https://localhost:8080/"
        }
      },
      "source": [
        "for i in range(no_samples):\n",
        "\n",
        "\n",
        "  results[\"data_\" + sample_id[i]].uns[\"database_id\"] = database_id[i]\n",
        "\n",
        "  results[\"data_\" + sample_id[i]].uns[\"tissue\"] = tissue[i]\n",
        "\n",
        "  results[\"data_\" + sample_id[i]].uns[\"cell_type\"] = cell_type[i]\n",
        "\n",
        "  results[\"data_\" + sample_id[i]].uns[\"sample_id\"] = sample_id[i]\n",
        "\n",
        "  results[\"data_\" + sample_id[i]].uns[\"condition\"] = condition[i]\n",
        "\n",
        "  results[\"data_\" + sample_id[i]].uns[\"species\"] = species[i]\n",
        "\n",
        "  results[\"data_\" + sample_id[i]].uns[\"technology\"] = technology[i]\n",
        "\n",
        "  results[\"data_\" + sample_id[i]].uns[\"paper\"] = paper[i]\n",
        "\n",
        "  results[\"data_\" + sample_id[i]].uns[\"figure\"] = figure[i]\n",
        "\n",
        "\n",
        "%cd /content\n",
        "\n",
        "for i in range(no_samples):\n",
        "\n",
        "  results[\"data_\" + sample_id[i]].write(\"result\" + sample_id[i])"
      ],
      "execution_count": 34,
      "outputs": [
        {
          "output_type": "stream",
          "text": [
            "Trying to set attribute `.uns` of view, copying.\n",
            "Variable names are not unique. To make them unique, call `.var_names_make_unique`.\n",
            "Variable names are not unique. To make them unique, call `.var_names_make_unique`.\n"
          ],
          "name": "stderr"
        },
        {
          "output_type": "stream",
          "text": [
            "/content\n"
          ],
          "name": "stdout"
        },
        {
          "output_type": "stream",
          "text": [
            "... storing 'gene_name' as categorical\n"
          ],
          "name": "stderr"
        }
      ]
    }
  ]
}