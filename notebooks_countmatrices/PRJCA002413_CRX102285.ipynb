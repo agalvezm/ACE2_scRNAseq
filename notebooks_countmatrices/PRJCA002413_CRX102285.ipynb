{
  "nbformat": 4,
  "nbformat_minor": 0,
  "metadata": {
    "colab": {
      "name": "PRJCA002413_CRX102285.ipynb",
      "provenance": [],
      "collapsed_sections": [],
      "toc_visible": true,
      "include_colab_link": true
    },
    "kernelspec": {
      "display_name": "Python 3",
      "name": "python3"
    }
  },
  "cells": [
    {
      "cell_type": "markdown",
      "metadata": {
        "id": "view-in-github",
        "colab_type": "text"
      },
      "source": [
        "<a href=\"https://colab.research.google.com/github/agalvezm/ACE2_scRNAseq/blob/master/notebooks_countmatrices/PRJCA002413_CRX102285.ipynb\" target=\"_parent\"><img src=\"https://colab.research.google.com/assets/colab-badge.svg\" alt=\"Open In Colab\"/></a>"
      ]
    },
    {
      "cell_type": "markdown",
      "metadata": {
        "id": "V9ryXluJsJw9"
      },
      "source": [
        "# PRJCA002413_CRX102285"
      ]
    },
    {
      "cell_type": "code",
      "metadata": {
        "id": "ggNFAQJCRh6P"
      },
      "source": [
        "# define the values for the analysis\n",
        "\n",
        "# accession id for the data\n",
        "id = \"PRJCA002413\"\n",
        "samp_id = [\"CRX102285\"]\n",
        "\n",
        "# If only bam available files, set bam = True, Fill link and filename\n",
        "bam = False\n",
        "\n",
        "# If fastq links available but are not ffq links\n",
        "fastq_ffqlinks = False\n",
        "\n",
        "\n",
        "if bam:\n",
        "  # Assign link to python variable\n",
        "  link_to_bam = \"\"\n",
        "  \n",
        "  # Assigns the link to the bash variable BAM_LINK. To be used by wget\n",
        "  %env BAM_LINK=$link_to_bam\n",
        "\n",
        "  # Assign filename to python variable. Used to convert to fastq and remove bam file to fastq after conversion\n",
        "\n",
        "  bam_filename=\"\"\n",
        "\n",
        "\n",
        "if not bam:\n",
        "\n",
        "  # Copy and paste the links from the ACE2 scRNAseq datasets google  spreadsheet\n",
        "\n",
        "  # Convert it to a list where each link is an element\n",
        "  links_raw = \"ftp://download.big.ac.cn/gsa3/CRA002497/CRR126563/CRR126563_f1.fastq.gz\tftp://download.big.ac.cn/gsa3/CRA002497/CRR126563/CRR126563_r2.fastq.gz\tftp://download.big.ac.cn/gsa3/CRA002497/CRR126564/CRR126564_f1.fastq.gz\tftp://download.big.ac.cn/gsa3/CRA002497/CRR126564/CRR126564_r2.fastq.gz\tftp://download.big.ac.cn/gsa3/CRA002497/CRR126565/CRR126565_f1.fastq.gz\tftp://download.big.ac.cn/gsa3/CRA002497/CRR126565/CRR126565_r2.fastq.gz\tftp://download.big.ac.cn/gsa3/CRA002497/CRR126566/CRR126566_f1.fastq.gz\tftp://download.big.ac.cn/gsa3/CRA002497/CRR126566/CRR126566_r2.fastq.gz\tftp://download.big.ac.cn/gsa3/CRA002497/CRR126567/CRR126567_f1.fastq.gz\tftp://download.big.ac.cn/gsa3/CRA002497/CRR126567/CRR126567_r2.fastq.gz\tftp://download.big.ac.cn/gsa3/CRA002497/CRR126568/CRR126568_f1.fastq.gz\tftp://download.big.ac.cn/gsa3/CRA002497/CRR126568/CRR126568_r2.fastq.gz\tftp://download.big.ac.cn/gsa3/CRA002497/CRR126569/CRR126569_f1.fastq.gz\tftp://download.big.ac.cn/gsa3/CRA002497/CRR126569/CRR126569_r2.fastq.gz\tftp://download.big.ac.cn/gsa3/CRA002497/CRR126570/CRR126570_f1.fastq.gz\tftp://download.big.ac.cn/gsa3/CRA002497/CRR126570/CRR126570_r2.fastq.gz\tftp://download.big.ac.cn/gsa3/CRA002497/CRR126571/CRR126571_f1.fastq.gz\tftp://download.big.ac.cn/gsa3/CRA002497/CRR126571/CRR126571_r2.fastq.gz\tftp://download.big.ac.cn/gsa3/CRA002497/CRR126572/CRR126572_f1.fastq.gz\tftp://download.big.ac.cn/gsa3/CRA002497/CRR126572/CRR126572_r2.fastq.gz\tftp://download.big.ac.cn/gsa3/CRA002497/CRR126573/CRR126573_f1.fastq.gz\tftp://download.big.ac.cn/gsa3/CRA002497/CRR126573/CRR126573_r2.fastq.gz\tftp://download.big.ac.cn/gsa3/CRA002497/CRR126574/CRR126574_f1.fastq.gz\tftp://download.big.ac.cn/gsa3/CRA002497/CRR126574/CRR126574_r2.fastq.gz\"  \n",
        "  fastqs = links_raw.split()\n",
        "\n",
        "#sample specific metadata\n",
        "\n",
        "no_samples = 1\n",
        "\n",
        "condition = [\"covid infected, early recovery stage\"] * no_samples"
      ],
      "execution_count": 1,
      "outputs": []
    },
    {
      "cell_type": "code",
      "metadata": {
        "id": "5R3tPDqnoJUn"
      },
      "source": [
        "no_samples = 1\n",
        "\n",
        "fastqs_per_sample = [4, 8, 8] \n",
        "\n",
        "sample_id = samp_id\n",
        "\n",
        "database_id = [id] * no_samples\n",
        "\n",
        "tissue = [\"blood\"] * no_samples\n",
        "\n",
        "cell_type = [\"PBMCs\"] * no_samples\n",
        "\n",
        "species = [\"human\"] * no_samples\n",
        "\n",
        "technology = [\"10xv2\"] * no_samples\n",
        "\n",
        "paper = [\"Wen et al 2020\"] * no_samples\n",
        "\n",
        "figure = [\"Fig: all\"] * no_samples\n",
        "\n",
        "\n",
        "# Set string variables for kb functions\n",
        "\n",
        "species_kb = species[0]\n",
        "\n",
        "technology_kb = technology[0]\n",
        "\n"
      ],
      "execution_count": 2,
      "outputs": []
    },
    {
      "cell_type": "markdown",
      "metadata": {
        "id": "FPwL0-_-KSAw"
      },
      "source": [
        "# Imports and installs"
      ]
    },
    {
      "cell_type": "code",
      "metadata": {
        "id": "1HSlUGZEp3oP",
        "colab": {
          "base_uri": "https://localhost:8080/"
        },
        "outputId": "81e1a278-158f-42bf-829d-a5251b498356"
      },
      "source": [
        "# install and import necessary software\n",
        "\n",
        "# Install kb and scanpy\n",
        "!pip -q install kb-python \n",
        "!pip -q install scanpy\n",
        "\n",
        "import re\n",
        "import os\n",
        "\n",
        "# Setup\n",
        "\n",
        "import anndata\n",
        "import pandas as pd\n",
        "import numpy as np\n",
        "import matplotlib.pyplot as plt\n",
        "import matplotlib as mpl\n",
        "import matplotlib.patches as mpatches\n",
        "import scanpy as sc\n",
        "from scipy import stats\n",
        "\n",
        "from collections import OrderedDict\n",
        "from sklearn.decomposition import TruncatedSVD\n",
        "from sklearn.manifold import TSNE\n",
        "from sklearn.preprocessing import scale\n",
        "\n",
        "from sklearn.cluster import KMeans\n",
        "from sklearn.preprocessing import normalize\n",
        "from sklearn.preprocessing import LabelEncoder\n",
        "from sklearn.neighbors import NeighborhoodComponentsAnalysis\n",
        "from matplotlib import cm\n",
        "from matplotlib.lines import Line2D\n",
        "\n",
        "def nd(arr):\n",
        "    return np.asarray(arr).reshape(-1)\n",
        "def yex(ax):\n",
        "    lims = [np.min([ax.get_xlim(), ax.get_ylim()]),\n",
        "            np.max([ax.get_xlim(), ax.get_ylim()])]\n",
        "\n",
        "    # now plot both limits against eachother\n",
        "    ax.plot(lims, lims, 'k-', alpha=0.75, zorder=0)\n",
        "    ax.set_aspect('equal')\n",
        "    ax.set_xlim(lims)\n",
        "    ax.set_ylim(lims)\n",
        "    return ax\n",
        "\n",
        "def trim_axs(axs, N):\n",
        "    \"\"\"little helper to massage the axs list to have correct length...\"\"\"\n",
        "    axs = axs.flat\n",
        "    for ax in axs[N:]:\n",
        "        ax.remove()\n",
        "    return axs[:N]\n",
        "\n",
        "import warnings\n",
        "warnings.filterwarnings('ignore')\n",
        "\n",
        "fsize=20\n",
        "\n",
        "plt.rcParams.update({'font.size': fsize})\n",
        "%config InlineBackend.figure_format = 'retina'"
      ],
      "execution_count": 3,
      "outputs": [
        {
          "output_type": "stream",
          "text": [
            "\u001b[K     |████████████████████████████████| 59.1MB 115kB/s \n",
            "\u001b[K     |████████████████████████████████| 13.2MB 53.0MB/s \n",
            "\u001b[K     |████████████████████████████████| 51kB 4.9MB/s \n",
            "\u001b[K     |████████████████████████████████| 10.3MB 35.0MB/s \n",
            "\u001b[K     |████████████████████████████████| 133kB 56.5MB/s \n",
            "\u001b[K     |████████████████████████████████| 112kB 33.8MB/s \n",
            "\u001b[K     |████████████████████████████████| 81kB 7.4MB/s \n",
            "\u001b[K     |████████████████████████████████| 71kB 6.4MB/s \n",
            "\u001b[K     |████████████████████████████████| 1.2MB 39.0MB/s \n",
            "\u001b[?25h  Building wheel for loompy (setup.py) ... \u001b[?25l\u001b[?25hdone\n",
            "  Building wheel for numpy-groupies (setup.py) ... \u001b[?25l\u001b[?25hdone\n",
            "  Building wheel for sinfo (setup.py) ... \u001b[?25l\u001b[?25hdone\n",
            "  Building wheel for umap-learn (setup.py) ... \u001b[?25l\u001b[?25hdone\n",
            "  Building wheel for pynndescent (setup.py) ... \u001b[?25l\u001b[?25hdone\n"
          ],
          "name": "stdout"
        }
      ]
    },
    {
      "cell_type": "markdown",
      "metadata": {
        "id": "7V6FbosVrvP4"
      },
      "source": [
        "# Downloads: (bam (if bam) and index"
      ]
    },
    {
      "cell_type": "code",
      "metadata": {
        "id": "q46hw4zqKUPS"
      },
      "source": [
        "if bam:\n",
        "\n",
        "  # Install bamtofastq from 10x website (only bam files available)\n",
        "  !wget http://cf.10xgenomics.com/misc/bamtofastq-1.2.0\n",
        "  !chmod +x bamtofastq-1.2.0\n",
        "  # Download the bam file\n",
        "  !wget -- continue ${BAM_LINK}\n",
        "\n",
        "\n"
      ],
      "execution_count": 4,
      "outputs": []
    },
    {
      "cell_type": "code",
      "metadata": {
        "id": "tDQlrjtqNF0m"
      },
      "source": [
        "if bam:\n",
        "  # Convert to fastq\n",
        "  !./bamtofastq-1.2.0 --reads-per-fastq=500000000 $bam_filename ./fastqs\\\n",
        "\n",
        "  # Remove original bam file to save space\n",
        "  !rm $bam_filename\n"
      ],
      "execution_count": 5,
      "outputs": []
    },
    {
      "cell_type": "code",
      "metadata": {
        "id": "SXRDRphvqcLe"
      },
      "source": [
        "# Store fastq names on a list\n",
        "\n",
        "if bam:\n",
        "  # cd into fastqs folder\n",
        "  %cd /content/fastqs\n",
        "\n",
        "  #store the name of the folder generated by bamtofastq\n",
        "  _filename = os.listdir()[0]\n",
        "\n",
        "  # cd into that folder\n",
        "  %cd $_filename\n",
        "\n",
        "  # store fastq names in a list\n",
        "  fastqs = os.listdir()\n",
        "\n",
        "\n",
        "  # Remove I1 and R3 reads not relevant for our analysis\n",
        "\n",
        "  # Initialize list containing elements to remove\n",
        "  remov_elem = []\n",
        "\n",
        "  print (\"\\n\\nThis is the complete list of fastqs:\\n -----------\")\n",
        "  for elem in fastqs:\n",
        "    print (elem)\n",
        "\n",
        "  # Search index (I1 or R3) fastqs and remove them from list\n",
        "  for elem in fastqs:\n",
        "    if re.search(\"_R3_\", elem) or re.search(\"_I1_\", elem):\n",
        "      remov_elem = remov_elem +[elem]\n",
        "\n",
        "  fastqs = [elem for elem in fastqs if elem not in remov_elem] \n",
        "\n",
        "  print (\"\\n\\nThis is the filtered list of fastqs:\\n -----------\")\n",
        "  for elem in fastqs:\n",
        "    print (elem)\n"
      ],
      "execution_count": 6,
      "outputs": []
    },
    {
      "cell_type": "code",
      "metadata": {
        "id": "ZnFcqcSgjLBw"
      },
      "source": [
        "# Remove fastqs that wont be analyzed to save space\n",
        "if bam:\n",
        "  for elem in remov_elem:\n",
        "    !rm $elem"
      ],
      "execution_count": 7,
      "outputs": []
    },
    {
      "cell_type": "code",
      "metadata": {
        "id": "FLVS8aB7Dm6J"
      },
      "source": [
        "if bam:\n",
        "  # sort fastqs alphabetically to get R1 and R2 in order\n",
        "  fastqs = sorted(fastqs)"
      ],
      "execution_count": 8,
      "outputs": []
    },
    {
      "cell_type": "code",
      "metadata": {
        "id": "FE9gWbQgpBfR",
        "colab": {
          "base_uri": "https://localhost:8080/"
        },
        "outputId": "1d8cd85c-a8e9-4cf2-db63-6813935766cf"
      },
      "source": [
        "# wget fastqs from non ffq links in fastqs folder\n",
        "if not bam and not fastq_ffqlinks:\n",
        "  !mkdir fastqs\n",
        "  %cd fastqs\n",
        "  while len(os.listdir()) != len(fastqs):\n",
        "    for link in fastqs:\n",
        "      !wget $link --continue\n",
        "\n",
        "  # update fastqs variable with name of files\n",
        "  fastqs = sorted(os.listdir())"
      ],
      "execution_count": 9,
      "outputs": [
        {
          "output_type": "stream",
          "text": [
            "/content/fastqs\n",
            "--2021-05-05 03:11:52--  ftp://download.big.ac.cn/gsa3/CRA002497/CRR126563/CRR126563_f1.fastq.gz\n",
            "           => ‘CRR126563_f1.fastq.gz’\n",
            "Resolving download.big.ac.cn (download.big.ac.cn)... 124.16.164.229\n",
            "Connecting to download.big.ac.cn (download.big.ac.cn)|124.16.164.229|:21... connected.\n",
            "Logging in as anonymous ... Logged in!\n",
            "==> SYST ... done.    ==> PWD ... done.\n",
            "==> TYPE I ... done.  ==> CWD (1) /gsa3/CRA002497/CRR126563 ... done.\n",
            "==> SIZE CRR126563_f1.fastq.gz ... 2620459579\n",
            "==> PASV ... done.    ==> RETR CRR126563_f1.fastq.gz ... done.\n",
            "Length: 2620459579 (2.4G) (unauthoritative)\n",
            "\n",
            "CRR126563_f1.fastq. 100%[===================>]   2.44G  9.66MB/s    in 9m 12s  \n",
            "\n",
            "2021-05-05 03:21:07 (4.53 MB/s) - ‘CRR126563_f1.fastq.gz’ saved [2620459579]\n",
            "\n",
            "--2021-05-05 03:21:07--  ftp://download.big.ac.cn/gsa3/CRA002497/CRR126563/CRR126563_r2.fastq.gz\n",
            "           => ‘CRR126563_r2.fastq.gz’\n",
            "Resolving download.big.ac.cn (download.big.ac.cn)... 124.16.164.229\n",
            "Connecting to download.big.ac.cn (download.big.ac.cn)|124.16.164.229|:21... connected.\n",
            "Logging in as anonymous ... Logged in!\n",
            "==> SYST ... done.    ==> PWD ... done.\n",
            "==> TYPE I ... done.  ==> CWD (1) /gsa3/CRA002497/CRR126563 ... done.\n",
            "==> SIZE CRR126563_r2.fastq.gz ... 10241269861\n",
            "==> PASV ... done.    ==> RETR CRR126563_r2.fastq.gz ... done.\n",
            "Length: 10241269861 (9.5G) (unauthoritative)\n",
            "\n",
            "CRR126563_r2.fastq. 100%[===================>]   9.54G  12.0MB/s    in 67m 38s \n",
            "\n",
            "2021-05-05 04:28:48 (2.41 MB/s) - Control connection closed.\n",
            "Retrying.\n",
            "\n",
            "--2021-05-05 04:43:49--  ftp://download.big.ac.cn/gsa3/CRA002497/CRR126563/CRR126563_r2.fastq.gz\n",
            "  (try: 2) => ‘CRR126563_r2.fastq.gz’\n",
            "Connecting to download.big.ac.cn (download.big.ac.cn)|124.16.164.229|:21... connected.\n",
            "Logging in as anonymous ... Logged in!\n",
            "==> SYST ... done.    ==> PWD ... done.\n",
            "==> TYPE I ... done.  ==> CWD (1) /gsa3/CRA002497/CRR126563 ... done.\n",
            "==> SIZE CRR126563_r2.fastq.gz ... 10241269861\n",
            "File has already been retrieved.\n",
            "2021-05-05 04:43:51 (0.00 B/s) - ‘CRR126563_r2.fastq.gz’ saved [10241269861]\n",
            "\n",
            "--2021-05-05 04:43:51--  ftp://download.big.ac.cn/gsa3/CRA002497/CRR126564/CRR126564_f1.fastq.gz\n",
            "           => ‘CRR126564_f1.fastq.gz’\n",
            "Resolving download.big.ac.cn (download.big.ac.cn)... 124.16.164.229\n",
            "Connecting to download.big.ac.cn (download.big.ac.cn)|124.16.164.229|:21... connected.\n",
            "Logging in as anonymous ... Logged in!\n",
            "==> SYST ... done.    ==> PWD ... done.\n",
            "==> TYPE I ... done.  ==> CWD (1) /gsa3/CRA002497/CRR126564 ... done.\n",
            "==> SIZE CRR126564_f1.fastq.gz ... 2773732252\n",
            "==> PASV ... done.    ==> RETR CRR126564_f1.fastq.gz ... done.\n",
            "Length: 2773732252 (2.6G) (unauthoritative)\n",
            "\n",
            "CRR126564_f1.fastq. 100%[===================>]   2.58G  12.9MB/s    in 3m 50s  \n",
            "\n",
            "2021-05-05 04:47:44 (11.5 MB/s) - ‘CRR126564_f1.fastq.gz’ saved [2773732252]\n",
            "\n",
            "--2021-05-05 04:47:44--  ftp://download.big.ac.cn/gsa3/CRA002497/CRR126564/CRR126564_r2.fastq.gz\n",
            "           => ‘CRR126564_r2.fastq.gz’\n",
            "Resolving download.big.ac.cn (download.big.ac.cn)... 124.16.164.229\n",
            "Connecting to download.big.ac.cn (download.big.ac.cn)|124.16.164.229|:21... connected.\n",
            "Logging in as anonymous ... Logged in!\n",
            "==> SYST ... done.    ==> PWD ... done.\n",
            "==> TYPE I ... done.  ==> CWD (1) /gsa3/CRA002497/CRR126564 ... done.\n",
            "==> SIZE CRR126564_r2.fastq.gz ... 10871202115\n",
            "==> PASV ... done.    ==> RETR CRR126564_r2.fastq.gz ... done.\n",
            "Length: 10871202115 (10G) (unauthoritative)\n",
            "\n",
            "CRR126564_r2.fastq. 100%[===================>]  10.12G  13.8MB/s    in 12m 33s \n",
            "\n",
            "2021-05-05 05:00:19 (13.8 MB/s) - Control connection closed.\n",
            "Retrying.\n",
            "\n",
            "--2021-05-05 05:15:20--  ftp://download.big.ac.cn/gsa3/CRA002497/CRR126564/CRR126564_r2.fastq.gz\n",
            "  (try: 2) => ‘CRR126564_r2.fastq.gz’\n",
            "Connecting to download.big.ac.cn (download.big.ac.cn)|124.16.164.229|:21... connected.\n",
            "Logging in as anonymous ... Logged in!\n",
            "==> SYST ... done.    ==> PWD ... done.\n",
            "==> TYPE I ... done.  ==> CWD (1) /gsa3/CRA002497/CRR126564 ... done.\n",
            "==> SIZE CRR126564_r2.fastq.gz ... 10871202115\n",
            "File has already been retrieved.\n",
            "2021-05-05 05:15:23 (0.00 B/s) - ‘CRR126564_r2.fastq.gz’ saved [10871202115]\n",
            "\n",
            "--2021-05-05 05:15:23--  ftp://download.big.ac.cn/gsa3/CRA002497/CRR126565/CRR126565_f1.fastq.gz\n",
            "           => ‘CRR126565_f1.fastq.gz’\n",
            "Resolving download.big.ac.cn (download.big.ac.cn)... 124.16.164.229\n",
            "Connecting to download.big.ac.cn (download.big.ac.cn)|124.16.164.229|:21... connected.\n",
            "Logging in as anonymous ... Logged in!\n",
            "==> SYST ... done.    ==> PWD ... done.\n",
            "==> TYPE I ... done.  ==> CWD (1) /gsa3/CRA002497/CRR126565 ... done.\n",
            "==> SIZE CRR126565_f1.fastq.gz ... 3076320426\n",
            "==> PASV ... done.    ==> RETR CRR126565_f1.fastq.gz ... done.\n",
            "Length: 3076320426 (2.9G) (unauthoritative)\n",
            "\n",
            "CRR126565_f1.fastq. 100%[===================>]   2.86G  10.2MB/s    in 30m 56s \n",
            "\n",
            "2021-05-05 05:46:27 (1.58 MB/s) - Control connection closed.\n",
            "Retrying.\n",
            "\n",
            "--2021-05-05 06:01:28--  ftp://download.big.ac.cn/gsa3/CRA002497/CRR126565/CRR126565_f1.fastq.gz\n",
            "  (try: 2) => ‘CRR126565_f1.fastq.gz’\n",
            "Connecting to download.big.ac.cn (download.big.ac.cn)|124.16.164.229|:21... connected.\n",
            "Logging in as anonymous ... Logged in!\n",
            "==> SYST ... done.    ==> PWD ... done.\n",
            "==> TYPE I ... done.  ==> CWD (1) /gsa3/CRA002497/CRR126565 ... done.\n",
            "==> SIZE CRR126565_f1.fastq.gz ... 3076320426\n",
            "File has already been retrieved.\n",
            "2021-05-05 06:01:30 (0.00 B/s) - ‘CRR126565_f1.fastq.gz’ saved [3076320426]\n",
            "\n",
            "--2021-05-05 06:01:30--  ftp://download.big.ac.cn/gsa3/CRA002497/CRR126565/CRR126565_r2.fastq.gz\n",
            "           => ‘CRR126565_r2.fastq.gz’\n",
            "Resolving download.big.ac.cn (download.big.ac.cn)... 124.16.164.229\n",
            "Connecting to download.big.ac.cn (download.big.ac.cn)|124.16.164.229|:21... connected.\n",
            "Logging in as anonymous ... Logged in!\n",
            "==> SYST ... done.    ==> PWD ... done.\n",
            "==> TYPE I ... done.  ==> CWD (1) /gsa3/CRA002497/CRR126565 ... done.\n",
            "==> SIZE CRR126565_r2.fastq.gz ... 12117386055\n",
            "==> PASV ... done.    ==> RETR CRR126565_r2.fastq.gz ... done.\n",
            "Length: 12117386055 (11G) (unauthoritative)\n",
            "\n",
            "CRR126565_r2.fastq. 100%[===================>]  11.29G  13.2MB/s    in 17m 1s  \n",
            "\n",
            "2021-05-05 06:18:33 (11.3 MB/s) - Control connection closed.\n",
            "Retrying.\n",
            "\n",
            "--2021-05-05 06:33:34--  ftp://download.big.ac.cn/gsa3/CRA002497/CRR126565/CRR126565_r2.fastq.gz\n",
            "  (try: 2) => ‘CRR126565_r2.fastq.gz’\n",
            "Connecting to download.big.ac.cn (download.big.ac.cn)|124.16.164.229|:21... connected.\n",
            "Logging in as anonymous ... Logged in!\n",
            "==> SYST ... done.    ==> PWD ... done.\n",
            "==> TYPE I ... done.  ==> CWD (1) /gsa3/CRA002497/CRR126565 ... done.\n",
            "==> SIZE CRR126565_r2.fastq.gz ... 12117386055\n",
            "File has already been retrieved.\n",
            "2021-05-05 06:33:36 (0.00 B/s) - ‘CRR126565_r2.fastq.gz’ saved [12117386055]\n",
            "\n",
            "--2021-05-05 06:33:36--  ftp://download.big.ac.cn/gsa3/CRA002497/CRR126566/CRR126566_f1.fastq.gz\n",
            "           => ‘CRR126566_f1.fastq.gz’\n",
            "Resolving download.big.ac.cn (download.big.ac.cn)... 124.16.164.229\n",
            "Connecting to download.big.ac.cn (download.big.ac.cn)|124.16.164.229|:21... connected.\n",
            "Logging in as anonymous ... Logged in!\n",
            "==> SYST ... done.    ==> PWD ... done.\n",
            "==> TYPE I ... done.  ==> CWD (1) /gsa3/CRA002497/CRR126566 ... done.\n",
            "==> SIZE CRR126566_f1.fastq.gz ... 1801354669\n",
            "==> PASV ... done.    ==> RETR CRR126566_f1.fastq.gz ... done.\n",
            "Length: 1801354669 (1.7G) (unauthoritative)\n",
            "\n",
            "CRR126566_f1.fastq. 100%[===================>]   1.68G  12.9MB/s    in 3m 12s  \n",
            "\n",
            "2021-05-05 06:36:51 (8.94 MB/s) - ‘CRR126566_f1.fastq.gz’ saved [1801354669]\n",
            "\n",
            "--2021-05-05 06:36:51--  ftp://download.big.ac.cn/gsa3/CRA002497/CRR126566/CRR126566_r2.fastq.gz\n",
            "           => ‘CRR126566_r2.fastq.gz’\n",
            "Resolving download.big.ac.cn (download.big.ac.cn)... 124.16.164.229\n",
            "Connecting to download.big.ac.cn (download.big.ac.cn)|124.16.164.229|:21... connected.\n",
            "Logging in as anonymous ... Logged in!\n",
            "==> SYST ... done.    ==> PWD ... done.\n",
            "==> TYPE I ... done.  ==> CWD (1) /gsa3/CRA002497/CRR126566 ... done.\n",
            "==> SIZE CRR126566_r2.fastq.gz ... 7142920238\n",
            "==> PASV ... done.    ==> RETR CRR126566_r2.fastq.gz ... done.\n",
            "Length: 7142920238 (6.7G) (unauthoritative)\n",
            "\n",
            "CRR126566_r2.fastq. 100%[===================>]   6.65G  12.9MB/s    in 9m 4s   \n",
            "\n",
            "2021-05-05 06:45:58 (12.5 MB/s) - ‘CRR126566_r2.fastq.gz’ saved [7142920238]\n",
            "\n",
            "--2021-05-05 06:45:59--  ftp://download.big.ac.cn/gsa3/CRA002497/CRR126567/CRR126567_f1.fastq.gz\n",
            "           => ‘CRR126567_f1.fastq.gz’\n",
            "Resolving download.big.ac.cn (download.big.ac.cn)... 124.16.164.229\n",
            "Connecting to download.big.ac.cn (download.big.ac.cn)|124.16.164.229|:21... connected.\n",
            "Logging in as anonymous ... Logged in!\n",
            "==> SYST ... done.    ==> PWD ... done.\n",
            "==> TYPE I ... done.  ==> CWD (1) /gsa3/CRA002497/CRR126567 ... done.\n",
            "==> SIZE CRR126567_f1.fastq.gz ... 1012108113\n",
            "==> PASV ... done.    ==> RETR CRR126567_f1.fastq.gz ... done.\n",
            "Length: 1012108113 (965M) (unauthoritative)\n",
            "\n",
            "CRR126567_f1.fastq. 100%[===================>] 965.22M  14.9MB/s    in 67s     \n",
            "\n",
            "2021-05-05 06:47:09 (14.4 MB/s) - ‘CRR126567_f1.fastq.gz’ saved [1012108113]\n",
            "\n",
            "--2021-05-05 06:47:09--  ftp://download.big.ac.cn/gsa3/CRA002497/CRR126567/CRR126567_r2.fastq.gz\n",
            "           => ‘CRR126567_r2.fastq.gz’\n",
            "Resolving download.big.ac.cn (download.big.ac.cn)... 124.16.164.229\n",
            "Connecting to download.big.ac.cn (download.big.ac.cn)|124.16.164.229|:21... connected.\n",
            "Logging in as anonymous ... Logged in!\n",
            "==> SYST ... done.    ==> PWD ... done.\n",
            "==> TYPE I ... done.  ==> CWD (1) /gsa3/CRA002497/CRR126567 ... done.\n",
            "==> SIZE CRR126567_r2.fastq.gz ... 1097030670\n",
            "==> PASV ... done.    ==> RETR CRR126567_r2.fastq.gz ... done.\n",
            "Length: 1097030670 (1.0G) (unauthoritative)\n",
            "\n",
            "CRR126567_r2.fastq. 100%[===================>]   1.02G  14.6MB/s    in 75s     \n",
            "\n",
            "2021-05-05 06:48:27 (14.0 MB/s) - ‘CRR126567_r2.fastq.gz’ saved [1097030670]\n",
            "\n",
            "--2021-05-05 06:48:27--  ftp://download.big.ac.cn/gsa3/CRA002497/CRR126568/CRR126568_f1.fastq.gz\n",
            "           => ‘CRR126568_f1.fastq.gz’\n",
            "Resolving download.big.ac.cn (download.big.ac.cn)... 124.16.164.229\n",
            "Connecting to download.big.ac.cn (download.big.ac.cn)|124.16.164.229|:21... connected.\n",
            "Logging in as anonymous ... Logged in!\n",
            "==> SYST ... done.    ==> PWD ... done.\n",
            "==> TYPE I ... done.  ==> CWD (1) /gsa3/CRA002497/CRR126568 ... done.\n",
            "==> SIZE CRR126568_f1.fastq.gz ... 549583263\n",
            "==> PASV ... done.    ==> RETR CRR126568_f1.fastq.gz ... done.\n",
            "Length: 549583263 (524M) (unauthoritative)\n",
            "\n",
            "CRR126568_f1.fastq. 100%[===================>] 524.12M  13.0MB/s    in 42s     \n",
            "\n",
            "2021-05-05 06:49:12 (12.4 MB/s) - ‘CRR126568_f1.fastq.gz’ saved [549583263]\n",
            "\n",
            "--2021-05-05 06:49:12--  ftp://download.big.ac.cn/gsa3/CRA002497/CRR126568/CRR126568_r2.fastq.gz\n",
            "           => ‘CRR126568_r2.fastq.gz’\n",
            "Resolving download.big.ac.cn (download.big.ac.cn)... 124.16.164.229\n",
            "Connecting to download.big.ac.cn (download.big.ac.cn)|124.16.164.229|:21... connected.\n",
            "Logging in as anonymous ... Logged in!\n",
            "==> SYST ... done.    ==> PWD ... done.\n",
            "==> TYPE I ... done.  ==> CWD (1) /gsa3/CRA002497/CRR126568 ... done.\n",
            "==> SIZE CRR126568_r2.fastq.gz ... 590870157\n",
            "==> PASV ... done.    ==> RETR CRR126568_r2.fastq.gz ... done.\n",
            "Length: 590870157 (563M) (unauthoritative)\n",
            "\n",
            "CRR126568_r2.fastq. 100%[===================>] 563.50M  14.4MB/s    in 40s     \n",
            "\n",
            "2021-05-05 06:49:55 (13.9 MB/s) - ‘CRR126568_r2.fastq.gz’ saved [590870157]\n",
            "\n",
            "--2021-05-05 06:49:55--  ftp://download.big.ac.cn/gsa3/CRA002497/CRR126569/CRR126569_f1.fastq.gz\n",
            "           => ‘CRR126569_f1.fastq.gz’\n",
            "Resolving download.big.ac.cn (download.big.ac.cn)... 124.16.164.229\n",
            "Connecting to download.big.ac.cn (download.big.ac.cn)|124.16.164.229|:21... connected.\n",
            "Logging in as anonymous ... Logged in!\n",
            "==> SYST ... done.    ==> PWD ... done.\n",
            "==> TYPE I ... done.  ==> CWD (1) /gsa3/CRA002497/CRR126569 ... done.\n",
            "==> SIZE CRR126569_f1.fastq.gz ... 584563286\n",
            "==> PASV ... done.    ==> RETR CRR126569_f1.fastq.gz ... done.\n",
            "Length: 584563286 (557M) (unauthoritative)\n",
            "\n",
            "CRR126569_f1.fastq. 100%[===================>] 557.48M  12.0MB/s    in 49s     \n",
            "\n",
            "2021-05-05 06:50:47 (11.3 MB/s) - ‘CRR126569_f1.fastq.gz’ saved [584563286]\n",
            "\n",
            "--2021-05-05 06:50:48--  ftp://download.big.ac.cn/gsa3/CRA002497/CRR126569/CRR126569_r2.fastq.gz\n",
            "           => ‘CRR126569_r2.fastq.gz’\n",
            "Resolving download.big.ac.cn (download.big.ac.cn)... 124.16.164.229\n",
            "Connecting to download.big.ac.cn (download.big.ac.cn)|124.16.164.229|:21... connected.\n",
            "Logging in as anonymous ... Logged in!\n",
            "==> SYST ... done.    ==> PWD ... done.\n",
            "==> TYPE I ... done.  ==> CWD (1) /gsa3/CRA002497/CRR126569 ... done.\n",
            "==> SIZE CRR126569_r2.fastq.gz ... 628155584\n",
            "==> PASV ... done.    ==> RETR CRR126569_r2.fastq.gz ... done.\n",
            "Length: 628155584 (599M) (unauthoritative)\n",
            "\n",
            "CRR126569_r2.fastq. 100%[===================>] 599.06M  13.7MB/s    in 43s     \n",
            "\n",
            "2021-05-05 06:51:33 (14.0 MB/s) - ‘CRR126569_r2.fastq.gz’ saved [628155584]\n",
            "\n",
            "--2021-05-05 06:51:33--  ftp://download.big.ac.cn/gsa3/CRA002497/CRR126570/CRR126570_f1.fastq.gz\n",
            "           => ‘CRR126570_f1.fastq.gz’\n",
            "Resolving download.big.ac.cn (download.big.ac.cn)... 124.16.164.229\n",
            "Connecting to download.big.ac.cn (download.big.ac.cn)|124.16.164.229|:21... connected.\n",
            "Logging in as anonymous ... Logged in!\n",
            "==> SYST ... done.    ==> PWD ... done.\n",
            "==> TYPE I ... done.  ==> CWD (1) /gsa3/CRA002497/CRR126570 ... done.\n",
            "==> SIZE CRR126570_f1.fastq.gz ... 776483389\n",
            "==> PASV ... done.    ==> RETR CRR126570_f1.fastq.gz ... done.\n",
            "Length: 776483389 (741M) (unauthoritative)\n",
            "\n",
            "CRR126570_f1.fastq. 100%[===================>] 740.51M  13.4MB/s    in 59s     \n",
            "\n",
            "2021-05-05 06:52:35 (12.6 MB/s) - ‘CRR126570_f1.fastq.gz’ saved [776483389]\n",
            "\n",
            "--2021-05-05 06:52:35--  ftp://download.big.ac.cn/gsa3/CRA002497/CRR126570/CRR126570_r2.fastq.gz\n",
            "           => ‘CRR126570_r2.fastq.gz’\n",
            "Resolving download.big.ac.cn (download.big.ac.cn)... 124.16.164.229\n",
            "Connecting to download.big.ac.cn (download.big.ac.cn)|124.16.164.229|:21... connected.\n",
            "Logging in as anonymous ... Logged in!\n",
            "==> SYST ... done.    ==> PWD ... done.\n",
            "==> TYPE I ... done.  ==> CWD (1) /gsa3/CRA002497/CRR126570 ... done.\n",
            "==> SIZE CRR126570_r2.fastq.gz ... 846733204\n",
            "==> PASV ... done.    ==> RETR CRR126570_r2.fastq.gz ... done.\n",
            "Length: 846733204 (808M) (unauthoritative)\n",
            "\n",
            "CRR126570_r2.fastq. 100%[===================>] 807.51M  14.6MB/s    in 57s     \n",
            "\n",
            "2021-05-05 06:53:34 (14.2 MB/s) - ‘CRR126570_r2.fastq.gz’ saved [846733204]\n",
            "\n",
            "--2021-05-05 06:53:34--  ftp://download.big.ac.cn/gsa3/CRA002497/CRR126571/CRR126571_f1.fastq.gz\n",
            "           => ‘CRR126571_f1.fastq.gz’\n",
            "Resolving download.big.ac.cn (download.big.ac.cn)... 124.16.164.229\n",
            "Connecting to download.big.ac.cn (download.big.ac.cn)|124.16.164.229|:21... connected.\n",
            "Logging in as anonymous ... Logged in!\n",
            "==> SYST ... done.    ==> PWD ... done.\n",
            "==> TYPE I ... done.  ==> CWD (1) /gsa3/CRA002497/CRR126571 ... done.\n",
            "==> SIZE CRR126571_f1.fastq.gz ... 571535686\n",
            "==> PASV ... done.    ==> RETR CRR126571_f1.fastq.gz ... done.\n",
            "Length: 571535686 (545M) (unauthoritative)\n",
            "\n",
            "CRR126571_f1.fastq. 100%[===================>] 545.06M  12.6MB/s    in 44s     \n",
            "\n",
            "2021-05-05 06:54:21 (12.5 MB/s) - ‘CRR126571_f1.fastq.gz’ saved [571535686]\n",
            "\n",
            "--2021-05-05 06:54:21--  ftp://download.big.ac.cn/gsa3/CRA002497/CRR126571/CRR126571_r2.fastq.gz\n",
            "           => ‘CRR126571_r2.fastq.gz’\n",
            "Resolving download.big.ac.cn (download.big.ac.cn)... 124.16.164.229\n",
            "Connecting to download.big.ac.cn (download.big.ac.cn)|124.16.164.229|:21... connected.\n",
            "Logging in as anonymous ... Logged in!\n",
            "==> SYST ... done.    ==> PWD ... done.\n",
            "==> TYPE I ... done.  ==> CWD (1) /gsa3/CRA002497/CRR126571 ... done.\n",
            "==> SIZE CRR126571_r2.fastq.gz ... 599262641\n",
            "==> PASV ... done.    ==> RETR CRR126571_r2.fastq.gz ... done.\n",
            "Length: 599262641 (572M) (unauthoritative)\n",
            "\n",
            "CRR126571_r2.fastq. 100%[===================>] 571.50M  12.9MB/s    in 47s     \n",
            "\n",
            "2021-05-05 06:55:11 (12.3 MB/s) - ‘CRR126571_r2.fastq.gz’ saved [599262641]\n",
            "\n",
            "--2021-05-05 06:55:11--  ftp://download.big.ac.cn/gsa3/CRA002497/CRR126572/CRR126572_f1.fastq.gz\n",
            "           => ‘CRR126572_f1.fastq.gz’\n",
            "Resolving download.big.ac.cn (download.big.ac.cn)... 124.16.164.229\n",
            "Connecting to download.big.ac.cn (download.big.ac.cn)|124.16.164.229|:21... connected.\n",
            "Logging in as anonymous ... Logged in!\n",
            "==> SYST ... done.    ==> PWD ... done.\n",
            "==> TYPE I ... done.  ==> CWD (1) /gsa3/CRA002497/CRR126572 ... done.\n",
            "==> SIZE CRR126572_f1.fastq.gz ... 1068222141\n",
            "==> PASV ... done.    ==> RETR CRR126572_f1.fastq.gz ... done.\n",
            "Length: 1068222141 (1019M) (unauthoritative)\n",
            "\n",
            "CRR126572_f1.fastq. 100%[===================>]   1019M  13.1MB/s    in 82s     \n",
            "\n",
            "2021-05-05 06:56:37 (12.4 MB/s) - ‘CRR126572_f1.fastq.gz’ saved [1068222141]\n",
            "\n",
            "--2021-05-05 06:56:37--  ftp://download.big.ac.cn/gsa3/CRA002497/CRR126572/CRR126572_r2.fastq.gz\n",
            "           => ‘CRR126572_r2.fastq.gz’\n",
            "Resolving download.big.ac.cn (download.big.ac.cn)... 124.16.164.229\n",
            "Connecting to download.big.ac.cn (download.big.ac.cn)|124.16.164.229|:21... connected.\n",
            "Logging in as anonymous ... Logged in!\n",
            "==> SYST ... done.    ==> PWD ... done.\n",
            "==> TYPE I ... done.  ==> CWD (1) /gsa3/CRA002497/CRR126572 ... done.\n",
            "==> SIZE CRR126572_r2.fastq.gz ... 1134929872\n",
            "==> PASV ... done.    ==> RETR CRR126572_r2.fastq.gz ... done.\n",
            "Length: 1134929872 (1.1G) (unauthoritative)\n",
            "\n",
            "CRR126572_r2.fastq. 100%[===================>]   1.06G  14.7MB/s    in 77s     \n",
            "\n",
            "2021-05-05 06:57:55 (14.1 MB/s) - ‘CRR126572_r2.fastq.gz’ saved [1134929872]\n",
            "\n",
            "--2021-05-05 06:57:56--  ftp://download.big.ac.cn/gsa3/CRA002497/CRR126573/CRR126573_f1.fastq.gz\n",
            "           => ‘CRR126573_f1.fastq.gz’\n",
            "Resolving download.big.ac.cn (download.big.ac.cn)... 124.16.164.229\n",
            "Connecting to download.big.ac.cn (download.big.ac.cn)|124.16.164.229|:21... connected.\n",
            "Logging in as anonymous ... Logged in!\n",
            "==> SYST ... done.    ==> PWD ... done.\n",
            "==> TYPE I ... done.  ==> CWD (1) /gsa3/CRA002497/CRR126573 ... done.\n",
            "==> SIZE CRR126573_f1.fastq.gz ... 765896114\n",
            "==> PASV ... done.    ==> RETR CRR126573_f1.fastq.gz ... done.\n",
            "Length: 765896114 (730M) (unauthoritative)\n",
            "\n",
            "CRR126573_f1.fastq. 100%[===================>] 730.42M  13.3MB/s    in 58s     \n",
            "\n",
            "2021-05-05 06:58:56 (12.5 MB/s) - ‘CRR126573_f1.fastq.gz’ saved [765896114]\n",
            "\n",
            "--2021-05-05 06:58:57--  ftp://download.big.ac.cn/gsa3/CRA002497/CRR126573/CRR126573_r2.fastq.gz\n",
            "           => ‘CRR126573_r2.fastq.gz’\n",
            "Resolving download.big.ac.cn (download.big.ac.cn)... 124.16.164.229\n",
            "Connecting to download.big.ac.cn (download.big.ac.cn)|124.16.164.229|:21... connected.\n",
            "Logging in as anonymous ... Logged in!\n",
            "==> SYST ... done.    ==> PWD ... done.\n",
            "==> TYPE I ... done.  ==> CWD (1) /gsa3/CRA002497/CRR126573 ... done.\n",
            "==> SIZE CRR126573_r2.fastq.gz ... 818259086\n",
            "==> PASV ... done.    ==> RETR CRR126573_r2.fastq.gz ... done.\n",
            "Length: 818259086 (780M) (unauthoritative)\n",
            "\n",
            "CRR126573_r2.fastq. 100%[===================>] 780.35M  14.5MB/s    in 56s     \n",
            "\n",
            "2021-05-05 06:59:55 (13.8 MB/s) - ‘CRR126573_r2.fastq.gz’ saved [818259086]\n",
            "\n",
            "--2021-05-05 06:59:56--  ftp://download.big.ac.cn/gsa3/CRA002497/CRR126574/CRR126574_f1.fastq.gz\n",
            "           => ‘CRR126574_f1.fastq.gz’\n",
            "Resolving download.big.ac.cn (download.big.ac.cn)... 124.16.164.229\n",
            "Connecting to download.big.ac.cn (download.big.ac.cn)|124.16.164.229|:21... connected.\n",
            "Logging in as anonymous ... Logged in!\n",
            "==> SYST ... done.    ==> PWD ... done.\n",
            "==> TYPE I ... done.  ==> CWD (1) /gsa3/CRA002497/CRR126574 ... done.\n",
            "==> SIZE CRR126574_f1.fastq.gz ... 393600933\n",
            "==> PASV ... done.    ==> RETR CRR126574_f1.fastq.gz ... done.\n",
            "Length: 393600933 (375M) (unauthoritative)\n",
            "\n",
            "CRR126574_f1.fastq. 100%[===================>] 375.37M  13.6MB/s    in 30s     \n",
            "\n",
            "2021-05-05 07:00:29 (12.4 MB/s) - ‘CRR126574_f1.fastq.gz’ saved [393600933]\n",
            "\n",
            "--2021-05-05 07:00:29--  ftp://download.big.ac.cn/gsa3/CRA002497/CRR126574/CRR126574_r2.fastq.gz\n",
            "           => ‘CRR126574_r2.fastq.gz’\n",
            "Resolving download.big.ac.cn (download.big.ac.cn)... 124.16.164.229\n",
            "Connecting to download.big.ac.cn (download.big.ac.cn)|124.16.164.229|:21... connected.\n",
            "Logging in as anonymous ... Logged in!\n",
            "==> SYST ... done.    ==> PWD ... done.\n",
            "==> TYPE I ... done.  ==> CWD (1) /gsa3/CRA002497/CRR126574 ... done.\n",
            "==> SIZE CRR126574_r2.fastq.gz ... 417627581\n",
            "==> PASV ... done.    ==> RETR CRR126574_r2.fastq.gz ... done.\n",
            "Length: 417627581 (398M) (unauthoritative)\n",
            "\n",
            "CRR126574_r2.fastq. 100%[===================>] 398.28M  11.7MB/s    in 33s     \n",
            "\n",
            "2021-05-05 07:01:05 (12.2 MB/s) - ‘CRR126574_r2.fastq.gz’ saved [417627581]\n",
            "\n"
          ],
          "name": "stdout"
        }
      ]
    },
    {
      "cell_type": "code",
      "metadata": {
        "id": "PC9oETW1pE9t",
        "colab": {
          "base_uri": "https://localhost:8080/"
        },
        "outputId": "927d337e-9428-435b-a8e4-341101c90d3d"
      },
      "source": [
        "if bam:\n",
        "  # Download the corresponding Kallisto index to folder containing fastqs\n",
        "  !kb ref -d $species_kb -i index.idx -g t2g.txt -f1 transcriptome.fasta\n",
        "\n",
        "if not bam and fastq_ffqlinks:\n",
        "  %cd /content\n",
        "\n",
        "  # Download the corresponding Kallisto index to content folder\n",
        "  !kb ref -d $species_kb -i index.idx -g t2g.txt -f1 transcriptome.fasta\n",
        "\n",
        "if not bam and not fastq_ffqlinks:\n",
        "  %cd /content/fastqs\n",
        "\n",
        "  # Download the corresponding Kallisto index to fastq folder\n",
        "  !kb ref -d $species_kb -i index.idx -g t2g.txt -f1 transcriptome.fasta"
      ],
      "execution_count": 10,
      "outputs": [
        {
          "output_type": "stream",
          "text": [
            "/content/fastqs\n",
            "[2021-05-05 07:01:07,905]    INFO Downloading files for human from https://caltech.box.com/shared/static/v1nm7lpnqz5syh8dyzdk2zs8bglncfib.gz to tmp/v1nm7lpnqz5syh8dyzdk2zs8bglncfib.gz\n",
            "100% 2.23G/2.23G [01:51<00:00, 21.5MB/s]\n",
            "[2021-05-05 07:03:00,377]    INFO Extracting files from tmp/v1nm7lpnqz5syh8dyzdk2zs8bglncfib.gz\n"
          ],
          "name": "stdout"
        }
      ]
    },
    {
      "cell_type": "code",
      "metadata": {
        "id": "vHVNa51Cp9Nr"
      },
      "source": [
        "# Check to make sure the metadata is in the right order after sorting\n",
        "print(fastqs)"
      ],
      "execution_count": null,
      "outputs": []
    },
    {
      "cell_type": "markdown",
      "metadata": {
        "id": "VInyuq1Dp7iz"
      },
      "source": [
        "# Process fastq files (modify kb command according to fastqs list)\n"
      ]
    },
    {
      "cell_type": "code",
      "metadata": {
        "id": "OcqtBuH-pRaX",
        "colab": {
          "base_uri": "https://localhost:8080/"
        },
        "outputId": "af22a056-9568-4762-ce51-d2a4127e79e8"
      },
      "source": [
        "fastqs"
      ],
      "execution_count": 12,
      "outputs": [
        {
          "output_type": "execute_result",
          "data": {
            "text/plain": [
              "['CRR126563_f1.fastq.gz',\n",
              " 'CRR126563_r2.fastq.gz',\n",
              " 'CRR126564_f1.fastq.gz',\n",
              " 'CRR126564_r2.fastq.gz',\n",
              " 'CRR126565_f1.fastq.gz',\n",
              " 'CRR126565_r2.fastq.gz',\n",
              " 'CRR126566_f1.fastq.gz',\n",
              " 'CRR126566_r2.fastq.gz',\n",
              " 'CRR126567_f1.fastq.gz',\n",
              " 'CRR126567_r2.fastq.gz',\n",
              " 'CRR126568_f1.fastq.gz',\n",
              " 'CRR126568_r2.fastq.gz',\n",
              " 'CRR126569_f1.fastq.gz',\n",
              " 'CRR126569_r2.fastq.gz',\n",
              " 'CRR126570_f1.fastq.gz',\n",
              " 'CRR126570_r2.fastq.gz',\n",
              " 'CRR126571_f1.fastq.gz',\n",
              " 'CRR126571_r2.fastq.gz',\n",
              " 'CRR126572_f1.fastq.gz',\n",
              " 'CRR126572_r2.fastq.gz',\n",
              " 'CRR126573_f1.fastq.gz',\n",
              " 'CRR126573_r2.fastq.gz',\n",
              " 'CRR126574_f1.fastq.gz',\n",
              " 'CRR126574_r2.fastq.gz']"
            ]
          },
          "metadata": {
            "tags": []
          },
          "execution_count": 12
        }
      ]
    },
    {
      "cell_type": "code",
      "metadata": {
        "id": "5qFzPj-0kZTi",
        "colab": {
          "base_uri": "https://localhost:8080/"
        },
        "outputId": "ffc020d8-586c-4003-f0e8-c82d395d1a58"
      },
      "source": [
        "# Specify the sample number and whether they are paired-ended\n",
        "\n",
        "\n",
        "if no_samples == 1:\n",
        "\n",
        "  # Write the kb count command as a string with all fastqs of the list as an input\n",
        "  cmd = \"kb count --h5ad -i index.idx -g t2g.txt -x \" + technology_kb + \" -o output\" + sample_id[0] + \" \"\\\n",
        "  + \"--filter bustools -t 2 --overwrite \" + \"'\" +  \"' '\".join(fastqs) + \"'\"\n",
        "  \n",
        "  # Execute it\n",
        "  !$cmd\n",
        "\n",
        "# If more than one sample, iterate through fastqs accordingly\n",
        "else:\n",
        "\n",
        "  # Initializa counter for fastq files\n",
        "  j = 0\n",
        "\n",
        "  # Loop over samples for analysis\n",
        "  for i in range(no_samples):\n",
        "\n",
        "    fastqs_to_analyze = fastqs[j:j + fastqs_per_sample[i]]\n",
        "    # Write the kb count command as a string\n",
        "    cmd = \"kb count --h5ad -i ../index.idx -g ../t2g.txt -x \" + technology_kb + \" -o output\" + sample_id[i] + \" \\\n",
        "    --filter bustools -t 2 --overwrite \" + \"'\" +  \"' '\".join(fastqs_to_analyze) + \"'\"\n",
        "\n",
        "    # Execute it\n",
        "    !$cmd\n",
        "\n",
        "    # Update j to move to the next set of fastq\n",
        "    j = j + fastqs_per_sample[i]\n",
        "\n",
        "\n",
        "\n",
        "\n",
        "\n"
      ],
      "execution_count": 13,
      "outputs": [
        {
          "output_type": "stream",
          "text": [
            "[2021-05-05 07:03:39,734]    INFO Using index index.idx to generate BUS file to outputCRX102285 from\n",
            "[2021-05-05 07:03:39,734]    INFO         CRR126563_f1.fastq.gz\n",
            "[2021-05-05 07:03:39,734]    INFO         CRR126563_r2.fastq.gz\n",
            "[2021-05-05 07:03:39,734]    INFO         CRR126564_f1.fastq.gz\n",
            "[2021-05-05 07:03:39,734]    INFO         CRR126564_r2.fastq.gz\n",
            "[2021-05-05 07:03:39,734]    INFO         CRR126565_f1.fastq.gz\n",
            "[2021-05-05 07:03:39,734]    INFO         CRR126565_r2.fastq.gz\n",
            "[2021-05-05 07:03:39,734]    INFO         CRR126566_f1.fastq.gz\n",
            "[2021-05-05 07:03:39,734]    INFO         CRR126566_r2.fastq.gz\n",
            "[2021-05-05 07:03:39,734]    INFO         CRR126567_f1.fastq.gz\n",
            "[2021-05-05 07:03:39,734]    INFO         CRR126567_r2.fastq.gz\n",
            "[2021-05-05 07:03:39,734]    INFO         CRR126568_f1.fastq.gz\n",
            "[2021-05-05 07:03:39,734]    INFO         CRR126568_r2.fastq.gz\n",
            "[2021-05-05 07:03:39,734]    INFO         CRR126569_f1.fastq.gz\n",
            "[2021-05-05 07:03:39,734]    INFO         CRR126569_r2.fastq.gz\n",
            "[2021-05-05 07:03:39,734]    INFO         CRR126570_f1.fastq.gz\n",
            "[2021-05-05 07:03:39,735]    INFO         CRR126570_r2.fastq.gz\n",
            "[2021-05-05 07:03:39,735]    INFO         CRR126571_f1.fastq.gz\n",
            "[2021-05-05 07:03:39,735]    INFO         CRR126571_r2.fastq.gz\n",
            "[2021-05-05 07:03:39,735]    INFO         CRR126572_f1.fastq.gz\n",
            "[2021-05-05 07:03:39,735]    INFO         CRR126572_r2.fastq.gz\n",
            "[2021-05-05 07:03:39,735]    INFO         CRR126573_f1.fastq.gz\n",
            "[2021-05-05 07:03:39,735]    INFO         CRR126573_r2.fastq.gz\n",
            "[2021-05-05 07:03:39,735]    INFO         CRR126574_f1.fastq.gz\n",
            "[2021-05-05 07:03:39,735]    INFO         CRR126574_r2.fastq.gz\n",
            "[2021-05-05 09:10:27,054]    INFO Sorting BUS file outputCRX102285/output.bus to outputCRX102285/tmp/output.s.bus\n",
            "[2021-05-05 09:14:59,262]    INFO Whitelist not provided\n",
            "[2021-05-05 09:14:59,264]    INFO Copying pre-packaged 10XV2 whitelist to outputCRX102285\n",
            "[2021-05-05 09:14:59,402]    INFO Inspecting BUS file outputCRX102285/tmp/output.s.bus\n",
            "[2021-05-05 09:15:30,948]    INFO Correcting BUS records in outputCRX102285/tmp/output.s.bus to outputCRX102285/tmp/output.s.c.bus with whitelist outputCRX102285/10xv2_whitelist.txt\n",
            "[2021-05-05 09:15:55,806]    INFO Sorting BUS file outputCRX102285/tmp/output.s.c.bus to outputCRX102285/output.unfiltered.bus\n",
            "[2021-05-05 09:17:05,382]    INFO Generating count matrix outputCRX102285/counts_unfiltered/cells_x_genes from BUS file outputCRX102285/output.unfiltered.bus\n",
            "[2021-05-05 09:17:44,573]    INFO Reading matrix outputCRX102285/counts_unfiltered/cells_x_genes.mtx\n",
            "[2021-05-05 09:18:05,565]    INFO Writing matrix to h5ad outputCRX102285/counts_unfiltered/adata.h5ad\n",
            "[2021-05-05 09:18:06,607]    INFO Filtering with bustools\n",
            "[2021-05-05 09:18:06,607]    INFO Generating whitelist outputCRX102285/filter_barcodes.txt from BUS file outputCRX102285/output.unfiltered.bus\n",
            "[2021-05-05 09:18:07,293]    INFO Correcting BUS records in outputCRX102285/output.unfiltered.bus to outputCRX102285/tmp/output.unfiltered.c.bus with whitelist outputCRX102285/filter_barcodes.txt\n",
            "[2021-05-05 09:18:29,838]    INFO Sorting BUS file outputCRX102285/tmp/output.unfiltered.c.bus to outputCRX102285/output.filtered.bus\n",
            "[2021-05-05 09:19:29,121]    INFO Generating count matrix outputCRX102285/counts_filtered/cells_x_genes from BUS file outputCRX102285/output.filtered.bus\n",
            "[2021-05-05 09:20:00,312]    INFO Reading matrix outputCRX102285/counts_filtered/cells_x_genes.mtx\n",
            "[2021-05-05 09:20:15,621]    INFO Writing matrix to h5ad outputCRX102285/counts_filtered/adata.h5ad\n"
          ],
          "name": "stdout"
        }
      ]
    },
    {
      "cell_type": "markdown",
      "metadata": {
        "id": "tDijOZzrqhN2"
      },
      "source": [
        "# Load unfiltered matrix and assign filters to each matrix individually"
      ]
    },
    {
      "cell_type": "markdown",
      "metadata": {
        "id": "VkNLZh_pNFFw"
      },
      "source": [
        "## Load the unfiltered matrix (check dimensions)"
      ]
    },
    {
      "cell_type": "code",
      "metadata": {
        "id": "PppRNeV8AIyw"
      },
      "source": [
        "# Define dict to store data\n",
        "results = {}\n"
      ],
      "execution_count": null,
      "outputs": []
    },
    {
      "cell_type": "code",
      "metadata": {
        "cellView": "both",
        "id": "pKmtGf3c_BiZ"
      },
      "source": [
        "# load the unfiltered matrix\n",
        "for i in range(no_samples):\n",
        "  results[sample_id[i]] = anndata.read_h5ad(\"output\" + sample_id[i] + \"/counts_unfiltered/adata.h5ad\")\n",
        "  results[sample_id[i]].var[\"gene_id\"] = results[sample_id[i]].var.index.values\n",
        "\n",
        "  t2g = pd.read_csv(\"t2g.txt\", header=None, names=[\"tid\", \"gene_id\", \"gene_name\"], sep=\"\\t\")\n",
        "  t2g.index = t2g.gene_id\n",
        "  t2g = t2g.loc[~t2g.index.duplicated(keep='first')]\n",
        "\n",
        "  results[sample_id[i]].var[\"gene_name\"] = results[sample_id[i]].var.gene_id.map(t2g[\"gene_name\"])\n",
        "  results[sample_id[i]].var.index = results[sample_id[i]].var[\"gene_name\"]\n",
        "  print(\"The unfiltered matrix \" + sample_id[i] + \" contains {} cells by {} genes\".format(len(results[sample_id[i]].obs), len(results[sample_id[i]].var)))\n",
        "\n",
        "  results[sample_id[i]].obs[\"cell_counts\"] = results[sample_id[i]].X.sum(axis=1)\n",
        "  results[sample_id[i]].var[\"gene_counts\"] = nd(results[sample_id[i]].X.sum(axis=0))\n",
        "\n",
        "  results[sample_id[i]].obs[\"n_genes\"] = nd((results[sample_id[i]].X>0).sum(axis=1))\n",
        "  results[sample_id[i]].var[\"n_cells\"] = nd((results[sample_id[i]].X>0).sum(axis=0))\n",
        "\n",
        "  mito_genes = results[sample_id[i]].var_names.str.startswith(\"MT-\" or \"mt-\") \n",
        "  results[sample_id[i]].obs[\"percent_mito\"] = results[sample_id[i]][:,mito_genes].X.sum(axis=1)/results[sample_id[i]].X.sum(axis=1)*100\n",
        "\n",
        "  # Changing the name of the index is necessary to write the file (it won't work with duplicated names)\n",
        "  results[sample_id[i]].var.index.name = \"index\"\n",
        "\n"
      ],
      "execution_count": null,
      "outputs": []
    },
    {
      "cell_type": "markdown",
      "metadata": {
        "id": "hDAUH3eH_2RA"
      },
      "source": [
        "## Assign filters for each matrix individually"
      ]
    },
    {
      "cell_type": "code",
      "metadata": {
        "id": "ukinuaKk_6Po"
      },
      "source": [
        "# Modify this manually to change sample after having assigned the \"expected_num_cells\" and \"mito_criteria\" parameters\n",
        "samp_n = 0\n",
        "\n",
        "\n",
        "# Filtering criteria\n",
        "cell_threshold = 100\n",
        "gene_threshold = 3\n",
        "\n",
        "mito_criteria = 30"
      ],
      "execution_count": null,
      "outputs": []
    },
    {
      "cell_type": "code",
      "metadata": {
        "id": "a5wZB5pEfwNs",
        "colab": {
          "base_uri": "https://localhost:8080/",
          "height": 722
        },
        "cellView": "form",
        "outputId": "fc78986c-f0c2-435c-f9dd-41a2c6431c4e"
      },
      "source": [
        "\n",
        "expected_num_cells = 3000#@param {type:\"integer\"}\n",
        "knee = np.sort(nd(results[sample_id[samp_n]].X.sum(axis=1)))[::-1]\n",
        "\n",
        "fig, ax = plt.subplots(figsize=(5, 5))\n",
        "\n",
        "x = knee\n",
        "y = range(len(knee))\n",
        "\n",
        "ax.loglog(x, y, linewidth=5, color=\"g\")\n",
        "\n",
        "ax.axvline(x=knee[expected_num_cells], linewidth=3, color=\"k\")\n",
        "ax.axhline(y=expected_num_cells, linewidth=3, color=\"k\")\n",
        "\n",
        "ax.set_xlabel(\"UMI Counts\")\n",
        "ax.set_ylabel(\"Set of Barcodes\")\n",
        "\n",
        "plt.show()\n",
        "\n",
        "cell_threshold = knee[expected_num_cells]\n",
        "\n",
        "results[\"cell_threshold\" + sample_id[samp_n]] = knee[expected_num_cells]\n",
        "\n",
        "print (\"Cells were filtered down to \" + str(expected_num_cells) + \" with at least \" + str(cell_threshold) + \" UMIs\")\n",
        "\n",
        "\n",
        "mito_criteria = 13#@param {type:\"integer\"}\n",
        "results[\"mito_criteria\" + sample_id[samp_n]] = mito_criteria\n",
        "\n",
        "fig, ax = plt.subplots(figsize=(5,5))\n",
        "\n",
        "\n",
        "x = nd(results[sample_id[samp_n]].obs[\"cell_counts\"][results[sample_id[samp_n]].obs[\"cell_counts\"] > cell_threshold])\n",
        "y = nd(results[sample_id[samp_n]].obs[\"percent_mito\"][results[sample_id[samp_n]].obs[\"cell_counts\"] > cell_threshold])\n",
        "\n",
        "ax.scatter(x, y, color=\"green\", alpha=0.1)\n",
        "\n",
        "ax.axhline(y=mito_criteria, linestyle=\"--\", color=\"k\")\n",
        "\n",
        "\n",
        "ax.set_xlabel(\"UMI Counts\")\n",
        "ax.set_ylabel(\"Percent mito\")\n",
        "\n",
        "\n",
        "plt.show()\n",
        "\n",
        "print(\"We select \" + str(mito_criteria) + \" % as the mitochondrial content threshold\")"
      ],
      "execution_count": 22,
      "outputs": [
        {
          "output_type": "display_data",
          "data": {
            "image/png": "[encoded data removed]",
            "text/plain": [
              "<Figure size 360x360 with 1 Axes>"
            ]
          },
          "metadata": {
            "tags": [],
            "image/png": {
              "width": 358,
              "height": 337
            },
            "needs_background": "light"
          }
        },
        {
          "output_type": "stream",
          "text": [
            "Cells were filtered down to 3000 with at least 3304.0 UMIs\n"
          ],
          "name": "stdout"
        },
        {
          "output_type": "display_data",
          "data": {
            "image/png": "[encoded data removed]",
            "text/plain": [
              "<Figure size 360x360 with 1 Axes>"
            ]
          },
          "metadata": {
            "tags": [],
            "image/png": {
              "width": 359,
              "height": 337
            },
            "needs_background": "light"
          }
        },
        {
          "output_type": "stream",
          "text": [
            "We select 13 % as the mitochondrial content threshold\n"
          ],
          "name": "stdout"
        }
      ]
    },
    {
      "cell_type": "markdown",
      "metadata": {
        "id": "eP9j2ouPq9KY"
      },
      "source": [
        "# Filter matrix"
      ]
    },
    {
      "cell_type": "code",
      "metadata": {
        "id": "33Aw60uoUkS4",
        "outputId": "f83a78b8-fde1-458b-ccc7-38f389243bec",
        "colab": {
          "base_uri": "https://localhost:8080/"
        }
      },
      "source": [
        "for i in range(no_samples):\n",
        "  results[sample_id[i]].obs[\"pass_count_filter\"] = results[sample_id[i]].obs[\"cell_counts\"] > results[\"cell_threshold\" + sample_id[i]]\n",
        "  results[sample_id[i]].obs[\"pass_mito_filter\"] = results[sample_id[i]].obs.percent_mito < results[\"mito_criteria\" + sample_id[i]]\n",
        "  results[sample_id[i]].var[\"pass_gene_filter\"] = results[sample_id[i]].var[\"n_cells\"] > gene_threshold\n",
        "\n",
        "  cell_mask = np.logical_and(results[sample_id[i]].obs[\"pass_count_filter\"].values, results[sample_id[i]].obs[\"pass_mito_filter\"].values)\n",
        "  gene_mask = results[sample_id[i]].var[\"pass_gene_filter\"].values\n",
        "\n",
        "  print(\"Current Shape: {:,} cells x {:,} genes\".format(results[sample_id[i]].shape[0], results[sample_id[i]].shape[1]))\n",
        "  print(\"    New shape: {:,} cells x {:,} genes\".format(cell_mask.sum(), gene_mask.sum()))\n",
        "  results[\"data_\" + sample_id[i]] = results[sample_id[i]][cell_mask, gene_mask]"
      ],
      "execution_count": 23,
      "outputs": [
        {
          "output_type": "stream",
          "text": [
            "Current Shape: 303,354 cells x 60,623 genes\n",
            "    New shape: 2,918 cells x 26,690 genes\n"
          ],
          "name": "stdout"
        }
      ]
    },
    {
      "cell_type": "markdown",
      "metadata": {
        "id": "BxPA81yj4TlU"
      },
      "source": [
        "# Anotate and write the Anndata object"
      ]
    },
    {
      "cell_type": "code",
      "metadata": {
        "id": "O-q_Qj2U4kDU",
        "colab": {
          "base_uri": "https://localhost:8080/"
        },
        "outputId": "8b84ca2e-0a83-4999-b263-731aaea296b4"
      },
      "source": [
        "for i in range(no_samples):\n",
        "\n",
        "\n",
        "  results[\"data_\" + sample_id[i]].uns[\"database_id\"] = database_id[i]\n",
        "\n",
        "  results[\"data_\" + sample_id[i]].uns[\"tissue\"] = tissue[i]\n",
        "\n",
        "  results[\"data_\" + sample_id[i]].uns[\"cell_type\"] = cell_type[i]\n",
        "\n",
        "  results[\"data_\" + sample_id[i]].uns[\"sample_id\"] = sample_id[i]\n",
        "\n",
        "  results[\"data_\" + sample_id[i]].uns[\"condition\"] = condition[i]\n",
        "\n",
        "  results[\"data_\" + sample_id[i]].uns[\"species\"] = species[i]\n",
        "\n",
        "  results[\"data_\" + sample_id[i]].uns[\"technology\"] = technology[i]\n",
        "\n",
        "  results[\"data_\" + sample_id[i]].uns[\"paper\"] = paper[i]\n",
        "\n",
        "  results[\"data_\" + sample_id[i]].uns[\"figure\"] = figure[i]\n",
        "\n",
        "\n",
        "%cd /content\n",
        "\n",
        "for i in range(no_samples):\n",
        "\n",
        "  results[\"data_\" + sample_id[i]].write(\"result\" + sample_id[i])"
      ],
      "execution_count": 24,
      "outputs": [
        {
          "output_type": "stream",
          "text": [
            "Trying to set attribute `.uns` of view, copying.\n",
            "Variable names are not unique. To make them unique, call `.var_names_make_unique`.\n",
            "Variable names are not unique. To make them unique, call `.var_names_make_unique`.\n"
          ],
          "name": "stderr"
        },
        {
          "output_type": "stream",
          "text": [
            "/content\n"
          ],
          "name": "stdout"
        },
        {
          "output_type": "stream",
          "text": [
            "... storing 'gene_name' as categorical\n"
          ],
          "name": "stderr"
        }
      ]
    },
    {
      "cell_type": "code",
      "metadata": {
        "id": "MQnW5C4lUlnB"
      },
      "source": [
        ""
      ],
      "execution_count": null,
      "outputs": []
    }
  ]
}