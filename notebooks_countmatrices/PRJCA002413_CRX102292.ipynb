{
  "nbformat": 4,
  "nbformat_minor": 0,
  "metadata": {
    "colab": {
      "name": "Copy of PRJCA002413_CRX102292.ipynb",
      "provenance": [],
      "collapsed_sections": [],
      "toc_visible": true,
      "include_colab_link": true
    },
    "kernelspec": {
      "display_name": "Python 3",
      "name": "python3"
    }
  },
  "cells": [
    {
      "cell_type": "markdown",
      "metadata": {
        "id": "view-in-github",
        "colab_type": "text"
      },
      "source": [
        "<a href=\"https://colab.research.google.com/github/agalvezm/ACE2_scRNAseq/blob/master/notebooks_countmatrices/PRJCA002413_CRX102292.ipynb\" target=\"_parent\"><img src=\"https://colab.research.google.com/assets/colab-badge.svg\" alt=\"Open In Colab\"/></a>"
      ]
    },
    {
      "cell_type": "markdown",
      "metadata": {
        "id": "V9ryXluJsJw9"
      },
      "source": [
        "# PRJCA002413_CRX102292"
      ]
    },
    {
      "cell_type": "code",
      "metadata": {
        "id": "ggNFAQJCRh6P"
      },
      "source": [
        "# define the values for the analysis\n",
        "\n",
        "# accession id for the data\n",
        "id = \"PRJCA002413\"\n",
        "samp_id = [\"CRX102292\"]\n",
        "\n",
        "# If only bam available files, set bam = True, Fill link and filename\n",
        "bam = False\n",
        "\n",
        "# If fastq links available but are not ffq links\n",
        "fastq_ffqlinks = False\n",
        "\n",
        "\n",
        "if bam:\n",
        "  # Assign link to python variable\n",
        "  link_to_bam = \"\"\n",
        "  \n",
        "  # Assigns the link to the bash variable BAM_LINK. To be used by wget\n",
        "  %env BAM_LINK=$link_to_bam\n",
        "\n",
        "  # Assign filename to python variable. Used to convert to fastq and remove bam file to fastq after conversion\n",
        "\n",
        "  bam_filename=\"\"\n",
        "\n",
        "\n",
        "if not bam:\n",
        "\n",
        "  # Copy and paste the links from the ACE2 scRNAseq datasets google  spreadsheet\n",
        "  links_raw = \"ftp://download.big.ac.cn/gsa3/CRA002497/CRR126647/CRR126647_f1.fastq.gz\tftp://download.big.ac.cn/gsa3/CRA002497/CRR126647/CRR126647_r2.fastq.gz\tftp://download.big.ac.cn/gsa3/CRA002497/CRR126648/CRR126648_f1.fastq.gz\tftp://download.big.ac.cn/gsa3/CRA002497/CRR126648/CRR126648_r2.fastq.gz\tftp://download.big.ac.cn/gsa3/CRA002497/CRR126649/CRR126649_f1.fastq.gz\tftp://download.big.ac.cn/gsa3/CRA002497/CRR126649/CRR126649_r2.fastq.gz\tftp://download.big.ac.cn/gsa3/CRA002497/CRR126650/CRR126650_f1.fastq.gz\tftp://download.big.ac.cn/gsa3/CRA002497/CRR126650/CRR126650_r2.fastq.gz\tftp://download.big.ac.cn/gsa3/CRA002497/CRR126651/CRR126651_f1.fastq.gz\tftp://download.big.ac.cn/gsa3/CRA002497/CRR126651/CRR126651_r2.fastq.gz\tftp://download.big.ac.cn/gsa3/CRA002497/CRR126652/CRR126652_f1.fastq.gz\tftp://download.big.ac.cn/gsa3/CRA002497/CRR126652/CRR126652_r2.fastq.gz\tftp://download.big.ac.cn/gsa3/CRA002497/CRR126653/CRR126653_f1.fastq.gz\tftp://download.big.ac.cn/gsa3/CRA002497/CRR126653/CRR126653_r2.fastq.gz\tftp://download.big.ac.cn/gsa3/CRA002497/CRR126654/CRR126654_f1.fastq.gz\tftp://download.big.ac.cn/gsa3/CRA002497/CRR126654/CRR126654_r2.fastq.gz\tftp://download.big.ac.cn/gsa3/CRA002497/CRR126655/CRR126655_f1.fastq.gz\tftp://download.big.ac.cn/gsa3/CRA002497/CRR126655/CRR126655_r2.fastq.gz\tftp://download.big.ac.cn/gsa3/CRA002497/CRR126656/CRR126656_f1.fastq.gz\tftp://download.big.ac.cn/gsa3/CRA002497/CRR126656/CRR126656_r2.fastq.gz\tftp://download.big.ac.cn/gsa3/CRA002497/CRR126657/CRR126657_f1.fastq.gz\tftp://download.big.ac.cn/gsa3/CRA002497/CRR126657/CRR126657_r2.fastq.gz\tftp://download.big.ac.cn/gsa3/CRA002497/CRR126658/CRR126658_f1.fastq.gz\tftp://download.big.ac.cn/gsa3/CRA002497/CRR126658/CRR126658_r2.fastq.gz\"\n",
        "\n",
        "  # Convert it to a list where each link is an element\n",
        "  \n",
        "  fastqs = links_raw.split()\n",
        "\n",
        "#sample specific metadata\n",
        "\n",
        "no_samples = 1\n",
        "\n",
        "condition = [\"covid infected, late recovery stage\"] * no_samples"
      ],
      "execution_count": 1,
      "outputs": []
    },
    {
      "cell_type": "code",
      "metadata": {
        "id": "5R3tPDqnoJUn"
      },
      "source": [
        "no_samples = 1\n",
        "\n",
        "fastqs_per_sample = [4, 8, 8] \n",
        "\n",
        "sample_id = samp_id\n",
        "\n",
        "database_id = [id] * no_samples\n",
        "\n",
        "tissue = [\"blood\"] * no_samples\n",
        "\n",
        "cell_type = [\"PBMCs\"] * no_samples\n",
        "\n",
        "species = [\"human\"] * no_samples\n",
        "\n",
        "technology = [\"10xv2\"] * no_samples\n",
        "\n",
        "paper = [\"Wen et al 2020\"] * no_samples\n",
        "\n",
        "figure = [\"Fig: all\"] * no_samples\n",
        "\n",
        "\n",
        "# Set string variables for kb functions\n",
        "\n",
        "species_kb = species[0]\n",
        "\n",
        "technology_kb = technology[0]\n",
        "\n"
      ],
      "execution_count": 2,
      "outputs": []
    },
    {
      "cell_type": "markdown",
      "metadata": {
        "id": "FPwL0-_-KSAw"
      },
      "source": [
        "# Imports and installs"
      ]
    },
    {
      "cell_type": "code",
      "metadata": {
        "colab": {
          "base_uri": "https://localhost:8080/"
        },
        "id": "1HSlUGZEp3oP",
        "outputId": "290790fc-8a07-449c-8043-47f1e3bd222d"
      },
      "source": [
        "# install and import necessary software\n",
        "\n",
        "# Install kb and scanpy\n",
        "!pip -q install kb-python \n",
        "!pip -q install scanpy\n",
        "\n",
        "import re\n",
        "import os\n",
        "\n",
        "# Setup\n",
        "\n",
        "import anndata\n",
        "import pandas as pd\n",
        "import numpy as np\n",
        "import matplotlib.pyplot as plt\n",
        "import matplotlib as mpl\n",
        "import matplotlib.patches as mpatches\n",
        "import scanpy as sc\n",
        "from scipy import stats\n",
        "\n",
        "from collections import OrderedDict\n",
        "from sklearn.decomposition import TruncatedSVD\n",
        "from sklearn.manifold import TSNE\n",
        "from sklearn.preprocessing import scale\n",
        "\n",
        "from sklearn.cluster import KMeans\n",
        "from sklearn.preprocessing import normalize\n",
        "from sklearn.preprocessing import LabelEncoder\n",
        "from sklearn.neighbors import NeighborhoodComponentsAnalysis\n",
        "from matplotlib import cm\n",
        "from matplotlib.lines import Line2D\n",
        "\n",
        "def nd(arr):\n",
        "    return np.asarray(arr).reshape(-1)\n",
        "def yex(ax):\n",
        "    lims = [np.min([ax.get_xlim(), ax.get_ylim()]),\n",
        "            np.max([ax.get_xlim(), ax.get_ylim()])]\n",
        "\n",
        "    # now plot both limits against eachother\n",
        "    ax.plot(lims, lims, 'k-', alpha=0.75, zorder=0)\n",
        "    ax.set_aspect('equal')\n",
        "    ax.set_xlim(lims)\n",
        "    ax.set_ylim(lims)\n",
        "    return ax\n",
        "\n",
        "def trim_axs(axs, N):\n",
        "    \"\"\"little helper to massage the axs list to have correct length...\"\"\"\n",
        "    axs = axs.flat\n",
        "    for ax in axs[N:]:\n",
        "        ax.remove()\n",
        "    return axs[:N]\n",
        "\n",
        "import warnings\n",
        "warnings.filterwarnings('ignore')\n",
        "\n",
        "fsize=20\n",
        "\n",
        "plt.rcParams.update({'font.size': fsize})\n",
        "%config InlineBackend.figure_format = 'retina'"
      ],
      "execution_count": 3,
      "outputs": [
        {
          "output_type": "stream",
          "text": [
            "\u001b[K     |████████████████████████████████| 59.1MB 104kB/s \n",
            "\u001b[K     |████████████████████████████████| 133kB 50.9MB/s \n",
            "\u001b[K     |████████████████████████████████| 10.3MB 41.1MB/s \n",
            "\u001b[K     |████████████████████████████████| 51kB 5.3MB/s \n",
            "\u001b[K     |████████████████████████████████| 13.2MB 149kB/s \n",
            "\u001b[K     |████████████████████████████████| 81kB 7.2MB/s \n",
            "\u001b[K     |████████████████████████████████| 112kB 39.3MB/s \n",
            "\u001b[K     |████████████████████████████████| 71kB 6.7MB/s \n",
            "\u001b[K     |████████████████████████████████| 1.2MB 39.9MB/s \n",
            "\u001b[?25h  Building wheel for loompy (setup.py) ... \u001b[?25l\u001b[?25hdone\n",
            "  Building wheel for sinfo (setup.py) ... \u001b[?25l\u001b[?25hdone\n",
            "  Building wheel for umap-learn (setup.py) ... \u001b[?25l\u001b[?25hdone\n",
            "  Building wheel for numpy-groupies (setup.py) ... \u001b[?25l\u001b[?25hdone\n",
            "  Building wheel for pynndescent (setup.py) ... \u001b[?25l\u001b[?25hdone\n"
          ],
          "name": "stdout"
        }
      ]
    },
    {
      "cell_type": "markdown",
      "metadata": {
        "id": "7V6FbosVrvP4"
      },
      "source": [
        "# Downloads: (bam (if bam) and index"
      ]
    },
    {
      "cell_type": "code",
      "metadata": {
        "id": "q46hw4zqKUPS"
      },
      "source": [
        "if bam:\n",
        "\n",
        "  # Install bamtofastq from 10x website (only bam files available)\n",
        "  !wget http://cf.10xgenomics.com/misc/bamtofastq-1.2.0\n",
        "  !chmod +x bamtofastq-1.2.0\n",
        "  # Download the bam file\n",
        "  !wget -- continue ${BAM_LINK}\n",
        "\n",
        "\n"
      ],
      "execution_count": 4,
      "outputs": []
    },
    {
      "cell_type": "code",
      "metadata": {
        "id": "tDQlrjtqNF0m"
      },
      "source": [
        "if bam:\n",
        "  # Convert to fastq\n",
        "  !./bamtofastq-1.2.0 --reads-per-fastq=500000000 $bam_filename ./fastqs\\\n",
        "\n",
        "  # Remove original bam file to save space\n",
        "  !rm $bam_filename\n"
      ],
      "execution_count": 5,
      "outputs": []
    },
    {
      "cell_type": "code",
      "metadata": {
        "id": "SXRDRphvqcLe"
      },
      "source": [
        "# Store fastq names on a list\n",
        "\n",
        "if bam:\n",
        "  # cd into fastqs folder\n",
        "  %cd /content/fastqs\n",
        "\n",
        "  #store the name of the folder generated by bamtofastq\n",
        "  _filename = os.listdir()[0]\n",
        "\n",
        "  # cd into that folder\n",
        "  %cd $_filename\n",
        "\n",
        "  # store fastq names in a list\n",
        "  fastqs = os.listdir()\n",
        "\n",
        "\n",
        "  # Remove I1 and R3 reads not relevant for our analysis\n",
        "\n",
        "  # Initialize list containing elements to remove\n",
        "  remov_elem = []\n",
        "\n",
        "  print (\"\\n\\nThis is the complete list of fastqs:\\n -----------\")\n",
        "  for elem in fastqs:\n",
        "    print (elem)\n",
        "\n",
        "  # Search index (I1 or R3) fastqs and remove them from list\n",
        "  for elem in fastqs:\n",
        "    if re.search(\"_R3_\", elem) or re.search(\"_I1_\", elem):\n",
        "      remov_elem = remov_elem +[elem]\n",
        "\n",
        "  fastqs = [elem for elem in fastqs if elem not in remov_elem] \n",
        "\n",
        "  print (\"\\n\\nThis is the filtered list of fastqs:\\n -----------\")\n",
        "  for elem in fastqs:\n",
        "    print (elem)\n"
      ],
      "execution_count": 6,
      "outputs": []
    },
    {
      "cell_type": "code",
      "metadata": {
        "id": "ZnFcqcSgjLBw"
      },
      "source": [
        "# Remove fastqs that wont be analyzed to save space\n",
        "if bam:\n",
        "  for elem in remov_elem:\n",
        "    !rm $elem"
      ],
      "execution_count": 7,
      "outputs": []
    },
    {
      "cell_type": "code",
      "metadata": {
        "id": "FLVS8aB7Dm6J"
      },
      "source": [
        "if bam:\n",
        "  # sort fastqs alphabetically to get R1 and R2 in order\n",
        "  fastqs = sorted(fastqs)"
      ],
      "execution_count": 8,
      "outputs": []
    },
    {
      "cell_type": "code",
      "metadata": {
        "id": "FE9gWbQgpBfR",
        "outputId": "6c47aba6-cfd5-44a8-d02d-b8fb8d379293",
        "colab": {
          "base_uri": "https://localhost:8080/"
        }
      },
      "source": [
        "# wget fastqs from non ffq links in fastqs folder\n",
        "if not bam and not fastq_ffqlinks:\n",
        "  !mkdir fastqs\n",
        "  %cd fastqs\n",
        "  while len(os.listdir()) != len(fastqs):\n",
        "    for link in fastqs:\n",
        "      !wget $link --continue\n",
        "\n",
        "  # update fastqs variable with name of files\n",
        "  fastqs = sorted(os.listdir())"
      ],
      "execution_count": 9,
      "outputs": [
        {
          "output_type": "stream",
          "text": [
            "/content/fastqs\n",
            "--2021-05-04 02:44:46--  ftp://download.big.ac.cn/gsa3/CRA002497/CRR126647/CRR126647_f1.fastq.gz\n",
            "           => ‘CRR126647_f1.fastq.gz’\n",
            "Resolving download.big.ac.cn (download.big.ac.cn)... 124.16.164.229\n",
            "Connecting to download.big.ac.cn (download.big.ac.cn)|124.16.164.229|:21... connected.\n",
            "Logging in as anonymous ... Logged in!\n",
            "==> SYST ... done.    ==> PWD ... done.\n",
            "==> TYPE I ... done.  ==> CWD (1) /gsa3/CRA002497/CRR126647 ... done.\n",
            "==> SIZE CRR126647_f1.fastq.gz ... 2537375081\n",
            "==> PASV ... done.    ==> RETR CRR126647_f1.fastq.gz ... done.\n",
            "Length: 2537375081 (2.4G) (unauthoritative)\n",
            "\n",
            "CRR126647_f1.fastq. 100%[===================>]   2.36G  11.8MB/s    in 3m 30s  \n",
            "\n",
            "2021-05-04 02:48:20 (11.5 MB/s) - ‘CRR126647_f1.fastq.gz’ saved [2537375081]\n",
            "\n",
            "--2021-05-04 02:48:20--  ftp://download.big.ac.cn/gsa3/CRA002497/CRR126647/CRR126647_r2.fastq.gz\n",
            "           => ‘CRR126647_r2.fastq.gz’\n",
            "Resolving download.big.ac.cn (download.big.ac.cn)... 124.16.164.229\n",
            "Connecting to download.big.ac.cn (download.big.ac.cn)|124.16.164.229|:21... connected.\n",
            "Logging in as anonymous ... Logged in!\n",
            "==> SYST ... done.    ==> PWD ... done.\n",
            "==> TYPE I ... done.  ==> CWD (1) /gsa3/CRA002497/CRR126647 ... done.\n",
            "==> SIZE CRR126647_r2.fastq.gz ... 10190773807\n",
            "==> PASV ... done.    ==> RETR CRR126647_r2.fastq.gz ... done.\n",
            "Length: 10190773807 (9.5G) (unauthoritative)\n",
            "\n",
            "CRR126647_r2.fastq. 100%[===================>]   9.49G  8.14MB/s    in 16m 4s  \n",
            "\n",
            "2021-05-04 03:04:27 (10.1 MB/s) - Control connection closed.\n",
            "Retrying.\n",
            "\n",
            "--2021-05-04 03:19:28--  ftp://download.big.ac.cn/gsa3/CRA002497/CRR126647/CRR126647_r2.fastq.gz\n",
            "  (try: 2) => ‘CRR126647_r2.fastq.gz’\n",
            "Connecting to download.big.ac.cn (download.big.ac.cn)|124.16.164.229|:21... connected.\n",
            "Logging in as anonymous ... Logged in!\n",
            "==> SYST ... done.    ==> PWD ... done.\n",
            "==> TYPE I ... done.  ==> CWD (1) /gsa3/CRA002497/CRR126647 ... done.\n",
            "==> SIZE CRR126647_r2.fastq.gz ... 10190773807\n",
            "File has already been retrieved.\n",
            "2021-05-04 03:19:30 (0.00 B/s) - ‘CRR126647_r2.fastq.gz’ saved [10190773807]\n",
            "\n",
            "--2021-05-04 03:19:30--  ftp://download.big.ac.cn/gsa3/CRA002497/CRR126648/CRR126648_f1.fastq.gz\n",
            "           => ‘CRR126648_f1.fastq.gz’\n",
            "Resolving download.big.ac.cn (download.big.ac.cn)... 124.16.164.229\n",
            "Connecting to download.big.ac.cn (download.big.ac.cn)|124.16.164.229|:21... connected.\n",
            "Logging in as anonymous ... Logged in!\n",
            "==> SYST ... done.    ==> PWD ... done.\n",
            "==> TYPE I ... done.  ==> CWD (1) /gsa3/CRA002497/CRR126648 ... done.\n",
            "==> SIZE CRR126648_f1.fastq.gz ... 2236080273\n",
            "==> PASV ... done.    ==> RETR CRR126648_f1.fastq.gz ... done.\n",
            "Length: 2236080273 (2.1G) (unauthoritative)\n",
            "\n",
            "CRR126648_f1.fastq. 100%[===================>]   2.08G  9.32MB/s    in 3m 38s  \n",
            "\n",
            "2021-05-04 03:23:12 (9.80 MB/s) - ‘CRR126648_f1.fastq.gz’ saved [2236080273]\n",
            "\n",
            "--2021-05-04 03:23:12--  ftp://download.big.ac.cn/gsa3/CRA002497/CRR126648/CRR126648_r2.fastq.gz\n",
            "           => ‘CRR126648_r2.fastq.gz’\n",
            "Resolving download.big.ac.cn (download.big.ac.cn)... 124.16.164.229\n",
            "Connecting to download.big.ac.cn (download.big.ac.cn)|124.16.164.229|:21... connected.\n",
            "Logging in as anonymous ... Logged in!\n",
            "==> SYST ... done.    ==> PWD ... done.\n",
            "==> TYPE I ... done.  ==> CWD (1) /gsa3/CRA002497/CRR126648 ... done.\n",
            "==> SIZE CRR126648_r2.fastq.gz ... 8798399113\n",
            "==> PASV ... done.    ==> RETR CRR126648_r2.fastq.gz ... done.\n",
            "Length: 8798399113 (8.2G) (unauthoritative)\n",
            "\n",
            "CRR126648_r2.fastq. 100%[===================>]   8.19G  10.5MB/s    in 14m 22s \n",
            "\n",
            "2021-05-04 03:37:38 (9.74 MB/s) - Control connection closed.\n",
            "Retrying.\n",
            "\n",
            "--2021-05-04 03:52:39--  ftp://download.big.ac.cn/gsa3/CRA002497/CRR126648/CRR126648_r2.fastq.gz\n",
            "  (try: 2) => ‘CRR126648_r2.fastq.gz’\n",
            "Connecting to download.big.ac.cn (download.big.ac.cn)|124.16.164.229|:21... connected.\n",
            "Logging in as anonymous ... Logged in!\n",
            "==> SYST ... done.    ==> PWD ... done.\n",
            "==> TYPE I ... done.  ==> CWD (1) /gsa3/CRA002497/CRR126648 ... done.\n",
            "==> SIZE CRR126648_r2.fastq.gz ... 8798399113\n",
            "File has already been retrieved.\n",
            "2021-05-04 03:52:41 (0.00 B/s) - ‘CRR126648_r2.fastq.gz’ saved [8798399113]\n",
            "\n",
            "--2021-05-04 03:52:41--  ftp://download.big.ac.cn/gsa3/CRA002497/CRR126649/CRR126649_f1.fastq.gz\n",
            "           => ‘CRR126649_f1.fastq.gz’\n",
            "Resolving download.big.ac.cn (download.big.ac.cn)... 124.16.164.229\n",
            "Connecting to download.big.ac.cn (download.big.ac.cn)|124.16.164.229|:21... connected.\n",
            "Logging in as anonymous ... Logged in!\n",
            "==> SYST ... done.    ==> PWD ... done.\n",
            "==> TYPE I ... done.  ==> CWD (1) /gsa3/CRA002497/CRR126649 ... done.\n",
            "==> SIZE CRR126649_f1.fastq.gz ... 2165590779\n",
            "==> PASV ... done.    ==> RETR CRR126649_f1.fastq.gz ... done.\n",
            "Length: 2165590779 (2.0G) (unauthoritative)\n",
            "\n",
            "CRR126649_f1.fastq. 100%[===================>]   2.02G  11.7MB/s    in 3m 0s   \n",
            "\n",
            "2021-05-04 03:55:44 (11.5 MB/s) - ‘CRR126649_f1.fastq.gz’ saved [2165590779]\n",
            "\n",
            "--2021-05-04 03:55:45--  ftp://download.big.ac.cn/gsa3/CRA002497/CRR126649/CRR126649_r2.fastq.gz\n",
            "           => ‘CRR126649_r2.fastq.gz’\n",
            "Resolving download.big.ac.cn (download.big.ac.cn)... 124.16.164.229\n",
            "Connecting to download.big.ac.cn (download.big.ac.cn)|124.16.164.229|:21... connected.\n",
            "Logging in as anonymous ... Logged in!\n",
            "==> SYST ... done.    ==> PWD ... done.\n",
            "==> TYPE I ... done.  ==> CWD (1) /gsa3/CRA002497/CRR126649 ... done.\n",
            "==> SIZE CRR126649_r2.fastq.gz ... 8406766577\n",
            "==> PASV ... done.    ==> RETR CRR126649_r2.fastq.gz ... done.\n",
            "Length: 8406766577 (7.8G) (unauthoritative)\n",
            "\n",
            "CRR126649_r2.fastq. 100%[===================>]   7.83G  11.0MB/s    in 12m 28s \n",
            "\n",
            "2021-05-04 04:08:17 (10.7 MB/s) - Control connection closed.\n",
            "Retrying.\n",
            "\n",
            "--2021-05-04 04:23:18--  ftp://download.big.ac.cn/gsa3/CRA002497/CRR126649/CRR126649_r2.fastq.gz\n",
            "  (try: 2) => ‘CRR126649_r2.fastq.gz’\n",
            "Connecting to download.big.ac.cn (download.big.ac.cn)|124.16.164.229|:21... connected.\n",
            "Logging in as anonymous ... Logged in!\n",
            "==> SYST ... done.    ==> PWD ... done.\n",
            "==> TYPE I ... done.  ==> CWD (1) /gsa3/CRA002497/CRR126649 ... done.\n",
            "==> SIZE CRR126649_r2.fastq.gz ... 8406766577\n",
            "File has already been retrieved.\n",
            "2021-05-04 04:23:20 (0.00 B/s) - ‘CRR126649_r2.fastq.gz’ saved [8406766577]\n",
            "\n",
            "--2021-05-04 04:23:20--  ftp://download.big.ac.cn/gsa3/CRA002497/CRR126650/CRR126650_f1.fastq.gz\n",
            "           => ‘CRR126650_f1.fastq.gz’\n",
            "Resolving download.big.ac.cn (download.big.ac.cn)... 124.16.164.229\n",
            "Connecting to download.big.ac.cn (download.big.ac.cn)|124.16.164.229|:21... connected.\n",
            "Logging in as anonymous ... Logged in!\n",
            "==> SYST ... done.    ==> PWD ... done.\n",
            "==> TYPE I ... done.  ==> CWD (1) /gsa3/CRA002497/CRR126650 ... done.\n",
            "==> SIZE CRR126650_f1.fastq.gz ... 2518666197\n",
            "==> PASV ... done.    ==> RETR CRR126650_f1.fastq.gz ... done.\n",
            "Length: 2518666197 (2.3G) (unauthoritative)\n",
            "\n",
            "CRR126650_f1.fastq. 100%[===================>]   2.34G  11.9MB/s    in 3m 27s  \n",
            "\n",
            "2021-05-04 04:26:51 (11.6 MB/s) - ‘CRR126650_f1.fastq.gz’ saved [2518666197]\n",
            "\n",
            "--2021-05-04 04:26:51--  ftp://download.big.ac.cn/gsa3/CRA002497/CRR126650/CRR126650_r2.fastq.gz\n",
            "           => ‘CRR126650_r2.fastq.gz’\n",
            "Resolving download.big.ac.cn (download.big.ac.cn)... 124.16.164.229\n",
            "Connecting to download.big.ac.cn (download.big.ac.cn)|124.16.164.229|:21... connected.\n",
            "Logging in as anonymous ... Logged in!\n",
            "==> SYST ... done.    ==> PWD ... done.\n",
            "==> TYPE I ... done.  ==> CWD (1) /gsa3/CRA002497/CRR126650 ... done.\n",
            "==> SIZE CRR126650_r2.fastq.gz ... 9900799265\n",
            "==> PASV ... done.    ==> RETR CRR126650_r2.fastq.gz ... done.\n",
            "Length: 9900799265 (9.2G) (unauthoritative)\n",
            "\n",
            "CRR126650_r2.fastq. 100%[===================>]   9.22G  11.7MB/s    in 13m 31s \n",
            "\n",
            "2021-05-04 04:40:25 (11.6 MB/s) - Control connection closed.\n",
            "Retrying.\n",
            "\n",
            "--2021-05-04 04:55:26--  ftp://download.big.ac.cn/gsa3/CRA002497/CRR126650/CRR126650_r2.fastq.gz\n",
            "  (try: 2) => ‘CRR126650_r2.fastq.gz’\n",
            "Connecting to download.big.ac.cn (download.big.ac.cn)|124.16.164.229|:21... connected.\n",
            "Logging in as anonymous ... Logged in!\n",
            "==> SYST ... done.    ==> PWD ... done.\n",
            "==> TYPE I ... done.  ==> CWD (1) /gsa3/CRA002497/CRR126650 ... done.\n",
            "==> SIZE CRR126650_r2.fastq.gz ... 9900799265\n",
            "File has already been retrieved.\n",
            "2021-05-04 04:55:28 (0.00 B/s) - ‘CRR126650_r2.fastq.gz’ saved [9900799265]\n",
            "\n",
            "--2021-05-04 04:55:28--  ftp://download.big.ac.cn/gsa3/CRA002497/CRR126651/CRR126651_f1.fastq.gz\n",
            "           => ‘CRR126651_f1.fastq.gz’\n",
            "Resolving download.big.ac.cn (download.big.ac.cn)... 124.16.164.229\n",
            "Connecting to download.big.ac.cn (download.big.ac.cn)|124.16.164.229|:21... connected.\n",
            "Logging in as anonymous ... Logged in!\n",
            "==> SYST ... done.    ==> PWD ... done.\n",
            "==> TYPE I ... done.  ==> CWD (1) /gsa3/CRA002497/CRR126651 ... done.\n",
            "==> SIZE CRR126651_f1.fastq.gz ... 633261290\n",
            "==> PASV ... done.    ==> RETR CRR126651_f1.fastq.gz ... done.\n",
            "Length: 633261290 (604M) (unauthoritative)\n",
            "\n",
            "CRR126651_f1.fastq. 100%[===================>] 603.92M  11.6MB/s    in 57s     \n",
            "\n",
            "2021-05-04 04:56:29 (10.6 MB/s) - ‘CRR126651_f1.fastq.gz’ saved [633261290]\n",
            "\n",
            "--2021-05-04 04:56:29--  ftp://download.big.ac.cn/gsa3/CRA002497/CRR126651/CRR126651_r2.fastq.gz\n",
            "           => ‘CRR126651_r2.fastq.gz’\n",
            "Resolving download.big.ac.cn (download.big.ac.cn)... 124.16.164.229\n",
            "Connecting to download.big.ac.cn (download.big.ac.cn)|124.16.164.229|:21... connected.\n",
            "Logging in as anonymous ... Logged in!\n",
            "==> SYST ... done.    ==> PWD ... done.\n",
            "==> TYPE I ... done.  ==> CWD (1) /gsa3/CRA002497/CRR126651 ... done.\n",
            "==> SIZE CRR126651_r2.fastq.gz ... 707887515\n",
            "==> PASV ... done.    ==> RETR CRR126651_r2.fastq.gz ... done.\n",
            "Length: 707887515 (675M) (unauthoritative)\n",
            "\n",
            "CRR126651_r2.fastq. 100%[===================>] 675.09M  11.1MB/s    in 63s     \n",
            "\n",
            "2021-05-04 04:57:36 (10.7 MB/s) - ‘CRR126651_r2.fastq.gz’ saved [707887515]\n",
            "\n",
            "--2021-05-04 04:57:36--  ftp://download.big.ac.cn/gsa3/CRA002497/CRR126652/CRR126652_f1.fastq.gz\n",
            "           => ‘CRR126652_f1.fastq.gz’\n",
            "Resolving download.big.ac.cn (download.big.ac.cn)... 124.16.164.229\n",
            "Connecting to download.big.ac.cn (download.big.ac.cn)|124.16.164.229|:21... connected.\n",
            "Logging in as anonymous ... Logged in!\n",
            "==> SYST ... done.    ==> PWD ... done.\n",
            "==> TYPE I ... done.  ==> CWD (1) /gsa3/CRA002497/CRR126652 ... done.\n",
            "==> SIZE CRR126652_f1.fastq.gz ... 783004758\n",
            "==> PASV ... done.    ==> RETR CRR126652_f1.fastq.gz ... done.\n",
            "Length: 783004758 (747M) (unauthoritative)\n",
            "\n",
            "CRR126652_f1.fastq. 100%[===================>] 746.73M  11.8MB/s    in 66s     \n",
            "\n",
            "2021-05-04 04:58:46 (11.3 MB/s) - ‘CRR126652_f1.fastq.gz’ saved [783004758]\n",
            "\n",
            "--2021-05-04 04:58:46--  ftp://download.big.ac.cn/gsa3/CRA002497/CRR126652/CRR126652_r2.fastq.gz\n",
            "           => ‘CRR126652_r2.fastq.gz’\n",
            "Resolving download.big.ac.cn (download.big.ac.cn)... 124.16.164.229\n",
            "Connecting to download.big.ac.cn (download.big.ac.cn)|124.16.164.229|:21... connected.\n",
            "Logging in as anonymous ... Logged in!\n",
            "==> SYST ... done.    ==> PWD ... done.\n",
            "==> TYPE I ... done.  ==> CWD (1) /gsa3/CRA002497/CRR126652 ... done.\n",
            "==> SIZE CRR126652_r2.fastq.gz ... 871714827\n",
            "==> PASV ... done.    ==> RETR CRR126652_r2.fastq.gz ... done.\n",
            "Length: 871714827 (831M) (unauthoritative)\n",
            "\n",
            "CRR126652_r2.fastq. 100%[===================>] 831.33M  11.5MB/s    in 77s     \n",
            "\n",
            "2021-05-04 05:00:07 (10.8 MB/s) - ‘CRR126652_r2.fastq.gz’ saved [871714827]\n",
            "\n",
            "--2021-05-04 05:00:07--  ftp://download.big.ac.cn/gsa3/CRA002497/CRR126653/CRR126653_f1.fastq.gz\n",
            "           => ‘CRR126653_f1.fastq.gz’\n",
            "Resolving download.big.ac.cn (download.big.ac.cn)... 124.16.164.229\n",
            "Connecting to download.big.ac.cn (download.big.ac.cn)|124.16.164.229|:21... connected.\n",
            "Logging in as anonymous ... Logged in!\n",
            "==> SYST ... done.    ==> PWD ... done.\n",
            "==> TYPE I ... done.  ==> CWD (1) /gsa3/CRA002497/CRR126653 ... done.\n",
            "==> SIZE CRR126653_f1.fastq.gz ... 723635392\n",
            "==> PASV ... done.    ==> RETR CRR126653_f1.fastq.gz ... done.\n",
            "Length: 723635392 (690M) (unauthoritative)\n",
            "\n",
            "CRR126653_f1.fastq. 100%[===================>] 690.11M  12.0MB/s    in 60s     \n",
            "\n",
            "2021-05-04 05:01:10 (11.5 MB/s) - ‘CRR126653_f1.fastq.gz’ saved [723635392]\n",
            "\n",
            "--2021-05-04 05:01:10--  ftp://download.big.ac.cn/gsa3/CRA002497/CRR126653/CRR126653_r2.fastq.gz\n",
            "           => ‘CRR126653_r2.fastq.gz’\n",
            "Resolving download.big.ac.cn (download.big.ac.cn)... 124.16.164.229\n",
            "Connecting to download.big.ac.cn (download.big.ac.cn)|124.16.164.229|:21... connected.\n",
            "Logging in as anonymous ... Logged in!\n",
            "==> SYST ... done.    ==> PWD ... done.\n",
            "==> TYPE I ... done.  ==> CWD (1) /gsa3/CRA002497/CRR126653 ... done.\n",
            "==> SIZE CRR126653_r2.fastq.gz ... 803699812\n",
            "==> PASV ... done.    ==> RETR CRR126653_r2.fastq.gz ... done.\n",
            "Length: 803699812 (766M) (unauthoritative)\n",
            "\n",
            "CRR126653_r2.fastq. 100%[===================>] 766.47M  11.4MB/s    in 76s     \n",
            "\n",
            "2021-05-04 05:02:29 (10.1 MB/s) - ‘CRR126653_r2.fastq.gz’ saved [803699812]\n",
            "\n",
            "--2021-05-04 05:02:29--  ftp://download.big.ac.cn/gsa3/CRA002497/CRR126654/CRR126654_f1.fastq.gz\n",
            "           => ‘CRR126654_f1.fastq.gz’\n",
            "Resolving download.big.ac.cn (download.big.ac.cn)... 124.16.164.229\n",
            "Connecting to download.big.ac.cn (download.big.ac.cn)|124.16.164.229|:21... connected.\n",
            "Logging in as anonymous ... Logged in!\n",
            "==> SYST ... done.    ==> PWD ... done.\n",
            "==> TYPE I ... done.  ==> CWD (1) /gsa3/CRA002497/CRR126654 ... done.\n",
            "==> SIZE CRR126654_f1.fastq.gz ... 835143556\n",
            "==> PASV ... done.    ==> RETR CRR126654_f1.fastq.gz ... done.\n",
            "Length: 835143556 (796M) (unauthoritative)\n",
            "\n",
            "CRR126654_f1.fastq. 100%[===================>] 796.45M  11.8MB/s    in 70s     \n",
            "\n",
            "2021-05-04 05:03:43 (11.3 MB/s) - ‘CRR126654_f1.fastq.gz’ saved [835143556]\n",
            "\n",
            "--2021-05-04 05:03:43--  ftp://download.big.ac.cn/gsa3/CRA002497/CRR126654/CRR126654_r2.fastq.gz\n",
            "           => ‘CRR126654_r2.fastq.gz’\n",
            "Resolving download.big.ac.cn (download.big.ac.cn)... 124.16.164.229\n",
            "Connecting to download.big.ac.cn (download.big.ac.cn)|124.16.164.229|:21... connected.\n",
            "Logging in as anonymous ... Logged in!\n",
            "==> SYST ... done.    ==> PWD ... done.\n",
            "==> TYPE I ... done.  ==> CWD (1) /gsa3/CRA002497/CRR126654 ... done.\n",
            "==> SIZE CRR126654_r2.fastq.gz ... 917054509\n",
            "==> PASV ... done.    ==> RETR CRR126654_r2.fastq.gz ... done.\n",
            "Length: 917054509 (875M) (unauthoritative)\n",
            "\n",
            "CRR126654_r2.fastq. 100%[===================>] 874.57M  11.8MB/s    in 77s     \n",
            "\n",
            "2021-05-04 05:05:04 (11.3 MB/s) - ‘CRR126654_r2.fastq.gz’ saved [917054509]\n",
            "\n",
            "--2021-05-04 05:05:04--  ftp://download.big.ac.cn/gsa3/CRA002497/CRR126655/CRR126655_f1.fastq.gz\n",
            "           => ‘CRR126655_f1.fastq.gz’\n",
            "Resolving download.big.ac.cn (download.big.ac.cn)... 124.16.164.229\n",
            "Connecting to download.big.ac.cn (download.big.ac.cn)|124.16.164.229|:21... connected.\n",
            "Logging in as anonymous ... Logged in!\n",
            "==> SYST ... done.    ==> PWD ... done.\n",
            "==> TYPE I ... done.  ==> CWD (1) /gsa3/CRA002497/CRR126655 ... done.\n",
            "==> SIZE CRR126655_f1.fastq.gz ... 754977371\n",
            "==> PASV ... done.    ==> RETR CRR126655_f1.fastq.gz ... done.\n",
            "Length: 754977371 (720M) (unauthoritative)\n",
            "\n",
            "CRR126655_f1.fastq. 100%[===================>] 720.00M  11.4MB/s    in 69s     \n",
            "\n",
            "2021-05-04 05:06:16 (10.5 MB/s) - ‘CRR126655_f1.fastq.gz’ saved [754977371]\n",
            "\n",
            "--2021-05-04 05:06:16--  ftp://download.big.ac.cn/gsa3/CRA002497/CRR126655/CRR126655_r2.fastq.gz\n",
            "           => ‘CRR126655_r2.fastq.gz’\n",
            "Resolving download.big.ac.cn (download.big.ac.cn)... 124.16.164.229\n",
            "Connecting to download.big.ac.cn (download.big.ac.cn)|124.16.164.229|:21... connected.\n",
            "Logging in as anonymous ... Logged in!\n",
            "==> SYST ... done.    ==> PWD ... done.\n",
            "==> TYPE I ... done.  ==> CWD (1) /gsa3/CRA002497/CRR126655 ... done.\n",
            "==> SIZE CRR126655_r2.fastq.gz ... 792848511\n",
            "==> PASV ... done.    ==> RETR CRR126655_r2.fastq.gz ... done.\n",
            "Length: 792848511 (756M) (unauthoritative)\n",
            "\n",
            "CRR126655_r2.fastq. 100%[===================>] 756.12M  11.8MB/s    in 66s     \n",
            "\n",
            "2021-05-04 05:07:26 (11.4 MB/s) - ‘CRR126655_r2.fastq.gz’ saved [792848511]\n",
            "\n",
            "--2021-05-04 05:07:27--  ftp://download.big.ac.cn/gsa3/CRA002497/CRR126656/CRR126656_f1.fastq.gz\n",
            "           => ‘CRR126656_f1.fastq.gz’\n",
            "Resolving download.big.ac.cn (download.big.ac.cn)... 124.16.164.229\n",
            "Connecting to download.big.ac.cn (download.big.ac.cn)|124.16.164.229|:21... connected.\n",
            "Logging in as anonymous ... Logged in!\n",
            "==> SYST ... done.    ==> PWD ... done.\n",
            "==> TYPE I ... done.  ==> CWD (1) /gsa3/CRA002497/CRR126656 ... done.\n",
            "==> SIZE CRR126656_f1.fastq.gz ... 629032571\n",
            "==> PASV ... done.    ==> RETR CRR126656_f1.fastq.gz ... done.\n",
            "Length: 629032571 (600M) (unauthoritative)\n",
            "\n",
            "CRR126656_f1.fastq. 100%[===================>] 599.89M  11.4MB/s    in 57s     \n",
            "\n",
            "2021-05-04 05:08:28 (10.5 MB/s) - ‘CRR126656_f1.fastq.gz’ saved [629032571]\n",
            "\n",
            "--2021-05-04 05:08:28--  ftp://download.big.ac.cn/gsa3/CRA002497/CRR126656/CRR126656_r2.fastq.gz\n",
            "           => ‘CRR126656_r2.fastq.gz’\n",
            "Resolving download.big.ac.cn (download.big.ac.cn)... 124.16.164.229\n",
            "Connecting to download.big.ac.cn (download.big.ac.cn)|124.16.164.229|:21... connected.\n",
            "Logging in as anonymous ... Logged in!\n",
            "==> SYST ... done.    ==> PWD ... done.\n",
            "==> TYPE I ... done.  ==> CWD (1) /gsa3/CRA002497/CRR126656 ... done.\n",
            "==> SIZE CRR126656_r2.fastq.gz ... 664226124\n",
            "==> PASV ... done.    ==> RETR CRR126656_r2.fastq.gz ... done.\n",
            "Length: 664226124 (633M) (unauthoritative)\n",
            "\n",
            "CRR126656_r2.fastq. 100%[===================>] 633.46M  11.7MB/s    in 57s     \n",
            "\n",
            "2021-05-04 05:09:28 (11.2 MB/s) - ‘CRR126656_r2.fastq.gz’ saved [664226124]\n",
            "\n",
            "--2021-05-04 05:09:28--  ftp://download.big.ac.cn/gsa3/CRA002497/CRR126657/CRR126657_f1.fastq.gz\n",
            "           => ‘CRR126657_f1.fastq.gz’\n",
            "Resolving download.big.ac.cn (download.big.ac.cn)... 124.16.164.229\n",
            "Connecting to download.big.ac.cn (download.big.ac.cn)|124.16.164.229|:21... connected.\n",
            "Logging in as anonymous ... Logged in!\n",
            "==> SYST ... done.    ==> PWD ... done.\n",
            "==> TYPE I ... done.  ==> CWD (1) /gsa3/CRA002497/CRR126657 ... done.\n",
            "==> SIZE CRR126657_f1.fastq.gz ... 831188359\n",
            "==> PASV ... done.    ==> RETR CRR126657_f1.fastq.gz ... done.\n",
            "Length: 831188359 (793M) (unauthoritative)\n",
            "\n",
            "CRR126657_f1.fastq. 100%[===================>] 792.68M  11.6MB/s    in 74s     \n",
            "\n",
            "2021-05-04 05:10:45 (10.8 MB/s) - ‘CRR126657_f1.fastq.gz’ saved [831188359]\n",
            "\n",
            "--2021-05-04 05:10:45--  ftp://download.big.ac.cn/gsa3/CRA002497/CRR126657/CRR126657_r2.fastq.gz\n",
            "           => ‘CRR126657_r2.fastq.gz’\n",
            "Resolving download.big.ac.cn (download.big.ac.cn)... 124.16.164.229\n",
            "Connecting to download.big.ac.cn (download.big.ac.cn)|124.16.164.229|:21... connected.\n",
            "Logging in as anonymous ... Logged in!\n",
            "==> SYST ... done.    ==> PWD ... done.\n",
            "==> TYPE I ... done.  ==> CWD (1) /gsa3/CRA002497/CRR126657 ... done.\n",
            "==> SIZE CRR126657_r2.fastq.gz ... 880137945\n",
            "==> PASV ... done.    ==> RETR CRR126657_r2.fastq.gz ... done.\n",
            "Length: 880137945 (839M) (unauthoritative)\n",
            "\n",
            "CRR126657_r2.fastq. 100%[===================>] 839.36M  10.6MB/s    in 77s     \n",
            "\n",
            "2021-05-04 05:12:06 (10.8 MB/s) - ‘CRR126657_r2.fastq.gz’ saved [880137945]\n",
            "\n",
            "--2021-05-04 05:12:06--  ftp://download.big.ac.cn/gsa3/CRA002497/CRR126658/CRR126658_f1.fastq.gz\n",
            "           => ‘CRR126658_f1.fastq.gz’\n",
            "Resolving download.big.ac.cn (download.big.ac.cn)... 124.16.164.229\n",
            "Connecting to download.big.ac.cn (download.big.ac.cn)|124.16.164.229|:21... connected.\n",
            "Logging in as anonymous ... Logged in!\n",
            "==> SYST ... done.    ==> PWD ... done.\n",
            "==> TYPE I ... done.  ==> CWD (1) /gsa3/CRA002497/CRR126658 ... done.\n",
            "==> SIZE CRR126658_f1.fastq.gz ... 851741597\n",
            "==> PASV ... done.    ==> RETR CRR126658_f1.fastq.gz ... done.\n",
            "Length: 851741597 (812M) (unauthoritative)\n",
            "\n",
            "CRR126658_f1.fastq. 100%[===================>] 812.28M  12.0MB/s    in 71s     \n",
            "\n",
            "2021-05-04 05:13:20 (11.5 MB/s) - ‘CRR126658_f1.fastq.gz’ saved [851741597]\n",
            "\n",
            "--2021-05-04 05:13:20--  ftp://download.big.ac.cn/gsa3/CRA002497/CRR126658/CRR126658_r2.fastq.gz\n",
            "           => ‘CRR126658_r2.fastq.gz’\n",
            "Resolving download.big.ac.cn (download.big.ac.cn)... 124.16.164.229\n",
            "Connecting to download.big.ac.cn (download.big.ac.cn)|124.16.164.229|:21... connected.\n",
            "Logging in as anonymous ... Logged in!\n",
            "==> SYST ... done.    ==> PWD ... done.\n",
            "==> TYPE I ... done.  ==> CWD (1) /gsa3/CRA002497/CRR126658 ... done.\n",
            "==> SIZE CRR126658_r2.fastq.gz ... 891854464\n",
            "==> PASV ... done.    ==> RETR CRR126658_r2.fastq.gz ... done.\n",
            "Length: 891854464 (851M) (unauthoritative)\n",
            "\n",
            "CRR126658_r2.fastq. 100%[===================>] 850.54M  11.1MB/s    in 80s     \n",
            "\n",
            "2021-05-04 05:14:43 (10.6 MB/s) - ‘CRR126658_r2.fastq.gz’ saved [891854464]\n",
            "\n"
          ],
          "name": "stdout"
        }
      ]
    },
    {
      "cell_type": "code",
      "metadata": {
        "id": "PC9oETW1pE9t",
        "colab": {
          "base_uri": "https://localhost:8080/"
        },
        "outputId": "aaecda9c-b08d-4ba4-e2ef-cfff1a8201c6"
      },
      "source": [
        "if bam:\n",
        "  # Download the corresponding Kallisto index to folder containing fastqs\n",
        "  !kb ref -d $species_kb -i index.idx -g t2g.txt -f1 transcriptome.fasta\n",
        "\n",
        "if not bam and fastq_ffqlinks:\n",
        "  %cd /content\n",
        "\n",
        "  # Download the corresponding Kallisto index to content folder\n",
        "  !kb ref -d $species_kb -i index.idx -g t2g.txt -f1 transcriptome.fasta\n",
        "\n",
        "if not bam and not fastq_ffqlinks:\n",
        "  %cd /content/fastqs\n",
        "\n",
        "  # Download the corresponding Kallisto index to fastq folder\n",
        "  !kb ref -d $species_kb -i index.idx -g t2g.txt -f1 transcriptome.fasta"
      ],
      "execution_count": 10,
      "outputs": [
        {
          "output_type": "stream",
          "text": [
            "/content/fastqs\n",
            "[2021-05-04 05:14:47,435]    INFO Downloading files for human from https://caltech.box.com/shared/static/v1nm7lpnqz5syh8dyzdk2zs8bglncfib.gz to tmp/v1nm7lpnqz5syh8dyzdk2zs8bglncfib.gz\n",
            "100% 2.23G/2.23G [01:42<00:00, 23.4MB/s]\n",
            "[2021-05-04 05:16:31,573]    INFO Extracting files from tmp/v1nm7lpnqz5syh8dyzdk2zs8bglncfib.gz\n"
          ],
          "name": "stdout"
        }
      ]
    },
    {
      "cell_type": "code",
      "metadata": {
        "id": "vHVNa51Cp9Nr",
        "colab": {
          "base_uri": "https://localhost:8080/"
        },
        "outputId": "720ada05-b9f5-4b73-b1d6-11d66353586d"
      },
      "source": [
        "# Check to make sure the metadata is in the right order after sorting\n",
        "print(fastqs)"
      ],
      "execution_count": 11,
      "outputs": [
        {
          "output_type": "stream",
          "text": [
            "['CRR126647_f1.fastq.gz', 'CRR126647_r2.fastq.gz', 'CRR126648_f1.fastq.gz', 'CRR126648_r2.fastq.gz', 'CRR126649_f1.fastq.gz', 'CRR126649_r2.fastq.gz', 'CRR126650_f1.fastq.gz', 'CRR126650_r2.fastq.gz', 'CRR126651_f1.fastq.gz', 'CRR126651_r2.fastq.gz', 'CRR126652_f1.fastq.gz', 'CRR126652_r2.fastq.gz', 'CRR126653_f1.fastq.gz', 'CRR126653_r2.fastq.gz', 'CRR126654_f1.fastq.gz', 'CRR126654_r2.fastq.gz', 'CRR126655_f1.fastq.gz', 'CRR126655_r2.fastq.gz', 'CRR126656_f1.fastq.gz', 'CRR126656_r2.fastq.gz', 'CRR126657_f1.fastq.gz', 'CRR126657_r2.fastq.gz', 'CRR126658_f1.fastq.gz', 'CRR126658_r2.fastq.gz']\n"
          ],
          "name": "stdout"
        }
      ]
    },
    {
      "cell_type": "markdown",
      "metadata": {
        "id": "VInyuq1Dp7iz"
      },
      "source": [
        "# Process fastq files (modify kb command according to fastqs list)\n"
      ]
    },
    {
      "cell_type": "code",
      "metadata": {
        "id": "OcqtBuH-pRaX",
        "colab": {
          "base_uri": "https://localhost:8080/"
        },
        "outputId": "78e28db7-89a6-4040-aedc-4d9953299601"
      },
      "source": [
        "fastqs"
      ],
      "execution_count": 12,
      "outputs": [
        {
          "output_type": "execute_result",
          "data": {
            "text/plain": [
              "['CRR126647_f1.fastq.gz',\n",
              " 'CRR126647_r2.fastq.gz',\n",
              " 'CRR126648_f1.fastq.gz',\n",
              " 'CRR126648_r2.fastq.gz',\n",
              " 'CRR126649_f1.fastq.gz',\n",
              " 'CRR126649_r2.fastq.gz',\n",
              " 'CRR126650_f1.fastq.gz',\n",
              " 'CRR126650_r2.fastq.gz',\n",
              " 'CRR126651_f1.fastq.gz',\n",
              " 'CRR126651_r2.fastq.gz',\n",
              " 'CRR126652_f1.fastq.gz',\n",
              " 'CRR126652_r2.fastq.gz',\n",
              " 'CRR126653_f1.fastq.gz',\n",
              " 'CRR126653_r2.fastq.gz',\n",
              " 'CRR126654_f1.fastq.gz',\n",
              " 'CRR126654_r2.fastq.gz',\n",
              " 'CRR126655_f1.fastq.gz',\n",
              " 'CRR126655_r2.fastq.gz',\n",
              " 'CRR126656_f1.fastq.gz',\n",
              " 'CRR126656_r2.fastq.gz',\n",
              " 'CRR126657_f1.fastq.gz',\n",
              " 'CRR126657_r2.fastq.gz',\n",
              " 'CRR126658_f1.fastq.gz',\n",
              " 'CRR126658_r2.fastq.gz']"
            ]
          },
          "metadata": {
            "tags": []
          },
          "execution_count": 0
        }
      ]
    },
    {
      "cell_type": "code",
      "metadata": {
        "id": "5qFzPj-0kZTi",
        "colab": {
          "base_uri": "https://localhost:8080/"
        },
        "outputId": "17addc3b-f554-4dd0-ea57-7570a722fe0e"
      },
      "source": [
        "# Specify the sample number and whether they are paired-ended\n",
        "\n",
        "\n",
        "if no_samples == 1:\n",
        "\n",
        "  # Write the kb count command as a string with all fastqs of the list as an input\n",
        "  cmd = \"kb count --h5ad -i index.idx -g t2g.txt -x \" + technology_kb + \" -o output\" + sample_id[0] + \" \"\\\n",
        "  + \"--filter bustools -t 2 --overwrite \" + \"'\" +  \"' '\".join(fastqs) + \"'\"\n",
        "  \n",
        "  # Execute it\n",
        "  !$cmd\n",
        "\n",
        "# If more than one sample, iterate through fastqs accordingly\n",
        "else:\n",
        "\n",
        "  # Initializa counter for fastq files\n",
        "  j = 0\n",
        "\n",
        "  # Loop over samples for analysis\n",
        "  for i in range(no_samples):\n",
        "\n",
        "    fastqs_to_analyze = fastqs[j:j + fastqs_per_sample[i]]\n",
        "    # Write the kb count command as a string\n",
        "    cmd = \"kb count --h5ad -i ../index.idx -g ../t2g.txt -x \" + technology_kb + \" -o output\" + sample_id[i] + \" \\\n",
        "    --filter bustools -t 2 --overwrite \" + \"'\" +  \"' '\".join(fastqs_to_analyze) + \"'\"\n",
        "\n",
        "    # Execute it\n",
        "    !$cmd\n",
        "\n",
        "    # Update j to move to the next set of fastq\n",
        "    j = j + fastqs_per_sample[i]\n",
        "\n",
        "\n",
        "\n",
        "\n",
        "\n"
      ],
      "execution_count": 13,
      "outputs": [
        {
          "output_type": "stream",
          "text": [
            "[2021-05-04 05:17:11,222]    INFO Using index index.idx to generate BUS file to outputCRX102292 from\n",
            "[2021-05-04 05:17:11,222]    INFO         CRR126647_f1.fastq.gz\n",
            "[2021-05-04 05:17:11,223]    INFO         CRR126647_r2.fastq.gz\n",
            "[2021-05-04 05:17:11,223]    INFO         CRR126648_f1.fastq.gz\n",
            "[2021-05-04 05:17:11,223]    INFO         CRR126648_r2.fastq.gz\n",
            "[2021-05-04 05:17:11,223]    INFO         CRR126649_f1.fastq.gz\n",
            "[2021-05-04 05:17:11,223]    INFO         CRR126649_r2.fastq.gz\n",
            "[2021-05-04 05:17:11,223]    INFO         CRR126650_f1.fastq.gz\n",
            "[2021-05-04 05:17:11,223]    INFO         CRR126650_r2.fastq.gz\n",
            "[2021-05-04 05:17:11,223]    INFO         CRR126651_f1.fastq.gz\n",
            "[2021-05-04 05:17:11,223]    INFO         CRR126651_r2.fastq.gz\n",
            "[2021-05-04 05:17:11,223]    INFO         CRR126652_f1.fastq.gz\n",
            "[2021-05-04 05:17:11,223]    INFO         CRR126652_r2.fastq.gz\n",
            "[2021-05-04 05:17:11,223]    INFO         CRR126653_f1.fastq.gz\n",
            "[2021-05-04 05:17:11,223]    INFO         CRR126653_r2.fastq.gz\n",
            "[2021-05-04 05:17:11,223]    INFO         CRR126654_f1.fastq.gz\n",
            "[2021-05-04 05:17:11,223]    INFO         CRR126654_r2.fastq.gz\n",
            "[2021-05-04 05:17:11,223]    INFO         CRR126655_f1.fastq.gz\n",
            "[2021-05-04 05:17:11,223]    INFO         CRR126655_r2.fastq.gz\n",
            "[2021-05-04 05:17:11,223]    INFO         CRR126656_f1.fastq.gz\n",
            "[2021-05-04 05:17:11,223]    INFO         CRR126656_r2.fastq.gz\n",
            "[2021-05-04 05:17:11,224]    INFO         CRR126657_f1.fastq.gz\n",
            "[2021-05-04 05:17:11,224]    INFO         CRR126657_r2.fastq.gz\n",
            "[2021-05-04 05:17:11,224]    INFO         CRR126658_f1.fastq.gz\n",
            "[2021-05-04 05:17:11,224]    INFO         CRR126658_r2.fastq.gz\n",
            "[2021-05-04 07:25:56,633]    INFO Sorting BUS file outputCRX102292/output.bus to outputCRX102292/tmp/output.s.bus\n",
            "[2021-05-04 07:30:26,234]    INFO Whitelist not provided\n",
            "[2021-05-04 07:30:26,235]    INFO Copying pre-packaged 10XV2 whitelist to outputCRX102292\n",
            "[2021-05-04 07:30:26,384]    INFO Inspecting BUS file outputCRX102292/tmp/output.s.bus\n",
            "[2021-05-04 07:31:05,921]    INFO Correcting BUS records in outputCRX102292/tmp/output.s.bus to outputCRX102292/tmp/output.s.c.bus with whitelist outputCRX102292/10xv2_whitelist.txt\n",
            "[2021-05-04 07:31:39,523]    INFO Sorting BUS file outputCRX102292/tmp/output.s.c.bus to outputCRX102292/output.unfiltered.bus\n",
            "[2021-05-04 07:33:04,893]    INFO Generating count matrix outputCRX102292/counts_unfiltered/cells_x_genes from BUS file outputCRX102292/output.unfiltered.bus\n",
            "[2021-05-04 07:33:55,656]    INFO Reading matrix outputCRX102292/counts_unfiltered/cells_x_genes.mtx\n",
            "[2021-05-04 07:34:22,058]    INFO Writing matrix to h5ad outputCRX102292/counts_unfiltered/adata.h5ad\n",
            "[2021-05-04 07:34:23,403]    INFO Filtering with bustools\n",
            "[2021-05-04 07:34:23,403]    INFO Generating whitelist outputCRX102292/filter_barcodes.txt from BUS file outputCRX102292/output.unfiltered.bus\n",
            "[2021-05-04 07:34:24,417]    INFO Correcting BUS records in outputCRX102292/output.unfiltered.bus to outputCRX102292/tmp/output.unfiltered.c.bus with whitelist outputCRX102292/filter_barcodes.txt\n",
            "[2021-05-04 07:34:56,076]    INFO Sorting BUS file outputCRX102292/tmp/output.unfiltered.c.bus to outputCRX102292/output.filtered.bus\n",
            "[2021-05-04 07:36:08,217]    INFO Generating count matrix outputCRX102292/counts_filtered/cells_x_genes from BUS file outputCRX102292/output.filtered.bus\n",
            "[2021-05-04 07:36:56,695]    INFO Reading matrix outputCRX102292/counts_filtered/cells_x_genes.mtx\n",
            "[2021-05-04 07:37:17,255]    INFO Writing matrix to h5ad outputCRX102292/counts_filtered/adata.h5ad\n"
          ],
          "name": "stdout"
        }
      ]
    },
    {
      "cell_type": "markdown",
      "metadata": {
        "id": "tDijOZzrqhN2"
      },
      "source": [
        "# Load unfiltered matrix and assign filters to each matrix individually"
      ]
    },
    {
      "cell_type": "markdown",
      "metadata": {
        "id": "VkNLZh_pNFFw"
      },
      "source": [
        "## Load the unfiltered matrix (check dimensions)"
      ]
    },
    {
      "cell_type": "code",
      "metadata": {
        "id": "PppRNeV8AIyw"
      },
      "source": [
        "# Define dict to store data\n",
        "results = {}\n"
      ],
      "execution_count": 15,
      "outputs": []
    },
    {
      "cell_type": "code",
      "metadata": {
        "cellView": "both",
        "id": "pKmtGf3c_BiZ",
        "outputId": "6443f88f-bd9a-4ca6-f7f9-e98be83fb51e",
        "colab": {
          "base_uri": "https://localhost:8080/"
        }
      },
      "source": [
        "# load the unfiltered matrix\n",
        "for i in range(no_samples):\n",
        "  results[sample_id[i]] = anndata.read_h5ad(\"output\" + sample_id[i] + \"/counts_unfiltered/adata.h5ad\")\n",
        "  results[sample_id[i]].var[\"gene_id\"] = results[sample_id[i]].var.index.values\n",
        "\n",
        "  t2g = pd.read_csv(\"t2g.txt\", header=None, names=[\"tid\", \"gene_id\", \"gene_name\"], sep=\"\\t\")\n",
        "  t2g.index = t2g.gene_id\n",
        "  t2g = t2g.loc[~t2g.index.duplicated(keep='first')]\n",
        "\n",
        "  results[sample_id[i]].var[\"gene_name\"] = results[sample_id[i]].var.gene_id.map(t2g[\"gene_name\"])\n",
        "  results[sample_id[i]].var.index = results[sample_id[i]].var[\"gene_name\"]\n",
        "  print(\"The unfiltered matrix \" + sample_id[i] + \" contains {} cells by {} genes\".format(len(results[sample_id[i]].obs), len(results[sample_id[i]].var)))\n",
        "\n",
        "  results[sample_id[i]].obs[\"cell_counts\"] = results[sample_id[i]].X.sum(axis=1)\n",
        "  results[sample_id[i]].var[\"gene_counts\"] = nd(results[sample_id[i]].X.sum(axis=0))\n",
        "\n",
        "  results[sample_id[i]].obs[\"n_genes\"] = nd((results[sample_id[i]].X>0).sum(axis=1))\n",
        "  results[sample_id[i]].var[\"n_cells\"] = nd((results[sample_id[i]].X>0).sum(axis=0))\n",
        "\n",
        "  mito_genes = results[sample_id[i]].var_names.str.startswith(\"MT-\" or \"mt-\") \n",
        "  results[sample_id[i]].obs[\"percent_mito\"] = results[sample_id[i]][:,mito_genes].X.sum(axis=1)/results[sample_id[i]].X.sum(axis=1)*100\n",
        "\n",
        "  # Changing the name of the index is necessary to write the file (it won't work with duplicated names)\n",
        "  results[sample_id[i]].var.index.name = \"index\"\n",
        "\n"
      ],
      "execution_count": 16,
      "outputs": [
        {
          "output_type": "stream",
          "text": [
            "The unfiltered matrix CRX102292 contains 351364 cells by 60623 genes\n"
          ],
          "name": "stdout"
        }
      ]
    },
    {
      "cell_type": "markdown",
      "metadata": {
        "id": "hDAUH3eH_2RA"
      },
      "source": [
        "## Assign filters for each matrix individually"
      ]
    },
    {
      "cell_type": "code",
      "metadata": {
        "id": "ukinuaKk_6Po"
      },
      "source": [
        "# Modify this manually to change sample after having assigned the \"expected_num_cells\" and \"mito_criteria\" parameters\n",
        "samp_n = 0\n",
        "\n",
        "\n",
        "# Filtering criteria\n",
        "cell_threshold = 100\n",
        "gene_threshold = 3\n",
        "\n",
        "mito_criteria = 30"
      ],
      "execution_count": 17,
      "outputs": []
    },
    {
      "cell_type": "code",
      "metadata": {
        "id": "a5wZB5pEfwNs",
        "cellView": "form",
        "outputId": "4ed65ddb-8e78-4e5c-9ccb-1492293e545f",
        "colab": {
          "base_uri": "https://localhost:8080/",
          "height": 722
        }
      },
      "source": [
        "\n",
        "expected_num_cells = 4500#@param {type:\"integer\"}\n",
        "knee = np.sort(nd(results[sample_id[samp_n]].X.sum(axis=1)))[::-1]\n",
        "\n",
        "fig, ax = plt.subplots(figsize=(5, 5))\n",
        "\n",
        "x = knee\n",
        "y = range(len(knee))\n",
        "\n",
        "ax.loglog(x, y, linewidth=5, color=\"g\")\n",
        "\n",
        "ax.axvline(x=knee[expected_num_cells], linewidth=3, color=\"k\")\n",
        "ax.axhline(y=expected_num_cells, linewidth=3, color=\"k\")\n",
        "\n",
        "ax.set_xlabel(\"UMI Counts\")\n",
        "ax.set_ylabel(\"Set of Barcodes\")\n",
        "\n",
        "plt.show()\n",
        "\n",
        "cell_threshold = knee[expected_num_cells]\n",
        "\n",
        "results[\"cell_threshold\" + sample_id[samp_n]] = knee[expected_num_cells]\n",
        "\n",
        "print (\"Cells were filtered down to \" + str(expected_num_cells) + \" with at least \" + str(cell_threshold) + \" UMIs\")\n",
        "\n",
        "\n",
        "mito_criteria = 30#@param {type:\"integer\"}\n",
        "results[\"mito_criteria\" + sample_id[samp_n]] = mito_criteria\n",
        "\n",
        "fig, ax = plt.subplots(figsize=(5,5))\n",
        "\n",
        "\n",
        "x = nd(results[sample_id[samp_n]].obs[\"cell_counts\"][results[sample_id[samp_n]].obs[\"cell_counts\"] > cell_threshold])\n",
        "y = nd(results[sample_id[samp_n]].obs[\"percent_mito\"][results[sample_id[samp_n]].obs[\"cell_counts\"] > cell_threshold])\n",
        "\n",
        "ax.scatter(x, y, color=\"green\", alpha=0.1)\n",
        "\n",
        "ax.axhline(y=mito_criteria, linestyle=\"--\", color=\"k\")\n",
        "\n",
        "\n",
        "ax.set_xlabel(\"UMI Counts\")\n",
        "ax.set_ylabel(\"Percent mito\")\n",
        "\n",
        "\n",
        "plt.show()\n",
        "\n",
        "print(\"We select \" + str(mito_criteria) + \" % as the mitochondrial content threshold\")"
      ],
      "execution_count": 23,
      "outputs": [
        {
          "output_type": "display_data",
          "data": {
            "image/png": "[encoded data removed]",
            "text/plain": [
              "<Figure size 360x360 with 1 Axes>"
            ]
          },
          "metadata": {
            "tags": [],
            "image/png": {
              "width": 358,
              "height": 337
            },
            "needs_background": "light"
          }
        },
        {
          "output_type": "stream",
          "text": [
            "Cells were filtered down to 4500 with at least 3541.0 UMIs\n"
          ],
          "name": "stdout"
        },
        {
          "output_type": "display_data",
          "data": {
            "image/png": "[encoded data removed]",
            "text/plain": [
              "<Figure size 360x360 with 1 Axes>"
            ]
          },
          "metadata": {
            "tags": [],
            "image/png": {
              "width": 393,
              "height": 337
            },
            "needs_background": "light"
          }
        },
        {
          "output_type": "stream",
          "text": [
            "We select 30 % as the mitochondrial content threshold\n"
          ],
          "name": "stdout"
        }
      ]
    },
    {
      "cell_type": "markdown",
      "metadata": {
        "id": "eP9j2ouPq9KY"
      },
      "source": [
        "# Filter matrix"
      ]
    },
    {
      "cell_type": "code",
      "metadata": {
        "id": "sE51WUA3gVmG",
        "outputId": "33fe9dda-7643-4e6b-f79d-771251b7728d",
        "colab": {
          "base_uri": "https://localhost:8080/"
        }
      },
      "source": [
        "for i in range(no_samples):\n",
        "  results[sample_id[i]].obs[\"pass_count_filter\"] = results[sample_id[i]].obs[\"cell_counts\"] > results[\"cell_threshold\" + sample_id[i]]\n",
        "  results[sample_id[i]].obs[\"pass_mito_filter\"] = results[sample_id[i]].obs.percent_mito < results[\"mito_criteria\" + sample_id[i]]\n",
        "  results[sample_id[i]].var[\"pass_gene_filter\"] = results[sample_id[i]].var[\"n_cells\"] > gene_threshold\n",
        "\n",
        "  cell_mask = np.logical_and(results[sample_id[i]].obs[\"pass_count_filter\"].values, results[sample_id[i]].obs[\"pass_mito_filter\"].values)\n",
        "  gene_mask = results[sample_id[i]].var[\"pass_gene_filter\"].values\n",
        "\n",
        "  print(\"Current Shape: {:,} cells x {:,} genes\".format(results[sample_id[i]].shape[0], results[sample_id[i]].shape[1]))\n",
        "  print(\"    New shape: {:,} cells x {:,} genes\".format(cell_mask.sum(), gene_mask.sum()))\n",
        "  results[\"data_\" + sample_id[i]] = results[sample_id[i]][cell_mask, gene_mask]"
      ],
      "execution_count": 24,
      "outputs": [
        {
          "output_type": "stream",
          "text": [
            "Current Shape: 351,364 cells x 60,623 genes\n",
            "    New shape: 4,453 cells x 28,266 genes\n"
          ],
          "name": "stdout"
        }
      ]
    },
    {
      "cell_type": "markdown",
      "metadata": {
        "id": "BxPA81yj4TlU"
      },
      "source": [
        "# Anotate and write the Anndata object"
      ]
    },
    {
      "cell_type": "code",
      "metadata": {
        "id": "O-q_Qj2U4kDU",
        "outputId": "34489344-f466-4f3e-962f-587579acefd9",
        "colab": {
          "base_uri": "https://localhost:8080/"
        }
      },
      "source": [
        "for i in range(no_samples):\n",
        "\n",
        "\n",
        "  results[\"data_\" + sample_id[i]].uns[\"database_id\"] = database_id[i]\n",
        "\n",
        "  results[\"data_\" + sample_id[i]].uns[\"tissue\"] = tissue[i]\n",
        "\n",
        "  results[\"data_\" + sample_id[i]].uns[\"cell_type\"] = cell_type[i]\n",
        "\n",
        "  results[\"data_\" + sample_id[i]].uns[\"sample_id\"] = sample_id[i]\n",
        "\n",
        "  results[\"data_\" + sample_id[i]].uns[\"condition\"] = condition[i]\n",
        "\n",
        "  results[\"data_\" + sample_id[i]].uns[\"species\"] = species[i]\n",
        "\n",
        "  results[\"data_\" + sample_id[i]].uns[\"technology\"] = technology[i]\n",
        "\n",
        "  results[\"data_\" + sample_id[i]].uns[\"paper\"] = paper[i]\n",
        "\n",
        "  results[\"data_\" + sample_id[i]].uns[\"figure\"] = figure[i]\n",
        "\n",
        "\n",
        "%cd /content\n",
        "\n",
        "for i in range(no_samples):\n",
        "\n",
        "  results[\"data_\" + sample_id[i]].write(\"result\" + sample_id[i])"
      ],
      "execution_count": 25,
      "outputs": [
        {
          "output_type": "stream",
          "text": [
            "Trying to set attribute `.uns` of view, copying.\n",
            "Variable names are not unique. To make them unique, call `.var_names_make_unique`.\n",
            "Variable names are not unique. To make them unique, call `.var_names_make_unique`.\n"
          ],
          "name": "stderr"
        },
        {
          "output_type": "stream",
          "text": [
            "/content\n"
          ],
          "name": "stdout"
        },
        {
          "output_type": "stream",
          "text": [
            "... storing 'gene_name' as categorical\n"
          ],
          "name": "stderr"
        }
      ]
    }
  ]
}