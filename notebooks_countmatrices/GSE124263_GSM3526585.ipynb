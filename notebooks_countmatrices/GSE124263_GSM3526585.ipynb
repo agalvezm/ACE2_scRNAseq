{
  "nbformat": 4,
  "nbformat_minor": 0,
  "metadata": {
    "colab": {
      "name": "GSE124263_GSM3526585.ipynb",
      "provenance": [],
      "collapsed_sections": [],
      "include_colab_link": true
    },
    "kernelspec": {
      "name": "python3",
      "display_name": "Python 3"
    }
  },
  "cells": [
    {
      "cell_type": "markdown",
      "metadata": {
        "id": "view-in-github",
        "colab_type": "text"
      },
      "source": [
        "<a href=\"https://colab.research.google.com/github/agalvezm/ACE2_scRNAseq/blob/master/notebooks_countmatrices/GSE124263_GSM3526585.ipynb\" target=\"_parent\"><img src=\"https://colab.research.google.com/assets/colab-badge.svg\" alt=\"Open In Colab\"/></a>"
      ]
    },
    {
      "cell_type": "markdown",
      "metadata": {
        "id": "V9ryXluJsJw9"
      },
      "source": [
        "# GSE124263_GSM3526585"
      ]
    },
    {
      "cell_type": "code",
      "metadata": {
        "id": "ggNFAQJCRh6P"
      },
      "source": [
        "# define the values for the analysis\n",
        "\n",
        "# accession id for the data\n",
        "id = \"GSE124263\"\n",
        "samp_id = [\"GSM3526585\"]\n",
        "\n",
        "# If only bam available files, set bam = True, Fill link and filename\n",
        "bam = False\n",
        "\n",
        "# If fastq links available but are not ffq links\n",
        "fastq_ffqlinks = True\n",
        "\n",
        "\n",
        "if bam:\n",
        "  # Assign link to python variable\n",
        "  link_to_bam = \"\"\n",
        "  \n",
        "  # Assigns the link to the bash variable BAM_LINK. To be used by wget\n",
        "  %env BAM_LINK=$link_to_bam\n",
        "\n",
        "  # Assign filename to python variable. Used to convert to fastq and remove bam file to fastq after conversion\n",
        "\n",
        "  bam_filename=\"\"\n",
        "\n",
        "\n",
        "if not bam:\n",
        "\n",
        "  # Copy and paste the links from the ACE2 scRNAseq datasets google  spreadsheet\n",
        "\n",
        "  links_raw = \"ftp://ftp.sra.ebi.ac.uk/vol1/fastq/SRR836/002/SRR8363242/SRR8363242_1.fastq.gz\tftp://ftp.sra.ebi.ac.uk/vol1/fastq/SRR836/002/SRR8363242/SRR8363242_2.fastq.gz\tftp://ftp.sra.ebi.ac.uk/vol1/fastq/SRR836/003/SRR8363243/SRR8363243_1.fastq.gz\tftp://ftp.sra.ebi.ac.uk/vol1/fastq/SRR836/003/SRR8363243/SRR8363243_2.fastq.gz\tftp://ftp.sra.ebi.ac.uk/vol1/fastq/SRR836/004/SRR8363244/SRR8363244_1.fastq.gz\tftp://ftp.sra.ebi.ac.uk/vol1/fastq/SRR836/004/SRR8363244/SRR8363244_2.fastq.gz\tftp://ftp.sra.ebi.ac.uk/vol1/fastq/SRR836/005/SRR8363245/SRR8363245_1.fastq.gz\tftp://ftp.sra.ebi.ac.uk/vol1/fastq/SRR836/005/SRR8363245/SRR8363245_2.fastq.gz\tftp://ftp.sra.ebi.ac.uk/vol1/fastq/SRR836/006/SRR8363246/SRR8363246_1.fastq.gz\tftp://ftp.sra.ebi.ac.uk/vol1/fastq/SRR836/006/SRR8363246/SRR8363246_2.fastq.gz\tftp://ftp.sra.ebi.ac.uk/vol1/fastq/SRR836/007/SRR8363247/SRR8363247_1.fastq.gz\tftp://ftp.sra.ebi.ac.uk/vol1/fastq/SRR836/007/SRR8363247/SRR8363247_2.fastq.gz\tftp://ftp.sra.ebi.ac.uk/vol1/fastq/SRR836/008/SRR8363248/SRR8363248_1.fastq.gz\tftp://ftp.sra.ebi.ac.uk/vol1/fastq/SRR836/008/SRR8363248/SRR8363248_2.fastq.gz\tftp://ftp.sra.ebi.ac.uk/vol1/fastq/SRR836/009/SRR8363249/SRR8363249_1.fastq.gz\tftp://ftp.sra.ebi.ac.uk/vol1/fastq/SRR836/009/SRR8363249/SRR8363249_2.fastq.gz\tftp://ftp.sra.ebi.ac.uk/vol1/fastq/SRR836/006/SRR8363266/SRR8363266_1.fastq.gz\tftp://ftp.sra.ebi.ac.uk/vol1/fastq/SRR836/006/SRR8363266/SRR8363266_2.fastq.gz\tftp://ftp.sra.ebi.ac.uk/vol1/fastq/SRR836/007/SRR8363267/SRR8363267_1.fastq.gz\tftp://ftp.sra.ebi.ac.uk/vol1/fastq/SRR836/007/SRR8363267/SRR8363267_2.fastq.gz\tftp://ftp.sra.ebi.ac.uk/vol1/fastq/SRR836/008/SRR8363268/SRR8363268_1.fastq.gz\tftp://ftp.sra.ebi.ac.uk/vol1/fastq/SRR836/008/SRR8363268/SRR8363268_2.fastq.gz\tftp://ftp.sra.ebi.ac.uk/vol1/fastq/SRR836/009/SRR8363269/SRR8363269_1.fastq.gz\tftp://ftp.sra.ebi.ac.uk/vol1/fastq/SRR836/009/SRR8363269/SRR8363269_2.fastq.gz\"\n",
        "  # Convert it to a list where each link is an element\n",
        "  \n",
        "  fastqs = links_raw.split()\n"
      ],
      "execution_count": 19,
      "outputs": []
    },
    {
      "cell_type": "code",
      "metadata": {
        "id": "5R3tPDqnoJUn"
      },
      "source": [
        "no_samples = 1\n",
        "\n",
        "fastqs_per_sample = [4, 8, 8] \n",
        "\n",
        "sample_id = samp_id\n",
        "\n",
        "database_id = [id] * no_samples\n",
        "\n",
        "tissue = [\"testis\"] * no_samples\n",
        "\n",
        "cell_type = [\"ITGA6 enriched\"] * no_samples\n",
        "\n",
        "condition = [\"neonatal day 7 ITGA6 enriched\"] * no_samples\n",
        "\n",
        "species = [\"human\"] * no_samples\n",
        "\n",
        "technology = [\"10xv2\"] * no_samples\n",
        "\n",
        "paper = [\"Muus et al 2020\"] * no_samples\n",
        "\n",
        "figure = [\"Fig 1 a,b  ED Fig 1 a,b,c,d  ED Fig 2 a,b,c,d,e\"] * no_samples\n",
        "\n",
        "\n",
        "# Set string variables for kb functions\n",
        "\n",
        "species_kb = species[0]\n",
        "\n",
        "technology_kb = technology[0]\n",
        "\n"
      ],
      "execution_count": 20,
      "outputs": []
    },
    {
      "cell_type": "markdown",
      "metadata": {
        "id": "FPwL0-_-KSAw"
      },
      "source": [
        "# Imports and installs"
      ]
    },
    {
      "cell_type": "code",
      "metadata": {
        "id": "1HSlUGZEp3oP"
      },
      "source": [
        "# install and import necessary software\n",
        "\n",
        "# Install kb and scanpy\n",
        "!pip -q install kb-python \n",
        "!pip -q install scanpy\n",
        "\n",
        "import re\n",
        "import os\n",
        "\n",
        "# Setup\n",
        "\n",
        "import anndata\n",
        "import pandas as pd\n",
        "import numpy as np\n",
        "import matplotlib.pyplot as plt\n",
        "import matplotlib as mpl\n",
        "import matplotlib.patches as mpatches\n",
        "import scanpy as sc\n",
        "from scipy import stats\n",
        "\n",
        "from collections import OrderedDict\n",
        "from sklearn.decomposition import TruncatedSVD\n",
        "from sklearn.manifold import TSNE\n",
        "from sklearn.preprocessing import scale\n",
        "\n",
        "from sklearn.cluster import KMeans\n",
        "from sklearn.preprocessing import normalize\n",
        "from sklearn.preprocessing import LabelEncoder\n",
        "from sklearn.neighbors import NeighborhoodComponentsAnalysis\n",
        "from matplotlib import cm\n",
        "from matplotlib.lines import Line2D\n",
        "\n",
        "def nd(arr):\n",
        "    return np.asarray(arr).reshape(-1)\n",
        "def yex(ax):\n",
        "    lims = [np.min([ax.get_xlim(), ax.get_ylim()]),\n",
        "            np.max([ax.get_xlim(), ax.get_ylim()])]\n",
        "\n",
        "    # now plot both limits against eachother\n",
        "    ax.plot(lims, lims, 'k-', alpha=0.75, zorder=0)\n",
        "    ax.set_aspect('equal')\n",
        "    ax.set_xlim(lims)\n",
        "    ax.set_ylim(lims)\n",
        "    return ax\n",
        "\n",
        "def trim_axs(axs, N):\n",
        "    \"\"\"little helper to massage the axs list to have correct length...\"\"\"\n",
        "    axs = axs.flat\n",
        "    for ax in axs[N:]:\n",
        "        ax.remove()\n",
        "    return axs[:N]\n",
        "\n",
        "import warnings\n",
        "warnings.filterwarnings('ignore')\n",
        "\n",
        "fsize=20\n",
        "\n",
        "plt.rcParams.update({'font.size': fsize})\n",
        "%config InlineBackend.figure_format = 'retina'"
      ],
      "execution_count": 21,
      "outputs": []
    },
    {
      "cell_type": "markdown",
      "metadata": {
        "id": "7V6FbosVrvP4"
      },
      "source": [
        "# Downloads: (bam (if bam) and index"
      ]
    },
    {
      "cell_type": "code",
      "metadata": {
        "id": "q46hw4zqKUPS"
      },
      "source": [
        "if bam:\n",
        "\n",
        "  # Install bamtofastq from 10x website (only bam files available)\n",
        "  !wget http://cf.10xgenomics.com/misc/bamtofastq-1.2.0\n",
        "  !chmod +x bamtofastq-1.2.0\n",
        "  # Download the bam file\n",
        "  !wget -- continue ${BAM_LINK}\n",
        "\n",
        "\n"
      ],
      "execution_count": 22,
      "outputs": []
    },
    {
      "cell_type": "code",
      "metadata": {
        "id": "tDQlrjtqNF0m"
      },
      "source": [
        "if bam:\n",
        "  # Convert to fastq\n",
        "  !./bamtofastq-1.2.0 --reads-per-fastq=500000000 $bam_filename ./fastqs\\\n",
        "\n",
        "  # Remove original bam file to save space\n",
        "  !rm $bam_filename\n"
      ],
      "execution_count": 23,
      "outputs": []
    },
    {
      "cell_type": "code",
      "metadata": {
        "id": "SXRDRphvqcLe"
      },
      "source": [
        "# Store fastq names on a list\n",
        "\n",
        "if bam:\n",
        "  # cd into fastqs folder\n",
        "  %cd /content/fastqs\n",
        "\n",
        "  #store the name of the folder generated by bamtofastq\n",
        "  _filename = os.listdir()[0]\n",
        "\n",
        "  # cd into that folder\n",
        "  %cd $_filename\n",
        "\n",
        "  # store fastq names in a list\n",
        "  fastqs = os.listdir()\n",
        "\n",
        "\n",
        "  # Remove I1 and R3 reads not relevant for our analysis\n",
        "\n",
        "  # Initialize list containing elements to remove\n",
        "  remov_elem = []\n",
        "\n",
        "  print (\"\\n\\nThis is the complete list of fastqs:\\n -----------\")\n",
        "  for elem in fastqs:\n",
        "    print (elem)\n",
        "\n",
        "  # Search index (I1 or R3) fastqs and remove them from list\n",
        "  for elem in fastqs:\n",
        "    if re.search(\"_R3_\", elem) or re.search(\"_I1_\", elem):\n",
        "      remov_elem = remov_elem +[elem]\n",
        "\n",
        "  fastqs = [elem for elem in fastqs if elem not in remov_elem] \n",
        "\n",
        "  print (\"\\n\\nThis is the filtered list of fastqs:\\n -----------\")\n",
        "  for elem in fastqs:\n",
        "    print (elem)\n"
      ],
      "execution_count": 24,
      "outputs": []
    },
    {
      "cell_type": "code",
      "metadata": {
        "id": "ZnFcqcSgjLBw"
      },
      "source": [
        "# Remove fastqs that wont be analyzed to save space\n",
        "if bam:\n",
        "  for elem in remov_elem:\n",
        "    !rm $elem"
      ],
      "execution_count": 25,
      "outputs": []
    },
    {
      "cell_type": "code",
      "metadata": {
        "id": "FLVS8aB7Dm6J"
      },
      "source": [
        "if bam:\n",
        "  # sort fastqs alphabetically to get R1 and R2 in order\n",
        "  fastqs = sorted(fastqs)"
      ],
      "execution_count": 26,
      "outputs": []
    },
    {
      "cell_type": "code",
      "metadata": {
        "id": "FE9gWbQgpBfR"
      },
      "source": [
        "# wget fastqs from non ffq links in fastqs folder\n",
        "if not bam and not fastq_ffqlinks:\n",
        "  !mkdir fastqs\n",
        "  %cd fastqs\n",
        "  for link in fastqs:\n",
        "    !wget $link --continue\n",
        "\n",
        "  # update fastqs variable with name of files\n",
        "  fastqs = sorted(os.listdir())"
      ],
      "execution_count": 27,
      "outputs": []
    },
    {
      "cell_type": "code",
      "metadata": {
        "id": "PC9oETW1pE9t",
        "outputId": "4c387756-022f-4886-bfe1-17d399715893",
        "colab": {
          "base_uri": "https://localhost:8080/"
        }
      },
      "source": [
        "if bam:\n",
        "  # Download the corresponding Kallisto index to folder containing fastqs\n",
        "  !kb ref -d $species_kb -i index.idx -g t2g.txt -f1 transcriptome.fasta\n",
        "\n",
        "if not bam and fastq_ffqlinks:\n",
        "  %cd /content\n",
        "\n",
        "  # Download the corresponding Kallisto index to content folder\n",
        "  !kb ref -d $species_kb -i index.idx -g t2g.txt -f1 transcriptome.fasta\n",
        "\n",
        "if not bam and not fastq_ffqlinks:\n",
        "  %cd /content/fastqs\n",
        "\n",
        "  # Download the corresponding Kallisto index to fastq folder\n",
        "  !kb ref -d $species_kb -i index.idx -g t2g.txt -f1 transcriptome.fasta"
      ],
      "execution_count": 28,
      "outputs": [
        {
          "output_type": "stream",
          "text": [
            "/content\n",
            "[2020-11-02 17:57:39,442]    INFO Downloading files for human from https://caltech.box.com/shared/static/v1nm7lpnqz5syh8dyzdk2zs8bglncfib.gz to tmp/v1nm7lpnqz5syh8dyzdk2zs8bglncfib.gz\n",
            "[2020-11-02 17:59:21,906]    INFO Extracting files from tmp/v1nm7lpnqz5syh8dyzdk2zs8bglncfib.gz\n"
          ],
          "name": "stdout"
        }
      ]
    },
    {
      "cell_type": "code",
      "metadata": {
        "id": "vHVNa51Cp9Nr",
        "outputId": "75399119-7988-4a34-e1ca-ba2b451475ef",
        "colab": {
          "base_uri": "https://localhost:8080/"
        }
      },
      "source": [
        "# Check to make sure the metadata is in the right order after sorting\n",
        "print(fastqs)"
      ],
      "execution_count": 29,
      "outputs": [
        {
          "output_type": "stream",
          "text": [
            "['ftp://ftp.sra.ebi.ac.uk/vol1/fastq/SRR836/002/SRR8363242/SRR8363242_1.fastq.gz', 'ftp://ftp.sra.ebi.ac.uk/vol1/fastq/SRR836/002/SRR8363242/SRR8363242_2.fastq.gz', 'ftp://ftp.sra.ebi.ac.uk/vol1/fastq/SRR836/003/SRR8363243/SRR8363243_1.fastq.gz', 'ftp://ftp.sra.ebi.ac.uk/vol1/fastq/SRR836/003/SRR8363243/SRR8363243_2.fastq.gz', 'ftp://ftp.sra.ebi.ac.uk/vol1/fastq/SRR836/004/SRR8363244/SRR8363244_1.fastq.gz', 'ftp://ftp.sra.ebi.ac.uk/vol1/fastq/SRR836/004/SRR8363244/SRR8363244_2.fastq.gz', 'ftp://ftp.sra.ebi.ac.uk/vol1/fastq/SRR836/005/SRR8363245/SRR8363245_1.fastq.gz', 'ftp://ftp.sra.ebi.ac.uk/vol1/fastq/SRR836/005/SRR8363245/SRR8363245_2.fastq.gz', 'ftp://ftp.sra.ebi.ac.uk/vol1/fastq/SRR836/006/SRR8363246/SRR8363246_1.fastq.gz', 'ftp://ftp.sra.ebi.ac.uk/vol1/fastq/SRR836/006/SRR8363246/SRR8363246_2.fastq.gz', 'ftp://ftp.sra.ebi.ac.uk/vol1/fastq/SRR836/007/SRR8363247/SRR8363247_1.fastq.gz', 'ftp://ftp.sra.ebi.ac.uk/vol1/fastq/SRR836/007/SRR8363247/SRR8363247_2.fastq.gz', 'ftp://ftp.sra.ebi.ac.uk/vol1/fastq/SRR836/008/SRR8363248/SRR8363248_1.fastq.gz', 'ftp://ftp.sra.ebi.ac.uk/vol1/fastq/SRR836/008/SRR8363248/SRR8363248_2.fastq.gz', 'ftp://ftp.sra.ebi.ac.uk/vol1/fastq/SRR836/009/SRR8363249/SRR8363249_1.fastq.gz', 'ftp://ftp.sra.ebi.ac.uk/vol1/fastq/SRR836/009/SRR8363249/SRR8363249_2.fastq.gz', 'ftp://ftp.sra.ebi.ac.uk/vol1/fastq/SRR836/006/SRR8363266/SRR8363266_1.fastq.gz', 'ftp://ftp.sra.ebi.ac.uk/vol1/fastq/SRR836/006/SRR8363266/SRR8363266_2.fastq.gz', 'ftp://ftp.sra.ebi.ac.uk/vol1/fastq/SRR836/007/SRR8363267/SRR8363267_1.fastq.gz', 'ftp://ftp.sra.ebi.ac.uk/vol1/fastq/SRR836/007/SRR8363267/SRR8363267_2.fastq.gz', 'ftp://ftp.sra.ebi.ac.uk/vol1/fastq/SRR836/008/SRR8363268/SRR8363268_1.fastq.gz', 'ftp://ftp.sra.ebi.ac.uk/vol1/fastq/SRR836/008/SRR8363268/SRR8363268_2.fastq.gz', 'ftp://ftp.sra.ebi.ac.uk/vol1/fastq/SRR836/009/SRR8363269/SRR8363269_1.fastq.gz', 'ftp://ftp.sra.ebi.ac.uk/vol1/fastq/SRR836/009/SRR8363269/SRR8363269_2.fastq.gz']\n"
          ],
          "name": "stdout"
        }
      ]
    },
    {
      "cell_type": "markdown",
      "metadata": {
        "id": "VInyuq1Dp7iz"
      },
      "source": [
        "# Process fastq files (modify kb command according to fastqs list)\n"
      ]
    },
    {
      "cell_type": "code",
      "metadata": {
        "id": "OcqtBuH-pRaX",
        "outputId": "0781b84e-88fd-4cb0-b515-66af180f8845",
        "colab": {
          "base_uri": "https://localhost:8080/"
        }
      },
      "source": [
        "fastqs"
      ],
      "execution_count": 30,
      "outputs": [
        {
          "output_type": "execute_result",
          "data": {
            "text/plain": [
              "['ftp://ftp.sra.ebi.ac.uk/vol1/fastq/SRR836/002/SRR8363242/SRR8363242_1.fastq.gz',\n",
              " 'ftp://ftp.sra.ebi.ac.uk/vol1/fastq/SRR836/002/SRR8363242/SRR8363242_2.fastq.gz',\n",
              " 'ftp://ftp.sra.ebi.ac.uk/vol1/fastq/SRR836/003/SRR8363243/SRR8363243_1.fastq.gz',\n",
              " 'ftp://ftp.sra.ebi.ac.uk/vol1/fastq/SRR836/003/SRR8363243/SRR8363243_2.fastq.gz',\n",
              " 'ftp://ftp.sra.ebi.ac.uk/vol1/fastq/SRR836/004/SRR8363244/SRR8363244_1.fastq.gz',\n",
              " 'ftp://ftp.sra.ebi.ac.uk/vol1/fastq/SRR836/004/SRR8363244/SRR8363244_2.fastq.gz',\n",
              " 'ftp://ftp.sra.ebi.ac.uk/vol1/fastq/SRR836/005/SRR8363245/SRR8363245_1.fastq.gz',\n",
              " 'ftp://ftp.sra.ebi.ac.uk/vol1/fastq/SRR836/005/SRR8363245/SRR8363245_2.fastq.gz',\n",
              " 'ftp://ftp.sra.ebi.ac.uk/vol1/fastq/SRR836/006/SRR8363246/SRR8363246_1.fastq.gz',\n",
              " 'ftp://ftp.sra.ebi.ac.uk/vol1/fastq/SRR836/006/SRR8363246/SRR8363246_2.fastq.gz',\n",
              " 'ftp://ftp.sra.ebi.ac.uk/vol1/fastq/SRR836/007/SRR8363247/SRR8363247_1.fastq.gz',\n",
              " 'ftp://ftp.sra.ebi.ac.uk/vol1/fastq/SRR836/007/SRR8363247/SRR8363247_2.fastq.gz',\n",
              " 'ftp://ftp.sra.ebi.ac.uk/vol1/fastq/SRR836/008/SRR8363248/SRR8363248_1.fastq.gz',\n",
              " 'ftp://ftp.sra.ebi.ac.uk/vol1/fastq/SRR836/008/SRR8363248/SRR8363248_2.fastq.gz',\n",
              " 'ftp://ftp.sra.ebi.ac.uk/vol1/fastq/SRR836/009/SRR8363249/SRR8363249_1.fastq.gz',\n",
              " 'ftp://ftp.sra.ebi.ac.uk/vol1/fastq/SRR836/009/SRR8363249/SRR8363249_2.fastq.gz',\n",
              " 'ftp://ftp.sra.ebi.ac.uk/vol1/fastq/SRR836/006/SRR8363266/SRR8363266_1.fastq.gz',\n",
              " 'ftp://ftp.sra.ebi.ac.uk/vol1/fastq/SRR836/006/SRR8363266/SRR8363266_2.fastq.gz',\n",
              " 'ftp://ftp.sra.ebi.ac.uk/vol1/fastq/SRR836/007/SRR8363267/SRR8363267_1.fastq.gz',\n",
              " 'ftp://ftp.sra.ebi.ac.uk/vol1/fastq/SRR836/007/SRR8363267/SRR8363267_2.fastq.gz',\n",
              " 'ftp://ftp.sra.ebi.ac.uk/vol1/fastq/SRR836/008/SRR8363268/SRR8363268_1.fastq.gz',\n",
              " 'ftp://ftp.sra.ebi.ac.uk/vol1/fastq/SRR836/008/SRR8363268/SRR8363268_2.fastq.gz',\n",
              " 'ftp://ftp.sra.ebi.ac.uk/vol1/fastq/SRR836/009/SRR8363269/SRR8363269_1.fastq.gz',\n",
              " 'ftp://ftp.sra.ebi.ac.uk/vol1/fastq/SRR836/009/SRR8363269/SRR8363269_2.fastq.gz']"
            ]
          },
          "metadata": {
            "tags": []
          },
          "execution_count": 30
        }
      ]
    },
    {
      "cell_type": "code",
      "metadata": {
        "id": "q1x2zrtEF4aD",
        "outputId": "fc43f328-b1a5-4ac5-89a0-e7bb291bd741",
        "colab": {
          "base_uri": "https://localhost:8080/"
        }
      },
      "source": [
        "!pwd"
      ],
      "execution_count": 31,
      "outputs": [
        {
          "output_type": "stream",
          "text": [
            "/content\n"
          ],
          "name": "stdout"
        }
      ]
    },
    {
      "cell_type": "code",
      "metadata": {
        "id": "5qFzPj-0kZTi",
        "outputId": "f9f44989-6f9f-46bd-eb45-d2626c48bb27",
        "colab": {
          "base_uri": "https://localhost:8080/"
        }
      },
      "source": [
        "# Specify the sample number and whether they are paired-ended\n",
        "\n",
        "\n",
        "if no_samples == 1:\n",
        "\n",
        "  # Write the kb count command as a string with all fastqs of the list as an input\n",
        "  cmd = \"kb count --h5ad -i index.idx -g t2g.txt -x \" + technology_kb + \" -o output\" + sample_id[0] + \" \"\\\n",
        "  + \"--filter bustools -t 2 --overwrite \" + \"'\" +  \"' '\".join(fastqs) + \"'\"\n",
        "  \n",
        "  # Execute it\n",
        "  !$cmd\n",
        "\n",
        "# If more than one sample, iterate through fastqs accordingly\n",
        "else:\n",
        "\n",
        "  # Initializa counter for fastq files\n",
        "  j = 0\n",
        "\n",
        "  # Loop over samples for analysis\n",
        "  for i in range(no_samples):\n",
        "\n",
        "    fastqs_to_analyze = fastqs[j:j + fastqs_per_sample[i]]\n",
        "    # Write the kb count command as a string\n",
        "    cmd = \"kb count --h5ad -i ../index.idx -g ../t2g.txt -x \" + technology_kb + \" -o output\" + sample_id[i] + \" \\\n",
        "    --filter bustools -t 2 --overwrite \" + \"'\" +  \"' '\".join(fastqs_to_analyze) + \"'\"\n",
        "\n",
        "    # Execute it\n",
        "    !$cmd\n",
        "\n",
        "    # Update j to move to the next set of fastq\n",
        "    j = j + fastqs_per_sample[i]\n",
        "\n",
        "\n",
        "\n",
        "\n",
        "\n"
      ],
      "execution_count": 32,
      "outputs": [
        {
          "output_type": "stream",
          "text": [
            "[2020-11-02 17:59:59,654]    INFO Piping ftp://ftp.sra.ebi.ac.uk/vol1/fastq/SRR836/002/SRR8363242/SRR8363242_1.fastq.gz to tmp/SRR8363242_1.fastq.gz\n",
            "[2020-11-02 17:59:59,657]    INFO Piping ftp://ftp.sra.ebi.ac.uk/vol1/fastq/SRR836/002/SRR8363242/SRR8363242_2.fastq.gz to tmp/SRR8363242_2.fastq.gz\n",
            "[2020-11-02 17:59:59,661]    INFO Piping ftp://ftp.sra.ebi.ac.uk/vol1/fastq/SRR836/003/SRR8363243/SRR8363243_1.fastq.gz to tmp/SRR8363243_1.fastq.gz\n",
            "[2020-11-02 17:59:59,661]    INFO Piping ftp://ftp.sra.ebi.ac.uk/vol1/fastq/SRR836/003/SRR8363243/SRR8363243_2.fastq.gz to tmp/SRR8363243_2.fastq.gz\n",
            "[2020-11-02 17:59:59,662]    INFO Piping ftp://ftp.sra.ebi.ac.uk/vol1/fastq/SRR836/004/SRR8363244/SRR8363244_1.fastq.gz to tmp/SRR8363244_1.fastq.gz\n",
            "[2020-11-02 17:59:59,662]    INFO Piping ftp://ftp.sra.ebi.ac.uk/vol1/fastq/SRR836/004/SRR8363244/SRR8363244_2.fastq.gz to tmp/SRR8363244_2.fastq.gz\n",
            "[2020-11-02 17:59:59,663]    INFO Piping ftp://ftp.sra.ebi.ac.uk/vol1/fastq/SRR836/005/SRR8363245/SRR8363245_1.fastq.gz to tmp/SRR8363245_1.fastq.gz\n",
            "[2020-11-02 17:59:59,663]    INFO Piping ftp://ftp.sra.ebi.ac.uk/vol1/fastq/SRR836/005/SRR8363245/SRR8363245_2.fastq.gz to tmp/SRR8363245_2.fastq.gz\n",
            "[2020-11-02 17:59:59,664]    INFO Piping ftp://ftp.sra.ebi.ac.uk/vol1/fastq/SRR836/006/SRR8363246/SRR8363246_1.fastq.gz to tmp/SRR8363246_1.fastq.gz\n",
            "[2020-11-02 17:59:59,664]    INFO Piping ftp://ftp.sra.ebi.ac.uk/vol1/fastq/SRR836/006/SRR8363246/SRR8363246_2.fastq.gz to tmp/SRR8363246_2.fastq.gz\n",
            "[2020-11-02 17:59:59,664]    INFO Piping ftp://ftp.sra.ebi.ac.uk/vol1/fastq/SRR836/007/SRR8363247/SRR8363247_1.fastq.gz to tmp/SRR8363247_1.fastq.gz\n",
            "[2020-11-02 17:59:59,665]    INFO Piping ftp://ftp.sra.ebi.ac.uk/vol1/fastq/SRR836/007/SRR8363247/SRR8363247_2.fastq.gz to tmp/SRR8363247_2.fastq.gz\n",
            "[2020-11-02 17:59:59,665]    INFO Piping ftp://ftp.sra.ebi.ac.uk/vol1/fastq/SRR836/008/SRR8363248/SRR8363248_1.fastq.gz to tmp/SRR8363248_1.fastq.gz\n",
            "[2020-11-02 17:59:59,666]    INFO Piping ftp://ftp.sra.ebi.ac.uk/vol1/fastq/SRR836/008/SRR8363248/SRR8363248_2.fastq.gz to tmp/SRR8363248_2.fastq.gz\n",
            "[2020-11-02 17:59:59,666]    INFO Piping ftp://ftp.sra.ebi.ac.uk/vol1/fastq/SRR836/009/SRR8363249/SRR8363249_1.fastq.gz to tmp/SRR8363249_1.fastq.gz\n",
            "[2020-11-02 17:59:59,666]    INFO Piping ftp://ftp.sra.ebi.ac.uk/vol1/fastq/SRR836/009/SRR8363249/SRR8363249_2.fastq.gz to tmp/SRR8363249_2.fastq.gz\n",
            "[2020-11-02 17:59:59,667]    INFO Piping ftp://ftp.sra.ebi.ac.uk/vol1/fastq/SRR836/006/SRR8363266/SRR8363266_1.fastq.gz to tmp/SRR8363266_1.fastq.gz\n",
            "[2020-11-02 17:59:59,667]    INFO Piping ftp://ftp.sra.ebi.ac.uk/vol1/fastq/SRR836/006/SRR8363266/SRR8363266_2.fastq.gz to tmp/SRR8363266_2.fastq.gz\n",
            "[2020-11-02 17:59:59,668]    INFO Piping ftp://ftp.sra.ebi.ac.uk/vol1/fastq/SRR836/007/SRR8363267/SRR8363267_1.fastq.gz to tmp/SRR8363267_1.fastq.gz\n",
            "[2020-11-02 17:59:59,668]    INFO Piping ftp://ftp.sra.ebi.ac.uk/vol1/fastq/SRR836/007/SRR8363267/SRR8363267_2.fastq.gz to tmp/SRR8363267_2.fastq.gz\n",
            "[2020-11-02 17:59:59,669]    INFO Piping ftp://ftp.sra.ebi.ac.uk/vol1/fastq/SRR836/008/SRR8363268/SRR8363268_1.fastq.gz to tmp/SRR8363268_1.fastq.gz\n",
            "[2020-11-02 17:59:59,669]    INFO Piping ftp://ftp.sra.ebi.ac.uk/vol1/fastq/SRR836/008/SRR8363268/SRR8363268_2.fastq.gz to tmp/SRR8363268_2.fastq.gz\n",
            "[2020-11-02 17:59:59,669]    INFO Piping ftp://ftp.sra.ebi.ac.uk/vol1/fastq/SRR836/009/SRR8363269/SRR8363269_1.fastq.gz to tmp/SRR8363269_1.fastq.gz\n",
            "[2020-11-02 17:59:59,670]    INFO Piping ftp://ftp.sra.ebi.ac.uk/vol1/fastq/SRR836/009/SRR8363269/SRR8363269_2.fastq.gz to tmp/SRR8363269_2.fastq.gz\n",
            "[2020-11-02 17:59:59,670]    INFO Generating BUS file from\n",
            "[2020-11-02 17:59:59,670]    INFO         tmp/SRR8363242_1.fastq.gz\n",
            "[2020-11-02 17:59:59,670]    INFO         tmp/SRR8363242_2.fastq.gz\n",
            "[2020-11-02 17:59:59,670]    INFO         tmp/SRR8363243_1.fastq.gz\n",
            "[2020-11-02 17:59:59,671]    INFO         tmp/SRR8363243_2.fastq.gz\n",
            "[2020-11-02 17:59:59,671]    INFO         tmp/SRR8363244_1.fastq.gz\n",
            "[2020-11-02 17:59:59,671]    INFO         tmp/SRR8363244_2.fastq.gz\n",
            "[2020-11-02 17:59:59,671]    INFO         tmp/SRR8363245_1.fastq.gz\n",
            "[2020-11-02 17:59:59,671]    INFO         tmp/SRR8363245_2.fastq.gz\n",
            "[2020-11-02 17:59:59,671]    INFO         tmp/SRR8363246_1.fastq.gz\n",
            "[2020-11-02 17:59:59,671]    INFO         tmp/SRR8363246_2.fastq.gz\n",
            "[2020-11-02 17:59:59,671]    INFO         tmp/SRR8363247_1.fastq.gz\n",
            "[2020-11-02 17:59:59,671]    INFO         tmp/SRR8363247_2.fastq.gz\n",
            "[2020-11-02 17:59:59,671]    INFO         tmp/SRR8363248_1.fastq.gz\n",
            "[2020-11-02 17:59:59,671]    INFO         tmp/SRR8363248_2.fastq.gz\n",
            "[2020-11-02 17:59:59,671]    INFO         tmp/SRR8363249_1.fastq.gz\n",
            "[2020-11-02 17:59:59,671]    INFO         tmp/SRR8363249_2.fastq.gz\n",
            "[2020-11-02 17:59:59,671]    INFO         tmp/SRR8363266_1.fastq.gz\n",
            "[2020-11-02 17:59:59,671]    INFO         tmp/SRR8363266_2.fastq.gz\n",
            "[2020-11-02 17:59:59,671]    INFO         tmp/SRR8363267_1.fastq.gz\n",
            "[2020-11-02 17:59:59,671]    INFO         tmp/SRR8363267_2.fastq.gz\n",
            "[2020-11-02 17:59:59,671]    INFO         tmp/SRR8363268_1.fastq.gz\n",
            "[2020-11-02 17:59:59,671]    INFO         tmp/SRR8363268_2.fastq.gz\n",
            "[2020-11-02 17:59:59,671]    INFO         tmp/SRR8363269_1.fastq.gz\n",
            "[2020-11-02 17:59:59,671]    INFO         tmp/SRR8363269_2.fastq.gz\n",
            "Exception in thread Thread-3:\n",
            "Traceback (most recent call last):\n",
            "  File \"/usr/lib/python3.6/threading.py\", line 916, in _bootstrap_inner\n",
            "    self.run()\n",
            "  File \"/usr/lib/python3.6/threading.py\", line 864, in run\n",
            "    self._target(*self._args, **self._kwargs)\n",
            "  File \"/usr/lib/python3.6/urllib/request.py\", line 277, in urlretrieve\n",
            "    block = fp.read(bs)\n",
            "  File \"/usr/lib/python3.6/tempfile.py\", line 624, in func_wrapper\n",
            "    return func(*args, **kwargs)\n",
            "  File \"/usr/lib/python3.6/tempfile.py\", line 624, in func_wrapper\n",
            "    return func(*args, **kwargs)\n",
            "  File \"/usr/lib/python3.6/socket.py\", line 586, in readinto\n",
            "    return self._sock.recv_into(b)\n",
            "ConnectionResetError: [Errno 104] Connection reset by peer\n",
            "\n",
            "Exception in thread Thread-4:\n",
            "Traceback (most recent call last):\n",
            "  File \"/usr/lib/python3.6/threading.py\", line 916, in _bootstrap_inner\n",
            "    self.run()\n",
            "  File \"/usr/lib/python3.6/threading.py\", line 864, in run\n",
            "    self._target(*self._args, **self._kwargs)\n",
            "  File \"/usr/lib/python3.6/urllib/request.py\", line 281, in urlretrieve\n",
            "    tfp.write(block)\n",
            "BrokenPipeError: [Errno 32] Broken pipe\n",
            "\n",
            "Exception in thread Thread-7:\n",
            "Traceback (most recent call last):\n",
            "  File \"/usr/lib/python3.6/threading.py\", line 916, in _bootstrap_inner\n",
            "    self.run()\n",
            "  File \"/usr/lib/python3.6/threading.py\", line 864, in run\n",
            "    self._target(*self._args, **self._kwargs)\n",
            "  File \"/usr/lib/python3.6/urllib/request.py\", line 277, in urlretrieve\n",
            "    block = fp.read(bs)\n",
            "  File \"/usr/lib/python3.6/tempfile.py\", line 624, in func_wrapper\n",
            "    return func(*args, **kwargs)\n",
            "  File \"/usr/lib/python3.6/tempfile.py\", line 624, in func_wrapper\n",
            "    return func(*args, **kwargs)\n",
            "  File \"/usr/lib/python3.6/socket.py\", line 586, in readinto\n",
            "    return self._sock.recv_into(b)\n",
            "ConnectionResetError: [Errno 104] Connection reset by peer\n",
            "\n",
            "Exception in thread Thread-8:\n",
            "Traceback (most recent call last):\n",
            "  File \"/usr/lib/python3.6/threading.py\", line 916, in _bootstrap_inner\n",
            "    self.run()\n",
            "  File \"/usr/lib/python3.6/threading.py\", line 864, in run\n",
            "    self._target(*self._args, **self._kwargs)\n",
            "  File \"/usr/lib/python3.6/urllib/request.py\", line 281, in urlretrieve\n",
            "    tfp.write(block)\n",
            "BrokenPipeError: [Errno 32] Broken pipe\n",
            "\n",
            "Exception in thread Thread-10:\n",
            "Traceback (most recent call last):\n",
            "  File \"/usr/lib/python3.6/threading.py\", line 916, in _bootstrap_inner\n",
            "    self.run()\n",
            "  File \"/usr/lib/python3.6/threading.py\", line 864, in run\n",
            "    self._target(*self._args, **self._kwargs)\n",
            "  File \"/usr/lib/python3.6/urllib/request.py\", line 289, in urlretrieve\n",
            "    % (read, size), result)\n",
            "urllib.error.ContentTooShortError: <urlopen error retrieval incomplete: got only 680560 out of 678366646 bytes>\n",
            "\n",
            "Exception in thread Thread-9:\n",
            "Traceback (most recent call last):\n",
            "  File \"/usr/lib/python3.6/threading.py\", line 916, in _bootstrap_inner\n",
            "    self.run()\n",
            "  File \"/usr/lib/python3.6/threading.py\", line 864, in run\n",
            "    self._target(*self._args, **self._kwargs)\n",
            "  File \"/usr/lib/python3.6/urllib/request.py\", line 281, in urlretrieve\n",
            "    tfp.write(block)\n",
            "BrokenPipeError: [Errno 32] Broken pipe\n",
            "\n",
            "Exception in thread Thread-12:\n",
            "Traceback (most recent call last):\n",
            "  File \"/usr/lib/python3.6/threading.py\", line 916, in _bootstrap_inner\n",
            "    self.run()\n",
            "  File \"/usr/lib/python3.6/threading.py\", line 864, in run\n",
            "    self._target(*self._args, **self._kwargs)\n",
            "  File \"/usr/lib/python3.6/urllib/request.py\", line 289, in urlretrieve\n",
            "    % (read, size), result)\n",
            "urllib.error.ContentTooShortError: <urlopen error retrieval incomplete: got only 680560 out of 678274514 bytes>\n",
            "\n",
            "Exception in thread Thread-11:\n",
            "Traceback (most recent call last):\n",
            "  File \"/usr/lib/python3.6/threading.py\", line 916, in _bootstrap_inner\n",
            "    self.run()\n",
            "  File \"/usr/lib/python3.6/threading.py\", line 864, in run\n",
            "    self._target(*self._args, **self._kwargs)\n",
            "  File \"/usr/lib/python3.6/urllib/request.py\", line 281, in urlretrieve\n",
            "    tfp.write(block)\n",
            "BrokenPipeError: [Errno 32] Broken pipe\n",
            "\n",
            "Exception in thread Thread-14:\n",
            "Traceback (most recent call last):\n",
            "  File \"/usr/lib/python3.6/threading.py\", line 916, in _bootstrap_inner\n",
            "    self.run()\n",
            "  File \"/usr/lib/python3.6/threading.py\", line 864, in run\n",
            "    self._target(*self._args, **self._kwargs)\n",
            "  File \"/usr/lib/python3.6/urllib/request.py\", line 289, in urlretrieve\n",
            "    % (read, size), result)\n",
            "urllib.error.ContentTooShortError: <urlopen error retrieval incomplete: got only 680560 out of 370719653 bytes>\n",
            "\n",
            "Exception in thread Thread-13:\n",
            "Traceback (most recent call last):\n",
            "  File \"/usr/lib/python3.6/threading.py\", line 916, in _bootstrap_inner\n",
            "    self.run()\n",
            "  File \"/usr/lib/python3.6/threading.py\", line 864, in run\n",
            "    self._target(*self._args, **self._kwargs)\n",
            "  File \"/usr/lib/python3.6/urllib/request.py\", line 281, in urlretrieve\n",
            "    tfp.write(block)\n",
            "BrokenPipeError: [Errno 32] Broken pipe\n",
            "\n",
            "Exception in thread Thread-16:\n",
            "Traceback (most recent call last):\n",
            "  File \"/usr/lib/python3.6/threading.py\", line 916, in _bootstrap_inner\n",
            "    self.run()\n",
            "  File \"/usr/lib/python3.6/threading.py\", line 864, in run\n",
            "    self._target(*self._args, **self._kwargs)\n",
            "  File \"/usr/lib/python3.6/urllib/request.py\", line 289, in urlretrieve\n",
            "    % (read, size), result)\n",
            "urllib.error.ContentTooShortError: <urlopen error retrieval incomplete: got only 712416 out of 363466181 bytes>\n",
            "\n",
            "Exception in thread Thread-15:\n",
            "Traceback (most recent call last):\n",
            "  File \"/usr/lib/python3.6/threading.py\", line 916, in _bootstrap_inner\n",
            "    self.run()\n",
            "  File \"/usr/lib/python3.6/threading.py\", line 864, in run\n",
            "    self._target(*self._args, **self._kwargs)\n",
            "  File \"/usr/lib/python3.6/urllib/request.py\", line 281, in urlretrieve\n",
            "    tfp.write(block)\n",
            "BrokenPipeError: [Errno 32] Broken pipe\n",
            "\n",
            "Exception in thread Thread-18:\n",
            "Traceback (most recent call last):\n",
            "  File \"/usr/lib/python3.6/threading.py\", line 916, in _bootstrap_inner\n",
            "    self.run()\n",
            "  File \"/usr/lib/python3.6/threading.py\", line 864, in run\n",
            "    self._target(*self._args, **self._kwargs)\n",
            "  File \"/usr/lib/python3.6/urllib/request.py\", line 289, in urlretrieve\n",
            "    % (read, size), result)\n",
            "urllib.error.ContentTooShortError: <urlopen error retrieval incomplete: got only 680560 out of 365339915 bytes>\n",
            "\n",
            "Exception in thread Thread-17:\n",
            "Traceback (most recent call last):\n",
            "  File \"/usr/lib/python3.6/threading.py\", line 916, in _bootstrap_inner\n",
            "    self.run()\n",
            "  File \"/usr/lib/python3.6/threading.py\", line 864, in run\n",
            "    self._target(*self._args, **self._kwargs)\n",
            "  File \"/usr/lib/python3.6/urllib/request.py\", line 281, in urlretrieve\n",
            "    tfp.write(block)\n",
            "BrokenPipeError: [Errno 32] Broken pipe\n",
            "\n",
            "Exception in thread Thread-20:\n",
            "Traceback (most recent call last):\n",
            "  File \"/usr/lib/python3.6/threading.py\", line 916, in _bootstrap_inner\n",
            "    self.run()\n",
            "  File \"/usr/lib/python3.6/threading.py\", line 864, in run\n",
            "    self._target(*self._args, **self._kwargs)\n",
            "  File \"/usr/lib/python3.6/urllib/request.py\", line 289, in urlretrieve\n",
            "    % (read, size), result)\n",
            "urllib.error.ContentTooShortError: <urlopen error retrieval incomplete: got only 648704 out of 408890488 bytes>\n",
            "\n",
            "Exception in thread Thread-19:\n",
            "Traceback (most recent call last):\n",
            "  File \"/usr/lib/python3.6/threading.py\", line 916, in _bootstrap_inner\n",
            "    self.run()\n",
            "  File \"/usr/lib/python3.6/threading.py\", line 864, in run\n",
            "    self._target(*self._args, **self._kwargs)\n",
            "  File \"/usr/lib/python3.6/urllib/request.py\", line 281, in urlretrieve\n",
            "    tfp.write(block)\n",
            "BrokenPipeError: [Errno 32] Broken pipe\n",
            "\n",
            "Exception in thread Thread-22:\n",
            "Traceback (most recent call last):\n",
            "  File \"/usr/lib/python3.6/threading.py\", line 916, in _bootstrap_inner\n",
            "    self.run()\n",
            "  File \"/usr/lib/python3.6/threading.py\", line 864, in run\n",
            "    self._target(*self._args, **self._kwargs)\n",
            "  File \"/usr/lib/python3.6/urllib/request.py\", line 289, in urlretrieve\n",
            "    % (read, size), result)\n",
            "urllib.error.ContentTooShortError: <urlopen error retrieval incomplete: got only 712416 out of 402114143 bytes>\n",
            "\n",
            "Exception in thread Thread-21:\n",
            "Traceback (most recent call last):\n",
            "  File \"/usr/lib/python3.6/threading.py\", line 916, in _bootstrap_inner\n",
            "    self.run()\n",
            "  File \"/usr/lib/python3.6/threading.py\", line 864, in run\n",
            "    self._target(*self._args, **self._kwargs)\n",
            "  File \"/usr/lib/python3.6/urllib/request.py\", line 281, in urlretrieve\n",
            "    tfp.write(block)\n",
            "BrokenPipeError: [Errno 32] Broken pipe\n",
            "\n",
            "Exception in thread Thread-24:\n",
            "Traceback (most recent call last):\n",
            "  File \"/usr/lib/python3.6/threading.py\", line 916, in _bootstrap_inner\n",
            "    self.run()\n",
            "  File \"/usr/lib/python3.6/threading.py\", line 864, in run\n",
            "    self._target(*self._args, **self._kwargs)\n",
            "  File \"/usr/lib/python3.6/urllib/request.py\", line 289, in urlretrieve\n",
            "    % (read, size), result)\n",
            "urllib.error.ContentTooShortError: <urlopen error retrieval incomplete: got only 712416 out of 404125263 bytes>\n",
            "\n",
            "Exception in thread Thread-23:\n",
            "Traceback (most recent call last):\n",
            "  File \"/usr/lib/python3.6/threading.py\", line 916, in _bootstrap_inner\n",
            "    self.run()\n",
            "  File \"/usr/lib/python3.6/threading.py\", line 864, in run\n",
            "    self._target(*self._args, **self._kwargs)\n",
            "  File \"/usr/lib/python3.6/urllib/request.py\", line 281, in urlretrieve\n",
            "    tfp.write(block)\n",
            "BrokenPipeError: [Errno 32] Broken pipe\n",
            "\n",
            "[2020-11-02 18:06:21,254]    INFO Sorting BUS file outputGSM3526585/output.bus to tmp/output.s.bus\n",
            "[2020-11-02 18:06:27,269]    INFO Whitelist not provided\n",
            "[2020-11-02 18:06:27,269]    INFO Copying pre-packaged 10XV2 whitelist to outputGSM3526585\n",
            "[2020-11-02 18:06:27,496]    INFO Inspecting BUS file tmp/output.s.bus\n",
            "[2020-11-02 18:06:32,916]    INFO Correcting BUS records in tmp/output.s.bus to tmp/output.s.c.bus with whitelist outputGSM3526585/10xv2_whitelist.txt\n",
            "[2020-11-02 18:06:54,293]    INFO Sorting BUS file tmp/output.s.c.bus to outputGSM3526585/output.unfiltered.bus\n",
            "[2020-11-02 18:06:59,027]    INFO Generating count matrix outputGSM3526585/counts_unfiltered/cells_x_genes from BUS file outputGSM3526585/output.unfiltered.bus\n",
            "[2020-11-02 18:07:05,672]    INFO Converting matrix outputGSM3526585/counts_unfiltered/cells_x_genes.mtx to h5ad outputGSM3526585/counts_unfiltered/adata.h5ad\n",
            "[2020-11-02 18:07:15,619]    INFO Filtering with bustools\n",
            "[2020-11-02 18:07:15,619]    INFO Generating whitelist outputGSM3526585/filter_barcodes.txt from BUS file outputGSM3526585/output.unfiltered.bus\n",
            "[2020-11-02 18:07:15,701]    INFO Capturing records from BUS file outputGSM3526585/output.unfiltered.bus to tmp/output.filtered.bus with capture list outputGSM3526585/filter_barcodes.txt\n",
            "[2020-11-02 18:07:16,318]    INFO Sorting BUS file tmp/output.filtered.bus to outputGSM3526585/output.filtered.bus\n",
            "[2020-11-02 18:07:19,732]    INFO Generating count matrix outputGSM3526585/counts_filtered/cells_x_genes from BUS file outputGSM3526585/output.filtered.bus\n",
            "[2020-11-02 18:07:24,067]    INFO Converting matrix outputGSM3526585/counts_filtered/cells_x_genes.mtx to h5ad outputGSM3526585/counts_filtered/adata.h5ad\n"
          ],
          "name": "stdout"
        }
      ]
    },
    {
      "cell_type": "markdown",
      "metadata": {
        "id": "tDijOZzrqhN2"
      },
      "source": [
        "# Load unfiltered matrix and assign filters to each matrix individually"
      ]
    },
    {
      "cell_type": "markdown",
      "metadata": {
        "id": "VkNLZh_pNFFw"
      },
      "source": [
        "## Load the unfiltered matrix (check dimensions)"
      ]
    },
    {
      "cell_type": "code",
      "metadata": {
        "id": "PppRNeV8AIyw"
      },
      "source": [
        "# Define dict to store data\n",
        "results = {}\n"
      ],
      "execution_count": 33,
      "outputs": []
    },
    {
      "cell_type": "code",
      "metadata": {
        "id": "pKmtGf3c_BiZ",
        "cellView": "both",
        "outputId": "590a9dfe-ae12-41ec-eafa-15f1aa609ec9",
        "colab": {
          "base_uri": "https://localhost:8080/"
        }
      },
      "source": [
        "# load the unfiltered matrix\n",
        "for i in range(no_samples):\n",
        "  results[sample_id[i]] = anndata.read_h5ad(\"output\" + sample_id[i] + \"/counts_unfiltered/adata.h5ad\")\n",
        "  results[sample_id[i]].var[\"gene_id\"] = results[sample_id[i]].var.index.values\n",
        "\n",
        "  t2g = pd.read_csv(\"t2g.txt\", header=None, names=[\"tid\", \"gene_id\", \"gene_name\"], sep=\"\\t\")\n",
        "  t2g.index = t2g.gene_id\n",
        "  t2g = t2g.loc[~t2g.index.duplicated(keep='first')]\n",
        "\n",
        "  results[sample_id[i]].var[\"gene_name\"] = results[sample_id[i]].var.gene_id.map(t2g[\"gene_name\"])\n",
        "  results[sample_id[i]].var.index = results[sample_id[i]].var[\"gene_name\"]\n",
        "  print(\"The unfiltered matrix \" + sample_id[i] + \" contains {} cells by {} genes\".format(len(results[sample_id[i]].obs), len(results[sample_id[i]].var)))\n",
        "\n",
        "  results[sample_id[i]].obs[\"cell_counts\"] = results[sample_id[i]].X.sum(axis=1)\n",
        "  results[sample_id[i]].var[\"gene_counts\"] = nd(results[sample_id[i]].X.sum(axis=0))\n",
        "\n",
        "  results[sample_id[i]].obs[\"n_genes\"] = nd((results[sample_id[i]].X>0).sum(axis=1))\n",
        "  results[sample_id[i]].var[\"n_cells\"] = nd((results[sample_id[i]].X>0).sum(axis=0))\n",
        "\n",
        "  mito_genes = results[sample_id[i]].var_names.str.startswith(\"MT-\" or \"mt-\") \n",
        "  results[sample_id[i]].obs[\"percent_mito\"] = results[sample_id[i]][:,mito_genes].X.sum(axis=1)/results[sample_id[i]].X.sum(axis=1)*100\n",
        "\n",
        "  # Changing the name of the index is necessary to write the file (it won't work with duplicated names)\n",
        "  results[sample_id[i]].var.index.name = \"index\"\n",
        "\n"
      ],
      "execution_count": 34,
      "outputs": [
        {
          "output_type": "stream",
          "text": [
            "The unfiltered matrix GSM3526585 contains 189133 cells by 60623 genes\n"
          ],
          "name": "stdout"
        }
      ]
    },
    {
      "cell_type": "markdown",
      "metadata": {
        "id": "hDAUH3eH_2RA"
      },
      "source": [
        "## Assign filters for each matrix individually"
      ]
    },
    {
      "cell_type": "code",
      "metadata": {
        "id": "ukinuaKk_6Po"
      },
      "source": [
        "# Modify this manually to change sample after having assigned the \"expected_num_cells\" and \"mito_criteria\" parameters\n",
        "samp_n = 0\n",
        "\n",
        "\n",
        "# Filtering criteria\n",
        "cell_threshold = 100\n",
        "gene_threshold = 3\n",
        "\n",
        "mito_criteria = 30"
      ],
      "execution_count": 36,
      "outputs": []
    },
    {
      "cell_type": "code",
      "metadata": {
        "id": "a5wZB5pEfwNs",
        "cellView": "form",
        "outputId": "c75027fb-a313-4a90-9ebb-34a85055a42f",
        "colab": {
          "base_uri": "https://localhost:8080/",
          "height": 725
        }
      },
      "source": [
        "\n",
        "expected_num_cells = 9000#@param {type:\"integer\"}\n",
        "knee = np.sort(nd(results[sample_id[samp_n]].X.sum(axis=1)))[::-1]\n",
        "\n",
        "fig, ax = plt.subplots(figsize=(5, 5))\n",
        "\n",
        "x = knee\n",
        "y = range(len(knee))\n",
        "\n",
        "ax.loglog(x, y, linewidth=5, color=\"g\")\n",
        "\n",
        "ax.axvline(x=knee[expected_num_cells], linewidth=3, color=\"k\")\n",
        "ax.axhline(y=expected_num_cells, linewidth=3, color=\"k\")\n",
        "\n",
        "ax.set_xlabel(\"UMI Counts\")\n",
        "ax.set_ylabel(\"Set of Barcodes\")\n",
        "\n",
        "plt.show()\n",
        "\n",
        "cell_threshold = knee[expected_num_cells]\n",
        "\n",
        "results[\"cell_threshold\" + sample_id[samp_n]] = knee[expected_num_cells]\n",
        "\n",
        "print (\"Cells were filtered down to \" + str(expected_num_cells) + \" with at least \" + str(cell_threshold) + \" UMIs\")\n",
        "\n",
        "\n",
        "mito_criteria = 35#@param {type:\"integer\"}\n",
        "results[\"mito_criteria\" + sample_id[samp_n]] = mito_criteria\n",
        "\n",
        "fig, ax = plt.subplots(figsize=(5,5))\n",
        "\n",
        "\n",
        "x = nd(results[sample_id[samp_n]].obs[\"cell_counts\"][results[sample_id[i]].obs[\"cell_counts\"] > cell_threshold])\n",
        "y = nd(results[sample_id[samp_n]].obs[\"percent_mito\"][results[sample_id[i]].obs[\"cell_counts\"] > cell_threshold])\n",
        "\n",
        "ax.scatter(x, y, color=\"green\", alpha=0.1)\n",
        "\n",
        "ax.axhline(y=mito_criteria, linestyle=\"--\", color=\"k\")\n",
        "\n",
        "\n",
        "ax.set_xlabel(\"UMI Counts\")\n",
        "ax.set_ylabel(\"Percent mito\")\n",
        "\n",
        "\n",
        "plt.show()\n",
        "\n",
        "print(\"We select \" + str(mito_criteria) + \" % as the mitochondrial content threshold\")"
      ],
      "execution_count": 43,
      "outputs": [
        {
          "output_type": "display_data",
          "data": {
            "image/png": "[encoded data removed]",
            "text/plain": [
              "<Figure size 360x360 with 1 Axes>"
            ]
          },
          "metadata": {
            "tags": [],
            "image/png": {
              "width": 358,
              "height": 337
            },
            "needs_background": "light"
          }
        },
        {
          "output_type": "stream",
          "text": [
            "Cells were filtered down to 9000 with at least 92.0 UMIs\n"
          ],
          "name": "stdout"
        },
        {
          "output_type": "display_data",
          "data": {
            "image/png": "[encoded data removed]",
            "text/plain": [
              "<Figure size 360x360 with 1 Axes>"
            ]
          },
          "metadata": {
            "tags": [],
            "image/png": {
              "width": 349,
              "height": 337
            },
            "needs_background": "light"
          }
        },
        {
          "output_type": "stream",
          "text": [
            "We select 35 % as the mitochondrial content threshold\n"
          ],
          "name": "stdout"
        }
      ]
    },
    {
      "cell_type": "markdown",
      "metadata": {
        "id": "eP9j2ouPq9KY"
      },
      "source": [
        "# Filter matrix"
      ]
    },
    {
      "cell_type": "code",
      "metadata": {
        "id": "sE51WUA3gVmG",
        "outputId": "ede6543f-8f0f-4cc0-934d-95db3e52e600",
        "colab": {
          "base_uri": "https://localhost:8080/"
        }
      },
      "source": [
        "for i in range(no_samples):\n",
        "  results[sample_id[i]].obs[\"pass_count_filter\"] = results[sample_id[i]].obs[\"cell_counts\"] > results[\"cell_threshold\" + sample_id[i]]\n",
        "  results[sample_id[i]].obs[\"pass_mito_filter\"] = results[sample_id[i]].obs.percent_mito < results[\"mito_criteria\" + sample_id[i]]\n",
        "  results[sample_id[i]].var[\"pass_gene_filter\"] = results[sample_id[i]].var[\"n_cells\"] > gene_threshold\n",
        "\n",
        "  cell_mask = np.logical_and(results[sample_id[i]].obs[\"pass_count_filter\"].values, results[sample_id[i]].obs[\"pass_mito_filter\"].values)\n",
        "  gene_mask = results[sample_id[i]].var[\"pass_gene_filter\"].values\n",
        "\n",
        "  print(\"Current Shape: {:,} cells x {:,} genes\".format(results[sample_id[i]].shape[0], results[sample_id[i]].shape[1]))\n",
        "  print(\"    New shape: {:,} cells x {:,} genes\".format(cell_mask.sum(), gene_mask.sum()))\n",
        "  results[\"data_\" + sample_id[i]] = results[sample_id[i]][cell_mask, gene_mask]"
      ],
      "execution_count": 44,
      "outputs": [
        {
          "output_type": "stream",
          "text": [
            "Current Shape: 189,133 cells x 60,623 genes\n",
            "    New shape: 8,548 cells x 23,448 genes\n"
          ],
          "name": "stdout"
        }
      ]
    },
    {
      "cell_type": "markdown",
      "metadata": {
        "id": "BxPA81yj4TlU"
      },
      "source": [
        "# Anotate and write the Anndata object"
      ]
    },
    {
      "cell_type": "code",
      "metadata": {
        "id": "O-q_Qj2U4kDU",
        "outputId": "2e79d0c7-bbf4-4c30-89a9-36714dd01e96",
        "colab": {
          "base_uri": "https://localhost:8080/"
        }
      },
      "source": [
        "for i in range(no_samples):\n",
        "\n",
        "\n",
        "  results[\"data_\" + sample_id[i]].uns[\"database_id\"] = database_id[samp_n]\n",
        "\n",
        "  results[\"data_\" + sample_id[i]].uns[\"tissue\"] = tissue[samp_n]\n",
        "\n",
        "  results[\"data_\" + sample_id[i]].uns[\"cell_type\"] = cell_type[samp_n]\n",
        "\n",
        "  results[\"data_\" + sample_id[i]].uns[\"sample_id\"] = sample_id[samp_n]\n",
        "\n",
        "  results[\"data_\" + sample_id[i]].uns[\"condition\"] = condition[samp_n]\n",
        "\n",
        "  results[\"data_\" + sample_id[i]].uns[\"species\"] = species[samp_n]\n",
        "\n",
        "  results[\"data_\" + sample_id[i]].uns[\"technology\"] = technology[samp_n]\n",
        "\n",
        "  results[\"data_\" + sample_id[i]].uns[\"paper\"] = paper[samp_n]\n",
        "\n",
        "  results[\"data_\" + sample_id[i]].uns[\"figure\"] = figure[samp_n]\n",
        "\n",
        "\n",
        "%cd /content\n",
        "\n",
        "for i in range(no_samples):\n",
        "\n",
        "  results[\"data_\" + sample_id[i]].write(\"result\" + sample_id[i])"
      ],
      "execution_count": 45,
      "outputs": [
        {
          "output_type": "stream",
          "text": [
            "Trying to set attribute `.uns` of view, copying.\n",
            "Variable names are not unique. To make them unique, call `.var_names_make_unique`.\n",
            "Variable names are not unique. To make them unique, call `.var_names_make_unique`.\n"
          ],
          "name": "stderr"
        },
        {
          "output_type": "stream",
          "text": [
            "/content\n"
          ],
          "name": "stdout"
        },
        {
          "output_type": "stream",
          "text": [
            "... storing 'gene_name' as categorical\n"
          ],
          "name": "stderr"
        }
      ]
    }
  ]
}