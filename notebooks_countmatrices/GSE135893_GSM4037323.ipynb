{
  "nbformat": 4,
  "nbformat_minor": 0,
  "metadata": {
    "colab": {
      "name": "GSE135893_GSM4037323.ipynb",
      "provenance": [],
      "collapsed_sections": [],
      "toc_visible": true,
      "include_colab_link": true
    },
    "kernelspec": {
      "name": "python3",
      "display_name": "Python 3"
    }
  },
  "cells": [
    {
      "cell_type": "markdown",
      "metadata": {
        "id": "view-in-github",
        "colab_type": "text"
      },
      "source": [
        "<a href=\"https://colab.research.google.com/github/agalvezm/ACE2_scRNAseq/blob/master/notebooks_countmatrices/GSE135893_GSM4037323.ipynb\" target=\"_parent\"><img src=\"https://colab.research.google.com/assets/colab-badge.svg\" alt=\"Open In Colab\"/></a>"
      ]
    },
    {
      "cell_type": "markdown",
      "metadata": {
        "id": "V9ryXluJsJw9"
      },
      "source": [
        "# GSE135893_GSM4037323"
      ]
    },
    {
      "cell_type": "code",
      "metadata": {
        "id": "ggNFAQJCRh6P"
      },
      "source": [
        "# define the values for the analysis\n",
        "\n",
        "# accession id for the data\n",
        "id = \"GSE135893\"\n",
        "samp_id = [\"GSM4037323\"]\n",
        "\n",
        "# If only bam available files, set bam = True, Fill link and filename\n",
        "bam = False\n",
        "\n",
        "# If fastq links available but are not ffq links\n",
        "fastq_ffqlinks = False\n",
        "\n",
        "\n",
        "if bam:\n",
        "  # Assign link to python variable\n",
        "  link_to_bam = \"\"\n",
        "  \n",
        "  # Assigns the link to the bash variable BAM_LINK. To be used by wget\n",
        "  %env BAM_LINK=$link_to_bam\n",
        "\n",
        "  # Assign filename to python variable. Used to convert to fastq and remove bam file to fastq after conversion\n",
        "\n",
        "  bam_filename=\"\"\n",
        "\n",
        "\n",
        "if not bam:\n",
        "\n",
        "  # Copy and paste the links from the ACE2 scRNAseq datasets google  spreadsheet\n",
        "\n",
        "  links_raw = \"ftp://ftp.sra.ebi.ac.uk/vol1/fastq/SRR998/006/SRR9985436/SRR9985436_1.fastq.gz\tftp://ftp.sra.ebi.ac.uk/vol1/fastq/SRR998/006/SRR9985436/SRR9985436_2.fastq.gz\tftp://ftp.sra.ebi.ac.uk/vol1/fastq/SRR998/005/SRR9985435/SRR9985435_1.fastq.gz\tftp://ftp.sra.ebi.ac.uk/vol1/fastq/SRR998/005/SRR9985435/SRR9985435_2.fastq.gz\tftp://ftp.sra.ebi.ac.uk/vol1/fastq/SRR998/007/SRR9985437/SRR9985437_1.fastq.gz\tftp://ftp.sra.ebi.ac.uk/vol1/fastq/SRR998/007/SRR9985437/SRR9985437_2.fastq.gz\tftp://ftp.sra.ebi.ac.uk/vol1/fastq/SRR998/008/SRR9985438/SRR9985438_1.fastq.gz\tftp://ftp.sra.ebi.ac.uk/vol1/fastq/SRR998/008/SRR9985438/SRR9985438_2.fastq.gz\tftp://ftp.sra.ebi.ac.uk/vol1/fastq/SRR998/004/SRR9985434/SRR9985434_1.fastq.gz\tftp://ftp.sra.ebi.ac.uk/vol1/fastq/SRR998/004/SRR9985434/SRR9985434_2.fastq.gz\tftp://ftp.sra.ebi.ac.uk/vol1/fastq/SRR998/003/SRR9985433/SRR9985433_1.fastq.gz\tftp://ftp.sra.ebi.ac.uk/vol1/fastq/SRR998/003/SRR9985433/SRR9985433_2.fastq.gz\tftp://ftp.sra.ebi.ac.uk/vol1/fastq/SRR998/002/SRR9985432/SRR9985432_1.fastq.gz\t\tftp://ftp.sra.ebi.ac.uk/vol1/fastq/SRR998/002/SRR9985432/SRR9985432_2.fastq.gz\"\n",
        "\n",
        "  # Convert it to a list where each link is an element\n",
        "  \n",
        "  fastqs = links_raw.split()\n"
      ],
      "execution_count": null,
      "outputs": []
    },
    {
      "cell_type": "code",
      "metadata": {
        "id": "5R3tPDqnoJUn"
      },
      "source": [
        "no_samples = 1\n",
        "\n",
        "fastqs_per_sample = [4, 8, 8] \n",
        "\n",
        "sample_id = samp_id\n",
        "\n",
        "database_id = [id] * no_samples\n",
        "\n",
        "tissue = [\"lung\"] * no_samples\n",
        "\n",
        "cell_type = [\"lung biopsy (multiple locations)\"] * no_samples\n",
        "\n",
        "condition = [\"healthy\"] * no_samples\n",
        "\n",
        "species = [\"human\"] * no_samples\n",
        "\n",
        "technology = [\"10xv2\"] * no_samples\n",
        "\n",
        "paper = [\"Muus et al 2020\"] * no_samples\n",
        "\n",
        "figure = [\"Fig 1 c,d Fig 4 e ED Fig 11 a,c\"] * no_samples\n",
        "\n",
        "\n",
        "# Set string variables for kb functions\n",
        "\n",
        "species_kb = species[0]\n",
        "\n",
        "technology_kb = technology[0]\n",
        "\n"
      ],
      "execution_count": null,
      "outputs": []
    },
    {
      "cell_type": "markdown",
      "metadata": {
        "id": "FPwL0-_-KSAw"
      },
      "source": [
        "# Imports and installs"
      ]
    },
    {
      "cell_type": "code",
      "metadata": {
        "id": "1HSlUGZEp3oP",
        "colab": {
          "base_uri": "https://localhost:8080/"
        },
        "outputId": "32ff436a-4d75-45ff-aee8-a1c4f0ca98c2"
      },
      "source": [
        "# install and import necessary software\n",
        "\n",
        "# Install kb and scanpy\n",
        "!pip -q install kb-python \n",
        "!pip -q install scanpy\n",
        "\n",
        "import re\n",
        "import os\n",
        "\n",
        "# Setup\n",
        "\n",
        "import anndata\n",
        "import pandas as pd\n",
        "import numpy as np\n",
        "import matplotlib.pyplot as plt\n",
        "import matplotlib as mpl\n",
        "import matplotlib.patches as mpatches\n",
        "import scanpy as sc\n",
        "from scipy import stats\n",
        "\n",
        "from collections import OrderedDict\n",
        "from sklearn.decomposition import TruncatedSVD\n",
        "from sklearn.manifold import TSNE\n",
        "from sklearn.preprocessing import scale\n",
        "\n",
        "from sklearn.cluster import KMeans\n",
        "from sklearn.preprocessing import normalize\n",
        "from sklearn.preprocessing import LabelEncoder\n",
        "from sklearn.neighbors import NeighborhoodComponentsAnalysis\n",
        "from matplotlib import cm\n",
        "from matplotlib.lines import Line2D\n",
        "\n",
        "def nd(arr):\n",
        "    return np.asarray(arr).reshape(-1)\n",
        "def yex(ax):\n",
        "    lims = [np.min([ax.get_xlim(), ax.get_ylim()]),\n",
        "            np.max([ax.get_xlim(), ax.get_ylim()])]\n",
        "\n",
        "    # now plot both limits against eachother\n",
        "    ax.plot(lims, lims, 'k-', alpha=0.75, zorder=0)\n",
        "    ax.set_aspect('equal')\n",
        "    ax.set_xlim(lims)\n",
        "    ax.set_ylim(lims)\n",
        "    return ax\n",
        "\n",
        "def trim_axs(axs, N):\n",
        "    \"\"\"little helper to massage the axs list to have correct length...\"\"\"\n",
        "    axs = axs.flat\n",
        "    for ax in axs[N:]:\n",
        "        ax.remove()\n",
        "    return axs[:N]\n",
        "\n",
        "import warnings\n",
        "warnings.filterwarnings('ignore')\n",
        "\n",
        "fsize=20\n",
        "\n",
        "plt.rcParams.update({'font.size': fsize})\n",
        "%config InlineBackend.figure_format = 'retina'"
      ],
      "execution_count": null,
      "outputs": [
        {
          "output_type": "stream",
          "text": [
            "\u001b[K     |████████████████████████████████| 35.4MB 123kB/s \n",
            "\u001b[K     |████████████████████████████████| 51kB 5.6MB/s \n",
            "\u001b[K     |████████████████████████████████| 122kB 50.1MB/s \n",
            "\u001b[K     |████████████████████████████████| 112kB 45.3MB/s \n",
            "\u001b[?25h  Building wheel for loompy (setup.py) ... \u001b[?25l\u001b[?25hdone\n",
            "  Building wheel for numpy-groupies (setup.py) ... \u001b[?25l\u001b[?25hdone\n",
            "\u001b[K     |████████████████████████████████| 7.7MB 2.6MB/s \n",
            "\u001b[K     |████████████████████████████████| 51kB 5.1MB/s \n",
            "\u001b[K     |████████████████████████████████| 61kB 5.9MB/s \n",
            "\u001b[?25h  Building wheel for sinfo (setup.py) ... \u001b[?25l\u001b[?25hdone\n"
          ],
          "name": "stdout"
        }
      ]
    },
    {
      "cell_type": "markdown",
      "metadata": {
        "id": "7V6FbosVrvP4"
      },
      "source": [
        "# Downloads: (bam (if bam) and index"
      ]
    },
    {
      "cell_type": "code",
      "metadata": {
        "id": "q46hw4zqKUPS"
      },
      "source": [
        "if bam:\n",
        "\n",
        "  # Install bamtofastq from 10x website (only bam files available)\n",
        "  !wget http://cf.10xgenomics.com/misc/bamtofastq-1.2.0\n",
        "  !chmod +x bamtofastq-1.2.0\n",
        "  # Download the bam file\n",
        "  !wget -- continue ${BAM_LINK}\n",
        "\n",
        "\n"
      ],
      "execution_count": null,
      "outputs": []
    },
    {
      "cell_type": "code",
      "metadata": {
        "id": "tDQlrjtqNF0m"
      },
      "source": [
        "if bam:\n",
        "  # Convert to fastq\n",
        "  !./bamtofastq-1.2.0 --reads-per-fastq=500000000 $bam_filename ./fastqs\\\n",
        "\n",
        "  # Remove original bam file to save space\n",
        "  !rm $bam_filename\n"
      ],
      "execution_count": null,
      "outputs": []
    },
    {
      "cell_type": "code",
      "metadata": {
        "id": "SXRDRphvqcLe"
      },
      "source": [
        "# Store fastq names on a list\n",
        "\n",
        "if bam:\n",
        "  # cd into fastqs folder\n",
        "  %cd /content/fastqs\n",
        "\n",
        "  #store the name of the folder generated by bamtofastq\n",
        "  _filename = os.listdir()[0]\n",
        "\n",
        "  # cd into that folder\n",
        "  %cd $_filename\n",
        "\n",
        "  # store fastq names in a list\n",
        "  fastqs = os.listdir()\n",
        "\n",
        "\n",
        "  # Remove I1 and R3 reads not relevant for our analysis\n",
        "\n",
        "  # Initialize list containing elements to remove\n",
        "  remov_elem = []\n",
        "\n",
        "  print (\"\\n\\nThis is the complete list of fastqs:\\n -----------\")\n",
        "  for elem in fastqs:\n",
        "    print (elem)\n",
        "\n",
        "  # Search index (I1 or R3) fastqs and remove them from list\n",
        "  for elem in fastqs:\n",
        "    if re.search(\"_R3_\", elem) or re.search(\"_I1_\", elem):\n",
        "      remov_elem = remov_elem +[elem]\n",
        "\n",
        "  fastqs = [elem for elem in fastqs if elem not in remov_elem] \n",
        "\n",
        "  print (\"\\n\\nThis is the filtered list of fastqs:\\n -----------\")\n",
        "  for elem in fastqs:\n",
        "    print (elem)\n"
      ],
      "execution_count": null,
      "outputs": []
    },
    {
      "cell_type": "code",
      "metadata": {
        "id": "ZnFcqcSgjLBw"
      },
      "source": [
        "# Remove fastqs that wont be analyzed to save space\n",
        "if bam:\n",
        "  for elem in remov_elem:\n",
        "    !rm $elem"
      ],
      "execution_count": null,
      "outputs": []
    },
    {
      "cell_type": "code",
      "metadata": {
        "id": "FLVS8aB7Dm6J"
      },
      "source": [
        "if bam:\n",
        "  # sort fastqs alphabetically to get R1 and R2 in order\n",
        "  fastqs = sorted(fastqs)"
      ],
      "execution_count": null,
      "outputs": []
    },
    {
      "cell_type": "code",
      "metadata": {
        "id": "FE9gWbQgpBfR",
        "colab": {
          "base_uri": "https://localhost:8080/"
        },
        "outputId": "defac85c-3dca-4d08-e582-64f620980fc5"
      },
      "source": [
        "# wget fastqs from non ffq links in fastqs folder\n",
        "if not bam and not fastq_ffqlinks:\n",
        "  !mkdir fastqs\n",
        "  %cd fastqs\n",
        "  for link in fastqs:\n",
        "    !wget $link --continue\n",
        "\n",
        "  # update fastqs variable with name of files\n",
        "  fastqs = sorted(os.listdir())"
      ],
      "execution_count": null,
      "outputs": [
        {
          "output_type": "stream",
          "text": [
            "/content/fastqs\n",
            "--2020-11-17 18:49:35--  ftp://ftp.sra.ebi.ac.uk/vol1/fastq/SRR998/006/SRR9985436/SRR9985436_1.fastq.gz\n",
            "           => ‘SRR9985436_1.fastq.gz’\n",
            "Resolving ftp.sra.ebi.ac.uk (ftp.sra.ebi.ac.uk)... 193.62.197.74\n",
            "Connecting to ftp.sra.ebi.ac.uk (ftp.sra.ebi.ac.uk)|193.62.197.74|:21... connected.\n",
            "Logging in as anonymous ... Logged in!\n",
            "==> SYST ... done.    ==> PWD ... done.\n",
            "==> TYPE I ... done.  ==> CWD (1) /vol1/fastq/SRR998/006/SRR9985436 ... done.\n",
            "==> SIZE SRR9985436_1.fastq.gz ... 376259371\n",
            "==> PASV ... done.    ==> RETR SRR9985436_1.fastq.gz ... done.\n",
            "Length: 376259371 (359M) (unauthoritative)\n",
            "\n",
            "SRR9985436_1.fastq. 100%[===================>] 358.83M  32.5MB/s    in 14s     \n",
            "\n",
            "2020-11-17 18:49:50 (26.6 MB/s) - ‘SRR9985436_1.fastq.gz’ saved [376259371]\n",
            "\n",
            "--2020-11-17 18:49:50--  ftp://ftp.sra.ebi.ac.uk/vol1/fastq/SRR998/006/SRR9985436/SRR9985436_2.fastq.gz\n",
            "           => ‘SRR9985436_2.fastq.gz’\n",
            "Resolving ftp.sra.ebi.ac.uk (ftp.sra.ebi.ac.uk)... 193.62.193.138\n",
            "Connecting to ftp.sra.ebi.ac.uk (ftp.sra.ebi.ac.uk)|193.62.193.138|:21... connected.\n",
            "Logging in as anonymous ... Logged in!\n",
            "==> SYST ... done.    ==> PWD ... done.\n",
            "==> TYPE I ... done.  ==> CWD (1) /vol1/fastq/SRR998/006/SRR9985436 ... done.\n",
            "==> SIZE SRR9985436_2.fastq.gz ... 387716642\n",
            "==> PASV ... done.    ==> RETR SRR9985436_2.fastq.gz ... done.\n",
            "Length: 387716642 (370M) (unauthoritative)\n",
            "\n",
            "SRR9985436_2.fastq. 100%[===================>] 369.75M  31.4MB/s    in 19s     \n",
            "\n",
            "2020-11-17 18:50:10 (19.5 MB/s) - ‘SRR9985436_2.fastq.gz’ saved [387716642]\n",
            "\n",
            "--2020-11-17 18:50:10--  ftp://ftp.sra.ebi.ac.uk/vol1/fastq/SRR998/005/SRR9985435/SRR9985435_1.fastq.gz\n",
            "           => ‘SRR9985435_1.fastq.gz’\n",
            "Resolving ftp.sra.ebi.ac.uk (ftp.sra.ebi.ac.uk)... 193.62.193.138\n",
            "Connecting to ftp.sra.ebi.ac.uk (ftp.sra.ebi.ac.uk)|193.62.193.138|:21... connected.\n",
            "Logging in as anonymous ... Logged in!\n",
            "==> SYST ... done.    ==> PWD ... done.\n",
            "==> TYPE I ... done.  ==> CWD (1) /vol1/fastq/SRR998/005/SRR9985435 ... done.\n",
            "==> SIZE SRR9985435_1.fastq.gz ... 378290312\n",
            "==> PASV ... done.    ==> RETR SRR9985435_1.fastq.gz ... done.\n",
            "Length: 378290312 (361M) (unauthoritative)\n",
            "\n",
            "SRR9985435_1.fastq. 100%[===================>] 360.77M  31.8MB/s    in 22s     \n",
            "\n",
            "2020-11-17 18:50:34 (16.4 MB/s) - ‘SRR9985435_1.fastq.gz’ saved [378290312]\n",
            "\n",
            "--2020-11-17 18:50:34--  ftp://ftp.sra.ebi.ac.uk/vol1/fastq/SRR998/005/SRR9985435/SRR9985435_2.fastq.gz\n",
            "           => ‘SRR9985435_2.fastq.gz’\n",
            "Resolving ftp.sra.ebi.ac.uk (ftp.sra.ebi.ac.uk)... 193.62.197.74\n",
            "Connecting to ftp.sra.ebi.ac.uk (ftp.sra.ebi.ac.uk)|193.62.197.74|:21... connected.\n",
            "Logging in as anonymous ... Logged in!\n",
            "==> SYST ... done.    ==> PWD ... done.\n",
            "==> TYPE I ... done.  ==> CWD (1) /vol1/fastq/SRR998/005/SRR9985435 ... done.\n",
            "==> SIZE SRR9985435_2.fastq.gz ... 391019285\n",
            "==> PASV ... done.    ==> RETR SRR9985435_2.fastq.gz ... done.\n",
            "Length: 391019285 (373M) (unauthoritative)\n",
            "\n",
            "SRR9985435_2.fastq. 100%[===================>] 372.90M  10.3MB/s    in 91s     \n",
            "\n",
            "2020-11-17 18:52:07 (4.12 MB/s) - ‘SRR9985435_2.fastq.gz’ saved [391019285]\n",
            "\n",
            "--2020-11-17 18:52:07--  ftp://ftp.sra.ebi.ac.uk/vol1/fastq/SRR998/007/SRR9985437/SRR9985437_1.fastq.gz\n",
            "           => ‘SRR9985437_1.fastq.gz’\n",
            "Resolving ftp.sra.ebi.ac.uk (ftp.sra.ebi.ac.uk)... 193.62.197.74\n",
            "Connecting to ftp.sra.ebi.ac.uk (ftp.sra.ebi.ac.uk)|193.62.197.74|:21... connected.\n",
            "Error in server response. Closing.\n",
            "Retrying.\n",
            "\n",
            "--2020-11-17 18:52:08--  ftp://ftp.sra.ebi.ac.uk/vol1/fastq/SRR998/007/SRR9985437/SRR9985437_1.fastq.gz\n",
            "  (try: 2) => ‘SRR9985437_1.fastq.gz’\n",
            "Connecting to ftp.sra.ebi.ac.uk (ftp.sra.ebi.ac.uk)|193.62.197.74|:21... connected.\n",
            "Logging in as anonymous ... \n",
            "The server refuses login.\n",
            "Retrying.\n",
            "\n",
            "--2020-11-17 18:52:14--  ftp://ftp.sra.ebi.ac.uk/vol1/fastq/SRR998/007/SRR9985437/SRR9985437_1.fastq.gz\n",
            "  (try: 3) => ‘SRR9985437_1.fastq.gz’\n",
            "Connecting to ftp.sra.ebi.ac.uk (ftp.sra.ebi.ac.uk)|193.62.197.74|:21... connected.\n",
            "Logging in as anonymous ... Logged in!\n",
            "==> SYST ... done.    ==> PWD ... done.\n",
            "==> TYPE I ... done.  ==> CWD (1) /vol1/fastq/SRR998/007/SRR9985437 ... done.\n",
            "==> SIZE SRR9985437_1.fastq.gz ... 278668853\n",
            "==> PASV ... done.    ==> RETR SRR9985437_1.fastq.gz ... done.\n",
            "Length: 278668853 (266M) (unauthoritative)\n",
            "\n",
            "SRR9985437_1.fastq. 100%[===================>] 265.76M  32.1MB/s    in 11s     \n",
            "\n",
            "2020-11-17 18:52:26 (24.2 MB/s) - ‘SRR9985437_1.fastq.gz’ saved [278668853]\n",
            "\n",
            "--2020-11-17 18:52:26--  ftp://ftp.sra.ebi.ac.uk/vol1/fastq/SRR998/007/SRR9985437/SRR9985437_2.fastq.gz\n",
            "           => ‘SRR9985437_2.fastq.gz’\n",
            "Resolving ftp.sra.ebi.ac.uk (ftp.sra.ebi.ac.uk)... 193.62.197.74\n",
            "Connecting to ftp.sra.ebi.ac.uk (ftp.sra.ebi.ac.uk)|193.62.197.74|:21... connected.\n",
            "Error in server response. Closing.\n",
            "Retrying.\n",
            "\n",
            "--2020-11-17 19:07:28--  ftp://ftp.sra.ebi.ac.uk/vol1/fastq/SRR998/007/SRR9985437/SRR9985437_2.fastq.gz\n",
            "  (try: 2) => ‘SRR9985437_2.fastq.gz’\n",
            "Connecting to ftp.sra.ebi.ac.uk (ftp.sra.ebi.ac.uk)|193.62.197.74|:21... connected.\n",
            "Logging in as anonymous ... Logged in!\n",
            "==> SYST ... done.    ==> PWD ... done.\n",
            "==> TYPE I ... done.  ==> CWD (1) /vol1/fastq/SRR998/007/SRR9985437 ... done.\n",
            "==> SIZE SRR9985437_2.fastq.gz ... 282348144\n",
            "==> PASV ... done.    ==> RETR SRR9985437_2.fastq.gz ... done.\n",
            "Length: 282348144 (269M) (unauthoritative)\n",
            "\n",
            "SRR9985437_2.fastq. 100%[===================>] 269.27M  24.2MB/s    in 29s     \n",
            "\n",
            "2020-11-17 19:07:59 (9.20 MB/s) - ‘SRR9985437_2.fastq.gz’ saved [282348144]\n",
            "\n",
            "--2020-11-17 19:07:59--  ftp://ftp.sra.ebi.ac.uk/vol1/fastq/SRR998/008/SRR9985438/SRR9985438_1.fastq.gz\n",
            "           => ‘SRR9985438_1.fastq.gz’\n",
            "Resolving ftp.sra.ebi.ac.uk (ftp.sra.ebi.ac.uk)... 193.62.197.74\n",
            "Connecting to ftp.sra.ebi.ac.uk (ftp.sra.ebi.ac.uk)|193.62.197.74|:21... connected.\n",
            "Logging in as anonymous ... Logged in!\n",
            "==> SYST ... done.    ==> PWD ... done.\n",
            "==> TYPE I ... done.  ==> CWD (1) /vol1/fastq/SRR998/008/SRR9985438 ... done.\n",
            "==> SIZE SRR9985438_1.fastq.gz ... 277930847\n",
            "==> PASV ... done.    ==> RETR SRR9985438_1.fastq.gz ... done.\n",
            "Length: 277930847 (265M) (unauthoritative)\n",
            "\n",
            "SRR9985438_1.fastq. 100%[===================>] 265.05M  3.37MB/s    in 69s     \n",
            "\n",
            "2020-11-17 19:09:10 (3.86 MB/s) - ‘SRR9985438_1.fastq.gz’ saved [277930847]\n",
            "\n",
            "--2020-11-17 19:09:10--  ftp://ftp.sra.ebi.ac.uk/vol1/fastq/SRR998/008/SRR9985438/SRR9985438_2.fastq.gz\n",
            "           => ‘SRR9985438_2.fastq.gz’\n",
            "Resolving ftp.sra.ebi.ac.uk (ftp.sra.ebi.ac.uk)... 193.62.197.74\n",
            "Connecting to ftp.sra.ebi.ac.uk (ftp.sra.ebi.ac.uk)|193.62.197.74|:21... connected.\n",
            "Error in server response. Closing.\n",
            "Retrying.\n",
            "\n",
            "--2020-11-17 19:09:11--  ftp://ftp.sra.ebi.ac.uk/vol1/fastq/SRR998/008/SRR9985438/SRR9985438_2.fastq.gz\n",
            "  (try: 2) => ‘SRR9985438_2.fastq.gz’\n",
            "Connecting to ftp.sra.ebi.ac.uk (ftp.sra.ebi.ac.uk)|193.62.197.74|:21... connected.\n",
            "Error in server response. Closing.\n",
            "Retrying.\n",
            "\n",
            "--2020-11-17 19:09:15--  ftp://ftp.sra.ebi.ac.uk/vol1/fastq/SRR998/008/SRR9985438/SRR9985438_2.fastq.gz\n",
            "  (try: 3) => ‘SRR9985438_2.fastq.gz’\n",
            "Connecting to ftp.sra.ebi.ac.uk (ftp.sra.ebi.ac.uk)|193.62.197.74|:21... connected.\n",
            "Logging in as anonymous ... Logged in!\n",
            "==> SYST ... done.    ==> PWD ... done.\n",
            "==> TYPE I ... done.  ==> CWD (1) /vol1/fastq/SRR998/008/SRR9985438 ... done.\n",
            "==> SIZE SRR9985438_2.fastq.gz ... 280498224\n",
            "==> PASV ... done.    ==> RETR SRR9985438_2.fastq.gz ... done.\n",
            "Length: 280498224 (268M) (unauthoritative)\n",
            "\n",
            "SRR9985438_2.fastq. 100%[===================>] 267.50M  15.8MB/s    in 23s     \n",
            "\n",
            "2020-11-17 19:09:40 (11.4 MB/s) - ‘SRR9985438_2.fastq.gz’ saved [280498224]\n",
            "\n",
            "--2020-11-17 19:09:40--  ftp://ftp.sra.ebi.ac.uk/vol1/fastq/SRR998/004/SRR9985434/SRR9985434_1.fastq.gz\n",
            "           => ‘SRR9985434_1.fastq.gz’\n",
            "Resolving ftp.sra.ebi.ac.uk (ftp.sra.ebi.ac.uk)... 193.62.193.138\n",
            "Connecting to ftp.sra.ebi.ac.uk (ftp.sra.ebi.ac.uk)|193.62.193.138|:21... connected.\n",
            "Logging in as anonymous ... Logged in!\n",
            "==> SYST ... done.    ==> PWD ... done.\n",
            "==> TYPE I ... done.  ==> CWD (1) /vol1/fastq/SRR998/004/SRR9985434 ... done.\n",
            "==> SIZE SRR9985434_1.fastq.gz ... 440339825\n",
            "==> PASV ... done.    ==> RETR SRR9985434_1.fastq.gz ... done.\n",
            "Length: 440339825 (420M) (unauthoritative)\n",
            "\n",
            "SRR9985434_1.fastq. 100%[===================>] 419.94M  31.6MB/s    in 28s     \n",
            "\n",
            "2020-11-17 19:10:10 (15.2 MB/s) - ‘SRR9985434_1.fastq.gz’ saved [440339825]\n",
            "\n",
            "--2020-11-17 19:10:10--  ftp://ftp.sra.ebi.ac.uk/vol1/fastq/SRR998/004/SRR9985434/SRR9985434_2.fastq.gz\n",
            "           => ‘SRR9985434_2.fastq.gz’\n",
            "Resolving ftp.sra.ebi.ac.uk (ftp.sra.ebi.ac.uk)... 193.62.197.74\n",
            "Connecting to ftp.sra.ebi.ac.uk (ftp.sra.ebi.ac.uk)|193.62.197.74|:21... connected.\n",
            "Logging in as anonymous ... Logged in!\n",
            "==> SYST ... done.    ==> PWD ... done.\n",
            "==> TYPE I ... done.  ==> CWD (1) /vol1/fastq/SRR998/004/SRR9985434 ... done.\n",
            "==> SIZE SRR9985434_2.fastq.gz ... 465499595\n",
            "==> PASV ... done.    ==> RETR SRR9985434_2.fastq.gz ... done.\n",
            "Length: 465499595 (444M) (unauthoritative)\n",
            "\n",
            "SRR9985434_2.fastq. 100%[===================>] 443.93M  32.7MB/s    in 34s     \n",
            "\n",
            "2020-11-17 19:10:46 (13.0 MB/s) - ‘SRR9985434_2.fastq.gz’ saved [465499595]\n",
            "\n",
            "--2020-11-17 19:10:46--  ftp://ftp.sra.ebi.ac.uk/vol1/fastq/SRR998/003/SRR9985433/SRR9985433_1.fastq.gz\n",
            "           => ‘SRR9985433_1.fastq.gz’\n",
            "Resolving ftp.sra.ebi.ac.uk (ftp.sra.ebi.ac.uk)... 193.62.197.74\n",
            "Connecting to ftp.sra.ebi.ac.uk (ftp.sra.ebi.ac.uk)|193.62.197.74|:21... connected.\n",
            "Logging in as anonymous ... Logged in!\n",
            "==> SYST ... done.    ==> PWD ... done.\n",
            "==> TYPE I ... done.  ==> CWD (1) /vol1/fastq/SRR998/003/SRR9985433 ... done.\n",
            "==> SIZE SRR9985433_1.fastq.gz ... 441631566\n",
            "==> PASV ... done.    ==> RETR SRR9985433_1.fastq.gz ... done.\n",
            "Length: 441631566 (421M) (unauthoritative)\n",
            "\n",
            "SRR9985433_1.fastq. 100%[===================>] 421.17M  32.0MB/s    in 39s     \n",
            "\n",
            "2020-11-17 19:11:26 (10.9 MB/s) - ‘SRR9985433_1.fastq.gz’ saved [441631566]\n",
            "\n",
            "--2020-11-17 19:11:26--  ftp://ftp.sra.ebi.ac.uk/vol1/fastq/SRR998/003/SRR9985433/SRR9985433_2.fastq.gz\n",
            "           => ‘SRR9985433_2.fastq.gz’\n",
            "Resolving ftp.sra.ebi.ac.uk (ftp.sra.ebi.ac.uk)... 193.62.197.74\n",
            "Connecting to ftp.sra.ebi.ac.uk (ftp.sra.ebi.ac.uk)|193.62.197.74|:21... connected.\n",
            "Logging in as anonymous ... Logged in!\n",
            "==> SYST ... done.    ==> PWD ... done.\n",
            "==> TYPE I ... done.  ==> CWD (1) /vol1/fastq/SRR998/003/SRR9985433 ... done.\n",
            "==> SIZE SRR9985433_2.fastq.gz ... 468105865\n",
            "==> PASV ... done.    ==> RETR SRR9985433_2.fastq.gz ... done.\n",
            "Length: 468105865 (446M) (unauthoritative)\n",
            "\n",
            "SRR9985433_2.fastq. 100%[===================>] 446.42M  31.9MB/s    in 17s     \n",
            "\n",
            "2020-11-17 19:11:45 (26.2 MB/s) - ‘SRR9985433_2.fastq.gz’ saved [468105865]\n",
            "\n",
            "--2020-11-17 19:11:45--  ftp://ftp.sra.ebi.ac.uk/vol1/fastq/SRR998/002/SRR9985432/SRR9985432_1.fastq.gz\n",
            "           => ‘SRR9985432_1.fastq.gz’\n",
            "Resolving ftp.sra.ebi.ac.uk (ftp.sra.ebi.ac.uk)... 193.62.197.74\n",
            "Connecting to ftp.sra.ebi.ac.uk (ftp.sra.ebi.ac.uk)|193.62.197.74|:21... connected.\n",
            "Logging in as anonymous ... Logged in!\n",
            "==> SYST ... done.    ==> PWD ... done.\n",
            "==> TYPE I ... done.  ==> CWD (1) /vol1/fastq/SRR998/002/SRR9985432 ... done.\n",
            "==> SIZE SRR9985432_1.fastq.gz ... 336931186\n",
            "==> PASV ... done.    ==> RETR SRR9985432_1.fastq.gz ... done.\n",
            "Length: 336931186 (321M) (unauthoritative)\n",
            "\n",
            "SRR9985432_1.fastq. 100%[===================>] 321.32M  32.1MB/s    in 23s     \n",
            "\n",
            "2020-11-17 19:12:10 (13.9 MB/s) - ‘SRR9985432_1.fastq.gz’ saved [336931186]\n",
            "\n",
            "--2020-11-17 19:12:10--  ftp://ftp.sra.ebi.ac.uk/vol1/fastq/SRR998/002/SRR9985432/SRR9985432_2.fastq.gz\n",
            "           => ‘SRR9985432_2.fastq.gz’\n",
            "Resolving ftp.sra.ebi.ac.uk (ftp.sra.ebi.ac.uk)... 193.62.193.138\n",
            "Connecting to ftp.sra.ebi.ac.uk (ftp.sra.ebi.ac.uk)|193.62.193.138|:21... connected.\n",
            "Logging in as anonymous ... Logged in!\n",
            "==> SYST ... done.    ==> PWD ... done.\n",
            "==> TYPE I ... done.  ==> CWD (1) /vol1/fastq/SRR998/002/SRR9985432 ... done.\n",
            "==> SIZE SRR9985432_2.fastq.gz ... 358094915\n",
            "==> PASV ... done.    ==> RETR SRR9985432_2.fastq.gz ... done.\n",
            "Length: 358094915 (342M) (unauthoritative)\n",
            "\n",
            "SRR9985432_2.fastq. 100%[===================>] 341.51M  31.6MB/s    in 19s     \n",
            "\n",
            "2020-11-17 19:12:31 (18.0 MB/s) - ‘SRR9985432_2.fastq.gz’ saved [358094915]\n",
            "\n"
          ],
          "name": "stdout"
        }
      ]
    },
    {
      "cell_type": "code",
      "metadata": {
        "id": "PC9oETW1pE9t",
        "colab": {
          "base_uri": "https://localhost:8080/"
        },
        "outputId": "8ef8a67d-cc87-4c8e-cd22-0365a73d8548"
      },
      "source": [
        "if bam:\n",
        "  # Download the corresponding Kallisto index to folder containing fastqs\n",
        "  !kb ref -d $species_kb -i index.idx -g t2g.txt -f1 transcriptome.fasta\n",
        "\n",
        "if not bam and fastq_ffqlinks:\n",
        "  %cd /content\n",
        "\n",
        "  # Download the corresponding Kallisto index to content folder\n",
        "  !kb ref -d $species_kb -i index.idx -g t2g.txt -f1 transcriptome.fasta\n",
        "\n",
        "if not bam and not fastq_ffqlinks:\n",
        "  %cd /content/fastqs\n",
        "\n",
        "  # Download the corresponding Kallisto index to fastq folder\n",
        "  !kb ref -d $species_kb -i index.idx -g t2g.txt -f1 transcriptome.fasta"
      ],
      "execution_count": null,
      "outputs": [
        {
          "output_type": "stream",
          "text": [
            "/content/fastqs\n",
            "[2020-11-17 19:12:32,321]    INFO Downloading files for human from https://caltech.box.com/shared/static/v1nm7lpnqz5syh8dyzdk2zs8bglncfib.gz to tmp/v1nm7lpnqz5syh8dyzdk2zs8bglncfib.gz\n",
            "[2020-11-17 19:15:07,544]    INFO Extracting files from tmp/v1nm7lpnqz5syh8dyzdk2zs8bglncfib.gz\n"
          ],
          "name": "stdout"
        }
      ]
    },
    {
      "cell_type": "code",
      "metadata": {
        "id": "vHVNa51Cp9Nr",
        "colab": {
          "base_uri": "https://localhost:8080/"
        },
        "outputId": "3673ed79-c791-4a4d-a92e-e6d106492678"
      },
      "source": [
        "# Check to make sure the metadata is in the right order after sorting\n",
        "print(fastqs)"
      ],
      "execution_count": null,
      "outputs": [
        {
          "output_type": "stream",
          "text": [
            "['SRR9985432_1.fastq.gz', 'SRR9985432_2.fastq.gz', 'SRR9985433_1.fastq.gz', 'SRR9985433_2.fastq.gz', 'SRR9985434_1.fastq.gz', 'SRR9985434_2.fastq.gz', 'SRR9985435_1.fastq.gz', 'SRR9985435_2.fastq.gz', 'SRR9985436_1.fastq.gz', 'SRR9985436_2.fastq.gz', 'SRR9985437_1.fastq.gz', 'SRR9985437_2.fastq.gz', 'SRR9985438_1.fastq.gz', 'SRR9985438_2.fastq.gz']\n"
          ],
          "name": "stdout"
        }
      ]
    },
    {
      "cell_type": "markdown",
      "metadata": {
        "id": "VInyuq1Dp7iz"
      },
      "source": [
        "# Process fastq files (modify kb command according to fastqs list)\n"
      ]
    },
    {
      "cell_type": "code",
      "metadata": {
        "id": "OcqtBuH-pRaX",
        "colab": {
          "base_uri": "https://localhost:8080/"
        },
        "outputId": "525849e6-0bcb-4de0-9afb-06f44b33f47b"
      },
      "source": [
        "fastqs"
      ],
      "execution_count": null,
      "outputs": [
        {
          "output_type": "execute_result",
          "data": {
            "text/plain": [
              "['SRR9985432_1.fastq.gz',\n",
              " 'SRR9985432_2.fastq.gz',\n",
              " 'SRR9985433_1.fastq.gz',\n",
              " 'SRR9985433_2.fastq.gz',\n",
              " 'SRR9985434_1.fastq.gz',\n",
              " 'SRR9985434_2.fastq.gz',\n",
              " 'SRR9985435_1.fastq.gz',\n",
              " 'SRR9985435_2.fastq.gz',\n",
              " 'SRR9985436_1.fastq.gz',\n",
              " 'SRR9985436_2.fastq.gz',\n",
              " 'SRR9985437_1.fastq.gz',\n",
              " 'SRR9985437_2.fastq.gz',\n",
              " 'SRR9985438_1.fastq.gz',\n",
              " 'SRR9985438_2.fastq.gz']"
            ]
          },
          "metadata": {
            "tags": []
          },
          "execution_count": 12
        }
      ]
    },
    {
      "cell_type": "code",
      "metadata": {
        "id": "5qFzPj-0kZTi",
        "colab": {
          "base_uri": "https://localhost:8080/"
        },
        "outputId": "75b7f514-3b3b-4c74-a944-422077a0c18e"
      },
      "source": [
        "# Specify the sample number and whether they are paired-ended\n",
        "\n",
        "\n",
        "if no_samples == 1:\n",
        "\n",
        "  # Write the kb count command as a string with all fastqs of the list as an input\n",
        "  cmd = \"kb count --h5ad -i index.idx -g t2g.txt -x \" + technology_kb + \" -o output\" + sample_id[0] + \" \"\\\n",
        "  + \"--filter bustools -t 2 --overwrite \" + \"'\" +  \"' '\".join(fastqs) + \"'\"\n",
        "  \n",
        "  # Execute it\n",
        "  !$cmd\n",
        "\n",
        "# If more than one sample, iterate through fastqs accordingly\n",
        "else:\n",
        "\n",
        "  # Initializa counter for fastq files\n",
        "  j = 0\n",
        "\n",
        "  # Loop over samples for analysis\n",
        "  for i in range(no_samples):\n",
        "\n",
        "    fastqs_to_analyze = fastqs[j:j + fastqs_per_sample[i]]\n",
        "    # Write the kb count command as a string\n",
        "    cmd = \"kb count --h5ad -i ../index.idx -g ../t2g.txt -x \" + technology_kb + \" -o output\" + sample_id[i] + \" \\\n",
        "    --filter bustools -t 2 --overwrite \" + \"'\" +  \"' '\".join(fastqs_to_analyze) + \"'\"\n",
        "\n",
        "    # Execute it\n",
        "    !$cmd\n",
        "\n",
        "    # Update j to move to the next set of fastq\n",
        "    j = j + fastqs_per_sample[i]\n",
        "\n",
        "\n",
        "\n",
        "\n",
        "\n"
      ],
      "execution_count": null,
      "outputs": [
        {
          "output_type": "stream",
          "text": [
            "[2020-11-17 19:15:45,455]    INFO Generating BUS file from\n",
            "[2020-11-17 19:15:45,455]    INFO         SRR9985432_1.fastq.gz\n",
            "[2020-11-17 19:15:45,455]    INFO         SRR9985432_2.fastq.gz\n",
            "[2020-11-17 19:15:45,455]    INFO         SRR9985433_1.fastq.gz\n",
            "[2020-11-17 19:15:45,455]    INFO         SRR9985433_2.fastq.gz\n",
            "[2020-11-17 19:15:45,456]    INFO         SRR9985434_1.fastq.gz\n",
            "[2020-11-17 19:15:45,456]    INFO         SRR9985434_2.fastq.gz\n",
            "[2020-11-17 19:15:45,456]    INFO         SRR9985435_1.fastq.gz\n",
            "[2020-11-17 19:15:45,456]    INFO         SRR9985435_2.fastq.gz\n",
            "[2020-11-17 19:15:45,456]    INFO         SRR9985436_1.fastq.gz\n",
            "[2020-11-17 19:15:45,456]    INFO         SRR9985436_2.fastq.gz\n",
            "[2020-11-17 19:15:45,456]    INFO         SRR9985437_1.fastq.gz\n",
            "[2020-11-17 19:15:45,456]    INFO         SRR9985437_2.fastq.gz\n",
            "[2020-11-17 19:15:45,456]    INFO         SRR9985438_1.fastq.gz\n",
            "[2020-11-17 19:15:45,456]    INFO         SRR9985438_2.fastq.gz\n",
            "[2020-11-17 19:23:45,908]    INFO Sorting BUS file outputGSM4037323/output.bus to tmp/output.s.bus\n",
            "[2020-11-17 19:24:21,799]    INFO Whitelist not provided\n",
            "[2020-11-17 19:24:21,800]    INFO Copying pre-packaged 10XV2 whitelist to outputGSM4037323\n",
            "[2020-11-17 19:24:26,121]    INFO Inspecting BUS file tmp/output.s.bus\n",
            "[2020-11-17 19:24:41,314]    INFO Correcting BUS records in tmp/output.s.bus to tmp/output.s.c.bus with whitelist outputGSM4037323/10xv2_whitelist.txt\n",
            "[2020-11-17 19:25:11,471]    INFO Sorting BUS file tmp/output.s.c.bus to outputGSM4037323/output.unfiltered.bus\n",
            "[2020-11-17 19:25:31,582]    INFO Generating count matrix outputGSM4037323/counts_unfiltered/cells_x_genes from BUS file outputGSM4037323/output.unfiltered.bus\n",
            "[2020-11-17 19:25:49,819]    INFO Converting matrix outputGSM4037323/counts_unfiltered/cells_x_genes.mtx to h5ad outputGSM4037323/counts_unfiltered/adata.h5ad\n",
            "[2020-11-17 19:26:12,692]    INFO Filtering with bustools\n",
            "[2020-11-17 19:26:12,692]    INFO Generating whitelist outputGSM4037323/filter_barcodes.txt from BUS file outputGSM4037323/output.unfiltered.bus\n",
            "[2020-11-17 19:26:13,072]    INFO Capturing records from BUS file outputGSM4037323/output.unfiltered.bus to tmp/output.filtered.bus with capture list outputGSM4037323/filter_barcodes.txt\n",
            "[2020-11-17 19:26:15,890]    INFO Sorting BUS file tmp/output.filtered.bus to outputGSM4037323/output.filtered.bus\n",
            "[2020-11-17 19:26:25,031]    INFO Generating count matrix outputGSM4037323/counts_filtered/cells_x_genes from BUS file outputGSM4037323/output.filtered.bus\n",
            "[2020-11-17 19:26:34,333]    INFO Converting matrix outputGSM4037323/counts_filtered/cells_x_genes.mtx to h5ad outputGSM4037323/counts_filtered/adata.h5ad\n"
          ],
          "name": "stdout"
        }
      ]
    },
    {
      "cell_type": "markdown",
      "metadata": {
        "id": "tDijOZzrqhN2"
      },
      "source": [
        "# Load unfiltered matrix and assign filters to each matrix individually"
      ]
    },
    {
      "cell_type": "markdown",
      "metadata": {
        "id": "VkNLZh_pNFFw"
      },
      "source": [
        "## Load the unfiltered matrix (check dimensions)"
      ]
    },
    {
      "cell_type": "code",
      "metadata": {
        "id": "PppRNeV8AIyw"
      },
      "source": [
        "# Define dict to store data\n",
        "results = {}\n"
      ],
      "execution_count": null,
      "outputs": []
    },
    {
      "cell_type": "code",
      "metadata": {
        "id": "pKmtGf3c_BiZ",
        "cellView": "both",
        "colab": {
          "base_uri": "https://localhost:8080/"
        },
        "outputId": "6ff8bd3b-cee1-445f-dfe1-db88ba7ef38d"
      },
      "source": [
        "# load the unfiltered matrix\n",
        "for i in range(no_samples):\n",
        "  results[sample_id[i]] = anndata.read_h5ad(\"output\" + sample_id[i] + \"/counts_unfiltered/adata.h5ad\")\n",
        "  results[sample_id[i]].var[\"gene_id\"] = results[sample_id[i]].var.index.values\n",
        "\n",
        "  t2g = pd.read_csv(\"t2g.txt\", header=None, names=[\"tid\", \"gene_id\", \"gene_name\"], sep=\"\\t\")\n",
        "  t2g.index = t2g.gene_id\n",
        "  t2g = t2g.loc[~t2g.index.duplicated(keep='first')]\n",
        "\n",
        "  results[sample_id[i]].var[\"gene_name\"] = results[sample_id[i]].var.gene_id.map(t2g[\"gene_name\"])\n",
        "  results[sample_id[i]].var.index = results[sample_id[i]].var[\"gene_name\"]\n",
        "  print(\"The unfiltered matrix \" + sample_id[i] + \" contains {} cells by {} genes\".format(len(results[sample_id[i]].obs), len(results[sample_id[i]].var)))\n",
        "\n",
        "  results[sample_id[i]].obs[\"cell_counts\"] = results[sample_id[i]].X.sum(axis=1)\n",
        "  results[sample_id[i]].var[\"gene_counts\"] = nd(results[sample_id[i]].X.sum(axis=0))\n",
        "\n",
        "  results[sample_id[i]].obs[\"n_genes\"] = nd((results[sample_id[i]].X>0).sum(axis=1))\n",
        "  results[sample_id[i]].var[\"n_cells\"] = nd((results[sample_id[i]].X>0).sum(axis=0))\n",
        "\n",
        "  mito_genes = results[sample_id[i]].var_names.str.startswith(\"MT-\" or \"mt-\") \n",
        "  results[sample_id[i]].obs[\"percent_mito\"] = results[sample_id[i]][:,mito_genes].X.sum(axis=1)/results[sample_id[i]].X.sum(axis=1)*100\n",
        "\n",
        "  # Changing the name of the index is necessary to write the file (it won't work with duplicated names)\n",
        "  results[sample_id[i]].var.index.name = \"index\"\n",
        "\n"
      ],
      "execution_count": null,
      "outputs": [
        {
          "output_type": "stream",
          "text": [
            "The unfiltered matrix GSM4037323 contains 240865 cells by 60623 genes\n"
          ],
          "name": "stdout"
        }
      ]
    },
    {
      "cell_type": "markdown",
      "metadata": {
        "id": "hDAUH3eH_2RA"
      },
      "source": [
        "## Assign filters for each matrix individually"
      ]
    },
    {
      "cell_type": "code",
      "metadata": {
        "id": "ukinuaKk_6Po"
      },
      "source": [
        "# Modify this manually to change sample after having assigned the \"expected_num_cells\" and \"mito_criteria\" parameters\n",
        "samp_n = 0\n",
        "\n",
        "\n",
        "# Filtering criteria\n",
        "cell_threshold = 100\n",
        "gene_threshold = 3\n",
        "\n",
        "mito_criteria = 30"
      ],
      "execution_count": null,
      "outputs": []
    },
    {
      "cell_type": "code",
      "metadata": {
        "id": "a5wZB5pEfwNs",
        "cellView": "form",
        "colab": {
          "base_uri": "https://localhost:8080/",
          "height": 725
        },
        "outputId": "14f50d0d-f386-4a56-cd0e-b13851bcc27c"
      },
      "source": [
        "\n",
        "expected_num_cells = 8000#@param {type:\"integer\"}\n",
        "knee = np.sort(nd(results[sample_id[samp_n]].X.sum(axis=1)))[::-1]\n",
        "\n",
        "fig, ax = plt.subplots(figsize=(5, 5))\n",
        "\n",
        "x = knee\n",
        "y = range(len(knee))\n",
        "\n",
        "ax.loglog(x, y, linewidth=5, color=\"g\")\n",
        "\n",
        "ax.axvline(x=knee[expected_num_cells], linewidth=3, color=\"k\")\n",
        "ax.axhline(y=expected_num_cells, linewidth=3, color=\"k\")\n",
        "\n",
        "ax.set_xlabel(\"UMI Counts\")\n",
        "ax.set_ylabel(\"Set of Barcodes\")\n",
        "\n",
        "plt.show()\n",
        "\n",
        "cell_threshold = knee[expected_num_cells]\n",
        "\n",
        "results[\"cell_threshold\" + sample_id[samp_n]] = knee[expected_num_cells]\n",
        "\n",
        "print (\"Cells were filtered down to \" + str(expected_num_cells) + \" with at least \" + str(cell_threshold) + \" UMIs\")\n",
        "\n",
        "\n",
        "mito_criteria = 30#@param {type:\"integer\"}\n",
        "results[\"mito_criteria\" + sample_id[samp_n]] = mito_criteria\n",
        "\n",
        "fig, ax = plt.subplots(figsize=(5,5))\n",
        "\n",
        "\n",
        "x = nd(results[sample_id[samp_n]].obs[\"cell_counts\"][results[sample_id[samp_n]].obs[\"cell_counts\"] > cell_threshold])\n",
        "y = nd(results[sample_id[samp_n]].obs[\"percent_mito\"][results[sample_id[samp_n]].obs[\"cell_counts\"] > cell_threshold])\n",
        "\n",
        "ax.scatter(x, y, color=\"green\", alpha=0.1)\n",
        "\n",
        "ax.axhline(y=mito_criteria, linestyle=\"--\", color=\"k\")\n",
        "\n",
        "\n",
        "ax.set_xlabel(\"UMI Counts\")\n",
        "ax.set_ylabel(\"Percent mito\")\n",
        "\n",
        "\n",
        "plt.show()\n",
        "\n",
        "print(\"We select \" + str(mito_criteria) + \" % as the mitochondrial content threshold\")"
      ],
      "execution_count": null,
      "outputs": [
        {
          "output_type": "display_data",
          "data": {
            "image/png": "[encoded data removed]",
            "text/plain": [
              "<Figure size 360x360 with 1 Axes>"
            ]
          },
          "metadata": {
            "tags": [],
            "image/png": {
              "width": 358,
              "height": 337
            },
            "needs_background": "light"
          }
        },
        {
          "output_type": "stream",
          "text": [
            "Cells were filtered down to 8000 with at least 596.0 UMIs\n"
          ],
          "name": "stdout"
        },
        {
          "output_type": "display_data",
          "data": {
            "image/png": "[encoded data removed]",
            "text/plain": [
              "<Figure size 360x360 with 1 Axes>"
            ]
          },
          "metadata": {
            "tags": [],
            "image/png": {
              "width": 349,
              "height": 337
            },
            "needs_background": "light"
          }
        },
        {
          "output_type": "stream",
          "text": [
            "We select 30 % as the mitochondrial content threshold\n"
          ],
          "name": "stdout"
        }
      ]
    },
    {
      "cell_type": "markdown",
      "metadata": {
        "id": "eP9j2ouPq9KY"
      },
      "source": [
        "# Filter matrix"
      ]
    },
    {
      "cell_type": "code",
      "metadata": {
        "id": "sE51WUA3gVmG",
        "colab": {
          "base_uri": "https://localhost:8080/"
        },
        "outputId": "40331653-4e15-44cf-ec4f-bbe8f8c762e8"
      },
      "source": [
        "for i in range(no_samples):\n",
        "  results[sample_id[i]].obs[\"pass_count_filter\"] = results[sample_id[i]].obs[\"cell_counts\"] > results[\"cell_threshold\" + sample_id[i]]\n",
        "  results[sample_id[i]].obs[\"pass_mito_filter\"] = results[sample_id[i]].obs.percent_mito < results[\"mito_criteria\" + sample_id[i]]\n",
        "  results[sample_id[i]].var[\"pass_gene_filter\"] = results[sample_id[i]].var[\"n_cells\"] > gene_threshold\n",
        "\n",
        "  cell_mask = np.logical_and(results[sample_id[i]].obs[\"pass_count_filter\"].values, results[sample_id[i]].obs[\"pass_mito_filter\"].values)\n",
        "  gene_mask = results[sample_id[i]].var[\"pass_gene_filter\"].values\n",
        "\n",
        "  print(\"Current Shape: {:,} cells x {:,} genes\".format(results[sample_id[i]].shape[0], results[sample_id[i]].shape[1]))\n",
        "  print(\"    New shape: {:,} cells x {:,} genes\".format(cell_mask.sum(), gene_mask.sum()))\n",
        "  results[\"data_\" + sample_id[i]] = results[sample_id[i]][cell_mask, gene_mask]"
      ],
      "execution_count": null,
      "outputs": [
        {
          "output_type": "stream",
          "text": [
            "Current Shape: 240,865 cells x 60,623 genes\n",
            "    New shape: 7,562 cells x 23,497 genes\n"
          ],
          "name": "stdout"
        }
      ]
    },
    {
      "cell_type": "markdown",
      "metadata": {
        "id": "BxPA81yj4TlU"
      },
      "source": [
        "# Anotate and write the Anndata object"
      ]
    },
    {
      "cell_type": "code",
      "metadata": {
        "id": "O-q_Qj2U4kDU",
        "colab": {
          "base_uri": "https://localhost:8080/"
        },
        "outputId": "8352ea5b-5190-4ffe-b666-004f9e4d8d45"
      },
      "source": [
        "for i in range(no_samples):\n",
        "\n",
        "\n",
        "  results[\"data_\" + sample_id[i]].uns[\"database_id\"] = database_id[samp_n]\n",
        "\n",
        "  results[\"data_\" + sample_id[i]].uns[\"tissue\"] = tissue[samp_n]\n",
        "\n",
        "  results[\"data_\" + sample_id[i]].uns[\"cell_type\"] = cell_type[samp_n]\n",
        "\n",
        "  results[\"data_\" + sample_id[i]].uns[\"sample_id\"] = sample_id[samp_n]\n",
        "\n",
        "  results[\"data_\" + sample_id[i]].uns[\"condition\"] = condition[samp_n]\n",
        "\n",
        "  results[\"data_\" + sample_id[i]].uns[\"species\"] = species[samp_n]\n",
        "\n",
        "  results[\"data_\" + sample_id[i]].uns[\"technology\"] = technology[samp_n]\n",
        "\n",
        "  results[\"data_\" + sample_id[i]].uns[\"paper\"] = paper[samp_n]\n",
        "\n",
        "  results[\"data_\" + sample_id[i]].uns[\"figure\"] = figure[samp_n]\n",
        "\n",
        "\n",
        "%cd /content\n",
        "\n",
        "for i in range(no_samples):\n",
        "\n",
        "  results[\"data_\" + sample_id[i]].write(\"result\" + sample_id[i])"
      ],
      "execution_count": null,
      "outputs": [
        {
          "output_type": "stream",
          "text": [
            "Trying to set attribute `.uns` of view, copying.\n",
            "Variable names are not unique. To make them unique, call `.var_names_make_unique`.\n",
            "Variable names are not unique. To make them unique, call `.var_names_make_unique`.\n"
          ],
          "name": "stderr"
        },
        {
          "output_type": "stream",
          "text": [
            "/content\n"
          ],
          "name": "stdout"
        },
        {
          "output_type": "stream",
          "text": [
            "... storing 'gene_name' as categorical\n"
          ],
          "name": "stderr"
        }
      ]
    }
  ]
}