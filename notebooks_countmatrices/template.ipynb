{
  "nbformat": 4,
  "nbformat_minor": 0,
  "metadata": {
    "colab": {
      "name": "template.ipynb",
      "provenance": [],
      "collapsed_sections": [
        "1ttixfJus27d"
      ],
      "authorship_tag": "ABX9TyNSwQPh2RzW+iZRbH9dMExs",
      "include_colab_link": true
    },
    "kernelspec": {
      "name": "python3",
      "display_name": "Python 3"
    }
  },
  "cells": [
    {
      "cell_type": "markdown",
      "metadata": {
        "id": "view-in-github",
        "colab_type": "text"
      },
      "source": [
        "<a href=\"https://colab.research.google.com/github/agalvezm/ACE2_scRNAseq/blob/master/notebooks_countmatrices/template.ipynb\" target=\"_parent\"><img src=\"https://colab.research.google.com/assets/colab-badge.svg\" alt=\"Open In Colab\"/></a>"
      ]
    },
    {
      "cell_type": "code",
      "metadata": {
        "id": "ggNFAQJCRh6P",
        "colab_type": "code",
        "colab": {}
      },
      "source": [
        "# define the values for the analysis\n",
        "\n",
        "# accession id for the data\n",
        "id = \"GSE\"\n",
        "\n",
        "# If only bam available files, set bam = True, Fill the link for the bam file\n",
        "bam = True\n",
        "link_to_bam = \"ftp://ftp.sra.ebi.ac.uk/vol1/SRA678/SRA678017/bam/H17w_K1.bam\"\n"
      ],
      "execution_count": null,
      "outputs": []
    },
    {
      "cell_type": "markdown",
      "metadata": {
        "id": "1CI0Cb5pR0s4",
        "colab_type": "text"
      },
      "source": [
        "# Write corresponding GSE here"
      ]
    },
    {
      "cell_type": "code",
      "metadata": {
        "id": "BFPGtfdYKCwO",
        "colab_type": "code",
        "colab": {}
      },
      "source": [
        "# install and import necessary software\n",
        "\n",
        "# Install kb and scanpy\n",
        "!pip -q install kb-python \n",
        "!pip -q install scanpy\n",
        "\n",
        "import re\n",
        "import os"
      ],
      "execution_count": null,
      "outputs": []
    },
    {
      "cell_type": "markdown",
      "metadata": {
        "id": "FPwL0-_-KSAw",
        "colab_type": "text"
      },
      "source": [
        "# Downloading and converting bam files (if bam = True) (run)"
      ]
    },
    {
      "cell_type": "code",
      "metadata": {
        "id": "-dH8nWFUSTxX",
        "colab_type": "code",
        "colab": {}
      },
      "source": [
        "def bam_to_vars(link):\n",
        "  '''\n",
        "  Receives bam link as an input, returns python and bash variables\n",
        "  necessary for downstream analysis.\n",
        "  '''\n",
        "  # Assigns the link to the variable BAM_LINK. To be used by wget\n",
        "  %env BAM_LINK=$link\n",
        "\n",
        "  # Extracts name of bam file to be downloaded. \n",
        "  bam_filename = re.search('(?<=/bam/).+', link)[0]\n",
        "\n",
        "  # Store it in bash variable. Used to remove bam file after converstion to fastq\n",
        "  %env BAM_FILENAME=$bam_filename\n",
        "  # Return link as python variable. "
      ],
      "execution_count": null,
      "outputs": []
    },
    {
      "cell_type": "code",
      "metadata": {
        "id": "q46hw4zqKUPS",
        "colab_type": "code",
        "colab": {
          "base_uri": "https://localhost:8080/",
          "height": 71
        },
        "outputId": "98ab3692-cf72-4e8a-a725-8b5835286f98"
      },
      "source": [
        " bam_to_vars(link_to_bam)\n",
        "\n",
        "if bam:\n",
        "\n",
        "  # Install bamtofastq from 10x website (only bam files available)\n",
        "  !wget http://cf.10xgenomics.com/misc/bamtofastq-1.2.0\n",
        "  !chmod +x bamtofastq-1.2.0\n",
        "  # Download the bam file\n",
        "  !wget -- continue ${BAM_LINK}\n",
        "\n",
        "\n"
      ],
      "execution_count": null,
      "outputs": [
        {
          "output_type": "stream",
          "text": [
            "env: BAM_LINK=ftp://ftp.sra.ebi.ac.uk/vol1/SRA678/SRA678017/bam/H17w_K1.bam\n",
            "env: BAM_FILENAME=H17w_K1.bam\n"
          ],
          "name": "stdout"
        }
      ]
    },
    {
      "cell_type": "code",
      "metadata": {
        "id": "tDQlrjtqNF0m",
        "colab_type": "code",
        "colab": {
          "base_uri": "https://localhost:8080/",
          "height": 87
        },
        "outputId": "b84c6dad-40dc-4f8f-9c47-27cc0ef51f9e"
      },
      "source": [
        "# Convert to fastq\n",
        "!./bamtofastq-1.2.0 --reads-per-fastq=500000000 ${BAM_FILENAME} ./fastqs\\\n",
        "\n",
        "# Remove original bam file to save space\n",
        "!rm ${BAM_FILENAME}\n"
      ],
      "execution_count": null,
      "outputs": [
        {
          "output_type": "stream",
          "text": [
            "bamtofastq v1.2.0\n",
            "Args { arg_bam: \"H17w_K1.bam\", arg_output_path: \"./fastqs\", flag_nthreads: 4, flag_locus: None, flag_bx_list: None, flag_reads_per_fastq: 500000000, flag_gemcode: false, flag_lr20: false, flag_cr11: false }\n",
            "Writing finished.  Observed 242522743 read pairs. Wrote 242522743 read pairs\n"
          ],
          "name": "stdout"
        }
      ]
    },
    {
      "cell_type": "code",
      "metadata": {
        "id": "SXRDRphvqcLe",
        "colab_type": "code",
        "colab": {
          "base_uri": "https://localhost:8080/",
          "height": 418
        },
        "outputId": "c0a97e11-a181-42b4-c1df-9093c4a43c98"
      },
      "source": [
        "# Store fastq names on a list\n",
        "\n",
        "# cd into fastqs folder\n",
        "%cd /content/fastqs\n",
        "\n",
        "#store the name of the folder generated by bamtofastq\n",
        "_filename = os.listdir()[0]\n",
        "\n",
        "# cd into that folder\n",
        "%cd $_filename\n",
        "\n",
        "# store fastq names in a list\n",
        "fastqs = os.listdir()\n",
        "\n",
        "\n",
        "# Remove I1 and R3 reads not relevant for our analysis\n",
        "\n",
        "print (\"\\n\\nThis is the complete list of fastqs:\\n -----------\")\n",
        "for elem in fastqs:\n",
        "  print (elem)\n",
        "\n",
        "if bam == True:\n",
        "  for elem in fastqs:\n",
        "    if re.search(\"_R3_\", elem) or re.search(\"_I1_\", elem):\n",
        "      fastqs.remove(elem)\n",
        "\n",
        "\n",
        "\n",
        "print (\"\\n\\nThis is the filtered list of fastqs:\\n -----------\")\n",
        "for elem in fastqs:\n",
        "  print (elem)\n"
      ],
      "execution_count": null,
      "outputs": [
        {
          "output_type": "stream",
          "text": [
            "/content/fastqs\n",
            "/content/fastqs/H17w_K1_MissingLibrary_1_HJHKCBGX5\n",
            "\n",
            "\n",
            "This is the complete list of fastqs:\n",
            " -----------\n",
            "yetanothertest.h5ad\n",
            "bamtofastq_S1_L001_I1_001.fastq.gz\n",
            "index.idx\n",
            "output\n",
            "bamtofastq_S1_L001_R1_001.fastq.gz\n",
            "bamtofastq_S1_L001_R2_001.fastq.gz\n",
            "t2g.txt\n",
            "\n",
            "\n",
            "This is the filtered list of fastqs:\n",
            " -----------\n",
            "yetanothertest.h5ad\n",
            "index.idx\n",
            "output\n",
            "bamtofastq_S1_L001_R1_001.fastq.gz\n",
            "bamtofastq_S1_L001_R2_001.fastq.gz\n",
            "t2g.txt\n"
          ],
          "name": "stdout"
        }
      ]
    },
    {
      "cell_type": "markdown",
      "metadata": {
        "id": "1ttixfJus27d",
        "colab_type": "text"
      },
      "source": [
        "# Define list of fastq links (if bam = False) (edit)"
      ]
    },
    {
      "cell_type": "code",
      "metadata": {
        "id": "W5qk7mCRp-jV",
        "colab_type": "code",
        "colab": {}
      },
      "source": [
        "if not bam:\n",
        "  fastqs = [\"\",\n",
        "            \"\",\n",
        "            ]\n",
        "\n",
        "\n",
        "# ftp://ftp.sra.ebi.ac.uk/vol1/fastq/SRR645/007/SRR6459187/SRR6459187.fastq.gz\n",
        "# ftp://ftp.sra.ebi.ac.uk/vol1/fastq/SRR645/008/SRR6459188/SRR6459188.fastq.gz\n",
        "# ftp://ftp.sra.ebi.ac.uk/vol1/fastq/SRR645/009/SRR6459189/SRR6459189.fastq.gz\n",
        "# ftp://ftp.sra.ebi.ac.uk/vol1/fastq/SRR645/000/SRR6459190/SRR6459190.fastq.gz\n",
        "# ftp://ftp.sra.ebi.ac.uk/vol1/fastq/SRR645/001/SRR6459191/SRR6459191.fastq.gz\n",
        "# ftp://ftp.sra.ebi.ac.uk/vol1/fastq/SRR645/002/SRR6459192/SRR6459192.fastq.gz\n",
        "# ftp://ftp.sra.ebi.ac.uk/vol1/fastq/SRR645/003/SRR6459193/SRR6459193.fastq.gz\n",
        "# ftp://ftp.sra.ebi.ac.uk/vol1/fastq/SRR645/004/SRR6459194/SRR6459194.fastq.gz\n",
        "# ftp://ftp.sra.ebi.ac.uk/vol1/SRA645/SRA645804/bam/AdultHuman_Spermatocytes_17_11_possorted_genome_bam.bam\n",
        "# ftp://ftp.sra.ebi.ac.uk/vol1/SRA645/SRA645804/bam/AdultHuman_Spermatids_17_11_possorted_genome_bam.bam"
      ],
      "execution_count": null,
      "outputs": []
    },
    {
      "cell_type": "code",
      "metadata": {
        "id": "FkuYpyneJ1dB",
        "colab_type": "code",
        "colab": {}
      },
      "source": [
        "quit()"
      ],
      "execution_count": null,
      "outputs": []
    },
    {
      "cell_type": "markdown",
      "metadata": {
        "id": "ZKX3ZDemm_SL",
        "colab_type": "text"
      },
      "source": [
        "# Writing metadata (edit)"
      ]
    },
    {
      "cell_type": "code",
      "metadata": {
        "id": "FLVS8aB7Dm6J",
        "colab_type": "code",
        "colab": {
          "base_uri": "https://localhost:8080/",
          "height": 54
        },
        "outputId": "dbc1d4b5-60fe-49d4-b952-54a5509d4b5e"
      },
      "source": [
        "fastqs"
      ],
      "execution_count": null,
      "outputs": [
        {
          "output_type": "execute_result",
          "data": {
            "text/plain": [
              "['bamtofastq_S1_L001_R1_001.fastq.gz', 'bamtofastq_S1_L001_R2_001.fastq.gz']"
            ]
          },
          "metadata": {
            "tags": []
          },
          "execution_count": 9
        }
      ]
    },
    {
      "cell_type": "code",
      "metadata": {
        "id": "dSw2Za240SAo",
        "colab_type": "code",
        "colab": {}
      },
      "source": [
        "no_samples = 1\n",
        "\n",
        "database_id = [\"GSE\"] * no_samples\n",
        "\n",
        "tissue = [\"lung\"] * no_samples\n",
        "\n",
        "cell_type = [\"none\"] * no_samples\n",
        "\n",
        "sample_id = [\"GSM\"] * no_samples\n",
        "\n",
        "condition = [\"none\"] * no_samples\n",
        "\n",
        "species = [\"human\"] * no_samples\n",
        "\n",
        "technology = [\"10xv2\"] * no_samples\n",
        "\n",
        "paper = [\"Muus et al 2020\"] * no_samples\n",
        "\n",
        "figure = [\"Fig\"] * no_samples\n",
        "\n",
        "\n",
        "# Set string variables for kb functions\n",
        "\n",
        "species_kb = species[0]\n",
        "\n",
        "technology_kb = technology[0]\n",
        "\n",
        "\n"
      ],
      "execution_count": null,
      "outputs": []
    },
    {
      "cell_type": "code",
      "metadata": {
        "id": "cPJgvQYkD1Hq",
        "colab_type": "code",
        "colab": {}
      },
      "source": [
        "# Manually correct the relevant lists if necessary:\n",
        "\n",
        "\n"
      ],
      "execution_count": null,
      "outputs": []
    },
    {
      "cell_type": "markdown",
      "metadata": {
        "id": "KlC_6ZzDMKQR",
        "colab_type": "text"
      },
      "source": [
        "# Download Kallisto index (run)"
      ]
    },
    {
      "cell_type": "code",
      "metadata": {
        "id": "ggRmg-nRN4vX",
        "colab_type": "code",
        "colab": {
          "base_uri": "https://localhost:8080/",
          "height": 71
        },
        "outputId": "165103d2-6599-4b12-af22-db606eeea4c6"
      },
      "source": [
        "if bam:\n",
        "  # Download the corresponding Kallisto index to folder containing fastqs\n",
        "  !kb ref -d $species_kb -i index.idx -g t2g.txt -f1 transcriptome.fasta\n",
        "\n",
        "if not bam:\n",
        "  %cd /content\n",
        "\n",
        "  # Download the corresponding Kallisto index to content folder\n",
        "  !kb ref -d $species_kb -i index.idx -g t2g.txt -f1 transcriptome.fasta"
      ],
      "execution_count": null,
      "outputs": [
        {
          "output_type": "stream",
          "text": [
            "[2020-09-23 20:58:42,485]    INFO Downloading files for human from https://caltech.box.com/shared/static/v1nm7lpnqz5syh8dyzdk2zs8bglncfib.gz to tmp/v1nm7lpnqz5syh8dyzdk2zs8bglncfib.gz\n",
            "[2020-09-23 21:00:29,694]    INFO Extracting files from tmp/v1nm7lpnqz5syh8dyzdk2zs8bglncfib.gz\n"
          ],
          "name": "stdout"
        }
      ]
    },
    {
      "cell_type": "markdown",
      "metadata": {
        "id": "VInyuq1Dp7iz",
        "colab_type": "text"
      },
      "source": [
        "# Processing fastq files (select from list)"
      ]
    },
    {
      "cell_type": "code",
      "metadata": {
        "id": "OcqtBuH-pRaX",
        "colab_type": "code",
        "colab": {
          "base_uri": "https://localhost:8080/",
          "height": 54
        },
        "outputId": "3c7cf093-dd7c-4fd7-f30a-aefca2071af3"
      },
      "source": [
        "print(fastqs)"
      ],
      "execution_count": null,
      "outputs": [
        {
          "output_type": "stream",
          "text": [
            "['bamtofastq_S1_L001_R1_001.fastq.gz', 'bamtofastq_S1_L001_R2_001.fastq.gz']\n"
          ],
          "name": "stdout"
        }
      ]
    },
    {
      "cell_type": "code",
      "metadata": {
        "id": "5qFzPj-0kZTi",
        "colab_type": "code",
        "colab": {
          "base_uri": "https://localhost:8080/",
          "height": 319
        },
        "outputId": "369ba79e-b2b8-478f-93e8-36b0858c2f90"
      },
      "source": [
        "#Specify the sample number you are analyzing\n",
        "\n",
        "samp_n = 0\n",
        "\n",
        "# Write the kb count command as a string\n",
        "cmd = \"kb count --h5ad -i index.idx -g t2g.txt -x \" + technology_kb + \" -o output\\\n",
        " --filter bustools -t 2 --overwrite \" +\\\n",
        "      fastqs[0] + \" \" + fastqs[1]\n",
        "# Execute it\n",
        "\n",
        "!$cmd\n",
        "\n",
        "\n"
      ],
      "execution_count": null,
      "outputs": [
        {
          "output_type": "stream",
          "text": [
            "[2020-09-23 21:01:15,821]    INFO Generating BUS file from\n",
            "[2020-09-23 21:01:15,821]    INFO         bamtofastq_S1_L001_R1_001.fastq.gz\n",
            "[2020-09-23 21:01:15,821]    INFO         bamtofastq_S1_L001_R2_001.fastq.gz\n",
            "[2020-09-23 21:45:45,460]    INFO Sorting BUS file output/output.bus to tmp/output.s.bus\n",
            "[2020-09-23 21:48:32,281]    INFO Whitelist not provided\n",
            "[2020-09-23 21:48:35,540]    INFO Copying pre-packaged 10XV2 whitelist to output\n",
            "[2020-09-23 21:48:37,093]    INFO Inspecting BUS file tmp/output.s.bus\n",
            "[2020-09-23 21:49:09,433]    INFO Correcting BUS records in tmp/output.s.bus to tmp/output.s.c.bus with whitelist output/10xv2_whitelist.txt\n",
            "[2020-09-23 21:49:53,911]    INFO Sorting BUS file tmp/output.s.c.bus to output/output.unfiltered.bus\n",
            "[2020-09-23 21:51:29,901]    INFO Generating count matrix output/counts_unfiltered/cells_x_genes from BUS file output/output.unfiltered.bus\n",
            "[2020-09-23 21:51:52,797]    INFO Converting matrix output/counts_unfiltered/cells_x_genes.mtx to h5ad output/counts_unfiltered/adata.h5ad\n",
            "[2020-09-23 21:52:24,046]    INFO Filtering with bustools\n",
            "[2020-09-23 21:52:24,047]    INFO Generating whitelist output/filter_barcodes.txt from BUS file output/output.unfiltered.bus\n",
            "[2020-09-23 21:52:25,209]    INFO Capturing records from BUS file output/output.unfiltered.bus to tmp/output.filtered.bus with capture list output/filter_barcodes.txt\n",
            "[2020-09-23 21:52:40,050]    INFO Sorting BUS file tmp/output.filtered.bus to output/output.filtered.bus\n",
            "[2020-09-23 21:54:18,034]    INFO Generating count matrix output/counts_filtered/cells_x_genes from BUS file output/output.filtered.bus\n",
            "[2020-09-23 21:54:38,692]    INFO Converting matrix output/counts_filtered/cells_x_genes.mtx to h5ad output/counts_filtered/adata.h5ad\n"
          ],
          "name": "stdout"
        }
      ]
    },
    {
      "cell_type": "markdown",
      "metadata": {
        "id": "VkNLZh_pNFFw",
        "colab_type": "text"
      },
      "source": [
        "## Load the unfiltered matrix (check dimensions)"
      ]
    },
    {
      "cell_type": "code",
      "metadata": {
        "id": "4t8_c9rJNC3a",
        "colab_type": "code",
        "colab": {}
      },
      "source": [
        "# Setup\n",
        "\n",
        "import anndata\n",
        "import pandas as pd\n",
        "import numpy as np\n",
        "import matplotlib.pyplot as plt\n",
        "import matplotlib as mpl\n",
        "import matplotlib.patches as mpatches\n",
        "import scanpy as sc\n",
        "from scipy import stats\n",
        "\n",
        "from collections import OrderedDict\n",
        "from sklearn.decomposition import TruncatedSVD\n",
        "from sklearn.manifold import TSNE\n",
        "from sklearn.preprocessing import scale\n",
        "\n",
        "from sklearn.cluster import KMeans\n",
        "from sklearn.preprocessing import normalize\n",
        "from sklearn.preprocessing import LabelEncoder\n",
        "from sklearn.neighbors import NeighborhoodComponentsAnalysis\n",
        "from matplotlib import cm\n",
        "from matplotlib.lines import Line2D\n",
        "\n",
        "def nd(arr):\n",
        "    return np.asarray(arr).reshape(-1)\n",
        "def yex(ax):\n",
        "    lims = [np.min([ax.get_xlim(), ax.get_ylim()]),\n",
        "            np.max([ax.get_xlim(), ax.get_ylim()])]\n",
        "\n",
        "    # now plot both limits against eachother\n",
        "    ax.plot(lims, lims, 'k-', alpha=0.75, zorder=0)\n",
        "    ax.set_aspect('equal')\n",
        "    ax.set_xlim(lims)\n",
        "    ax.set_ylim(lims)\n",
        "    return ax\n",
        "\n",
        "def trim_axs(axs, N):\n",
        "    \"\"\"little helper to massage the axs list to have correct length...\"\"\"\n",
        "    axs = axs.flat\n",
        "    for ax in axs[N:]:\n",
        "        ax.remove()\n",
        "    return axs[:N]\n",
        "\n",
        "import warnings\n",
        "warnings.filterwarnings('ignore')\n",
        "\n",
        "fsize=20\n",
        "\n",
        "plt.rcParams.update({'font.size': fsize})\n",
        "%config InlineBackend.figure_format = 'retina'\n",
        "\n"
      ],
      "execution_count": null,
      "outputs": []
    },
    {
      "cell_type": "code",
      "metadata": {
        "id": "bS-YrbH1cSch",
        "colab_type": "code",
        "colab": {
          "base_uri": "https://localhost:8080/",
          "height": 54
        },
        "outputId": "ab775943-1ab2-44a9-cf83-4aaa24a08fa0"
      },
      "source": [
        "# load the unfiltered matrix\n",
        "adata = anndata.read_h5ad(\"output/counts_unfiltered/adata.h5ad\")\n",
        "adata.var[\"gene_id\"] = adata.var.index.values\n",
        "\n",
        "t2g = pd.read_csv(\"t2g.txt\", header=None, names=[\"tid\", \"gene_id\", \"gene_name\"], sep=\"\\t\")\n",
        "t2g.index = t2g.gene_id\n",
        "t2g = t2g.loc[~t2g.index.duplicated(keep='first')]\n",
        "\n",
        "adata.var[\"gene_name\"] = adata.var.gene_id.map(t2g[\"gene_name\"])\n",
        "adata.var.index = adata.var[\"gene_name\"]\n",
        "print(\"The unfiltered matrix contains {} cells by {} genes\".format(len(adata.obs), len(adata.var)))"
      ],
      "execution_count": null,
      "outputs": [
        {
          "output_type": "stream",
          "text": [
            "The unfiltered matrix contains 321303 cells by 60623 genes\n"
          ],
          "name": "stdout"
        }
      ]
    },
    {
      "cell_type": "code",
      "metadata": {
        "id": "Dp0wHTMl22WP",
        "colab_type": "code",
        "colab": {}
      },
      "source": [
        "adata.obs[\"cell_counts\"] = adata.X.sum(axis=1)\n",
        "adata.var[\"gene_counts\"] = nd(adata.X.sum(axis=0))\n",
        "\n",
        "adata.obs[\"n_genes\"] = nd((adata.X>0).sum(axis=1))\n",
        "adata.var[\"n_cells\"] = nd((adata.X>0).sum(axis=0))\n",
        "\n",
        "mito_genes = adata.var_names.str.startswith(\"MT-\" or \"mt-\") \n",
        "adata.obs[\"percent_mito\"] = adata[:,mito_genes].X.sum(axis=1)/adata.X.sum(axis=1)*100\n",
        "\n",
        "# Changing the name of the index is necessary to write the file (it won't work with duplicated names)\n",
        "adata.var.index.name = \"index\""
      ],
      "execution_count": null,
      "outputs": []
    },
    {
      "cell_type": "markdown",
      "metadata": {
        "id": "G1PMfeADNnNM",
        "colab_type": "text"
      },
      "source": [
        "## Populate the anndata object (run both individually)"
      ]
    },
    {
      "cell_type": "markdown",
      "metadata": {
        "id": "SH34XJGNAorH",
        "colab_type": "text"
      },
      "source": [
        "### Filter low UMIs"
      ]
    },
    {
      "cell_type": "code",
      "metadata": {
        "id": "5PBEl8mNNCo8",
        "colab_type": "code",
        "colab": {}
      },
      "source": [
        "# Filtering criteria\n",
        "cell_threshold = 100\n",
        "gene_threshold = 3\n",
        "\n",
        "mito_criteria = 30\n",
        "\n"
      ],
      "execution_count": null,
      "outputs": []
    },
    {
      "cell_type": "code",
      "metadata": {
        "id": "JlLFXuzNYzjK",
        "colab_type": "code",
        "cellView": "both",
        "colab": {
          "base_uri": "https://localhost:8080/",
          "height": 374
        },
        "outputId": "bf0d8f12-741b-4433-e950-2e297f969c07"
      },
      "source": [
        "#@title Threshold cells according to knee plot { run: \"auto\", vertical-output: true }\n",
        "expected_num_cells = 4000#@param {type:\"integer\"}\n",
        "knee = np.sort(nd(adata.X.sum(axis=1)))[::-1]\n",
        "\n",
        "fig, ax = plt.subplots(figsize=(5, 5))\n",
        "\n",
        "x = knee\n",
        "y = range(len(knee))\n",
        "\n",
        "ax.loglog(x, y, linewidth=5, color=\"g\")\n",
        "\n",
        "ax.axvline(x=knee[expected_num_cells], linewidth=3, color=\"k\")\n",
        "ax.axhline(y=expected_num_cells, linewidth=3, color=\"k\")\n",
        "\n",
        "ax.set_xlabel(\"UMI Counts\")\n",
        "ax.set_ylabel(\"Set of Barcodes\")\n",
        "\n",
        "plt.show()"
      ],
      "execution_count": null,
      "outputs": [
        {
          "output_type": "display_data",
          "data": {
            "image/png": "[encoded data removed]",
            "text/plain": [
              "<Figure size 360x360 with 1 Axes>"
            ]
          },
          "metadata": {
            "tags": [],
            "image/png": {
              "width": 358,
              "height": 337
            },
            "needs_background": "light"
          }
        }
      ]
    },
    {
      "cell_type": "code",
      "metadata": {
        "id": "jXz8m3UKA3cT",
        "colab_type": "code",
        "colab": {}
      },
      "source": [
        "quit()"
      ],
      "execution_count": null,
      "outputs": []
    },
    {
      "cell_type": "code",
      "metadata": {
        "id": "WI11LFBIA_Kg",
        "colab_type": "code",
        "colab": {
          "base_uri": "https://localhost:8080/",
          "height": 54
        },
        "outputId": "7dd3b76d-f06a-40fc-ae33-903221f71bfe"
      },
      "source": [
        "# Define cell threshold according to plot\n",
        "\n",
        "cell_threshold = knee[expected_num_cells]\n",
        "print (\"Cells were filtered down to \" + str(expected_num_cells) + \" with at least \" + str(cell_threshold) + \" UMIs\")"
      ],
      "execution_count": null,
      "outputs": [
        {
          "output_type": "stream",
          "text": [
            "Cells were filtered down to 4000 with at least 4010.0 UMIs\n"
          ],
          "name": "stdout"
        }
      ]
    },
    {
      "cell_type": "markdown",
      "metadata": {
        "id": "sfYZpDhsBqjE",
        "colab_type": "text"
      },
      "source": [
        "### Filter by mitochondrial content"
      ]
    },
    {
      "cell_type": "code",
      "metadata": {
        "id": "XyzVQuY3BpUs",
        "colab_type": "code",
        "colab": {
          "base_uri": "https://localhost:8080/",
          "height": 391
        },
        "outputId": "61ce1c6d-12f1-47e1-f85d-384b111be951"
      },
      "source": [
        "mito_criteria = 7#@param {type:\"integer\"}\n",
        "\n",
        "fig, ax = plt.subplots(figsize=(5,5))\n",
        "\n",
        "\n",
        "x = nd(adata.obs[\"cell_counts\"][adata.obs[\"cell_counts\"] > cell_threshold])\n",
        "y = nd(adata.obs[\"percent_mito\"][adata.obs[\"cell_counts\"] > cell_threshold])\n",
        "\n",
        "ax.scatter(x, y, color=\"green\", alpha=0.1)\n",
        "\n",
        "ax.axhline(y=mito_criteria, linestyle=\"--\", color=\"k\")\n",
        "\n",
        "\n",
        "ax.set_xlabel(\"UMI Counts\")\n",
        "ax.set_ylabel(\"Percent mito\")\n",
        "\n",
        "\n",
        "plt.show()\n",
        "\n",
        "print(\"We select \" + str(mito_criteria) + \" % as the mitochondrial content threshold\")"
      ],
      "execution_count": null,
      "outputs": [
        {
          "output_type": "display_data",
          "data": {
            "image/png": "[encoded data removed]",
            "text/plain": [
              "<Figure size 360x360 with 1 Axes>"
            ]
          },
          "metadata": {
            "tags": [],
            "image/png": {
              "width": 349,
              "height": 337
            },
            "needs_background": "light"
          }
        },
        {
          "output_type": "stream",
          "text": [
            "We select 7 % as the mitochondrial content threshold\n"
          ],
          "name": "stdout"
        }
      ]
    },
    {
      "cell_type": "markdown",
      "metadata": {
        "id": "Vw3At2DU3msD",
        "colab_type": "text"
      },
      "source": [
        "## Filter the Anndata object"
      ]
    },
    {
      "cell_type": "code",
      "metadata": {
        "id": "4InOAXqu2Yqb",
        "colab_type": "code",
        "colab": {
          "base_uri": "https://localhost:8080/",
          "height": 71
        },
        "outputId": "7968eb9c-c13f-430c-e696-ef287daa3ead"
      },
      "source": [
        "adata.obs[\"pass_count_filter\"] = adata.obs[\"cell_counts\"] > cell_threshold\n",
        "adata.obs[\"pass_mito_filter\"] = adata.obs.percent_mito < mito_criteria\n",
        "adata.var[\"pass_gene_filter\"] = adata.var[\"n_cells\"] > gene_threshold\n",
        "\n",
        "cell_mask = np.logical_and(adata.obs[\"pass_count_filter\"].values, adata.obs[\"pass_mito_filter\"].values)\n",
        "gene_mask = adata.var[\"pass_gene_filter\"].values\n",
        "\n",
        "print(\"Current Shape: {:,} cells x {:,} genes\".format(adata.shape[0], adata.shape[1]))\n",
        "print(\"    New shape: {:,} cells x {:,} genes\".format(cell_mask.sum(), gene_mask.sum()))"
      ],
      "execution_count": null,
      "outputs": [
        {
          "output_type": "stream",
          "text": [
            "Current Shape: 321,303 cells x 60,623 genes\n",
            "    New shape: 5,295 cells x 29,972 genes\n"
          ],
          "name": "stdout"
        }
      ]
    },
    {
      "cell_type": "code",
      "metadata": {
        "id": "99kdyTZS3uoe",
        "colab_type": "code",
        "colab": {}
      },
      "source": [
        "data = adata[cell_mask, gene_mask]"
      ],
      "execution_count": null,
      "outputs": []
    },
    {
      "cell_type": "markdown",
      "metadata": {
        "id": "BxPA81yj4TlU",
        "colab_type": "text"
      },
      "source": [
        "## Anotate the Anndata object"
      ]
    },
    {
      "cell_type": "code",
      "metadata": {
        "id": "O-q_Qj2U4kDU",
        "colab_type": "code",
        "colab": {
          "base_uri": "https://localhost:8080/",
          "height": 87
        },
        "outputId": "4508097b-b487-4a27-f079-862a8b095599"
      },
      "source": [
        "data.uns[\"database_id\"] = database_id[samp_n]\n",
        "\n",
        "data.uns[\"tissue\"] = tissue[samp_n]\n",
        "\n",
        "data.uns[\"cell_type\"] = cell_type[samp_n]\n",
        "\n",
        "data.uns[\"sample_id\"] = sample_id[samp_n]\n",
        "\n",
        "data.uns[\"condition\"] = condition[samp_n]\n",
        "\n",
        "data.uns[\"species\"] = species[samp_n]\n",
        "\n",
        "data.uns[\"technology\"] = technology[samp_n]\n",
        "\n",
        "data.uns[\"paper\"] = paper[samp_n]\n",
        "\n",
        "data.uns[\"figure\"] = figure[samp_n]"
      ],
      "execution_count": null,
      "outputs": [
        {
          "output_type": "stream",
          "text": [
            "Trying to set attribute `.uns` of view, copying.\n",
            "Variable names are not unique. To make them unique, call `.var_names_make_unique`.\n",
            "Variable names are not unique. To make them unique, call `.var_names_make_unique`.\n"
          ],
          "name": "stderr"
        }
      ]
    },
    {
      "cell_type": "markdown",
      "metadata": {
        "id": "3wzCuzAT-gL2",
        "colab_type": "text"
      },
      "source": [
        "# Write the Anndata object"
      ]
    },
    {
      "cell_type": "code",
      "metadata": {
        "id": "ICc77J94_Kye",
        "colab_type": "code",
        "colab": {
          "base_uri": "https://localhost:8080/",
          "height": 54
        },
        "outputId": "799103f5-05f1-4671-ccf0-3bea66cfb100"
      },
      "source": [
        "data.write(\"result\" + str(samp_n + 1))"
      ],
      "execution_count": null,
      "outputs": [
        {
          "output_type": "stream",
          "text": [
            "... storing 'gene_name' as categorical\n"
          ],
          "name": "stderr"
        }
      ]
    }
  ]
}