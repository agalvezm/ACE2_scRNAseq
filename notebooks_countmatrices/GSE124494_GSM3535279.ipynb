{
  "nbformat": 4,
  "nbformat_minor": 0,
  "metadata": {
    "colab": {
      "name": "Copy of GSE124494_GSM3535279.ipynb",
      "provenance": [],
      "collapsed_sections": [],
      "include_colab_link": true
    },
    "kernelspec": {
      "name": "python3",
      "display_name": "Python 3"
    }
  },
  "cells": [
    {
      "cell_type": "markdown",
      "metadata": {
        "id": "view-in-github",
        "colab_type": "text"
      },
      "source": [
        "<a href=\"https://colab.research.google.com/github/agalvezm/ACE2_scRNAseq/blob/master/notebooks_countmatrices/GSE124494_GSM3535279.ipynb\" target=\"_parent\"><img src=\"https://colab.research.google.com/assets/colab-badge.svg\" alt=\"Open In Colab\"/></a>"
      ]
    },
    {
      "cell_type": "markdown",
      "metadata": {
        "id": "V9ryXluJsJw9"
      },
      "source": [
        "# GSE124494_"
      ]
    },
    {
      "cell_type": "code",
      "metadata": {
        "id": "2BiFt2wu4aLh",
        "colab": {
          "base_uri": "https://localhost:8080/"
        },
        "outputId": "285b93aa-73c1-45c9-afd9-fe4a45372b7f"
      },
      "source": [
        "# Install SRA-toolkit \n",
        "!wget \"http://ftp-trace.ncbi.nlm.nih.gov/sra/sdk/current/sratoolkit.current-centos_linux64.tar.gz\"\n",
        "\n",
        "! tar -xzf sratoolkit.current-centos_linux64.tar.gz\n",
        "\n",
        "# Add to path\n",
        "import os\n",
        "os.environ['PATH'] += \":/content/sratoolkit.2.11.0-centos_linux64/bin\"\n",
        "\n",
        "# Configure\n",
        "!vdb-config --interactive\n",
        "\n",
        "# Import packages\n",
        "\n",
        "import numpy as np\n"
      ],
      "execution_count": 1,
      "outputs": [
        {
          "output_type": "stream",
          "text": [
            "--2021-03-31 01:22:43--  http://ftp-trace.ncbi.nlm.nih.gov/sra/sdk/current/sratoolkit.current-centos_linux64.tar.gz\n",
            "Resolving ftp-trace.ncbi.nlm.nih.gov (ftp-trace.ncbi.nlm.nih.gov)... 165.112.9.228, 165.112.9.229, 2607:f220:41e:250::7, ...\n",
            "Connecting to ftp-trace.ncbi.nlm.nih.gov (ftp-trace.ncbi.nlm.nih.gov)|165.112.9.228|:80... connected.\n",
            "HTTP request sent, awaiting response... 301 Moved Permanently\n",
            "Location: https://ftp-trace.ncbi.nlm.nih.gov/sra/sdk/current/sratoolkit.current-centos_linux64.tar.gz [following]\n",
            "--2021-03-31 01:22:44--  https://ftp-trace.ncbi.nlm.nih.gov/sra/sdk/current/sratoolkit.current-centos_linux64.tar.gz\n",
            "Connecting to ftp-trace.ncbi.nlm.nih.gov (ftp-trace.ncbi.nlm.nih.gov)|165.112.9.228|:443... connected.\n",
            "HTTP request sent, awaiting response... 200 OK\n",
            "Length: 99139357 (95M) [application/x-gzip]\n",
            "Saving to: ‘sratoolkit.current-centos_linux64.tar.gz’\n",
            "\n",
            "sratoolkit.current- 100%[===================>]  94.55M  27.6MB/s    in 3.4s    \n",
            "\n",
            "2021-03-31 01:22:48 (27.6 MB/s) - ‘sratoolkit.current-centos_linux64.tar.gz’ saved [99139357/99139357]\n",
            "\n",
            "\u001b[2J\u001b[?25l\u001b[?1000h\u001b[?1002h2021-03-31T01:22:51 vdb-config.2.11.0 fatal: SIGNAL - Segmentation fault \n"
          ],
          "name": "stdout"
        }
      ]
    },
    {
      "cell_type": "code",
      "metadata": {
        "id": "mU4XegJlo2Na"
      },
      "source": [
        "# List of SRAs to download and transform. Copy paste from excel as string\n",
        "SRAs = \"SRR8387869\tSRR8387870\tSRR8387871\"\n",
        "\n",
        "SRAs = SRAs.split()\n",
        "\n",
        "# SRA to delete, usually the index file, which get downloaded because we include technical reads. \n",
        "# It varies so check in the SRA website\n",
        "SRA_to_delete = \"3\"\n",
        "\n",
        "\n",
        "SRAs_to_keep = np.setdiff1d([\"1\", \"2\", \"3\"], [SRA_to_delete])\n"
      ],
      "execution_count": 2,
      "outputs": []
    },
    {
      "cell_type": "code",
      "metadata": {
        "id": "u3uDp_jCpfhZ",
        "colab": {
          "base_uri": "https://localhost:8080/"
        },
        "outputId": "a6454b28-5e61-4677-8872-af2ebd73d802"
      },
      "source": [
        "for sra in SRAs:\n",
        "  \"\"\"\n",
        "  Downloads SRAs and transforms to compressed fastq file. Remove index reads and original SRA\n",
        "  \"\"\"\n",
        "  # Download SRA\n",
        "  !prefetch $sra\n",
        "\n",
        "  # Convert to fastq. Biological reads are usually considered technicals in 10x so do not skip them.\n",
        "  fastq_dump_cmd = \"fastq-dump -F --gzip --readids --split-files \" + sra + \"/\" + sra +\".sra\"\n",
        "  !$fastq_dump_cmd\n",
        "\n",
        "  # Remove files\n",
        "  rm_cmd_1 = \"rm \" + sra + \"/\" + sra + \".sra\"\n",
        "  rm_cmd_2 = \"rm \" + sra + \"_\" + SRA_to_delete + \".fastq.gz\" \n",
        "  !$rm_cmd_1\n",
        "  !$rm_cmd_2"
      ],
      "execution_count": 3,
      "outputs": [
        {
          "output_type": "stream",
          "text": [
            "\n",
            "2021-03-31T01:23:57 prefetch.2.11.0: 1) Downloading 'SRR8387869'...\n",
            "2021-03-31T01:23:57 prefetch.2.11.0:  Downloading via HTTPS...\n",
            "2021-03-31T01:29:38 prefetch.2.11.0:  HTTPS download succeed\n",
            "2021-03-31T01:31:19 prefetch.2.11.0:  'SRR8387869' is valid\n",
            "2021-03-31T01:31:19 prefetch.2.11.0: 1) 'SRR8387869' was downloaded successfully\n",
            "2021-03-31T01:31:19 prefetch.2.11.0: 'SRR8387869' has 0 unresolved dependencies\n",
            "Read 166902015 spots for SRR8387869/SRR8387869.sra\n",
            "Written 166902015 spots for SRR8387869/SRR8387869.sra\n",
            "\n",
            "2021-03-31T04:21:51 prefetch.2.11.0: 1) Downloading 'SRR8387870'...\n",
            "2021-03-31T04:21:51 prefetch.2.11.0:  Downloading via HTTPS...\n",
            "2021-03-31T04:27:37 prefetch.2.11.0:  HTTPS download succeed\n",
            "2021-03-31T04:29:21 prefetch.2.11.0:  'SRR8387870' is valid\n",
            "2021-03-31T04:29:21 prefetch.2.11.0: 1) 'SRR8387870' was downloaded successfully\n",
            "2021-03-31T04:29:21 prefetch.2.11.0: 'SRR8387870' has 0 unresolved dependencies\n",
            "Read 172592588 spots for SRR8387870/SRR8387870.sra\n",
            "Written 172592588 spots for SRR8387870/SRR8387870.sra\n",
            "\n",
            "2021-03-31T07:25:26 prefetch.2.11.0: 1) Downloading 'SRR8387871'...\n",
            "2021-03-31T07:25:26 prefetch.2.11.0:  Downloading via HTTPS...\n",
            "2021-03-31T07:31:17 prefetch.2.11.0:  HTTPS download succeed\n",
            "2021-03-31T07:33:05 prefetch.2.11.0:  'SRR8387871' is valid\n",
            "2021-03-31T07:33:05 prefetch.2.11.0: 1) 'SRR8387871' was downloaded successfully\n",
            "2021-03-31T07:33:05 prefetch.2.11.0: 'SRR8387871' has 0 unresolved dependencies\n",
            "Read 176764884 spots for SRR8387871/SRR8387871.sra\n",
            "Written 176764884 spots for SRR8387871/SRR8387871.sra\n"
          ],
          "name": "stdout"
        }
      ]
    },
    {
      "cell_type": "code",
      "metadata": {
        "id": "bmN2opl1qHSh"
      },
      "source": [
        "# Define fastq list to feed kb\n",
        "\n",
        "fastqs = []\n",
        "for sra in SRAs:\n",
        "  for read in SRAs_to_keep:\n",
        "    fastqs.append(sra + \"_\" + read + \".fastq.gz\")"
      ],
      "execution_count": 4,
      "outputs": []
    },
    {
      "cell_type": "markdown",
      "metadata": {
        "id": "5tT2sVv2-XMD"
      },
      "source": [
        "## Metadata"
      ]
    },
    {
      "cell_type": "code",
      "metadata": {
        "id": "ggNFAQJCRh6P"
      },
      "source": [
        "# define the values for the analysis\n",
        "\n",
        "# accession id for the data\n",
        "id = \"GSE124494\"\n",
        "\n",
        "samp_id = [\"GSM3535279\"]\n",
        "\n",
        "no_samples = 1\n",
        "\n",
        "fastqs_per_sample = [1] \n",
        "\n",
        "sample_id = samp_id\n",
        "\n",
        "database_id = [id] * no_samples\n",
        "\n",
        "tissue = [\"lymph node\"] * no_samples\n",
        "\n",
        "cell_type = [\"lymphatic endothelial cells from axillary lymph node, CD45- PDPN+ CD31+\"] * no_samples\n",
        "\n",
        "condition = [\"Individual 3\"] * no_samples\n",
        "\n",
        "species = [\"human\"] * no_samples\n",
        "\n",
        "technology = [\"10xv2\"] * no_samples\n",
        "\n",
        "paper = [\"Muus et al 2020\"] * no_samples\n",
        "\n",
        "figure = [\"Fig 1 a,b  ED Fig 1 a,b,c,d  ED Fig 2 a,b,c,d,e\"] * no_samples\n",
        "\n",
        "\n",
        "# Set string variables for kb functions\n",
        "\n",
        "species_kb = species[0]\n",
        "\n",
        "technology_kb = technology[0]\n",
        "\n"
      ],
      "execution_count": 5,
      "outputs": []
    },
    {
      "cell_type": "markdown",
      "metadata": {
        "id": "FPwL0-_-KSAw"
      },
      "source": [
        "# Imports and installs"
      ]
    },
    {
      "cell_type": "code",
      "metadata": {
        "id": "1HSlUGZEp3oP",
        "colab": {
          "base_uri": "https://localhost:8080/"
        },
        "outputId": "1691d5f2-9790-477e-9599-1a9c7d147616"
      },
      "source": [
        "# install and import necessary software\n",
        "\n",
        "# Install kb and scanpy\n",
        "!pip -q install kb-python \n",
        "!pip -q install scanpy\n",
        "\n",
        "import re\n",
        "import os\n",
        "\n",
        "# Setup\n",
        "\n",
        "import anndata\n",
        "import pandas as pd\n",
        "import numpy as np\n",
        "import matplotlib.pyplot as plt\n",
        "import matplotlib as mpl\n",
        "import matplotlib.patches as mpatches\n",
        "import scanpy as sc\n",
        "from scipy import stats\n",
        "\n",
        "from collections import OrderedDict\n",
        "from sklearn.decomposition import TruncatedSVD\n",
        "from sklearn.manifold import TSNE\n",
        "from sklearn.preprocessing import scale\n",
        "\n",
        "from sklearn.cluster import KMeans\n",
        "from sklearn.preprocessing import normalize\n",
        "from sklearn.preprocessing import LabelEncoder\n",
        "from sklearn.neighbors import NeighborhoodComponentsAnalysis\n",
        "from matplotlib import cm\n",
        "from matplotlib.lines import Line2D\n",
        "\n",
        "def nd(arr):\n",
        "    return np.asarray(arr).reshape(-1)\n",
        "def yex(ax):\n",
        "    lims = [np.min([ax.get_xlim(), ax.get_ylim()]),\n",
        "            np.max([ax.get_xlim(), ax.get_ylim()])]\n",
        "\n",
        "    # now plot both limits against eachother\n",
        "    ax.plot(lims, lims, 'k-', alpha=0.75, zorder=0)\n",
        "    ax.set_aspect('equal')\n",
        "    ax.set_xlim(lims)\n",
        "    ax.set_ylim(lims)\n",
        "    return ax\n",
        "\n",
        "def trim_axs(axs, N):\n",
        "    \"\"\"little helper to massage the axs list to have correct length...\"\"\"\n",
        "    axs = axs.flat\n",
        "    for ax in axs[N:]:\n",
        "        ax.remove()\n",
        "    return axs[:N]\n",
        "\n",
        "import warnings\n",
        "warnings.filterwarnings('ignore')\n",
        "\n",
        "fsize=20\n",
        "\n",
        "plt.rcParams.update({'font.size': fsize})\n",
        "%config InlineBackend.figure_format = 'retina'"
      ],
      "execution_count": 6,
      "outputs": [
        {
          "output_type": "stream",
          "text": [
            "\u001b[K     |████████████████████████████████| 59.1MB 98kB/s \n",
            "\u001b[K     |████████████████████████████████| 51kB 2.3MB/s \n",
            "\u001b[K     |████████████████████████████████| 10.3MB 17.7MB/s \n",
            "\u001b[K     |████████████████████████████████| 122kB 72.8MB/s \n",
            "\u001b[K     |████████████████████████████████| 13.2MB 55.8MB/s \n",
            "\u001b[K     |████████████████████████████████| 112kB 44.1MB/s \n",
            "\u001b[K     |████████████████████████████████| 81kB 4.7MB/s \n",
            "\u001b[K     |████████████████████████████████| 71kB 4.3MB/s \n",
            "\u001b[K     |████████████████████████████████| 51kB 3.4MB/s \n",
            "\u001b[K     |████████████████████████████████| 1.2MB 50.9MB/s \n",
            "\u001b[?25h  Building wheel for loompy (setup.py) ... \u001b[?25l\u001b[?25hdone\n",
            "  Building wheel for numpy-groupies (setup.py) ... \u001b[?25l\u001b[?25hdone\n",
            "  Building wheel for sinfo (setup.py) ... \u001b[?25l\u001b[?25hdone\n",
            "  Building wheel for umap-learn (setup.py) ... \u001b[?25l\u001b[?25hdone\n",
            "  Building wheel for pynndescent (setup.py) ... \u001b[?25l\u001b[?25hdone\n"
          ],
          "name": "stdout"
        }
      ]
    },
    {
      "cell_type": "markdown",
      "metadata": {
        "id": "7V6FbosVrvP4"
      },
      "source": [
        "# Downloads: index"
      ]
    },
    {
      "cell_type": "code",
      "metadata": {
        "id": "PC9oETW1pE9t",
        "colab": {
          "base_uri": "https://localhost:8080/"
        },
        "outputId": "3e7857c0-5ba2-47da-e06a-f50f8a08f3f2"
      },
      "source": [
        "# Download the corresponding Kallisto index to fastq folder\n",
        "!kb ref -d $species_kb -i index.idx -g t2g.txt -f1 transcriptome.fasta"
      ],
      "execution_count": 7,
      "outputs": [
        {
          "output_type": "stream",
          "text": [
            "[2021-03-31 10:34:51,042]    INFO Downloading files for human from https://caltech.box.com/shared/static/v1nm7lpnqz5syh8dyzdk2zs8bglncfib.gz to tmp/v1nm7lpnqz5syh8dyzdk2zs8bglncfib.gz\n",
            "100% 2.23G/2.23G [03:18<00:00, 12.0MB/s]\n",
            "[2021-03-31 10:38:11,342]    INFO Extracting files from tmp/v1nm7lpnqz5syh8dyzdk2zs8bglncfib.gz\n"
          ],
          "name": "stdout"
        }
      ]
    },
    {
      "cell_type": "markdown",
      "metadata": {
        "id": "VInyuq1Dp7iz"
      },
      "source": [
        "# Process fastq files (modify kb command according to fastqs list)\n"
      ]
    },
    {
      "cell_type": "code",
      "metadata": {
        "id": "F6FD32x-shPe",
        "colab": {
          "base_uri": "https://localhost:8080/"
        },
        "outputId": "8d71505e-e7c6-4901-8c50-f9b38db8e40b"
      },
      "source": [
        "fastqs"
      ],
      "execution_count": 8,
      "outputs": [
        {
          "output_type": "execute_result",
          "data": {
            "text/plain": [
              "['SRR8387869_1.fastq.gz',\n",
              " 'SRR8387869_2.fastq.gz',\n",
              " 'SRR8387870_1.fastq.gz',\n",
              " 'SRR8387870_2.fastq.gz',\n",
              " 'SRR8387871_1.fastq.gz',\n",
              " 'SRR8387871_2.fastq.gz']"
            ]
          },
          "metadata": {
            "tags": []
          },
          "execution_count": 8
        }
      ]
    },
    {
      "cell_type": "code",
      "metadata": {
        "id": "5qFzPj-0kZTi",
        "colab": {
          "base_uri": "https://localhost:8080/"
        },
        "outputId": "b9e42c6f-8d91-4c31-fd71-c7912825dfd7"
      },
      "source": [
        "# Specify the sample number \n",
        "\n",
        "\n",
        "if no_samples == 1:\n",
        "\n",
        "  # Write the kb count command as a string with all fastqs of the list as an input\n",
        "  cmd = \"kb count --h5ad -i index.idx -g t2g.txt -x \" + technology_kb + \" -o output\" + sample_id[0] + \" \"\\\n",
        "  + \"--filter bustools -t 2 --overwrite \" + \"'\" +  \"' '\".join(fastqs) + \"'\"\n",
        "  \n",
        "  # Execute it\n",
        "  !$cmd\n",
        "\n",
        "# If more than one sample, iterate through fastqs accordingly\n",
        "else:\n",
        "\n",
        "  # Initializa counter for fastq files\n",
        "  j = 0\n",
        "\n",
        "  # Loop over samples for analysis\n",
        "  for i in range(no_samples):\n",
        "\n",
        "    fastqs_to_analyze = fastqs[j:j + fastqs_per_sample[i]]\n",
        "    # Write the kb count command as a string\n",
        "    cmd = \"kb count --h5ad -i index.idx -g t2g.txt -x \" + technology_kb + \" -o output\" + sample_id[i] + \" \\\n",
        "    --filter bustools -t 2 --overwrite \" + \"'\" +  \"' '\".join(fastqs_to_analyze) + \"'\"\n",
        "\n",
        "    # Execute it\n",
        "    !$cmd\n",
        "\n",
        "    # Update j to move to the next set of fastq\n",
        "    j = j + fastqs_per_sample[i]\n",
        "\n",
        "\n",
        "\n",
        "\n",
        "\n"
      ],
      "execution_count": 9,
      "outputs": [
        {
          "output_type": "stream",
          "text": [
            "[2021-03-31 10:38:57,006]    INFO Using index index.idx to generate BUS file to outputGSM3535279 from\n",
            "[2021-03-31 10:38:57,007]    INFO         SRR8387869_1.fastq.gz\n",
            "[2021-03-31 10:38:57,007]    INFO         SRR8387869_2.fastq.gz\n",
            "[2021-03-31 10:38:57,007]    INFO         SRR8387870_1.fastq.gz\n",
            "[2021-03-31 10:38:57,007]    INFO         SRR8387870_2.fastq.gz\n",
            "[2021-03-31 10:38:57,007]    INFO         SRR8387871_1.fastq.gz\n",
            "[2021-03-31 10:38:57,007]    INFO         SRR8387871_2.fastq.gz\n",
            "[2021-03-31 12:35:13,917]    INFO Sorting BUS file outputGSM3535279/output.bus to outputGSM3535279/tmp/output.s.bus\n",
            "[2021-03-31 12:39:44,613]    INFO Whitelist not provided\n",
            "[2021-03-31 12:39:44,614]    INFO Copying pre-packaged 10XV2 whitelist to outputGSM3535279\n",
            "[2021-03-31 12:39:44,742]    INFO Inspecting BUS file outputGSM3535279/tmp/output.s.bus\n",
            "[2021-03-31 12:40:24,118]    INFO Correcting BUS records in outputGSM3535279/tmp/output.s.bus to outputGSM3535279/tmp/output.s.c.bus with whitelist outputGSM3535279/10xv2_whitelist.txt\n",
            "[2021-03-31 12:40:51,324]    INFO Sorting BUS file outputGSM3535279/tmp/output.s.c.bus to outputGSM3535279/output.unfiltered.bus\n",
            "[2021-03-31 12:42:12,523]    INFO Generating count matrix outputGSM3535279/counts_unfiltered/cells_x_genes from BUS file outputGSM3535279/output.unfiltered.bus\n",
            "[2021-03-31 12:43:17,230]    INFO Reading matrix outputGSM3535279/counts_unfiltered/cells_x_genes.mtx\n",
            "[2021-03-31 12:43:53,028]    INFO Writing matrix to h5ad outputGSM3535279/counts_unfiltered/adata.h5ad\n",
            "[2021-03-31 12:43:54,383]    INFO Filtering with bustools\n",
            "[2021-03-31 12:43:54,383]    INFO Generating whitelist outputGSM3535279/filter_barcodes.txt from BUS file outputGSM3535279/output.unfiltered.bus\n",
            "[2021-03-31 12:43:55,062]    INFO Correcting BUS records in outputGSM3535279/output.unfiltered.bus to outputGSM3535279/tmp/output.unfiltered.c.bus with whitelist outputGSM3535279/filter_barcodes.txt\n",
            "[2021-03-31 12:44:24,873]    INFO Sorting BUS file outputGSM3535279/tmp/output.unfiltered.c.bus to outputGSM3535279/output.filtered.bus\n",
            "[2021-03-31 12:45:27,742]    INFO Generating count matrix outputGSM3535279/counts_filtered/cells_x_genes from BUS file outputGSM3535279/output.filtered.bus\n",
            "[2021-03-31 12:46:23,947]    INFO Reading matrix outputGSM3535279/counts_filtered/cells_x_genes.mtx\n",
            "[2021-03-31 12:46:57,321]    INFO Writing matrix to h5ad outputGSM3535279/counts_filtered/adata.h5ad\n"
          ],
          "name": "stdout"
        }
      ]
    },
    {
      "cell_type": "markdown",
      "metadata": {
        "id": "tDijOZzrqhN2"
      },
      "source": [
        "# Load unfiltered matrix and assign filters to each matrix individually"
      ]
    },
    {
      "cell_type": "markdown",
      "metadata": {
        "id": "VkNLZh_pNFFw"
      },
      "source": [
        "## Load the unfiltered matrix (check dimensions)"
      ]
    },
    {
      "cell_type": "code",
      "metadata": {
        "id": "PppRNeV8AIyw"
      },
      "source": [
        "# Define dict to store data\n",
        "results = {}\n"
      ],
      "execution_count": 10,
      "outputs": []
    },
    {
      "cell_type": "code",
      "metadata": {
        "id": "pKmtGf3c_BiZ",
        "cellView": "both",
        "colab": {
          "base_uri": "https://localhost:8080/"
        },
        "outputId": "80dc0e45-e4c4-4b90-e200-d0eb0c3b390d"
      },
      "source": [
        "# load the unfiltered matrix\n",
        "for i in range(no_samples):\n",
        "  results[sample_id[i]] = anndata.read_h5ad(\"output\" + sample_id[i] + \"/counts_unfiltered/adata.h5ad\")\n",
        "  results[sample_id[i]].var[\"gene_id\"] = results[sample_id[i]].var.index.values\n",
        "\n",
        "  t2g = pd.read_csv(\"t2g.txt\", header=None, names=[\"tid\", \"gene_id\", \"gene_name\"], sep=\"\\t\")\n",
        "  t2g.index = t2g.gene_id\n",
        "  t2g = t2g.loc[~t2g.index.duplicated(keep='first')]\n",
        "\n",
        "  results[sample_id[i]].var[\"gene_name\"] = results[sample_id[i]].var.gene_id.map(t2g[\"gene_name\"])\n",
        "  results[sample_id[i]].var.index = results[sample_id[i]].var[\"gene_name\"]\n",
        "  print(\"The unfiltered matrix \" + sample_id[i] + \" contains {} cells by {} genes\".format(len(results[sample_id[i]].obs), len(results[sample_id[i]].var)))\n",
        "\n",
        "  results[sample_id[i]].obs[\"cell_counts\"] = results[sample_id[i]].X.sum(axis=1)\n",
        "  results[sample_id[i]].var[\"gene_counts\"] = nd(results[sample_id[i]].X.sum(axis=0))\n",
        "\n",
        "  results[sample_id[i]].obs[\"n_genes\"] = nd((results[sample_id[i]].X>0).sum(axis=1))\n",
        "  results[sample_id[i]].var[\"n_cells\"] = nd((results[sample_id[i]].X>0).sum(axis=0))\n",
        "\n",
        "  mito_genes = results[sample_id[i]].var_names.str.startswith(\"MT-\" or \"mt-\") \n",
        "  results[sample_id[i]].obs[\"percent_mito\"] = results[sample_id[i]][:,mito_genes].X.sum(axis=1)/results[sample_id[i]].X.sum(axis=1)*100\n",
        "\n",
        "  # Changing the name of the index is necessary to write the file (it won't work with duplicated names)\n",
        "  results[sample_id[i]].var.index.name = \"index\"\n",
        "\n"
      ],
      "execution_count": 11,
      "outputs": [
        {
          "output_type": "stream",
          "text": [
            "The unfiltered matrix GSM3535279 contains 356534 cells by 60623 genes\n"
          ],
          "name": "stdout"
        }
      ]
    },
    {
      "cell_type": "markdown",
      "metadata": {
        "id": "hDAUH3eH_2RA"
      },
      "source": [
        "## Assign filters for each matrix individually"
      ]
    },
    {
      "cell_type": "code",
      "metadata": {
        "id": "ukinuaKk_6Po"
      },
      "source": [
        "# Modify this manually to change sample after having assigned the \"expected_num_cells\" and \"mito_criteria\" parameters\n",
        "samp_n = 0\n",
        "\n",
        "\n",
        "# Filtering criteria\n",
        "cell_threshold = 100\n",
        "gene_threshold = 3\n",
        "\n",
        "mito_criteria = 30"
      ],
      "execution_count": 12,
      "outputs": []
    },
    {
      "cell_type": "code",
      "metadata": {
        "id": "a5wZB5pEfwNs",
        "cellView": "form",
        "colab": {
          "base_uri": "https://localhost:8080/",
          "height": 725
        },
        "outputId": "c75170eb-068d-46d0-e909-c36df890b2fa"
      },
      "source": [
        "\n",
        "expected_num_cells = 5000#@param {type:\"integer\"}\n",
        "knee = np.sort(nd(results[sample_id[samp_n]].X.sum(axis=1)))[::-1]\n",
        "\n",
        "fig, ax = plt.subplots(figsize=(5, 5))\n",
        "\n",
        "x = knee\n",
        "y = range(len(knee))\n",
        "\n",
        "ax.loglog(x, y, linewidth=5, color=\"g\")\n",
        "\n",
        "ax.axvline(x=knee[expected_num_cells], linewidth=3, color=\"k\")\n",
        "ax.axhline(y=expected_num_cells, linewidth=3, color=\"k\")\n",
        "\n",
        "ax.set_xlabel(\"UMI Counts\")\n",
        "ax.set_ylabel(\"Set of Barcodes\")\n",
        "\n",
        "plt.show()\n",
        "\n",
        "cell_threshold = knee[expected_num_cells]\n",
        "\n",
        "results[\"cell_threshold\" + sample_id[samp_n]] = knee[expected_num_cells]\n",
        "\n",
        "print (\"Cells were filtered down to \" + str(expected_num_cells) + \" with at least \" + str(cell_threshold) + \" UMIs\")\n",
        "\n",
        "\n",
        "mito_criteria = 20#@param {type:\"integer\"}\n",
        "results[\"mito_criteria\" + sample_id[samp_n]] = mito_criteria\n",
        "\n",
        "fig, ax = plt.subplots(figsize=(5,5))\n",
        "\n",
        "\n",
        "x = nd(results[sample_id[samp_n]].obs[\"cell_counts\"][results[sample_id[samp_n]].obs[\"cell_counts\"] > cell_threshold])\n",
        "y = nd(results[sample_id[samp_n]].obs[\"percent_mito\"][results[sample_id[samp_n]].obs[\"cell_counts\"] > cell_threshold])\n",
        "\n",
        "ax.scatter(x, y, color=\"green\", alpha=0.1)\n",
        "\n",
        "ax.axhline(y=mito_criteria, linestyle=\"--\", color=\"k\")\n",
        "\n",
        "\n",
        "ax.set_xlabel(\"UMI Counts\")\n",
        "ax.set_ylabel(\"Percent mito\")\n",
        "\n",
        "\n",
        "plt.show()\n",
        "\n",
        "print(\"We select \" + str(mito_criteria) + \" % as the mitochondrial content threshold\")"
      ],
      "execution_count": 17,
      "outputs": [
        {
          "output_type": "display_data",
          "data": {
            "image/png": "[encoded data removed]",
            "text/plain": [
              "<Figure size 360x360 with 1 Axes>"
            ]
          },
          "metadata": {
            "tags": [],
            "image/png": {
              "width": 358,
              "height": 337
            },
            "needs_background": "light"
          }
        },
        {
          "output_type": "stream",
          "text": [
            "Cells were filtered down to 5000 with at least 1294.0 UMIs\n"
          ],
          "name": "stdout"
        },
        {
          "output_type": "display_data",
          "data": {
            "image/png": "[encoded data removed]",
            "text/plain": [
              "<Figure size 360x360 with 1 Axes>"
            ]
          },
          "metadata": {
            "tags": [],
            "image/png": {
              "width": 380,
              "height": 337
            },
            "needs_background": "light"
          }
        },
        {
          "output_type": "stream",
          "text": [
            "We select 20 % as the mitochondrial content threshold\n"
          ],
          "name": "stdout"
        }
      ]
    },
    {
      "cell_type": "markdown",
      "metadata": {
        "id": "eP9j2ouPq9KY"
      },
      "source": [
        "# Filter matrix"
      ]
    },
    {
      "cell_type": "code",
      "metadata": {
        "id": "sE51WUA3gVmG",
        "colab": {
          "base_uri": "https://localhost:8080/"
        },
        "outputId": "88b0cc59-0b64-435c-d1a3-e6b9b38ca4ba"
      },
      "source": [
        "for i in range(no_samples):\n",
        "  results[sample_id[i]].obs[\"pass_count_filter\"] = results[sample_id[i]].obs[\"cell_counts\"] > results[\"cell_threshold\" + sample_id[i]]\n",
        "  results[sample_id[i]].obs[\"pass_mito_filter\"] = results[sample_id[i]].obs.percent_mito < results[\"mito_criteria\" + sample_id[i]]\n",
        "  results[sample_id[i]].var[\"pass_gene_filter\"] = results[sample_id[i]].var[\"n_cells\"] > gene_threshold\n",
        "\n",
        "  cell_mask = np.logical_and(results[sample_id[i]].obs[\"pass_count_filter\"].values, results[sample_id[i]].obs[\"pass_mito_filter\"].values)\n",
        "  gene_mask = results[sample_id[i]].var[\"pass_gene_filter\"].values\n",
        "\n",
        "  print(\"Current Shape: {:,} cells x {:,} genes\".format(results[sample_id[i]].shape[0], results[sample_id[i]].shape[1]))\n",
        "  print(\"    New shape: {:,} cells x {:,} genes\".format(cell_mask.sum(), gene_mask.sum()))\n",
        "  results[\"data_\" + sample_id[i]] = results[sample_id[i]][cell_mask, gene_mask]"
      ],
      "execution_count": 18,
      "outputs": [
        {
          "output_type": "stream",
          "text": [
            "Current Shape: 356,534 cells x 60,623 genes\n",
            "    New shape: 4,979 cells x 28,835 genes\n"
          ],
          "name": "stdout"
        }
      ]
    },
    {
      "cell_type": "markdown",
      "metadata": {
        "id": "BxPA81yj4TlU"
      },
      "source": [
        "# Anotate and write the Anndata object"
      ]
    },
    {
      "cell_type": "code",
      "metadata": {
        "id": "O-q_Qj2U4kDU",
        "colab": {
          "base_uri": "https://localhost:8080/"
        },
        "outputId": "3176b1c4-0cdc-49eb-e571-65bde67d4739"
      },
      "source": [
        "for i in range(no_samples):\n",
        "\n",
        "\n",
        "  results[\"data_\" + sample_id[i]].uns[\"database_id\"] = database_id[samp_n]\n",
        "\n",
        "  results[\"data_\" + sample_id[i]].uns[\"tissue\"] = tissue[samp_n]\n",
        "\n",
        "  results[\"data_\" + sample_id[i]].uns[\"cell_type\"] = cell_type[samp_n]\n",
        "\n",
        "  results[\"data_\" + sample_id[i]].uns[\"sample_id\"] = sample_id[samp_n]\n",
        "\n",
        "  results[\"data_\" + sample_id[i]].uns[\"condition\"] = condition[samp_n]\n",
        "\n",
        "  results[\"data_\" + sample_id[i]].uns[\"species\"] = species[samp_n]\n",
        "\n",
        "  results[\"data_\" + sample_id[i]].uns[\"technology\"] = technology[samp_n]\n",
        "\n",
        "  results[\"data_\" + sample_id[i]].uns[\"paper\"] = paper[samp_n]\n",
        "\n",
        "  results[\"data_\" + sample_id[i]].uns[\"figure\"] = figure[samp_n]\n",
        "\n",
        "\n",
        "%cd /content\n",
        "\n",
        "for i in range(no_samples):\n",
        "\n",
        "  results[\"data_\" + sample_id[i]].write(\"result\" + sample_id[i])"
      ],
      "execution_count": 19,
      "outputs": [
        {
          "output_type": "stream",
          "text": [
            "Trying to set attribute `.uns` of view, copying.\n",
            "Variable names are not unique. To make them unique, call `.var_names_make_unique`.\n",
            "Variable names are not unique. To make them unique, call `.var_names_make_unique`.\n"
          ],
          "name": "stderr"
        },
        {
          "output_type": "stream",
          "text": [
            "/content\n"
          ],
          "name": "stdout"
        },
        {
          "output_type": "stream",
          "text": [
            "... storing 'gene_name' as categorical\n"
          ],
          "name": "stderr"
        }
      ]
    }
  ]
}