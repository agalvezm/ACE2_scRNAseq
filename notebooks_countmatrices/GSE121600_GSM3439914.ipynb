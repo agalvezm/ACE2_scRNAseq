{
  "nbformat": 4,
  "nbformat_minor": 0,
  "metadata": {
    "colab": {
      "name": "GSE121600_GSM3439914.ipynb",
      "provenance": [],
      "collapsed_sections": [],
      "toc_visible": true,
      "include_colab_link": true
    },
    "kernelspec": {
      "name": "python3",
      "display_name": "Python 3"
    }
  },
  "cells": [
    {
      "cell_type": "markdown",
      "metadata": {
        "id": "view-in-github",
        "colab_type": "text"
      },
      "source": [
        "<a href=\"https://colab.research.google.com/github/agalvezm/ACE2_scRNAseq/blob/master/notebooks_countmatrices/GSE121600_GSM3439914.ipynb\" target=\"_parent\"><img src=\"https://colab.research.google.com/assets/colab-badge.svg\" alt=\"Open In Colab\"/></a>"
      ]
    },
    {
      "cell_type": "markdown",
      "metadata": {
        "id": "V9ryXluJsJw9"
      },
      "source": [
        "# GSE121600_GSM3439914"
      ]
    },
    {
      "cell_type": "code",
      "metadata": {
        "id": "ggNFAQJCRh6P",
        "outputId": "a4dfd903-19ba-4327-a149-4d38a96cccb1",
        "colab": {
          "base_uri": "https://localhost:8080/",
          "height": 54
        }
      },
      "source": [
        "# define the values for the analysis\n",
        "\n",
        "# accession id for the data\n",
        "id = \"GSE121600\"\n",
        "samp_id = [\"GSM3439914\"]\n",
        "\n",
        "# If only bam available files, set bam = True, Fill link and filename\n",
        "bam = True\n",
        "\n",
        "# If fastq links available but are not ffq links\n",
        "fastq_ffqlinks = False\n",
        "\n",
        "\n",
        "if bam:\n",
        "  # Assign link to python variable\n",
        "  link_to_bam = \"https://sra-pub-src-1.s3.amazonaws.com/SRR8085152/D246ali4_possorted_genome.bam.1\"\n",
        "  \n",
        "  # Assigns the link to the bash variable BAM_LINK. To be used by wget\n",
        "  %env BAM_LINK=$link_to_bam\n",
        "\n",
        "  # Assign filename to python variable. Used to convert to fastq and remove bam file to fastq after conversion\n",
        "\n",
        "  bam_filename=\"D246ali4_possorted_genome.bam.1\"\n",
        "\n",
        "if not bam:\n",
        "  fastqs = [\"\",\n",
        "            \"\",\n",
        "            ]\n"
      ],
      "execution_count": 1,
      "outputs": [
        {
          "output_type": "stream",
          "text": [
            "env: BAM_LINK=https://sra-pub-src-1.s3.amazonaws.com/SRR8085152/D246ali4_possorted_genome.bam.1\n"
          ],
          "name": "stdout"
        }
      ]
    },
    {
      "cell_type": "code",
      "metadata": {
        "id": "5R3tPDqnoJUn"
      },
      "source": [
        "no_samples = 1\n",
        "\n",
        "fastqs_per_sample = [4, 8, 8] \n",
        "\n",
        "sample_id = samp_id\n",
        "\n",
        "database_id = [id] * no_samples\n",
        "\n",
        "tissue = [\"lung\"] * no_samples\n",
        "\n",
        "cell_type = [\"airway epithelial cells\"] * no_samples\n",
        "\n",
        "condition = [\"differentiated in BEGM medium\"] * no_samples\n",
        "\n",
        "species = [\"human\"] * no_samples\n",
        "\n",
        "technology = [\"10xv2\"] * no_samples\n",
        "\n",
        "paper = [\"Muus et al 2020\"] * no_samples\n",
        "\n",
        "figure = [\"Fig 1 a,b  ED Fig 1 a,b,c,d  ED Fig 2 a,b,c,d,e\"] * no_samples\n",
        "\n",
        "\n",
        "# Set string variables for kb functions\n",
        "\n",
        "species_kb = species[0]\n",
        "\n",
        "technology_kb = technology[0]\n",
        "\n"
      ],
      "execution_count": 2,
      "outputs": []
    },
    {
      "cell_type": "markdown",
      "metadata": {
        "id": "FPwL0-_-KSAw"
      },
      "source": [
        "# Imports and installs"
      ]
    },
    {
      "cell_type": "code",
      "metadata": {
        "id": "1HSlUGZEp3oP",
        "outputId": "a9bdbb4e-9e50-41fd-c1dd-49613515b7f5",
        "colab": {
          "base_uri": "https://localhost:8080/",
          "height": 207
        }
      },
      "source": [
        "# install and import necessary software\n",
        "\n",
        "# Install kb and scanpy\n",
        "!pip -q install kb-python \n",
        "!pip -q install scanpy\n",
        "\n",
        "import re\n",
        "import os\n",
        "\n",
        "# Setup\n",
        "\n",
        "import anndata\n",
        "import pandas as pd\n",
        "import numpy as np\n",
        "import matplotlib.pyplot as plt\n",
        "import matplotlib as mpl\n",
        "import matplotlib.patches as mpatches\n",
        "import scanpy as sc\n",
        "from scipy import stats\n",
        "\n",
        "from collections import OrderedDict\n",
        "from sklearn.decomposition import TruncatedSVD\n",
        "from sklearn.manifold import TSNE\n",
        "from sklearn.preprocessing import scale\n",
        "\n",
        "from sklearn.cluster import KMeans\n",
        "from sklearn.preprocessing import normalize\n",
        "from sklearn.preprocessing import LabelEncoder\n",
        "from sklearn.neighbors import NeighborhoodComponentsAnalysis\n",
        "from matplotlib import cm\n",
        "from matplotlib.lines import Line2D\n",
        "\n",
        "def nd(arr):\n",
        "    return np.asarray(arr).reshape(-1)\n",
        "def yex(ax):\n",
        "    lims = [np.min([ax.get_xlim(), ax.get_ylim()]),\n",
        "            np.max([ax.get_xlim(), ax.get_ylim()])]\n",
        "\n",
        "    # now plot both limits against eachother\n",
        "    ax.plot(lims, lims, 'k-', alpha=0.75, zorder=0)\n",
        "    ax.set_aspect('equal')\n",
        "    ax.set_xlim(lims)\n",
        "    ax.set_ylim(lims)\n",
        "    return ax\n",
        "\n",
        "def trim_axs(axs, N):\n",
        "    \"\"\"little helper to massage the axs list to have correct length...\"\"\"\n",
        "    axs = axs.flat\n",
        "    for ax in axs[N:]:\n",
        "        ax.remove()\n",
        "    return axs[:N]\n",
        "\n",
        "import warnings\n",
        "warnings.filterwarnings('ignore')\n",
        "\n",
        "fsize=20\n",
        "\n",
        "plt.rcParams.update({'font.size': fsize})\n",
        "%config InlineBackend.figure_format = 'retina'"
      ],
      "execution_count": 3,
      "outputs": [
        {
          "output_type": "stream",
          "text": [
            "\u001b[K     |████████████████████████████████| 35.4MB 1.2MB/s \n",
            "\u001b[K     |████████████████████████████████| 122kB 52.6MB/s \n",
            "\u001b[K     |████████████████████████████████| 51kB 5.9MB/s \n",
            "\u001b[K     |████████████████████████████████| 112kB 44.4MB/s \n",
            "\u001b[?25h  Building wheel for loompy (setup.py) ... \u001b[?25l\u001b[?25hdone\n",
            "  Building wheel for numpy-groupies (setup.py) ... \u001b[?25l\u001b[?25hdone\n",
            "\u001b[K     |████████████████████████████████| 7.7MB 2.6MB/s \n",
            "\u001b[K     |████████████████████████████████| 61kB 7.1MB/s \n",
            "\u001b[K     |████████████████████████████████| 51kB 6.1MB/s \n",
            "\u001b[?25h  Building wheel for sinfo (setup.py) ... \u001b[?25l\u001b[?25hdone\n"
          ],
          "name": "stdout"
        }
      ]
    },
    {
      "cell_type": "markdown",
      "metadata": {
        "id": "7V6FbosVrvP4"
      },
      "source": [
        "# Downloads: (bam (if bam) and index"
      ]
    },
    {
      "cell_type": "code",
      "metadata": {
        "id": "q46hw4zqKUPS",
        "outputId": "9c876b60-773c-4f86-ec45-2b49946e3a75",
        "colab": {
          "base_uri": "https://localhost:8080/",
          "height": 581
        }
      },
      "source": [
        "if bam:\n",
        "\n",
        "  # Install bamtofastq from 10x website (only bam files available)\n",
        "  !wget http://cf.10xgenomics.com/misc/bamtofastq-1.2.0\n",
        "  !chmod +x bamtofastq-1.2.0\n",
        "  # Download the bam file\n",
        "  !wget -- continue ${BAM_LINK}\n",
        "\n",
        "\n"
      ],
      "execution_count": 4,
      "outputs": [
        {
          "output_type": "stream",
          "text": [
            "--2020-10-09 21:59:26--  http://cf.10xgenomics.com/misc/bamtofastq-1.2.0\n",
            "Resolving cf.10xgenomics.com (cf.10xgenomics.com)... 104.18.0.173, 104.18.1.173, 2606:4700::6812:1ad, ...\n",
            "Connecting to cf.10xgenomics.com (cf.10xgenomics.com)|104.18.0.173|:80... connected.\n",
            "HTTP request sent, awaiting response... 301 Moved Permanently\n",
            "Location: https://cf.10xgenomics.com/misc/bamtofastq-1.2.0 [following]\n",
            "--2020-10-09 21:59:26--  https://cf.10xgenomics.com/misc/bamtofastq-1.2.0\n",
            "Connecting to cf.10xgenomics.com (cf.10xgenomics.com)|104.18.0.173|:443... connected.\n",
            "HTTP request sent, awaiting response... 200 OK\n",
            "Length: 13288280 (13M) [binary/octet-stream]\n",
            "Saving to: ‘bamtofastq-1.2.0’\n",
            "\n",
            "\rbamtofastq-1.2.0      0%[                    ]       0  --.-KB/s               \rbamtofastq-1.2.0    100%[===================>]  12.67M  --.-KB/s    in 0.06s   \n",
            "\n",
            "2020-10-09 21:59:26 (220 MB/s) - ‘bamtofastq-1.2.0’ saved [13288280/13288280]\n",
            "\n",
            "--2020-10-09 21:59:26--  http://continue/\n",
            "Resolving continue (continue)... failed: Name or service not known.\n",
            "wget: unable to resolve host address ‘continue’\n",
            "--2020-10-09 21:59:26--  https://sra-pub-src-1.s3.amazonaws.com/SRR8085152/D246ali4_possorted_genome.bam.1\n",
            "Resolving sra-pub-src-1.s3.amazonaws.com (sra-pub-src-1.s3.amazonaws.com)... 52.217.86.84\n",
            "Connecting to sra-pub-src-1.s3.amazonaws.com (sra-pub-src-1.s3.amazonaws.com)|52.217.86.84|:443... connected.\n",
            "HTTP request sent, awaiting response... 200 OK\n",
            "Length: 6928579098 (6.5G) [application/x-troff-man]\n",
            "Saving to: ‘D246ali4_possorted_genome.bam.1’\n",
            "\n",
            "D246ali4_possorted_ 100%[===================>]   6.45G  16.5MB/s    in 6m 58s  \n",
            "\n",
            "2020-10-09 22:06:26 (15.8 MB/s) - ‘D246ali4_possorted_genome.bam.1’ saved [6928579098/6928579098]\n",
            "\n",
            "FINISHED --2020-10-09 22:06:26--\n",
            "Total wall clock time: 6m 59s\n",
            "Downloaded: 1 files, 6.5G in 6m 58s (15.8 MB/s)\n"
          ],
          "name": "stdout"
        }
      ]
    },
    {
      "cell_type": "code",
      "metadata": {
        "id": "tDQlrjtqNF0m",
        "outputId": "15d864a4-03a7-4ed0-8c3c-86d7cf7ffdf9",
        "colab": {
          "base_uri": "https://localhost:8080/",
          "height": 88
        }
      },
      "source": [
        "if bam:\n",
        "  # Convert to fastq\n",
        "  !./bamtofastq-1.2.0 --reads-per-fastq=500000000 $bam_filename ./fastqs\\\n",
        "\n",
        "  # Remove original bam file to save space\n",
        "  !rm $bam_filename\n"
      ],
      "execution_count": 5,
      "outputs": [
        {
          "output_type": "stream",
          "text": [
            "bamtofastq v1.2.0\n",
            "Args { arg_bam: \"D246ali4_possorted_genome.bam.1\", arg_output_path: \"./fastqs\", flag_nthreads: 4, flag_locus: None, flag_bx_list: None, flag_reads_per_fastq: 500000000, flag_gemcode: false, flag_lr20: false, flag_cr11: false }\n",
            "Writing finished.  Observed 59956590 read pairs. Wrote 59956590 read pairs\n"
          ],
          "name": "stdout"
        }
      ]
    },
    {
      "cell_type": "code",
      "metadata": {
        "id": "SXRDRphvqcLe",
        "outputId": "a88a7e74-11fa-4300-ba8d-3062ed3dfd1f",
        "colab": {
          "base_uri": "https://localhost:8080/",
          "height": 527
        }
      },
      "source": [
        "# Store fastq names on a list\n",
        "\n",
        "if bam:\n",
        "  # cd into fastqs folder\n",
        "  %cd /content/fastqs\n",
        "\n",
        "  #store the name of the folder generated by bamtofastq\n",
        "  _filename = os.listdir()[0]\n",
        "\n",
        "  # cd into that folder\n",
        "  %cd $_filename\n",
        "\n",
        "  # store fastq names in a list\n",
        "  fastqs = os.listdir()\n",
        "\n",
        "\n",
        "  # Remove I1 and R3 reads not relevant for our analysis\n",
        "\n",
        "  # Initialize list containing elements to remove\n",
        "  remov_elem = []\n",
        "\n",
        "  print (\"\\n\\nThis is the complete list of fastqs:\\n -----------\")\n",
        "  for elem in fastqs:\n",
        "    print (elem)\n",
        "\n",
        "  # Search index (I1 or R3) fastqs and remove them from list\n",
        "  for elem in fastqs:\n",
        "    if re.search(\"_R3_\", elem) or re.search(\"_I1_\", elem):\n",
        "      remov_elem = remov_elem +[elem]\n",
        "\n",
        "  fastqs = [elem for elem in fastqs if elem not in remov_elem] \n",
        "\n",
        "  print (\"\\n\\nThis is the filtered list of fastqs:\\n -----------\")\n",
        "  for elem in fastqs:\n",
        "    print (elem)\n"
      ],
      "execution_count": 6,
      "outputs": [
        {
          "output_type": "stream",
          "text": [
            "/content/fastqs\n",
            "/content/fastqs/D246ali4_MissingLibrary_1_HK33NAFXX\n",
            "\n",
            "\n",
            "This is the complete list of fastqs:\n",
            " -----------\n",
            "bamtofastq_S1_L003_R2_001.fastq.gz\n",
            "bamtofastq_S1_L001_R1_001.fastq.gz\n",
            "bamtofastq_S1_L003_R1_001.fastq.gz\n",
            "bamtofastq_S1_L001_I1_001.fastq.gz\n",
            "bamtofastq_S1_L004_I1_001.fastq.gz\n",
            "bamtofastq_S1_L002_R2_001.fastq.gz\n",
            "bamtofastq_S1_L004_R2_001.fastq.gz\n",
            "bamtofastq_S1_L004_R1_001.fastq.gz\n",
            "bamtofastq_S1_L001_R2_001.fastq.gz\n",
            "bamtofastq_S1_L003_I1_001.fastq.gz\n",
            "bamtofastq_S1_L002_I1_001.fastq.gz\n",
            "bamtofastq_S1_L002_R1_001.fastq.gz\n",
            "\n",
            "\n",
            "This is the filtered list of fastqs:\n",
            " -----------\n",
            "bamtofastq_S1_L003_R2_001.fastq.gz\n",
            "bamtofastq_S1_L001_R1_001.fastq.gz\n",
            "bamtofastq_S1_L003_R1_001.fastq.gz\n",
            "bamtofastq_S1_L002_R2_001.fastq.gz\n",
            "bamtofastq_S1_L004_R2_001.fastq.gz\n",
            "bamtofastq_S1_L004_R1_001.fastq.gz\n",
            "bamtofastq_S1_L001_R2_001.fastq.gz\n",
            "bamtofastq_S1_L002_R1_001.fastq.gz\n"
          ],
          "name": "stdout"
        }
      ]
    },
    {
      "cell_type": "code",
      "metadata": {
        "id": "ZnFcqcSgjLBw"
      },
      "source": [
        "# Remove fastqs that wont be analyzed to save space\n",
        "if bam:\n",
        "  for elem in remov_elem:\n",
        "    !rm $elem"
      ],
      "execution_count": 7,
      "outputs": []
    },
    {
      "cell_type": "code",
      "metadata": {
        "id": "FLVS8aB7Dm6J"
      },
      "source": [
        "if bam:\n",
        "  # sort fastqs alphabetically to get R1 and R2 in order\n",
        "  fastqs = sorted(fastqs)"
      ],
      "execution_count": 8,
      "outputs": []
    },
    {
      "cell_type": "code",
      "metadata": {
        "id": "FE9gWbQgpBfR"
      },
      "source": [
        "# wget fastqs from non ffq links in fastqs folder\n",
        "if not bam and not fastq_ffqlinks:\n",
        "  !mkdir fastqs\n",
        "  %cd fastqs\n",
        "  for link in fastqs:\n",
        "    !wget $link --continue\n",
        "\n",
        "# update fastqs variable with name of files\n",
        "fastqs = sorted(os.listdir())"
      ],
      "execution_count": 9,
      "outputs": []
    },
    {
      "cell_type": "code",
      "metadata": {
        "id": "PC9oETW1pE9t",
        "outputId": "b581cde7-d9cf-4ded-86d8-6b3ce3d28c4f",
        "colab": {
          "base_uri": "https://localhost:8080/",
          "height": 71
        }
      },
      "source": [
        "if bam:\n",
        "  # Download the corresponding Kallisto index to folder containing fastqs\n",
        "  !kb ref -d $species_kb -i index.idx -g t2g.txt -f1 transcriptome.fasta\n",
        "\n",
        "if not bam:\n",
        "  %cd /content\n",
        "\n",
        "  # Download the corresponding Kallisto index to content folder\n",
        "  !kb ref -d $species_kb -i index.idx -g t2g.txt -f1 transcriptome.fasta\n",
        "\n",
        "if not bam and not fastq_ffqlinks:\n",
        "  %cd /content/fastqs\n",
        "\n",
        "  # Download the corresponding Kallisto index to fastq folder\n",
        "  !kb ref -d $species_kb -i index.idx -g t2g.txt -f1 transcriptome.fasta"
      ],
      "execution_count": 10,
      "outputs": [
        {
          "output_type": "stream",
          "text": [
            "[2020-10-09 22:16:51,830]    INFO Downloading files for human from https://caltech.box.com/shared/static/v1nm7lpnqz5syh8dyzdk2zs8bglncfib.gz to tmp/v1nm7lpnqz5syh8dyzdk2zs8bglncfib.gz\n",
            "[2020-10-09 22:19:21,134]    INFO Extracting files from tmp/v1nm7lpnqz5syh8dyzdk2zs8bglncfib.gz\n"
          ],
          "name": "stdout"
        }
      ]
    },
    {
      "cell_type": "code",
      "metadata": {
        "id": "vHVNa51Cp9Nr",
        "outputId": "4c7235c6-398a-40a9-9a1c-297b9245bff4",
        "colab": {
          "base_uri": "https://localhost:8080/",
          "height": 54
        }
      },
      "source": [
        "# Check to make sure the metadata is in the right order after sorting\n",
        "print(fastqs)"
      ],
      "execution_count": 11,
      "outputs": [
        {
          "output_type": "stream",
          "text": [
            "['bamtofastq_S1_L001_R1_001.fastq.gz', 'bamtofastq_S1_L001_R2_001.fastq.gz', 'bamtofastq_S1_L002_R1_001.fastq.gz', 'bamtofastq_S1_L002_R2_001.fastq.gz', 'bamtofastq_S1_L003_R1_001.fastq.gz', 'bamtofastq_S1_L003_R2_001.fastq.gz', 'bamtofastq_S1_L004_R1_001.fastq.gz', 'bamtofastq_S1_L004_R2_001.fastq.gz']\n"
          ],
          "name": "stdout"
        }
      ]
    },
    {
      "cell_type": "markdown",
      "metadata": {
        "id": "VInyuq1Dp7iz"
      },
      "source": [
        "# Process fastq files (modify kb command according to fastqs list)\n"
      ]
    },
    {
      "cell_type": "code",
      "metadata": {
        "id": "OcqtBuH-pRaX",
        "outputId": "18fcd861-f258-4152-fc97-c9f60b8d5f80",
        "colab": {
          "base_uri": "https://localhost:8080/",
          "height": 153
        }
      },
      "source": [
        "fastqs"
      ],
      "execution_count": 12,
      "outputs": [
        {
          "output_type": "execute_result",
          "data": {
            "text/plain": [
              "['bamtofastq_S1_L001_R1_001.fastq.gz',\n",
              " 'bamtofastq_S1_L001_R2_001.fastq.gz',\n",
              " 'bamtofastq_S1_L002_R1_001.fastq.gz',\n",
              " 'bamtofastq_S1_L002_R2_001.fastq.gz',\n",
              " 'bamtofastq_S1_L003_R1_001.fastq.gz',\n",
              " 'bamtofastq_S1_L003_R2_001.fastq.gz',\n",
              " 'bamtofastq_S1_L004_R1_001.fastq.gz',\n",
              " 'bamtofastq_S1_L004_R2_001.fastq.gz']"
            ]
          },
          "metadata": {
            "tags": []
          },
          "execution_count": 12
        }
      ]
    },
    {
      "cell_type": "code",
      "metadata": {
        "id": "5qFzPj-0kZTi",
        "outputId": "025559d8-8757-440c-bc84-892633a130b0",
        "colab": {
          "base_uri": "https://localhost:8080/",
          "height": 428
        }
      },
      "source": [
        "# Specify the sample number and whether they are paired-ended\n",
        "\n",
        "\n",
        "if no_samples == 1:\n",
        "\n",
        "  # Write the kb count command as a string with all fastqs of the list as an input\n",
        "  cmd = \"kb count --h5ad -i index.idx -g t2g.txt -x \" + technology_kb + \" -o output\" + sample_id[0] + \" \"\\\n",
        "  + \"--filter bustools -t 2 --overwrite \" + \"'\" +  \"' '\".join(fastqs) + \"'\"\n",
        "  \n",
        "  # Execute it\n",
        "  !$cmd\n",
        "\n",
        "# If more than one sample, iterate through fastqs accordingly\n",
        "else:\n",
        "\n",
        "  # Initializa counter for fastq files\n",
        "  j = 0\n",
        "\n",
        "  # Loop over samples for analysis\n",
        "  for i in range(no_samples):\n",
        "\n",
        "    fastqs_to_analyze = fastqs[j:j + fastqs_per_sample[i]]\n",
        "    # Write the kb count command as a string\n",
        "    cmd = \"kb count --h5ad -i ../index.idx -g ../t2g.txt -x \" + technology_kb + \" -o output\" + sample_id[i] + \" \\\n",
        "    --filter bustools -t 2 --overwrite \" + \"'\" +  \"' '\".join(fastqs_to_analyze) + \"'\"\n",
        "\n",
        "    # Execute it\n",
        "    !$cmd\n",
        "\n",
        "    # Update j to move to the next set of fastq\n",
        "    j = j + fastqs_per_sample[i]\n",
        "\n",
        "\n",
        "\n",
        "\n",
        "\n"
      ],
      "execution_count": 13,
      "outputs": [
        {
          "output_type": "stream",
          "text": [
            "[2020-10-09 22:20:04,324]    INFO Generating BUS file from\n",
            "[2020-10-09 22:20:04,324]    INFO         bamtofastq_S1_L001_R1_001.fastq.gz\n",
            "[2020-10-09 22:20:04,324]    INFO         bamtofastq_S1_L001_R2_001.fastq.gz\n",
            "[2020-10-09 22:20:04,325]    INFO         bamtofastq_S1_L002_R1_001.fastq.gz\n",
            "[2020-10-09 22:20:04,325]    INFO         bamtofastq_S1_L002_R2_001.fastq.gz\n",
            "[2020-10-09 22:20:04,325]    INFO         bamtofastq_S1_L003_R1_001.fastq.gz\n",
            "[2020-10-09 22:20:04,325]    INFO         bamtofastq_S1_L003_R2_001.fastq.gz\n",
            "[2020-10-09 22:20:04,325]    INFO         bamtofastq_S1_L004_R1_001.fastq.gz\n",
            "[2020-10-09 22:20:04,325]    INFO         bamtofastq_S1_L004_R2_001.fastq.gz\n",
            "[2020-10-09 22:31:43,106]    INFO Sorting BUS file outputGSM3439914/output.bus to tmp/output.s.bus\n",
            "[2020-10-09 22:32:20,890]    INFO Whitelist not provided\n",
            "[2020-10-09 22:32:20,890]    INFO Copying pre-packaged 10XV2 whitelist to outputGSM3439914\n",
            "[2020-10-09 22:32:23,509]    INFO Inspecting BUS file tmp/output.s.bus\n",
            "[2020-10-09 22:32:36,575]    INFO Correcting BUS records in tmp/output.s.bus to tmp/output.s.c.bus with whitelist outputGSM3439914/10xv2_whitelist.txt\n",
            "[2020-10-09 22:33:03,270]    INFO Sorting BUS file tmp/output.s.c.bus to outputGSM3439914/output.unfiltered.bus\n",
            "[2020-10-09 22:33:26,520]    INFO Generating count matrix outputGSM3439914/counts_unfiltered/cells_x_genes from BUS file outputGSM3439914/output.unfiltered.bus\n",
            "[2020-10-09 22:33:43,251]    INFO Converting matrix outputGSM3439914/counts_unfiltered/cells_x_genes.mtx to h5ad outputGSM3439914/counts_unfiltered/adata.h5ad\n",
            "[2020-10-09 22:33:58,905]    INFO Filtering with bustools\n",
            "[2020-10-09 22:33:58,905]    INFO Generating whitelist outputGSM3439914/filter_barcodes.txt from BUS file outputGSM3439914/output.unfiltered.bus\n",
            "[2020-10-09 22:33:59,202]    INFO Capturing records from BUS file outputGSM3439914/output.unfiltered.bus to tmp/output.filtered.bus with capture list outputGSM3439914/filter_barcodes.txt\n",
            "[2020-10-09 22:34:02,569]    INFO Sorting BUS file tmp/output.filtered.bus to outputGSM3439914/output.filtered.bus\n",
            "[2020-10-09 22:34:29,076]    INFO Generating count matrix outputGSM3439914/counts_filtered/cells_x_genes from BUS file outputGSM3439914/output.filtered.bus\n",
            "[2020-10-09 22:34:41,171]    INFO Converting matrix outputGSM3439914/counts_filtered/cells_x_genes.mtx to h5ad outputGSM3439914/counts_filtered/adata.h5ad\n"
          ],
          "name": "stdout"
        }
      ]
    },
    {
      "cell_type": "markdown",
      "metadata": {
        "id": "tDijOZzrqhN2"
      },
      "source": [
        "# Load unfiltered matrix and assign filters to each matrix individually"
      ]
    },
    {
      "cell_type": "markdown",
      "metadata": {
        "id": "VkNLZh_pNFFw"
      },
      "source": [
        "## Load the unfiltered matrix (check dimensions)"
      ]
    },
    {
      "cell_type": "code",
      "metadata": {
        "id": "PppRNeV8AIyw"
      },
      "source": [
        "# Define dict to store data\n",
        "results = {}\n"
      ],
      "execution_count": 14,
      "outputs": []
    },
    {
      "cell_type": "code",
      "metadata": {
        "id": "pKmtGf3c_BiZ",
        "cellView": "both",
        "outputId": "4a647f3c-1c3c-4f06-8d79-5dc1574023c4",
        "colab": {
          "base_uri": "https://localhost:8080/",
          "height": 34
        }
      },
      "source": [
        "# load the unfiltered matrix\n",
        "for i in range(no_samples):\n",
        "  results[sample_id[i]] = anndata.read_h5ad(\"output\" + sample_id[i] + \"/counts_unfiltered/adata.h5ad\")\n",
        "  results[sample_id[i]].var[\"gene_id\"] = results[sample_id[i]].var.index.values\n",
        "\n",
        "  t2g = pd.read_csv(\"t2g.txt\", header=None, names=[\"tid\", \"gene_id\", \"gene_name\"], sep=\"\\t\")\n",
        "  t2g.index = t2g.gene_id\n",
        "  t2g = t2g.loc[~t2g.index.duplicated(keep='first')]\n",
        "\n",
        "  results[sample_id[i]].var[\"gene_name\"] = results[sample_id[i]].var.gene_id.map(t2g[\"gene_name\"])\n",
        "  results[sample_id[i]].var.index = results[sample_id[i]].var[\"gene_name\"]\n",
        "  print(\"The unfiltered matrix \" + sample_id[i] + \" contains {} cells by {} genes\".format(len(results[sample_id[i]].obs), len(results[sample_id[i]].var)))\n",
        "\n",
        "  results[sample_id[i]].obs[\"cell_counts\"] = results[sample_id[i]].X.sum(axis=1)\n",
        "  results[sample_id[i]].var[\"gene_counts\"] = nd(results[sample_id[i]].X.sum(axis=0))\n",
        "\n",
        "  results[sample_id[i]].obs[\"n_genes\"] = nd((results[sample_id[i]].X>0).sum(axis=1))\n",
        "  results[sample_id[i]].var[\"n_cells\"] = nd((results[sample_id[i]].X>0).sum(axis=0))\n",
        "\n",
        "  mito_genes = results[sample_id[i]].var_names.str.startswith(\"MT-\" or \"mt-\") \n",
        "  results[sample_id[i]].obs[\"percent_mito\"] = results[sample_id[i]][:,mito_genes].X.sum(axis=1)/results[sample_id[i]].X.sum(axis=1)*100\n",
        "\n",
        "  # Changing the name of the index is necessary to write the file (it won't work with duplicated names)\n",
        "  results[sample_id[i]].var.index.name = \"index\"\n",
        "\n"
      ],
      "execution_count": 15,
      "outputs": [
        {
          "output_type": "stream",
          "text": [
            "The unfiltered matrix GSM3439914 contains 302910 cells by 60623 genes\n"
          ],
          "name": "stdout"
        }
      ]
    },
    {
      "cell_type": "markdown",
      "metadata": {
        "id": "hDAUH3eH_2RA"
      },
      "source": [
        "## Assign filters for each matrix individually"
      ]
    },
    {
      "cell_type": "code",
      "metadata": {
        "id": "ukinuaKk_6Po"
      },
      "source": [
        "# Modify this manually to change sample after having assigned the \"expected_num_cells\" and \"mito_criteria\" parameters\n",
        "samp_n = 0\n",
        "\n",
        "\n",
        "# Filtering criteria\n",
        "cell_threshold = 100\n",
        "gene_threshold = 3\n",
        "\n",
        "mito_criteria = 30"
      ],
      "execution_count": 16,
      "outputs": []
    },
    {
      "cell_type": "code",
      "metadata": {
        "id": "a5wZB5pEfwNs",
        "cellView": "form",
        "outputId": "57c89abe-098c-4145-a359-85cca3cbf807",
        "colab": {
          "base_uri": "https://localhost:8080/",
          "height": 730
        }
      },
      "source": [
        "\n",
        "expected_num_cells = 3000#@param {type:\"integer\"}\n",
        "knee = np.sort(nd(results[sample_id[samp_n]].X.sum(axis=1)))[::-1]\n",
        "\n",
        "fig, ax = plt.subplots(figsize=(5, 5))\n",
        "\n",
        "x = knee\n",
        "y = range(len(knee))\n",
        "\n",
        "ax.loglog(x, y, linewidth=5, color=\"g\")\n",
        "\n",
        "ax.axvline(x=knee[expected_num_cells], linewidth=3, color=\"k\")\n",
        "ax.axhline(y=expected_num_cells, linewidth=3, color=\"k\")\n",
        "\n",
        "ax.set_xlabel(\"UMI Counts\")\n",
        "ax.set_ylabel(\"Set of Barcodes\")\n",
        "\n",
        "plt.show()\n",
        "\n",
        "cell_threshold = knee[expected_num_cells]\n",
        "\n",
        "results[\"cell_threshold\" + sample_id[samp_n]] = knee[expected_num_cells]\n",
        "\n",
        "print (\"Cells were filtered down to \" + str(expected_num_cells) + \" with at least \" + str(cell_threshold) + \" UMIs\")\n",
        "\n",
        "\n",
        "mito_criteria = 18#@param {type:\"integer\"}\n",
        "results[\"mito_criteria\" + sample_id[samp_n]] = mito_criteria\n",
        "\n",
        "fig, ax = plt.subplots(figsize=(5,5))\n",
        "\n",
        "\n",
        "x = nd(results[sample_id[samp_n]].obs[\"cell_counts\"][results[sample_id[i]].obs[\"cell_counts\"] > cell_threshold])\n",
        "y = nd(results[sample_id[samp_n]].obs[\"percent_mito\"][results[sample_id[i]].obs[\"cell_counts\"] > cell_threshold])\n",
        "\n",
        "ax.scatter(x, y, color=\"green\", alpha=0.1)\n",
        "\n",
        "ax.axhline(y=mito_criteria, linestyle=\"--\", color=\"k\")\n",
        "\n",
        "\n",
        "ax.set_xlabel(\"UMI Counts\")\n",
        "ax.set_ylabel(\"Percent mito\")\n",
        "\n",
        "\n",
        "plt.show()\n",
        "\n",
        "print(\"We select \" + str(mito_criteria) + \" % as the mitochondrial content threshold\")"
      ],
      "execution_count": 19,
      "outputs": [
        {
          "output_type": "display_data",
          "data": {
            "image/png": "[encoded data removed]",
            "text/plain": [
              "<Figure size 360x360 with 1 Axes>"
            ]
          },
          "metadata": {
            "tags": [],
            "image/png": {
              "width": 358,
              "height": 337
            },
            "needs_background": "light"
          }
        },
        {
          "output_type": "stream",
          "text": [
            "Cells were filtered down to 3000 with at least 106.0 UMIs\n"
          ],
          "name": "stdout"
        },
        {
          "output_type": "display_data",
          "data": {
            "image/png": "[encoded data removed]",
            "text/plain": [
              "<Figure size 360x360 with 1 Axes>"
            ]
          },
          "metadata": {
            "tags": [],
            "image/png": {
              "width": 362,
              "height": 342
            },
            "needs_background": "light"
          }
        },
        {
          "output_type": "stream",
          "text": [
            "We select 18 % as the mitochondrial content threshold\n"
          ],
          "name": "stdout"
        }
      ]
    },
    {
      "cell_type": "markdown",
      "metadata": {
        "id": "eP9j2ouPq9KY"
      },
      "source": [
        "# Filter matrix"
      ]
    },
    {
      "cell_type": "code",
      "metadata": {
        "id": "sE51WUA3gVmG",
        "outputId": "60f61643-d291-44e1-a45f-4f8229c5459d",
        "colab": {
          "base_uri": "https://localhost:8080/",
          "height": 51
        }
      },
      "source": [
        "for i in range(no_samples):\n",
        "  results[sample_id[i]].obs[\"pass_count_filter\"] = results[sample_id[i]].obs[\"cell_counts\"] > results[\"cell_threshold\" + sample_id[i]]\n",
        "  results[sample_id[i]].obs[\"pass_mito_filter\"] = results[sample_id[i]].obs.percent_mito < results[\"mito_criteria\" + sample_id[i]]\n",
        "  results[sample_id[i]].var[\"pass_gene_filter\"] = results[sample_id[i]].var[\"n_cells\"] > gene_threshold\n",
        "\n",
        "  cell_mask = np.logical_and(results[sample_id[i]].obs[\"pass_count_filter\"].values, results[sample_id[i]].obs[\"pass_mito_filter\"].values)\n",
        "  gene_mask = results[sample_id[i]].var[\"pass_gene_filter\"].values\n",
        "\n",
        "  print(\"Current Shape: {:,} cells x {:,} genes\".format(results[sample_id[i]].shape[0], results[sample_id[i]].shape[1]))\n",
        "  print(\"    New shape: {:,} cells x {:,} genes\".format(cell_mask.sum(), gene_mask.sum()))\n",
        "  results[\"data_\" + sample_id[i]] = results[sample_id[i]][cell_mask, gene_mask]"
      ],
      "execution_count": 20,
      "outputs": [
        {
          "output_type": "stream",
          "text": [
            "Current Shape: 302,910 cells x 60,623 genes\n",
            "    New shape: 2,853 cells x 26,173 genes\n"
          ],
          "name": "stdout"
        }
      ]
    },
    {
      "cell_type": "markdown",
      "metadata": {
        "id": "BxPA81yj4TlU"
      },
      "source": [
        "# Anotate and write the Anndata object"
      ]
    },
    {
      "cell_type": "code",
      "metadata": {
        "id": "O-q_Qj2U4kDU",
        "outputId": "1396678f-00e0-4a3c-b195-3ae633aeff77",
        "colab": {
          "base_uri": "https://localhost:8080/",
          "height": 102
        }
      },
      "source": [
        "for i in range(no_samples):\n",
        "\n",
        "\n",
        "  results[\"data_\" + sample_id[i]].uns[\"database_id\"] = database_id[samp_n]\n",
        "\n",
        "  results[\"data_\" + sample_id[i]].uns[\"tissue\"] = tissue[samp_n]\n",
        "\n",
        "  results[\"data_\" + sample_id[i]].uns[\"cell_type\"] = cell_type[samp_n]\n",
        "\n",
        "  results[\"data_\" + sample_id[i]].uns[\"sample_id\"] = sample_id[samp_n]\n",
        "\n",
        "  results[\"data_\" + sample_id[i]].uns[\"condition\"] = condition[samp_n]\n",
        "\n",
        "  results[\"data_\" + sample_id[i]].uns[\"species\"] = species[samp_n]\n",
        "\n",
        "  results[\"data_\" + sample_id[i]].uns[\"technology\"] = technology[samp_n]\n",
        "\n",
        "  results[\"data_\" + sample_id[i]].uns[\"paper\"] = paper[samp_n]\n",
        "\n",
        "  results[\"data_\" + sample_id[i]].uns[\"figure\"] = figure[samp_n]\n",
        "\n",
        "\n",
        "%cd /content\n",
        "\n",
        "for i in range(no_samples):\n",
        "\n",
        "  results[\"data_\" + sample_id[i]].write(\"result\" + sample_id[i])"
      ],
      "execution_count": 21,
      "outputs": [
        {
          "output_type": "stream",
          "text": [
            "Trying to set attribute `.uns` of view, copying.\n",
            "Variable names are not unique. To make them unique, call `.var_names_make_unique`.\n",
            "Variable names are not unique. To make them unique, call `.var_names_make_unique`.\n"
          ],
          "name": "stderr"
        },
        {
          "output_type": "stream",
          "text": [
            "/content\n"
          ],
          "name": "stdout"
        },
        {
          "output_type": "stream",
          "text": [
            "... storing 'gene_name' as categorical\n"
          ],
          "name": "stderr"
        }
      ]
    }
  ]
}