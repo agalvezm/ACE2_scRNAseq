{
  "nbformat": 4,
  "nbformat_minor": 0,
  "metadata": {
    "colab": {
      "name": "GSE117824_GSM3739217_GSM3739218_GSM3739219.ipynb",
      "provenance": [],
      "collapsed_sections": [],
      "authorship_tag": "ABX9TyOR1DPcs81yRfv514GuXG1+",
      "include_colab_link": true
    },
    "kernelspec": {
      "name": "python3",
      "display_name": "Python 3"
    }
  },
  "cells": [
    {
      "cell_type": "markdown",
      "metadata": {
        "id": "view-in-github",
        "colab_type": "text"
      },
      "source": [
        "<a href=\"https://colab.research.google.com/github/agalvezm/ACE2_scRNAseq/blob/master/notebooks_countmatrices/GSE117824_GSM3739217_GSM3739218_GSM3739219.ipynb\" target=\"_parent\"><img src=\"https://colab.research.google.com/assets/colab-badge.svg\" alt=\"Open In Colab\"/></a>"
      ]
    },
    {
      "cell_type": "markdown",
      "metadata": {
        "id": "V9ryXluJsJw9"
      },
      "source": [
        "# GSE117824_GSM3739217_GSM3739218_GSM3739219"
      ]
    },
    {
      "cell_type": "code",
      "metadata": {
        "id": "ggNFAQJCRh6P"
      },
      "source": [
        "# define the values for the analysis\n",
        "\n",
        "# accession id for the data\n",
        "id = \"GSE117824\"\n",
        "samp_id = [\"GSM3739217\", \"GSM3739218\", \"GSM3739219\"]\n",
        "\n",
        "# If only bam available files, set bam = True, Fill link and filename\n",
        "bam = False\n",
        "\n",
        "fastq_ffqlinks = False\n",
        "\n",
        "if bam:\n",
        "  # Assign link to python variable\n",
        "  link_to_bam = \"ftp://ftp.sra.ebi.ac.uk/vol1/run/SRR638/SRR6389864/possorted_genome_bam.bam\"\n",
        "  \n",
        "  # Assigns the link to the bash variable BAM_LINK. To be used by wget\n",
        "  %env BAM_LINK=$link_to_bam\n",
        "\n",
        "  # Assign filename to python variable. Used to convert to fastq and remove bam file to fastq after conversion\n",
        "\n",
        "  bam_filename=\"possorted_genome_bam.bam\"\n",
        "\n",
        "if not bam:\n",
        "  fastqs = [\"https://sra-pub-src-2.s3.amazonaws.com/SRR8987928/CALR783_S1_L002_R1_001.fastq.gz\",\n",
        "  \t\"https://sra-pub-src-2.s3.amazonaws.com/SRR8987928/CALR783_S1_L002_R2_001.fastq.gz\",\n",
        "\n",
        "    \"https://sra-pub-src-2.s3.amazonaws.com/SRR8987929/ET05_PC_S1_L003_R1_001.fastq.gz\",\n",
        "    \"https://sra-pub-src-2.s3.amazonaws.com/SRR8987929/ET05_PC_S1_L003_R2_001.fastq.gz\",\n",
        "     \"https://sra-pub-src-2.s3.amazonaws.com/SRR8987930/ET05_PC_S1_L004_R1_001.fastq.gz\",\n",
        "     \t\"https://sra-pub-src-2.s3.amazonaws.com/SRR8987930/ET05_PC_S1_L004_R2_001.fastq.gz\",\n",
        "    \"https://sra-pub-src-2.s3.amazonaws.com/SRR8987931/ET05_PC_S1_L005_R1_001.fastq.gz\",\n",
        "    \"https://sra-pub-src-2.s3.amazonaws.com/SRR8987931/ET05_PC_S1_L005_R2_001.fastq.gz\",\n",
        "    \"https://sra-pub-src-2.s3.amazonaws.com/SRR8987932/ET05_PC_S1_L006_R1_001.fastq.gz\",\n",
        "\t  \"https://sra-pub-src-2.s3.amazonaws.com/SRR8987932/ET05_PC_S1_L006_R2_001.fastq.gz\",\n",
        "\n",
        "    \"https://sra-pub-src-2.s3.amazonaws.com/SRR8987933/MF03_GSa_S2_L003_R1_001.fastq.gz\",\n",
        " \"https://sra-pub-src-2.s3.amazonaws.com/SRR8987933/MF03_GSa_S2_L003_R2_001.fastq.gz\",\n",
        "\"https://sra-pub-src-2.s3.amazonaws.com/SRR8987936/MF03_GSa_S2_L006_R1_001.fastq.gz\",\n",
        "\t\"https://sra-pub-src-2.s3.amazonaws.com/SRR8987936/MF03_GSa_S2_L006_R2_001.fastq.gz\",\n",
        "\"https://sra-pub-src-2.s3.amazonaws.com/SRR8987935/MF03_GSa_S2_L005_R1_001.fastq.gz\",\n",
        "\t\"https://sra-pub-src-2.s3.amazonaws.com/SRR8987935/MF03_GSa_S2_L005_R2_001.fastq.gz\",\n",
        "\"https://sra-pub-src-2.s3.amazonaws.com/SRR8987934/MF03_GSa_S2_L004_R1_001.fastq.gz\",\n",
        "\t\"https://sra-pub-src-2.s3.amazonaws.com/SRR8987934/MF03_GSa_S2_L004_R2_001.fastq.gz\"\n",
        "\n",
        "           ]\n"
      ],
      "execution_count": 1,
      "outputs": []
    },
    {
      "cell_type": "code",
      "metadata": {
        "id": "5R3tPDqnoJUn"
      },
      "source": [
        "no_samples = 3\n",
        "\n",
        "fastqs_per_sample = [2, 8, 8] \n",
        "\n",
        "sample_id = samp_id\n",
        "\n",
        "database_id = [id] * no_samples\n",
        "\n",
        "tissue = [\"blood\"] * no_samples\n",
        "\n",
        "cell_type = [\"bone marrow\"] * no_samples\n",
        "\n",
        "condition = [\"ET04, ET05, MF02\"] * no_samples\n",
        "\n",
        "species = [\"human\"] * no_samples\n",
        "\n",
        "technology = [\"10xv2\"] * no_samples\n",
        "\n",
        "paper = [\"Muus et al 2020\"] * no_samples\n",
        "\n",
        "figure = [\"Fig 1 a,b  ED Fig 1 a,b,c,d  ED Fig 2 a,b,c,d,e\"] * no_samples\n",
        "\n",
        "\n",
        "# Set string variables for kb functions\n",
        "\n",
        "species_kb = species[0]\n",
        "\n",
        "technology_kb = technology[0]\n",
        "\n"
      ],
      "execution_count": 2,
      "outputs": []
    },
    {
      "cell_type": "markdown",
      "metadata": {
        "id": "FPwL0-_-KSAw"
      },
      "source": [
        "# Imports and installs"
      ]
    },
    {
      "cell_type": "code",
      "metadata": {
        "id": "1HSlUGZEp3oP",
        "outputId": "04a85e21-3f64-484c-ffe5-a96d5ec655a9",
        "colab": {
          "base_uri": "https://localhost:8080/",
          "height": 187
        }
      },
      "source": [
        "# install and import necessary software\n",
        "\n",
        "# Install kb and scanpy\n",
        "!pip -q install kb-python \n",
        "!pip -q install scanpy\n",
        "\n",
        "import re\n",
        "import os\n",
        "\n",
        "# Setup\n",
        "\n",
        "import anndata\n",
        "import pandas as pd\n",
        "import numpy as np\n",
        "import matplotlib.pyplot as plt\n",
        "import matplotlib as mpl\n",
        "import matplotlib.patches as mpatches\n",
        "import scanpy as sc\n",
        "from scipy import stats\n",
        "\n",
        "from collections import OrderedDict\n",
        "from sklearn.decomposition import TruncatedSVD\n",
        "from sklearn.manifold import TSNE\n",
        "from sklearn.preprocessing import scale\n",
        "\n",
        "from sklearn.cluster import KMeans\n",
        "from sklearn.preprocessing import normalize\n",
        "from sklearn.preprocessing import LabelEncoder\n",
        "from sklearn.neighbors import NeighborhoodComponentsAnalysis\n",
        "from matplotlib import cm\n",
        "from matplotlib.lines import Line2D\n",
        "\n",
        "def nd(arr):\n",
        "    return np.asarray(arr).reshape(-1)\n",
        "def yex(ax):\n",
        "    lims = [np.min([ax.get_xlim(), ax.get_ylim()]),\n",
        "            np.max([ax.get_xlim(), ax.get_ylim()])]\n",
        "\n",
        "    # now plot both limits against eachother\n",
        "    ax.plot(lims, lims, 'k-', alpha=0.75, zorder=0)\n",
        "    ax.set_aspect('equal')\n",
        "    ax.set_xlim(lims)\n",
        "    ax.set_ylim(lims)\n",
        "    return ax\n",
        "\n",
        "def trim_axs(axs, N):\n",
        "    \"\"\"little helper to massage the axs list to have correct length...\"\"\"\n",
        "    axs = axs.flat\n",
        "    for ax in axs[N:]:\n",
        "        ax.remove()\n",
        "    return axs[:N]\n",
        "\n",
        "import warnings\n",
        "warnings.filterwarnings('ignore')\n",
        "\n",
        "fsize=20\n",
        "\n",
        "plt.rcParams.update({'font.size': fsize})\n",
        "%config InlineBackend.figure_format = 'retina'"
      ],
      "execution_count": 3,
      "outputs": [
        {
          "output_type": "stream",
          "text": [
            "\u001b[K     |████████████████████████████████| 35.4MB 1.5MB/s \n",
            "\u001b[K     |████████████████████████████████| 51kB 3.4MB/s \n",
            "\u001b[K     |████████████████████████████████| 122kB 42.8MB/s \n",
            "\u001b[K     |████████████████████████████████| 112kB 44.7MB/s \n",
            "\u001b[?25h  Building wheel for loompy (setup.py) ... \u001b[?25l\u001b[?25hdone\n",
            "  Building wheel for numpy-groupies (setup.py) ... \u001b[?25l\u001b[?25hdone\n",
            "\u001b[K     |████████████████████████████████| 7.7MB 2.6MB/s \n",
            "\u001b[K     |████████████████████████████████| 51kB 5.6MB/s \n",
            "\u001b[K     |████████████████████████████████| 61kB 7.0MB/s \n",
            "\u001b[?25h  Building wheel for sinfo (setup.py) ... \u001b[?25l\u001b[?25hdone\n"
          ],
          "name": "stdout"
        }
      ]
    },
    {
      "cell_type": "markdown",
      "metadata": {
        "id": "7V6FbosVrvP4"
      },
      "source": [
        "# Downloads: (bam (*if bam*), fastqs (*if not fastq_ffqlinks*) and index"
      ]
    },
    {
      "cell_type": "code",
      "metadata": {
        "id": "q46hw4zqKUPS"
      },
      "source": [
        "if bam:\n",
        "\n",
        "  # Install bamtofastq from 10x website (only bam files available)\n",
        "  !wget http://cf.10xgenomics.com/misc/bamtofastq-1.2.0\n",
        "  !chmod +x bamtofastq-1.2.0\n",
        "  # Download the bam file\n",
        "  !wget -- continue ${BAM_LINK}\n",
        "\n",
        "\n"
      ],
      "execution_count": 4,
      "outputs": []
    },
    {
      "cell_type": "code",
      "metadata": {
        "id": "tDQlrjtqNF0m"
      },
      "source": [
        "if bam:\n",
        "  # Convert to fastq\n",
        "  !./bamtofastq-1.2.0 --reads-per-fastq=500000000 $bam_filename ./fastqs\\\n",
        "\n",
        "  # Remove original bam file to save space\n",
        "  !rm $bam_filename\n"
      ],
      "execution_count": 5,
      "outputs": []
    },
    {
      "cell_type": "code",
      "metadata": {
        "id": "SXRDRphvqcLe"
      },
      "source": [
        "# Store fastq names on a list\n",
        "\n",
        "if bam:\n",
        "  # cd into fastqs folder\n",
        "  %cd /content/fastqs\n",
        "\n",
        "  #store the name of the folder generated by bamtofastq\n",
        "  _filename = os.listdir()[0]\n",
        "\n",
        "  # cd into that folder\n",
        "  %cd $_filename\n",
        "\n",
        "  # store fastq names in a list\n",
        "  fastqs = os.listdir()\n",
        "\n",
        "\n",
        "  # Remove I1 and R3 reads not relevant for our analysis\n",
        "\n",
        "  # Initialize list containing elements to remove\n",
        "  remov_elem = []\n",
        "\n",
        "  print (\"\\n\\nThis is the complete list of fastqs:\\n -----------\")\n",
        "  for elem in fastqs:\n",
        "    print (elem)\n",
        "\n",
        "  # Search index (I1 or R3) fastqs and remove them from list\n",
        "  for elem in fastqs:\n",
        "    if re.search(\"_R3_\", elem) or re.search(\"_I1_\", elem):\n",
        "      remov_elem = remov_elem +[elem]\n",
        "\n",
        "  fastqs = [elem for elem in fastqs if elem not in remov_elem] \n",
        "\n",
        "  print (\"\\n\\nThis is the filtered list of fastqs:\\n -----------\")\n",
        "  for elem in fastqs:\n",
        "    print (elem)\n"
      ],
      "execution_count": 6,
      "outputs": []
    },
    {
      "cell_type": "code",
      "metadata": {
        "id": "ZnFcqcSgjLBw"
      },
      "source": [
        "# Remove fastqs that wont be analyzed to save space\n",
        "if bam:\n",
        "  for elem in remov_elem:\n",
        "    !rm $elem"
      ],
      "execution_count": 7,
      "outputs": []
    },
    {
      "cell_type": "code",
      "metadata": {
        "id": "FLVS8aB7Dm6J"
      },
      "source": [
        "if bam:\n",
        "  # sort fastqs alphabetically to get R1 and R2 in order\n",
        "  fastqs = sorted(fastqs)"
      ],
      "execution_count": 8,
      "outputs": []
    },
    {
      "cell_type": "code",
      "metadata": {
        "id": "2ADlCScnGDCC",
        "outputId": "8f316b5a-0085-40a4-bdb6-6de7cad24d96",
        "colab": {
          "base_uri": "https://localhost:8080/",
          "height": 1000
        }
      },
      "source": [
        "# wget fastqs from non ffq links in fastqs folder\n",
        "if not bam and not fastq_ffqlinks:\n",
        "  !mkdir fastqs\n",
        "  %cd fastqs\n",
        "  for link in fastqs:\n",
        "    !wget $link --continue\n",
        "\n",
        "# update fastqs variable with name of files\n",
        "fastqs = os.listdir()"
      ],
      "execution_count": 9,
      "outputs": [
        {
          "output_type": "stream",
          "text": [
            "/content/fastqs\n",
            "--2020-10-06 19:41:44--  https://sra-pub-src-2.s3.amazonaws.com/SRR8987928/CALR783_S1_L002_R1_001.fastq.gz\n",
            "Resolving sra-pub-src-2.s3.amazonaws.com (sra-pub-src-2.s3.amazonaws.com)... 52.216.107.140\n",
            "Connecting to sra-pub-src-2.s3.amazonaws.com (sra-pub-src-2.s3.amazonaws.com)|52.216.107.140|:443... connected.\n",
            "HTTP request sent, awaiting response... 200 OK\n",
            "Length: 4499363191 (4.2G) [application/x-troff-man]\n",
            "Saving to: ‘CALR783_S1_L002_R1_001.fastq.gz’\n",
            "\n",
            "CALR783_S1_L002_R1_ 100%[===================>]   4.19G  47.5MB/s    in 1m 47s  \n",
            "\n",
            "2020-10-06 19:43:31 (40.2 MB/s) - ‘CALR783_S1_L002_R1_001.fastq.gz’ saved [4499363191/4499363191]\n",
            "\n",
            "--2020-10-06 19:43:31--  https://sra-pub-src-2.s3.amazonaws.com/SRR8987928/CALR783_S1_L002_R2_001.fastq.gz\n",
            "Resolving sra-pub-src-2.s3.amazonaws.com (sra-pub-src-2.s3.amazonaws.com)... 52.216.184.83\n",
            "Connecting to sra-pub-src-2.s3.amazonaws.com (sra-pub-src-2.s3.amazonaws.com)|52.216.184.83|:443... connected.\n",
            "HTTP request sent, awaiting response... 200 OK\n",
            "Length: 15993036718 (15G) [application/x-troff-man]\n",
            "Saving to: ‘CALR783_S1_L002_R2_001.fastq.gz’\n",
            "\n",
            "CALR783_S1_L002_R2_ 100%[===================>]  14.89G  42.1MB/s    in 6m 1s   \n",
            "\n",
            "2020-10-06 19:49:32 (42.2 MB/s) - ‘CALR783_S1_L002_R2_001.fastq.gz’ saved [15993036718/15993036718]\n",
            "\n",
            "--2020-10-06 19:49:33--  https://sra-pub-src-2.s3.amazonaws.com/SRR8987929/ET05_PC_S1_L003_R1_001.fastq.gz\n",
            "Resolving sra-pub-src-2.s3.amazonaws.com (sra-pub-src-2.s3.amazonaws.com)... 52.217.96.84\n",
            "Connecting to sra-pub-src-2.s3.amazonaws.com (sra-pub-src-2.s3.amazonaws.com)|52.217.96.84|:443... connected.\n",
            "HTTP request sent, awaiting response... 200 OK\n",
            "Length: 1034811115 (987M) [application/x-troff-man]\n",
            "Saving to: ‘ET05_PC_S1_L003_R1_001.fastq.gz’\n",
            "\n",
            "ET05_PC_S1_L003_R1_ 100%[===================>] 986.87M  38.5MB/s    in 22s     \n",
            "\n",
            "2020-10-06 19:49:55 (44.1 MB/s) - ‘ET05_PC_S1_L003_R1_001.fastq.gz’ saved [1034811115/1034811115]\n",
            "\n",
            "--2020-10-06 19:49:55--  https://sra-pub-src-2.s3.amazonaws.com/SRR8987929/ET05_PC_S1_L003_R2_001.fastq.gz\n",
            "Resolving sra-pub-src-2.s3.amazonaws.com (sra-pub-src-2.s3.amazonaws.com)... 52.216.19.48\n",
            "Connecting to sra-pub-src-2.s3.amazonaws.com (sra-pub-src-2.s3.amazonaws.com)|52.216.19.48|:443... connected.\n",
            "HTTP request sent, awaiting response... 200 OK\n",
            "Length: 3938612615 (3.7G) [application/x-troff-man]\n",
            "Saving to: ‘ET05_PC_S1_L003_R2_001.fastq.gz’\n",
            "\n",
            "ET05_PC_S1_L003_R2_ 100%[===================>]   3.67G  41.1MB/s    in 90s     \n",
            "\n",
            "2020-10-06 19:51:26 (41.7 MB/s) - ‘ET05_PC_S1_L003_R2_001.fastq.gz’ saved [3938612615/3938612615]\n",
            "\n",
            "--2020-10-06 19:51:26--  https://sra-pub-src-2.s3.amazonaws.com/SRR8987930/ET05_PC_S1_L004_R1_001.fastq.gz\n",
            "Resolving sra-pub-src-2.s3.amazonaws.com (sra-pub-src-2.s3.amazonaws.com)... 52.216.94.155\n",
            "Connecting to sra-pub-src-2.s3.amazonaws.com (sra-pub-src-2.s3.amazonaws.com)|52.216.94.155|:443... connected.\n",
            "HTTP request sent, awaiting response... 200 OK\n",
            "Length: 1047190436 (999M) [application/x-troff-man]\n",
            "Saving to: ‘ET05_PC_S1_L004_R1_001.fastq.gz’\n",
            "\n",
            "ET05_PC_S1_L004_R1_ 100%[===================>] 998.68M  43.5MB/s    in 23s     \n",
            "\n",
            "2020-10-06 19:51:49 (44.1 MB/s) - ‘ET05_PC_S1_L004_R1_001.fastq.gz’ saved [1047190436/1047190436]\n",
            "\n",
            "--2020-10-06 19:51:49--  https://sra-pub-src-2.s3.amazonaws.com/SRR8987930/ET05_PC_S1_L004_R2_001.fastq.gz\n",
            "Resolving sra-pub-src-2.s3.amazonaws.com (sra-pub-src-2.s3.amazonaws.com)... 52.216.99.91\n",
            "Connecting to sra-pub-src-2.s3.amazonaws.com (sra-pub-src-2.s3.amazonaws.com)|52.216.99.91|:443... connected.\n",
            "HTTP request sent, awaiting response... 200 OK\n",
            "Length: 3970237391 (3.7G) [application/x-troff-man]\n",
            "Saving to: ‘ET05_PC_S1_L004_R2_001.fastq.gz’\n",
            "\n",
            "ET05_PC_S1_L004_R2_ 100%[===================>]   3.70G  37.2MB/s    in 92s     \n",
            "\n",
            "2020-10-06 19:53:21 (41.3 MB/s) - ‘ET05_PC_S1_L004_R2_001.fastq.gz’ saved [3970237391/3970237391]\n",
            "\n",
            "--2020-10-06 19:53:21--  https://sra-pub-src-2.s3.amazonaws.com/SRR8987931/ET05_PC_S1_L005_R1_001.fastq.gz\n",
            "Resolving sra-pub-src-2.s3.amazonaws.com (sra-pub-src-2.s3.amazonaws.com)... 52.216.88.51\n",
            "Connecting to sra-pub-src-2.s3.amazonaws.com (sra-pub-src-2.s3.amazonaws.com)|52.216.88.51|:443... connected.\n",
            "HTTP request sent, awaiting response... 200 OK\n",
            "Length: 548399942 (523M) [application/x-troff-man]\n",
            "Saving to: ‘ET05_PC_S1_L005_R1_001.fastq.gz’\n",
            "\n",
            "ET05_PC_S1_L005_R1_ 100%[===================>] 522.99M  44.7MB/s    in 12s     \n",
            "\n",
            "2020-10-06 19:53:33 (43.7 MB/s) - ‘ET05_PC_S1_L005_R1_001.fastq.gz’ saved [548399942/548399942]\n",
            "\n",
            "--2020-10-06 19:53:33--  https://sra-pub-src-2.s3.amazonaws.com/SRR8987931/ET05_PC_S1_L005_R2_001.fastq.gz\n",
            "Resolving sra-pub-src-2.s3.amazonaws.com (sra-pub-src-2.s3.amazonaws.com)... 52.217.80.252\n",
            "Connecting to sra-pub-src-2.s3.amazonaws.com (sra-pub-src-2.s3.amazonaws.com)|52.217.80.252|:443... connected.\n",
            "HTTP request sent, awaiting response... 200 OK\n",
            "Length: 2093890938 (1.9G) [application/x-troff-man]\n",
            "Saving to: ‘ET05_PC_S1_L005_R2_001.fastq.gz’\n",
            "\n",
            "ET05_PC_S1_L005_R2_ 100%[===================>]   1.95G  38.8MB/s    in 51s     \n",
            "\n",
            "2020-10-06 19:54:24 (39.5 MB/s) - ‘ET05_PC_S1_L005_R2_001.fastq.gz’ saved [2093890938/2093890938]\n",
            "\n",
            "--2020-10-06 19:54:24--  https://sra-pub-src-2.s3.amazonaws.com/SRR8987932/ET05_PC_S1_L006_R1_001.fastq.gz\n",
            "Resolving sra-pub-src-2.s3.amazonaws.com (sra-pub-src-2.s3.amazonaws.com)... 52.216.104.131\n",
            "Connecting to sra-pub-src-2.s3.amazonaws.com (sra-pub-src-2.s3.amazonaws.com)|52.216.104.131|:443... connected.\n",
            "HTTP request sent, awaiting response... 200 OK\n",
            "Length: 537651490 (513M) [application/x-troff-man]\n",
            "Saving to: ‘ET05_PC_S1_L006_R1_001.fastq.gz’\n",
            "\n",
            "ET05_PC_S1_L006_R1_ 100%[===================>] 512.74M  39.0MB/s    in 12s     \n",
            "\n",
            "2020-10-06 19:54:37 (41.2 MB/s) - ‘ET05_PC_S1_L006_R1_001.fastq.gz’ saved [537651490/537651490]\n",
            "\n",
            "--2020-10-06 19:54:37--  https://sra-pub-src-2.s3.amazonaws.com/SRR8987932/ET05_PC_S1_L006_R2_001.fastq.gz\n",
            "Resolving sra-pub-src-2.s3.amazonaws.com (sra-pub-src-2.s3.amazonaws.com)... 52.217.70.148\n",
            "Connecting to sra-pub-src-2.s3.amazonaws.com (sra-pub-src-2.s3.amazonaws.com)|52.217.70.148|:443... connected.\n",
            "HTTP request sent, awaiting response... 200 OK\n",
            "Length: 2126987928 (2.0G) [application/x-troff-man]\n",
            "Saving to: ‘ET05_PC_S1_L006_R2_001.fastq.gz’\n",
            "\n",
            "ET05_PC_S1_L006_R2_ 100%[===================>]   1.98G  36.3MB/s    in 51s     \n",
            "\n",
            "2020-10-06 19:55:28 (39.9 MB/s) - ‘ET05_PC_S1_L006_R2_001.fastq.gz’ saved [2126987928/2126987928]\n",
            "\n",
            "--2020-10-06 19:55:28--  https://sra-pub-src-2.s3.amazonaws.com/SRR8987933/MF03_GSa_S2_L003_R1_001.fastq.gz\n",
            "Resolving sra-pub-src-2.s3.amazonaws.com (sra-pub-src-2.s3.amazonaws.com)... 52.216.142.244\n",
            "Connecting to sra-pub-src-2.s3.amazonaws.com (sra-pub-src-2.s3.amazonaws.com)|52.216.142.244|:443... connected.\n",
            "HTTP request sent, awaiting response... 200 OK\n",
            "Length: 777335211 (741M) [application/x-troff-man]\n",
            "Saving to: ‘MF03_GSa_S2_L003_R1_001.fastq.gz’\n",
            "\n",
            "MF03_GSa_S2_L003_R1 100%[===================>] 741.32M  42.6MB/s    in 20s     \n",
            "\n",
            "2020-10-06 19:55:48 (37.3 MB/s) - ‘MF03_GSa_S2_L003_R1_001.fastq.gz’ saved [777335211/777335211]\n",
            "\n",
            "--2020-10-06 19:55:48--  https://sra-pub-src-2.s3.amazonaws.com/SRR8987933/MF03_GSa_S2_L003_R2_001.fastq.gz\n",
            "Resolving sra-pub-src-2.s3.amazonaws.com (sra-pub-src-2.s3.amazonaws.com)... 52.217.92.212\n",
            "Connecting to sra-pub-src-2.s3.amazonaws.com (sra-pub-src-2.s3.amazonaws.com)|52.217.92.212|:443... connected.\n",
            "HTTP request sent, awaiting response... 200 OK\n",
            "Length: 2878460309 (2.7G) [application/x-troff-man]\n",
            "Saving to: ‘MF03_GSa_S2_L003_R2_001.fastq.gz’\n",
            "\n",
            "MF03_GSa_S2_L003_R2 100%[===================>]   2.68G  41.7MB/s    in 69s     \n",
            "\n",
            "2020-10-06 19:56:58 (39.8 MB/s) - ‘MF03_GSa_S2_L003_R2_001.fastq.gz’ saved [2878460309/2878460309]\n",
            "\n",
            "--2020-10-06 19:56:58--  https://sra-pub-src-2.s3.amazonaws.com/SRR8987936/MF03_GSa_S2_L006_R1_001.fastq.gz\n",
            "Resolving sra-pub-src-2.s3.amazonaws.com (sra-pub-src-2.s3.amazonaws.com)... 52.216.102.75\n",
            "Connecting to sra-pub-src-2.s3.amazonaws.com (sra-pub-src-2.s3.amazonaws.com)|52.216.102.75|:443... connected.\n",
            "HTTP request sent, awaiting response... 200 OK\n",
            "Length: 402839632 (384M) [application/x-troff-man]\n",
            "Saving to: ‘MF03_GSa_S2_L006_R1_001.fastq.gz’\n",
            "\n",
            "MF03_GSa_S2_L006_R1 100%[===================>] 384.18M  41.8MB/s    in 9.1s    \n",
            "\n",
            "2020-10-06 19:57:07 (42.2 MB/s) - ‘MF03_GSa_S2_L006_R1_001.fastq.gz’ saved [402839632/402839632]\n",
            "\n",
            "--2020-10-06 19:57:07--  https://sra-pub-src-2.s3.amazonaws.com/SRR8987936/MF03_GSa_S2_L006_R2_001.fastq.gz\n",
            "Resolving sra-pub-src-2.s3.amazonaws.com (sra-pub-src-2.s3.amazonaws.com)... 52.216.10.3\n",
            "Connecting to sra-pub-src-2.s3.amazonaws.com (sra-pub-src-2.s3.amazonaws.com)|52.216.10.3|:443... connected.\n",
            "HTTP request sent, awaiting response... 200 OK\n",
            "Length: 1549118188 (1.4G) [application/x-troff-man]\n",
            "Saving to: ‘MF03_GSa_S2_L006_R2_001.fastq.gz’\n",
            "\n",
            "MF03_GSa_S2_L006_R2 100%[===================>]   1.44G  44.8MB/s    in 36s     \n",
            "\n",
            "2020-10-06 19:57:43 (41.4 MB/s) - ‘MF03_GSa_S2_L006_R2_001.fastq.gz’ saved [1549118188/1549118188]\n",
            "\n",
            "--2020-10-06 19:57:43--  https://sra-pub-src-2.s3.amazonaws.com/SRR8987935/MF03_GSa_S2_L005_R1_001.fastq.gz\n",
            "Resolving sra-pub-src-2.s3.amazonaws.com (sra-pub-src-2.s3.amazonaws.com)... 52.217.47.44\n",
            "Connecting to sra-pub-src-2.s3.amazonaws.com (sra-pub-src-2.s3.amazonaws.com)|52.217.47.44|:443... connected.\n",
            "HTTP request sent, awaiting response... 200 OK\n",
            "Length: 411455520 (392M) [application/x-troff-man]\n",
            "Saving to: ‘MF03_GSa_S2_L005_R1_001.fastq.gz’\n",
            "\n",
            "MF03_GSa_S2_L005_R1 100%[===================>] 392.39M  41.6MB/s    in 9.5s    \n",
            "\n",
            "2020-10-06 19:57:53 (41.3 MB/s) - ‘MF03_GSa_S2_L005_R1_001.fastq.gz’ saved [411455520/411455520]\n",
            "\n",
            "--2020-10-06 19:57:53--  https://sra-pub-src-2.s3.amazonaws.com/SRR8987935/MF03_GSa_S2_L005_R2_001.fastq.gz\n",
            "Resolving sra-pub-src-2.s3.amazonaws.com (sra-pub-src-2.s3.amazonaws.com)... 52.216.21.195\n",
            "Connecting to sra-pub-src-2.s3.amazonaws.com (sra-pub-src-2.s3.amazonaws.com)|52.216.21.195|:443... connected.\n",
            "HTTP request sent, awaiting response... 200 OK\n",
            "Length: 1519853538 (1.4G) [application/x-troff-man]\n",
            "Saving to: ‘MF03_GSa_S2_L005_R2_001.fastq.gz’\n",
            "\n",
            "MF03_GSa_S2_L005_R2 100%[===================>]   1.42G  39.7MB/s    in 36s     \n",
            "\n",
            "2020-10-06 19:58:30 (39.7 MB/s) - ‘MF03_GSa_S2_L005_R2_001.fastq.gz’ saved [1519853538/1519853538]\n",
            "\n",
            "--2020-10-06 19:58:30--  https://sra-pub-src-2.s3.amazonaws.com/SRR8987934/MF03_GSa_S2_L004_R1_001.fastq.gz\n",
            "Resolving sra-pub-src-2.s3.amazonaws.com (sra-pub-src-2.s3.amazonaws.com)... 52.217.65.100\n",
            "Connecting to sra-pub-src-2.s3.amazonaws.com (sra-pub-src-2.s3.amazonaws.com)|52.217.65.100|:443... connected.\n",
            "HTTP request sent, awaiting response... 200 OK\n",
            "Length: 785023843 (749M) [application/x-troff-man]\n",
            "Saving to: ‘MF03_GSa_S2_L004_R1_001.fastq.gz’\n",
            "\n",
            "MF03_GSa_S2_L004_R1 100%[===================>] 748.66M  42.3MB/s    in 17s     \n",
            "\n",
            "2020-10-06 19:58:47 (44.2 MB/s) - ‘MF03_GSa_S2_L004_R1_001.fastq.gz’ saved [785023843/785023843]\n",
            "\n",
            "--2020-10-06 19:58:47--  https://sra-pub-src-2.s3.amazonaws.com/SRR8987934/MF03_GSa_S2_L004_R2_001.fastq.gz\n",
            "Resolving sra-pub-src-2.s3.amazonaws.com (sra-pub-src-2.s3.amazonaws.com)... 52.217.11.20\n",
            "Connecting to sra-pub-src-2.s3.amazonaws.com (sra-pub-src-2.s3.amazonaws.com)|52.217.11.20|:443... connected.\n",
            "HTTP request sent, awaiting response... 200 OK\n",
            "Length: 2886098108 (2.7G) [application/x-troff-man]\n",
            "Saving to: ‘MF03_GSa_S2_L004_R2_001.fastq.gz’\n",
            "\n",
            "MF03_GSa_S2_L004_R2 100%[===================>]   2.69G  38.1MB/s    in 65s     \n",
            "\n",
            "2020-10-06 19:59:52 (42.4 MB/s) - ‘MF03_GSa_S2_L004_R2_001.fastq.gz’ saved [2886098108/2886098108]\n",
            "\n"
          ],
          "name": "stdout"
        }
      ]
    },
    {
      "cell_type": "code",
      "metadata": {
        "id": "PC9oETW1pE9t",
        "outputId": "0052b7b0-fbb3-4fb7-b672-dd68d6cc5340",
        "colab": {
          "base_uri": "https://localhost:8080/",
          "height": 139
        }
      },
      "source": [
        "if bam:\n",
        "  # Download the corresponding Kallisto index to folder containing fastqs\n",
        "  !kb ref -d $species_kb -i index.idx -g t2g.txt -f1 transcriptome.fasta\n",
        "\n",
        "if not bam:\n",
        "  %cd /content\n",
        "\n",
        "  # Download the corresponding Kallisto index to content folder\n",
        "  !kb ref -d $species_kb -i index.idx -g t2g.txt -f1 transcriptome.fasta\n",
        "\n",
        "if not bam and not fastq_ffqlinks:\n",
        "  %cd /content/fastqs\n",
        "\n",
        "  # Download the corresponding Kallisto index to fastq folder\n",
        "  !kb ref -d $species_kb -i index.idx -g t2g.txt -f1 transcriptome.fasta"
      ],
      "execution_count": 10,
      "outputs": [
        {
          "output_type": "stream",
          "text": [
            "/content\n",
            "[2020-10-06 19:59:57,019]    INFO Downloading files for human from https://caltech.box.com/shared/static/v1nm7lpnqz5syh8dyzdk2zs8bglncfib.gz to tmp/v1nm7lpnqz5syh8dyzdk2zs8bglncfib.gz\n",
            "[2020-10-06 20:01:34,750]    INFO Extracting files from tmp/v1nm7lpnqz5syh8dyzdk2zs8bglncfib.gz\n",
            "/content/fastqs\n",
            "[2020-10-06 20:02:13,264]    INFO Downloading files for human from https://caltech.box.com/shared/static/v1nm7lpnqz5syh8dyzdk2zs8bglncfib.gz to tmp/v1nm7lpnqz5syh8dyzdk2zs8bglncfib.gz\n",
            "[2020-10-06 20:03:53,443]    INFO Extracting files from tmp/v1nm7lpnqz5syh8dyzdk2zs8bglncfib.gz\n"
          ],
          "name": "stdout"
        }
      ]
    },
    {
      "cell_type": "markdown",
      "metadata": {
        "id": "VInyuq1Dp7iz"
      },
      "source": [
        "# Process fastq files (modify kb command according to fastqs list)\n"
      ]
    },
    {
      "cell_type": "code",
      "metadata": {
        "id": "aA_SVX_yqPuD",
        "outputId": "58e3d63d-ca89-475e-cd17-3b98a7ea9f7b",
        "colab": {
          "base_uri": "https://localhost:8080/",
          "height": 323
        }
      },
      "source": [
        "fastqs = sorted(fastqs)\n",
        "fastqs"
      ],
      "execution_count": 17,
      "outputs": [
        {
          "output_type": "execute_result",
          "data": {
            "text/plain": [
              "['CALR783_S1_L002_R1_001.fastq.gz',\n",
              " 'CALR783_S1_L002_R2_001.fastq.gz',\n",
              " 'ET05_PC_S1_L003_R1_001.fastq.gz',\n",
              " 'ET05_PC_S1_L003_R2_001.fastq.gz',\n",
              " 'ET05_PC_S1_L004_R1_001.fastq.gz',\n",
              " 'ET05_PC_S1_L004_R2_001.fastq.gz',\n",
              " 'ET05_PC_S1_L005_R1_001.fastq.gz',\n",
              " 'ET05_PC_S1_L005_R2_001.fastq.gz',\n",
              " 'ET05_PC_S1_L006_R1_001.fastq.gz',\n",
              " 'ET05_PC_S1_L006_R2_001.fastq.gz',\n",
              " 'MF03_GSa_S2_L003_R1_001.fastq.gz',\n",
              " 'MF03_GSa_S2_L003_R2_001.fastq.gz',\n",
              " 'MF03_GSa_S2_L004_R1_001.fastq.gz',\n",
              " 'MF03_GSa_S2_L004_R2_001.fastq.gz',\n",
              " 'MF03_GSa_S2_L005_R1_001.fastq.gz',\n",
              " 'MF03_GSa_S2_L005_R2_001.fastq.gz',\n",
              " 'MF03_GSa_S2_L006_R1_001.fastq.gz',\n",
              " 'MF03_GSa_S2_L006_R2_001.fastq.gz']"
            ]
          },
          "metadata": {
            "tags": []
          },
          "execution_count": 17
        }
      ]
    },
    {
      "cell_type": "code",
      "metadata": {
        "id": "5qFzPj-0kZTi",
        "outputId": "e6185d3d-e23b-4c46-f312-0fdb36c11b2c",
        "colab": {
          "base_uri": "https://localhost:8080/",
          "height": 1000
        }
      },
      "source": [
        "\n",
        "\n",
        "if no_samples == 1:\n",
        "\n",
        "  # Write the kb count command as a string with all fastqs of the list as an input\n",
        "  cmd = \"kb count --h5ad -i index.idx -g t2g.txt -x \" + technology_kb + \" -o output\" + sample_id[0] + \" \"\\\n",
        "  + \"--filter bustools -t 2 --overwrite \" + \"'\" +  \"' '\".join(fastqs) + \"'\"\n",
        "  \n",
        "  # Execute it\n",
        "  !$cmd\n",
        "\n",
        "# If more than one sample, iterate through fastqs accordingly\n",
        "else:\n",
        "\n",
        "  # Initializa counter for fastq files\n",
        "  j = 0\n",
        "\n",
        "  # Loop over samples for analysis\n",
        "  for i in range(no_samples):\n",
        "\n",
        "    fastqs_to_analyze = fastqs[j:j + fastqs_per_sample[i]]\n",
        "    # Write the kb count command as a string\n",
        "    cmd = \"kb count --h5ad -i ../index.idx -g ../t2g.txt -x \" + technology_kb + \" -o output\" + sample_id[i] + \" \\\n",
        "    --filter bustools -t 2 --overwrite \" + \"'\" +  \"' '\".join(fastqs_to_analyze) + \"'\"\n",
        "\n",
        "    # Execute it\n",
        "    !$cmd\n",
        "\n",
        "    # Update j to move to the next set of fastq\n",
        "    j = j + fastqs_per_sample[i]\n",
        "\n",
        "\n",
        "\n",
        "\n",
        "\n"
      ],
      "execution_count": 18,
      "outputs": [
        {
          "output_type": "stream",
          "text": [
            "[2020-10-06 20:45:57,100]    INFO Generating BUS file from\n",
            "[2020-10-06 20:45:57,100]    INFO         CALR783_S1_L002_R1_001.fastq.gz\n",
            "[2020-10-06 20:45:57,100]    INFO         CALR783_S1_L002_R2_001.fastq.gz\n",
            "[2020-10-06 20:55:43,994]    INFO Sorting BUS file outputGSM3739217/output.bus to tmp/output.s.bus\n",
            "[2020-10-06 20:56:18,690]    INFO Whitelist not provided\n",
            "[2020-10-06 20:56:18,690]    INFO Copying pre-packaged 10XV2 whitelist to outputGSM3739217\n",
            "[2020-10-06 20:56:22,562]    INFO Inspecting BUS file tmp/output.s.bus\n",
            "[2020-10-06 20:56:36,426]    INFO Correcting BUS records in tmp/output.s.bus to tmp/output.s.c.bus with whitelist outputGSM3739217/10xv2_whitelist.txt\n",
            "[2020-10-06 20:57:03,778]    INFO Sorting BUS file tmp/output.s.c.bus to outputGSM3739217/output.unfiltered.bus\n",
            "[2020-10-06 20:57:29,355]    INFO Generating count matrix outputGSM3739217/counts_unfiltered/cells_x_genes from BUS file outputGSM3739217/output.unfiltered.bus\n",
            "[2020-10-06 20:57:42,366]    INFO Converting matrix outputGSM3739217/counts_unfiltered/cells_x_genes.mtx to h5ad outputGSM3739217/counts_unfiltered/adata.h5ad\n",
            "[2020-10-06 20:58:01,591]    INFO Filtering with bustools\n",
            "[2020-10-06 20:58:01,591]    INFO Generating whitelist outputGSM3739217/filter_barcodes.txt from BUS file outputGSM3739217/output.unfiltered.bus\n",
            "[2020-10-06 20:58:01,915]    INFO Capturing records from BUS file outputGSM3739217/output.unfiltered.bus to tmp/output.filtered.bus with capture list outputGSM3739217/filter_barcodes.txt\n",
            "[2020-10-06 20:58:05,509]    INFO Sorting BUS file tmp/output.filtered.bus to outputGSM3739217/output.filtered.bus\n",
            "[2020-10-06 20:58:27,777]    INFO Generating count matrix outputGSM3739217/counts_filtered/cells_x_genes from BUS file outputGSM3739217/output.filtered.bus\n",
            "[2020-10-06 20:58:41,087]    INFO Converting matrix outputGSM3739217/counts_filtered/cells_x_genes.mtx to h5ad outputGSM3739217/counts_filtered/adata.h5ad\n",
            "[2020-10-06 20:58:57,220]    INFO Generating BUS file from\n",
            "[2020-10-06 20:58:57,221]    INFO         ET05_PC_S1_L003_R1_001.fastq.gz\n",
            "[2020-10-06 20:58:57,221]    INFO         ET05_PC_S1_L003_R2_001.fastq.gz\n",
            "[2020-10-06 20:58:57,221]    INFO         ET05_PC_S1_L004_R1_001.fastq.gz\n",
            "[2020-10-06 20:58:57,221]    INFO         ET05_PC_S1_L004_R2_001.fastq.gz\n",
            "[2020-10-06 20:58:57,221]    INFO         ET05_PC_S1_L005_R1_001.fastq.gz\n",
            "[2020-10-06 20:58:57,221]    INFO         ET05_PC_S1_L005_R2_001.fastq.gz\n",
            "[2020-10-06 20:58:57,221]    INFO         ET05_PC_S1_L006_R1_001.fastq.gz\n",
            "[2020-10-06 20:58:57,221]    INFO         ET05_PC_S1_L006_R2_001.fastq.gz\n",
            "[2020-10-06 21:24:31,313]    INFO Sorting BUS file outputGSM3739218/output.bus to tmp/output.s.bus\n",
            "[2020-10-06 21:26:48,025]    INFO Whitelist not provided\n",
            "[2020-10-06 21:26:48,028]    INFO Copying pre-packaged 10XV2 whitelist to outputGSM3739218\n",
            "[2020-10-06 21:26:48,153]    INFO Inspecting BUS file tmp/output.s.bus\n",
            "[2020-10-06 21:27:08,789]    INFO Correcting BUS records in tmp/output.s.bus to tmp/output.s.c.bus with whitelist outputGSM3739218/10xv2_whitelist.txt\n",
            "[2020-10-06 21:27:30,722]    INFO Sorting BUS file tmp/output.s.c.bus to outputGSM3739218/output.unfiltered.bus\n",
            "[2020-10-06 21:27:33,414]    INFO Generating count matrix outputGSM3739218/counts_unfiltered/cells_x_genes from BUS file outputGSM3739218/output.unfiltered.bus\n",
            "[2020-10-06 21:27:36,741]    INFO Converting matrix outputGSM3739218/counts_unfiltered/cells_x_genes.mtx to h5ad outputGSM3739218/counts_unfiltered/adata.h5ad\n",
            "[2020-10-06 21:27:37,539]    INFO Filtering with bustools\n",
            "[2020-10-06 21:27:37,539]    INFO Generating whitelist outputGSM3739218/filter_barcodes.txt from BUS file outputGSM3739218/output.unfiltered.bus\n",
            "[2020-10-06 21:27:37,561]    INFO Capturing records from BUS file outputGSM3739218/output.unfiltered.bus to tmp/output.filtered.bus with capture list outputGSM3739218/filter_barcodes.txt\n",
            "[2020-10-06 21:27:37,648]    INFO Sorting BUS file tmp/output.filtered.bus to outputGSM3739218/output.filtered.bus\n",
            "[2020-10-06 21:27:40,303]    INFO Generating count matrix outputGSM3739218/counts_filtered/cells_x_genes from BUS file outputGSM3739218/output.filtered.bus\n",
            "[2020-10-06 21:27:43,399]    INFO Converting matrix outputGSM3739218/counts_filtered/cells_x_genes.mtx to h5ad outputGSM3739218/counts_filtered/adata.h5ad\n",
            "[2020-10-06 21:27:47,529]    INFO Generating BUS file from\n",
            "[2020-10-06 21:27:47,529]    INFO         MF03_GSa_S2_L003_R1_001.fastq.gz\n",
            "[2020-10-06 21:27:47,529]    INFO         MF03_GSa_S2_L003_R2_001.fastq.gz\n",
            "[2020-10-06 21:27:47,529]    INFO         MF03_GSa_S2_L004_R1_001.fastq.gz\n",
            "[2020-10-06 21:27:47,529]    INFO         MF03_GSa_S2_L004_R2_001.fastq.gz\n",
            "[2020-10-06 21:27:47,529]    INFO         MF03_GSa_S2_L005_R1_001.fastq.gz\n",
            "[2020-10-06 21:27:47,529]    INFO         MF03_GSa_S2_L005_R2_001.fastq.gz\n",
            "[2020-10-06 21:27:47,529]    INFO         MF03_GSa_S2_L006_R1_001.fastq.gz\n",
            "[2020-10-06 21:27:47,529]    INFO         MF03_GSa_S2_L006_R2_001.fastq.gz\n",
            "[2020-10-06 21:47:32,664]    INFO Sorting BUS file outputGSM3739219/output.bus to tmp/output.s.bus\n",
            "[2020-10-06 21:48:53,283]    INFO Whitelist not provided\n",
            "[2020-10-06 21:48:53,284]    INFO Copying pre-packaged 10XV2 whitelist to outputGSM3739219\n",
            "[2020-10-06 21:48:55,196]    INFO Inspecting BUS file tmp/output.s.bus\n",
            "[2020-10-06 21:49:09,733]    INFO Correcting BUS records in tmp/output.s.bus to tmp/output.s.c.bus with whitelist outputGSM3739219/10xv2_whitelist.txt\n",
            "[2020-10-06 21:49:30,537]    INFO Sorting BUS file tmp/output.s.c.bus to outputGSM3739219/output.unfiltered.bus\n",
            "[2020-10-06 21:49:33,269]    INFO Generating count matrix outputGSM3739219/counts_unfiltered/cells_x_genes from BUS file outputGSM3739219/output.unfiltered.bus\n",
            "[2020-10-06 21:49:36,443]    INFO Converting matrix outputGSM3739219/counts_unfiltered/cells_x_genes.mtx to h5ad outputGSM3739219/counts_unfiltered/adata.h5ad\n",
            "[2020-10-06 21:49:37,154]    INFO Filtering with bustools\n",
            "[2020-10-06 21:49:37,154]    INFO Generating whitelist outputGSM3739219/filter_barcodes.txt from BUS file outputGSM3739219/output.unfiltered.bus\n",
            "[2020-10-06 21:49:37,175]    INFO Capturing records from BUS file outputGSM3739219/output.unfiltered.bus to tmp/output.filtered.bus with capture list outputGSM3739219/filter_barcodes.txt\n",
            "[2020-10-06 21:49:37,250]    INFO Sorting BUS file tmp/output.filtered.bus to outputGSM3739219/output.filtered.bus\n",
            "[2020-10-06 21:49:39,863]    INFO Generating count matrix outputGSM3739219/counts_filtered/cells_x_genes from BUS file outputGSM3739219/output.filtered.bus\n",
            "[2020-10-06 21:49:42,918]    INFO Converting matrix outputGSM3739219/counts_filtered/cells_x_genes.mtx to h5ad outputGSM3739219/counts_filtered/adata.h5ad\n"
          ],
          "name": "stdout"
        }
      ]
    },
    {
      "cell_type": "markdown",
      "metadata": {
        "id": "tDijOZzrqhN2"
      },
      "source": [
        "# Load unfiltered matrix and assign filters to each matrix individually"
      ]
    },
    {
      "cell_type": "markdown",
      "metadata": {
        "id": "VkNLZh_pNFFw"
      },
      "source": [
        "## Load the unfiltered matrix (check dimensions)"
      ]
    },
    {
      "cell_type": "code",
      "metadata": {
        "id": "PppRNeV8AIyw"
      },
      "source": [
        "# Define dict to store data\n",
        "results = {}\n"
      ],
      "execution_count": 19,
      "outputs": []
    },
    {
      "cell_type": "code",
      "metadata": {
        "id": "pKmtGf3c_BiZ",
        "cellView": "both",
        "outputId": "5d83cc89-f1c8-4c90-bb0a-dd2168bec80c",
        "colab": {
          "base_uri": "https://localhost:8080/",
          "height": 68
        }
      },
      "source": [
        "# load the unfiltered matrix\n",
        "for i in range(no_samples):\n",
        "  results[sample_id[i]] = anndata.read_h5ad(\"output\" + sample_id[i] + \"/counts_unfiltered/adata.h5ad\")\n",
        "  results[sample_id[i]].var[\"gene_id\"] = results[sample_id[i]].var.index.values\n",
        "\n",
        "  t2g = pd.read_csv(\"t2g.txt\", header=None, names=[\"tid\", \"gene_id\", \"gene_name\"], sep=\"\\t\")\n",
        "  t2g.index = t2g.gene_id\n",
        "  t2g = t2g.loc[~t2g.index.duplicated(keep='first')]\n",
        "\n",
        "  results[sample_id[i]].var[\"gene_name\"] = results[sample_id[i]].var.gene_id.map(t2g[\"gene_name\"])\n",
        "  results[sample_id[i]].var.index = results[sample_id[i]].var[\"gene_name\"]\n",
        "  print(\"The unfiltered matrix \" + sample_id[i] + \" contains {} cells by {} genes\".format(len(results[sample_id[i]].obs), len(results[sample_id[i]].var)))\n",
        "\n",
        "  results[sample_id[i]].obs[\"cell_counts\"] = results[sample_id[i]].X.sum(axis=1)\n",
        "  results[sample_id[i]].var[\"gene_counts\"] = nd(results[sample_id[i]].X.sum(axis=0))\n",
        "\n",
        "  results[sample_id[i]].obs[\"n_genes\"] = nd((results[sample_id[i]].X>0).sum(axis=1))\n",
        "  results[sample_id[i]].var[\"n_cells\"] = nd((results[sample_id[i]].X>0).sum(axis=0))\n",
        "\n",
        "  mito_genes = results[sample_id[i]].var_names.str.startswith(\"MT-\" or \"mt-\") \n",
        "  results[sample_id[i]].obs[\"percent_mito\"] = results[sample_id[i]][:,mito_genes].X.sum(axis=1)/results[sample_id[i]].X.sum(axis=1)*100\n",
        "\n",
        "  # Changing the name of the index is necessary to write the file (it won't work with duplicated names)\n",
        "  results[sample_id[i]].var.index.name = \"index\"\n",
        "\n"
      ],
      "execution_count": 21,
      "outputs": [
        {
          "output_type": "stream",
          "text": [
            "The unfiltered matrix GSM3739217 contains 307422 cells by 60623 genes\n",
            "The unfiltered matrix GSM3739218 contains 38175 cells by 60623 genes\n",
            "The unfiltered matrix GSM3739219 contains 35956 cells by 60623 genes\n"
          ],
          "name": "stdout"
        }
      ]
    },
    {
      "cell_type": "markdown",
      "metadata": {
        "id": "hDAUH3eH_2RA"
      },
      "source": [
        "## Assign filters for each matrix individually"
      ]
    },
    {
      "cell_type": "code",
      "metadata": {
        "id": "ukinuaKk_6Po"
      },
      "source": [
        "# Modify this manually to change sample after having assigned the \"expected_num_cells\" and \"mito_criteria\" parameters\n",
        "samp_n = 0\n",
        "\n",
        "\n",
        "# Filtering criteria\n",
        "cell_threshold = 100\n",
        "gene_threshold = 3\n",
        "\n",
        "mito_criteria = 30"
      ],
      "execution_count": 34,
      "outputs": []
    },
    {
      "cell_type": "code",
      "metadata": {
        "id": "a5wZB5pEfwNs",
        "cellView": "form",
        "outputId": "fa45d57d-8d1c-453d-f237-ea76e90512b8",
        "colab": {
          "base_uri": "https://localhost:8080/",
          "height": 726
        }
      },
      "source": [
        "\n",
        "expected_num_cells = 300#@param {type:\"integer\"}\n",
        "knee = np.sort(nd(results[sample_id[i]].X.sum(axis=1)))[::-1]\n",
        "\n",
        "fig, ax = plt.subplots(figsize=(5, 5))\n",
        "\n",
        "x = knee\n",
        "y = range(len(knee))\n",
        "\n",
        "ax.loglog(x, y, linewidth=5, color=\"g\")\n",
        "\n",
        "ax.axvline(x=knee[expected_num_cells], linewidth=3, color=\"k\")\n",
        "ax.axhline(y=expected_num_cells, linewidth=3, color=\"k\")\n",
        "\n",
        "ax.set_xlabel(\"UMI Counts\")\n",
        "ax.set_ylabel(\"Set of Barcodes\")\n",
        "\n",
        "plt.show()\n",
        "\n",
        "cell_threshold = knee[expected_num_cells]\n",
        "\n",
        "results[\"cell_threshold\" + sample_id[samp_n]] = knee[expected_num_cells]\n",
        "\n",
        "print (\"Cells were filtered down to \" + str(expected_num_cells) + \" with at least \" + str(cell_threshold) + \" UMIs\")\n",
        "\n",
        "\n",
        "mito_criteria = 18#@param {type:\"integer\"}\n",
        "results[\"mito_criteria\" + sample_id[samp_n]] = mito_criteria\n",
        "\n",
        "fig, ax = plt.subplots(figsize=(5,5))\n",
        "\n",
        "\n",
        "x = nd(results[sample_id[i]].obs[\"cell_counts\"][results[sample_id[i]].obs[\"cell_counts\"] > cell_threshold])\n",
        "y = nd(results[sample_id[i]].obs[\"percent_mito\"][results[sample_id[i]].obs[\"cell_counts\"] > cell_threshold])\n",
        "\n",
        "ax.scatter(x, y, color=\"green\", alpha=0.1)\n",
        "\n",
        "ax.axhline(y=mito_criteria, linestyle=\"--\", color=\"k\")\n",
        "\n",
        "\n",
        "ax.set_xlabel(\"UMI Counts\")\n",
        "ax.set_ylabel(\"Percent mito\")\n",
        "\n",
        "\n",
        "plt.show()\n",
        "\n",
        "print(\"We select \" + str(mito_criteria) + \" % as the mitochondrial content threshold\")"
      ],
      "execution_count": 35,
      "outputs": [
        {
          "output_type": "display_data",
          "data": {
            "image/png": "[encoded data removed]",
            "text/plain": [
              "<Figure size 360x360 with 1 Axes>"
            ]
          },
          "metadata": {
            "tags": [],
            "image/png": {
              "width": 359,
              "height": 337
            },
            "needs_background": "light"
          }
        },
        {
          "output_type": "stream",
          "text": [
            "Cells were filtered down to 300 with at least 116.0 UMIs\n"
          ],
          "name": "stdout"
        },
        {
          "output_type": "display_data",
          "data": {
            "image/png": "[encoded data removed]",
            "text/plain": [
              "<Figure size 360x360 with 1 Axes>"
            ]
          },
          "metadata": {
            "tags": [],
            "image/png": {
              "width": 362,
              "height": 338
            },
            "needs_background": "light"
          }
        },
        {
          "output_type": "stream",
          "text": [
            "We select 18 % as the mitochondrial content threshold\n"
          ],
          "name": "stdout"
        }
      ]
    },
    {
      "cell_type": "markdown",
      "metadata": {
        "id": "eP9j2ouPq9KY"
      },
      "source": [
        "# Filter matrix"
      ]
    },
    {
      "cell_type": "code",
      "metadata": {
        "id": "sE51WUA3gVmG"
      },
      "source": [
        "for i in range(number_of_samples):\n",
        "  results[sample_id[i]].obs[\"pass_count_filter\"] = results[sample_id[i]].obs[\"cell_counts\"] > results[\"cell_threshold\" + sample_id[i]]\n",
        "  results[sample_id[i]].obs[\"pass_mito_filter\"] = results[sample_id[i]].obs.percent_mito < results[\"mito_criteria\" + sample_id[i]]\n",
        "  results[sample_id[i]].var[\"pass_gene_filter\"] = results[sample_id[i]].var[\"n_cells\"] > gene_threshold\n",
        "\n",
        "  cell_mask = np.logical_and(results[sample_id[i]].obs[\"pass_count_filter\"].values, results[sample_id[i]].obs[\"pass_mito_filter\"].values)\n",
        "  gene_mask = results[sample_id[i]].var[\"pass_gene_filter\"].values\n",
        "\n",
        "  print(\"Current Shape: {:,} cells x {:,} genes\".format(results[sample_id[i]].shape[0], results[sample_id[i]].shape[1]))\n",
        "  print(\"    New shape: {:,} cells x {:,} genes\".format(cell_mask.sum(), gene_mask.sum()))\n",
        "  results[\"data_\" + sample_id[i]] = results[sample_id[i]][cell_mask, gene_mask]"
      ],
      "execution_count": null,
      "outputs": []
    },
    {
      "cell_type": "markdown",
      "metadata": {
        "id": "BxPA81yj4TlU"
      },
      "source": [
        "# Anotate and write the Anndata object"
      ]
    },
    {
      "cell_type": "code",
      "metadata": {
        "id": "O-q_Qj2U4kDU"
      },
      "source": [
        "for i in range(number_of_samples):\n",
        "\n",
        "\n",
        "  results[\"data_\" + sample_id[i]].uns[\"database_id\"] = database_id[samp_n]\n",
        "\n",
        "  results[\"data_\" + sample_id[i]].uns[\"tissue\"] = tissue[samp_n]\n",
        "\n",
        "  results[\"data_\" + sample_id[i]].uns[\"cell_type\"] = cell_type[samp_n]\n",
        "\n",
        "  results[\"data_\" + sample_id[i]].uns[\"sample_id\"] = sample_id[samp_n]\n",
        "\n",
        "  results[\"data_\" + sample_id[i]].uns[\"condition\"] = condition[samp_n]\n",
        "\n",
        "  results[\"data_\" + sample_id[i]].uns[\"species\"] = species[samp_n]\n",
        "\n",
        "  results[\"data_\" + sample_id[i]].uns[\"technology\"] = technology[samp_n]\n",
        "\n",
        "  results[\"data_\" + sample_id[i]].uns[\"paper\"] = paper[samp_n]\n",
        "\n",
        "  results[\"data_\" + sample_id[i]].uns[\"figure\"] = figure[samp_n]"
      ],
      "execution_count": null,
      "outputs": []
    },
    {
      "cell_type": "code",
      "metadata": {
        "id": "ICc77J94_Kye"
      },
      "source": [
        "%cd /content\n",
        "\n",
        "for i in range(number_of_samples):\n",
        "\n",
        "  results[\"data_\" + sample_id[i]].write(\"result\" + sample_id[i])"
      ],
      "execution_count": null,
      "outputs": []
    }
  ]
}