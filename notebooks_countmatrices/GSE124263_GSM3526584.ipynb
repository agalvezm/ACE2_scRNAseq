{
  "nbformat": 4,
  "nbformat_minor": 0,
  "metadata": {
    "colab": {
      "name": "GSE124263_GSM3526584.ipynb",
      "provenance": [],
      "collapsed_sections": [],
      "toc_visible": true,
      "include_colab_link": true
    },
    "kernelspec": {
      "name": "python3",
      "display_name": "Python 3"
    }
  },
  "cells": [
    {
      "cell_type": "markdown",
      "metadata": {
        "id": "view-in-github",
        "colab_type": "text"
      },
      "source": [
        "<a href=\"https://colab.research.google.com/github/agalvezm/ACE2_scRNAseq/blob/master/notebooks_countmatrices/GSE124263_GSM3526584.ipynb\" target=\"_parent\"><img src=\"https://colab.research.google.com/assets/colab-badge.svg\" alt=\"Open In Colab\"/></a>"
      ]
    },
    {
      "cell_type": "markdown",
      "metadata": {
        "id": "V9ryXluJsJw9"
      },
      "source": [
        "# GSE124263_GSM3526584"
      ]
    },
    {
      "cell_type": "code",
      "metadata": {
        "id": "ggNFAQJCRh6P"
      },
      "source": [
        "# define the values for the analysis\n",
        "\n",
        "# accession id for the data\n",
        "id = \"GSE124263\"\n",
        "samp_id = [\"GSM3526584\"]\n",
        "\n",
        "# If only bam available files, set bam = True, Fill link and filename\n",
        "bam = False\n",
        "\n",
        "# If fastq links available but are not ffq links\n",
        "fastq_ffqlinks = True\n",
        "\n",
        "\n",
        "if bam:\n",
        "  # Assign link to python variable\n",
        "  link_to_bam = \"\"\n",
        "  \n",
        "  # Assigns the link to the bash variable BAM_LINK. To be used by wget\n",
        "  %env BAM_LINK=$link_to_bam\n",
        "\n",
        "  # Assign filename to python variable. Used to convert to fastq and remove bam file to fastq after conversion\n",
        "\n",
        "  bam_filename=\"\"\n",
        "\n",
        "\n",
        "if not bam:\n",
        "\n",
        "  # Copy and paste the links from the ACE2 scRNAseq datasets google  spreadsheet\n",
        "\n",
        "  links_raw = \"ftp://ftp.sra.ebi.ac.uk/vol1/fastq/SRR836/008/SRR8363218/SRR8363218_1.fastq.gz\tftp://ftp.sra.ebi.ac.uk/vol1/fastq/SRR836/008/SRR8363218/SRR8363218_2.fastq.gz\tftp://ftp.sra.ebi.ac.uk/vol1/fastq/SRR836/009/SRR8363219/SRR8363219_1.fastq.gz\tftp://ftp.sra.ebi.ac.uk/vol1/fastq/SRR836/009/SRR8363219/SRR8363219_2.fastq.gz\tftp://ftp.sra.ebi.ac.uk/vol1/fastq/SRR836/000/SRR8363220/SRR8363220_1.fastq.gz\tftp://ftp.sra.ebi.ac.uk/vol1/fastq/SRR836/000/SRR8363220/SRR8363220_2.fastq.gz\tftp://ftp.sra.ebi.ac.uk/vol1/fastq/SRR836/001/SRR8363221/SRR8363221_1.fastq.gz\tftp://ftp.sra.ebi.ac.uk/vol1/fastq/SRR836/001/SRR8363221/SRR8363221_2.fastq.gz\tftp://ftp.sra.ebi.ac.uk/vol1/fastq/SRR836/002/SRR8363222/SRR8363222_1.fastq.gz\tftp://ftp.sra.ebi.ac.uk/vol1/fastq/SRR836/002/SRR8363222/SRR8363222_2.fastq.gz\tftp://ftp.sra.ebi.ac.uk/vol1/fastq/SRR836/003/SRR8363223/SRR8363223_1.fastq.gz\tftp://ftp.sra.ebi.ac.uk/vol1/fastq/SRR836/003/SRR8363223/SRR8363223_2.fastq.gz\tftp://ftp.sra.ebi.ac.uk/vol1/fastq/SRR836/004/SRR8363224/SRR8363224_1.fastq.gz\tftp://ftp.sra.ebi.ac.uk/vol1/fastq/SRR836/004/SRR8363224/SRR8363224_2.fastq.gz\tftp://ftp.sra.ebi.ac.uk/vol1/fastq/SRR836/005/SRR8363225/SRR8363225_1.fastq.gz\tftp://ftp.sra.ebi.ac.uk/vol1/fastq/SRR836/005/SRR8363225/SRR8363225_2.fastq.gz\tftp://ftp.sra.ebi.ac.uk/vol1/fastq/SRR836/006/SRR8363226/SRR8363226_1.fastq.gz\tftp://ftp.sra.ebi.ac.uk/vol1/fastq/SRR836/006/SRR8363226/SRR8363226_2.fastq.gz\tftp://ftp.sra.ebi.ac.uk/vol1/fastq/SRR836/007/SRR8363227/SRR8363227_1.fastq.gz\tftp://ftp.sra.ebi.ac.uk/vol1/fastq/SRR836/007/SRR8363227/SRR8363227_2.fastq.gz\tftp://ftp.sra.ebi.ac.uk/vol1/fastq/SRR836/008/SRR8363228/SRR8363228_1.fastq.gz\tftp://ftp.sra.ebi.ac.uk/vol1/fastq/SRR836/008/SRR8363228/SRR8363228_2.fastq.gz\tftp://ftp.sra.ebi.ac.uk/vol1/fastq/SRR836/009/SRR8363229/SRR8363229_1.fastq.gz\tftp://ftp.sra.ebi.ac.uk/vol1/fastq/SRR836/009/SRR8363229/SRR8363229_2.fastq.gz\tftp://ftp.sra.ebi.ac.uk/vol1/fastq/SRR836/000/SRR8363230/SRR8363230_1.fastq.gz\tftp://ftp.sra.ebi.ac.uk/vol1/fastq/SRR836/000/SRR8363230/SRR8363230_2.fastq.gz\tftp://ftp.sra.ebi.ac.uk/vol1/fastq/SRR836/001/SRR8363231/SRR8363231_1.fastq.gz\tftp://ftp.sra.ebi.ac.uk/vol1/fastq/SRR836/001/SRR8363231/SRR8363231_2.fastq.gz\tftp://ftp.sra.ebi.ac.uk/vol1/fastq/SRR836/002/SRR8363232/SRR8363232_1.fastq.gz\tftp://ftp.sra.ebi.ac.uk/vol1/fastq/SRR836/002/SRR8363232/SRR8363232_2.fastq.gz\tftp://ftp.sra.ebi.ac.uk/vol1/fastq/SRR836/003/SRR8363233/SRR8363233_1.fastq.gz\tftp://ftp.sra.ebi.ac.uk/vol1/fastq/SRR836/003/SRR8363233/SRR8363233_2.fastq.gz\tftp://ftp.sra.ebi.ac.uk/vol1/fastq/SRR836/004/SRR8363234/SRR8363234_1.fastq.gz\tftp://ftp.sra.ebi.ac.uk/vol1/fastq/SRR836/004/SRR8363234/SRR8363234_2.fastq.gz\tftp://ftp.sra.ebi.ac.uk/vol1/fastq/SRR836/005/SRR8363235/SRR8363235_1.fastq.gz\tftp://ftp.sra.ebi.ac.uk/vol1/fastq/SRR836/005/SRR8363235/SRR8363235_2.fastq.gz\tftp://ftp.sra.ebi.ac.uk/vol1/fastq/SRR836/006/SRR8363236/SRR8363236_1.fastq.gz\tftp://ftp.sra.ebi.ac.uk/vol1/fastq/SRR836/006/SRR8363236/SRR8363236_2.fastq.gz\tftp://ftp.sra.ebi.ac.uk/vol1/fastq/SRR836/007/SRR8363237/SRR8363237_1.fastq.gz\tftp://ftp.sra.ebi.ac.uk/vol1/fastq/SRR836/007/SRR8363237/SRR8363237_2.fastq.gz\tftp://ftp.sra.ebi.ac.uk/vol1/fastq/SRR836/008/SRR8363238/SRR8363238_1.fastq.gz\tftp://ftp.sra.ebi.ac.uk/vol1/fastq/SRR836/008/SRR8363238/SRR8363238_2.fastq.gz\tftp://ftp.sra.ebi.ac.uk/vol1/fastq/SRR836/009/SRR8363239/SRR8363239_1.fastq.gz\tftp://ftp.sra.ebi.ac.uk/vol1/fastq/SRR836/009/SRR8363239/SRR8363239_2.fastq.gz\tftp://ftp.sra.ebi.ac.uk/vol1/fastq/SRR836/000/SRR8363240/SRR8363240_1.fastq.gz\tftp://ftp.sra.ebi.ac.uk/vol1/fastq/SRR836/000/SRR8363240/SRR8363240_2.fastq.gz\tftp://ftp.sra.ebi.ac.uk/vol1/fastq/SRR836/001/SRR8363241/SRR8363241_1.fastq.gz\tftp://ftp.sra.ebi.ac.uk/vol1/fastq/SRR836/001/SRR8363241/SRR8363241_2.fastq.gz\"\n",
        "\n",
        "  # Convert it to a list where each link is an element\n",
        "  \n",
        "  fastqs = links_raw.split()\n"
      ],
      "execution_count": 14,
      "outputs": []
    },
    {
      "cell_type": "code",
      "metadata": {
        "id": "5R3tPDqnoJUn"
      },
      "source": [
        "no_samples = 1\n",
        "\n",
        "fastqs_per_sample = [4, 8, 8] \n",
        "\n",
        "sample_id = samp_id\n",
        "\n",
        "database_id = [id] * no_samples\n",
        "\n",
        "tissue = [\"testis\"] * no_samples\n",
        "\n",
        "cell_type = [\"unfractioned\"] * no_samples\n",
        "\n",
        "condition = [\"neonatal day 2 unfractionated\"] * no_samples\n",
        "\n",
        "species = [\"human\"] * no_samples\n",
        "\n",
        "technology = [\"10xv2\"] * no_samples\n",
        "\n",
        "paper = [\"Muus et al 2020\"] * no_samples\n",
        "\n",
        "figure = [\"Fig 1 a,b  ED Fig 1 a,b,c,d  ED Fig 2 a,b,c,d,e\"] * no_samples\n",
        "\n",
        "\n",
        "# Set string variables for kb functions\n",
        "\n",
        "species_kb = species[0]\n",
        "\n",
        "technology_kb = technology[0]\n",
        "\n"
      ],
      "execution_count": 15,
      "outputs": []
    },
    {
      "cell_type": "markdown",
      "metadata": {
        "id": "FPwL0-_-KSAw"
      },
      "source": [
        "# Imports and installs"
      ]
    },
    {
      "cell_type": "code",
      "metadata": {
        "id": "1HSlUGZEp3oP",
        "outputId": "06ddbbc4-1890-49c0-c9a9-1f225388e175",
        "colab": {
          "base_uri": "https://localhost:8080/"
        }
      },
      "source": [
        "# install and import necessary software\n",
        "\n",
        "# Install kb and scanpy\n",
        "!pip -q install kb-python \n",
        "!pip -q install scanpy\n",
        "\n",
        "import re\n",
        "import os\n",
        "\n",
        "# Setup\n",
        "\n",
        "import anndata\n",
        "import pandas as pd\n",
        "import numpy as np\n",
        "import matplotlib.pyplot as plt\n",
        "import matplotlib as mpl\n",
        "import matplotlib.patches as mpatches\n",
        "import scanpy as sc\n",
        "from scipy import stats\n",
        "\n",
        "from collections import OrderedDict\n",
        "from sklearn.decomposition import TruncatedSVD\n",
        "from sklearn.manifold import TSNE\n",
        "from sklearn.preprocessing import scale\n",
        "\n",
        "from sklearn.cluster import KMeans\n",
        "from sklearn.preprocessing import normalize\n",
        "from sklearn.preprocessing import LabelEncoder\n",
        "from sklearn.neighbors import NeighborhoodComponentsAnalysis\n",
        "from matplotlib import cm\n",
        "from matplotlib.lines import Line2D\n",
        "\n",
        "def nd(arr):\n",
        "    return np.asarray(arr).reshape(-1)\n",
        "def yex(ax):\n",
        "    lims = [np.min([ax.get_xlim(), ax.get_ylim()]),\n",
        "            np.max([ax.get_xlim(), ax.get_ylim()])]\n",
        "\n",
        "    # now plot both limits against eachother\n",
        "    ax.plot(lims, lims, 'k-', alpha=0.75, zorder=0)\n",
        "    ax.set_aspect('equal')\n",
        "    ax.set_xlim(lims)\n",
        "    ax.set_ylim(lims)\n",
        "    return ax\n",
        "\n",
        "def trim_axs(axs, N):\n",
        "    \"\"\"little helper to massage the axs list to have correct length...\"\"\"\n",
        "    axs = axs.flat\n",
        "    for ax in axs[N:]:\n",
        "        ax.remove()\n",
        "    return axs[:N]\n",
        "\n",
        "import warnings\n",
        "warnings.filterwarnings('ignore')\n",
        "\n",
        "fsize=20\n",
        "\n",
        "plt.rcParams.update({'font.size': fsize})\n",
        "%config InlineBackend.figure_format = 'retina'"
      ],
      "execution_count": 3,
      "outputs": [
        {
          "output_type": "stream",
          "text": [
            "\u001b[K     |████████████████████████████████| 35.4MB 127kB/s \n",
            "\u001b[K     |████████████████████████████████| 51kB 5.2MB/s \n",
            "\u001b[K     |████████████████████████████████| 122kB 53.5MB/s \n",
            "\u001b[K     |████████████████████████████████| 112kB 54.3MB/s \n",
            "\u001b[?25h  Building wheel for loompy (setup.py) ... \u001b[?25l\u001b[?25hdone\n",
            "  Building wheel for numpy-groupies (setup.py) ... \u001b[?25l\u001b[?25hdone\n",
            "\u001b[K     |████████████████████████████████| 7.7MB 5.9MB/s \n",
            "\u001b[K     |████████████████████████████████| 51kB 5.2MB/s \n",
            "\u001b[K     |████████████████████████████████| 61kB 5.3MB/s \n",
            "\u001b[?25h  Building wheel for sinfo (setup.py) ... \u001b[?25l\u001b[?25hdone\n"
          ],
          "name": "stdout"
        }
      ]
    },
    {
      "cell_type": "markdown",
      "metadata": {
        "id": "7V6FbosVrvP4"
      },
      "source": [
        "# Downloads: (bam (if bam) and index"
      ]
    },
    {
      "cell_type": "code",
      "metadata": {
        "id": "q46hw4zqKUPS"
      },
      "source": [
        "if bam:\n",
        "\n",
        "  # Install bamtofastq from 10x website (only bam files available)\n",
        "  !wget http://cf.10xgenomics.com/misc/bamtofastq-1.2.0\n",
        "  !chmod +x bamtofastq-1.2.0\n",
        "  # Download the bam file\n",
        "  !wget -- continue ${BAM_LINK}\n",
        "\n",
        "\n"
      ],
      "execution_count": 4,
      "outputs": []
    },
    {
      "cell_type": "code",
      "metadata": {
        "id": "tDQlrjtqNF0m"
      },
      "source": [
        "if bam:\n",
        "  # Convert to fastq\n",
        "  !./bamtofastq-1.2.0 --reads-per-fastq=500000000 $bam_filename ./fastqs\\\n",
        "\n",
        "  # Remove original bam file to save space\n",
        "  !rm $bam_filename\n"
      ],
      "execution_count": 5,
      "outputs": []
    },
    {
      "cell_type": "code",
      "metadata": {
        "id": "SXRDRphvqcLe"
      },
      "source": [
        "# Store fastq names on a list\n",
        "\n",
        "if bam:\n",
        "  # cd into fastqs folder\n",
        "  %cd /content/fastqs\n",
        "\n",
        "  #store the name of the folder generated by bamtofastq\n",
        "  _filename = os.listdir()[0]\n",
        "\n",
        "  # cd into that folder\n",
        "  %cd $_filename\n",
        "\n",
        "  # store fastq names in a list\n",
        "  fastqs = os.listdir()\n",
        "\n",
        "\n",
        "  # Remove I1 and R3 reads not relevant for our analysis\n",
        "\n",
        "  # Initialize list containing elements to remove\n",
        "  remov_elem = []\n",
        "\n",
        "  print (\"\\n\\nThis is the complete list of fastqs:\\n -----------\")\n",
        "  for elem in fastqs:\n",
        "    print (elem)\n",
        "\n",
        "  # Search index (I1 or R3) fastqs and remove them from list\n",
        "  for elem in fastqs:\n",
        "    if re.search(\"_R3_\", elem) or re.search(\"_I1_\", elem):\n",
        "      remov_elem = remov_elem +[elem]\n",
        "\n",
        "  fastqs = [elem for elem in fastqs if elem not in remov_elem] \n",
        "\n",
        "  print (\"\\n\\nThis is the filtered list of fastqs:\\n -----------\")\n",
        "  for elem in fastqs:\n",
        "    print (elem)\n"
      ],
      "execution_count": 6,
      "outputs": []
    },
    {
      "cell_type": "code",
      "metadata": {
        "id": "ZnFcqcSgjLBw"
      },
      "source": [
        "# Remove fastqs that wont be analyzed to save space\n",
        "if bam:\n",
        "  for elem in remov_elem:\n",
        "    !rm $elem"
      ],
      "execution_count": 7,
      "outputs": []
    },
    {
      "cell_type": "code",
      "metadata": {
        "id": "FLVS8aB7Dm6J"
      },
      "source": [
        "if bam:\n",
        "  # sort fastqs alphabetically to get R1 and R2 in order\n",
        "  fastqs = sorted(fastqs)"
      ],
      "execution_count": 8,
      "outputs": []
    },
    {
      "cell_type": "code",
      "metadata": {
        "id": "FE9gWbQgpBfR"
      },
      "source": [
        "# wget fastqs from non ffq links in fastqs folder\n",
        "if not bam and not fastq_ffqlinks:\n",
        "  !mkdir fastqs\n",
        "  %cd fastqs\n",
        "  for link in fastqs:\n",
        "    !wget $link --continue\n",
        "\n",
        "  # update fastqs variable with name of files\n",
        "  fastqs = sorted(os.listdir())"
      ],
      "execution_count": 9,
      "outputs": []
    },
    {
      "cell_type": "code",
      "metadata": {
        "id": "PC9oETW1pE9t",
        "outputId": "80f1ba17-99c2-4ea5-bcdb-cb757fcaa813",
        "colab": {
          "base_uri": "https://localhost:8080/"
        }
      },
      "source": [
        "if bam:\n",
        "  # Download the corresponding Kallisto index to folder containing fastqs\n",
        "  !kb ref -d $species_kb -i index.idx -g t2g.txt -f1 transcriptome.fasta\n",
        "\n",
        "if not bam and fastq_ffqlinks:\n",
        "  %cd /content\n",
        "\n",
        "  # Download the corresponding Kallisto index to content folder\n",
        "  !kb ref -d $species_kb -i index.idx -g t2g.txt -f1 transcriptome.fasta\n",
        "\n",
        "if not bam and not fastq_ffqlinks:\n",
        "  %cd /content/fastqs\n",
        "\n",
        "  # Download the corresponding Kallisto index to fastq folder\n",
        "  !kb ref -d $species_kb -i index.idx -g t2g.txt -f1 transcriptome.fasta"
      ],
      "execution_count": 10,
      "outputs": [
        {
          "output_type": "stream",
          "text": [
            "/content\n",
            "[2020-11-02 17:24:50,167]    INFO Downloading files for human from https://caltech.box.com/shared/static/v1nm7lpnqz5syh8dyzdk2zs8bglncfib.gz to tmp/v1nm7lpnqz5syh8dyzdk2zs8bglncfib.gz\n",
            "[2020-11-02 17:28:16,158]    INFO Extracting files from tmp/v1nm7lpnqz5syh8dyzdk2zs8bglncfib.gz\n"
          ],
          "name": "stdout"
        }
      ]
    },
    {
      "cell_type": "code",
      "metadata": {
        "id": "vHVNa51Cp9Nr",
        "outputId": "7c985b43-b955-44e0-c6ac-07eb452f2c75",
        "colab": {
          "base_uri": "https://localhost:8080/"
        }
      },
      "source": [
        "# Check to make sure the metadata is in the right order after sorting\n",
        "print(fastqs)"
      ],
      "execution_count": 16,
      "outputs": [
        {
          "output_type": "stream",
          "text": [
            "['ftp://ftp.sra.ebi.ac.uk/vol1/fastq/SRR836/008/SRR8363218/SRR8363218_1.fastq.gz', 'ftp://ftp.sra.ebi.ac.uk/vol1/fastq/SRR836/008/SRR8363218/SRR8363218_2.fastq.gz', 'ftp://ftp.sra.ebi.ac.uk/vol1/fastq/SRR836/009/SRR8363219/SRR8363219_1.fastq.gz', 'ftp://ftp.sra.ebi.ac.uk/vol1/fastq/SRR836/009/SRR8363219/SRR8363219_2.fastq.gz', 'ftp://ftp.sra.ebi.ac.uk/vol1/fastq/SRR836/000/SRR8363220/SRR8363220_1.fastq.gz', 'ftp://ftp.sra.ebi.ac.uk/vol1/fastq/SRR836/000/SRR8363220/SRR8363220_2.fastq.gz', 'ftp://ftp.sra.ebi.ac.uk/vol1/fastq/SRR836/001/SRR8363221/SRR8363221_1.fastq.gz', 'ftp://ftp.sra.ebi.ac.uk/vol1/fastq/SRR836/001/SRR8363221/SRR8363221_2.fastq.gz', 'ftp://ftp.sra.ebi.ac.uk/vol1/fastq/SRR836/002/SRR8363222/SRR8363222_1.fastq.gz', 'ftp://ftp.sra.ebi.ac.uk/vol1/fastq/SRR836/002/SRR8363222/SRR8363222_2.fastq.gz', 'ftp://ftp.sra.ebi.ac.uk/vol1/fastq/SRR836/003/SRR8363223/SRR8363223_1.fastq.gz', 'ftp://ftp.sra.ebi.ac.uk/vol1/fastq/SRR836/003/SRR8363223/SRR8363223_2.fastq.gz', 'ftp://ftp.sra.ebi.ac.uk/vol1/fastq/SRR836/004/SRR8363224/SRR8363224_1.fastq.gz', 'ftp://ftp.sra.ebi.ac.uk/vol1/fastq/SRR836/004/SRR8363224/SRR8363224_2.fastq.gz', 'ftp://ftp.sra.ebi.ac.uk/vol1/fastq/SRR836/005/SRR8363225/SRR8363225_1.fastq.gz', 'ftp://ftp.sra.ebi.ac.uk/vol1/fastq/SRR836/005/SRR8363225/SRR8363225_2.fastq.gz', 'ftp://ftp.sra.ebi.ac.uk/vol1/fastq/SRR836/006/SRR8363226/SRR8363226_1.fastq.gz', 'ftp://ftp.sra.ebi.ac.uk/vol1/fastq/SRR836/006/SRR8363226/SRR8363226_2.fastq.gz', 'ftp://ftp.sra.ebi.ac.uk/vol1/fastq/SRR836/007/SRR8363227/SRR8363227_1.fastq.gz', 'ftp://ftp.sra.ebi.ac.uk/vol1/fastq/SRR836/007/SRR8363227/SRR8363227_2.fastq.gz', 'ftp://ftp.sra.ebi.ac.uk/vol1/fastq/SRR836/008/SRR8363228/SRR8363228_1.fastq.gz', 'ftp://ftp.sra.ebi.ac.uk/vol1/fastq/SRR836/008/SRR8363228/SRR8363228_2.fastq.gz', 'ftp://ftp.sra.ebi.ac.uk/vol1/fastq/SRR836/009/SRR8363229/SRR8363229_1.fastq.gz', 'ftp://ftp.sra.ebi.ac.uk/vol1/fastq/SRR836/009/SRR8363229/SRR8363229_2.fastq.gz', 'ftp://ftp.sra.ebi.ac.uk/vol1/fastq/SRR836/000/SRR8363230/SRR8363230_1.fastq.gz', 'ftp://ftp.sra.ebi.ac.uk/vol1/fastq/SRR836/000/SRR8363230/SRR8363230_2.fastq.gz', 'ftp://ftp.sra.ebi.ac.uk/vol1/fastq/SRR836/001/SRR8363231/SRR8363231_1.fastq.gz', 'ftp://ftp.sra.ebi.ac.uk/vol1/fastq/SRR836/001/SRR8363231/SRR8363231_2.fastq.gz', 'ftp://ftp.sra.ebi.ac.uk/vol1/fastq/SRR836/002/SRR8363232/SRR8363232_1.fastq.gz', 'ftp://ftp.sra.ebi.ac.uk/vol1/fastq/SRR836/002/SRR8363232/SRR8363232_2.fastq.gz', 'ftp://ftp.sra.ebi.ac.uk/vol1/fastq/SRR836/003/SRR8363233/SRR8363233_1.fastq.gz', 'ftp://ftp.sra.ebi.ac.uk/vol1/fastq/SRR836/003/SRR8363233/SRR8363233_2.fastq.gz', 'ftp://ftp.sra.ebi.ac.uk/vol1/fastq/SRR836/004/SRR8363234/SRR8363234_1.fastq.gz', 'ftp://ftp.sra.ebi.ac.uk/vol1/fastq/SRR836/004/SRR8363234/SRR8363234_2.fastq.gz', 'ftp://ftp.sra.ebi.ac.uk/vol1/fastq/SRR836/005/SRR8363235/SRR8363235_1.fastq.gz', 'ftp://ftp.sra.ebi.ac.uk/vol1/fastq/SRR836/005/SRR8363235/SRR8363235_2.fastq.gz', 'ftp://ftp.sra.ebi.ac.uk/vol1/fastq/SRR836/006/SRR8363236/SRR8363236_1.fastq.gz', 'ftp://ftp.sra.ebi.ac.uk/vol1/fastq/SRR836/006/SRR8363236/SRR8363236_2.fastq.gz', 'ftp://ftp.sra.ebi.ac.uk/vol1/fastq/SRR836/007/SRR8363237/SRR8363237_1.fastq.gz', 'ftp://ftp.sra.ebi.ac.uk/vol1/fastq/SRR836/007/SRR8363237/SRR8363237_2.fastq.gz', 'ftp://ftp.sra.ebi.ac.uk/vol1/fastq/SRR836/008/SRR8363238/SRR8363238_1.fastq.gz', 'ftp://ftp.sra.ebi.ac.uk/vol1/fastq/SRR836/008/SRR8363238/SRR8363238_2.fastq.gz', 'ftp://ftp.sra.ebi.ac.uk/vol1/fastq/SRR836/009/SRR8363239/SRR8363239_1.fastq.gz', 'ftp://ftp.sra.ebi.ac.uk/vol1/fastq/SRR836/009/SRR8363239/SRR8363239_2.fastq.gz', 'ftp://ftp.sra.ebi.ac.uk/vol1/fastq/SRR836/000/SRR8363240/SRR8363240_1.fastq.gz', 'ftp://ftp.sra.ebi.ac.uk/vol1/fastq/SRR836/000/SRR8363240/SRR8363240_2.fastq.gz', 'ftp://ftp.sra.ebi.ac.uk/vol1/fastq/SRR836/001/SRR8363241/SRR8363241_1.fastq.gz', 'ftp://ftp.sra.ebi.ac.uk/vol1/fastq/SRR836/001/SRR8363241/SRR8363241_2.fastq.gz']\n"
          ],
          "name": "stdout"
        }
      ]
    },
    {
      "cell_type": "markdown",
      "metadata": {
        "id": "VInyuq1Dp7iz"
      },
      "source": [
        "# Process fastq files (modify kb command according to fastqs list)\n"
      ]
    },
    {
      "cell_type": "code",
      "metadata": {
        "id": "OcqtBuH-pRaX",
        "outputId": "ef3e9c90-c1a6-4995-ff40-adb0b4552844",
        "colab": {
          "base_uri": "https://localhost:8080/"
        }
      },
      "source": [
        "fastqs"
      ],
      "execution_count": 17,
      "outputs": [
        {
          "output_type": "execute_result",
          "data": {
            "text/plain": [
              "['ftp://ftp.sra.ebi.ac.uk/vol1/fastq/SRR836/008/SRR8363218/SRR8363218_1.fastq.gz',\n",
              " 'ftp://ftp.sra.ebi.ac.uk/vol1/fastq/SRR836/008/SRR8363218/SRR8363218_2.fastq.gz',\n",
              " 'ftp://ftp.sra.ebi.ac.uk/vol1/fastq/SRR836/009/SRR8363219/SRR8363219_1.fastq.gz',\n",
              " 'ftp://ftp.sra.ebi.ac.uk/vol1/fastq/SRR836/009/SRR8363219/SRR8363219_2.fastq.gz',\n",
              " 'ftp://ftp.sra.ebi.ac.uk/vol1/fastq/SRR836/000/SRR8363220/SRR8363220_1.fastq.gz',\n",
              " 'ftp://ftp.sra.ebi.ac.uk/vol1/fastq/SRR836/000/SRR8363220/SRR8363220_2.fastq.gz',\n",
              " 'ftp://ftp.sra.ebi.ac.uk/vol1/fastq/SRR836/001/SRR8363221/SRR8363221_1.fastq.gz',\n",
              " 'ftp://ftp.sra.ebi.ac.uk/vol1/fastq/SRR836/001/SRR8363221/SRR8363221_2.fastq.gz',\n",
              " 'ftp://ftp.sra.ebi.ac.uk/vol1/fastq/SRR836/002/SRR8363222/SRR8363222_1.fastq.gz',\n",
              " 'ftp://ftp.sra.ebi.ac.uk/vol1/fastq/SRR836/002/SRR8363222/SRR8363222_2.fastq.gz',\n",
              " 'ftp://ftp.sra.ebi.ac.uk/vol1/fastq/SRR836/003/SRR8363223/SRR8363223_1.fastq.gz',\n",
              " 'ftp://ftp.sra.ebi.ac.uk/vol1/fastq/SRR836/003/SRR8363223/SRR8363223_2.fastq.gz',\n",
              " 'ftp://ftp.sra.ebi.ac.uk/vol1/fastq/SRR836/004/SRR8363224/SRR8363224_1.fastq.gz',\n",
              " 'ftp://ftp.sra.ebi.ac.uk/vol1/fastq/SRR836/004/SRR8363224/SRR8363224_2.fastq.gz',\n",
              " 'ftp://ftp.sra.ebi.ac.uk/vol1/fastq/SRR836/005/SRR8363225/SRR8363225_1.fastq.gz',\n",
              " 'ftp://ftp.sra.ebi.ac.uk/vol1/fastq/SRR836/005/SRR8363225/SRR8363225_2.fastq.gz',\n",
              " 'ftp://ftp.sra.ebi.ac.uk/vol1/fastq/SRR836/006/SRR8363226/SRR8363226_1.fastq.gz',\n",
              " 'ftp://ftp.sra.ebi.ac.uk/vol1/fastq/SRR836/006/SRR8363226/SRR8363226_2.fastq.gz',\n",
              " 'ftp://ftp.sra.ebi.ac.uk/vol1/fastq/SRR836/007/SRR8363227/SRR8363227_1.fastq.gz',\n",
              " 'ftp://ftp.sra.ebi.ac.uk/vol1/fastq/SRR836/007/SRR8363227/SRR8363227_2.fastq.gz',\n",
              " 'ftp://ftp.sra.ebi.ac.uk/vol1/fastq/SRR836/008/SRR8363228/SRR8363228_1.fastq.gz',\n",
              " 'ftp://ftp.sra.ebi.ac.uk/vol1/fastq/SRR836/008/SRR8363228/SRR8363228_2.fastq.gz',\n",
              " 'ftp://ftp.sra.ebi.ac.uk/vol1/fastq/SRR836/009/SRR8363229/SRR8363229_1.fastq.gz',\n",
              " 'ftp://ftp.sra.ebi.ac.uk/vol1/fastq/SRR836/009/SRR8363229/SRR8363229_2.fastq.gz',\n",
              " 'ftp://ftp.sra.ebi.ac.uk/vol1/fastq/SRR836/000/SRR8363230/SRR8363230_1.fastq.gz',\n",
              " 'ftp://ftp.sra.ebi.ac.uk/vol1/fastq/SRR836/000/SRR8363230/SRR8363230_2.fastq.gz',\n",
              " 'ftp://ftp.sra.ebi.ac.uk/vol1/fastq/SRR836/001/SRR8363231/SRR8363231_1.fastq.gz',\n",
              " 'ftp://ftp.sra.ebi.ac.uk/vol1/fastq/SRR836/001/SRR8363231/SRR8363231_2.fastq.gz',\n",
              " 'ftp://ftp.sra.ebi.ac.uk/vol1/fastq/SRR836/002/SRR8363232/SRR8363232_1.fastq.gz',\n",
              " 'ftp://ftp.sra.ebi.ac.uk/vol1/fastq/SRR836/002/SRR8363232/SRR8363232_2.fastq.gz',\n",
              " 'ftp://ftp.sra.ebi.ac.uk/vol1/fastq/SRR836/003/SRR8363233/SRR8363233_1.fastq.gz',\n",
              " 'ftp://ftp.sra.ebi.ac.uk/vol1/fastq/SRR836/003/SRR8363233/SRR8363233_2.fastq.gz',\n",
              " 'ftp://ftp.sra.ebi.ac.uk/vol1/fastq/SRR836/004/SRR8363234/SRR8363234_1.fastq.gz',\n",
              " 'ftp://ftp.sra.ebi.ac.uk/vol1/fastq/SRR836/004/SRR8363234/SRR8363234_2.fastq.gz',\n",
              " 'ftp://ftp.sra.ebi.ac.uk/vol1/fastq/SRR836/005/SRR8363235/SRR8363235_1.fastq.gz',\n",
              " 'ftp://ftp.sra.ebi.ac.uk/vol1/fastq/SRR836/005/SRR8363235/SRR8363235_2.fastq.gz',\n",
              " 'ftp://ftp.sra.ebi.ac.uk/vol1/fastq/SRR836/006/SRR8363236/SRR8363236_1.fastq.gz',\n",
              " 'ftp://ftp.sra.ebi.ac.uk/vol1/fastq/SRR836/006/SRR8363236/SRR8363236_2.fastq.gz',\n",
              " 'ftp://ftp.sra.ebi.ac.uk/vol1/fastq/SRR836/007/SRR8363237/SRR8363237_1.fastq.gz',\n",
              " 'ftp://ftp.sra.ebi.ac.uk/vol1/fastq/SRR836/007/SRR8363237/SRR8363237_2.fastq.gz',\n",
              " 'ftp://ftp.sra.ebi.ac.uk/vol1/fastq/SRR836/008/SRR8363238/SRR8363238_1.fastq.gz',\n",
              " 'ftp://ftp.sra.ebi.ac.uk/vol1/fastq/SRR836/008/SRR8363238/SRR8363238_2.fastq.gz',\n",
              " 'ftp://ftp.sra.ebi.ac.uk/vol1/fastq/SRR836/009/SRR8363239/SRR8363239_1.fastq.gz',\n",
              " 'ftp://ftp.sra.ebi.ac.uk/vol1/fastq/SRR836/009/SRR8363239/SRR8363239_2.fastq.gz',\n",
              " 'ftp://ftp.sra.ebi.ac.uk/vol1/fastq/SRR836/000/SRR8363240/SRR8363240_1.fastq.gz',\n",
              " 'ftp://ftp.sra.ebi.ac.uk/vol1/fastq/SRR836/000/SRR8363240/SRR8363240_2.fastq.gz',\n",
              " 'ftp://ftp.sra.ebi.ac.uk/vol1/fastq/SRR836/001/SRR8363241/SRR8363241_1.fastq.gz',\n",
              " 'ftp://ftp.sra.ebi.ac.uk/vol1/fastq/SRR836/001/SRR8363241/SRR8363241_2.fastq.gz']"
            ]
          },
          "metadata": {
            "tags": []
          },
          "execution_count": 17
        }
      ]
    },
    {
      "cell_type": "code",
      "metadata": {
        "id": "5qFzPj-0kZTi",
        "outputId": "6ce57db4-70e4-4aae-8447-23328b89f2c7",
        "colab": {
          "base_uri": "https://localhost:8080/"
        }
      },
      "source": [
        "# Specify the sample number and whether they are paired-ended\n",
        "\n",
        "\n",
        "if no_samples == 1:\n",
        "\n",
        "  # Write the kb count command as a string with all fastqs of the list as an input\n",
        "  cmd = \"kb count --h5ad -i index.idx -g t2g.txt -x \" + technology_kb + \" -o output\" + sample_id[0] + \" \"\\\n",
        "  + \"--filter bustools -t 2 --overwrite \" + \"'\" +  \"' '\".join(fastqs) + \"'\"\n",
        "  \n",
        "  # Execute it\n",
        "  !$cmd\n",
        "\n",
        "# If more than one sample, iterate through fastqs accordingly\n",
        "else:\n",
        "\n",
        "  # Initializa counter for fastq files\n",
        "  j = 0\n",
        "\n",
        "  # Loop over samples for analysis\n",
        "  for i in range(no_samples):\n",
        "\n",
        "    fastqs_to_analyze = fastqs[j:j + fastqs_per_sample[i]]\n",
        "    # Write the kb count command as a string\n",
        "    cmd = \"kb count --h5ad -i ../index.idx -g ../t2g.txt -x \" + technology_kb + \" -o output\" + sample_id[i] + \" \\\n",
        "    --filter bustools -t 2 --overwrite \" + \"'\" +  \"' '\".join(fastqs_to_analyze) + \"'\"\n",
        "\n",
        "    # Execute it\n",
        "    !$cmd\n",
        "\n",
        "    # Update j to move to the next set of fastq\n",
        "    j = j + fastqs_per_sample[i]\n",
        "\n",
        "\n",
        "\n",
        "\n",
        "\n"
      ],
      "execution_count": 18,
      "outputs": [
        {
          "output_type": "stream",
          "text": [
            "[2020-11-02 17:34:26,122]    INFO Piping ftp://ftp.sra.ebi.ac.uk/vol1/fastq/SRR836/008/SRR8363218/SRR8363218_1.fastq.gz to tmp/SRR8363218_1.fastq.gz\n",
            "[2020-11-02 17:34:26,124]    INFO Piping ftp://ftp.sra.ebi.ac.uk/vol1/fastq/SRR836/008/SRR8363218/SRR8363218_2.fastq.gz to tmp/SRR8363218_2.fastq.gz\n",
            "[2020-11-02 17:34:26,125]    INFO Piping ftp://ftp.sra.ebi.ac.uk/vol1/fastq/SRR836/009/SRR8363219/SRR8363219_1.fastq.gz to tmp/SRR8363219_1.fastq.gz\n",
            "[2020-11-02 17:34:26,126]    INFO Piping ftp://ftp.sra.ebi.ac.uk/vol1/fastq/SRR836/009/SRR8363219/SRR8363219_2.fastq.gz to tmp/SRR8363219_2.fastq.gz\n",
            "[2020-11-02 17:34:26,126]    INFO Piping ftp://ftp.sra.ebi.ac.uk/vol1/fastq/SRR836/000/SRR8363220/SRR8363220_1.fastq.gz to tmp/SRR8363220_1.fastq.gz\n",
            "[2020-11-02 17:34:26,127]    INFO Piping ftp://ftp.sra.ebi.ac.uk/vol1/fastq/SRR836/000/SRR8363220/SRR8363220_2.fastq.gz to tmp/SRR8363220_2.fastq.gz\n",
            "[2020-11-02 17:34:26,127]    INFO Piping ftp://ftp.sra.ebi.ac.uk/vol1/fastq/SRR836/001/SRR8363221/SRR8363221_1.fastq.gz to tmp/SRR8363221_1.fastq.gz\n",
            "[2020-11-02 17:34:26,128]    INFO Piping ftp://ftp.sra.ebi.ac.uk/vol1/fastq/SRR836/001/SRR8363221/SRR8363221_2.fastq.gz to tmp/SRR8363221_2.fastq.gz\n",
            "[2020-11-02 17:34:26,130]    INFO Piping ftp://ftp.sra.ebi.ac.uk/vol1/fastq/SRR836/002/SRR8363222/SRR8363222_1.fastq.gz to tmp/SRR8363222_1.fastq.gz\n",
            "[2020-11-02 17:34:26,134]    INFO Piping ftp://ftp.sra.ebi.ac.uk/vol1/fastq/SRR836/002/SRR8363222/SRR8363222_2.fastq.gz to tmp/SRR8363222_2.fastq.gz\n",
            "[2020-11-02 17:34:26,135]    INFO Piping ftp://ftp.sra.ebi.ac.uk/vol1/fastq/SRR836/003/SRR8363223/SRR8363223_1.fastq.gz to tmp/SRR8363223_1.fastq.gz\n",
            "[2020-11-02 17:34:26,138]    INFO Piping ftp://ftp.sra.ebi.ac.uk/vol1/fastq/SRR836/003/SRR8363223/SRR8363223_2.fastq.gz to tmp/SRR8363223_2.fastq.gz\n",
            "[2020-11-02 17:34:26,138]    INFO Piping ftp://ftp.sra.ebi.ac.uk/vol1/fastq/SRR836/004/SRR8363224/SRR8363224_1.fastq.gz to tmp/SRR8363224_1.fastq.gz\n",
            "[2020-11-02 17:34:26,139]    INFO Piping ftp://ftp.sra.ebi.ac.uk/vol1/fastq/SRR836/004/SRR8363224/SRR8363224_2.fastq.gz to tmp/SRR8363224_2.fastq.gz\n",
            "[2020-11-02 17:34:26,141]    INFO Piping ftp://ftp.sra.ebi.ac.uk/vol1/fastq/SRR836/005/SRR8363225/SRR8363225_1.fastq.gz to tmp/SRR8363225_1.fastq.gz\n",
            "[2020-11-02 17:34:26,143]    INFO Piping ftp://ftp.sra.ebi.ac.uk/vol1/fastq/SRR836/005/SRR8363225/SRR8363225_2.fastq.gz to tmp/SRR8363225_2.fastq.gz\n",
            "[2020-11-02 17:34:26,144]    INFO Piping ftp://ftp.sra.ebi.ac.uk/vol1/fastq/SRR836/006/SRR8363226/SRR8363226_1.fastq.gz to tmp/SRR8363226_1.fastq.gz\n",
            "[2020-11-02 17:34:26,145]    INFO Piping ftp://ftp.sra.ebi.ac.uk/vol1/fastq/SRR836/006/SRR8363226/SRR8363226_2.fastq.gz to tmp/SRR8363226_2.fastq.gz\n",
            "[2020-11-02 17:34:26,146]    INFO Piping ftp://ftp.sra.ebi.ac.uk/vol1/fastq/SRR836/007/SRR8363227/SRR8363227_1.fastq.gz to tmp/SRR8363227_1.fastq.gz\n",
            "[2020-11-02 17:34:26,149]    INFO Piping ftp://ftp.sra.ebi.ac.uk/vol1/fastq/SRR836/007/SRR8363227/SRR8363227_2.fastq.gz to tmp/SRR8363227_2.fastq.gz\n",
            "[2020-11-02 17:34:26,150]    INFO Piping ftp://ftp.sra.ebi.ac.uk/vol1/fastq/SRR836/008/SRR8363228/SRR8363228_1.fastq.gz to tmp/SRR8363228_1.fastq.gz\n",
            "[2020-11-02 17:34:26,151]    INFO Piping ftp://ftp.sra.ebi.ac.uk/vol1/fastq/SRR836/008/SRR8363228/SRR8363228_2.fastq.gz to tmp/SRR8363228_2.fastq.gz\n",
            "[2020-11-02 17:34:26,151]    INFO Piping ftp://ftp.sra.ebi.ac.uk/vol1/fastq/SRR836/009/SRR8363229/SRR8363229_1.fastq.gz to tmp/SRR8363229_1.fastq.gz\n",
            "[2020-11-02 17:34:26,152]    INFO Piping ftp://ftp.sra.ebi.ac.uk/vol1/fastq/SRR836/009/SRR8363229/SRR8363229_2.fastq.gz to tmp/SRR8363229_2.fastq.gz\n",
            "[2020-11-02 17:34:26,153]    INFO Piping ftp://ftp.sra.ebi.ac.uk/vol1/fastq/SRR836/000/SRR8363230/SRR8363230_1.fastq.gz to tmp/SRR8363230_1.fastq.gz\n",
            "[2020-11-02 17:34:26,154]    INFO Piping ftp://ftp.sra.ebi.ac.uk/vol1/fastq/SRR836/000/SRR8363230/SRR8363230_2.fastq.gz to tmp/SRR8363230_2.fastq.gz\n",
            "[2020-11-02 17:34:26,155]    INFO Piping ftp://ftp.sra.ebi.ac.uk/vol1/fastq/SRR836/001/SRR8363231/SRR8363231_1.fastq.gz to tmp/SRR8363231_1.fastq.gz\n",
            "[2020-11-02 17:34:26,157]    INFO Piping ftp://ftp.sra.ebi.ac.uk/vol1/fastq/SRR836/001/SRR8363231/SRR8363231_2.fastq.gz to tmp/SRR8363231_2.fastq.gz\n",
            "[2020-11-02 17:34:26,160]    INFO Piping ftp://ftp.sra.ebi.ac.uk/vol1/fastq/SRR836/002/SRR8363232/SRR8363232_1.fastq.gz to tmp/SRR8363232_1.fastq.gz\n",
            "[2020-11-02 17:34:26,160]    INFO Piping ftp://ftp.sra.ebi.ac.uk/vol1/fastq/SRR836/002/SRR8363232/SRR8363232_2.fastq.gz to tmp/SRR8363232_2.fastq.gz\n",
            "[2020-11-02 17:34:26,161]    INFO Piping ftp://ftp.sra.ebi.ac.uk/vol1/fastq/SRR836/003/SRR8363233/SRR8363233_1.fastq.gz to tmp/SRR8363233_1.fastq.gz\n",
            "[2020-11-02 17:34:26,163]    INFO Piping ftp://ftp.sra.ebi.ac.uk/vol1/fastq/SRR836/003/SRR8363233/SRR8363233_2.fastq.gz to tmp/SRR8363233_2.fastq.gz\n",
            "[2020-11-02 17:34:26,164]    INFO Piping ftp://ftp.sra.ebi.ac.uk/vol1/fastq/SRR836/004/SRR8363234/SRR8363234_1.fastq.gz to tmp/SRR8363234_1.fastq.gz\n",
            "[2020-11-02 17:34:26,165]    INFO Piping ftp://ftp.sra.ebi.ac.uk/vol1/fastq/SRR836/004/SRR8363234/SRR8363234_2.fastq.gz to tmp/SRR8363234_2.fastq.gz\n",
            "[2020-11-02 17:34:26,165]    INFO Piping ftp://ftp.sra.ebi.ac.uk/vol1/fastq/SRR836/005/SRR8363235/SRR8363235_1.fastq.gz to tmp/SRR8363235_1.fastq.gz\n",
            "[2020-11-02 17:34:26,167]    INFO Piping ftp://ftp.sra.ebi.ac.uk/vol1/fastq/SRR836/005/SRR8363235/SRR8363235_2.fastq.gz to tmp/SRR8363235_2.fastq.gz\n",
            "[2020-11-02 17:34:26,168]    INFO Piping ftp://ftp.sra.ebi.ac.uk/vol1/fastq/SRR836/006/SRR8363236/SRR8363236_1.fastq.gz to tmp/SRR8363236_1.fastq.gz\n",
            "[2020-11-02 17:34:26,169]    INFO Piping ftp://ftp.sra.ebi.ac.uk/vol1/fastq/SRR836/006/SRR8363236/SRR8363236_2.fastq.gz to tmp/SRR8363236_2.fastq.gz\n",
            "[2020-11-02 17:34:26,170]    INFO Piping ftp://ftp.sra.ebi.ac.uk/vol1/fastq/SRR836/007/SRR8363237/SRR8363237_1.fastq.gz to tmp/SRR8363237_1.fastq.gz\n",
            "[2020-11-02 17:34:26,171]    INFO Piping ftp://ftp.sra.ebi.ac.uk/vol1/fastq/SRR836/007/SRR8363237/SRR8363237_2.fastq.gz to tmp/SRR8363237_2.fastq.gz\n",
            "[2020-11-02 17:34:26,173]    INFO Piping ftp://ftp.sra.ebi.ac.uk/vol1/fastq/SRR836/008/SRR8363238/SRR8363238_1.fastq.gz to tmp/SRR8363238_1.fastq.gz\n",
            "[2020-11-02 17:34:26,175]    INFO Piping ftp://ftp.sra.ebi.ac.uk/vol1/fastq/SRR836/008/SRR8363238/SRR8363238_2.fastq.gz to tmp/SRR8363238_2.fastq.gz\n",
            "[2020-11-02 17:34:26,177]    INFO Piping ftp://ftp.sra.ebi.ac.uk/vol1/fastq/SRR836/009/SRR8363239/SRR8363239_1.fastq.gz to tmp/SRR8363239_1.fastq.gz\n",
            "[2020-11-02 17:34:26,179]    INFO Piping ftp://ftp.sra.ebi.ac.uk/vol1/fastq/SRR836/009/SRR8363239/SRR8363239_2.fastq.gz to tmp/SRR8363239_2.fastq.gz\n",
            "[2020-11-02 17:34:26,180]    INFO Piping ftp://ftp.sra.ebi.ac.uk/vol1/fastq/SRR836/000/SRR8363240/SRR8363240_1.fastq.gz to tmp/SRR8363240_1.fastq.gz\n",
            "[2020-11-02 17:34:26,181]    INFO Piping ftp://ftp.sra.ebi.ac.uk/vol1/fastq/SRR836/000/SRR8363240/SRR8363240_2.fastq.gz to tmp/SRR8363240_2.fastq.gz\n",
            "[2020-11-02 17:34:26,183]    INFO Piping ftp://ftp.sra.ebi.ac.uk/vol1/fastq/SRR836/001/SRR8363241/SRR8363241_1.fastq.gz to tmp/SRR8363241_1.fastq.gz\n",
            "[2020-11-02 17:34:26,184]    INFO Piping ftp://ftp.sra.ebi.ac.uk/vol1/fastq/SRR836/001/SRR8363241/SRR8363241_2.fastq.gz to tmp/SRR8363241_2.fastq.gz\n",
            "[2020-11-02 17:34:26,185]    INFO Generating BUS file from\n",
            "[2020-11-02 17:34:26,186]    INFO         tmp/SRR8363218_1.fastq.gz\n",
            "[2020-11-02 17:34:26,186]    INFO         tmp/SRR8363218_2.fastq.gz\n",
            "[2020-11-02 17:34:26,186]    INFO         tmp/SRR8363219_1.fastq.gz\n",
            "[2020-11-02 17:34:26,186]    INFO         tmp/SRR8363219_2.fastq.gz\n",
            "[2020-11-02 17:34:26,187]    INFO         tmp/SRR8363220_1.fastq.gz\n",
            "[2020-11-02 17:34:26,187]    INFO         tmp/SRR8363220_2.fastq.gz\n",
            "[2020-11-02 17:34:26,187]    INFO         tmp/SRR8363221_1.fastq.gz\n",
            "[2020-11-02 17:34:26,187]    INFO         tmp/SRR8363221_2.fastq.gz\n",
            "[2020-11-02 17:34:26,188]    INFO         tmp/SRR8363222_1.fastq.gz\n",
            "[2020-11-02 17:34:26,188]    INFO         tmp/SRR8363222_2.fastq.gz\n",
            "[2020-11-02 17:34:26,188]    INFO         tmp/SRR8363223_1.fastq.gz\n",
            "[2020-11-02 17:34:26,188]    INFO         tmp/SRR8363223_2.fastq.gz\n",
            "[2020-11-02 17:34:26,189]    INFO         tmp/SRR8363224_1.fastq.gz\n",
            "[2020-11-02 17:34:26,189]    INFO         tmp/SRR8363224_2.fastq.gz\n",
            "[2020-11-02 17:34:26,189]    INFO         tmp/SRR8363225_1.fastq.gz\n",
            "[2020-11-02 17:34:26,189]    INFO         tmp/SRR8363225_2.fastq.gz\n",
            "[2020-11-02 17:34:26,189]    INFO         tmp/SRR8363226_1.fastq.gz\n",
            "[2020-11-02 17:34:26,189]    INFO         tmp/SRR8363226_2.fastq.gz\n",
            "[2020-11-02 17:34:26,189]    INFO         tmp/SRR8363227_1.fastq.gz\n",
            "[2020-11-02 17:34:26,189]    INFO         tmp/SRR8363227_2.fastq.gz\n",
            "[2020-11-02 17:34:26,189]    INFO         tmp/SRR8363228_1.fastq.gz\n",
            "[2020-11-02 17:34:26,189]    INFO         tmp/SRR8363228_2.fastq.gz\n",
            "[2020-11-02 17:34:26,189]    INFO         tmp/SRR8363229_1.fastq.gz\n",
            "[2020-11-02 17:34:26,189]    INFO         tmp/SRR8363229_2.fastq.gz\n",
            "[2020-11-02 17:34:26,189]    INFO         tmp/SRR8363230_1.fastq.gz\n",
            "[2020-11-02 17:34:26,190]    INFO         tmp/SRR8363230_2.fastq.gz\n",
            "[2020-11-02 17:34:26,190]    INFO         tmp/SRR8363231_1.fastq.gz\n",
            "[2020-11-02 17:34:26,190]    INFO         tmp/SRR8363231_2.fastq.gz\n",
            "[2020-11-02 17:34:26,190]    INFO         tmp/SRR8363232_1.fastq.gz\n",
            "[2020-11-02 17:34:26,190]    INFO         tmp/SRR8363232_2.fastq.gz\n",
            "[2020-11-02 17:34:26,190]    INFO         tmp/SRR8363233_1.fastq.gz\n",
            "[2020-11-02 17:34:26,190]    INFO         tmp/SRR8363233_2.fastq.gz\n",
            "[2020-11-02 17:34:26,190]    INFO         tmp/SRR8363234_1.fastq.gz\n",
            "[2020-11-02 17:34:26,190]    INFO         tmp/SRR8363234_2.fastq.gz\n",
            "[2020-11-02 17:34:26,190]    INFO         tmp/SRR8363235_1.fastq.gz\n",
            "[2020-11-02 17:34:26,190]    INFO         tmp/SRR8363235_2.fastq.gz\n",
            "[2020-11-02 17:34:26,190]    INFO         tmp/SRR8363236_1.fastq.gz\n",
            "[2020-11-02 17:34:26,190]    INFO         tmp/SRR8363236_2.fastq.gz\n",
            "[2020-11-02 17:34:26,190]    INFO         tmp/SRR8363237_1.fastq.gz\n",
            "[2020-11-02 17:34:26,190]    INFO         tmp/SRR8363237_2.fastq.gz\n",
            "[2020-11-02 17:34:26,191]    INFO         tmp/SRR8363238_1.fastq.gz\n",
            "[2020-11-02 17:34:26,191]    INFO         tmp/SRR8363238_2.fastq.gz\n",
            "[2020-11-02 17:34:26,191]    INFO         tmp/SRR8363239_1.fastq.gz\n",
            "[2020-11-02 17:34:26,191]    INFO         tmp/SRR8363239_2.fastq.gz\n",
            "[2020-11-02 17:34:26,191]    INFO         tmp/SRR8363240_1.fastq.gz\n",
            "[2020-11-02 17:34:26,191]    INFO         tmp/SRR8363240_2.fastq.gz\n",
            "[2020-11-02 17:34:26,191]    INFO         tmp/SRR8363241_1.fastq.gz\n",
            "[2020-11-02 17:34:26,191]    INFO         tmp/SRR8363241_2.fastq.gz\n",
            "Exception in thread Thread-19:\n",
            "Traceback (most recent call last):\n",
            "  File \"/usr/lib/python3.6/threading.py\", line 916, in _bootstrap_inner\n",
            "    self.run()\n",
            "  File \"/usr/lib/python3.6/threading.py\", line 864, in run\n",
            "    self._target(*self._args, **self._kwargs)\n",
            "  File \"/usr/lib/python3.6/urllib/request.py\", line 281, in urlretrieve\n",
            "    tfp.write(block)\n",
            "BrokenPipeError: [Errno 32] Broken pipe\n",
            "\n",
            "Exception in thread Thread-20:\n",
            "Traceback (most recent call last):\n",
            "  File \"/usr/lib/python3.6/threading.py\", line 916, in _bootstrap_inner\n",
            "    self.run()\n",
            "  File \"/usr/lib/python3.6/threading.py\", line 864, in run\n",
            "    self._target(*self._args, **self._kwargs)\n",
            "  File \"/usr/lib/python3.6/urllib/request.py\", line 277, in urlretrieve\n",
            "    block = fp.read(bs)\n",
            "  File \"/usr/lib/python3.6/tempfile.py\", line 624, in func_wrapper\n",
            "    return func(*args, **kwargs)\n",
            "  File \"/usr/lib/python3.6/tempfile.py\", line 624, in func_wrapper\n",
            "    return func(*args, **kwargs)\n",
            "  File \"/usr/lib/python3.6/socket.py\", line 586, in readinto\n",
            "    return self._sock.recv_into(b)\n",
            "ConnectionResetError: [Errno 104] Connection reset by peer\n",
            "\n",
            "Exception in thread Thread-22:\n",
            "Traceback (most recent call last):\n",
            "  File \"/usr/lib/python3.6/threading.py\", line 916, in _bootstrap_inner\n",
            "    self.run()\n",
            "  File \"/usr/lib/python3.6/threading.py\", line 864, in run\n",
            "    self._target(*self._args, **self._kwargs)\n",
            "  File \"/usr/lib/python3.6/urllib/request.py\", line 289, in urlretrieve\n",
            "    % (read, size), result)\n",
            "urllib.error.ContentTooShortError: <urlopen error retrieval incomplete: got only 744272 out of 238920541 bytes>\n",
            "\n",
            "Exception in thread Thread-21:\n",
            "Traceback (most recent call last):\n",
            "  File \"/usr/lib/python3.6/threading.py\", line 916, in _bootstrap_inner\n",
            "    self.run()\n",
            "  File \"/usr/lib/python3.6/threading.py\", line 864, in run\n",
            "    self._target(*self._args, **self._kwargs)\n",
            "  File \"/usr/lib/python3.6/urllib/request.py\", line 281, in urlretrieve\n",
            "    tfp.write(block)\n",
            "BrokenPipeError: [Errno 32] Broken pipe\n",
            "\n",
            "Exception in thread Thread-23:\n",
            "Traceback (most recent call last):\n",
            "  File \"/usr/lib/python3.6/threading.py\", line 916, in _bootstrap_inner\n",
            "    self.run()\n",
            "  File \"/usr/lib/python3.6/threading.py\", line 864, in run\n",
            "    self._target(*self._args, **self._kwargs)\n",
            "  File \"/usr/lib/python3.6/urllib/request.py\", line 277, in urlretrieve\n",
            "    block = fp.read(bs)\n",
            "  File \"/usr/lib/python3.6/tempfile.py\", line 624, in func_wrapper\n",
            "    return func(*args, **kwargs)\n",
            "  File \"/usr/lib/python3.6/tempfile.py\", line 624, in func_wrapper\n",
            "    return func(*args, **kwargs)\n",
            "  File \"/usr/lib/python3.6/socket.py\", line 586, in readinto\n",
            "    return self._sock.recv_into(b)\n",
            "ConnectionResetError: [Errno 104] Connection reset by peer\n",
            "\n",
            "Exception in thread Thread-24:\n",
            "Traceback (most recent call last):\n",
            "  File \"/usr/lib/python3.6/threading.py\", line 916, in _bootstrap_inner\n",
            "    self.run()\n",
            "  File \"/usr/lib/python3.6/threading.py\", line 864, in run\n",
            "    self._target(*self._args, **self._kwargs)\n",
            "  File \"/usr/lib/python3.6/urllib/request.py\", line 281, in urlretrieve\n",
            "    tfp.write(block)\n",
            "BrokenPipeError: [Errno 32] Broken pipe\n",
            "\n",
            "Exception in thread Thread-26:\n",
            "Traceback (most recent call last):\n",
            "  File \"/usr/lib/python3.6/threading.py\", line 916, in _bootstrap_inner\n",
            "    self.run()\n",
            "  File \"/usr/lib/python3.6/threading.py\", line 864, in run\n",
            "    self._target(*self._args, **self._kwargs)\n",
            "  File \"/usr/lib/python3.6/urllib/request.py\", line 277, in urlretrieve\n",
            "    block = fp.read(bs)\n",
            "  File \"/usr/lib/python3.6/tempfile.py\", line 624, in func_wrapper\n",
            "    return func(*args, **kwargs)\n",
            "  File \"/usr/lib/python3.6/tempfile.py\", line 624, in func_wrapper\n",
            "    return func(*args, **kwargs)\n",
            "  File \"/usr/lib/python3.6/socket.py\", line 586, in readinto\n",
            "    return self._sock.recv_into(b)\n",
            "ConnectionResetError: [Errno 104] Connection reset by peer\n",
            "\n",
            "Exception in thread Thread-25:\n",
            "Traceback (most recent call last):\n",
            "  File \"/usr/lib/python3.6/threading.py\", line 916, in _bootstrap_inner\n",
            "    self.run()\n",
            "  File \"/usr/lib/python3.6/threading.py\", line 864, in run\n",
            "    self._target(*self._args, **self._kwargs)\n",
            "  File \"/usr/lib/python3.6/urllib/request.py\", line 281, in urlretrieve\n",
            "    tfp.write(block)\n",
            "BrokenPipeError: [Errno 32] Broken pipe\n",
            "\n",
            "Exception in thread Thread-27:\n",
            "Traceback (most recent call last):\n",
            "  File \"/usr/lib/python3.6/threading.py\", line 916, in _bootstrap_inner\n",
            "    self.run()\n",
            "  File \"/usr/lib/python3.6/threading.py\", line 864, in run\n",
            "    self._target(*self._args, **self._kwargs)\n",
            "  File \"/usr/lib/python3.6/urllib/request.py\", line 277, in urlretrieve\n",
            "    block = fp.read(bs)\n",
            "  File \"/usr/lib/python3.6/tempfile.py\", line 624, in func_wrapper\n",
            "    return func(*args, **kwargs)\n",
            "  File \"/usr/lib/python3.6/tempfile.py\", line 624, in func_wrapper\n",
            "    return func(*args, **kwargs)\n",
            "  File \"/usr/lib/python3.6/socket.py\", line 586, in readinto\n",
            "    return self._sock.recv_into(b)\n",
            "ConnectionResetError: [Errno 104] Connection reset by peer\n",
            "\n",
            "Exception in thread Thread-28:\n",
            "Traceback (most recent call last):\n",
            "  File \"/usr/lib/python3.6/threading.py\", line 916, in _bootstrap_inner\n",
            "    self.run()\n",
            "  File \"/usr/lib/python3.6/threading.py\", line 864, in run\n",
            "    self._target(*self._args, **self._kwargs)\n",
            "  File \"/usr/lib/python3.6/urllib/request.py\", line 281, in urlretrieve\n",
            "    tfp.write(block)\n",
            "BrokenPipeError: [Errno 32] Broken pipe\n",
            "\n",
            "Exception in thread Thread-29:\n",
            "Traceback (most recent call last):\n",
            "  File \"/usr/lib/python3.6/threading.py\", line 916, in _bootstrap_inner\n",
            "    self.run()\n",
            "  File \"/usr/lib/python3.6/threading.py\", line 864, in run\n",
            "    self._target(*self._args, **self._kwargs)\n",
            "  File \"/usr/lib/python3.6/urllib/request.py\", line 277, in urlretrieve\n",
            "    block = fp.read(bs)\n",
            "  File \"/usr/lib/python3.6/tempfile.py\", line 624, in func_wrapper\n",
            "    return func(*args, **kwargs)\n",
            "  File \"/usr/lib/python3.6/tempfile.py\", line 624, in func_wrapper\n",
            "    return func(*args, **kwargs)\n",
            "  File \"/usr/lib/python3.6/socket.py\", line 586, in readinto\n",
            "    return self._sock.recv_into(b)\n",
            "ConnectionResetError: [Errno 104] Connection reset by peer\n",
            "\n",
            "Exception in thread Thread-30:\n",
            "Traceback (most recent call last):\n",
            "  File \"/usr/lib/python3.6/threading.py\", line 916, in _bootstrap_inner\n",
            "    self.run()\n",
            "  File \"/usr/lib/python3.6/threading.py\", line 864, in run\n",
            "    self._target(*self._args, **self._kwargs)\n",
            "  File \"/usr/lib/python3.6/urllib/request.py\", line 281, in urlretrieve\n",
            "    tfp.write(block)\n",
            "BrokenPipeError: [Errno 32] Broken pipe\n",
            "\n",
            "Exception in thread Thread-32:\n",
            "Traceback (most recent call last):\n",
            "  File \"/usr/lib/python3.6/threading.py\", line 916, in _bootstrap_inner\n",
            "    self.run()\n",
            "  File \"/usr/lib/python3.6/threading.py\", line 864, in run\n",
            "    self._target(*self._args, **self._kwargs)\n",
            "  File \"/usr/lib/python3.6/urllib/request.py\", line 277, in urlretrieve\n",
            "    block = fp.read(bs)\n",
            "  File \"/usr/lib/python3.6/tempfile.py\", line 624, in func_wrapper\n",
            "    return func(*args, **kwargs)\n",
            "  File \"/usr/lib/python3.6/tempfile.py\", line 624, in func_wrapper\n",
            "    return func(*args, **kwargs)\n",
            "  File \"/usr/lib/python3.6/socket.py\", line 586, in readinto\n",
            "    return self._sock.recv_into(b)\n",
            "ConnectionResetError: [Errno 104] Connection reset by peer\n",
            "\n",
            "Exception in thread Thread-31:\n",
            "Traceback (most recent call last):\n",
            "  File \"/usr/lib/python3.6/threading.py\", line 916, in _bootstrap_inner\n",
            "    self.run()\n",
            "  File \"/usr/lib/python3.6/threading.py\", line 864, in run\n",
            "    self._target(*self._args, **self._kwargs)\n",
            "  File \"/usr/lib/python3.6/urllib/request.py\", line 281, in urlretrieve\n",
            "    tfp.write(block)\n",
            "BrokenPipeError: [Errno 32] Broken pipe\n",
            "\n",
            "Exception in thread Thread-33:\n",
            "Traceback (most recent call last):\n",
            "  File \"/usr/lib/python3.6/threading.py\", line 916, in _bootstrap_inner\n",
            "    self.run()\n",
            "  File \"/usr/lib/python3.6/threading.py\", line 864, in run\n",
            "    self._target(*self._args, **self._kwargs)\n",
            "  File \"/usr/lib/python3.6/urllib/request.py\", line 277, in urlretrieve\n",
            "    block = fp.read(bs)\n",
            "  File \"/usr/lib/python3.6/tempfile.py\", line 624, in func_wrapper\n",
            "    return func(*args, **kwargs)\n",
            "  File \"/usr/lib/python3.6/tempfile.py\", line 624, in func_wrapper\n",
            "    return func(*args, **kwargs)\n",
            "  File \"/usr/lib/python3.6/socket.py\", line 586, in readinto\n",
            "    return self._sock.recv_into(b)\n",
            "ConnectionResetError: [Errno 104] Connection reset by peer\n",
            "\n",
            "Exception in thread Thread-34:\n",
            "Traceback (most recent call last):\n",
            "  File \"/usr/lib/python3.6/threading.py\", line 916, in _bootstrap_inner\n",
            "    self.run()\n",
            "  File \"/usr/lib/python3.6/threading.py\", line 864, in run\n",
            "    self._target(*self._args, **self._kwargs)\n",
            "  File \"/usr/lib/python3.6/urllib/request.py\", line 281, in urlretrieve\n",
            "    tfp.write(block)\n",
            "BrokenPipeError: [Errno 32] Broken pipe\n",
            "\n",
            "Exception in thread Thread-36:\n",
            "Traceback (most recent call last):\n",
            "  File \"/usr/lib/python3.6/threading.py\", line 916, in _bootstrap_inner\n",
            "    self.run()\n",
            "  File \"/usr/lib/python3.6/threading.py\", line 864, in run\n",
            "    self._target(*self._args, **self._kwargs)\n",
            "  File \"/usr/lib/python3.6/urllib/request.py\", line 277, in urlretrieve\n",
            "    block = fp.read(bs)\n",
            "  File \"/usr/lib/python3.6/tempfile.py\", line 624, in func_wrapper\n",
            "    return func(*args, **kwargs)\n",
            "  File \"/usr/lib/python3.6/tempfile.py\", line 624, in func_wrapper\n",
            "    return func(*args, **kwargs)\n",
            "  File \"/usr/lib/python3.6/socket.py\", line 586, in readinto\n",
            "    return self._sock.recv_into(b)\n",
            "ConnectionResetError: [Errno 104] Connection reset by peer\n",
            "\n",
            "Exception in thread Thread-35:\n",
            "Traceback (most recent call last):\n",
            "  File \"/usr/lib/python3.6/threading.py\", line 916, in _bootstrap_inner\n",
            "    self.run()\n",
            "  File \"/usr/lib/python3.6/threading.py\", line 864, in run\n",
            "    self._target(*self._args, **self._kwargs)\n",
            "  File \"/usr/lib/python3.6/urllib/request.py\", line 281, in urlretrieve\n",
            "    tfp.write(block)\n",
            "BrokenPipeError: [Errno 32] Broken pipe\n",
            "\n",
            "Exception in thread Thread-38:\n",
            "Traceback (most recent call last):\n",
            "  File \"/usr/lib/python3.6/threading.py\", line 916, in _bootstrap_inner\n",
            "    self.run()\n",
            "  File \"/usr/lib/python3.6/threading.py\", line 864, in run\n",
            "    self._target(*self._args, **self._kwargs)\n",
            "  File \"/usr/lib/python3.6/urllib/request.py\", line 277, in urlretrieve\n",
            "    block = fp.read(bs)\n",
            "  File \"/usr/lib/python3.6/tempfile.py\", line 624, in func_wrapper\n",
            "    return func(*args, **kwargs)\n",
            "  File \"/usr/lib/python3.6/tempfile.py\", line 624, in func_wrapper\n",
            "    return func(*args, **kwargs)\n",
            "  File \"/usr/lib/python3.6/socket.py\", line 586, in readinto\n",
            "    return self._sock.recv_into(b)\n",
            "ConnectionResetError: [Errno 104] Connection reset by peer\n",
            "\n",
            "Exception in thread Thread-37:\n",
            "Traceback (most recent call last):\n",
            "  File \"/usr/lib/python3.6/threading.py\", line 916, in _bootstrap_inner\n",
            "    self.run()\n",
            "  File \"/usr/lib/python3.6/threading.py\", line 864, in run\n",
            "    self._target(*self._args, **self._kwargs)\n",
            "  File \"/usr/lib/python3.6/urllib/request.py\", line 281, in urlretrieve\n",
            "    tfp.write(block)\n",
            "BrokenPipeError: [Errno 32] Broken pipe\n",
            "\n",
            "Exception in thread Thread-39:\n",
            "Traceback (most recent call last):\n",
            "  File \"/usr/lib/python3.6/threading.py\", line 916, in _bootstrap_inner\n",
            "    self.run()\n",
            "  File \"/usr/lib/python3.6/threading.py\", line 864, in run\n",
            "    self._target(*self._args, **self._kwargs)\n",
            "  File \"/usr/lib/python3.6/urllib/request.py\", line 277, in urlretrieve\n",
            "    block = fp.read(bs)\n",
            "  File \"/usr/lib/python3.6/tempfile.py\", line 624, in func_wrapper\n",
            "    return func(*args, **kwargs)\n",
            "  File \"/usr/lib/python3.6/tempfile.py\", line 624, in func_wrapper\n",
            "    return func(*args, **kwargs)\n",
            "  File \"/usr/lib/python3.6/socket.py\", line 586, in readinto\n",
            "    return self._sock.recv_into(b)\n",
            "ConnectionResetError: [Errno 104] Connection reset by peer\n",
            "\n",
            "Exception in thread Thread-40:\n",
            "Traceback (most recent call last):\n",
            "  File \"/usr/lib/python3.6/threading.py\", line 916, in _bootstrap_inner\n",
            "    self.run()\n",
            "  File \"/usr/lib/python3.6/threading.py\", line 864, in run\n",
            "    self._target(*self._args, **self._kwargs)\n",
            "  File \"/usr/lib/python3.6/urllib/request.py\", line 281, in urlretrieve\n",
            "    tfp.write(block)\n",
            "BrokenPipeError: [Errno 32] Broken pipe\n",
            "\n",
            "Exception in thread Thread-42:\n",
            "Traceback (most recent call last):\n",
            "  File \"/usr/lib/python3.6/threading.py\", line 916, in _bootstrap_inner\n",
            "    self.run()\n",
            "  File \"/usr/lib/python3.6/threading.py\", line 864, in run\n",
            "    self._target(*self._args, **self._kwargs)\n",
            "  File \"/usr/lib/python3.6/urllib/request.py\", line 277, in urlretrieve\n",
            "    block = fp.read(bs)\n",
            "  File \"/usr/lib/python3.6/tempfile.py\", line 624, in func_wrapper\n",
            "    return func(*args, **kwargs)\n",
            "  File \"/usr/lib/python3.6/tempfile.py\", line 624, in func_wrapper\n",
            "    return func(*args, **kwargs)\n",
            "  File \"/usr/lib/python3.6/socket.py\", line 586, in readinto\n",
            "    return self._sock.recv_into(b)\n",
            "ConnectionResetError: [Errno 104] Connection reset by peer\n",
            "\n",
            "Exception in thread Thread-41:\n",
            "Traceback (most recent call last):\n",
            "  File \"/usr/lib/python3.6/threading.py\", line 916, in _bootstrap_inner\n",
            "    self.run()\n",
            "  File \"/usr/lib/python3.6/threading.py\", line 864, in run\n",
            "    self._target(*self._args, **self._kwargs)\n",
            "  File \"/usr/lib/python3.6/urllib/request.py\", line 281, in urlretrieve\n",
            "    tfp.write(block)\n",
            "BrokenPipeError: [Errno 32] Broken pipe\n",
            "\n",
            "Exception in thread Thread-44:\n",
            "Traceback (most recent call last):\n",
            "  File \"/usr/lib/python3.6/threading.py\", line 916, in _bootstrap_inner\n",
            "    self.run()\n",
            "  File \"/usr/lib/python3.6/threading.py\", line 864, in run\n",
            "    self._target(*self._args, **self._kwargs)\n",
            "  File \"/usr/lib/python3.6/urllib/request.py\", line 289, in urlretrieve\n",
            "    % (read, size), result)\n",
            "urllib.error.ContentTooShortError: <urlopen error retrieval incomplete: got only 712416 out of 213830273 bytes>\n",
            "\n",
            "Exception in thread Thread-43:\n",
            "Traceback (most recent call last):\n",
            "  File \"/usr/lib/python3.6/threading.py\", line 916, in _bootstrap_inner\n",
            "    self.run()\n",
            "  File \"/usr/lib/python3.6/threading.py\", line 864, in run\n",
            "    self._target(*self._args, **self._kwargs)\n",
            "  File \"/usr/lib/python3.6/urllib/request.py\", line 281, in urlretrieve\n",
            "    tfp.write(block)\n",
            "BrokenPipeError: [Errno 32] Broken pipe\n",
            "\n",
            "Exception in thread Thread-46:\n",
            "Traceback (most recent call last):\n",
            "  File \"/usr/lib/python3.6/threading.py\", line 916, in _bootstrap_inner\n",
            "    self.run()\n",
            "  File \"/usr/lib/python3.6/threading.py\", line 864, in run\n",
            "    self._target(*self._args, **self._kwargs)\n",
            "  File \"/usr/lib/python3.6/urllib/request.py\", line 289, in urlretrieve\n",
            "    % (read, size), result)\n",
            "urllib.error.ContentTooShortError: <urlopen error retrieval incomplete: got only 712416 out of 219986380 bytes>\n",
            "\n",
            "Exception in thread Thread-45:\n",
            "Traceback (most recent call last):\n",
            "  File \"/usr/lib/python3.6/threading.py\", line 916, in _bootstrap_inner\n",
            "    self.run()\n",
            "  File \"/usr/lib/python3.6/threading.py\", line 864, in run\n",
            "    self._target(*self._args, **self._kwargs)\n",
            "  File \"/usr/lib/python3.6/urllib/request.py\", line 281, in urlretrieve\n",
            "    tfp.write(block)\n",
            "BrokenPipeError: [Errno 32] Broken pipe\n",
            "\n",
            "Exception in thread Thread-47:\n",
            "Traceback (most recent call last):\n",
            "  File \"/usr/lib/python3.6/threading.py\", line 916, in _bootstrap_inner\n",
            "    self.run()\n",
            "  File \"/usr/lib/python3.6/threading.py\", line 864, in run\n",
            "    self._target(*self._args, **self._kwargs)\n",
            "  File \"/usr/lib/python3.6/urllib/request.py\", line 277, in urlretrieve\n",
            "    block = fp.read(bs)\n",
            "  File \"/usr/lib/python3.6/tempfile.py\", line 624, in func_wrapper\n",
            "    return func(*args, **kwargs)\n",
            "  File \"/usr/lib/python3.6/tempfile.py\", line 624, in func_wrapper\n",
            "    return func(*args, **kwargs)\n",
            "  File \"/usr/lib/python3.6/socket.py\", line 586, in readinto\n",
            "    return self._sock.recv_into(b)\n",
            "ConnectionResetError: [Errno 104] Connection reset by peer\n",
            "\n",
            "Exception in thread Thread-48:\n",
            "Traceback (most recent call last):\n",
            "  File \"/usr/lib/python3.6/threading.py\", line 916, in _bootstrap_inner\n",
            "    self.run()\n",
            "  File \"/usr/lib/python3.6/threading.py\", line 864, in run\n",
            "    self._target(*self._args, **self._kwargs)\n",
            "  File \"/usr/lib/python3.6/urllib/request.py\", line 281, in urlretrieve\n",
            "    tfp.write(block)\n",
            "BrokenPipeError: [Errno 32] Broken pipe\n",
            "\n",
            "[2020-11-02 17:41:04,231]    INFO Sorting BUS file outputGSM3526584/output.bus to tmp/output.s.bus\n",
            "[2020-11-02 17:41:10,378]    INFO Whitelist not provided\n",
            "[2020-11-02 17:41:10,378]    INFO Copying pre-packaged 10XV2 whitelist to outputGSM3526584\n",
            "[2020-11-02 17:41:10,595]    INFO Inspecting BUS file tmp/output.s.bus\n",
            "[2020-11-02 17:41:15,871]    INFO Correcting BUS records in tmp/output.s.bus to tmp/output.s.c.bus with whitelist outputGSM3526584/10xv2_whitelist.txt\n",
            "[2020-11-02 17:41:35,507]    INFO Sorting BUS file tmp/output.s.c.bus to outputGSM3526584/output.unfiltered.bus\n",
            "[2020-11-02 17:41:39,892]    INFO Generating count matrix outputGSM3526584/counts_unfiltered/cells_x_genes from BUS file outputGSM3526584/output.unfiltered.bus\n",
            "[2020-11-02 17:41:47,999]    INFO Converting matrix outputGSM3526584/counts_unfiltered/cells_x_genes.mtx to h5ad outputGSM3526584/counts_unfiltered/adata.h5ad\n",
            "[2020-11-02 17:41:59,954]    INFO Filtering with bustools\n",
            "[2020-11-02 17:41:59,954]    INFO Generating whitelist outputGSM3526584/filter_barcodes.txt from BUS file outputGSM3526584/output.unfiltered.bus\n",
            "[2020-11-02 17:42:00,034]    INFO Capturing records from BUS file outputGSM3526584/output.unfiltered.bus to tmp/output.filtered.bus with capture list outputGSM3526584/filter_barcodes.txt\n",
            "[2020-11-02 17:42:00,811]    INFO Sorting BUS file tmp/output.filtered.bus to outputGSM3526584/output.filtered.bus\n",
            "[2020-11-02 17:42:04,552]    INFO Generating count matrix outputGSM3526584/counts_filtered/cells_x_genes from BUS file outputGSM3526584/output.filtered.bus\n",
            "[2020-11-02 17:42:10,434]    INFO Converting matrix outputGSM3526584/counts_filtered/cells_x_genes.mtx to h5ad outputGSM3526584/counts_filtered/adata.h5ad\n"
          ],
          "name": "stdout"
        }
      ]
    },
    {
      "cell_type": "markdown",
      "metadata": {
        "id": "tDijOZzrqhN2"
      },
      "source": [
        "# Load unfiltered matrix and assign filters to each matrix individually"
      ]
    },
    {
      "cell_type": "markdown",
      "metadata": {
        "id": "VkNLZh_pNFFw"
      },
      "source": [
        "## Load the unfiltered matrix (check dimensions)"
      ]
    },
    {
      "cell_type": "code",
      "metadata": {
        "id": "PppRNeV8AIyw"
      },
      "source": [
        "# Define dict to store data\n",
        "results = {}\n"
      ],
      "execution_count": 19,
      "outputs": []
    },
    {
      "cell_type": "code",
      "metadata": {
        "id": "pKmtGf3c_BiZ",
        "cellView": "both",
        "outputId": "df1967bb-6449-4542-d372-5420cdc5cecd",
        "colab": {
          "base_uri": "https://localhost:8080/"
        }
      },
      "source": [
        "# load the unfiltered matrix\n",
        "for i in range(no_samples):\n",
        "  results[sample_id[i]] = anndata.read_h5ad(\"output\" + sample_id[i] + \"/counts_unfiltered/adata.h5ad\")\n",
        "  results[sample_id[i]].var[\"gene_id\"] = results[sample_id[i]].var.index.values\n",
        "\n",
        "  t2g = pd.read_csv(\"t2g.txt\", header=None, names=[\"tid\", \"gene_id\", \"gene_name\"], sep=\"\\t\")\n",
        "  t2g.index = t2g.gene_id\n",
        "  t2g = t2g.loc[~t2g.index.duplicated(keep='first')]\n",
        "\n",
        "  results[sample_id[i]].var[\"gene_name\"] = results[sample_id[i]].var.gene_id.map(t2g[\"gene_name\"])\n",
        "  results[sample_id[i]].var.index = results[sample_id[i]].var[\"gene_name\"]\n",
        "  print(\"The unfiltered matrix \" + sample_id[i] + \" contains {} cells by {} genes\".format(len(results[sample_id[i]].obs), len(results[sample_id[i]].var)))\n",
        "\n",
        "  results[sample_id[i]].obs[\"cell_counts\"] = results[sample_id[i]].X.sum(axis=1)\n",
        "  results[sample_id[i]].var[\"gene_counts\"] = nd(results[sample_id[i]].X.sum(axis=0))\n",
        "\n",
        "  results[sample_id[i]].obs[\"n_genes\"] = nd((results[sample_id[i]].X>0).sum(axis=1))\n",
        "  results[sample_id[i]].var[\"n_cells\"] = nd((results[sample_id[i]].X>0).sum(axis=0))\n",
        "\n",
        "  mito_genes = results[sample_id[i]].var_names.str.startswith(\"MT-\" or \"mt-\") \n",
        "  results[sample_id[i]].obs[\"percent_mito\"] = results[sample_id[i]][:,mito_genes].X.sum(axis=1)/results[sample_id[i]].X.sum(axis=1)*100\n",
        "\n",
        "  # Changing the name of the index is necessary to write the file (it won't work with duplicated names)\n",
        "  results[sample_id[i]].var.index.name = \"index\"\n",
        "\n"
      ],
      "execution_count": 20,
      "outputs": [
        {
          "output_type": "stream",
          "text": [
            "The unfiltered matrix GSM3526584 contains 192353 cells by 60623 genes\n"
          ],
          "name": "stdout"
        }
      ]
    },
    {
      "cell_type": "markdown",
      "metadata": {
        "id": "hDAUH3eH_2RA"
      },
      "source": [
        "## Assign filters for each matrix individually"
      ]
    },
    {
      "cell_type": "code",
      "metadata": {
        "id": "ukinuaKk_6Po"
      },
      "source": [
        "# Modify this manually to change sample after having assigned the \"expected_num_cells\" and \"mito_criteria\" parameters\n",
        "samp_n = 0\n",
        "\n",
        "\n",
        "# Filtering criteria\n",
        "cell_threshold = 100\n",
        "gene_threshold = 3\n",
        "\n",
        "mito_criteria = 30"
      ],
      "execution_count": 21,
      "outputs": []
    },
    {
      "cell_type": "code",
      "metadata": {
        "id": "a5wZB5pEfwNs",
        "cellView": "form",
        "outputId": "705aa274-7c15-4ad7-a5c3-e379a90e53d6",
        "colab": {
          "base_uri": "https://localhost:8080/",
          "height": 730
        }
      },
      "source": [
        "\n",
        "expected_num_cells = 8500#@param {type:\"integer\"}\n",
        "knee = np.sort(nd(results[sample_id[samp_n]].X.sum(axis=1)))[::-1]\n",
        "\n",
        "fig, ax = plt.subplots(figsize=(5, 5))\n",
        "\n",
        "x = knee\n",
        "y = range(len(knee))\n",
        "\n",
        "ax.loglog(x, y, linewidth=5, color=\"g\")\n",
        "\n",
        "ax.axvline(x=knee[expected_num_cells], linewidth=3, color=\"k\")\n",
        "ax.axhline(y=expected_num_cells, linewidth=3, color=\"k\")\n",
        "\n",
        "ax.set_xlabel(\"UMI Counts\")\n",
        "ax.set_ylabel(\"Set of Barcodes\")\n",
        "\n",
        "plt.show()\n",
        "\n",
        "cell_threshold = knee[expected_num_cells]\n",
        "\n",
        "results[\"cell_threshold\" + sample_id[samp_n]] = knee[expected_num_cells]\n",
        "\n",
        "print (\"Cells were filtered down to \" + str(expected_num_cells) + \" with at least \" + str(cell_threshold) + \" UMIs\")\n",
        "\n",
        "\n",
        "mito_criteria = 30#@param {type:\"integer\"}\n",
        "results[\"mito_criteria\" + sample_id[samp_n]] = mito_criteria\n",
        "\n",
        "fig, ax = plt.subplots(figsize=(5,5))\n",
        "\n",
        "\n",
        "x = nd(results[sample_id[samp_n]].obs[\"cell_counts\"][results[sample_id[i]].obs[\"cell_counts\"] > cell_threshold])\n",
        "y = nd(results[sample_id[samp_n]].obs[\"percent_mito\"][results[sample_id[i]].obs[\"cell_counts\"] > cell_threshold])\n",
        "\n",
        "ax.scatter(x, y, color=\"green\", alpha=0.1)\n",
        "\n",
        "ax.axhline(y=mito_criteria, linestyle=\"--\", color=\"k\")\n",
        "\n",
        "\n",
        "ax.set_xlabel(\"UMI Counts\")\n",
        "ax.set_ylabel(\"Percent mito\")\n",
        "\n",
        "\n",
        "plt.show()\n",
        "\n",
        "print(\"We select \" + str(mito_criteria) + \" % as the mitochondrial content threshold\")"
      ],
      "execution_count": 25,
      "outputs": [
        {
          "output_type": "display_data",
          "data": {
            "image/png": "[encoded data removed]",
            "text/plain": [
              "<Figure size 360x360 with 1 Axes>"
            ]
          },
          "metadata": {
            "tags": [],
            "image/png": {
              "width": 358,
              "height": 337
            },
            "needs_background": "light"
          }
        },
        {
          "output_type": "stream",
          "text": [
            "Cells were filtered down to 8500 with at least 98.0 UMIs\n"
          ],
          "name": "stdout"
        },
        {
          "output_type": "display_data",
          "data": {
            "image/png": "[encoded data removed]",
            "text/plain": [
              "<Figure size 360x360 with 1 Axes>"
            ]
          },
          "metadata": {
            "tags": [],
            "image/png": {
              "width": 362,
              "height": 342
            },
            "needs_background": "light"
          }
        },
        {
          "output_type": "stream",
          "text": [
            "We select 30 % as the mitochondrial content threshold\n"
          ],
          "name": "stdout"
        }
      ]
    },
    {
      "cell_type": "markdown",
      "metadata": {
        "id": "eP9j2ouPq9KY"
      },
      "source": [
        "# Filter matrix"
      ]
    },
    {
      "cell_type": "code",
      "metadata": {
        "id": "sE51WUA3gVmG",
        "outputId": "aef78e69-5c6b-49f2-c7f1-5580acfe7c8f",
        "colab": {
          "base_uri": "https://localhost:8080/"
        }
      },
      "source": [
        "for i in range(no_samples):\n",
        "  results[sample_id[i]].obs[\"pass_count_filter\"] = results[sample_id[i]].obs[\"cell_counts\"] > results[\"cell_threshold\" + sample_id[i]]\n",
        "  results[sample_id[i]].obs[\"pass_mito_filter\"] = results[sample_id[i]].obs.percent_mito < results[\"mito_criteria\" + sample_id[i]]\n",
        "  results[sample_id[i]].var[\"pass_gene_filter\"] = results[sample_id[i]].var[\"n_cells\"] > gene_threshold\n",
        "\n",
        "  cell_mask = np.logical_and(results[sample_id[i]].obs[\"pass_count_filter\"].values, results[sample_id[i]].obs[\"pass_mito_filter\"].values)\n",
        "  gene_mask = results[sample_id[i]].var[\"pass_gene_filter\"].values\n",
        "\n",
        "  print(\"Current Shape: {:,} cells x {:,} genes\".format(results[sample_id[i]].shape[0], results[sample_id[i]].shape[1]))\n",
        "  print(\"    New shape: {:,} cells x {:,} genes\".format(cell_mask.sum(), gene_mask.sum()))\n",
        "  results[\"data_\" + sample_id[i]] = results[sample_id[i]][cell_mask, gene_mask]"
      ],
      "execution_count": 26,
      "outputs": [
        {
          "output_type": "stream",
          "text": [
            "Current Shape: 192,353 cells x 60,623 genes\n",
            "    New shape: 8,214 cells x 25,856 genes\n"
          ],
          "name": "stdout"
        }
      ]
    },
    {
      "cell_type": "markdown",
      "metadata": {
        "id": "BxPA81yj4TlU"
      },
      "source": [
        "# Anotate and write the Anndata object"
      ]
    },
    {
      "cell_type": "code",
      "metadata": {
        "id": "O-q_Qj2U4kDU",
        "outputId": "d87c6aa0-8237-4849-fcc7-155468d95201",
        "colab": {
          "base_uri": "https://localhost:8080/"
        }
      },
      "source": [
        "for i in range(no_samples):\n",
        "\n",
        "\n",
        "  results[\"data_\" + sample_id[i]].uns[\"database_id\"] = database_id[samp_n]\n",
        "\n",
        "  results[\"data_\" + sample_id[i]].uns[\"tissue\"] = tissue[samp_n]\n",
        "\n",
        "  results[\"data_\" + sample_id[i]].uns[\"cell_type\"] = cell_type[samp_n]\n",
        "\n",
        "  results[\"data_\" + sample_id[i]].uns[\"sample_id\"] = sample_id[samp_n]\n",
        "\n",
        "  results[\"data_\" + sample_id[i]].uns[\"condition\"] = condition[samp_n]\n",
        "\n",
        "  results[\"data_\" + sample_id[i]].uns[\"species\"] = species[samp_n]\n",
        "\n",
        "  results[\"data_\" + sample_id[i]].uns[\"technology\"] = technology[samp_n]\n",
        "\n",
        "  results[\"data_\" + sample_id[i]].uns[\"paper\"] = paper[samp_n]\n",
        "\n",
        "  results[\"data_\" + sample_id[i]].uns[\"figure\"] = figure[samp_n]\n",
        "\n",
        "\n",
        "%cd /content\n",
        "\n",
        "for i in range(no_samples):\n",
        "\n",
        "  results[\"data_\" + sample_id[i]].write(\"result\" + sample_id[i])"
      ],
      "execution_count": 27,
      "outputs": [
        {
          "output_type": "stream",
          "text": [
            "Trying to set attribute `.uns` of view, copying.\n",
            "Variable names are not unique. To make them unique, call `.var_names_make_unique`.\n",
            "Variable names are not unique. To make them unique, call `.var_names_make_unique`.\n"
          ],
          "name": "stderr"
        },
        {
          "output_type": "stream",
          "text": [
            "/content\n"
          ],
          "name": "stdout"
        },
        {
          "output_type": "stream",
          "text": [
            "... storing 'gene_name' as categorical\n"
          ],
          "name": "stderr"
        }
      ]
    }
  ]
}