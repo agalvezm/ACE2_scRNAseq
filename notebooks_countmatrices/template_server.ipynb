{
  "nbformat": 4,
  "nbformat_minor": 0,
  "metadata": {
    "colab": {
      "name": "Copy of template.ipynb",
      "provenance": [],
      "collapsed_sections": [],
      "toc_visible": true,
      "include_colab_link": true
    },
    "kernelspec": {
      "name": "python3",
      "display_name": "Python 3"
    }
  },
  "cells": [
    {
      "cell_type": "markdown",
      "metadata": {
        "id": "view-in-github",
        "colab_type": "text"
      },
      "source": [
        "<a href=\"https://colab.research.google.com/github/agalvezm/ACE2_scRNAseq/blob/master/notebooks_countmatrices/template_server.ipynb\" target=\"_parent\"><img src=\"https://colab.research.google.com/assets/colab-badge.svg\" alt=\"Open In Colab\"/></a>"
      ]
    },
    {
      "cell_type": "markdown",
      "metadata": {
        "id": "V9ryXluJsJw9"
      },
      "source": [
        "# GSE _ GSM"
      ]
    },
    {
      "cell_type": "markdown",
      "metadata": {
        "id": "hWsKgOOXUfu0"
      },
      "source": [
        "This dataset was too large to be processed in google colab. The gene count and TCC were generated using the following commands:\n",
        "\n",
        "```\n",
        "SRA=SRR11181957\n",
        "GSM=GSM4339772\n",
        "\n",
        "cd /central/scratch/agalvezm/ace2/counts\n",
        "\n",
        "/central/home/agalvezm/opt/sratoolkit.2.10.9-centos_linux64/bin/prefetch 2.10.9 ${SRA} --max-size 2000000000\n",
        "\n",
        "cd ${SRA}\n",
        "\n",
        "/central/home/agalvezm/opt/sratoolkit.2.10.9-centos_linux64/bin/fasterq-dump --split-files --outdir fastq --include-technical ${SRA}.sra\n",
        "\n",
        "~/anaconda3/bin/kb ref -d human -i index.idx -g t2g.txt -f1 transcriptome.fasta\n",
        "\n",
        "~/anaconda3/bin/kb count --h5ad -i index.idx -g t2g.txt -x 10xv2 -o ../results/output${GSM} --filter bustools -t 2 ${SRA}_1.fastq.gz ${SRA}_2.fastq.gz\n",
        "\n",
        "~/anaconda3/bin/kb count --h5ad -i index.idx -g t2g.txt -x 10xv2 -o ../results/tccoutput${GSM} --tcc --filter bustools -t 2 ${SRA}_1.fastq.gz ${SRA}_2.fastq.gz\n",
        "\n",
        "```\n",
        "\n",
        "The unfiltered gene count matrix and TCC produced were uploaded to folders *gc/* and *tcc/* repectively in this run.\n",
        "\n",
        "\n",
        "\n"
      ]
    },
    {
      "cell_type": "code",
      "metadata": {
        "id": "pp_O2BoaUMTO"
      },
      "source": [
        "mkdir /content/gc /content/tcc"
      ],
      "execution_count": null,
      "outputs": []
    },
    {
      "cell_type": "code",
      "metadata": {
        "id": "ggNFAQJCRh6P",
        "colab": {
          "base_uri": "https://localhost:8080/",
          "height": 34
        },
        "outputId": "79e6ed32-df14-4602-b3ab-b141cb9904ff"
      },
      "source": [
        "# define the values for the analysis\n",
        "\n",
        "# accession id for the data\n",
        "\n",
        "\n",
        "database_id = \"GSE\"\n",
        "sample_id = \"GSM\"\n",
        "\n",
        "# Metadata\n",
        "\n",
        "\n",
        "database_id = [id] * no_samples\n",
        "\n",
        "tissue = \"blood\"\n",
        "\n",
        "cell_type = \"bone marrow\"\n",
        "\n",
        "condition = \"ET09\"\n",
        "\n",
        "species = \"human\"\n",
        "\n",
        "technology = \"10xv2\"\n",
        "\n",
        "paper = \"Muus et al 2020\"\n",
        "\n",
        "figure = \"Fig 1 a,b  ED Fig 1 a,b,c,d  ED Fig 2 a,b,c,d,e\"\n"
      ],
      "execution_count": null,
      "outputs": [
        {
          "output_type": "stream",
          "text": [
            "env: BAM_LINK=ftp://ftp.sra.ebi.ac.uk/vol1/run/SRR638/SRR6389864/possorted_genome_bam.bam\n"
          ],
          "name": "stdout"
        }
      ]
    },
    {
      "cell_type": "markdown",
      "metadata": {
        "id": "FPwL0-_-KSAw"
      },
      "source": [
        "# Imports and installs"
      ]
    },
    {
      "cell_type": "code",
      "metadata": {
        "id": "1HSlUGZEp3oP"
      },
      "source": [
        "# install and import necessary software\n",
        "\n",
        "# Install kb and scanpy\n",
        "!pip -q install kb-python \n",
        "!pip -q install scanpy\n",
        "\n",
        "import re\n",
        "import os\n",
        "\n",
        "# Setup\n",
        "\n",
        "import anndata\n",
        "import pandas as pd\n",
        "import numpy as np\n",
        "import matplotlib.pyplot as plt\n",
        "import matplotlib as mpl\n",
        "import matplotlib.patches as mpatches\n",
        "import scanpy as sc\n",
        "from scipy import stats\n",
        "\n",
        "from collections import OrderedDict\n",
        "from sklearn.decomposition import TruncatedSVD\n",
        "from sklearn.manifold import TSNE\n",
        "from sklearn.preprocessing import scale\n",
        "\n",
        "from sklearn.cluster import KMeans\n",
        "from sklearn.preprocessing import normalize\n",
        "from sklearn.preprocessing import LabelEncoder\n",
        "from sklearn.neighbors import NeighborhoodComponentsAnalysis\n",
        "from matplotlib import cm\n",
        "from matplotlib.lines import Line2D\n",
        "\n",
        "def nd(arr):\n",
        "    return np.asarray(arr).reshape(-1)\n",
        "def yex(ax):\n",
        "    lims = [np.min([ax.get_xlim(), ax.get_ylim()]),\n",
        "            np.max([ax.get_xlim(), ax.get_ylim()])]\n",
        "\n",
        "    # now plot both limits against eachother\n",
        "    ax.plot(lims, lims, 'k-', alpha=0.75, zorder=0)\n",
        "    ax.set_aspect('equal')\n",
        "    ax.set_xlim(lims)\n",
        "    ax.set_ylim(lims)\n",
        "    return ax\n",
        "\n",
        "def trim_axs(axs, N):\n",
        "    \"\"\"little helper to massage the axs list to have correct length...\"\"\"\n",
        "    axs = axs.flat\n",
        "    for ax in axs[N:]:\n",
        "        ax.remove()\n",
        "    return axs[:N]\n",
        "\n",
        "import warnings\n",
        "warnings.filterwarnings('ignore')\n",
        "\n",
        "fsize=20\n",
        "\n",
        "plt.rcParams.update({'font.size': fsize})\n",
        "%config InlineBackend.figure_format = 'retina'"
      ],
      "execution_count": null,
      "outputs": []
    },
    {
      "cell_type": "code",
      "metadata": {
        "id": "4WdWtOf8YLU_"
      },
      "source": [
        "# Execute kb ref to get t2g.txt file\n",
        "!kb ref -d $species -i index.idx -g t2g.txt -f1 transcriptome.fasta\n"
      ],
      "execution_count": null,
      "outputs": []
    },
    {
      "cell_type": "markdown",
      "metadata": {
        "id": "tDijOZzrqhN2"
      },
      "source": [
        "# Load unfiltered matrix and assign filters to each matrix individually"
      ]
    },
    {
      "cell_type": "markdown",
      "metadata": {
        "id": "VkNLZh_pNFFw"
      },
      "source": [
        "## Load the unfiltered matrices"
      ]
    },
    {
      "cell_type": "code",
      "metadata": {
        "id": "PppRNeV8AIyw"
      },
      "source": [
        "# Gunzip matrices\n",
        "!gunzip /content/gc/adata.h5ad.gz\n",
        "!gunzip /content/tcc/adata.h5ad.gz\n",
        "\n",
        "# Load matrices\n",
        "adata = anndata.read_h5ad(\"/content/gc/adata.h5ad)\n",
        "adata_tcc = anndata.read_h5ad(\"/content/tcc/adata.h5ad)"
      ],
      "execution_count": null,
      "outputs": []
    },
    {
      "cell_type": "code",
      "metadata": {
        "id": "buBg3OUJXk1T"
      },
      "source": [
        "# Reformat and fill gene count matrix \n",
        "\n",
        "adata = anndata.read_h5ad(\"output\" + sample_id[i] + \"/counts_unfiltered/adata.h5ad\")\n",
        "adata.var[\"gene_id\"] = adata.var.index.values\n",
        "\n",
        "t2g = pd.read_csv(\"t2g.txt\", header=None, names=[\"tid\", \"gene_id\", \"gene_name\"], sep=\"\\t\")\n",
        "t2g.index = t2g.gene_id\n",
        "t2g = t2g.loc[~t2g.index.duplicated(keep='first')]\n",
        "\n",
        "adata.var[\"gene_name\"] = adata.var.gene_id.map(t2g[\"gene_name\"])\n",
        "adata.var.index = adata.var[\"gene_name\"]\n",
        "print(\"The unfiltered matrix \" + sample_id[i] + \" contains {} cells by {} genes\".format(len(adata.obs), len(adata.var)))\n",
        "\n",
        "adata.obs[\"cell_counts\"] = adata.X.sum(axis=1)\n",
        "adata.var[\"gene_counts\"] = nd(adata.X.sum(axis=0))\n",
        "\n",
        "adata.obs[\"n_genes\"] = nd((adata.X>0).sum(axis=1))\n",
        "adata.var[\"n_cells\"] = nd((adata.X>0).sum(axis=0))\n",
        "\n",
        "mito_genes = adata.var_names.str.startswith(\"MT-\" or \"mt-\") \n",
        "adata.obs[\"percent_mito\"] = adata[:,mito_genes].X.sum(axis=1)/adata.X.sum(axis=1)*100\n",
        "\n",
        "# Changing the name of the index is necessary to write the file (it won't work with duplicated names)\n",
        "adata.var.index.name = \"index\"\n",
        "\n"
      ],
      "execution_count": null,
      "outputs": []
    },
    {
      "cell_type": "markdown",
      "metadata": {
        "id": "hDAUH3eH_2RA"
      },
      "source": [
        "## Assign filters for gene count matrix"
      ]
    },
    {
      "cell_type": "code",
      "metadata": {
        "id": "ukinuaKk_6Po"
      },
      "source": [
        "# Filtering criteria\n",
        "cell_threshold = 100\n",
        "gene_threshold = 3\n"
      ],
      "execution_count": 2,
      "outputs": []
    },
    {
      "cell_type": "code",
      "metadata": {
        "id": "a5wZB5pEfwNs",
        "cellView": "form"
      },
      "source": [
        "expected_num_cells = 10000#@param {type:\"integer\"}\n",
        "knee = np.sort(nd(adata.X.sum(axis=1)))[::-1]\n",
        "\n",
        "fig, ax = plt.subplots(figsize=(5, 5))\n",
        "\n",
        "x = knee\n",
        "y = range(len(knee))\n",
        "\n",
        "ax.loglog(x, y, linewidth=5, color=\"g\")\n",
        "\n",
        "ax.axvline(x=knee[expected_num_cells], linewidth=3, color=\"k\")\n",
        "ax.axhline(y=expected_num_cells, linewidth=3, color=\"k\")\n",
        "\n",
        "ax.set_xlabel(\"UMI Counts\")\n",
        "ax.set_ylabel(\"Set of Barcodes\")\n",
        "\n",
        "plt.show()\n",
        "\n",
        "cell_threshold = knee[expected_num_cells]\n",
        "\n",
        "results[\"cell_threshold\" + sample_id[samp_n]] = knee[expected_num_cells]\n",
        "\n",
        "print (\"Cells were filtered down to \" + str(expected_num_cells) + \" with at least \" + str(cell_threshold) + \" UMIs\")\n",
        "\n",
        "\n",
        "mito_criteria = 18#@param {type:\"integer\"}\n",
        "results[\"mito_criteria\" + sample_id[samp_n]] = mito_criteria\n",
        "\n",
        "fig, ax = plt.subplots(figsize=(5,5))\n",
        "\n",
        "\n",
        "x = nd(adata.obs[\"cell_counts\"][adata.obs[\"cell_counts\"] > cell_threshold])\n",
        "y = nd(adata.obs[\"percent_mito\"][adata.obs[\"cell_counts\"] > cell_threshold])\n",
        "\n",
        "ax.scatter(x, y, color=\"green\", alpha=0.1)\n",
        "\n",
        "ax.axhline(y=mito_criteria, linestyle=\"--\", color=\"k\")\n",
        "\n",
        "\n",
        "ax.set_xlabel(\"UMI Counts\")\n",
        "ax.set_ylabel(\"Percent mito\")\n",
        "\n",
        "\n",
        "plt.show()\n",
        "\n",
        "print(\"We select \" + str(mito_criteria) + \" % as the mitochondrial content threshold\")\n"
      ],
      "execution_count": null,
      "outputs": []
    },
    {
      "cell_type": "markdown",
      "metadata": {
        "id": "eP9j2ouPq9KY"
      },
      "source": [
        "# Filter gene count matrix"
      ]
    },
    {
      "cell_type": "code",
      "metadata": {
        "id": "sE51WUA3gVmG"
      },
      "source": [
        "adata.obs[\"pass_count_filter\"] = adata.obs[\"cell_counts\"] > results[\"cell_threshold\" + sample_id[i]]\n",
        "adata.obs[\"pass_mito_filter\"] = adata.obs.percent_mito < results[\"mito_criteria\" + sample_id[i]]\n",
        "adata.var[\"pass_gene_filter\"] = adata.var[\"n_cells\"] > gene_threshold\n",
        "\n",
        "cell_mask = np.logical_and(adata.obs[\"pass_count_filter\"].values, adata.obs[\"pass_mito_filter\"].values)\n",
        "gene_mask = adata.var[\"pass_gene_filter\"].values\n",
        "\n",
        "print(\"Current Shape: {:,} cells x {:,} genes\".format(adata.shape[0], adata.shape[1]))\n",
        "print(\"    New shape: {:,} cells x {:,} genes\".format(cell_mask.sum(), gene_mask.sum()))\n",
        "results[\"data_\" + sample_id[i]] = adata[cell_mask, gene_mask]\n"
      ],
      "execution_count": null,
      "outputs": []
    },
    {
      "cell_type": "markdown",
      "metadata": {
        "id": "BxPA81yj4TlU"
      },
      "source": [
        "# Anotate and write gene count matrix"
      ]
    },
    {
      "cell_type": "code",
      "metadata": {
        "id": "O-q_Qj2U4kDU"
      },
      "source": [
        "adata.uns[\"database_id\"] = database_id\n",
        "\n",
        "adata.uns[\"tissue\"] = tissue\n",
        "\n",
        "adata.uns[\"cell_type\"] = cell_type\n",
        "\n",
        "adata.uns[\"sample_id\"] = sample_id\n",
        "\n",
        "adata.uns[\"condition\"] = condition\n",
        "\n",
        "adata.uns[\"species\"] = species\n",
        "\n",
        "adata.uns[\"technology\"] = technology\n",
        "\n",
        "adata.uns[\"paper\"] = paper\n",
        "\n",
        "adata.uns[\"figure\"] = figure\n",
        "\n",
        "%cd /content\n",
        "\n",
        "adata.write(\"result\" + sample_id)"
      ],
      "execution_count": null,
      "outputs": []
    },
    {
      "cell_type": "markdown",
      "metadata": {
        "id": "bHtxaUmtZzVf"
      },
      "source": [
        "Filter TCC using gene count matrix's filter"
      ]
    },
    {
      "cell_type": "code",
      "metadata": {
        "id": "dv9FgFT6Zy-R"
      },
      "source": [
        "adata_tcc = adata_tcc[adata.obs.index.values]\n",
        "# transfer obs data\n",
        "adata_tcc.obs = adata.obs\n",
        "# transfer metadata\n",
        "adata_tcc.uns = adata.uns\n",
        "# write tcc matrix\n",
        "adata_tcc.write(\"/content/tcc_\" + sample_id)\n",
        "#gzip tcc matrix\n",
        "cmd = \"gzip /content/tcc_\" + sample\n",
        "!$cmd"
      ],
      "execution_count": null,
      "outputs": []
    }
  ]
}