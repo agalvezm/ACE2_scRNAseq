{
  "nbformat": 4,
  "nbformat_minor": 0,
  "metadata": {
    "colab": {
      "name": "Copy of GSE135922_GSM4037993.ipynb",
      "provenance": [],
      "collapsed_sections": [],
      "include_colab_link": true
    },
    "kernelspec": {
      "name": "python3",
      "display_name": "Python 3"
    }
  },
  "cells": [
    {
      "cell_type": "markdown",
      "metadata": {
        "id": "view-in-github",
        "colab_type": "text"
      },
      "source": [
        "<a href=\"https://colab.research.google.com/github/agalvezm/ACE2_scRNAseq/blob/master/notebooks_countmatrices/GSE135922_GSM4037993.ipynb\" target=\"_parent\"><img src=\"https://colab.research.google.com/assets/colab-badge.svg\" alt=\"Open In Colab\"/></a>"
      ]
    },
    {
      "cell_type": "markdown",
      "metadata": {
        "id": "V9ryXluJsJw9"
      },
      "source": [
        "# GSE135922_GSM4037993"
      ]
    },
    {
      "cell_type": "markdown",
      "metadata": {
        "id": "hWsKgOOXUfu0"
      },
      "source": [
        "This dataset was too large to be processed in google colab. The gene count and TCC were generated running the following script, with the GSM number as the first argument followed by all the SRR numbers associated with the sample:\n",
        "\n",
        "```\n",
        "GSM=$1\n",
        "\n",
        "cd /home/agalvezm/ace2/counts\n",
        "\n",
        "mkdir $GSM\n",
        "\n",
        "cd $GSM\n",
        "\n",
        "for sra in \"${@:2}\"\n",
        "do\n",
        "\t/central/home/agalvezm/opt/sratoolkit.2.10.9-centos_linux64/bin/prefetch 2.10.9 ${sra} --max-size 2000000000\n",
        "\tcd $sra\n",
        "\t/central/home/agalvezm/opt/sratoolkit.2.10.9-centos_linux64/bin/fasterq-dump --split-files --outdir ../fastq --include-technical ${sra}.sra\t\n",
        "\tcd ..\n",
        "\n",
        "done\n",
        "\n",
        "~/anaconda3/bin/kb ref -d human -i index.idx -g t2g.txt -f1 transcriptome.fasta\n",
        "\n",
        "cd fastq\n",
        "~/anaconda3/bin/kb count --h5ad -i ../index.idx -g ../t2g.txt -x 10xv2 -o ../../results/${GSM}/output${GSM} --filter bustools -t 2 --overwrite $(ls)\n",
        "\n",
        "~/anaconda3/bin/kb count --h5ad -i ../index.idx -g ../t2g.txt -x 10xv2 -o ../../results/${GSM}/tcc_output${GSM} --tcc --filter bustools -t 2 --overwrite $(ls) \n",
        "```\n",
        "\n",
        "\n",
        "Please upload the resulting h5ad files for the gene counts and TCC in /content\n",
        "\n",
        "\n"
      ]
    },
    {
      "cell_type": "code",
      "metadata": {
        "id": "HOFqitVzd2in"
      },
      "source": [
        "no_samples = 1\n",
        "\n",
        "sample_id = \"GSM4037993\"\n",
        "\n",
        "cell_type = [\"retinal pigment epithelium periphery, CD31+\"] * no_samples\n",
        "\n",
        "condition = [\"donor 6\"] * no_samples"
      ],
      "execution_count": 1,
      "outputs": []
    },
    {
      "cell_type": "code",
      "metadata": {
        "id": "ggNFAQJCRh6P"
      },
      "source": [
        "\n",
        "fastqs_per_sample = [1] \n",
        "\n",
        "\n",
        "database_id = [\"GSE135922\"] * no_samples\n",
        "\n",
        "tissue = [\"eye\"] * no_samples\n",
        "\n",
        "species = [\"human\"] * no_samples\n",
        "\n",
        "technology = [\"10xv2\"] * no_samples\n",
        "\n",
        "paper = [\"Sungnak et al 2020\"] * no_samples\n",
        "\n",
        "figure = [\"Fig 1\"] * no_samples\n",
        "\n",
        "# Set string variables for kb functions\n",
        "\n",
        "species_kb = species[0]\n",
        "\n",
        "technology_kb = technology[0]"
      ],
      "execution_count": 2,
      "outputs": []
    },
    {
      "cell_type": "markdown",
      "metadata": {
        "id": "FPwL0-_-KSAw"
      },
      "source": [
        "# Imports and installs"
      ]
    },
    {
      "cell_type": "code",
      "metadata": {
        "id": "1HSlUGZEp3oP",
        "colab": {
          "base_uri": "https://localhost:8080/"
        },
        "outputId": "229e8d82-994a-4562-e04b-c0450580e1b7"
      },
      "source": [
        "# install and import necessary software\n",
        "\n",
        "# Install kb and scanpy\n",
        "!pip -q install kb-python \n",
        "!pip -q install scanpy\n",
        "\n",
        "import re\n",
        "import os\n",
        "\n",
        "# Setup\n",
        "\n",
        "import anndata\n",
        "import pandas as pd\n",
        "import numpy as np\n",
        "import matplotlib.pyplot as plt\n",
        "import matplotlib as mpl\n",
        "import matplotlib.patches as mpatches\n",
        "import scanpy as sc\n",
        "from scipy import stats\n",
        "\n",
        "from collections import OrderedDict\n",
        "from sklearn.decomposition import TruncatedSVD\n",
        "from sklearn.manifold import TSNE\n",
        "from sklearn.preprocessing import scale\n",
        "\n",
        "from sklearn.cluster import KMeans\n",
        "from sklearn.preprocessing import normalize\n",
        "from sklearn.preprocessing import LabelEncoder\n",
        "from sklearn.neighbors import NeighborhoodComponentsAnalysis\n",
        "from matplotlib import cm\n",
        "from matplotlib.lines import Line2D\n",
        "\n",
        "def nd(arr):\n",
        "    return np.asarray(arr).reshape(-1)\n",
        "def yex(ax):\n",
        "    lims = [np.min([ax.get_xlim(), ax.get_ylim()]),\n",
        "            np.max([ax.get_xlim(), ax.get_ylim()])]\n",
        "\n",
        "    # now plot both limits against eachother\n",
        "    ax.plot(lims, lims, 'k-', alpha=0.75, zorder=0)\n",
        "    ax.set_aspect('equal')\n",
        "    ax.set_xlim(lims)\n",
        "    ax.set_ylim(lims)\n",
        "    return ax\n",
        "\n",
        "def trim_axs(axs, N):\n",
        "    \"\"\"little helper to massage the axs list to have correct length...\"\"\"\n",
        "    axs = axs.flat\n",
        "    for ax in axs[N:]:\n",
        "        ax.remove()\n",
        "    return axs[:N]\n",
        "\n",
        "import warnings\n",
        "warnings.filterwarnings('ignore')\n",
        "\n",
        "fsize=20\n",
        "\n",
        "plt.rcParams.update({'font.size': fsize})\n",
        "%config InlineBackend.figure_format = 'retina'"
      ],
      "execution_count": 3,
      "outputs": [
        {
          "output_type": "stream",
          "text": [
            "\u001b[K     |████████████████████████████████| 59.1MB 84kB/s \n",
            "\u001b[K     |████████████████████████████████| 10.3MB 32.8MB/s \n",
            "\u001b[K     |████████████████████████████████| 13.2MB 360kB/s \n",
            "\u001b[K     |████████████████████████████████| 51kB 4.4MB/s \n",
            "\u001b[K     |████████████████████████████████| 133kB 45.1MB/s \n",
            "\u001b[K     |████████████████████████████████| 81kB 6.5MB/s \n",
            "\u001b[K     |████████████████████████████████| 112kB 62.6MB/s \n",
            "\u001b[K     |████████████████████████████████| 71kB 5.1MB/s \n",
            "\u001b[K     |████████████████████████████████| 1.2MB 57.7MB/s \n",
            "\u001b[?25h  Building wheel for loompy (setup.py) ... \u001b[?25l\u001b[?25hdone\n",
            "  Building wheel for sinfo (setup.py) ... \u001b[?25l\u001b[?25hdone\n",
            "  Building wheel for umap-learn (setup.py) ... \u001b[?25l\u001b[?25hdone\n",
            "  Building wheel for numpy-groupies (setup.py) ... \u001b[?25l\u001b[?25hdone\n",
            "  Building wheel for pynndescent (setup.py) ... \u001b[?25l\u001b[?25hdone\n"
          ],
          "name": "stdout"
        }
      ]
    },
    {
      "cell_type": "code",
      "metadata": {
        "id": "4WdWtOf8YLU_",
        "colab": {
          "base_uri": "https://localhost:8080/"
        },
        "outputId": "15704248-910c-4be8-b3b4-c0c372c0ea66"
      },
      "source": [
        "# Execute kb ref to get t2g.txt file\n",
        "!kb ref -d $species_kb -i index.idx -g t2g.txt -f1 transcriptome.fasta\n"
      ],
      "execution_count": 4,
      "outputs": [
        {
          "output_type": "stream",
          "text": [
            "[2021-05-07 18:16:44,272]    INFO Downloading files for human from https://caltech.box.com/shared/static/v1nm7lpnqz5syh8dyzdk2zs8bglncfib.gz to tmp/v1nm7lpnqz5syh8dyzdk2zs8bglncfib.gz\n",
            "100% 2.23G/2.23G [03:16<00:00, 12.1MB/s]\n",
            "[2021-05-07 18:20:02,414]    INFO Extracting files from tmp/v1nm7lpnqz5syh8dyzdk2zs8bglncfib.gz\n"
          ],
          "name": "stdout"
        }
      ]
    },
    {
      "cell_type": "markdown",
      "metadata": {
        "id": "tDijOZzrqhN2"
      },
      "source": [
        "# Load unfiltered matrix and assign filters to each matrix individually"
      ]
    },
    {
      "cell_type": "markdown",
      "metadata": {
        "id": "VkNLZh_pNFFw"
      },
      "source": [
        "## Load the unfiltered matrices"
      ]
    },
    {
      "cell_type": "code",
      "metadata": {
        "id": "PppRNeV8AIyw"
      },
      "source": [
        "# # Gunzip matrices\n",
        "!gunzip /content/adata.h5ad.gz\n",
        "!gunzip /content/adata_tcc.h5ad.gz\n",
        "\n",
        "# Load matrices\n",
        "adata = anndata.read_h5ad(\"/content/adata.h5ad\")\n",
        "adata_tcc = anndata.read_h5ad(\"/content/adata_tcc.h5ad\")"
      ],
      "execution_count": 5,
      "outputs": []
    },
    {
      "cell_type": "code",
      "metadata": {
        "id": "K9gVpFX4GKVe",
        "colab": {
          "base_uri": "https://localhost:8080/",
          "height": 442
        },
        "outputId": "1ea285a9-36f0-4edf-a4f4-3b4179ed1717"
      },
      "source": [
        "adata.var"
      ],
      "execution_count": 6,
      "outputs": [
        {
          "output_type": "execute_result",
          "data": {
            "text/html": [
              "<div>\n",
              "<style scoped>\n",
              "    .dataframe tbody tr th:only-of-type {\n",
              "        vertical-align: middle;\n",
              "    }\n",
              "\n",
              "    .dataframe tbody tr th {\n",
              "        vertical-align: top;\n",
              "    }\n",
              "\n",
              "    .dataframe thead th {\n",
              "        text-align: right;\n",
              "    }\n",
              "</style>\n",
              "<table border=\"1\" class=\"dataframe\">\n",
              "  <thead>\n",
              "    <tr style=\"text-align: right;\">\n",
              "      <th></th>\n",
              "      <th>gene_name</th>\n",
              "    </tr>\n",
              "    <tr>\n",
              "      <th>gene_id</th>\n",
              "      <th></th>\n",
              "    </tr>\n",
              "  </thead>\n",
              "  <tbody>\n",
              "    <tr>\n",
              "      <th>ENSG00000223972.5</th>\n",
              "      <td>DDX11L1</td>\n",
              "    </tr>\n",
              "    <tr>\n",
              "      <th>ENSG00000227232.5</th>\n",
              "      <td>WASH7P</td>\n",
              "    </tr>\n",
              "    <tr>\n",
              "      <th>ENSG00000278267.1</th>\n",
              "      <td>MIR6859-1</td>\n",
              "    </tr>\n",
              "    <tr>\n",
              "      <th>ENSG00000243485.5</th>\n",
              "      <td>MIR1302-2HG</td>\n",
              "    </tr>\n",
              "    <tr>\n",
              "      <th>ENSG00000284332.1</th>\n",
              "      <td>MIR1302-2</td>\n",
              "    </tr>\n",
              "    <tr>\n",
              "      <th>...</th>\n",
              "      <td>...</td>\n",
              "    </tr>\n",
              "    <tr>\n",
              "      <th>ENSG00000271254.6</th>\n",
              "      <td>AC240274.1</td>\n",
              "    </tr>\n",
              "    <tr>\n",
              "      <th>ENSG00000275405.1</th>\n",
              "      <td>U1</td>\n",
              "    </tr>\n",
              "    <tr>\n",
              "      <th>ENSG00000275987.1</th>\n",
              "      <td>U1</td>\n",
              "    </tr>\n",
              "    <tr>\n",
              "      <th>ENSG00000277475.1</th>\n",
              "      <td>AC213203.2</td>\n",
              "    </tr>\n",
              "    <tr>\n",
              "      <th>ENSG00000268674.2</th>\n",
              "      <td>AC213203.1</td>\n",
              "    </tr>\n",
              "  </tbody>\n",
              "</table>\n",
              "<p>60623 rows × 1 columns</p>\n",
              "</div>"
            ],
            "text/plain": [
              "                     gene_name\n",
              "gene_id                       \n",
              "ENSG00000223972.5      DDX11L1\n",
              "ENSG00000227232.5       WASH7P\n",
              "ENSG00000278267.1    MIR6859-1\n",
              "ENSG00000243485.5  MIR1302-2HG\n",
              "ENSG00000284332.1    MIR1302-2\n",
              "...                        ...\n",
              "ENSG00000271254.6   AC240274.1\n",
              "ENSG00000275405.1           U1\n",
              "ENSG00000275987.1           U1\n",
              "ENSG00000277475.1   AC213203.2\n",
              "ENSG00000268674.2   AC213203.1\n",
              "\n",
              "[60623 rows x 1 columns]"
            ]
          },
          "metadata": {
            "tags": []
          },
          "execution_count": 6
        }
      ]
    },
    {
      "cell_type": "code",
      "metadata": {
        "id": "buBg3OUJXk1T",
        "colab": {
          "base_uri": "https://localhost:8080/"
        },
        "outputId": "cdac1395-e93b-4ba5-81ce-0233e4bc0815"
      },
      "source": [
        "# Reformat and fill gene count matrix \n",
        "\n",
        "adata.var[\"gene_id\"] = adata.var.index.values\n",
        "\n",
        "t2g = pd.read_csv(\"t2g.txt\", header=None, names=[\"tid\", \"gene_id\", \"gene_name\"], sep=\"\\t\")\n",
        "t2g.index = t2g.gene_id\n",
        "t2g = t2g.loc[~t2g.index.duplicated(keep='first')]\n",
        "\n",
        "adata.var[\"gene_name\"] = adata.var.gene_id.map(t2g[\"gene_name\"])\n",
        "adata.var.index = adata.var[\"gene_name\"]\n",
        "print(\"The unfiltered matrix \" + sample_id + \" contains {} cells by {} genes\".format(len(adata.obs), len(adata.var)))\n",
        "\n",
        "adata.obs[\"cell_counts\"] = adata.X.sum(axis=1)\n",
        "adata.var[\"gene_counts\"] = nd(adata.X.sum(axis=0))\n",
        "\n",
        "adata.obs[\"n_genes\"] = nd((adata.X>0).sum(axis=1))\n",
        "adata.var[\"n_cells\"] = nd((adata.X>0).sum(axis=0))\n",
        "\n",
        "mito_genes = adata.var_names.str.startswith(\"MT-\" or \"mt-\") \n",
        "adata.obs[\"percent_mito\"] = adata[:,mito_genes].X.sum(axis=1)/adata.X.sum(axis=1)*100\n",
        "\n",
        "# Changing the name of the index is necessary to write the file (it won't work with duplicated names)\n",
        "adata.var.index.name = \"index\"\n",
        "\n"
      ],
      "execution_count": 7,
      "outputs": [
        {
          "output_type": "stream",
          "text": [
            "The unfiltered matrix GSM4037993 contains 34054 cells by 60623 genes\n"
          ],
          "name": "stdout"
        }
      ]
    },
    {
      "cell_type": "markdown",
      "metadata": {
        "id": "hDAUH3eH_2RA"
      },
      "source": [
        "## Assign filters for gene count matrix"
      ]
    },
    {
      "cell_type": "code",
      "metadata": {
        "id": "ukinuaKk_6Po"
      },
      "source": [
        "results = {}\n",
        "\n",
        "\n",
        "# Filtering criteria\n",
        "cell_threshold = 100\n",
        "gene_threshold = 3\n"
      ],
      "execution_count": 8,
      "outputs": []
    },
    {
      "cell_type": "code",
      "metadata": {
        "id": "a5wZB5pEfwNs",
        "colab": {
          "base_uri": "https://localhost:8080/",
          "height": 722
        },
        "cellView": "form",
        "outputId": "77336769-bece-436a-d9d8-3ca1295788ab"
      },
      "source": [
        "expected_num_cells = 2000#@param {type:\"integer\"}\n",
        "knee = np.sort(nd(adata.X.sum(axis=1)))[::-1]\n",
        "\n",
        "fig, ax = plt.subplots(figsize=(5, 5))\n",
        "\n",
        "x = knee\n",
        "y = range(len(knee))\n",
        "\n",
        "ax.loglog(x, y, linewidth=5, color=\"g\")\n",
        "\n",
        "ax.axvline(x=knee[expected_num_cells], linewidth=3, color=\"k\")\n",
        "ax.axhline(y=expected_num_cells, linewidth=3, color=\"k\")\n",
        "\n",
        "ax.set_xlabel(\"UMI Counts\")\n",
        "ax.set_ylabel(\"Set of Barcodes\")\n",
        "\n",
        "plt.show()\n",
        "\n",
        "cell_threshold = knee[expected_num_cells]\n",
        "\n",
        "results[\"cell_threshold\" + sample_id] = knee[expected_num_cells]\n",
        "\n",
        "print (\"Cells were filtered down to \" + str(expected_num_cells) + \" with at least \" + str(cell_threshold) + \" UMIs\")\n",
        "\n",
        "\n",
        "mito_criteria = 28#@param {type:\"integer\"}\n",
        "results[\"mito_criteria\" + sample_id] = mito_criteria\n",
        "\n",
        "fig, ax = plt.subplots(figsize=(5,5))\n",
        "\n",
        "\n",
        "x = nd(adata.obs[\"cell_counts\"][adata.obs[\"cell_counts\"] > cell_threshold])\n",
        "y = nd(adata.obs[\"percent_mito\"][adata.obs[\"cell_counts\"] > cell_threshold])\n",
        "\n",
        "ax.scatter(x, y, color=\"green\", alpha=0.1)\n",
        "\n",
        "ax.axhline(y=mito_criteria, linestyle=\"--\", color=\"k\")\n",
        "\n",
        "\n",
        "ax.set_xlabel(\"UMI Counts\")\n",
        "ax.set_ylabel(\"Percent mito\")\n",
        "\n",
        "\n",
        "plt.show()\n",
        "\n",
        "print(\"We select \" + str(mito_criteria) + \" % as the mitochondrial content threshold\")\n"
      ],
      "execution_count": 9,
      "outputs": [
        {
          "output_type": "display_data",
          "data": {
            "image/png": "[encoded data removed]",
            "text/plain": [
              "<Figure size 360x360 with 1 Axes>"
            ]
          },
          "metadata": {
            "tags": [],
            "image/png": {
              "width": 363,
              "height": 337
            },
            "needs_background": "light"
          }
        },
        {
          "output_type": "stream",
          "text": [
            "Cells were filtered down to 2000 with at least 1.0 UMIs\n"
          ],
          "name": "stdout"
        },
        {
          "output_type": "display_data",
          "data": {
            "image/png": "[encoded data removed]",
            "text/plain": [
              "<Figure size 360x360 with 1 Axes>"
            ]
          },
          "metadata": {
            "tags": [],
            "image/png": {
              "width": 359,
              "height": 337
            },
            "needs_background": "light"
          }
        },
        {
          "output_type": "stream",
          "text": [
            "We select 28 % as the mitochondrial content threshold\n"
          ],
          "name": "stdout"
        }
      ]
    },
    {
      "cell_type": "markdown",
      "metadata": {
        "id": "eP9j2ouPq9KY"
      },
      "source": [
        "# Filter gene count matrix"
      ]
    },
    {
      "cell_type": "code",
      "metadata": {
        "id": "sE51WUA3gVmG"
      },
      "source": [
        "adata.obs[\"pass_count_filter\"] = adata.obs[\"cell_counts\"] > results[\"cell_threshold\" + sample_id]\n",
        "adata.obs[\"pass_mito_filter\"] = adata.obs.percent_mito < results[\"mito_criteria\" + sample_id]\n",
        "adata.var[\"pass_gene_filter\"] = adata.var[\"n_cells\"] > gene_threshold\n",
        "\n",
        "cell_mask = np.logical_and(adata.obs[\"pass_count_filter\"].values, adata.obs[\"pass_mito_filter\"].values)\n",
        "gene_mask = adata.var[\"pass_gene_filter\"].values\n",
        "\n",
        "print(\"Current Shape: {:,} cells x {:,} genes\".format(adata.shape[0], adata.shape[1]))\n",
        "print(\"    New shape: {:,} cells x {:,} genes\".format(cell_mask.sum(), gene_mask.sum()))\n",
        "results[\"data_\" + sample_id] = adata[cell_mask, gene_mask]\n"
      ],
      "execution_count": null,
      "outputs": []
    },
    {
      "cell_type": "markdown",
      "metadata": {
        "id": "BxPA81yj4TlU"
      },
      "source": [
        "# Anotate and write gene count matrix"
      ]
    },
    {
      "cell_type": "code",
      "metadata": {
        "id": "O-q_Qj2U4kDU"
      },
      "source": [
        "adata.uns[\"database_id\"] = database_id[0]\n",
        "\n",
        "adata.uns[\"tissue\"] = tissue[0]\n",
        "\n",
        "adata.uns[\"cell_type\"] = cell_type[0]\n",
        "\n",
        "adata.uns[\"sample_id\"] = sample_id\n",
        "\n",
        "adata.uns[\"condition\"] = condition[0]\n",
        "\n",
        "adata.uns[\"species\"] = species[0]\n",
        "\n",
        "adata.uns[\"technology\"] = technology[0]\n",
        "\n",
        "adata.uns[\"paper\"] = paper[0]\n",
        "\n",
        "adata.uns[\"figure\"] = figure[0]\n",
        "\n",
        "%cd /content\n",
        "\n",
        "adata.write(\"result\" + sample_id)"
      ],
      "execution_count": null,
      "outputs": []
    },
    {
      "cell_type": "markdown",
      "metadata": {
        "id": "bHtxaUmtZzVf"
      },
      "source": [
        "Filter TCC using gene count matrix's filter"
      ]
    },
    {
      "cell_type": "code",
      "metadata": {
        "id": "dv9FgFT6Zy-R"
      },
      "source": [
        "adata_tcc = adata_tcc[adata.obs.index.values]\n",
        "# transfer obs data\n",
        "adata_tcc.obs = adata.obs\n",
        "# transfer metadata\n",
        "adata_tcc.uns = adata.uns\n",
        "# write tcc matrix\n",
        "adata_tcc.write(\"/content/tcc_\" + sample_id)\n",
        "#gzip tcc matrix\n",
        "cmd = \"gzip /content/tcc_\" + sample_id\n",
        "!$cmd"
      ],
      "execution_count": null,
      "outputs": []
    },
    {
      "cell_type": "code",
      "metadata": {
        "id": "6w7c7NubHGLU"
      },
      "source": [
        ""
      ],
      "execution_count": null,
      "outputs": []
    }
  ]
}