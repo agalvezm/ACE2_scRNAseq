{
  "nbformat": 4,
  "nbformat_minor": 0,
  "metadata": {
    "colab": {
      "name": "Copy of PRJCA002413_CRX118012.ipynb",
      "provenance": [],
      "collapsed_sections": [],
      "toc_visible": true,
      "include_colab_link": true
    },
    "kernelspec": {
      "display_name": "Python 3",
      "name": "python3"
    }
  },
  "cells": [
    {
      "cell_type": "markdown",
      "metadata": {
        "id": "view-in-github",
        "colab_type": "text"
      },
      "source": [
        "<a href=\"https://colab.research.google.com/github/agalvezm/ACE2_scRNAseq/blob/master/notebooks_countmatrices/PRJCA002413_CRX118012.ipynb\" target=\"_parent\"><img src=\"https://colab.research.google.com/assets/colab-badge.svg\" alt=\"Open In Colab\"/></a>"
      ]
    },
    {
      "cell_type": "markdown",
      "metadata": {
        "id": "V9ryXluJsJw9"
      },
      "source": [
        "# PRJCA002413_CRX118012"
      ]
    },
    {
      "cell_type": "code",
      "metadata": {
        "id": "ggNFAQJCRh6P"
      },
      "source": [
        "# define the values for the analysis\n",
        "\n",
        "# accession id for the data\n",
        "id = \"PRJCA002413\"\n",
        "samp_id = [\"CRX118012\"]\n",
        "\n",
        "# If only bam available files, set bam = True, Fill link and filename\n",
        "bam = False\n",
        "\n",
        "# If fastq links available but are not ffq links\n",
        "fastq_ffqlinks = False\n",
        "\n",
        "\n",
        "if bam:\n",
        "  # Assign link to python variable\n",
        "  link_to_bam = \"\"\n",
        "  \n",
        "  # Assigns the link to the bash variable BAM_LINK. To be used by wget\n",
        "  %env BAM_LINK=$link_to_bam\n",
        "\n",
        "  # Assign filename to python variable. Used to convert to fastq and remove bam file to fastq after conversion\n",
        "\n",
        "  bam_filename=\"\"\n",
        "\n",
        "\n",
        "if not bam:\n",
        "\n",
        "  # Copy and paste the links from the ACE2 scRNAseq datasets google  spreadsheet\n",
        "  links_raw = \"ftp://download.big.ac.cn/gsa3/CRA002497/CRR143949/CRR143949_f1.fastq.gz\tftp://download.big.ac.cn/gsa3/CRA002497/CRR143949/CRR143949_r2.fastq.gz\tftp://download.big.ac.cn/gsa3/CRA002497/CRR143950/CRR143950_f1.fastq.gz\tftp://download.big.ac.cn/gsa3/CRA002497/CRR143950/CRR143950_r2.fastq.gz\tftp://download.big.ac.cn/gsa3/CRA002497/CRR143951/CRR143951_f1.fastq.gz\tftp://download.big.ac.cn/gsa3/CRA002497/CRR143951/CRR143951_r2.fastq.gz\tftp://download.big.ac.cn/gsa3/CRA002497/CRR143952/CRR143952_f1.fastq.gz\tftp://download.big.ac.cn/gsa3/CRA002497/CRR143952/CRR143952_r2.fastq.gz\tftp://download.big.ac.cn/gsa3/CRA002497/CRR143953/CRR143953_f1.fastq.gz\tftp://download.big.ac.cn/gsa3/CRA002497/CRR143953/CRR143953_r2.fastq.gz\tftp://download.big.ac.cn/gsa3/CRA002497/CRR143954/CRR143954_f1.fastq.gz\tftp://download.big.ac.cn/gsa3/CRA002497/CRR143954/CRR143954_r2.fastq.gz\tftp://download.big.ac.cn/gsa3/CRA002497/CRR143955/CRR143955_f1.fastq.gz\tftp://download.big.ac.cn/gsa3/CRA002497/CRR143955/CRR143955_r2.fastq.gz\tftp://download.big.ac.cn/gsa3/CRA002497/CRR143956/CRR143956_f1.fastq.gz\tftp://download.big.ac.cn/gsa3/CRA002497/CRR143956/CRR143956_r2.fastq.gz\tftp://download.big.ac.cn/gsa3/CRA002497/CRR143957/CRR143957_f1.fastq.gz\tftp://download.big.ac.cn/gsa3/CRA002497/CRR143957/CRR143957_r2.fastq.gz\tftp://download.big.ac.cn/gsa3/CRA002497/CRR143958/CRR143958_f1.fastq.gz\tftp://download.big.ac.cn/gsa3/CRA002497/CRR143958/CRR143958_r2.fastq.gz\tftp://download.big.ac.cn/gsa3/CRA002497/CRR143959/CRR143959_f1.fastq.gz\tftp://download.big.ac.cn/gsa3/CRA002497/CRR143959/CRR143959_r2.fastq.gz\tftp://download.big.ac.cn/gsa3/CRA002497/CRR143960/CRR143960_f1.fastq.gz\tftp://download.big.ac.cn/gsa3/CRA002497/CRR143960/CRR143960_r2.fastq.gz\tftp://download.big.ac.cn/gsa3/CRA002497/CRR143961/CRR143961_f1.fastq.gz\tftp://download.big.ac.cn/gsa3/CRA002497/CRR143961/CRR143961_r2.fastq.gz\tftp://download.big.ac.cn/gsa3/CRA002497/CRR143962/CRR143962_f1.fastq.gz\tftp://download.big.ac.cn/gsa3/CRA002497/CRR143962/CRR143962_r2.fastq.gz\tftp://download.big.ac.cn/gsa3/CRA002497/CRR143963/CRR143963_f1.fastq.gz\tftp://download.big.ac.cn/gsa3/CRA002497/CRR143963/CRR143963_r2.fastq.gz\tftp://download.big.ac.cn/gsa3/CRA002497/CRR143964/CRR143964_f1.fastq.gz\tftp://download.big.ac.cn/gsa3/CRA002497/CRR143964/CRR143964_r2.fastq.gz\"\n",
        "\n",
        "  # Convert it to a list where each link is an element\n",
        "  \n",
        "  fastqs = links_raw.split()\n",
        "\n",
        "#sample specific metadata\n",
        "\n",
        "no_samples = 1\n",
        "\n",
        "condition = [\"healthy control\"] * no_samples"
      ],
      "execution_count": 1,
      "outputs": []
    },
    {
      "cell_type": "code",
      "metadata": {
        "id": "5R3tPDqnoJUn"
      },
      "source": [
        "no_samples = 1\n",
        "\n",
        "fastqs_per_sample = [4, 8, 8] \n",
        "\n",
        "sample_id = samp_id\n",
        "\n",
        "database_id = [id] * no_samples\n",
        "\n",
        "tissue = [\"blood\"] * no_samples\n",
        "\n",
        "cell_type = [\"PBMCs\"] * no_samples\n",
        "\n",
        "species = [\"human\"] * no_samples\n",
        "\n",
        "technology = [\"10xv2\"] * no_samples\n",
        "\n",
        "paper = [\"Wen et al 2020\"] * no_samples\n",
        "\n",
        "figure = [\"Fig: all\"] * no_samples\n",
        "\n",
        "\n",
        "# Set string variables for kb functions\n",
        "\n",
        "species_kb = species[0]\n",
        "\n",
        "technology_kb = technology[0]\n",
        "\n"
      ],
      "execution_count": 2,
      "outputs": []
    },
    {
      "cell_type": "markdown",
      "metadata": {
        "id": "FPwL0-_-KSAw"
      },
      "source": [
        "# Imports and installs"
      ]
    },
    {
      "cell_type": "code",
      "metadata": {
        "colab": {
          "base_uri": "https://localhost:8080/"
        },
        "id": "1HSlUGZEp3oP",
        "outputId": "426dd36a-2158-45e7-bcd3-8334c49f4b55"
      },
      "source": [
        "# install and import necessary software\n",
        "\n",
        "# Install kb and scanpy\n",
        "!pip -q install kb-python \n",
        "!pip -q install scanpy\n",
        "\n",
        "import re\n",
        "import os\n",
        "\n",
        "# Setup\n",
        "\n",
        "import anndata\n",
        "import pandas as pd\n",
        "import numpy as np\n",
        "import matplotlib.pyplot as plt\n",
        "import matplotlib as mpl\n",
        "import matplotlib.patches as mpatches\n",
        "import scanpy as sc\n",
        "from scipy import stats\n",
        "\n",
        "from collections import OrderedDict\n",
        "from sklearn.decomposition import TruncatedSVD\n",
        "from sklearn.manifold import TSNE\n",
        "from sklearn.preprocessing import scale\n",
        "\n",
        "from sklearn.cluster import KMeans\n",
        "from sklearn.preprocessing import normalize\n",
        "from sklearn.preprocessing import LabelEncoder\n",
        "from sklearn.neighbors import NeighborhoodComponentsAnalysis\n",
        "from matplotlib import cm\n",
        "from matplotlib.lines import Line2D\n",
        "\n",
        "def nd(arr):\n",
        "    return np.asarray(arr).reshape(-1)\n",
        "def yex(ax):\n",
        "    lims = [np.min([ax.get_xlim(), ax.get_ylim()]),\n",
        "            np.max([ax.get_xlim(), ax.get_ylim()])]\n",
        "\n",
        "    # now plot both limits against eachother\n",
        "    ax.plot(lims, lims, 'k-', alpha=0.75, zorder=0)\n",
        "    ax.set_aspect('equal')\n",
        "    ax.set_xlim(lims)\n",
        "    ax.set_ylim(lims)\n",
        "    return ax\n",
        "\n",
        "def trim_axs(axs, N):\n",
        "    \"\"\"little helper to massage the axs list to have correct length...\"\"\"\n",
        "    axs = axs.flat\n",
        "    for ax in axs[N:]:\n",
        "        ax.remove()\n",
        "    return axs[:N]\n",
        "\n",
        "import warnings\n",
        "warnings.filterwarnings('ignore')\n",
        "\n",
        "fsize=20\n",
        "\n",
        "plt.rcParams.update({'font.size': fsize})\n",
        "%config InlineBackend.figure_format = 'retina'"
      ],
      "execution_count": 3,
      "outputs": [
        {
          "output_type": "stream",
          "text": [
            "\u001b[K     |████████████████████████████████| 59.1MB 1.3MB/s \n",
            "\u001b[K     |████████████████████████████████| 51kB 7.3MB/s \n",
            "\u001b[K     |████████████████████████████████| 133kB 50.3MB/s \n",
            "\u001b[K     |████████████████████████████████| 10.3MB 20.9MB/s \n",
            "\u001b[K     |████████████████████████████████| 13.2MB 48.1MB/s \n",
            "\u001b[K     |████████████████████████████████| 112kB 46.2MB/s \n",
            "\u001b[K     |████████████████████████████████| 81kB 8.8MB/s \n",
            "\u001b[K     |████████████████████████████████| 1.2MB 45.4MB/s \n",
            "\u001b[K     |████████████████████████████████| 71kB 10.5MB/s \n",
            "\u001b[?25h  Building wheel for loompy (setup.py) ... \u001b[?25l\u001b[?25hdone\n",
            "  Building wheel for numpy-groupies (setup.py) ... \u001b[?25l\u001b[?25hdone\n",
            "  Building wheel for umap-learn (setup.py) ... \u001b[?25l\u001b[?25hdone\n",
            "  Building wheel for sinfo (setup.py) ... \u001b[?25l\u001b[?25hdone\n",
            "  Building wheel for pynndescent (setup.py) ... \u001b[?25l\u001b[?25hdone\n"
          ],
          "name": "stdout"
        }
      ]
    },
    {
      "cell_type": "markdown",
      "metadata": {
        "id": "7V6FbosVrvP4"
      },
      "source": [
        "# Downloads: (bam (if bam) and index"
      ]
    },
    {
      "cell_type": "code",
      "metadata": {
        "id": "q46hw4zqKUPS"
      },
      "source": [
        "if bam:\n",
        "\n",
        "  # Install bamtofastq from 10x website (only bam files available)\n",
        "  !wget http://cf.10xgenomics.com/misc/bamtofastq-1.2.0\n",
        "  !chmod +x bamtofastq-1.2.0\n",
        "  # Download the bam file\n",
        "  !wget -- continue ${BAM_LINK}\n",
        "\n",
        "\n"
      ],
      "execution_count": 4,
      "outputs": []
    },
    {
      "cell_type": "code",
      "metadata": {
        "id": "tDQlrjtqNF0m"
      },
      "source": [
        "if bam:\n",
        "  # Convert to fastq\n",
        "  !./bamtofastq-1.2.0 --reads-per-fastq=500000000 $bam_filename ./fastqs\\\n",
        "\n",
        "  # Remove original bam file to save space\n",
        "  !rm $bam_filename\n"
      ],
      "execution_count": 5,
      "outputs": []
    },
    {
      "cell_type": "code",
      "metadata": {
        "id": "SXRDRphvqcLe"
      },
      "source": [
        "# Store fastq names on a list\n",
        "\n",
        "if bam:\n",
        "  # cd into fastqs folder\n",
        "  %cd /content/fastqs\n",
        "\n",
        "  #store the name of the folder generated by bamtofastq\n",
        "  _filename = os.listdir()[0]\n",
        "\n",
        "  # cd into that folder\n",
        "  %cd $_filename\n",
        "\n",
        "  # store fastq names in a list\n",
        "  fastqs = os.listdir()\n",
        "\n",
        "\n",
        "  # Remove I1 and R3 reads not relevant for our analysis\n",
        "\n",
        "  # Initialize list containing elements to remove\n",
        "  remov_elem = []\n",
        "\n",
        "  print (\"\\n\\nThis is the complete list of fastqs:\\n -----------\")\n",
        "  for elem in fastqs:\n",
        "    print (elem)\n",
        "\n",
        "  # Search index (I1 or R3) fastqs and remove them from list\n",
        "  for elem in fastqs:\n",
        "    if re.search(\"_R3_\", elem) or re.search(\"_I1_\", elem):\n",
        "      remov_elem = remov_elem +[elem]\n",
        "\n",
        "  fastqs = [elem for elem in fastqs if elem not in remov_elem] \n",
        "\n",
        "  print (\"\\n\\nThis is the filtered list of fastqs:\\n -----------\")\n",
        "  for elem in fastqs:\n",
        "    print (elem)\n"
      ],
      "execution_count": 6,
      "outputs": []
    },
    {
      "cell_type": "code",
      "metadata": {
        "id": "ZnFcqcSgjLBw"
      },
      "source": [
        "# Remove fastqs that wont be analyzed to save space\n",
        "if bam:\n",
        "  for elem in remov_elem:\n",
        "    !rm $elem"
      ],
      "execution_count": 7,
      "outputs": []
    },
    {
      "cell_type": "code",
      "metadata": {
        "id": "FLVS8aB7Dm6J"
      },
      "source": [
        "if bam:\n",
        "  # sort fastqs alphabetically to get R1 and R2 in order\n",
        "  fastqs = sorted(fastqs)"
      ],
      "execution_count": 8,
      "outputs": []
    },
    {
      "cell_type": "code",
      "metadata": {
        "id": "FE9gWbQgpBfR",
        "colab": {
          "base_uri": "https://localhost:8080/"
        },
        "outputId": "42c0e3ac-4188-4641-8b5f-82f95c7cd514"
      },
      "source": [
        "# wget fastqs from non ffq links in fastqs folder\n",
        "if not bam and not fastq_ffqlinks:\n",
        "  !mkdir fastqs\n",
        "  %cd fastqs\n",
        "  while len(os.listdir()) != len(fastqs):\n",
        "    for link in fastqs:\n",
        "      !wget $link --continue\n",
        "\n",
        "  # update fastqs variable with name of files\n",
        "  fastqs = sorted(os.listdir())"
      ],
      "execution_count": 9,
      "outputs": [
        {
          "output_type": "stream",
          "text": [
            "/content/fastqs\n",
            "--2021-05-03 17:33:01--  ftp://download.big.ac.cn/gsa3/CRA002497/CRR143949/CRR143949_f1.fastq.gz\n",
            "           => ‘CRR143949_f1.fastq.gz’\n",
            "Resolving download.big.ac.cn (download.big.ac.cn)... 124.16.164.229\n",
            "Connecting to download.big.ac.cn (download.big.ac.cn)|124.16.164.229|:21... connected.\n",
            "Logging in as anonymous ... Logged in!\n",
            "==> SYST ... done.    ==> PWD ... done.\n",
            "==> TYPE I ... done.  ==> CWD (1) /gsa3/CRA002497/CRR143949 ... done.\n",
            "==> SIZE CRR143949_f1.fastq.gz ... 2609998560\n",
            "==> PASV ... done.    ==> RETR CRR143949_f1.fastq.gz ... done.\n",
            "Length: 2609998560 (2.4G) (unauthoritative)\n",
            "\n",
            "CRR143949_f1.fastq. 100%[===================>]   2.43G  14.9MB/s    in 2m 49s  \n",
            "\n",
            "2021-05-03 17:35:53 (14.7 MB/s) - ‘CRR143949_f1.fastq.gz’ saved [2609998560]\n",
            "\n",
            "--2021-05-03 17:35:53--  ftp://download.big.ac.cn/gsa3/CRA002497/CRR143949/CRR143949_r2.fastq.gz\n",
            "           => ‘CRR143949_r2.fastq.gz’\n",
            "Resolving download.big.ac.cn (download.big.ac.cn)... 124.16.164.229\n",
            "Connecting to download.big.ac.cn (download.big.ac.cn)|124.16.164.229|:21... connected.\n",
            "Logging in as anonymous ... Logged in!\n",
            "==> SYST ... done.    ==> PWD ... done.\n",
            "==> TYPE I ... done.  ==> CWD (1) /gsa3/CRA002497/CRR143949 ... done.\n",
            "==> SIZE CRR143949_r2.fastq.gz ... 9920323520\n",
            "==> PASV ... done.    ==> RETR CRR143949_r2.fastq.gz ... done.\n",
            "Length: 9920323520 (9.2G) (unauthoritative)\n",
            "\n",
            "CRR143949_r2.fastq. 100%[===================>]   9.24G  14.5MB/s    in 10m 52s \n",
            "\n",
            "2021-05-03 17:46:47 (14.5 MB/s) - Control connection closed.\n",
            "Retrying.\n",
            "\n",
            "--2021-05-03 18:01:48--  ftp://download.big.ac.cn/gsa3/CRA002497/CRR143949/CRR143949_r2.fastq.gz\n",
            "  (try: 2) => ‘CRR143949_r2.fastq.gz’\n",
            "Connecting to download.big.ac.cn (download.big.ac.cn)|124.16.164.229|:21... connected.\n",
            "Logging in as anonymous ... Logged in!\n",
            "==> SYST ... done.    ==> PWD ... done.\n",
            "==> TYPE I ... done.  ==> CWD (1) /gsa3/CRA002497/CRR143949 ... done.\n",
            "==> SIZE CRR143949_r2.fastq.gz ... 9920323520\n",
            "File has already been retrieved.\n",
            "2021-05-03 18:01:50 (0.00 B/s) - ‘CRR143949_r2.fastq.gz’ saved [9920323520]\n",
            "\n",
            "--2021-05-03 18:01:50--  ftp://download.big.ac.cn/gsa3/CRA002497/CRR143950/CRR143950_f1.fastq.gz\n",
            "           => ‘CRR143950_f1.fastq.gz’\n",
            "Resolving download.big.ac.cn (download.big.ac.cn)... 124.16.164.229\n",
            "Connecting to download.big.ac.cn (download.big.ac.cn)|124.16.164.229|:21... connected.\n",
            "Logging in as anonymous ... Logged in!\n",
            "==> SYST ... done.    ==> PWD ... done.\n",
            "==> TYPE I ... done.  ==> CWD (1) /gsa3/CRA002497/CRR143950 ... done.\n",
            "==> SIZE CRR143950_f1.fastq.gz ... 2175151019\n",
            "==> PASV ... done.    ==> RETR CRR143950_f1.fastq.gz ... done.\n",
            "Length: 2175151019 (2.0G) (unauthoritative)\n",
            "\n",
            "CRR143950_f1.fastq. 100%[===================>]   2.03G  14.2MB/s    in 2m 40s  \n",
            "\n",
            "2021-05-03 18:04:33 (12.9 MB/s) - ‘CRR143950_f1.fastq.gz’ saved [2175151019]\n",
            "\n",
            "--2021-05-03 18:04:33--  ftp://download.big.ac.cn/gsa3/CRA002497/CRR143950/CRR143950_r2.fastq.gz\n",
            "           => ‘CRR143950_r2.fastq.gz’\n",
            "Resolving download.big.ac.cn (download.big.ac.cn)... 124.16.164.229\n",
            "Connecting to download.big.ac.cn (download.big.ac.cn)|124.16.164.229|:21... connected.\n",
            "Logging in as anonymous ... Logged in!\n",
            "==> SYST ... done.    ==> PWD ... done.\n",
            "==> TYPE I ... done.  ==> CWD (1) /gsa3/CRA002497/CRR143950 ... done.\n",
            "==> SIZE CRR143950_r2.fastq.gz ... 8304963566\n",
            "==> PASV ... done.    ==> RETR CRR143950_r2.fastq.gz ... done.\n",
            "Length: 8304963566 (7.7G) (unauthoritative)\n",
            "\n",
            "CRR143950_r2.fastq. 100%[===================>]   7.73G  12.6MB/s    in 10m 25s \n",
            "\n",
            "2021-05-03 18:15:01 (12.7 MB/s) - Control connection closed.\n",
            "Retrying.\n",
            "\n",
            "--2021-05-03 18:30:02--  ftp://download.big.ac.cn/gsa3/CRA002497/CRR143950/CRR143950_r2.fastq.gz\n",
            "  (try: 2) => ‘CRR143950_r2.fastq.gz’\n",
            "Connecting to download.big.ac.cn (download.big.ac.cn)|124.16.164.229|:21... connected.\n",
            "Logging in as anonymous ... Logged in!\n",
            "==> SYST ... done.    ==> PWD ... done.\n",
            "==> TYPE I ... done.  ==> CWD (1) /gsa3/CRA002497/CRR143950 ... done.\n",
            "==> SIZE CRR143950_r2.fastq.gz ... 8304963566\n",
            "File has already been retrieved.\n",
            "2021-05-03 18:30:03 (0.00 B/s) - ‘CRR143950_r2.fastq.gz’ saved [8304963566]\n",
            "\n",
            "--2021-05-03 18:30:03--  ftp://download.big.ac.cn/gsa3/CRA002497/CRR143951/CRR143951_f1.fastq.gz\n",
            "           => ‘CRR143951_f1.fastq.gz’\n",
            "Resolving download.big.ac.cn (download.big.ac.cn)... 124.16.164.229\n",
            "Connecting to download.big.ac.cn (download.big.ac.cn)|124.16.164.229|:21... connected.\n",
            "Logging in as anonymous ... Logged in!\n",
            "==> SYST ... done.    ==> PWD ... done.\n",
            "==> TYPE I ... done.  ==> CWD (1) /gsa3/CRA002497/CRR143951 ... done.\n",
            "==> SIZE CRR143951_f1.fastq.gz ... 1430033831\n",
            "==> PASV ... done.    ==> RETR CRR143951_f1.fastq.gz ... done.\n",
            "Length: 1430033831 (1.3G) (unauthoritative)\n",
            "\n",
            "CRR143951_f1.fastq. 100%[===================>]   1.33G  13.6MB/s    in 2m 59s  \n",
            "\n",
            "2021-05-03 18:33:05 (7.63 MB/s) - ‘CRR143951_f1.fastq.gz’ saved [1430033831]\n",
            "\n",
            "--2021-05-03 18:33:05--  ftp://download.big.ac.cn/gsa3/CRA002497/CRR143951/CRR143951_r2.fastq.gz\n",
            "           => ‘CRR143951_r2.fastq.gz’\n",
            "Resolving download.big.ac.cn (download.big.ac.cn)... 124.16.164.229\n",
            "Connecting to download.big.ac.cn (download.big.ac.cn)|124.16.164.229|:21... connected.\n",
            "Logging in as anonymous ... Logged in!\n",
            "==> SYST ... done.    ==> PWD ... done.\n",
            "==> TYPE I ... done.  ==> CWD (1) /gsa3/CRA002497/CRR143951 ... done.\n",
            "==> SIZE CRR143951_r2.fastq.gz ... 5405968362\n",
            "==> PASV ... done.    ==> RETR CRR143951_r2.fastq.gz ... done.\n",
            "Length: 5405968362 (5.0G) (unauthoritative)\n",
            "\n",
            "CRR143951_r2.fastq. 100%[===================>]   5.03G  7.96MB/s    in 13m 57s \n",
            "\n",
            "2021-05-03 18:47:04 (6.16 MB/s) - Control connection closed.\n",
            "Retrying.\n",
            "\n",
            "--2021-05-03 19:02:05--  ftp://download.big.ac.cn/gsa3/CRA002497/CRR143951/CRR143951_r2.fastq.gz\n",
            "  (try: 2) => ‘CRR143951_r2.fastq.gz’\n",
            "Connecting to download.big.ac.cn (download.big.ac.cn)|124.16.164.229|:21... connected.\n",
            "Logging in as anonymous ... Logged in!\n",
            "==> SYST ... done.    ==> PWD ... done.\n",
            "==> TYPE I ... done.  ==> CWD (1) /gsa3/CRA002497/CRR143951 ... done.\n",
            "==> SIZE CRR143951_r2.fastq.gz ... 5405968362\n",
            "File has already been retrieved.\n",
            "2021-05-03 19:02:07 (0.00 B/s) - ‘CRR143951_r2.fastq.gz’ saved [5405968362]\n",
            "\n",
            "--2021-05-03 19:02:07--  ftp://download.big.ac.cn/gsa3/CRA002497/CRR143952/CRR143952_f1.fastq.gz\n",
            "           => ‘CRR143952_f1.fastq.gz’\n",
            "Resolving download.big.ac.cn (download.big.ac.cn)... 124.16.164.229\n",
            "Connecting to download.big.ac.cn (download.big.ac.cn)|124.16.164.229|:21... connected.\n",
            "Logging in as anonymous ... Logged in!\n",
            "==> SYST ... done.    ==> PWD ... done.\n",
            "==> TYPE I ... done.  ==> CWD (1) /gsa3/CRA002497/CRR143952 ... done.\n",
            "==> SIZE CRR143952_f1.fastq.gz ... 996095437\n",
            "==> PASV ... done.    ==> RETR CRR143952_f1.fastq.gz ... done.\n",
            "Length: 996095437 (950M) (unauthoritative)\n",
            "\n",
            "CRR143952_f1.fastq. 100%[===================>] 949.95M  5.65MB/s    in 2m 42s  \n",
            "\n",
            "2021-05-03 19:04:52 (5.86 MB/s) - ‘CRR143952_f1.fastq.gz’ saved [996095437]\n",
            "\n",
            "--2021-05-03 19:04:52--  ftp://download.big.ac.cn/gsa3/CRA002497/CRR143952/CRR143952_r2.fastq.gz\n",
            "           => ‘CRR143952_r2.fastq.gz’\n",
            "Resolving download.big.ac.cn (download.big.ac.cn)... 124.16.164.229\n",
            "Connecting to download.big.ac.cn (download.big.ac.cn)|124.16.164.229|:21... connected.\n",
            "Logging in as anonymous ... Logged in!\n",
            "==> SYST ... done.    ==> PWD ... done.\n",
            "==> TYPE I ... done.  ==> CWD (1) /gsa3/CRA002497/CRR143952 ... done.\n",
            "==> SIZE CRR143952_r2.fastq.gz ... 3699558462\n",
            "==> PASV ... done.    ==> RETR CRR143952_r2.fastq.gz ... done.\n",
            "Length: 3699558462 (3.4G) (unauthoritative)\n",
            "\n",
            "CRR143952_r2.fastq. 100%[===================>]   3.45G  4.75MB/s    in 8m 47s  \n",
            "\n",
            "2021-05-03 19:13:42 (6.69 MB/s) - ‘CRR143952_r2.fastq.gz’ saved [3699558462]\n",
            "\n",
            "--2021-05-03 19:13:42--  ftp://download.big.ac.cn/gsa3/CRA002497/CRR143953/CRR143953_f1.fastq.gz\n",
            "           => ‘CRR143953_f1.fastq.gz’\n",
            "Resolving download.big.ac.cn (download.big.ac.cn)... 124.16.164.229\n",
            "Connecting to download.big.ac.cn (download.big.ac.cn)|124.16.164.229|:21... connected.\n",
            "Logging in as anonymous ... Logged in!\n",
            "==> SYST ... done.    ==> PWD ... done.\n",
            "==> TYPE I ... done.  ==> CWD (1) /gsa3/CRA002497/CRR143953 ... done.\n",
            "==> SIZE CRR143953_f1.fastq.gz ... 188876433\n",
            "==> PASV ... done.    ==> RETR CRR143953_f1.fastq.gz ... done.\n",
            "Length: 188876433 (180M) (unauthoritative)\n",
            "\n",
            "CRR143953_f1.fastq. 100%[===================>] 180.13M  6.09MB/s    in 27s     \n",
            "\n",
            "2021-05-03 19:14:12 (6.63 MB/s) - ‘CRR143953_f1.fastq.gz’ saved [188876433]\n",
            "\n",
            "--2021-05-03 19:14:12--  ftp://download.big.ac.cn/gsa3/CRA002497/CRR143953/CRR143953_r2.fastq.gz\n",
            "           => ‘CRR143953_r2.fastq.gz’\n",
            "Resolving download.big.ac.cn (download.big.ac.cn)... 124.16.164.229\n",
            "Connecting to download.big.ac.cn (download.big.ac.cn)|124.16.164.229|:21... connected.\n",
            "Logging in as anonymous ... Logged in!\n",
            "==> SYST ... done.    ==> PWD ... done.\n",
            "==> TYPE I ... done.  ==> CWD (1) /gsa3/CRA002497/CRR143953 ... done.\n",
            "==> SIZE CRR143953_r2.fastq.gz ... 681054542\n",
            "==> PASV ... done.    ==> RETR CRR143953_r2.fastq.gz ... done.\n",
            "Length: 681054542 (650M) (unauthoritative)\n",
            "\n",
            "CRR143953_r2.fastq. 100%[===================>] 649.50M  10.6MB/s    in 89s     \n",
            "\n",
            "2021-05-03 19:15:44 (7.28 MB/s) - ‘CRR143953_r2.fastq.gz’ saved [681054542]\n",
            "\n",
            "--2021-05-03 19:15:44--  ftp://download.big.ac.cn/gsa3/CRA002497/CRR143954/CRR143954_f1.fastq.gz\n",
            "           => ‘CRR143954_f1.fastq.gz’\n",
            "Resolving download.big.ac.cn (download.big.ac.cn)... 124.16.164.229\n",
            "Connecting to download.big.ac.cn (download.big.ac.cn)|124.16.164.229|:21... connected.\n",
            "Logging in as anonymous ... Logged in!\n",
            "==> SYST ... done.    ==> PWD ... done.\n",
            "==> TYPE I ... done.  ==> CWD (1) /gsa3/CRA002497/CRR143954 ... done.\n",
            "==> SIZE CRR143954_f1.fastq.gz ... 162103630\n",
            "==> PASV ... done.    ==> RETR CRR143954_f1.fastq.gz ... done.\n",
            "Length: 162103630 (155M) (unauthoritative)\n",
            "\n",
            "CRR143954_f1.fastq. 100%[===================>] 154.59M  6.95MB/s    in 24s     \n",
            "\n",
            "2021-05-03 19:16:11 (6.42 MB/s) - ‘CRR143954_f1.fastq.gz’ saved [162103630]\n",
            "\n",
            "--2021-05-03 19:16:11--  ftp://download.big.ac.cn/gsa3/CRA002497/CRR143954/CRR143954_r2.fastq.gz\n",
            "           => ‘CRR143954_r2.fastq.gz’\n",
            "Resolving download.big.ac.cn (download.big.ac.cn)... 124.16.164.229\n",
            "Connecting to download.big.ac.cn (download.big.ac.cn)|124.16.164.229|:21... connected.\n",
            "Logging in as anonymous ... Logged in!\n",
            "==> SYST ... done.    ==> PWD ... done.\n",
            "==> TYPE I ... done.  ==> CWD (1) /gsa3/CRA002497/CRR143954 ... done.\n",
            "==> SIZE CRR143954_r2.fastq.gz ... 585419087\n",
            "==> PASV ... done.    ==> RETR CRR143954_r2.fastq.gz ... done.\n",
            "Length: 585419087 (558M) (unauthoritative)\n",
            "\n",
            "CRR143954_r2.fastq. 100%[===================>] 558.30M  7.24MB/s    in 85s     \n",
            "\n",
            "2021-05-03 19:17:39 (6.53 MB/s) - ‘CRR143954_r2.fastq.gz’ saved [585419087]\n",
            "\n",
            "--2021-05-03 19:17:39--  ftp://download.big.ac.cn/gsa3/CRA002497/CRR143955/CRR143955_f1.fastq.gz\n",
            "           => ‘CRR143955_f1.fastq.gz’\n",
            "Resolving download.big.ac.cn (download.big.ac.cn)... 124.16.164.229\n",
            "Connecting to download.big.ac.cn (download.big.ac.cn)|124.16.164.229|:21... connected.\n",
            "Logging in as anonymous ... Logged in!\n",
            "==> SYST ... done.    ==> PWD ... done.\n",
            "==> TYPE I ... done.  ==> CWD (1) /gsa3/CRA002497/CRR143955 ... done.\n",
            "==> SIZE CRR143955_f1.fastq.gz ... 104615625\n",
            "==> PASV ... done.    ==> RETR CRR143955_f1.fastq.gz ... done.\n",
            "Length: 104615625 (100M) (unauthoritative)\n",
            "\n",
            "CRR143955_f1.fastq. 100%[===================>]  99.77M  5.33MB/s    in 23s     \n",
            "\n",
            "2021-05-03 19:18:05 (4.37 MB/s) - ‘CRR143955_f1.fastq.gz’ saved [104615625]\n",
            "\n",
            "--2021-05-03 19:18:05--  ftp://download.big.ac.cn/gsa3/CRA002497/CRR143955/CRR143955_r2.fastq.gz\n",
            "           => ‘CRR143955_r2.fastq.gz’\n",
            "Resolving download.big.ac.cn (download.big.ac.cn)... 124.16.164.229\n",
            "Connecting to download.big.ac.cn (download.big.ac.cn)|124.16.164.229|:21... connected.\n",
            "Logging in as anonymous ... Logged in!\n",
            "==> SYST ... done.    ==> PWD ... done.\n",
            "==> TYPE I ... done.  ==> CWD (1) /gsa3/CRA002497/CRR143955 ... done.\n",
            "==> SIZE CRR143955_r2.fastq.gz ... 374503494\n",
            "==> PASV ... done.    ==> RETR CRR143955_r2.fastq.gz ... done.\n",
            "Length: 374503494 (357M) (unauthoritative)\n",
            "\n",
            "CRR143955_r2.fastq. 100%[===================>] 357.15M  13.1MB/s    in 36s     \n",
            "\n",
            "2021-05-03 19:18:43 (9.88 MB/s) - ‘CRR143955_r2.fastq.gz’ saved [374503494]\n",
            "\n",
            "--2021-05-03 19:18:44--  ftp://download.big.ac.cn/gsa3/CRA002497/CRR143956/CRR143956_f1.fastq.gz\n",
            "           => ‘CRR143956_f1.fastq.gz’\n",
            "Resolving download.big.ac.cn (download.big.ac.cn)... 124.16.164.229\n",
            "Connecting to download.big.ac.cn (download.big.ac.cn)|124.16.164.229|:21... connected.\n",
            "Logging in as anonymous ... Logged in!\n",
            "==> SYST ... done.    ==> PWD ... done.\n",
            "==> TYPE I ... done.  ==> CWD (1) /gsa3/CRA002497/CRR143956 ... done.\n",
            "==> SIZE CRR143956_f1.fastq.gz ... 72613145\n",
            "==> PASV ... done.    ==> RETR CRR143956_f1.fastq.gz ... done.\n",
            "Length: 72613145 (69M) (unauthoritative)\n",
            "\n",
            "CRR143956_f1.fastq. 100%[===================>]  69.25M  3.88MB/s    in 18s     \n",
            "\n",
            "2021-05-03 19:19:04 (3.79 MB/s) - ‘CRR143956_f1.fastq.gz’ saved [72613145]\n",
            "\n",
            "--2021-05-03 19:19:04--  ftp://download.big.ac.cn/gsa3/CRA002497/CRR143956/CRR143956_r2.fastq.gz\n",
            "           => ‘CRR143956_r2.fastq.gz’\n",
            "Resolving download.big.ac.cn (download.big.ac.cn)... 124.16.164.229\n",
            "Connecting to download.big.ac.cn (download.big.ac.cn)|124.16.164.229|:21... connected.\n",
            "Logging in as anonymous ... Logged in!\n",
            "==> SYST ... done.    ==> PWD ... done.\n",
            "==> TYPE I ... done.  ==> CWD (1) /gsa3/CRA002497/CRR143956 ... done.\n",
            "==> SIZE CRR143956_r2.fastq.gz ... 255989027\n",
            "==> PASV ... done.    ==> RETR CRR143956_r2.fastq.gz ... done.\n",
            "Length: 255989027 (244M) (unauthoritative)\n",
            "\n",
            "CRR143956_r2.fastq. 100%[===================>] 244.13M  3.90MB/s    in 45s     \n",
            "\n",
            "2021-05-03 19:19:52 (5.43 MB/s) - ‘CRR143956_r2.fastq.gz’ saved [255989027]\n",
            "\n",
            "--2021-05-03 19:19:52--  ftp://download.big.ac.cn/gsa3/CRA002497/CRR143957/CRR143957_f1.fastq.gz\n",
            "           => ‘CRR143957_f1.fastq.gz’\n",
            "Resolving download.big.ac.cn (download.big.ac.cn)... 124.16.164.229\n",
            "Connecting to download.big.ac.cn (download.big.ac.cn)|124.16.164.229|:21... connected.\n",
            "Logging in as anonymous ... Logged in!\n",
            "==> SYST ... done.    ==> PWD ... done.\n",
            "==> TYPE I ... done.  ==> CWD (1) /gsa3/CRA002497/CRR143957 ... done.\n",
            "==> SIZE CRR143957_f1.fastq.gz ... 981096717\n",
            "==> PASV ... done.    ==> RETR CRR143957_f1.fastq.gz ... done.\n",
            "Length: 981096717 (936M) (unauthoritative)\n",
            "\n",
            "CRR143957_f1.fastq. 100%[===================>] 935.65M  10.6MB/s    in 3m 0s   \n",
            "\n",
            "2021-05-03 19:22:55 (5.20 MB/s) - ‘CRR143957_f1.fastq.gz’ saved [981096717]\n",
            "\n",
            "--2021-05-03 19:22:55--  ftp://download.big.ac.cn/gsa3/CRA002497/CRR143957/CRR143957_r2.fastq.gz\n",
            "           => ‘CRR143957_r2.fastq.gz’\n",
            "Resolving download.big.ac.cn (download.big.ac.cn)... 124.16.164.229\n",
            "Connecting to download.big.ac.cn (download.big.ac.cn)|124.16.164.229|:21... connected.\n",
            "Logging in as anonymous ... Logged in!\n",
            "==> SYST ... done.    ==> PWD ... done.\n",
            "==> TYPE I ... done.  ==> CWD (1) /gsa3/CRA002497/CRR143957 ... done.\n",
            "==> SIZE CRR143957_r2.fastq.gz ... 1042394924\n",
            "==> PASV ... done.    ==> RETR CRR143957_r2.fastq.gz ... done.\n",
            "Length: 1042394924 (994M) (unauthoritative)\n",
            "\n",
            "CRR143957_r2.fastq. 100%[===================>] 994.10M  5.36MB/s    in 2m 46s  \n",
            "\n",
            "2021-05-03 19:25:44 (5.99 MB/s) - ‘CRR143957_r2.fastq.gz’ saved [1042394924]\n",
            "\n",
            "--2021-05-03 19:25:44--  ftp://download.big.ac.cn/gsa3/CRA002497/CRR143958/CRR143958_f1.fastq.gz\n",
            "           => ‘CRR143958_f1.fastq.gz’\n",
            "Resolving download.big.ac.cn (download.big.ac.cn)... 124.16.164.229\n",
            "Connecting to download.big.ac.cn (download.big.ac.cn)|124.16.164.229|:21... connected.\n",
            "Logging in as anonymous ... Logged in!\n",
            "==> SYST ... done.    ==> PWD ... done.\n",
            "==> TYPE I ... done.  ==> CWD (1) /gsa3/CRA002497/CRR143958 ... done.\n",
            "==> SIZE CRR143958_f1.fastq.gz ... 1732119597\n",
            "==> PASV ... done.    ==> RETR CRR143958_f1.fastq.gz ... done.\n",
            "Length: 1732119597 (1.6G) (unauthoritative)\n",
            "\n",
            "CRR143958_f1.fastq. 100%[===================>]   1.61G  4.50MB/s    in 4m 33s  \n",
            "\n",
            "2021-05-03 19:30:19 (6.05 MB/s) - ‘CRR143958_f1.fastq.gz’ saved [1732119597]\n",
            "\n",
            "--2021-05-03 19:30:19--  ftp://download.big.ac.cn/gsa3/CRA002497/CRR143958/CRR143958_r2.fastq.gz\n",
            "           => ‘CRR143958_r2.fastq.gz’\n",
            "Resolving download.big.ac.cn (download.big.ac.cn)... 124.16.164.229\n",
            "Connecting to download.big.ac.cn (download.big.ac.cn)|124.16.164.229|:21... connected.\n",
            "Logging in as anonymous ... Logged in!\n",
            "==> SYST ... done.    ==> PWD ... done.\n",
            "==> TYPE I ... done.  ==> CWD (1) /gsa3/CRA002497/CRR143958 ... done.\n",
            "==> SIZE CRR143958_r2.fastq.gz ... 1795782272\n",
            "==> PASV ... done.    ==> RETR CRR143958_r2.fastq.gz ... done.\n",
            "Length: 1795782272 (1.7G) (unauthoritative)\n",
            "\n",
            "CRR143958_r2.fastq. 100%[===================>]   1.67G  7.33MB/s    in 5m 24s  \n",
            "\n",
            "2021-05-03 19:35:47 (5.28 MB/s) - ‘CRR143958_r2.fastq.gz’ saved [1795782272]\n",
            "\n",
            "--2021-05-03 19:35:47--  ftp://download.big.ac.cn/gsa3/CRA002497/CRR143959/CRR143959_f1.fastq.gz\n",
            "           => ‘CRR143959_f1.fastq.gz’\n",
            "Resolving download.big.ac.cn (download.big.ac.cn)... 124.16.164.229\n",
            "Connecting to download.big.ac.cn (download.big.ac.cn)|124.16.164.229|:21... connected.\n",
            "Logging in as anonymous ... Logged in!\n",
            "==> SYST ... done.    ==> PWD ... done.\n",
            "==> TYPE I ... done.  ==> CWD (1) /gsa3/CRA002497/CRR143959 ... done.\n",
            "==> SIZE CRR143959_f1.fastq.gz ... 1205281142\n",
            "==> PASV ... done.    ==> RETR CRR143959_f1.fastq.gz ... done.\n",
            "Length: 1205281142 (1.1G) (unauthoritative)\n",
            "\n",
            "CRR143959_f1.fastq. 100%[===================>]   1.12G  5.92MB/s    in 2m 44s  \n",
            "\n",
            "2021-05-03 19:38:35 (7.00 MB/s) - ‘CRR143959_f1.fastq.gz’ saved [1205281142]\n",
            "\n",
            "--2021-05-03 19:38:35--  ftp://download.big.ac.cn/gsa3/CRA002497/CRR143959/CRR143959_r2.fastq.gz\n",
            "           => ‘CRR143959_r2.fastq.gz’\n",
            "Resolving download.big.ac.cn (download.big.ac.cn)... 124.16.164.229\n",
            "Connecting to download.big.ac.cn (download.big.ac.cn)|124.16.164.229|:21... connected.\n",
            "Logging in as anonymous ... Logged in!\n",
            "==> SYST ... done.    ==> PWD ... done.\n",
            "==> TYPE I ... done.  ==> CWD (1) /gsa3/CRA002497/CRR143959 ... done.\n",
            "==> SIZE CRR143959_r2.fastq.gz ... 1273578902\n",
            "==> PASV ... done.    ==> RETR CRR143959_r2.fastq.gz ... done.\n",
            "Length: 1273578902 (1.2G) (unauthoritative)\n",
            "\n",
            "CRR143959_r2.fastq. 100%[===================>]   1.19G  7.45MB/s    in 2m 34s  \n",
            "\n",
            "2021-05-03 19:41:11 (7.87 MB/s) - ‘CRR143959_r2.fastq.gz’ saved [1273578902]\n",
            "\n",
            "--2021-05-03 19:41:11--  ftp://download.big.ac.cn/gsa3/CRA002497/CRR143960/CRR143960_f1.fastq.gz\n",
            "           => ‘CRR143960_f1.fastq.gz’\n",
            "Resolving download.big.ac.cn (download.big.ac.cn)... 124.16.164.229\n",
            "Connecting to download.big.ac.cn (download.big.ac.cn)|124.16.164.229|:21... connected.\n",
            "Logging in as anonymous ... Logged in!\n",
            "==> SYST ... done.    ==> PWD ... done.\n",
            "==> TYPE I ... done.  ==> CWD (1) /gsa3/CRA002497/CRR143960 ... done.\n",
            "==> SIZE CRR143960_f1.fastq.gz ... 743673438\n",
            "==> PASV ... done.    ==> RETR CRR143960_f1.fastq.gz ... done.\n",
            "Length: 743673438 (709M) (unauthoritative)\n",
            "\n",
            "CRR143960_f1.fastq. 100%[===================>] 709.22M  10.1MB/s    in 56s     \n",
            "\n",
            "2021-05-03 19:42:11 (12.6 MB/s) - ‘CRR143960_f1.fastq.gz’ saved [743673438]\n",
            "\n",
            "--2021-05-03 19:42:11--  ftp://download.big.ac.cn/gsa3/CRA002497/CRR143960/CRR143960_r2.fastq.gz\n",
            "           => ‘CRR143960_r2.fastq.gz’\n",
            "Resolving download.big.ac.cn (download.big.ac.cn)... 124.16.164.229\n",
            "Connecting to download.big.ac.cn (download.big.ac.cn)|124.16.164.229|:21... connected.\n",
            "Logging in as anonymous ... Logged in!\n",
            "==> SYST ... done.    ==> PWD ... done.\n",
            "==> TYPE I ... done.  ==> CWD (1) /gsa3/CRA002497/CRR143960 ... done.\n",
            "==> SIZE CRR143960_r2.fastq.gz ... 771889867\n",
            "==> PASV ... done.    ==> RETR CRR143960_r2.fastq.gz ... done.\n",
            "Length: 771889867 (736M) (unauthoritative)\n",
            "\n",
            "CRR143960_r2.fastq. 100%[===================>] 736.13M  6.02MB/s    in 1m 54s  \n",
            "\n",
            "2021-05-03 19:44:07 (6.47 MB/s) - ‘CRR143960_r2.fastq.gz’ saved [771889867]\n",
            "\n",
            "--2021-05-03 19:44:07--  ftp://download.big.ac.cn/gsa3/CRA002497/CRR143961/CRR143961_f1.fastq.gz\n",
            "           => ‘CRR143961_f1.fastq.gz’\n",
            "Resolving download.big.ac.cn (download.big.ac.cn)... 124.16.164.229\n",
            "Connecting to download.big.ac.cn (download.big.ac.cn)|124.16.164.229|:21... connected.\n",
            "Logging in as anonymous ... Logged in!\n",
            "==> SYST ... done.    ==> PWD ... done.\n",
            "==> TYPE I ... done.  ==> CWD (1) /gsa3/CRA002497/CRR143961 ... done.\n",
            "==> SIZE CRR143961_f1.fastq.gz ... 1333789383\n",
            "==> PASV ... done.    ==> RETR CRR143961_f1.fastq.gz ... done.\n",
            "Length: 1333789383 (1.2G) (unauthoritative)\n",
            "\n",
            "CRR143961_f1.fastq. 100%[===================>]   1.24G  7.35MB/s    in 2m 26s  \n",
            "\n",
            "2021-05-03 19:46:36 (8.71 MB/s) - ‘CRR143961_f1.fastq.gz’ saved [1333789383]\n",
            "\n",
            "--2021-05-03 19:46:36--  ftp://download.big.ac.cn/gsa3/CRA002497/CRR143961/CRR143961_r2.fastq.gz\n",
            "           => ‘CRR143961_r2.fastq.gz’\n",
            "Resolving download.big.ac.cn (download.big.ac.cn)... 124.16.164.229\n",
            "Connecting to download.big.ac.cn (download.big.ac.cn)|124.16.164.229|:21... connected.\n",
            "Logging in as anonymous ... Logged in!\n",
            "==> SYST ... done.    ==> PWD ... done.\n",
            "==> TYPE I ... done.  ==> CWD (1) /gsa3/CRA002497/CRR143961 ... done.\n",
            "==> SIZE CRR143961_r2.fastq.gz ... 1346919638\n",
            "==> PASV ... done.    ==> RETR CRR143961_r2.fastq.gz ... done.\n",
            "Length: 1346919638 (1.3G) (unauthoritative)\n",
            "\n",
            "CRR143961_r2.fastq. 100%[===================>]   1.25G  8.49MB/s    in 2m 26s  \n",
            "\n",
            "2021-05-03 19:49:04 (8.80 MB/s) - ‘CRR143961_r2.fastq.gz’ saved [1346919638]\n",
            "\n",
            "--2021-05-03 19:49:04--  ftp://download.big.ac.cn/gsa3/CRA002497/CRR143962/CRR143962_f1.fastq.gz\n",
            "           => ‘CRR143962_f1.fastq.gz’\n",
            "Resolving download.big.ac.cn (download.big.ac.cn)... 124.16.164.229\n",
            "Connecting to download.big.ac.cn (download.big.ac.cn)|124.16.164.229|:21... connected.\n",
            "Logging in as anonymous ... Logged in!\n",
            "==> SYST ... done.    ==> PWD ... done.\n",
            "==> TYPE I ... done.  ==> CWD (1) /gsa3/CRA002497/CRR143962 ... done.\n",
            "==> SIZE CRR143962_f1.fastq.gz ... 1153844924\n",
            "==> PASV ... done.    ==> RETR CRR143962_f1.fastq.gz ... done.\n",
            "Length: 1153844924 (1.1G) (unauthoritative)\n",
            "\n",
            "CRR143962_f1.fastq. 100%[===================>]   1.07G  8.34MB/s    in 1m 57s  \n",
            "\n",
            "2021-05-03 19:51:04 (9.43 MB/s) - ‘CRR143962_f1.fastq.gz’ saved [1153844924]\n",
            "\n",
            "--2021-05-03 19:51:04--  ftp://download.big.ac.cn/gsa3/CRA002497/CRR143962/CRR143962_r2.fastq.gz\n",
            "           => ‘CRR143962_r2.fastq.gz’\n",
            "Resolving download.big.ac.cn (download.big.ac.cn)... 124.16.164.229\n",
            "Connecting to download.big.ac.cn (download.big.ac.cn)|124.16.164.229|:21... connected.\n",
            "Logging in as anonymous ... Logged in!\n",
            "==> SYST ... done.    ==> PWD ... done.\n",
            "==> TYPE I ... done.  ==> CWD (1) /gsa3/CRA002497/CRR143962 ... done.\n",
            "==> SIZE CRR143962_r2.fastq.gz ... 1172093201\n",
            "==> PASV ... done.    ==> RETR CRR143962_r2.fastq.gz ... done.\n",
            "Length: 1172093201 (1.1G) (unauthoritative)\n",
            "\n",
            "CRR143962_r2.fastq. 100%[===================>]   1.09G  7.29MB/s    in 2m 29s  \n",
            "\n",
            "2021-05-03 19:53:35 (7.52 MB/s) - ‘CRR143962_r2.fastq.gz’ saved [1172093201]\n",
            "\n",
            "--2021-05-03 19:53:35--  ftp://download.big.ac.cn/gsa3/CRA002497/CRR143963/CRR143963_f1.fastq.gz\n",
            "           => ‘CRR143963_f1.fastq.gz’\n",
            "Resolving download.big.ac.cn (download.big.ac.cn)... 124.16.164.229\n",
            "Connecting to download.big.ac.cn (download.big.ac.cn)|124.16.164.229|:21... connected.\n",
            "Logging in as anonymous ... Logged in!\n",
            "==> SYST ... done.    ==> PWD ... done.\n",
            "==> TYPE I ... done.  ==> CWD (1) /gsa3/CRA002497/CRR143963 ... done.\n",
            "==> SIZE CRR143963_f1.fastq.gz ... 949304179\n",
            "==> PASV ... done.    ==> RETR CRR143963_f1.fastq.gz ... done.\n",
            "Length: 949304179 (905M) (unauthoritative)\n",
            "\n",
            "CRR143963_f1.fastq. 100%[===================>] 905.33M  12.2MB/s    in 97s     \n",
            "\n",
            "2021-05-03 19:55:15 (9.37 MB/s) - ‘CRR143963_f1.fastq.gz’ saved [949304179]\n",
            "\n",
            "--2021-05-03 19:55:15--  ftp://download.big.ac.cn/gsa3/CRA002497/CRR143963/CRR143963_r2.fastq.gz\n",
            "           => ‘CRR143963_r2.fastq.gz’\n",
            "Resolving download.big.ac.cn (download.big.ac.cn)... 124.16.164.229\n",
            "Connecting to download.big.ac.cn (download.big.ac.cn)|124.16.164.229|:21... connected.\n",
            "Logging in as anonymous ... Logged in!\n",
            "==> SYST ... done.    ==> PWD ... done.\n",
            "==> TYPE I ... done.  ==> CWD (1) /gsa3/CRA002497/CRR143963 ... done.\n",
            "==> SIZE CRR143963_r2.fastq.gz ... 966704386\n",
            "==> PASV ... done.    ==> RETR CRR143963_r2.fastq.gz ... done.\n",
            "Length: 966704386 (922M) (unauthoritative)\n",
            "\n",
            "CRR143963_r2.fastq. 100%[===================>] 921.92M  11.8MB/s    in 2m 58s  \n",
            "\n",
            "2021-05-03 19:58:17 (5.17 MB/s) - ‘CRR143963_r2.fastq.gz’ saved [966704386]\n",
            "\n",
            "--2021-05-03 19:58:17--  ftp://download.big.ac.cn/gsa3/CRA002497/CRR143964/CRR143964_f1.fastq.gz\n",
            "           => ‘CRR143964_f1.fastq.gz’\n",
            "Resolving download.big.ac.cn (download.big.ac.cn)... 124.16.164.229\n",
            "Connecting to download.big.ac.cn (download.big.ac.cn)|124.16.164.229|:21... connected.\n",
            "Logging in as anonymous ... Logged in!\n",
            "==> SYST ... done.    ==> PWD ... done.\n",
            "==> TYPE I ... done.  ==> CWD (1) /gsa3/CRA002497/CRR143964 ... done.\n",
            "==> SIZE CRR143964_f1.fastq.gz ... 774415969\n",
            "==> PASV ... done.    ==> RETR CRR143964_f1.fastq.gz ... done.\n",
            "Length: 774415969 (739M) (unauthoritative)\n",
            "\n",
            "CRR143964_f1.fastq. 100%[===================>] 738.54M  9.86MB/s    in 75s     \n",
            "\n",
            "2021-05-03 19:59:34 (9.85 MB/s) - ‘CRR143964_f1.fastq.gz’ saved [774415969]\n",
            "\n",
            "--2021-05-03 19:59:34--  ftp://download.big.ac.cn/gsa3/CRA002497/CRR143964/CRR143964_r2.fastq.gz\n",
            "           => ‘CRR143964_r2.fastq.gz’\n",
            "Resolving download.big.ac.cn (download.big.ac.cn)... 124.16.164.229\n",
            "Connecting to download.big.ac.cn (download.big.ac.cn)|124.16.164.229|:21... connected.\n",
            "Logging in as anonymous ... Logged in!\n",
            "==> SYST ... done.    ==> PWD ... done.\n",
            "==> TYPE I ... done.  ==> CWD (1) /gsa3/CRA002497/CRR143964 ... done.\n",
            "==> SIZE CRR143964_r2.fastq.gz ... 794655361\n",
            "==> PASV ... done.    ==> RETR CRR143964_r2.fastq.gz ... done.\n",
            "Length: 794655361 (758M) (unauthoritative)\n",
            "\n",
            "CRR143964_r2.fastq. 100%[===================>] 757.84M  12.2MB/s    in 58s     \n",
            "\n",
            "2021-05-03 20:00:35 (13.1 MB/s) - ‘CRR143964_r2.fastq.gz’ saved [794655361]\n",
            "\n"
          ],
          "name": "stdout"
        }
      ]
    },
    {
      "cell_type": "code",
      "metadata": {
        "id": "PC9oETW1pE9t",
        "colab": {
          "base_uri": "https://localhost:8080/"
        },
        "outputId": "5af0b049-0241-4bfd-969b-7323ef1e292c"
      },
      "source": [
        "if bam:\n",
        "  # Download the corresponding Kallisto index to folder containing fastqs\n",
        "  !kb ref -d $species_kb -i index.idx -g t2g.txt -f1 transcriptome.fasta\n",
        "\n",
        "if not bam and fastq_ffqlinks:\n",
        "  %cd /content\n",
        "\n",
        "  # Download the corresponding Kallisto index to content folder\n",
        "  !kb ref -d $species_kb -i index.idx -g t2g.txt -f1 transcriptome.fasta\n",
        "\n",
        "if not bam and not fastq_ffqlinks:\n",
        "  %cd /content/fastqs\n",
        "\n",
        "  # Download the corresponding Kallisto index to fastq folder\n",
        "  !kb ref -d $species_kb -i index.idx -g t2g.txt -f1 transcriptome.fasta"
      ],
      "execution_count": 10,
      "outputs": [
        {
          "output_type": "stream",
          "text": [
            "/content/fastqs\n",
            "[2021-05-03 20:00:37,512]    INFO Downloading files for human from https://caltech.box.com/shared/static/v1nm7lpnqz5syh8dyzdk2zs8bglncfib.gz to tmp/v1nm7lpnqz5syh8dyzdk2zs8bglncfib.gz\n",
            "100% 2.23G/2.23G [01:29<00:00, 26.8MB/s]\n",
            "[2021-05-03 20:02:07,537]    INFO Extracting files from tmp/v1nm7lpnqz5syh8dyzdk2zs8bglncfib.gz\n"
          ],
          "name": "stdout"
        }
      ]
    },
    {
      "cell_type": "code",
      "metadata": {
        "id": "vHVNa51Cp9Nr"
      },
      "source": [
        "# Check to make sure the metadata is in the right order after sorting\n",
        "print(fastqs)"
      ],
      "execution_count": null,
      "outputs": []
    },
    {
      "cell_type": "markdown",
      "metadata": {
        "id": "VInyuq1Dp7iz"
      },
      "source": [
        "# Process fastq files (modify kb command according to fastqs list)\n"
      ]
    },
    {
      "cell_type": "code",
      "metadata": {
        "id": "OcqtBuH-pRaX",
        "colab": {
          "base_uri": "https://localhost:8080/"
        },
        "outputId": "e400492d-fd5a-4beb-9215-8d8272b440da"
      },
      "source": [
        "fastqs"
      ],
      "execution_count": 12,
      "outputs": [
        {
          "output_type": "execute_result",
          "data": {
            "text/plain": [
              "['CRR143949_f1.fastq.gz',\n",
              " 'CRR143949_r2.fastq.gz',\n",
              " 'CRR143950_f1.fastq.gz',\n",
              " 'CRR143950_r2.fastq.gz',\n",
              " 'CRR143951_f1.fastq.gz',\n",
              " 'CRR143951_r2.fastq.gz',\n",
              " 'CRR143952_f1.fastq.gz',\n",
              " 'CRR143952_r2.fastq.gz',\n",
              " 'CRR143953_f1.fastq.gz',\n",
              " 'CRR143953_r2.fastq.gz',\n",
              " 'CRR143954_f1.fastq.gz',\n",
              " 'CRR143954_r2.fastq.gz',\n",
              " 'CRR143955_f1.fastq.gz',\n",
              " 'CRR143955_r2.fastq.gz',\n",
              " 'CRR143956_f1.fastq.gz',\n",
              " 'CRR143956_r2.fastq.gz',\n",
              " 'CRR143957_f1.fastq.gz',\n",
              " 'CRR143957_r2.fastq.gz',\n",
              " 'CRR143958_f1.fastq.gz',\n",
              " 'CRR143958_r2.fastq.gz',\n",
              " 'CRR143959_f1.fastq.gz',\n",
              " 'CRR143959_r2.fastq.gz',\n",
              " 'CRR143960_f1.fastq.gz',\n",
              " 'CRR143960_r2.fastq.gz',\n",
              " 'CRR143961_f1.fastq.gz',\n",
              " 'CRR143961_r2.fastq.gz',\n",
              " 'CRR143962_f1.fastq.gz',\n",
              " 'CRR143962_r2.fastq.gz',\n",
              " 'CRR143963_f1.fastq.gz',\n",
              " 'CRR143963_r2.fastq.gz',\n",
              " 'CRR143964_f1.fastq.gz',\n",
              " 'CRR143964_r2.fastq.gz']"
            ]
          },
          "metadata": {
            "tags": []
          },
          "execution_count": 12
        }
      ]
    },
    {
      "cell_type": "code",
      "metadata": {
        "id": "5qFzPj-0kZTi",
        "colab": {
          "base_uri": "https://localhost:8080/"
        },
        "outputId": "cd259d89-92b8-44f7-fe92-4493666237da"
      },
      "source": [
        "# Specify the sample number and whether they are paired-ended\n",
        "\n",
        "\n",
        "if no_samples == 1:\n",
        "\n",
        "  # Write the kb count command as a string with all fastqs of the list as an input\n",
        "  cmd = \"kb count --h5ad -i index.idx -g t2g.txt -x \" + technology_kb + \" -o output\" + sample_id[0] + \" \"\\\n",
        "  + \"--filter bustools -t 2 --overwrite \" + \"'\" +  \"' '\".join(fastqs) + \"'\"\n",
        "  \n",
        "  # Execute it\n",
        "  !$cmd\n",
        "\n",
        "# If more than one sample, iterate through fastqs accordingly\n",
        "else:\n",
        "\n",
        "  # Initializa counter for fastq files\n",
        "  j = 0\n",
        "\n",
        "  # Loop over samples for analysis\n",
        "  for i in range(no_samples):\n",
        "\n",
        "    fastqs_to_analyze = fastqs[j:j + fastqs_per_sample[i]]\n",
        "    # Write the kb count command as a string\n",
        "    cmd = \"kb count --h5ad -i ../index.idx -g ../t2g.txt -x \" + technology_kb + \" -o output\" + sample_id[i] + \" \\\n",
        "    --filter bustools -t 2 --overwrite \" + \"'\" +  \"' '\".join(fastqs_to_analyze) + \"'\"\n",
        "\n",
        "    # Execute it\n",
        "    !$cmd\n",
        "\n",
        "    # Update j to move to the next set of fastq\n",
        "    j = j + fastqs_per_sample[i]\n",
        "\n",
        "\n",
        "\n",
        "\n",
        "\n"
      ],
      "execution_count": 13,
      "outputs": [
        {
          "output_type": "stream",
          "text": [
            "[2021-05-03 20:02:44,094]    INFO Using index index.idx to generate BUS file to outputCRX118012 from\n",
            "[2021-05-03 20:02:44,094]    INFO         CRR143949_f1.fastq.gz\n",
            "[2021-05-03 20:02:44,094]    INFO         CRR143949_r2.fastq.gz\n",
            "[2021-05-03 20:02:44,095]    INFO         CRR143950_f1.fastq.gz\n",
            "[2021-05-03 20:02:44,095]    INFO         CRR143950_r2.fastq.gz\n",
            "[2021-05-03 20:02:44,095]    INFO         CRR143951_f1.fastq.gz\n",
            "[2021-05-03 20:02:44,095]    INFO         CRR143951_r2.fastq.gz\n",
            "[2021-05-03 20:02:44,095]    INFO         CRR143952_f1.fastq.gz\n",
            "[2021-05-03 20:02:44,095]    INFO         CRR143952_r2.fastq.gz\n",
            "[2021-05-03 20:02:44,095]    INFO         CRR143953_f1.fastq.gz\n",
            "[2021-05-03 20:02:44,095]    INFO         CRR143953_r2.fastq.gz\n",
            "[2021-05-03 20:02:44,095]    INFO         CRR143954_f1.fastq.gz\n",
            "[2021-05-03 20:02:44,095]    INFO         CRR143954_r2.fastq.gz\n",
            "[2021-05-03 20:02:44,095]    INFO         CRR143955_f1.fastq.gz\n",
            "[2021-05-03 20:02:44,095]    INFO         CRR143955_r2.fastq.gz\n",
            "[2021-05-03 20:02:44,095]    INFO         CRR143956_f1.fastq.gz\n",
            "[2021-05-03 20:02:44,095]    INFO         CRR143956_r2.fastq.gz\n",
            "[2021-05-03 20:02:44,095]    INFO         CRR143957_f1.fastq.gz\n",
            "[2021-05-03 20:02:44,095]    INFO         CRR143957_r2.fastq.gz\n",
            "[2021-05-03 20:02:44,095]    INFO         CRR143958_f1.fastq.gz\n",
            "[2021-05-03 20:02:44,095]    INFO         CRR143958_r2.fastq.gz\n",
            "[2021-05-03 20:02:44,095]    INFO         CRR143959_f1.fastq.gz\n",
            "[2021-05-03 20:02:44,095]    INFO         CRR143959_r2.fastq.gz\n",
            "[2021-05-03 20:02:44,095]    INFO         CRR143960_f1.fastq.gz\n",
            "[2021-05-03 20:02:44,095]    INFO         CRR143960_r2.fastq.gz\n",
            "[2021-05-03 20:02:44,095]    INFO         CRR143961_f1.fastq.gz\n",
            "[2021-05-03 20:02:44,095]    INFO         CRR143961_r2.fastq.gz\n",
            "[2021-05-03 20:02:44,095]    INFO         CRR143962_f1.fastq.gz\n",
            "[2021-05-03 20:02:44,096]    INFO         CRR143962_r2.fastq.gz\n",
            "[2021-05-03 20:02:44,096]    INFO         CRR143963_f1.fastq.gz\n",
            "[2021-05-03 20:02:44,096]    INFO         CRR143963_r2.fastq.gz\n",
            "[2021-05-03 20:02:44,096]    INFO         CRR143964_f1.fastq.gz\n",
            "[2021-05-03 20:02:44,096]    INFO         CRR143964_r2.fastq.gz\n",
            "[2021-05-03 21:22:11,405]    INFO Sorting BUS file outputCRX118012/output.bus to outputCRX118012/tmp/output.s.bus\n",
            "[2021-05-03 21:26:45,985]    INFO Whitelist not provided\n",
            "[2021-05-03 21:26:45,985]    INFO Copying pre-packaged 10XV2 whitelist to outputCRX118012\n",
            "[2021-05-03 21:26:46,109]    INFO Inspecting BUS file outputCRX118012/tmp/output.s.bus\n",
            "[2021-05-03 21:27:20,928]    INFO Correcting BUS records in outputCRX118012/tmp/output.s.bus to outputCRX118012/tmp/output.s.c.bus with whitelist outputCRX118012/10xv2_whitelist.txt\n",
            "[2021-05-03 21:28:09,447]    INFO Sorting BUS file outputCRX118012/tmp/output.s.c.bus to outputCRX118012/output.unfiltered.bus\n",
            "[2021-05-03 21:30:18,538]    INFO Generating count matrix outputCRX118012/counts_unfiltered/cells_x_genes from BUS file outputCRX118012/output.unfiltered.bus\n",
            "[2021-05-03 21:31:25,267]    INFO Reading matrix outputCRX118012/counts_unfiltered/cells_x_genes.mtx\n",
            "[2021-05-03 21:32:05,705]    INFO Writing matrix to h5ad outputCRX118012/counts_unfiltered/adata.h5ad\n",
            "[2021-05-03 21:32:06,897]    INFO Filtering with bustools\n",
            "[2021-05-03 21:32:06,897]    INFO Generating whitelist outputCRX118012/filter_barcodes.txt from BUS file outputCRX118012/output.unfiltered.bus\n",
            "[2021-05-03 21:32:07,901]    INFO Correcting BUS records in outputCRX118012/output.unfiltered.bus to outputCRX118012/tmp/output.unfiltered.c.bus with whitelist outputCRX118012/filter_barcodes.txt\n",
            "[2021-05-03 21:33:02,580]    INFO Sorting BUS file outputCRX118012/tmp/output.unfiltered.c.bus to outputCRX118012/output.filtered.bus\n",
            "[2021-05-03 21:34:54,251]    INFO Generating count matrix outputCRX118012/counts_filtered/cells_x_genes from BUS file outputCRX118012/output.filtered.bus\n",
            "[2021-05-03 21:35:54,748]    INFO Reading matrix outputCRX118012/counts_filtered/cells_x_genes.mtx\n",
            "[2021-05-03 21:36:28,295]    INFO Writing matrix to h5ad outputCRX118012/counts_filtered/adata.h5ad\n"
          ],
          "name": "stdout"
        }
      ]
    },
    {
      "cell_type": "markdown",
      "metadata": {
        "id": "tDijOZzrqhN2"
      },
      "source": [
        "# Load unfiltered matrix and assign filters to each matrix individually"
      ]
    },
    {
      "cell_type": "markdown",
      "metadata": {
        "id": "VkNLZh_pNFFw"
      },
      "source": [
        "## Load the unfiltered matrix (check dimensions)"
      ]
    },
    {
      "cell_type": "code",
      "metadata": {
        "id": "PppRNeV8AIyw"
      },
      "source": [
        "# Define dict to store data\n",
        "results = {}\n"
      ],
      "execution_count": 15,
      "outputs": []
    },
    {
      "cell_type": "code",
      "metadata": {
        "cellView": "both",
        "id": "pKmtGf3c_BiZ",
        "colab": {
          "base_uri": "https://localhost:8080/"
        },
        "outputId": "a56c761e-c279-402c-8b57-6690d3d80d49"
      },
      "source": [
        "# load the unfiltered matrix\n",
        "for i in range(no_samples):\n",
        "  results[sample_id[i]] = anndata.read_h5ad(\"output\" + sample_id[i] + \"/counts_unfiltered/adata.h5ad\")\n",
        "  results[sample_id[i]].var[\"gene_id\"] = results[sample_id[i]].var.index.values\n",
        "\n",
        "  t2g = pd.read_csv(\"t2g.txt\", header=None, names=[\"tid\", \"gene_id\", \"gene_name\"], sep=\"\\t\")\n",
        "  t2g.index = t2g.gene_id\n",
        "  t2g = t2g.loc[~t2g.index.duplicated(keep='first')]\n",
        "\n",
        "  results[sample_id[i]].var[\"gene_name\"] = results[sample_id[i]].var.gene_id.map(t2g[\"gene_name\"])\n",
        "  results[sample_id[i]].var.index = results[sample_id[i]].var[\"gene_name\"]\n",
        "  print(\"The unfiltered matrix \" + sample_id[i] + \" contains {} cells by {} genes\".format(len(results[sample_id[i]].obs), len(results[sample_id[i]].var)))\n",
        "\n",
        "  results[sample_id[i]].obs[\"cell_counts\"] = results[sample_id[i]].X.sum(axis=1)\n",
        "  results[sample_id[i]].var[\"gene_counts\"] = nd(results[sample_id[i]].X.sum(axis=0))\n",
        "\n",
        "  results[sample_id[i]].obs[\"n_genes\"] = nd((results[sample_id[i]].X>0).sum(axis=1))\n",
        "  results[sample_id[i]].var[\"n_cells\"] = nd((results[sample_id[i]].X>0).sum(axis=0))\n",
        "\n",
        "  mito_genes = results[sample_id[i]].var_names.str.startswith(\"MT-\" or \"mt-\") \n",
        "  results[sample_id[i]].obs[\"percent_mito\"] = results[sample_id[i]][:,mito_genes].X.sum(axis=1)/results[sample_id[i]].X.sum(axis=1)*100\n",
        "\n",
        "  # Changing the name of the index is necessary to write the file (it won't work with duplicated names)\n",
        "  results[sample_id[i]].var.index.name = \"index\"\n",
        "\n"
      ],
      "execution_count": 16,
      "outputs": [
        {
          "output_type": "stream",
          "text": [
            "The unfiltered matrix CRX118012 contains 487111 cells by 60623 genes\n"
          ],
          "name": "stdout"
        }
      ]
    },
    {
      "cell_type": "markdown",
      "metadata": {
        "id": "hDAUH3eH_2RA"
      },
      "source": [
        "## Assign filters for each matrix individually"
      ]
    },
    {
      "cell_type": "code",
      "metadata": {
        "id": "ukinuaKk_6Po"
      },
      "source": [
        "# Modify this manually to change sample after having assigned the \"expected_num_cells\" and \"mito_criteria\" parameters\n",
        "samp_n = 0\n",
        "\n",
        "\n",
        "# Filtering criteria\n",
        "cell_threshold = 100\n",
        "gene_threshold = 3\n",
        "\n",
        "mito_criteria = 30"
      ],
      "execution_count": 17,
      "outputs": []
    },
    {
      "cell_type": "code",
      "metadata": {
        "id": "a5wZB5pEfwNs",
        "colab": {
          "base_uri": "https://localhost:8080/",
          "height": 722
        },
        "cellView": "form",
        "outputId": "d23fa611-713f-4d71-b8a9-f5795bebac04"
      },
      "source": [
        "\n",
        "expected_num_cells = 10000#@param {type:\"integer\"}\n",
        "knee = np.sort(nd(results[sample_id[samp_n]].X.sum(axis=1)))[::-1]\n",
        "\n",
        "fig, ax = plt.subplots(figsize=(5, 5))\n",
        "\n",
        "x = knee\n",
        "y = range(len(knee))\n",
        "\n",
        "ax.loglog(x, y, linewidth=5, color=\"g\")\n",
        "\n",
        "ax.axvline(x=knee[expected_num_cells], linewidth=3, color=\"k\")\n",
        "ax.axhline(y=expected_num_cells, linewidth=3, color=\"k\")\n",
        "\n",
        "ax.set_xlabel(\"UMI Counts\")\n",
        "ax.set_ylabel(\"Set of Barcodes\")\n",
        "\n",
        "plt.show()\n",
        "\n",
        "cell_threshold = knee[expected_num_cells]\n",
        "\n",
        "results[\"cell_threshold\" + sample_id[samp_n]] = knee[expected_num_cells]\n",
        "\n",
        "print (\"Cells were filtered down to \" + str(expected_num_cells) + \" with at least \" + str(cell_threshold) + \" UMIs\")\n",
        "\n",
        "\n",
        "mito_criteria = 23#@param {type:\"integer\"}\n",
        "results[\"mito_criteria\" + sample_id[samp_n]] = mito_criteria\n",
        "\n",
        "fig, ax = plt.subplots(figsize=(5,5))\n",
        "\n",
        "\n",
        "x = nd(results[sample_id[samp_n]].obs[\"cell_counts\"][results[sample_id[samp_n]].obs[\"cell_counts\"] > cell_threshold])\n",
        "y = nd(results[sample_id[samp_n]].obs[\"percent_mito\"][results[sample_id[samp_n]].obs[\"cell_counts\"] > cell_threshold])\n",
        "\n",
        "ax.scatter(x, y, color=\"green\", alpha=0.1)\n",
        "\n",
        "ax.axhline(y=mito_criteria, linestyle=\"--\", color=\"k\")\n",
        "\n",
        "\n",
        "ax.set_xlabel(\"UMI Counts\")\n",
        "ax.set_ylabel(\"Percent mito\")\n",
        "\n",
        "\n",
        "plt.show()\n",
        "\n",
        "print(\"We select \" + str(mito_criteria) + \" % as the mitochondrial content threshold\")"
      ],
      "execution_count": 19,
      "outputs": [
        {
          "output_type": "display_data",
          "data": {
            "image/png": "[encoded data removed]",
            "text/plain": [
              "<Figure size 360x360 with 1 Axes>"
            ]
          },
          "metadata": {
            "tags": [],
            "image/png": {
              "width": 358,
              "height": 337
            },
            "needs_background": "light"
          }
        },
        {
          "output_type": "stream",
          "text": [
            "Cells were filtered down to 10000 with at least 2445.0 UMIs\n"
          ],
          "name": "stdout"
        },
        {
          "output_type": "display_data",
          "data": {
            "image/png": "[encoded data removed]",
            "text/plain": [
              "<Figure size 360x360 with 1 Axes>"
            ]
          },
          "metadata": {
            "tags": [],
            "image/png": {
              "width": 349,
              "height": 337
            },
            "needs_background": "light"
          }
        },
        {
          "output_type": "stream",
          "text": [
            "We select 23 % as the mitochondrial content threshold\n"
          ],
          "name": "stdout"
        }
      ]
    },
    {
      "cell_type": "markdown",
      "metadata": {
        "id": "eP9j2ouPq9KY"
      },
      "source": [
        "# Filter matrix"
      ]
    },
    {
      "cell_type": "code",
      "metadata": {
        "id": "sE51WUA3gVmG",
        "colab": {
          "base_uri": "https://localhost:8080/"
        },
        "outputId": "4d57e0d6-29fb-407d-8f02-d368f3dd070d"
      },
      "source": [
        "for i in range(no_samples):\n",
        "  results[sample_id[i]].obs[\"pass_count_filter\"] = results[sample_id[i]].obs[\"cell_counts\"] > results[\"cell_threshold\" + sample_id[i]]\n",
        "  results[sample_id[i]].obs[\"pass_mito_filter\"] = results[sample_id[i]].obs.percent_mito < results[\"mito_criteria\" + sample_id[i]]\n",
        "  results[sample_id[i]].var[\"pass_gene_filter\"] = results[sample_id[i]].var[\"n_cells\"] > gene_threshold\n",
        "\n",
        "  cell_mask = np.logical_and(results[sample_id[i]].obs[\"pass_count_filter\"].values, results[sample_id[i]].obs[\"pass_mito_filter\"].values)\n",
        "  gene_mask = results[sample_id[i]].var[\"pass_gene_filter\"].values\n",
        "\n",
        "  print(\"Current Shape: {:,} cells x {:,} genes\".format(results[sample_id[i]].shape[0], results[sample_id[i]].shape[1]))\n",
        "  print(\"    New shape: {:,} cells x {:,} genes\".format(cell_mask.sum(), gene_mask.sum()))\n",
        "  results[\"data_\" + sample_id[i]] = results[sample_id[i]][cell_mask, gene_mask]"
      ],
      "execution_count": 20,
      "outputs": [
        {
          "output_type": "stream",
          "text": [
            "Current Shape: 487,111 cells x 60,623 genes\n",
            "    New shape: 9,953 cells x 29,208 genes\n"
          ],
          "name": "stdout"
        }
      ]
    },
    {
      "cell_type": "markdown",
      "metadata": {
        "id": "BxPA81yj4TlU"
      },
      "source": [
        "# Anotate and write the Anndata object"
      ]
    },
    {
      "cell_type": "code",
      "metadata": {
        "id": "O-q_Qj2U4kDU",
        "colab": {
          "base_uri": "https://localhost:8080/"
        },
        "outputId": "f1ae0289-c388-4361-eab3-ca54b3b0d278"
      },
      "source": [
        "for i in range(no_samples):\n",
        "\n",
        "\n",
        "  results[\"data_\" + sample_id[i]].uns[\"database_id\"] = database_id[i]\n",
        "\n",
        "  results[\"data_\" + sample_id[i]].uns[\"tissue\"] = tissue[i]\n",
        "\n",
        "  results[\"data_\" + sample_id[i]].uns[\"cell_type\"] = cell_type[i]\n",
        "\n",
        "  results[\"data_\" + sample_id[i]].uns[\"sample_id\"] = sample_id[i]\n",
        "\n",
        "  results[\"data_\" + sample_id[i]].uns[\"condition\"] = condition[i]\n",
        "\n",
        "  results[\"data_\" + sample_id[i]].uns[\"species\"] = species[i]\n",
        "\n",
        "  results[\"data_\" + sample_id[i]].uns[\"technology\"] = technology[i]\n",
        "\n",
        "  results[\"data_\" + sample_id[i]].uns[\"paper\"] = paper[i]\n",
        "\n",
        "  results[\"data_\" + sample_id[i]].uns[\"figure\"] = figure[i]\n",
        "\n",
        "\n",
        "%cd /content\n",
        "\n",
        "for i in range(no_samples):\n",
        "\n",
        "  results[\"data_\" + sample_id[i]].write(\"result\" + sample_id[i])"
      ],
      "execution_count": 21,
      "outputs": [
        {
          "output_type": "stream",
          "text": [
            "Trying to set attribute `.uns` of view, copying.\n",
            "Variable names are not unique. To make them unique, call `.var_names_make_unique`.\n",
            "Variable names are not unique. To make them unique, call `.var_names_make_unique`.\n"
          ],
          "name": "stderr"
        },
        {
          "output_type": "stream",
          "text": [
            "/content\n"
          ],
          "name": "stdout"
        },
        {
          "output_type": "stream",
          "text": [
            "... storing 'gene_name' as categorical\n"
          ],
          "name": "stderr"
        }
      ]
    }
  ]
}