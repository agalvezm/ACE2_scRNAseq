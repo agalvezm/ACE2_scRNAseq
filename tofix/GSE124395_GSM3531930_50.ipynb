{
  "nbformat": 4,
  "nbformat_minor": 0,
  "metadata": {
    "colab": {
      "name": "Copy of GSE124395_GSM3531930-50.ipynb",
      "provenance": [],
      "collapsed_sections": [],
      "include_colab_link": true
    },
    "kernelspec": {
      "display_name": "Python 3",
      "name": "python3"
    }
  },
  "cells": [
    {
      "cell_type": "markdown",
      "metadata": {
        "id": "view-in-github",
        "colab_type": "text"
      },
      "source": [
        "<a href=\"https://colab.research.google.com/github/agalvezm/ACE2_scRNAseq/blob/master/tofix/GSE124395_GSM3531930_50.ipynb\" target=\"_parent\"><img src=\"https://colab.research.google.com/assets/colab-badge.svg\" alt=\"Open In Colab\"/></a>"
      ]
    },
    {
      "cell_type": "markdown",
      "metadata": {
        "id": "V9ryXluJsJw9"
      },
      "source": [
        "# GSE124395_GSM3531969-82"
      ]
    },
    {
      "cell_type": "code",
      "metadata": {
        "id": "ggNFAQJCRh6P"
      },
      "source": [
        "# define the values for the analysis\n",
        "\n",
        "# accession id for the data\n",
        "id = \"GSE124395\"\n",
        "\n",
        "samp_id = \"GSM3531969-82\"\n",
        "\n",
        "# If only bam available files, set bam = True, Fill link and filename\n",
        "bam = False\n",
        "\n",
        "# If fastq links available but are not ffq links\n",
        "fastq_ffqlinks = False\n",
        "\n",
        "\n",
        "if bam:\n",
        "  # Assign link to python variable\n",
        "  link_to_bam = \"\"\n",
        "  \n",
        "  # Assigns the link to the bash variable BAM_LINK. To be used by wget\n",
        "  %env BAM_LINK=$link_to_bam\n",
        "\n",
        "  # Assign filename to python variable. Used to convert to fastq and remove bam file to fastq after conversion\n",
        "\n",
        "  bam_filename=\"\"\n",
        "\n",
        "\n",
        "if not bam:\n",
        "\n",
        "  # Copy and paste the links from the ACE2 scRNAseq datasets google  spreadsheet\n",
        "  links_raw = \"ftp://ftp.sra.ebi.ac.uk/vol1/fastq/SRR837/006/SRR8371506/SRR8371506_1.fastq.gz\tftp://ftp.sra.ebi.ac.uk/vol1/fastq/SRR837/006/SRR8371506/SRR8371506_2.fastq.gz\tftp://ftp.sra.ebi.ac.uk/vol1/fastq/SRR837/007/SRR8371507/SRR8371507_1.fastq.gz\tftp://ftp.sra.ebi.ac.uk/vol1/fastq/SRR837/007/SRR8371507/SRR8371507_2.fastq.gz\tftp://ftp.sra.ebi.ac.uk/vol1/fastq/SRR837/008/SRR8371508/SRR8371508_1.fastq.gz\tftp://ftp.sra.ebi.ac.uk/vol1/fastq/SRR837/008/SRR8371508/SRR8371508_2.fastq.gz\tftp://ftp.sra.ebi.ac.uk/vol1/fastq/SRR837/009/SRR8371509/SRR8371509_1.fastq.gz\tftp://ftp.sra.ebi.ac.uk/vol1/fastq/SRR837/009/SRR8371509/SRR8371509_2.fastq.gz\tftp://ftp.sra.ebi.ac.uk/vol1/fastq/SRR837/000/SRR8371510/SRR8371510_1.fastq.gz\tftp://ftp.sra.ebi.ac.uk/vol1/fastq/SRR837/000/SRR8371510/SRR8371510_2.fastq.gz\tftp://ftp.sra.ebi.ac.uk/vol1/fastq/SRR837/001/SRR8371511/SRR8371511_1.fastq.gz\tftp://ftp.sra.ebi.ac.uk/vol1/fastq/SRR837/001/SRR8371511/SRR8371511_2.fastq.gz\tftp://ftp.sra.ebi.ac.uk/vol1/fastq/SRR837/002/SRR8371512/SRR8371512_1.fastq.gz\tftp://ftp.sra.ebi.ac.uk/vol1/fastq/SRR837/002/SRR8371512/SRR8371512_2.fastq.gz\tftp://ftp.sra.ebi.ac.uk/vol1/fastq/SRR837/003/SRR8371513/SRR8371513_1.fastq.gz\tftp://ftp.sra.ebi.ac.uk/vol1/fastq/SRR837/003/SRR8371513/SRR8371513_2.fastq.gz\tftp://ftp.sra.ebi.ac.uk/vol1/fastq/SRR837/004/SRR8371514/SRR8371514_1.fastq.gz\tftp://ftp.sra.ebi.ac.uk/vol1/fastq/SRR837/004/SRR8371514/SRR8371514_2.fastq.gz\tftp://ftp.sra.ebi.ac.uk/vol1/fastq/SRR837/005/SRR8371515/SRR8371515_1.fastq.gz\tftp://ftp.sra.ebi.ac.uk/vol1/fastq/SRR837/005/SRR8371515/SRR8371515_2.fastq.gz\tftp://ftp.sra.ebi.ac.uk/vol1/fastq/SRR837/006/SRR8371516/SRR8371516_1.fastq.gz\tftp://ftp.sra.ebi.ac.uk/vol1/fastq/SRR837/006/SRR8371516/SRR8371516_2.fastq.gz\tftp://ftp.sra.ebi.ac.uk/vol1/fastq/SRR837/007/SRR8371517/SRR8371517_1.fastq.gz\tftp://ftp.sra.ebi.ac.uk/vol1/fastq/SRR837/007/SRR8371517/SRR8371517_2.fastq.gz\tftp://ftp.sra.ebi.ac.uk/vol1/fastq/SRR837/008/SRR8371518/SRR8371518_1.fastq.gz\tftp://ftp.sra.ebi.ac.uk/vol1/fastq/SRR837/008/SRR8371518/SRR8371518_2.fastq.gz\tftp://ftp.sra.ebi.ac.uk/vol1/fastq/SRR837/009/SRR8371519/SRR8371519_1.fastq.gz\tftp://ftp.sra.ebi.ac.uk/vol1/fastq/SRR837/009/SRR8371519/SRR8371519_2.fastq.gz\"\n",
        "  # Convert it to a list where each link is an element\n",
        "  \n",
        "  fastqs = links_raw.split()\n"
      ],
      "execution_count": null,
      "outputs": []
    },
    {
      "cell_type": "code",
      "metadata": {
        "id": "5R3tPDqnoJUn"
      },
      "source": [
        "no_samples = 1\n",
        "\n",
        "fastqs_per_sample = [200] \n",
        "\n",
        "sample_id = samp_id\n",
        "\n",
        "database_id = [id] * no_samples\n",
        "\n",
        "tissue = [\"liver\"] * no_samples\n",
        "\n",
        "cell_type = [\"human liver organoid cells\"] * no_samples\n",
        "\n",
        "condition = [\"grown from EPCAM+ cells\"] * no_samples\n",
        "\n",
        "species = [\"human\"] * no_samples\n",
        "\n",
        "technology = [\"CELSeq2\"] * no_samples\n",
        "\n",
        "paper = [\"Zhu et al. Preprint (2020)\"] * no_samples\n",
        "\n",
        "figure = [\"Fig 2 a,b\"] * no_samples\n",
        "\n",
        "\n",
        "# Set string variables for kb functions\n",
        "\n",
        "species_kb = species[0]\n",
        "\n",
        "technology_kb = technology[0]\n",
        "\n"
      ],
      "execution_count": null,
      "outputs": []
    },
    {
      "cell_type": "markdown",
      "metadata": {
        "id": "FPwL0-_-KSAw"
      },
      "source": [
        "# Imports and installs"
      ]
    },
    {
      "cell_type": "code",
      "metadata": {
        "colab": {
          "base_uri": "https://localhost:8080/"
        },
        "id": "1HSlUGZEp3oP",
        "outputId": "a21de822-8097-4740-c84d-0bc1609f6b98"
      },
      "source": [
        "# install and import necessary software\n",
        "\n",
        "# Install kb and scanpy\n",
        "!pip -q install kb-python \n",
        "!pip -q install scanpy\n",
        "\n",
        "import re\n",
        "import os\n",
        "\n",
        "# Setup\n",
        "\n",
        "import anndata\n",
        "import pandas as pd\n",
        "import numpy as np\n",
        "import matplotlib.pyplot as plt\n",
        "import matplotlib as mpl\n",
        "import matplotlib.patches as mpatches\n",
        "import scanpy as sc\n",
        "from scipy import stats\n",
        "\n",
        "from collections import OrderedDict\n",
        "from sklearn.decomposition import TruncatedSVD\n",
        "from sklearn.manifold import TSNE\n",
        "from sklearn.preprocessing import scale\n",
        "\n",
        "from sklearn.cluster import KMeans\n",
        "from sklearn.preprocessing import normalize\n",
        "from sklearn.preprocessing import LabelEncoder\n",
        "from sklearn.neighbors import NeighborhoodComponentsAnalysis\n",
        "from matplotlib import cm\n",
        "from matplotlib.lines import Line2D\n",
        "\n",
        "def nd(arr):\n",
        "    return np.asarray(arr).reshape(-1)\n",
        "def yex(ax):\n",
        "    lims = [np.min([ax.get_xlim(), ax.get_ylim()]),\n",
        "            np.max([ax.get_xlim(), ax.get_ylim()])]\n",
        "\n",
        "    # now plot both limits against eachother\n",
        "    ax.plot(lims, lims, 'k-', alpha=0.75, zorder=0)\n",
        "    ax.set_aspect('equal')\n",
        "    ax.set_xlim(lims)\n",
        "    ax.set_ylim(lims)\n",
        "    return ax\n",
        "\n",
        "def trim_axs(axs, N):\n",
        "    \"\"\"little helper to massage the axs list to have correct length...\"\"\"\n",
        "    axs = axs.flat\n",
        "    for ax in axs[N:]:\n",
        "        ax.remove()\n",
        "    return axs[:N]\n",
        "\n",
        "import warnings\n",
        "warnings.filterwarnings('ignore')\n",
        "\n",
        "fsize=20\n",
        "\n",
        "plt.rcParams.update({'font.size': fsize})\n",
        "%config InlineBackend.figure_format = 'retina'"
      ],
      "execution_count": null,
      "outputs": [
        {
          "output_type": "stream",
          "text": [
            "\u001b[K     |████████████████████████████████| 59.1MB 99kB/s \n",
            "\u001b[K     |████████████████████████████████| 13.1MB 29.8MB/s \n",
            "\u001b[K     |████████████████████████████████| 51kB 5.4MB/s \n",
            "\u001b[K     |████████████████████████████████| 7.7MB 20.1MB/s \n",
            "\u001b[K     |████████████████████████████████| 122kB 44.4MB/s \n",
            "\u001b[K     |████████████████████████████████| 112kB 52.4MB/s \n",
            "\u001b[K     |████████████████████████████████| 51kB 4.3MB/s \n",
            "\u001b[K     |████████████████████████████████| 71kB 8.7MB/s \n",
            "\u001b[?25h  Building wheel for loompy (setup.py) ... \u001b[?25l\u001b[?25hdone\n",
            "  Building wheel for numpy-groupies (setup.py) ... \u001b[?25l\u001b[?25hdone\n",
            "  Building wheel for sinfo (setup.py) ... \u001b[?25l\u001b[?25hdone\n"
          ],
          "name": "stdout"
        }
      ]
    },
    {
      "cell_type": "markdown",
      "metadata": {
        "id": "7V6FbosVrvP4"
      },
      "source": [
        "# Downloads: (bam (if bam) and index"
      ]
    },
    {
      "cell_type": "code",
      "metadata": {
        "id": "q46hw4zqKUPS"
      },
      "source": [
        "if bam:\n",
        "\n",
        "  # Install bamtofastq from 10x website (only bam files available)\n",
        "  !wget http://cf.10xgenomics.com/misc/bamtofastq-1.2.0\n",
        "  !chmod +x bamtofastq-1.2.0\n",
        "  # Download the bam file\n",
        "  !wget -- continue ${BAM_LINK}\n",
        "\n",
        "\n"
      ],
      "execution_count": null,
      "outputs": []
    },
    {
      "cell_type": "code",
      "metadata": {
        "id": "tDQlrjtqNF0m"
      },
      "source": [
        "if bam:\n",
        "  # Convert to fastq\n",
        "  !./bamtofastq-1.2.0 --reads-per-fastq=500000000 $bam_filename ./fastqs\\\n",
        "\n",
        "  # Remove original bam file to save space\n",
        "  !rm $bam_filename\n"
      ],
      "execution_count": null,
      "outputs": []
    },
    {
      "cell_type": "code",
      "metadata": {
        "id": "SXRDRphvqcLe"
      },
      "source": [
        "# Store fastq names on a list\n",
        "\n",
        "if bam:\n",
        "  # cd into fastqs folder\n",
        "  %cd /content/fastqs\n",
        "\n",
        "  #store the name of the folder generated by bamtofastq\n",
        "  _filename = os.listdir()[0]\n",
        "\n",
        "  # cd into that folder\n",
        "  %cd $_filename\n",
        "\n",
        "  # store fastq names in a list\n",
        "  fastqs = os.listdir()\n",
        "\n",
        "\n",
        "  # Remove I1 and R3 reads not relevant for our analysis\n",
        "\n",
        "  # Initialize list containing elements to remove\n",
        "  remov_elem = []\n",
        "\n",
        "  print (\"\\n\\nThis is the complete list of fastqs:\\n -----------\")\n",
        "  for elem in fastqs:\n",
        "    print (elem)\n",
        "\n",
        "  # Search index (I1 or R3) fastqs and remove them from list\n",
        "  for elem in fastqs:\n",
        "    if re.search(\"_R3_\", elem) or re.search(\"_I1_\", elem):\n",
        "      remov_elem = remov_elem +[elem]\n",
        "\n",
        "  fastqs = [elem for elem in fastqs if elem not in remov_elem] \n",
        "\n",
        "  print (\"\\n\\nThis is the filtered list of fastqs:\\n -----------\")\n",
        "  for elem in fastqs:\n",
        "    print (elem)\n"
      ],
      "execution_count": null,
      "outputs": []
    },
    {
      "cell_type": "code",
      "metadata": {
        "id": "ZnFcqcSgjLBw"
      },
      "source": [
        "# Remove fastqs that wont be analyzed to save space\n",
        "if bam:\n",
        "  for elem in remov_elem:\n",
        "    !rm $elem"
      ],
      "execution_count": null,
      "outputs": []
    },
    {
      "cell_type": "code",
      "metadata": {
        "id": "FLVS8aB7Dm6J"
      },
      "source": [
        "if bam:\n",
        "  # sort fastqs alphabetically to get R1 and R2 in order\n",
        "  fastqs = sorted(fastqs)"
      ],
      "execution_count": null,
      "outputs": []
    },
    {
      "cell_type": "code",
      "metadata": {
        "colab": {
          "base_uri": "https://localhost:8080/"
        },
        "id": "FE9gWbQgpBfR",
        "outputId": "5f7630ff-920b-461e-d49c-a52a6f07da29"
      },
      "source": [
        "# wget fastqs from non ffq links in fastqs folder\n",
        "if not bam and not fastq_ffqlinks:\n",
        "  !mkdir fastqs\n",
        "  %cd fastqs\n",
        "  for link in fastqs:\n",
        "    !wget $link --continue\n",
        "\n",
        "  # update fastqs variable with name of files\n",
        "  fastqs = sorted(os.listdir())"
      ],
      "execution_count": null,
      "outputs": [
        {
          "output_type": "stream",
          "text": [
            "/content/fastqs\n",
            "--2020-12-02 23:01:44--  ftp://ftp.sra.ebi.ac.uk/vol1/fastq/SRR837/006/SRR8371506/SRR8371506_1.fastq.gz\n",
            "           => ‘SRR8371506_1.fastq.gz’\n",
            "Resolving ftp.sra.ebi.ac.uk (ftp.sra.ebi.ac.uk)... 193.62.193.138\n",
            "Connecting to ftp.sra.ebi.ac.uk (ftp.sra.ebi.ac.uk)|193.62.193.138|:21... connected.\n",
            "Logging in as anonymous ... Logged in!\n",
            "==> SYST ... done.    ==> PWD ... done.\n",
            "==> TYPE I ... done.  ==> CWD (1) /vol1/fastq/SRR837/006/SRR8371506 ... done.\n",
            "==> SIZE SRR8371506_1.fastq.gz ... 812607523\n",
            "==> PASV ... done.    ==> RETR SRR8371506_1.fastq.gz ... done.\n",
            "Length: 812607523 (775M) (unauthoritative)\n",
            "\n",
            "SRR8371506_1.fastq. 100%[===================>] 774.96M  22.9MB/s    in 44s     \n",
            "\n",
            "2020-12-02 23:02:29 (17.8 MB/s) - ‘SRR8371506_1.fastq.gz’ saved [812607523]\n",
            "\n",
            "--2020-12-02 23:02:29--  ftp://ftp.sra.ebi.ac.uk/vol1/fastq/SRR837/006/SRR8371506/SRR8371506_2.fastq.gz\n",
            "           => ‘SRR8371506_2.fastq.gz’\n",
            "Resolving ftp.sra.ebi.ac.uk (ftp.sra.ebi.ac.uk)... 193.62.193.138\n",
            "Connecting to ftp.sra.ebi.ac.uk (ftp.sra.ebi.ac.uk)|193.62.193.138|:21... connected.\n",
            "Logging in as anonymous ... Logged in!\n",
            "==> SYST ... done.    ==> PWD ... done.\n",
            "==> TYPE I ... done.  ==> CWD (1) /vol1/fastq/SRR837/006/SRR8371506 ... done.\n",
            "==> SIZE SRR8371506_2.fastq.gz ... 913741592\n",
            "==> PASV ... done.    ==> RETR SRR8371506_2.fastq.gz ... done.\n",
            "Length: 913741592 (871M) (unauthoritative)\n",
            "\n",
            "SRR8371506_2.fastq. 100%[===================>] 871.41M  22.4MB/s    in 72s     \n",
            "\n",
            "2020-12-02 23:03:44 (12.0 MB/s) - ‘SRR8371506_2.fastq.gz’ saved [913741592]\n",
            "\n",
            "--2020-12-02 23:03:44--  ftp://ftp.sra.ebi.ac.uk/vol1/fastq/SRR837/007/SRR8371507/SRR8371507_1.fastq.gz\n",
            "           => ‘SRR8371507_1.fastq.gz’\n",
            "Resolving ftp.sra.ebi.ac.uk (ftp.sra.ebi.ac.uk)... 193.62.197.74\n",
            "Connecting to ftp.sra.ebi.ac.uk (ftp.sra.ebi.ac.uk)|193.62.197.74|:21... connected.\n",
            "Logging in as anonymous ... Logged in!\n",
            "==> SYST ... done.    ==> PWD ... done.\n",
            "==> TYPE I ... done.  ==> CWD (1) /vol1/fastq/SRR837/007/SRR8371507 ... done.\n",
            "==> SIZE SRR8371507_1.fastq.gz ... 716722949\n",
            "==> PASV ... done.    ==> RETR SRR8371507_1.fastq.gz ... done.\n",
            "Length: 716722949 (684M) (unauthoritative)\n",
            "\n",
            "SRR8371507_1.fastq. 100%[===================>] 683.52M  22.7MB/s    in 36s     \n",
            "\n",
            "2020-12-02 23:04:22 (18.9 MB/s) - ‘SRR8371507_1.fastq.gz’ saved [716722949]\n",
            "\n",
            "--2020-12-02 23:04:23--  ftp://ftp.sra.ebi.ac.uk/vol1/fastq/SRR837/007/SRR8371507/SRR8371507_2.fastq.gz\n",
            "           => ‘SRR8371507_2.fastq.gz’\n",
            "Resolving ftp.sra.ebi.ac.uk (ftp.sra.ebi.ac.uk)... 193.62.197.74\n",
            "Connecting to ftp.sra.ebi.ac.uk (ftp.sra.ebi.ac.uk)|193.62.197.74|:21... connected.\n",
            "Logging in as anonymous ... Logged in!\n",
            "==> SYST ... done.    ==> PWD ... done.\n",
            "==> TYPE I ... done.  ==> CWD (1) /vol1/fastq/SRR837/007/SRR8371507 ... done.\n",
            "==> SIZE SRR8371507_2.fastq.gz ... 783606617\n",
            "==> PASV ... done.    ==> RETR SRR8371507_2.fastq.gz ... done.\n",
            "Length: 783606617 (747M) (unauthoritative)\n",
            "\n",
            "SRR8371507_2.fastq. 100%[===================>] 747.30M  22.8MB/s    in 45s     \n",
            "\n",
            "2020-12-02 23:05:09 (16.8 MB/s) - ‘SRR8371507_2.fastq.gz’ saved [783606617]\n",
            "\n",
            "--2020-12-02 23:05:09--  ftp://ftp.sra.ebi.ac.uk/vol1/fastq/SRR837/008/SRR8371508/SRR8371508_1.fastq.gz\n",
            "           => ‘SRR8371508_1.fastq.gz’\n",
            "Resolving ftp.sra.ebi.ac.uk (ftp.sra.ebi.ac.uk)... 193.62.193.138\n",
            "Connecting to ftp.sra.ebi.ac.uk (ftp.sra.ebi.ac.uk)|193.62.193.138|:21... connected.\n",
            "Logging in as anonymous ... Logged in!\n",
            "==> SYST ... done.    ==> PWD ... done.\n",
            "==> TYPE I ... done.  ==> CWD (1) /vol1/fastq/SRR837/008/SRR8371508 ... done.\n",
            "==> SIZE SRR8371508_1.fastq.gz ... 609140106\n",
            "==> PASV ... done.    ==> RETR SRR8371508_1.fastq.gz ... done.\n",
            "Length: 609140106 (581M) (unauthoritative)\n",
            "\n",
            "SRR8371508_1.fastq. 100%[===================>] 580.92M  22.5MB/s    in 32s     \n",
            "\n",
            "2020-12-02 23:05:44 (18.1 MB/s) - ‘SRR8371508_1.fastq.gz’ saved [609140106]\n",
            "\n",
            "--2020-12-02 23:05:44--  ftp://ftp.sra.ebi.ac.uk/vol1/fastq/SRR837/008/SRR8371508/SRR8371508_2.fastq.gz\n",
            "           => ‘SRR8371508_2.fastq.gz’\n",
            "Resolving ftp.sra.ebi.ac.uk (ftp.sra.ebi.ac.uk)... 193.62.197.74\n",
            "Connecting to ftp.sra.ebi.ac.uk (ftp.sra.ebi.ac.uk)|193.62.197.74|:21... connected.\n",
            "Logging in as anonymous ... Logged in!\n",
            "==> SYST ... done.    ==> PWD ... done.\n",
            "==> TYPE I ... done.  ==> CWD (1) /vol1/fastq/SRR837/008/SRR8371508 ... done.\n",
            "==> SIZE SRR8371508_2.fastq.gz ... 655489546\n",
            "==> PASV ... done.    ==> RETR SRR8371508_2.fastq.gz ... done.\n",
            "Length: 655489546 (625M) (unauthoritative)\n",
            "\n",
            "SRR8371508_2.fastq. 100%[===================>] 625.12M  22.9MB/s    in 34s     \n",
            "\n",
            "2020-12-02 23:06:20 (18.2 MB/s) - ‘SRR8371508_2.fastq.gz’ saved [655489546]\n",
            "\n",
            "--2020-12-02 23:06:20--  ftp://ftp.sra.ebi.ac.uk/vol1/fastq/SRR837/009/SRR8371509/SRR8371509_1.fastq.gz\n",
            "           => ‘SRR8371509_1.fastq.gz’\n",
            "Resolving ftp.sra.ebi.ac.uk (ftp.sra.ebi.ac.uk)... 193.62.197.74\n",
            "Connecting to ftp.sra.ebi.ac.uk (ftp.sra.ebi.ac.uk)|193.62.197.74|:21... connected.\n",
            "Logging in as anonymous ... Logged in!\n",
            "==> SYST ... done.    ==> PWD ... done.\n",
            "==> TYPE I ... done.  ==> CWD (1) /vol1/fastq/SRR837/009/SRR8371509 ... done.\n",
            "==> SIZE SRR8371509_1.fastq.gz ... 379601139\n",
            "==> PASV ... done.    ==> RETR SRR8371509_1.fastq.gz ... done.\n",
            "Length: 379601139 (362M) (unauthoritative)\n",
            "\n",
            "SRR8371509_1.fastq. 100%[===================>] 362.02M  17.2MB/s    in 22s     \n",
            "\n",
            "2020-12-02 23:06:44 (16.6 MB/s) - ‘SRR8371509_1.fastq.gz’ saved [379601139]\n",
            "\n",
            "--2020-12-02 23:06:44--  ftp://ftp.sra.ebi.ac.uk/vol1/fastq/SRR837/009/SRR8371509/SRR8371509_2.fastq.gz\n",
            "           => ‘SRR8371509_2.fastq.gz’\n",
            "Resolving ftp.sra.ebi.ac.uk (ftp.sra.ebi.ac.uk)... 193.62.197.74\n",
            "Connecting to ftp.sra.ebi.ac.uk (ftp.sra.ebi.ac.uk)|193.62.197.74|:21... connected.\n",
            "Logging in as anonymous ... Logged in!\n",
            "==> SYST ... done.    ==> PWD ... done.\n",
            "==> TYPE I ... done.  ==> CWD (1) /vol1/fastq/SRR837/009/SRR8371509 ... done.\n",
            "==> SIZE SRR8371509_2.fastq.gz ... 421633333\n",
            "==> PASV ... done.    ==> RETR SRR8371509_2.fastq.gz ... done.\n",
            "Length: 421633333 (402M) (unauthoritative)\n",
            "\n",
            "SRR8371509_2.fastq. 100%[===================>] 402.10M  16.1MB/s    in 26s     \n",
            "\n",
            "2020-12-02 23:07:12 (15.6 MB/s) - ‘SRR8371509_2.fastq.gz’ saved [421633333]\n",
            "\n",
            "--2020-12-02 23:07:12--  ftp://ftp.sra.ebi.ac.uk/vol1/fastq/SRR837/000/SRR8371510/SRR8371510_1.fastq.gz\n",
            "           => ‘SRR8371510_1.fastq.gz’\n",
            "Resolving ftp.sra.ebi.ac.uk (ftp.sra.ebi.ac.uk)... 193.62.197.74\n",
            "Connecting to ftp.sra.ebi.ac.uk (ftp.sra.ebi.ac.uk)|193.62.197.74|:21... connected.\n",
            "Logging in as anonymous ... Logged in!\n",
            "==> SYST ... done.    ==> PWD ... done.\n",
            "==> TYPE I ... done.  ==> CWD (1) /vol1/fastq/SRR837/000/SRR8371510 ... done.\n",
            "==> SIZE SRR8371510_1.fastq.gz ... 516479167\n",
            "==> PASV ... done.    ==> RETR SRR8371510_1.fastq.gz ... done.\n",
            "Length: 516479167 (493M) (unauthoritative)\n",
            "\n",
            "SRR8371510_1.fastq. 100%[===================>] 492.55M  11.6MB/s    in 56s     \n",
            "\n",
            "2020-12-02 23:08:10 (8.81 MB/s) - ‘SRR8371510_1.fastq.gz’ saved [516479167]\n",
            "\n",
            "--2020-12-02 23:08:10--  ftp://ftp.sra.ebi.ac.uk/vol1/fastq/SRR837/000/SRR8371510/SRR8371510_2.fastq.gz\n",
            "           => ‘SRR8371510_2.fastq.gz’\n",
            "Resolving ftp.sra.ebi.ac.uk (ftp.sra.ebi.ac.uk)... 193.62.193.138\n",
            "Connecting to ftp.sra.ebi.ac.uk (ftp.sra.ebi.ac.uk)|193.62.193.138|:21... connected.\n",
            "Logging in as anonymous ... Logged in!\n",
            "==> SYST ... done.    ==> PWD ... done.\n",
            "==> TYPE I ... done.  ==> CWD (1) /vol1/fastq/SRR837/000/SRR8371510 ... done.\n",
            "==> SIZE SRR8371510_2.fastq.gz ... 593610771\n",
            "==> PASV ... done.    ==> RETR SRR8371510_2.fastq.gz ... done.\n",
            "Length: 593610771 (566M) (unauthoritative)\n",
            "\n",
            "SRR8371510_2.fastq. 100%[===================>] 566.11M  22.4MB/s    in 29s     \n",
            "\n",
            "2020-12-02 23:08:41 (19.3 MB/s) - ‘SRR8371510_2.fastq.gz’ saved [593610771]\n",
            "\n",
            "--2020-12-02 23:08:41--  ftp://ftp.sra.ebi.ac.uk/vol1/fastq/SRR837/001/SRR8371511/SRR8371511_1.fastq.gz\n",
            "           => ‘SRR8371511_1.fastq.gz’\n",
            "Resolving ftp.sra.ebi.ac.uk (ftp.sra.ebi.ac.uk)... 193.62.197.74\n",
            "Connecting to ftp.sra.ebi.ac.uk (ftp.sra.ebi.ac.uk)|193.62.197.74|:21... connected.\n",
            "Logging in as anonymous ... Logged in!\n",
            "==> SYST ... done.    ==> PWD ... done.\n",
            "==> TYPE I ... done.  ==> CWD (1) /vol1/fastq/SRR837/001/SRR8371511 ... done.\n",
            "==> SIZE SRR8371511_1.fastq.gz ... 825338490\n",
            "==> PASV ... done.    ==> RETR SRR8371511_1.fastq.gz ... done.\n",
            "Length: 825338490 (787M) (unauthoritative)\n",
            "\n",
            "SRR8371511_1.fastq. 100%[===================>] 787.10M  13.8MB/s    in 62s     \n",
            "\n",
            "2020-12-02 23:09:46 (12.6 MB/s) - ‘SRR8371511_1.fastq.gz’ saved [825338490]\n",
            "\n",
            "--2020-12-02 23:09:46--  ftp://ftp.sra.ebi.ac.uk/vol1/fastq/SRR837/001/SRR8371511/SRR8371511_2.fastq.gz\n",
            "           => ‘SRR8371511_2.fastq.gz’\n",
            "Resolving ftp.sra.ebi.ac.uk (ftp.sra.ebi.ac.uk)... 193.62.197.74\n",
            "Connecting to ftp.sra.ebi.ac.uk (ftp.sra.ebi.ac.uk)|193.62.197.74|:21... connected.\n",
            "Logging in as anonymous ... Logged in!\n",
            "==> SYST ... done.    ==> PWD ... done.\n",
            "==> TYPE I ... done.  ==> CWD (1) /vol1/fastq/SRR837/001/SRR8371511 ... done.\n",
            "==> SIZE SRR8371511_2.fastq.gz ... 895869000\n",
            "==> PASV ... done.    ==> RETR SRR8371511_2.fastq.gz ... done.\n",
            "Length: 895869000 (854M) (unauthoritative)\n",
            "\n",
            "SRR8371511_2.fastq. 100%[===================>] 854.37M  12.8MB/s    in 58s     \n",
            "\n",
            "2020-12-02 23:10:45 (14.8 MB/s) - ‘SRR8371511_2.fastq.gz’ saved [895869000]\n",
            "\n",
            "--2020-12-02 23:10:45--  ftp://ftp.sra.ebi.ac.uk/vol1/fastq/SRR837/002/SRR8371512/SRR8371512_1.fastq.gz\n",
            "           => ‘SRR8371512_1.fastq.gz’\n",
            "Resolving ftp.sra.ebi.ac.uk (ftp.sra.ebi.ac.uk)... 193.62.197.74\n",
            "Connecting to ftp.sra.ebi.ac.uk (ftp.sra.ebi.ac.uk)|193.62.197.74|:21... connected.\n",
            "Logging in as anonymous ... Logged in!\n",
            "==> SYST ... done.    ==> PWD ... done.\n",
            "==> TYPE I ... done.  ==> CWD (1) /vol1/fastq/SRR837/002/SRR8371512 ... done.\n",
            "==> SIZE SRR8371512_1.fastq.gz ... 247007973\n",
            "==> PASV ... done.    ==> RETR SRR8371512_1.fastq.gz ... done.\n",
            "Length: 247007973 (236M) (unauthoritative)\n",
            "\n",
            "SRR8371512_1.fastq. 100%[===================>] 235.56M  23.0MB/s    in 17s     \n",
            "\n",
            "2020-12-02 23:11:05 (14.1 MB/s) - ‘SRR8371512_1.fastq.gz’ saved [247007973]\n",
            "\n",
            "--2020-12-02 23:11:05--  ftp://ftp.sra.ebi.ac.uk/vol1/fastq/SRR837/002/SRR8371512/SRR8371512_2.fastq.gz\n",
            "           => ‘SRR8371512_2.fastq.gz’\n",
            "Resolving ftp.sra.ebi.ac.uk (ftp.sra.ebi.ac.uk)... 193.62.193.138\n",
            "Connecting to ftp.sra.ebi.ac.uk (ftp.sra.ebi.ac.uk)|193.62.193.138|:21... connected.\n",
            "Logging in as anonymous ... Logged in!\n",
            "==> SYST ... done.    ==> PWD ... done.\n",
            "==> TYPE I ... done.  ==> CWD (1) /vol1/fastq/SRR837/002/SRR8371512 ... done.\n",
            "==> SIZE SRR8371512_2.fastq.gz ... 908636042\n",
            "==> PASV ... done.    ==> RETR SRR8371512_2.fastq.gz ... done.\n",
            "Length: 908636042 (867M) (unauthoritative)\n",
            "\n",
            "SRR8371512_2.fastq. 100%[===================>] 866.54M  21.8MB/s    in 42s     \n",
            "\n",
            "2020-12-02 23:11:49 (20.6 MB/s) - ‘SRR8371512_2.fastq.gz’ saved [908636042]\n",
            "\n",
            "--2020-12-02 23:11:49--  ftp://ftp.sra.ebi.ac.uk/vol1/fastq/SRR837/003/SRR8371513/SRR8371513_1.fastq.gz\n",
            "           => ‘SRR8371513_1.fastq.gz’\n",
            "Resolving ftp.sra.ebi.ac.uk (ftp.sra.ebi.ac.uk)... 193.62.197.74\n",
            "Connecting to ftp.sra.ebi.ac.uk (ftp.sra.ebi.ac.uk)|193.62.197.74|:21... connected.\n",
            "Logging in as anonymous ... Logged in!\n",
            "==> SYST ... done.    ==> PWD ... done.\n",
            "==> TYPE I ... done.  ==> CWD (1) /vol1/fastq/SRR837/003/SRR8371513 ... done.\n",
            "==> SIZE SRR8371513_1.fastq.gz ... 236048589\n",
            "==> PASV ... done.    ==> RETR SRR8371513_1.fastq.gz ... done.\n",
            "Length: 236048589 (225M) (unauthoritative)\n",
            "\n",
            "SRR8371513_1.fastq. 100%[===================>] 225.11M  22.8MB/s    in 12s     \n",
            "\n",
            "2020-12-02 23:12:03 (19.0 MB/s) - ‘SRR8371513_1.fastq.gz’ saved [236048589]\n",
            "\n",
            "--2020-12-02 23:12:03--  ftp://ftp.sra.ebi.ac.uk/vol1/fastq/SRR837/003/SRR8371513/SRR8371513_2.fastq.gz\n",
            "           => ‘SRR8371513_2.fastq.gz’\n",
            "Resolving ftp.sra.ebi.ac.uk (ftp.sra.ebi.ac.uk)... 193.62.193.138\n",
            "Connecting to ftp.sra.ebi.ac.uk (ftp.sra.ebi.ac.uk)|193.62.193.138|:21... connected.\n",
            "Logging in as anonymous ... Logged in!\n",
            "==> SYST ... done.    ==> PWD ... done.\n",
            "==> TYPE I ... done.  ==> CWD (1) /vol1/fastq/SRR837/003/SRR8371513 ... done.\n",
            "==> SIZE SRR8371513_2.fastq.gz ... 870969194\n",
            "==> PASV ... done.    ==> RETR SRR8371513_2.fastq.gz ... done.\n",
            "Length: 870969194 (831M) (unauthoritative)\n",
            "\n",
            "SRR8371513_2.fastq. 100%[===================>] 830.62M  20.9MB/s    in 56s     \n",
            "\n",
            "2020-12-02 23:13:00 (15.0 MB/s) - ‘SRR8371513_2.fastq.gz’ saved [870969194]\n",
            "\n",
            "--2020-12-02 23:13:00--  ftp://ftp.sra.ebi.ac.uk/vol1/fastq/SRR837/004/SRR8371514/SRR8371514_1.fastq.gz\n",
            "           => ‘SRR8371514_1.fastq.gz’\n",
            "Resolving ftp.sra.ebi.ac.uk (ftp.sra.ebi.ac.uk)... 193.62.193.138\n",
            "Connecting to ftp.sra.ebi.ac.uk (ftp.sra.ebi.ac.uk)|193.62.193.138|:21... connected.\n",
            "Logging in as anonymous ... Logged in!\n",
            "==> SYST ... done.    ==> PWD ... done.\n",
            "==> TYPE I ... done.  ==> CWD (1) /vol1/fastq/SRR837/004/SRR8371514 ... done.\n",
            "==> SIZE SRR8371514_1.fastq.gz ... 231303011\n",
            "==> PASV ... done.    ==> RETR SRR8371514_1.fastq.gz ... done.\n",
            "Length: 231303011 (221M) (unauthoritative)\n",
            "\n",
            "SRR8371514_1.fastq. 100%[===================>] 220.59M  22.5MB/s    in 15s     \n",
            "\n",
            "2020-12-02 23:13:18 (14.5 MB/s) - ‘SRR8371514_1.fastq.gz’ saved [231303011]\n",
            "\n",
            "--2020-12-02 23:13:18--  ftp://ftp.sra.ebi.ac.uk/vol1/fastq/SRR837/004/SRR8371514/SRR8371514_2.fastq.gz\n",
            "           => ‘SRR8371514_2.fastq.gz’\n",
            "Resolving ftp.sra.ebi.ac.uk (ftp.sra.ebi.ac.uk)... 193.62.193.138\n",
            "Connecting to ftp.sra.ebi.ac.uk (ftp.sra.ebi.ac.uk)|193.62.193.138|:21... connected.\n",
            "Logging in as anonymous ... Logged in!\n",
            "==> SYST ... done.    ==> PWD ... done.\n",
            "==> TYPE I ... done.  ==> CWD (1) /vol1/fastq/SRR837/004/SRR8371514 ... done.\n",
            "==> SIZE SRR8371514_2.fastq.gz ... 855324504\n",
            "==> PASV ... done.    ==> RETR SRR8371514_2.fastq.gz ... done.\n",
            "Length: 855324504 (816M) (unauthoritative)\n",
            "\n",
            "SRR8371514_2.fastq. 100%[===================>] 815.70M  21.9MB/s    in 58s     \n",
            "\n",
            "2020-12-02 23:14:17 (14.2 MB/s) - ‘SRR8371514_2.fastq.gz’ saved [855324504]\n",
            "\n",
            "--2020-12-02 23:14:17--  ftp://ftp.sra.ebi.ac.uk/vol1/fastq/SRR837/005/SRR8371515/SRR8371515_1.fastq.gz\n",
            "           => ‘SRR8371515_1.fastq.gz’\n",
            "Resolving ftp.sra.ebi.ac.uk (ftp.sra.ebi.ac.uk)... 193.62.197.74\n",
            "Connecting to ftp.sra.ebi.ac.uk (ftp.sra.ebi.ac.uk)|193.62.197.74|:21... connected.\n",
            "Logging in as anonymous ... Logged in!\n",
            "==> SYST ... done.    ==> PWD ... done.\n",
            "==> TYPE I ... done.  ==> CWD (1) /vol1/fastq/SRR837/005/SRR8371515 ... done.\n",
            "==> SIZE SRR8371515_1.fastq.gz ... 272326005\n",
            "==> PASV ... done.    ==> RETR SRR8371515_1.fastq.gz ... done.\n",
            "Length: 272326005 (260M) (unauthoritative)\n",
            "\n",
            "SRR8371515_1.fastq. 100%[===================>] 259.71M  6.33MB/s    in 56s     \n",
            "\n",
            "2020-12-02 23:15:15 (4.66 MB/s) - ‘SRR8371515_1.fastq.gz’ saved [272326005]\n",
            "\n",
            "--2020-12-02 23:15:15--  ftp://ftp.sra.ebi.ac.uk/vol1/fastq/SRR837/005/SRR8371515/SRR8371515_2.fastq.gz\n",
            "           => ‘SRR8371515_2.fastq.gz’\n",
            "Resolving ftp.sra.ebi.ac.uk (ftp.sra.ebi.ac.uk)... 193.62.193.138\n",
            "Connecting to ftp.sra.ebi.ac.uk (ftp.sra.ebi.ac.uk)|193.62.193.138|:21... connected.\n",
            "Logging in as anonymous ... Logged in!\n",
            "==> SYST ... done.    ==> PWD ... done.\n",
            "==> TYPE I ... done.  ==> CWD (1) /vol1/fastq/SRR837/005/SRR8371515 ... done.\n",
            "==> SIZE SRR8371515_2.fastq.gz ... 998620913\n",
            "==> PASV ... done.    ==> RETR SRR8371515_2.fastq.gz ... done.\n",
            "Length: 998620913 (952M) (unauthoritative)\n",
            "\n",
            "SRR8371515_2.fastq. 100%[===================>] 952.36M  22.8MB/s    in 80s     \n",
            "\n",
            "2020-12-02 23:16:36 (12.0 MB/s) - ‘SRR8371515_2.fastq.gz’ saved [998620913]\n",
            "\n",
            "--2020-12-02 23:16:36--  ftp://ftp.sra.ebi.ac.uk/vol1/fastq/SRR837/006/SRR8371516/SRR8371516_1.fastq.gz\n",
            "           => ‘SRR8371516_1.fastq.gz’\n",
            "Resolving ftp.sra.ebi.ac.uk (ftp.sra.ebi.ac.uk)... 193.62.193.138\n",
            "Connecting to ftp.sra.ebi.ac.uk (ftp.sra.ebi.ac.uk)|193.62.193.138|:21... connected.\n",
            "Logging in as anonymous ... Logged in!\n",
            "==> SYST ... done.    ==> PWD ... done.\n",
            "==> TYPE I ... done.  ==> CWD (1) /vol1/fastq/SRR837/006/SRR8371516 ... done.\n",
            "==> SIZE SRR8371516_1.fastq.gz ... 288962301\n",
            "==> PASV ... done.    ==> RETR SRR8371516_1.fastq.gz ... done.\n",
            "Length: 288962301 (276M) (unauthoritative)\n",
            "\n",
            "SRR8371516_1.fastq. 100%[===================>] 275.58M  9.25MB/s    in 29s     \n",
            "\n",
            "2020-12-02 23:17:08 (9.44 MB/s) - ‘SRR8371516_1.fastq.gz’ saved [288962301]\n",
            "\n",
            "--2020-12-02 23:17:08--  ftp://ftp.sra.ebi.ac.uk/vol1/fastq/SRR837/006/SRR8371516/SRR8371516_2.fastq.gz\n",
            "           => ‘SRR8371516_2.fastq.gz’\n",
            "Resolving ftp.sra.ebi.ac.uk (ftp.sra.ebi.ac.uk)... 193.62.193.138\n",
            "Connecting to ftp.sra.ebi.ac.uk (ftp.sra.ebi.ac.uk)|193.62.193.138|:21... connected.\n",
            "Logging in as anonymous ... Logged in!\n",
            "==> SYST ... done.    ==> PWD ... done.\n",
            "==> TYPE I ... done.  ==> CWD (1) /vol1/fastq/SRR837/006/SRR8371516 ... done.\n",
            "==> SIZE SRR8371516_2.fastq.gz ... 1064895807\n",
            "==> PASV ... done.    ==> RETR SRR8371516_2.fastq.gz ... done.\n",
            "Length: 1064895807 (1016M) (unauthoritative)\n",
            "\n",
            "SRR8371516_2.fastq. 100%[===================>]   1016M  22.2MB/s    in 49s     \n",
            "\n",
            "2020-12-02 23:17:58 (20.9 MB/s) - ‘SRR8371516_2.fastq.gz’ saved [1064895807]\n",
            "\n",
            "--2020-12-02 23:17:58--  ftp://ftp.sra.ebi.ac.uk/vol1/fastq/SRR837/007/SRR8371517/SRR8371517_1.fastq.gz\n",
            "           => ‘SRR8371517_1.fastq.gz’\n",
            "Resolving ftp.sra.ebi.ac.uk (ftp.sra.ebi.ac.uk)... 193.62.193.138\n",
            "Connecting to ftp.sra.ebi.ac.uk (ftp.sra.ebi.ac.uk)|193.62.193.138|:21... connected.\n",
            "Logging in as anonymous ... Logged in!\n",
            "==> SYST ... done.    ==> PWD ... done.\n",
            "==> TYPE I ... done.  ==> CWD (1) /vol1/fastq/SRR837/007/SRR8371517 ... done.\n",
            "==> SIZE SRR8371517_1.fastq.gz ... 333817404\n",
            "==> PASV ... done.    ==> RETR SRR8371517_1.fastq.gz ... done.\n",
            "Length: 333817404 (318M) (unauthoritative)\n",
            "\n",
            "SRR8371517_1.fastq. 100%[===================>] 318.35M  4.09MB/s    in 63s     \n",
            "\n",
            "2020-12-02 23:19:03 (5.08 MB/s) - ‘SRR8371517_1.fastq.gz’ saved [333817404]\n",
            "\n",
            "--2020-12-02 23:19:03--  ftp://ftp.sra.ebi.ac.uk/vol1/fastq/SRR837/007/SRR8371517/SRR8371517_2.fastq.gz\n",
            "           => ‘SRR8371517_2.fastq.gz’\n",
            "Resolving ftp.sra.ebi.ac.uk (ftp.sra.ebi.ac.uk)... 193.62.197.74\n",
            "Connecting to ftp.sra.ebi.ac.uk (ftp.sra.ebi.ac.uk)|193.62.197.74|:21... connected.\n",
            "Logging in as anonymous ... Logged in!\n",
            "==> SYST ... done.    ==> PWD ... done.\n",
            "==> TYPE I ... done.  ==> CWD (1) /vol1/fastq/SRR837/007/SRR8371517 ... done.\n",
            "==> SIZE SRR8371517_2.fastq.gz ... 1218979200\n",
            "==> PASV ... done.    ==> RETR SRR8371517_2.fastq.gz ... done.\n",
            "Length: 1218979200 (1.1G) (unauthoritative)\n",
            "\n",
            "SRR8371517_2.fastq. 100%[===================>]   1.13G  23.2MB/s    in 60s     \n",
            "\n",
            "2020-12-02 23:20:05 (19.3 MB/s) - ‘SRR8371517_2.fastq.gz’ saved [1218979200]\n",
            "\n",
            "--2020-12-02 23:20:05--  ftp://ftp.sra.ebi.ac.uk/vol1/fastq/SRR837/008/SRR8371518/SRR8371518_1.fastq.gz\n",
            "           => ‘SRR8371518_1.fastq.gz’\n",
            "Resolving ftp.sra.ebi.ac.uk (ftp.sra.ebi.ac.uk)... 193.62.197.74\n",
            "Connecting to ftp.sra.ebi.ac.uk (ftp.sra.ebi.ac.uk)|193.62.197.74|:21... connected.\n",
            "Logging in as anonymous ... Logged in!\n",
            "==> SYST ... done.    ==> PWD ... done.\n",
            "==> TYPE I ... done.  ==> CWD (1) /vol1/fastq/SRR837/008/SRR8371518 ... done.\n",
            "==> SIZE SRR8371518_1.fastq.gz ... 263109186\n",
            "==> PASV ... done.    ==> RETR SRR8371518_1.fastq.gz ... done.\n",
            "Length: 263109186 (251M) (unauthoritative)\n",
            "\n",
            "SRR8371518_1.fastq. 100%[===================>] 250.92M  22.5MB/s    in 15s     \n",
            "\n",
            "2020-12-02 23:20:21 (17.2 MB/s) - ‘SRR8371518_1.fastq.gz’ saved [263109186]\n",
            "\n",
            "--2020-12-02 23:20:21--  ftp://ftp.sra.ebi.ac.uk/vol1/fastq/SRR837/008/SRR8371518/SRR8371518_2.fastq.gz\n",
            "           => ‘SRR8371518_2.fastq.gz’\n",
            "Resolving ftp.sra.ebi.ac.uk (ftp.sra.ebi.ac.uk)... 193.62.197.74\n",
            "Connecting to ftp.sra.ebi.ac.uk (ftp.sra.ebi.ac.uk)|193.62.197.74|:21... connected.\n",
            "Logging in as anonymous ... Logged in!\n",
            "==> SYST ... done.    ==> PWD ... done.\n",
            "==> TYPE I ... done.  ==> CWD (1) /vol1/fastq/SRR837/008/SRR8371518 ... done.\n",
            "==> SIZE SRR8371518_2.fastq.gz ... 986831228\n",
            "==> PASV ... done.    ==> RETR SRR8371518_2.fastq.gz ... done.\n",
            "Length: 986831228 (941M) (unauthoritative)\n",
            "\n",
            "SRR8371518_2.fastq. 100%[===================>] 941.12M  22.9MB/s    in 49s     \n",
            "\n",
            "2020-12-02 23:21:12 (19.4 MB/s) - ‘SRR8371518_2.fastq.gz’ saved [986831228]\n",
            "\n",
            "--2020-12-02 23:21:12--  ftp://ftp.sra.ebi.ac.uk/vol1/fastq/SRR837/009/SRR8371519/SRR8371519_1.fastq.gz\n",
            "           => ‘SRR8371519_1.fastq.gz’\n",
            "Resolving ftp.sra.ebi.ac.uk (ftp.sra.ebi.ac.uk)... 193.62.197.74\n",
            "Connecting to ftp.sra.ebi.ac.uk (ftp.sra.ebi.ac.uk)|193.62.197.74|:21... connected.\n",
            "Logging in as anonymous ... Logged in!\n",
            "==> SYST ... done.    ==> PWD ... done.\n",
            "==> TYPE I ... done.  ==> CWD (1) /vol1/fastq/SRR837/009/SRR8371519 ... done.\n",
            "==> SIZE SRR8371519_1.fastq.gz ... 238851246\n",
            "==> PASV ... done.    ==> RETR SRR8371519_1.fastq.gz ... done.\n",
            "Length: 238851246 (228M) (unauthoritative)\n",
            "\n",
            "SRR8371519_1.fastq. 100%[===================>] 227.79M  23.2MB/s    in 15s     \n",
            "\n",
            "2020-12-02 23:21:29 (15.0 MB/s) - ‘SRR8371519_1.fastq.gz’ saved [238851246]\n",
            "\n",
            "--2020-12-02 23:21:29--  ftp://ftp.sra.ebi.ac.uk/vol1/fastq/SRR837/009/SRR8371519/SRR8371519_2.fastq.gz\n",
            "           => ‘SRR8371519_2.fastq.gz’\n",
            "Resolving ftp.sra.ebi.ac.uk (ftp.sra.ebi.ac.uk)... 193.62.197.74\n",
            "Connecting to ftp.sra.ebi.ac.uk (ftp.sra.ebi.ac.uk)|193.62.197.74|:21... connected.\n",
            "Logging in as anonymous ... Logged in!\n",
            "==> SYST ... done.    ==> PWD ... done.\n",
            "==> TYPE I ... done.  ==> CWD (1) /vol1/fastq/SRR837/009/SRR8371519 ... done.\n",
            "==> SIZE SRR8371519_2.fastq.gz ... 884609710\n",
            "==> PASV ... done.    ==> RETR SRR8371519_2.fastq.gz ... done.\n",
            "Length: 884609710 (844M) (unauthoritative)\n",
            "\n",
            "SRR8371519_2.fastq. 100%[===================>] 843.63M  22.8MB/s    in 44s     \n",
            "\n",
            "2020-12-02 23:22:15 (19.4 MB/s) - ‘SRR8371519_2.fastq.gz’ saved [884609710]\n",
            "\n"
          ],
          "name": "stdout"
        }
      ]
    },
    {
      "cell_type": "code",
      "metadata": {
        "colab": {
          "base_uri": "https://localhost:8080/"
        },
        "id": "PC9oETW1pE9t",
        "outputId": "4e477aa1-5962-40da-d8f3-ff1d05cbeaa7"
      },
      "source": [
        "if bam:\n",
        "  # Download the corresponding Kallisto index to folder containing fastqs\n",
        "  !kb ref -d $species_kb -i index.idx -g t2g.txt -f1 transcriptome.fasta\n",
        "\n",
        "if not bam and fastq_ffqlinks:\n",
        "  %cd /content\n",
        "\n",
        "  # Download the corresponding Kallisto index to content folder\n",
        "  !kb ref -d $species_kb -i index.idx -g t2g.txt -f1 transcriptome.fasta\n",
        "\n",
        "if not bam and not fastq_ffqlinks:\n",
        "  %cd /content/fastqs\n",
        "\n",
        "  # Download the corresponding Kallisto index to fastq folder\n",
        "  !kb ref -d $species_kb -i index.idx -g t2g.txt -f1 transcriptome.fasta"
      ],
      "execution_count": null,
      "outputs": [
        {
          "output_type": "stream",
          "text": [
            "/content/fastqs\n",
            "[2020-12-02 23:22:19,157]    INFO Downloading files for human from https://caltech.box.com/shared/static/v1nm7lpnqz5syh8dyzdk2zs8bglncfib.gz to tmp/v1nm7lpnqz5syh8dyzdk2zs8bglncfib.gz\n",
            "100% 2.23G/2.23G [01:29<00:00, 26.7MB/s]\n",
            "[2020-12-02 23:23:49,706]    INFO Extracting files from tmp/v1nm7lpnqz5syh8dyzdk2zs8bglncfib.gz\n"
          ],
          "name": "stdout"
        }
      ]
    },
    {
      "cell_type": "code",
      "metadata": {
        "colab": {
          "base_uri": "https://localhost:8080/"
        },
        "id": "vHVNa51Cp9Nr",
        "outputId": "8f236f1c-45ba-460a-ed16-f50d6067061f"
      },
      "source": [
        "# Check to make sure the metadata is in the right order after sorting\n",
        "print(fastqs)"
      ],
      "execution_count": null,
      "outputs": [
        {
          "output_type": "stream",
          "text": [
            "['SRR8371506_1.fastq.gz', 'SRR8371506_2.fastq.gz', 'SRR8371507_1.fastq.gz', 'SRR8371507_2.fastq.gz', 'SRR8371508_1.fastq.gz', 'SRR8371508_2.fastq.gz', 'SRR8371509_1.fastq.gz', 'SRR8371509_2.fastq.gz', 'SRR8371510_1.fastq.gz', 'SRR8371510_2.fastq.gz', 'SRR8371511_1.fastq.gz', 'SRR8371511_2.fastq.gz', 'SRR8371512_1.fastq.gz', 'SRR8371512_2.fastq.gz', 'SRR8371513_1.fastq.gz', 'SRR8371513_2.fastq.gz', 'SRR8371514_1.fastq.gz', 'SRR8371514_2.fastq.gz', 'SRR8371515_1.fastq.gz', 'SRR8371515_2.fastq.gz', 'SRR8371516_1.fastq.gz', 'SRR8371516_2.fastq.gz', 'SRR8371517_1.fastq.gz', 'SRR8371517_2.fastq.gz', 'SRR8371518_1.fastq.gz', 'SRR8371518_2.fastq.gz', 'SRR8371519_1.fastq.gz', 'SRR8371519_2.fastq.gz']\n"
          ],
          "name": "stdout"
        }
      ]
    },
    {
      "cell_type": "markdown",
      "metadata": {
        "id": "VInyuq1Dp7iz"
      },
      "source": [
        "# Process fastq files (modify kb command according to fastqs list)\n"
      ]
    },
    {
      "cell_type": "code",
      "metadata": {
        "colab": {
          "base_uri": "https://localhost:8080/"
        },
        "id": "OcqtBuH-pRaX",
        "outputId": "1981cce0-a38a-41f0-a94b-ada583617fc9"
      },
      "source": [
        "fastqs"
      ],
      "execution_count": null,
      "outputs": [
        {
          "output_type": "execute_result",
          "data": {
            "text/plain": [
              "['SRR8371506_1.fastq.gz',\n",
              " 'SRR8371506_2.fastq.gz',\n",
              " 'SRR8371507_1.fastq.gz',\n",
              " 'SRR8371507_2.fastq.gz',\n",
              " 'SRR8371508_1.fastq.gz',\n",
              " 'SRR8371508_2.fastq.gz',\n",
              " 'SRR8371509_1.fastq.gz',\n",
              " 'SRR8371509_2.fastq.gz',\n",
              " 'SRR8371510_1.fastq.gz',\n",
              " 'SRR8371510_2.fastq.gz',\n",
              " 'SRR8371511_1.fastq.gz',\n",
              " 'SRR8371511_2.fastq.gz',\n",
              " 'SRR8371512_1.fastq.gz',\n",
              " 'SRR8371512_2.fastq.gz',\n",
              " 'SRR8371513_1.fastq.gz',\n",
              " 'SRR8371513_2.fastq.gz',\n",
              " 'SRR8371514_1.fastq.gz',\n",
              " 'SRR8371514_2.fastq.gz',\n",
              " 'SRR8371515_1.fastq.gz',\n",
              " 'SRR8371515_2.fastq.gz',\n",
              " 'SRR8371516_1.fastq.gz',\n",
              " 'SRR8371516_2.fastq.gz',\n",
              " 'SRR8371517_1.fastq.gz',\n",
              " 'SRR8371517_2.fastq.gz',\n",
              " 'SRR8371518_1.fastq.gz',\n",
              " 'SRR8371518_2.fastq.gz',\n",
              " 'SRR8371519_1.fastq.gz',\n",
              " 'SRR8371519_2.fastq.gz']"
            ]
          },
          "metadata": {
            "tags": []
          },
          "execution_count": 14
        }
      ]
    },
    {
      "cell_type": "code",
      "metadata": {
        "colab": {
          "background_save": true,
          "base_uri": "https://localhost:8080/"
        },
        "id": "5qFzPj-0kZTi",
        "outputId": "a4246d40-2b29-4971-a421-4f32a86aae21"
      },
      "source": [
        "# Specify the sample number and whether they are paired-ended\n",
        "\n",
        "\n",
        "if no_samples == 1:\n",
        "\n",
        "  # Write the kb count command as a string with all fastqs of the list as an input\n",
        "  cmd = \"kb count --h5ad -i index.idx -g t2g.txt -x \" + technology_kb + \" -o output\" + sample_id[0] + \" \"\\\n",
        "  + \"--filter bustools -t 2 --overwrite \" + \"'\" +  \"' '\".join(fastqs) + \"'\"\n",
        "  \n",
        "  # Execute it\n",
        "  !$cmd\n",
        "\n",
        "# If more than one sample, iterate through fastqs accordingly\n",
        "else:\n",
        "\n",
        "  # Initializa counter for fastq files\n",
        "  j = 0\n",
        "\n",
        "  # Loop over samples for analysis\n",
        "  for i in range(no_samples):\n",
        "\n",
        "    fastqs_to_analyze = fastqs[j:j + fastqs_per_sample[i]]\n",
        "    # Write the kb count command as a string\n",
        "    cmd = \"kb count --h5ad -i ../index.idx -g ../t2g.txt -x \" + technology_kb + \" -o output\" + sample_id[i] + \" \\\n",
        "    --filter bustools -t 2 --overwrite \" + \"'\" +  \"' '\".join(fastqs_to_analyze) + \"'\"\n",
        "\n",
        "    # Execute it\n",
        "    !$cmd\n",
        "\n",
        "    # Update j to move to the next set of fastq\n",
        "    j = j + fastqs_per_sample[i]\n",
        "\n",
        "\n",
        "\n",
        "\n",
        "\n"
      ],
      "execution_count": null,
      "outputs": [
        {
          "output_type": "stream",
          "text": [
            "[2020-12-03 00:32:25,490]    INFO Using index index.idx to generate BUS file to outputG from\n",
            "[2020-12-03 00:32:25,491]    INFO         SRR8371506_1.fastq.gz\n",
            "[2020-12-03 00:32:25,491]    INFO         SRR8371506_2.fastq.gz\n",
            "[2020-12-03 00:32:25,491]    INFO         SRR8371507_1.fastq.gz\n",
            "[2020-12-03 00:32:25,491]    INFO         SRR8371507_2.fastq.gz\n",
            "[2020-12-03 00:32:25,491]    INFO         SRR8371508_1.fastq.gz\n",
            "[2020-12-03 00:32:25,491]    INFO         SRR8371508_2.fastq.gz\n",
            "[2020-12-03 00:32:25,491]    INFO         SRR8371509_1.fastq.gz\n",
            "[2020-12-03 00:32:25,491]    INFO         SRR8371509_2.fastq.gz\n",
            "[2020-12-03 00:32:25,491]    INFO         SRR8371510_1.fastq.gz\n",
            "[2020-12-03 00:32:25,491]    INFO         SRR8371510_2.fastq.gz\n",
            "[2020-12-03 00:32:25,491]    INFO         SRR8371511_1.fastq.gz\n",
            "[2020-12-03 00:32:25,491]    INFO         SRR8371511_2.fastq.gz\n",
            "[2020-12-03 00:32:25,491]    INFO         SRR8371512_1.fastq.gz\n",
            "[2020-12-03 00:32:25,491]    INFO         SRR8371512_2.fastq.gz\n",
            "[2020-12-03 00:32:25,491]    INFO         SRR8371513_1.fastq.gz\n",
            "[2020-12-03 00:32:25,491]    INFO         SRR8371513_2.fastq.gz\n",
            "[2020-12-03 00:32:25,491]    INFO         SRR8371514_1.fastq.gz\n",
            "[2020-12-03 00:32:25,491]    INFO         SRR8371514_2.fastq.gz\n",
            "[2020-12-03 00:32:25,491]    INFO         SRR8371515_1.fastq.gz\n",
            "[2020-12-03 00:32:25,491]    INFO         SRR8371515_2.fastq.gz\n",
            "[2020-12-03 00:32:25,491]    INFO         SRR8371516_1.fastq.gz\n",
            "[2020-12-03 00:32:25,491]    INFO         SRR8371516_2.fastq.gz\n",
            "[2020-12-03 00:32:25,492]    INFO         SRR8371517_1.fastq.gz\n",
            "[2020-12-03 00:32:25,492]    INFO         SRR8371517_2.fastq.gz\n",
            "[2020-12-03 00:32:25,492]    INFO         SRR8371518_1.fastq.gz\n",
            "[2020-12-03 00:32:25,492]    INFO         SRR8371518_2.fastq.gz\n",
            "[2020-12-03 00:32:25,492]    INFO         SRR8371519_1.fastq.gz\n",
            "[2020-12-03 00:32:25,492]    INFO         SRR8371519_2.fastq.gz\n",
            "[2020-12-03 01:08:33,805]    INFO Sorting BUS file outputG/output.bus to outputG/tmp/output.s.bus\n",
            "[2020-12-03 01:09:59,670]    INFO Whitelist not provided\n",
            "[2020-12-03 01:09:59,670]    INFO Generating whitelist outputG/whitelist.txt from BUS file outputG/tmp/output.s.bus\n",
            "[2020-12-03 01:10:00,017]    INFO Inspecting BUS file outputG/tmp/output.s.bus\n",
            "[2020-12-03 01:10:10,199]    INFO Correcting BUS records in outputG/tmp/output.s.bus to outputG/tmp/output.s.c.bus with whitelist outputG/whitelist.txt\n",
            "[2020-12-03 01:10:14,654]    INFO Sorting BUS file outputG/tmp/output.s.c.bus to outputG/output.unfiltered.bus\n",
            "[2020-12-03 01:10:34,054]    INFO Generating count matrix outputG/counts_unfiltered/cells_x_genes from BUS file outputG/output.unfiltered.bus\n",
            "[2020-12-03 01:10:39,243]    INFO Reading matrix outputG/counts_unfiltered/cells_x_genes.mtx\n",
            "[2020-12-03 01:10:39,602]    INFO Writing matrix to h5ad outputG/counts_unfiltered/adata.h5ad\n",
            "... storing 'gene_name' as categorical\n",
            "[2020-12-03 01:10:40,276]    INFO Filtering with bustools\n",
            "[2020-12-03 01:10:40,276]    INFO Generating whitelist outputG/filter_barcodes.txt from BUS file outputG/output.unfiltered.bus\n",
            "[2020-12-03 01:10:40,576]    INFO Correcting BUS records in outputG/output.unfiltered.bus to outputG/tmp/output.unfiltered.c.bus with whitelist outputG/filter_barcodes.txt\n",
            "[2020-12-03 01:10:44,931]    INFO Sorting BUS file outputG/tmp/output.unfiltered.c.bus to outputG/output.filtered.bus\n",
            "[2020-12-03 01:11:10,226]    INFO Generating count matrix outputG/counts_filtered/cells_x_genes from BUS file outputG/output.filtered.bus\n",
            "[2020-12-03 01:11:15,177]    INFO Reading matrix outputG/counts_filtered/cells_x_genes.mtx\n",
            "[2020-12-03 01:11:15,475]    INFO Writing matrix to h5ad outputG/counts_filtered/adata.h5ad\n",
            "... storing 'gene_name' as categorical\n"
          ],
          "name": "stdout"
        }
      ]
    },
    {
      "cell_type": "markdown",
      "metadata": {
        "id": "tDijOZzrqhN2"
      },
      "source": [
        "# Load unfiltered matrix and assign filters to each matrix individually"
      ]
    },
    {
      "cell_type": "markdown",
      "metadata": {
        "id": "VkNLZh_pNFFw"
      },
      "source": [
        "## Load the unfiltered matrix (check dimensions)"
      ]
    },
    {
      "cell_type": "code",
      "metadata": {
        "id": "PppRNeV8AIyw"
      },
      "source": [
        "# Define dict to store data\n",
        "results = {}\n"
      ],
      "execution_count": null,
      "outputs": []
    },
    {
      "cell_type": "code",
      "metadata": {
        "cellView": "both",
        "colab": {
          "base_uri": "https://localhost:8080/"
        },
        "id": "pKmtGf3c_BiZ",
        "outputId": "23950153-2718-4a66-97d9-e997e434763e"
      },
      "source": [
        "# load the unfiltered matrix\n",
        "for i in range(no_samples):\n",
        "  results[sample_id[i]] = anndata.read_h5ad(\"output\" + sample_id[i] + \"/counts_unfiltered/adata.h5ad\")\n",
        "  results[sample_id[i]].var[\"gene_id\"] = results[sample_id[i]].var.index.values\n",
        "\n",
        "  t2g = pd.read_csv(\"t2g.txt\", header=None, names=[\"tid\", \"gene_id\", \"gene_name\"], sep=\"\\t\")\n",
        "  t2g.index = t2g.gene_id\n",
        "  t2g = t2g.loc[~t2g.index.duplicated(keep='first')]\n",
        "\n",
        "  results[sample_id[i]].var[\"gene_name\"] = results[sample_id[i]].var.gene_id.map(t2g[\"gene_name\"])\n",
        "  results[sample_id[i]].var.index = results[sample_id[i]].var[\"gene_name\"]\n",
        "  print(\"The unfiltered matrix \" + sample_id[i] + \" contains {} cells by {} genes\".format(len(results[sample_id[i]].obs), len(results[sample_id[i]].var)))\n",
        "\n",
        "  results[sample_id[i]].obs[\"cell_counts\"] = results[sample_id[i]].X.sum(axis=1)\n",
        "  results[sample_id[i]].var[\"gene_counts\"] = nd(results[sample_id[i]].X.sum(axis=0))\n",
        "\n",
        "  results[sample_id[i]].obs[\"n_genes\"] = nd((results[sample_id[i]].X>0).sum(axis=1))\n",
        "  results[sample_id[i]].var[\"n_cells\"] = nd((results[sample_id[i]].X>0).sum(axis=0))\n",
        "\n",
        "  mito_genes = results[sample_id[i]].var_names.str.startswith(\"MT-\" or \"mt-\") \n",
        "  results[sample_id[i]].obs[\"percent_mito\"] = results[sample_id[i]][:,mito_genes].X.sum(axis=1)/results[sample_id[i]].X.sum(axis=1)*100\n",
        "\n",
        "  # Changing the name of the index is necessary to write the file (it won't work with duplicated names)\n",
        "  results[sample_id[i]].var.index.name = \"index\"\n",
        "\n"
      ],
      "execution_count": null,
      "outputs": [
        {
          "output_type": "stream",
          "text": [
            "The unfiltered matrix G contains 95 cells by 60623 genes\n"
          ],
          "name": "stdout"
        }
      ]
    },
    {
      "cell_type": "markdown",
      "metadata": {
        "id": "hDAUH3eH_2RA"
      },
      "source": [
        "## Assign filters for each matrix individually"
      ]
    },
    {
      "cell_type": "code",
      "metadata": {
        "id": "ukinuaKk_6Po"
      },
      "source": [
        "# Modify this manually to change sample after having assigned the \"expected_num_cells\" and \"mito_criteria\" parameters\n",
        "samp_n = 0\n",
        "\n",
        "\n",
        "# Filtering criteria\n",
        "cell_threshold = 100\n",
        "gene_threshold = 3\n",
        "\n",
        "mito_criteria = 30"
      ],
      "execution_count": null,
      "outputs": []
    },
    {
      "cell_type": "code",
      "metadata": {
        "colab": {
          "base_uri": "https://localhost:8080/",
          "height": 730
        },
        "id": "a5wZB5pEfwNs",
        "outputId": "67c49c45-ebd8-4c53-b52d-69200bf3535c"
      },
      "source": [
        "\n",
        "expected_num_cells = 50#@param {type:\"integer\"}\n",
        "knee = np.sort(nd(results[sample_id[samp_n]].X.sum(axis=1)))[::-1]\n",
        "\n",
        "fig, ax = plt.subplots(figsize=(5, 5))\n",
        "\n",
        "x = knee\n",
        "y = range(len(knee))\n",
        "\n",
        "ax.loglog(x, y, linewidth=5, color=\"g\")\n",
        "\n",
        "ax.axvline(x=knee[expected_num_cells], linewidth=3, color=\"k\")\n",
        "ax.axhline(y=expected_num_cells, linewidth=3, color=\"k\")\n",
        "\n",
        "ax.set_xlabel(\"UMI Counts\")\n",
        "ax.set_ylabel(\"Set of Barcodes\")\n",
        "\n",
        "plt.show()\n",
        "\n",
        "cell_threshold = knee[expected_num_cells]\n",
        "\n",
        "results[\"cell_threshold\" + sample_id[samp_n]] = knee[expected_num_cells]\n",
        "\n",
        "print (\"Cells were filtered down to \" + str(expected_num_cells) + \" with at least \" + str(cell_threshold) + \" UMIs\")\n",
        "\n",
        "\n",
        "mito_criteria = 18#@param {type:\"integer\"}\n",
        "results[\"mito_criteria\" + sample_id[samp_n]] = mito_criteria\n",
        "\n",
        "fig, ax = plt.subplots(figsize=(5,5))\n",
        "\n",
        "\n",
        "x = nd(results[sample_id[samp_n]].obs[\"cell_counts\"][results[sample_id[samp_n]].obs[\"cell_counts\"] > cell_threshold])\n",
        "y = nd(results[sample_id[samp_n]].obs[\"percent_mito\"][results[sample_id[samp_n]].obs[\"cell_counts\"] > cell_threshold])\n",
        "\n",
        "ax.scatter(x, y, color=\"green\", alpha=0.1)\n",
        "\n",
        "ax.axhline(y=mito_criteria, linestyle=\"--\", color=\"k\")\n",
        "\n",
        "\n",
        "ax.set_xlabel(\"UMI Counts\")\n",
        "ax.set_ylabel(\"Percent mito\")\n",
        "\n",
        "\n",
        "plt.show()\n",
        "\n",
        "print(\"We select \" + str(mito_criteria) + \" % as the mitochondrial content threshold\")"
      ],
      "execution_count": null,
      "outputs": [
        {
          "output_type": "display_data",
          "data": {
            "image/png": "[encoded data removed]",
            "text/plain": [
              "<Figure size 360x360 with 1 Axes>"
            ]
          },
          "metadata": {
            "tags": [],
            "image/png": {
              "height": 337,
              "width": 359
            }
          }
        },
        {
          "output_type": "stream",
          "text": [
            "Cells were filtered down to 50 with at least 637.0 UMIs\n"
          ],
          "name": "stdout"
        },
        {
          "output_type": "display_data",
          "data": {
            "image/png": "[encoded data removed]",
            "text/plain": [
              "<Figure size 360x360 with 1 Axes>"
            ]
          },
          "metadata": {
            "tags": [],
            "image/png": {
              "height": 342,
              "width": 349
            }
          }
        },
        {
          "output_type": "stream",
          "text": [
            "We select 18 % as the mitochondrial content threshold\n"
          ],
          "name": "stdout"
        }
      ]
    },
    {
      "cell_type": "markdown",
      "metadata": {
        "id": "eP9j2ouPq9KY"
      },
      "source": [
        "# Filter matrix"
      ]
    },
    {
      "cell_type": "code",
      "metadata": {
        "id": "sE51WUA3gVmG"
      },
      "source": [
        "for i in range(no_samples):\n",
        "  results[sample_id[i]].obs[\"pass_count_filter\"] = results[sample_id[i]].obs[\"cell_counts\"] > results[\"cell_threshold\" + sample_id[i]]\n",
        "  results[sample_id[i]].obs[\"pass_mito_filter\"] = results[sample_id[i]].obs.percent_mito < results[\"mito_criteria\" + sample_id[i]]\n",
        "  results[sample_id[i]].var[\"pass_gene_filter\"] = results[sample_id[i]].var[\"n_cells\"] > gene_threshold\n",
        "\n",
        "  cell_mask = np.logical_and(results[sample_id[i]].obs[\"pass_count_filter\"].values, results[sample_id[i]].obs[\"pass_mito_filter\"].values)\n",
        "  gene_mask = results[sample_id[i]].var[\"pass_gene_filter\"].values\n",
        "\n",
        "  print(\"Current Shape: {:,} cells x {:,} genes\".format(results[sample_id[i]].shape[0], results[sample_id[i]].shape[1]))\n",
        "  print(\"    New shape: {:,} cells x {:,} genes\".format(cell_mask.sum(), gene_mask.sum()))\n",
        "  results[\"data_\" + sample_id[i]] = results[sample_id[i]][cell_mask, gene_mask]"
      ],
      "execution_count": null,
      "outputs": []
    },
    {
      "cell_type": "markdown",
      "metadata": {
        "id": "BxPA81yj4TlU"
      },
      "source": [
        "# Anotate and write the Anndata object"
      ]
    },
    {
      "cell_type": "code",
      "metadata": {
        "id": "O-q_Qj2U4kDU"
      },
      "source": [
        "for i in range(no_samples):\n",
        "\n",
        "\n",
        "  results[\"data_\" + sample_id[i]].uns[\"database_id\"] = database_id[i]\n",
        "\n",
        "  results[\"data_\" + sample_id[i]].uns[\"tissue\"] = tissue[i]\n",
        "\n",
        "  results[\"data_\" + sample_id[i]].uns[\"cell_type\"] = cell_type[i]\n",
        "\n",
        "  results[\"data_\" + sample_id[i]].uns[\"sample_id\"] = sample_id[i]\n",
        "\n",
        "  results[\"data_\" + sample_id[i]].uns[\"condition\"] = condition[i]\n",
        "\n",
        "  results[\"data_\" + sample_id[i]].uns[\"species\"] = species[i]\n",
        "\n",
        "  results[\"data_\" + sample_id[i]].uns[\"technology\"] = technology[i]\n",
        "\n",
        "  results[\"data_\" + sample_id[i]].uns[\"paper\"] = paper[i]\n",
        "\n",
        "  results[\"data_\" + sample_id[i]].uns[\"figure\"] = figure[i]\n",
        "\n",
        "\n",
        "%cd /content\n",
        "\n",
        "for i in range(no_samples):\n",
        "\n",
        "  results[\"data_\" + sample_id[i]].write(\"result\" + sample_id[i])"
      ],
      "execution_count": null,
      "outputs": []
    }
  ]
}