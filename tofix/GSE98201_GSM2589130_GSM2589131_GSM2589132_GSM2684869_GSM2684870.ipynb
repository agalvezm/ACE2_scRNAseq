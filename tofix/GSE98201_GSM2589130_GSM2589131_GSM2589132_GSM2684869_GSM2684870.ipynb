{
  "nbformat": 4,
  "nbformat_minor": 0,
  "metadata": {
    "colab": {
      "name": "GSE98201_GSM2589130_GSM2589131_GSM2589132_GSM2684869_GSM2684870.ipynb",
      "provenance": [],
      "collapsed_sections": [],
      "toc_visible": true,
      "include_colab_link": true
    },
    "kernelspec": {
      "name": "python3",
      "display_name": "Python 3"
    }
  },
  "cells": [
    {
      "cell_type": "markdown",
      "metadata": {
        "id": "view-in-github",
        "colab_type": "text"
      },
      "source": [
        "<a href=\"https://colab.research.google.com/github/agalvezm/ACE2_scRNAseq/blob/master/tofix/GSE98201_GSM2589130_GSM2589131_GSM2589132_GSM2684869_GSM2684870.ipynb\" target=\"_parent\"><img src=\"https://colab.research.google.com/assets/colab-badge.svg\" alt=\"Open In Colab\"/></a>"
      ]
    },
    {
      "cell_type": "markdown",
      "metadata": {
        "id": "V9ryXluJsJw9"
      },
      "source": [
        "# GSE98201_GSM2589130_GSM2589131_GSM2589132_GSM2684867_GSM2684868_GSM2684869_GSM2684870"
      ]
    },
    {
      "cell_type": "code",
      "metadata": {
        "id": "ggNFAQJCRh6P"
      },
      "source": [
        "# define the values for the analysis\n",
        "\n",
        "# accession id for the data\n",
        "id = \"GSE98201\"\n",
        "samp_id = [\"GSM2589129_GSM2589130_GSM2589131_GSM2589132_GSM2684869_GSM2684870\"]\n",
        "\n",
        "# If only bam available files, set bam = True, Fill link and filename\n",
        "bam = False\n",
        "\n",
        "# If fastq links available but are not ffq links\n",
        "fastq_ffqlinks = False\n",
        "\n",
        "\n",
        "if bam:\n",
        "  # Assign link to python variable\n",
        "  link_to_bam = \"\"\n",
        "  \n",
        "  # Assigns the link to the bash variable BAM_LINK. To be used by wget\n",
        "  %env BAM_LINK=$link_to_bam\n",
        "\n",
        "  # Assign filename to python variable. Used to convert to fastq and remove bam file to fastq after conversion\n",
        "\n",
        "  bam_filename=\"\"\n",
        "\n",
        "\n",
        "if not bam:\n",
        "\n",
        "  # Copy and paste the links from the ACE2 scRNAseq datasets google  spreadsheet\n",
        "  links_raw = \"ftp://ftp.sra.ebi.ac.uk/vol1/fastq/SRR548/005/SRR5481335/SRR5481335_1.fastq.gz\tftp://ftp.sra.ebi.ac.uk/vol1/fastq/SRR548/005/SRR5481335/SRR5481335_2.fastq.gz ftp://ftp.sra.ebi.ac.uk/vol1/fastq/SRR548/008/SRR5481338/SRR5481338_1.fastq.gz\tftp://ftp.sra.ebi.ac.uk/vol1/fastq/SRR548/008/SRR5481338/SRR5481338_2.fastq.gz ftp://ftp.sra.ebi.ac.uk/vol1/fastq/SRR548/007/SRR5481337/SRR5481337_1.fastq.gz\tftp://ftp.sra.ebi.ac.uk/vol1/fastq/SRR548/007/SRR5481337/SRR5481337_2.fastq.gz ftp://ftp.sra.ebi.ac.uk/vol1/fastq/SRR548/006/SRR5481336/SRR5481336_1.fastq.gz\tftp://ftp.sra.ebi.ac.uk/vol1/fastq/SRR548/006/SRR5481336/SRR5481336_2.fastq.gz ftp://ftp.sra.ebi.ac.uk/vol1/fastq/SRR575/004/SRR5757234/SRR5757234_1.fastq.gz\tftp://ftp.sra.ebi.ac.uk/vol1/fastq/SRR575/004/SRR5757234/SRR5757234_2.fastq.gz ftp://ftp.sra.ebi.ac.uk/vol1/fastq/SRR575/006/SRR5757236/SRR5757236_1.fastq.gz\tftp://ftp.sra.ebi.ac.uk/vol1/fastq/SRR575/006/SRR5757236/SRR5757236_2.fastq.gz\"\n",
        "\n",
        "  # Convert it to a list where each link is an element\n",
        "  \n",
        "  fastqs = links_raw.split()\n"
      ],
      "execution_count": 1,
      "outputs": []
    },
    {
      "cell_type": "code",
      "metadata": {
        "id": "5R3tPDqnoJUn"
      },
      "source": [
        "no_samples = 1\n",
        "\n",
        "fastqs_per_sample = [16] \n",
        "\n",
        "sample_id = samp_id\n",
        "\n",
        "database_id = [id] * no_samples\n",
        "\n",
        "tissue = [\"brain\"] * no_samples\n",
        "\n",
        "cell_type = [\"medial ganglionic eminence and cortex organoids\"] * no_samples\n",
        "\n",
        "condition = [\"None\"] * no_samples\n",
        "\n",
        "species = [\"human\"] * no_samples\n",
        "\n",
        "technology = [\"10xv2\"] * no_samples\n",
        "\n",
        "paper = [\"Muus et al 2020\"] * no_samples\n",
        "\n",
        "figure = [\"Fig 1 c,d\"] * no_samples\n",
        "\n",
        "\n",
        "# Set string variables for kb functions\n",
        "\n",
        "species_kb = species[0]\n",
        "\n",
        "technology_kb = technology[0]\n",
        "\n"
      ],
      "execution_count": 2,
      "outputs": []
    },
    {
      "cell_type": "markdown",
      "metadata": {
        "id": "FPwL0-_-KSAw"
      },
      "source": [
        "# Imports and installs"
      ]
    },
    {
      "cell_type": "code",
      "metadata": {
        "id": "1HSlUGZEp3oP",
        "colab": {
          "base_uri": "https://localhost:8080/"
        },
        "outputId": "bf519df1-40f3-4711-c39e-ce92bf1ddba2"
      },
      "source": [
        "# install and import necessary software\n",
        "\n",
        "# Install kb and scanpy\n",
        "!pip -q install kb-python \n",
        "!pip -q install scanpy\n",
        "\n",
        "import re\n",
        "import os\n",
        "\n",
        "# Setup\n",
        "\n",
        "import anndata\n",
        "import pandas as pd\n",
        "import numpy as np\n",
        "import matplotlib.pyplot as plt\n",
        "import matplotlib as mpl\n",
        "import matplotlib.patches as mpatches\n",
        "import scanpy as sc\n",
        "from scipy import stats\n",
        "\n",
        "from collections import OrderedDict\n",
        "from sklearn.decomposition import TruncatedSVD\n",
        "from sklearn.manifold import TSNE\n",
        "from sklearn.preprocessing import scale\n",
        "\n",
        "from sklearn.cluster import KMeans\n",
        "from sklearn.preprocessing import normalize\n",
        "from sklearn.preprocessing import LabelEncoder\n",
        "from sklearn.neighbors import NeighborhoodComponentsAnalysis\n",
        "from matplotlib import cm\n",
        "from matplotlib.lines import Line2D\n",
        "\n",
        "def nd(arr):\n",
        "    return np.asarray(arr).reshape(-1)\n",
        "def yex(ax):\n",
        "    lims = [np.min([ax.get_xlim(), ax.get_ylim()]),\n",
        "            np.max([ax.get_xlim(), ax.get_ylim()])]\n",
        "\n",
        "    # now plot both limits against eachother\n",
        "    ax.plot(lims, lims, 'k-', alpha=0.75, zorder=0)\n",
        "    ax.set_aspect('equal')\n",
        "    ax.set_xlim(lims)\n",
        "    ax.set_ylim(lims)\n",
        "    return ax\n",
        "\n",
        "def trim_axs(axs, N):\n",
        "    \"\"\"little helper to massage the axs list to have correct length...\"\"\"\n",
        "    axs = axs.flat\n",
        "    for ax in axs[N:]:\n",
        "        ax.remove()\n",
        "    return axs[:N]\n",
        "\n",
        "import warnings\n",
        "warnings.filterwarnings('ignore')\n",
        "\n",
        "fsize=20\n",
        "\n",
        "plt.rcParams.update({'font.size': fsize})\n",
        "%config InlineBackend.figure_format = 'retina'"
      ],
      "execution_count": 3,
      "outputs": [
        {
          "output_type": "stream",
          "text": [
            "\u001b[K     |████████████████████████████████| 59.1MB 108kB/s \n",
            "\u001b[K     |████████████████████████████████| 122kB 32.1MB/s \n",
            "\u001b[K     |████████████████████████████████| 51kB 4.8MB/s \n",
            "\u001b[K     |████████████████████████████████| 7.7MB 41.0MB/s \n",
            "\u001b[K     |████████████████████████████████| 13.1MB 159kB/s \n",
            "\u001b[K     |████████████████████████████████| 112kB 39.6MB/s \n",
            "\u001b[K     |████████████████████████████████| 71kB 7.4MB/s \n",
            "\u001b[K     |████████████████████████████████| 51kB 5.5MB/s \n",
            "\u001b[?25h  Building wheel for loompy (setup.py) ... \u001b[?25l\u001b[?25hdone\n",
            "  Building wheel for numpy-groupies (setup.py) ... \u001b[?25l\u001b[?25hdone\n",
            "  Building wheel for sinfo (setup.py) ... \u001b[?25l\u001b[?25hdone\n"
          ],
          "name": "stdout"
        }
      ]
    },
    {
      "cell_type": "markdown",
      "metadata": {
        "id": "7V6FbosVrvP4"
      },
      "source": [
        "# Downloads: (bam (if bam) and index"
      ]
    },
    {
      "cell_type": "code",
      "metadata": {
        "id": "q46hw4zqKUPS"
      },
      "source": [
        "if bam:\n",
        "\n",
        "  # Install bamtofastq from 10x website (only bam files available)\n",
        "  !wget http://cf.10xgenomics.com/misc/bamtofastq-1.2.0\n",
        "  !chmod +x bamtofastq-1.2.0\n",
        "  # Download the bam file\n",
        "  !wget -- continue ${BAM_LINK}\n",
        "\n",
        "\n"
      ],
      "execution_count": 4,
      "outputs": []
    },
    {
      "cell_type": "code",
      "metadata": {
        "id": "tDQlrjtqNF0m"
      },
      "source": [
        "if bam:\n",
        "  # Convert to fastq\n",
        "  !./bamtofastq-1.2.0 --reads-per-fastq=500000000 $bam_filename ./fastqs\\\n",
        "\n",
        "  # Remove original bam file to save space\n",
        "  !rm $bam_filename\n"
      ],
      "execution_count": 5,
      "outputs": []
    },
    {
      "cell_type": "code",
      "metadata": {
        "id": "SXRDRphvqcLe"
      },
      "source": [
        "# Store fastq names on a list\n",
        "\n",
        "if bam:\n",
        "  # cd into fastqs folder\n",
        "  %cd /content/fastqs\n",
        "\n",
        "  #store the name of the folder generated by bamtofastq\n",
        "  _filename = os.listdir()[0]\n",
        "\n",
        "  # cd into that folder\n",
        "  %cd $_filename\n",
        "\n",
        "  # store fastq names in a list\n",
        "  fastqs = os.listdir()\n",
        "\n",
        "\n",
        "  # Remove I1 and R3 reads not relevant for our analysis\n",
        "\n",
        "  # Initialize list containing elements to remove\n",
        "  remov_elem = []\n",
        "\n",
        "  print (\"\\n\\nThis is the complete list of fastqs:\\n -----------\")\n",
        "  for elem in fastqs:\n",
        "    print (elem)\n",
        "\n",
        "  # Search index (I1 or R3) fastqs and remove them from list\n",
        "  for elem in fastqs:\n",
        "    if re.search(\"_R3_\", elem) or re.search(\"_I1_\", elem):\n",
        "      remov_elem = remov_elem +[elem]\n",
        "\n",
        "  fastqs = [elem for elem in fastqs if elem not in remov_elem] \n",
        "\n",
        "  print (\"\\n\\nThis is the filtered list of fastqs:\\n -----------\")\n",
        "  for elem in fastqs:\n",
        "    print (elem)\n"
      ],
      "execution_count": 6,
      "outputs": []
    },
    {
      "cell_type": "code",
      "metadata": {
        "id": "ZnFcqcSgjLBw"
      },
      "source": [
        "# Remove fastqs that wont be analyzed to save space\n",
        "if bam:\n",
        "  for elem in remov_elem:\n",
        "    !rm $elem"
      ],
      "execution_count": 7,
      "outputs": []
    },
    {
      "cell_type": "code",
      "metadata": {
        "id": "FLVS8aB7Dm6J"
      },
      "source": [
        "if bam:\n",
        "  # sort fastqs alphabetically to get R1 and R2 in order\n",
        "  fastqs = sorted(fastqs)"
      ],
      "execution_count": 8,
      "outputs": []
    },
    {
      "cell_type": "code",
      "metadata": {
        "id": "FE9gWbQgpBfR",
        "colab": {
          "base_uri": "https://localhost:8080/"
        },
        "outputId": "f2de149f-783e-428f-c620-0b726045e05a"
      },
      "source": [
        "# wget fastqs from non ffq links in fastqs folder\n",
        "if not bam and not fastq_ffqlinks:\n",
        "  !mkdir fastqs\n",
        "  %cd fastqs\n",
        "  for link in fastqs:\n",
        "    !wget $link --continue\n",
        "\n",
        "  # update fastqs variable with name of files\n",
        "  fastqs = sorted(os.listdir())"
      ],
      "execution_count": 9,
      "outputs": [
        {
          "output_type": "stream",
          "text": [
            "/content/fastqs\n",
            "--2020-11-19 17:07:59--  ftp://ftp.sra.ebi.ac.uk/vol1/fastq/SRR548/005/SRR5481335/SRR5481335_1.fastq.gz\n",
            "           => ‘SRR5481335_1.fastq.gz’\n",
            "Resolving ftp.sra.ebi.ac.uk (ftp.sra.ebi.ac.uk)... 193.62.193.138\n",
            "Connecting to ftp.sra.ebi.ac.uk (ftp.sra.ebi.ac.uk)|193.62.193.138|:21... connected.\n",
            "Logging in as anonymous ... Logged in!\n",
            "==> SYST ... done.    ==> PWD ... done.\n",
            "==> TYPE I ... done.  ==> CWD (1) /vol1/fastq/SRR548/005/SRR5481335 ... done.\n",
            "==> SIZE SRR5481335_1.fastq.gz ... 1326667116\n",
            "==> PASV ... done.    ==> RETR SRR5481335_1.fastq.gz ... done.\n",
            "Length: 1326667116 (1.2G) (unauthoritative)\n",
            "\n",
            "SRR5481335_1.fastq. 100%[===================>]   1.24G  29.8MB/s    in 52s     \n",
            "\n",
            "2020-11-19 17:08:52 (24.5 MB/s) - ‘SRR5481335_1.fastq.gz’ saved [1326667116]\n",
            "\n",
            "--2020-11-19 17:08:52--  ftp://ftp.sra.ebi.ac.uk/vol1/fastq/SRR548/005/SRR5481335/SRR5481335_2.fastq.gz\n",
            "           => ‘SRR5481335_2.fastq.gz’\n",
            "Resolving ftp.sra.ebi.ac.uk (ftp.sra.ebi.ac.uk)... 193.62.197.74\n",
            "Connecting to ftp.sra.ebi.ac.uk (ftp.sra.ebi.ac.uk)|193.62.197.74|:21... connected.\n",
            "Logging in as anonymous ... Logged in!\n",
            "==> SYST ... done.    ==> PWD ... done.\n",
            "==> TYPE I ... done.  ==> CWD (1) /vol1/fastq/SRR548/005/SRR5481335 ... done.\n",
            "==> SIZE SRR5481335_2.fastq.gz ... 2075613894\n",
            "==> PASV ... done.    ==> RETR SRR5481335_2.fastq.gz ... done.\n",
            "Length: 2075613894 (1.9G) (unauthoritative)\n",
            "\n",
            "SRR5481335_2.fastq. 100%[===================>]   1.93G  25.1MB/s    in 1m 53s  \n",
            "\n",
            "2020-11-19 17:10:47 (17.6 MB/s) - ‘SRR5481335_2.fastq.gz’ saved [2075613894]\n",
            "\n",
            "--2020-11-19 17:10:47--  ftp://ftp.sra.ebi.ac.uk/vol1/fastq/SRR548/008/SRR5481338/SRR5481338_1.fastq.gz\n",
            "           => ‘SRR5481338_1.fastq.gz’\n",
            "Resolving ftp.sra.ebi.ac.uk (ftp.sra.ebi.ac.uk)... 193.62.197.74\n",
            "Connecting to ftp.sra.ebi.ac.uk (ftp.sra.ebi.ac.uk)|193.62.197.74|:21... connected.\n",
            "Logging in as anonymous ... Logged in!\n",
            "==> SYST ... done.    ==> PWD ... done.\n",
            "==> TYPE I ... done.  ==> CWD (1) /vol1/fastq/SRR548/008/SRR5481338 ... done.\n",
            "==> SIZE SRR5481338_1.fastq.gz ... 1280488162\n",
            "==> PASV ... done.    ==> RETR SRR5481338_1.fastq.gz ... done.\n",
            "Length: 1280488162 (1.2G) (unauthoritative)\n",
            "\n",
            "SRR5481338_1.fastq. 100%[===================>]   1.19G  29.6MB/s    in 44s     \n",
            "\n",
            "2020-11-19 17:11:36 (27.8 MB/s) - ‘SRR5481338_1.fastq.gz’ saved [1280488162]\n",
            "\n",
            "--2020-11-19 17:11:36--  ftp://ftp.sra.ebi.ac.uk/vol1/fastq/SRR548/008/SRR5481338/SRR5481338_2.fastq.gz\n",
            "           => ‘SRR5481338_2.fastq.gz’\n",
            "Resolving ftp.sra.ebi.ac.uk (ftp.sra.ebi.ac.uk)... 193.62.197.74\n",
            "Connecting to ftp.sra.ebi.ac.uk (ftp.sra.ebi.ac.uk)|193.62.197.74|:21... connected.\n",
            "Logging in as anonymous ... Logged in!\n",
            "==> SYST ... done.    ==> PWD ... done.\n",
            "==> TYPE I ... done.  ==> CWD (1) /vol1/fastq/SRR548/008/SRR5481338 ... done.\n",
            "==> SIZE SRR5481338_2.fastq.gz ... 1932620938\n",
            "==> PASV ... done.    ==> RETR SRR5481338_2.fastq.gz ... done.\n",
            "Length: 1932620938 (1.8G) (unauthoritative)\n",
            "\n",
            "SRR5481338_2.fastq. 100%[===================>]   1.80G  30.5MB/s    in 62s     \n",
            "\n",
            "2020-11-19 17:12:40 (29.5 MB/s) - ‘SRR5481338_2.fastq.gz’ saved [1932620938]\n",
            "\n",
            "--2020-11-19 17:12:40--  ftp://ftp.sra.ebi.ac.uk/vol1/fastq/SRR548/007/SRR5481337/SRR5481337_1.fastq.gz\n",
            "           => ‘SRR5481337_1.fastq.gz’\n",
            "Resolving ftp.sra.ebi.ac.uk (ftp.sra.ebi.ac.uk)... 193.62.193.138\n",
            "Connecting to ftp.sra.ebi.ac.uk (ftp.sra.ebi.ac.uk)|193.62.193.138|:21... connected.\n",
            "Logging in as anonymous ... Logged in!\n",
            "==> SYST ... done.    ==> PWD ... done.\n",
            "==> TYPE I ... done.  ==> CWD (1) /vol1/fastq/SRR548/007/SRR5481337 ... done.\n",
            "==> SIZE SRR5481337_1.fastq.gz ... 1175879099\n",
            "==> PASV ... done.    ==> RETR SRR5481337_1.fastq.gz ... done.\n",
            "Length: 1175879099 (1.1G) (unauthoritative)\n",
            "\n",
            "SRR5481337_1.fastq. 100%[===================>]   1.09G  29.6MB/s    in 46s     \n",
            "\n",
            "2020-11-19 17:13:27 (24.5 MB/s) - ‘SRR5481337_1.fastq.gz’ saved [1175879099]\n",
            "\n",
            "--2020-11-19 17:13:27--  ftp://ftp.sra.ebi.ac.uk/vol1/fastq/SRR548/007/SRR5481337/SRR5481337_2.fastq.gz\n",
            "           => ‘SRR5481337_2.fastq.gz’\n",
            "Resolving ftp.sra.ebi.ac.uk (ftp.sra.ebi.ac.uk)... 193.62.197.74\n",
            "Connecting to ftp.sra.ebi.ac.uk (ftp.sra.ebi.ac.uk)|193.62.197.74|:21... connected.\n",
            "Logging in as anonymous ... Logged in!\n",
            "==> SYST ... done.    ==> PWD ... done.\n",
            "==> TYPE I ... done.  ==> CWD (1) /vol1/fastq/SRR548/007/SRR5481337 ... done.\n",
            "==> SIZE SRR5481337_2.fastq.gz ... 1794864023\n",
            "==> PASV ... done.    ==> RETR SRR5481337_2.fastq.gz ... done.\n",
            "Length: 1794864023 (1.7G) (unauthoritative)\n",
            "\n",
            "SRR5481337_2.fastq. 100%[===================>]   1.67G  28.0MB/s    in 74s     \n",
            "\n",
            "2020-11-19 17:14:43 (23.2 MB/s) - ‘SRR5481337_2.fastq.gz’ saved [1794864023]\n",
            "\n",
            "--2020-11-19 17:14:43--  ftp://ftp.sra.ebi.ac.uk/vol1/fastq/SRR548/006/SRR5481336/SRR5481336_1.fastq.gz\n",
            "           => ‘SRR5481336_1.fastq.gz’\n",
            "Resolving ftp.sra.ebi.ac.uk (ftp.sra.ebi.ac.uk)... 193.62.197.74\n",
            "Connecting to ftp.sra.ebi.ac.uk (ftp.sra.ebi.ac.uk)|193.62.197.74|:21... connected.\n",
            "Logging in as anonymous ... Logged in!\n",
            "==> SYST ... done.    ==> PWD ... done.\n",
            "==> TYPE I ... done.  ==> CWD (1) /vol1/fastq/SRR548/006/SRR5481336 ... done.\n",
            "==> SIZE SRR5481336_1.fastq.gz ... 1297919798\n",
            "==> PASV ... done.    ==> RETR SRR5481336_1.fastq.gz ... done.\n",
            "Length: 1297919798 (1.2G) (unauthoritative)\n",
            "\n",
            "SRR5481336_1.fastq. 100%[===================>]   1.21G  8.20MB/s    in 69s     \n",
            "\n",
            "2020-11-19 17:15:54 (17.8 MB/s) - ‘SRR5481336_1.fastq.gz’ saved [1297919798]\n",
            "\n",
            "--2020-11-19 17:15:54--  ftp://ftp.sra.ebi.ac.uk/vol1/fastq/SRR548/006/SRR5481336/SRR5481336_2.fastq.gz\n",
            "           => ‘SRR5481336_2.fastq.gz’\n",
            "Resolving ftp.sra.ebi.ac.uk (ftp.sra.ebi.ac.uk)... 193.62.197.74\n",
            "Connecting to ftp.sra.ebi.ac.uk (ftp.sra.ebi.ac.uk)|193.62.197.74|:21... connected.\n",
            "Logging in as anonymous ... Logged in!\n",
            "==> SYST ... done.    ==> PWD ... done.\n",
            "==> TYPE I ... done.  ==> CWD (1) /vol1/fastq/SRR548/006/SRR5481336 ... done.\n",
            "==> SIZE SRR5481336_2.fastq.gz ... 2056097157\n",
            "==> PASV ... done.    ==> RETR SRR5481336_2.fastq.gz ... done.\n",
            "Length: 2056097157 (1.9G) (unauthoritative)\n",
            "\n",
            "SRR5481336_2.fastq. 100%[===================>]   1.91G  27.6MB/s    in 97s     \n",
            "\n",
            "2020-11-19 17:17:32 (20.3 MB/s) - ‘SRR5481336_2.fastq.gz’ saved [2056097157]\n",
            "\n",
            "--2020-11-19 17:17:32--  ftp://ftp.sra.ebi.ac.uk/vol1/fastq/SRR575/004/SRR5757234/SRR5757234_1.fastq.gz\n",
            "           => ‘SRR5757234_1.fastq.gz’\n",
            "Resolving ftp.sra.ebi.ac.uk (ftp.sra.ebi.ac.uk)... 193.62.197.74\n",
            "Connecting to ftp.sra.ebi.ac.uk (ftp.sra.ebi.ac.uk)|193.62.197.74|:21... connected.\n",
            "Logging in as anonymous ... Logged in!\n",
            "==> SYST ... done.    ==> PWD ... done.\n",
            "==> TYPE I ... done.  ==> CWD (1) /vol1/fastq/SRR575/004/SRR5757234 ... done.\n",
            "==> SIZE SRR5757234_1.fastq.gz ... 1195338064\n",
            "==> PASV ... done.    ==> RETR SRR5757234_1.fastq.gz ... done.\n",
            "Length: 1195338064 (1.1G) (unauthoritative)\n",
            "\n",
            "SRR5757234_1.fastq. 100%[===================>]   1.11G  29.9MB/s    in 41s     \n",
            "\n",
            "2020-11-19 17:18:15 (27.9 MB/s) - ‘SRR5757234_1.fastq.gz’ saved [1195338064]\n",
            "\n",
            "--2020-11-19 17:18:15--  ftp://ftp.sra.ebi.ac.uk/vol1/fastq/SRR575/004/SRR5757234/SRR5757234_2.fastq.gz\n",
            "           => ‘SRR5757234_2.fastq.gz’\n",
            "Resolving ftp.sra.ebi.ac.uk (ftp.sra.ebi.ac.uk)... 193.62.197.74\n",
            "Connecting to ftp.sra.ebi.ac.uk (ftp.sra.ebi.ac.uk)|193.62.197.74|:21... connected.\n",
            "Logging in as anonymous ... Logged in!\n",
            "==> SYST ... done.    ==> PWD ... done.\n",
            "==> TYPE I ... done.  ==> CWD (1) /vol1/fastq/SRR575/004/SRR5757234 ... done.\n",
            "==> SIZE SRR5757234_2.fastq.gz ... 1950039769\n",
            "==> PASV ... done.    ==> RETR SRR5757234_2.fastq.gz ... done.\n",
            "Length: 1950039769 (1.8G) (unauthoritative)\n",
            "\n",
            "SRR5757234_2.fastq. 100%[===================>]   1.82G  30.4MB/s    in 63s     \n",
            "\n",
            "2020-11-19 17:19:19 (29.7 MB/s) - ‘SRR5757234_2.fastq.gz’ saved [1950039769]\n",
            "\n",
            "--2020-11-19 17:19:19--  ftp://ftp.sra.ebi.ac.uk/vol1/fastq/SRR575/006/SRR5757236/SRR5757236_1.fastq.gz\n",
            "           => ‘SRR5757236_1.fastq.gz’\n",
            "Resolving ftp.sra.ebi.ac.uk (ftp.sra.ebi.ac.uk)... 193.62.193.138\n",
            "Connecting to ftp.sra.ebi.ac.uk (ftp.sra.ebi.ac.uk)|193.62.193.138|:21... connected.\n",
            "Logging in as anonymous ... Logged in!\n",
            "==> SYST ... done.    ==> PWD ... done.\n",
            "==> TYPE I ... done.  ==> CWD (1) /vol1/fastq/SRR575/006/SRR5757236 ... done.\n",
            "==> SIZE SRR5757236_1.fastq.gz ... 1097601017\n",
            "==> PASV ... done.    ==> RETR SRR5757236_1.fastq.gz ... done.\n",
            "Length: 1097601017 (1.0G) (unauthoritative)\n",
            "\n",
            "SRR5757236_1.fastq. 100%[===================>]   1.02G  29.7MB/s    in 56s     \n",
            "\n",
            "2020-11-19 17:20:16 (18.8 MB/s) - ‘SRR5757236_1.fastq.gz’ saved [1097601017]\n",
            "\n",
            "--2020-11-19 17:20:17--  ftp://ftp.sra.ebi.ac.uk/vol1/fastq/SRR575/006/SRR5757236/SRR5757236_2.fastq.gz\n",
            "           => ‘SRR5757236_2.fastq.gz’\n",
            "Resolving ftp.sra.ebi.ac.uk (ftp.sra.ebi.ac.uk)... 193.62.197.74\n",
            "Connecting to ftp.sra.ebi.ac.uk (ftp.sra.ebi.ac.uk)|193.62.197.74|:21... connected.\n",
            "Logging in as anonymous ... Logged in!\n",
            "==> SYST ... done.    ==> PWD ... done.\n",
            "==> TYPE I ... done.  ==> CWD (1) /vol1/fastq/SRR575/006/SRR5757236 ... done.\n",
            "==> SIZE SRR5757236_2.fastq.gz ... 10867668571\n",
            "==> PASV ... done.    ==> RETR SRR5757236_2.fastq.gz ... done.\n",
            "Length: 10867668571 (10G) (unauthoritative)\n",
            "\n",
            "SRR5757236_2.fastq. 100%[===================>]  10.12G  30.5MB/s    in 6m 3s   \n",
            "\n",
            "2020-11-19 17:26:21 (28.6 MB/s) - ‘SRR5757236_2.fastq.gz’ saved [10867668571]\n",
            "\n"
          ],
          "name": "stdout"
        }
      ]
    },
    {
      "cell_type": "code",
      "metadata": {
        "id": "PC9oETW1pE9t",
        "colab": {
          "base_uri": "https://localhost:8080/"
        },
        "outputId": "f999ca17-5213-42dc-833a-a59b7b6c2b18"
      },
      "source": [
        "if bam:\n",
        "  # Download the corresponding Kallisto index to folder containing fastqs\n",
        "  !kb ref -d $species_kb -i index.idx -g t2g.txt -f1 transcriptome.fasta\n",
        "\n",
        "if not bam and fastq_ffqlinks:\n",
        "  %cd /content\n",
        "\n",
        "  # Download the corresponding Kallisto index to content folder\n",
        "  !kb ref -d $species_kb -i index.idx -g t2g.txt -f1 transcriptome.fasta\n",
        "\n",
        "if not bam and not fastq_ffqlinks:\n",
        "  %cd /content/fastqs\n",
        "\n",
        "  # Download the corresponding Kallisto index to fastq folder\n",
        "  !kb ref -d $species_kb -i index.idx -g t2g.txt -f1 transcriptome.fasta"
      ],
      "execution_count": 10,
      "outputs": [
        {
          "output_type": "stream",
          "text": [
            "/content/fastqs\n",
            "[2020-11-19 17:26:27,063]    INFO Downloading files for human from https://caltech.box.com/shared/static/v1nm7lpnqz5syh8dyzdk2zs8bglncfib.gz to tmp/v1nm7lpnqz5syh8dyzdk2zs8bglncfib.gz\n",
            "100% 2.23G/2.23G [01:13<00:00, 32.6MB/s]\n",
            "[2020-11-19 17:27:41,623]    INFO Extracting files from tmp/v1nm7lpnqz5syh8dyzdk2zs8bglncfib.gz\n"
          ],
          "name": "stdout"
        }
      ]
    },
    {
      "cell_type": "code",
      "metadata": {
        "id": "vHVNa51Cp9Nr",
        "colab": {
          "base_uri": "https://localhost:8080/"
        },
        "outputId": "3aff7c8d-1b22-403b-d3b7-afdb38a8dff9"
      },
      "source": [
        "# Check to make sure the metadata is in the right order after sorting\n",
        "print(fastqs)"
      ],
      "execution_count": 11,
      "outputs": [
        {
          "output_type": "stream",
          "text": [
            "['SRR5481335_1.fastq.gz', 'SRR5481335_2.fastq.gz', 'SRR5481336_1.fastq.gz', 'SRR5481336_2.fastq.gz', 'SRR5481337_1.fastq.gz', 'SRR5481337_2.fastq.gz', 'SRR5481338_1.fastq.gz', 'SRR5481338_2.fastq.gz', 'SRR5757234_1.fastq.gz', 'SRR5757234_2.fastq.gz', 'SRR5757236_1.fastq.gz', 'SRR5757236_2.fastq.gz']\n"
          ],
          "name": "stdout"
        }
      ]
    },
    {
      "cell_type": "markdown",
      "metadata": {
        "id": "VInyuq1Dp7iz"
      },
      "source": [
        "# Process fastq files (modify kb command according to fastqs list)\n"
      ]
    },
    {
      "cell_type": "code",
      "metadata": {
        "id": "5qFzPj-0kZTi",
        "outputId": "919947d1-401e-44a2-e673-3999d0851aa0",
        "colab": {
          "base_uri": "https://localhost:8080/"
        }
      },
      "source": [
        "# Specify the sample number and whether they are paired-ended\n",
        "\n",
        "\n",
        "if no_samples == 1:\n",
        "\n",
        "  # Write the kb count command as a string with all fastqs of the list as an input\n",
        "  cmd = \"kb count --h5ad -i index.idx -g t2g.txt -x \" + technology_kb + \" -o output\" + sample_id[0] + \" \"\\\n",
        "  + \"--filter bustools -t 2 --overwrite \" + \"'\" +  \"' '\".join(fastqs) + \"'\"\n",
        "  \n",
        "  # Execute it\n",
        "  !$cmd\n",
        "\n",
        "# If more than one sample, iterate through fastqs accordingly\n",
        "else:\n",
        "\n",
        "  # Initializa counter for fastq files\n",
        "  j = 0\n",
        "\n",
        "  # Loop over samples for analysis\n",
        "  for i in range(no_samples):\n",
        "\n",
        "    fastqs_to_analyze = fastqs[j:j + fastqs_per_sample[i]]\n",
        "    # Write the kb count command as a string\n",
        "    cmd = \"kb count --h5ad -i index.idx -g t2g.txt -x \" + technology_kb + \" -o output\" + sample_id[i] + \" \\\n",
        "    --filter bustools -t 2 --overwrite \" + \"'\" +  \"' '\".join(fastqs_to_analyze) + \"'\"\n",
        "\n",
        "    # Execute it\n",
        "    !$cmd\n",
        "\n",
        "    # Update j to move to the next set of fastq\n",
        "    j = j + fastqs_per_sample[i]\n",
        "\n",
        "\n",
        "\n",
        "\n",
        "\n"
      ],
      "execution_count": 13,
      "outputs": [
        {
          "output_type": "stream",
          "text": [
            "[2020-11-19 17:49:36,046]    INFO Using index index.idx to generate BUS file to outputGSM2589129_GSM2589130_GSM2589131_GSM2589132_GSM2684869_GSM2684870 from\n",
            "[2020-11-19 17:49:36,047]    INFO         SRR5481335_1.fastq.gz\n",
            "[2020-11-19 17:49:36,047]    INFO         SRR5481335_2.fastq.gz\n",
            "[2020-11-19 17:49:36,047]    INFO         SRR5481336_1.fastq.gz\n",
            "[2020-11-19 17:49:36,047]    INFO         SRR5481336_2.fastq.gz\n",
            "[2020-11-19 17:49:36,047]    INFO         SRR5481337_1.fastq.gz\n",
            "[2020-11-19 17:49:36,047]    INFO         SRR5481337_2.fastq.gz\n",
            "[2020-11-19 17:49:36,047]    INFO         SRR5481338_1.fastq.gz\n",
            "[2020-11-19 17:49:36,047]    INFO         SRR5481338_2.fastq.gz\n",
            "[2020-11-19 17:49:36,047]    INFO         SRR5757234_1.fastq.gz\n",
            "[2020-11-19 17:49:36,047]    INFO         SRR5757234_2.fastq.gz\n",
            "[2020-11-19 17:49:36,047]    INFO         SRR5757236_1.fastq.gz\n",
            "[2020-11-19 17:49:36,047]    INFO         SRR5757236_2.fastq.gz\n",
            "[2020-11-19 18:05:08,364]   ERROR \n",
            "[index] k-mer length: 31\n",
            "[index] number of targets: 227,368\n",
            "[index] number of k-mers: 140,125,185\n",
            "tcmalloc: large alloc 6442450944 bytes == 0x1678000 @  0x7f8de8b14887 0x457d7f 0x451662 0x42732d 0x7f8de778cbf7 0x42c2c5\n",
            "[index] number of equivalence classes: 964,094\n",
            "[quant] will process sample 1: SRR5481335_1.fastq.gz\n",
            "SRR5481335_2.fastq.gz\n",
            "[quant] will process sample 2: SRR5481336_1.fastq.gz\n",
            "SRR5481336_2.fastq.gz\n",
            "[quant] will process sample 3: SRR5481337_1.fastq.gz\n",
            "SRR5481337_2.fastq.gz\n",
            "[quant] will process sample 4: SRR5481338_1.fastq.gz\n",
            "SRR5481338_2.fastq.gz\n",
            "[quant] will process sample 5: SRR5757234_1.fastq.gz\n",
            "SRR5757234_2.fastq.gz\n",
            "[quant] will process sample 6: SRR5757236_1.fastq.gz\n",
            "SRR5757236_2.fastq.gz\n",
            "[quant] finding pseudoalignments for the reads ... done\n",
            "[quant] processed 816,272,067 reads, 0 reads pseudoaligned[~warn] no reads pseudoaligned.\n",
            "\n",
            "[2020-11-19 18:05:08,365]   ERROR An exception occurred\n",
            "Traceback (most recent call last):\n",
            "  File \"/usr/local/lib/python3.6/dist-packages/kb_python/main.py\", line 785, in main\n",
            "    COMMAND_TO_FUNCTION[args.command](parser, args, temp_dir=temp_dir)\n",
            "  File \"/usr/local/lib/python3.6/dist-packages/kb_python/main.py\", line 282, in parse_count\n",
            "    temp_dir=temp_dir\n",
            "  File \"/usr/local/lib/python3.6/dist-packages/kb_python/count.py\", line 1087, in count\n",
            "    fastqs, index_paths[0], technology, out_dir, threads=threads\n",
            "  File \"/usr/local/lib/python3.6/dist-packages/kb_python/validate.py\", line 112, in inner\n",
            "    results = func(*args, **kwargs)\n",
            "  File \"/usr/local/lib/python3.6/dist-packages/kb_python/count.py\", line 147, in kallisto_bus\n",
            "    run_executable(command)\n",
            "  File \"/usr/local/lib/python3.6/dist-packages/kb_python/dry/__init__.py\", line 24, in inner\n",
            "    return func(*args, **kwargs)\n",
            "  File \"/usr/local/lib/python3.6/dist-packages/kb_python/utils.py\", line 232, in run_executable\n",
            "    raise sp.CalledProcessError(p.returncode, ' '.join(command))\n",
            "subprocess.CalledProcessError: Command '/usr/local/lib/python3.6/dist-packages/kb_python/bins/linux/kallisto/kallisto bus -i index.idx -o outputGSM2589129_GSM2589130_GSM2589131_GSM2589132_GSM2684869_GSM2684870 -x 10xv2 -t 2 SRR5481335_1.fastq.gz SRR5481335_2.fastq.gz SRR5481336_1.fastq.gz SRR5481336_2.fastq.gz SRR5481337_1.fastq.gz SRR5481337_2.fastq.gz SRR5481338_1.fastq.gz SRR5481338_2.fastq.gz SRR5757234_1.fastq.gz SRR5757234_2.fastq.gz SRR5757236_1.fastq.gz SRR5757236_2.fastq.gz' returned non-zero exit status 1.\n"
          ],
          "name": "stdout"
        }
      ]
    },
    {
      "cell_type": "markdown",
      "metadata": {
        "id": "tDijOZzrqhN2"
      },
      "source": [
        "# Load unfiltered matrix and assign filters to each matrix individually"
      ]
    },
    {
      "cell_type": "markdown",
      "metadata": {
        "id": "VkNLZh_pNFFw"
      },
      "source": [
        "## Load the unfiltered matrix (check dimensions)"
      ]
    },
    {
      "cell_type": "code",
      "metadata": {
        "id": "PppRNeV8AIyw"
      },
      "source": [
        "# Define dict to store data\n",
        "results = {}\n"
      ],
      "execution_count": null,
      "outputs": []
    },
    {
      "cell_type": "code",
      "metadata": {
        "id": "pKmtGf3c_BiZ",
        "cellView": "both"
      },
      "source": [
        "# load the unfiltered matrix\n",
        "for i in range(no_samples):\n",
        "  results[sample_id[i]] = anndata.read_h5ad(\"output\" + sample_id[i] + \"/counts_unfiltered/adata.h5ad\")\n",
        "  results[sample_id[i]].var[\"gene_id\"] = results[sample_id[i]].var.index.values\n",
        "\n",
        "  t2g = pd.read_csv(\"t2g.txt\", header=None, names=[\"tid\", \"gene_id\", \"gene_name\"], sep=\"\\t\")\n",
        "  t2g.index = t2g.gene_id\n",
        "  t2g = t2g.loc[~t2g.index.duplicated(keep='first')]\n",
        "\n",
        "  results[sample_id[i]].var[\"gene_name\"] = results[sample_id[i]].var.gene_id.map(t2g[\"gene_name\"])\n",
        "  results[sample_id[i]].var.index = results[sample_id[i]].var[\"gene_name\"]\n",
        "  print(\"The unfiltered matrix \" + sample_id[i] + \" contains {} cells by {} genes\".format(len(results[sample_id[i]].obs), len(results[sample_id[i]].var)))\n",
        "\n",
        "  results[sample_id[i]].obs[\"cell_counts\"] = results[sample_id[i]].X.sum(axis=1)\n",
        "  results[sample_id[i]].var[\"gene_counts\"] = nd(results[sample_id[i]].X.sum(axis=0))\n",
        "\n",
        "  results[sample_id[i]].obs[\"n_genes\"] = nd((results[sample_id[i]].X>0).sum(axis=1))\n",
        "  results[sample_id[i]].var[\"n_cells\"] = nd((results[sample_id[i]].X>0).sum(axis=0))\n",
        "\n",
        "  mito_genes = results[sample_id[i]].var_names.str.startswith(\"MT-\" or \"mt-\") \n",
        "  results[sample_id[i]].obs[\"percent_mito\"] = results[sample_id[i]][:,mito_genes].X.sum(axis=1)/results[sample_id[i]].X.sum(axis=1)*100\n",
        "\n",
        "  # Changing the name of the index is necessary to write the file (it won't work with duplicated names)\n",
        "  results[sample_id[i]].var.index.name = \"index\"\n",
        "\n"
      ],
      "execution_count": null,
      "outputs": []
    },
    {
      "cell_type": "markdown",
      "metadata": {
        "id": "hDAUH3eH_2RA"
      },
      "source": [
        "## Assign filters for each matrix individually"
      ]
    },
    {
      "cell_type": "code",
      "metadata": {
        "id": "ukinuaKk_6Po"
      },
      "source": [
        "# Modify this manually to change sample after having assigned the \"expected_num_cells\" and \"mito_criteria\" parameters\n",
        "samp_n = 0\n",
        "\n",
        "\n",
        "# Filtering criteria\n",
        "cell_threshold = 100\n",
        "gene_threshold = 3\n",
        "\n",
        "mito_criteria = 30"
      ],
      "execution_count": null,
      "outputs": []
    },
    {
      "cell_type": "code",
      "metadata": {
        "id": "a5wZB5pEfwNs"
      },
      "source": [
        "\n",
        "expected_num_cells = 10000#@param {type:\"integer\"}\n",
        "knee = np.sort(nd(results[sample_id[samp_n]].X.sum(axis=1)))[::-1]\n",
        "\n",
        "fig, ax = plt.subplots(figsize=(5, 5))\n",
        "\n",
        "x = knee\n",
        "y = range(len(knee))\n",
        "\n",
        "ax.loglog(x, y, linewidth=5, color=\"g\")\n",
        "\n",
        "ax.axvline(x=knee[expected_num_cells], linewidth=3, color=\"k\")\n",
        "ax.axhline(y=expected_num_cells, linewidth=3, color=\"k\")\n",
        "\n",
        "ax.set_xlabel(\"UMI Counts\")\n",
        "ax.set_ylabel(\"Set of Barcodes\")\n",
        "\n",
        "plt.show()\n",
        "\n",
        "cell_threshold = knee[expected_num_cells]\n",
        "\n",
        "results[\"cell_threshold\" + sample_id[samp_n]] = knee[expected_num_cells]\n",
        "\n",
        "print (\"Cells were filtered down to \" + str(expected_num_cells) + \" with at least \" + str(cell_threshold) + \" UMIs\")\n",
        "\n",
        "\n",
        "mito_criteria = 18#@param {type:\"integer\"}\n",
        "results[\"mito_criteria\" + sample_id[samp_n]] = mito_criteria\n",
        "\n",
        "fig, ax = plt.subplots(figsize=(5,5))\n",
        "\n",
        "\n",
        "x = nd(results[sample_id[samp_n]].obs[\"cell_counts\"][results[sample_id[samp_n]].obs[\"cell_counts\"] > cell_threshold])\n",
        "y = nd(results[sample_id[samp_n]].obs[\"percent_mito\"][results[sample_id[samp_n]].obs[\"cell_counts\"] > cell_threshold])\n",
        "\n",
        "ax.scatter(x, y, color=\"green\", alpha=0.1)\n",
        "\n",
        "ax.axhline(y=mito_criteria, linestyle=\"--\", color=\"k\")\n",
        "\n",
        "\n",
        "ax.set_xlabel(\"UMI Counts\")\n",
        "ax.set_ylabel(\"Percent mito\")\n",
        "\n",
        "\n",
        "plt.show()\n",
        "\n",
        "print(\"We select \" + str(mito_criteria) + \" % as the mitochondrial content threshold\")"
      ],
      "execution_count": null,
      "outputs": []
    },
    {
      "cell_type": "markdown",
      "metadata": {
        "id": "eP9j2ouPq9KY"
      },
      "source": [
        "# Filter matrix"
      ]
    },
    {
      "cell_type": "code",
      "metadata": {
        "id": "sE51WUA3gVmG"
      },
      "source": [
        "for i in range(no_samples):\n",
        "  results[sample_id[i]].obs[\"pass_count_filter\"] = results[sample_id[i]].obs[\"cell_counts\"] > results[\"cell_threshold\" + sample_id[i]]\n",
        "  results[sample_id[i]].obs[\"pass_mito_filter\"] = results[sample_id[i]].obs.percent_mito < results[\"mito_criteria\" + sample_id[i]]\n",
        "  results[sample_id[i]].var[\"pass_gene_filter\"] = results[sample_id[i]].var[\"n_cells\"] > gene_threshold\n",
        "\n",
        "  cell_mask = np.logical_and(results[sample_id[i]].obs[\"pass_count_filter\"].values, results[sample_id[i]].obs[\"pass_mito_filter\"].values)\n",
        "  gene_mask = results[sample_id[i]].var[\"pass_gene_filter\"].values\n",
        "\n",
        "  print(\"Current Shape: {:,} cells x {:,} genes\".format(results[sample_id[i]].shape[0], results[sample_id[i]].shape[1]))\n",
        "  print(\"    New shape: {:,} cells x {:,} genes\".format(cell_mask.sum(), gene_mask.sum()))\n",
        "  results[\"data_\" + sample_id[i]] = results[sample_id[i]][cell_mask, gene_mask]"
      ],
      "execution_count": null,
      "outputs": []
    },
    {
      "cell_type": "markdown",
      "metadata": {
        "id": "BxPA81yj4TlU"
      },
      "source": [
        "# Anotate and write the Anndata object"
      ]
    },
    {
      "cell_type": "code",
      "metadata": {
        "id": "O-q_Qj2U4kDU"
      },
      "source": [
        "for i in range(no_samples):\n",
        "\n",
        "\n",
        "  results[\"data_\" + sample_id[i]].uns[\"database_id\"] = database_id[samp_n]\n",
        "\n",
        "  results[\"data_\" + sample_id[i]].uns[\"tissue\"] = tissue[samp_n]\n",
        "\n",
        "  results[\"data_\" + sample_id[i]].uns[\"cell_type\"] = cell_type[samp_n]\n",
        "\n",
        "  results[\"data_\" + sample_id[i]].uns[\"sample_id\"] = sample_id[samp_n]\n",
        "\n",
        "  results[\"data_\" + sample_id[i]].uns[\"condition\"] = condition[samp_n]\n",
        "\n",
        "  results[\"data_\" + sample_id[i]].uns[\"species\"] = species[samp_n]\n",
        "\n",
        "  results[\"data_\" + sample_id[i]].uns[\"technology\"] = technology[samp_n]\n",
        "\n",
        "  results[\"data_\" + sample_id[i]].uns[\"paper\"] = paper[samp_n]\n",
        "\n",
        "  results[\"data_\" + sample_id[i]].uns[\"figure\"] = figure[samp_n]\n",
        "\n",
        "\n",
        "%cd /content\n",
        "\n",
        "for i in range(no_samples):\n",
        "\n",
        "  results[\"data_\" + sample_id[i]].write(\"result\" + sample_id[i])"
      ],
      "execution_count": null,
      "outputs": []
    }
  ]
}