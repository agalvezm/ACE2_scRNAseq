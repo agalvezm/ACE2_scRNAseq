{
  "nbformat": 4,
  "nbformat_minor": 0,
  "metadata": {
    "colab": {
      "name": "GSE135893_GSM4037302.ipynb",
      "provenance": [],
      "collapsed_sections": [],
      "include_colab_link": true
    },
    "kernelspec": {
      "display_name": "Python 3",
      "name": "python3"
    }
  },
  "cells": [
    {
      "cell_type": "markdown",
      "metadata": {
        "id": "view-in-github",
        "colab_type": "text"
      },
      "source": [
        "<a href=\"https://colab.research.google.com/github/agalvezm/ACE2_scRNAseq/blob/master/tcc/GSE135893_GSM4037302_from_gc.ipynb\" target=\"_parent\"><img src=\"https://colab.research.google.com/assets/colab-badge.svg\" alt=\"Open In Colab\"/></a>"
      ]
    },
    {
      "cell_type": "markdown",
      "metadata": {
        "id": "V9ryXluJsJw9"
      },
      "source": [
        "# GSE135893_GSM4037302"
      ]
    },
    {
      "cell_type": "markdown",
      "metadata": {
        "id": "F44JVQOsboO1"
      },
      "source": [
        "\n",
        "This notebook uses the filtered count matrix resulting from the following google colab notebook. https://github.com/agalvezm/ACE2_scRNAseq/blob/master/notebooks_countmatrices/GSE135893_GSM4037302.ipynb Please run the notebook above and upload the results file in /content"
      ]
    },
    {
      "cell_type": "code",
      "metadata": {
        "id": "ggNFAQJCRh6P"
      },
      "source": [
        "# define the values for the analysis\n",
        "\n",
        "# accession id for the data\n",
        "id = \"GSE135893\"\n",
        "samp_id = [\"GSM4037302\"]\n",
        "\n",
        "# If only bam available files, set bam = True, Fill link and filename\n",
        "bam = False\n",
        "\n",
        "# If fastq links available but are not ffq links\n",
        "fastq_ffqlinks = False\n",
        "\n",
        "\n",
        "if bam:\n",
        "  # Assign link to python variable\n",
        "  link_to_bam = \"\"\n",
        "  \n",
        "  # Assigns the link to the bash variable BAM_LINK. To be used by wget\n",
        "  %env BAM_LINK=$link_to_bam\n",
        "\n",
        "  # Assign filename to python variable. Used to convert to fastq and remove bam file to fastq after conversion\n",
        "\n",
        "  bam_filename=\"\"\n",
        "\n",
        "\n",
        "if not bam:\n",
        "\n",
        "  # Copy and paste the links from the ACE2 scRNAseq datasets google  spreadsheet\n",
        "\n",
        "  links_raw = \"ftp://ftp.sra.ebi.ac.uk/vol1/fastq/SRR103/014/SRR10368214/SRR10368214_1.fastq.gz\tftp://ftp.sra.ebi.ac.uk/vol1/fastq/SRR103/014/SRR10368214/SRR10368214_2.fastq.gz\tftp://ftp.sra.ebi.ac.uk/vol1/fastq/SRR998/009/SRR9985349/SRR9985349_1.fastq.gz\tftp://ftp.sra.ebi.ac.uk/vol1/fastq/SRR998/009/SRR9985349/SRR9985349_2.fastq.gz\"\n",
        "\n",
        "  # Convert it to a list where each link is an element\n",
        "  \n",
        "  fastqs = links_raw.split()\n"
      ],
      "execution_count": null,
      "outputs": []
    },
    {
      "cell_type": "code",
      "metadata": {
        "id": "5R3tPDqnoJUn"
      },
      "source": [
        "no_samples = 1\n",
        "\n",
        "fastqs_per_sample = [4, 8, 8] \n",
        "\n",
        "sample_id = samp_id\n",
        "\n",
        "database_id = [id] * no_samples\n",
        "\n",
        "tissue = [\"lung\"] * no_samples\n",
        "\n",
        "cell_type = [\"lung biopsy (multiple locations)\"] * no_samples\n",
        "\n",
        "condition = [\"healthy\"] * no_samples\n",
        "\n",
        "species = [\"human\"] * no_samples\n",
        "\n",
        "technology = [\"10xv2\"] * no_samples\n",
        "\n",
        "paper = [\"Muus et al 2020\"] * no_samples\n",
        "\n",
        "figure = [\"Fig 1 c,d  Fig 4 e  ED Fig 11 a,c\"] * no_samples\n",
        "\n",
        "\n",
        "# Set string variables for kb functions\n",
        "\n",
        "species_kb = species[0]\n",
        "\n",
        "technology_kb = technology[0]\n",
        "\n"
      ],
      "execution_count": null,
      "outputs": []
    },
    {
      "cell_type": "markdown",
      "metadata": {
        "id": "FPwL0-_-KSAw"
      },
      "source": [
        "# Imports and installs"
      ]
    },
    {
      "cell_type": "code",
      "metadata": {
        "id": "1HSlUGZEp3oP",
        "colab": {
          "base_uri": "https://localhost:8080/"
        },
        "outputId": "77d44113-46ab-4ed6-dd04-81e5c747aec1"
      },
      "source": [
        "# install and import necessary software\n",
        "\n",
        "# Install kb and scanpy\n",
        "!pip -q install kb-python \n",
        "!pip -q install scanpy\n",
        "\n",
        "import re\n",
        "import os\n",
        "\n",
        "# Setup\n",
        "\n",
        "import anndata\n",
        "import pandas as pd\n",
        "import numpy as np\n",
        "import matplotlib.pyplot as plt\n",
        "import matplotlib as mpl\n",
        "import matplotlib.patches as mpatches\n",
        "import scanpy as sc\n",
        "from scipy import stats\n",
        "\n",
        "from collections import OrderedDict\n",
        "from sklearn.decomposition import TruncatedSVD\n",
        "from sklearn.manifold import TSNE\n",
        "from sklearn.preprocessing import scale\n",
        "\n",
        "from sklearn.cluster import KMeans\n",
        "from sklearn.preprocessing import normalize\n",
        "from sklearn.preprocessing import LabelEncoder\n",
        "from sklearn.neighbors import NeighborhoodComponentsAnalysis\n",
        "from matplotlib import cm\n",
        "from matplotlib.lines import Line2D\n",
        "\n",
        "def nd(arr):\n",
        "    return np.asarray(arr).reshape(-1)\n",
        "def yex(ax):\n",
        "    lims = [np.min([ax.get_xlim(), ax.get_ylim()]),\n",
        "            np.max([ax.get_xlim(), ax.get_ylim()])]\n",
        "\n",
        "    # now plot both limits against eachother\n",
        "    ax.plot(lims, lims, 'k-', alpha=0.75, zorder=0)\n",
        "    ax.set_aspect('equal')\n",
        "    ax.set_xlim(lims)\n",
        "    ax.set_ylim(lims)\n",
        "    return ax\n",
        "\n",
        "def trim_axs(axs, N):\n",
        "    \"\"\"little helper to massage the axs list to have correct length...\"\"\"\n",
        "    axs = axs.flat\n",
        "    for ax in axs[N:]:\n",
        "        ax.remove()\n",
        "    return axs[:N]\n",
        "\n",
        "import warnings\n",
        "warnings.filterwarnings('ignore')\n",
        "\n",
        "fsize=20\n",
        "\n",
        "plt.rcParams.update({'font.size': fsize})\n",
        "%config InlineBackend.figure_format = 'retina'"
      ],
      "execution_count": null,
      "outputs": [
        {
          "output_type": "stream",
          "text": [
            "\u001b[K     |████████████████████████████████| 59.1MB 102kB/s \n",
            "\u001b[K     |████████████████████████████████| 51kB 5.7MB/s \n",
            "\u001b[K     |████████████████████████████████| 10.3MB 26.8MB/s \n",
            "\u001b[K     |████████████████████████████████| 122kB 45.4MB/s \n",
            "\u001b[K     |████████████████████████████████| 13.2MB 174kB/s \n",
            "\u001b[K     |████████████████████████████████| 112kB 55.0MB/s \n",
            "\u001b[K     |████████████████████████████████| 51kB 5.7MB/s \n",
            "\u001b[K     |████████████████████████████████| 71kB 7.6MB/s \n",
            "\u001b[?25h  Building wheel for loompy (setup.py) ... \u001b[?25l\u001b[?25hdone\n",
            "  Building wheel for numpy-groupies (setup.py) ... \u001b[?25l\u001b[?25hdone\n",
            "  Building wheel for sinfo (setup.py) ... \u001b[?25l\u001b[?25hdone\n"
          ],
          "name": "stdout"
        }
      ]
    },
    {
      "cell_type": "markdown",
      "metadata": {
        "id": "7V6FbosVrvP4"
      },
      "source": [
        "# Downloads: (bam (if bam) and index"
      ]
    },
    {
      "cell_type": "code",
      "metadata": {
        "id": "q46hw4zqKUPS"
      },
      "source": [
        "if bam:\n",
        "\n",
        "  # Install bamtofastq from 10x website (only bam files available)\n",
        "  !wget http://cf.10xgenomics.com/misc/bamtofastq-1.2.0\n",
        "  !chmod +x bamtofastq-1.2.0\n",
        "  # Download the bam file\n",
        "  !wget -- continue ${BAM_LINK}\n",
        "\n",
        "\n"
      ],
      "execution_count": null,
      "outputs": []
    },
    {
      "cell_type": "code",
      "metadata": {
        "id": "tDQlrjtqNF0m"
      },
      "source": [
        "if bam:\n",
        "  # Convert to fastq\n",
        "  !./bamtofastq-1.2.0 --reads-per-fastq=500000000 $bam_filename ./fastqs\\\n",
        "\n",
        "  # Remove original bam file to save space\n",
        "  !rm $bam_filename\n"
      ],
      "execution_count": null,
      "outputs": []
    },
    {
      "cell_type": "code",
      "metadata": {
        "id": "SXRDRphvqcLe"
      },
      "source": [
        "# Store fastq names on a list\n",
        "\n",
        "if bam:\n",
        "  # cd into fastqs folder\n",
        "  %cd /content/fastqs\n",
        "\n",
        "  #store the name of the folder generated by bamtofastq\n",
        "  _filename = os.listdir()[0]\n",
        "\n",
        "  # cd into that folder\n",
        "  %cd $_filename\n",
        "\n",
        "  # store fastq names in a list\n",
        "  fastqs = os.listdir()\n",
        "\n",
        "\n",
        "  # Remove I1 and R3 reads not relevant for our analysis\n",
        "\n",
        "  # Initialize list containing elements to remove\n",
        "  remov_elem = []\n",
        "\n",
        "  print (\"\\n\\nThis is the complete list of fastqs:\\n -----------\")\n",
        "  for elem in fastqs:\n",
        "    print (elem)\n",
        "\n",
        "  # Search index (I1 or R3) fastqs and remove them from list\n",
        "  for elem in fastqs:\n",
        "    if re.search(\"_R3_\", elem) or re.search(\"_I1_\", elem):\n",
        "      remov_elem = remov_elem +[elem]\n",
        "\n",
        "  fastqs = [elem for elem in fastqs if elem not in remov_elem] \n",
        "\n",
        "  print (\"\\n\\nThis is the filtered list of fastqs:\\n -----------\")\n",
        "  for elem in fastqs:\n",
        "    print (elem)\n"
      ],
      "execution_count": null,
      "outputs": []
    },
    {
      "cell_type": "code",
      "metadata": {
        "id": "ZnFcqcSgjLBw"
      },
      "source": [
        "# Remove fastqs that wont be analyzed to save space\n",
        "if bam:\n",
        "  for elem in remov_elem:\n",
        "    !rm $elem"
      ],
      "execution_count": null,
      "outputs": []
    },
    {
      "cell_type": "code",
      "metadata": {
        "id": "FLVS8aB7Dm6J"
      },
      "source": [
        "if bam:\n",
        "  # sort fastqs alphabetically to get R1 and R2 in order\n",
        "  fastqs = sorted(fastqs)"
      ],
      "execution_count": null,
      "outputs": []
    },
    {
      "cell_type": "code",
      "metadata": {
        "id": "FE9gWbQgpBfR",
        "colab": {
          "base_uri": "https://localhost:8080/"
        },
        "outputId": "892fa570-da34-4f03-c44b-03fe5938dfdc"
      },
      "source": [
        "# wget fastqs from non ffq links in fastqs folder\n",
        "if not bam and not fastq_ffqlinks:\n",
        "  !mkdir fastqs\n",
        "  %cd fastqs\n",
        "  for link in fastqs:\n",
        "    !wget $link --continue\n",
        "\n",
        "  # update fastqs variable with name of files\n",
        "  fastqs = sorted(os.listdir())"
      ],
      "execution_count": null,
      "outputs": [
        {
          "output_type": "stream",
          "text": [
            "/content/fastqs\n",
            "--2021-03-09 20:12:02--  ftp://ftp.sra.ebi.ac.uk/vol1/fastq/SRR103/014/SRR10368214/SRR10368214_1.fastq.gz\n",
            "           => ‘SRR10368214_1.fastq.gz’\n",
            "Resolving ftp.sra.ebi.ac.uk (ftp.sra.ebi.ac.uk)... 193.62.197.74\n",
            "Connecting to ftp.sra.ebi.ac.uk (ftp.sra.ebi.ac.uk)|193.62.197.74|:21... connected.\n",
            "Logging in as anonymous ... Logged in!\n",
            "==> SYST ... done.    ==> PWD ... done.\n",
            "==> TYPE I ... done.  ==> CWD (1) /vol1/fastq/SRR103/014/SRR10368214 ... done.\n",
            "==> SIZE SRR10368214_1.fastq.gz ... 25903013160\n",
            "==> PASV ... done.    ==> RETR SRR10368214_1.fastq.gz ... done.\n",
            "Length: 25903013160 (24G) (unauthoritative)\n",
            "\n",
            "SRR10368214_1.fastq 100%[===================>]  24.12G  8.23MB/s    in 35m 38s \n",
            "\n",
            "2021-03-09 20:47:43 (11.6 MB/s) - Control connection closed.\n",
            "Retrying.\n",
            "\n",
            "--2021-03-09 21:02:44--  ftp://ftp.sra.ebi.ac.uk/vol1/fastq/SRR103/014/SRR10368214/SRR10368214_1.fastq.gz\n",
            "  (try: 2) => ‘SRR10368214_1.fastq.gz’\n",
            "Connecting to ftp.sra.ebi.ac.uk (ftp.sra.ebi.ac.uk)|193.62.197.74|:21... connected.\n",
            "Logging in as anonymous ... Logged in!\n",
            "==> SYST ... done.    ==> PWD ... done.\n",
            "==> TYPE I ... done.  ==> CWD (1) /vol1/fastq/SRR103/014/SRR10368214 ... done.\n",
            "==> SIZE SRR10368214_1.fastq.gz ... 25903013160\n",
            "File has already been retrieved.\n",
            "2021-03-09 21:02:46 (0.00 B/s) - ‘SRR10368214_1.fastq.gz’ saved [25903013160]\n",
            "\n",
            "--2021-03-09 21:02:46--  ftp://ftp.sra.ebi.ac.uk/vol1/fastq/SRR103/014/SRR10368214/SRR10368214_2.fastq.gz\n",
            "           => ‘SRR10368214_2.fastq.gz’\n",
            "Resolving ftp.sra.ebi.ac.uk (ftp.sra.ebi.ac.uk)... 193.62.193.138\n",
            "Connecting to ftp.sra.ebi.ac.uk (ftp.sra.ebi.ac.uk)|193.62.193.138|:21... connected.\n",
            "Logging in as anonymous ... Logged in!\n",
            "==> SYST ... done.    ==> PWD ... done.\n",
            "==> TYPE I ... done.  ==> CWD (1) /vol1/fastq/SRR103/014/SRR10368214 ... done.\n",
            "==> SIZE SRR10368214_2.fastq.gz ... 28107823145\n",
            "==> PASV ... done.    ==> RETR SRR10368214_2.fastq.gz ... done.\n",
            "Length: 28107823145 (26G) (unauthoritative)\n",
            "\n",
            "SRR10368214_2.fastq 100%[===================>]  26.18G  11.9MB/s    in 51m 16s \n",
            "\n",
            "2021-03-09 21:54:07 (8.71 MB/s) - Control connection closed.\n",
            "Retrying.\n",
            "\n",
            "--2021-03-09 22:09:08--  ftp://ftp.sra.ebi.ac.uk/vol1/fastq/SRR103/014/SRR10368214/SRR10368214_2.fastq.gz\n",
            "  (try: 2) => ‘SRR10368214_2.fastq.gz’\n",
            "Connecting to ftp.sra.ebi.ac.uk (ftp.sra.ebi.ac.uk)|193.62.193.138|:21... connected.\n",
            "Logging in as anonymous ... Logged in!\n",
            "==> SYST ... done.    ==> PWD ... done.\n",
            "==> TYPE I ... done.  ==> CWD (1) /vol1/fastq/SRR103/014/SRR10368214 ... done.\n",
            "==> SIZE SRR10368214_2.fastq.gz ... 28107823145\n",
            "File has already been retrieved.\n",
            "2021-03-09 22:09:11 (0.00 B/s) - ‘SRR10368214_2.fastq.gz’ saved [28107823145]\n",
            "\n",
            "--2021-03-09 22:09:11--  ftp://ftp.sra.ebi.ac.uk/vol1/fastq/SRR998/009/SRR9985349/SRR9985349_1.fastq.gz\n",
            "           => ‘SRR9985349_1.fastq.gz’\n",
            "Resolving ftp.sra.ebi.ac.uk (ftp.sra.ebi.ac.uk)... 193.62.193.138\n",
            "Connecting to ftp.sra.ebi.ac.uk (ftp.sra.ebi.ac.uk)|193.62.193.138|:21... connected.\n",
            "Logging in as anonymous ... Logged in!\n",
            "==> SYST ... done.    ==> PWD ... done.\n",
            "==> TYPE I ... done.  ==> CWD (1) /vol1/fastq/SRR998/009/SRR9985349 ... done.\n",
            "==> SIZE SRR9985349_1.fastq.gz ... 3605940853\n",
            "==> PASV ... done.    ==> RETR SRR9985349_1.fastq.gz ... done.\n",
            "Length: 3605940853 (3.4G) (unauthoritative)\n",
            "\n",
            "SRR9985349_1.fastq. 100%[===================>]   3.36G  12.0MB/s    in 7m 27s  \n",
            "\n",
            "2021-03-09 22:16:42 (7.69 MB/s) - ‘SRR9985349_1.fastq.gz’ saved [3605940853]\n",
            "\n",
            "--2021-03-09 22:16:42--  ftp://ftp.sra.ebi.ac.uk/vol1/fastq/SRR998/009/SRR9985349/SRR9985349_2.fastq.gz\n",
            "           => ‘SRR9985349_2.fastq.gz’\n",
            "Resolving ftp.sra.ebi.ac.uk (ftp.sra.ebi.ac.uk)... 193.62.193.138\n",
            "Connecting to ftp.sra.ebi.ac.uk (ftp.sra.ebi.ac.uk)|193.62.193.138|:21... connected.\n",
            "Logging in as anonymous ... Logged in!\n",
            "==> SYST ... done.    ==> PWD ... done.\n",
            "==> TYPE I ... done.  ==> CWD (1) /vol1/fastq/SRR998/009/SRR9985349 ... done.\n",
            "==> SIZE SRR9985349_2.fastq.gz ... 3880264831\n",
            "==> PASV ... done.    ==> RETR SRR9985349_2.fastq.gz ... done.\n",
            "Length: 3880264831 (3.6G) (unauthoritative)\n",
            "\n",
            "SRR9985349_2.fastq. 100%[===================>]   3.61G  12.0MB/s    in 6m 54s  \n",
            "\n",
            "2021-03-09 22:23:41 (8.93 MB/s) - ‘SRR9985349_2.fastq.gz’ saved [3880264831]\n",
            "\n"
          ],
          "name": "stdout"
        }
      ]
    },
    {
      "cell_type": "code",
      "metadata": {
        "id": "PC9oETW1pE9t",
        "colab": {
          "base_uri": "https://localhost:8080/"
        },
        "outputId": "8d72ac46-ce83-4e64-e35c-e1c6cfe653de"
      },
      "source": [
        "if bam:\n",
        "  # Download the corresponding Kallisto index to folder containing fastqs\n",
        "  !kb ref -d $species_kb -i index.idx -g t2g.txt -f1 transcriptome.fasta\n",
        "\n",
        "if not bam and fastq_ffqlinks:\n",
        "  %cd /content\n",
        "\n",
        "  # Download the corresponding Kallisto index to content folder\n",
        "  !kb ref -d $species_kb -i index.idx -g t2g.txt -f1 transcriptome.fasta\n",
        "\n",
        "if not bam and not fastq_ffqlinks:\n",
        "  %cd /content/fastqs\n",
        "\n",
        "  # Download the corresponding Kallisto index to fastq folder\n",
        "  !kb ref -d $species_kb -i index.idx -g t2g.txt -f1 transcriptome.fasta"
      ],
      "execution_count": null,
      "outputs": [
        {
          "output_type": "stream",
          "text": [
            "/content/fastqs\n",
            "[2021-03-09 22:23:45,146]    INFO Downloading files for human from https://caltech.box.com/shared/static/v1nm7lpnqz5syh8dyzdk2zs8bglncfib.gz to tmp/v1nm7lpnqz5syh8dyzdk2zs8bglncfib.gz\n",
            "100% 2.23G/2.23G [06:07<00:00, 6.50MB/s]\n",
            "[2021-03-09 22:29:54,897]    INFO Extracting files from tmp/v1nm7lpnqz5syh8dyzdk2zs8bglncfib.gz\n"
          ],
          "name": "stdout"
        }
      ]
    },
    {
      "cell_type": "code",
      "metadata": {
        "id": "yxqrYHISgFJb"
      },
      "source": [
        ""
      ],
      "execution_count": null,
      "outputs": []
    },
    {
      "cell_type": "code",
      "metadata": {
        "id": "xIx0OXIFgStD"
      },
      "source": [
        "fastqs = ['SRR10368214_1.fastq.gz',\n",
        " 'SRR10368214_2.fastq.gz',\n",
        " 'SRR9985349_1.fastq.gz',\n",
        " 'SRR9985349_2.fastq.gz']"
      ],
      "execution_count": null,
      "outputs": []
    },
    {
      "cell_type": "code",
      "metadata": {
        "id": "vHVNa51Cp9Nr",
        "colab": {
          "base_uri": "https://localhost:8080/"
        },
        "outputId": "eb95cae7-984b-40ad-aae3-d5cfd64f4392"
      },
      "source": [
        "# Check to make sure the metadata is in the right order after sorting\n",
        "print(fastqs)"
      ],
      "execution_count": null,
      "outputs": [
        {
          "output_type": "stream",
          "text": [
            "['SRR10368214_1.fastq.gz', 'SRR10368214_2.fastq.gz', 'SRR9985349_1.fastq.gz', 'SRR9985349_2.fastq.gz']\n"
          ],
          "name": "stdout"
        }
      ]
    },
    {
      "cell_type": "markdown",
      "metadata": {
        "id": "VInyuq1Dp7iz"
      },
      "source": [
        "# Process fastq files (modify kb command according to fastqs list)\n"
      ]
    },
    {
      "cell_type": "code",
      "metadata": {
        "id": "OcqtBuH-pRaX",
        "colab": {
          "base_uri": "https://localhost:8080/"
        },
        "outputId": "281cdb4f-88f6-4458-ae3a-f87d9ef98598"
      },
      "source": [
        "fastqs"
      ],
      "execution_count": null,
      "outputs": [
        {
          "output_type": "execute_result",
          "data": {
            "text/plain": [
              "['SRR10368214_1.fastq.gz',\n",
              " 'SRR10368214_2.fastq.gz',\n",
              " 'SRR9985349_1.fastq.gz',\n",
              " 'SRR9985349_2.fastq.gz']"
            ]
          },
          "metadata": {
            "tags": []
          },
          "execution_count": 13
        }
      ]
    },
    {
      "cell_type": "code",
      "metadata": {
        "id": "5qFzPj-0kZTi",
        "colab": {
          "base_uri": "https://localhost:8080/"
        },
        "outputId": "fba90a81-2498-49b6-ed82-fd6eb142f028"
      },
      "source": [
        "\n",
        "# Specify the sample number and whether they are paired-ended\n",
        "\n",
        "\n",
        "if no_samples == 1:\n",
        "\n",
        "  # Write the kb count command as a string with all fastqs of the list as an input\n",
        "  cmd = \"kb count --h5ad -i index.idx -g t2g.txt -x \" + technology_kb + \" -o tccoutput\" + sample_id[0] + \" \"\\\n",
        "  + \"--filter bustools --tcc -t 2 --overwrite \" + \"'\" +  \"' '\".join(fastqs) + \"'\"\n",
        "  \n",
        "  # Execute it\n",
        "  !$cmd\n",
        "\n",
        "# If more than one sample, iterate through fastqs accordingly\n",
        "else:\n",
        "\n",
        "  # Initializa counter for fastq files\n",
        "  j = 0\n",
        "\n",
        "  # Loop over samples for analysis\n",
        "  for i in range(no_samples):\n",
        "\n",
        "    fastqs_to_analyze = fastqs[j:j + fastqs_per_sample[i]]\n",
        "    # Write the kb count command as a string\n",
        "    cmd = \"kb count --h5ad -i ../index.idx -g ../t2g.txt -x \" + technology_kb + \" -o tccoutput\" + sample_id[i] + \" \\\n",
        "    --filter bustools --tcc -t 2 --overwrite \" + \"'\" +  \"' '\".join(fastqs_to_analyze) + \"'\"\n",
        "\n",
        "    # Execute it\n",
        "    !$cmd\n",
        "\n",
        "    # Update j to move to the next set of fastq\n",
        "    j = j + fastqs_per_sample[i]\n",
        "\n",
        "\n",
        "\n",
        "\n",
        "\n",
        "\n",
        "results = {}\n",
        "tcc_results = {}\n",
        "for sample in sample_id:\n",
        "  # Read the filtered gene count matrix\n",
        "  results[\"data_\" + sample] = anndata.read(\"/content/result\" + sample)\n",
        "\n",
        "\n",
        "for sample in sample_id:\n",
        "  output = \"bus_raw_\" + sample + \"_from_gc\"\n",
        "  !mkdir $output\n",
        "  folder_tcc = \"tccoutput\" + sample\n",
        "\n",
        "  # read tcc matrix\n",
        "  tcc_results[sample] = anndata.read(folder_tcc + \"/counts_unfiltered/adata.h5ad\")\n",
        "  # apply gene count matrix's filter\n",
        "  tcc_results[sample] = tcc_results[sample][results[\"data_\" + sample].obs.index.values]\n",
        "  # transfer obs data\n",
        "  tcc_results[sample].obs = results[\"data_\" + sample].obs\n",
        "  # transfer metadata\n",
        "  tcc_results[sample].uns = results[\"data_\" + sample].uns\n",
        "  # write tcc matrix\n",
        "  tcc_results[sample].write(\"/content/tcc_\" + sample)\n",
        "  #gzip tcc matrix\n",
        "  cmd = \"gzip /content/tcc_\" + sample\n",
        "  !$cmd\n",
        "  #gzip unfiltered bus file\n",
        "  cmd = \"gzip \" + folder_tcc + \"/output.unfiltered.bus\"\n",
        "  !$cmd\n",
        "  # move and re-name bus file with sample id\n",
        "  cmd = \"mv \" + folder_tcc + \"/output.unfiltered.bus.gz \" + output + \"/\" + sample +\".unfiltered.bus.gz\"\n",
        "  !$cmd\n",
        "  # gzip all unfiltered counts\n",
        "  cmd = \"gzip \" + folder_tcc + \"/counts_unfiltered/*\"\n",
        "  !$cmd\n",
        "\n",
        "  # move unfiltered counts for both\n",
        "  cmd = \"mv \" + folder_tcc + \"/counts_unfiltered \" + output + \"/tcc_unfiltered\"\n",
        "  !$cmd\n",
        "\n",
        "  cmd = \"mv \" + folder_tcc + \"/*.json \" + output \n",
        "  !$cmd\n",
        "  # zip all files\n",
        "  cmd = \"zip -r \"+ output + \".zip \" + output\n",
        "  !$cmd"
      ],
      "execution_count": null,
      "outputs": [
        {
          "output_type": "stream",
          "text": [
            "[2021-03-09 22:30:35,264]    INFO Using index index.idx to generate BUS file to tccoutputGSM4037302 from\n",
            "[2021-03-09 22:30:35,264]    INFO         SRR10368214_1.fastq.gz\n",
            "[2021-03-09 22:30:35,265]    INFO         SRR10368214_2.fastq.gz\n",
            "[2021-03-09 22:30:35,265]    INFO         SRR9985349_1.fastq.gz\n",
            "[2021-03-09 22:30:35,265]    INFO         SRR9985349_2.fastq.gz\n",
            "[2021-03-10 00:21:40,551]    INFO Sorting BUS file tccoutputGSM4037302/output.bus to tccoutputGSM4037302/tmp/output.s.bus\n",
            "[2021-03-10 00:26:19,265]    INFO Whitelist not provided\n",
            "[2021-03-10 00:26:19,266]    INFO Copying pre-packaged 10XV2 whitelist to tccoutputGSM4037302\n",
            "[2021-03-10 00:26:19,395]    INFO Inspecting BUS file tccoutputGSM4037302/tmp/output.s.bus\n",
            "[2021-03-10 00:26:53,072]    INFO Correcting BUS records in tccoutputGSM4037302/tmp/output.s.bus to tccoutputGSM4037302/tmp/output.s.c.bus with whitelist tccoutputGSM4037302/10xv2_whitelist.txt\n",
            "[2021-03-10 00:27:27,890]    INFO Sorting BUS file tccoutputGSM4037302/tmp/output.s.c.bus to tccoutputGSM4037302/output.unfiltered.bus\n",
            "[2021-03-10 00:29:16,650]    INFO Generating count matrix tccoutputGSM4037302/counts_unfiltered/cells_x_tcc from BUS file tccoutputGSM4037302/output.unfiltered.bus\n",
            "[2021-03-10 00:30:51,070]    INFO Reading matrix tccoutputGSM4037302/counts_unfiltered/cells_x_tcc.mtx\n",
            "[2021-03-10 00:31:55,468]    INFO Writing matrix to h5ad tccoutputGSM4037302/counts_unfiltered/adata.h5ad\n",
            "[2021-03-10 00:34:29,157]    INFO Filtering with bustools\n",
            "[2021-03-10 00:34:29,158]    INFO Generating whitelist tccoutputGSM4037302/filter_barcodes.txt from BUS file tccoutputGSM4037302/output.unfiltered.bus\n",
            "[2021-03-10 00:34:30,616]    INFO Correcting BUS records in tccoutputGSM4037302/output.unfiltered.bus to tccoutputGSM4037302/tmp/output.unfiltered.c.bus with whitelist tccoutputGSM4037302/filter_barcodes.txt\n",
            "[2021-03-10 00:35:09,401]    INFO Sorting BUS file tccoutputGSM4037302/tmp/output.unfiltered.c.bus to tccoutputGSM4037302/output.filtered.bus\n",
            "[2021-03-10 00:36:23,462]    INFO Generating count matrix tccoutputGSM4037302/counts_filtered/cells_x_tcc from BUS file tccoutputGSM4037302/output.filtered.bus\n",
            "[2021-03-10 00:37:39,471]    INFO Reading matrix tccoutputGSM4037302/counts_filtered/cells_x_tcc.mtx\n",
            "[2021-03-10 00:38:32,711]    INFO Writing matrix to h5ad tccoutputGSM4037302/counts_filtered/adata.h5ad\n"
          ],
          "name": "stdout"
        },
        {
          "output_type": "stream",
          "text": [
            "Variable names are not unique. To make them unique, call `.var_names_make_unique`.\n"
          ],
          "name": "stderr"
        },
        {
          "output_type": "stream",
          "text": [
            "  adding: bus_raw_GSM4037302_from_gc/ (stored 0%)\n",
            "  adding: bus_raw_GSM4037302_from_gc/run_info.json (deflated 41%)\n",
            "  adding: bus_raw_GSM4037302_from_gc/kb_info.json (deflated 75%)\n",
            "  adding: bus_raw_GSM4037302_from_gc/inspect.json (deflated 56%)\n",
            "  adding: bus_raw_GSM4037302_from_gc/GSM4037302.unfiltered.bus.gz (deflated 4%)\n",
            "  adding: bus_raw_GSM4037302_from_gc/tcc_unfiltered/ (stored 0%)\n",
            "  adding: bus_raw_GSM4037302_from_gc/tcc_unfiltered/adata.h5ad.gz (deflated 6%)\n",
            "  adding: bus_raw_GSM4037302_from_gc/tcc_unfiltered/cells_x_tcc.mtx.gz (deflated 0%)\n",
            "  adding: bus_raw_GSM4037302_from_gc/tcc_unfiltered/cells_x_tcc.barcodes.txt.gz (deflated 1%)\n",
            "  adding: bus_raw_GSM4037302_from_gc/tcc_unfiltered/cells_x_tcc.ec.txt.gz (deflated 2%)\n"
          ],
          "name": "stdout"
        }
      ]
    }
  ]
}