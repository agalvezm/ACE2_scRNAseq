{
  "nbformat": 4,
  "nbformat_minor": 0,
  "metadata": {
    "colab": {
      "name": "GSE128066_GSM3665019.ipynb",
      "provenance": [],
      "collapsed_sections": [],
      "include_colab_link": true
    },
    "kernelspec": {
      "name": "python3",
      "display_name": "Python 3"
    }
  },
  "cells": [
    {
      "cell_type": "markdown",
      "metadata": {
        "id": "view-in-github",
        "colab_type": "text"
      },
      "source": [
        "<a href=\"https://colab.research.google.com/github/agalvezm/ACE2_scRNAseq/blob/master/tcc/GSE128066_GSM3665019_from_gc.ipynb\" target=\"_parent\"><img src=\"https://colab.research.google.com/assets/colab-badge.svg\" alt=\"Open In Colab\"/></a>"
      ]
    },
    {
      "cell_type": "markdown",
      "metadata": {
        "id": "V9ryXluJsJw9"
      },
      "source": [
        "# GSE124494_GSM3665019"
      ]
    },
    {
      "cell_type": "markdown",
      "metadata": {
        "id": "xj25vce_Hm2Q"
      },
      "source": [
        "This notebook uses the filtered count matrix resulting from the following google colab notebook. https://github.com/agalvezm/ACE2_scRNAseq/blob/master/notebooks_countmatrices/GSE128066_GSM3665019.ipynb Please run the notebook above and upload the results file in /content"
      ]
    },
    {
      "cell_type": "code",
      "metadata": {
        "id": "2BiFt2wu4aLh",
        "colab": {
          "base_uri": "https://localhost:8080/"
        },
        "outputId": "eaef305c-cd48-4751-f28e-8124ff457d14"
      },
      "source": [
        "# Install SRA-toolkit \n",
        "!wget \"http://ftp-trace.ncbi.nlm.nih.gov/sra/sdk/current/sratoolkit.current-centos_linux64.tar.gz\"\n",
        "\n",
        "! tar -xzf sratoolkit.current-centos_linux64.tar.gz\n",
        "\n",
        "# Add to path\n",
        "import os\n",
        "os.environ['PATH'] += \":/content/sratoolkit.2.11.0-centos_linux64/bin\"\n",
        "\n",
        "# Configure\n",
        "!vdb-config --interactive\n",
        "\n",
        "# Import packages\n",
        "\n",
        "import numpy as np\n"
      ],
      "execution_count": null,
      "outputs": [
        {
          "output_type": "stream",
          "text": [
            "--2021-03-18 23:28:20--  http://ftp-trace.ncbi.nlm.nih.gov/sra/sdk/current/sratoolkit.current-centos_linux64.tar.gz\n",
            "Resolving ftp-trace.ncbi.nlm.nih.gov (ftp-trace.ncbi.nlm.nih.gov)... 165.112.9.228, 165.112.9.230, 2607:f220:41e:250::11, ...\n",
            "Connecting to ftp-trace.ncbi.nlm.nih.gov (ftp-trace.ncbi.nlm.nih.gov)|165.112.9.228|:80... connected.\n",
            "HTTP request sent, awaiting response... 301 Moved Permanently\n",
            "Location: https://ftp-trace.ncbi.nlm.nih.gov/sra/sdk/current/sratoolkit.current-centos_linux64.tar.gz [following]\n",
            "--2021-03-18 23:28:25--  https://ftp-trace.ncbi.nlm.nih.gov/sra/sdk/current/sratoolkit.current-centos_linux64.tar.gz\n",
            "Connecting to ftp-trace.ncbi.nlm.nih.gov (ftp-trace.ncbi.nlm.nih.gov)|165.112.9.228|:443... connected.\n",
            "HTTP request sent, awaiting response... 200 OK\n",
            "Length: 99139357 (95M) [application/x-gzip]\n",
            "Saving to: ‘sratoolkit.current-centos_linux64.tar.gz’\n",
            "\n",
            "sratoolkit.current- 100%[===================>]  94.55M  28.6MB/s    in 3.3s    \n",
            "\n",
            "2021-03-18 23:28:29 (28.6 MB/s) - ‘sratoolkit.current-centos_linux64.tar.gz’ saved [99139357/99139357]\n",
            "\n",
            "\u001b[2J\u001b[?25l\u001b[?1000h\u001b[?1002h2021-03-18T23:28:32 vdb-config.2.11.0 fatal: SIGNAL - Segmentation fault \n"
          ],
          "name": "stdout"
        }
      ]
    },
    {
      "cell_type": "code",
      "metadata": {
        "id": "mU4XegJlo2Na"
      },
      "source": [
        "# List of SRAs to download and transform. Copy paste from excel as string\n",
        "SRAs = \"SRR8712354\tSRR8712355\tSRR8712356\tSRR8712357\"\n",
        "\n",
        "SRAs = SRAs.split()\n",
        "\n",
        "# SRA to delete, usually the index file, which get downloaded because we include technical reads. \n",
        "# It varies so check in the SRA website\n",
        "SRA_to_delete = \"3\"\n",
        "\n",
        "\n",
        "SRAs_to_keep = np.setdiff1d([\"1\", \"2\", \"3\"], [SRA_to_delete])\n"
      ],
      "execution_count": null,
      "outputs": []
    },
    {
      "cell_type": "code",
      "metadata": {
        "id": "u3uDp_jCpfhZ",
        "colab": {
          "base_uri": "https://localhost:8080/"
        },
        "outputId": "14fcd41d-0dd0-49b4-bba9-e6f115144df1"
      },
      "source": [
        "for sra in SRAs:\n",
        "  \"\"\"\n",
        "  Downloads SRAs and transforms to compressed fastq file. Remove index reads and original SRA\n",
        "  \"\"\"\n",
        "  # Download SRA\n",
        "  !prefetch $sra\n",
        "\n",
        "  # Convert to fastq. Biological reads are usually considered technicals in 10x so do not skip them.\n",
        "  fastq_dump_cmd = \"fastq-dump -F --gzip --readids --split-files \" + sra + \"/\" + sra +\".sra\"\n",
        "  !$fastq_dump_cmd\n",
        "\n",
        "  # Remove files\n",
        "  rm_cmd_1 = \"rm \" + sra + \"/\" + sra + \".sra\"\n",
        "  rm_cmd_2 = \"rm \" + sra + \"_\" + SRA_to_delete + \".fastq.gz\" \n",
        "  !$rm_cmd_1\n",
        "  !$rm_cmd_2"
      ],
      "execution_count": null,
      "outputs": [
        {
          "output_type": "stream",
          "text": [
            "\n",
            "2021-03-18T23:29:38 prefetch.2.11.0: 1) Downloading 'SRR8712354'...\n",
            "2021-03-18T23:29:38 prefetch.2.11.0:  Downloading via HTTPS...\n",
            "2021-03-18T23:31:30 prefetch.2.11.0:  HTTPS download succeed\n",
            "2021-03-18T23:31:39 prefetch.2.11.0:  'SRR8712354' is valid\n",
            "2021-03-18T23:31:39 prefetch.2.11.0: 1) 'SRR8712354' was downloaded successfully\n",
            "2021-03-18T23:31:39 prefetch.2.11.0: 'SRR8712354' has 0 unresolved dependencies\n",
            "Read 56841854 spots for SRR8712354/SRR8712354.sra\n",
            "Written 56841854 spots for SRR8712354/SRR8712354.sra\n",
            "\n",
            "2021-03-19T00:30:22 prefetch.2.11.0: 1) Downloading 'SRR8712355'...\n",
            "2021-03-19T00:30:22 prefetch.2.11.0:  Downloading via HTTPS...\n",
            "2021-03-19T00:32:13 prefetch.2.11.0:  HTTPS download succeed\n",
            "2021-03-19T00:32:21 prefetch.2.11.0:  'SRR8712355' is valid\n",
            "2021-03-19T00:32:21 prefetch.2.11.0: 1) 'SRR8712355' was downloaded successfully\n",
            "2021-03-19T00:32:21 prefetch.2.11.0: 'SRR8712355' has 0 unresolved dependencies\n",
            "Read 56238609 spots for SRR8712355/SRR8712355.sra\n",
            "Written 56238609 spots for SRR8712355/SRR8712355.sra\n",
            "\n",
            "2021-03-19T01:29:51 prefetch.2.11.0: 1) Downloading 'SRR8712356'...\n",
            "2021-03-19T01:29:51 prefetch.2.11.0:  Downloading via HTTPS...\n",
            "2021-03-19T01:31:39 prefetch.2.11.0:  HTTPS download succeed\n",
            "2021-03-19T01:31:48 prefetch.2.11.0:  'SRR8712356' is valid\n",
            "2021-03-19T01:31:48 prefetch.2.11.0: 1) 'SRR8712356' was downloaded successfully\n",
            "2021-03-19T01:31:48 prefetch.2.11.0: 'SRR8712356' has 0 unresolved dependencies\n",
            "Read 56137201 spots for SRR8712356/SRR8712356.sra\n",
            "Written 56137201 spots for SRR8712356/SRR8712356.sra\n",
            "\n",
            "2021-03-19T02:30:21 prefetch.2.11.0: 1) Downloading 'SRR8712357'...\n",
            "2021-03-19T02:30:21 prefetch.2.11.0:  Downloading via HTTPS...\n",
            "2021-03-19T02:32:05 prefetch.2.11.0:  HTTPS download succeed\n",
            "2021-03-19T02:32:14 prefetch.2.11.0:  'SRR8712357' is valid\n",
            "2021-03-19T02:32:14 prefetch.2.11.0: 1) 'SRR8712357' was downloaded successfully\n",
            "2021-03-19T02:32:14 prefetch.2.11.0: 'SRR8712357' has 0 unresolved dependencies\n",
            "Read 56201670 spots for SRR8712357/SRR8712357.sra\n",
            "Written 56201670 spots for SRR8712357/SRR8712357.sra\n"
          ],
          "name": "stdout"
        }
      ]
    },
    {
      "cell_type": "code",
      "metadata": {
        "id": "bmN2opl1qHSh"
      },
      "source": [
        "# Define fastq list to feed kb\n",
        "\n",
        "fastqs = []\n",
        "for sra in SRAs:\n",
        "  for read in SRAs_to_keep:\n",
        "    fastqs.append(sra + \"_\" + read + \".fastq.gz\")"
      ],
      "execution_count": null,
      "outputs": []
    },
    {
      "cell_type": "markdown",
      "metadata": {
        "id": "5tT2sVv2-XMD"
      },
      "source": [
        "## Metadata"
      ]
    },
    {
      "cell_type": "code",
      "metadata": {
        "id": "ggNFAQJCRh6P"
      },
      "source": [
        "# define the values for the analysis\n",
        "\n",
        "# accession id for the data\n",
        "id = \"GSE128066\"\n",
        "\n",
        "samp_id = [\"GSM3665019\"]\n",
        "\n",
        "no_samples = 1\n",
        "\n",
        "fastqs_per_sample = [8] \n",
        "\n",
        "sample_id = samp_id\n",
        "\n",
        "database_id = [id] * no_samples\n",
        "\n",
        "tissue = [\"blood\"] * no_samples\n",
        "\n",
        "cell_type = [\"PBMCs\"] * no_samples\n",
        "\n",
        "condition = [\"healthy donor\"] * no_samples\n",
        "\n",
        "species = [\"human\"] * no_samples\n",
        "\n",
        "technology = [\"10xv2\"] * no_samples\n",
        "\n",
        "paper = [\"Muus et al 2020\"] * no_samples\n",
        "\n",
        "figure = [\"Fig 1 a,b  ED Fig 1 a,b,c,d  ED Fig 2 a,b,c,d,e\"] * no_samples\n",
        "\n",
        "\n",
        "# Set string variables for kb functions\n",
        "\n",
        "species_kb = species[0]\n",
        "\n",
        "technology_kb = technology[0]"
      ],
      "execution_count": null,
      "outputs": []
    },
    {
      "cell_type": "markdown",
      "metadata": {
        "id": "FPwL0-_-KSAw"
      },
      "source": [
        "# Imports and installs"
      ]
    },
    {
      "cell_type": "code",
      "metadata": {
        "id": "1HSlUGZEp3oP",
        "colab": {
          "base_uri": "https://localhost:8080/"
        },
        "outputId": "a2420f07-7cf6-47fc-e218-ce22580a8729"
      },
      "source": [
        "# install and import necessary software\n",
        "\n",
        "# Install kb and scanpy\n",
        "!pip -q install kb-python \n",
        "!pip -q install scanpy\n",
        "\n",
        "import re\n",
        "import os\n",
        "\n",
        "# Setup\n",
        "\n",
        "import anndata\n",
        "import pandas as pd\n",
        "import numpy as np\n",
        "import matplotlib.pyplot as plt\n",
        "import matplotlib as mpl\n",
        "import matplotlib.patches as mpatches\n",
        "import scanpy as sc\n",
        "from scipy import stats\n",
        "\n",
        "from collections import OrderedDict\n",
        "from sklearn.decomposition import TruncatedSVD\n",
        "from sklearn.manifold import TSNE\n",
        "from sklearn.preprocessing import scale\n",
        "\n",
        "from sklearn.cluster import KMeans\n",
        "from sklearn.preprocessing import normalize\n",
        "from sklearn.preprocessing import LabelEncoder\n",
        "from sklearn.neighbors import NeighborhoodComponentsAnalysis\n",
        "from matplotlib import cm\n",
        "from matplotlib.lines import Line2D\n",
        "\n",
        "def nd(arr):\n",
        "    return np.asarray(arr).reshape(-1)\n",
        "def yex(ax):\n",
        "    lims = [np.min([ax.get_xlim(), ax.get_ylim()]),\n",
        "            np.max([ax.get_xlim(), ax.get_ylim()])]\n",
        "\n",
        "    # now plot both limits against eachother\n",
        "    ax.plot(lims, lims, 'k-', alpha=0.75, zorder=0)\n",
        "    ax.set_aspect('equal')\n",
        "    ax.set_xlim(lims)\n",
        "    ax.set_ylim(lims)\n",
        "    return ax\n",
        "\n",
        "def trim_axs(axs, N):\n",
        "    \"\"\"little helper to massage the axs list to have correct length...\"\"\"\n",
        "    axs = axs.flat\n",
        "    for ax in axs[N:]:\n",
        "        ax.remove()\n",
        "    return axs[:N]\n",
        "\n",
        "import warnings\n",
        "warnings.filterwarnings('ignore')\n",
        "\n",
        "fsize=20\n",
        "\n",
        "plt.rcParams.update({'font.size': fsize})\n",
        "%config InlineBackend.figure_format = 'retina'"
      ],
      "execution_count": null,
      "outputs": [
        {
          "output_type": "stream",
          "text": [
            "\u001b[K     |████████████████████████████████| 59.1MB 1.2MB/s \n",
            "\u001b[K     |████████████████████████████████| 13.2MB 44.8MB/s \n",
            "\u001b[K     |████████████████████████████████| 122kB 52.0MB/s \n",
            "\u001b[K     |████████████████████████████████| 51kB 3.9MB/s \n",
            "\u001b[K     |████████████████████████████████| 10.3MB 47.0MB/s \n",
            "\u001b[K     |████████████████████████████████| 112kB 23.1MB/s \n",
            "\u001b[K     |████████████████████████████████| 51kB 4.9MB/s \n",
            "\u001b[K     |████████████████████████████████| 71kB 6.2MB/s \n",
            "\u001b[?25h  Building wheel for loompy (setup.py) ... \u001b[?25l\u001b[?25hdone\n",
            "  Building wheel for numpy-groupies (setup.py) ... \u001b[?25l\u001b[?25hdone\n",
            "  Building wheel for sinfo (setup.py) ... \u001b[?25l\u001b[?25hdone\n"
          ],
          "name": "stdout"
        }
      ]
    },
    {
      "cell_type": "markdown",
      "metadata": {
        "id": "7V6FbosVrvP4"
      },
      "source": [
        "# Downloads: index"
      ]
    },
    {
      "cell_type": "code",
      "metadata": {
        "id": "Cit7BL9Oudtj",
        "colab": {
          "base_uri": "https://localhost:8080/"
        },
        "outputId": "136f4e89-8a9c-479c-9696-2834f0815d1b"
      },
      "source": [
        "# Download the corresponding Kallisto index to fastq folder\n",
        "!kb ref -d $species_kb -i index.idx -g t2g.txt -f1 transcriptome.fasta"
      ],
      "execution_count": null,
      "outputs": [
        {
          "output_type": "stream",
          "text": [
            "[2021-03-19 03:30:09,180]    INFO Downloading files for human from https://caltech.box.com/shared/static/v1nm7lpnqz5syh8dyzdk2zs8bglncfib.gz to tmp/v1nm7lpnqz5syh8dyzdk2zs8bglncfib.gz\n",
            "100% 2.23G/2.23G [1:37:25<00:00, 409kB/s]\n",
            "[2021-03-19 05:07:36,761]    INFO Extracting files from tmp/v1nm7lpnqz5syh8dyzdk2zs8bglncfib.gz\n"
          ],
          "name": "stdout"
        }
      ]
    },
    {
      "cell_type": "markdown",
      "metadata": {
        "id": "VInyuq1Dp7iz"
      },
      "source": [
        "# Process fastq files (modify kb command according to fastqs list)\n"
      ]
    },
    {
      "cell_type": "code",
      "metadata": {
        "id": "ELEHgD9OugVZ",
        "colab": {
          "base_uri": "https://localhost:8080/"
        },
        "outputId": "065c80fd-aeca-4c5a-8c02-59b22210f877"
      },
      "source": [
        "fastqs"
      ],
      "execution_count": null,
      "outputs": [
        {
          "output_type": "execute_result",
          "data": {
            "text/plain": [
              "['SRR8712354_1.fastq.gz',\n",
              " 'SRR8712354_2.fastq.gz',\n",
              " 'SRR8712355_1.fastq.gz',\n",
              " 'SRR8712355_2.fastq.gz',\n",
              " 'SRR8712356_1.fastq.gz',\n",
              " 'SRR8712356_2.fastq.gz',\n",
              " 'SRR8712357_1.fastq.gz',\n",
              " 'SRR8712357_2.fastq.gz']"
            ]
          },
          "metadata": {
            "tags": []
          },
          "execution_count": 8
        }
      ]
    },
    {
      "cell_type": "code",
      "metadata": {
        "id": "5qFzPj-0kZTi",
        "colab": {
          "base_uri": "https://localhost:8080/"
        },
        "outputId": "c24927e5-fd6d-412f-f643-e87a84b733d1"
      },
      "source": [
        "\n",
        "if no_samples == 1:\n",
        "\n",
        "  # Write the kb count command as a string with all fastqs of the list as an input\n",
        "  cmd = \"kb count --h5ad -i index.idx -g t2g.txt -x \" + technology_kb + \" -o tccoutput\" + sample_id[0] + \" \"\\\n",
        "  + \"--filter bustools --tcc -t 2 --overwrite \" + \"'\" +  \"' '\".join(fastqs) + \"'\"\n",
        "  \n",
        "  # Execute it\n",
        "  !$cmd\n",
        "\n",
        "# If more than one sample, iterate through fastqs accordingly\n",
        "else:\n",
        "\n",
        "  # Initializa counter for fastq files\n",
        "  j = 0\n",
        "\n",
        "  # Loop over samples for analysis\n",
        "  for i in range(no_samples):\n",
        "\n",
        "    fastqs_to_analyze = fastqs[j:j + fastqs_per_sample[i]]\n",
        "    # Write the kb count command as a string\n",
        "    cmd = \"kb count --h5ad -i ../index.idx -g ../t2g.txt -x \" + technology_kb + \" -o tccoutput\" + sample_id[i] + \" \\\n",
        "    --filter bustools --tcc -t 2 --overwrite \" + \"'\" +  \"' '\".join(fastqs_to_analyze) + \"'\"\n",
        "\n",
        "    # Execute it\n",
        "    !$cmd\n",
        "\n",
        "    # Update j to move to the next set of fastq\n",
        "    j = j + fastqs_per_sample[i]\n",
        "\n",
        "\n",
        "\n",
        "\n",
        "\n",
        "\n",
        "results = {}\n",
        "tcc_results = {}\n",
        "for sample in sample_id:\n",
        "  # Read the filtered gene count matrix\n",
        "  results[\"data_\" + sample] = anndata.read(\"/content/result\" + sample)\n",
        "\n",
        "\n",
        "for sample in sample_id:\n",
        "  output = \"bus_raw_\" + sample + \"_from_gc\"\n",
        "  !mkdir $output\n",
        "  folder_tcc = \"tccoutput\" + sample\n",
        "\n",
        "  # read tcc matrix\n",
        "  tcc_results[sample] = anndata.read(folder_tcc + \"/counts_unfiltered/adata.h5ad\")\n",
        "  # apply gene count matrix's filter\n",
        "  tcc_results[sample] = tcc_results[sample][results[\"data_\" + sample].obs.index.values]\n",
        "  # transfer obs data\n",
        "  tcc_results[sample].obs = results[\"data_\" + sample].obs\n",
        "  # transfer metadata\n",
        "  tcc_results[sample].uns = results[\"data_\" + sample].uns\n",
        "  # write tcc matrix\n",
        "  tcc_results[sample].write(\"/content/tcc_\" + sample)\n",
        "  #gzip tcc matrix\n",
        "  cmd = \"gzip /content/tcc_\" + sample\n",
        "  !$cmd\n",
        "  #gzip unfiltered bus file\n",
        "  cmd = \"gzip \" + folder_tcc + \"/output.unfiltered.bus\"\n",
        "  !$cmd\n",
        "  # move and re-name bus file with sample id\n",
        "  cmd = \"mv \" + folder_tcc + \"/output.unfiltered.bus.gz \" + output + \"/\" + sample +\".unfiltered.bus.gz\"\n",
        "  !$cmd\n",
        "  # gzip all unfiltered counts\n",
        "  cmd = \"gzip \" + folder_tcc + \"/counts_unfiltered/*\"\n",
        "  !$cmd\n",
        "\n",
        "  # move unfiltered counts for both\n",
        "  cmd = \"mv \" + folder_tcc + \"/counts_unfiltered \" + output + \"/tcc_unfiltered\"\n",
        "  !$cmd\n",
        "\n",
        "  cmd = \"mv \" + folder_tcc + \"/*.json \" + output \n",
        "  !$cmd\n",
        "  # zip all files\n",
        "  cmd = \"zip -r \"+ output + \".zip \" + output\n",
        "  !$cmd"
      ],
      "execution_count": null,
      "outputs": [
        {
          "output_type": "stream",
          "text": [
            "[2021-03-19 06:21:40,048]    INFO Using index index.idx to generate BUS file to tccoutputGSM3665019 from\n",
            "[2021-03-19 06:21:40,048]    INFO         SRR8712354_1.fastq.gz\n",
            "[2021-03-19 06:21:40,048]    INFO         SRR8712354_2.fastq.gz\n",
            "[2021-03-19 06:21:40,048]    INFO         SRR8712355_1.fastq.gz\n",
            "[2021-03-19 06:21:40,048]    INFO         SRR8712355_2.fastq.gz\n",
            "[2021-03-19 06:21:40,048]    INFO         SRR8712356_1.fastq.gz\n",
            "[2021-03-19 06:21:40,048]    INFO         SRR8712356_2.fastq.gz\n",
            "[2021-03-19 06:21:40,048]    INFO         SRR8712357_1.fastq.gz\n",
            "[2021-03-19 06:21:40,048]    INFO         SRR8712357_2.fastq.gz\n",
            "[2021-03-19 07:06:39,046]    INFO Sorting BUS file tccoutputGSM3665019/output.bus to tccoutputGSM3665019/tmp/output.s.bus\n",
            "[2021-03-19 07:08:06,120]    INFO Whitelist not provided\n",
            "[2021-03-19 07:08:06,129]    INFO Copying pre-packaged 10XV2 whitelist to tccoutputGSM3665019\n",
            "[2021-03-19 07:08:06,299]    INFO Inspecting BUS file tccoutputGSM3665019/tmp/output.s.bus\n",
            "[2021-03-19 07:08:20,377]    INFO Correcting BUS records in tccoutputGSM3665019/tmp/output.s.bus to tccoutputGSM3665019/tmp/output.s.c.bus with whitelist tccoutputGSM3665019/10xv2_whitelist.txt\n",
            "[2021-03-19 07:08:29,362]    INFO Sorting BUS file tccoutputGSM3665019/tmp/output.s.c.bus to tccoutputGSM3665019/output.unfiltered.bus\n",
            "[2021-03-19 07:08:50,729]    INFO Generating count matrix tccoutputGSM3665019/counts_unfiltered/cells_x_tcc from BUS file tccoutputGSM3665019/output.unfiltered.bus\n",
            "[2021-03-19 07:09:37,724]    INFO Reading matrix tccoutputGSM3665019/counts_unfiltered/cells_x_tcc.mtx\n",
            "[2021-03-19 07:10:26,901]    INFO Writing matrix to h5ad tccoutputGSM3665019/counts_unfiltered/adata.h5ad\n",
            "[2021-03-19 07:14:29,098]    INFO Filtering with bustools\n",
            "[2021-03-19 07:14:29,098]    INFO Generating whitelist tccoutputGSM3665019/filter_barcodes.txt from BUS file tccoutputGSM3665019/output.unfiltered.bus\n",
            "[2021-03-19 07:14:29,399]    INFO Correcting BUS records in tccoutputGSM3665019/output.unfiltered.bus to tccoutputGSM3665019/tmp/output.unfiltered.c.bus with whitelist tccoutputGSM3665019/filter_barcodes.txt\n",
            "[2021-03-19 07:14:36,842]    INFO Sorting BUS file tccoutputGSM3665019/tmp/output.unfiltered.c.bus to tccoutputGSM3665019/output.filtered.bus\n",
            "[2021-03-19 07:15:04,230]    INFO Generating count matrix tccoutputGSM3665019/counts_filtered/cells_x_tcc from BUS file tccoutputGSM3665019/output.filtered.bus\n",
            "[2021-03-19 07:15:44,989]    INFO Reading matrix tccoutputGSM3665019/counts_filtered/cells_x_tcc.mtx\n",
            "[2021-03-19 07:16:30,485]    INFO Writing matrix to h5ad tccoutputGSM3665019/counts_filtered/adata.h5ad\n"
          ],
          "name": "stdout"
        },
        {
          "output_type": "stream",
          "text": [
            "Variable names are not unique. To make them unique, call `.var_names_make_unique`.\n"
          ],
          "name": "stderr"
        },
        {
          "output_type": "stream",
          "text": [
            "mkdir: cannot create directory ‘bus_raw_GSM3665019_from_gc’: File exists\n",
            "  adding: bus_raw_GSM3665019_from_gc/ (stored 0%)\n",
            "  adding: bus_raw_GSM3665019_from_gc/tcc_unfiltered/ (stored 0%)\n",
            "  adding: bus_raw_GSM3665019_from_gc/tcc_unfiltered/cells_x_tcc.mtx.gz (deflated 0%)\n",
            "  adding: bus_raw_GSM3665019_from_gc/tcc_unfiltered/cells_x_tcc.ec.txt.gz (deflated 1%)\n",
            "  adding: bus_raw_GSM3665019_from_gc/tcc_unfiltered/cells_x_tcc.barcodes.txt.gz (deflated 1%)\n",
            "  adding: bus_raw_GSM3665019_from_gc/tcc_unfiltered/adata.h5ad.gz (deflated 6%)\n",
            "  adding: bus_raw_GSM3665019_from_gc/kb_info.json (deflated 76%)\n",
            "  adding: bus_raw_GSM3665019_from_gc/run_info.json (deflated 49%)\n",
            "  adding: bus_raw_GSM3665019_from_gc/GSM3665019.unfiltered.bus.gz (deflated 4%)\n",
            "  adding: bus_raw_GSM3665019_from_gc/inspect.json (deflated 57%)\n"
          ],
          "name": "stdout"
        }
      ]
    },
    {
      "cell_type": "code",
      "metadata": {
        "id": "Z9IuVRlRH416"
      },
      "source": [
        ""
      ],
      "execution_count": null,
      "outputs": []
    },
    {
      "cell_type": "code",
      "metadata": {
        "id": "WhzPBRL9S-zJ"
      },
      "source": [
        "import time\n",
        "time.sleep(600000)"
      ],
      "execution_count": null,
      "outputs": []
    }
  ]
}