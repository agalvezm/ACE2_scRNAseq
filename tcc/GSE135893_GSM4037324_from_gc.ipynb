{
  "nbformat": 4,
  "nbformat_minor": 0,
  "metadata": {
    "colab": {
      "name": "GSE135893_GSM4037324.ipynb",
      "provenance": [],
      "collapsed_sections": [],
      "toc_visible": true,
      "include_colab_link": true
    },
    "kernelspec": {
      "name": "python3",
      "display_name": "Python 3"
    }
  },
  "cells": [
    {
      "cell_type": "markdown",
      "metadata": {
        "id": "view-in-github",
        "colab_type": "text"
      },
      "source": [
        "<a href=\"https://colab.research.google.com/github/agalvezm/ACE2_scRNAseq/blob/master/tcc/GSE135893_GSM4037324_from_gc.ipynb\" target=\"_parent\"><img src=\"https://colab.research.google.com/assets/colab-badge.svg\" alt=\"Open In Colab\"/></a>"
      ]
    },
    {
      "cell_type": "markdown",
      "metadata": {
        "id": "V9ryXluJsJw9"
      },
      "source": [
        "# GSE135893_GSM4037324"
      ]
    },
    {
      "cell_type": "markdown",
      "metadata": {
        "id": "lDiFADyTOZuA"
      },
      "source": [
        "This notebook uses the filtered count matrix resulting from the following google colab notebook. https://github.com/agalvezm/ACE2_scRNAseq/blob/master/notebooks_countmatrices/GSE135893_GSM4037324.ipynb Please run the notebook above and upload the results file in /content"
      ]
    },
    {
      "cell_type": "code",
      "metadata": {
        "id": "ggNFAQJCRh6P"
      },
      "source": [
        "# define the values for the analysis\n",
        "\n",
        "# accession id for the data\n",
        "id = \"GSE135893\"\n",
        "samp_id = [\"GSM4037324\"]\n",
        "\n",
        "# If only bam available files, set bam = True, Fill link and filename\n",
        "bam = False\n",
        "\n",
        "# If fastq links available but are not ffq links\n",
        "fastq_ffqlinks = False\n",
        "\n",
        "\n",
        "if bam:\n",
        "  # Assign link to python variable\n",
        "  link_to_bam = \"\"\n",
        "  \n",
        "  # Assigns the link to the bash variable BAM_LINK. To be used by wget\n",
        "  %env BAM_LINK=$link_to_bam\n",
        "\n",
        "  # Assign filename to python variable. Used to convert to fastq and remove bam file to fastq after conversion\n",
        "\n",
        "  bam_filename=\"\"\n",
        "\n",
        "\n",
        "if not bam:\n",
        "\n",
        "  # Copy and paste the links from the ACE2 scRNAseq datasets google  spreadsheet\n",
        "\n",
        "  links_raw = \"ftp://ftp.sra.ebi.ac.uk/vol1/fastq/SRR998/004/SRR9985494/SRR9985494_1.fastq.gz\tftp://ftp.sra.ebi.ac.uk/vol1/fastq/SRR998/004/SRR9985494/SRR9985494_2.fastq.gz\tftp://ftp.sra.ebi.ac.uk/vol1/fastq/SRR998/002/SRR9985492/SRR9985492_1.fastq.gz\tftp://ftp.sra.ebi.ac.uk/vol1/fastq/SRR998/002/SRR9985492/SRR9985492_2.fastq.gz\tftp://ftp.sra.ebi.ac.uk/vol1/fastq/SRR998/003/SRR9985493/SRR9985493_1.fastq.gz\tftp://ftp.sra.ebi.ac.uk/vol1/fastq/SRR998/003/SRR9985493/SRR9985493_2.fastq.gz\tftp://ftp.sra.ebi.ac.uk/vol1/fastq/SRR998/001/SRR9985441/SRR9985441_1.fastq.gz\tftp://ftp.sra.ebi.ac.uk/vol1/fastq/SRR998/001/SRR9985441/SRR9985441_2.fastq.gz\tftp://ftp.sra.ebi.ac.uk/vol1/fastq/SRR998/003/SRR9985443/SRR9985443_1.fastq.gz\tftp://ftp.sra.ebi.ac.uk/vol1/fastq/SRR998/003/SRR9985443/SRR9985443_2.fastq.gz\tftp://ftp.sra.ebi.ac.uk/vol1/fastq/SRR998/002/SRR9985442/SRR9985442_1.fastq.gz\tftp://ftp.sra.ebi.ac.uk/vol1/fastq/SRR998/002/SRR9985442/SRR9985442_2.fastq.gz\tftp://ftp.sra.ebi.ac.uk/vol1/fastq/SRR998/000/SRR9985440/SRR9985440_1.fastq.gz\tftp://ftp.sra.ebi.ac.uk/vol1/fastq/SRR998/000/SRR9985440/SRR9985440_2.fastq.gz\tftp://ftp.sra.ebi.ac.uk/vol1/fastq/SRR998/009/SRR9985439/SRR9985439_1.fastq.gz\tftp://ftp.sra.ebi.ac.uk/vol1/fastq/SRR998/009/SRR9985439/SRR9985439_2.fastq.gz\"\n",
        "\n",
        "  # Convert it to a list where each link is an element\n",
        "  \n",
        "  fastqs = links_raw.split()\n"
      ],
      "execution_count": null,
      "outputs": []
    },
    {
      "cell_type": "code",
      "metadata": {
        "id": "5R3tPDqnoJUn"
      },
      "source": [
        "no_samples = 1\n",
        "\n",
        "fastqs_per_sample = [4, 8, 8] \n",
        "\n",
        "sample_id = samp_id\n",
        "\n",
        "database_id = [id] * no_samples\n",
        "\n",
        "tissue = [\"lung\"] * no_samples\n",
        "\n",
        "cell_type = [\"lung biopsy (multiple locations)\"] * no_samples\n",
        "\n",
        "condition = [\"healthy\"] * no_samples\n",
        "\n",
        "species = [\"human\"] * no_samples\n",
        "\n",
        "technology = [\"10xv2\"] * no_samples\n",
        "\n",
        "paper = [\"Muus et al 2020\"] * no_samples\n",
        "\n",
        "figure = [\"Fig 1 c,d  Fig 4 e  ED Fig 11 a,c\"] * no_samples\n",
        "\n",
        "\n",
        "# Set string variables for kb functions\n",
        "\n",
        "species_kb = species[0]\n",
        "\n",
        "technology_kb = technology[0]\n",
        "\n"
      ],
      "execution_count": null,
      "outputs": []
    },
    {
      "cell_type": "markdown",
      "metadata": {
        "id": "FPwL0-_-KSAw"
      },
      "source": [
        "# Imports and installs"
      ]
    },
    {
      "cell_type": "code",
      "metadata": {
        "id": "1HSlUGZEp3oP",
        "colab": {
          "base_uri": "https://localhost:8080/"
        },
        "outputId": "081d1eea-326e-4fdd-bfb4-ba7f69598865"
      },
      "source": [
        "# install and import necessary software\n",
        "\n",
        "# Install kb and scanpy\n",
        "!pip -q install kb-python \n",
        "!pip -q install scanpy\n",
        "\n",
        "import re\n",
        "import os\n",
        "\n",
        "# Setup\n",
        "\n",
        "import anndata\n",
        "import pandas as pd\n",
        "import numpy as np\n",
        "import matplotlib.pyplot as plt\n",
        "import matplotlib as mpl\n",
        "import matplotlib.patches as mpatches\n",
        "import scanpy as sc\n",
        "from scipy import stats\n",
        "\n",
        "from collections import OrderedDict\n",
        "from sklearn.decomposition import TruncatedSVD\n",
        "from sklearn.manifold import TSNE\n",
        "from sklearn.preprocessing import scale\n",
        "\n",
        "from sklearn.cluster import KMeans\n",
        "from sklearn.preprocessing import normalize\n",
        "from sklearn.preprocessing import LabelEncoder\n",
        "from sklearn.neighbors import NeighborhoodComponentsAnalysis\n",
        "from matplotlib import cm\n",
        "from matplotlib.lines import Line2D\n",
        "\n",
        "def nd(arr):\n",
        "    return np.asarray(arr).reshape(-1)\n",
        "def yex(ax):\n",
        "    lims = [np.min([ax.get_xlim(), ax.get_ylim()]),\n",
        "            np.max([ax.get_xlim(), ax.get_ylim()])]\n",
        "\n",
        "    # now plot both limits against eachother\n",
        "    ax.plot(lims, lims, 'k-', alpha=0.75, zorder=0)\n",
        "    ax.set_aspect('equal')\n",
        "    ax.set_xlim(lims)\n",
        "    ax.set_ylim(lims)\n",
        "    return ax\n",
        "\n",
        "def trim_axs(axs, N):\n",
        "    \"\"\"little helper to massage the axs list to have correct length...\"\"\"\n",
        "    axs = axs.flat\n",
        "    for ax in axs[N:]:\n",
        "        ax.remove()\n",
        "    return axs[:N]\n",
        "\n",
        "import warnings\n",
        "warnings.filterwarnings('ignore')\n",
        "\n",
        "fsize=20\n",
        "\n",
        "plt.rcParams.update({'font.size': fsize})\n",
        "%config InlineBackend.figure_format = 'retina'"
      ],
      "execution_count": null,
      "outputs": [
        {
          "output_type": "stream",
          "text": [
            "\u001b[K     |████████████████████████████████| 59.1MB 73kB/s \n",
            "\u001b[K     |████████████████████████████████| 10.3MB 38.4MB/s \n",
            "\u001b[K     |████████████████████████████████| 122kB 56.2MB/s \n",
            "\u001b[K     |████████████████████████████████| 51kB 4.6MB/s \n",
            "\u001b[K     |████████████████████████████████| 13.2MB 35.8MB/s \n",
            "\u001b[K     |████████████████████████████████| 81kB 6.4MB/s \n",
            "\u001b[K     |████████████████████████████████| 112kB 51.0MB/s \n",
            "\u001b[K     |████████████████████████████████| 71kB 5.3MB/s \n",
            "\u001b[K     |████████████████████████████████| 51kB 3.1MB/s \n",
            "\u001b[K     |████████████████████████████████| 1.2MB 40.5MB/s \n",
            "\u001b[?25h  Building wheel for loompy (setup.py) ... \u001b[?25l\u001b[?25hdone\n",
            "  Building wheel for sinfo (setup.py) ... \u001b[?25l\u001b[?25hdone\n",
            "  Building wheel for umap-learn (setup.py) ... \u001b[?25l\u001b[?25hdone\n",
            "  Building wheel for numpy-groupies (setup.py) ... \u001b[?25l\u001b[?25hdone\n",
            "  Building wheel for pynndescent (setup.py) ... \u001b[?25l\u001b[?25hdone\n"
          ],
          "name": "stdout"
        }
      ]
    },
    {
      "cell_type": "markdown",
      "metadata": {
        "id": "7V6FbosVrvP4"
      },
      "source": [
        "# Downloads: (bam (if bam) and index"
      ]
    },
    {
      "cell_type": "code",
      "metadata": {
        "id": "q46hw4zqKUPS"
      },
      "source": [
        "if bam:\n",
        "\n",
        "  # Install bamtofastq from 10x website (only bam files available)\n",
        "  !wget http://cf.10xgenomics.com/misc/bamtofastq-1.2.0\n",
        "  !chmod +x bamtofastq-1.2.0\n",
        "  # Download the bam file\n",
        "  !wget -- continue ${BAM_LINK}\n",
        "\n",
        "\n"
      ],
      "execution_count": null,
      "outputs": []
    },
    {
      "cell_type": "code",
      "metadata": {
        "id": "tDQlrjtqNF0m"
      },
      "source": [
        "if bam:\n",
        "  # Convert to fastq\n",
        "  !./bamtofastq-1.2.0 --reads-per-fastq=500000000 $bam_filename ./fastqs\\\n",
        "\n",
        "  # Remove original bam file to save space\n",
        "  !rm $bam_filename\n"
      ],
      "execution_count": null,
      "outputs": []
    },
    {
      "cell_type": "code",
      "metadata": {
        "id": "SXRDRphvqcLe"
      },
      "source": [
        "# Store fastq names on a list\n",
        "\n",
        "if bam:\n",
        "  # cd into fastqs folder\n",
        "  %cd /content/fastqs\n",
        "\n",
        "  #store the name of the folder generated by bamtofastq\n",
        "  _filename = os.listdir()[0]\n",
        "\n",
        "  # cd into that folder\n",
        "  %cd $_filename\n",
        "\n",
        "  # store fastq names in a list\n",
        "  fastqs = os.listdir()\n",
        "\n",
        "\n",
        "  # Remove I1 and R3 reads not relevant for our analysis\n",
        "\n",
        "  # Initialize list containing elements to remove\n",
        "  remov_elem = []\n",
        "\n",
        "  print (\"\\n\\nThis is the complete list of fastqs:\\n -----------\")\n",
        "  for elem in fastqs:\n",
        "    print (elem)\n",
        "\n",
        "  # Search index (I1 or R3) fastqs and remove them from list\n",
        "  for elem in fastqs:\n",
        "    if re.search(\"_R3_\", elem) or re.search(\"_I1_\", elem):\n",
        "      remov_elem = remov_elem +[elem]\n",
        "\n",
        "  fastqs = [elem for elem in fastqs if elem not in remov_elem] \n",
        "\n",
        "  print (\"\\n\\nThis is the filtered list of fastqs:\\n -----------\")\n",
        "  for elem in fastqs:\n",
        "    print (elem)\n"
      ],
      "execution_count": null,
      "outputs": []
    },
    {
      "cell_type": "code",
      "metadata": {
        "id": "ZnFcqcSgjLBw"
      },
      "source": [
        "# Remove fastqs that wont be analyzed to save space\n",
        "if bam:\n",
        "  for elem in remov_elem:\n",
        "    !rm $elem"
      ],
      "execution_count": null,
      "outputs": []
    },
    {
      "cell_type": "code",
      "metadata": {
        "id": "FLVS8aB7Dm6J"
      },
      "source": [
        "if bam:\n",
        "  # sort fastqs alphabetically to get R1 and R2 in order\n",
        "  fastqs = sorted(fastqs)"
      ],
      "execution_count": null,
      "outputs": []
    },
    {
      "cell_type": "code",
      "metadata": {
        "id": "FE9gWbQgpBfR",
        "colab": {
          "base_uri": "https://localhost:8080/"
        },
        "outputId": "61d429a5-cb1b-4806-f8db-a216c28b98ad"
      },
      "source": [
        "# wget fastqs from non ffq links in fastqs folder\n",
        "if not bam and not fastq_ffqlinks:\n",
        "  !mkdir fastqs\n",
        "  %cd fastqs\n",
        "  for link in fastqs:\n",
        "    !wget $link --continue \n",
        "\n",
        "  # update fastqs variable with name of files\n",
        "  fastqs = sorted(os.listdir())"
      ],
      "execution_count": null,
      "outputs": [
        {
          "output_type": "stream",
          "text": [
            "/content/fastqs\n",
            "--2021-04-06 20:23:57--  ftp://ftp.sra.ebi.ac.uk/vol1/fastq/SRR998/004/SRR9985494/SRR9985494_1.fastq.gz\n",
            "           => ‘SRR9985494_1.fastq.gz’\n",
            "Resolving ftp.sra.ebi.ac.uk (ftp.sra.ebi.ac.uk)... 193.62.197.74\n",
            "Connecting to ftp.sra.ebi.ac.uk (ftp.sra.ebi.ac.uk)|193.62.197.74|:21... connected.\n",
            "Logging in as anonymous ... Logged in!\n",
            "==> SYST ... done.    ==> PWD ... done.\n",
            "==> TYPE I ... done.  ==> CWD (1) /vol1/fastq/SRR998/004/SRR9985494 ... done.\n",
            "==> SIZE SRR9985494_1.fastq.gz ... 623812004\n",
            "==> PASV ... done.    ==> RETR SRR9985494_1.fastq.gz ... done.\n",
            "Length: 623812004 (595M) (unauthoritative)\n",
            "\n",
            "SRR9985494_1.fastq. 100%[===================>] 594.91M  30.4MB/s    in 21s     \n",
            "\n",
            "2021-04-06 20:24:20 (27.8 MB/s) - ‘SRR9985494_1.fastq.gz’ saved [623812004]\n",
            "\n",
            "--2021-04-06 20:24:20--  ftp://ftp.sra.ebi.ac.uk/vol1/fastq/SRR998/004/SRR9985494/SRR9985494_2.fastq.gz\n",
            "           => ‘SRR9985494_2.fastq.gz’\n",
            "Resolving ftp.sra.ebi.ac.uk (ftp.sra.ebi.ac.uk)... 193.62.197.74\n",
            "Connecting to ftp.sra.ebi.ac.uk (ftp.sra.ebi.ac.uk)|193.62.197.74|:21... connected.\n",
            "Logging in as anonymous ... Logged in!\n",
            "==> SYST ... done.    ==> PWD ... done.\n",
            "==> TYPE I ... done.  ==> CWD (1) /vol1/fastq/SRR998/004/SRR9985494 ... done.\n",
            "==> SIZE SRR9985494_2.fastq.gz ... 632778606\n",
            "==> PASV ... done.    ==> RETR SRR9985494_2.fastq.gz ... done.\n",
            "Length: 632778606 (603M) (unauthoritative)\n",
            "\n",
            "SRR9985494_2.fastq. 100%[===================>] 603.46M  11.0MB/s    in 44s     \n",
            "\n",
            "2021-04-06 20:25:05 (13.9 MB/s) - ‘SRR9985494_2.fastq.gz’ saved [632778606]\n",
            "\n",
            "--2021-04-06 20:25:05--  ftp://ftp.sra.ebi.ac.uk/vol1/fastq/SRR998/002/SRR9985492/SRR9985492_1.fastq.gz\n",
            "           => ‘SRR9985492_1.fastq.gz’\n",
            "Resolving ftp.sra.ebi.ac.uk (ftp.sra.ebi.ac.uk)... 193.62.197.74\n",
            "Connecting to ftp.sra.ebi.ac.uk (ftp.sra.ebi.ac.uk)|193.62.197.74|:21... connected.\n",
            "Logging in as anonymous ... Logged in!\n",
            "==> SYST ... done.    ==> PWD ... done.\n",
            "==> TYPE I ... done.  ==> CWD (1) /vol1/fastq/SRR998/002/SRR9985492 ... done.\n",
            "==> SIZE SRR9985492_1.fastq.gz ... 556957254\n",
            "==> PASV ... done.    ==> RETR SRR9985492_1.fastq.gz ... done.\n",
            "Length: 556957254 (531M) (unauthoritative)\n",
            "\n",
            "SRR9985492_1.fastq. 100%[===================>] 531.16M  29.9MB/s    in 21s     \n",
            "\n",
            "2021-04-06 20:25:28 (24.7 MB/s) - ‘SRR9985492_1.fastq.gz’ saved [556957254]\n",
            "\n",
            "--2021-04-06 20:25:28--  ftp://ftp.sra.ebi.ac.uk/vol1/fastq/SRR998/002/SRR9985492/SRR9985492_2.fastq.gz\n",
            "           => ‘SRR9985492_2.fastq.gz’\n",
            "Resolving ftp.sra.ebi.ac.uk (ftp.sra.ebi.ac.uk)... 193.62.197.74\n",
            "Connecting to ftp.sra.ebi.ac.uk (ftp.sra.ebi.ac.uk)|193.62.197.74|:21... connected.\n",
            "Logging in as anonymous ... Logged in!\n",
            "==> SYST ... done.    ==> PWD ... done.\n",
            "==> TYPE I ... done.  ==> CWD (1) /vol1/fastq/SRR998/002/SRR9985492 ... done.\n",
            "==> SIZE SRR9985492_2.fastq.gz ... 555816381\n",
            "==> PASV ... done.    ==> RETR SRR9985492_2.fastq.gz ... done.\n",
            "Length: 555816381 (530M) (unauthoritative)\n",
            "\n",
            "SRR9985492_2.fastq. 100%[===================>] 530.07M  29.8MB/s    in 19s     \n",
            "\n",
            "2021-04-06 20:25:49 (27.9 MB/s) - ‘SRR9985492_2.fastq.gz’ saved [555816381]\n",
            "\n",
            "--2021-04-06 20:25:49--  ftp://ftp.sra.ebi.ac.uk/vol1/fastq/SRR998/003/SRR9985493/SRR9985493_1.fastq.gz\n",
            "           => ‘SRR9985493_1.fastq.gz’\n",
            "Resolving ftp.sra.ebi.ac.uk (ftp.sra.ebi.ac.uk)... 193.62.197.74\n",
            "Connecting to ftp.sra.ebi.ac.uk (ftp.sra.ebi.ac.uk)|193.62.197.74|:21... connected.\n",
            "Logging in as anonymous ... Logged in!\n",
            "==> SYST ... done.    ==> PWD ... done.\n",
            "==> TYPE I ... done.  ==> CWD (1) /vol1/fastq/SRR998/003/SRR9985493 ... done.\n",
            "==> SIZE SRR9985493_1.fastq.gz ... 627354119\n",
            "==> PASV ... done.    ==> RETR SRR9985493_1.fastq.gz ... done.\n",
            "Length: 627354119 (598M) (unauthoritative)\n",
            "\n",
            "SRR9985493_1.fastq. 100%[===================>] 598.29M  18.6MB/s    in 65s     \n",
            "\n",
            "2021-04-06 20:26:55 (9.26 MB/s) - ‘SRR9985493_1.fastq.gz’ saved [627354119]\n",
            "\n",
            "--2021-04-06 20:26:55--  ftp://ftp.sra.ebi.ac.uk/vol1/fastq/SRR998/003/SRR9985493/SRR9985493_2.fastq.gz\n",
            "           => ‘SRR9985493_2.fastq.gz’\n",
            "Resolving ftp.sra.ebi.ac.uk (ftp.sra.ebi.ac.uk)... 193.62.197.74\n",
            "Connecting to ftp.sra.ebi.ac.uk (ftp.sra.ebi.ac.uk)|193.62.197.74|:21... connected.\n",
            "Logging in as anonymous ... Logged in!\n",
            "==> SYST ... done.    ==> PWD ... done.\n",
            "==> TYPE I ... done.  ==> CWD (1) /vol1/fastq/SRR998/003/SRR9985493 ... done.\n",
            "==> SIZE SRR9985493_2.fastq.gz ... 639143136\n",
            "==> PASV ... done.    ==> RETR SRR9985493_2.fastq.gz ... done.\n",
            "Length: 639143136 (610M) (unauthoritative)\n",
            "\n",
            "SRR9985493_2.fastq. 100%[===================>] 609.53M  30.3MB/s    in 21s     \n",
            "\n",
            "2021-04-06 20:27:18 (28.4 MB/s) - ‘SRR9985493_2.fastq.gz’ saved [639143136]\n",
            "\n",
            "--2021-04-06 20:27:18--  ftp://ftp.sra.ebi.ac.uk/vol1/fastq/SRR998/001/SRR9985441/SRR9985441_1.fastq.gz\n",
            "           => ‘SRR9985441_1.fastq.gz’\n",
            "Resolving ftp.sra.ebi.ac.uk (ftp.sra.ebi.ac.uk)... 193.62.197.74\n",
            "Connecting to ftp.sra.ebi.ac.uk (ftp.sra.ebi.ac.uk)|193.62.197.74|:21... connected.\n",
            "Logging in as anonymous ... Logged in!\n",
            "==> SYST ... done.    ==> PWD ... done.\n",
            "==> TYPE I ... done.  ==> CWD (1) /vol1/fastq/SRR998/001/SRR9985441 ... done.\n",
            "==> SIZE SRR9985441_1.fastq.gz ... 630460149\n",
            "==> PASV ... done.    ==> RETR SRR9985441_1.fastq.gz ... done.\n",
            "Length: 630460149 (601M) (unauthoritative)\n",
            "\n",
            "SRR9985441_1.fastq. 100%[===================>] 601.25M  30.4MB/s    in 80s     \n",
            "\n",
            "2021-04-06 20:28:40 (7.51 MB/s) - ‘SRR9985441_1.fastq.gz’ saved [630460149]\n",
            "\n",
            "--2021-04-06 20:28:40--  ftp://ftp.sra.ebi.ac.uk/vol1/fastq/SRR998/001/SRR9985441/SRR9985441_2.fastq.gz\n",
            "           => ‘SRR9985441_2.fastq.gz’\n",
            "Resolving ftp.sra.ebi.ac.uk (ftp.sra.ebi.ac.uk)... 193.62.197.74\n",
            "Connecting to ftp.sra.ebi.ac.uk (ftp.sra.ebi.ac.uk)|193.62.197.74|:21... connected.\n",
            "Logging in as anonymous ... Logged in!\n",
            "==> SYST ... done.    ==> PWD ... done.\n",
            "==> TYPE I ... done.  ==> CWD (1) /vol1/fastq/SRR998/001/SRR9985441 ... done.\n",
            "==> SIZE SRR9985441_2.fastq.gz ... 637577048\n",
            "==> PASV ... done.    ==> RETR SRR9985441_2.fastq.gz ... done.\n",
            "Length: 637577048 (608M) (unauthoritative)\n",
            "\n",
            "SRR9985441_2.fastq. 100%[===================>] 608.04M  28.3MB/s    in 27s     \n",
            "\n",
            "2021-04-06 20:29:08 (22.7 MB/s) - ‘SRR9985441_2.fastq.gz’ saved [637577048]\n",
            "\n",
            "--2021-04-06 20:29:08--  ftp://ftp.sra.ebi.ac.uk/vol1/fastq/SRR998/003/SRR9985443/SRR9985443_1.fastq.gz\n",
            "           => ‘SRR9985443_1.fastq.gz’\n",
            "Resolving ftp.sra.ebi.ac.uk (ftp.sra.ebi.ac.uk)... 193.62.197.74\n",
            "Connecting to ftp.sra.ebi.ac.uk (ftp.sra.ebi.ac.uk)|193.62.197.74|:21... connected.\n",
            "Logging in as anonymous ... Logged in!\n",
            "==> SYST ... done.    ==> PWD ... done.\n",
            "==> TYPE I ... done.  ==> CWD (1) /vol1/fastq/SRR998/003/SRR9985443 ... done.\n",
            "==> SIZE SRR9985443_1.fastq.gz ... 559925378\n",
            "==> PASV ... done.    ==> RETR SRR9985443_1.fastq.gz ... done.\n",
            "Length: 559925378 (534M) (unauthoritative)\n",
            "\n",
            "SRR9985443_1.fastq. 100%[===================>] 533.99M  30.1MB/s    in 19s     \n",
            "\n",
            "2021-04-06 20:29:28 (28.1 MB/s) - ‘SRR9985443_1.fastq.gz’ saved [559925378]\n",
            "\n",
            "--2021-04-06 20:29:28--  ftp://ftp.sra.ebi.ac.uk/vol1/fastq/SRR998/003/SRR9985443/SRR9985443_2.fastq.gz\n",
            "           => ‘SRR9985443_2.fastq.gz’\n",
            "Resolving ftp.sra.ebi.ac.uk (ftp.sra.ebi.ac.uk)... 193.62.197.74\n",
            "Connecting to ftp.sra.ebi.ac.uk (ftp.sra.ebi.ac.uk)|193.62.197.74|:21... connected.\n",
            "Logging in as anonymous ... Logged in!\n",
            "==> SYST ... done.    ==> PWD ... done.\n",
            "==> TYPE I ... done.  ==> CWD (1) /vol1/fastq/SRR998/003/SRR9985443 ... done.\n",
            "==> SIZE SRR9985443_2.fastq.gz ... 561057304\n",
            "==> PASV ... done.    ==> RETR SRR9985443_2.fastq.gz ... done.\n",
            "Length: 561057304 (535M) (unauthoritative)\n",
            "\n",
            "SRR9985443_2.fastq. 100%[===================>] 535.07M  30.0MB/s    in 22s     \n",
            "\n",
            "2021-04-06 20:29:52 (24.1 MB/s) - ‘SRR9985443_2.fastq.gz’ saved [561057304]\n",
            "\n",
            "--2021-04-06 20:29:52--  ftp://ftp.sra.ebi.ac.uk/vol1/fastq/SRR998/002/SRR9985442/SRR9985442_1.fastq.gz\n",
            "           => ‘SRR9985442_1.fastq.gz’\n",
            "Resolving ftp.sra.ebi.ac.uk (ftp.sra.ebi.ac.uk)... 193.62.197.74\n",
            "Connecting to ftp.sra.ebi.ac.uk (ftp.sra.ebi.ac.uk)|193.62.197.74|:21... connected.\n",
            "Logging in as anonymous ... Logged in!\n",
            "==> SYST ... done.    ==> PWD ... done.\n",
            "==> TYPE I ... done.  ==> CWD (1) /vol1/fastq/SRR998/002/SRR9985442 ... done.\n",
            "==> SIZE SRR9985442_1.fastq.gz ... 628392080\n",
            "==> PASV ... done.    ==> RETR SRR9985442_1.fastq.gz ... done.\n",
            "Length: 628392080 (599M) (unauthoritative)\n",
            "\n",
            "SRR9985442_1.fastq. 100%[===================>] 599.28M  29.7MB/s    in 36s     \n",
            "\n",
            "2021-04-06 20:30:30 (16.6 MB/s) - ‘SRR9985442_1.fastq.gz’ saved [628392080]\n",
            "\n",
            "--2021-04-06 20:30:30--  ftp://ftp.sra.ebi.ac.uk/vol1/fastq/SRR998/002/SRR9985442/SRR9985442_2.fastq.gz\n",
            "           => ‘SRR9985442_2.fastq.gz’\n",
            "Resolving ftp.sra.ebi.ac.uk (ftp.sra.ebi.ac.uk)... 193.62.197.74\n",
            "Connecting to ftp.sra.ebi.ac.uk (ftp.sra.ebi.ac.uk)|193.62.197.74|:21... connected.\n",
            "Logging in as anonymous ... Logged in!\n",
            "==> SYST ... done.    ==> PWD ... done.\n",
            "==> TYPE I ... done.  ==> CWD (1) /vol1/fastq/SRR998/002/SRR9985442 ... done.\n",
            "==> SIZE SRR9985442_2.fastq.gz ... 633504745\n",
            "==> PASV ... done.    ==> RETR SRR9985442_2.fastq.gz ... done.\n",
            "Length: 633504745 (604M) (unauthoritative)\n",
            "\n",
            "SRR9985442_2.fastq. 100%[===================>] 604.16M  30.4MB/s    in 27s     \n",
            "\n",
            "2021-04-06 20:30:58 (22.6 MB/s) - ‘SRR9985442_2.fastq.gz’ saved [633504745]\n",
            "\n",
            "--2021-04-06 20:30:58--  ftp://ftp.sra.ebi.ac.uk/vol1/fastq/SRR998/000/SRR9985440/SRR9985440_1.fastq.gz\n",
            "           => ‘SRR9985440_1.fastq.gz’\n",
            "Resolving ftp.sra.ebi.ac.uk (ftp.sra.ebi.ac.uk)... 193.62.197.74\n",
            "Connecting to ftp.sra.ebi.ac.uk (ftp.sra.ebi.ac.uk)|193.62.197.74|:21... connected.\n",
            "Logging in as anonymous ... Logged in!\n",
            "==> SYST ... done.    ==> PWD ... done.\n",
            "==> TYPE I ... done.  ==> CWD (1) /vol1/fastq/SRR998/000/SRR9985440 ... done.\n",
            "==> SIZE SRR9985440_1.fastq.gz ... 637614081\n",
            "==> PASV ... done.    ==> RETR SRR9985440_1.fastq.gz ... done.\n",
            "Length: 637614081 (608M) (unauthoritative)\n",
            "\n",
            "SRR9985440_1.fastq. 100%[===================>] 608.08M  22.6MB/s    in 24s     \n",
            "\n",
            "2021-04-06 20:31:24 (25.5 MB/s) - ‘SRR9985440_1.fastq.gz’ saved [637614081]\n",
            "\n",
            "--2021-04-06 20:31:24--  ftp://ftp.sra.ebi.ac.uk/vol1/fastq/SRR998/000/SRR9985440/SRR9985440_2.fastq.gz\n",
            "           => ‘SRR9985440_2.fastq.gz’\n",
            "Resolving ftp.sra.ebi.ac.uk (ftp.sra.ebi.ac.uk)... 193.62.197.74\n",
            "Connecting to ftp.sra.ebi.ac.uk (ftp.sra.ebi.ac.uk)|193.62.197.74|:21... connected.\n",
            "Logging in as anonymous ... Logged in!\n",
            "==> SYST ... done.    ==> PWD ... done.\n",
            "==> TYPE I ... done.  ==> CWD (1) /vol1/fastq/SRR998/000/SRR9985440 ... done.\n",
            "==> SIZE SRR9985440_2.fastq.gz ... 646287773\n",
            "==> PASV ... done.    ==> RETR SRR9985440_2.fastq.gz ... done.\n",
            "Length: 646287773 (616M) (unauthoritative)\n",
            "\n",
            "SRR9985440_2.fastq. 100%[===================>] 616.35M  24.6MB/s    in 43s     \n",
            "\n",
            "2021-04-06 20:32:09 (14.2 MB/s) - ‘SRR9985440_2.fastq.gz’ saved [646287773]\n",
            "\n",
            "--2021-04-06 20:32:09--  ftp://ftp.sra.ebi.ac.uk/vol1/fastq/SRR998/009/SRR9985439/SRR9985439_1.fastq.gz\n",
            "           => ‘SRR9985439_1.fastq.gz’\n",
            "Resolving ftp.sra.ebi.ac.uk (ftp.sra.ebi.ac.uk)... 193.62.197.74\n",
            "Connecting to ftp.sra.ebi.ac.uk (ftp.sra.ebi.ac.uk)|193.62.197.74|:21... connected.\n",
            "Logging in as anonymous ... Logged in!\n",
            "==> SYST ... done.    ==> PWD ... done.\n",
            "==> TYPE I ... done.  ==> CWD (1) /vol1/fastq/SRR998/009/SRR9985439 ... done.\n",
            "==> SIZE SRR9985439_1.fastq.gz ... 638130185\n",
            "==> PASV ... done.    ==> RETR SRR9985439_1.fastq.gz ... done.\n",
            "Length: 638130185 (609M) (unauthoritative)\n",
            "\n",
            "SRR9985439_1.fastq. 100%[===================>] 608.57M  30.1MB/s    in 34s     \n",
            "\n",
            "2021-04-06 20:32:44 (17.8 MB/s) - ‘SRR9985439_1.fastq.gz’ saved [638130185]\n",
            "\n",
            "--2021-04-06 20:32:45--  ftp://ftp.sra.ebi.ac.uk/vol1/fastq/SRR998/009/SRR9985439/SRR9985439_2.fastq.gz\n",
            "           => ‘SRR9985439_2.fastq.gz’\n",
            "Resolving ftp.sra.ebi.ac.uk (ftp.sra.ebi.ac.uk)... 193.62.197.74\n",
            "Connecting to ftp.sra.ebi.ac.uk (ftp.sra.ebi.ac.uk)|193.62.197.74|:21... connected.\n",
            "Logging in as anonymous ... Logged in!\n",
            "==> SYST ... done.    ==> PWD ... done.\n",
            "==> TYPE I ... done.  ==> CWD (1) /vol1/fastq/SRR998/009/SRR9985439 ... done.\n",
            "==> SIZE SRR9985439_2.fastq.gz ... 649284488\n",
            "==> PASV ... done.    ==> RETR SRR9985439_2.fastq.gz ... done.\n",
            "Length: 649284488 (619M) (unauthoritative)\n",
            "\n",
            "SRR9985439_2.fastq. 100%[===================>] 619.21M  29.8MB/s    in 22s     \n",
            "\n",
            "2021-04-06 20:33:08 (27.9 MB/s) - ‘SRR9985439_2.fastq.gz’ saved [649284488]\n",
            "\n"
          ],
          "name": "stdout"
        }
      ]
    },
    {
      "cell_type": "code",
      "metadata": {
        "id": "PC9oETW1pE9t",
        "colab": {
          "base_uri": "https://localhost:8080/"
        },
        "outputId": "3876c078-78fb-4b3b-939c-f4286a81151c"
      },
      "source": [
        "if bam:\n",
        "  # Download the corresponding Kallisto index to folder containing fastqs\n",
        "  !kb ref -d $species_kb -i index.idx -g t2g.txt -f1 transcriptome.fasta\n",
        "\n",
        "if not bam and fastq_ffqlinks:\n",
        "  %cd /content\n",
        "\n",
        "  # Download the corresponding Kallisto index to content folder\n",
        "  !kb ref -d $species_kb -i index.idx -g t2g.txt -f1 transcriptome.fasta\n",
        "\n",
        "if not bam and not fastq_ffqlinks:\n",
        "  %cd /content/fastqs\n",
        "\n",
        "  # Download the corresponding Kallisto index to fastq folder\n",
        "  !kb ref -d $species_kb -i index.idx -g t2g.txt -f1 transcriptome.fasta"
      ],
      "execution_count": null,
      "outputs": [
        {
          "output_type": "stream",
          "text": [
            "/content/fastqs\n",
            "[2021-04-06 20:33:10,989]    INFO Downloading files for human from https://caltech.box.com/shared/static/v1nm7lpnqz5syh8dyzdk2zs8bglncfib.gz to tmp/v1nm7lpnqz5syh8dyzdk2zs8bglncfib.gz\n",
            "100% 2.23G/2.23G [01:29<00:00, 26.7MB/s]\n",
            "[2021-04-06 20:34:41,725]    INFO Extracting files from tmp/v1nm7lpnqz5syh8dyzdk2zs8bglncfib.gz\n"
          ],
          "name": "stdout"
        }
      ]
    },
    {
      "cell_type": "code",
      "metadata": {
        "id": "vHVNa51Cp9Nr",
        "colab": {
          "base_uri": "https://localhost:8080/"
        },
        "outputId": "d99d3c75-5c18-4032-e278-bbc84de4e993"
      },
      "source": [
        "# Check to make sure the metadata is in the right order after sorting\n",
        "print(fastqs)"
      ],
      "execution_count": null,
      "outputs": [
        {
          "output_type": "stream",
          "text": [
            "['SRR9985439_1.fastq.gz', 'SRR9985439_2.fastq.gz', 'SRR9985440_1.fastq.gz', 'SRR9985440_2.fastq.gz', 'SRR9985441_1.fastq.gz', 'SRR9985441_2.fastq.gz', 'SRR9985442_1.fastq.gz', 'SRR9985442_2.fastq.gz', 'SRR9985443_1.fastq.gz', 'SRR9985443_2.fastq.gz', 'SRR9985492_1.fastq.gz', 'SRR9985492_2.fastq.gz', 'SRR9985493_1.fastq.gz', 'SRR9985493_2.fastq.gz', 'SRR9985494_1.fastq.gz', 'SRR9985494_2.fastq.gz']\n"
          ],
          "name": "stdout"
        }
      ]
    },
    {
      "cell_type": "markdown",
      "metadata": {
        "id": "VInyuq1Dp7iz"
      },
      "source": [
        "# Process fastq files (modify kb command according to fastqs list)\n"
      ]
    },
    {
      "cell_type": "code",
      "metadata": {
        "id": "OcqtBuH-pRaX",
        "colab": {
          "base_uri": "https://localhost:8080/"
        },
        "outputId": "524b7b60-481b-4117-8ba1-b3c7f8e89efc"
      },
      "source": [
        "fastqs"
      ],
      "execution_count": null,
      "outputs": [
        {
          "output_type": "execute_result",
          "data": {
            "text/plain": [
              "['SRR9985439_1.fastq.gz',\n",
              " 'SRR9985439_2.fastq.gz',\n",
              " 'SRR9985440_1.fastq.gz',\n",
              " 'SRR9985440_2.fastq.gz',\n",
              " 'SRR9985441_1.fastq.gz',\n",
              " 'SRR9985441_2.fastq.gz',\n",
              " 'SRR9985442_1.fastq.gz',\n",
              " 'SRR9985442_2.fastq.gz',\n",
              " 'SRR9985443_1.fastq.gz',\n",
              " 'SRR9985443_2.fastq.gz',\n",
              " 'SRR9985492_1.fastq.gz',\n",
              " 'SRR9985492_2.fastq.gz',\n",
              " 'SRR9985493_1.fastq.gz',\n",
              " 'SRR9985493_2.fastq.gz',\n",
              " 'SRR9985494_1.fastq.gz',\n",
              " 'SRR9985494_2.fastq.gz']"
            ]
          },
          "metadata": {
            "tags": []
          },
          "execution_count": 12
        }
      ]
    },
    {
      "cell_type": "code",
      "metadata": {
        "id": "5qFzPj-0kZTi",
        "colab": {
          "base_uri": "https://localhost:8080/"
        },
        "outputId": "e03765cd-9aa4-4199-f4bc-513250957f13"
      },
      "source": [
        "if no_samples == 1:\n",
        "\n",
        "  # Write the kb count command as a string with all fastqs of the list as an input\n",
        "  cmd = \"kb count --h5ad -i index.idx -g t2g.txt -x \" + technology_kb + \" -o tccoutput\" + sample_id[0] + \" \"\\\n",
        "  + \"--filter bustools --tcc -t 2 --overwrite \" + \"'\" +  \"' '\".join(fastqs) + \"'\"\n",
        "  \n",
        "  # Execute it\n",
        "  !$cmd\n",
        "\n",
        "# If more than one sample, iterate through fastqs accordingly\n",
        "else:\n",
        "\n",
        "  # Initializa counter for fastq files\n",
        "  j = 0\n",
        "\n",
        "  # Loop over samples for analysis\n",
        "  for i in range(no_samples):\n",
        "\n",
        "    fastqs_to_analyze = fastqs[j:j + fastqs_per_sample[i]]\n",
        "    # Write the kb count command as a string\n",
        "    cmd = \"kb count --h5ad -i ../index.idx -g ../t2g.txt -x \" + technology_kb + \" -o tccoutput\" + sample_id[i] + \" \\\n",
        "    --filter bustools --tcc -t 2 --overwrite \" + \"'\" +  \"' '\".join(fastqs_to_analyze) + \"'\"\n",
        "\n",
        "    # Execute it\n",
        "    !$cmd\n",
        "\n",
        "    # Update j to move to the next set of fastq\n",
        "    j = j + fastqs_per_sample[i]\n",
        "\n",
        "\n",
        "\n",
        "\n",
        "\n",
        "\n",
        "results = {}\n",
        "tcc_results = {}\n",
        "for sample in sample_id:\n",
        "  # Read the filtered gene count matrix\n",
        "  results[\"data_\" + sample] = anndata.read(\"/content/result\" + sample)\n",
        "\n",
        "\n",
        "for sample in sample_id:\n",
        "  output = \"bus_raw_\" + sample + \"_from_gc\"\n",
        "  !mkdir $output\n",
        "  folder_tcc = \"tccoutput\" + sample\n",
        "\n",
        "  # read tcc matrix\n",
        "  tcc_results[sample] = anndata.read(folder_tcc + \"/counts_unfiltered/adata.h5ad\")\n",
        "  # apply gene count matrix's filter\n",
        "  tcc_results[sample] = tcc_results[sample][results[\"data_\" + sample].obs.index.values]\n",
        "  # transfer obs data\n",
        "  tcc_results[sample].obs = results[\"data_\" + sample].obs\n",
        "  # transfer metadata\n",
        "  tcc_results[sample].uns = results[\"data_\" + sample].uns\n",
        "  # write tcc matrix\n",
        "  tcc_results[sample].write(\"/content/tcc_\" + sample)\n",
        "  #gzip tcc matrix\n",
        "  cmd = \"gzip /content/tcc_\" + sample\n",
        "  !$cmd\n",
        "  #gzip unfiltered bus file\n",
        "  cmd = \"gzip \" + folder_tcc + \"/output.unfiltered.bus\"\n",
        "  !$cmd\n",
        "  # move and re-name bus file with sample id\n",
        "  cmd = \"mv \" + folder_tcc + \"/output.unfiltered.bus.gz \" + output + \"/\" + sample +\".unfiltered.bus.gz\"\n",
        "  !$cmd\n",
        "  # gzip all unfiltered counts\n",
        "  cmd = \"gzip \" + folder_tcc + \"/counts_unfiltered/*\"\n",
        "  !$cmd\n",
        "\n",
        "  # move unfiltered counts for both\n",
        "  cmd = \"mv \" + folder_tcc + \"/counts_unfiltered \" + output + \"/tcc_unfiltered\"\n",
        "  !$cmd\n",
        "\n",
        "  cmd = \"mv \" + folder_tcc + \"/*.json \" + output \n",
        "  !$cmd\n",
        "  # zip all files\n",
        "  cmd = \"zip -r \"+ output + \".zip \" + output\n",
        "  !$cmd\n",
        "\n",
        "\n",
        "import time\n",
        "time.sleep(60000000)"
      ],
      "execution_count": null,
      "outputs": [
        {
          "output_type": "stream",
          "text": [
            "[2021-04-06 20:35:21,190]    INFO Using index index.idx to generate BUS file to tccoutputGSM4037324 from\n",
            "[2021-04-06 20:35:21,191]    INFO         SRR9985439_1.fastq.gz\n",
            "[2021-04-06 20:35:21,191]    INFO         SRR9985439_2.fastq.gz\n",
            "[2021-04-06 20:35:21,191]    INFO         SRR9985440_1.fastq.gz\n",
            "[2021-04-06 20:35:21,191]    INFO         SRR9985440_2.fastq.gz\n",
            "[2021-04-06 20:35:21,191]    INFO         SRR9985441_1.fastq.gz\n",
            "[2021-04-06 20:35:21,191]    INFO         SRR9985441_2.fastq.gz\n",
            "[2021-04-06 20:35:21,191]    INFO         SRR9985442_1.fastq.gz\n",
            "[2021-04-06 20:35:21,191]    INFO         SRR9985442_2.fastq.gz\n",
            "[2021-04-06 20:35:21,191]    INFO         SRR9985443_1.fastq.gz\n",
            "[2021-04-06 20:35:21,191]    INFO         SRR9985443_2.fastq.gz\n",
            "[2021-04-06 20:35:21,191]    INFO         SRR9985492_1.fastq.gz\n",
            "[2021-04-06 20:35:21,191]    INFO         SRR9985492_2.fastq.gz\n",
            "[2021-04-06 20:35:21,191]    INFO         SRR9985493_1.fastq.gz\n",
            "[2021-04-06 20:35:21,191]    INFO         SRR9985493_2.fastq.gz\n",
            "[2021-04-06 20:35:21,191]    INFO         SRR9985494_1.fastq.gz\n",
            "[2021-04-06 20:35:21,191]    INFO         SRR9985494_2.fastq.gz\n",
            "[2021-04-06 20:51:20,785]    INFO Sorting BUS file tccoutputGSM4037324/output.bus to tccoutputGSM4037324/tmp/output.s.bus\n",
            "[2021-04-06 20:52:22,665]    INFO Whitelist not provided\n",
            "[2021-04-06 20:52:22,665]    INFO Copying pre-packaged 10XV2 whitelist to tccoutputGSM4037324\n",
            "[2021-04-06 20:52:22,812]    INFO Inspecting BUS file tccoutputGSM4037324/tmp/output.s.bus\n",
            "[2021-04-06 20:52:46,410]    INFO Correcting BUS records in tccoutputGSM4037324/tmp/output.s.bus to tccoutputGSM4037324/tmp/output.s.c.bus with whitelist tccoutputGSM4037324/10xv2_whitelist.txt\n",
            "[2021-04-06 20:53:02,592]    INFO Sorting BUS file tccoutputGSM4037324/tmp/output.s.c.bus to tccoutputGSM4037324/output.unfiltered.bus\n",
            "[2021-04-06 20:54:03,248]    INFO Generating count matrix tccoutputGSM4037324/counts_unfiltered/cells_x_tcc from BUS file tccoutputGSM4037324/output.unfiltered.bus\n",
            "[2021-04-06 20:55:00,203]    INFO Reading matrix tccoutputGSM4037324/counts_unfiltered/cells_x_tcc.mtx\n",
            "[2021-04-06 20:55:43,108]    INFO Writing matrix to h5ad tccoutputGSM4037324/counts_unfiltered/adata.h5ad\n",
            "[2021-04-06 20:56:57,424]    INFO Filtering with bustools\n",
            "[2021-04-06 20:56:57,424]    INFO Generating whitelist tccoutputGSM4037324/filter_barcodes.txt from BUS file tccoutputGSM4037324/output.unfiltered.bus\n",
            "[2021-04-06 20:56:57,959]    INFO Correcting BUS records in tccoutputGSM4037324/output.unfiltered.bus to tccoutputGSM4037324/tmp/output.unfiltered.c.bus with whitelist tccoutputGSM4037324/filter_barcodes.txt\n",
            "[2021-04-06 20:57:11,291]    INFO Sorting BUS file tccoutputGSM4037324/tmp/output.unfiltered.c.bus to tccoutputGSM4037324/output.filtered.bus\n",
            "[2021-04-06 20:58:04,545]    INFO Generating count matrix tccoutputGSM4037324/counts_filtered/cells_x_tcc from BUS file tccoutputGSM4037324/output.filtered.bus\n",
            "[2021-04-06 20:58:44,658]    INFO Reading matrix tccoutputGSM4037324/counts_filtered/cells_x_tcc.mtx\n",
            "[2021-04-06 20:59:19,424]    INFO Writing matrix to h5ad tccoutputGSM4037324/counts_filtered/adata.h5ad\n"
          ],
          "name": "stdout"
        },
        {
          "output_type": "stream",
          "text": [
            "Variable names are not unique. To make them unique, call `.var_names_make_unique`.\n"
          ],
          "name": "stderr"
        },
        {
          "output_type": "stream",
          "text": [
            "  adding: bus_raw_GSM4037324_from_gc/ (stored 0%)\n",
            "  adding: bus_raw_GSM4037324_from_gc/run_info.json (deflated 58%)\n",
            "  adding: bus_raw_GSM4037324_from_gc/inspect.json (deflated 57%)\n",
            "  adding: bus_raw_GSM4037324_from_gc/GSM4037324.unfiltered.bus.gz (deflated 4%)\n",
            "  adding: bus_raw_GSM4037324_from_gc/kb_info.json (deflated 78%)\n",
            "  adding: bus_raw_GSM4037324_from_gc/tcc_unfiltered/ (stored 0%)\n",
            "  adding: bus_raw_GSM4037324_from_gc/tcc_unfiltered/adata.h5ad.gz (deflated 6%)\n",
            "  adding: bus_raw_GSM4037324_from_gc/tcc_unfiltered/cells_x_tcc.mtx.gz (deflated 0%)\n",
            "  adding: bus_raw_GSM4037324_from_gc/tcc_unfiltered/cells_x_tcc.barcodes.txt.gz (deflated 1%)\n",
            "  adding: bus_raw_GSM4037324_from_gc/tcc_unfiltered/cells_x_tcc.ec.txt.gz (deflated 3%)\n"
          ],
          "name": "stdout"
        }
      ]
    }
  ]
}