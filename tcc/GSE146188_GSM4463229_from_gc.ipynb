{
  "nbformat": 4,
  "nbformat_minor": 0,
  "metadata": {
    "colab": {
      "name": "GSE146188_GSM4463229.ipynb",
      "provenance": [],
      "collapsed_sections": [],
      "toc_visible": true,
      "include_colab_link": true
    },
    "kernelspec": {
      "name": "python3",
      "display_name": "Python 3"
    }
  },
  "cells": [
    {
      "cell_type": "markdown",
      "metadata": {
        "id": "view-in-github",
        "colab_type": "text"
      },
      "source": [
        "<a href=\"https://colab.research.google.com/github/agalvezm/ACE2_scRNAseq/blob/master/tcc/GSE146188_GSM4463229_from_gc.ipynb\" target=\"_parent\"><img src=\"https://colab.research.google.com/assets/colab-badge.svg\" alt=\"Open In Colab\"/></a>"
      ]
    },
    {
      "cell_type": "markdown",
      "metadata": {
        "id": "V9ryXluJsJw9"
      },
      "source": [
        "# GSE146188_GSM4463229"
      ]
    },
    {
      "cell_type": "markdown",
      "metadata": {
        "id": "0aE7LhoyUoOw"
      },
      "source": [
        "This notebook uses the filtered count matrix resulting from the following google colab notebook. https://github.com/agalvezm/ACE2_scRNAseq/blob/master/notebooks_countmatrices/GSE146188_GSM4463229.ipynb Please run the notebook above and upload the results file in /content"
      ]
    },
    {
      "cell_type": "code",
      "metadata": {
        "id": "ggNFAQJCRh6P",
        "colab": {
          "base_uri": "https://localhost:8080/"
        },
        "outputId": "8754bf4f-b7af-47a2-f937-b972d8c1b301"
      },
      "source": [
        "# define the values for the analysis\n",
        "\n",
        "# accession id for the data\n",
        "id = \"GSE146188\"\n",
        "samp_id = [\"GSM4463229\"]\n",
        "\n",
        "# If only bam available files, set bam = True, Fill link and filename\n",
        "bam = True\n",
        "\n",
        "# If fastq links available but are not ffq links\n",
        "fastq_ffqlinks = False\n",
        "\n",
        "\n",
        "if bam:\n",
        "  # Assign link to python variable\n",
        "  link_to_bam = \"https://sra-download.ncbi.nlm.nih.gov/traces/sra0/SRZ/011518/SRR11518611/H2TMS1.bam\"\n",
        "  \n",
        "  # Assigns the link to the bash variable BAM_LINK. To be used by wget\n",
        "  %env BAM_LINK=$link_to_bam\n",
        "\n",
        "  # Assign filename to python variable. Used to convert to fastq and remove bam file to fastq after conversion\n",
        "\n",
        "  bam_filename=\"H2TMS1.bam\"\n",
        "\n",
        "\n",
        "if not bam:\n",
        "\n",
        "  # Copy and paste the links from the ACE2 scRNAseq datasets google  spreadsheet\n",
        "\n",
        "  links_raw = \"\"\n",
        "\n",
        "  # Convert it to a list where each link is an element\n",
        "  \n",
        "  fastqs = links_raw.split()\n"
      ],
      "execution_count": 1,
      "outputs": [
        {
          "output_type": "stream",
          "text": [
            "env: BAM_LINK=https://sra-download.ncbi.nlm.nih.gov/traces/sra0/SRZ/011518/SRR11518611/H2TMS1.bam\n"
          ],
          "name": "stdout"
        }
      ]
    },
    {
      "cell_type": "code",
      "metadata": {
        "id": "5R3tPDqnoJUn"
      },
      "source": [
        "no_samples = 1\n",
        "\n",
        "fastqs_per_sample = [4, 8, 8] \n",
        "\n",
        "sample_id = samp_id\n",
        "\n",
        "database_id = [id] * no_samples\n",
        "\n",
        "tissue = [\"eye\"] * no_samples\n",
        "\n",
        "cell_type = [\"human trabecular meshwork\"] * no_samples\n",
        "\n",
        "condition = [\"None\"] * no_samples\n",
        "\n",
        "species = [\"human\"] * no_samples\n",
        "\n",
        "technology = [\"10xv2\"] * no_samples\n",
        "\n",
        "paper = [\"Muus et al 2020\"] * no_samples\n",
        "\n",
        "figure = [\"Fig 1 c,d\"] * no_samples\n",
        "\n",
        "\n",
        "# Set string variables for kb functions\n",
        "\n",
        "species_kb = species[0]\n",
        "\n",
        "technology_kb = technology[0]\n",
        "\n"
      ],
      "execution_count": 2,
      "outputs": []
    },
    {
      "cell_type": "markdown",
      "metadata": {
        "id": "FPwL0-_-KSAw"
      },
      "source": [
        "# Imports and installs"
      ]
    },
    {
      "cell_type": "code",
      "metadata": {
        "id": "1HSlUGZEp3oP",
        "colab": {
          "base_uri": "https://localhost:8080/"
        },
        "outputId": "5f01ab83-7888-4e3e-8acf-6c3aeca91232"
      },
      "source": [
        "# install and import necessary software\n",
        "\n",
        "# Install kb and scanpy\n",
        "!pip -q install kb-python \n",
        "!pip -q install scanpy\n",
        "\n",
        "import re\n",
        "import os\n",
        "\n",
        "# Setup\n",
        "\n",
        "import anndata\n",
        "import pandas as pd\n",
        "import numpy as np\n",
        "import matplotlib.pyplot as plt\n",
        "import matplotlib as mpl\n",
        "import matplotlib.patches as mpatches\n",
        "import scanpy as sc\n",
        "from scipy import stats\n",
        "\n",
        "from collections import OrderedDict\n",
        "from sklearn.decomposition import TruncatedSVD\n",
        "from sklearn.manifold import TSNE\n",
        "from sklearn.preprocessing import scale\n",
        "\n",
        "from sklearn.cluster import KMeans\n",
        "from sklearn.preprocessing import normalize\n",
        "from sklearn.preprocessing import LabelEncoder\n",
        "from sklearn.neighbors import NeighborhoodComponentsAnalysis\n",
        "from matplotlib import cm\n",
        "from matplotlib.lines import Line2D\n",
        "\n",
        "def nd(arr):\n",
        "    return np.asarray(arr).reshape(-1)\n",
        "def yex(ax):\n",
        "    lims = [np.min([ax.get_xlim(), ax.get_ylim()]),\n",
        "            np.max([ax.get_xlim(), ax.get_ylim()])]\n",
        "\n",
        "    # now plot both limits against eachother\n",
        "    ax.plot(lims, lims, 'k-', alpha=0.75, zorder=0)\n",
        "    ax.set_aspect('equal')\n",
        "    ax.set_xlim(lims)\n",
        "    ax.set_ylim(lims)\n",
        "    return ax\n",
        "\n",
        "def trim_axs(axs, N):\n",
        "    \"\"\"little helper to massage the axs list to have correct length...\"\"\"\n",
        "    axs = axs.flat\n",
        "    for ax in axs[N:]:\n",
        "        ax.remove()\n",
        "    return axs[:N]\n",
        "\n",
        "import warnings\n",
        "warnings.filterwarnings('ignore')\n",
        "\n",
        "fsize=20\n",
        "\n",
        "plt.rcParams.update({'font.size': fsize})\n",
        "%config InlineBackend.figure_format = 'retina'"
      ],
      "execution_count": 3,
      "outputs": [
        {
          "output_type": "stream",
          "text": [
            "\u001b[K     |████████████████████████████████| 59.1MB 75kB/s \n",
            "\u001b[K     |████████████████████████████████| 122kB 30.5MB/s \n",
            "\u001b[K     |████████████████████████████████| 10.3MB 34.6MB/s \n",
            "\u001b[K     |████████████████████████████████| 13.2MB 43.9MB/s \n",
            "\u001b[K     |████████████████████████████████| 51kB 4.5MB/s \n",
            "\u001b[K     |████████████████████████████████| 112kB 33.5MB/s \n",
            "\u001b[K     |████████████████████████████████| 51kB 5.1MB/s \n",
            "\u001b[K     |████████████████████████████████| 71kB 6.7MB/s \n",
            "\u001b[?25h  Building wheel for loompy (setup.py) ... \u001b[?25l\u001b[?25hdone\n",
            "  Building wheel for sinfo (setup.py) ... \u001b[?25l\u001b[?25hdone\n",
            "  Building wheel for numpy-groupies (setup.py) ... \u001b[?25l\u001b[?25hdone\n"
          ],
          "name": "stdout"
        }
      ]
    },
    {
      "cell_type": "markdown",
      "metadata": {
        "id": "7V6FbosVrvP4"
      },
      "source": [
        "# Downloads: (bam (if bam) and index"
      ]
    },
    {
      "cell_type": "code",
      "metadata": {
        "id": "q46hw4zqKUPS",
        "colab": {
          "base_uri": "https://localhost:8080/"
        },
        "outputId": "a14dbe09-4c7a-4672-e857-aaf394cf45cd"
      },
      "source": [
        "if bam:\n",
        "\n",
        "  # Install bamtofastq from 10x website (only bam files available)\n",
        "  !wget http://cf.10xgenomics.com/misc/bamtofastq-1.2.0\n",
        "  !chmod +x bamtofastq-1.2.0\n",
        "  # Download the bam file\n",
        "  !wget -- continue ${BAM_LINK}\n",
        "\n",
        "\n"
      ],
      "execution_count": 4,
      "outputs": [
        {
          "output_type": "stream",
          "text": [
            "--2021-03-19 17:18:03--  http://cf.10xgenomics.com/misc/bamtofastq-1.2.0\n",
            "Resolving cf.10xgenomics.com (cf.10xgenomics.com)... 104.18.1.173, 104.18.0.173, 2606:4700::6812:ad, ...\n",
            "Connecting to cf.10xgenomics.com (cf.10xgenomics.com)|104.18.1.173|:80... connected.\n",
            "HTTP request sent, awaiting response... 301 Moved Permanently\n",
            "Location: https://cf.10xgenomics.com/misc/bamtofastq-1.2.0 [following]\n",
            "--2021-03-19 17:18:03--  https://cf.10xgenomics.com/misc/bamtofastq-1.2.0\n",
            "Connecting to cf.10xgenomics.com (cf.10xgenomics.com)|104.18.1.173|:443... connected.\n",
            "HTTP request sent, awaiting response... 200 OK\n",
            "Length: 13288280 (13M) [binary/octet-stream]\n",
            "Saving to: ‘bamtofastq-1.2.0’\n",
            "\n",
            "bamtofastq-1.2.0    100%[===================>]  12.67M  65.6MB/s    in 0.2s    \n",
            "\n",
            "2021-03-19 17:18:04 (65.6 MB/s) - ‘bamtofastq-1.2.0’ saved [13288280/13288280]\n",
            "\n",
            "--2021-03-19 17:18:04--  http://continue/\n",
            "Resolving continue (continue)... failed: Name or service not known.\n",
            "wget: unable to resolve host address ‘continue’\n",
            "--2021-03-19 17:18:04--  https://sra-download.ncbi.nlm.nih.gov/traces/sra0/SRZ/011518/SRR11518611/H2TMS1.bam\n",
            "Resolving sra-download.ncbi.nlm.nih.gov (sra-download.ncbi.nlm.nih.gov)... 165.112.9.235, 130.14.250.24, 130.14.250.25\n",
            "Connecting to sra-download.ncbi.nlm.nih.gov (sra-download.ncbi.nlm.nih.gov)|165.112.9.235|:443... connected.\n",
            "HTTP request sent, awaiting response... 200 OK\n",
            "Length: 12001154120 (11G) [application/octet-stream]\n",
            "Saving to: ‘H2TMS1.bam’\n",
            "\n",
            "H2TMS1.bam           26%[====>               ]   3.00G  2.78MB/s    in 20m 52s \n",
            "\n",
            "2021-03-19 17:45:57 (2.45 MB/s) - Connection closed at byte 3222998808. Retrying.\n",
            "\n",
            "--2021-03-19 17:45:58--  (try: 2)  https://sra-download.ncbi.nlm.nih.gov/traces/sra0/SRZ/011518/SRR11518611/H2TMS1.bam\n",
            "Connecting to sra-download.ncbi.nlm.nih.gov (sra-download.ncbi.nlm.nih.gov)|165.112.9.235|:443... connected.\n",
            "HTTP request sent, awaiting response... Read error (Connection timed out) in headers.\n",
            "Retrying.\n",
            "\n",
            "--2021-03-19 18:01:21--  (try: 3)  https://sra-download.ncbi.nlm.nih.gov/traces/sra0/SRZ/011518/SRR11518611/H2TMS1.bam\n",
            "Connecting to sra-download.ncbi.nlm.nih.gov (sra-download.ncbi.nlm.nih.gov)|165.112.9.235|:443... connected.\n",
            "HTTP request sent, awaiting response... 200 OK\n",
            "Length: 12001154120 (11G) [application/octet-stream]\n",
            "Saving to: ‘H2TMS1.bam’\n",
            "\n",
            "H2TMS1.bam            4%[                    ] 561.69M  2.82MB/s    in 3m 46s  \n",
            "\n",
            "2021-03-19 18:20:07 (2.49 MB/s) - Read error at byte 588975896/12001154120 (Success). Retrying.\n",
            "\n",
            "--2021-03-19 18:20:10--  (try: 4)  https://sra-download.ncbi.nlm.nih.gov/traces/sra0/SRZ/011518/SRR11518611/H2TMS1.bam\n",
            "Connecting to sra-download.ncbi.nlm.nih.gov (sra-download.ncbi.nlm.nih.gov)|165.112.9.235|:443... connected.\n",
            "HTTP request sent, awaiting response... 206 Partial Content\n",
            "Length: 12001154120 (11G), 11412178224 (11G) remaining [application/octet-stream]\n",
            "Saving to: ‘H2TMS1.bam’\n",
            "\n",
            "H2TMS1.bam            4%[                    ] 564.39M  4.20MB/s    in 0.6s    \n",
            "\n",
            "2021-03-19 18:35:21 (4.20 MB/s) - Read error at byte 591801857/12001154120 (Success). Retrying.\n",
            "\n",
            "--2021-03-19 18:35:25--  (try: 5)  https://sra-download.ncbi.nlm.nih.gov/traces/sra0/SRZ/011518/SRR11518611/H2TMS1.bam\n",
            "Connecting to sra-download.ncbi.nlm.nih.gov (sra-download.ncbi.nlm.nih.gov)|165.112.9.235|:443... connected.\n",
            "HTTP request sent, awaiting response... 206 Partial Content\n",
            "Length: 12001154120 (11G), 11409352263 (11G) remaining [application/octet-stream]\n",
            "Saving to: ‘H2TMS1.bam’\n",
            "\n",
            "H2TMS1.bam           20%[===>                ]   2.26G  2.59MB/s    in 23m 20s \n",
            "\n",
            "2021-03-19 19:08:09 (1.25 MB/s) - Connection closed at byte 2428292330. Retrying.\n",
            "\n",
            "--2021-03-19 19:08:14--  (try: 6)  https://sra-download.ncbi.nlm.nih.gov/traces/sra0/SRZ/011518/SRR11518611/H2TMS1.bam\n",
            "Connecting to sra-download.ncbi.nlm.nih.gov (sra-download.ncbi.nlm.nih.gov)|165.112.9.235|:443... connected.\n",
            "HTTP request sent, awaiting response... 206 Partial Content\n",
            "Length: 12001154120 (11G), 9572861790 (8.9G) remaining [application/octet-stream]\n",
            "Saving to: ‘H2TMS1.bam’\n",
            "\n",
            "H2TMS1.bam           20%[++++                ]   2.26G  1.63MB/s    in 0.9s    \n",
            "\n",
            "2021-03-19 19:23:35 (1.63 MB/s) - Read error at byte 2429758419/12001154120 (Success). Retrying.\n",
            "\n",
            "--2021-03-19 19:23:41--  (try: 7)  https://sra-download.ncbi.nlm.nih.gov/traces/sra0/SRZ/011518/SRR11518611/H2TMS1.bam\n",
            "Connecting to sra-download.ncbi.nlm.nih.gov (sra-download.ncbi.nlm.nih.gov)|165.112.9.235|:443... connected.\n",
            "HTTP request sent, awaiting response... 206 Partial Content\n",
            "Length: 12001154120 (11G), 9571395701 (8.9G) remaining [application/octet-stream]\n",
            "Saving to: ‘H2TMS1.bam’\n",
            "\n",
            "H2TMS1.bam           20%[++++                ]   2.27G  6.32MB/s    in 1.0s    \n",
            "\n",
            "2021-03-19 19:31:07 (6.32 MB/s) - Connection closed at byte 2436713148. Retrying.\n",
            "\n",
            "--2021-03-19 19:31:14--  (try: 8)  https://sra-download.ncbi.nlm.nih.gov/traces/sra0/SRZ/011518/SRR11518611/H2TMS1.bam\n",
            "Connecting to sra-download.ncbi.nlm.nih.gov (sra-download.ncbi.nlm.nih.gov)|165.112.9.235|:443... failed: Connection timed out.\n",
            "Connecting to sra-download.ncbi.nlm.nih.gov (sra-download.ncbi.nlm.nih.gov)|130.14.250.24|:443... connected.\n",
            "HTTP request sent, awaiting response... 206 Partial Content\n",
            "Length: 12001154120 (11G), 9564440972 (8.9G) remaining [application/octet-stream]\n",
            "Saving to: ‘H2TMS1.bam’\n",
            "\n",
            "H2TMS1.bam          100%[++++===============>]  11.18G  44.5MB/s    in 2m 19s  \n",
            "\n",
            "2021-03-19 19:34:06 (65.5 MB/s) - ‘H2TMS1.bam’ saved [12001154120/12001154120]\n",
            "\n",
            "FINISHED --2021-03-19 19:34:06--\n",
            "Total wall clock time: 2h 16m 2s\n",
            "Downloaded: 1 files, 8.9G in 50m 20s (3.02 MB/s)\n"
          ],
          "name": "stdout"
        }
      ]
    },
    {
      "cell_type": "code",
      "metadata": {
        "id": "tDQlrjtqNF0m",
        "colab": {
          "base_uri": "https://localhost:8080/"
        },
        "outputId": "ca7b264e-a73b-48b9-bca9-d6b21d40f7f7"
      },
      "source": [
        "if bam:\n",
        "  # Convert to fastq\n",
        "  !./bamtofastq-1.2.0 --reads-per-fastq=500000000 $bam_filename ./fastqs\\\n",
        "\n",
        "  # Remove original bam file to save space\n",
        "  !rm $bam_filename\n"
      ],
      "execution_count": 5,
      "outputs": [
        {
          "output_type": "stream",
          "text": [
            "bamtofastq v1.2.0\n",
            "Args { arg_bam: \"H2TMS1.bam\", arg_output_path: \"./fastqs\", flag_nthreads: 4, flag_locus: None, flag_bx_list: None, flag_reads_per_fastq: 500000000, flag_gemcode: false, flag_lr20: false, flag_cr11: false }\n",
            "Writing finished.  Observed 132158109 read pairs. Wrote 132158109 read pairs\n"
          ],
          "name": "stdout"
        }
      ]
    },
    {
      "cell_type": "code",
      "metadata": {
        "id": "SXRDRphvqcLe",
        "colab": {
          "base_uri": "https://localhost:8080/"
        },
        "outputId": "1cc86be9-dfd3-496c-9125-74a82ece68fc"
      },
      "source": [
        "# Store fastq names on a list\n",
        "\n",
        "if bam:\n",
        "  # cd into fastqs folder\n",
        "  %cd /content/fastqs\n",
        "\n",
        "  #store the name of the folder generated by bamtofastq\n",
        "  _filename = os.listdir()[0]\n",
        "\n",
        "  # cd into that folder\n",
        "  %cd $_filename\n",
        "\n",
        "  # store fastq names in a list\n",
        "  fastqs = os.listdir()\n",
        "\n",
        "\n",
        "  # Remove I1 and R3 reads not relevant for our analysis\n",
        "\n",
        "  # Initialize list containing elements to remove\n",
        "  remov_elem = []\n",
        "\n",
        "  print (\"\\n\\nThis is the complete list of fastqs:\\n -----------\")\n",
        "  for elem in fastqs:\n",
        "    print (elem)\n",
        "\n",
        "  # Search index (I1 or R3) fastqs and remove them from list\n",
        "  for elem in fastqs:\n",
        "    if re.search(\"_R3_\", elem) or re.search(\"_I1_\", elem):\n",
        "      remov_elem = remov_elem +[elem]\n",
        "\n",
        "  fastqs = [elem for elem in fastqs if elem not in remov_elem] \n",
        "\n",
        "  print (\"\\n\\nThis is the filtered list of fastqs:\\n -----------\")\n",
        "  for elem in fastqs:\n",
        "    print (elem)\n"
      ],
      "execution_count": 6,
      "outputs": [
        {
          "output_type": "stream",
          "text": [
            "/content/fastqs\n",
            "/content/fastqs/TM2S1_MissingLibrary_1_HM2N7CCXY\n",
            "\n",
            "\n",
            "This is the complete list of fastqs:\n",
            " -----------\n",
            "bamtofastq_S1_L006_R2_001.fastq.gz\n",
            "bamtofastq_S1_L005_R2_001.fastq.gz\n",
            "bamtofastq_S1_L005_I1_001.fastq.gz\n",
            "bamtofastq_S1_L004_R1_001.fastq.gz\n",
            "bamtofastq_S1_L007_R1_001.fastq.gz\n",
            "bamtofastq_S1_L005_R1_001.fastq.gz\n",
            "bamtofastq_S1_L007_I1_001.fastq.gz\n",
            "bamtofastq_S1_L003_I1_001.fastq.gz\n",
            "bamtofastq_S1_L006_I1_001.fastq.gz\n",
            "bamtofastq_S1_L008_R1_001.fastq.gz\n",
            "bamtofastq_S1_L004_R2_001.fastq.gz\n",
            "bamtofastq_S1_L007_R2_001.fastq.gz\n",
            "bamtofastq_S1_L004_I1_001.fastq.gz\n",
            "bamtofastq_S1_L003_R2_001.fastq.gz\n",
            "bamtofastq_S1_L006_R1_001.fastq.gz\n",
            "bamtofastq_S1_L008_R2_001.fastq.gz\n",
            "bamtofastq_S1_L008_I1_001.fastq.gz\n",
            "bamtofastq_S1_L003_R1_001.fastq.gz\n",
            "\n",
            "\n",
            "This is the filtered list of fastqs:\n",
            " -----------\n",
            "bamtofastq_S1_L006_R2_001.fastq.gz\n",
            "bamtofastq_S1_L005_R2_001.fastq.gz\n",
            "bamtofastq_S1_L004_R1_001.fastq.gz\n",
            "bamtofastq_S1_L007_R1_001.fastq.gz\n",
            "bamtofastq_S1_L005_R1_001.fastq.gz\n",
            "bamtofastq_S1_L008_R1_001.fastq.gz\n",
            "bamtofastq_S1_L004_R2_001.fastq.gz\n",
            "bamtofastq_S1_L007_R2_001.fastq.gz\n",
            "bamtofastq_S1_L003_R2_001.fastq.gz\n",
            "bamtofastq_S1_L006_R1_001.fastq.gz\n",
            "bamtofastq_S1_L008_R2_001.fastq.gz\n",
            "bamtofastq_S1_L003_R1_001.fastq.gz\n"
          ],
          "name": "stdout"
        }
      ]
    },
    {
      "cell_type": "code",
      "metadata": {
        "id": "ZnFcqcSgjLBw"
      },
      "source": [
        "# Remove fastqs that wont be analyzed to save space\n",
        "if bam:\n",
        "  for elem in remov_elem:\n",
        "    !rm $elem"
      ],
      "execution_count": 7,
      "outputs": []
    },
    {
      "cell_type": "code",
      "metadata": {
        "id": "FLVS8aB7Dm6J"
      },
      "source": [
        "if bam:\n",
        "  # sort fastqs alphabetically to get R1 and R2 in order\n",
        "  fastqs = sorted(fastqs)"
      ],
      "execution_count": 8,
      "outputs": []
    },
    {
      "cell_type": "code",
      "metadata": {
        "id": "FE9gWbQgpBfR"
      },
      "source": [
        "# wget fastqs from non ffq links in fastqs folder\n",
        "if not bam and not fastq_ffqlinks:\n",
        "  !mkdir fastqs\n",
        "  %cd fastqs\n",
        "  for link in fastqs:\n",
        "    !wget $link --continue\n",
        "\n",
        "  # update fastqs variable with name of files\n",
        "  fastqs = sorted(os.listdir())"
      ],
      "execution_count": 9,
      "outputs": []
    },
    {
      "cell_type": "code",
      "metadata": {
        "id": "PC9oETW1pE9t",
        "colab": {
          "base_uri": "https://localhost:8080/"
        },
        "outputId": "a61b4ab4-daa3-45a3-d644-75b189336794"
      },
      "source": [
        "if bam:\n",
        "  # Download the corresponding Kallisto index to folder containing fastqs\n",
        "  !kb ref -d $species_kb -i index.idx -g t2g.txt -f1 transcriptome.fasta\n",
        "\n",
        "if not bam and fastq_ffqlinks:\n",
        "  %cd /content\n",
        "\n",
        "  # Download the corresponding Kallisto index to content folder\n",
        "  !kb ref -d $species_kb -i index.idx -g t2g.txt -f1 transcriptome.fasta\n",
        "\n",
        "if not bam and not fastq_ffqlinks:\n",
        "  %cd /content/fastqs\n",
        "\n",
        "  # Download the corresponding Kallisto index to fastq folder\n",
        "  !kb ref -d $species_kb -i index.idx -g t2g.txt -f1 transcriptome.fasta"
      ],
      "execution_count": 10,
      "outputs": [
        {
          "output_type": "stream",
          "text": [
            "[2021-03-19 19:56:13,177]    INFO Downloading files for human from https://caltech.box.com/shared/static/v1nm7lpnqz5syh8dyzdk2zs8bglncfib.gz to tmp/v1nm7lpnqz5syh8dyzdk2zs8bglncfib.gz\n",
            "100% 2.23G/2.23G [01:25<00:00, 27.9MB/s]\n",
            "[2021-03-19 19:57:40,081]    INFO Extracting files from tmp/v1nm7lpnqz5syh8dyzdk2zs8bglncfib.gz\n"
          ],
          "name": "stdout"
        }
      ]
    },
    {
      "cell_type": "code",
      "metadata": {
        "id": "vHVNa51Cp9Nr",
        "colab": {
          "base_uri": "https://localhost:8080/"
        },
        "outputId": "0f1b8919-6dfc-4358-c6c7-898ecec3c625"
      },
      "source": [
        "# Check to make sure the metadata is in the right order after sorting\n",
        "print(fastqs)"
      ],
      "execution_count": 11,
      "outputs": [
        {
          "output_type": "stream",
          "text": [
            "['bamtofastq_S1_L003_R1_001.fastq.gz', 'bamtofastq_S1_L003_R2_001.fastq.gz', 'bamtofastq_S1_L004_R1_001.fastq.gz', 'bamtofastq_S1_L004_R2_001.fastq.gz', 'bamtofastq_S1_L005_R1_001.fastq.gz', 'bamtofastq_S1_L005_R2_001.fastq.gz', 'bamtofastq_S1_L006_R1_001.fastq.gz', 'bamtofastq_S1_L006_R2_001.fastq.gz', 'bamtofastq_S1_L007_R1_001.fastq.gz', 'bamtofastq_S1_L007_R2_001.fastq.gz', 'bamtofastq_S1_L008_R1_001.fastq.gz', 'bamtofastq_S1_L008_R2_001.fastq.gz']\n"
          ],
          "name": "stdout"
        }
      ]
    },
    {
      "cell_type": "markdown",
      "metadata": {
        "id": "VInyuq1Dp7iz"
      },
      "source": [
        "# Process fastq files (modify kb command according to fastqs list)\n"
      ]
    },
    {
      "cell_type": "code",
      "metadata": {
        "id": "OcqtBuH-pRaX",
        "colab": {
          "base_uri": "https://localhost:8080/"
        },
        "outputId": "78d4dfb3-242d-4afa-d49f-004945b2fba6"
      },
      "source": [
        "fastqs"
      ],
      "execution_count": 12,
      "outputs": [
        {
          "output_type": "execute_result",
          "data": {
            "text/plain": [
              "['bamtofastq_S1_L003_R1_001.fastq.gz',\n",
              " 'bamtofastq_S1_L003_R2_001.fastq.gz',\n",
              " 'bamtofastq_S1_L004_R1_001.fastq.gz',\n",
              " 'bamtofastq_S1_L004_R2_001.fastq.gz',\n",
              " 'bamtofastq_S1_L005_R1_001.fastq.gz',\n",
              " 'bamtofastq_S1_L005_R2_001.fastq.gz',\n",
              " 'bamtofastq_S1_L006_R1_001.fastq.gz',\n",
              " 'bamtofastq_S1_L006_R2_001.fastq.gz',\n",
              " 'bamtofastq_S1_L007_R1_001.fastq.gz',\n",
              " 'bamtofastq_S1_L007_R2_001.fastq.gz',\n",
              " 'bamtofastq_S1_L008_R1_001.fastq.gz',\n",
              " 'bamtofastq_S1_L008_R2_001.fastq.gz']"
            ]
          },
          "metadata": {
            "tags": []
          },
          "execution_count": 12
        }
      ]
    },
    {
      "cell_type": "code",
      "metadata": {
        "id": "5qFzPj-0kZTi",
        "colab": {
          "base_uri": "https://localhost:8080/"
        },
        "outputId": "a637231b-7270-4fd5-e882-0c5c1f44949e"
      },
      "source": [
        "if no_samples == 1:\n",
        "\n",
        "  # Write the kb count command as a string with all fastqs of the list as an input\n",
        "  cmd = \"kb count --h5ad -i index.idx -g t2g.txt -x \" + technology_kb + \" -o tccoutput\" + sample_id[0] + \" \"\\\n",
        "  + \"--filter bustools --tcc -t 2 --overwrite \" + \"'\" +  \"' '\".join(fastqs) + \"'\"\n",
        "  \n",
        "  # Execute it\n",
        "  !$cmd\n",
        "\n",
        "# If more than one sample, iterate through fastqs accordingly\n",
        "else:\n",
        "\n",
        "  # Initializa counter for fastq files\n",
        "  j = 0\n",
        "\n",
        "  # Loop over samples for analysis\n",
        "  for i in range(no_samples):\n",
        "\n",
        "    fastqs_to_analyze = fastqs[j:j + fastqs_per_sample[i]]\n",
        "    # Write the kb count command as a string\n",
        "    cmd = \"kb count --h5ad -i ../index.idx -g ../t2g.txt -x \" + technology_kb + \" -o tccoutput\" + sample_id[i] + \" \\\n",
        "    --filter bustools --tcc -t 2 --overwrite \" + \"'\" +  \"' '\".join(fastqs_to_analyze) + \"'\"\n",
        "\n",
        "    # Execute it\n",
        "    !$cmd\n",
        "\n",
        "    # Update j to move to the next set of fastq\n",
        "    j = j + fastqs_per_sample[i]\n",
        "\n",
        "\n",
        "\n",
        "\n",
        "\n",
        "\n",
        "results = {}\n",
        "tcc_results = {}\n",
        "for sample in sample_id:\n",
        "  # Read the filtered gene count matrix\n",
        "  results[\"data_\" + sample] = anndata.read(\"/content/result\" + sample)\n",
        "\n",
        "\n",
        "for sample in sample_id:\n",
        "  output = \"bus_raw_\" + sample + \"_from_gc\"\n",
        "  !mkdir $output\n",
        "  folder_tcc = \"tccoutput\" + sample\n",
        "\n",
        "  # read tcc matrix\n",
        "  tcc_results[sample] = anndata.read(folder_tcc + \"/counts_unfiltered/adata.h5ad\")\n",
        "  # apply gene count matrix's filter\n",
        "  tcc_results[sample] = tcc_results[sample][results[\"data_\" + sample].obs.index.values]\n",
        "  # transfer obs data\n",
        "  tcc_results[sample].obs = results[\"data_\" + sample].obs\n",
        "  # transfer metadata\n",
        "  tcc_results[sample].uns = results[\"data_\" + sample].uns\n",
        "  # write tcc matrix\n",
        "  tcc_results[sample].write(\"/content/tcc_\" + sample)\n",
        "  #gzip tcc matrix\n",
        "  cmd = \"gzip /content/tcc_\" + sample\n",
        "  !$cmd\n",
        "  #gzip unfiltered bus file\n",
        "  cmd = \"gzip \" + folder_tcc + \"/output.unfiltered.bus\"\n",
        "  !$cmd\n",
        "  # move and re-name bus file with sample id\n",
        "  cmd = \"mv \" + folder_tcc + \"/output.unfiltered.bus.gz \" + output + \"/\" + sample +\".unfiltered.bus.gz\"\n",
        "  !$cmd\n",
        "  # gzip all unfiltered counts\n",
        "  cmd = \"gzip \" + folder_tcc + \"/counts_unfiltered/*\"\n",
        "  !$cmd\n",
        "\n",
        "  # move unfiltered counts for both\n",
        "  cmd = \"mv \" + folder_tcc + \"/counts_unfiltered \" + output + \"/tcc_unfiltered\"\n",
        "  !$cmd\n",
        "\n",
        "  cmd = \"mv \" + folder_tcc + \"/*.json \" + output \n",
        "  !$cmd\n",
        "  # zip all files\n",
        "  cmd = \"zip -r \"+ output + \".zip \" + output\n",
        "  !$cmd"
      ],
      "execution_count": 13,
      "outputs": [
        {
          "output_type": "stream",
          "text": [
            "[2021-03-19 19:58:19,881]    INFO Using index index.idx to generate BUS file to tccoutputGSM4463229 from\n",
            "[2021-03-19 19:58:19,882]    INFO         bamtofastq_S1_L003_R1_001.fastq.gz\n",
            "[2021-03-19 19:58:19,882]    INFO         bamtofastq_S1_L003_R2_001.fastq.gz\n",
            "[2021-03-19 19:58:19,882]    INFO         bamtofastq_S1_L004_R1_001.fastq.gz\n",
            "[2021-03-19 19:58:19,882]    INFO         bamtofastq_S1_L004_R2_001.fastq.gz\n",
            "[2021-03-19 19:58:19,882]    INFO         bamtofastq_S1_L005_R1_001.fastq.gz\n",
            "[2021-03-19 19:58:19,882]    INFO         bamtofastq_S1_L005_R2_001.fastq.gz\n",
            "[2021-03-19 19:58:19,882]    INFO         bamtofastq_S1_L006_R1_001.fastq.gz\n",
            "[2021-03-19 19:58:19,882]    INFO         bamtofastq_S1_L006_R2_001.fastq.gz\n",
            "[2021-03-19 19:58:19,882]    INFO         bamtofastq_S1_L007_R1_001.fastq.gz\n",
            "[2021-03-19 19:58:19,882]    INFO         bamtofastq_S1_L007_R2_001.fastq.gz\n",
            "[2021-03-19 19:58:19,882]    INFO         bamtofastq_S1_L008_R1_001.fastq.gz\n",
            "[2021-03-19 19:58:19,882]    INFO         bamtofastq_S1_L008_R2_001.fastq.gz\n",
            "[2021-03-19 20:15:16,790]    INFO Sorting BUS file tccoutputGSM4463229/output.bus to tccoutputGSM4463229/tmp/output.s.bus\n",
            "[2021-03-19 20:16:11,946]    INFO Whitelist not provided\n",
            "[2021-03-19 20:16:11,947]    INFO Copying pre-packaged 10XV2 whitelist to tccoutputGSM4463229\n",
            "[2021-03-19 20:16:12,071]    INFO Inspecting BUS file tccoutputGSM4463229/tmp/output.s.bus\n",
            "[2021-03-19 20:16:30,084]    INFO Correcting BUS records in tccoutputGSM4463229/tmp/output.s.bus to tccoutputGSM4463229/tmp/output.s.c.bus with whitelist tccoutputGSM4463229/10xv2_whitelist.txt\n",
            "[2021-03-19 20:16:42,040]    INFO Sorting BUS file tccoutputGSM4463229/tmp/output.s.c.bus to tccoutputGSM4463229/output.unfiltered.bus\n",
            "[2021-03-19 20:17:16,530]    INFO Generating count matrix tccoutputGSM4463229/counts_unfiltered/cells_x_tcc from BUS file tccoutputGSM4463229/output.unfiltered.bus\n",
            "[2021-03-19 20:17:55,003]    INFO Reading matrix tccoutputGSM4463229/counts_unfiltered/cells_x_tcc.mtx\n",
            "[2021-03-19 20:18:29,952]    INFO Writing matrix to h5ad tccoutputGSM4463229/counts_unfiltered/adata.h5ad\n",
            "[2021-03-19 20:20:18,335]    INFO Filtering with bustools\n",
            "[2021-03-19 20:20:18,335]    INFO Generating whitelist tccoutputGSM4463229/filter_barcodes.txt from BUS file tccoutputGSM4463229/output.unfiltered.bus\n",
            "[2021-03-19 20:20:18,753]    INFO Correcting BUS records in tccoutputGSM4463229/output.unfiltered.bus to tccoutputGSM4463229/tmp/output.unfiltered.c.bus with whitelist tccoutputGSM4463229/filter_barcodes.txt\n",
            "[2021-03-19 20:20:27,000]    INFO Sorting BUS file tccoutputGSM4463229/tmp/output.unfiltered.c.bus to tccoutputGSM4463229/output.filtered.bus\n",
            "[2021-03-19 20:21:01,238]    INFO Generating count matrix tccoutputGSM4463229/counts_filtered/cells_x_tcc from BUS file tccoutputGSM4463229/output.filtered.bus\n",
            "[2021-03-19 20:21:32,937]    INFO Reading matrix tccoutputGSM4463229/counts_filtered/cells_x_tcc.mtx\n",
            "[2021-03-19 20:22:02,599]    INFO Writing matrix to h5ad tccoutputGSM4463229/counts_filtered/adata.h5ad\n"
          ],
          "name": "stdout"
        },
        {
          "output_type": "stream",
          "text": [
            "Variable names are not unique. To make them unique, call `.var_names_make_unique`.\n"
          ],
          "name": "stderr"
        },
        {
          "output_type": "stream",
          "text": [
            "  adding: bus_raw_GSM4463229_from_gc/ (stored 0%)\n",
            "  adding: bus_raw_GSM4463229_from_gc/run_info.json (deflated 62%)\n",
            "  adding: bus_raw_GSM4463229_from_gc/inspect.json (deflated 57%)\n",
            "  adding: bus_raw_GSM4463229_from_gc/GSM4463229.unfiltered.bus.gz (deflated 4%)\n",
            "  adding: bus_raw_GSM4463229_from_gc/tcc_unfiltered/ (stored 0%)\n",
            "  adding: bus_raw_GSM4463229_from_gc/tcc_unfiltered/cells_x_tcc.mtx.gz (deflated 0%)\n",
            "  adding: bus_raw_GSM4463229_from_gc/tcc_unfiltered/cells_x_tcc.ec.txt.gz (deflated 2%)\n",
            "  adding: bus_raw_GSM4463229_from_gc/tcc_unfiltered/adata.h5ad.gz (deflated 7%)\n",
            "  adding: bus_raw_GSM4463229_from_gc/tcc_unfiltered/cells_x_tcc.barcodes.txt.gz (deflated 1%)\n",
            "  adding: bus_raw_GSM4463229_from_gc/kb_info.json (deflated 79%)\n"
          ],
          "name": "stdout"
        }
      ]
    }
  ]
}