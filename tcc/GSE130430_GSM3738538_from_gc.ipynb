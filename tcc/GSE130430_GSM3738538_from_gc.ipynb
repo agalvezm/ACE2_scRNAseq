{
  "nbformat": 4,
  "nbformat_minor": 0,
  "metadata": {
    "colab": {
      "name": "GSE130430_GSM3738538.ipynb",
      "provenance": [],
      "collapsed_sections": [],
      "toc_visible": true,
      "include_colab_link": true
    },
    "kernelspec": {
      "name": "python3",
      "display_name": "Python 3"
    }
  },
  "cells": [
    {
      "cell_type": "markdown",
      "metadata": {
        "id": "view-in-github",
        "colab_type": "text"
      },
      "source": [
        "<a href=\"https://colab.research.google.com/github/agalvezm/ACE2_scRNAseq/blob/master/tcc/GSE130430_GSM3738538_from_gc.ipynb\" target=\"_parent\"><img src=\"https://colab.research.google.com/assets/colab-badge.svg\" alt=\"Open In Colab\"/></a>"
      ]
    },
    {
      "cell_type": "markdown",
      "metadata": {
        "id": "V9ryXluJsJw9"
      },
      "source": [
        "# GSE130430_GSM3738538"
      ]
    },
    {
      "cell_type": "markdown",
      "metadata": {
        "id": "5BhXwWvYR8IA"
      },
      "source": [
        "This notebook uses the filtered count matrix resulting from the following google colab notebook. https://github.com/agalvezm/ACE2_scRNAseq/blob/master/notebooks_countmatrices/GSE130430_GSM3738538.ipynb Please run the notebook above and upload the results file in /content"
      ]
    },
    {
      "cell_type": "code",
      "metadata": {
        "id": "2BiFt2wu4aLh",
        "colab": {
          "base_uri": "https://localhost:8080/"
        },
        "outputId": "6e7c31b1-ae2f-43c6-eda5-72d3a100ec2e"
      },
      "source": [
        "# Install SRA-toolkit \n",
        "!wget \"http://ftp-trace.ncbi.nlm.nih.gov/sra/sdk/current/sratoolkit.current-centos_linux64.tar.gz\"\n",
        "\n",
        "! tar -xzf sratoolkit.current-centos_linux64.tar.gz\n",
        "\n",
        "# Add to path\n",
        "import os\n",
        "os.environ['PATH'] += \":/content/sratoolkit.2.11.0-centos_linux64/bin\"\n",
        "\n",
        "# Configure\n",
        "!vdb-config --interactive\n",
        "\n",
        "# Import packages\n",
        "\n",
        "import numpy as np\n"
      ],
      "execution_count": 1,
      "outputs": [
        {
          "output_type": "stream",
          "text": [
            "--2021-03-19 17:16:08--  http://ftp-trace.ncbi.nlm.nih.gov/sra/sdk/current/sratoolkit.current-centos_linux64.tar.gz\n",
            "Resolving ftp-trace.ncbi.nlm.nih.gov (ftp-trace.ncbi.nlm.nih.gov)... 130.14.250.11, 130.14.250.13, 2607:f220:41e:250::10, ...\n",
            "Connecting to ftp-trace.ncbi.nlm.nih.gov (ftp-trace.ncbi.nlm.nih.gov)|130.14.250.11|:80... connected.\n",
            "HTTP request sent, awaiting response... 301 Moved Permanently\n",
            "Location: https://ftp-trace.ncbi.nlm.nih.gov/sra/sdk/current/sratoolkit.current-centos_linux64.tar.gz [following]\n",
            "--2021-03-19 17:16:09--  https://ftp-trace.ncbi.nlm.nih.gov/sra/sdk/current/sratoolkit.current-centos_linux64.tar.gz\n",
            "Connecting to ftp-trace.ncbi.nlm.nih.gov (ftp-trace.ncbi.nlm.nih.gov)|130.14.250.11|:443... connected.\n",
            "HTTP request sent, awaiting response... 200 OK\n",
            "Length: 99139357 (95M) [application/x-gzip]\n",
            "Saving to: ‘sratoolkit.current-centos_linux64.tar.gz’\n",
            "\n",
            "sratoolkit.current- 100%[===================>]  94.55M  27.9MB/s    in 3.4s    \n",
            "\n",
            "2021-03-19 17:16:13 (27.9 MB/s) - ‘sratoolkit.current-centos_linux64.tar.gz’ saved [99139357/99139357]\n",
            "\n",
            "\u001b[2J\u001b[?25l\u001b[?1000h\u001b[?1002h2021-03-19T17:16:16 vdb-config.2.11.0 fatal: SIGNAL - Segmentation fault \n"
          ],
          "name": "stdout"
        }
      ]
    },
    {
      "cell_type": "code",
      "metadata": {
        "id": "mU4XegJlo2Na"
      },
      "source": [
        "# List of SRAs to download and transform. Copy paste from excel as string\n",
        "SRAs = \"SRR8984439\tSRR8984440\tSRR8984441\tSRR8984442\"\n",
        "\n",
        "SRAs = SRAs.split()\n",
        "\n",
        "# SRA to delete, usually the index file, which get downloaded because we include technical reads. \n",
        "# It varies so check in the SRA website\n",
        "SRA_to_delete = \"1\"\n",
        "\n",
        "\n",
        "SRAs_to_keep = np.setdiff1d([\"1\", \"2\", \"3\"], [SRA_to_delete])\n"
      ],
      "execution_count": 2,
      "outputs": []
    },
    {
      "cell_type": "code",
      "metadata": {
        "id": "u3uDp_jCpfhZ",
        "colab": {
          "base_uri": "https://localhost:8080/"
        },
        "outputId": "78b48f44-7d8a-444d-859f-77bb4a83da97"
      },
      "source": [
        "for sra in SRAs:\n",
        "  \"\"\"\n",
        "  Downloads SRAs and transforms to compressed fastq file. Remove index reads and original SRA\n",
        "  \"\"\"\n",
        "  # Download SRA\n",
        "  !prefetch $sra\n",
        "\n",
        "  # Convert to fastq. Biological reads are usually considered technicals in 10x so do not skip them.\n",
        "  fastq_dump_cmd = \"fastq-dump -F --gzip --readids --split-files \" + sra + \"/\" + sra +\".sra\"\n",
        "  !$fastq_dump_cmd\n",
        "\n",
        "  # Remove files\n",
        "  rm_cmd_1 = \"rm \" + sra + \"/\" + sra + \".sra\"\n",
        "  rm_cmd_2 = \"rm \" + sra + \"_\" + SRA_to_delete + \".fastq.gz\" \n",
        "  !$rm_cmd_1\n",
        "  !$rm_cmd_2"
      ],
      "execution_count": 3,
      "outputs": [
        {
          "output_type": "stream",
          "text": [
            "\n",
            "2021-03-19T17:17:21 prefetch.2.11.0: 1) Downloading 'SRR8984439'...\n",
            "2021-03-19T17:17:21 prefetch.2.11.0:  Downloading via HTTPS...\n",
            "2021-03-19T17:18:59 prefetch.2.11.0:  HTTPS download succeed\n",
            "2021-03-19T17:19:07 prefetch.2.11.0:  'SRR8984439' is valid\n",
            "2021-03-19T17:19:07 prefetch.2.11.0: 1) 'SRR8984439' was downloaded successfully\n",
            "2021-03-19T17:19:07 prefetch.2.11.0: 'SRR8984439' has 0 unresolved dependencies\n",
            "Read 45717987 spots for SRR8984439/SRR8984439.sra\n",
            "Written 45717987 spots for SRR8984439/SRR8984439.sra\n",
            "\n",
            "2021-03-19T18:08:44 prefetch.2.11.0: 1) Downloading 'SRR8984440'...\n",
            "2021-03-19T18:08:44 prefetch.2.11.0:  Downloading via HTTPS...\n",
            "2021-03-19T18:10:22 prefetch.2.11.0:  HTTPS download succeed\n",
            "2021-03-19T18:10:30 prefetch.2.11.0:  'SRR8984440' is valid\n",
            "2021-03-19T18:10:30 prefetch.2.11.0: 1) 'SRR8984440' was downloaded successfully\n",
            "2021-03-19T18:10:30 prefetch.2.11.0: 'SRR8984440' has 0 unresolved dependencies\n",
            "Read 45588901 spots for SRR8984440/SRR8984440.sra\n",
            "Written 45588901 spots for SRR8984440/SRR8984440.sra\n",
            "\n",
            "2021-03-19T18:59:58 prefetch.2.11.0: 1) Downloading 'SRR8984441'...\n",
            "2021-03-19T18:59:58 prefetch.2.11.0:  Downloading via HTTPS...\n",
            "2021-03-19T19:24:26 prefetch.2.11.0:  HTTPS download succeed\n",
            "2021-03-19T19:24:34 prefetch.2.11.0:  'SRR8984441' is valid\n",
            "2021-03-19T19:24:34 prefetch.2.11.0: 1) 'SRR8984441' was downloaded successfully\n",
            "2021-03-19T19:24:34 prefetch.2.11.0: 'SRR8984441' has 0 unresolved dependencies\n",
            "Read 45775891 spots for SRR8984441/SRR8984441.sra\n",
            "Written 45775891 spots for SRR8984441/SRR8984441.sra\n",
            "\n",
            "2021-03-19T20:13:44 prefetch.2.11.0: 1) Downloading 'SRR8984442'...\n",
            "2021-03-19T20:13:44 prefetch.2.11.0:  Downloading via HTTPS...\n",
            "2021-03-19T20:15:34 prefetch.2.11.0:  HTTPS download succeed\n",
            "2021-03-19T20:15:42 prefetch.2.11.0:  'SRR8984442' is valid\n",
            "2021-03-19T20:15:42 prefetch.2.11.0: 1) 'SRR8984442' was downloaded successfully\n",
            "2021-03-19T20:15:42 prefetch.2.11.0: 'SRR8984442' has 0 unresolved dependencies\n",
            "Read 46324277 spots for SRR8984442/SRR8984442.sra\n",
            "Written 46324277 spots for SRR8984442/SRR8984442.sra\n"
          ],
          "name": "stdout"
        }
      ]
    },
    {
      "cell_type": "code",
      "metadata": {
        "id": "bmN2opl1qHSh"
      },
      "source": [
        "# Define fastq list to feed kb\n",
        "\n",
        "fastqs = []\n",
        "for sra in SRAs:\n",
        "  for read in SRAs_to_keep:\n",
        "    fastqs.append(sra + \"_\" + read + \".fastq.gz\")"
      ],
      "execution_count": 4,
      "outputs": []
    },
    {
      "cell_type": "markdown",
      "metadata": {
        "id": "5tT2sVv2-XMD"
      },
      "source": [
        "## Metadata"
      ]
    },
    {
      "cell_type": "code",
      "metadata": {
        "id": "ggNFAQJCRh6P"
      },
      "source": [
        "# define the values for the analysis\n",
        "\n",
        "# accession id for the data\n",
        "id = \"GSE130430\"\n",
        "\n",
        "samp_id = [\"GSM3738538\"]\n",
        "\n",
        "no_samples = 1\n",
        "\n",
        "fastqs_per_sample = [4] \n",
        "\n",
        "sample_id = samp_id\n",
        "\n",
        "database_id = [id] * no_samples\n",
        "\n",
        "tissue = [\"bone marrow\"] * no_samples\n",
        "\n",
        "cell_type = [\"NK cells\"] * no_samples\n",
        "\n",
        "condition = [\"female\"] * no_samples\n",
        "\n",
        "species = [\"human\"] * no_samples\n",
        "\n",
        "technology = [\"10xv2\"] * no_samples\n",
        "\n",
        "paper = [\"Muus et al 2020\"] * no_samples\n",
        "\n",
        "figure = [\"Fig 1 a,b  ED Fig 1 a,b,c,d  ED Fig 2 a,b,c,d,e\"] * no_samples\n",
        "\n",
        "\n",
        "# Set string variables for kb functions\n",
        "\n",
        "species_kb = species[0]\n",
        "\n",
        "technology_kb = technology[0]"
      ],
      "execution_count": 5,
      "outputs": []
    },
    {
      "cell_type": "markdown",
      "metadata": {
        "id": "FPwL0-_-KSAw"
      },
      "source": [
        "# Imports and installs"
      ]
    },
    {
      "cell_type": "code",
      "metadata": {
        "id": "1HSlUGZEp3oP",
        "colab": {
          "base_uri": "https://localhost:8080/"
        },
        "outputId": "1eaf9c09-7f1f-40bf-b51a-8d8625247f94"
      },
      "source": [
        "# install and import necessary software\n",
        "\n",
        "# Install kb and scanpy\n",
        "!pip -q install kb-python \n",
        "!pip -q install scanpy\n",
        "\n",
        "import re\n",
        "import os\n",
        "\n",
        "# Setup\n",
        "\n",
        "import anndata\n",
        "import pandas as pd\n",
        "import numpy as np\n",
        "import matplotlib.pyplot as plt\n",
        "import matplotlib as mpl\n",
        "import matplotlib.patches as mpatches\n",
        "import scanpy as sc\n",
        "from scipy import stats\n",
        "\n",
        "from collections import OrderedDict\n",
        "from sklearn.decomposition import TruncatedSVD\n",
        "from sklearn.manifold import TSNE\n",
        "from sklearn.preprocessing import scale\n",
        "\n",
        "from sklearn.cluster import KMeans\n",
        "from sklearn.preprocessing import normalize\n",
        "from sklearn.preprocessing import LabelEncoder\n",
        "from sklearn.neighbors import NeighborhoodComponentsAnalysis\n",
        "from matplotlib import cm\n",
        "from matplotlib.lines import Line2D\n",
        "\n",
        "def nd(arr):\n",
        "    return np.asarray(arr).reshape(-1)\n",
        "def yex(ax):\n",
        "    lims = [np.min([ax.get_xlim(), ax.get_ylim()]),\n",
        "            np.max([ax.get_xlim(), ax.get_ylim()])]\n",
        "\n",
        "    # now plot both limits against eachother\n",
        "    ax.plot(lims, lims, 'k-', alpha=0.75, zorder=0)\n",
        "    ax.set_aspect('equal')\n",
        "    ax.set_xlim(lims)\n",
        "    ax.set_ylim(lims)\n",
        "    return ax\n",
        "\n",
        "def trim_axs(axs, N):\n",
        "    \"\"\"little helper to massage the axs list to have correct length...\"\"\"\n",
        "    axs = axs.flat\n",
        "    for ax in axs[N:]:\n",
        "        ax.remove()\n",
        "    return axs[:N]\n",
        "\n",
        "import warnings\n",
        "warnings.filterwarnings('ignore')\n",
        "\n",
        "fsize=20\n",
        "\n",
        "plt.rcParams.update({'font.size': fsize})\n",
        "%config InlineBackend.figure_format = 'retina'"
      ],
      "execution_count": 6,
      "outputs": [
        {
          "output_type": "stream",
          "text": [
            "\u001b[K     |████████████████████████████████| 59.1MB 109kB/s \n",
            "\u001b[K     |████████████████████████████████| 51kB 4.9MB/s \n",
            "\u001b[K     |████████████████████████████████| 10.3MB 23.2MB/s \n",
            "\u001b[K     |████████████████████████████████| 122kB 58.1MB/s \n",
            "\u001b[K     |████████████████████████████████| 13.2MB 45.6MB/s \n",
            "\u001b[K     |████████████████████████████████| 112kB 27.5MB/s \n",
            "\u001b[K     |████████████████████████████████| 71kB 6.8MB/s \n",
            "\u001b[K     |████████████████████████████████| 51kB 6.8MB/s \n",
            "\u001b[?25h  Building wheel for loompy (setup.py) ... \u001b[?25l\u001b[?25hdone\n",
            "  Building wheel for numpy-groupies (setup.py) ... \u001b[?25l\u001b[?25hdone\n",
            "  Building wheel for sinfo (setup.py) ... \u001b[?25l\u001b[?25hdone\n"
          ],
          "name": "stdout"
        }
      ]
    },
    {
      "cell_type": "markdown",
      "metadata": {
        "id": "7V6FbosVrvP4"
      },
      "source": [
        "# Downloads: index"
      ]
    },
    {
      "cell_type": "code",
      "metadata": {
        "id": "PC9oETW1pE9t",
        "colab": {
          "base_uri": "https://localhost:8080/"
        },
        "outputId": "6f007255-7849-4fff-8e96-df2e7a947250"
      },
      "source": [
        "# Download the corresponding Kallisto index to fastq folder\n",
        "!kb ref -d $species_kb -i index.idx -g t2g.txt -f1 transcriptome.fasta"
      ],
      "execution_count": 7,
      "outputs": [
        {
          "output_type": "stream",
          "text": [
            "[2021-03-19 21:04:50,654]    INFO Downloading files for human from https://caltech.box.com/shared/static/v1nm7lpnqz5syh8dyzdk2zs8bglncfib.gz to tmp/v1nm7lpnqz5syh8dyzdk2zs8bglncfib.gz\n",
            "100% 2.23G/2.23G [11:41<00:00, 3.41MB/s]\n",
            "[2021-03-19 21:16:33,734]    INFO Extracting files from tmp/v1nm7lpnqz5syh8dyzdk2zs8bglncfib.gz\n"
          ],
          "name": "stdout"
        }
      ]
    },
    {
      "cell_type": "markdown",
      "metadata": {
        "id": "VInyuq1Dp7iz"
      },
      "source": [
        "# Process fastq files (modify kb command according to fastqs list)\n"
      ]
    },
    {
      "cell_type": "code",
      "metadata": {
        "id": "F6FD32x-shPe",
        "colab": {
          "base_uri": "https://localhost:8080/"
        },
        "outputId": "afcef480-b4f0-4371-b8c6-300fd88e2d3e"
      },
      "source": [
        "fastqs"
      ],
      "execution_count": 8,
      "outputs": [
        {
          "output_type": "execute_result",
          "data": {
            "text/plain": [
              "['SRR8984439_2.fastq.gz',\n",
              " 'SRR8984439_3.fastq.gz',\n",
              " 'SRR8984440_2.fastq.gz',\n",
              " 'SRR8984440_3.fastq.gz',\n",
              " 'SRR8984441_2.fastq.gz',\n",
              " 'SRR8984441_3.fastq.gz',\n",
              " 'SRR8984442_2.fastq.gz',\n",
              " 'SRR8984442_3.fastq.gz']"
            ]
          },
          "metadata": {
            "tags": []
          },
          "execution_count": 8
        }
      ]
    },
    {
      "cell_type": "code",
      "metadata": {
        "id": "5qFzPj-0kZTi",
        "colab": {
          "base_uri": "https://localhost:8080/"
        },
        "outputId": "636d4290-51e9-4c53-d1d7-f6544a0671fe"
      },
      "source": [
        "if no_samples == 1:\n",
        "\n",
        "  # Write the kb count command as a string with all fastqs of the list as an input\n",
        "  cmd = \"kb count --h5ad -i index.idx -g t2g.txt -x \" + technology_kb + \" -o tccoutput\" + sample_id[0] + \" \"\\\n",
        "  + \"--filter bustools --tcc -t 2 --overwrite \" + \"'\" +  \"' '\".join(fastqs) + \"'\"\n",
        "  \n",
        "  # Execute it\n",
        "  !$cmd\n",
        "\n",
        "# If more than one sample, iterate through fastqs accordingly\n",
        "else:\n",
        "\n",
        "  # Initializa counter for fastq files\n",
        "  j = 0\n",
        "\n",
        "  # Loop over samples for analysis\n",
        "  for i in range(no_samples):\n",
        "\n",
        "    fastqs_to_analyze = fastqs[j:j + fastqs_per_sample[i]]\n",
        "    # Write the kb count command as a string\n",
        "    cmd = \"kb count --h5ad -i ../index.idx -g ../t2g.txt -x \" + technology_kb + \" -o tccoutput\" + sample_id[i] + \" \\\n",
        "    --filter bustools --tcc -t 2 --overwrite \" + \"'\" +  \"' '\".join(fastqs_to_analyze) + \"'\"\n",
        "\n",
        "    # Execute it\n",
        "    !$cmd\n",
        "\n",
        "    # Update j to move to the next set of fastq\n",
        "    j = j + fastqs_per_sample[i]\n",
        "\n",
        "\n",
        "\n",
        "\n",
        "\n",
        "\n",
        "results = {}\n",
        "tcc_results = {}\n",
        "for sample in sample_id:\n",
        "  # Read the filtered gene count matrix\n",
        "  results[\"data_\" + sample] = anndata.read(\"/content/result\" + sample)\n",
        "\n",
        "\n",
        "for sample in sample_id:\n",
        "  output = \"bus_raw_\" + sample + \"_from_gc\"\n",
        "  !mkdir $output\n",
        "  folder_tcc = \"tccoutput\" + sample\n",
        "\n",
        "  # read tcc matrix\n",
        "  tcc_results[sample] = anndata.read(folder_tcc + \"/counts_unfiltered/adata.h5ad\")\n",
        "  # apply gene count matrix's filter\n",
        "  tcc_results[sample] = tcc_results[sample][results[\"data_\" + sample].obs.index.values]\n",
        "  # transfer obs data\n",
        "  tcc_results[sample].obs = results[\"data_\" + sample].obs\n",
        "  # transfer metadata\n",
        "  tcc_results[sample].uns = results[\"data_\" + sample].uns\n",
        "  # write tcc matrix\n",
        "  tcc_results[sample].write(\"/content/tcc_\" + sample)\n",
        "  #gzip tcc matrix\n",
        "  cmd = \"gzip /content/tcc_\" + sample\n",
        "  !$cmd\n",
        "  #gzip unfiltered bus file\n",
        "  cmd = \"gzip \" + folder_tcc + \"/output.unfiltered.bus\"\n",
        "  !$cmd\n",
        "  # move and re-name bus file with sample id\n",
        "  cmd = \"mv \" + folder_tcc + \"/output.unfiltered.bus.gz \" + output + \"/\" + sample +\".unfiltered.bus.gz\"\n",
        "  !$cmd\n",
        "  # gzip all unfiltered counts\n",
        "  cmd = \"gzip \" + folder_tcc + \"/counts_unfiltered/*\"\n",
        "  !$cmd\n",
        "\n",
        "  # move unfiltered counts for both\n",
        "  cmd = \"mv \" + folder_tcc + \"/counts_unfiltered \" + output + \"/tcc_unfiltered\"\n",
        "  !$cmd\n",
        "\n",
        "  cmd = \"mv \" + folder_tcc + \"/*.json \" + output \n",
        "  !$cmd\n",
        "  # zip all files\n",
        "  cmd = \"zip -r \"+ output + \".zip \" + output\n",
        "  !$cmd"
      ],
      "execution_count": 9,
      "outputs": [
        {
          "output_type": "stream",
          "text": [
            "[2021-03-19 21:17:13,970]    INFO Using index index.idx to generate BUS file to tccoutputGSM3738538 from\n",
            "[2021-03-19 21:17:13,970]    INFO         SRR8984439_2.fastq.gz\n",
            "[2021-03-19 21:17:13,971]    INFO         SRR8984439_3.fastq.gz\n",
            "[2021-03-19 21:17:13,971]    INFO         SRR8984440_2.fastq.gz\n",
            "[2021-03-19 21:17:13,971]    INFO         SRR8984440_3.fastq.gz\n",
            "[2021-03-19 21:17:13,971]    INFO         SRR8984441_2.fastq.gz\n",
            "[2021-03-19 21:17:13,971]    INFO         SRR8984441_3.fastq.gz\n",
            "[2021-03-19 21:17:13,971]    INFO         SRR8984442_2.fastq.gz\n",
            "[2021-03-19 21:17:13,971]    INFO         SRR8984442_3.fastq.gz\n",
            "[2021-03-19 21:53:06,445]    INFO Sorting BUS file tccoutputGSM3738538/output.bus to tccoutputGSM3738538/tmp/output.s.bus\n",
            "[2021-03-19 21:53:45,174]    INFO Whitelist not provided\n",
            "[2021-03-19 21:53:45,175]    INFO Copying pre-packaged 10XV2 whitelist to tccoutputGSM3738538\n",
            "[2021-03-19 21:53:45,288]    INFO Inspecting BUS file tccoutputGSM3738538/tmp/output.s.bus\n",
            "[2021-03-19 21:53:54,487]    INFO Correcting BUS records in tccoutputGSM3738538/tmp/output.s.bus to tccoutputGSM3738538/tmp/output.s.c.bus with whitelist tccoutputGSM3738538/10xv2_whitelist.txt\n",
            "[2021-03-19 21:54:01,586]    INFO Sorting BUS file tccoutputGSM3738538/tmp/output.s.c.bus to tccoutputGSM3738538/output.unfiltered.bus\n",
            "[2021-03-19 21:54:18,389]    INFO Generating count matrix tccoutputGSM3738538/counts_unfiltered/cells_x_tcc from BUS file tccoutputGSM3738538/output.unfiltered.bus\n",
            "[2021-03-19 21:54:48,682]    INFO Reading matrix tccoutputGSM3738538/counts_unfiltered/cells_x_tcc.mtx\n",
            "[2021-03-19 21:55:21,695]    INFO Writing matrix to h5ad tccoutputGSM3738538/counts_unfiltered/adata.h5ad\n",
            "[2021-03-19 21:57:50,979]    INFO Filtering with bustools\n",
            "[2021-03-19 21:57:50,979]    INFO Generating whitelist tccoutputGSM3738538/filter_barcodes.txt from BUS file tccoutputGSM3738538/output.unfiltered.bus\n",
            "[2021-03-19 21:57:51,300]    INFO Correcting BUS records in tccoutputGSM3738538/output.unfiltered.bus to tccoutputGSM3738538/tmp/output.unfiltered.c.bus with whitelist tccoutputGSM3738538/filter_barcodes.txt\n",
            "[2021-03-19 21:57:56,189]    INFO Sorting BUS file tccoutputGSM3738538/tmp/output.unfiltered.c.bus to tccoutputGSM3738538/output.filtered.bus\n",
            "[2021-03-19 21:58:15,559]    INFO Generating count matrix tccoutputGSM3738538/counts_filtered/cells_x_tcc from BUS file tccoutputGSM3738538/output.filtered.bus\n",
            "[2021-03-19 21:58:41,377]    INFO Reading matrix tccoutputGSM3738538/counts_filtered/cells_x_tcc.mtx\n",
            "[2021-03-19 21:59:11,373]    INFO Writing matrix to h5ad tccoutputGSM3738538/counts_filtered/adata.h5ad\n"
          ],
          "name": "stdout"
        },
        {
          "output_type": "stream",
          "text": [
            "Variable names are not unique. To make them unique, call `.var_names_make_unique`.\n"
          ],
          "name": "stderr"
        },
        {
          "output_type": "stream",
          "text": [
            "  adding: bus_raw_GSM3738538_from_gc/ (stored 0%)\n",
            "  adding: bus_raw_GSM3738538_from_gc/run_info.json (deflated 49%)\n",
            "  adding: bus_raw_GSM3738538_from_gc/inspect.json (deflated 57%)\n",
            "  adding: bus_raw_GSM3738538_from_gc/GSM3738538.unfiltered.bus.gz (deflated 4%)\n",
            "  adding: bus_raw_GSM3738538_from_gc/tcc_unfiltered/ (stored 0%)\n",
            "  adding: bus_raw_GSM3738538_from_gc/tcc_unfiltered/cells_x_tcc.mtx.gz (deflated 0%)\n",
            "  adding: bus_raw_GSM3738538_from_gc/tcc_unfiltered/cells_x_tcc.ec.txt.gz (deflated 1%)\n",
            "  adding: bus_raw_GSM3738538_from_gc/tcc_unfiltered/adata.h5ad.gz (deflated 6%)\n",
            "  adding: bus_raw_GSM3738538_from_gc/tcc_unfiltered/cells_x_tcc.barcodes.txt.gz (deflated 1%)\n",
            "  adding: bus_raw_GSM3738538_from_gc/kb_info.json (deflated 76%)\n"
          ],
          "name": "stdout"
        }
      ]
    }
  ]
}