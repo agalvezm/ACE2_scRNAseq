{
  "nbformat": 4,
  "nbformat_minor": 0,
  "metadata": {
    "colab": {
      "name": "GSE118127_GSM3319042.ipynb",
      "provenance": [],
      "collapsed_sections": [],
      "toc_visible": true,
      "include_colab_link": true
    },
    "kernelspec": {
      "name": "python3",
      "display_name": "Python 3"
    }
  },
  "cells": [
    {
      "cell_type": "markdown",
      "metadata": {
        "id": "view-in-github",
        "colab_type": "text"
      },
      "source": [
        "<a href=\"https://colab.research.google.com/github/agalvezm/ACE2_scRNAseq/blob/master/tcc/GSE118127_GSM3319042.ipynb\" target=\"_parent\"><img src=\"https://colab.research.google.com/assets/colab-badge.svg\" alt=\"Open In Colab\"/></a>"
      ]
    },
    {
      "cell_type": "markdown",
      "metadata": {
        "id": "V9ryXluJsJw9"
      },
      "source": [
        "# GSE118127_GSM3319042"
      ]
    },
    {
      "cell_type": "code",
      "metadata": {
        "id": "ggNFAQJCRh6P",
        "colab": {
          "base_uri": "https://localhost:8080/"
        },
        "outputId": "25262092-c87e-4de6-9a55-3abd4bf27f27"
      },
      "source": [
        "# define the values for the analysis\n",
        "\n",
        "# accession id for the data\n",
        "id = \"GSE118127\"\n",
        "samp_id = \"GSM3319042\"\n",
        "\n",
        "# If only bam available files, set bam = True, Fill link and filename\n",
        "bam = True\n",
        "\n",
        "if bam:\n",
        "  # Assign link to python variable\n",
        "  link_to_bam = \"https://sra-pub-src-1.s3.amazonaws.com/SRR7644633/sample_3_15.bam.1\"\n",
        "  \n",
        "  # Assigns the link to the bash variable BAM_LINK. To be used by wget\n",
        "  %env BAM_LINK=$link_to_bam\n",
        "\n",
        "  # Assign filename to python variable. Used to convert to fastq and remove bam file to fastq after conversion\n",
        "\n",
        "  bam_filename=\"sample_3_15.bam.1\"\n",
        "\n",
        "if not bam:\n",
        "  fastqs = [\"\",\n",
        "            \"\",\n",
        "            ]\n"
      ],
      "execution_count": 1,
      "outputs": [
        {
          "output_type": "stream",
          "text": [
            "env: BAM_LINK=https://sra-pub-src-1.s3.amazonaws.com/SRR7644633/sample_3_15.bam.1\n"
          ],
          "name": "stdout"
        }
      ]
    },
    {
      "cell_type": "code",
      "metadata": {
        "id": "5R3tPDqnoJUn"
      },
      "source": [
        "no_samples = 1\n",
        "\n",
        "sample_id = [samp_id] * no_samples\n",
        "\n",
        "database_id = [id] * no_samples\n",
        "\n",
        "tissue = [\"ovary\"] * no_samples\n",
        "\n",
        "cell_type = [\"folicle 1-2mm\"] * no_samples\n",
        "\n",
        "condition = [\"sample 3-15\"] * no_samples\n",
        "\n",
        "species = [\"human\"] * no_samples\n",
        "\n",
        "technology = [\"10xv2\"] * no_samples\n",
        "\n",
        "paper = [\"Muus et al 2020\"] * no_samples\n",
        "\n",
        "figure = [\"Fig 1 a,b  ED Fig 1 a,b,c,d  ED Fig 2 a,b,c,d,e\"] * no_samples\n",
        "\n",
        "\n",
        "# Set string variables for kb functions\n",
        "\n",
        "species_kb = species[0]\n",
        "\n",
        "technology_kb = technology[0]"
      ],
      "execution_count": 2,
      "outputs": []
    },
    {
      "cell_type": "markdown",
      "metadata": {
        "id": "FPwL0-_-KSAw"
      },
      "source": [
        "# Imports and installs"
      ]
    },
    {
      "cell_type": "code",
      "metadata": {
        "id": "1HSlUGZEp3oP",
        "colab": {
          "base_uri": "https://localhost:8080/"
        },
        "outputId": "0377306e-32fb-4a73-cdf4-b616117fd252"
      },
      "source": [
        "# install and import necessary software\n",
        "\n",
        "# Install kb and scanpy\n",
        "!pip -q install kb-python \n",
        "!pip -q install scanpy\n",
        "\n",
        "import re\n",
        "import os\n",
        "\n",
        "# Setup\n",
        "\n",
        "import anndata\n",
        "import pandas as pd\n",
        "import numpy as np\n",
        "import matplotlib.pyplot as plt\n",
        "import matplotlib as mpl\n",
        "import matplotlib.patches as mpatches\n",
        "import scanpy as sc\n",
        "from scipy import stats\n",
        "\n",
        "from collections import OrderedDict\n",
        "from sklearn.decomposition import TruncatedSVD\n",
        "from sklearn.manifold import TSNE\n",
        "from sklearn.preprocessing import scale\n",
        "\n",
        "from sklearn.cluster import KMeans\n",
        "from sklearn.preprocessing import normalize\n",
        "from sklearn.preprocessing import LabelEncoder\n",
        "from sklearn.neighbors import NeighborhoodComponentsAnalysis\n",
        "from matplotlib import cm\n",
        "from matplotlib.lines import Line2D\n",
        "\n",
        "def nd(arr):\n",
        "    return np.asarray(arr).reshape(-1)\n",
        "def yex(ax):\n",
        "    lims = [np.min([ax.get_xlim(), ax.get_ylim()]),\n",
        "            np.max([ax.get_xlim(), ax.get_ylim()])]\n",
        "\n",
        "    # now plot both limits against eachother\n",
        "    ax.plot(lims, lims, 'k-', alpha=0.75, zorder=0)\n",
        "    ax.set_aspect('equal')\n",
        "    ax.set_xlim(lims)\n",
        "    ax.set_ylim(lims)\n",
        "    return ax\n",
        "\n",
        "def trim_axs(axs, N):\n",
        "    \"\"\"little helper to massage the axs list to have correct length...\"\"\"\n",
        "    axs = axs.flat\n",
        "    for ax in axs[N:]:\n",
        "        ax.remove()\n",
        "    return axs[:N]\n",
        "\n",
        "import warnings\n",
        "warnings.filterwarnings('ignore')\n",
        "\n",
        "fsize=20\n",
        "\n",
        "plt.rcParams.update({'font.size': fsize})\n",
        "%config InlineBackend.figure_format = 'retina'"
      ],
      "execution_count": 3,
      "outputs": [
        {
          "output_type": "stream",
          "text": [
            "\u001b[K     |████████████████████████████████| 59.1MB 76kB/s \n",
            "\u001b[K     |████████████████████████████████| 51kB 6.1MB/s \n",
            "\u001b[K     |████████████████████████████████| 122kB 40.9MB/s \n",
            "\u001b[K     |████████████████████████████████| 10.3MB 45.8MB/s \n",
            "\u001b[K     |████████████████████████████████| 13.2MB 53.9MB/s \n",
            "\u001b[K     |████████████████████████████████| 112kB 60.1MB/s \n",
            "\u001b[K     |████████████████████████████████| 51kB 5.6MB/s \n",
            "\u001b[K     |████████████████████████████████| 71kB 7.8MB/s \n",
            "\u001b[?25h  Building wheel for loompy (setup.py) ... \u001b[?25l\u001b[?25hdone\n",
            "  Building wheel for numpy-groupies (setup.py) ... \u001b[?25l\u001b[?25hdone\n",
            "  Building wheel for sinfo (setup.py) ... \u001b[?25l\u001b[?25hdone\n"
          ],
          "name": "stdout"
        }
      ]
    },
    {
      "cell_type": "markdown",
      "metadata": {
        "id": "7V6FbosVrvP4"
      },
      "source": [
        "# Downloads: (bam (if bam) and index"
      ]
    },
    {
      "cell_type": "code",
      "metadata": {
        "id": "q46hw4zqKUPS",
        "colab": {
          "base_uri": "https://localhost:8080/"
        },
        "outputId": "49e2615d-ccb2-4c98-b8d6-8c30695f788a"
      },
      "source": [
        "if bam:\n",
        "\n",
        "  # Install bamtofastq from 10x website (only bam files available)\n",
        "  !wget http://cf.10xgenomics.com/misc/bamtofastq-1.2.0\n",
        "  !chmod +x bamtofastq-1.2.0\n",
        "  # Download the bam file\n",
        "  !wget -- continue ${BAM_LINK}\n",
        "\n",
        "\n"
      ],
      "execution_count": 4,
      "outputs": [
        {
          "output_type": "stream",
          "text": [
            "--2021-03-01 03:01:42--  http://cf.10xgenomics.com/misc/bamtofastq-1.2.0\n",
            "Resolving cf.10xgenomics.com (cf.10xgenomics.com)... 104.18.0.173, 104.18.1.173, 2606:4700::6812:ad, ...\n",
            "Connecting to cf.10xgenomics.com (cf.10xgenomics.com)|104.18.0.173|:80... connected.\n",
            "HTTP request sent, awaiting response... 301 Moved Permanently\n",
            "Location: https://cf.10xgenomics.com/misc/bamtofastq-1.2.0 [following]\n",
            "--2021-03-01 03:01:42--  https://cf.10xgenomics.com/misc/bamtofastq-1.2.0\n",
            "Connecting to cf.10xgenomics.com (cf.10xgenomics.com)|104.18.0.173|:443... connected.\n",
            "HTTP request sent, awaiting response... 200 OK\n",
            "Length: 13288280 (13M) [binary/octet-stream]\n",
            "Saving to: ‘bamtofastq-1.2.0’\n",
            "\n",
            "bamtofastq-1.2.0    100%[===================>]  12.67M  --.-KB/s    in 0.1s    \n",
            "\n",
            "2021-03-01 03:01:42 (90.4 MB/s) - ‘bamtofastq-1.2.0’ saved [13288280/13288280]\n",
            "\n",
            "--2021-03-01 03:01:42--  http://continue/\n",
            "Resolving continue (continue)... failed: Name or service not known.\n",
            "wget: unable to resolve host address ‘continue’\n",
            "--2021-03-01 03:01:43--  https://sra-pub-src-1.s3.amazonaws.com/SRR7644633/sample_3_15.bam.1\n",
            "Resolving sra-pub-src-1.s3.amazonaws.com (sra-pub-src-1.s3.amazonaws.com)... 52.217.2.4\n",
            "Connecting to sra-pub-src-1.s3.amazonaws.com (sra-pub-src-1.s3.amazonaws.com)|52.217.2.4|:443... connected.\n",
            "HTTP request sent, awaiting response... 200 OK\n",
            "Length: 5501622150 (5.1G) [application/x-troff-man]\n",
            "Saving to: ‘sample_3_15.bam.1’\n",
            "\n",
            "sample_3_15.bam.1   100%[===================>]   5.12G  39.5MB/s    in 2m 17s  \n",
            "\n",
            "2021-03-01 03:03:59 (38.4 MB/s) - ‘sample_3_15.bam.1’ saved [5501622150/5501622150]\n",
            "\n",
            "FINISHED --2021-03-01 03:03:59--\n",
            "Total wall clock time: 2m 17s\n",
            "Downloaded: 1 files, 5.1G in 2m 17s (38.4 MB/s)\n"
          ],
          "name": "stdout"
        }
      ]
    },
    {
      "cell_type": "code",
      "metadata": {
        "id": "tDQlrjtqNF0m",
        "colab": {
          "base_uri": "https://localhost:8080/"
        },
        "outputId": "4a221326-1583-459e-de8a-4407f5ad8d51"
      },
      "source": [
        "if bam:\n",
        "  # Convert to fastq\n",
        "  !./bamtofastq-1.2.0 --reads-per-fastq=500000000 $bam_filename ./fastqs\\\n",
        "\n",
        "  # Remove original bam file to save space\n",
        "  !rm $bam_filename\n"
      ],
      "execution_count": 5,
      "outputs": [
        {
          "output_type": "stream",
          "text": [
            "bamtofastq v1.2.0\n",
            "Args { arg_bam: \"sample_3_15.bam.1\", arg_output_path: \"./fastqs\", flag_nthreads: 4, flag_locus: None, flag_bx_list: None, flag_reads_per_fastq: 500000000, flag_gemcode: false, flag_lr20: false, flag_cr11: false }\n",
            "Writing finished.  Observed 48996970 read pairs. Wrote 48996970 read pairs\n"
          ],
          "name": "stdout"
        }
      ]
    },
    {
      "cell_type": "code",
      "metadata": {
        "id": "SXRDRphvqcLe",
        "colab": {
          "base_uri": "https://localhost:8080/"
        },
        "outputId": "3594d7a4-080f-4215-b899-b7a69be34803"
      },
      "source": [
        "# Store fastq names on a list\n",
        "\n",
        "if bam:\n",
        "  # cd into fastqs folder\n",
        "  %cd /content/fastqs\n",
        "\n",
        "  #store the name of the folder generated by bamtofastq\n",
        "  _filename = os.listdir()[0]\n",
        "\n",
        "  # cd into that folder\n",
        "  %cd $_filename\n",
        "\n",
        "  # store fastq names in a list\n",
        "  fastqs = os.listdir()\n",
        "\n",
        "\n",
        "  # Remove I1 and R3 reads not relevant for our analysis\n",
        "\n",
        "  # Initialize list containing elements to remove\n",
        "  remov_elem = []\n",
        "\n",
        "  print (\"\\n\\nThis is the complete list of fastqs:\\n -----------\")\n",
        "  for elem in fastqs:\n",
        "    print (elem)\n",
        "\n",
        "  # Search index (I1 or R3) fastqs and remove them from list\n",
        "  for elem in fastqs:\n",
        "    if re.search(\"_R3_\", elem) or re.search(\"_I1_\", elem):\n",
        "      remov_elem = remov_elem +[elem]\n",
        "\n",
        "  fastqs = [elem for elem in fastqs if elem not in remov_elem] \n",
        "\n",
        "  print (\"\\n\\nThis is the filtered list of fastqs:\\n -----------\")\n",
        "  for elem in fastqs:\n",
        "    print (elem)\n"
      ],
      "execution_count": 6,
      "outputs": [
        {
          "output_type": "stream",
          "text": [
            "/content/fastqs\n",
            "/content/fastqs/sample_3-15_MissingLibrary_1_HW5YGBBXX\n",
            "\n",
            "\n",
            "This is the complete list of fastqs:\n",
            " -----------\n",
            "bamtofastq_S1_L006_I1_001.fastq.gz\n",
            "bamtofastq_S1_L006_R2_001.fastq.gz\n",
            "bamtofastq_S1_L006_R1_001.fastq.gz\n",
            "\n",
            "\n",
            "This is the filtered list of fastqs:\n",
            " -----------\n",
            "bamtofastq_S1_L006_R2_001.fastq.gz\n",
            "bamtofastq_S1_L006_R1_001.fastq.gz\n"
          ],
          "name": "stdout"
        }
      ]
    },
    {
      "cell_type": "code",
      "metadata": {
        "id": "ZnFcqcSgjLBw"
      },
      "source": [
        "# Remove fastqs that wont be analyzed to save space\n",
        "if bam:\n",
        "  for elem in remov_elem:\n",
        "    !rm $elem"
      ],
      "execution_count": 7,
      "outputs": []
    },
    {
      "cell_type": "code",
      "metadata": {
        "id": "FLVS8aB7Dm6J"
      },
      "source": [
        "if bam:\n",
        "  # sort fastqs alphabetically to get R1 and R2 in order\n",
        "  fastqs = sorted(fastqs)"
      ],
      "execution_count": 8,
      "outputs": []
    },
    {
      "cell_type": "code",
      "metadata": {
        "id": "PC9oETW1pE9t",
        "colab": {
          "base_uri": "https://localhost:8080/"
        },
        "outputId": "d7722573-261e-4aa6-ba5a-29c37e1f7bfb"
      },
      "source": [
        "if bam:\n",
        "  # Download the corresponding Kallisto index to folder containing fastqs\n",
        "  !kb ref -d $species_kb -i index.idx -g t2g.txt -f1 transcriptome.fasta\n",
        "\n",
        "if not bam:\n",
        "  %cd /content\n",
        "\n",
        "  # Download the corresponding Kallisto index to content folder\n",
        "  !kb ref -d $species_kb -i index.idx -g t2g.txt -f1 transcriptome.fasta"
      ],
      "execution_count": 9,
      "outputs": [
        {
          "output_type": "stream",
          "text": [
            "[2021-03-01 03:13:34,792]    INFO Downloading files for human from https://caltech.box.com/shared/static/v1nm7lpnqz5syh8dyzdk2zs8bglncfib.gz to tmp/v1nm7lpnqz5syh8dyzdk2zs8bglncfib.gz\n",
            "100% 2.23G/2.23G [01:34<00:00, 25.4MB/s]\n",
            "[2021-03-01 03:15:10,270]    INFO Extracting files from tmp/v1nm7lpnqz5syh8dyzdk2zs8bglncfib.gz\n"
          ],
          "name": "stdout"
        }
      ]
    },
    {
      "cell_type": "code",
      "metadata": {
        "id": "vHVNa51Cp9Nr",
        "colab": {
          "base_uri": "https://localhost:8080/"
        },
        "outputId": "dd8414d5-d223-46b7-914a-840131afdb41"
      },
      "source": [
        "print(fastqs)"
      ],
      "execution_count": 10,
      "outputs": [
        {
          "output_type": "stream",
          "text": [
            "['bamtofastq_S1_L006_R1_001.fastq.gz', 'bamtofastq_S1_L006_R2_001.fastq.gz']\n"
          ],
          "name": "stdout"
        }
      ]
    },
    {
      "cell_type": "markdown",
      "metadata": {
        "id": "VInyuq1Dp7iz"
      },
      "source": [
        "# Process fastq files (modify kb command according to fastqs list)\n"
      ]
    },
    {
      "cell_type": "code",
      "metadata": {
        "id": "OcqtBuH-pRaX",
        "colab": {
          "base_uri": "https://localhost:8080/"
        },
        "outputId": "38f86be2-5ec9-4c32-e1ba-7322add97190"
      },
      "source": [
        "fastqs"
      ],
      "execution_count": 11,
      "outputs": [
        {
          "output_type": "execute_result",
          "data": {
            "text/plain": [
              "['bamtofastq_S1_L006_R1_001.fastq.gz', 'bamtofastq_S1_L006_R2_001.fastq.gz']"
            ]
          },
          "metadata": {
            "tags": []
          },
          "execution_count": 11
        }
      ]
    },
    {
      "cell_type": "code",
      "metadata": {
        "id": "5qFzPj-0kZTi",
        "colab": {
          "base_uri": "https://localhost:8080/"
        },
        "outputId": "1142d725-80f3-4ab6-fa8b-9456d06ba2ce"
      },
      "source": [
        "# Specify the sample number and whether they are paired-ended\n",
        "number_of_samples = 1\n",
        "fastqs_per_sample = 2\n",
        "\n",
        "if number_of_samples == 1:\n",
        "\n",
        "  # Write the kb count command as a string with all fastqs of the list as an input\n",
        "  cmd = \"kb count --h5ad -i index.idx -g t2g.txt -x \" + technology_kb + \" -o output\" + sample_id[0] + \" \"\\\n",
        "  + \"--filter bustools -t 2 --overwrite \" + \"'\" +  \"' '\".join(fastqs) + \"'\"\n",
        "  \n",
        "  # Execute it\n",
        "  !$cmd\n",
        "\n",
        "# If more than one sample, iterate through fastqs accordingly\n",
        "else:\n",
        "\n",
        "  # Initializa counter for fastq files\n",
        "  j = 0\n",
        "\n",
        "  # Loop over samples for analysis\n",
        "  for i in range(number_of_samples):\n",
        "\n",
        "    # Write the kb count command as a string\n",
        "    cmd = \"kb count --h5ad -i index.idx -g t2g.txt -x \" + technology_kb + \" -o output\" + sample_id[i] + \" \\\n",
        "    --filter bustools -t 2 --overwrite \" +\\\n",
        "    fastqs[j] + \" \" + fastqs[j+1]\n",
        "\n",
        "    # Execute it\n",
        "    !$cmd\n",
        "\n",
        "    # Update j to move to the next set of fastq\n",
        "    j = j + fastqs_per_sample\n",
        "\n",
        "\n",
        "\n"
      ],
      "execution_count": 12,
      "outputs": [
        {
          "output_type": "stream",
          "text": [
            "[2021-03-01 03:15:50,795]    INFO Using index index.idx to generate BUS file to outputGSM3319042 from\n",
            "[2021-03-01 03:15:50,795]    INFO         bamtofastq_S1_L006_R1_001.fastq.gz\n",
            "[2021-03-01 03:15:50,795]    INFO         bamtofastq_S1_L006_R2_001.fastq.gz\n",
            "[2021-03-01 03:24:59,602]    INFO Sorting BUS file outputGSM3319042/output.bus to outputGSM3319042/tmp/output.s.bus\n",
            "[2021-03-01 03:25:12,587]    INFO Whitelist not provided\n",
            "[2021-03-01 03:25:12,588]    INFO Copying pre-packaged 10XV2 whitelist to outputGSM3319042\n",
            "[2021-03-01 03:25:12,714]    INFO Inspecting BUS file outputGSM3319042/tmp/output.s.bus\n",
            "[2021-03-01 03:25:16,460]    INFO Correcting BUS records in outputGSM3319042/tmp/output.s.bus to outputGSM3319042/tmp/output.s.c.bus with whitelist outputGSM3319042/10xv2_whitelist.txt\n",
            "[2021-03-01 03:25:18,957]    INFO Sorting BUS file outputGSM3319042/tmp/output.s.c.bus to outputGSM3319042/output.unfiltered.bus\n",
            "[2021-03-01 03:25:23,989]    INFO Generating count matrix outputGSM3319042/counts_unfiltered/cells_x_genes from BUS file outputGSM3319042/output.unfiltered.bus\n",
            "[2021-03-01 03:25:29,946]    INFO Reading matrix outputGSM3319042/counts_unfiltered/cells_x_genes.mtx\n",
            "[2021-03-01 03:25:32,456]    INFO Writing matrix to h5ad outputGSM3319042/counts_unfiltered/adata.h5ad\n",
            "[2021-03-01 03:25:33,218]    INFO Filtering with bustools\n",
            "[2021-03-01 03:25:33,218]    INFO Generating whitelist outputGSM3319042/filter_barcodes.txt from BUS file outputGSM3319042/output.unfiltered.bus\n",
            "[2021-03-01 03:25:33,269]    INFO Correcting BUS records in outputGSM3319042/output.unfiltered.bus to outputGSM3319042/tmp/output.unfiltered.c.bus with whitelist outputGSM3319042/filter_barcodes.txt\n",
            "[2021-03-01 03:25:34,573]    INFO Sorting BUS file outputGSM3319042/tmp/output.unfiltered.c.bus to outputGSM3319042/output.filtered.bus\n",
            "[2021-03-01 03:25:39,304]    INFO Generating count matrix outputGSM3319042/counts_filtered/cells_x_genes from BUS file outputGSM3319042/output.filtered.bus\n",
            "[2021-03-01 03:25:44,491]    INFO Reading matrix outputGSM3319042/counts_filtered/cells_x_genes.mtx\n",
            "[2021-03-01 03:25:46,285]    INFO Writing matrix to h5ad outputGSM3319042/counts_filtered/adata.h5ad\n"
          ],
          "name": "stdout"
        }
      ]
    },
    {
      "cell_type": "markdown",
      "metadata": {
        "id": "tDijOZzrqhN2"
      },
      "source": [
        "# Load unfiltered matrix and assign filters to each matrix individually"
      ]
    },
    {
      "cell_type": "markdown",
      "metadata": {
        "id": "VkNLZh_pNFFw"
      },
      "source": [
        "## Load the unfiltered matrix (check dimensions)"
      ]
    },
    {
      "cell_type": "code",
      "metadata": {
        "id": "PppRNeV8AIyw"
      },
      "source": [
        "# Define dict to store data\n",
        "results = {}\n"
      ],
      "execution_count": 13,
      "outputs": []
    },
    {
      "cell_type": "code",
      "metadata": {
        "id": "pKmtGf3c_BiZ",
        "cellView": "both",
        "colab": {
          "base_uri": "https://localhost:8080/"
        },
        "outputId": "11e0c3d4-9dc0-4aea-cdd6-578e2805942e"
      },
      "source": [
        "# load the unfiltered matrix\n",
        "for i in range(number_of_samples):\n",
        "  results[sample_id[i]] = anndata.read_h5ad(\"output\" + sample_id[i] + \"/counts_unfiltered/adata.h5ad\")\n",
        "  results[sample_id[i]].var[\"gene_id\"] = results[sample_id[i]].var.index.values\n",
        "\n",
        "  t2g = pd.read_csv(\"t2g.txt\", header=None, names=[\"tid\", \"gene_id\", \"gene_name\"], sep=\"\\t\")\n",
        "  t2g.index = t2g.gene_id\n",
        "  t2g = t2g.loc[~t2g.index.duplicated(keep='first')]\n",
        "\n",
        "  results[sample_id[i]].var[\"gene_name\"] = results[sample_id[i]].var.gene_id.map(t2g[\"gene_name\"])\n",
        "  results[sample_id[i]].var.index = results[sample_id[i]].var[\"gene_name\"]\n",
        "  print(\"The unfiltered matrix \" + sample_id[i] + \" contains {} cells by {} genes\".format(len(results[sample_id[i]].obs), len(results[sample_id[i]].var)))\n",
        "\n",
        "  results[sample_id[i]].obs[\"cell_counts\"] = results[sample_id[i]].X.sum(axis=1)\n",
        "  results[sample_id[i]].var[\"gene_counts\"] = nd(results[sample_id[i]].X.sum(axis=0))\n",
        "\n",
        "  results[sample_id[i]].obs[\"n_genes\"] = nd((results[sample_id[i]].X>0).sum(axis=1))\n",
        "  results[sample_id[i]].var[\"n_cells\"] = nd((results[sample_id[i]].X>0).sum(axis=0))\n",
        "\n",
        "  mito_genes = results[sample_id[i]].var_names.str.startswith(\"MT-\" or \"mt-\") \n",
        "  results[sample_id[i]].obs[\"percent_mito\"] = results[sample_id[i]][:,mito_genes].X.sum(axis=1)/results[sample_id[i]].X.sum(axis=1)*100\n",
        "\n",
        "  # Changing the name of the index is necessary to write the file (it won't work with duplicated names)\n",
        "  results[sample_id[i]].var.index.name = \"index\"\n",
        "\n"
      ],
      "execution_count": 14,
      "outputs": [
        {
          "output_type": "stream",
          "text": [
            "The unfiltered matrix GSM3319042 contains 108354 cells by 60623 genes\n"
          ],
          "name": "stdout"
        }
      ]
    },
    {
      "cell_type": "markdown",
      "metadata": {
        "id": "hDAUH3eH_2RA"
      },
      "source": [
        "## Assign filters for each matrix individually"
      ]
    },
    {
      "cell_type": "code",
      "metadata": {
        "id": "ukinuaKk_6Po"
      },
      "source": [
        "# Modify this manually to change sample after having assigned the \"expected_num_cells\" and \"mito_criteria\" parameters\n",
        "samp_n = 0\n",
        "\n",
        "\n",
        "# Filtering criteria\n",
        "cell_threshold = 100\n",
        "gene_threshold = 3\n",
        "\n",
        "mito_criteria = 30"
      ],
      "execution_count": 15,
      "outputs": []
    },
    {
      "cell_type": "code",
      "metadata": {
        "id": "a5wZB5pEfwNs",
        "cellView": "form",
        "colab": {
          "base_uri": "https://localhost:8080/",
          "height": 708
        },
        "outputId": "b4ed55de-7332-438a-f19b-11fcace3705d"
      },
      "source": [
        "\n",
        "expected_num_cells = 2000#@param {type:\"integer\"}\n",
        "knee = np.sort(nd(results[sample_id[i]].X.sum(axis=1)))[::-1]\n",
        "\n",
        "fig, ax = plt.subplots(figsize=(5, 5))\n",
        "\n",
        "x = knee\n",
        "y = range(len(knee))\n",
        "\n",
        "ax.loglog(x, y, linewidth=5, color=\"g\")\n",
        "\n",
        "ax.axvline(x=knee[expected_num_cells], linewidth=3, color=\"k\")\n",
        "ax.axhline(y=expected_num_cells, linewidth=3, color=\"k\")\n",
        "\n",
        "ax.set_xlabel(\"UMI Counts\")\n",
        "ax.set_ylabel(\"Set of Barcodes\")\n",
        "\n",
        "plt.show()\n",
        "\n",
        "cell_threshold = knee[expected_num_cells]\n",
        "\n",
        "results[\"cell_threshold\" + sample_id[samp_n]] = knee[expected_num_cells]\n",
        "\n",
        "print (\"Cells were filtered down to \" + str(expected_num_cells) + \" with at least \" + str(cell_threshold) + \" UMIs\")\n",
        "\n",
        "\n",
        "mito_criteria = 30#@param {type:\"integer\"}\n",
        "results[\"mito_criteria\" + sample_id[samp_n]] = mito_criteria\n",
        "\n",
        "fig, ax = plt.subplots(figsize=(5,5))\n",
        "\n",
        "\n",
        "x = nd(results[sample_id[i]].obs[\"cell_counts\"][results[sample_id[i]].obs[\"cell_counts\"] > cell_threshold])\n",
        "y = nd(results[sample_id[i]].obs[\"percent_mito\"][results[sample_id[i]].obs[\"cell_counts\"] > cell_threshold])\n",
        "\n",
        "ax.scatter(x, y, color=\"green\", alpha=0.1)\n",
        "\n",
        "ax.axhline(y=mito_criteria, linestyle=\"--\", color=\"k\")\n",
        "\n",
        "\n",
        "ax.set_xlabel(\"UMI Counts\")\n",
        "ax.set_ylabel(\"Percent mito\")\n",
        "\n",
        "\n",
        "plt.show()\n",
        "\n",
        "print(\"We select \" + str(mito_criteria) + \" % as the mitochondrial content threshold\")"
      ],
      "execution_count": 16,
      "outputs": [
        {
          "output_type": "display_data",
          "data": {
            "image/png": "[encoded data removed]",
            "text/plain": [
              "<Figure size 360x360 with 1 Axes>"
            ]
          },
          "metadata": {
            "tags": [],
            "image/png": {
              "width": 358,
              "height": 337
            },
            "needs_background": "light"
          }
        },
        {
          "output_type": "stream",
          "text": [
            "Cells were filtered down to 2000 with at least 24.0 UMIs\n"
          ],
          "name": "stdout"
        },
        {
          "output_type": "display_data",
          "data": {
            "image/png": "[encoded data removed]",
            "text/plain": [
              "<Figure size 360x360 with 1 Axes>"
            ]
          },
          "metadata": {
            "tags": [],
            "image/png": {
              "width": 362,
              "height": 337
            },
            "needs_background": "light"
          }
        }
      ]
    },
    {
      "cell_type": "markdown",
      "metadata": {
        "id": "eP9j2ouPq9KY"
      },
      "source": [
        "# Filter matrix"
      ]
    },
    {
      "cell_type": "code",
      "metadata": {
        "id": "sE51WUA3gVmG",
        "colab": {
          "base_uri": "https://localhost:8080/"
        },
        "outputId": "f9a94a87-dafc-4f2b-ba72-04bb4fabcbea"
      },
      "source": [
        "for i in range(number_of_samples):\n",
        "  results[sample_id[i]].obs[\"pass_count_filter\"] = results[sample_id[i]].obs[\"cell_counts\"] > results[\"cell_threshold\" + sample_id[i]]\n",
        "  results[sample_id[i]].obs[\"pass_mito_filter\"] = results[sample_id[i]].obs.percent_mito < results[\"mito_criteria\" + sample_id[i]]\n",
        "  results[sample_id[i]].var[\"pass_gene_filter\"] = results[sample_id[i]].var[\"n_cells\"] > gene_threshold\n",
        "\n",
        "  cell_mask = np.logical_and(results[sample_id[i]].obs[\"pass_count_filter\"].values, results[sample_id[i]].obs[\"pass_mito_filter\"].values)\n",
        "  gene_mask = results[sample_id[i]].var[\"pass_gene_filter\"].values\n",
        "\n",
        "  print(\"Current Shape: {:,} cells x {:,} genes\".format(results[sample_id[i]].shape[0], results[sample_id[i]].shape[1]))\n",
        "  print(\"    New shape: {:,} cells x {:,} genes\".format(cell_mask.sum(), gene_mask.sum()))\n",
        "  results[\"data_\" + sample_id[i]] = results[sample_id[i]][cell_mask, gene_mask]"
      ],
      "execution_count": 17,
      "outputs": [
        {
          "output_type": "stream",
          "text": [
            "We select 30 % as the mitochondrial content threshold\n",
            "Current Shape: 108,354 cells x 60,623 genes\n",
            "    New shape: 1,687 cells x 16,693 genes\n"
          ],
          "name": "stdout"
        }
      ]
    },
    {
      "cell_type": "markdown",
      "metadata": {
        "id": "BxPA81yj4TlU"
      },
      "source": [
        "# Anotate and write the Anndata object"
      ]
    },
    {
      "cell_type": "code",
      "metadata": {
        "id": "O-q_Qj2U4kDU",
        "colab": {
          "base_uri": "https://localhost:8080/"
        },
        "outputId": "cd4704b7-f135-4fa7-d41b-a725c2767571"
      },
      "source": [
        "for i in range(number_of_samples):\n",
        "\n",
        "\n",
        "  results[\"data_\" + sample_id[i]].uns[\"database_id\"] = database_id[samp_n]\n",
        "\n",
        "  results[\"data_\" + sample_id[i]].uns[\"tissue\"] = tissue[samp_n]\n",
        "\n",
        "  results[\"data_\" + sample_id[i]].uns[\"cell_type\"] = cell_type[samp_n]\n",
        "\n",
        "  results[\"data_\" + sample_id[i]].uns[\"sample_id\"] = sample_id[samp_n]\n",
        "\n",
        "  results[\"data_\" + sample_id[i]].uns[\"condition\"] = condition[samp_n]\n",
        "\n",
        "  results[\"data_\" + sample_id[i]].uns[\"species\"] = species[samp_n]\n",
        "\n",
        "  results[\"data_\" + sample_id[i]].uns[\"technology\"] = technology[samp_n]\n",
        "\n",
        "  results[\"data_\" + sample_id[i]].uns[\"paper\"] = paper[samp_n]\n",
        "\n",
        "  results[\"data_\" + sample_id[i]].uns[\"figure\"] = figure[samp_n]"
      ],
      "execution_count": 18,
      "outputs": [
        {
          "output_type": "stream",
          "text": [
            "Trying to set attribute `.uns` of view, copying.\n",
            "Variable names are not unique. To make them unique, call `.var_names_make_unique`.\n",
            "Variable names are not unique. To make them unique, call `.var_names_make_unique`.\n"
          ],
          "name": "stderr"
        }
      ]
    },
    {
      "cell_type": "code",
      "metadata": {
        "id": "ICc77J94_Kye",
        "colab": {
          "base_uri": "https://localhost:8080/"
        },
        "outputId": "1151b1e2-5334-45a9-a9d2-5383fe4f57b1"
      },
      "source": [
        "%cd /content\n",
        "\n",
        "for i in range(number_of_samples):\n",
        "\n",
        "  results[\"data_\" + sample_id[i]].write(\"result\" + sample_id[i])"
      ],
      "execution_count": 19,
      "outputs": [
        {
          "output_type": "stream",
          "text": [
            "/content\n"
          ],
          "name": "stdout"
        },
        {
          "output_type": "stream",
          "text": [
            "... storing 'gene_name' as categorical\n"
          ],
          "name": "stderr"
        }
      ]
    },
    {
      "cell_type": "code",
      "metadata": {
        "id": "I4Rg3tOS21i7",
        "outputId": "ab120f7c-f1b1-4e2a-fb11-49f5cd8ada27",
        "colab": {
          "base_uri": "https://localhost:8080/",
          "height": 35
        }
      },
      "source": [
        "_filename"
      ],
      "execution_count": 22,
      "outputs": [
        {
          "output_type": "execute_result",
          "data": {
            "application/vnd.google.colaboratory.intrinsic+json": {
              "type": "string"
            },
            "text/plain": [
              "'sample_3-15_MissingLibrary_1_HW5YGBBXX'"
            ]
          },
          "metadata": {
            "tags": []
          },
          "execution_count": 22
        }
      ]
    },
    {
      "cell_type": "code",
      "metadata": {
        "id": "0aTzFDDUuz7g",
        "outputId": "ee6129ce-bae1-4cde-c35a-38367eaf819d",
        "colab": {
          "base_uri": "https://localhost:8080/"
        }
      },
      "source": [
        "'''\n",
        "Create TCC matrix\n",
        "'''\n",
        "if not bam:\n",
        "  %cd /content/fastqs\n",
        "\n",
        "if bam:\n",
        "  %cd /content/fastqs/$_filename\n",
        "\n",
        "if no_samples == 1:\n",
        "\n",
        "  # Write the kb count command as a string with all fastqs of the list as an input\n",
        "  cmd = \"kb count --h5ad -i index.idx -g t2g.txt -x \" + technology_kb + \" -o tccoutput\" + sample_id[0] + \" \"\\\n",
        "  + \"--filter bustools -t 2 --tcc --overwrite \" + \"'\" +  \"' '\".join(fastqs) + \"'\"\n",
        "  \n",
        "  # Execute it\n",
        "  !$cmd\n",
        "\n",
        "# If more than one sample, iterate through fastqs accordingly\n",
        "else:\n",
        "\n",
        "  # Initializa counter for fastq files\n",
        "  j = 0\n",
        "\n",
        "  # Loop over samples for analysis\n",
        "  for i in range(no_samples):\n",
        "\n",
        "    fastqs_to_analyze = fastqs[j:j + fastqs_per_sample[i]]\n",
        "    # Write the kb count command as a string\n",
        "    cmd = \"kb count --h5ad -i index.idx -g t2g.txt -x \" + technology_kb + \" -o tccoutput\" + sample_id[i] + \" \\\n",
        "    --filter bustools -t 2 --tcc --overwrite \" + \"'\" +  \"' '\".join(fastqs_to_analyze) + \"'\"\n",
        "\n",
        "    # Execute it\n",
        "    !$cmd\n",
        "\n",
        "    # Update j to move to the next set of fastq\n",
        "    j = j + fastqs_per_sample[i]\n",
        "\n",
        "\n",
        "tcc_results = {}\n",
        "\n",
        "for sample in sample_id:\n",
        "  output = \"bus_raw_\" + sample\n",
        "  !mkdir $output\n",
        "  folder_tcc = \"tccoutput\" + sample\n",
        "  folder_gc = \"output\" + sample\n",
        "\n",
        "  # read tcc matrix\n",
        "  tcc_results[sample] = anndata.read(folder_tcc + \"/counts_unfiltered/adata.h5ad\")\n",
        "  # apply gene count matrix's filter\n",
        "  tcc_results[sample] = tcc_results[sample][results[\"data_\" + sample_id[i]].obs.index.values]\n",
        "  # transfer obs data\n",
        "  tcc_results[sample].obs = results[\"data_\" + sample].obs\n",
        "  # transfer metadata\n",
        "  tcc_results[sample].uns = results[\"data_\" + sample].uns\n",
        "  # write tcc matrix\n",
        "  tcc_results[sample].write(\"/content/tcc_\" + sample)\n",
        "  #gzip tcc matrix\n",
        "  cmd = \"gzip /content/tcc_\" + sample\n",
        "  !$cmd\n",
        "  #gzip filtered bus file\n",
        "  cmd = \"gzip \" + folder_tcc + \"/output.filtered.bus\"\n",
        "  !$cmd\n",
        "  # move and re-name bus file with sample id\n",
        "  cmd = \"mv \" + folder_tcc + \"/output.filtered.bus.gz \" + output + \"/\" + sample +\".filtered.bus.gz\"\n",
        "  !$cmd\n",
        "  # gzip all unfiltered counts\n",
        "  cmd = \"gzip \" + folder_tcc + \"/counts_unfiltered/*\"\n",
        "  !$cmd\n",
        "  cmd = \"gzip \" + folder_gc + \"/counts_unfiltered/*\"\n",
        "  !$cmd\n",
        "  # move unfiltered counts for both\n",
        "  cmd = \"mv \" + folder_tcc + \"/counts_unfiltered \" + output + \"/tcc_unfiltered\"\n",
        "  !$cmd\n",
        "  cmd = \"mv \" + folder_gc + \"/counts_unfiltered \" + output + \"/gc_unfiltered\"\n",
        "  !$cmd\n",
        "\n",
        "  # zip all files\n",
        "  cmd = \"zip -r /content\" + output + \".zip \" + output\n",
        "  !$cmd"
      ],
      "execution_count": 29,
      "outputs": [
        {
          "output_type": "stream",
          "text": [
            "/content/fastqs/sample_3-15_MissingLibrary_1_HW5YGBBXX\n",
            "[2021-03-01 03:39:17,102]    INFO Using index index.idx to generate BUS file to tccoutputGSM3319042 from\n",
            "[2021-03-01 03:39:17,102]    INFO         bamtofastq_S1_L006_R1_001.fastq.gz\n",
            "[2021-03-01 03:39:17,102]    INFO         bamtofastq_S1_L006_R2_001.fastq.gz\n",
            "[2021-03-01 03:48:31,578]    INFO Sorting BUS file tccoutputGSM3319042/output.bus to tccoutputGSM3319042/tmp/output.s.bus\n",
            "[2021-03-01 03:48:43,349]    INFO Whitelist not provided\n",
            "[2021-03-01 03:48:43,350]    INFO Copying pre-packaged 10XV2 whitelist to tccoutputGSM3319042\n",
            "[2021-03-01 03:48:43,479]    INFO Inspecting BUS file tccoutputGSM3319042/tmp/output.s.bus\n",
            "[2021-03-01 03:48:47,010]    INFO Correcting BUS records in tccoutputGSM3319042/tmp/output.s.bus to tccoutputGSM3319042/tmp/output.s.c.bus with whitelist tccoutputGSM3319042/10xv2_whitelist.txt\n",
            "[2021-03-01 03:48:49,455]    INFO Sorting BUS file tccoutputGSM3319042/tmp/output.s.c.bus to tccoutputGSM3319042/output.unfiltered.bus\n",
            "[2021-03-01 03:48:54,376]    INFO Generating count matrix tccoutputGSM3319042/counts_unfiltered/cells_x_tcc from BUS file tccoutputGSM3319042/output.unfiltered.bus\n",
            "[2021-03-01 03:49:03,269]    INFO Reading matrix tccoutputGSM3319042/counts_unfiltered/cells_x_tcc.mtx\n",
            "[2021-03-01 03:49:17,261]    INFO Writing matrix to h5ad tccoutputGSM3319042/counts_unfiltered/adata.h5ad\n",
            "[2021-03-01 03:50:19,448]    INFO Filtering with bustools\n",
            "[2021-03-01 03:50:19,448]    INFO Generating whitelist tccoutputGSM3319042/filter_barcodes.txt from BUS file tccoutputGSM3319042/output.unfiltered.bus\n",
            "[2021-03-01 03:50:19,531]    INFO Correcting BUS records in tccoutputGSM3319042/output.unfiltered.bus to tccoutputGSM3319042/tmp/output.unfiltered.c.bus with whitelist tccoutputGSM3319042/filter_barcodes.txt\n",
            "[2021-03-01 03:50:20,756]    INFO Sorting BUS file tccoutputGSM3319042/tmp/output.unfiltered.c.bus to tccoutputGSM3319042/output.filtered.bus\n",
            "[2021-03-01 03:50:25,557]    INFO Generating count matrix tccoutputGSM3319042/counts_filtered/cells_x_tcc from BUS file tccoutputGSM3319042/output.filtered.bus\n",
            "[2021-03-01 03:50:33,589]    INFO Reading matrix tccoutputGSM3319042/counts_filtered/cells_x_tcc.mtx\n",
            "[2021-03-01 03:50:55,267]    INFO Writing matrix to h5ad tccoutputGSM3319042/counts_filtered/adata.h5ad\n",
            "  adding: bus_raw_GSM3319042/ (stored 0%)\n",
            "  adding: bus_raw_GSM3319042/GSM3319042.filtered.bus.gz (deflated 4%)\n",
            "  adding: bus_raw_GSM3319042/gc_unfiltered/ (stored 0%)\n",
            "  adding: bus_raw_GSM3319042/gc_unfiltered/cells_x_genes.barcodes.txt.gz (deflated 1%)\n",
            "  adding: bus_raw_GSM3319042/gc_unfiltered/cells_x_genes.genes.txt.gz (deflated 0%)\n",
            "  adding: bus_raw_GSM3319042/gc_unfiltered/cells_x_genes.mtx.gz (deflated 0%)\n",
            "  adding: bus_raw_GSM3319042/gc_unfiltered/adata.h5ad.gz (deflated 9%)\n",
            "  adding: bus_raw_GSM3319042/tcc_unfiltered/ (stored 0%)\n",
            "  adding: bus_raw_GSM3319042/tcc_unfiltered/cells_x_tcc.ec.txt.gz (deflated 4%)\n",
            "  adding: bus_raw_GSM3319042/tcc_unfiltered/adata.h5ad.gz (deflated 11%)\n",
            "  adding: bus_raw_GSM3319042/tcc_unfiltered/cells_x_tcc.mtx.gz (deflated 0%)\n",
            "  adding: bus_raw_GSM3319042/tcc_unfiltered/cells_x_tcc.barcodes.txt.gz (deflated 1%)\n"
          ],
          "name": "stdout"
        }
      ]
    },
    {
      "cell_type": "code",
      "metadata": {
        "id": "q6q8hYMa3cOd",
        "outputId": "23a25150-b7b5-4f07-ba6c-14094438ce11",
        "colab": {
          "base_uri": "https://localhost:8080/"
        }
      },
      "source": [
        "!zip -r /content/fastqs/sample_3-15_MissingLibrary_1_HW5YGBBXX/bus_raw_GSM3319042.zip /content/fastqs/sample_3-15_MissingLibrary_1_HW5YGBBXX/bus_raw_GSM3319042"
      ],
      "execution_count": 30,
      "outputs": [
        {
          "output_type": "stream",
          "text": [
            "  adding: content/fastqs/sample_3-15_MissingLibrary_1_HW5YGBBXX/bus_raw_GSM3319042/ (stored 0%)\n",
            "  adding: content/fastqs/sample_3-15_MissingLibrary_1_HW5YGBBXX/bus_raw_GSM3319042/GSM3319042.filtered.bus.gz (deflated 4%)\n",
            "  adding: content/fastqs/sample_3-15_MissingLibrary_1_HW5YGBBXX/bus_raw_GSM3319042/gc_unfiltered/ (stored 0%)\n",
            "  adding: content/fastqs/sample_3-15_MissingLibrary_1_HW5YGBBXX/bus_raw_GSM3319042/gc_unfiltered/cells_x_genes.barcodes.txt.gz (deflated 1%)\n",
            "  adding: content/fastqs/sample_3-15_MissingLibrary_1_HW5YGBBXX/bus_raw_GSM3319042/gc_unfiltered/cells_x_genes.genes.txt.gz (deflated 0%)\n",
            "  adding: content/fastqs/sample_3-15_MissingLibrary_1_HW5YGBBXX/bus_raw_GSM3319042/gc_unfiltered/cells_x_genes.mtx.gz (deflated 0%)\n",
            "  adding: content/fastqs/sample_3-15_MissingLibrary_1_HW5YGBBXX/bus_raw_GSM3319042/gc_unfiltered/adata.h5ad.gz (deflated 9%)\n",
            "  adding: content/fastqs/sample_3-15_MissingLibrary_1_HW5YGBBXX/bus_raw_GSM3319042/tcc_unfiltered/ (stored 0%)\n",
            "  adding: content/fastqs/sample_3-15_MissingLibrary_1_HW5YGBBXX/bus_raw_GSM3319042/tcc_unfiltered/cells_x_tcc.ec.txt.gz (deflated 4%)\n",
            "  adding: content/fastqs/sample_3-15_MissingLibrary_1_HW5YGBBXX/bus_raw_GSM3319042/tcc_unfiltered/adata.h5ad.gz (deflated 11%)\n",
            "  adding: content/fastqs/sample_3-15_MissingLibrary_1_HW5YGBBXX/bus_raw_GSM3319042/tcc_unfiltered/cells_x_tcc.mtx.gz (deflated 0%)\n",
            "  adding: content/fastqs/sample_3-15_MissingLibrary_1_HW5YGBBXX/bus_raw_GSM3319042/tcc_unfiltered/cells_x_tcc.barcodes.txt.gz (deflated 1%)\n"
          ],
          "name": "stdout"
        }
      ]
    },
    {
      "cell_type": "code",
      "metadata": {
        "id": "SAdumSbQ-bsV"
      },
      "source": [
        ""
      ],
      "execution_count": null,
      "outputs": []
    }
  ]
}