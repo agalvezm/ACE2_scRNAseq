{
  "nbformat": 4,
  "nbformat_minor": 0,
  "metadata": {
    "colab": {
      "name": "GSE135893_GSM4037313.ipynb",
      "provenance": [],
      "collapsed_sections": [],
      "toc_visible": true,
      "include_colab_link": true
    },
    "kernelspec": {
      "name": "python3",
      "display_name": "Python 3"
    }
  },
  "cells": [
    {
      "cell_type": "markdown",
      "metadata": {
        "id": "view-in-github",
        "colab_type": "text"
      },
      "source": [
        "<a href=\"https://colab.research.google.com/github/agalvezm/ACE2_scRNAseq/blob/master/tcc/GSE135893_GSM4037313.ipynb\" target=\"_parent\"><img src=\"https://colab.research.google.com/assets/colab-badge.svg\" alt=\"Open In Colab\"/></a>"
      ]
    },
    {
      "cell_type": "markdown",
      "metadata": {
        "id": "V9ryXluJsJw9"
      },
      "source": [
        "# GSE135893_GSM4037313"
      ]
    },
    {
      "cell_type": "code",
      "metadata": {
        "id": "ggNFAQJCRh6P"
      },
      "source": [
        "# define the values for the analysis\n",
        "\n",
        "# accession id for the data\n",
        "id = \"GSE135893\"\n",
        "samp_id = [\"GSM4037313\"]\n",
        "\n",
        "# If only bam available files, set bam = True, Fill link and filename\n",
        "bam = False\n",
        "\n",
        "# If fastq links available but are not ffq links\n",
        "fastq_ffqlinks = False\n",
        "\n",
        "\n",
        "if bam:\n",
        "  # Assign link to python variable\n",
        "  link_to_bam = \"\"\n",
        "  \n",
        "  # Assigns the link to the bash variable BAM_LINK. To be used by wget\n",
        "  %env BAM_LINK=$link_to_bam\n",
        "\n",
        "  # Assign filename to python variable. Used to convert to fastq and remove bam file to fastq after conversion\n",
        "\n",
        "  bam_filename=\"\"\n",
        "\n",
        "\n",
        "if not bam:\n",
        "\n",
        "  # Copy and paste the links from the ACE2 scRNAseq datasets google  spreadsheet\n",
        "\n",
        "  links_raw = \"ftp://ftp.sra.ebi.ac.uk/vol1/fastq/SRR998/007/SRR9985377/SRR9985377_1.fastq.gz\tftp://ftp.sra.ebi.ac.uk/vol1/fastq/SRR998/007/SRR9985377/SRR9985377_2.fastq.gz\tftp://ftp.sra.ebi.ac.uk/vol1/fastq/SRR998/000/SRR9985380/SRR9985380_1.fastq.gz\tftp://ftp.sra.ebi.ac.uk/vol1/fastq/SRR998/000/SRR9985380/SRR9985380_2.fastq.gz\tftp://ftp.sra.ebi.ac.uk/vol1/fastq/SRR998/006/SRR9985376/SRR9985376_1.fastq.gz\tftp://ftp.sra.ebi.ac.uk/vol1/fastq/SRR998/006/SRR9985376/SRR9985376_2.fastq.gz\tftp://ftp.sra.ebi.ac.uk/vol1/fastq/SRR998/009/SRR9985379/SRR9985379_1.fastq.gz\tftp://ftp.sra.ebi.ac.uk/vol1/fastq/SRR998/009/SRR9985379/SRR9985379_2.fastq.gz\tftp://ftp.sra.ebi.ac.uk/vol1/fastq/SRR998/008/SRR9985378/SRR9985378_1.fastq.gz\tftp://ftp.sra.ebi.ac.uk/vol1/fastq/SRR998/008/SRR9985378/SRR9985378_2.fastq.gz\tftp://ftp.sra.ebi.ac.uk/vol1/fastq/SRR998/001/SRR9985381/SRR9985381_1.fastq.gz\tftp://ftp.sra.ebi.ac.uk/vol1/fastq/SRR998/001/SRR9985381/SRR9985381_2.fastq.gz\"\n",
        "\n",
        "  # Convert it to a list where each link is an element\n",
        "  \n",
        "  fastqs = links_raw.split()\n"
      ],
      "execution_count": null,
      "outputs": []
    },
    {
      "cell_type": "code",
      "metadata": {
        "id": "5R3tPDqnoJUn"
      },
      "source": [
        "no_samples = 1\n",
        "\n",
        "fastqs_per_sample = [4, 8, 8] \n",
        "\n",
        "sample_id = samp_id\n",
        "\n",
        "database_id = [id] * no_samples\n",
        "\n",
        "tissue = [\"lung\"] * no_samples\n",
        "\n",
        "cell_type = [\"lung biopsy (multiple locations)\"] * no_samples\n",
        "\n",
        "condition = [\"healthy\"] * no_samples\n",
        "\n",
        "species = [\"human\"] * no_samples\n",
        "\n",
        "technology = [\"10xv2\"] * no_samples\n",
        "\n",
        "paper = [\"Muus et al 2020\"] * no_samples\n",
        "\n",
        "figure = [\"Fig 1 c,d Fig 4 e ED Fig 11 a,c\"] * no_samples\n",
        "\n",
        "\n",
        "# Set string variables for kb functions\n",
        "\n",
        "species_kb = species[0]\n",
        "\n",
        "technology_kb = technology[0]\n",
        "\n"
      ],
      "execution_count": null,
      "outputs": []
    },
    {
      "cell_type": "markdown",
      "metadata": {
        "id": "FPwL0-_-KSAw"
      },
      "source": [
        "# Imports and installs"
      ]
    },
    {
      "cell_type": "code",
      "metadata": {
        "id": "1HSlUGZEp3oP",
        "colab": {
          "base_uri": "https://localhost:8080/"
        },
        "outputId": "3a387c40-3b34-4308-9000-697ec5478df6"
      },
      "source": [
        "# install and import necessary software\n",
        "\n",
        "# Install kb and scanpy\n",
        "!pip -q install kb-python \n",
        "!pip -q install scanpy\n",
        "\n",
        "import re\n",
        "import os\n",
        "\n",
        "# Setup\n",
        "\n",
        "import anndata\n",
        "import pandas as pd\n",
        "import numpy as np\n",
        "import matplotlib.pyplot as plt\n",
        "import matplotlib as mpl\n",
        "import matplotlib.patches as mpatches\n",
        "import scanpy as sc\n",
        "from scipy import stats\n",
        "\n",
        "from collections import OrderedDict\n",
        "from sklearn.decomposition import TruncatedSVD\n",
        "from sklearn.manifold import TSNE\n",
        "from sklearn.preprocessing import scale\n",
        "\n",
        "from sklearn.cluster import KMeans\n",
        "from sklearn.preprocessing import normalize\n",
        "from sklearn.preprocessing import LabelEncoder\n",
        "from sklearn.neighbors import NeighborhoodComponentsAnalysis\n",
        "from matplotlib import cm\n",
        "from matplotlib.lines import Line2D\n",
        "\n",
        "def nd(arr):\n",
        "    return np.asarray(arr).reshape(-1)\n",
        "def yex(ax):\n",
        "    lims = [np.min([ax.get_xlim(), ax.get_ylim()]),\n",
        "            np.max([ax.get_xlim(), ax.get_ylim()])]\n",
        "\n",
        "    # now plot both limits against eachother\n",
        "    ax.plot(lims, lims, 'k-', alpha=0.75, zorder=0)\n",
        "    ax.set_aspect('equal')\n",
        "    ax.set_xlim(lims)\n",
        "    ax.set_ylim(lims)\n",
        "    return ax\n",
        "\n",
        "def trim_axs(axs, N):\n",
        "    \"\"\"little helper to massage the axs list to have correct length...\"\"\"\n",
        "    axs = axs.flat\n",
        "    for ax in axs[N:]:\n",
        "        ax.remove()\n",
        "    return axs[:N]\n",
        "\n",
        "import warnings\n",
        "warnings.filterwarnings('ignore')\n",
        "\n",
        "fsize=20\n",
        "\n",
        "plt.rcParams.update({'font.size': fsize})\n",
        "%config InlineBackend.figure_format = 'retina'"
      ],
      "execution_count": null,
      "outputs": [
        {
          "output_type": "stream",
          "text": [
            "\u001b[K     |████████████████████████████████| 59.1MB 124kB/s \n",
            "\u001b[K     |████████████████████████████████| 51kB 5.9MB/s \n",
            "\u001b[K     |████████████████████████████████| 10.3MB 21.8MB/s \n",
            "\u001b[K     |████████████████████████████████| 13.2MB 48.1MB/s \n",
            "\u001b[K     |████████████████████████████████| 122kB 60.3MB/s \n",
            "\u001b[K     |████████████████████████████████| 112kB 59.4MB/s \n",
            "\u001b[K     |████████████████████████████████| 71kB 7.7MB/s \n",
            "\u001b[K     |████████████████████████████████| 51kB 5.5MB/s \n",
            "\u001b[?25h  Building wheel for loompy (setup.py) ... \u001b[?25l\u001b[?25hdone\n",
            "  Building wheel for numpy-groupies (setup.py) ... \u001b[?25l\u001b[?25hdone\n",
            "  Building wheel for sinfo (setup.py) ... \u001b[?25l\u001b[?25hdone\n"
          ],
          "name": "stdout"
        }
      ]
    },
    {
      "cell_type": "markdown",
      "metadata": {
        "id": "7V6FbosVrvP4"
      },
      "source": [
        "# Downloads: (bam (if bam) and index"
      ]
    },
    {
      "cell_type": "code",
      "metadata": {
        "id": "q46hw4zqKUPS"
      },
      "source": [
        "if bam:\n",
        "\n",
        "  # Install bamtofastq from 10x website (only bam files available)\n",
        "  !wget http://cf.10xgenomics.com/misc/bamtofastq-1.2.0\n",
        "  !chmod +x bamtofastq-1.2.0\n",
        "  # Download the bam file\n",
        "  !wget -- continue ${BAM_LINK}\n",
        "\n",
        "\n"
      ],
      "execution_count": null,
      "outputs": []
    },
    {
      "cell_type": "code",
      "metadata": {
        "id": "tDQlrjtqNF0m"
      },
      "source": [
        "if bam:\n",
        "  # Convert to fastq\n",
        "  !./bamtofastq-1.2.0 --reads-per-fastq=500000000 $bam_filename ./fastqs\\\n",
        "\n",
        "  # Remove original bam file to save space\n",
        "  !rm $bam_filename\n"
      ],
      "execution_count": null,
      "outputs": []
    },
    {
      "cell_type": "code",
      "metadata": {
        "id": "SXRDRphvqcLe"
      },
      "source": [
        "# Store fastq names on a list\n",
        "\n",
        "if bam:\n",
        "  # cd into fastqs folder\n",
        "  %cd /content/fastqs\n",
        "\n",
        "  #store the name of the folder generated by bamtofastq\n",
        "  _filename = os.listdir()[0]\n",
        "\n",
        "  # cd into that folder\n",
        "  %cd $_filename\n",
        "\n",
        "  # store fastq names in a list\n",
        "  fastqs = os.listdir()\n",
        "\n",
        "\n",
        "  # Remove I1 and R3 reads not relevant for our analysis\n",
        "\n",
        "  # Initialize list containing elements to remove\n",
        "  remov_elem = []\n",
        "\n",
        "  print (\"\\n\\nThis is the complete list of fastqs:\\n -----------\")\n",
        "  for elem in fastqs:\n",
        "    print (elem)\n",
        "\n",
        "  # Search index (I1 or R3) fastqs and remove them from list\n",
        "  for elem in fastqs:\n",
        "    if re.search(\"_R3_\", elem) or re.search(\"_I1_\", elem):\n",
        "      remov_elem = remov_elem +[elem]\n",
        "\n",
        "  fastqs = [elem for elem in fastqs if elem not in remov_elem] \n",
        "\n",
        "  print (\"\\n\\nThis is the filtered list of fastqs:\\n -----------\")\n",
        "  for elem in fastqs:\n",
        "    print (elem)\n"
      ],
      "execution_count": null,
      "outputs": []
    },
    {
      "cell_type": "code",
      "metadata": {
        "id": "ZnFcqcSgjLBw"
      },
      "source": [
        "# Remove fastqs that wont be analyzed to save space\n",
        "if bam:\n",
        "  for elem in remov_elem:\n",
        "    !rm $elem"
      ],
      "execution_count": null,
      "outputs": []
    },
    {
      "cell_type": "code",
      "metadata": {
        "id": "FLVS8aB7Dm6J"
      },
      "source": [
        "if bam:\n",
        "  # sort fastqs alphabetically to get R1 and R2 in order\n",
        "  fastqs = sorted(fastqs)"
      ],
      "execution_count": null,
      "outputs": []
    },
    {
      "cell_type": "code",
      "metadata": {
        "id": "FE9gWbQgpBfR",
        "colab": {
          "base_uri": "https://localhost:8080/"
        },
        "outputId": "b16e7d9d-bbe8-4c9b-b259-7b6eb6220a1a"
      },
      "source": [
        "# wget fastqs from non ffq links in fastqs folder\n",
        "if not bam and not fastq_ffqlinks:\n",
        "  !mkdir fastqs\n",
        "  %cd fastqs\n",
        "  for link in fastqs:\n",
        "    !wget $link --continue\n",
        "\n",
        "  # update fastqs variable with name of files\n",
        "  fastqs = sorted(os.listdir())"
      ],
      "execution_count": null,
      "outputs": [
        {
          "output_type": "stream",
          "text": [
            "/content/fastqs\n",
            "--2021-03-02 04:47:57--  ftp://ftp.sra.ebi.ac.uk/vol1/fastq/SRR998/007/SRR9985377/SRR9985377_1.fastq.gz\n",
            "           => ‘SRR9985377_1.fastq.gz’\n",
            "Resolving ftp.sra.ebi.ac.uk (ftp.sra.ebi.ac.uk)... 193.62.197.74\n",
            "Connecting to ftp.sra.ebi.ac.uk (ftp.sra.ebi.ac.uk)|193.62.197.74|:21... connected.\n",
            "Logging in as anonymous ... Logged in!\n",
            "==> SYST ... done.    ==> PWD ... done.\n",
            "==> TYPE I ... done.  ==> CWD (1) /vol1/fastq/SRR998/007/SRR9985377 ... done.\n",
            "==> SIZE SRR9985377_1.fastq.gz ... 544026538\n",
            "==> PASV ... done.    ==> RETR SRR9985377_1.fastq.gz ... done.\n",
            "Length: 544026538 (519M) (unauthoritative)\n",
            "\n",
            "SRR9985377_1.fastq. 100%[===================>] 518.82M  13.4MB/s    in 38s     \n",
            "\n",
            "2021-03-02 04:48:36 (13.7 MB/s) - ‘SRR9985377_1.fastq.gz’ saved [544026538]\n",
            "\n",
            "--2021-03-02 04:48:36--  ftp://ftp.sra.ebi.ac.uk/vol1/fastq/SRR998/007/SRR9985377/SRR9985377_2.fastq.gz\n",
            "           => ‘SRR9985377_2.fastq.gz’\n",
            "Resolving ftp.sra.ebi.ac.uk (ftp.sra.ebi.ac.uk)... 193.62.197.74\n",
            "Connecting to ftp.sra.ebi.ac.uk (ftp.sra.ebi.ac.uk)|193.62.197.74|:21... connected.\n",
            "Logging in as anonymous ... Logged in!\n",
            "==> SYST ... done.    ==> PWD ... done.\n",
            "==> TYPE I ... done.  ==> CWD (1) /vol1/fastq/SRR998/007/SRR9985377 ... done.\n",
            "==> SIZE SRR9985377_2.fastq.gz ... 568059912\n",
            "==> PASV ... done.    ==> RETR SRR9985377_2.fastq.gz ... done.\n",
            "Length: 568059912 (542M) (unauthoritative)\n",
            "\n",
            "SRR9985377_2.fastq. 100%[===================>] 541.74M  17.4MB/s    in 40s     \n",
            "\n",
            "2021-03-02 04:49:17 (13.4 MB/s) - ‘SRR9985377_2.fastq.gz’ saved [568059912]\n",
            "\n",
            "--2021-03-02 04:49:17--  ftp://ftp.sra.ebi.ac.uk/vol1/fastq/SRR998/000/SRR9985380/SRR9985380_1.fastq.gz\n",
            "           => ‘SRR9985380_1.fastq.gz’\n",
            "Resolving ftp.sra.ebi.ac.uk (ftp.sra.ebi.ac.uk)... 193.62.193.138\n",
            "Connecting to ftp.sra.ebi.ac.uk (ftp.sra.ebi.ac.uk)|193.62.193.138|:21... connected.\n",
            "Logging in as anonymous ... Logged in!\n",
            "==> SYST ... done.    ==> PWD ... done.\n",
            "==> TYPE I ... done.  ==> CWD (1) /vol1/fastq/SRR998/000/SRR9985380 ... done.\n",
            "==> SIZE SRR9985380_1.fastq.gz ... 1112809617\n",
            "==> PASV ... done.    ==> RETR SRR9985380_1.fastq.gz ... done.\n",
            "Length: 1112809617 (1.0G) (unauthoritative)\n",
            "\n",
            "SRR9985380_1.fastq. 100%[===================>]   1.04G  32.5MB/s    in 82s     \n",
            "\n",
            "2021-03-02 04:50:40 (13.0 MB/s) - ‘SRR9985380_1.fastq.gz’ saved [1112809617]\n",
            "\n",
            "--2021-03-02 04:50:40--  ftp://ftp.sra.ebi.ac.uk/vol1/fastq/SRR998/000/SRR9985380/SRR9985380_2.fastq.gz\n",
            "           => ‘SRR9985380_2.fastq.gz’\n",
            "Resolving ftp.sra.ebi.ac.uk (ftp.sra.ebi.ac.uk)... 193.62.197.74\n",
            "Connecting to ftp.sra.ebi.ac.uk (ftp.sra.ebi.ac.uk)|193.62.197.74|:21... connected.\n",
            "Logging in as anonymous ... Logged in!\n",
            "==> SYST ... done.    ==> PWD ... done.\n",
            "==> TYPE I ... done.  ==> CWD (1) /vol1/fastq/SRR998/000/SRR9985380 ... done.\n",
            "==> SIZE SRR9985380_2.fastq.gz ... 1129632814\n",
            "==> PASV ... done.    ==> RETR SRR9985380_2.fastq.gz ... done.\n",
            "Length: 1129632814 (1.1G) (unauthoritative)\n",
            "\n",
            "SRR9985380_2.fastq. 100%[===================>]   1.05G  33.1MB/s    in 39s     \n",
            "\n",
            "2021-03-02 04:51:21 (27.7 MB/s) - ‘SRR9985380_2.fastq.gz’ saved [1129632814]\n",
            "\n",
            "--2021-03-02 04:51:21--  ftp://ftp.sra.ebi.ac.uk/vol1/fastq/SRR998/006/SRR9985376/SRR9985376_1.fastq.gz\n",
            "           => ‘SRR9985376_1.fastq.gz’\n",
            "Resolving ftp.sra.ebi.ac.uk (ftp.sra.ebi.ac.uk)... 193.62.197.74\n",
            "Connecting to ftp.sra.ebi.ac.uk (ftp.sra.ebi.ac.uk)|193.62.197.74|:21... connected.\n",
            "Logging in as anonymous ... Logged in!\n",
            "==> SYST ... done.    ==> PWD ... done.\n",
            "==> TYPE I ... done.  ==> CWD (1) /vol1/fastq/SRR998/006/SRR9985376 ... done.\n",
            "==> SIZE SRR9985376_1.fastq.gz ... 546034449\n",
            "==> PASV ... done.    ==> RETR SRR9985376_1.fastq.gz ... done.\n",
            "Length: 546034449 (521M) (unauthoritative)\n",
            "\n",
            "SRR9985376_1.fastq. 100%[===================>] 520.74M  26.6MB/s    in 18s     \n",
            "\n",
            "2021-03-02 04:51:41 (28.2 MB/s) - ‘SRR9985376_1.fastq.gz’ saved [546034449]\n",
            "\n",
            "--2021-03-02 04:51:41--  ftp://ftp.sra.ebi.ac.uk/vol1/fastq/SRR998/006/SRR9985376/SRR9985376_2.fastq.gz\n",
            "           => ‘SRR9985376_2.fastq.gz’\n",
            "Resolving ftp.sra.ebi.ac.uk (ftp.sra.ebi.ac.uk)... 193.62.197.74\n",
            "Connecting to ftp.sra.ebi.ac.uk (ftp.sra.ebi.ac.uk)|193.62.197.74|:21... connected.\n",
            "Logging in as anonymous ... Logged in!\n",
            "==> SYST ... done.    ==> PWD ... done.\n",
            "==> TYPE I ... done.  ==> CWD (1) /vol1/fastq/SRR998/006/SRR9985376 ... done.\n",
            "==> SIZE SRR9985376_2.fastq.gz ... 571078780\n",
            "==> PASV ... done.    ==> RETR SRR9985376_2.fastq.gz ... done.\n",
            "Length: 571078780 (545M) (unauthoritative)\n",
            "\n",
            "SRR9985376_2.fastq. 100%[===================>] 544.62M  17.7MB/s    in 29s     \n",
            "\n",
            "2021-03-02 04:52:11 (18.6 MB/s) - ‘SRR9985376_2.fastq.gz’ saved [571078780]\n",
            "\n",
            "--2021-03-02 04:52:11--  ftp://ftp.sra.ebi.ac.uk/vol1/fastq/SRR998/009/SRR9985379/SRR9985379_1.fastq.gz\n",
            "           => ‘SRR9985379_1.fastq.gz’\n",
            "Resolving ftp.sra.ebi.ac.uk (ftp.sra.ebi.ac.uk)... 193.62.197.74\n",
            "Connecting to ftp.sra.ebi.ac.uk (ftp.sra.ebi.ac.uk)|193.62.197.74|:21... connected.\n",
            "Logging in as anonymous ... Logged in!\n",
            "==> SYST ... done.    ==> PWD ... done.\n",
            "==> TYPE I ... done.  ==> CWD (1) /vol1/fastq/SRR998/009/SRR9985379 ... done.\n",
            "==> SIZE SRR9985379_1.fastq.gz ... 1226596248\n",
            "==> PASV ... done.    ==> RETR SRR9985379_1.fastq.gz ... done.\n",
            "Length: 1226596248 (1.1G) (unauthoritative)\n",
            "\n",
            "SRR9985379_1.fastq. 100%[===================>]   1.14G  7.69MB/s    in 5m 53s  \n",
            "\n",
            "2021-03-02 04:58:06 (3.31 MB/s) - ‘SRR9985379_1.fastq.gz’ saved [1226596248]\n",
            "\n",
            "--2021-03-02 04:58:06--  ftp://ftp.sra.ebi.ac.uk/vol1/fastq/SRR998/009/SRR9985379/SRR9985379_2.fastq.gz\n",
            "           => ‘SRR9985379_2.fastq.gz’\n",
            "Resolving ftp.sra.ebi.ac.uk (ftp.sra.ebi.ac.uk)... 193.62.197.74\n",
            "Connecting to ftp.sra.ebi.ac.uk (ftp.sra.ebi.ac.uk)|193.62.197.74|:21... connected.\n",
            "Logging in as anonymous ... Logged in!\n",
            "==> SYST ... done.    ==> PWD ... done.\n",
            "==> TYPE I ... done.  ==> CWD (1) /vol1/fastq/SRR998/009/SRR9985379 ... done.\n",
            "==> SIZE SRR9985379_2.fastq.gz ... 1249566171\n",
            "==> PASV ... done.    ==> RETR SRR9985379_2.fastq.gz ... done.\n",
            "Length: 1249566171 (1.2G) (unauthoritative)\n",
            "\n",
            "SRR9985379_2.fastq. 100%[===================>]   1.16G  32.8MB/s    in 38s     \n",
            "\n",
            "2021-03-02 04:58:46 (31.1 MB/s) - ‘SRR9985379_2.fastq.gz’ saved [1249566171]\n",
            "\n",
            "--2021-03-02 04:58:46--  ftp://ftp.sra.ebi.ac.uk/vol1/fastq/SRR998/008/SRR9985378/SRR9985378_1.fastq.gz\n",
            "           => ‘SRR9985378_1.fastq.gz’\n",
            "Resolving ftp.sra.ebi.ac.uk (ftp.sra.ebi.ac.uk)... 193.62.197.74\n",
            "Connecting to ftp.sra.ebi.ac.uk (ftp.sra.ebi.ac.uk)|193.62.197.74|:21... connected.\n",
            "Logging in as anonymous ... Logged in!\n",
            "==> SYST ... done.    ==> PWD ... done.\n",
            "==> TYPE I ... done.  ==> CWD (1) /vol1/fastq/SRR998/008/SRR9985378 ... done.\n",
            "==> SIZE SRR9985378_1.fastq.gz ... 1234283845\n",
            "==> PASV ... done.    ==> RETR SRR9985378_1.fastq.gz ... done.\n",
            "Length: 1234283845 (1.1G) (unauthoritative)\n",
            "\n",
            "SRR9985378_1.fastq. 100%[===================>]   1.15G  9.48MB/s    in 1m 49s  \n",
            "\n",
            "2021-03-02 05:00:38 (10.8 MB/s) - ‘SRR9985378_1.fastq.gz’ saved [1234283845]\n",
            "\n",
            "--2021-03-02 05:00:38--  ftp://ftp.sra.ebi.ac.uk/vol1/fastq/SRR998/008/SRR9985378/SRR9985378_2.fastq.gz\n",
            "           => ‘SRR9985378_2.fastq.gz’\n",
            "Resolving ftp.sra.ebi.ac.uk (ftp.sra.ebi.ac.uk)... 193.62.193.138\n",
            "Connecting to ftp.sra.ebi.ac.uk (ftp.sra.ebi.ac.uk)|193.62.193.138|:21... connected.\n",
            "Logging in as anonymous ... Logged in!\n",
            "==> SYST ... done.    ==> PWD ... done.\n",
            "==> TYPE I ... done.  ==> CWD (1) /vol1/fastq/SRR998/008/SRR9985378 ... done.\n",
            "==> SIZE SRR9985378_2.fastq.gz ... 1261118553\n",
            "==> PASV ... done.    ==> RETR SRR9985378_2.fastq.gz ... done.\n",
            "Length: 1261118553 (1.2G) (unauthoritative)\n",
            "\n",
            "SRR9985378_2.fastq. 100%[===================>]   1.17G  8.02MB/s    in 79s     \n",
            "\n",
            "2021-03-02 05:01:58 (15.3 MB/s) - ‘SRR9985378_2.fastq.gz’ saved [1261118553]\n",
            "\n",
            "--2021-03-02 05:01:58--  ftp://ftp.sra.ebi.ac.uk/vol1/fastq/SRR998/001/SRR9985381/SRR9985381_1.fastq.gz\n",
            "           => ‘SRR9985381_1.fastq.gz’\n",
            "Resolving ftp.sra.ebi.ac.uk (ftp.sra.ebi.ac.uk)... 193.62.197.74\n",
            "Connecting to ftp.sra.ebi.ac.uk (ftp.sra.ebi.ac.uk)|193.62.197.74|:21... connected.\n",
            "Logging in as anonymous ... Logged in!\n",
            "==> SYST ... done.    ==> PWD ... done.\n",
            "==> TYPE I ... done.  ==> CWD (1) /vol1/fastq/SRR998/001/SRR9985381 ... done.\n",
            "==> SIZE SRR9985381_1.fastq.gz ... 1111131442\n",
            "==> PASV ... done.    ==> RETR SRR9985381_1.fastq.gz ... done.\n",
            "Length: 1111131442 (1.0G) (unauthoritative)\n",
            "\n",
            "SRR9985381_1.fastq. 100%[===================>]   1.03G  26.4MB/s    in 38s     \n",
            "\n",
            "2021-03-02 05:02:38 (28.0 MB/s) - ‘SRR9985381_1.fastq.gz’ saved [1111131442]\n",
            "\n",
            "--2021-03-02 05:02:38--  ftp://ftp.sra.ebi.ac.uk/vol1/fastq/SRR998/001/SRR9985381/SRR9985381_2.fastq.gz\n",
            "           => ‘SRR9985381_2.fastq.gz’\n",
            "Resolving ftp.sra.ebi.ac.uk (ftp.sra.ebi.ac.uk)... 193.62.197.74\n",
            "Connecting to ftp.sra.ebi.ac.uk (ftp.sra.ebi.ac.uk)|193.62.197.74|:21... connected.\n",
            "Logging in as anonymous ... Logged in!\n",
            "==> SYST ... done.    ==> PWD ... done.\n",
            "==> TYPE I ... done.  ==> CWD (1) /vol1/fastq/SRR998/001/SRR9985381 ... done.\n",
            "==> SIZE SRR9985381_2.fastq.gz ... 1123799750\n",
            "==> PASV ... done.    ==> RETR SRR9985381_2.fastq.gz ... done.\n",
            "Length: 1123799750 (1.0G) (unauthoritative)\n",
            "\n",
            "SRR9985381_2.fastq. 100%[===================>]   1.05G  25.9MB/s    in 53s     \n",
            "\n",
            "2021-03-02 05:03:32 (20.1 MB/s) - ‘SRR9985381_2.fastq.gz’ saved [1123799750]\n",
            "\n"
          ],
          "name": "stdout"
        }
      ]
    },
    {
      "cell_type": "code",
      "metadata": {
        "id": "PC9oETW1pE9t",
        "colab": {
          "base_uri": "https://localhost:8080/"
        },
        "outputId": "3fac5156-051b-44df-e3f6-af8c0ee4b9f8"
      },
      "source": [
        "if bam:\n",
        "  # Download the corresponding Kallisto index to folder containing fastqs\n",
        "  !kb ref -d $species_kb -i index.idx -g t2g.txt -f1 transcriptome.fasta\n",
        "\n",
        "if not bam and fastq_ffqlinks:\n",
        "  %cd /content\n",
        "\n",
        "  # Download the corresponding Kallisto index to content folder\n",
        "  !kb ref -d $species_kb -i index.idx -g t2g.txt -f1 transcriptome.fasta\n",
        "\n",
        "if not bam and not fastq_ffqlinks:\n",
        "  %cd /content/fastqs\n",
        "\n",
        "  # Download the corresponding Kallisto index to fastq folder\n",
        "  !kb ref -d $species_kb -i index.idx -g t2g.txt -f1 transcriptome.fasta"
      ],
      "execution_count": null,
      "outputs": [
        {
          "output_type": "stream",
          "text": [
            "/content/fastqs\n",
            "[2021-03-02 05:03:34,523]    INFO Downloading files for human from https://caltech.box.com/shared/static/v1nm7lpnqz5syh8dyzdk2zs8bglncfib.gz to tmp/v1nm7lpnqz5syh8dyzdk2zs8bglncfib.gz\n",
            "100% 2.23G/2.23G [02:23<00:00, 16.6MB/s]\n",
            "[2021-03-02 05:05:59,417]    INFO Extracting files from tmp/v1nm7lpnqz5syh8dyzdk2zs8bglncfib.gz\n"
          ],
          "name": "stdout"
        }
      ]
    },
    {
      "cell_type": "code",
      "metadata": {
        "id": "vHVNa51Cp9Nr",
        "colab": {
          "base_uri": "https://localhost:8080/"
        },
        "outputId": "fb5aff5b-9c2b-49a9-e059-ea009542bc87"
      },
      "source": [
        "# Check to make sure the metadata is in the right order after sorting\n",
        "print(fastqs)"
      ],
      "execution_count": null,
      "outputs": [
        {
          "output_type": "stream",
          "text": [
            "['SRR9985376_1.fastq.gz', 'SRR9985376_2.fastq.gz', 'SRR9985377_1.fastq.gz', 'SRR9985377_2.fastq.gz', 'SRR9985378_1.fastq.gz', 'SRR9985378_2.fastq.gz', 'SRR9985379_1.fastq.gz', 'SRR9985379_2.fastq.gz', 'SRR9985380_1.fastq.gz', 'SRR9985380_2.fastq.gz', 'SRR9985381_1.fastq.gz', 'SRR9985381_2.fastq.gz']\n"
          ],
          "name": "stdout"
        }
      ]
    },
    {
      "cell_type": "markdown",
      "metadata": {
        "id": "VInyuq1Dp7iz"
      },
      "source": [
        "# Process fastq files (modify kb command according to fastqs list)\n"
      ]
    },
    {
      "cell_type": "code",
      "metadata": {
        "id": "OcqtBuH-pRaX",
        "colab": {
          "base_uri": "https://localhost:8080/"
        },
        "outputId": "1a381d9e-8020-4f8f-c11a-df8993618b8f"
      },
      "source": [
        "fastqs"
      ],
      "execution_count": null,
      "outputs": [
        {
          "output_type": "execute_result",
          "data": {
            "text/plain": [
              "['SRR9985376_1.fastq.gz',\n",
              " 'SRR9985376_2.fastq.gz',\n",
              " 'SRR9985377_1.fastq.gz',\n",
              " 'SRR9985377_2.fastq.gz',\n",
              " 'SRR9985378_1.fastq.gz',\n",
              " 'SRR9985378_2.fastq.gz',\n",
              " 'SRR9985379_1.fastq.gz',\n",
              " 'SRR9985379_2.fastq.gz',\n",
              " 'SRR9985380_1.fastq.gz',\n",
              " 'SRR9985380_2.fastq.gz',\n",
              " 'SRR9985381_1.fastq.gz',\n",
              " 'SRR9985381_2.fastq.gz']"
            ]
          },
          "metadata": {
            "tags": []
          },
          "execution_count": 12
        }
      ]
    },
    {
      "cell_type": "code",
      "metadata": {
        "id": "5qFzPj-0kZTi",
        "colab": {
          "base_uri": "https://localhost:8080/"
        },
        "outputId": "54385fc8-8467-47f2-8d9c-13d294f0ce13"
      },
      "source": [
        "# Specify the sample number and whether they are paired-ended\n",
        "\n",
        "\n",
        "if no_samples == 1:\n",
        "\n",
        "  # Write the kb count command as a string with all fastqs of the list as an input\n",
        "  cmd = \"kb count --h5ad -i index.idx -g t2g.txt -x \" + technology_kb + \" -o output\" + sample_id[0] + \" \"\\\n",
        "  + \"--filter bustools -t 2 --overwrite \" + \"'\" +  \"' '\".join(fastqs) + \"'\"\n",
        "  \n",
        "  # Execute it\n",
        "  !$cmd\n",
        "\n",
        "# If more than one sample, iterate through fastqs accordingly\n",
        "else:\n",
        "\n",
        "  # Initializa counter for fastq files\n",
        "  j = 0\n",
        "\n",
        "  # Loop over samples for analysis\n",
        "  for i in range(no_samples):\n",
        "\n",
        "    fastqs_to_analyze = fastqs[j:j + fastqs_per_sample[i]]\n",
        "    # Write the kb count command as a string\n",
        "    cmd = \"kb count --h5ad -i ../index.idx -g ../t2g.txt -x \" + technology_kb + \" -o output\" + sample_id[i] + \" \\\n",
        "    --filter bustools -t 2 --overwrite \" + \"'\" +  \"' '\".join(fastqs_to_analyze) + \"'\"\n",
        "\n",
        "    # Execute it\n",
        "    !$cmd\n",
        "\n",
        "    # Update j to move to the next set of fastq\n",
        "    j = j + fastqs_per_sample[i]\n",
        "\n",
        "\n",
        "\n",
        "\n",
        "\n"
      ],
      "execution_count": null,
      "outputs": [
        {
          "output_type": "stream",
          "text": [
            "[2021-03-02 05:06:39,848]    INFO Using index index.idx to generate BUS file to outputGSM4037313 from\n",
            "[2021-03-02 05:06:39,849]    INFO         SRR9985376_1.fastq.gz\n",
            "[2021-03-02 05:06:39,849]    INFO         SRR9985376_2.fastq.gz\n",
            "[2021-03-02 05:06:39,849]    INFO         SRR9985377_1.fastq.gz\n",
            "[2021-03-02 05:06:39,849]    INFO         SRR9985377_2.fastq.gz\n",
            "[2021-03-02 05:06:39,849]    INFO         SRR9985378_1.fastq.gz\n",
            "[2021-03-02 05:06:39,849]    INFO         SRR9985378_2.fastq.gz\n",
            "[2021-03-02 05:06:39,849]    INFO         SRR9985379_1.fastq.gz\n",
            "[2021-03-02 05:06:39,849]    INFO         SRR9985379_2.fastq.gz\n",
            "[2021-03-02 05:06:39,849]    INFO         SRR9985380_1.fastq.gz\n",
            "[2021-03-02 05:06:39,849]    INFO         SRR9985380_2.fastq.gz\n",
            "[2021-03-02 05:06:39,849]    INFO         SRR9985381_1.fastq.gz\n",
            "[2021-03-02 05:06:39,849]    INFO         SRR9985381_2.fastq.gz\n",
            "[2021-03-02 05:24:32,998]    INFO Sorting BUS file outputGSM4037313/output.bus to outputGSM4037313/tmp/output.s.bus\n",
            "[2021-03-02 05:25:23,729]    INFO Whitelist not provided\n",
            "[2021-03-02 05:25:23,729]    INFO Copying pre-packaged 10XV2 whitelist to outputGSM4037313\n",
            "[2021-03-02 05:25:23,863]    INFO Inspecting BUS file outputGSM4037313/tmp/output.s.bus\n",
            "[2021-03-02 05:25:52,298]    INFO Correcting BUS records in outputGSM4037313/tmp/output.s.bus to outputGSM4037313/tmp/output.s.c.bus with whitelist outputGSM4037313/10xv2_whitelist.txt\n",
            "[2021-03-02 05:26:11,707]    INFO Sorting BUS file outputGSM4037313/tmp/output.s.c.bus to outputGSM4037313/output.unfiltered.bus\n",
            "[2021-03-02 05:26:56,011]    INFO Generating count matrix outputGSM4037313/counts_unfiltered/cells_x_genes from BUS file outputGSM4037313/output.unfiltered.bus\n",
            "[2021-03-02 05:27:33,441]    INFO Reading matrix outputGSM4037313/counts_unfiltered/cells_x_genes.mtx\n",
            "[2021-03-02 05:27:54,312]    INFO Writing matrix to h5ad outputGSM4037313/counts_unfiltered/adata.h5ad\n",
            "[2021-03-02 05:27:55,250]    INFO Filtering with bustools\n",
            "[2021-03-02 05:27:55,251]    INFO Generating whitelist outputGSM4037313/filter_barcodes.txt from BUS file outputGSM4037313/output.unfiltered.bus\n",
            "[2021-03-02 05:27:55,668]    INFO Correcting BUS records in outputGSM4037313/output.unfiltered.bus to outputGSM4037313/tmp/output.unfiltered.c.bus with whitelist outputGSM4037313/filter_barcodes.txt\n",
            "[2021-03-02 05:28:08,693]    INFO Sorting BUS file outputGSM4037313/tmp/output.unfiltered.c.bus to outputGSM4037313/output.filtered.bus\n",
            "[2021-03-02 05:28:46,072]    INFO Generating count matrix outputGSM4037313/counts_filtered/cells_x_genes from BUS file outputGSM4037313/output.filtered.bus\n",
            "[2021-03-02 05:29:11,168]    INFO Reading matrix outputGSM4037313/counts_filtered/cells_x_genes.mtx\n",
            "[2021-03-02 05:29:23,613]    INFO Writing matrix to h5ad outputGSM4037313/counts_filtered/adata.h5ad\n"
          ],
          "name": "stdout"
        }
      ]
    },
    {
      "cell_type": "markdown",
      "metadata": {
        "id": "tDijOZzrqhN2"
      },
      "source": [
        "# Load unfiltered matrix and assign filters to each matrix individually"
      ]
    },
    {
      "cell_type": "markdown",
      "metadata": {
        "id": "VkNLZh_pNFFw"
      },
      "source": [
        "## Load the unfiltered matrix (check dimensions)"
      ]
    },
    {
      "cell_type": "code",
      "metadata": {
        "id": "PppRNeV8AIyw"
      },
      "source": [
        "# Define dict to store data\n",
        "results = {}\n"
      ],
      "execution_count": null,
      "outputs": []
    },
    {
      "cell_type": "code",
      "metadata": {
        "id": "pKmtGf3c_BiZ",
        "cellView": "both",
        "colab": {
          "base_uri": "https://localhost:8080/"
        },
        "outputId": "c4bc7a4b-1b9b-4418-f1ef-b4daadc00047"
      },
      "source": [
        "# load the unfiltered matrix\n",
        "for i in range(no_samples):\n",
        "  results[sample_id[i]] = anndata.read_h5ad(\"output\" + sample_id[i] + \"/counts_unfiltered/adata.h5ad\")\n",
        "  results[sample_id[i]].var[\"gene_id\"] = results[sample_id[i]].var.index.values\n",
        "\n",
        "  t2g = pd.read_csv(\"t2g.txt\", header=None, names=[\"tid\", \"gene_id\", \"gene_name\"], sep=\"\\t\")\n",
        "  t2g.index = t2g.gene_id\n",
        "  t2g = t2g.loc[~t2g.index.duplicated(keep='first')]\n",
        "\n",
        "  results[sample_id[i]].var[\"gene_name\"] = results[sample_id[i]].var.gene_id.map(t2g[\"gene_name\"])\n",
        "  results[sample_id[i]].var.index = results[sample_id[i]].var[\"gene_name\"]\n",
        "  print(\"The unfiltered matrix \" + sample_id[i] + \" contains {} cells by {} genes\".format(len(results[sample_id[i]].obs), len(results[sample_id[i]].var)))\n",
        "\n",
        "  results[sample_id[i]].obs[\"cell_counts\"] = results[sample_id[i]].X.sum(axis=1)\n",
        "  results[sample_id[i]].var[\"gene_counts\"] = nd(results[sample_id[i]].X.sum(axis=0))\n",
        "\n",
        "  results[sample_id[i]].obs[\"n_genes\"] = nd((results[sample_id[i]].X>0).sum(axis=1))\n",
        "  results[sample_id[i]].var[\"n_cells\"] = nd((results[sample_id[i]].X>0).sum(axis=0))\n",
        "\n",
        "  mito_genes = results[sample_id[i]].var_names.str.startswith(\"MT-\" or \"mt-\") \n",
        "  results[sample_id[i]].obs[\"percent_mito\"] = results[sample_id[i]][:,mito_genes].X.sum(axis=1)/results[sample_id[i]].X.sum(axis=1)*100\n",
        "\n",
        "  # Changing the name of the index is necessary to write the file (it won't work with duplicated names)\n",
        "  results[sample_id[i]].var.index.name = \"index\"\n",
        "\n"
      ],
      "execution_count": null,
      "outputs": [
        {
          "output_type": "stream",
          "text": [
            "The unfiltered matrix GSM4037313 contains 300549 cells by 60623 genes\n"
          ],
          "name": "stdout"
        }
      ]
    },
    {
      "cell_type": "markdown",
      "metadata": {
        "id": "hDAUH3eH_2RA"
      },
      "source": [
        "## Assign filters for each matrix individually"
      ]
    },
    {
      "cell_type": "code",
      "metadata": {
        "id": "ukinuaKk_6Po"
      },
      "source": [
        "# Modify this manually to change sample after having assigned the \"expected_num_cells\" and \"mito_criteria\" parameters\n",
        "samp_n = 0\n",
        "\n",
        "\n",
        "# Filtering criteria\n",
        "cell_threshold = 100\n",
        "gene_threshold = 3\n",
        "\n",
        "mito_criteria = 30"
      ],
      "execution_count": null,
      "outputs": []
    },
    {
      "cell_type": "code",
      "metadata": {
        "id": "a5wZB5pEfwNs",
        "cellView": "form",
        "colab": {
          "base_uri": "https://localhost:8080/",
          "height": 728
        },
        "outputId": "8e53e2b8-99d3-4ff6-c0c8-31ca96dc0866"
      },
      "source": [
        "\n",
        "expected_num_cells = 2700#@param {type:\"integer\"}\n",
        "knee = np.sort(nd(results[sample_id[samp_n]].X.sum(axis=1)))[::-1]\n",
        "\n",
        "fig, ax = plt.subplots(figsize=(5, 5))\n",
        "\n",
        "x = knee\n",
        "y = range(len(knee))\n",
        "\n",
        "ax.loglog(x, y, linewidth=5, color=\"g\")\n",
        "\n",
        "ax.axvline(x=knee[expected_num_cells], linewidth=3, color=\"k\")\n",
        "ax.axhline(y=expected_num_cells, linewidth=3, color=\"k\")\n",
        "\n",
        "ax.set_xlabel(\"UMI Counts\")\n",
        "ax.set_ylabel(\"Set of Barcodes\")\n",
        "\n",
        "plt.show()\n",
        "\n",
        "cell_threshold = knee[expected_num_cells]\n",
        "\n",
        "results[\"cell_threshold\" + sample_id[samp_n]] = knee[expected_num_cells]\n",
        "\n",
        "print (\"Cells were filtered down to \" + str(expected_num_cells) + \" with at least \" + str(cell_threshold) + \" UMIs\")\n",
        "\n",
        "\n",
        "mito_criteria = 25#@param {type:\"integer\"}\n",
        "results[\"mito_criteria\" + sample_id[samp_n]] = mito_criteria\n",
        "\n",
        "fig, ax = plt.subplots(figsize=(5,5))\n",
        "\n",
        "\n",
        "x = nd(results[sample_id[samp_n]].obs[\"cell_counts\"][results[sample_id[samp_n]].obs[\"cell_counts\"] > cell_threshold])\n",
        "y = nd(results[sample_id[samp_n]].obs[\"percent_mito\"][results[sample_id[samp_n]].obs[\"cell_counts\"] > cell_threshold])\n",
        "\n",
        "ax.scatter(x, y, color=\"green\", alpha=0.1)\n",
        "\n",
        "ax.axhline(y=mito_criteria, linestyle=\"--\", color=\"k\")\n",
        "\n",
        "\n",
        "ax.set_xlabel(\"UMI Counts\")\n",
        "ax.set_ylabel(\"Percent mito\")\n",
        "\n",
        "\n",
        "plt.show()\n",
        "\n",
        "print(\"We select \" + str(mito_criteria) + \" % as the mitochondrial content threshold\")"
      ],
      "execution_count": null,
      "outputs": [
        {
          "output_type": "display_data",
          "data": {
            "image/png": "[encoded data removed]",
            "text/plain": [
              "<Figure size 360x360 with 1 Axes>"
            ]
          },
          "metadata": {
            "tags": [],
            "image/png": {
              "width": 358,
              "height": 337
            },
            "needs_background": "light"
          }
        },
        {
          "output_type": "stream",
          "text": [
            "Cells were filtered down to 2700 with at least 845.0 UMIs\n"
          ],
          "name": "stdout"
        },
        {
          "output_type": "display_data",
          "data": {
            "image/png": "[encoded data removed]",
            "text/plain": [
              "<Figure size 360x360 with 1 Axes>"
            ]
          },
          "metadata": {
            "tags": [],
            "image/png": {
              "width": 362,
              "height": 340
            },
            "needs_background": "light"
          }
        },
        {
          "output_type": "stream",
          "text": [
            "We select 25 % as the mitochondrial content threshold\n"
          ],
          "name": "stdout"
        }
      ]
    },
    {
      "cell_type": "markdown",
      "metadata": {
        "id": "eP9j2ouPq9KY"
      },
      "source": [
        "# Filter matrix"
      ]
    },
    {
      "cell_type": "code",
      "metadata": {
        "id": "sE51WUA3gVmG",
        "colab": {
          "base_uri": "https://localhost:8080/"
        },
        "outputId": "1907e184-6fb8-4e64-e6f7-2459b23b1215"
      },
      "source": [
        "for i in range(no_samples):\n",
        "  results[sample_id[i]].obs[\"pass_count_filter\"] = results[sample_id[i]].obs[\"cell_counts\"] > results[\"cell_threshold\" + sample_id[i]]\n",
        "  results[sample_id[i]].obs[\"pass_mito_filter\"] = results[sample_id[i]].obs.percent_mito < results[\"mito_criteria\" + sample_id[i]]\n",
        "  results[sample_id[i]].var[\"pass_gene_filter\"] = results[sample_id[i]].var[\"n_cells\"] > gene_threshold\n",
        "\n",
        "  cell_mask = np.logical_and(results[sample_id[i]].obs[\"pass_count_filter\"].values, results[sample_id[i]].obs[\"pass_mito_filter\"].values)\n",
        "  gene_mask = results[sample_id[i]].var[\"pass_gene_filter\"].values\n",
        "\n",
        "  print(\"Current Shape: {:,} cells x {:,} genes\".format(results[sample_id[i]].shape[0], results[sample_id[i]].shape[1]))\n",
        "  print(\"    New shape: {:,} cells x {:,} genes\".format(cell_mask.sum(), gene_mask.sum()))\n",
        "  results[\"data_\" + sample_id[i]] = results[sample_id[i]][cell_mask, gene_mask]"
      ],
      "execution_count": null,
      "outputs": [
        {
          "output_type": "stream",
          "text": [
            "Current Shape: 300,549 cells x 60,623 genes\n",
            "    New shape: 2,598 cells x 26,462 genes\n"
          ],
          "name": "stdout"
        }
      ]
    },
    {
      "cell_type": "markdown",
      "metadata": {
        "id": "BxPA81yj4TlU"
      },
      "source": [
        "# Anotate and write the Anndata object"
      ]
    },
    {
      "cell_type": "code",
      "metadata": {
        "id": "O-q_Qj2U4kDU",
        "colab": {
          "base_uri": "https://localhost:8080/"
        },
        "outputId": "bf23012f-88a6-443e-cf53-527249e54382"
      },
      "source": [
        "for i in range(no_samples):\n",
        "\n",
        "\n",
        "  results[\"data_\" + sample_id[i]].uns[\"database_id\"] = database_id[samp_n]\n",
        "\n",
        "  results[\"data_\" + sample_id[i]].uns[\"tissue\"] = tissue[samp_n]\n",
        "\n",
        "  results[\"data_\" + sample_id[i]].uns[\"cell_type\"] = cell_type[samp_n]\n",
        "\n",
        "  results[\"data_\" + sample_id[i]].uns[\"sample_id\"] = sample_id[samp_n]\n",
        "\n",
        "  results[\"data_\" + sample_id[i]].uns[\"condition\"] = condition[samp_n]\n",
        "\n",
        "  results[\"data_\" + sample_id[i]].uns[\"species\"] = species[samp_n]\n",
        "\n",
        "  results[\"data_\" + sample_id[i]].uns[\"technology\"] = technology[samp_n]\n",
        "\n",
        "  results[\"data_\" + sample_id[i]].uns[\"paper\"] = paper[samp_n]\n",
        "\n",
        "  results[\"data_\" + sample_id[i]].uns[\"figure\"] = figure[samp_n]\n",
        "\n",
        "\n",
        "%cd /content\n",
        "\n",
        "for i in range(no_samples):\n",
        "\n",
        "  results[\"data_\" + sample_id[i]].write(\"result\" + sample_id[i])"
      ],
      "execution_count": null,
      "outputs": [
        {
          "output_type": "stream",
          "text": [
            "Trying to set attribute `.uns` of view, copying.\n",
            "Variable names are not unique. To make them unique, call `.var_names_make_unique`.\n",
            "Variable names are not unique. To make them unique, call `.var_names_make_unique`.\n",
            "... storing 'gene_name' as categorical\n"
          ],
          "name": "stderr"
        },
        {
          "output_type": "stream",
          "text": [
            "/content\n"
          ],
          "name": "stdout"
        }
      ]
    },
    {
      "cell_type": "code",
      "metadata": {
        "colab": {
          "base_uri": "https://localhost:8080/"
        },
        "id": "hMGJu8xZrdfn",
        "outputId": "3f80914c-0f5e-408d-9250-4b9b259d9241"
      },
      "source": [
        "'''\n",
        "Create TCC matrix\n",
        "'''\n",
        "if not bam:\n",
        "  %cd /content/fastqs\n",
        "\n",
        "if bam:\n",
        "  %cd /content/fastqs/$_filename\n",
        "\n",
        "if no_samples == 1:\n",
        "\n",
        "  # Write the kb count command as a string with all fastqs of the list as an input\n",
        "  cmd = \"kb count --h5ad -i index.idx -g t2g.txt -x \" + technology_kb + \" -o tccoutput\" + sample_id[0] + \" \"\\\n",
        "  + \"--filter bustools -t 2 --tcc --overwrite \" + \"'\" +  \"' '\".join(fastqs) + \"'\"\n",
        "  \n",
        "  # Execute it\n",
        "  !$cmd\n",
        "\n",
        "# If more than one sample, iterate through fastqs accordingly\n",
        "else:\n",
        "\n",
        "  # Initializa counter for fastq files\n",
        "  j = 0\n",
        "\n",
        "  # Loop over samples for analysis\n",
        "  for i in range(no_samples):\n",
        "\n",
        "    fastqs_to_analyze = fastqs[j:j + fastqs_per_sample[i]]\n",
        "    # Write the kb count command as a string\n",
        "    cmd = \"kb count --h5ad -i index.idx -g t2g.txt -x \" + technology_kb + \" -o tccoutput\" + sample_id[i] + \" \\\n",
        "    --filter bustools -t 2 --tcc --overwrite \" + \"'\" +  \"' '\".join(fastqs_to_analyze) + \"'\"\n",
        "\n",
        "    # Execute it\n",
        "    !$cmd\n",
        "\n",
        "    # Update j to move to the next set of fastq\n",
        "    j = j + fastqs_per_sample[i]\n",
        "\n",
        "\n",
        "tcc_results = {}\n",
        "\n",
        "for sample in sample_id:\n",
        "  output = \"bus_raw_\" + sample\n",
        "  !mkdir $output\n",
        "  folder_tcc = \"tccoutput\" + sample\n",
        "  folder_gc = \"output\" + sample\n",
        "\n",
        "  # read tcc matrix\n",
        "  tcc_results[sample] = anndata.read(folder_tcc + \"/counts_unfiltered/adata.h5ad\")\n",
        "  # apply gene count matrix's filter\n",
        "  tcc_results[sample] = tcc_results[sample][results[\"data_\" + sample_id[i]].obs.index.values]\n",
        "  # transfer obs data\n",
        "  tcc_results[sample].obs = results[\"data_\" + sample].obs\n",
        "  # transfer metadata\n",
        "  tcc_results[sample].uns = results[\"data_\" + sample].uns\n",
        "  # write tcc matrix\n",
        "  tcc_results[sample].write(\"/content/tcc_\" + sample)\n",
        "  #gzip tcc matrix\n",
        "  cmd = \"gzip /content/tcc_\" + sample\n",
        "  !$cmd\n",
        "  #gzip filtered bus file\n",
        "  cmd = \"gzip \" + folder_tcc + \"/output.filtered.bus\"\n",
        "  !$cmd\n",
        "  # move and re-name bus file with sample id\n",
        "  cmd = \"mv \" + folder_tcc + \"/output.filtered.bus.gz \" + output + \"/\" + sample +\".filtered.bus.gz\"\n",
        "  !$cmd\n",
        "  # gzip all unfiltered counts\n",
        "  cmd = \"gzip \" + folder_tcc + \"/counts_unfiltered/*\"\n",
        "  !$cmd\n",
        "  cmd = \"gzip \" + folder_gc + \"/counts_unfiltered/*\"\n",
        "  !$cmd\n",
        "  # move unfiltered counts for both\n",
        "  cmd = \"mv \" + folder_tcc + \"/counts_unfiltered \" + output + \"/tcc_unfiltered\"\n",
        "  !$cmd\n",
        "  cmd = \"mv \" + folder_gc + \"/counts_unfiltered \" + output + \"/gc_unfiltered\"\n",
        "  !$cmd\n",
        "\n",
        "  # zip all files\n",
        "  cmd = \"zip -r /content\" + output + \".zip \" + output\n",
        "  !$cmd"
      ],
      "execution_count": null,
      "outputs": [
        {
          "output_type": "stream",
          "text": [
            "/content/fastqs\n",
            "[2021-03-02 06:44:14,272]    INFO Using index index.idx to generate BUS file to tccoutputGSM4037313 from\n",
            "[2021-03-02 06:44:14,273]    INFO         SRR9985376_1.fastq.gz\n",
            "[2021-03-02 06:44:14,273]    INFO         SRR9985376_2.fastq.gz\n",
            "[2021-03-02 06:44:14,273]    INFO         SRR9985377_1.fastq.gz\n",
            "[2021-03-02 06:44:14,273]    INFO         SRR9985377_2.fastq.gz\n",
            "[2021-03-02 06:44:14,273]    INFO         SRR9985378_1.fastq.gz\n",
            "[2021-03-02 06:44:14,273]    INFO         SRR9985378_2.fastq.gz\n",
            "[2021-03-02 06:44:14,273]    INFO         SRR9985379_1.fastq.gz\n",
            "[2021-03-02 06:44:14,273]    INFO         SRR9985379_2.fastq.gz\n",
            "[2021-03-02 06:44:14,273]    INFO         SRR9985380_1.fastq.gz\n",
            "[2021-03-02 06:44:14,273]    INFO         SRR9985380_2.fastq.gz\n",
            "[2021-03-02 06:44:14,273]    INFO         SRR9985381_1.fastq.gz\n",
            "[2021-03-02 06:44:14,273]    INFO         SRR9985381_2.fastq.gz\n",
            "[2021-03-02 07:03:34,728]    INFO Sorting BUS file tccoutputGSM4037313/output.bus to tccoutputGSM4037313/tmp/output.s.bus\n",
            "[2021-03-02 07:04:25,728]    INFO Whitelist not provided\n",
            "[2021-03-02 07:04:25,728]    INFO Copying pre-packaged 10XV2 whitelist to tccoutputGSM4037313\n",
            "[2021-03-02 07:04:25,844]    INFO Inspecting BUS file tccoutputGSM4037313/tmp/output.s.bus\n",
            "[2021-03-02 07:04:47,805]    INFO Correcting BUS records in tccoutputGSM4037313/tmp/output.s.bus to tccoutputGSM4037313/tmp/output.s.c.bus with whitelist tccoutputGSM4037313/10xv2_whitelist.txt\n",
            "[2021-03-02 07:05:05,041]    INFO Sorting BUS file tccoutputGSM4037313/tmp/output.s.c.bus to tccoutputGSM4037313/output.unfiltered.bus\n",
            "[2021-03-02 07:05:51,975]    INFO Generating count matrix tccoutputGSM4037313/counts_unfiltered/cells_x_tcc from BUS file tccoutputGSM4037313/output.unfiltered.bus\n",
            "[2021-03-02 07:06:51,302]    INFO Reading matrix tccoutputGSM4037313/counts_unfiltered/cells_x_tcc.mtx\n",
            "[2021-03-02 07:07:34,858]    INFO Writing matrix to h5ad tccoutputGSM4037313/counts_unfiltered/adata.h5ad\n",
            "[2021-03-02 07:08:56,478]    INFO Filtering with bustools\n",
            "[2021-03-02 07:08:56,478]    INFO Generating whitelist tccoutputGSM4037313/filter_barcodes.txt from BUS file tccoutputGSM4037313/output.unfiltered.bus\n",
            "[2021-03-02 07:08:57,050]    INFO Correcting BUS records in tccoutputGSM4037313/output.unfiltered.bus to tccoutputGSM4037313/tmp/output.unfiltered.c.bus with whitelist tccoutputGSM4037313/filter_barcodes.txt\n",
            "[2021-03-02 07:09:10,196]    INFO Sorting BUS file tccoutputGSM4037313/tmp/output.unfiltered.c.bus to tccoutputGSM4037313/output.filtered.bus\n",
            "[2021-03-02 07:09:49,317]    INFO Generating count matrix tccoutputGSM4037313/counts_filtered/cells_x_tcc from BUS file tccoutputGSM4037313/output.filtered.bus\n",
            "[2021-03-02 07:10:42,440]    INFO Reading matrix tccoutputGSM4037313/counts_filtered/cells_x_tcc.mtx\n",
            "[2021-03-02 07:11:17,948]    INFO Writing matrix to h5ad tccoutputGSM4037313/counts_filtered/adata.h5ad\n",
            "  adding: bus_raw_GSM4037313/ (stored 0%)\n",
            "  adding: bus_raw_GSM4037313/tcc_unfiltered/ (stored 0%)\n",
            "  adding: bus_raw_GSM4037313/tcc_unfiltered/cells_x_tcc.ec.txt.gz (deflated 3%)\n",
            "  adding: bus_raw_GSM4037313/tcc_unfiltered/adata.h5ad.gz (deflated 7%)\n",
            "  adding: bus_raw_GSM4037313/tcc_unfiltered/cells_x_tcc.barcodes.txt.gz (deflated 1%)\n",
            "  adding: bus_raw_GSM4037313/tcc_unfiltered/cells_x_tcc.mtx.gz (deflated 0%)\n",
            "  adding: bus_raw_GSM4037313/GSM4037313.filtered.bus.gz (deflated 4%)\n",
            "  adding: bus_raw_GSM4037313/gc_unfiltered/ (stored 0%)\n",
            "  adding: bus_raw_GSM4037313/gc_unfiltered/cells_x_genes.barcodes.txt.gz (deflated 1%)\n",
            "  adding: bus_raw_GSM4037313/gc_unfiltered/cells_x_genes.genes.txt.gz (deflated 0%)\n",
            "  adding: bus_raw_GSM4037313/gc_unfiltered/adata.h5ad.gz (deflated 3%)\n",
            "  adding: bus_raw_GSM4037313/gc_unfiltered/cells_x_genes.mtx.gz (deflated 0%)\n"
          ],
          "name": "stdout"
        }
      ]
    },
    {
      "cell_type": "code",
      "metadata": {
        "colab": {
          "base_uri": "https://localhost:8080/"
        },
        "id": "wddsPuAxriZC",
        "outputId": "5d659d0f-6a24-446c-e521-2482fd465374"
      },
      "source": [
        "!zip -r /content/fastqs/bus_raw_GSM4037313.zip /content/fastqs/bus_raw_GSM4037313"
      ],
      "execution_count": null,
      "outputs": [
        {
          "output_type": "stream",
          "text": [
            "  adding: content/fastqs/bus_raw_GSM4037313/ (stored 0%)\n",
            "  adding: content/fastqs/bus_raw_GSM4037313/tcc_unfiltered/ (stored 0%)\n",
            "  adding: content/fastqs/bus_raw_GSM4037313/tcc_unfiltered/cells_x_tcc.ec.txt.gz (deflated 3%)\n",
            "  adding: content/fastqs/bus_raw_GSM4037313/tcc_unfiltered/adata.h5ad.gz (deflated 7%)\n",
            "  adding: content/fastqs/bus_raw_GSM4037313/tcc_unfiltered/cells_x_tcc.barcodes.txt.gz (deflated 1%)\n",
            "  adding: content/fastqs/bus_raw_GSM4037313/tcc_unfiltered/cells_x_tcc.mtx.gz (deflated 0%)\n",
            "  adding: content/fastqs/bus_raw_GSM4037313/GSM4037313.filtered.bus.gz (deflated 4%)\n",
            "  adding: content/fastqs/bus_raw_GSM4037313/gc_unfiltered/ (stored 0%)\n",
            "  adding: content/fastqs/bus_raw_GSM4037313/gc_unfiltered/cells_x_genes.barcodes.txt.gz (deflated 1%)\n",
            "  adding: content/fastqs/bus_raw_GSM4037313/gc_unfiltered/cells_x_genes.genes.txt.gz (deflated 0%)\n",
            "  adding: content/fastqs/bus_raw_GSM4037313/gc_unfiltered/adata.h5ad.gz (deflated 3%)\n",
            "  adding: content/fastqs/bus_raw_GSM4037313/gc_unfiltered/cells_x_genes.mtx.gz (deflated 0%)\n"
          ],
          "name": "stdout"
        }
      ]
    },
    {
      "cell_type": "code",
      "metadata": {
        "id": "RNri1jtlO3EI"
      },
      "source": [
        "github"
      ],
      "execution_count": null,
      "outputs": []
    }
  ]
}