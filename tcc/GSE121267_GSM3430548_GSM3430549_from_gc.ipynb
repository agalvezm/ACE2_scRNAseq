{
  "nbformat": 4,
  "nbformat_minor": 0,
  "metadata": {
    "colab": {
      "name": "GSE121267_GSM3430548_GSM3430549.ipynb",
      "provenance": [],
      "collapsed_sections": [],
      "include_colab_link": true
    },
    "kernelspec": {
      "name": "python3",
      "display_name": "Python 3"
    }
  },
  "cells": [
    {
      "cell_type": "markdown",
      "metadata": {
        "id": "view-in-github",
        "colab_type": "text"
      },
      "source": [
        "<a href=\"https://colab.research.google.com/github/agalvezm/ACE2_scRNAseq/blob/master/tcc/GSE121267_GSM3430548_GSM3430549_from_gc.ipynb\" target=\"_parent\"><img src=\"https://colab.research.google.com/assets/colab-badge.svg\" alt=\"Open In Colab\"/></a>"
      ]
    },
    {
      "cell_type": "markdown",
      "metadata": {
        "id": "V9ryXluJsJw9"
      },
      "source": [
        "# GSE121267_GSM3430548_GSM3430549"
      ]
    },
    {
      "cell_type": "markdown",
      "metadata": {
        "id": "3yyWqzfdDOYZ"
      },
      "source": [
        "\n",
        "This notebook uses the filtered count matrix resulting from the following google colab notebook. https://github.com/agalvezm/ACE2_scRNAseq/blob/master/notebooks_countmatrices/GSE121267_GSM3430548_GSM3430549.ipynb Please run the notebook above and upload the results file in /content"
      ]
    },
    {
      "cell_type": "code",
      "metadata": {
        "id": "ggNFAQJCRh6P"
      },
      "source": [
        "# define the values for the analysis\n",
        "\n",
        "# accession id for the data\n",
        "id = \"GSE121267\"\n",
        "samp_id = [\"GSM3430548\", \"GSM3430549\"]\n",
        "\n",
        "# If only bam available files, set bam = True, Fill link and filename\n",
        "bam = False\n",
        "\n",
        "# If fastq links available but are not ffq links\n",
        "fastq_ffqlinks = True\n",
        "\n",
        "\n",
        "if bam:\n",
        "  # Assign link to python variable\n",
        "  link_to_bam = \"ftp://ftp.sra.ebi.ac.uk/vol1/run/SRR638/SRR6389864/possorted_genome_bam.bam\"\n",
        "  \n",
        "  # Assigns the link to the bash variable BAM_LINK. To be used by wget\n",
        "  %env BAM_LINK=$link_to_bam\n",
        "\n",
        "  # Assign filename to python variable. Used to convert to fastq and remove bam file to fastq after conversion\n",
        "\n",
        "  bam_filename=\"possorted_genome_bam.bam\"\n",
        "\n",
        "if not bam:\n",
        "  fastqs = [\"ftp://ftp.sra.ebi.ac.uk/vol1/fastq/SRR806/002/SRR8060842/SRR8060842_1.fastq.gz\",\n",
        "            \"ftp://ftp.sra.ebi.ac.uk/vol1/fastq/SRR806/002/SRR8060842/SRR8060842_2.fastq.gz\",\n",
        "            \"ftp://ftp.sra.ebi.ac.uk/vol1/fastq/SRR806/003/SRR8060843/SRR8060843_1.fastq.gz\",\n",
        "            \"ftp://ftp.sra.ebi.ac.uk/vol1/fastq/SRR806/003/SRR8060843/SRR8060843_2.fastq.gz\"\n",
        "            ]\n"
      ],
      "execution_count": 1,
      "outputs": []
    },
    {
      "cell_type": "code",
      "metadata": {
        "id": "5R3tPDqnoJUn"
      },
      "source": [
        "no_samples = 2\n",
        "\n",
        "fastqs_per_sample = [2,2] \n",
        "\n",
        "sample_id = samp_id\n",
        "\n",
        "database_id = [id] * no_samples\n",
        "\n",
        "tissue = [\"blood\"] * no_samples\n",
        "\n",
        "cell_type = [\"IL-10+ CD4+ T-cells from PBMCs\"] *2\n",
        "\n",
        "\n",
        "condition = [\"donor 1\", \"donor 2\"] * no_samples\n",
        "\n",
        "species = [\"human\"] * no_samples\n",
        "\n",
        "technology = [\"10xv2\"] * no_samples\n",
        "\n",
        "paper = [\"Muus et al 2020\"] * no_samples\n",
        "\n",
        "figure = [\"Fig 1 a,b  ED Fig 1 a,b,c,d  ED Fig 2 a,b,c,d,e\"] * no_samples\n",
        "\n",
        "\n",
        "# Set string variables for kb functions\n",
        "\n",
        "species_kb = species[0]\n",
        "\n",
        "technology_kb = technology[0]\n",
        "\n"
      ],
      "execution_count": 2,
      "outputs": []
    },
    {
      "cell_type": "markdown",
      "metadata": {
        "id": "FPwL0-_-KSAw"
      },
      "source": [
        "# Imports and installs"
      ]
    },
    {
      "cell_type": "code",
      "metadata": {
        "id": "1HSlUGZEp3oP",
        "colab": {
          "base_uri": "https://localhost:8080/"
        },
        "outputId": "a4ab2aca-8f18-4b39-ff13-6124c089683d"
      },
      "source": [
        "# install and import necessary software\n",
        "\n",
        "# Install kb and scanpy\n",
        "!pip -q install kb-python \n",
        "!pip -q install scanpy\n",
        "\n",
        "import re\n",
        "import os\n",
        "\n",
        "# Setup\n",
        "\n",
        "import anndata\n",
        "import pandas as pd\n",
        "import numpy as np\n",
        "import matplotlib.pyplot as plt\n",
        "import matplotlib as mpl\n",
        "import matplotlib.patches as mpatches\n",
        "import scanpy as sc\n",
        "from scipy import stats\n",
        "\n",
        "from collections import OrderedDict\n",
        "from sklearn.decomposition import TruncatedSVD\n",
        "from sklearn.manifold import TSNE\n",
        "from sklearn.preprocessing import scale\n",
        "\n",
        "from sklearn.cluster import KMeans\n",
        "from sklearn.preprocessing import normalize\n",
        "from sklearn.preprocessing import LabelEncoder\n",
        "from sklearn.neighbors import NeighborhoodComponentsAnalysis\n",
        "from matplotlib import cm\n",
        "from matplotlib.lines import Line2D\n",
        "\n",
        "def nd(arr):\n",
        "    return np.asarray(arr).reshape(-1)\n",
        "def yex(ax):\n",
        "    lims = [np.min([ax.get_xlim(), ax.get_ylim()]),\n",
        "            np.max([ax.get_xlim(), ax.get_ylim()])]\n",
        "\n",
        "    # now plot both limits against eachother\n",
        "    ax.plot(lims, lims, 'k-', alpha=0.75, zorder=0)\n",
        "    ax.set_aspect('equal')\n",
        "    ax.set_xlim(lims)\n",
        "    ax.set_ylim(lims)\n",
        "    return ax\n",
        "\n",
        "def trim_axs(axs, N):\n",
        "    \"\"\"little helper to massage the axs list to have correct length...\"\"\"\n",
        "    axs = axs.flat\n",
        "    for ax in axs[N:]:\n",
        "        ax.remove()\n",
        "    return axs[:N]\n",
        "\n",
        "import warnings\n",
        "warnings.filterwarnings('ignore')\n",
        "\n",
        "fsize=20\n",
        "\n",
        "plt.rcParams.update({'font.size': fsize})\n",
        "%config InlineBackend.figure_format = 'retina'"
      ],
      "execution_count": 3,
      "outputs": [
        {
          "output_type": "stream",
          "text": [
            "\u001b[K     |████████████████████████████████| 59.1MB 71kB/s \n",
            "\u001b[K     |████████████████████████████████| 51kB 3.8MB/s \n",
            "\u001b[K     |████████████████████████████████| 10.3MB 15.9MB/s \n",
            "\u001b[K     |████████████████████████████████| 13.2MB 327kB/s \n",
            "\u001b[K     |████████████████████████████████| 122kB 31.8MB/s \n",
            "\u001b[K     |████████████████████████████████| 112kB 54.0MB/s \n",
            "\u001b[K     |████████████████████████████████| 71kB 4.4MB/s \n",
            "\u001b[K     |████████████████████████████████| 51kB 2.8MB/s \n",
            "\u001b[?25h  Building wheel for loompy (setup.py) ... \u001b[?25l\u001b[?25hdone\n",
            "  Building wheel for numpy-groupies (setup.py) ... \u001b[?25l\u001b[?25hdone\n",
            "  Building wheel for sinfo (setup.py) ... \u001b[?25l\u001b[?25hdone\n"
          ],
          "name": "stdout"
        }
      ]
    },
    {
      "cell_type": "markdown",
      "metadata": {
        "id": "7V6FbosVrvP4"
      },
      "source": [
        "# Downloads: (bam (if bam) and index"
      ]
    },
    {
      "cell_type": "code",
      "metadata": {
        "id": "q46hw4zqKUPS"
      },
      "source": [
        "if bam:\n",
        "\n",
        "  # Install bamtofastq from 10x website (only bam files available)\n",
        "  !wget http://cf.10xgenomics.com/misc/bamtofastq-1.2.0\n",
        "  !chmod +x bamtofastq-1.2.0\n",
        "  # Download the bam file\n",
        "  !wget -- continue ${BAM_LINK}\n",
        "\n",
        "\n"
      ],
      "execution_count": 4,
      "outputs": []
    },
    {
      "cell_type": "code",
      "metadata": {
        "id": "tDQlrjtqNF0m"
      },
      "source": [
        "if bam:\n",
        "  # Convert to fastq\n",
        "  !./bamtofastq-1.2.0 --reads-per-fastq=500000000 $bam_filename ./fastqs\\\n",
        "\n",
        "  # Remove original bam file to save space\n",
        "  !rm $bam_filename\n"
      ],
      "execution_count": 5,
      "outputs": []
    },
    {
      "cell_type": "code",
      "metadata": {
        "id": "SXRDRphvqcLe"
      },
      "source": [
        "# Store fastq names on a list\n",
        "\n",
        "if bam:\n",
        "  # cd into fastqs folder\n",
        "  %cd /content/fastqs\n",
        "\n",
        "  #store the name of the folder generated by bamtofastq\n",
        "  _filename = os.listdir()[0]\n",
        "\n",
        "  # cd into that folder\n",
        "  %cd $_filename\n",
        "\n",
        "  # store fastq names in a list\n",
        "  fastqs = os.listdir()\n",
        "\n",
        "\n",
        "  # Remove I1 and R3 reads not relevant for our analysis\n",
        "\n",
        "  # Initialize list containing elements to remove\n",
        "  remov_elem = []\n",
        "\n",
        "  print (\"\\n\\nThis is the complete list of fastqs:\\n -----------\")\n",
        "  for elem in fastqs:\n",
        "    print (elem)\n",
        "\n",
        "  # Search index (I1 or R3) fastqs and remove them from list\n",
        "  for elem in fastqs:\n",
        "    if re.search(\"_R3_\", elem) or re.search(\"_I1_\", elem):\n",
        "      remov_elem = remov_elem +[elem]\n",
        "\n",
        "  fastqs = [elem for elem in fastqs if elem not in remov_elem] \n",
        "\n",
        "  print (\"\\n\\nThis is the filtered list of fastqs:\\n -----------\")\n",
        "  for elem in fastqs:\n",
        "    print (elem)\n"
      ],
      "execution_count": 6,
      "outputs": []
    },
    {
      "cell_type": "code",
      "metadata": {
        "id": "ZnFcqcSgjLBw"
      },
      "source": [
        "# Remove fastqs that wont be analyzed to save space\n",
        "if bam:\n",
        "  for elem in remov_elem:\n",
        "    !rm $elem"
      ],
      "execution_count": 7,
      "outputs": []
    },
    {
      "cell_type": "code",
      "metadata": {
        "id": "FLVS8aB7Dm6J"
      },
      "source": [
        "if bam:\n",
        "  # sort fastqs alphabetically to get R1 and R2 in order\n",
        "  fastqs = sorted(fastqs)"
      ],
      "execution_count": 8,
      "outputs": []
    },
    {
      "cell_type": "code",
      "metadata": {
        "id": "FE9gWbQgpBfR"
      },
      "source": [
        "# wget fastqs from non ffq links in fastqs folder\n",
        "if not bam and not fastq_ffqlinks:\n",
        "  !mkdir fastqs\n",
        "  %cd fastqs\n",
        "  for link in fastqs:\n",
        "    !wget $link --continue\n",
        "\n",
        "  # update fastqs variable with name of files\n",
        "  fastqs = sorted(os.listdir())"
      ],
      "execution_count": 9,
      "outputs": []
    },
    {
      "cell_type": "code",
      "metadata": {
        "id": "PC9oETW1pE9t",
        "colab": {
          "base_uri": "https://localhost:8080/"
        },
        "outputId": "9fbae3e3-3d3b-45ea-c8a6-05099122cdb5"
      },
      "source": [
        "if bam:\n",
        "  # Download the corresponding Kallisto index to folder containing fastqs\n",
        "  !kb ref -d $species_kb -i index.idx -g t2g.txt -f1 transcriptome.fasta\n",
        "\n",
        "if not bam:\n",
        "  %cd /content\n",
        "\n",
        "  # Download the corresponding Kallisto index to content folder\n",
        "  !kb ref -d $species_kb -i index.idx -g t2g.txt -f1 transcriptome.fasta\n",
        "\n",
        "if not bam and not fastq_ffqlinks:\n",
        "  %cd /content/fastqs\n",
        "\n",
        "  # Download the corresponding Kallisto index to fastq folder\n",
        "  !kb ref -d $species_kb -i index.idx -g t2g.txt -f1 transcriptome.fasta"
      ],
      "execution_count": 10,
      "outputs": [
        {
          "output_type": "stream",
          "text": [
            "/content\n",
            "[2021-03-29 18:39:13,933]    INFO Downloading files for human from https://caltech.box.com/shared/static/v1nm7lpnqz5syh8dyzdk2zs8bglncfib.gz to tmp/v1nm7lpnqz5syh8dyzdk2zs8bglncfib.gz\n",
            "100% 2.23G/2.23G [01:49<00:00, 21.7MB/s]\n",
            "[2021-03-29 18:41:05,060]    INFO Extracting files from tmp/v1nm7lpnqz5syh8dyzdk2zs8bglncfib.gz\n"
          ],
          "name": "stdout"
        }
      ]
    },
    {
      "cell_type": "code",
      "metadata": {
        "id": "vHVNa51Cp9Nr",
        "colab": {
          "base_uri": "https://localhost:8080/"
        },
        "outputId": "0132476f-725d-4306-9d2b-632786a4faa2"
      },
      "source": [
        "# Check to make sure the metadata is in the right order after sorting\n",
        "print(fastqs)"
      ],
      "execution_count": 11,
      "outputs": [
        {
          "output_type": "stream",
          "text": [
            "['ftp://ftp.sra.ebi.ac.uk/vol1/fastq/SRR806/002/SRR8060842/SRR8060842_1.fastq.gz', 'ftp://ftp.sra.ebi.ac.uk/vol1/fastq/SRR806/002/SRR8060842/SRR8060842_2.fastq.gz', 'ftp://ftp.sra.ebi.ac.uk/vol1/fastq/SRR806/003/SRR8060843/SRR8060843_1.fastq.gz', 'ftp://ftp.sra.ebi.ac.uk/vol1/fastq/SRR806/003/SRR8060843/SRR8060843_2.fastq.gz']\n"
          ],
          "name": "stdout"
        }
      ]
    },
    {
      "cell_type": "markdown",
      "metadata": {
        "id": "VInyuq1Dp7iz"
      },
      "source": [
        "# Process fastq files (modify kb command according to fastqs list)\n"
      ]
    },
    {
      "cell_type": "code",
      "metadata": {
        "id": "OcqtBuH-pRaX",
        "colab": {
          "base_uri": "https://localhost:8080/"
        },
        "outputId": "6d1472c3-9d00-473b-9e07-2e800fc9314d"
      },
      "source": [
        "fastqs"
      ],
      "execution_count": 12,
      "outputs": [
        {
          "output_type": "execute_result",
          "data": {
            "text/plain": [
              "['ftp://ftp.sra.ebi.ac.uk/vol1/fastq/SRR806/002/SRR8060842/SRR8060842_1.fastq.gz',\n",
              " 'ftp://ftp.sra.ebi.ac.uk/vol1/fastq/SRR806/002/SRR8060842/SRR8060842_2.fastq.gz',\n",
              " 'ftp://ftp.sra.ebi.ac.uk/vol1/fastq/SRR806/003/SRR8060843/SRR8060843_1.fastq.gz',\n",
              " 'ftp://ftp.sra.ebi.ac.uk/vol1/fastq/SRR806/003/SRR8060843/SRR8060843_2.fastq.gz']"
            ]
          },
          "metadata": {
            "tags": []
          },
          "execution_count": 12
        }
      ]
    },
    {
      "cell_type": "code",
      "metadata": {
        "id": "5qFzPj-0kZTi",
        "colab": {
          "base_uri": "https://localhost:8080/"
        },
        "outputId": "6818ba88-a126-4ee5-8978-4557c5f1eecc"
      },
      "source": [
        "\n",
        "if no_samples == 1:\n",
        "\n",
        "  # Write the kb count command as a string with all fastqs of the list as an input\n",
        "  cmd = \"kb count --h5ad -i index.idx -g t2g.txt -x \" + technology_kb + \" -o tccoutput\" + sample_id[0] + \" \"\\\n",
        "  + \"--filter bustools --tcc -t 2 --overwrite \" + \"'\" +  \"' '\".join(fastqs) + \"'\"\n",
        "  \n",
        "  # Execute it\n",
        "  !$cmd\n",
        "\n",
        "# If more than one sample, iterate through fastqs accordingly\n",
        "else:\n",
        "\n",
        "  # Initializa counter for fastq files\n",
        "  j = 0\n",
        "\n",
        "  # Loop over samples for analysis\n",
        "  for i in range(no_samples):\n",
        "\n",
        "    fastqs_to_analyze = fastqs[j:j + fastqs_per_sample[i]]\n",
        "    # Write the kb count command as a string\n",
        "    cmd = \"kb count --h5ad -i index.idx -g t2g.txt -x \" + technology_kb + \" -o tccoutput\" + sample_id[i] + \" \\\n",
        "    --filter bustools --tcc -t 2 --overwrite \" + \"'\" +  \"' '\".join(fastqs_to_analyze) + \"'\"\n",
        "\n",
        "    # Execute it\n",
        "    !$cmd\n",
        "\n",
        "    # Update j to move to the next set of fastq\n",
        "    j = j + fastqs_per_sample[i]\n",
        "\n",
        "\n",
        "\n",
        "\n",
        "\n",
        "\n",
        "results = {}\n",
        "tcc_results = {}\n",
        "for sample in sample_id:\n",
        "  # Read the filtered gene count matrix\n",
        "  results[\"data_\" + sample] = anndata.read(\"/content/result\" + sample)\n",
        "\n",
        "\n",
        "for sample in sample_id:\n",
        "  output = \"bus_raw_\" + sample + \"_from_gc\"\n",
        "  !mkdir $output\n",
        "  folder_tcc = \"tccoutput\" + sample\n",
        "\n",
        "  # read tcc matrix\n",
        "  tcc_results[sample] = anndata.read(folder_tcc + \"/counts_unfiltered/adata.h5ad\")\n",
        "  # apply gene count matrix's filter\n",
        "  tcc_results[sample] = tcc_results[sample][results[\"data_\" + sample].obs.index.values]\n",
        "  # transfer obs data\n",
        "  tcc_results[sample].obs = results[\"data_\" + sample].obs\n",
        "  # transfer metadata\n",
        "  tcc_results[sample].uns = results[\"data_\" + sample].uns\n",
        "  # write tcc matrix\n",
        "  tcc_results[sample].write(\"/content/tcc_\" + sample)\n",
        "  #gzip tcc matrix\n",
        "  cmd = \"gzip /content/tcc_\" + sample\n",
        "  !$cmd\n",
        "  #gzip unfiltered bus file\n",
        "  cmd = \"gzip \" + folder_tcc + \"/output.unfiltered.bus\"\n",
        "  !$cmd\n",
        "  # move and re-name bus file with sample id\n",
        "  cmd = \"mv \" + folder_tcc + \"/output.unfiltered.bus.gz \" + output + \"/\" + sample +\".unfiltered.bus.gz\"\n",
        "  !$cmd\n",
        "  # gzip all unfiltered counts\n",
        "  cmd = \"gzip \" + folder_tcc + \"/counts_unfiltered/*\"\n",
        "  !$cmd\n",
        "\n",
        "  # move unfiltered counts for both\n",
        "  cmd = \"mv \" + folder_tcc + \"/counts_unfiltered \" + output + \"/tcc_unfiltered\"\n",
        "  !$cmd\n",
        "\n",
        "  cmd = \"mv \" + folder_tcc + \"/*.json \" + output \n",
        "  !$cmd\n",
        "  # zip all files\n",
        "  cmd = \"zip -r \"+ output + \".zip \" + output\n",
        "  !$cmd"
      ],
      "execution_count": 13,
      "outputs": [
        {
          "output_type": "stream",
          "text": [
            "[2021-03-29 18:41:48,025]    INFO Piping ftp://ftp.sra.ebi.ac.uk/vol1/fastq/SRR806/002/SRR8060842/SRR8060842_1.fastq.gz to tccoutputGSM3430548/tmp/SRR8060842_1.fastq.gz\n",
            "[2021-03-29 18:41:48,028]    INFO Piping ftp://ftp.sra.ebi.ac.uk/vol1/fastq/SRR806/002/SRR8060842/SRR8060842_2.fastq.gz to tccoutputGSM3430548/tmp/SRR8060842_2.fastq.gz\n",
            "[2021-03-29 18:41:48,029]    INFO Using index index.idx to generate BUS file to tccoutputGSM3430548 from\n",
            "[2021-03-29 18:41:48,029]    INFO         tccoutputGSM3430548/tmp/SRR8060842_1.fastq.gz\n",
            "[2021-03-29 18:41:48,029]    INFO         tccoutputGSM3430548/tmp/SRR8060842_2.fastq.gz\n",
            "[2021-03-29 19:31:32,845]    INFO Sorting BUS file tccoutputGSM3430548/output.bus to tccoutputGSM3430548/tmp/output.s.bus\n",
            "[2021-03-29 19:33:04,095]    INFO Whitelist not provided\n",
            "[2021-03-29 19:33:04,095]    INFO Copying pre-packaged 10XV2 whitelist to tccoutputGSM3430548\n",
            "[2021-03-29 19:33:04,272]    INFO Inspecting BUS file tccoutputGSM3430548/tmp/output.s.bus\n",
            "[2021-03-29 19:33:19,998]    INFO Correcting BUS records in tccoutputGSM3430548/tmp/output.s.bus to tccoutputGSM3430548/tmp/output.s.c.bus with whitelist tccoutputGSM3430548/10xv2_whitelist.txt\n",
            "[2021-03-29 19:33:30,263]    INFO Sorting BUS file tccoutputGSM3430548/tmp/output.s.c.bus to tccoutputGSM3430548/output.unfiltered.bus\n",
            "[2021-03-29 19:33:54,778]    INFO Generating count matrix tccoutputGSM3430548/counts_unfiltered/cells_x_tcc from BUS file tccoutputGSM3430548/output.unfiltered.bus\n",
            "[2021-03-29 19:34:36,548]    INFO Reading matrix tccoutputGSM3430548/counts_unfiltered/cells_x_tcc.mtx\n",
            "[2021-03-29 19:35:16,652]    INFO Writing matrix to h5ad tccoutputGSM3430548/counts_unfiltered/adata.h5ad\n",
            "[2021-03-29 19:37:44,307]    INFO Filtering with bustools\n",
            "[2021-03-29 19:37:44,307]    INFO Generating whitelist tccoutputGSM3430548/filter_barcodes.txt from BUS file tccoutputGSM3430548/output.unfiltered.bus\n",
            "[2021-03-29 19:37:44,929]    INFO Correcting BUS records in tccoutputGSM3430548/output.unfiltered.bus to tccoutputGSM3430548/tmp/output.unfiltered.c.bus with whitelist tccoutputGSM3430548/filter_barcodes.txt\n",
            "[2021-03-29 19:37:53,606]    INFO Sorting BUS file tccoutputGSM3430548/tmp/output.unfiltered.c.bus to tccoutputGSM3430548/output.filtered.bus\n",
            "[2021-03-29 19:38:28,599]    INFO Generating count matrix tccoutputGSM3430548/counts_filtered/cells_x_tcc from BUS file tccoutputGSM3430548/output.filtered.bus\n",
            "[2021-03-29 19:39:02,123]    INFO Reading matrix tccoutputGSM3430548/counts_filtered/cells_x_tcc.mtx\n",
            "[2021-03-29 19:39:35,731]    INFO Writing matrix to h5ad tccoutputGSM3430548/counts_filtered/adata.h5ad\n",
            "[2021-03-29 19:41:55,022]    INFO Piping ftp://ftp.sra.ebi.ac.uk/vol1/fastq/SRR806/003/SRR8060843/SRR8060843_1.fastq.gz to tccoutputGSM3430549/tmp/SRR8060843_1.fastq.gz\n",
            "[2021-03-29 19:41:55,024]    INFO Piping ftp://ftp.sra.ebi.ac.uk/vol1/fastq/SRR806/003/SRR8060843/SRR8060843_2.fastq.gz to tccoutputGSM3430549/tmp/SRR8060843_2.fastq.gz\n",
            "[2021-03-29 19:41:55,025]    INFO Using index index.idx to generate BUS file to tccoutputGSM3430549 from\n",
            "[2021-03-29 19:41:55,025]    INFO         tccoutputGSM3430549/tmp/SRR8060843_1.fastq.gz\n",
            "[2021-03-29 19:41:55,025]    INFO         tccoutputGSM3430549/tmp/SRR8060843_2.fastq.gz\n",
            "Exception in thread Thread-1:\n",
            "Traceback (most recent call last):\n",
            "  File \"/usr/lib/python3.7/threading.py\", line 926, in _bootstrap_inner\n",
            "    self.run()\n",
            "  File \"/usr/lib/python3.7/threading.py\", line 870, in run\n",
            "    self._target(*self._args, **self._kwargs)\n",
            "  File \"/usr/lib/python3.7/urllib/request.py\", line 280, in urlretrieve\n",
            "    tfp.write(block)\n",
            "BrokenPipeError: [Errno 32] Broken pipe\n",
            "\n",
            "Exception in thread Thread-2:\n",
            "Traceback (most recent call last):\n",
            "  File \"/usr/lib/python3.7/threading.py\", line 926, in _bootstrap_inner\n",
            "    self.run()\n",
            "  File \"/usr/lib/python3.7/threading.py\", line 870, in run\n",
            "    self._target(*self._args, **self._kwargs)\n",
            "  File \"/usr/lib/python3.7/urllib/request.py\", line 280, in urlretrieve\n",
            "    tfp.write(block)\n",
            "BrokenPipeError: [Errno 32] Broken pipe\n",
            "\n",
            "[2021-03-29 19:43:03,681]    INFO Sorting BUS file tccoutputGSM3430549/output.bus to tccoutputGSM3430549/tmp/output.s.bus\n",
            "[2021-03-29 19:43:06,885]    INFO Whitelist not provided\n",
            "[2021-03-29 19:43:06,886]    INFO Copying pre-packaged 10XV2 whitelist to tccoutputGSM3430549\n",
            "[2021-03-29 19:43:07,008]    INFO Inspecting BUS file tccoutputGSM3430549/tmp/output.s.bus\n",
            "[2021-03-29 19:43:08,960]    INFO Correcting BUS records in tccoutputGSM3430549/tmp/output.s.bus to tccoutputGSM3430549/tmp/output.s.c.bus with whitelist tccoutputGSM3430549/10xv2_whitelist.txt\n",
            "[2021-03-29 19:43:09,950]    INFO Sorting BUS file tccoutputGSM3430549/tmp/output.s.c.bus to tccoutputGSM3430549/output.unfiltered.bus\n",
            "[2021-03-29 19:43:12,995]    INFO Generating count matrix tccoutputGSM3430549/counts_unfiltered/cells_x_tcc from BUS file tccoutputGSM3430549/output.unfiltered.bus\n",
            "[2021-03-29 19:43:16,882]    INFO Reading matrix tccoutputGSM3430549/counts_unfiltered/cells_x_tcc.mtx\n",
            "[2021-03-29 19:43:28,730]    INFO Writing matrix to h5ad tccoutputGSM3430549/counts_unfiltered/adata.h5ad\n",
            "[2021-03-29 19:44:21,959]    INFO Filtering with bustools\n",
            "[2021-03-29 19:44:21,959]    INFO Generating whitelist tccoutputGSM3430549/filter_barcodes.txt from BUS file tccoutputGSM3430549/output.unfiltered.bus\n",
            "[2021-03-29 19:44:22,008]    INFO Correcting BUS records in tccoutputGSM3430549/output.unfiltered.bus to tccoutputGSM3430549/tmp/output.unfiltered.c.bus with whitelist tccoutputGSM3430549/filter_barcodes.txt\n",
            "[2021-03-29 19:44:22,124]    INFO Sorting BUS file tccoutputGSM3430549/tmp/output.unfiltered.c.bus to tccoutputGSM3430549/output.filtered.bus\n",
            "[2021-03-29 19:44:25,296]    INFO Generating count matrix tccoutputGSM3430549/counts_filtered/cells_x_tcc from BUS file tccoutputGSM3430549/output.filtered.bus\n",
            "[2021-03-29 19:44:29,027]    INFO Reading matrix tccoutputGSM3430549/counts_filtered/cells_x_tcc.mtx\n",
            "[2021-03-29 19:44:40,583]    INFO Writing matrix to h5ad tccoutputGSM3430549/counts_filtered/adata.h5ad\n"
          ],
          "name": "stdout"
        },
        {
          "output_type": "stream",
          "text": [
            "Variable names are not unique. To make them unique, call `.var_names_make_unique`.\n",
            "Variable names are not unique. To make them unique, call `.var_names_make_unique`.\n"
          ],
          "name": "stderr"
        },
        {
          "output_type": "stream",
          "text": [
            "  adding: bus_raw_GSM3430548_from_gc/ (stored 0%)\n",
            "  adding: bus_raw_GSM3430548_from_gc/run_info.json (deflated 42%)\n",
            "  adding: bus_raw_GSM3430548_from_gc/inspect.json (deflated 57%)\n",
            "  adding: bus_raw_GSM3430548_from_gc/tcc_unfiltered/ (stored 0%)\n",
            "  adding: bus_raw_GSM3430548_from_gc/tcc_unfiltered/adata.h5ad.gz (deflated 7%)\n",
            "  adding: bus_raw_GSM3430548_from_gc/tcc_unfiltered/cells_x_tcc.ec.txt.gz (deflated 2%)\n",
            "  adding: bus_raw_GSM3430548_from_gc/tcc_unfiltered/cells_x_tcc.barcodes.txt.gz (deflated 1%)\n",
            "  adding: bus_raw_GSM3430548_from_gc/tcc_unfiltered/cells_x_tcc.mtx.gz (deflated 0%)\n",
            "  adding: bus_raw_GSM3430548_from_gc/kb_info.json (deflated 75%)\n",
            "  adding: bus_raw_GSM3430548_from_gc/GSM3430548.unfiltered.bus.gz (deflated 4%)\n",
            "  adding: bus_raw_GSM3430549_from_gc/ (stored 0%)\n",
            "  adding: bus_raw_GSM3430549_from_gc/run_info.json (deflated 42%)\n",
            "  adding: bus_raw_GSM3430549_from_gc/inspect.json (deflated 58%)\n",
            "  adding: bus_raw_GSM3430549_from_gc/tcc_unfiltered/ (stored 0%)\n",
            "  adding: bus_raw_GSM3430549_from_gc/tcc_unfiltered/adata.h5ad.gz (deflated 12%)\n",
            "  adding: bus_raw_GSM3430549_from_gc/tcc_unfiltered/cells_x_tcc.ec.txt.gz (deflated 5%)\n",
            "  adding: bus_raw_GSM3430549_from_gc/tcc_unfiltered/cells_x_tcc.barcodes.txt.gz (deflated 1%)\n",
            "  adding: bus_raw_GSM3430549_from_gc/tcc_unfiltered/cells_x_tcc.mtx.gz (deflated 0%)\n",
            "  adding: bus_raw_GSM3430549_from_gc/kb_info.json (deflated 75%)\n",
            "  adding: bus_raw_GSM3430549_from_gc/GSM3430549.unfiltered.bus.gz (deflated 3%)\n"
          ],
          "name": "stdout"
        }
      ]
    },
    {
      "cell_type": "code",
      "metadata": {
        "id": "DA2VmFUTD7Kl"
      },
      "source": [
        "import time\n",
        "time.sleep(6000000)"
      ],
      "execution_count": null,
      "outputs": []
    }
  ]
}