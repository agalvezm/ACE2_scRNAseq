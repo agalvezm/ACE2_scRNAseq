{
  "nbformat": 4,
  "nbformat_minor": 0,
  "metadata": {
    "colab": {
      "name": "GSE130430_GSM3738539.ipynb",
      "provenance": [],
      "collapsed_sections": [],
      "toc_visible": true,
      "include_colab_link": true
    },
    "kernelspec": {
      "name": "python3",
      "display_name": "Python 3"
    }
  },
  "cells": [
    {
      "cell_type": "markdown",
      "metadata": {
        "id": "view-in-github",
        "colab_type": "text"
      },
      "source": [
        "<a href=\"https://colab.research.google.com/github/agalvezm/ACE2_scRNAseq/blob/master/tcc/GSE130430_GSM3738539_from_gc.ipynb\" target=\"_parent\"><img src=\"https://colab.research.google.com/assets/colab-badge.svg\" alt=\"Open In Colab\"/></a>"
      ]
    },
    {
      "cell_type": "markdown",
      "metadata": {
        "id": "V9ryXluJsJw9"
      },
      "source": [
        "# GSE130430_GSM3738539"
      ]
    },
    {
      "cell_type": "markdown",
      "metadata": {
        "id": "kAiODqQGR-in"
      },
      "source": [
        "This notebook uses the filtered count matrix resulting from the following google colab notebook. https://github.com/agalvezm/ACE2_scRNAseq/blob/master/notebooks_countmatrices/GSE130430_GSM3738539.ipynb Please run the notebook above and upload the results file in /content"
      ]
    },
    {
      "cell_type": "code",
      "metadata": {
        "id": "2BiFt2wu4aLh",
        "colab": {
          "base_uri": "https://localhost:8080/"
        },
        "outputId": "4e63d02a-b0a8-42e7-cbc5-056d46daaacf"
      },
      "source": [
        "# Install SRA-toolkit \n",
        "!wget \"http://ftp-trace.ncbi.nlm.nih.gov/sra/sdk/current/sratoolkit.current-centos_linux64.tar.gz\"\n",
        "\n",
        "! tar -xzf sratoolkit.current-centos_linux64.tar.gz\n",
        "\n",
        "# Add to path\n",
        "import os\n",
        "os.environ['PATH'] += \":/content/sratoolkit.2.11.0-centos_linux64/bin\"\n",
        "\n",
        "# Configure\n",
        "!vdb-config --interactive\n",
        "\n",
        "# Import packages\n",
        "\n",
        "import numpy as np\n"
      ],
      "execution_count": 1,
      "outputs": [
        {
          "output_type": "stream",
          "text": [
            "--2021-03-19 17:22:29--  http://ftp-trace.ncbi.nlm.nih.gov/sra/sdk/current/sratoolkit.current-centos_linux64.tar.gz\n",
            "Resolving ftp-trace.ncbi.nlm.nih.gov (ftp-trace.ncbi.nlm.nih.gov)... 130.14.250.12, 130.14.250.10, 2607:f220:41e:250::10, ...\n",
            "Connecting to ftp-trace.ncbi.nlm.nih.gov (ftp-trace.ncbi.nlm.nih.gov)|130.14.250.12|:80... connected.\n",
            "HTTP request sent, awaiting response... 301 Moved Permanently\n",
            "Location: https://ftp-trace.ncbi.nlm.nih.gov/sra/sdk/current/sratoolkit.current-centos_linux64.tar.gz [following]\n",
            "--2021-03-19 17:22:29--  https://ftp-trace.ncbi.nlm.nih.gov/sra/sdk/current/sratoolkit.current-centos_linux64.tar.gz\n",
            "Connecting to ftp-trace.ncbi.nlm.nih.gov (ftp-trace.ncbi.nlm.nih.gov)|130.14.250.12|:443... connected.\n",
            "HTTP request sent, awaiting response... 200 OK\n",
            "Length: 99139357 (95M) [application/x-gzip]\n",
            "Saving to: ‘sratoolkit.current-centos_linux64.tar.gz’\n",
            "\n",
            "sratoolkit.current- 100%[===================>]  94.55M   167MB/s    in 0.6s    \n",
            "\n",
            "2021-03-19 17:22:30 (167 MB/s) - ‘sratoolkit.current-centos_linux64.tar.gz’ saved [99139357/99139357]\n",
            "\n",
            "\u001b[2J\u001b[?25l\u001b[?1000h\u001b[?1002h2021-03-19T17:22:33 vdb-config.2.11.0 fatal: SIGNAL - Segmentation fault \n"
          ],
          "name": "stdout"
        }
      ]
    },
    {
      "cell_type": "code",
      "metadata": {
        "id": "mU4XegJlo2Na"
      },
      "source": [
        "# List of SRAs to download and transform. Copy paste from excel as string\n",
        "SRAs = \"SRR8984443\tSRR8984444\tSRR8984445\tSRR8984446\"\n",
        "\n",
        "SRAs = SRAs.split()\n",
        "\n",
        "# SRA to delete, usually the index file, which get downloaded because we include technical reads. \n",
        "# It varies so check in the SRA website\n",
        "SRA_to_delete = \"1\"\n",
        "\n",
        "\n",
        "SRAs_to_keep = np.setdiff1d([\"1\", \"2\", \"3\"], [SRA_to_delete])\n"
      ],
      "execution_count": 2,
      "outputs": []
    },
    {
      "cell_type": "code",
      "metadata": {
        "id": "u3uDp_jCpfhZ",
        "colab": {
          "base_uri": "https://localhost:8080/"
        },
        "outputId": "d60dac2f-0734-4437-aba5-8ec0a840640d"
      },
      "source": [
        "for sra in SRAs:\n",
        "  \"\"\"\n",
        "  Downloads SRAs and transforms to compressed fastq file. Remove index reads and original SRA\n",
        "  \"\"\"\n",
        "  # Download SRA\n",
        "  !prefetch $sra\n",
        "\n",
        "  # Convert to fastq. Biological reads are usually considered technicals in 10x so do not skip them.\n",
        "  fastq_dump_cmd = \"fastq-dump -F --gzip --readids --split-files \" + sra + \"/\" + sra +\".sra\"\n",
        "  !$fastq_dump_cmd\n",
        "\n",
        "  # Remove files\n",
        "  rm_cmd_1 = \"rm \" + sra + \"/\" + sra + \".sra\"\n",
        "  rm_cmd_2 = \"rm \" + sra + \"_\" + SRA_to_delete + \".fastq.gz\" \n",
        "  !$rm_cmd_1\n",
        "  !$rm_cmd_2"
      ],
      "execution_count": 3,
      "outputs": [
        {
          "output_type": "stream",
          "text": [
            "\n",
            "2021-03-19T17:23:37 prefetch.2.11.0: 1) Downloading 'SRR8984443'...\n",
            "2021-03-19T17:23:37 prefetch.2.11.0:  Downloading via HTTPS...\n",
            "2021-03-19T17:25:04 prefetch.2.11.0:  HTTPS download succeed\n",
            "2021-03-19T17:25:12 prefetch.2.11.0:  'SRR8984443' is valid\n",
            "2021-03-19T17:25:12 prefetch.2.11.0: 1) 'SRR8984443' was downloaded successfully\n",
            "2021-03-19T17:25:12 prefetch.2.11.0: 'SRR8984443' has 0 unresolved dependencies\n",
            "Read 47259707 spots for SRR8984443/SRR8984443.sra\n",
            "Written 47259707 spots for SRR8984443/SRR8984443.sra\n",
            "\n",
            "2021-03-19T18:17:38 prefetch.2.11.0: 1) Downloading 'SRR8984444'...\n",
            "2021-03-19T18:17:38 prefetch.2.11.0:  Downloading via HTTPS...\n",
            "2021-03-19T18:19:11 prefetch.2.11.0:  HTTPS download succeed\n",
            "2021-03-19T18:19:19 prefetch.2.11.0:  'SRR8984444' is valid\n",
            "2021-03-19T18:19:19 prefetch.2.11.0: 1) 'SRR8984444' was downloaded successfully\n",
            "2021-03-19T18:19:19 prefetch.2.11.0: 'SRR8984444' has 0 unresolved dependencies\n",
            "Read 47183399 spots for SRR8984444/SRR8984444.sra\n",
            "Written 47183399 spots for SRR8984444/SRR8984444.sra\n",
            "\n",
            "2021-03-19T19:11:24 prefetch.2.11.0: 1) Downloading 'SRR8984445'...\n",
            "2021-03-19T19:11:24 prefetch.2.11.0:  Downloading via HTTPS...\n",
            "2021-03-19T19:12:53 prefetch.2.11.0:  HTTPS download succeed\n",
            "2021-03-19T19:13:01 prefetch.2.11.0:  'SRR8984445' is valid\n",
            "2021-03-19T19:13:01 prefetch.2.11.0: 1) 'SRR8984445' was downloaded successfully\n",
            "2021-03-19T19:13:01 prefetch.2.11.0: 'SRR8984445' has 0 unresolved dependencies\n",
            "Read 47395127 spots for SRR8984445/SRR8984445.sra\n",
            "Written 47395127 spots for SRR8984445/SRR8984445.sra\n",
            "\n",
            "2021-03-19T20:05:11 prefetch.2.11.0: 1) Downloading 'SRR8984446'...\n",
            "2021-03-19T20:05:11 prefetch.2.11.0:  Downloading via HTTPS...\n",
            "2021-03-19T20:05:48 prefetch.2.11.0:  HTTPS download succeed\n",
            "2021-03-19T20:05:56 prefetch.2.11.0:  'SRR8984446' is valid\n",
            "2021-03-19T20:05:56 prefetch.2.11.0: 1) 'SRR8984446' was downloaded successfully\n",
            "2021-03-19T20:05:56 prefetch.2.11.0: 'SRR8984446' has 0 unresolved dependencies\n",
            "Read 47950854 spots for SRR8984446/SRR8984446.sra\n",
            "Written 47950854 spots for SRR8984446/SRR8984446.sra\n"
          ],
          "name": "stdout"
        }
      ]
    },
    {
      "cell_type": "code",
      "metadata": {
        "id": "bmN2opl1qHSh"
      },
      "source": [
        "# Define fastq list to feed kb\n",
        "\n",
        "fastqs = []\n",
        "for sra in SRAs:\n",
        "  for read in SRAs_to_keep:\n",
        "    fastqs.append(sra + \"_\" + read + \".fastq.gz\")"
      ],
      "execution_count": 4,
      "outputs": []
    },
    {
      "cell_type": "markdown",
      "metadata": {
        "id": "5tT2sVv2-XMD"
      },
      "source": [
        "## Metadata"
      ]
    },
    {
      "cell_type": "code",
      "metadata": {
        "id": "ggNFAQJCRh6P"
      },
      "source": [
        "# define the values for the analysis\n",
        "\n",
        "# accession id for the data\n",
        "id = \"GSE130430\"\n",
        "\n",
        "samp_id = [\"GSM3738539\"]\n",
        "\n",
        "no_samples = 1\n",
        "\n",
        "fastqs_per_sample = [4] \n",
        "\n",
        "sample_id = samp_id\n",
        "\n",
        "database_id = [id] * no_samples\n",
        "\n",
        "tissue = [\"bone marrow\"] * no_samples\n",
        "\n",
        "cell_type = [\"NK cells\"] * no_samples\n",
        "\n",
        "condition = [\"female\"] * no_samples\n",
        "\n",
        "species = [\"human\"] * no_samples\n",
        "\n",
        "technology = [\"10xv2\"] * no_samples\n",
        "\n",
        "paper = [\"Muus et al 2020\"] * no_samples\n",
        "\n",
        "figure = [\"Fig 1 a,b  ED Fig 1 a,b,c,d  ED Fig 2 a,b,c,d,e\"] * no_samples\n",
        "\n",
        "\n",
        "# Set string variables for kb functions\n",
        "\n",
        "species_kb = species[0]\n",
        "\n",
        "technology_kb = technology[0]"
      ],
      "execution_count": 5,
      "outputs": []
    },
    {
      "cell_type": "markdown",
      "metadata": {
        "id": "FPwL0-_-KSAw"
      },
      "source": [
        "# Imports and installs"
      ]
    },
    {
      "cell_type": "code",
      "metadata": {
        "id": "1HSlUGZEp3oP",
        "colab": {
          "base_uri": "https://localhost:8080/"
        },
        "outputId": "bc080d07-b13f-478c-ad79-a4ed9e2a94d6"
      },
      "source": [
        "# install and import necessary software\n",
        "\n",
        "# Install kb and scanpy\n",
        "!pip -q install kb-python \n",
        "!pip -q install scanpy\n",
        "\n",
        "import re\n",
        "import os\n",
        "\n",
        "# Setup\n",
        "\n",
        "import anndata\n",
        "import pandas as pd\n",
        "import numpy as np\n",
        "import matplotlib.pyplot as plt\n",
        "import matplotlib as mpl\n",
        "import matplotlib.patches as mpatches\n",
        "import scanpy as sc\n",
        "from scipy import stats\n",
        "\n",
        "from collections import OrderedDict\n",
        "from sklearn.decomposition import TruncatedSVD\n",
        "from sklearn.manifold import TSNE\n",
        "from sklearn.preprocessing import scale\n",
        "\n",
        "from sklearn.cluster import KMeans\n",
        "from sklearn.preprocessing import normalize\n",
        "from sklearn.preprocessing import LabelEncoder\n",
        "from sklearn.neighbors import NeighborhoodComponentsAnalysis\n",
        "from matplotlib import cm\n",
        "from matplotlib.lines import Line2D\n",
        "\n",
        "def nd(arr):\n",
        "    return np.asarray(arr).reshape(-1)\n",
        "def yex(ax):\n",
        "    lims = [np.min([ax.get_xlim(), ax.get_ylim()]),\n",
        "            np.max([ax.get_xlim(), ax.get_ylim()])]\n",
        "\n",
        "    # now plot both limits against eachother\n",
        "    ax.plot(lims, lims, 'k-', alpha=0.75, zorder=0)\n",
        "    ax.set_aspect('equal')\n",
        "    ax.set_xlim(lims)\n",
        "    ax.set_ylim(lims)\n",
        "    return ax\n",
        "\n",
        "def trim_axs(axs, N):\n",
        "    \"\"\"little helper to massage the axs list to have correct length...\"\"\"\n",
        "    axs = axs.flat\n",
        "    for ax in axs[N:]:\n",
        "        ax.remove()\n",
        "    return axs[:N]\n",
        "\n",
        "import warnings\n",
        "warnings.filterwarnings('ignore')\n",
        "\n",
        "fsize=20\n",
        "\n",
        "plt.rcParams.update({'font.size': fsize})\n",
        "%config InlineBackend.figure_format = 'retina'"
      ],
      "execution_count": 6,
      "outputs": [
        {
          "output_type": "stream",
          "text": [
            "\u001b[K     |████████████████████████████████| 59.1MB 100kB/s \n",
            "\u001b[K     |████████████████████████████████| 13.2MB 44.2MB/s \n",
            "\u001b[K     |████████████████████████████████| 122kB 46.8MB/s \n",
            "\u001b[K     |████████████████████████████████| 51kB 6.0MB/s \n",
            "\u001b[K     |████████████████████████████████| 10.3MB 31.5MB/s \n",
            "\u001b[K     |████████████████████████████████| 112kB 47.3MB/s \n",
            "\u001b[K     |████████████████████████████████| 51kB 5.5MB/s \n",
            "\u001b[K     |████████████████████████████████| 71kB 7.7MB/s \n",
            "\u001b[?25h  Building wheel for loompy (setup.py) ... \u001b[?25l\u001b[?25hdone\n",
            "  Building wheel for numpy-groupies (setup.py) ... \u001b[?25l\u001b[?25hdone\n",
            "  Building wheel for sinfo (setup.py) ... \u001b[?25l\u001b[?25hdone\n"
          ],
          "name": "stdout"
        }
      ]
    },
    {
      "cell_type": "markdown",
      "metadata": {
        "id": "7V6FbosVrvP4"
      },
      "source": [
        "# Downloads: index"
      ]
    },
    {
      "cell_type": "code",
      "metadata": {
        "id": "PC9oETW1pE9t",
        "colab": {
          "base_uri": "https://localhost:8080/"
        },
        "outputId": "cced5518-3872-4df9-84af-ad0a119c0b65"
      },
      "source": [
        "# Download the corresponding Kallisto index to fastq folder\n",
        "!kb ref -d $species_kb -i index.idx -g t2g.txt -f1 transcriptome.fasta"
      ],
      "execution_count": 7,
      "outputs": [
        {
          "output_type": "stream",
          "text": [
            "[2021-03-19 20:58:04,512]    INFO Downloading files for human from https://caltech.box.com/shared/static/v1nm7lpnqz5syh8dyzdk2zs8bglncfib.gz to tmp/v1nm7lpnqz5syh8dyzdk2zs8bglncfib.gz\n",
            "100% 2.23G/2.23G [01:37<00:00, 24.4MB/s]\n",
            "[2021-03-19 20:59:43,928]    INFO Extracting files from tmp/v1nm7lpnqz5syh8dyzdk2zs8bglncfib.gz\n"
          ],
          "name": "stdout"
        }
      ]
    },
    {
      "cell_type": "markdown",
      "metadata": {
        "id": "VInyuq1Dp7iz"
      },
      "source": [
        "# Process fastq files (modify kb command according to fastqs list)\n"
      ]
    },
    {
      "cell_type": "code",
      "metadata": {
        "id": "F6FD32x-shPe",
        "colab": {
          "base_uri": "https://localhost:8080/"
        },
        "outputId": "ca84f269-c1f0-4bec-ae62-54f81f137719"
      },
      "source": [
        "fastqs"
      ],
      "execution_count": 8,
      "outputs": [
        {
          "output_type": "execute_result",
          "data": {
            "text/plain": [
              "['SRR8984443_2.fastq.gz',\n",
              " 'SRR8984443_3.fastq.gz',\n",
              " 'SRR8984444_2.fastq.gz',\n",
              " 'SRR8984444_3.fastq.gz',\n",
              " 'SRR8984445_2.fastq.gz',\n",
              " 'SRR8984445_3.fastq.gz',\n",
              " 'SRR8984446_2.fastq.gz',\n",
              " 'SRR8984446_3.fastq.gz']"
            ]
          },
          "metadata": {
            "tags": []
          },
          "execution_count": 8
        }
      ]
    },
    {
      "cell_type": "code",
      "metadata": {
        "id": "5qFzPj-0kZTi",
        "colab": {
          "base_uri": "https://localhost:8080/"
        },
        "outputId": "b49bcce9-66d6-4b63-d113-1e6df51b9092"
      },
      "source": [
        "if no_samples == 1:\n",
        "\n",
        "  # Write the kb count command as a string with all fastqs of the list as an input\n",
        "  cmd = \"kb count --h5ad -i index.idx -g t2g.txt -x \" + technology_kb + \" -o tccoutput\" + sample_id[0] + \" \"\\\n",
        "  + \"--filter bustools --tcc -t 2 --overwrite \" + \"'\" +  \"' '\".join(fastqs) + \"'\"\n",
        "  \n",
        "  # Execute it\n",
        "  !$cmd\n",
        "\n",
        "# If more than one sample, iterate through fastqs accordingly\n",
        "else:\n",
        "\n",
        "  # Initializa counter for fastq files\n",
        "  j = 0\n",
        "\n",
        "  # Loop over samples for analysis\n",
        "  for i in range(no_samples):\n",
        "\n",
        "    fastqs_to_analyze = fastqs[j:j + fastqs_per_sample[i]]\n",
        "    # Write the kb count command as a string\n",
        "    cmd = \"kb count --h5ad -i ../index.idx -g ../t2g.txt -x \" + technology_kb + \" -o tccoutput\" + sample_id[i] + \" \\\n",
        "    --filter bustools --tcc -t 2 --overwrite \" + \"'\" +  \"' '\".join(fastqs_to_analyze) + \"'\"\n",
        "\n",
        "    # Execute it\n",
        "    !$cmd\n",
        "\n",
        "    # Update j to move to the next set of fastq\n",
        "    j = j + fastqs_per_sample[i]\n",
        "\n",
        "\n",
        "\n",
        "\n",
        "\n",
        "\n",
        "results = {}\n",
        "tcc_results = {}\n",
        "for sample in sample_id:\n",
        "  # Read the filtered gene count matrix\n",
        "  results[\"data_\" + sample] = anndata.read(\"/content/result\" + sample)\n",
        "\n",
        "\n",
        "for sample in sample_id:\n",
        "  output = \"bus_raw_\" + sample + \"_from_gc\"\n",
        "  !mkdir $output\n",
        "  folder_tcc = \"tccoutput\" + sample\n",
        "\n",
        "  # read tcc matrix\n",
        "  tcc_results[sample] = anndata.read(folder_tcc + \"/counts_unfiltered/adata.h5ad\")\n",
        "  # apply gene count matrix's filter\n",
        "  tcc_results[sample] = tcc_results[sample][results[\"data_\" + sample].obs.index.values]\n",
        "  # transfer obs data\n",
        "  tcc_results[sample].obs = results[\"data_\" + sample].obs\n",
        "  # transfer metadata\n",
        "  tcc_results[sample].uns = results[\"data_\" + sample].uns\n",
        "  # write tcc matrix\n",
        "  tcc_results[sample].write(\"/content/tcc_\" + sample)\n",
        "  #gzip tcc matrix\n",
        "  cmd = \"gzip /content/tcc_\" + sample\n",
        "  !$cmd\n",
        "  #gzip unfiltered bus file\n",
        "  cmd = \"gzip \" + folder_tcc + \"/output.unfiltered.bus\"\n",
        "  !$cmd\n",
        "  # move and re-name bus file with sample id\n",
        "  cmd = \"mv \" + folder_tcc + \"/output.unfiltered.bus.gz \" + output + \"/\" + sample +\".unfiltered.bus.gz\"\n",
        "  !$cmd\n",
        "  # gzip all unfiltered counts\n",
        "  cmd = \"gzip \" + folder_tcc + \"/counts_unfiltered/*\"\n",
        "  !$cmd\n",
        "\n",
        "  # move unfiltered counts for both\n",
        "  cmd = \"mv \" + folder_tcc + \"/counts_unfiltered \" + output + \"/tcc_unfiltered\"\n",
        "  !$cmd\n",
        "\n",
        "  cmd = \"mv \" + folder_tcc + \"/*.json \" + output \n",
        "  !$cmd\n",
        "  # zip all files\n",
        "  cmd = \"zip -r \"+ output + \".zip \" + output\n",
        "  !$cmd"
      ],
      "execution_count": 9,
      "outputs": [
        {
          "output_type": "stream",
          "text": [
            "[2021-03-19 21:00:23,811]    INFO Using index index.idx to generate BUS file to tccoutputGSM3738539 from\n",
            "[2021-03-19 21:00:23,811]    INFO         SRR8984443_2.fastq.gz\n",
            "[2021-03-19 21:00:23,812]    INFO         SRR8984443_3.fastq.gz\n",
            "[2021-03-19 21:00:23,812]    INFO         SRR8984444_2.fastq.gz\n",
            "[2021-03-19 21:00:23,812]    INFO         SRR8984444_3.fastq.gz\n",
            "[2021-03-19 21:00:23,812]    INFO         SRR8984445_2.fastq.gz\n",
            "[2021-03-19 21:00:23,812]    INFO         SRR8984445_3.fastq.gz\n",
            "[2021-03-19 21:00:23,812]    INFO         SRR8984446_2.fastq.gz\n",
            "[2021-03-19 21:00:23,812]    INFO         SRR8984446_3.fastq.gz\n",
            "[2021-03-19 21:39:39,047]    INFO Sorting BUS file tccoutputGSM3738539/output.bus to tccoutputGSM3738539/tmp/output.s.bus\n",
            "[2021-03-19 21:40:22,261]    INFO Whitelist not provided\n",
            "[2021-03-19 21:40:22,261]    INFO Copying pre-packaged 10XV2 whitelist to tccoutputGSM3738539\n",
            "[2021-03-19 21:40:22,480]    INFO Inspecting BUS file tccoutputGSM3738539/tmp/output.s.bus\n",
            "[2021-03-19 21:40:32,938]    INFO Correcting BUS records in tccoutputGSM3738539/tmp/output.s.bus to tccoutputGSM3738539/tmp/output.s.c.bus with whitelist tccoutputGSM3738539/10xv2_whitelist.txt\n",
            "[2021-03-19 21:40:41,042]    INFO Sorting BUS file tccoutputGSM3738539/tmp/output.s.c.bus to tccoutputGSM3738539/output.unfiltered.bus\n",
            "[2021-03-19 21:40:59,820]    INFO Generating count matrix tccoutputGSM3738539/counts_unfiltered/cells_x_tcc from BUS file tccoutputGSM3738539/output.unfiltered.bus\n",
            "[2021-03-19 21:41:32,587]    INFO Reading matrix tccoutputGSM3738539/counts_unfiltered/cells_x_tcc.mtx\n",
            "[2021-03-19 21:42:10,540]    INFO Writing matrix to h5ad tccoutputGSM3738539/counts_unfiltered/adata.h5ad\n",
            "[2021-03-19 21:45:28,527]    INFO Filtering with bustools\n",
            "[2021-03-19 21:45:28,527]    INFO Generating whitelist tccoutputGSM3738539/filter_barcodes.txt from BUS file tccoutputGSM3738539/output.unfiltered.bus\n",
            "[2021-03-19 21:45:28,957]    INFO Correcting BUS records in tccoutputGSM3738539/output.unfiltered.bus to tccoutputGSM3738539/tmp/output.unfiltered.c.bus with whitelist tccoutputGSM3738539/filter_barcodes.txt\n",
            "[2021-03-19 21:45:35,879]    INFO Sorting BUS file tccoutputGSM3738539/tmp/output.unfiltered.c.bus to tccoutputGSM3738539/output.filtered.bus\n",
            "[2021-03-19 21:46:03,335]    INFO Generating count matrix tccoutputGSM3738539/counts_filtered/cells_x_tcc from BUS file tccoutputGSM3738539/output.filtered.bus\n",
            "[2021-03-19 21:46:44,852]    INFO Reading matrix tccoutputGSM3738539/counts_filtered/cells_x_tcc.mtx\n",
            "[2021-03-19 21:47:32,421]    INFO Writing matrix to h5ad tccoutputGSM3738539/counts_filtered/adata.h5ad\n"
          ],
          "name": "stdout"
        },
        {
          "output_type": "stream",
          "text": [
            "Variable names are not unique. To make them unique, call `.var_names_make_unique`.\n"
          ],
          "name": "stderr"
        },
        {
          "output_type": "stream",
          "text": [
            "  adding: bus_raw_GSM3738539_from_gc/ (stored 0%)\n",
            "  adding: bus_raw_GSM3738539_from_gc/run_info.json (deflated 49%)\n",
            "  adding: bus_raw_GSM3738539_from_gc/inspect.json (deflated 58%)\n",
            "  adding: bus_raw_GSM3738539_from_gc/tcc_unfiltered/ (stored 0%)\n",
            "  adding: bus_raw_GSM3738539_from_gc/tcc_unfiltered/cells_x_tcc.mtx.gz (deflated 0%)\n",
            "  adding: bus_raw_GSM3738539_from_gc/tcc_unfiltered/cells_x_tcc.ec.txt.gz (deflated 1%)\n",
            "  adding: bus_raw_GSM3738539_from_gc/tcc_unfiltered/adata.h5ad.gz (deflated 6%)\n",
            "  adding: bus_raw_GSM3738539_from_gc/tcc_unfiltered/cells_x_tcc.barcodes.txt.gz (deflated 1%)\n",
            "  adding: bus_raw_GSM3738539_from_gc/kb_info.json (deflated 77%)\n",
            "  adding: bus_raw_GSM3738539_from_gc/GSM3738539.unfiltered.bus.gz (deflated 4%)\n"
          ],
          "name": "stdout"
        }
      ]
    },
    {
      "cell_type": "code",
      "metadata": {
        "id": "3jhoz6oQgISu"
      },
      "source": [
        "import time\n",
        "time.sleep(600000)"
      ],
      "execution_count": null,
      "outputs": []
    },
    {
      "cell_type": "code",
      "metadata": {
        "id": "qq_6O4mBgJeE"
      },
      "source": [
        ""
      ],
      "execution_count": null,
      "outputs": []
    }
  ]
}