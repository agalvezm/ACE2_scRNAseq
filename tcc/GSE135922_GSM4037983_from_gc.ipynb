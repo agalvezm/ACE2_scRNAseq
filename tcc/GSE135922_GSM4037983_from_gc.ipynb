{
  "nbformat": 4,
  "nbformat_minor": 0,
  "metadata": {
    "colab": {
      "name": "GSE135922_GSM4037983.ipynb",
      "provenance": [],
      "collapsed_sections": [],
      "include_colab_link": true
    },
    "kernelspec": {
      "name": "python3",
      "display_name": "Python 3"
    }
  },
  "cells": [
    {
      "cell_type": "markdown",
      "metadata": {
        "id": "view-in-github",
        "colab_type": "text"
      },
      "source": [
        "<a href=\"https://colab.research.google.com/github/agalvezm/ACE2_scRNAseq/blob/master/tcc/GSE135922_GSM4037983_from_gc.ipynb\" target=\"_parent\"><img src=\"https://colab.research.google.com/assets/colab-badge.svg\" alt=\"Open In Colab\"/></a>"
      ]
    },
    {
      "cell_type": "markdown",
      "metadata": {
        "id": "V9ryXluJsJw9"
      },
      "source": [
        "# GSE135922_GSM4037983"
      ]
    },
    {
      "cell_type": "markdown",
      "metadata": {
        "id": "ah4ecSLHz0mC"
      },
      "source": [
        "\n",
        "This notebook uses the filtered count matrix resulting from the following google colab notebook. https://github.com/agalvezm/ACE2_scRNAseq/blob/master/notebooks_countmatrices/GSE135922_GSM4037983.ipynb Please run the notebook above and upload the results file in /content"
      ]
    },
    {
      "cell_type": "code",
      "metadata": {
        "id": "2BiFt2wu4aLh",
        "colab": {
          "base_uri": "https://localhost:8080/"
        },
        "outputId": "27d5f655-04aa-4fe4-f049-65a270490947"
      },
      "source": [
        "# Install SRA-toolkit \n",
        "!wget \"http://ftp-trace.ncbi.nlm.nih.gov/sra/sdk/current/sratoolkit.current-centos_linux64.tar.gz\"\n",
        "\n",
        "! tar -xzf sratoolkit.current-centos_linux64.tar.gz\n",
        "\n",
        "# Add to path\n",
        "import os\n",
        "os.environ['PATH'] += \":/content/sratoolkit.2.11.0-centos_linux64/bin\"\n",
        "\n",
        "# Configure\n",
        "!vdb-config --interactive\n",
        "\n",
        "# Import packages\n",
        "\n",
        "import numpy as np\n"
      ],
      "execution_count": null,
      "outputs": [
        {
          "output_type": "stream",
          "text": [
            "--2021-05-04 19:30:07--  http://ftp-trace.ncbi.nlm.nih.gov/sra/sdk/current/sratoolkit.current-centos_linux64.tar.gz\n",
            "Resolving ftp-trace.ncbi.nlm.nih.gov (ftp-trace.ncbi.nlm.nih.gov)... 130.14.250.7, 130.14.250.10, 2607:f220:41e:250::11, ...\n",
            "Connecting to ftp-trace.ncbi.nlm.nih.gov (ftp-trace.ncbi.nlm.nih.gov)|130.14.250.7|:80... connected.\n",
            "HTTP request sent, awaiting response... 301 Moved Permanently\n",
            "Location: https://ftp-trace.ncbi.nlm.nih.gov/sra/sdk/current/sratoolkit.current-centos_linux64.tar.gz [following]\n",
            "--2021-05-04 19:30:08--  https://ftp-trace.ncbi.nlm.nih.gov/sra/sdk/current/sratoolkit.current-centos_linux64.tar.gz\n",
            "Connecting to ftp-trace.ncbi.nlm.nih.gov (ftp-trace.ncbi.nlm.nih.gov)|130.14.250.7|:443... connected.\n",
            "HTTP request sent, awaiting response... 200 OK\n",
            "Length: 99139357 (95M) [application/x-gzip]\n",
            "Saving to: ‘sratoolkit.current-centos_linux64.tar.gz’\n",
            "\n",
            "sratoolkit.current- 100%[===================>]  94.55M   162MB/s    in 0.6s    \n",
            "\n",
            "2021-05-04 19:30:08 (162 MB/s) - ‘sratoolkit.current-centos_linux64.tar.gz’ saved [99139357/99139357]\n",
            "\n",
            "\u001b[2J\u001b[?25l\u001b[?1000h\u001b[?1002h2021-05-04T19:30:12 vdb-config.2.11.0 fatal: SIGNAL - Segmentation fault \n"
          ],
          "name": "stdout"
        }
      ]
    },
    {
      "cell_type": "code",
      "metadata": {
        "id": "mU4XegJlo2Na"
      },
      "source": [
        "# List of SRAs to download and transform. Copy paste from excel as string\n",
        "SRAs = \"SRR9990674\tSRR9990675\tSRR9990676\tSRR9990677\tSRR9990678\tSRR9990679\tSRR9990680\tSRR9990681\tSRR9990682\tSRR9990683\tSRR9990684\tSRR9990685\tSRR9990686\tSRR9990687\tSRR9990688\tSRR9990689\tSRR9990690\tSRR9990691\tSRR9990692\tSRR9990693\tSRR9990694\tSRR9990695\tSRR9990696\tSRR9990697\tSRR9990698\tSRR9990699\tSRR9990700\tSRR9990701\tSRR9990702\tSRR9990703\tSRR9990704\tSRR9990705\tSRR9990706\"\n",
        "\n",
        "SRAs = SRAs.split()\n",
        "\n",
        "# SRA to delete, usually the index file, which get downloaded because we include technical reads. \n",
        "# It varies so check in the SRA website\n",
        "SRA_to_delete = \"3\"\n",
        "\n",
        "\n",
        "SRAs_to_keep = np.setdiff1d([\"1\", \"2\", \"3\"], [SRA_to_delete])\n",
        "\n",
        "# sample specific metadata\n",
        "\n",
        "samp_id = [\"GSM4037983\"]\n",
        "\n",
        "cell_type = [\"retinal pigment epithelium macula, unenriched\"]\n",
        "\n",
        "condition = [\"donor 3\"]"
      ],
      "execution_count": null,
      "outputs": []
    },
    {
      "cell_type": "code",
      "metadata": {
        "id": "u3uDp_jCpfhZ",
        "colab": {
          "base_uri": "https://localhost:8080/"
        },
        "outputId": "0d5e6a95-469c-49b4-895d-da4a523a9b14"
      },
      "source": [
        "for sra in SRAs:\n",
        "  \"\"\"\n",
        "  Downloads SRAs and transforms to compressed fastq file. Remove index reads and original SRA\n",
        "  \"\"\"\n",
        "  # Download SRA\n",
        "  !prefetch $sra\n",
        "\n",
        "  # Convert to fastq. Biological reads are usually considered technicals in 10x so do not skip them.\n",
        "  fastq_dump_cmd = \"fastq-dump -F --gzip --readids --split-files \" + sra + \"/\" + sra +\".sra\"\n",
        "  !$fastq_dump_cmd\n",
        "\n",
        "  # Remove files\n",
        "  rm_cmd_1 = \"rm \" + sra + \"/\" + sra + \".sra\"\n",
        "  rm_cmd_2 = \"rm \" + sra + \"_\" + SRA_to_delete + \".fastq.gz\" \n",
        "  !$rm_cmd_1\n",
        "  !$rm_cmd_2"
      ],
      "execution_count": null,
      "outputs": [
        {
          "output_type": "stream",
          "text": [
            "\n",
            "2021-05-04T19:31:16 prefetch.2.11.0: 1) Downloading 'SRR9990674'...\n",
            "2021-05-04T19:31:16 prefetch.2.11.0:  Downloading via HTTPS...\n",
            "2021-05-04T19:32:03 prefetch.2.11.0:  HTTPS download succeed\n",
            "2021-05-04T19:32:07 prefetch.2.11.0:  'SRR9990674' is valid\n",
            "2021-05-04T19:32:07 prefetch.2.11.0: 1) 'SRR9990674' was downloaded successfully\n",
            "2021-05-04T19:32:07 prefetch.2.11.0: 'SRR9990674' has 0 unresolved dependencies\n",
            "Read 12525647 spots for SRR9990674/SRR9990674.sra\n",
            "Written 12525647 spots for SRR9990674/SRR9990674.sra\n",
            "rm: cannot remove 'SRR9990674_3.fastq.gz': No such file or directory\n",
            "\n",
            "2021-05-04T19:52:32 prefetch.2.11.0: 1) Downloading 'SRR9990675'...\n",
            "2021-05-04T19:52:32 prefetch.2.11.0:  Downloading via HTTPS...\n",
            "2021-05-04T19:53:08 prefetch.2.11.0:  HTTPS download succeed\n",
            "2021-05-04T19:53:11 prefetch.2.11.0:  'SRR9990675' is valid\n",
            "2021-05-04T19:53:11 prefetch.2.11.0: 1) 'SRR9990675' was downloaded successfully\n",
            "2021-05-04T19:53:11 prefetch.2.11.0: 'SRR9990675' has 0 unresolved dependencies\n",
            "Read 10276453 spots for SRR9990675/SRR9990675.sra\n",
            "Written 10276453 spots for SRR9990675/SRR9990675.sra\n",
            "rm: cannot remove 'SRR9990675_3.fastq.gz': No such file or directory\n",
            "\n",
            "2021-05-04T20:10:17 prefetch.2.11.0: 1) Downloading 'SRR9990676'...\n",
            "2021-05-04T20:10:17 prefetch.2.11.0:  Downloading via HTTPS...\n",
            "2021-05-04T20:10:32 prefetch.2.11.0:  HTTPS download succeed\n",
            "2021-05-04T20:10:34 prefetch.2.11.0:  'SRR9990676' is valid\n",
            "2021-05-04T20:10:34 prefetch.2.11.0: 1) 'SRR9990676' was downloaded successfully\n",
            "2021-05-04T20:10:34 prefetch.2.11.0: 'SRR9990676' has 0 unresolved dependencies\n",
            "Read 9572823 spots for SRR9990676/SRR9990676.sra\n",
            "Written 9572823 spots for SRR9990676/SRR9990676.sra\n",
            "rm: cannot remove 'SRR9990676_3.fastq.gz': No such file or directory\n",
            "\n",
            "2021-05-04T20:21:31 prefetch.2.11.0: 1) Downloading 'SRR9990677'...\n",
            "2021-05-04T20:21:31 prefetch.2.11.0:  Downloading via HTTPS...\n",
            "2021-05-04T20:21:49 prefetch.2.11.0:  HTTPS download succeed\n",
            "2021-05-04T20:21:51 prefetch.2.11.0:  'SRR9990677' is valid\n",
            "2021-05-04T20:21:51 prefetch.2.11.0: 1) 'SRR9990677' was downloaded successfully\n",
            "2021-05-04T20:21:51 prefetch.2.11.0: 'SRR9990677' has 0 unresolved dependencies\n",
            "Read 11742756 spots for SRR9990677/SRR9990677.sra\n",
            "Written 11742756 spots for SRR9990677/SRR9990677.sra\n",
            "rm: cannot remove 'SRR9990677_3.fastq.gz': No such file or directory\n",
            "\n",
            "2021-05-04T20:34:40 prefetch.2.11.0: 1) Downloading 'SRR9990678'...\n",
            "2021-05-04T20:34:40 prefetch.2.11.0:  Downloading via HTTPS...\n",
            "2021-05-04T20:35:14 prefetch.2.11.0:  HTTPS download succeed\n",
            "2021-05-04T20:35:17 prefetch.2.11.0:  'SRR9990678' is valid\n",
            "2021-05-04T20:35:17 prefetch.2.11.0: 1) 'SRR9990678' was downloaded successfully\n",
            "2021-05-04T20:35:17 prefetch.2.11.0: 'SRR9990678' has 0 unresolved dependencies\n",
            "Read 10660459 spots for SRR9990678/SRR9990678.sra\n",
            "Written 10660459 spots for SRR9990678/SRR9990678.sra\n",
            "rm: cannot remove 'SRR9990678_3.fastq.gz': No such file or directory\n",
            "\n",
            "2021-05-04T20:53:29 prefetch.2.11.0: 1) Downloading 'SRR9990679'...\n",
            "2021-05-04T20:53:29 prefetch.2.11.0:  Downloading via HTTPS...\n",
            "2021-05-04T20:54:04 prefetch.2.11.0:  HTTPS download succeed\n",
            "2021-05-04T20:54:07 prefetch.2.11.0:  'SRR9990679' is valid\n",
            "2021-05-04T20:54:07 prefetch.2.11.0: 1) 'SRR9990679' was downloaded successfully\n",
            "2021-05-04T20:54:07 prefetch.2.11.0: 'SRR9990679' has 0 unresolved dependencies\n",
            "Read 10116685 spots for SRR9990679/SRR9990679.sra\n",
            "Written 10116685 spots for SRR9990679/SRR9990679.sra\n",
            "rm: cannot remove 'SRR9990679_3.fastq.gz': No such file or directory\n",
            "\n",
            "2021-05-04T21:10:58 prefetch.2.11.0: 1) Downloading 'SRR9990680'...\n",
            "2021-05-04T21:10:58 prefetch.2.11.0:  Downloading via HTTPS...\n",
            "2021-05-04T21:11:29 prefetch.2.11.0:  HTTPS download succeed\n",
            "2021-05-04T21:11:32 prefetch.2.11.0:  'SRR9990680' is valid\n",
            "2021-05-04T21:11:32 prefetch.2.11.0: 1) 'SRR9990680' was downloaded successfully\n",
            "2021-05-04T21:11:32 prefetch.2.11.0: 'SRR9990680' has 0 unresolved dependencies\n",
            "Read 9574093 spots for SRR9990680/SRR9990680.sra\n",
            "Written 9574093 spots for SRR9990680/SRR9990680.sra\n",
            "rm: cannot remove 'SRR9990680_3.fastq.gz': No such file or directory\n",
            "\n",
            "2021-05-04T21:27:34 prefetch.2.11.0: 1) Downloading 'SRR9990681'...\n",
            "2021-05-04T21:27:34 prefetch.2.11.0:  Downloading via HTTPS...\n",
            "2021-05-04T21:28:15 prefetch.2.11.0:  HTTPS download succeed\n",
            "2021-05-04T21:28:18 prefetch.2.11.0:  'SRR9990681' is valid\n",
            "2021-05-04T21:28:18 prefetch.2.11.0: 1) 'SRR9990681' was downloaded successfully\n",
            "2021-05-04T21:28:18 prefetch.2.11.0: 'SRR9990681' has 0 unresolved dependencies\n",
            "Read 11650285 spots for SRR9990681/SRR9990681.sra\n",
            "Written 11650285 spots for SRR9990681/SRR9990681.sra\n",
            "rm: cannot remove 'SRR9990681_3.fastq.gz': No such file or directory\n",
            "\n",
            "2021-05-04T21:47:17 prefetch.2.11.0: 1) Downloading 'SRR9990682'...\n",
            "2021-05-04T21:47:17 prefetch.2.11.0:  Downloading via HTTPS...\n",
            "2021-05-04T21:47:52 prefetch.2.11.0:  HTTPS download succeed\n",
            "2021-05-04T21:47:55 prefetch.2.11.0:  'SRR9990682' is valid\n",
            "2021-05-04T21:47:55 prefetch.2.11.0: 1) 'SRR9990682' was downloaded successfully\n",
            "2021-05-04T21:47:55 prefetch.2.11.0: 'SRR9990682' has 0 unresolved dependencies\n",
            "Read 10671369 spots for SRR9990682/SRR9990682.sra\n",
            "Written 10671369 spots for SRR9990682/SRR9990682.sra\n",
            "rm: cannot remove 'SRR9990682_3.fastq.gz': No such file or directory\n",
            "\n",
            "2021-05-04T22:05:39 prefetch.2.11.0: 1) Downloading 'SRR9990683'...\n",
            "2021-05-04T22:05:39 prefetch.2.11.0:  Downloading via HTTPS...\n",
            "2021-05-04T22:08:21 prefetch.2.11.0:  HTTPS download succeed\n",
            "2021-05-04T22:09:08 prefetch.2.11.0:  'SRR9990683' is valid\n",
            "2021-05-04T22:09:08 prefetch.2.11.0: 1) 'SRR9990683' was downloaded successfully\n",
            "2021-05-04T22:09:08 prefetch.2.11.0: 'SRR9990683' has 0 unresolved dependencies\n",
            "Read 106568478 spots for SRR9990683/SRR9990683.sra\n",
            "Written 106568478 spots for SRR9990683/SRR9990683.sra\n",
            "rm: cannot remove 'SRR9990683_3.fastq.gz': No such file or directory\n",
            "\n",
            "2021-05-04T23:55:50 prefetch.2.11.0: 1) Downloading 'SRR9990684'...\n",
            "2021-05-04T23:55:50 prefetch.2.11.0:  Downloading via HTTPS...\n",
            "2021-05-04T23:57:41 prefetch.2.11.0:  HTTPS download succeed\n",
            "2021-05-04T23:57:51 prefetch.2.11.0:  'SRR9990684' is valid\n",
            "2021-05-04T23:57:51 prefetch.2.11.0: 1) 'SRR9990684' was downloaded successfully\n",
            "2021-05-04T23:57:51 prefetch.2.11.0: 'SRR9990684' has 0 unresolved dependencies\n",
            "Read 76366210 spots for SRR9990684/SRR9990684.sra\n",
            "Written 76366210 spots for SRR9990684/SRR9990684.sra\n",
            "rm: cannot remove 'SRR9990684_3.fastq.gz': No such file or directory\n",
            "\n",
            "2021-05-05T01:17:24 prefetch.2.11.0: 1) Downloading 'SRR9990685'...\n",
            "2021-05-05T01:17:24 prefetch.2.11.0:  Downloading via HTTPS...\n",
            "2021-05-05T01:19:40 prefetch.2.11.0:  HTTPS download succeed\n",
            "2021-05-05T01:19:52 prefetch.2.11.0:  'SRR9990685' is valid\n",
            "2021-05-05T01:19:52 prefetch.2.11.0: 1) 'SRR9990685' was downloaded successfully\n",
            "2021-05-05T01:19:52 prefetch.2.11.0: 'SRR9990685' has 0 unresolved dependencies\n"
          ],
          "name": "stdout"
        }
      ]
    },
    {
      "cell_type": "code",
      "metadata": {
        "id": "bmN2opl1qHSh"
      },
      "source": [
        "# Define fastq list to feed kb\n",
        "\n",
        "fastqs = []\n",
        "for sra in SRAs:\n",
        "  for read in SRAs_to_keep:\n",
        "    fastqs.append(sra + \"_\" + read + \".fastq.gz\")"
      ],
      "execution_count": null,
      "outputs": []
    },
    {
      "cell_type": "markdown",
      "metadata": {
        "id": "5tT2sVv2-XMD"
      },
      "source": [
        "## Metadata"
      ]
    },
    {
      "cell_type": "code",
      "metadata": {
        "id": "ggNFAQJCRh6P"
      },
      "source": [
        "# define the values for the analysis\n",
        "\n",
        "# accession id for the data\n",
        "id = \"GSE135922\"\n",
        "\n",
        "no_samples = 1\n",
        "\n",
        "fastqs_per_sample = [8] \n",
        "\n",
        "sample_id = samp_id\n",
        "\n",
        "database_id = [id] * no_samples\n",
        "\n",
        "tissue = [\"eye\"] * no_samples\n",
        "\n",
        "species = [\"human\"] * no_samples\n",
        "\n",
        "technology = [\"10xv3\"] * no_samples\n",
        "\n",
        "paper = [\"Sungnak et al 2020\"] * no_samples\n",
        "\n",
        "figure = [\"Fig 1\"] * no_samples\n",
        "\n",
        "\n",
        "# Set string variables for kb functions\n",
        "\n",
        "species_kb = species[0]\n",
        "\n",
        "technology_kb = technology[0]"
      ],
      "execution_count": null,
      "outputs": []
    },
    {
      "cell_type": "markdown",
      "metadata": {
        "id": "FPwL0-_-KSAw"
      },
      "source": [
        "# Imports and installs"
      ]
    },
    {
      "cell_type": "code",
      "metadata": {
        "id": "1HSlUGZEp3oP"
      },
      "source": [
        "# install and import necessary software\n",
        "\n",
        "# Install kb and scanpy\n",
        "!pip -q install kb-python \n",
        "!pip -q install scanpy\n",
        "\n",
        "import re\n",
        "import os\n",
        "\n",
        "# Setup\n",
        "\n",
        "import anndata\n",
        "import pandas as pd\n",
        "import numpy as np\n",
        "import matplotlib.pyplot as plt\n",
        "import matplotlib as mpl\n",
        "import matplotlib.patches as mpatches\n",
        "import scanpy as sc\n",
        "from scipy import stats\n",
        "\n",
        "from collections import OrderedDict\n",
        "from sklearn.decomposition import TruncatedSVD\n",
        "from sklearn.manifold import TSNE\n",
        "from sklearn.preprocessing import scale\n",
        "\n",
        "from sklearn.cluster import KMeans\n",
        "from sklearn.preprocessing import normalize\n",
        "from sklearn.preprocessing import LabelEncoder\n",
        "from sklearn.neighbors import NeighborhoodComponentsAnalysis\n",
        "from matplotlib import cm\n",
        "from matplotlib.lines import Line2D\n",
        "\n",
        "def nd(arr):\n",
        "    return np.asarray(arr).reshape(-1)\n",
        "def yex(ax):\n",
        "    lims = [np.min([ax.get_xlim(), ax.get_ylim()]),\n",
        "            np.max([ax.get_xlim(), ax.get_ylim()])]\n",
        "\n",
        "    # now plot both limits against eachother\n",
        "    ax.plot(lims, lims, 'k-', alpha=0.75, zorder=0)\n",
        "    ax.set_aspect('equal')\n",
        "    ax.set_xlim(lims)\n",
        "    ax.set_ylim(lims)\n",
        "    return ax\n",
        "\n",
        "def trim_axs(axs, N):\n",
        "    \"\"\"little helper to massage the axs list to have correct length...\"\"\"\n",
        "    axs = axs.flat\n",
        "    for ax in axs[N:]:\n",
        "        ax.remove()\n",
        "    return axs[:N]\n",
        "\n",
        "import warnings\n",
        "warnings.filterwarnings('ignore')\n",
        "\n",
        "fsize=20\n",
        "\n",
        "plt.rcParams.update({'font.size': fsize})\n",
        "%config InlineBackend.figure_format = 'retina'"
      ],
      "execution_count": null,
      "outputs": []
    },
    {
      "cell_type": "markdown",
      "metadata": {
        "id": "7V6FbosVrvP4"
      },
      "source": [
        "# Downloads: index"
      ]
    },
    {
      "cell_type": "code",
      "metadata": {
        "id": "PC9oETW1pE9t"
      },
      "source": [
        "# Download the corresponding Kallisto index to fastq folder\n",
        "!kb ref -d $species_kb -i index.idx -g t2g.txt -f1 transcriptome.fasta"
      ],
      "execution_count": null,
      "outputs": []
    },
    {
      "cell_type": "markdown",
      "metadata": {
        "id": "VInyuq1Dp7iz"
      },
      "source": [
        "# Process fastq files (modify kb command according to fastqs list)\n"
      ]
    },
    {
      "cell_type": "code",
      "metadata": {
        "id": "F6FD32x-shPe"
      },
      "source": [
        "fastqs"
      ],
      "execution_count": null,
      "outputs": []
    },
    {
      "cell_type": "code",
      "metadata": {
        "id": "5qFzPj-0kZTi"
      },
      "source": [
        "# Specify the sample number \n",
        "\n",
        "\n",
        "if no_samples == 1:\n",
        "\n",
        "  # Write the kb count command as a string with all fastqs of the list as an input\n",
        "  cmd = \"kb count --h5ad -i index.idx -g t2g.txt -x \" + technology_kb + \" -o output\" + sample_id[0] + \" \"\\\n",
        "  + \"--filter bustools -t 2 --overwrite \" + \"'\" +  \"' '\".join(fastqs) + \"'\"\n",
        "  \n",
        "  # Execute it\n",
        "  !$cmd\n",
        "\n",
        "# If more than one sample, iterate through fastqs accordingly\n",
        "else:\n",
        "\n",
        "  # Initializa counter for fastq files\n",
        "  j = 0\n",
        "\n",
        "  # Loop over samples for analysis\n",
        "  for i in range(no_samples):\n",
        "\n",
        "    fastqs_to_analyze = fastqs[j:j + fastqs_per_sample[i]]\n",
        "    # Write the kb count command as a string\n",
        "    cmd = \"kb count --h5ad -i index.idx -g t2g.txt -x \" + technology_kb + \" -o output\" + sample_id[i] + \" \\\n",
        "    --filter bustools -t 2 --overwrite \" + \"'\" +  \"' '\".join(fastqs_to_analyze) + \"'\"\n",
        "\n",
        "    # Execute it\n",
        "    !$cmd\n",
        "\n",
        "    # Update j to move to the next set of fastq\n",
        "    j = j + fastqs_per_sample[i]\n",
        "\n",
        "\n",
        "\n",
        "\n",
        "\n"
      ],
      "execution_count": null,
      "outputs": []
    }
  ]
}