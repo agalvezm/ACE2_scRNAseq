{
  "nbformat": 4,
  "nbformat_minor": 0,
  "metadata": {
    "colab": {
      "name": "GSE124263_GSM3526586.ipynb",
      "provenance": [],
      "collapsed_sections": [],
      "toc_visible": true,
      "include_colab_link": true
    },
    "kernelspec": {
      "name": "python3",
      "display_name": "Python 3"
    }
  },
  "cells": [
    {
      "cell_type": "markdown",
      "metadata": {
        "id": "view-in-github",
        "colab_type": "text"
      },
      "source": [
        "<a href=\"https://colab.research.google.com/github/agalvezm/ACE2_scRNAseq/blob/master/tcc/GSE124263_GSM3526586.ipynb\" target=\"_parent\"><img src=\"https://colab.research.google.com/assets/colab-badge.svg\" alt=\"Open In Colab\"/></a>"
      ]
    },
    {
      "cell_type": "markdown",
      "metadata": {
        "id": "V9ryXluJsJw9"
      },
      "source": [
        "# GSE124263_GSM3526586"
      ]
    },
    {
      "cell_type": "code",
      "metadata": {
        "id": "ggNFAQJCRh6P"
      },
      "source": [
        "# define the values for the analysis\n",
        "\n",
        "# accession id for the data\n",
        "id = \"GSE124263\"\n",
        "samp_id = [\"GSM3526586\"]\n",
        "\n",
        "# If only bam available files, set bam = True, Fill link and filename\n",
        "bam = False\n",
        "\n",
        "# If fastq links available but are not ffq links\n",
        "fastq_ffqlinks = True\n",
        "\n",
        "\n",
        "if bam:\n",
        "  # Assign link to python variable\n",
        "  link_to_bam = \"\"\n",
        "  \n",
        "  # Assigns the link to the bash variable BAM_LINK. To be used by wget\n",
        "  %env BAM_LINK=$link_to_bam\n",
        "\n",
        "  # Assign filename to python variable. Used to convert to fastq and remove bam file to fastq after conversion\n",
        "\n",
        "  bam_filename=\"\"\n",
        "\n",
        "\n",
        "if not bam:\n",
        "\n",
        "  # Copy and paste the links from the ACE2 scRNAseq datasets google  spreadsheet\n",
        "\n",
        "  links_raw = \"ftp://ftp.sra.ebi.ac.uk/vol1/fastq/SRR836/000/SRR8363270/SRR8363270_1.fastq.gz\tftp://ftp.sra.ebi.ac.uk/vol1/fastq/SRR836/000/SRR8363270/SRR8363270_2.fastq.gz\tftp://ftp.sra.ebi.ac.uk/vol1/fastq/SRR836/001/SRR8363271/SRR8363271_1.fastq.gz\tftp://ftp.sra.ebi.ac.uk/vol1/fastq/SRR836/001/SRR8363271/SRR8363271_2.fastq.gz\tftp://ftp.sra.ebi.ac.uk/vol1/fastq/SRR836/002/SRR8363272/SRR8363272_1.fastq.gz\tftp://ftp.sra.ebi.ac.uk/vol1/fastq/SRR836/002/SRR8363272/SRR8363272_2.fastq.gz\tftp://ftp.sra.ebi.ac.uk/vol1/fastq/SRR836/003/SRR8363273/SRR8363273_1.fastq.gz\tftp://ftp.sra.ebi.ac.uk/vol1/fastq/SRR836/003/SRR8363273/SRR8363273_2.fastq.gz\tftp://ftp.sra.ebi.ac.uk/vol1/fastq/SRR836/004/SRR8363274/SRR8363274_1.fastq.gz\tftp://ftp.sra.ebi.ac.uk/vol1/fastq/SRR836/004/SRR8363274/SRR8363274_2.fastq.gz\tftp://ftp.sra.ebi.ac.uk/vol1/fastq/SRR836/005/SRR8363275/SRR8363275_1.fastq.gz\tftp://ftp.sra.ebi.ac.uk/vol1/fastq/SRR836/005/SRR8363275/SRR8363275_2.fastq.gz\tftp://ftp.sra.ebi.ac.uk/vol1/fastq/SRR836/006/SRR8363276/SRR8363276_1.fastq.gz\tftp://ftp.sra.ebi.ac.uk/vol1/fastq/SRR836/006/SRR8363276/SRR8363276_2.fastq.gz\tftp://ftp.sra.ebi.ac.uk/vol1/fastq/SRR836/007/SRR8363277/SRR8363277_1.fastq.gz\tftp://ftp.sra.ebi.ac.uk/vol1/fastq/SRR836/007/SRR8363277/SRR8363277_2.fastq.gz\tftp://ftp.sra.ebi.ac.uk/vol1/fastq/SRR836/008/SRR8363278/SRR8363278_1.fastq.gz\tftp://ftp.sra.ebi.ac.uk/vol1/fastq/SRR836/008/SRR8363278/SRR8363278_2.fastq.gz\tftp://ftp.sra.ebi.ac.uk/vol1/fastq/SRR836/009/SRR8363279/SRR8363279_1.fastq.gz\tftp://ftp.sra.ebi.ac.uk/vol1/fastq/SRR836/009/SRR8363279/SRR8363279_2.fastq.gz\tftp://ftp.sra.ebi.ac.uk/vol1/fastq/SRR836/000/SRR8363280/SRR8363280_1.fastq.gz\tftp://ftp.sra.ebi.ac.uk/vol1/fastq/SRR836/000/SRR8363280/SRR8363280_2.fastq.gz\tftp://ftp.sra.ebi.ac.uk/vol1/fastq/SRR836/001/SRR8363281/SRR8363281_1.fastq.gz\tftp://ftp.sra.ebi.ac.uk/vol1/fastq/SRR836/001/SRR8363281/SRR8363281_2.fastq.gz\"\n",
        "  \n",
        "  fastqs = links_raw.split()\n"
      ],
      "execution_count": 1,
      "outputs": []
    },
    {
      "cell_type": "code",
      "metadata": {
        "id": "5R3tPDqnoJUn"
      },
      "source": [
        "no_samples = 1\n",
        "\n",
        "fastqs_per_sample = [4, 8, 8] \n",
        "\n",
        "sample_id = samp_id\n",
        "\n",
        "database_id = [id] * no_samples\n",
        "\n",
        "tissue = [\"testis\"] * no_samples\n",
        "\n",
        "cell_type = [\"unfractionated\"] * no_samples\n",
        "\n",
        "condition = [\"neonatal day 7 unfractionated\"] * no_samples\n",
        "\n",
        "species = [\"human\"] * no_samples\n",
        "\n",
        "technology = [\"10xv2\"] * no_samples\n",
        "\n",
        "paper = [\"Muus et al 2020\"] * no_samples\n",
        "\n",
        "figure = [\"Fig 1 a,b  ED Fig 1 a,b,c,d  ED Fig 2 a,b,c,d,e\"] * no_samples\n",
        "\n",
        "\n",
        "# Set string variables for kb functions\n",
        "\n",
        "species_kb = species[0]\n",
        "\n",
        "technology_kb = technology[0]\n",
        "\n"
      ],
      "execution_count": 2,
      "outputs": []
    },
    {
      "cell_type": "markdown",
      "metadata": {
        "id": "FPwL0-_-KSAw"
      },
      "source": [
        "# Imports and installs"
      ]
    },
    {
      "cell_type": "code",
      "metadata": {
        "id": "1HSlUGZEp3oP",
        "colab": {
          "base_uri": "https://localhost:8080/"
        },
        "outputId": "e8143806-a0a0-4b98-e136-87ac0d4ee451"
      },
      "source": [
        "# install and import necessary software\n",
        "\n",
        "# Install kb and scanpy\n",
        "!pip -q install kb-python \n",
        "!pip -q install scanpy\n",
        "\n",
        "import re\n",
        "import os\n",
        "\n",
        "# Setup\n",
        "\n",
        "import anndata\n",
        "import pandas as pd\n",
        "import numpy as np\n",
        "import matplotlib.pyplot as plt\n",
        "import matplotlib as mpl\n",
        "import matplotlib.patches as mpatches\n",
        "import scanpy as sc\n",
        "from scipy import stats\n",
        "\n",
        "from collections import OrderedDict\n",
        "from sklearn.decomposition import TruncatedSVD\n",
        "from sklearn.manifold import TSNE\n",
        "from sklearn.preprocessing import scale\n",
        "\n",
        "from sklearn.cluster import KMeans\n",
        "from sklearn.preprocessing import normalize\n",
        "from sklearn.preprocessing import LabelEncoder\n",
        "from sklearn.neighbors import NeighborhoodComponentsAnalysis\n",
        "from matplotlib import cm\n",
        "from matplotlib.lines import Line2D\n",
        "\n",
        "def nd(arr):\n",
        "    return np.asarray(arr).reshape(-1)\n",
        "def yex(ax):\n",
        "    lims = [np.min([ax.get_xlim(), ax.get_ylim()]),\n",
        "            np.max([ax.get_xlim(), ax.get_ylim()])]\n",
        "\n",
        "    # now plot both limits against eachother\n",
        "    ax.plot(lims, lims, 'k-', alpha=0.75, zorder=0)\n",
        "    ax.set_aspect('equal')\n",
        "    ax.set_xlim(lims)\n",
        "    ax.set_ylim(lims)\n",
        "    return ax\n",
        "\n",
        "def trim_axs(axs, N):\n",
        "    \"\"\"little helper to massage the axs list to have correct length...\"\"\"\n",
        "    axs = axs.flat\n",
        "    for ax in axs[N:]:\n",
        "        ax.remove()\n",
        "    return axs[:N]\n",
        "\n",
        "import warnings\n",
        "warnings.filterwarnings('ignore')\n",
        "\n",
        "fsize=20\n",
        "\n",
        "plt.rcParams.update({'font.size': fsize})\n",
        "%config InlineBackend.figure_format = 'retina'"
      ],
      "execution_count": 3,
      "outputs": [
        {
          "output_type": "stream",
          "text": [
            "\u001b[K     |████████████████████████████████| 59.1MB 77kB/s \n",
            "\u001b[K     |████████████████████████████████| 10.3MB 210kB/s \n",
            "\u001b[K     |████████████████████████████████| 13.2MB 41.8MB/s \n",
            "\u001b[K     |████████████████████████████████| 122kB 58.8MB/s \n",
            "\u001b[K     |████████████████████████████████| 51kB 6.3MB/s \n",
            "\u001b[K     |████████████████████████████████| 112kB 58.4MB/s \n",
            "\u001b[K     |████████████████████████████████| 71kB 7.4MB/s \n",
            "\u001b[K     |████████████████████████████████| 51kB 6.0MB/s \n",
            "\u001b[?25h  Building wheel for loompy (setup.py) ... \u001b[?25l\u001b[?25hdone\n",
            "  Building wheel for sinfo (setup.py) ... \u001b[?25l\u001b[?25hdone\n",
            "  Building wheel for numpy-groupies (setup.py) ... \u001b[?25l\u001b[?25hdone\n"
          ],
          "name": "stdout"
        }
      ]
    },
    {
      "cell_type": "markdown",
      "metadata": {
        "id": "7V6FbosVrvP4"
      },
      "source": [
        "# Downloads: (bam (if bam) and index"
      ]
    },
    {
      "cell_type": "code",
      "metadata": {
        "id": "q46hw4zqKUPS"
      },
      "source": [
        "if bam:\n",
        "\n",
        "  # Install bamtofastq from 10x website (only bam files available)\n",
        "  !wget http://cf.10xgenomics.com/misc/bamtofastq-1.2.0\n",
        "  !chmod +x bamtofastq-1.2.0\n",
        "  # Download the bam file\n",
        "  !wget -- continue ${BAM_LINK}\n",
        "\n",
        "\n"
      ],
      "execution_count": 4,
      "outputs": []
    },
    {
      "cell_type": "code",
      "metadata": {
        "id": "tDQlrjtqNF0m"
      },
      "source": [
        "if bam:\n",
        "  # Convert to fastq\n",
        "  !./bamtofastq-1.2.0 --reads-per-fastq=500000000 $bam_filename ./fastqs\\\n",
        "\n",
        "  # Remove original bam file to save space\n",
        "  !rm $bam_filename\n"
      ],
      "execution_count": 5,
      "outputs": []
    },
    {
      "cell_type": "code",
      "metadata": {
        "id": "SXRDRphvqcLe"
      },
      "source": [
        "# Store fastq names on a list\n",
        "\n",
        "if bam:\n",
        "  # cd into fastqs folder\n",
        "  %cd /content/fastqs\n",
        "\n",
        "  #store the name of the folder generated by bamtofastq\n",
        "  _filename = os.listdir()[0]\n",
        "\n",
        "  # cd into that folder\n",
        "  %cd $_filename\n",
        "\n",
        "  # store fastq names in a list\n",
        "  fastqs = os.listdir()\n",
        "\n",
        "\n",
        "  # Remove I1 and R3 reads not relevant for our analysis\n",
        "\n",
        "  # Initialize list containing elements to remove\n",
        "  remov_elem = []\n",
        "\n",
        "  print (\"\\n\\nThis is the complete list of fastqs:\\n -----------\")\n",
        "  for elem in fastqs:\n",
        "    print (elem)\n",
        "\n",
        "  # Search index (I1 or R3) fastqs and remove them from list\n",
        "  for elem in fastqs:\n",
        "    if re.search(\"_R3_\", elem) or re.search(\"_I1_\", elem):\n",
        "      remov_elem = remov_elem +[elem]\n",
        "\n",
        "  fastqs = [elem for elem in fastqs if elem not in remov_elem] \n",
        "\n",
        "  print (\"\\n\\nThis is the filtered list of fastqs:\\n -----------\")\n",
        "  for elem in fastqs:\n",
        "    print (elem)\n"
      ],
      "execution_count": 6,
      "outputs": []
    },
    {
      "cell_type": "code",
      "metadata": {
        "id": "ZnFcqcSgjLBw"
      },
      "source": [
        "# Remove fastqs that wont be analyzed to save space\n",
        "if bam:\n",
        "  for elem in remov_elem:\n",
        "    !rm $elem"
      ],
      "execution_count": 7,
      "outputs": []
    },
    {
      "cell_type": "code",
      "metadata": {
        "id": "FLVS8aB7Dm6J"
      },
      "source": [
        "if bam:\n",
        "  # sort fastqs alphabetically to get R1 and R2 in order\n",
        "  fastqs = sorted(fastqs)"
      ],
      "execution_count": 8,
      "outputs": []
    },
    {
      "cell_type": "code",
      "metadata": {
        "id": "FE9gWbQgpBfR"
      },
      "source": [
        "# wget fastqs from non ffq links in fastqs folder\n",
        "if not bam and not fastq_ffqlinks:\n",
        "  !mkdir fastqs\n",
        "  %cd fastqs\n",
        "  for link in fastqs:\n",
        "    !wget $link --continue\n",
        "\n",
        "  # update fastqs variable with name of files\n",
        "  fastqs = sorted(os.listdir())"
      ],
      "execution_count": 9,
      "outputs": []
    },
    {
      "cell_type": "code",
      "metadata": {
        "id": "PC9oETW1pE9t",
        "colab": {
          "base_uri": "https://localhost:8080/"
        },
        "outputId": "3d8cb9a6-5fb8-4658-876d-4f96dbed2942"
      },
      "source": [
        "if bam:\n",
        "  # Download the corresponding Kallisto index to folder containing fastqs\n",
        "  !kb ref -d $species_kb -i index.idx -g t2g.txt -f1 transcriptome.fasta\n",
        "\n",
        "if not bam and fastq_ffqlinks:\n",
        "  %cd /content\n",
        "\n",
        "  # Download the corresponding Kallisto index to content folder\n",
        "  !kb ref -d $species_kb -i index.idx -g t2g.txt -f1 transcriptome.fasta\n",
        "\n",
        "if not bam and not fastq_ffqlinks:\n",
        "  %cd /content/fastqs\n",
        "\n",
        "  # Download the corresponding Kallisto index to fastq folder\n",
        "  !kb ref -d $species_kb -i index.idx -g t2g.txt -f1 transcriptome.fasta"
      ],
      "execution_count": 10,
      "outputs": [
        {
          "output_type": "stream",
          "text": [
            "/content\n",
            "[2021-03-01 18:25:30,993]    INFO Downloading files for human from https://caltech.box.com/shared/static/v1nm7lpnqz5syh8dyzdk2zs8bglncfib.gz to tmp/v1nm7lpnqz5syh8dyzdk2zs8bglncfib.gz\n",
            "100% 2.23G/2.23G [01:28<00:00, 27.1MB/s]\n",
            "[2021-03-01 18:27:00,391]    INFO Extracting files from tmp/v1nm7lpnqz5syh8dyzdk2zs8bglncfib.gz\n"
          ],
          "name": "stdout"
        }
      ]
    },
    {
      "cell_type": "code",
      "metadata": {
        "id": "vHVNa51Cp9Nr",
        "colab": {
          "base_uri": "https://localhost:8080/"
        },
        "outputId": "ff195aaf-2369-4f25-d01b-ca029d2b9c2d"
      },
      "source": [
        "# Check to make sure the metadata is in the right order after sorting\n",
        "print(fastqs)"
      ],
      "execution_count": 11,
      "outputs": [
        {
          "output_type": "stream",
          "text": [
            "['ftp://ftp.sra.ebi.ac.uk/vol1/fastq/SRR836/000/SRR8363270/SRR8363270_1.fastq.gz', 'ftp://ftp.sra.ebi.ac.uk/vol1/fastq/SRR836/000/SRR8363270/SRR8363270_2.fastq.gz', 'ftp://ftp.sra.ebi.ac.uk/vol1/fastq/SRR836/001/SRR8363271/SRR8363271_1.fastq.gz', 'ftp://ftp.sra.ebi.ac.uk/vol1/fastq/SRR836/001/SRR8363271/SRR8363271_2.fastq.gz', 'ftp://ftp.sra.ebi.ac.uk/vol1/fastq/SRR836/002/SRR8363272/SRR8363272_1.fastq.gz', 'ftp://ftp.sra.ebi.ac.uk/vol1/fastq/SRR836/002/SRR8363272/SRR8363272_2.fastq.gz', 'ftp://ftp.sra.ebi.ac.uk/vol1/fastq/SRR836/003/SRR8363273/SRR8363273_1.fastq.gz', 'ftp://ftp.sra.ebi.ac.uk/vol1/fastq/SRR836/003/SRR8363273/SRR8363273_2.fastq.gz', 'ftp://ftp.sra.ebi.ac.uk/vol1/fastq/SRR836/004/SRR8363274/SRR8363274_1.fastq.gz', 'ftp://ftp.sra.ebi.ac.uk/vol1/fastq/SRR836/004/SRR8363274/SRR8363274_2.fastq.gz', 'ftp://ftp.sra.ebi.ac.uk/vol1/fastq/SRR836/005/SRR8363275/SRR8363275_1.fastq.gz', 'ftp://ftp.sra.ebi.ac.uk/vol1/fastq/SRR836/005/SRR8363275/SRR8363275_2.fastq.gz', 'ftp://ftp.sra.ebi.ac.uk/vol1/fastq/SRR836/006/SRR8363276/SRR8363276_1.fastq.gz', 'ftp://ftp.sra.ebi.ac.uk/vol1/fastq/SRR836/006/SRR8363276/SRR8363276_2.fastq.gz', 'ftp://ftp.sra.ebi.ac.uk/vol1/fastq/SRR836/007/SRR8363277/SRR8363277_1.fastq.gz', 'ftp://ftp.sra.ebi.ac.uk/vol1/fastq/SRR836/007/SRR8363277/SRR8363277_2.fastq.gz', 'ftp://ftp.sra.ebi.ac.uk/vol1/fastq/SRR836/008/SRR8363278/SRR8363278_1.fastq.gz', 'ftp://ftp.sra.ebi.ac.uk/vol1/fastq/SRR836/008/SRR8363278/SRR8363278_2.fastq.gz', 'ftp://ftp.sra.ebi.ac.uk/vol1/fastq/SRR836/009/SRR8363279/SRR8363279_1.fastq.gz', 'ftp://ftp.sra.ebi.ac.uk/vol1/fastq/SRR836/009/SRR8363279/SRR8363279_2.fastq.gz', 'ftp://ftp.sra.ebi.ac.uk/vol1/fastq/SRR836/000/SRR8363280/SRR8363280_1.fastq.gz', 'ftp://ftp.sra.ebi.ac.uk/vol1/fastq/SRR836/000/SRR8363280/SRR8363280_2.fastq.gz', 'ftp://ftp.sra.ebi.ac.uk/vol1/fastq/SRR836/001/SRR8363281/SRR8363281_1.fastq.gz', 'ftp://ftp.sra.ebi.ac.uk/vol1/fastq/SRR836/001/SRR8363281/SRR8363281_2.fastq.gz']\n"
          ],
          "name": "stdout"
        }
      ]
    },
    {
      "cell_type": "markdown",
      "metadata": {
        "id": "VInyuq1Dp7iz"
      },
      "source": [
        "# Process fastq files (modify kb command according to fastqs list)\n"
      ]
    },
    {
      "cell_type": "code",
      "metadata": {
        "id": "OcqtBuH-pRaX",
        "colab": {
          "base_uri": "https://localhost:8080/"
        },
        "outputId": "b13da2e9-2023-4ba5-feed-c78fef5c87df"
      },
      "source": [
        "fastqs"
      ],
      "execution_count": 12,
      "outputs": [
        {
          "output_type": "execute_result",
          "data": {
            "text/plain": [
              "['ftp://ftp.sra.ebi.ac.uk/vol1/fastq/SRR836/000/SRR8363270/SRR8363270_1.fastq.gz',\n",
              " 'ftp://ftp.sra.ebi.ac.uk/vol1/fastq/SRR836/000/SRR8363270/SRR8363270_2.fastq.gz',\n",
              " 'ftp://ftp.sra.ebi.ac.uk/vol1/fastq/SRR836/001/SRR8363271/SRR8363271_1.fastq.gz',\n",
              " 'ftp://ftp.sra.ebi.ac.uk/vol1/fastq/SRR836/001/SRR8363271/SRR8363271_2.fastq.gz',\n",
              " 'ftp://ftp.sra.ebi.ac.uk/vol1/fastq/SRR836/002/SRR8363272/SRR8363272_1.fastq.gz',\n",
              " 'ftp://ftp.sra.ebi.ac.uk/vol1/fastq/SRR836/002/SRR8363272/SRR8363272_2.fastq.gz',\n",
              " 'ftp://ftp.sra.ebi.ac.uk/vol1/fastq/SRR836/003/SRR8363273/SRR8363273_1.fastq.gz',\n",
              " 'ftp://ftp.sra.ebi.ac.uk/vol1/fastq/SRR836/003/SRR8363273/SRR8363273_2.fastq.gz',\n",
              " 'ftp://ftp.sra.ebi.ac.uk/vol1/fastq/SRR836/004/SRR8363274/SRR8363274_1.fastq.gz',\n",
              " 'ftp://ftp.sra.ebi.ac.uk/vol1/fastq/SRR836/004/SRR8363274/SRR8363274_2.fastq.gz',\n",
              " 'ftp://ftp.sra.ebi.ac.uk/vol1/fastq/SRR836/005/SRR8363275/SRR8363275_1.fastq.gz',\n",
              " 'ftp://ftp.sra.ebi.ac.uk/vol1/fastq/SRR836/005/SRR8363275/SRR8363275_2.fastq.gz',\n",
              " 'ftp://ftp.sra.ebi.ac.uk/vol1/fastq/SRR836/006/SRR8363276/SRR8363276_1.fastq.gz',\n",
              " 'ftp://ftp.sra.ebi.ac.uk/vol1/fastq/SRR836/006/SRR8363276/SRR8363276_2.fastq.gz',\n",
              " 'ftp://ftp.sra.ebi.ac.uk/vol1/fastq/SRR836/007/SRR8363277/SRR8363277_1.fastq.gz',\n",
              " 'ftp://ftp.sra.ebi.ac.uk/vol1/fastq/SRR836/007/SRR8363277/SRR8363277_2.fastq.gz',\n",
              " 'ftp://ftp.sra.ebi.ac.uk/vol1/fastq/SRR836/008/SRR8363278/SRR8363278_1.fastq.gz',\n",
              " 'ftp://ftp.sra.ebi.ac.uk/vol1/fastq/SRR836/008/SRR8363278/SRR8363278_2.fastq.gz',\n",
              " 'ftp://ftp.sra.ebi.ac.uk/vol1/fastq/SRR836/009/SRR8363279/SRR8363279_1.fastq.gz',\n",
              " 'ftp://ftp.sra.ebi.ac.uk/vol1/fastq/SRR836/009/SRR8363279/SRR8363279_2.fastq.gz',\n",
              " 'ftp://ftp.sra.ebi.ac.uk/vol1/fastq/SRR836/000/SRR8363280/SRR8363280_1.fastq.gz',\n",
              " 'ftp://ftp.sra.ebi.ac.uk/vol1/fastq/SRR836/000/SRR8363280/SRR8363280_2.fastq.gz',\n",
              " 'ftp://ftp.sra.ebi.ac.uk/vol1/fastq/SRR836/001/SRR8363281/SRR8363281_1.fastq.gz',\n",
              " 'ftp://ftp.sra.ebi.ac.uk/vol1/fastq/SRR836/001/SRR8363281/SRR8363281_2.fastq.gz']"
            ]
          },
          "metadata": {
            "tags": []
          },
          "execution_count": 12
        }
      ]
    },
    {
      "cell_type": "code",
      "metadata": {
        "id": "q1x2zrtEF4aD",
        "colab": {
          "base_uri": "https://localhost:8080/"
        },
        "outputId": "b3515c6e-b672-481d-ff86-16495763cf13"
      },
      "source": [
        "!pwd"
      ],
      "execution_count": 13,
      "outputs": [
        {
          "output_type": "stream",
          "text": [
            "/content\n"
          ],
          "name": "stdout"
        }
      ]
    },
    {
      "cell_type": "code",
      "metadata": {
        "id": "5qFzPj-0kZTi",
        "colab": {
          "base_uri": "https://localhost:8080/"
        },
        "outputId": "93314818-2030-4847-91dd-422073848dde"
      },
      "source": [
        "# Specify the sample number and whether they are paired-ended\n",
        "\n",
        "\n",
        "if no_samples == 1:\n",
        "\n",
        "  # Write the kb count command as a string with all fastqs of the list as an input\n",
        "  cmd = \"kb count --h5ad -i index.idx -g t2g.txt -x \" + technology_kb + \" -o output\" + sample_id[0] + \" \"\\\n",
        "  + \"--filter bustools -t 2 --overwrite \" + \"'\" +  \"' '\".join(fastqs) + \"'\"\n",
        "  \n",
        "  # Execute it\n",
        "  !$cmd\n",
        "\n",
        "# If more than one sample, iterate through fastqs accordingly\n",
        "else:\n",
        "\n",
        "  # Initializa counter for fastq files\n",
        "  j = 0\n",
        "\n",
        "  # Loop over samples for analysis\n",
        "  for i in range(no_samples):\n",
        "\n",
        "    fastqs_to_analyze = fastqs[j:j + fastqs_per_sample[i]]\n",
        "    # Write the kb count command as a string\n",
        "    cmd = \"kb count --h5ad -i ../index.idx -g ../t2g.txt -x \" + technology_kb + \" -o output\" + sample_id[i] + \" \\\n",
        "    --filter bustools -t 2 --overwrite \" + \"'\" +  \"' '\".join(fastqs_to_analyze) + \"'\"\n",
        "\n",
        "    # Execute it\n",
        "    !$cmd\n",
        "\n",
        "    # Update j to move to the next set of fastq\n",
        "    j = j + fastqs_per_sample[i]\n",
        "\n",
        "\n",
        "\n",
        "\n",
        "\n"
      ],
      "execution_count": 14,
      "outputs": [
        {
          "output_type": "stream",
          "text": [
            "[2021-03-01 18:27:43,197]    INFO Piping ftp://ftp.sra.ebi.ac.uk/vol1/fastq/SRR836/000/SRR8363270/SRR8363270_1.fastq.gz to outputGSM3526586/tmp/SRR8363270_1.fastq.gz\n",
            "[2021-03-01 18:27:43,199]    INFO Piping ftp://ftp.sra.ebi.ac.uk/vol1/fastq/SRR836/000/SRR8363270/SRR8363270_2.fastq.gz to outputGSM3526586/tmp/SRR8363270_2.fastq.gz\n",
            "[2021-03-01 18:27:43,200]    INFO Piping ftp://ftp.sra.ebi.ac.uk/vol1/fastq/SRR836/001/SRR8363271/SRR8363271_1.fastq.gz to outputGSM3526586/tmp/SRR8363271_1.fastq.gz\n",
            "[2021-03-01 18:27:43,201]    INFO Piping ftp://ftp.sra.ebi.ac.uk/vol1/fastq/SRR836/001/SRR8363271/SRR8363271_2.fastq.gz to outputGSM3526586/tmp/SRR8363271_2.fastq.gz\n",
            "[2021-03-01 18:27:43,202]    INFO Piping ftp://ftp.sra.ebi.ac.uk/vol1/fastq/SRR836/002/SRR8363272/SRR8363272_1.fastq.gz to outputGSM3526586/tmp/SRR8363272_1.fastq.gz\n",
            "[2021-03-01 18:27:43,202]    INFO Piping ftp://ftp.sra.ebi.ac.uk/vol1/fastq/SRR836/002/SRR8363272/SRR8363272_2.fastq.gz to outputGSM3526586/tmp/SRR8363272_2.fastq.gz\n",
            "[2021-03-01 18:27:43,204]    INFO Piping ftp://ftp.sra.ebi.ac.uk/vol1/fastq/SRR836/003/SRR8363273/SRR8363273_1.fastq.gz to outputGSM3526586/tmp/SRR8363273_1.fastq.gz\n",
            "[2021-03-01 18:27:43,204]    INFO Piping ftp://ftp.sra.ebi.ac.uk/vol1/fastq/SRR836/003/SRR8363273/SRR8363273_2.fastq.gz to outputGSM3526586/tmp/SRR8363273_2.fastq.gz\n",
            "[2021-03-01 18:27:43,206]    INFO Piping ftp://ftp.sra.ebi.ac.uk/vol1/fastq/SRR836/004/SRR8363274/SRR8363274_1.fastq.gz to outputGSM3526586/tmp/SRR8363274_1.fastq.gz\n",
            "[2021-03-01 18:27:43,207]    INFO Piping ftp://ftp.sra.ebi.ac.uk/vol1/fastq/SRR836/004/SRR8363274/SRR8363274_2.fastq.gz to outputGSM3526586/tmp/SRR8363274_2.fastq.gz\n",
            "[2021-03-01 18:27:43,208]    INFO Piping ftp://ftp.sra.ebi.ac.uk/vol1/fastq/SRR836/005/SRR8363275/SRR8363275_1.fastq.gz to outputGSM3526586/tmp/SRR8363275_1.fastq.gz\n",
            "[2021-03-01 18:27:43,208]    INFO Piping ftp://ftp.sra.ebi.ac.uk/vol1/fastq/SRR836/005/SRR8363275/SRR8363275_2.fastq.gz to outputGSM3526586/tmp/SRR8363275_2.fastq.gz\n",
            "[2021-03-01 18:27:43,209]    INFO Piping ftp://ftp.sra.ebi.ac.uk/vol1/fastq/SRR836/006/SRR8363276/SRR8363276_1.fastq.gz to outputGSM3526586/tmp/SRR8363276_1.fastq.gz\n",
            "[2021-03-01 18:27:43,209]    INFO Piping ftp://ftp.sra.ebi.ac.uk/vol1/fastq/SRR836/006/SRR8363276/SRR8363276_2.fastq.gz to outputGSM3526586/tmp/SRR8363276_2.fastq.gz\n",
            "[2021-03-01 18:27:43,210]    INFO Piping ftp://ftp.sra.ebi.ac.uk/vol1/fastq/SRR836/007/SRR8363277/SRR8363277_1.fastq.gz to outputGSM3526586/tmp/SRR8363277_1.fastq.gz\n",
            "[2021-03-01 18:27:43,210]    INFO Piping ftp://ftp.sra.ebi.ac.uk/vol1/fastq/SRR836/007/SRR8363277/SRR8363277_2.fastq.gz to outputGSM3526586/tmp/SRR8363277_2.fastq.gz\n",
            "[2021-03-01 18:27:43,210]    INFO Piping ftp://ftp.sra.ebi.ac.uk/vol1/fastq/SRR836/008/SRR8363278/SRR8363278_1.fastq.gz to outputGSM3526586/tmp/SRR8363278_1.fastq.gz\n",
            "[2021-03-01 18:27:43,211]    INFO Piping ftp://ftp.sra.ebi.ac.uk/vol1/fastq/SRR836/008/SRR8363278/SRR8363278_2.fastq.gz to outputGSM3526586/tmp/SRR8363278_2.fastq.gz\n",
            "[2021-03-01 18:27:43,212]    INFO Piping ftp://ftp.sra.ebi.ac.uk/vol1/fastq/SRR836/009/SRR8363279/SRR8363279_1.fastq.gz to outputGSM3526586/tmp/SRR8363279_1.fastq.gz\n",
            "[2021-03-01 18:27:43,213]    INFO Piping ftp://ftp.sra.ebi.ac.uk/vol1/fastq/SRR836/009/SRR8363279/SRR8363279_2.fastq.gz to outputGSM3526586/tmp/SRR8363279_2.fastq.gz\n",
            "[2021-03-01 18:27:43,213]    INFO Piping ftp://ftp.sra.ebi.ac.uk/vol1/fastq/SRR836/000/SRR8363280/SRR8363280_1.fastq.gz to outputGSM3526586/tmp/SRR8363280_1.fastq.gz\n",
            "[2021-03-01 18:27:43,214]    INFO Piping ftp://ftp.sra.ebi.ac.uk/vol1/fastq/SRR836/000/SRR8363280/SRR8363280_2.fastq.gz to outputGSM3526586/tmp/SRR8363280_2.fastq.gz\n",
            "[2021-03-01 18:27:43,214]    INFO Piping ftp://ftp.sra.ebi.ac.uk/vol1/fastq/SRR836/001/SRR8363281/SRR8363281_1.fastq.gz to outputGSM3526586/tmp/SRR8363281_1.fastq.gz\n",
            "[2021-03-01 18:27:43,215]    INFO Piping ftp://ftp.sra.ebi.ac.uk/vol1/fastq/SRR836/001/SRR8363281/SRR8363281_2.fastq.gz to outputGSM3526586/tmp/SRR8363281_2.fastq.gz\n",
            "[2021-03-01 18:27:43,216]    INFO Using index index.idx to generate BUS file to outputGSM3526586 from\n",
            "[2021-03-01 18:27:43,216]    INFO         outputGSM3526586/tmp/SRR8363270_1.fastq.gz\n",
            "[2021-03-01 18:27:43,216]    INFO         outputGSM3526586/tmp/SRR8363270_2.fastq.gz\n",
            "[2021-03-01 18:27:43,216]    INFO         outputGSM3526586/tmp/SRR8363271_1.fastq.gz\n",
            "[2021-03-01 18:27:43,216]    INFO         outputGSM3526586/tmp/SRR8363271_2.fastq.gz\n",
            "[2021-03-01 18:27:43,216]    INFO         outputGSM3526586/tmp/SRR8363272_1.fastq.gz\n",
            "[2021-03-01 18:27:43,216]    INFO         outputGSM3526586/tmp/SRR8363272_2.fastq.gz\n",
            "[2021-03-01 18:27:43,216]    INFO         outputGSM3526586/tmp/SRR8363273_1.fastq.gz\n",
            "[2021-03-01 18:27:43,216]    INFO         outputGSM3526586/tmp/SRR8363273_2.fastq.gz\n",
            "[2021-03-01 18:27:43,216]    INFO         outputGSM3526586/tmp/SRR8363274_1.fastq.gz\n",
            "[2021-03-01 18:27:43,216]    INFO         outputGSM3526586/tmp/SRR8363274_2.fastq.gz\n",
            "[2021-03-01 18:27:43,216]    INFO         outputGSM3526586/tmp/SRR8363275_1.fastq.gz\n",
            "[2021-03-01 18:27:43,217]    INFO         outputGSM3526586/tmp/SRR8363275_2.fastq.gz\n",
            "[2021-03-01 18:27:43,217]    INFO         outputGSM3526586/tmp/SRR8363276_1.fastq.gz\n",
            "[2021-03-01 18:27:43,217]    INFO         outputGSM3526586/tmp/SRR8363276_2.fastq.gz\n",
            "[2021-03-01 18:27:43,217]    INFO         outputGSM3526586/tmp/SRR8363277_1.fastq.gz\n",
            "[2021-03-01 18:27:43,217]    INFO         outputGSM3526586/tmp/SRR8363277_2.fastq.gz\n",
            "[2021-03-01 18:27:43,217]    INFO         outputGSM3526586/tmp/SRR8363278_1.fastq.gz\n",
            "[2021-03-01 18:27:43,217]    INFO         outputGSM3526586/tmp/SRR8363278_2.fastq.gz\n",
            "[2021-03-01 18:27:43,217]    INFO         outputGSM3526586/tmp/SRR8363279_1.fastq.gz\n",
            "[2021-03-01 18:27:43,217]    INFO         outputGSM3526586/tmp/SRR8363279_2.fastq.gz\n",
            "[2021-03-01 18:27:43,217]    INFO         outputGSM3526586/tmp/SRR8363280_1.fastq.gz\n",
            "[2021-03-01 18:27:43,217]    INFO         outputGSM3526586/tmp/SRR8363280_2.fastq.gz\n",
            "[2021-03-01 18:27:43,218]    INFO         outputGSM3526586/tmp/SRR8363281_1.fastq.gz\n",
            "[2021-03-01 18:27:43,218]    INFO         outputGSM3526586/tmp/SRR8363281_2.fastq.gz\n",
            "Exception in thread Thread-5:\n",
            "Traceback (most recent call last):\n",
            "  File \"/usr/lib/python3.7/threading.py\", line 926, in _bootstrap_inner\n",
            "    self.run()\n",
            "  File \"/usr/lib/python3.7/threading.py\", line 870, in run\n",
            "    self._target(*self._args, **self._kwargs)\n",
            "  File \"/usr/lib/python3.7/urllib/request.py\", line 280, in urlretrieve\n",
            "    tfp.write(block)\n",
            "BrokenPipeError: [Errno 32] Broken pipe\n",
            "\n",
            "Exception in thread Thread-6:\n",
            "Traceback (most recent call last):\n",
            "  File \"/usr/lib/python3.7/threading.py\", line 926, in _bootstrap_inner\n",
            "    self.run()\n",
            "  File \"/usr/lib/python3.7/threading.py\", line 870, in run\n",
            "    self._target(*self._args, **self._kwargs)\n",
            "  File \"/usr/lib/python3.7/urllib/request.py\", line 288, in urlretrieve\n",
            "    % (read, size), result)\n",
            "urllib.error.ContentTooShortError: <urlopen error retrieval incomplete: got only 648704 out of 802371255 bytes>\n",
            "\n",
            "Exception in thread Thread-7:\n",
            "Traceback (most recent call last):\n",
            "  File \"/usr/lib/python3.7/threading.py\", line 926, in _bootstrap_inner\n",
            "    self.run()\n",
            "  File \"/usr/lib/python3.7/threading.py\", line 870, in run\n",
            "    self._target(*self._args, **self._kwargs)\n",
            "  File \"/usr/lib/python3.7/urllib/request.py\", line 280, in urlretrieve\n",
            "    tfp.write(block)\n",
            "BrokenPipeError: [Errno 32] Broken pipe\n",
            "\n",
            "Exception in thread Thread-8:\n",
            "Traceback (most recent call last):\n",
            "  File \"/usr/lib/python3.7/threading.py\", line 926, in _bootstrap_inner\n",
            "    self.run()\n",
            "  File \"/usr/lib/python3.7/threading.py\", line 870, in run\n",
            "    self._target(*self._args, **self._kwargs)\n",
            "  File \"/usr/lib/python3.7/urllib/request.py\", line 276, in urlretrieve\n",
            "    block = fp.read(bs)\n",
            "  File \"/usr/lib/python3.7/tempfile.py\", line 620, in func_wrapper\n",
            "    return func(*args, **kwargs)\n",
            "  File \"/usr/lib/python3.7/tempfile.py\", line 620, in func_wrapper\n",
            "    return func(*args, **kwargs)\n",
            "  File \"/usr/lib/python3.7/socket.py\", line 589, in readinto\n",
            "    return self._sock.recv_into(b)\n",
            "ConnectionResetError: [Errno 104] Connection reset by peer\n",
            "\n",
            "Exception in thread Thread-10:\n",
            "Traceback (most recent call last):\n",
            "  File \"/usr/lib/python3.7/threading.py\", line 926, in _bootstrap_inner\n",
            "    self.run()\n",
            "  File \"/usr/lib/python3.7/threading.py\", line 870, in run\n",
            "    self._target(*self._args, **self._kwargs)\n",
            "  File \"/usr/lib/python3.7/urllib/request.py\", line 288, in urlretrieve\n",
            "    % (read, size), result)\n",
            "urllib.error.ContentTooShortError: <urlopen error retrieval incomplete: got only 712416 out of 863593899 bytes>\n",
            "\n",
            "Exception in thread Thread-9:\n",
            "Traceback (most recent call last):\n",
            "  File \"/usr/lib/python3.7/threading.py\", line 926, in _bootstrap_inner\n",
            "    self.run()\n",
            "  File \"/usr/lib/python3.7/threading.py\", line 870, in run\n",
            "    self._target(*self._args, **self._kwargs)\n",
            "  File \"/usr/lib/python3.7/urllib/request.py\", line 280, in urlretrieve\n",
            "    tfp.write(block)\n",
            "BrokenPipeError: [Errno 32] Broken pipe\n",
            "\n",
            "Exception in thread Thread-12:\n",
            "Traceback (most recent call last):\n",
            "  File \"/usr/lib/python3.7/threading.py\", line 926, in _bootstrap_inner\n",
            "    self.run()\n",
            "  File \"/usr/lib/python3.7/threading.py\", line 870, in run\n",
            "    self._target(*self._args, **self._kwargs)\n",
            "  File \"/usr/lib/python3.7/urllib/request.py\", line 288, in urlretrieve\n",
            "    % (read, size), result)\n",
            "urllib.error.ContentTooShortError: <urlopen error retrieval incomplete: got only 712416 out of 857573265 bytes>\n",
            "\n",
            "Exception in thread Thread-11:\n",
            "Traceback (most recent call last):\n",
            "  File \"/usr/lib/python3.7/threading.py\", line 926, in _bootstrap_inner\n",
            "    self.run()\n",
            "  File \"/usr/lib/python3.7/threading.py\", line 870, in run\n",
            "    self._target(*self._args, **self._kwargs)\n",
            "  File \"/usr/lib/python3.7/urllib/request.py\", line 280, in urlretrieve\n",
            "    tfp.write(block)\n",
            "BrokenPipeError: [Errno 32] Broken pipe\n",
            "\n",
            "Exception in thread Thread-13:\n",
            "Traceback (most recent call last):\n",
            "  File \"/usr/lib/python3.7/threading.py\", line 926, in _bootstrap_inner\n",
            "    self.run()\n",
            "  File \"/usr/lib/python3.7/threading.py\", line 870, in run\n",
            "    self._target(*self._args, **self._kwargs)\n",
            "  File \"/usr/lib/python3.7/urllib/request.py\", line 276, in urlretrieve\n",
            "    block = fp.read(bs)\n",
            "  File \"/usr/lib/python3.7/tempfile.py\", line 620, in func_wrapper\n",
            "    return func(*args, **kwargs)\n",
            "  File \"/usr/lib/python3.7/tempfile.py\", line 620, in func_wrapper\n",
            "    return func(*args, **kwargs)\n",
            "  File \"/usr/lib/python3.7/socket.py\", line 589, in readinto\n",
            "    return self._sock.recv_into(b)\n",
            "ConnectionResetError: [Errno 104] Connection reset by peer\n",
            "\n",
            "Exception in thread Thread-14:\n",
            "Traceback (most recent call last):\n",
            "  File \"/usr/lib/python3.7/threading.py\", line 926, in _bootstrap_inner\n",
            "    self.run()\n",
            "  File \"/usr/lib/python3.7/threading.py\", line 870, in run\n",
            "    self._target(*self._args, **self._kwargs)\n",
            "  File \"/usr/lib/python3.7/urllib/request.py\", line 280, in urlretrieve\n",
            "    tfp.write(block)\n",
            "BrokenPipeError: [Errno 32] Broken pipe\n",
            "\n",
            "Exception in thread Thread-16:\n",
            "Traceback (most recent call last):\n",
            "  File \"/usr/lib/python3.7/threading.py\", line 926, in _bootstrap_inner\n",
            "    self.run()\n",
            "  File \"/usr/lib/python3.7/threading.py\", line 870, in run\n",
            "    self._target(*self._args, **self._kwargs)\n",
            "  File \"/usr/lib/python3.7/urllib/request.py\", line 288, in urlretrieve\n",
            "    % (read, size), result)\n",
            "urllib.error.ContentTooShortError: <urlopen error retrieval incomplete: got only 648704 out of 889188734 bytes>\n",
            "\n",
            "Exception in thread Thread-15:\n",
            "Traceback (most recent call last):\n",
            "  File \"/usr/lib/python3.7/threading.py\", line 926, in _bootstrap_inner\n",
            "    self.run()\n",
            "  File \"/usr/lib/python3.7/threading.py\", line 870, in run\n",
            "    self._target(*self._args, **self._kwargs)\n",
            "  File \"/usr/lib/python3.7/urllib/request.py\", line 280, in urlretrieve\n",
            "    tfp.write(block)\n",
            "BrokenPipeError: [Errno 32] Broken pipe\n",
            "\n",
            "Exception in thread Thread-18:\n",
            "Traceback (most recent call last):\n",
            "  File \"/usr/lib/python3.7/threading.py\", line 926, in _bootstrap_inner\n",
            "    self.run()\n",
            "  File \"/usr/lib/python3.7/threading.py\", line 870, in run\n",
            "    self._target(*self._args, **self._kwargs)\n",
            "  File \"/usr/lib/python3.7/urllib/request.py\", line 288, in urlretrieve\n",
            "    % (read, size), result)\n",
            "urllib.error.ContentTooShortError: <urlopen error retrieval incomplete: got only 648704 out of 881602870 bytes>\n",
            "\n",
            "Exception in thread Thread-17:\n",
            "Traceback (most recent call last):\n",
            "  File \"/usr/lib/python3.7/threading.py\", line 926, in _bootstrap_inner\n",
            "    self.run()\n",
            "  File \"/usr/lib/python3.7/threading.py\", line 870, in run\n",
            "    self._target(*self._args, **self._kwargs)\n",
            "  File \"/usr/lib/python3.7/urllib/request.py\", line 280, in urlretrieve\n",
            "    tfp.write(block)\n",
            "BrokenPipeError: [Errno 32] Broken pipe\n",
            "\n",
            "Exception in thread Thread-20:\n",
            "Traceback (most recent call last):\n",
            "  File \"/usr/lib/python3.7/threading.py\", line 926, in _bootstrap_inner\n",
            "    self.run()\n",
            "  File \"/usr/lib/python3.7/threading.py\", line 870, in run\n",
            "    self._target(*self._args, **self._kwargs)\n",
            "  File \"/usr/lib/python3.7/urllib/request.py\", line 288, in urlretrieve\n",
            "    % (read, size), result)\n",
            "urllib.error.ContentTooShortError: <urlopen error retrieval incomplete: got only 648704 out of 658909106 bytes>\n",
            "\n",
            "Exception in thread Thread-19:\n",
            "Traceback (most recent call last):\n",
            "  File \"/usr/lib/python3.7/threading.py\", line 926, in _bootstrap_inner\n",
            "    self.run()\n",
            "  File \"/usr/lib/python3.7/threading.py\", line 870, in run\n",
            "    self._target(*self._args, **self._kwargs)\n",
            "  File \"/usr/lib/python3.7/urllib/request.py\", line 280, in urlretrieve\n",
            "    tfp.write(block)\n",
            "BrokenPipeError: [Errno 32] Broken pipe\n",
            "\n",
            "Exception in thread Thread-22:\n",
            "Traceback (most recent call last):\n",
            "  File \"/usr/lib/python3.7/threading.py\", line 926, in _bootstrap_inner\n",
            "    self.run()\n",
            "  File \"/usr/lib/python3.7/threading.py\", line 870, in run\n",
            "    self._target(*self._args, **self._kwargs)\n",
            "  File \"/usr/lib/python3.7/urllib/request.py\", line 276, in urlretrieve\n",
            "    block = fp.read(bs)\n",
            "  File \"/usr/lib/python3.7/tempfile.py\", line 620, in func_wrapper\n",
            "    return func(*args, **kwargs)\n",
            "  File \"/usr/lib/python3.7/tempfile.py\", line 620, in func_wrapper\n",
            "    return func(*args, **kwargs)\n",
            "  File \"/usr/lib/python3.7/socket.py\", line 589, in readinto\n",
            "    return self._sock.recv_into(b)\n",
            "ConnectionResetError: [Errno 104] Connection reset by peer\n",
            "\n",
            "Exception in thread Thread-21:\n",
            "Traceback (most recent call last):\n",
            "  File \"/usr/lib/python3.7/threading.py\", line 926, in _bootstrap_inner\n",
            "    self.run()\n",
            "  File \"/usr/lib/python3.7/threading.py\", line 870, in run\n",
            "    self._target(*self._args, **self._kwargs)\n",
            "  File \"/usr/lib/python3.7/urllib/request.py\", line 280, in urlretrieve\n",
            "    tfp.write(block)\n",
            "BrokenPipeError: [Errno 32] Broken pipe\n",
            "\n",
            "Exception in thread Thread-24:\n",
            "Traceback (most recent call last):\n",
            "  File \"/usr/lib/python3.7/threading.py\", line 926, in _bootstrap_inner\n",
            "    self.run()\n",
            "  File \"/usr/lib/python3.7/threading.py\", line 870, in run\n",
            "    self._target(*self._args, **self._kwargs)\n",
            "  File \"/usr/lib/python3.7/urllib/request.py\", line 288, in urlretrieve\n",
            "    % (read, size), result)\n",
            "urllib.error.ContentTooShortError: <urlopen error retrieval incomplete: got only 648704 out of 655267076 bytes>\n",
            "\n",
            "Exception in thread Thread-23:\n",
            "Traceback (most recent call last):\n",
            "  File \"/usr/lib/python3.7/threading.py\", line 926, in _bootstrap_inner\n",
            "    self.run()\n",
            "  File \"/usr/lib/python3.7/threading.py\", line 870, in run\n",
            "    self._target(*self._args, **self._kwargs)\n",
            "  File \"/usr/lib/python3.7/urllib/request.py\", line 280, in urlretrieve\n",
            "    tfp.write(block)\n",
            "BrokenPipeError: [Errno 32] Broken pipe\n",
            "\n",
            "[2021-03-01 18:34:25,658]    INFO Sorting BUS file outputGSM3526586/output.bus to outputGSM3526586/tmp/output.s.bus\n",
            "[2021-03-01 18:34:38,723]    INFO Whitelist not provided\n",
            "[2021-03-01 18:34:38,724]    INFO Copying pre-packaged 10XV2 whitelist to outputGSM3526586\n",
            "[2021-03-01 18:34:38,844]    INFO Inspecting BUS file outputGSM3526586/tmp/output.s.bus\n",
            "[2021-03-01 18:34:48,471]    INFO Correcting BUS records in outputGSM3526586/tmp/output.s.bus to outputGSM3526586/tmp/output.s.c.bus with whitelist outputGSM3526586/10xv2_whitelist.txt\n",
            "[2021-03-01 18:34:55,345]    INFO Sorting BUS file outputGSM3526586/tmp/output.s.c.bus to outputGSM3526586/output.unfiltered.bus\n",
            "[2021-03-01 18:35:06,327]    INFO Generating count matrix outputGSM3526586/counts_unfiltered/cells_x_genes from BUS file outputGSM3526586/output.unfiltered.bus\n",
            "[2021-03-01 18:35:30,724]    INFO Reading matrix outputGSM3526586/counts_unfiltered/cells_x_genes.mtx\n",
            "[2021-03-01 18:35:46,021]    INFO Writing matrix to h5ad outputGSM3526586/counts_unfiltered/adata.h5ad\n",
            "[2021-03-01 18:35:46,943]    INFO Filtering with bustools\n",
            "[2021-03-01 18:35:46,943]    INFO Generating whitelist outputGSM3526586/filter_barcodes.txt from BUS file outputGSM3526586/output.unfiltered.bus\n",
            "[2021-03-01 18:35:47,090]    INFO Correcting BUS records in outputGSM3526586/output.unfiltered.bus to outputGSM3526586/tmp/output.unfiltered.c.bus with whitelist outputGSM3526586/filter_barcodes.txt\n",
            "[2021-03-01 18:35:52,589]    INFO Sorting BUS file outputGSM3526586/tmp/output.unfiltered.c.bus to outputGSM3526586/output.filtered.bus\n",
            "[2021-03-01 18:35:59,868]    INFO Generating count matrix outputGSM3526586/counts_filtered/cells_x_genes from BUS file outputGSM3526586/output.filtered.bus\n",
            "[2021-03-01 18:36:12,735]    INFO Reading matrix outputGSM3526586/counts_filtered/cells_x_genes.mtx\n",
            "[2021-03-01 18:36:19,303]    INFO Writing matrix to h5ad outputGSM3526586/counts_filtered/adata.h5ad\n"
          ],
          "name": "stdout"
        }
      ]
    },
    {
      "cell_type": "markdown",
      "metadata": {
        "id": "tDijOZzrqhN2"
      },
      "source": [
        "# Load unfiltered matrix and assign filters to each matrix individually"
      ]
    },
    {
      "cell_type": "markdown",
      "metadata": {
        "id": "VkNLZh_pNFFw"
      },
      "source": [
        "## Load the unfiltered matrix (check dimensions)"
      ]
    },
    {
      "cell_type": "code",
      "metadata": {
        "id": "PppRNeV8AIyw"
      },
      "source": [
        "# Define dict to store data\n",
        "results = {}\n"
      ],
      "execution_count": 15,
      "outputs": []
    },
    {
      "cell_type": "code",
      "metadata": {
        "id": "pKmtGf3c_BiZ",
        "cellView": "both",
        "colab": {
          "base_uri": "https://localhost:8080/"
        },
        "outputId": "bf0975a8-68f7-4748-9013-25b441af5b39"
      },
      "source": [
        "# load the unfiltered matrix\n",
        "for i in range(no_samples):\n",
        "  results[sample_id[i]] = anndata.read_h5ad(\"output\" + sample_id[i] + \"/counts_unfiltered/adata.h5ad\")\n",
        "  results[sample_id[i]].var[\"gene_id\"] = results[sample_id[i]].var.index.values\n",
        "\n",
        "  t2g = pd.read_csv(\"t2g.txt\", header=None, names=[\"tid\", \"gene_id\", \"gene_name\"], sep=\"\\t\")\n",
        "  t2g.index = t2g.gene_id\n",
        "  t2g = t2g.loc[~t2g.index.duplicated(keep='first')]\n",
        "\n",
        "  results[sample_id[i]].var[\"gene_name\"] = results[sample_id[i]].var.gene_id.map(t2g[\"gene_name\"])\n",
        "  results[sample_id[i]].var.index = results[sample_id[i]].var[\"gene_name\"]\n",
        "  print(\"The unfiltered matrix \" + sample_id[i] + \" contains {} cells by {} genes\".format(len(results[sample_id[i]].obs), len(results[sample_id[i]].var)))\n",
        "\n",
        "  results[sample_id[i]].obs[\"cell_counts\"] = results[sample_id[i]].X.sum(axis=1)\n",
        "  results[sample_id[i]].var[\"gene_counts\"] = nd(results[sample_id[i]].X.sum(axis=0))\n",
        "\n",
        "  results[sample_id[i]].obs[\"n_genes\"] = nd((results[sample_id[i]].X>0).sum(axis=1))\n",
        "  results[sample_id[i]].var[\"n_cells\"] = nd((results[sample_id[i]].X>0).sum(axis=0))\n",
        "\n",
        "  mito_genes = results[sample_id[i]].var_names.str.startswith(\"MT-\" or \"mt-\") \n",
        "  results[sample_id[i]].obs[\"percent_mito\"] = results[sample_id[i]][:,mito_genes].X.sum(axis=1)/results[sample_id[i]].X.sum(axis=1)*100\n",
        "\n",
        "  # Changing the name of the index is necessary to write the file (it won't work with duplicated names)\n",
        "  results[sample_id[i]].var.index.name = \"index\"\n",
        "\n"
      ],
      "execution_count": 16,
      "outputs": [
        {
          "output_type": "stream",
          "text": [
            "The unfiltered matrix GSM3526586 contains 237313 cells by 60623 genes\n"
          ],
          "name": "stdout"
        }
      ]
    },
    {
      "cell_type": "markdown",
      "metadata": {
        "id": "hDAUH3eH_2RA"
      },
      "source": [
        "## Assign filters for each matrix individually"
      ]
    },
    {
      "cell_type": "code",
      "metadata": {
        "id": "ukinuaKk_6Po"
      },
      "source": [
        "# Modify this manually to change sample after having assigned the \"expected_num_cells\" and \"mito_criteria\" parameters\n",
        "samp_n = 0\n",
        "\n",
        "\n",
        "# Filtering criteria\n",
        "cell_threshold = 100\n",
        "gene_threshold = 3\n",
        "\n",
        "mito_criteria = 30"
      ],
      "execution_count": 17,
      "outputs": []
    },
    {
      "cell_type": "code",
      "metadata": {
        "id": "a5wZB5pEfwNs",
        "cellView": "form",
        "colab": {
          "base_uri": "https://localhost:8080/",
          "height": 725
        },
        "outputId": "1391b862-daf5-4d0c-9fe1-71607bdef4a0"
      },
      "source": [
        "\n",
        "expected_num_cells = 7500#@param {type:\"integer\"}\n",
        "knee = np.sort(nd(results[sample_id[samp_n]].X.sum(axis=1)))[::-1]\n",
        "\n",
        "fig, ax = plt.subplots(figsize=(5, 5))\n",
        "\n",
        "x = knee\n",
        "y = range(len(knee))\n",
        "\n",
        "ax.loglog(x, y, linewidth=5, color=\"g\")\n",
        "\n",
        "ax.axvline(x=knee[expected_num_cells], linewidth=3, color=\"k\")\n",
        "ax.axhline(y=expected_num_cells, linewidth=3, color=\"k\")\n",
        "\n",
        "ax.set_xlabel(\"UMI Counts\")\n",
        "ax.set_ylabel(\"Set of Barcodes\")\n",
        "\n",
        "plt.show()\n",
        "\n",
        "cell_threshold = knee[expected_num_cells]\n",
        "\n",
        "results[\"cell_threshold\" + sample_id[samp_n]] = knee[expected_num_cells]\n",
        "\n",
        "print (\"Cells were filtered down to \" + str(expected_num_cells) + \" with at least \" + str(cell_threshold) + \" UMIs\")\n",
        "\n",
        "\n",
        "mito_criteria = 33#@param {type:\"integer\"}\n",
        "results[\"mito_criteria\" + sample_id[samp_n]] = mito_criteria\n",
        "\n",
        "fig, ax = plt.subplots(figsize=(5,5))\n",
        "\n",
        "\n",
        "x = nd(results[sample_id[samp_n]].obs[\"cell_counts\"][results[sample_id[i]].obs[\"cell_counts\"] > cell_threshold])\n",
        "y = nd(results[sample_id[samp_n]].obs[\"percent_mito\"][results[sample_id[i]].obs[\"cell_counts\"] > cell_threshold])\n",
        "\n",
        "ax.scatter(x, y, color=\"green\", alpha=0.1)\n",
        "\n",
        "ax.axhline(y=mito_criteria, linestyle=\"--\", color=\"k\")\n",
        "\n",
        "\n",
        "ax.set_xlabel(\"UMI Counts\")\n",
        "ax.set_ylabel(\"Percent mito\")\n",
        "\n",
        "\n",
        "plt.show()\n",
        "\n",
        "print(\"We select \" + str(mito_criteria) + \" % as the mitochondrial content threshold\")"
      ],
      "execution_count": 18,
      "outputs": [
        {
          "output_type": "display_data",
          "data": {
            "image/png": "[encoded data removed]",
            "text/plain": [
              "<Figure size 360x360 with 1 Axes>"
            ]
          },
          "metadata": {
            "tags": [],
            "image/png": {
              "width": 358,
              "height": 337
            },
            "needs_background": "light"
          }
        },
        {
          "output_type": "stream",
          "text": [
            "Cells were filtered down to 7500 with at least 150.0 UMIs\n"
          ],
          "name": "stdout"
        },
        {
          "output_type": "display_data",
          "data": {
            "image/png": "[encoded data removed]",
            "text/plain": [
              "<Figure size 360x360 with 1 Axes>"
            ]
          },
          "metadata": {
            "tags": [],
            "image/png": {
              "width": 370,
              "height": 337
            },
            "needs_background": "light"
          }
        },
        {
          "output_type": "stream",
          "text": [
            "We select 33 % as the mitochondrial content threshold\n"
          ],
          "name": "stdout"
        }
      ]
    },
    {
      "cell_type": "markdown",
      "metadata": {
        "id": "eP9j2ouPq9KY"
      },
      "source": [
        "# Filter matrix"
      ]
    },
    {
      "cell_type": "code",
      "metadata": {
        "id": "sE51WUA3gVmG",
        "colab": {
          "base_uri": "https://localhost:8080/"
        },
        "outputId": "266f646f-fd71-44a7-cf06-962384da536b"
      },
      "source": [
        "for i in range(no_samples):\n",
        "  results[sample_id[i]].obs[\"pass_count_filter\"] = results[sample_id[i]].obs[\"cell_counts\"] > results[\"cell_threshold\" + sample_id[i]]\n",
        "  results[sample_id[i]].obs[\"pass_mito_filter\"] = results[sample_id[i]].obs.percent_mito < results[\"mito_criteria\" + sample_id[i]]\n",
        "  results[sample_id[i]].var[\"pass_gene_filter\"] = results[sample_id[i]].var[\"n_cells\"] > gene_threshold\n",
        "\n",
        "  cell_mask = np.logical_and(results[sample_id[i]].obs[\"pass_count_filter\"].values, results[sample_id[i]].obs[\"pass_mito_filter\"].values)\n",
        "  gene_mask = results[sample_id[i]].var[\"pass_gene_filter\"].values\n",
        "\n",
        "  print(\"Current Shape: {:,} cells x {:,} genes\".format(results[sample_id[i]].shape[0], results[sample_id[i]].shape[1]))\n",
        "  print(\"    New shape: {:,} cells x {:,} genes\".format(cell_mask.sum(), gene_mask.sum()))\n",
        "  results[\"data_\" + sample_id[i]] = results[sample_id[i]][cell_mask, gene_mask]"
      ],
      "execution_count": 19,
      "outputs": [
        {
          "output_type": "stream",
          "text": [
            "Current Shape: 237,313 cells x 60,623 genes\n",
            "    New shape: 7,335 cells x 25,568 genes\n"
          ],
          "name": "stdout"
        }
      ]
    },
    {
      "cell_type": "markdown",
      "metadata": {
        "id": "BxPA81yj4TlU"
      },
      "source": [
        "# Anotate and write the Anndata object"
      ]
    },
    {
      "cell_type": "code",
      "metadata": {
        "id": "O-q_Qj2U4kDU",
        "colab": {
          "base_uri": "https://localhost:8080/"
        },
        "outputId": "3a10b9fe-224a-4d61-ac60-4ce6ae2291dd"
      },
      "source": [
        "for i in range(no_samples):\n",
        "\n",
        "\n",
        "  results[\"data_\" + sample_id[i]].uns[\"database_id\"] = database_id[samp_n]\n",
        "\n",
        "  results[\"data_\" + sample_id[i]].uns[\"tissue\"] = tissue[samp_n]\n",
        "\n",
        "  results[\"data_\" + sample_id[i]].uns[\"cell_type\"] = cell_type[samp_n]\n",
        "\n",
        "  results[\"data_\" + sample_id[i]].uns[\"sample_id\"] = sample_id[samp_n]\n",
        "\n",
        "  results[\"data_\" + sample_id[i]].uns[\"condition\"] = condition[samp_n]\n",
        "\n",
        "  results[\"data_\" + sample_id[i]].uns[\"species\"] = species[samp_n]\n",
        "\n",
        "  results[\"data_\" + sample_id[i]].uns[\"technology\"] = technology[samp_n]\n",
        "\n",
        "  results[\"data_\" + sample_id[i]].uns[\"paper\"] = paper[samp_n]\n",
        "\n",
        "  results[\"data_\" + sample_id[i]].uns[\"figure\"] = figure[samp_n]\n",
        "\n",
        "\n",
        "%cd /content\n",
        "\n",
        "for i in range(no_samples):\n",
        "\n",
        "  results[\"data_\" + sample_id[i]].write(\"result\" + sample_id[i])"
      ],
      "execution_count": 20,
      "outputs": [
        {
          "output_type": "stream",
          "text": [
            "Trying to set attribute `.uns` of view, copying.\n",
            "Variable names are not unique. To make them unique, call `.var_names_make_unique`.\n",
            "Variable names are not unique. To make them unique, call `.var_names_make_unique`.\n"
          ],
          "name": "stderr"
        },
        {
          "output_type": "stream",
          "text": [
            "/content\n"
          ],
          "name": "stdout"
        },
        {
          "output_type": "stream",
          "text": [
            "... storing 'gene_name' as categorical\n"
          ],
          "name": "stderr"
        }
      ]
    },
    {
      "cell_type": "code",
      "metadata": {
        "id": "DyLh94IkCQNm",
        "outputId": "d0299193-f87e-4142-a2ed-694a61257078",
        "colab": {
          "base_uri": "https://localhost:8080/"
        }
      },
      "source": [
        "'''\n",
        "Create TCC matrix\n",
        "'''\n",
        "if not bam:\n",
        "  %cd /content/fastqs\n",
        "\n",
        "if bam:\n",
        "  %cd /content/fastqs/$_filename\n",
        "\n",
        "if no_samples == 1:\n",
        "\n",
        "  # Write the kb count command as a string with all fastqs of the list as an input\n",
        "  cmd = \"kb count --h5ad -i index.idx -g t2g.txt -x \" + technology_kb + \" -o tccoutput\" + sample_id[0] + \" \"\\\n",
        "  + \"--filter bustools -t 2 --tcc --overwrite \" + \"'\" +  \"' '\".join(fastqs) + \"'\"\n",
        "  \n",
        "  # Execute it\n",
        "  !$cmd\n",
        "\n",
        "# If more than one sample, iterate through fastqs accordingly\n",
        "else:\n",
        "\n",
        "  # Initializa counter for fastq files\n",
        "  j = 0\n",
        "\n",
        "  # Loop over samples for analysis\n",
        "  for i in range(no_samples):\n",
        "\n",
        "    fastqs_to_analyze = fastqs[j:j + fastqs_per_sample[i]]\n",
        "    # Write the kb count command as a string\n",
        "    cmd = \"kb count --h5ad -i index.idx -g t2g.txt -x \" + technology_kb + \" -o tccoutput\" + sample_id[i] + \" \\\n",
        "    --filter bustools -t 2 --tcc --overwrite \" + \"'\" +  \"' '\".join(fastqs_to_analyze) + \"'\"\n",
        "\n",
        "    # Execute it\n",
        "    !$cmd\n",
        "\n",
        "    # Update j to move to the next set of fastq\n",
        "    j = j + fastqs_per_sample[i]\n",
        "\n",
        "\n",
        "tcc_results = {}\n",
        "\n",
        "for sample in sample_id:\n",
        "  output = \"bus_raw_\" + sample\n",
        "  !mkdir $output\n",
        "  folder_tcc = \"tccoutput\" + sample\n",
        "  folder_gc = \"output\" + sample\n",
        "\n",
        "  # read tcc matrix\n",
        "  tcc_results[sample] = anndata.read(folder_tcc + \"/counts_unfiltered/adata.h5ad\")\n",
        "  # apply gene count matrix's filter\n",
        "  tcc_results[sample] = tcc_results[sample][results[\"data_\" + sample_id[i]].obs.index.values]\n",
        "  # transfer obs data\n",
        "  tcc_results[sample].obs = results[\"data_\" + sample].obs\n",
        "  # transfer metadata\n",
        "  tcc_results[sample].uns = results[\"data_\" + sample].uns\n",
        "  # write tcc matrix\n",
        "  tcc_results[sample].write(\"/content/tcc_\" + sample)\n",
        "  #gzip tcc matrix\n",
        "  cmd = \"gzip /content/tcc_\" + sample\n",
        "  !$cmd\n",
        "  #gzip filtered bus file\n",
        "  cmd = \"gzip \" + folder_tcc + \"/output.filtered.bus\"\n",
        "  !$cmd\n",
        "  # move and re-name bus file with sample id\n",
        "  cmd = \"mv \" + folder_tcc + \"/output.filtered.bus.gz \" + output + \"/\" + sample +\".filtered.bus.gz\"\n",
        "  !$cmd\n",
        "  # gzip all unfiltered counts\n",
        "  cmd = \"gzip \" + folder_tcc + \"/counts_unfiltered/*\"\n",
        "  !$cmd\n",
        "  cmd = \"gzip \" + folder_gc + \"/counts_unfiltered/*\"\n",
        "  !$cmd\n",
        "  # move unfiltered counts for both\n",
        "  cmd = \"mv \" + folder_tcc + \"/counts_unfiltered \" + output + \"/tcc_unfiltered\"\n",
        "  !$cmd\n",
        "  cmd = \"mv \" + folder_gc + \"/counts_unfiltered \" + output + \"/gc_unfiltered\"\n",
        "  !$cmd\n",
        "\n",
        "  # zip all files\n",
        "  cmd = \"zip -r /content\" + output + \".zip \" + output\n",
        "  !$cmd"
      ],
      "execution_count": 21,
      "outputs": [
        {
          "output_type": "stream",
          "text": [
            "[Errno 2] No such file or directory: '/content/fastqs'\n",
            "/content\n",
            "[2021-03-01 18:36:26,362]    INFO Piping ftp://ftp.sra.ebi.ac.uk/vol1/fastq/SRR836/000/SRR8363270/SRR8363270_1.fastq.gz to tccoutputGSM3526586/tmp/SRR8363270_1.fastq.gz\n",
            "[2021-03-01 18:36:26,364]    INFO Piping ftp://ftp.sra.ebi.ac.uk/vol1/fastq/SRR836/000/SRR8363270/SRR8363270_2.fastq.gz to tccoutputGSM3526586/tmp/SRR8363270_2.fastq.gz\n",
            "[2021-03-01 18:36:26,365]    INFO Piping ftp://ftp.sra.ebi.ac.uk/vol1/fastq/SRR836/001/SRR8363271/SRR8363271_1.fastq.gz to tccoutputGSM3526586/tmp/SRR8363271_1.fastq.gz\n",
            "[2021-03-01 18:36:26,366]    INFO Piping ftp://ftp.sra.ebi.ac.uk/vol1/fastq/SRR836/001/SRR8363271/SRR8363271_2.fastq.gz to tccoutputGSM3526586/tmp/SRR8363271_2.fastq.gz\n",
            "[2021-03-01 18:36:26,366]    INFO Piping ftp://ftp.sra.ebi.ac.uk/vol1/fastq/SRR836/002/SRR8363272/SRR8363272_1.fastq.gz to tccoutputGSM3526586/tmp/SRR8363272_1.fastq.gz\n",
            "[2021-03-01 18:36:26,367]    INFO Piping ftp://ftp.sra.ebi.ac.uk/vol1/fastq/SRR836/002/SRR8363272/SRR8363272_2.fastq.gz to tccoutputGSM3526586/tmp/SRR8363272_2.fastq.gz\n",
            "[2021-03-01 18:36:26,367]    INFO Piping ftp://ftp.sra.ebi.ac.uk/vol1/fastq/SRR836/003/SRR8363273/SRR8363273_1.fastq.gz to tccoutputGSM3526586/tmp/SRR8363273_1.fastq.gz\n",
            "[2021-03-01 18:36:26,368]    INFO Piping ftp://ftp.sra.ebi.ac.uk/vol1/fastq/SRR836/003/SRR8363273/SRR8363273_2.fastq.gz to tccoutputGSM3526586/tmp/SRR8363273_2.fastq.gz\n",
            "[2021-03-01 18:36:26,368]    INFO Piping ftp://ftp.sra.ebi.ac.uk/vol1/fastq/SRR836/004/SRR8363274/SRR8363274_1.fastq.gz to tccoutputGSM3526586/tmp/SRR8363274_1.fastq.gz\n",
            "[2021-03-01 18:36:26,369]    INFO Piping ftp://ftp.sra.ebi.ac.uk/vol1/fastq/SRR836/004/SRR8363274/SRR8363274_2.fastq.gz to tccoutputGSM3526586/tmp/SRR8363274_2.fastq.gz\n",
            "[2021-03-01 18:36:26,369]    INFO Piping ftp://ftp.sra.ebi.ac.uk/vol1/fastq/SRR836/005/SRR8363275/SRR8363275_1.fastq.gz to tccoutputGSM3526586/tmp/SRR8363275_1.fastq.gz\n",
            "[2021-03-01 18:36:26,370]    INFO Piping ftp://ftp.sra.ebi.ac.uk/vol1/fastq/SRR836/005/SRR8363275/SRR8363275_2.fastq.gz to tccoutputGSM3526586/tmp/SRR8363275_2.fastq.gz\n",
            "[2021-03-01 18:36:26,373]    INFO Piping ftp://ftp.sra.ebi.ac.uk/vol1/fastq/SRR836/006/SRR8363276/SRR8363276_1.fastq.gz to tccoutputGSM3526586/tmp/SRR8363276_1.fastq.gz\n",
            "[2021-03-01 18:36:26,373]    INFO Piping ftp://ftp.sra.ebi.ac.uk/vol1/fastq/SRR836/006/SRR8363276/SRR8363276_2.fastq.gz to tccoutputGSM3526586/tmp/SRR8363276_2.fastq.gz\n",
            "[2021-03-01 18:36:26,376]    INFO Piping ftp://ftp.sra.ebi.ac.uk/vol1/fastq/SRR836/007/SRR8363277/SRR8363277_1.fastq.gz to tccoutputGSM3526586/tmp/SRR8363277_1.fastq.gz\n",
            "[2021-03-01 18:36:26,378]    INFO Piping ftp://ftp.sra.ebi.ac.uk/vol1/fastq/SRR836/007/SRR8363277/SRR8363277_2.fastq.gz to tccoutputGSM3526586/tmp/SRR8363277_2.fastq.gz\n",
            "[2021-03-01 18:36:26,380]    INFO Piping ftp://ftp.sra.ebi.ac.uk/vol1/fastq/SRR836/008/SRR8363278/SRR8363278_1.fastq.gz to tccoutputGSM3526586/tmp/SRR8363278_1.fastq.gz\n",
            "[2021-03-01 18:36:26,381]    INFO Piping ftp://ftp.sra.ebi.ac.uk/vol1/fastq/SRR836/008/SRR8363278/SRR8363278_2.fastq.gz to tccoutputGSM3526586/tmp/SRR8363278_2.fastq.gz\n",
            "[2021-03-01 18:36:26,383]    INFO Piping ftp://ftp.sra.ebi.ac.uk/vol1/fastq/SRR836/009/SRR8363279/SRR8363279_1.fastq.gz to tccoutputGSM3526586/tmp/SRR8363279_1.fastq.gz\n",
            "[2021-03-01 18:36:26,384]    INFO Piping ftp://ftp.sra.ebi.ac.uk/vol1/fastq/SRR836/009/SRR8363279/SRR8363279_2.fastq.gz to tccoutputGSM3526586/tmp/SRR8363279_2.fastq.gz\n",
            "[2021-03-01 18:36:26,387]    INFO Piping ftp://ftp.sra.ebi.ac.uk/vol1/fastq/SRR836/000/SRR8363280/SRR8363280_1.fastq.gz to tccoutputGSM3526586/tmp/SRR8363280_1.fastq.gz\n",
            "[2021-03-01 18:36:26,388]    INFO Piping ftp://ftp.sra.ebi.ac.uk/vol1/fastq/SRR836/000/SRR8363280/SRR8363280_2.fastq.gz to tccoutputGSM3526586/tmp/SRR8363280_2.fastq.gz\n",
            "[2021-03-01 18:36:26,390]    INFO Piping ftp://ftp.sra.ebi.ac.uk/vol1/fastq/SRR836/001/SRR8363281/SRR8363281_1.fastq.gz to tccoutputGSM3526586/tmp/SRR8363281_1.fastq.gz\n",
            "[2021-03-01 18:36:26,390]    INFO Piping ftp://ftp.sra.ebi.ac.uk/vol1/fastq/SRR836/001/SRR8363281/SRR8363281_2.fastq.gz to tccoutputGSM3526586/tmp/SRR8363281_2.fastq.gz\n",
            "[2021-03-01 18:36:26,392]    INFO Using index index.idx to generate BUS file to tccoutputGSM3526586 from\n",
            "[2021-03-01 18:36:26,392]    INFO         tccoutputGSM3526586/tmp/SRR8363270_1.fastq.gz\n",
            "[2021-03-01 18:36:26,392]    INFO         tccoutputGSM3526586/tmp/SRR8363270_2.fastq.gz\n",
            "[2021-03-01 18:36:26,392]    INFO         tccoutputGSM3526586/tmp/SRR8363271_1.fastq.gz\n",
            "[2021-03-01 18:36:26,392]    INFO         tccoutputGSM3526586/tmp/SRR8363271_2.fastq.gz\n",
            "[2021-03-01 18:36:26,392]    INFO         tccoutputGSM3526586/tmp/SRR8363272_1.fastq.gz\n",
            "[2021-03-01 18:36:26,392]    INFO         tccoutputGSM3526586/tmp/SRR8363272_2.fastq.gz\n",
            "[2021-03-01 18:36:26,392]    INFO         tccoutputGSM3526586/tmp/SRR8363273_1.fastq.gz\n",
            "[2021-03-01 18:36:26,392]    INFO         tccoutputGSM3526586/tmp/SRR8363273_2.fastq.gz\n",
            "[2021-03-01 18:36:26,393]    INFO         tccoutputGSM3526586/tmp/SRR8363274_1.fastq.gz\n",
            "[2021-03-01 18:36:26,393]    INFO         tccoutputGSM3526586/tmp/SRR8363274_2.fastq.gz\n",
            "[2021-03-01 18:36:26,393]    INFO         tccoutputGSM3526586/tmp/SRR8363275_1.fastq.gz\n",
            "[2021-03-01 18:36:26,393]    INFO         tccoutputGSM3526586/tmp/SRR8363275_2.fastq.gz\n",
            "[2021-03-01 18:36:26,393]    INFO         tccoutputGSM3526586/tmp/SRR8363276_1.fastq.gz\n",
            "[2021-03-01 18:36:26,393]    INFO         tccoutputGSM3526586/tmp/SRR8363276_2.fastq.gz\n",
            "[2021-03-01 18:36:26,393]    INFO         tccoutputGSM3526586/tmp/SRR8363277_1.fastq.gz\n",
            "[2021-03-01 18:36:26,393]    INFO         tccoutputGSM3526586/tmp/SRR8363277_2.fastq.gz\n",
            "[2021-03-01 18:36:26,393]    INFO         tccoutputGSM3526586/tmp/SRR8363278_1.fastq.gz\n",
            "[2021-03-01 18:36:26,393]    INFO         tccoutputGSM3526586/tmp/SRR8363278_2.fastq.gz\n",
            "[2021-03-01 18:36:26,393]    INFO         tccoutputGSM3526586/tmp/SRR8363279_1.fastq.gz\n",
            "[2021-03-01 18:36:26,393]    INFO         tccoutputGSM3526586/tmp/SRR8363279_2.fastq.gz\n",
            "[2021-03-01 18:36:26,393]    INFO         tccoutputGSM3526586/tmp/SRR8363280_1.fastq.gz\n",
            "[2021-03-01 18:36:26,393]    INFO         tccoutputGSM3526586/tmp/SRR8363280_2.fastq.gz\n",
            "[2021-03-01 18:36:26,393]    INFO         tccoutputGSM3526586/tmp/SRR8363281_1.fastq.gz\n",
            "[2021-03-01 18:36:26,393]    INFO         tccoutputGSM3526586/tmp/SRR8363281_2.fastq.gz\n",
            "Exception in thread Thread-3:\n",
            "Traceback (most recent call last):\n",
            "  File \"/usr/lib/python3.7/threading.py\", line 926, in _bootstrap_inner\n",
            "    self.run()\n",
            "  File \"/usr/lib/python3.7/threading.py\", line 870, in run\n",
            "    self._target(*self._args, **self._kwargs)\n",
            "  File \"/usr/lib/python3.7/urllib/request.py\", line 288, in urlretrieve\n",
            "    % (read, size), result)\n",
            "urllib.error.ContentTooShortError: <urlopen error retrieval incomplete: got only 616848 out of 203361088 bytes>\n",
            "\n",
            "Exception in thread Thread-4:\n",
            "Traceback (most recent call last):\n",
            "  File \"/usr/lib/python3.7/threading.py\", line 926, in _bootstrap_inner\n",
            "    self.run()\n",
            "  File \"/usr/lib/python3.7/threading.py\", line 870, in run\n",
            "    self._target(*self._args, **self._kwargs)\n",
            "  File \"/usr/lib/python3.7/urllib/request.py\", line 280, in urlretrieve\n",
            "    tfp.write(block)\n",
            "BrokenPipeError: [Errno 32] Broken pipe\n",
            "\n",
            "Exception in thread Thread-5:\n",
            "Traceback (most recent call last):\n",
            "  File \"/usr/lib/python3.7/threading.py\", line 926, in _bootstrap_inner\n",
            "    self.run()\n",
            "  File \"/usr/lib/python3.7/threading.py\", line 870, in run\n",
            "    self._target(*self._args, **self._kwargs)\n",
            "  File \"/usr/lib/python3.7/urllib/request.py\", line 288, in urlretrieve\n",
            "    % (read, size), result)\n",
            "urllib.error.ContentTooShortError: <urlopen error retrieval incomplete: got only 616848 out of 203764719 bytes>\n",
            "\n",
            "Exception in thread Thread-6:\n",
            "Traceback (most recent call last):\n",
            "  File \"/usr/lib/python3.7/threading.py\", line 926, in _bootstrap_inner\n",
            "    self.run()\n",
            "  File \"/usr/lib/python3.7/threading.py\", line 870, in run\n",
            "    self._target(*self._args, **self._kwargs)\n",
            "  File \"/usr/lib/python3.7/urllib/request.py\", line 280, in urlretrieve\n",
            "    tfp.write(block)\n",
            "BrokenPipeError: [Errno 32] Broken pipe\n",
            "\n",
            "Exception in thread Thread-8:\n",
            "Traceback (most recent call last):\n",
            "  File \"/usr/lib/python3.7/threading.py\", line 926, in _bootstrap_inner\n",
            "    self.run()\n",
            "  File \"/usr/lib/python3.7/threading.py\", line 870, in run\n",
            "    self._target(*self._args, **self._kwargs)\n",
            "  File \"/usr/lib/python3.7/urllib/request.py\", line 276, in urlretrieve\n",
            "    block = fp.read(bs)\n",
            "  File \"/usr/lib/python3.7/tempfile.py\", line 620, in func_wrapper\n",
            "    return func(*args, **kwargs)\n",
            "  File \"/usr/lib/python3.7/tempfile.py\", line 620, in func_wrapper\n",
            "    return func(*args, **kwargs)\n",
            "  File \"/usr/lib/python3.7/socket.py\", line 589, in readinto\n",
            "    return self._sock.recv_into(b)\n",
            "ConnectionResetError: [Errno 104] Connection reset by peer\n",
            "\n",
            "Exception in thread Thread-7:\n",
            "Traceback (most recent call last):\n",
            "  File \"/usr/lib/python3.7/threading.py\", line 926, in _bootstrap_inner\n",
            "    self.run()\n",
            "  File \"/usr/lib/python3.7/threading.py\", line 870, in run\n",
            "    self._target(*self._args, **self._kwargs)\n",
            "  File \"/usr/lib/python3.7/urllib/request.py\", line 276, in urlretrieve\n",
            "    block = fp.read(bs)\n",
            "  File \"/usr/lib/python3.7/tempfile.py\", line 620, in func_wrapper\n",
            "    return func(*args, **kwargs)\n",
            "  File \"/usr/lib/python3.7/tempfile.py\", line 620, in func_wrapper\n",
            "    return func(*args, **kwargs)\n",
            "  File \"/usr/lib/python3.7/socket.py\", line 589, in readinto\n",
            "    return self._sock.recv_into(b)\n",
            "ConnectionResetError: [Errno 104] Connection reset by peer\n",
            "\n",
            "Exception in thread Thread-12:\n",
            "Traceback (most recent call last):\n",
            "  File \"/usr/lib/python3.7/threading.py\", line 926, in _bootstrap_inner\n",
            "    self.run()\n",
            "  File \"/usr/lib/python3.7/threading.py\", line 870, in run\n",
            "    self._target(*self._args, **self._kwargs)\n",
            "  File \"/usr/lib/python3.7/urllib/request.py\", line 276, in urlretrieve\n",
            "    block = fp.read(bs)\n",
            "  File \"/usr/lib/python3.7/tempfile.py\", line 620, in func_wrapper\n",
            "    return func(*args, **kwargs)\n",
            "  File \"/usr/lib/python3.7/tempfile.py\", line 620, in func_wrapper\n",
            "    return func(*args, **kwargs)\n",
            "  File \"/usr/lib/python3.7/socket.py\", line 589, in readinto\n",
            "    return self._sock.recv_into(b)\n",
            "ConnectionResetError: [Errno 104] Connection reset by peer\n",
            "\n",
            "Exception in thread Thread-11:\n",
            "Traceback (most recent call last):\n",
            "  File \"/usr/lib/python3.7/threading.py\", line 926, in _bootstrap_inner\n",
            "    self.run()\n",
            "  File \"/usr/lib/python3.7/threading.py\", line 870, in run\n",
            "    self._target(*self._args, **self._kwargs)\n",
            "  File \"/usr/lib/python3.7/urllib/request.py\", line 276, in urlretrieve\n",
            "    block = fp.read(bs)\n",
            "  File \"/usr/lib/python3.7/tempfile.py\", line 620, in func_wrapper\n",
            "    return func(*args, **kwargs)\n",
            "  File \"/usr/lib/python3.7/tempfile.py\", line 620, in func_wrapper\n",
            "    return func(*args, **kwargs)\n",
            "  File \"/usr/lib/python3.7/socket.py\", line 589, in readinto\n",
            "    return self._sock.recv_into(b)\n",
            "ConnectionResetError: [Errno 104] Connection reset by peer\n",
            "\n",
            "Exception in thread Thread-14:\n",
            "Traceback (most recent call last):\n",
            "  File \"/usr/lib/python3.7/threading.py\", line 926, in _bootstrap_inner\n",
            "    self.run()\n",
            "  File \"/usr/lib/python3.7/threading.py\", line 870, in run\n",
            "    self._target(*self._args, **self._kwargs)\n",
            "  File \"/usr/lib/python3.7/urllib/request.py\", line 276, in urlretrieve\n",
            "    block = fp.read(bs)\n",
            "  File \"/usr/lib/python3.7/tempfile.py\", line 620, in func_wrapper\n",
            "    return func(*args, **kwargs)\n",
            "  File \"/usr/lib/python3.7/tempfile.py\", line 620, in func_wrapper\n",
            "    return func(*args, **kwargs)\n",
            "  File \"/usr/lib/python3.7/socket.py\", line 589, in readinto\n",
            "    return self._sock.recv_into(b)\n",
            "ConnectionResetError: [Errno 104] Connection reset by peer\n",
            "\n",
            "Exception in thread Thread-13:\n",
            "Traceback (most recent call last):\n",
            "  File \"/usr/lib/python3.7/threading.py\", line 926, in _bootstrap_inner\n",
            "    self.run()\n",
            "  File \"/usr/lib/python3.7/threading.py\", line 870, in run\n",
            "    self._target(*self._args, **self._kwargs)\n",
            "  File \"/usr/lib/python3.7/urllib/request.py\", line 276, in urlretrieve\n",
            "    block = fp.read(bs)\n",
            "  File \"/usr/lib/python3.7/tempfile.py\", line 620, in func_wrapper\n",
            "    return func(*args, **kwargs)\n",
            "  File \"/usr/lib/python3.7/tempfile.py\", line 620, in func_wrapper\n",
            "    return func(*args, **kwargs)\n",
            "  File \"/usr/lib/python3.7/socket.py\", line 589, in readinto\n",
            "    return self._sock.recv_into(b)\n",
            "ConnectionResetError: [Errno 104] Connection reset by peer\n",
            "\n",
            "Exception in thread Thread-16:\n",
            "Traceback (most recent call last):\n",
            "  File \"/usr/lib/python3.7/threading.py\", line 926, in _bootstrap_inner\n",
            "    self.run()\n",
            "  File \"/usr/lib/python3.7/threading.py\", line 870, in run\n",
            "    self._target(*self._args, **self._kwargs)\n",
            "  File \"/usr/lib/python3.7/urllib/request.py\", line 276, in urlretrieve\n",
            "    block = fp.read(bs)\n",
            "  File \"/usr/lib/python3.7/tempfile.py\", line 620, in func_wrapper\n",
            "    return func(*args, **kwargs)\n",
            "  File \"/usr/lib/python3.7/tempfile.py\", line 620, in func_wrapper\n",
            "    return func(*args, **kwargs)\n",
            "  File \"/usr/lib/python3.7/socket.py\", line 589, in readinto\n",
            "    return self._sock.recv_into(b)\n",
            "ConnectionResetError: [Errno 104] Connection reset by peer\n",
            "\n",
            "Exception in thread Thread-15:\n",
            "Traceback (most recent call last):\n",
            "  File \"/usr/lib/python3.7/threading.py\", line 926, in _bootstrap_inner\n",
            "    self.run()\n",
            "  File \"/usr/lib/python3.7/threading.py\", line 870, in run\n",
            "    self._target(*self._args, **self._kwargs)\n",
            "  File \"/usr/lib/python3.7/urllib/request.py\", line 280, in urlretrieve\n",
            "    tfp.write(block)\n",
            "BrokenPipeError: [Errno 32] Broken pipe\n",
            "\n",
            "Exception in thread Thread-17:\n",
            "Traceback (most recent call last):\n",
            "  File \"/usr/lib/python3.7/threading.py\", line 926, in _bootstrap_inner\n",
            "    self.run()\n",
            "  File \"/usr/lib/python3.7/threading.py\", line 870, in run\n",
            "    self._target(*self._args, **self._kwargs)\n",
            "  File \"/usr/lib/python3.7/urllib/request.py\", line 276, in urlretrieve\n",
            "    block = fp.read(bs)\n",
            "  File \"/usr/lib/python3.7/tempfile.py\", line 620, in func_wrapper\n",
            "    return func(*args, **kwargs)\n",
            "  File \"/usr/lib/python3.7/tempfile.py\", line 620, in func_wrapper\n",
            "    return func(*args, **kwargs)\n",
            "  File \"/usr/lib/python3.7/socket.py\", line 589, in readinto\n",
            "    return self._sock.recv_into(b)\n",
            "ConnectionResetError: [Errno 104] Connection reset by peer\n",
            "\n",
            "Exception in thread Thread-18:\n",
            "Traceback (most recent call last):\n",
            "  File \"/usr/lib/python3.7/threading.py\", line 926, in _bootstrap_inner\n",
            "    self.run()\n",
            "  File \"/usr/lib/python3.7/threading.py\", line 870, in run\n",
            "    self._target(*self._args, **self._kwargs)\n",
            "  File \"/usr/lib/python3.7/urllib/request.py\", line 276, in urlretrieve\n",
            "    block = fp.read(bs)\n",
            "  File \"/usr/lib/python3.7/tempfile.py\", line 620, in func_wrapper\n",
            "    return func(*args, **kwargs)\n",
            "  File \"/usr/lib/python3.7/tempfile.py\", line 620, in func_wrapper\n",
            "    return func(*args, **kwargs)\n",
            "  File \"/usr/lib/python3.7/socket.py\", line 589, in readinto\n",
            "    return self._sock.recv_into(b)\n",
            "ConnectionResetError: [Errno 104] Connection reset by peer\n",
            "\n",
            "Exception in thread Thread-19:\n",
            "Traceback (most recent call last):\n",
            "  File \"/usr/lib/python3.7/threading.py\", line 926, in _bootstrap_inner\n",
            "    self.run()\n",
            "  File \"/usr/lib/python3.7/threading.py\", line 870, in run\n",
            "    self._target(*self._args, **self._kwargs)\n",
            "  File \"/usr/lib/python3.7/urllib/request.py\", line 276, in urlretrieve\n",
            "    block = fp.read(bs)\n",
            "  File \"/usr/lib/python3.7/tempfile.py\", line 620, in func_wrapper\n",
            "    return func(*args, **kwargs)\n",
            "  File \"/usr/lib/python3.7/tempfile.py\", line 620, in func_wrapper\n",
            "    return func(*args, **kwargs)\n",
            "  File \"/usr/lib/python3.7/socket.py\", line 589, in readinto\n",
            "    return self._sock.recv_into(b)\n",
            "ConnectionResetError: [Errno 104] Connection reset by peer\n",
            "\n",
            "Exception in thread Thread-20:\n",
            "Traceback (most recent call last):\n",
            "  File \"/usr/lib/python3.7/threading.py\", line 926, in _bootstrap_inner\n",
            "    self.run()\n",
            "  File \"/usr/lib/python3.7/threading.py\", line 870, in run\n",
            "    self._target(*self._args, **self._kwargs)\n",
            "  File \"/usr/lib/python3.7/urllib/request.py\", line 276, in urlretrieve\n",
            "    block = fp.read(bs)\n",
            "  File \"/usr/lib/python3.7/tempfile.py\", line 620, in func_wrapper\n",
            "    return func(*args, **kwargs)\n",
            "  File \"/usr/lib/python3.7/tempfile.py\", line 620, in func_wrapper\n",
            "    return func(*args, **kwargs)\n",
            "  File \"/usr/lib/python3.7/socket.py\", line 589, in readinto\n",
            "    return self._sock.recv_into(b)\n",
            "ConnectionResetError: [Errno 104] Connection reset by peer\n",
            "\n",
            "Exception in thread Thread-22:\n",
            "Traceback (most recent call last):\n",
            "  File \"/usr/lib/python3.7/threading.py\", line 926, in _bootstrap_inner\n",
            "    self.run()\n",
            "  File \"/usr/lib/python3.7/threading.py\", line 870, in run\n",
            "    self._target(*self._args, **self._kwargs)\n",
            "  File \"/usr/lib/python3.7/urllib/request.py\", line 276, in urlretrieve\n",
            "    block = fp.read(bs)\n",
            "  File \"/usr/lib/python3.7/tempfile.py\", line 620, in func_wrapper\n",
            "    return func(*args, **kwargs)\n",
            "  File \"/usr/lib/python3.7/tempfile.py\", line 620, in func_wrapper\n",
            "    return func(*args, **kwargs)\n",
            "  File \"/usr/lib/python3.7/socket.py\", line 589, in readinto\n",
            "    return self._sock.recv_into(b)\n",
            "ConnectionResetError: [Errno 104] Connection reset by peer\n",
            "\n",
            "Exception in thread Thread-21:\n",
            "Traceback (most recent call last):\n",
            "  File \"/usr/lib/python3.7/threading.py\", line 926, in _bootstrap_inner\n",
            "    self.run()\n",
            "  File \"/usr/lib/python3.7/threading.py\", line 870, in run\n",
            "    self._target(*self._args, **self._kwargs)\n",
            "  File \"/usr/lib/python3.7/urllib/request.py\", line 280, in urlretrieve\n",
            "    tfp.write(block)\n",
            "BrokenPipeError: [Errno 32] Broken pipe\n",
            "\n",
            "Exception in thread Thread-24:\n",
            "Traceback (most recent call last):\n",
            "  File \"/usr/lib/python3.7/threading.py\", line 926, in _bootstrap_inner\n",
            "    self.run()\n",
            "  File \"/usr/lib/python3.7/threading.py\", line 870, in run\n",
            "    self._target(*self._args, **self._kwargs)\n",
            "  File \"/usr/lib/python3.7/urllib/request.py\", line 276, in urlretrieve\n",
            "    block = fp.read(bs)\n",
            "  File \"/usr/lib/python3.7/tempfile.py\", line 620, in func_wrapper\n",
            "    return func(*args, **kwargs)\n",
            "  File \"/usr/lib/python3.7/tempfile.py\", line 620, in func_wrapper\n",
            "    return func(*args, **kwargs)\n",
            "  File \"/usr/lib/python3.7/socket.py\", line 589, in readinto\n",
            "    return self._sock.recv_into(b)\n",
            "ConnectionResetError: [Errno 104] Connection reset by peer\n",
            "\n",
            "Exception in thread Thread-23:\n",
            "Traceback (most recent call last):\n",
            "  File \"/usr/lib/python3.7/threading.py\", line 926, in _bootstrap_inner\n",
            "    self.run()\n",
            "  File \"/usr/lib/python3.7/threading.py\", line 870, in run\n",
            "    self._target(*self._args, **self._kwargs)\n",
            "  File \"/usr/lib/python3.7/urllib/request.py\", line 276, in urlretrieve\n",
            "    block = fp.read(bs)\n",
            "  File \"/usr/lib/python3.7/tempfile.py\", line 620, in func_wrapper\n",
            "    return func(*args, **kwargs)\n",
            "  File \"/usr/lib/python3.7/tempfile.py\", line 620, in func_wrapper\n",
            "    return func(*args, **kwargs)\n",
            "  File \"/usr/lib/python3.7/socket.py\", line 589, in readinto\n",
            "    return self._sock.recv_into(b)\n",
            "ConnectionResetError: [Errno 104] Connection reset by peer\n",
            "\n",
            "[2021-03-01 18:44:44,655]    INFO Sorting BUS file tccoutputGSM3526586/output.bus to tccoutputGSM3526586/tmp/output.s.bus\n",
            "[2021-03-01 18:44:58,511]    INFO Whitelist not provided\n",
            "[2021-03-01 18:44:58,511]    INFO Copying pre-packaged 10XV2 whitelist to tccoutputGSM3526586\n",
            "[2021-03-01 18:44:58,636]    INFO Inspecting BUS file tccoutputGSM3526586/tmp/output.s.bus\n",
            "[2021-03-01 18:45:08,316]    INFO Correcting BUS records in tccoutputGSM3526586/tmp/output.s.bus to tccoutputGSM3526586/tmp/output.s.c.bus with whitelist tccoutputGSM3526586/10xv2_whitelist.txt\n",
            "[2021-03-01 18:45:14,859]    INFO Sorting BUS file tccoutputGSM3526586/tmp/output.s.c.bus to tccoutputGSM3526586/output.unfiltered.bus\n",
            "[2021-03-01 18:45:25,858]    INFO Generating count matrix tccoutputGSM3526586/counts_unfiltered/cells_x_tcc from BUS file tccoutputGSM3526586/output.unfiltered.bus\n",
            "[2021-03-01 18:45:52,363]    INFO Reading matrix tccoutputGSM3526586/counts_unfiltered/cells_x_tcc.mtx\n",
            "[2021-03-01 18:46:19,150]    INFO Writing matrix to h5ad tccoutputGSM3526586/counts_unfiltered/adata.h5ad\n",
            "[2021-03-01 18:47:18,846]    INFO Filtering with bustools\n",
            "[2021-03-01 18:47:18,846]    INFO Generating whitelist tccoutputGSM3526586/filter_barcodes.txt from BUS file tccoutputGSM3526586/output.unfiltered.bus\n",
            "[2021-03-01 18:47:19,041]    INFO Correcting BUS records in tccoutputGSM3526586/output.unfiltered.bus to tccoutputGSM3526586/tmp/output.unfiltered.c.bus with whitelist tccoutputGSM3526586/filter_barcodes.txt\n",
            "[2021-03-01 18:47:24,289]    INFO Sorting BUS file tccoutputGSM3526586/tmp/output.unfiltered.c.bus to tccoutputGSM3526586/output.filtered.bus\n",
            "[2021-03-01 18:47:31,801]    INFO Generating count matrix tccoutputGSM3526586/counts_filtered/cells_x_tcc from BUS file tccoutputGSM3526586/output.filtered.bus\n",
            "[2021-03-01 18:47:45,778]    INFO Reading matrix tccoutputGSM3526586/counts_filtered/cells_x_tcc.mtx\n",
            "[2021-03-01 18:48:05,086]    INFO Writing matrix to h5ad tccoutputGSM3526586/counts_filtered/adata.h5ad\n",
            "  adding: bus_raw_GSM3526586/ (stored 0%)\n",
            "  adding: bus_raw_GSM3526586/tcc_unfiltered/ (stored 0%)\n",
            "  adding: bus_raw_GSM3526586/tcc_unfiltered/cells_x_tcc.ec.txt.gz (deflated 4%)\n",
            "  adding: bus_raw_GSM3526586/tcc_unfiltered/adata.h5ad.gz (deflated 8%)\n",
            "  adding: bus_raw_GSM3526586/tcc_unfiltered/cells_x_tcc.barcodes.txt.gz (deflated 1%)\n",
            "  adding: bus_raw_GSM3526586/tcc_unfiltered/cells_x_tcc.mtx.gz (deflated 0%)\n",
            "  adding: bus_raw_GSM3526586/GSM3526586.filtered.bus.gz (deflated 3%)\n",
            "  adding: bus_raw_GSM3526586/gc_unfiltered/ (stored 0%)\n",
            "  adding: bus_raw_GSM3526586/gc_unfiltered/cells_x_genes.barcodes.txt.gz (deflated 1%)\n",
            "  adding: bus_raw_GSM3526586/gc_unfiltered/cells_x_genes.genes.txt.gz (deflated 0%)\n",
            "  adding: bus_raw_GSM3526586/gc_unfiltered/adata.h5ad.gz (deflated 3%)\n",
            "  adding: bus_raw_GSM3526586/gc_unfiltered/cells_x_genes.mtx.gz (deflated 0%)\n"
          ],
          "name": "stdout"
        }
      ]
    },
    {
      "cell_type": "code",
      "metadata": {
        "id": "jYWcrXzKIvGB",
        "outputId": "e4a78420-9fbe-49b0-befa-d64de89eda67",
        "colab": {
          "base_uri": "https://localhost:8080/"
        }
      },
      "source": [
        "!zip -r /content/bus_raw_GSM3526586.zip /content/bus_raw_GSM3526586"
      ],
      "execution_count": 22,
      "outputs": [
        {
          "output_type": "stream",
          "text": [
            "  adding: content/bus_raw_GSM3526586/ (stored 0%)\n",
            "  adding: content/bus_raw_GSM3526586/tcc_unfiltered/ (stored 0%)\n",
            "  adding: content/bus_raw_GSM3526586/tcc_unfiltered/cells_x_tcc.ec.txt.gz (deflated 4%)\n",
            "  adding: content/bus_raw_GSM3526586/tcc_unfiltered/adata.h5ad.gz (deflated 8%)\n",
            "  adding: content/bus_raw_GSM3526586/tcc_unfiltered/cells_x_tcc.barcodes.txt.gz (deflated 1%)\n",
            "  adding: content/bus_raw_GSM3526586/tcc_unfiltered/cells_x_tcc.mtx.gz (deflated 0%)\n",
            "  adding: content/bus_raw_GSM3526586/GSM3526586.filtered.bus.gz (deflated 3%)\n",
            "  adding: content/bus_raw_GSM3526586/gc_unfiltered/ (stored 0%)\n",
            "  adding: content/bus_raw_GSM3526586/gc_unfiltered/cells_x_genes.barcodes.txt.gz (deflated 1%)\n",
            "  adding: content/bus_raw_GSM3526586/gc_unfiltered/cells_x_genes.genes.txt.gz (deflated 0%)\n",
            "  adding: content/bus_raw_GSM3526586/gc_unfiltered/adata.h5ad.gz (deflated 3%)\n",
            "  adding: content/bus_raw_GSM3526586/gc_unfiltered/cells_x_genes.mtx.gz (deflated 0%)\n"
          ],
          "name": "stdout"
        }
      ]
    },
    {
      "cell_type": "code",
      "metadata": {
        "id": "EycxPyLxIwA8"
      },
      "source": [
        ""
      ],
      "execution_count": null,
      "outputs": []
    }
  ]
}