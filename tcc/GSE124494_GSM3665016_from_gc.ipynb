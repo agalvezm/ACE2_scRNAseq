{
  "nbformat": 4,
  "nbformat_minor": 0,
  "metadata": {
    "colab": {
      "name": "GSE128066_GSM3665016.ipynb",
      "provenance": [],
      "collapsed_sections": [],
      "include_colab_link": true
    },
    "kernelspec": {
      "name": "python3",
      "display_name": "Python 3"
    }
  },
  "cells": [
    {
      "cell_type": "markdown",
      "metadata": {
        "id": "view-in-github",
        "colab_type": "text"
      },
      "source": [
        "<a href=\"https://colab.research.google.com/github/agalvezm/ACE2_scRNAseq/blob/master/tcc/GSE124494_GSM3665016_from_gc.ipynb\" target=\"_parent\"><img src=\"https://colab.research.google.com/assets/colab-badge.svg\" alt=\"Open In Colab\"/></a>"
      ]
    },
    {
      "cell_type": "markdown",
      "metadata": {
        "id": "V9ryXluJsJw9"
      },
      "source": [
        "# GSE124494_GSM3665016"
      ]
    },
    {
      "cell_type": "markdown",
      "metadata": {
        "id": "RYgXT8slIZRy"
      },
      "source": [
        "This notebook uses the filtered count matrix resulting from the following google colab notebook. https://github.com/agalvezm/ACE2_scRNAseq/blob/master/notebooks_countmatrices/GSE124494_GSM3665016.ipynb Please run the notebook above and upload the results file in /content"
      ]
    },
    {
      "cell_type": "code",
      "metadata": {
        "id": "2BiFt2wu4aLh",
        "colab": {
          "base_uri": "https://localhost:8080/"
        },
        "outputId": "49c34271-c3de-4fad-db08-665b722b06c5"
      },
      "source": [
        "# Install SRA-toolkit \n",
        "!wget \"http://ftp-trace.ncbi.nlm.nih.gov/sra/sdk/current/sratoolkit.current-centos_linux64.tar.gz\"\n",
        "\n",
        "! tar -xzf sratoolkit.current-centos_linux64.tar.gz\n",
        "\n",
        "# Add to path\n",
        "import os\n",
        "os.environ['PATH'] += \":/content/sratoolkit.2.10.8-centos_linux64/bin\"\n",
        "\n",
        "# Configure\n",
        "!vdb-config --interactive\n",
        "\n",
        "# Import packages\n",
        "\n",
        "import numpy as np\n"
      ],
      "execution_count": null,
      "outputs": [
        {
          "output_type": "stream",
          "text": [
            "URL transformed to HTTPS due to an HSTS policy\n",
            "--2020-11-13 17:48:16--  https://ftp-trace.ncbi.nlm.nih.gov/sra/sdk/current/sratoolkit.current-centos_linux64.tar.gz\n",
            "Resolving ftp-trace.ncbi.nlm.nih.gov (ftp-trace.ncbi.nlm.nih.gov)... 130.14.250.11, 2607:f220:41e:250::12, 2607:f220:41e:250::10, ...\n",
            "Connecting to ftp-trace.ncbi.nlm.nih.gov (ftp-trace.ncbi.nlm.nih.gov)|130.14.250.11|:443... connected.\n",
            "HTTP request sent, awaiting response... 200 OK\n",
            "Length: 97795576 (93M) [application/x-gzip]\n",
            "Saving to: ‘sratoolkit.current-centos_linux64.tar.gz.1’\n",
            "\n",
            "sratoolkit.current- 100%[===================>]  93.26M   131MB/s    in 0.7s    \n",
            "\n",
            "2020-11-13 17:48:17 (131 MB/s) - ‘sratoolkit.current-centos_linux64.tar.gz.1’ saved [97795576/97795576]\n",
            "\n",
            "\u001b[2J\u001b[?25l\u001b[?1000h\u001b[?1002h2020-11-13T17:48:20 vdb-config.2.10.8 fatal: SIGNAL - Segmentation fault \n"
          ],
          "name": "stdout"
        }
      ]
    },
    {
      "cell_type": "code",
      "metadata": {
        "id": "mU4XegJlo2Na"
      },
      "source": [
        "# List of SRAs to download and transform. Copy paste from excel as string\n",
        "SRAs = \"SRR8712350\tSRR8712351\tSRR8712352\tSRR8712353\"\n",
        "\n",
        "SRAs = SRAs.split()\n",
        "\n",
        "# SRA to delete, usually the index file, which get downloaded because we include technical reads. \n",
        "# It varies so check in the SRA website\n",
        "SRA_to_delete = \"3\"\n",
        "\n",
        "\n",
        "SRAs_to_keep = np.setdiff1d([\"1\", \"2\", \"3\"], [SRA_to_delete])\n"
      ],
      "execution_count": null,
      "outputs": []
    },
    {
      "cell_type": "code",
      "metadata": {
        "id": "u3uDp_jCpfhZ",
        "colab": {
          "base_uri": "https://localhost:8080/"
        },
        "outputId": "fd8be743-704f-425b-cccf-44d17f3255be"
      },
      "source": [
        "for sra in SRAs:\n",
        "  \"\"\"\n",
        "  Downloads SRAs and transforms to compressed fastq file. Remove index reads and original SRA\n",
        "  \"\"\"\n",
        "  # Download SRA\n",
        "  !prefetch $sra\n",
        "\n",
        "  # Convert to fastq. Biological reads are usually considered technicals in 10x so do not skip them.\n",
        "  fastq_dump_cmd = \"fastq-dump -F --gzip --readids --split-files \" + sra + \"/\" + sra +\".sra\"\n",
        "  !$fastq_dump_cmd\n",
        "\n",
        "  # Remove files\n",
        "  rm_cmd_1 = \"rm \" + sra + \"/\" + sra + \".sra\"\n",
        "  rm_cmd_2 = \"rm \" + sra + \"_\" + SRA_to_delete + \".fastq.gz\" \n",
        "  !$rm_cmd_1\n",
        "  !$rm_cmd_2"
      ],
      "execution_count": null,
      "outputs": [
        {
          "output_type": "stream",
          "text": [
            "\n",
            "2020-11-13T17:49:29 prefetch.2.10.8: 1) Downloading 'SRR8712342'...\n",
            "2020-11-13T17:49:29 prefetch.2.10.8:  Downloading via HTTPS...\n",
            "2020-11-13T17:50:16 prefetch.2.10.8:  HTTPS download succeed\n",
            "2020-11-13T17:50:24 prefetch.2.10.8:  'SRR8712342' is valid\n",
            "2020-11-13T17:50:24 prefetch.2.10.8: 1) 'SRR8712342' was downloaded successfully\n",
            "2020-11-13T17:50:24 prefetch.2.10.8: 'SRR8712342' has 0 unresolved dependencies\n",
            "Read 62847162 spots for SRR8712342/SRR8712342.sra\n",
            "Written 62847162 spots for SRR8712342/SRR8712342.sra\n",
            "rm: cannot remove 'SRR8712342_3.fastq.qz': No such file or directory\n",
            "\n",
            "2020-11-13T18:53:36 prefetch.2.10.8: 1) Downloading 'SRR8712343'...\n",
            "2020-11-13T18:53:36 prefetch.2.10.8:  Downloading via HTTPS...\n",
            "2020-11-13T18:54:22 prefetch.2.10.8:  HTTPS download succeed\n",
            "2020-11-13T18:54:30 prefetch.2.10.8:  'SRR8712343' is valid\n",
            "2020-11-13T18:54:30 prefetch.2.10.8: 1) 'SRR8712343' was downloaded successfully\n",
            "2020-11-13T18:54:30 prefetch.2.10.8: 'SRR8712343' has 0 unresolved dependencies\n",
            "Read 62055901 spots for SRR8712343/SRR8712343.sra\n",
            "Written 62055901 spots for SRR8712343/SRR8712343.sra\n",
            "rm: cannot remove 'SRR8712343_3.fastq.qz': No such file or directory\n",
            "\n",
            "2020-11-13T19:57:54 prefetch.2.10.8: 1) Downloading 'SRR8712344'...\n",
            "2020-11-13T19:57:54 prefetch.2.10.8:  Downloading via HTTPS...\n",
            "2020-11-13T19:58:43 prefetch.2.10.8:  HTTPS download succeed\n",
            "2020-11-13T19:58:52 prefetch.2.10.8:  'SRR8712344' is valid\n",
            "2020-11-13T19:58:52 prefetch.2.10.8: 1) 'SRR8712344' was downloaded successfully\n",
            "2020-11-13T19:58:52 prefetch.2.10.8: 'SRR8712344' has 0 unresolved dependencies\n",
            "Read 65495703 spots for SRR8712344/SRR8712344.sra\n",
            "Written 65495703 spots for SRR8712344/SRR8712344.sra\n",
            "rm: cannot remove 'SRR8712344_3.fastq.qz': No such file or directory\n",
            "\n",
            "2020-11-13T21:04:24 prefetch.2.10.8: 1) Downloading 'SRR8712345'...\n",
            "2020-11-13T21:04:24 prefetch.2.10.8:  Downloading via HTTPS...\n",
            "2020-11-13T21:05:26 prefetch.2.10.8:  HTTPS download succeed\n",
            "2020-11-13T21:05:34 prefetch.2.10.8:  'SRR8712345' is valid\n",
            "2020-11-13T21:05:34 prefetch.2.10.8: 1) 'SRR8712345' was downloaded successfully\n",
            "2020-11-13T21:05:34 prefetch.2.10.8: 'SRR8712345' has 0 unresolved dependencies\n",
            "Read 62932339 spots for SRR8712345/SRR8712345.sra\n",
            "Written 62932339 spots for SRR8712345/SRR8712345.sra\n",
            "rm: cannot remove 'SRR8712345_3.fastq.qz': No such file or directory\n"
          ],
          "name": "stdout"
        }
      ]
    },
    {
      "cell_type": "code",
      "metadata": {
        "id": "bmN2opl1qHSh"
      },
      "source": [
        "# Define fastq list to feed kb\n",
        "\n",
        "fastqs = []\n",
        "for sra in SRAs:\n",
        "  for read in SRAs_to_keep:\n",
        "    fastqs.append(sra + \"_\" + read + \".fastq.gz\")"
      ],
      "execution_count": null,
      "outputs": []
    },
    {
      "cell_type": "markdown",
      "metadata": {
        "id": "5tT2sVv2-XMD"
      },
      "source": [
        "## Metadata"
      ]
    },
    {
      "cell_type": "code",
      "metadata": {
        "id": "ggNFAQJCRh6P"
      },
      "source": [
        "# define the values for the analysis\n",
        "\n",
        "# accession id for the data\n",
        "id = \" GSE124494\"\n",
        "\n",
        "samp_id = [\"GSM3665016\"]\n",
        "\n",
        "no_samples = 1\n",
        "\n",
        "fastqs_per_sample = [8] \n",
        "\n",
        "sample_id = samp_id\n",
        "\n",
        "database_id = [id] * no_samples\n",
        "\n",
        "tissue = [\"blood\"] * no_samples\n",
        "\n",
        "cell_type = [\"peripheral blood mononuclear cells\"] * no_samples\n",
        "\n",
        "condition = [\"healthy donor\"] * no_samples\n",
        "\n",
        "species = [\"human\"] * no_samples\n",
        "\n",
        "technology = [\"10xv2\"] * no_samples\n",
        "\n",
        "paper = [\"Muus et al 2020\"] * no_samples\n",
        "\n",
        "figure = [\"Fig 1 a,b  ED Fig 1 a,b,c,d  ED Fig 2 a,b,c,d,e\"] * no_samples\n",
        "\n",
        "\n",
        "# Set string variables for kb functions\n",
        "\n",
        "species_kb = species[0]\n",
        "\n",
        "technology_kb = technology[0]"
      ],
      "execution_count": null,
      "outputs": []
    },
    {
      "cell_type": "markdown",
      "metadata": {
        "id": "FPwL0-_-KSAw"
      },
      "source": [
        "# Imports and installs"
      ]
    },
    {
      "cell_type": "code",
      "metadata": {
        "id": "1HSlUGZEp3oP",
        "colab": {
          "base_uri": "https://localhost:8080/"
        },
        "outputId": "08821100-1457-40d2-f779-6630212331cf"
      },
      "source": [
        "# install and import necessary software\n",
        "\n",
        "# Install kb and scanpy\n",
        "!pip -q install kb-python \n",
        "!pip -q install scanpy\n",
        "\n",
        "import re\n",
        "import os\n",
        "\n",
        "# Setup\n",
        "\n",
        "import anndata\n",
        "import pandas as pd\n",
        "import numpy as np\n",
        "import matplotlib.pyplot as plt\n",
        "import matplotlib as mpl\n",
        "import matplotlib.patches as mpatches\n",
        "import scanpy as sc\n",
        "from scipy import stats\n",
        "\n",
        "from collections import OrderedDict\n",
        "from sklearn.decomposition import TruncatedSVD\n",
        "from sklearn.manifold import TSNE\n",
        "from sklearn.preprocessing import scale\n",
        "\n",
        "from sklearn.cluster import KMeans\n",
        "from sklearn.preprocessing import normalize\n",
        "from sklearn.preprocessing import LabelEncoder\n",
        "from sklearn.neighbors import NeighborhoodComponentsAnalysis\n",
        "from matplotlib import cm\n",
        "from matplotlib.lines import Line2D\n",
        "\n",
        "def nd(arr):\n",
        "    return np.asarray(arr).reshape(-1)\n",
        "def yex(ax):\n",
        "    lims = [np.min([ax.get_xlim(), ax.get_ylim()]),\n",
        "            np.max([ax.get_xlim(), ax.get_ylim()])]\n",
        "\n",
        "    # now plot both limits against eachother\n",
        "    ax.plot(lims, lims, 'k-', alpha=0.75, zorder=0)\n",
        "    ax.set_aspect('equal')\n",
        "    ax.set_xlim(lims)\n",
        "    ax.set_ylim(lims)\n",
        "    return ax\n",
        "\n",
        "def trim_axs(axs, N):\n",
        "    \"\"\"little helper to massage the axs list to have correct length...\"\"\"\n",
        "    axs = axs.flat\n",
        "    for ax in axs[N:]:\n",
        "        ax.remove()\n",
        "    return axs[:N]\n",
        "\n",
        "import warnings\n",
        "warnings.filterwarnings('ignore')\n",
        "\n",
        "fsize=20\n",
        "\n",
        "plt.rcParams.update({'font.size': fsize})\n",
        "%config InlineBackend.figure_format = 'retina'"
      ],
      "execution_count": null,
      "outputs": [
        {
          "output_type": "stream",
          "text": [
            "\u001b[K     |████████████████████████████████| 35.4MB 103kB/s \n",
            "\u001b[K     |████████████████████████████████| 51kB 5.7MB/s \n",
            "\u001b[K     |████████████████████████████████| 122kB 46.7MB/s \n",
            "\u001b[K     |████████████████████████████████| 112kB 43.2MB/s \n",
            "\u001b[?25h  Building wheel for loompy (setup.py) ... \u001b[?25l\u001b[?25hdone\n",
            "  Building wheel for numpy-groupies (setup.py) ... \u001b[?25l\u001b[?25hdone\n",
            "\u001b[K     |████████████████████████████████| 7.7MB 5.6MB/s \n",
            "\u001b[K     |████████████████████████████████| 51kB 6.1MB/s \n",
            "\u001b[K     |████████████████████████████████| 61kB 7.1MB/s \n",
            "\u001b[?25h  Building wheel for sinfo (setup.py) ... \u001b[?25l\u001b[?25hdone\n"
          ],
          "name": "stdout"
        }
      ]
    },
    {
      "cell_type": "markdown",
      "metadata": {
        "id": "7V6FbosVrvP4"
      },
      "source": [
        "# Downloads: index"
      ]
    },
    {
      "cell_type": "code",
      "metadata": {
        "id": "PC9oETW1pE9t",
        "colab": {
          "base_uri": "https://localhost:8080/"
        },
        "outputId": "30319d84-bbde-429a-a551-a0fd2836870f"
      },
      "source": [
        "# Download the corresponding Kallisto index to fastq folder\n",
        "!kb ref -d $species_kb -i index.idx -g t2g.txt -f1 transcriptome.fasta"
      ],
      "execution_count": null,
      "outputs": [
        {
          "output_type": "stream",
          "text": [
            "[2020-11-13 23:39:31,140]    INFO Downloading files for human from https://caltech.box.com/shared/static/v1nm7lpnqz5syh8dyzdk2zs8bglncfib.gz to tmp/v1nm7lpnqz5syh8dyzdk2zs8bglncfib.gz\n",
            "[2020-11-13 23:41:15,813]    INFO Extracting files from tmp/v1nm7lpnqz5syh8dyzdk2zs8bglncfib.gz\n"
          ],
          "name": "stdout"
        }
      ]
    },
    {
      "cell_type": "markdown",
      "metadata": {
        "id": "VInyuq1Dp7iz"
      },
      "source": [
        "# Process fastq files (modify kb command according to fastqs list)\n"
      ]
    },
    {
      "cell_type": "code",
      "metadata": {
        "id": "F6FD32x-shPe",
        "colab": {
          "base_uri": "https://localhost:8080/"
        },
        "outputId": "30ada5d4-04e8-48f4-bba6-942ec6bccea6"
      },
      "source": [
        "fastqs"
      ],
      "execution_count": null,
      "outputs": [
        {
          "output_type": "execute_result",
          "data": {
            "text/plain": [
              "['SRR8712342_1.fastq.gz',\n",
              " 'SRR8712342_2.fastq.gz',\n",
              " 'SRR8712343_1.fastq.gz',\n",
              " 'SRR8712343_2.fastq.gz',\n",
              " 'SRR8712344_1.fastq.gz',\n",
              " 'SRR8712344_2.fastq.gz',\n",
              " 'SRR8712345_1.fastq.gz',\n",
              " 'SRR8712345_2.fastq.gz']"
            ]
          },
          "metadata": {
            "tags": []
          },
          "execution_count": 11
        }
      ]
    },
    {
      "cell_type": "code",
      "metadata": {
        "id": "5qFzPj-0kZTi",
        "colab": {
          "base_uri": "https://localhost:8080/"
        },
        "outputId": "a9c44de6-6007-4387-d787-75f8fa4d0396"
      },
      "source": [
        "if no_samples == 1:\n",
        "\n",
        "  # Write the kb count command as a string with all fastqs of the list as an input\n",
        "  cmd = \"kb count --h5ad -i index.idx -g t2g.txt -x \" + technology_kb + \" -o tccoutput\" + sample_id[0] + \" \"\\\n",
        "  + \"--filter bustools --tcc -t 2 --overwrite \" + \"'\" +  \"' '\".join(fastqs) + \"'\"\n",
        "  \n",
        "  # Execute it\n",
        "  !$cmd\n",
        "\n",
        "# If more than one sample, iterate through fastqs accordingly\n",
        "else:\n",
        "\n",
        "  # Initializa counter for fastq files\n",
        "  j = 0\n",
        "\n",
        "  # Loop over samples for analysis\n",
        "  for i in range(no_samples):\n",
        "\n",
        "    fastqs_to_analyze = fastqs[j:j + fastqs_per_sample[i]]\n",
        "    # Write the kb count command as a string\n",
        "    cmd = \"kb count --h5ad -i ../index.idx -g ../t2g.txt -x \" + technology_kb + \" -o tccoutput\" + sample_id[i] + \" \\\n",
        "    --filter bustools --tcc -t 2 --overwrite \" + \"'\" +  \"' '\".join(fastqs_to_analyze) + \"'\"\n",
        "\n",
        "    # Execute it\n",
        "    !$cmd\n",
        "\n",
        "    # Update j to move to the next set of fastq\n",
        "    j = j + fastqs_per_sample[i]\n",
        "\n",
        "\n",
        "\n",
        "\n",
        "\n",
        "\n",
        "results = {}\n",
        "tcc_results = {}\n",
        "for sample in sample_id:\n",
        "  # Read the filtered gene count matrix\n",
        "  results[\"data_\" + sample] = anndata.read(\"/content/result\" + sample)\n",
        "\n",
        "\n",
        "for sample in sample_id:\n",
        "  output = \"bus_raw_\" + sample + \"_from_gc\"\n",
        "  !mkdir $output\n",
        "  folder_tcc = \"tccoutput\" + sample\n",
        "\n",
        "  # read tcc matrix\n",
        "  tcc_results[sample] = anndata.read(folder_tcc + \"/counts_unfiltered/adata.h5ad\")\n",
        "  # apply gene count matrix's filter\n",
        "  tcc_results[sample] = tcc_results[sample][results[\"data_\" + sample].obs.index.values]\n",
        "  # transfer obs data\n",
        "  tcc_results[sample].obs = results[\"data_\" + sample].obs\n",
        "  # transfer metadata\n",
        "  tcc_results[sample].uns = results[\"data_\" + sample].uns\n",
        "  # write tcc matrix\n",
        "  tcc_results[sample].write(\"/content/tcc_\" + sample)\n",
        "  #gzip tcc matrix\n",
        "  cmd = \"gzip /content/tcc_\" + sample\n",
        "  !$cmd\n",
        "  #gzip unfiltered bus file\n",
        "  cmd = \"gzip \" + folder_tcc + \"/output.unfiltered.bus\"\n",
        "  !$cmd\n",
        "  # move and re-name bus file with sample id\n",
        "  cmd = \"mv \" + folder_tcc + \"/output.unfiltered.bus.gz \" + output + \"/\" + sample +\".unfiltered.bus.gz\"\n",
        "  !$cmd\n",
        "  # gzip all unfiltered counts\n",
        "  cmd = \"gzip \" + folder_tcc + \"/counts_unfiltered/*\"\n",
        "  !$cmd\n",
        "\n",
        "  # move unfiltered counts for both\n",
        "  cmd = \"mv \" + folder_tcc + \"/counts_unfiltered \" + output + \"/tcc_unfiltered\"\n",
        "  !$cmd\n",
        "\n",
        "  cmd = \"mv \" + folder_tcc + \"/*.json \" + output \n",
        "  !$cmd\n",
        "  # zip all files\n",
        "  cmd = \"zip -r \"+ output + \".zip \" + output\n",
        "  !$cmd\n",
        "\n"
      ],
      "execution_count": null,
      "outputs": [
        {
          "output_type": "stream",
          "text": [
            "[2020-11-14 00:30:37,426]    INFO Generating BUS file from\n",
            "[2020-11-14 00:30:37,426]    INFO         SRR8712342_1.fastq.gz\n",
            "[2020-11-14 00:30:37,426]    INFO         SRR8712342_2.fastq.gz\n",
            "[2020-11-14 00:30:37,426]    INFO         SRR8712343_1.fastq.gz\n",
            "[2020-11-14 00:30:37,426]    INFO         SRR8712343_2.fastq.gz\n",
            "[2020-11-14 00:30:37,427]    INFO         SRR8712344_1.fastq.gz\n",
            "[2020-11-14 00:30:37,427]    INFO         SRR8712344_2.fastq.gz\n",
            "[2020-11-14 00:30:37,427]    INFO         SRR8712345_1.fastq.gz\n",
            "[2020-11-14 00:30:37,427]    INFO         SRR8712345_2.fastq.gz\n",
            "[2020-11-14 01:30:11,201]    INFO Sorting BUS file outputGSM3665016/output.bus to tmp/output.s.bus\n",
            "[2020-11-14 01:32:52,288]    INFO Whitelist not provided\n",
            "[2020-11-14 01:32:52,289]    INFO Copying pre-packaged 10XV2 whitelist to outputGSM3665016\n",
            "[2020-11-14 01:32:52,445]    INFO Inspecting BUS file tmp/output.s.bus\n",
            "[2020-11-14 01:33:08,724]    INFO Correcting BUS records in tmp/output.s.bus to tmp/output.s.c.bus with whitelist outputGSM3665016/10xv2_whitelist.txt\n",
            "[2020-11-14 01:33:39,186]    INFO Sorting BUS file tmp/output.s.c.bus to outputGSM3665016/output.unfiltered.bus\n",
            "[2020-11-14 01:34:18,896]    INFO Generating count matrix outputGSM3665016/counts_unfiltered/cells_x_genes from BUS file outputGSM3665016/output.unfiltered.bus\n",
            "[2020-11-14 01:34:28,708]    INFO Converting matrix outputGSM3665016/counts_unfiltered/cells_x_genes.mtx to h5ad outputGSM3665016/counts_unfiltered/adata.h5ad\n",
            "[2020-11-14 01:34:35,899]    INFO Filtering with bustools\n",
            "[2020-11-14 01:34:35,899]    INFO Generating whitelist outputGSM3665016/filter_barcodes.txt from BUS file outputGSM3665016/output.unfiltered.bus\n",
            "[2020-11-14 01:34:36,290]    INFO Capturing records from BUS file outputGSM3665016/output.unfiltered.bus to tmp/output.filtered.bus with capture list outputGSM3665016/filter_barcodes.txt\n",
            "[2020-11-14 01:34:40,975]    INFO Sorting BUS file tmp/output.filtered.bus to outputGSM3665016/output.filtered.bus\n",
            "[2020-11-14 01:35:21,046]    INFO Generating count matrix outputGSM3665016/counts_filtered/cells_x_genes from BUS file outputGSM3665016/output.filtered.bus\n",
            "[2020-11-14 01:35:29,650]    INFO Converting matrix outputGSM3665016/counts_filtered/cells_x_genes.mtx to h5ad outputGSM3665016/counts_filtered/adata.h5ad\n"
          ],
          "name": "stdout"
        }
      ]
    }
  ]
}