{
  "nbformat": 4,
  "nbformat_minor": 0,
  "metadata": {
    "colab": {
      "name": "GSE114724_GSM3148575.ipynb",
      "provenance": [],
      "collapsed_sections": [],
      "toc_visible": true,
      "include_colab_link": true
    },
    "kernelspec": {
      "name": "python3",
      "display_name": "Python 3"
    }
  },
  "cells": [
    {
      "cell_type": "markdown",
      "metadata": {
        "id": "view-in-github",
        "colab_type": "text"
      },
      "source": [
        "<a href=\"https://colab.research.google.com/github/agalvezm/ACE2_scRNAseq/blob/master/tcc/GSE114724_GSM3148575.ipynb\" target=\"_parent\"><img src=\"https://colab.research.google.com/assets/colab-badge.svg\" alt=\"Open In Colab\"/></a>"
      ]
    },
    {
      "cell_type": "markdown",
      "metadata": {
        "id": "V9ryXluJsJw9"
      },
      "source": [
        "# GSE114724:GSM3148575"
      ]
    },
    {
      "cell_type": "code",
      "metadata": {
        "id": "ggNFAQJCRh6P"
      },
      "source": [
        "# define the values for the analysis\n",
        "\n",
        "# accession id for the data\n",
        "id = \"GSE114724\"\n",
        "samp_id = \"GSM3148575\"\n",
        "\n",
        "# If only bam available files, set bam = True, Fill link and filename\n",
        "bam = False\n",
        "\n",
        "if bam:\n",
        "  # Assign link to python variable\n",
        "  link_to_bam = \"ftp://ftp.sra.ebi.ac.uk/vol1/run/SRR638/SRR6389864/possorted_genome_bam.bam\"\n",
        "  \n",
        "  # Assigns the link to the bash variable BAM_LINK. To be used by wget\n",
        "  %env BAM_LINK=$link_to_bam\n",
        "\n",
        "  # Assign filename to python variable. Used to convert to fastq and remove bam file to fastq after conversion\n",
        "\n",
        "  bam_filename=\"possorted_genome_bam.bam\"\n",
        "\n",
        "if not bam:\n",
        "  fastqs = [\"ftp://ftp.sra.ebi.ac.uk/vol1/fastq/SRR719/006/SRR7191896/SRR7191896_1.fastq.gz\",\n",
        "            \"ftp://ftp.sra.ebi.ac.uk/vol1/fastq/SRR719/006/SRR7191896/SRR7191896_2.fastq.gz\",\n",
        "            \"ftp://ftp.sra.ebi.ac.uk/vol1/fastq/SRR719/007/SRR7191897/SRR7191897_1.fastq.gz\",\n",
        "            \"ftp://ftp.sra.ebi.ac.uk/vol1/fastq/SRR719/007/SRR7191897/SRR7191897_2.fastq.gz\",\n",
        "            \"ftp://ftp.sra.ebi.ac.uk/vol1/fastq/SRR719/008/SRR7191898/SRR7191898_1.fastq.gz\",\n",
        "            \"ftp://ftp.sra.ebi.ac.uk/vol1/fastq/SRR719/008/SRR7191898/SRR7191898_2.fastq.gz\",\n",
        "            \"ftp://ftp.sra.ebi.ac.uk/vol1/fastq/SRR719/009/SRR7191899/SRR7191899_1.fastq.gz\",\n",
        "            \"ftp://ftp.sra.ebi.ac.uk/vol1/fastq/SRR719/009/SRR7191899/SRR7191899_2.fastq.gz\"\n",
        "            ]\n"
      ],
      "execution_count": 1,
      "outputs": []
    },
    {
      "cell_type": "code",
      "metadata": {
        "id": "5R3tPDqnoJUn"
      },
      "source": [
        "no_samples = 1\n",
        "\n",
        "sample_id = [samp_id] * no_samples\n",
        "\n",
        "database_id = [id] * no_samples\n",
        "\n",
        "tissue = [\"mammary\"] * no_samples\n",
        "\n",
        "cell_type = [\"CD3+ leukocytes (breast tumor)\"] * no_samples\n",
        "\n",
        "condition = [\"BC09_TUMOR1\"] * no_samples\n",
        "\n",
        "species = [\"human\"] * no_samples\n",
        "\n",
        "technology = [\"10xv2\"] * no_samples\n",
        "\n",
        "paper = [\"Muus et al 2020\"] * no_samples\n",
        "\n",
        "figure = [\"Fig 1 a,b  ED Fig 1 a,b,c,d  ED Fig 2 a,b,c,d,e\"] * no_samples\n",
        "\n",
        "\n",
        "# Set string variables for kb functions\n",
        "\n",
        "species_kb = species[0]\n",
        "\n",
        "technology_kb = technology[0]"
      ],
      "execution_count": 2,
      "outputs": []
    },
    {
      "cell_type": "markdown",
      "metadata": {
        "id": "FPwL0-_-KSAw"
      },
      "source": [
        "# Imports and installs"
      ]
    },
    {
      "cell_type": "code",
      "metadata": {
        "id": "1HSlUGZEp3oP",
        "colab": {
          "base_uri": "https://localhost:8080/"
        },
        "outputId": "5ba00d47-57ab-486f-b1ff-7d5b2f0828dd"
      },
      "source": [
        "# install and import necessary software\n",
        "\n",
        "# Install kb and scanpy\n",
        "!pip -q install kb-python \n",
        "!pip -q install scanpy\n",
        "\n",
        "import re\n",
        "import os\n",
        "\n",
        "# Setup\n",
        "\n",
        "import anndata\n",
        "import pandas as pd\n",
        "import numpy as np\n",
        "import matplotlib.pyplot as plt\n",
        "import matplotlib as mpl\n",
        "import matplotlib.patches as mpatches\n",
        "import scanpy as sc\n",
        "from scipy import stats\n",
        "\n",
        "from collections import OrderedDict\n",
        "from sklearn.decomposition import TruncatedSVD\n",
        "from sklearn.manifold import TSNE\n",
        "from sklearn.preprocessing import scale\n",
        "\n",
        "from sklearn.cluster import KMeans\n",
        "from sklearn.preprocessing import normalize\n",
        "from sklearn.preprocessing import LabelEncoder\n",
        "from sklearn.neighbors import NeighborhoodComponentsAnalysis\n",
        "from matplotlib import cm\n",
        "from matplotlib.lines import Line2D\n",
        "\n",
        "def nd(arr):\n",
        "    return np.asarray(arr).reshape(-1)\n",
        "def yex(ax):\n",
        "    lims = [np.min([ax.get_xlim(), ax.get_ylim()]),\n",
        "            np.max([ax.get_xlim(), ax.get_ylim()])]\n",
        "\n",
        "    # now plot both limits against eachother\n",
        "    ax.plot(lims, lims, 'k-', alpha=0.75, zorder=0)\n",
        "    ax.set_aspect('equal')\n",
        "    ax.set_xlim(lims)\n",
        "    ax.set_ylim(lims)\n",
        "    return ax\n",
        "\n",
        "def trim_axs(axs, N):\n",
        "    \"\"\"little helper to massage the axs list to have correct length...\"\"\"\n",
        "    axs = axs.flat\n",
        "    for ax in axs[N:]:\n",
        "        ax.remove()\n",
        "    return axs[:N]\n",
        "\n",
        "import warnings\n",
        "warnings.filterwarnings('ignore')\n",
        "\n",
        "fsize=20\n",
        "\n",
        "plt.rcParams.update({'font.size': fsize})\n",
        "%config InlineBackend.figure_format = 'retina'"
      ],
      "execution_count": 3,
      "outputs": [
        {
          "output_type": "stream",
          "text": [
            "\u001b[K     |████████████████████████████████| 59.1MB 124kB/s \n",
            "\u001b[K     |████████████████████████████████| 122kB 29.1MB/s \n",
            "\u001b[K     |████████████████████████████████| 51kB 6.4MB/s \n",
            "\u001b[K     |████████████████████████████████| 10.3MB 20.9MB/s \n",
            "\u001b[K     |████████████████████████████████| 13.2MB 37.2MB/s \n",
            "\u001b[K     |████████████████████████████████| 112kB 43.1MB/s \n",
            "\u001b[K     |████████████████████████████████| 51kB 6.4MB/s \n",
            "\u001b[K     |████████████████████████████████| 71kB 8.2MB/s \n",
            "\u001b[?25h  Building wheel for loompy (setup.py) ... \u001b[?25l\u001b[?25hdone\n",
            "  Building wheel for numpy-groupies (setup.py) ... \u001b[?25l\u001b[?25hdone\n",
            "  Building wheel for sinfo (setup.py) ... \u001b[?25l\u001b[?25hdone\n"
          ],
          "name": "stdout"
        }
      ]
    },
    {
      "cell_type": "markdown",
      "metadata": {
        "id": "7V6FbosVrvP4"
      },
      "source": [
        "# Downloads: (bam (if bam) and index"
      ]
    },
    {
      "cell_type": "code",
      "metadata": {
        "id": "q46hw4zqKUPS"
      },
      "source": [
        "if bam:\n",
        "\n",
        "  # Install bamtofastq from 10x website (only bam files available)\n",
        "  !wget http://cf.10xgenomics.com/misc/bamtofastq-1.2.0\n",
        "  !chmod +x bamtofastq-1.2.0\n",
        "  # Download the bam file\n",
        "  !wget -- continue ${BAM_LINK}\n",
        "\n",
        "\n"
      ],
      "execution_count": 4,
      "outputs": []
    },
    {
      "cell_type": "code",
      "metadata": {
        "id": "tDQlrjtqNF0m"
      },
      "source": [
        "if bam:\n",
        "  # Convert to fastq\n",
        "  !./bamtofastq-1.2.0 --reads-per-fastq=500000000 $bam_filename ./fastqs\\\n",
        "\n",
        "  # Remove original bam file to save space\n",
        "  !rm $bam_filename\n"
      ],
      "execution_count": 5,
      "outputs": []
    },
    {
      "cell_type": "code",
      "metadata": {
        "id": "SXRDRphvqcLe"
      },
      "source": [
        "# Store fastq names on a list\n",
        "\n",
        "if bam:\n",
        "  # cd into fastqs folder\n",
        "  %cd /content/fastqs\n",
        "\n",
        "  #store the name of the folder generated by bamtofastq\n",
        "  _filename = os.listdir()[0]\n",
        "\n",
        "  # cd into that folder\n",
        "  %cd $_filename\n",
        "\n",
        "  # store fastq names in a list\n",
        "  fastqs = os.listdir()\n",
        "\n",
        "\n",
        "  # Remove I1 and R3 reads not relevant for our analysis\n",
        "\n",
        "  # Initialize list containing elements to remove\n",
        "  remov_elem = []\n",
        "\n",
        "  print (\"\\n\\nThis is the complete list of fastqs:\\n -----------\")\n",
        "  for elem in fastqs:\n",
        "    print (elem)\n",
        "\n",
        "  # Search index (I1 or R3) fastqs and remove them from list\n",
        "  for elem in fastqs:\n",
        "    if re.search(\"_R3_\", elem) or re.search(\"_I1_\", elem):\n",
        "      remov_elem = remov_elem +[elem]\n",
        "\n",
        "  fastqs = [elem for elem in fastqs if elem not in remov_elem] \n",
        "\n",
        "  print (\"\\n\\nThis is the filtered list of fastqs:\\n -----------\")\n",
        "  for elem in fastqs:\n",
        "    print (elem)\n"
      ],
      "execution_count": 6,
      "outputs": []
    },
    {
      "cell_type": "code",
      "metadata": {
        "id": "ZnFcqcSgjLBw"
      },
      "source": [
        "# Remove fastqs that wont be analyzed to save space\n",
        "if bam:\n",
        "  for elem in remov_elem:\n",
        "    !rm $elem"
      ],
      "execution_count": 7,
      "outputs": []
    },
    {
      "cell_type": "code",
      "metadata": {
        "id": "FLVS8aB7Dm6J"
      },
      "source": [
        "if bam:\n",
        "  # sort fastqs alphabetically to get R1 and R2 in order\n",
        "  fastqs = sorted(fastqs)"
      ],
      "execution_count": 8,
      "outputs": []
    },
    {
      "cell_type": "code",
      "metadata": {
        "id": "PC9oETW1pE9t",
        "colab": {
          "base_uri": "https://localhost:8080/"
        },
        "outputId": "a8057b6c-2870-443d-9079-c1a14ff7c9f2"
      },
      "source": [
        "if bam:\n",
        "  # Download the corresponding Kallisto index to folder containing fastqs\n",
        "  !kb ref -d $species_kb -i index.idx -g t2g.txt -f1 transcriptome.fasta\n",
        "\n",
        "if not bam:\n",
        "  %cd /content\n",
        "\n",
        "  # Download the corresponding Kallisto index to content folder\n",
        "  !kb ref -d $species_kb -i index.idx -g t2g.txt -f1 transcriptome.fasta"
      ],
      "execution_count": 9,
      "outputs": [
        {
          "output_type": "stream",
          "text": [
            "/content\n",
            "[2021-03-01 02:33:22,403]    INFO Downloading files for human from https://caltech.box.com/shared/static/v1nm7lpnqz5syh8dyzdk2zs8bglncfib.gz to tmp/v1nm7lpnqz5syh8dyzdk2zs8bglncfib.gz\n",
            "100% 2.23G/2.23G [01:33<00:00, 25.5MB/s]\n",
            "[2021-03-01 02:34:57,472]    INFO Extracting files from tmp/v1nm7lpnqz5syh8dyzdk2zs8bglncfib.gz\n"
          ],
          "name": "stdout"
        }
      ]
    },
    {
      "cell_type": "code",
      "metadata": {
        "id": "vHVNa51Cp9Nr",
        "colab": {
          "base_uri": "https://localhost:8080/"
        },
        "outputId": "fe92ccce-2fd0-4043-d116-8dcb10108396"
      },
      "source": [
        "print(fastqs)"
      ],
      "execution_count": 10,
      "outputs": [
        {
          "output_type": "stream",
          "text": [
            "['ftp://ftp.sra.ebi.ac.uk/vol1/fastq/SRR719/006/SRR7191896/SRR7191896_1.fastq.gz', 'ftp://ftp.sra.ebi.ac.uk/vol1/fastq/SRR719/006/SRR7191896/SRR7191896_2.fastq.gz', 'ftp://ftp.sra.ebi.ac.uk/vol1/fastq/SRR719/007/SRR7191897/SRR7191897_1.fastq.gz', 'ftp://ftp.sra.ebi.ac.uk/vol1/fastq/SRR719/007/SRR7191897/SRR7191897_2.fastq.gz', 'ftp://ftp.sra.ebi.ac.uk/vol1/fastq/SRR719/008/SRR7191898/SRR7191898_1.fastq.gz', 'ftp://ftp.sra.ebi.ac.uk/vol1/fastq/SRR719/008/SRR7191898/SRR7191898_2.fastq.gz', 'ftp://ftp.sra.ebi.ac.uk/vol1/fastq/SRR719/009/SRR7191899/SRR7191899_1.fastq.gz', 'ftp://ftp.sra.ebi.ac.uk/vol1/fastq/SRR719/009/SRR7191899/SRR7191899_2.fastq.gz']\n"
          ],
          "name": "stdout"
        }
      ]
    },
    {
      "cell_type": "markdown",
      "metadata": {
        "id": "VInyuq1Dp7iz"
      },
      "source": [
        "# Process fastq files (modify kb command according to fastqs list)\n"
      ]
    },
    {
      "cell_type": "code",
      "metadata": {
        "id": "OcqtBuH-pRaX",
        "colab": {
          "base_uri": "https://localhost:8080/"
        },
        "outputId": "5fd10208-b7a3-4d50-c23c-684a707eca93"
      },
      "source": [
        "fastqs"
      ],
      "execution_count": 11,
      "outputs": [
        {
          "output_type": "execute_result",
          "data": {
            "text/plain": [
              "['ftp://ftp.sra.ebi.ac.uk/vol1/fastq/SRR719/006/SRR7191896/SRR7191896_1.fastq.gz',\n",
              " 'ftp://ftp.sra.ebi.ac.uk/vol1/fastq/SRR719/006/SRR7191896/SRR7191896_2.fastq.gz',\n",
              " 'ftp://ftp.sra.ebi.ac.uk/vol1/fastq/SRR719/007/SRR7191897/SRR7191897_1.fastq.gz',\n",
              " 'ftp://ftp.sra.ebi.ac.uk/vol1/fastq/SRR719/007/SRR7191897/SRR7191897_2.fastq.gz',\n",
              " 'ftp://ftp.sra.ebi.ac.uk/vol1/fastq/SRR719/008/SRR7191898/SRR7191898_1.fastq.gz',\n",
              " 'ftp://ftp.sra.ebi.ac.uk/vol1/fastq/SRR719/008/SRR7191898/SRR7191898_2.fastq.gz',\n",
              " 'ftp://ftp.sra.ebi.ac.uk/vol1/fastq/SRR719/009/SRR7191899/SRR7191899_1.fastq.gz',\n",
              " 'ftp://ftp.sra.ebi.ac.uk/vol1/fastq/SRR719/009/SRR7191899/SRR7191899_2.fastq.gz']"
            ]
          },
          "metadata": {
            "tags": []
          },
          "execution_count": 11
        }
      ]
    },
    {
      "cell_type": "code",
      "metadata": {
        "id": "5qFzPj-0kZTi",
        "colab": {
          "base_uri": "https://localhost:8080/"
        },
        "outputId": "405b0b2e-d66d-4f3f-972a-d7c2e7f11d20"
      },
      "source": [
        "# Specify the sample number and whether they are paired-ended\n",
        "number_of_samples = 1\n",
        "paired_ended = True\n",
        "\n",
        "if number_of_samples == 1:\n",
        "\n",
        "  # Write the kb count command as a string with all fastqs of the list as an input\n",
        "  cmd = \"kb count --h5ad -i index.idx -g t2g.txt -x \" + technology_kb + \" -o output\" + sample_id[0] + \" \"\\\n",
        "  + \"--filter bustools -t 2 --overwrite \" + \"'\" +  \"' '\".join(fastqs) + \"'\"\n",
        "  \n",
        "  # Execute it\n",
        "  !$cmd\n",
        "\n",
        "# If more than one sample, iterate through fastqs accordingly\n",
        "else:\n",
        "\n",
        "  # Initializa counter for fastq files\n",
        "  j = 0\n",
        "\n",
        "  # Loop over samples for analysis\n",
        "  for i in range(number_of_samples):\n",
        "\n",
        "    # Write the kb count command as a string\n",
        "    cmd = \"kb count --h5ad -i index.idx -g t2g.txt -x \" + technology_kb + \" -o output\" + sample_id[i] + \" \\\n",
        "    --filter bustools -t 2 --overwrite \" +\\\n",
        "    fastqs[j] + \" \" + fastqs[j+1]\n",
        "\n",
        "    # Execute it\n",
        "    !$cmd\n",
        "\n",
        "    # Update j to move to the next fastq\n",
        "    if paired_ended:\n",
        "      j = j + 2\n",
        "    else:\n",
        "      j = j + 1\n",
        "\n",
        "\n"
      ],
      "execution_count": 12,
      "outputs": [
        {
          "output_type": "stream",
          "text": [
            "[2021-03-01 02:35:37,944]    INFO Piping ftp://ftp.sra.ebi.ac.uk/vol1/fastq/SRR719/006/SRR7191896/SRR7191896_1.fastq.gz to outputGSM3148575/tmp/SRR7191896_1.fastq.gz\n",
            "[2021-03-01 02:35:37,946]    INFO Piping ftp://ftp.sra.ebi.ac.uk/vol1/fastq/SRR719/006/SRR7191896/SRR7191896_2.fastq.gz to outputGSM3148575/tmp/SRR7191896_2.fastq.gz\n",
            "[2021-03-01 02:35:37,946]    INFO Piping ftp://ftp.sra.ebi.ac.uk/vol1/fastq/SRR719/007/SRR7191897/SRR7191897_1.fastq.gz to outputGSM3148575/tmp/SRR7191897_1.fastq.gz\n",
            "[2021-03-01 02:35:37,947]    INFO Piping ftp://ftp.sra.ebi.ac.uk/vol1/fastq/SRR719/007/SRR7191897/SRR7191897_2.fastq.gz to outputGSM3148575/tmp/SRR7191897_2.fastq.gz\n",
            "[2021-03-01 02:35:37,947]    INFO Piping ftp://ftp.sra.ebi.ac.uk/vol1/fastq/SRR719/008/SRR7191898/SRR7191898_1.fastq.gz to outputGSM3148575/tmp/SRR7191898_1.fastq.gz\n",
            "[2021-03-01 02:35:37,948]    INFO Piping ftp://ftp.sra.ebi.ac.uk/vol1/fastq/SRR719/008/SRR7191898/SRR7191898_2.fastq.gz to outputGSM3148575/tmp/SRR7191898_2.fastq.gz\n",
            "[2021-03-01 02:35:37,948]    INFO Piping ftp://ftp.sra.ebi.ac.uk/vol1/fastq/SRR719/009/SRR7191899/SRR7191899_1.fastq.gz to outputGSM3148575/tmp/SRR7191899_1.fastq.gz\n",
            "[2021-03-01 02:35:37,949]    INFO Piping ftp://ftp.sra.ebi.ac.uk/vol1/fastq/SRR719/009/SRR7191899/SRR7191899_2.fastq.gz to outputGSM3148575/tmp/SRR7191899_2.fastq.gz\n",
            "[2021-03-01 02:35:37,950]    INFO Using index index.idx to generate BUS file to outputGSM3148575 from\n",
            "[2021-03-01 02:35:37,950]    INFO         outputGSM3148575/tmp/SRR7191896_1.fastq.gz\n",
            "[2021-03-01 02:35:37,950]    INFO         outputGSM3148575/tmp/SRR7191896_2.fastq.gz\n",
            "[2021-03-01 02:35:37,950]    INFO         outputGSM3148575/tmp/SRR7191897_1.fastq.gz\n",
            "[2021-03-01 02:35:37,950]    INFO         outputGSM3148575/tmp/SRR7191897_2.fastq.gz\n",
            "[2021-03-01 02:35:37,951]    INFO         outputGSM3148575/tmp/SRR7191898_1.fastq.gz\n",
            "[2021-03-01 02:35:37,951]    INFO         outputGSM3148575/tmp/SRR7191898_2.fastq.gz\n",
            "[2021-03-01 02:35:37,951]    INFO         outputGSM3148575/tmp/SRR7191899_1.fastq.gz\n",
            "[2021-03-01 02:35:37,951]    INFO         outputGSM3148575/tmp/SRR7191899_2.fastq.gz\n",
            "Exception in thread Thread-4:\n",
            "Traceback (most recent call last):\n",
            "  File \"/usr/lib/python3.7/threading.py\", line 926, in _bootstrap_inner\n",
            "    self.run()\n",
            "  File \"/usr/lib/python3.7/threading.py\", line 870, in run\n",
            "    self._target(*self._args, **self._kwargs)\n",
            "  File \"/usr/lib/python3.7/urllib/request.py\", line 276, in urlretrieve\n",
            "    block = fp.read(bs)\n",
            "  File \"/usr/lib/python3.7/tempfile.py\", line 620, in func_wrapper\n",
            "    return func(*args, **kwargs)\n",
            "  File \"/usr/lib/python3.7/tempfile.py\", line 620, in func_wrapper\n",
            "    return func(*args, **kwargs)\n",
            "  File \"/usr/lib/python3.7/socket.py\", line 589, in readinto\n",
            "    return self._sock.recv_into(b)\n",
            "ConnectionResetError: [Errno 104] Connection reset by peer\n",
            "\n",
            "Exception in thread Thread-3:\n",
            "Traceback (most recent call last):\n",
            "  File \"/usr/lib/python3.7/threading.py\", line 926, in _bootstrap_inner\n",
            "    self.run()\n",
            "  File \"/usr/lib/python3.7/threading.py\", line 870, in run\n",
            "    self._target(*self._args, **self._kwargs)\n",
            "  File \"/usr/lib/python3.7/urllib/request.py\", line 276, in urlretrieve\n",
            "    block = fp.read(bs)\n",
            "  File \"/usr/lib/python3.7/tempfile.py\", line 620, in func_wrapper\n",
            "    return func(*args, **kwargs)\n",
            "  File \"/usr/lib/python3.7/tempfile.py\", line 620, in func_wrapper\n",
            "    return func(*args, **kwargs)\n",
            "  File \"/usr/lib/python3.7/socket.py\", line 589, in readinto\n",
            "    return self._sock.recv_into(b)\n",
            "ConnectionResetError: [Errno 104] Connection reset by peer\n",
            "\n",
            "Exception in thread Thread-5:\n",
            "Traceback (most recent call last):\n",
            "  File \"/usr/lib/python3.7/threading.py\", line 926, in _bootstrap_inner\n",
            "    self.run()\n",
            "  File \"/usr/lib/python3.7/threading.py\", line 870, in run\n",
            "    self._target(*self._args, **self._kwargs)\n",
            "  File \"/usr/lib/python3.7/urllib/request.py\", line 276, in urlretrieve\n",
            "    block = fp.read(bs)\n",
            "  File \"/usr/lib/python3.7/tempfile.py\", line 620, in func_wrapper\n",
            "    return func(*args, **kwargs)\n",
            "  File \"/usr/lib/python3.7/tempfile.py\", line 620, in func_wrapper\n",
            "    return func(*args, **kwargs)\n",
            "  File \"/usr/lib/python3.7/socket.py\", line 589, in readinto\n",
            "    return self._sock.recv_into(b)\n",
            "ConnectionResetError: [Errno 104] Connection reset by peer\n",
            "\n",
            "Exception in thread Thread-6:\n",
            "Traceback (most recent call last):\n",
            "  File \"/usr/lib/python3.7/threading.py\", line 926, in _bootstrap_inner\n",
            "    self.run()\n",
            "  File \"/usr/lib/python3.7/threading.py\", line 870, in run\n",
            "    self._target(*self._args, **self._kwargs)\n",
            "  File \"/usr/lib/python3.7/urllib/request.py\", line 276, in urlretrieve\n",
            "    block = fp.read(bs)\n",
            "  File \"/usr/lib/python3.7/tempfile.py\", line 620, in func_wrapper\n",
            "    return func(*args, **kwargs)\n",
            "  File \"/usr/lib/python3.7/tempfile.py\", line 620, in func_wrapper\n",
            "    return func(*args, **kwargs)\n",
            "  File \"/usr/lib/python3.7/socket.py\", line 589, in readinto\n",
            "    return self._sock.recv_into(b)\n",
            "ConnectionResetError: [Errno 104] Connection reset by peer\n",
            "\n",
            "Exception in thread Thread-8:\n",
            "Traceback (most recent call last):\n",
            "  File \"/usr/lib/python3.7/threading.py\", line 926, in _bootstrap_inner\n",
            "    self.run()\n",
            "  File \"/usr/lib/python3.7/threading.py\", line 870, in run\n",
            "    self._target(*self._args, **self._kwargs)\n",
            "  File \"/usr/lib/python3.7/urllib/request.py\", line 276, in urlretrieve\n",
            "    block = fp.read(bs)\n",
            "  File \"/usr/lib/python3.7/tempfile.py\", line 620, in func_wrapper\n",
            "    return func(*args, **kwargs)\n",
            "  File \"/usr/lib/python3.7/tempfile.py\", line 620, in func_wrapper\n",
            "    return func(*args, **kwargs)\n",
            "  File \"/usr/lib/python3.7/socket.py\", line 589, in readinto\n",
            "    return self._sock.recv_into(b)\n",
            "ConnectionResetError: [Errno 104] Connection reset by peer\n",
            "\n",
            "Exception in thread Thread-7:\n",
            "Traceback (most recent call last):\n",
            "  File \"/usr/lib/python3.7/threading.py\", line 926, in _bootstrap_inner\n",
            "    self.run()\n",
            "  File \"/usr/lib/python3.7/threading.py\", line 870, in run\n",
            "    self._target(*self._args, **self._kwargs)\n",
            "  File \"/usr/lib/python3.7/urllib/request.py\", line 276, in urlretrieve\n",
            "    block = fp.read(bs)\n",
            "  File \"/usr/lib/python3.7/tempfile.py\", line 620, in func_wrapper\n",
            "    return func(*args, **kwargs)\n",
            "  File \"/usr/lib/python3.7/tempfile.py\", line 620, in func_wrapper\n",
            "    return func(*args, **kwargs)\n",
            "  File \"/usr/lib/python3.7/socket.py\", line 589, in readinto\n",
            "    return self._sock.recv_into(b)\n",
            "ConnectionResetError: [Errno 104] Connection reset by peer\n",
            "\n",
            "[2021-03-01 02:44:51,268]    INFO Sorting BUS file outputGSM3148575/output.bus to outputGSM3148575/tmp/output.s.bus\n",
            "[2021-03-01 02:45:12,277]    INFO Whitelist not provided\n",
            "[2021-03-01 02:45:12,278]    INFO Copying pre-packaged 10XV2 whitelist to outputGSM3148575\n",
            "[2021-03-01 02:45:12,384]    INFO Inspecting BUS file outputGSM3148575/tmp/output.s.bus\n",
            "[2021-03-01 02:45:24,101]    INFO Correcting BUS records in outputGSM3148575/tmp/output.s.bus to outputGSM3148575/tmp/output.s.c.bus with whitelist outputGSM3148575/10xv2_whitelist.txt\n",
            "[2021-03-01 02:45:33,369]    INFO Sorting BUS file outputGSM3148575/tmp/output.s.c.bus to outputGSM3148575/output.unfiltered.bus\n",
            "[2021-03-01 02:45:49,666]    INFO Generating count matrix outputGSM3148575/counts_unfiltered/cells_x_genes from BUS file outputGSM3148575/output.unfiltered.bus\n",
            "[2021-03-01 02:46:14,815]    INFO Reading matrix outputGSM3148575/counts_unfiltered/cells_x_genes.mtx\n",
            "[2021-03-01 02:46:29,414]    INFO Writing matrix to h5ad outputGSM3148575/counts_unfiltered/adata.h5ad\n",
            "[2021-03-01 02:46:30,199]    INFO Filtering with bustools\n",
            "[2021-03-01 02:46:30,199]    INFO Generating whitelist outputGSM3148575/filter_barcodes.txt from BUS file outputGSM3148575/output.unfiltered.bus\n",
            "[2021-03-01 02:46:30,400]    INFO Correcting BUS records in outputGSM3148575/output.unfiltered.bus to outputGSM3148575/tmp/output.unfiltered.c.bus with whitelist outputGSM3148575/filter_barcodes.txt\n",
            "[2021-03-01 02:46:37,700]    INFO Sorting BUS file outputGSM3148575/tmp/output.unfiltered.c.bus to outputGSM3148575/output.filtered.bus\n",
            "[2021-03-01 02:46:54,854]    INFO Generating count matrix outputGSM3148575/counts_filtered/cells_x_genes from BUS file outputGSM3148575/output.filtered.bus\n",
            "[2021-03-01 02:47:18,027]    INFO Reading matrix outputGSM3148575/counts_filtered/cells_x_genes.mtx\n",
            "[2021-03-01 02:47:31,052]    INFO Writing matrix to h5ad outputGSM3148575/counts_filtered/adata.h5ad\n"
          ],
          "name": "stdout"
        }
      ]
    },
    {
      "cell_type": "code",
      "metadata": {
        "id": "FBvaFl4vjF0Z",
        "colab": {
          "base_uri": "https://localhost:8080/",
          "height": 52
        },
        "outputId": "d96e1009-e1cd-425f-b656-770ffc7a0845"
      },
      "source": [
        "# sound notification when analysis is complete\n",
        "\n",
        "import IPython.display as display\n",
        "display.Audio(url=\"https://static.sfdict.com/audio/C07/C0702600.mp3\", autoplay=True)"
      ],
      "execution_count": 13,
      "outputs": [
        {
          "output_type": "execute_result",
          "data": {
            "text/html": [
              "\n",
              "                <audio controls=\"controls\" autoplay=\"autoplay\">\n",
              "                    <source src=\"https://static.sfdict.com/audio/C07/C0702600.mp3\" type=\"audio/mpeg\" />\n",
              "                    Your browser does not support the audio element.\n",
              "                </audio>\n",
              "              "
            ],
            "text/plain": [
              "<IPython.lib.display.Audio object>"
            ]
          },
          "metadata": {
            "tags": []
          },
          "execution_count": 13
        }
      ]
    },
    {
      "cell_type": "markdown",
      "metadata": {
        "id": "tDijOZzrqhN2"
      },
      "source": [
        "# Load unfiltered matrix and assign filters to each matrix individually"
      ]
    },
    {
      "cell_type": "markdown",
      "metadata": {
        "id": "VkNLZh_pNFFw"
      },
      "source": [
        "## Load the unfiltered matrix (check dimensions)"
      ]
    },
    {
      "cell_type": "code",
      "metadata": {
        "id": "PppRNeV8AIyw"
      },
      "source": [
        "# Define dict to store data\n",
        "results = {}\n"
      ],
      "execution_count": 14,
      "outputs": []
    },
    {
      "cell_type": "code",
      "metadata": {
        "id": "pKmtGf3c_BiZ",
        "cellView": "both",
        "colab": {
          "base_uri": "https://localhost:8080/"
        },
        "outputId": "48f9bc45-071c-49bd-aaeb-471eb7ed916a"
      },
      "source": [
        "# load the unfiltered matrix\n",
        "for i in range(number_of_samples):\n",
        "  results[sample_id[i]] = anndata.read_h5ad(\"output\" + sample_id[i] + \"/counts_unfiltered/adata.h5ad\")\n",
        "  results[sample_id[i]].var[\"gene_id\"] = results[sample_id[i]].var.index.values\n",
        "\n",
        "  t2g = pd.read_csv(\"t2g.txt\", header=None, names=[\"tid\", \"gene_id\", \"gene_name\"], sep=\"\\t\")\n",
        "  t2g.index = t2g.gene_id\n",
        "  t2g = t2g.loc[~t2g.index.duplicated(keep='first')]\n",
        "\n",
        "  results[sample_id[i]].var[\"gene_name\"] = results[sample_id[i]].var.gene_id.map(t2g[\"gene_name\"])\n",
        "  results[sample_id[i]].var.index = results[sample_id[i]].var[\"gene_name\"]\n",
        "  print(\"The unfiltered matrix \" + sample_id[i] + \" contains {} cells by {} genes\".format(len(results[sample_id[i]].obs), len(results[sample_id[i]].var)))\n",
        "\n",
        "  results[sample_id[i]].obs[\"cell_counts\"] = results[sample_id[i]].X.sum(axis=1)\n",
        "  results[sample_id[i]].var[\"gene_counts\"] = nd(results[sample_id[i]].X.sum(axis=0))\n",
        "\n",
        "  results[sample_id[i]].obs[\"n_genes\"] = nd((results[sample_id[i]].X>0).sum(axis=1))\n",
        "  results[sample_id[i]].var[\"n_cells\"] = nd((results[sample_id[i]].X>0).sum(axis=0))\n",
        "\n",
        "  mito_genes = results[sample_id[i]].var_names.str.startswith(\"MT-\" or \"mt-\") \n",
        "  results[sample_id[i]].obs[\"percent_mito\"] = results[sample_id[i]][:,mito_genes].X.sum(axis=1)/results[sample_id[i]].X.sum(axis=1)*100\n",
        "\n",
        "  # Changing the name of the index is necessary to write the file (it won't work with duplicated names)\n",
        "  results[sample_id[i]].var.index.name = \"index\"\n",
        "\n"
      ],
      "execution_count": 15,
      "outputs": [
        {
          "output_type": "stream",
          "text": [
            "The unfiltered matrix GSM3148575 contains 236545 cells by 60623 genes\n"
          ],
          "name": "stdout"
        }
      ]
    },
    {
      "cell_type": "markdown",
      "metadata": {
        "id": "hDAUH3eH_2RA"
      },
      "source": [
        "## Assign filters for each matrix individually"
      ]
    },
    {
      "cell_type": "code",
      "metadata": {
        "id": "ukinuaKk_6Po"
      },
      "source": [
        "# Modify this manually to change sample after having assigned the \"expected_num_cells\" and \"mito_criteria\" parameters\n",
        "samp_n = 0\n",
        "\n",
        "\n",
        "# Filtering criteria\n",
        "cell_threshold = 100\n",
        "gene_threshold = 3\n",
        "\n",
        "mito_criteria = 30"
      ],
      "execution_count": 16,
      "outputs": []
    },
    {
      "cell_type": "code",
      "metadata": {
        "id": "a5wZB5pEfwNs",
        "cellView": "form",
        "colab": {
          "base_uri": "https://localhost:8080/",
          "height": 708
        },
        "outputId": "1973173c-b3c0-4f71-9cbe-09dab7e29fd2"
      },
      "source": [
        "\n",
        "expected_num_cells = 8500#@param {type:\"integer\"}\n",
        "knee = np.sort(nd(results[sample_id[i]].X.sum(axis=1)))[::-1]\n",
        "\n",
        "fig, ax = plt.subplots(figsize=(5, 5))\n",
        "\n",
        "x = knee\n",
        "y = range(len(knee))\n",
        "\n",
        "ax.loglog(x, y, linewidth=5, color=\"g\")\n",
        "\n",
        "ax.axvline(x=knee[expected_num_cells], linewidth=3, color=\"k\")\n",
        "ax.axhline(y=expected_num_cells, linewidth=3, color=\"k\")\n",
        "\n",
        "ax.set_xlabel(\"UMI Counts\")\n",
        "ax.set_ylabel(\"Set of Barcodes\")\n",
        "\n",
        "plt.show()\n",
        "\n",
        "cell_threshold = knee[expected_num_cells]\n",
        "\n",
        "results[\"cell_threshold\" + sample_id[samp_n]] = knee[expected_num_cells]\n",
        "\n",
        "print (\"Cells were filtered down to \" + str(expected_num_cells) + \" with at least \" + str(cell_threshold) + \" UMIs\")\n",
        "\n",
        "\n",
        "mito_criteria = 30#@param {type:\"integer\"}\n",
        "results[\"mito_criteria\" + sample_id[samp_n]] = mito_criteria\n",
        "\n",
        "fig, ax = plt.subplots(figsize=(5,5))\n",
        "\n",
        "\n",
        "x = nd(results[sample_id[i]].obs[\"cell_counts\"][results[sample_id[i]].obs[\"cell_counts\"] > cell_threshold])\n",
        "y = nd(results[sample_id[i]].obs[\"percent_mito\"][results[sample_id[i]].obs[\"cell_counts\"] > cell_threshold])\n",
        "\n",
        "ax.scatter(x, y, color=\"green\", alpha=0.1)\n",
        "\n",
        "ax.axhline(y=mito_criteria, linestyle=\"--\", color=\"k\")\n",
        "\n",
        "\n",
        "ax.set_xlabel(\"UMI Counts\")\n",
        "ax.set_ylabel(\"Percent mito\")\n",
        "\n",
        "\n",
        "plt.show()\n",
        "\n",
        "print(\"We select \" + str(mito_criteria) + \" % as the mitochondrial content threshold\")"
      ],
      "execution_count": 17,
      "outputs": [
        {
          "output_type": "display_data",
          "data": {
            "image/png": "[encoded data removed]",
            "text/plain": [
              "<Figure size 360x360 with 1 Axes>"
            ]
          },
          "metadata": {
            "tags": [],
            "image/png": {
              "width": 358,
              "height": 337
            },
            "needs_background": "light"
          }
        },
        {
          "output_type": "stream",
          "text": [
            "Cells were filtered down to 8500 with at least 29.0 UMIs\n"
          ],
          "name": "stdout"
        },
        {
          "output_type": "display_data",
          "data": {
            "image/png": "[encoded data removed]",
            "text/plain": [
              "<Figure size 360x360 with 1 Axes>"
            ]
          },
          "metadata": {
            "tags": [],
            "image/png": {
              "width": 362,
              "height": 337
            },
            "needs_background": "light"
          }
        }
      ]
    },
    {
      "cell_type": "markdown",
      "metadata": {
        "id": "eP9j2ouPq9KY"
      },
      "source": [
        "# Filter matrix"
      ]
    },
    {
      "cell_type": "code",
      "metadata": {
        "id": "sE51WUA3gVmG",
        "colab": {
          "base_uri": "https://localhost:8080/"
        },
        "outputId": "b8cede46-34a8-40fa-df8e-fc4702b9b8dc"
      },
      "source": [
        "for i in range(number_of_samples):\n",
        "  results[sample_id[i]].obs[\"pass_count_filter\"] = results[sample_id[i]].obs[\"cell_counts\"] > results[\"cell_threshold\" + sample_id[i]]\n",
        "  results[sample_id[i]].obs[\"pass_mito_filter\"] = results[sample_id[i]].obs.percent_mito < results[\"mito_criteria\" + sample_id[i]]\n",
        "  results[sample_id[i]].var[\"pass_gene_filter\"] = results[sample_id[i]].var[\"n_cells\"] > gene_threshold\n",
        "\n",
        "  cell_mask = np.logical_and(results[sample_id[i]].obs[\"pass_count_filter\"].values, results[sample_id[i]].obs[\"pass_mito_filter\"].values)\n",
        "  gene_mask = results[sample_id[i]].var[\"pass_gene_filter\"].values\n",
        "\n",
        "  print(\"Current Shape: {:,} cells x {:,} genes\".format(results[sample_id[i]].shape[0], results[sample_id[i]].shape[1]))\n",
        "  print(\"    New shape: {:,} cells x {:,} genes\".format(cell_mask.sum(), gene_mask.sum()))\n",
        "  results[\"data_\" + sample_id[i]] = results[sample_id[i]][cell_mask, gene_mask]"
      ],
      "execution_count": 18,
      "outputs": [
        {
          "output_type": "stream",
          "text": [
            "We select 30 % as the mitochondrial content threshold\n",
            "Current Shape: 236,545 cells x 60,623 genes\n",
            "    New shape: 7,724 cells x 20,735 genes\n"
          ],
          "name": "stdout"
        }
      ]
    },
    {
      "cell_type": "markdown",
      "metadata": {
        "id": "BxPA81yj4TlU"
      },
      "source": [
        "# Anotate and write the Anndata object"
      ]
    },
    {
      "cell_type": "code",
      "metadata": {
        "id": "O-q_Qj2U4kDU",
        "colab": {
          "base_uri": "https://localhost:8080/"
        },
        "outputId": "f78467cf-92ba-4eaa-d69e-0360f371be22"
      },
      "source": [
        "for i in range(number_of_samples):\n",
        "\n",
        "\n",
        "  results[\"data_\" + sample_id[i]].uns[\"database_id\"] = database_id[samp_n]\n",
        "\n",
        "  results[\"data_\" + sample_id[i]].uns[\"tissue\"] = tissue[samp_n]\n",
        "\n",
        "  results[\"data_\" + sample_id[i]].uns[\"cell_type\"] = cell_type[samp_n]\n",
        "\n",
        "  results[\"data_\" + sample_id[i]].uns[\"sample_id\"] = sample_id[samp_n]\n",
        "\n",
        "  results[\"data_\" + sample_id[i]].uns[\"condition\"] = condition[samp_n]\n",
        "\n",
        "  results[\"data_\" + sample_id[i]].uns[\"species\"] = species[samp_n]\n",
        "\n",
        "  results[\"data_\" + sample_id[i]].uns[\"technology\"] = technology[samp_n]\n",
        "\n",
        "  results[\"data_\" + sample_id[i]].uns[\"paper\"] = paper[samp_n]\n",
        "\n",
        "  results[\"data_\" + sample_id[i]].uns[\"figure\"] = figure[samp_n]"
      ],
      "execution_count": 19,
      "outputs": [
        {
          "output_type": "stream",
          "text": [
            "Trying to set attribute `.uns` of view, copying.\n",
            "Variable names are not unique. To make them unique, call `.var_names_make_unique`.\n",
            "Variable names are not unique. To make them unique, call `.var_names_make_unique`.\n"
          ],
          "name": "stderr"
        }
      ]
    },
    {
      "cell_type": "code",
      "metadata": {
        "id": "ICc77J94_Kye",
        "colab": {
          "base_uri": "https://localhost:8080/"
        },
        "outputId": "bf42f422-7787-435e-942a-0965331d1fa5"
      },
      "source": [
        "%cd /content\n",
        "\n",
        "for i in range(number_of_samples):\n",
        "\n",
        "  results[\"data_\" + sample_id[i]].write(\"result\" + sample_id[i])"
      ],
      "execution_count": 20,
      "outputs": [
        {
          "output_type": "stream",
          "text": [
            "/content\n"
          ],
          "name": "stdout"
        },
        {
          "output_type": "stream",
          "text": [
            "... storing 'gene_name' as categorical\n"
          ],
          "name": "stderr"
        }
      ]
    },
    {
      "cell_type": "code",
      "metadata": {
        "id": "7ZxzPOofoTY0",
        "outputId": "a42caa93-fb4d-4adb-83be-77c3e8dd778d",
        "colab": {
          "base_uri": "https://localhost:8080/"
        }
      },
      "source": [
        "'''\n",
        "Create TCC matrix\n",
        "'''\n",
        "\n",
        "%cd /content/fastqs\n",
        "\n",
        "if no_samples == 1:\n",
        "\n",
        "  # Write the kb count command as a string with all fastqs of the list as an input\n",
        "  cmd = \"kb count --h5ad -i index.idx -g t2g.txt -x \" + technology_kb + \" -o tccoutput\" + sample_id[0] + \" \"\\\n",
        "  + \"--filter bustools -t 2 --tcc --overwrite \" + \"'\" +  \"' '\".join(fastqs) + \"'\"\n",
        "  \n",
        "  # Execute it\n",
        "  !$cmd\n",
        "\n",
        "# If more than one sample, iterate through fastqs accordingly\n",
        "else:\n",
        "\n",
        "  # Initializa counter for fastq files\n",
        "  j = 0\n",
        "\n",
        "  # Loop over samples for analysis\n",
        "  for i in range(no_samples):\n",
        "\n",
        "    fastqs_to_analyze = fastqs[j:j + fastqs_per_sample[i]]\n",
        "    # Write the kb count command as a string\n",
        "    cmd = \"kb count --h5ad -i ../index.idx -g ../t2g.txt -x \" + technology_kb + \" -o tccoutput\" + sample_id[i] + \" \\\n",
        "    --filter bustools -t 2 --tcc --overwrite \" + \"'\" +  \"' '\".join(fastqs_to_analyze) + \"'\"\n",
        "\n",
        "    # Execute it\n",
        "    !$cmd\n",
        "\n",
        "    # Update j to move to the next set of fastq\n",
        "    j = j + fastqs_per_sample[i]\n",
        "\n",
        "\n",
        "tcc_results = {}\n",
        "\n",
        "for sample in sample_id:\n",
        "  output = \"bus_raw_\" + sample\n",
        "  !mkdir $output\n",
        "  folder_tcc = \"tccoutput\" + sample\n",
        "  folder_gc = \"output\" + sample\n",
        "\n",
        "  # read tcc matrix\n",
        "  tcc_results[sample] = anndata.read(folder_tcc + \"/counts_unfiltered/adata.h5ad\")\n",
        "  # apply gene count matrix's filter\n",
        "  tcc_results[sample] = tcc_results[sample][results[\"data_\" + sample_id[i]].obs.index.values]\n",
        "  # transfer obs data\n",
        "  tcc_results[sample].obs = results[\"data_\" + sample].obs\n",
        "  # transfer metadata\n",
        "  tcc_results[sample].uns = results[\"data_\" + sample].uns\n",
        "  # write tcc matrix\n",
        "  tcc_results[sample].write(\"/content/tcc_\" + sample)\n",
        "  #gzip tcc matrix\n",
        "  cmd = \"gzip /content/tcc_\" + sample\n",
        "  !$cmd\n",
        "  #gzip filtered bus file\n",
        "  cmd = \"gzip \" + folder_tcc + \"/output.filtered.bus\"\n",
        "  !$cmd\n",
        "  # move and re-name bus file with sample id\n",
        "  cmd = \"mv \" + folder_tcc + \"/output.filtered.bus.gz \" + output + \"/\" + sample +\".filtered.bus.gz\"\n",
        "  !$cmd\n",
        "  # gzip all unfiltered counts\n",
        "  cmd = \"gzip \" + folder_tcc + \"/counts_unfiltered/*\"\n",
        "  !$cmd\n",
        "  cmd = \"gzip \" + folder_gc + \"/counts_unfiltered/*\"\n",
        "  !$cmd\n",
        "  # move unfiltered counts for both\n",
        "  cmd = \"mv \" + folder_tcc + \"/counts_unfiltered \" + output + \"/tcc_unfiltered\"\n",
        "  !$cmd\n",
        "  cmd = \"mv \" + folder_gc + \"/counts_unfiltered \" + output + \"/gc_unfiltered\"\n",
        "  !$cmd\n",
        "\n",
        "  # zip all files\n",
        "  cmd = \"zip -r /content\" + output + \".zip \" + output\n",
        "  !$cmd"
      ],
      "execution_count": 21,
      "outputs": [
        {
          "output_type": "stream",
          "text": [
            "[Errno 2] No such file or directory: '/content/fastqs'\n",
            "/content\n",
            "[2021-03-01 02:47:38,243]    INFO Piping ftp://ftp.sra.ebi.ac.uk/vol1/fastq/SRR719/006/SRR7191896/SRR7191896_1.fastq.gz to tccoutputGSM3148575/tmp/SRR7191896_1.fastq.gz\n",
            "[2021-03-01 02:47:38,244]    INFO Piping ftp://ftp.sra.ebi.ac.uk/vol1/fastq/SRR719/006/SRR7191896/SRR7191896_2.fastq.gz to tccoutputGSM3148575/tmp/SRR7191896_2.fastq.gz\n",
            "[2021-03-01 02:47:38,245]    INFO Piping ftp://ftp.sra.ebi.ac.uk/vol1/fastq/SRR719/007/SRR7191897/SRR7191897_1.fastq.gz to tccoutputGSM3148575/tmp/SRR7191897_1.fastq.gz\n",
            "[2021-03-01 02:47:38,245]    INFO Piping ftp://ftp.sra.ebi.ac.uk/vol1/fastq/SRR719/007/SRR7191897/SRR7191897_2.fastq.gz to tccoutputGSM3148575/tmp/SRR7191897_2.fastq.gz\n",
            "[2021-03-01 02:47:38,247]    INFO Piping ftp://ftp.sra.ebi.ac.uk/vol1/fastq/SRR719/008/SRR7191898/SRR7191898_1.fastq.gz to tccoutputGSM3148575/tmp/SRR7191898_1.fastq.gz\n",
            "[2021-03-01 02:47:38,248]    INFO Piping ftp://ftp.sra.ebi.ac.uk/vol1/fastq/SRR719/008/SRR7191898/SRR7191898_2.fastq.gz to tccoutputGSM3148575/tmp/SRR7191898_2.fastq.gz\n",
            "[2021-03-01 02:47:38,248]    INFO Piping ftp://ftp.sra.ebi.ac.uk/vol1/fastq/SRR719/009/SRR7191899/SRR7191899_1.fastq.gz to tccoutputGSM3148575/tmp/SRR7191899_1.fastq.gz\n",
            "[2021-03-01 02:47:38,249]    INFO Piping ftp://ftp.sra.ebi.ac.uk/vol1/fastq/SRR719/009/SRR7191899/SRR7191899_2.fastq.gz to tccoutputGSM3148575/tmp/SRR7191899_2.fastq.gz\n",
            "[2021-03-01 02:47:38,250]    INFO Using index index.idx to generate BUS file to tccoutputGSM3148575 from\n",
            "[2021-03-01 02:47:38,250]    INFO         tccoutputGSM3148575/tmp/SRR7191896_1.fastq.gz\n",
            "[2021-03-01 02:47:38,250]    INFO         tccoutputGSM3148575/tmp/SRR7191896_2.fastq.gz\n",
            "[2021-03-01 02:47:38,250]    INFO         tccoutputGSM3148575/tmp/SRR7191897_1.fastq.gz\n",
            "[2021-03-01 02:47:38,250]    INFO         tccoutputGSM3148575/tmp/SRR7191897_2.fastq.gz\n",
            "[2021-03-01 02:47:38,250]    INFO         tccoutputGSM3148575/tmp/SRR7191898_1.fastq.gz\n",
            "[2021-03-01 02:47:38,250]    INFO         tccoutputGSM3148575/tmp/SRR7191898_2.fastq.gz\n",
            "[2021-03-01 02:47:38,250]    INFO         tccoutputGSM3148575/tmp/SRR7191899_1.fastq.gz\n",
            "[2021-03-01 02:47:38,250]    INFO         tccoutputGSM3148575/tmp/SRR7191899_2.fastq.gz\n",
            "Exception in thread Thread-4:\n",
            "Traceback (most recent call last):\n",
            "  File \"/usr/lib/python3.7/threading.py\", line 926, in _bootstrap_inner\n",
            "    self.run()\n",
            "  File \"/usr/lib/python3.7/threading.py\", line 870, in run\n",
            "    self._target(*self._args, **self._kwargs)\n",
            "  File \"/usr/lib/python3.7/urllib/request.py\", line 276, in urlretrieve\n",
            "    block = fp.read(bs)\n",
            "  File \"/usr/lib/python3.7/tempfile.py\", line 620, in func_wrapper\n",
            "    return func(*args, **kwargs)\n",
            "  File \"/usr/lib/python3.7/tempfile.py\", line 620, in func_wrapper\n",
            "    return func(*args, **kwargs)\n",
            "  File \"/usr/lib/python3.7/socket.py\", line 589, in readinto\n",
            "    return self._sock.recv_into(b)\n",
            "ConnectionResetError: [Errno 104] Connection reset by peer\n",
            "\n",
            "Exception in thread Thread-3:\n",
            "Traceback (most recent call last):\n",
            "  File \"/usr/lib/python3.7/threading.py\", line 926, in _bootstrap_inner\n",
            "    self.run()\n",
            "  File \"/usr/lib/python3.7/threading.py\", line 870, in run\n",
            "    self._target(*self._args, **self._kwargs)\n",
            "  File \"/usr/lib/python3.7/urllib/request.py\", line 276, in urlretrieve\n",
            "    block = fp.read(bs)\n",
            "  File \"/usr/lib/python3.7/tempfile.py\", line 620, in func_wrapper\n",
            "    return func(*args, **kwargs)\n",
            "  File \"/usr/lib/python3.7/tempfile.py\", line 620, in func_wrapper\n",
            "    return func(*args, **kwargs)\n",
            "  File \"/usr/lib/python3.7/socket.py\", line 589, in readinto\n",
            "    return self._sock.recv_into(b)\n",
            "ConnectionResetError: [Errno 104] Connection reset by peer\n",
            "\n",
            "Exception in thread Thread-5:\n",
            "Traceback (most recent call last):\n",
            "  File \"/usr/lib/python3.7/threading.py\", line 926, in _bootstrap_inner\n",
            "    self.run()\n",
            "  File \"/usr/lib/python3.7/threading.py\", line 870, in run\n",
            "    self._target(*self._args, **self._kwargs)\n",
            "  File \"/usr/lib/python3.7/urllib/request.py\", line 276, in urlretrieve\n",
            "    block = fp.read(bs)\n",
            "  File \"/usr/lib/python3.7/tempfile.py\", line 620, in func_wrapper\n",
            "    return func(*args, **kwargs)\n",
            "  File \"/usr/lib/python3.7/tempfile.py\", line 620, in func_wrapper\n",
            "    return func(*args, **kwargs)\n",
            "  File \"/usr/lib/python3.7/socket.py\", line 589, in readinto\n",
            "    return self._sock.recv_into(b)\n",
            "ConnectionResetError: [Errno 104] Connection reset by peer\n",
            "\n",
            "Exception in thread Thread-6:\n",
            "Traceback (most recent call last):\n",
            "  File \"/usr/lib/python3.7/threading.py\", line 926, in _bootstrap_inner\n",
            "    self.run()\n",
            "  File \"/usr/lib/python3.7/threading.py\", line 870, in run\n",
            "    self._target(*self._args, **self._kwargs)\n",
            "  File \"/usr/lib/python3.7/urllib/request.py\", line 276, in urlretrieve\n",
            "    block = fp.read(bs)\n",
            "  File \"/usr/lib/python3.7/tempfile.py\", line 620, in func_wrapper\n",
            "    return func(*args, **kwargs)\n",
            "  File \"/usr/lib/python3.7/tempfile.py\", line 620, in func_wrapper\n",
            "    return func(*args, **kwargs)\n",
            "  File \"/usr/lib/python3.7/socket.py\", line 589, in readinto\n",
            "    return self._sock.recv_into(b)\n",
            "ConnectionResetError: [Errno 104] Connection reset by peer\n",
            "\n",
            "Exception in thread Thread-8:\n",
            "Traceback (most recent call last):\n",
            "  File \"/usr/lib/python3.7/threading.py\", line 926, in _bootstrap_inner\n",
            "    self.run()\n",
            "  File \"/usr/lib/python3.7/threading.py\", line 870, in run\n",
            "    self._target(*self._args, **self._kwargs)\n",
            "  File \"/usr/lib/python3.7/urllib/request.py\", line 276, in urlretrieve\n",
            "    block = fp.read(bs)\n",
            "  File \"/usr/lib/python3.7/tempfile.py\", line 620, in func_wrapper\n",
            "    return func(*args, **kwargs)\n",
            "  File \"/usr/lib/python3.7/tempfile.py\", line 620, in func_wrapper\n",
            "    return func(*args, **kwargs)\n",
            "  File \"/usr/lib/python3.7/socket.py\", line 589, in readinto\n",
            "    return self._sock.recv_into(b)\n",
            "ConnectionResetError: [Errno 104] Connection reset by peer\n",
            "\n",
            "Exception in thread Thread-7:\n",
            "Traceback (most recent call last):\n",
            "  File \"/usr/lib/python3.7/threading.py\", line 926, in _bootstrap_inner\n",
            "    self.run()\n",
            "  File \"/usr/lib/python3.7/threading.py\", line 870, in run\n",
            "    self._target(*self._args, **self._kwargs)\n",
            "  File \"/usr/lib/python3.7/urllib/request.py\", line 276, in urlretrieve\n",
            "    block = fp.read(bs)\n",
            "  File \"/usr/lib/python3.7/tempfile.py\", line 620, in func_wrapper\n",
            "    return func(*args, **kwargs)\n",
            "  File \"/usr/lib/python3.7/tempfile.py\", line 620, in func_wrapper\n",
            "    return func(*args, **kwargs)\n",
            "  File \"/usr/lib/python3.7/socket.py\", line 589, in readinto\n",
            "    return self._sock.recv_into(b)\n",
            "ConnectionResetError: [Errno 104] Connection reset by peer\n",
            "\n",
            "[2021-03-01 02:55:25,320]    INFO Sorting BUS file tccoutputGSM3148575/output.bus to tccoutputGSM3148575/tmp/output.s.bus\n",
            "[2021-03-01 02:55:46,365]    INFO Whitelist not provided\n",
            "[2021-03-01 02:55:46,365]    INFO Copying pre-packaged 10XV2 whitelist to tccoutputGSM3148575\n",
            "[2021-03-01 02:55:46,477]    INFO Inspecting BUS file tccoutputGSM3148575/tmp/output.s.bus\n",
            "[2021-03-01 02:55:58,276]    INFO Correcting BUS records in tccoutputGSM3148575/tmp/output.s.bus to tccoutputGSM3148575/tmp/output.s.c.bus with whitelist tccoutputGSM3148575/10xv2_whitelist.txt\n",
            "[2021-03-01 02:56:07,573]    INFO Sorting BUS file tccoutputGSM3148575/tmp/output.s.c.bus to tccoutputGSM3148575/output.unfiltered.bus\n",
            "[2021-03-01 02:56:28,052]    INFO Generating count matrix tccoutputGSM3148575/counts_unfiltered/cells_x_tcc from BUS file tccoutputGSM3148575/output.unfiltered.bus\n",
            "[2021-03-01 02:57:01,199]    INFO Reading matrix tccoutputGSM3148575/counts_unfiltered/cells_x_tcc.mtx\n",
            "[2021-03-01 02:57:30,564]    INFO Writing matrix to h5ad tccoutputGSM3148575/counts_unfiltered/adata.h5ad\n",
            "[2021-03-01 02:58:30,958]    INFO Filtering with bustools\n",
            "[2021-03-01 02:58:30,958]    INFO Generating whitelist tccoutputGSM3148575/filter_barcodes.txt from BUS file tccoutputGSM3148575/output.unfiltered.bus\n",
            "[2021-03-01 02:58:31,203]    INFO Correcting BUS records in tccoutputGSM3148575/output.unfiltered.bus to tccoutputGSM3148575/tmp/output.unfiltered.c.bus with whitelist tccoutputGSM3148575/filter_barcodes.txt\n",
            "[2021-03-01 02:58:38,526]    INFO Sorting BUS file tccoutputGSM3148575/tmp/output.unfiltered.c.bus to tccoutputGSM3148575/output.filtered.bus\n",
            "[2021-03-01 02:59:02,298]    INFO Generating count matrix tccoutputGSM3148575/counts_filtered/cells_x_tcc from BUS file tccoutputGSM3148575/output.filtered.bus\n",
            "[2021-03-01 02:59:33,555]    INFO Reading matrix tccoutputGSM3148575/counts_filtered/cells_x_tcc.mtx\n",
            "[2021-03-01 03:00:01,530]    INFO Writing matrix to h5ad tccoutputGSM3148575/counts_filtered/adata.h5ad\n",
            "  adding: bus_raw_GSM3148575/ (stored 0%)\n",
            "  adding: bus_raw_GSM3148575/gc_unfiltered/ (stored 0%)\n",
            "  adding: bus_raw_GSM3148575/gc_unfiltered/cells_x_genes.barcodes.txt.gz (deflated 1%)\n",
            "  adding: bus_raw_GSM3148575/gc_unfiltered/cells_x_genes.genes.txt.gz (deflated 0%)\n",
            "  adding: bus_raw_GSM3148575/gc_unfiltered/cells_x_genes.mtx.gz (deflated 0%)\n",
            "  adding: bus_raw_GSM3148575/gc_unfiltered/adata.h5ad.gz (deflated 4%)\n",
            "  adding: bus_raw_GSM3148575/GSM3148575.filtered.bus.gz (deflated 3%)\n",
            "  adding: bus_raw_GSM3148575/tcc_unfiltered/ (stored 0%)\n",
            "  adding: bus_raw_GSM3148575/tcc_unfiltered/cells_x_tcc.ec.txt.gz (deflated 4%)\n",
            "  adding: bus_raw_GSM3148575/tcc_unfiltered/adata.h5ad.gz (deflated 8%)\n",
            "  adding: bus_raw_GSM3148575/tcc_unfiltered/cells_x_tcc.mtx.gz (deflated 0%)\n",
            "  adding: bus_raw_GSM3148575/tcc_unfiltered/cells_x_tcc.barcodes.txt.gz (deflated 1%)\n"
          ],
          "name": "stdout"
        }
      ]
    },
    {
      "cell_type": "code",
      "metadata": {
        "id": "uqd3SoY4vx4K",
        "outputId": "f33fad99-5b34-4421-9089-d90051ea44ae",
        "colab": {
          "base_uri": "https://localhost:8080/"
        }
      },
      "source": [
        "!zip -r /content/bus_raw_GSM3148575.zip /content/bus_raw_GSM3148575"
      ],
      "execution_count": 22,
      "outputs": [
        {
          "output_type": "stream",
          "text": [
            "  adding: content/bus_raw_GSM3148575/ (stored 0%)\n",
            "  adding: content/bus_raw_GSM3148575/gc_unfiltered/ (stored 0%)\n",
            "  adding: content/bus_raw_GSM3148575/gc_unfiltered/cells_x_genes.barcodes.txt.gz (deflated 1%)\n",
            "  adding: content/bus_raw_GSM3148575/gc_unfiltered/cells_x_genes.genes.txt.gz (deflated 0%)\n",
            "  adding: content/bus_raw_GSM3148575/gc_unfiltered/cells_x_genes.mtx.gz (deflated 0%)\n",
            "  adding: content/bus_raw_GSM3148575/gc_unfiltered/adata.h5ad.gz (deflated 4%)\n",
            "  adding: content/bus_raw_GSM3148575/GSM3148575.filtered.bus.gz (deflated 3%)\n",
            "  adding: content/bus_raw_GSM3148575/tcc_unfiltered/ (stored 0%)\n",
            "  adding: content/bus_raw_GSM3148575/tcc_unfiltered/cells_x_tcc.ec.txt.gz (deflated 4%)\n",
            "  adding: content/bus_raw_GSM3148575/tcc_unfiltered/adata.h5ad.gz (deflated 8%)\n",
            "  adding: content/bus_raw_GSM3148575/tcc_unfiltered/cells_x_tcc.mtx.gz (deflated 0%)\n",
            "  adding: content/bus_raw_GSM3148575/tcc_unfiltered/cells_x_tcc.barcodes.txt.gz (deflated 1%)\n"
          ],
          "name": "stdout"
        }
      ]
    },
    {
      "cell_type": "code",
      "metadata": {
        "id": "fYMwugxzv1XA"
      },
      "source": [
        ""
      ],
      "execution_count": null,
      "outputs": []
    }
  ]
}