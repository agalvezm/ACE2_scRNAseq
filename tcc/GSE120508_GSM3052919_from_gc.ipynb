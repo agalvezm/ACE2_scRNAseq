{
  "nbformat": 4,
  "nbformat_minor": 0,
  "metadata": {
    "colab": {
      "name": "GSE120508_GSM3052919.ipynb",
      "provenance": [],
      "collapsed_sections": [],
      "machine_shape": "hm",
      "include_colab_link": true
    },
    "kernelspec": {
      "display_name": "Python 3",
      "name": "python3"
    }
  },
  "cells": [
    {
      "cell_type": "markdown",
      "metadata": {
        "id": "view-in-github",
        "colab_type": "text"
      },
      "source": [
        "<a href=\"https://colab.research.google.com/github/agalvezm/ACE2_scRNAseq/blob/master/tcc/GSE120508_GSM3052919_from_gc.ipynb\" target=\"_parent\"><img src=\"https://colab.research.google.com/assets/colab-badge.svg\" alt=\"Open In Colab\"/></a>"
      ]
    },
    {
      "cell_type": "markdown",
      "metadata": {
        "id": "V9ryXluJsJw9"
      },
      "source": [
        "# GSE120508_GSM3052919"
      ]
    },
    {
      "cell_type": "markdown",
      "metadata": {
        "id": "d9unSi89sHFt"
      },
      "source": [
        "This notebook uses the filtered count matrix resulting from the following google colab notebook. https://github.com/agalvezm/ACE2_scRNAseq/blob/master/notebooks_countmatrices/GSE120508_GSM3052919.ipynb Please run the notebook above and upload the results file in /content"
      ]
    },
    {
      "cell_type": "code",
      "metadata": {
        "colab": {
          "base_uri": "https://localhost:8080/"
        },
        "id": "ggNFAQJCRh6P",
        "outputId": "1ff6a968-24a0-4251-cae1-90c448c8280c"
      },
      "source": [
        "# define the values for the analysis\n",
        "\n",
        "# accession id for the data\n",
        "id = \"GSE120508\"\n",
        "samp_id = [\"GSM3052919\"]\n",
        "\n",
        "# If only bam available files, set bam = True, Fill link and filename\n",
        "bam = True\n",
        "\n",
        "# If fastq links available but are not ffq links\n",
        "fastq_ffqlinks = True\n",
        "\n",
        "\n",
        "if bam:\n",
        "  # Assign link to python variable\n",
        "  link_to_bam = [\"https://sra-pub-src-1.s3.amazonaws.com/SRR6860521/14737X1.bam.1\",\t\"https://sra-pub-src-1.s3.amazonaws.com/SRR6860522/14737X2.bam.1\"]\n",
        "  # Assigns the link to the bash variable BAM_LINK. To be used by wget\n",
        "  %env BAM_LINK=$link_to_bam\n",
        "\n",
        "  # Assign filename to python variable. Used to convert to fastq and remove bam file to fastq after conversion\n",
        "\n",
        "  bam_filename=[\"14737X1.bam.1\",\"14737X2.bam.1\"]\n",
        "\n",
        "\n",
        "if not bam:\n",
        "\n",
        "  # Copy and paste the links from the ACE2 scRNAseq datasets google  spreadsheet\n",
        "\n",
        "  links_raw = \"\"\n",
        "\n",
        "  # Convert it to a list where each link is an element\n",
        "  \n",
        "  fastqs = links_raw.split()\n"
      ],
      "execution_count": 1,
      "outputs": [
        {
          "output_type": "stream",
          "text": [
            "env: BAM_LINK=['https://sra-pub-src-1.s3.amazonaws.com/SRR6860521/14737X1.bam.1', 'https://sra-pub-src-1.s3.amazonaws.com/SRR6860522/14737X2.bam.1']\n"
          ],
          "name": "stdout"
        }
      ]
    },
    {
      "cell_type": "code",
      "metadata": {
        "id": "5R3tPDqnoJUn"
      },
      "source": [
        "no_samples = 1\n",
        "\n",
        "fastqs_per_sample = [4, 8, 8] \n",
        "\n",
        "sample_id = samp_id\n",
        "\n",
        "database_id = [id] * no_samples\n",
        "\n",
        "tissue = [\"testis\"] * no_samples\n",
        "\n",
        "cell_type = [\"total\"] * no_samples\n",
        "\n",
        "condition = [\"deceased donor 2, 24 years old\"]\n",
        "\n",
        "species = [\"human\"] * no_samples\n",
        "\n",
        "technology = [\"10xv2\"] * no_samples\n",
        "\n",
        "paper = [\"Sungnak et al 2020\"] * no_samples\n",
        "\n",
        "figure = [\"Fig 1\"] * no_samples\n",
        "\n",
        "# Set string variables for kb functions\n",
        "\n",
        "species_kb = species[0]\n",
        "\n",
        "technology_kb = technology[0]\n",
        "\n"
      ],
      "execution_count": 2,
      "outputs": []
    },
    {
      "cell_type": "markdown",
      "metadata": {
        "id": "FPwL0-_-KSAw"
      },
      "source": [
        "# Imports and installs"
      ]
    },
    {
      "cell_type": "code",
      "metadata": {
        "colab": {
          "base_uri": "https://localhost:8080/"
        },
        "id": "1HSlUGZEp3oP",
        "outputId": "d5fe1d05-b26e-4b7a-9eb4-ec23534fe6bc"
      },
      "source": [
        "# install and import necessary software\n",
        "\n",
        "# Install kb and scanpy\n",
        "!pip -q install kb-python \n",
        "!pip -q install scanpy\n",
        "\n",
        "import re\n",
        "import os\n",
        "\n",
        "# Setup\n",
        "\n",
        "import anndata\n",
        "import pandas as pd\n",
        "import numpy as np\n",
        "import matplotlib.pyplot as plt\n",
        "import matplotlib as mpl\n",
        "import matplotlib.patches as mpatches\n",
        "import scanpy as sc\n",
        "from scipy import stats\n",
        "\n",
        "from collections import OrderedDict\n",
        "from sklearn.decomposition import TruncatedSVD\n",
        "from sklearn.manifold import TSNE\n",
        "from sklearn.preprocessing import scale\n",
        "\n",
        "from sklearn.cluster import KMeans\n",
        "from sklearn.preprocessing import normalize\n",
        "from sklearn.preprocessing import LabelEncoder\n",
        "from sklearn.neighbors import NeighborhoodComponentsAnalysis\n",
        "from matplotlib import cm\n",
        "from matplotlib.lines import Line2D\n",
        "\n",
        "def nd(arr):\n",
        "    return np.asarray(arr).reshape(-1)\n",
        "def yex(ax):\n",
        "    lims = [np.min([ax.get_xlim(), ax.get_ylim()]),\n",
        "            np.max([ax.get_xlim(), ax.get_ylim()])]\n",
        "\n",
        "    # now plot both limits against eachother\n",
        "    ax.plot(lims, lims, 'k-', alpha=0.75, zorder=0)\n",
        "    ax.set_aspect('equal')\n",
        "    ax.set_xlim(lims)\n",
        "    ax.set_ylim(lims)\n",
        "    return ax\n",
        "\n",
        "def trim_axs(axs, N):\n",
        "    \"\"\"little helper to massage the axs list to have correct length...\"\"\"\n",
        "    axs = axs.flat\n",
        "    for ax in axs[N:]:\n",
        "        ax.remove()\n",
        "    return axs[:N]\n",
        "\n",
        "import warnings\n",
        "warnings.filterwarnings('ignore')\n",
        "\n",
        "fsize=20\n",
        "\n",
        "plt.rcParams.update({'font.size': fsize})\n",
        "%config InlineBackend.figure_format = 'retina'"
      ],
      "execution_count": 3,
      "outputs": [
        {
          "output_type": "stream",
          "text": [
            "\u001b[K     |████████████████████████████████| 59.1MB 96kB/s \n",
            "\u001b[K     |████████████████████████████████| 133kB 47.5MB/s \n",
            "\u001b[K     |████████████████████████████████| 51kB 4.4MB/s \n",
            "\u001b[K     |████████████████████████████████| 13.2MB 41.0MB/s \n",
            "\u001b[K     |████████████████████████████████| 10.3MB 18.9MB/s \n",
            "\u001b[K     |████████████████████████████████| 112kB 41.3MB/s \n",
            "\u001b[K     |████████████████████████████████| 81kB 2.9MB/s \n",
            "\u001b[K     |████████████████████████████████| 71kB 6.9MB/s \n",
            "\u001b[K     |████████████████████████████████| 1.2MB 40.0MB/s \n",
            "\u001b[K     |████████████████████████████████| 51kB 4.9MB/s \n",
            "\u001b[?25h  Building wheel for loompy (setup.py) ... \u001b[?25l\u001b[?25hdone\n",
            "  Building wheel for numpy-groupies (setup.py) ... \u001b[?25l\u001b[?25hdone\n",
            "  Building wheel for sinfo (setup.py) ... \u001b[?25l\u001b[?25hdone\n",
            "  Building wheel for umap-learn (setup.py) ... \u001b[?25l\u001b[?25hdone\n",
            "  Building wheel for pynndescent (setup.py) ... \u001b[?25l\u001b[?25hdone\n"
          ],
          "name": "stdout"
        }
      ]
    },
    {
      "cell_type": "markdown",
      "metadata": {
        "id": "7V6FbosVrvP4"
      },
      "source": [
        "# Downloads: (bam (if bam) and index"
      ]
    },
    {
      "cell_type": "code",
      "metadata": {
        "colab": {
          "base_uri": "https://localhost:8080/"
        },
        "id": "q46hw4zqKUPS",
        "outputId": "5b69a929-73f1-41c5-c70b-d29f5c5f221a"
      },
      "source": [
        "if bam:\n",
        "\n",
        "  # Install bamtofastq from 10x website (only bam files available)\n",
        "  !wget http://cf.10xgenomics.com/misc/bamtofastq-1.2.0\n",
        "  !chmod +x bamtofastq-1.2.0\n",
        "  # Download the bam file\n",
        "  for link in link_to_bam:\n",
        "    !wget -- continue $link\n",
        "\n",
        "\n"
      ],
      "execution_count": 4,
      "outputs": [
        {
          "output_type": "stream",
          "text": [
            "--2021-04-13 18:33:54--  http://cf.10xgenomics.com/misc/bamtofastq-1.2.0\n",
            "Resolving cf.10xgenomics.com (cf.10xgenomics.com)... 104.18.1.173, 104.18.0.173, 2606:4700::6812:1ad, ...\n",
            "Connecting to cf.10xgenomics.com (cf.10xgenomics.com)|104.18.1.173|:80... connected.\n",
            "HTTP request sent, awaiting response... 301 Moved Permanently\n",
            "Location: https://cf.10xgenomics.com/misc/bamtofastq-1.2.0 [following]\n",
            "--2021-04-13 18:33:54--  https://cf.10xgenomics.com/misc/bamtofastq-1.2.0\n",
            "Connecting to cf.10xgenomics.com (cf.10xgenomics.com)|104.18.1.173|:443... connected.\n",
            "HTTP request sent, awaiting response... 200 OK\n",
            "Length: 13288280 (13M) [binary/octet-stream]\n",
            "Saving to: ‘bamtofastq-1.2.0’\n",
            "\n",
            "bamtofastq-1.2.0    100%[===================>]  12.67M  49.9MB/s    in 0.3s    \n",
            "\n",
            "2021-04-13 18:33:55 (49.9 MB/s) - ‘bamtofastq-1.2.0’ saved [13288280/13288280]\n",
            "\n",
            "--2021-04-13 18:33:55--  http://continue/\n",
            "Resolving continue (continue)... failed: Name or service not known.\n",
            "wget: unable to resolve host address ‘continue’\n",
            "--2021-04-13 18:33:55--  https://sra-pub-src-1.s3.amazonaws.com/SRR6860521/14737X1.bam.1\n",
            "Resolving sra-pub-src-1.s3.amazonaws.com (sra-pub-src-1.s3.amazonaws.com)... 52.217.49.148\n",
            "Connecting to sra-pub-src-1.s3.amazonaws.com (sra-pub-src-1.s3.amazonaws.com)|52.217.49.148|:443... connected.\n",
            "HTTP request sent, awaiting response... 200 OK\n",
            "Length: 27373466499 (25G) [application/x-troff-man]\n",
            "Saving to: ‘14737X1.bam.1’\n",
            "\n",
            "14737X1.bam.1       100%[===================>]  25.49G  47.4MB/s    in 9m 30s  \n",
            "\n",
            "2021-04-13 18:43:25 (45.8 MB/s) - ‘14737X1.bam.1’ saved [27373466499/27373466499]\n",
            "\n",
            "FINISHED --2021-04-13 18:43:25--\n",
            "Total wall clock time: 9m 30s\n",
            "Downloaded: 1 files, 25G in 9m 30s (45.8 MB/s)\n",
            "--2021-04-13 18:43:25--  http://continue/\n",
            "Resolving continue (continue)... failed: Name or service not known.\n",
            "wget: unable to resolve host address ‘continue’\n",
            "--2021-04-13 18:43:25--  https://sra-pub-src-1.s3.amazonaws.com/SRR6860522/14737X2.bam.1\n",
            "Resolving sra-pub-src-1.s3.amazonaws.com (sra-pub-src-1.s3.amazonaws.com)... 52.216.241.124\n",
            "Connecting to sra-pub-src-1.s3.amazonaws.com (sra-pub-src-1.s3.amazonaws.com)|52.216.241.124|:443... connected.\n",
            "HTTP request sent, awaiting response... 200 OK\n",
            "Length: 30247074983 (28G) [application/x-troff-man]\n",
            "Saving to: ‘14737X2.bam.1’\n",
            "\n",
            "14737X2.bam.1       100%[===================>]  28.17G  49.0MB/s    in 9m 38s  \n",
            "\n",
            "2021-04-13 18:53:03 (49.9 MB/s) - ‘14737X2.bam.1’ saved [30247074983/30247074983]\n",
            "\n",
            "FINISHED --2021-04-13 18:53:03--\n",
            "Total wall clock time: 9m 38s\n",
            "Downloaded: 1 files, 28G in 9m 38s (49.9 MB/s)\n"
          ],
          "name": "stdout"
        }
      ]
    },
    {
      "cell_type": "code",
      "metadata": {
        "colab": {
          "base_uri": "https://localhost:8080/"
        },
        "id": "tDQlrjtqNF0m",
        "outputId": "7c1560d2-34ec-44fe-fc6b-f092fd09fa10"
      },
      "source": [
        "if bam:\n",
        "  # Convert to fastq\n",
        "  for filename in bam_filename:\n",
        "    !./bamtofastq-1.2.0 --reads-per-fastq=500000000 $filename ./fastqs$filename\n",
        "\n",
        "  # Remove original bam file to save space\n",
        "  for filename in bam_filename:\n",
        "    !rm $filename\n"
      ],
      "execution_count": 5,
      "outputs": [
        {
          "output_type": "stream",
          "text": [
            "bamtofastq v1.2.0\n",
            "Args { arg_bam: \"14737X1.bam.1\", arg_output_path: \"./fastqs14737X1.bam.1\", flag_nthreads: 4, flag_locus: None, flag_bx_list: None, flag_reads_per_fastq: 500000000, flag_gemcode: false, flag_lr20: false, flag_cr11: false }\n",
            "Writing finished.  Observed 263055092 read pairs. Wrote 263055092 read pairs\n",
            "bamtofastq v1.2.0\n",
            "Args { arg_bam: \"14737X2.bam.1\", arg_output_path: \"./fastqs14737X2.bam.1\", flag_nthreads: 4, flag_locus: None, flag_bx_list: None, flag_reads_per_fastq: 500000000, flag_gemcode: false, flag_lr20: false, flag_cr11: false }\n",
            "Writing finished.  Observed 288683878 read pairs. Wrote 288683878 read pairs\n"
          ],
          "name": "stdout"
        }
      ]
    },
    {
      "cell_type": "code",
      "metadata": {
        "id": "mCAQGVW5FEW2"
      },
      "source": [
        "!for file in /content/fastqs/14737X1_mRNA_MissingLibrary_1_CBVUMANXX_/*; do mv \"$file\" \"$(basename \"$file\")_\"; done;"
      ],
      "execution_count": 8,
      "outputs": []
    },
    {
      "cell_type": "code",
      "metadata": {
        "colab": {
          "base_uri": "https://localhost:8080/"
        },
        "id": "khVi7nJMFbER",
        "outputId": "4da64655-7b67-44f3-b234-70bae10ef2a7"
      },
      "source": [
        "!ls"
      ],
      "execution_count": 9,
      "outputs": [
        {
          "output_type": "stream",
          "text": [
            "14737X1_mRNA_MissingLibrary_1_CBVUMANXX_  bamtofastq_S1_L007_R1_001.fastq.gz_\n",
            "bamtofastq-1.2.0\t\t\t  bamtofastq_S1_L007_R2_001.fastq.gz_\n",
            "bamtofastq_S1_L005_I1_001.fastq.gz_\t  bamtofastq_S1_L008_I1_001.fastq.gz_\n",
            "bamtofastq_S1_L005_R1_001.fastq.gz_\t  bamtofastq_S1_L008_R1_001.fastq.gz_\n",
            "bamtofastq_S1_L005_R2_001.fastq.gz_\t  bamtofastq_S1_L008_R2_001.fastq.gz_\n",
            "bamtofastq_S1_L006_I1_001.fastq.gz_\t  fastqs14737X1.bam.1\n",
            "bamtofastq_S1_L006_R1_001.fastq.gz_\t  fastqs14737X2.bam.1\n",
            "bamtofastq_S1_L006_R2_001.fastq.gz_\t  sample_data\n",
            "bamtofastq_S1_L007_I1_001.fastq.gz_\n"
          ],
          "name": "stdout"
        }
      ]
    },
    {
      "cell_type": "code",
      "metadata": {
        "id": "dUYuOOB4EpJ5"
      },
      "source": [
        "!mv *.gz_ /content/fastqs14737X2.bam.1/14737X2_mRNA_MissingLibrary_1_CBVUMANXX"
      ],
      "execution_count": 10,
      "outputs": []
    },
    {
      "cell_type": "code",
      "metadata": {
        "colab": {
          "base_uri": "https://localhost:8080/"
        },
        "id": "SXRDRphvqcLe",
        "outputId": "4f25009f-5d47-46a7-b7a7-52b661943e77"
      },
      "source": [
        "# Store fastq names on a list\n",
        "\n",
        "if bam:\n",
        "  # cd into fastqs folder\n",
        "  %cd /content/fastqs$filename\n",
        "\n",
        "  #store the name of the folder generated by bamtofastq\n",
        "  _filename = os.listdir()[0]\n",
        "\n",
        "  # cd into that folder\n",
        "  %cd $_filename\n",
        "\n",
        "  # store fastq names in a list\n",
        "  fastqs = os.listdir()\n",
        "\n",
        "\n",
        "  # Remove I1 and R3 reads not relevant for our analysis\n",
        "\n",
        "  # Initialize list containing elements to remove\n",
        "  remov_elem = []\n",
        "\n",
        "  print (\"\\n\\nThis is the complete list of fastqs:\\n -----------\")\n",
        "  for elem in fastqs:\n",
        "    print (elem)\n",
        "\n",
        "  # Search index (I1 or R3) fastqs and remove them from list\n",
        "  for elem in fastqs:\n",
        "    if re.search(\"_R3_\", elem) or re.search(\"_I1_\", elem):\n",
        "      remov_elem = remov_elem +[elem]\n",
        "\n",
        "  fastqs = [elem for elem in fastqs if elem not in remov_elem] \n",
        "\n",
        "  print (\"\\n\\nThis is the filtered list of fastqs:\\n -----------\")\n",
        "  for elem in fastqs:\n",
        "    print (elem)\n"
      ],
      "execution_count": 11,
      "outputs": [
        {
          "output_type": "stream",
          "text": [
            "/content/fastqs14737X2.bam.1\n",
            "/content/fastqs14737X2.bam.1/14737X2_mRNA_MissingLibrary_1_CBVUMANXX\n",
            "\n",
            "\n",
            "This is the complete list of fastqs:\n",
            " -----------\n",
            "bamtofastq_S1_L006_R2_001.fastq.gz\n",
            "bamtofastq_S1_L007_I1_001.fastq.gz_\n",
            "bamtofastq_S1_L005_R2_001.fastq.gz_\n",
            "bamtofastq_S1_L007_R1_001.fastq.gz_\n",
            "bamtofastq_S1_L006_R1_001.fastq.gz_\n",
            "bamtofastq_S1_L006_R1_001.fastq.gz\n",
            "bamtofastq_S1_L008_R2_001.fastq.gz\n",
            "bamtofastq_S1_L007_R2_001.fastq.gz_\n",
            "bamtofastq_S1_L008_R1_001.fastq.gz_\n",
            "bamtofastq_S1_L005_R1_001.fastq.gz_\n",
            "bamtofastq_S1_L005_R1_001.fastq.gz\n",
            "bamtofastq_S1_L006_I1_001.fastq.gz\n",
            "bamtofastq_S1_L007_R2_001.fastq.gz\n",
            "bamtofastq_S1_L006_R2_001.fastq.gz_\n",
            "bamtofastq_S1_L008_I1_001.fastq.gz_\n",
            "bamtofastq_S1_L006_I1_001.fastq.gz_\n",
            "bamtofastq_S1_L008_R1_001.fastq.gz\n",
            "bamtofastq_S1_L008_I1_001.fastq.gz\n",
            "bamtofastq_S1_L008_R2_001.fastq.gz_\n",
            "bamtofastq_S1_L007_R1_001.fastq.gz\n",
            "bamtofastq_S1_L005_I1_001.fastq.gz\n",
            "bamtofastq_S1_L005_I1_001.fastq.gz_\n",
            "bamtofastq_S1_L007_I1_001.fastq.gz\n",
            "bamtofastq_S1_L005_R2_001.fastq.gz\n",
            "\n",
            "\n",
            "This is the filtered list of fastqs:\n",
            " -----------\n",
            "bamtofastq_S1_L006_R2_001.fastq.gz\n",
            "bamtofastq_S1_L005_R2_001.fastq.gz_\n",
            "bamtofastq_S1_L007_R1_001.fastq.gz_\n",
            "bamtofastq_S1_L006_R1_001.fastq.gz_\n",
            "bamtofastq_S1_L006_R1_001.fastq.gz\n",
            "bamtofastq_S1_L008_R2_001.fastq.gz\n",
            "bamtofastq_S1_L007_R2_001.fastq.gz_\n",
            "bamtofastq_S1_L008_R1_001.fastq.gz_\n",
            "bamtofastq_S1_L005_R1_001.fastq.gz_\n",
            "bamtofastq_S1_L005_R1_001.fastq.gz\n",
            "bamtofastq_S1_L007_R2_001.fastq.gz\n",
            "bamtofastq_S1_L006_R2_001.fastq.gz_\n",
            "bamtofastq_S1_L008_R1_001.fastq.gz\n",
            "bamtofastq_S1_L008_R2_001.fastq.gz_\n",
            "bamtofastq_S1_L007_R1_001.fastq.gz\n",
            "bamtofastq_S1_L005_R2_001.fastq.gz\n"
          ],
          "name": "stdout"
        }
      ]
    },
    {
      "cell_type": "code",
      "metadata": {
        "id": "ZnFcqcSgjLBw"
      },
      "source": [
        "# Remove fastqs that wont be analyzed to save space\n",
        "if bam:\n",
        "  for elem in remov_elem:\n",
        "    !rm $elem"
      ],
      "execution_count": 12,
      "outputs": []
    },
    {
      "cell_type": "code",
      "metadata": {
        "id": "FLVS8aB7Dm6J"
      },
      "source": [
        "if bam:\n",
        "  # sort fastqs alphabetically to get R1 and R2 in order\n",
        "  fastqs = sorted(fastqs)"
      ],
      "execution_count": 13,
      "outputs": []
    },
    {
      "cell_type": "code",
      "metadata": {
        "id": "FE9gWbQgpBfR"
      },
      "source": [
        "# wget fastqs from non ffq links in fastqs folder\n",
        "if not bam and not fastq_ffqlinks:\n",
        "  !mkdir fastqs\n",
        "  %cd fastqs\n",
        "  for link in fastqs:\n",
        "    !wget $link --continue\n",
        "\n",
        "  # update fastqs variable with name of files\n",
        "  fastqs = sorted(os.listdir())"
      ],
      "execution_count": 14,
      "outputs": []
    },
    {
      "cell_type": "code",
      "metadata": {
        "id": "PC9oETW1pE9t",
        "colab": {
          "base_uri": "https://localhost:8080/"
        },
        "outputId": "850697c2-db95-4528-837b-ad213d346a20"
      },
      "source": [
        "if bam:\n",
        "  # Download the corresponding Kallisto index to folder containing fastqs\n",
        "  !kb ref -d $species_kb -i index.idx -g t2g.txt -f1 transcriptome.fasta\n",
        "\n",
        "if not bam and fastq_ffqlinks:\n",
        "  %cd /content\n",
        "\n",
        "  # Download the corresponding Kallisto index to content folder\n",
        "  !kb ref -d $species_kb -i index.idx -g t2g.txt -f1 transcriptome.fasta\n",
        "\n",
        "if not bam and not fastq_ffqlinks:\n",
        "  %cd /content/fastqs\n",
        "\n",
        "  # Download the corresponding Kallisto index to fastq folder\n",
        "  !kb ref -d $species_kb -i index.idx -g t2g.txt -f1 transcriptome.fasta"
      ],
      "execution_count": 15,
      "outputs": [
        {
          "output_type": "stream",
          "text": [
            "[2021-04-13 21:15:02,242]    INFO Downloading files for human from https://caltech.box.com/shared/static/v1nm7lpnqz5syh8dyzdk2zs8bglncfib.gz to tmp/v1nm7lpnqz5syh8dyzdk2zs8bglncfib.gz\n",
            "100% 2.23G/2.23G [01:47<00:00, 22.2MB/s]\n",
            "[2021-04-13 21:16:51,086]    INFO Extracting files from tmp/v1nm7lpnqz5syh8dyzdk2zs8bglncfib.gz\n"
          ],
          "name": "stdout"
        }
      ]
    },
    {
      "cell_type": "code",
      "metadata": {
        "colab": {
          "base_uri": "https://localhost:8080/"
        },
        "id": "vHVNa51Cp9Nr",
        "outputId": "55e0a976-2d3d-4f03-eb29-dd3b7a43843b"
      },
      "source": [
        "# Check to make sure the metadata is in the right order after sorting\n",
        "print(fastqs)"
      ],
      "execution_count": 16,
      "outputs": [
        {
          "output_type": "stream",
          "text": [
            "['bamtofastq_S1_L005_R1_001.fastq.gz', 'bamtofastq_S1_L005_R1_001.fastq.gz_', 'bamtofastq_S1_L005_R2_001.fastq.gz', 'bamtofastq_S1_L005_R2_001.fastq.gz_', 'bamtofastq_S1_L006_R1_001.fastq.gz', 'bamtofastq_S1_L006_R1_001.fastq.gz_', 'bamtofastq_S1_L006_R2_001.fastq.gz', 'bamtofastq_S1_L006_R2_001.fastq.gz_', 'bamtofastq_S1_L007_R1_001.fastq.gz', 'bamtofastq_S1_L007_R1_001.fastq.gz_', 'bamtofastq_S1_L007_R2_001.fastq.gz', 'bamtofastq_S1_L007_R2_001.fastq.gz_', 'bamtofastq_S1_L008_R1_001.fastq.gz', 'bamtofastq_S1_L008_R1_001.fastq.gz_', 'bamtofastq_S1_L008_R2_001.fastq.gz', 'bamtofastq_S1_L008_R2_001.fastq.gz_']\n"
          ],
          "name": "stdout"
        }
      ]
    },
    {
      "cell_type": "markdown",
      "metadata": {
        "id": "VInyuq1Dp7iz"
      },
      "source": [
        "# Process fastq files (modify kb command according to fastqs list)\n"
      ]
    },
    {
      "cell_type": "code",
      "metadata": {
        "colab": {
          "base_uri": "https://localhost:8080/"
        },
        "id": "Te-HFOkk0n-A",
        "outputId": "aa6372e6-ecd0-4040-f602-664dc7b16870"
      },
      "source": [
        "np.sort(fastqs)"
      ],
      "execution_count": 26,
      "outputs": [
        {
          "output_type": "execute_result",
          "data": {
            "text/plain": [
              "array(['bamtofastq_S1_L005_R1_001.fastq.gz',\n",
              "       'bamtofastq_S1_L005_R1_001.fastq.gz_',\n",
              "       'bamtofastq_S1_L005_R2_001.fastq.gz',\n",
              "       'bamtofastq_S1_L005_R2_001.fastq.gz_',\n",
              "       'bamtofastq_S1_L006_R1_001.fastq.gz',\n",
              "       'bamtofastq_S1_L006_R1_001.fastq.gz_',\n",
              "       'bamtofastq_S1_L006_R2_001.fastq.gz',\n",
              "       'bamtofastq_S1_L006_R2_001.fastq.gz_',\n",
              "       'bamtofastq_S1_L007_R1_001.fastq.gz',\n",
              "       'bamtofastq_S1_L007_R1_001.fastq.gz_',\n",
              "       'bamtofastq_S1_L007_R2_001.fastq.gz',\n",
              "       'bamtofastq_S1_L007_R2_001.fastq.gz_',\n",
              "       'bamtofastq_S1_L008_R1_001.fastq.gz',\n",
              "       'bamtofastq_S1_L008_R1_001.fastq.gz_',\n",
              "       'bamtofastq_S1_L008_R2_001.fastq.gz',\n",
              "       'bamtofastq_S1_L008_R2_001.fastq.gz_'], dtype='<U35')"
            ]
          },
          "metadata": {
            "tags": []
          },
          "execution_count": 26
        }
      ]
    },
    {
      "cell_type": "code",
      "metadata": {
        "id": "OcqtBuH-pRaX"
      },
      "source": [
        "fastqs = ['bamtofastq_S1_L005_R1_001.fastq.gz',\n",
        "       'bamtofastq_S1_L005_R2_001.fastq.gz',\n",
        "       'bamtofastq_S1_L005_R1_001.fastq.gz_',\n",
        "       'bamtofastq_S1_L005_R2_001.fastq.gz_',\n",
        "       'bamtofastq_S1_L006_R1_001.fastq.gz',\n",
        "       'bamtofastq_S1_L006_R2_001.fastq.gz',\n",
        "       'bamtofastq_S1_L006_R1_001.fastq.gz_',\n",
        "       'bamtofastq_S1_L006_R2_001.fastq.gz_',\n",
        "       'bamtofastq_S1_L007_R1_001.fastq.gz',\n",
        "       'bamtofastq_S1_L007_R2_001.fastq.gz',\n",
        "       'bamtofastq_S1_L007_R1_001.fastq.gz_',\n",
        "       'bamtofastq_S1_L007_R2_001.fastq.gz_',\n",
        "       'bamtofastq_S1_L008_R1_001.fastq.gz',\n",
        "       'bamtofastq_S1_L008_R2_001.fastq.gz',\n",
        "       'bamtofastq_S1_L008_R1_001.fastq.gz_',\n",
        "       'bamtofastq_S1_L008_R2_001.fastq.gz_']"
      ],
      "execution_count": 27,
      "outputs": []
    },
    {
      "cell_type": "code",
      "metadata": {
        "colab": {
          "base_uri": "https://localhost:8080/"
        },
        "id": "5qFzPj-0kZTi",
        "outputId": "9c5187a7-d69d-474e-c61d-b9f9396fea6d"
      },
      "source": [
        "if no_samples == 1:\n",
        "\n",
        "  # Write the kb count command as a string with all fastqs of the list as an input\n",
        "  cmd = \"kb count --h5ad -i index.idx -g t2g.txt -x \" + technology_kb + \" -o tccoutput\" + sample_id[0] + \" \"\\\n",
        "  + \"--filter bustools --tcc -t 2 --overwrite \" + \"'\" +  \"' '\".join(fastqs) + \"'\"\n",
        "  \n",
        "  # Execute it\n",
        "  !$cmd\n",
        "\n",
        "# If more than one sample, iterate through fastqs accordingly\n",
        "else:\n",
        "\n",
        "  # Initializa counter for fastq files\n",
        "  j = 0\n",
        "\n",
        "  # Loop over samples for analysis\n",
        "  for i in range(no_samples):\n",
        "\n",
        "    fastqs_to_analyze = fastqs[j:j + fastqs_per_sample[i]]\n",
        "    # Write the kb count command as a string\n",
        "    cmd = \"kb count --h5ad -i ../index.idx -g ../t2g.txt -x \" + technology_kb + \" -o tccoutput\" + sample_id[i] + \" \\\n",
        "    --filter bustools --tcc -t 2 --overwrite \" + \"'\" +  \"' '\".join(fastqs_to_analyze) + \"'\"\n",
        "\n",
        "    # Execute it\n",
        "    !$cmd\n",
        "\n",
        "    # Update j to move to the next set of fastq\n",
        "    j = j + fastqs_per_sample[i]\n",
        "\n",
        "\n",
        "\n",
        "\n",
        "\n",
        "\n",
        "results = {}\n",
        "tcc_results = {}\n",
        "for sample in sample_id:\n",
        "  # Read the filtered gene count matrix\n",
        "  results[\"data_\" + sample] = anndata.read(\"/content/result\" + sample)\n",
        "\n",
        "\n",
        "for sample in sample_id:\n",
        "  output = \"bus_raw_\" + sample + \"_from_gc\"\n",
        "  !mkdir $output\n",
        "  folder_tcc = \"tccoutput\" + sample\n",
        "\n",
        "  # read tcc matrix\n",
        "  tcc_results[sample] = anndata.read(folder_tcc + \"/counts_unfiltered/adata.h5ad\")\n",
        "  # apply gene count matrix's filter\n",
        "  tcc_results[sample] = tcc_results[sample][results[\"data_\" + sample].obs.index.values]\n",
        "  # transfer obs data\n",
        "  tcc_results[sample].obs = results[\"data_\" + sample].obs\n",
        "  # transfer metadata\n",
        "  tcc_results[sample].uns = results[\"data_\" + sample].uns\n",
        "  # write tcc matrix\n",
        "  tcc_results[sample].write(\"/content/tcc_\" + sample)\n",
        "  #gzip tcc matrix\n",
        "  cmd = \"gzip /content/tcc_\" + sample\n",
        "  !$cmd\n",
        "  #gzip unfiltered bus file\n",
        "  cmd = \"gzip \" + folder_tcc + \"/output.unfiltered.bus\"\n",
        "  !$cmd\n",
        "  # move and re-name bus file with sample id\n",
        "  cmd = \"mv \" + folder_tcc + \"/output.unfiltered.bus.gz \" + output + \"/\" + sample +\".unfiltered.bus.gz\"\n",
        "  !$cmd\n",
        "  # gzip all unfiltered counts\n",
        "  cmd = \"gzip \" + folder_tcc + \"/counts_unfiltered/*\"\n",
        "  !$cmd\n",
        "\n",
        "  # move unfiltered counts for both\n",
        "  cmd = \"mv \" + folder_tcc + \"/counts_unfiltered \" + output + \"/tcc_unfiltered\"\n",
        "  !$cmd\n",
        "\n",
        "  cmd = \"mv \" + folder_tcc + \"/*.json \" + output \n",
        "  !$cmd\n",
        "  # zip all files\n",
        "  cmd = \"zip -r \"+ output + \".zip \" + output\n",
        "  !$cmd\n",
        "\n",
        "\n",
        "import time\n",
        "time.sleep(60000000)"
      ],
      "execution_count": null,
      "outputs": [
        {
          "output_type": "stream",
          "text": [
            "[2021-04-14 01:50:49,904]    INFO Using index index.idx to generate BUS file to tccoutputGSM3052919 from\n",
            "[2021-04-14 01:50:49,905]    INFO         bamtofastq_S1_L005_R1_001.fastq.gz\n",
            "[2021-04-14 01:50:49,905]    INFO         bamtofastq_S1_L005_R2_001.fastq.gz\n",
            "[2021-04-14 01:50:49,905]    INFO         bamtofastq_S1_L005_R1_001.fastq.gz_\n",
            "[2021-04-14 01:50:49,905]    INFO         bamtofastq_S1_L005_R2_001.fastq.gz_\n",
            "[2021-04-14 01:50:49,905]    INFO         bamtofastq_S1_L006_R1_001.fastq.gz\n",
            "[2021-04-14 01:50:49,905]    INFO         bamtofastq_S1_L006_R2_001.fastq.gz\n",
            "[2021-04-14 01:50:49,905]    INFO         bamtofastq_S1_L006_R1_001.fastq.gz_\n",
            "[2021-04-14 01:50:49,905]    INFO         bamtofastq_S1_L006_R2_001.fastq.gz_\n",
            "[2021-04-14 01:50:49,905]    INFO         bamtofastq_S1_L007_R1_001.fastq.gz\n",
            "[2021-04-14 01:50:49,905]    INFO         bamtofastq_S1_L007_R2_001.fastq.gz\n",
            "[2021-04-14 01:50:49,905]    INFO         bamtofastq_S1_L007_R1_001.fastq.gz_\n",
            "[2021-04-14 01:50:49,905]    INFO         bamtofastq_S1_L007_R2_001.fastq.gz_\n",
            "[2021-04-14 01:50:49,905]    INFO         bamtofastq_S1_L008_R1_001.fastq.gz\n",
            "[2021-04-14 01:50:49,905]    INFO         bamtofastq_S1_L008_R2_001.fastq.gz\n",
            "[2021-04-14 01:50:49,905]    INFO         bamtofastq_S1_L008_R1_001.fastq.gz_\n",
            "[2021-04-14 01:50:49,905]    INFO         bamtofastq_S1_L008_R2_001.fastq.gz_\n",
            "[2021-04-14 02:38:08,133]    INFO Sorting BUS file tccoutputGSM3052919/output.bus to tccoutputGSM3052919/tmp/output.s.bus\n",
            "[2021-04-14 02:43:26,294]    INFO Whitelist not provided\n",
            "[2021-04-14 02:43:26,294]    INFO Copying pre-packaged 10XV2 whitelist to tccoutputGSM3052919\n",
            "[2021-04-14 02:43:26,415]    INFO Inspecting BUS file tccoutputGSM3052919/tmp/output.s.bus\n",
            "[2021-04-14 02:44:24,492]    INFO Correcting BUS records in tccoutputGSM3052919/tmp/output.s.bus to tccoutputGSM3052919/tmp/output.s.c.bus with whitelist tccoutputGSM3052919/10xv2_whitelist.txt\n",
            "[2021-04-14 02:45:01,848]    INFO Sorting BUS file tccoutputGSM3052919/tmp/output.s.c.bus to tccoutputGSM3052919/output.unfiltered.bus\n",
            "[2021-04-14 02:46:35,561]    INFO Generating count matrix tccoutputGSM3052919/counts_unfiltered/cells_x_tcc from BUS file tccoutputGSM3052919/output.unfiltered.bus\n",
            "[2021-04-14 02:49:07,331]    INFO Reading matrix tccoutputGSM3052919/counts_unfiltered/cells_x_tcc.mtx\n",
            "[2021-04-14 02:50:43,943]    INFO Writing matrix to h5ad tccoutputGSM3052919/counts_unfiltered/adata.h5ad\n",
            "[2021-04-14 02:51:01,264]    INFO Filtering with bustools\n",
            "[2021-04-14 02:51:01,264]    INFO Generating whitelist tccoutputGSM3052919/filter_barcodes.txt from BUS file tccoutputGSM3052919/output.unfiltered.bus\n",
            "[2021-04-14 02:51:02,678]    INFO Correcting BUS records in tccoutputGSM3052919/output.unfiltered.bus to tccoutputGSM3052919/tmp/output.unfiltered.c.bus with whitelist tccoutputGSM3052919/filter_barcodes.txt\n",
            "[2021-04-14 02:51:42,536]    INFO Sorting BUS file tccoutputGSM3052919/tmp/output.unfiltered.c.bus to tccoutputGSM3052919/output.filtered.bus\n",
            "[2021-04-14 02:53:07,808]    INFO Generating count matrix tccoutputGSM3052919/counts_filtered/cells_x_tcc from BUS file tccoutputGSM3052919/output.filtered.bus\n",
            "[2021-04-14 02:54:52,636]    INFO Reading matrix tccoutputGSM3052919/counts_filtered/cells_x_tcc.mtx\n",
            "[2021-04-14 02:56:10,272]    INFO Writing matrix to h5ad tccoutputGSM3052919/counts_filtered/adata.h5ad\n"
          ],
          "name": "stdout"
        },
        {
          "output_type": "stream",
          "text": [
            "Variable names are not unique. To make them unique, call `.var_names_make_unique`.\n"
          ],
          "name": "stderr"
        },
        {
          "output_type": "stream",
          "text": [
            "  adding: bus_raw_GSM3052919_from_gc/ (stored 0%)\n",
            "  adding: bus_raw_GSM3052919_from_gc/run_info.json (deflated 66%)\n",
            "  adding: bus_raw_GSM3052919_from_gc/GSM3052919.unfiltered.bus.gz (deflated 4%)\n",
            "  adding: bus_raw_GSM3052919_from_gc/inspect.json (deflated 57%)\n",
            "  adding: bus_raw_GSM3052919_from_gc/tcc_unfiltered/ (stored 0%)\n",
            "  adding: bus_raw_GSM3052919_from_gc/tcc_unfiltered/cells_x_tcc.mtx.gz (deflated 0%)\n",
            "  adding: bus_raw_GSM3052919_from_gc/tcc_unfiltered/cells_x_tcc.barcodes.txt.gz (deflated 1%)\n",
            "  adding: bus_raw_GSM3052919_from_gc/tcc_unfiltered/cells_x_tcc.ec.txt.gz (deflated 1%)\n",
            "  adding: bus_raw_GSM3052919_from_gc/tcc_unfiltered/adata.h5ad.gz (deflated 5%)\n",
            "  adding: bus_raw_GSM3052919_from_gc/kb_info.json (deflated 79%)\n"
          ],
          "name": "stdout"
        }
      ]
    }
  ]
}