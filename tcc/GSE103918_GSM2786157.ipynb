{
  "nbformat": 4,
  "nbformat_minor": 0,
  "metadata": {
    "colab": {
      "name": "GSE103918_GSM2786157",
      "provenance": [],
      "collapsed_sections": [],
      "toc_visible": true,
      "include_colab_link": true
    },
    "kernelspec": {
      "name": "python3",
      "display_name": "Python 3"
    }
  },
  "cells": [
    {
      "cell_type": "markdown",
      "metadata": {
        "id": "view-in-github",
        "colab_type": "text"
      },
      "source": [
        "<a href=\"https://colab.research.google.com/github/agalvezm/ACE2_scRNAseq/blob/master/tcc/GSE103918_GSM2786157.ipynb\" target=\"_parent\"><img src=\"https://colab.research.google.com/assets/colab-badge.svg\" alt=\"Open In Colab\"/></a>"
      ]
    },
    {
      "cell_type": "code",
      "metadata": {
        "id": "ggNFAQJCRh6P",
        "colab": {
          "base_uri": "https://localhost:8080/"
        },
        "outputId": "9a81eeaa-f8cb-4171-e700-659ef9953b1b"
      },
      "source": [
        "# define the values for the analysis\n",
        "\n",
        "# accession id for the data\n",
        "id = \"GSE103918\"\n",
        "\n",
        "# If only bam available files, set bam = True, Fill link and filename\n",
        "bam = True\n",
        "if bam:\n",
        "  # Assign link to python variable\n",
        "  link_to_bam = \"https://sra-pub-src-1.s3.amazonaws.com/SRR6042036/proximal_possorted_genome_bam.bam.1\"\n",
        "  \n",
        "  # Assigns the link to the bash variable BAM_LINK. To be used by wget\n",
        "  %env BAM_LINK=$link_to_bam\n",
        "\n",
        "  # Assign filename to python variable. Used to convert to fastq and remove bam file to fastq after conversion\n",
        "\n",
        "  bam_filename=\"proximal_possorted_genome_bam.bam.1\"\n",
        "\n",
        "if not bam:\n",
        "  fastqs = [\"\",\n",
        "            \"\",\n",
        "            ]"
      ],
      "execution_count": null,
      "outputs": [
        {
          "output_type": "stream",
          "text": [
            "env: BAM_LINK=https://sra-pub-src-1.s3.amazonaws.com/SRR6042036/proximal_possorted_genome_bam.bam.1\n"
          ],
          "name": "stdout"
        }
      ]
    },
    {
      "cell_type": "markdown",
      "metadata": {
        "id": "1CI0Cb5pR0s4"
      },
      "source": [
        "#GSE103918: GSM2786157"
      ]
    },
    {
      "cell_type": "code",
      "metadata": {
        "id": "V9VtlLUl8znj",
        "colab": {
          "base_uri": "https://localhost:8080/"
        },
        "outputId": "3f7576d3-5103-470a-d579-3a7890783490"
      },
      "source": [
        "#@title Import and install necessary software\n",
        "# install and import necessary software\n",
        "\n",
        "# Install kb and scanpy\n",
        "!pip -q install kb-python \n",
        "!pip -q install scanpy\n",
        "\n",
        "import re\n",
        "import os\n",
        "\n",
        "# Setup\n",
        "\n",
        "import anndata\n",
        "import pandas as pd\n",
        "import numpy as np\n",
        "import matplotlib.pyplot as plt\n",
        "import matplotlib as mpl\n",
        "import matplotlib.patches as mpatches\n",
        "import scanpy as sc\n",
        "from scipy import stats\n",
        "\n",
        "from collections import OrderedDict\n",
        "from sklearn.decomposition import TruncatedSVD\n",
        "from sklearn.manifold import TSNE\n",
        "from sklearn.preprocessing import scale\n",
        "\n",
        "from sklearn.cluster import KMeans\n",
        "from sklearn.preprocessing import normalize\n",
        "from sklearn.preprocessing import LabelEncoder\n",
        "from sklearn.neighbors import NeighborhoodComponentsAnalysis\n",
        "from matplotlib import cm\n",
        "from matplotlib.lines import Line2D\n",
        "\n",
        "def nd(arr):\n",
        "    return np.asarray(arr).reshape(-1)\n",
        "def yex(ax):\n",
        "    lims = [np.min([ax.get_xlim(), ax.get_ylim()]),\n",
        "            np.max([ax.get_xlim(), ax.get_ylim()])]\n",
        "\n",
        "    # now plot both limits against eachother\n",
        "    ax.plot(lims, lims, 'k-', alpha=0.75, zorder=0)\n",
        "    ax.set_aspect('equal')\n",
        "    ax.set_xlim(lims)\n",
        "    ax.set_ylim(lims)\n",
        "    return ax\n",
        "\n",
        "def trim_axs(axs, N):\n",
        "    \"\"\"little helper to massage the axs list to have correct length...\"\"\"\n",
        "    axs = axs.flat\n",
        "    for ax in axs[N:]:\n",
        "        ax.remove()\n",
        "    return axs[:N]\n",
        "\n",
        "import warnings\n",
        "warnings.filterwarnings('ignore')\n",
        "\n",
        "fsize=20\n",
        "\n",
        "plt.rcParams.update({'font.size': fsize})\n",
        "%config InlineBackend.figure_format = 'retina'"
      ],
      "execution_count": null,
      "outputs": [
        {
          "output_type": "stream",
          "text": [
            "\u001b[K     |████████████████████████████████| 59.1MB 74kB/s \n",
            "\u001b[K     |████████████████████████████████| 122kB 35.3MB/s \n",
            "\u001b[K     |████████████████████████████████| 51kB 2.9MB/s \n",
            "\u001b[K     |████████████████████████████████| 10.3MB 35.7MB/s \n",
            "\u001b[K     |████████████████████████████████| 13.2MB 160kB/s \n",
            "\u001b[K     |████████████████████████████████| 112kB 50.7MB/s \n",
            "\u001b[K     |████████████████████████████████| 71kB 5.4MB/s \n",
            "\u001b[K     |████████████████████████████████| 51kB 3.7MB/s \n",
            "\u001b[?25h  Building wheel for loompy (setup.py) ... \u001b[?25l\u001b[?25hdone\n",
            "  Building wheel for numpy-groupies (setup.py) ... \u001b[?25l\u001b[?25hdone\n",
            "  Building wheel for sinfo (setup.py) ... \u001b[?25l\u001b[?25hdone\n"
          ],
          "name": "stdout"
        }
      ]
    },
    {
      "cell_type": "markdown",
      "metadata": {
        "id": "FPwL0-_-KSAw"
      },
      "source": [
        "## Downloading and converting bam files (if bam = True) (run)"
      ]
    },
    {
      "cell_type": "code",
      "metadata": {
        "id": "q46hw4zqKUPS",
        "colab": {
          "base_uri": "https://localhost:8080/"
        },
        "outputId": "527c6e1f-fea1-4bcf-f9b6-2af8530a405f"
      },
      "source": [
        "if bam:\n",
        "\n",
        "  # Install bamtofastq from 10x website (only bam files available)\n",
        "  !wget http://cf.10xgenomics.com/misc/bamtofastq-1.2.0\n",
        "  !chmod +x bamtofastq-1.2.0\n",
        "  # Download the bam file\n",
        "  !wget -- continue ${BAM_LINK}\n",
        "\n",
        "\n"
      ],
      "execution_count": null,
      "outputs": [
        {
          "output_type": "stream",
          "text": [
            "--2021-03-02 20:09:53--  http://cf.10xgenomics.com/misc/bamtofastq-1.2.0\n",
            "Resolving cf.10xgenomics.com (cf.10xgenomics.com)... 104.18.1.173, 104.18.0.173, 2606:4700::6812:1ad, ...\n",
            "Connecting to cf.10xgenomics.com (cf.10xgenomics.com)|104.18.1.173|:80... connected.\n",
            "HTTP request sent, awaiting response... 301 Moved Permanently\n",
            "Location: https://cf.10xgenomics.com/misc/bamtofastq-1.2.0 [following]\n",
            "--2021-03-02 20:09:53--  https://cf.10xgenomics.com/misc/bamtofastq-1.2.0\n",
            "Connecting to cf.10xgenomics.com (cf.10xgenomics.com)|104.18.1.173|:443... connected.\n",
            "HTTP request sent, awaiting response... 200 OK\n",
            "Length: 13288280 (13M) [binary/octet-stream]\n",
            "Saving to: ‘bamtofastq-1.2.0’\n",
            "\n",
            "bamtofastq-1.2.0    100%[===================>]  12.67M  66.0MB/s    in 0.2s    \n",
            "\n",
            "2021-03-02 20:09:53 (66.0 MB/s) - ‘bamtofastq-1.2.0’ saved [13288280/13288280]\n",
            "\n",
            "--2021-03-02 20:09:54--  http://continue/\n",
            "Resolving continue (continue)... failed: Name or service not known.\n",
            "wget: unable to resolve host address ‘continue’\n",
            "--2021-03-02 20:09:54--  https://sra-pub-src-1.s3.amazonaws.com/SRR6042036/proximal_possorted_genome_bam.bam.1\n",
            "Resolving sra-pub-src-1.s3.amazonaws.com (sra-pub-src-1.s3.amazonaws.com)... 52.216.184.115\n",
            "Connecting to sra-pub-src-1.s3.amazonaws.com (sra-pub-src-1.s3.amazonaws.com)|52.216.184.115|:443... connected.\n",
            "HTTP request sent, awaiting response... 200 OK\n",
            "Length: 19689441457 (18G) [application/x-troff-man]\n",
            "Saving to: ‘proximal_possorted_genome_bam.bam.1’\n",
            "\n",
            "proximal_possorted_ 100%[===================>]  18.34G  36.4MB/s    in 8m 47s  \n",
            "\n",
            "2021-03-02 20:18:41 (35.7 MB/s) - ‘proximal_possorted_genome_bam.bam.1’ saved [19689441457/19689441457]\n",
            "\n",
            "FINISHED --2021-03-02 20:18:41--\n",
            "Total wall clock time: 8m 47s\n",
            "Downloaded: 1 files, 18G in 8m 47s (35.7 MB/s)\n"
          ],
          "name": "stdout"
        }
      ]
    },
    {
      "cell_type": "code",
      "metadata": {
        "id": "tDQlrjtqNF0m",
        "colab": {
          "base_uri": "https://localhost:8080/"
        },
        "outputId": "64597e52-b9f3-488a-ab1f-8e488f3414fc"
      },
      "source": [
        "if bam:\n",
        "  # Convert to fastq\n",
        "  !./bamtofastq-1.2.0 --reads-per-fastq=500000000 $bam_filename ./fastqs\\\n",
        "\n",
        "  # Remove original bam file to save space\n",
        "  !rm $bam_filename\n"
      ],
      "execution_count": null,
      "outputs": [
        {
          "output_type": "stream",
          "text": [
            "bamtofastq v1.2.0\n",
            "Args { arg_bam: \"proximal_possorted_genome_bam.bam.1\", arg_output_path: \"./fastqs\", flag_nthreads: 4, flag_locus: None, flag_bx_list: None, flag_reads_per_fastq: 500000000, flag_gemcode: false, flag_lr20: false, flag_cr11: false }\n",
            "Writing finished.  Observed 207620995 read pairs. Wrote 207620995 read pairs\n"
          ],
          "name": "stdout"
        }
      ]
    },
    {
      "cell_type": "code",
      "metadata": {
        "id": "SXRDRphvqcLe",
        "colab": {
          "base_uri": "https://localhost:8080/"
        },
        "outputId": "7c25291a-e10c-4167-a5da-c19fe84c5b54"
      },
      "source": [
        "# Store fastq names on a list\n",
        "\n",
        "if bam:\n",
        "  # cd into fastqs folder\n",
        "  %cd /content/fastqs\n",
        "\n",
        "  #store the name of the folder generated by bamtofastq\n",
        "  _filename = os.listdir()[0]\n",
        "\n",
        "  # cd into that folder\n",
        "  %cd $_filename\n",
        "\n",
        "  # store fastq names in a list\n",
        "  fastqs = os.listdir()\n",
        "\n",
        "\n",
        "  # Remove I1 and R3 reads not relevant for our analysis\n",
        "\n",
        "  print (\"\\n\\nThis is the complete list of fastqs:\\n -----------\")\n",
        "  for elem in fastqs:\n",
        "    print (elem)\n",
        "\n",
        "  for elem in fastqs:\n",
        "    if re.search(\"_R3_\", elem) or re.search(\"_I1_\", elem):\n",
        "      fastqs.remove(elem)\n",
        "\n",
        "  print (\"\\n\\nThis is the filtered list of fastqs:\\n -----------\")\n",
        "  for elem in fastqs:\n",
        "    print (elem)\n"
      ],
      "execution_count": null,
      "outputs": [
        {
          "output_type": "stream",
          "text": [
            "/content/fastqs\n",
            "/content/fastqs/proximal_MissingLibrary_1_HVNYNBGX2\n",
            "\n",
            "\n",
            "This is the complete list of fastqs:\n",
            " -----------\n",
            "bamtofastq_S1_L001_I1_001.fastq.gz\n",
            "bamtofastq_S1_L001_R1_001.fastq.gz\n",
            "bamtofastq_S1_L002_R1_001.fastq.gz\n",
            "bamtofastq_S1_L003_I1_001.fastq.gz\n",
            "bamtofastq_S1_L003_R1_001.fastq.gz\n",
            "bamtofastq_S1_L001_R2_001.fastq.gz\n",
            "bamtofastq_S1_L002_R2_001.fastq.gz\n",
            "bamtofastq_S1_L004_I1_001.fastq.gz\n",
            "bamtofastq_S1_L003_R2_001.fastq.gz\n",
            "bamtofastq_S1_L004_R1_001.fastq.gz\n",
            "bamtofastq_S1_L004_R2_001.fastq.gz\n",
            "bamtofastq_S1_L002_I1_001.fastq.gz\n",
            "\n",
            "\n",
            "This is the filtered list of fastqs:\n",
            " -----------\n",
            "bamtofastq_S1_L001_R1_001.fastq.gz\n",
            "bamtofastq_S1_L002_R1_001.fastq.gz\n",
            "bamtofastq_S1_L003_R1_001.fastq.gz\n",
            "bamtofastq_S1_L001_R2_001.fastq.gz\n",
            "bamtofastq_S1_L002_R2_001.fastq.gz\n",
            "bamtofastq_S1_L003_R2_001.fastq.gz\n",
            "bamtofastq_S1_L004_R1_001.fastq.gz\n",
            "bamtofastq_S1_L004_R2_001.fastq.gz\n"
          ],
          "name": "stdout"
        }
      ]
    },
    {
      "cell_type": "markdown",
      "metadata": {
        "id": "ZKX3ZDemm_SL"
      },
      "source": [
        "# Writing metadata (edit)"
      ]
    },
    {
      "cell_type": "code",
      "metadata": {
        "id": "FLVS8aB7Dm6J",
        "colab": {
          "base_uri": "https://localhost:8080/"
        },
        "outputId": "dce3fd01-7af3-433f-dc30-bdeca522b94d"
      },
      "source": [
        "if bam:\n",
        "  # sort fastqs alphabetically to get R1 and R2 in order\n",
        "  fastqs = sorted(fastqs)\n",
        "fastqs"
      ],
      "execution_count": null,
      "outputs": [
        {
          "output_type": "execute_result",
          "data": {
            "text/plain": [
              "['bamtofastq_S1_L001_R1_001.fastq.gz',\n",
              " 'bamtofastq_S1_L001_R2_001.fastq.gz',\n",
              " 'bamtofastq_S1_L002_R1_001.fastq.gz',\n",
              " 'bamtofastq_S1_L002_R2_001.fastq.gz',\n",
              " 'bamtofastq_S1_L003_R1_001.fastq.gz',\n",
              " 'bamtofastq_S1_L003_R2_001.fastq.gz',\n",
              " 'bamtofastq_S1_L004_R1_001.fastq.gz',\n",
              " 'bamtofastq_S1_L004_R2_001.fastq.gz']"
            ]
          },
          "metadata": {
            "tags": []
          },
          "execution_count": 6
        }
      ]
    },
    {
      "cell_type": "code",
      "metadata": {
        "id": "dSw2Za240SAo"
      },
      "source": [
        "no_samples = 1\n",
        "\n",
        "database_id = [\"GSE103918\"] * no_samples\n",
        "\n",
        "tissue = [\"lung\"] * no_samples\n",
        "\n",
        "cell_type = [\"NKX2-1 GFP+ lung progenitors\"] * no_samples\n",
        "\n",
        "sample_id = [\"GSM2786157\"] * no_samples\n",
        "\n",
        "condition = [\"proximal media\"] * no_samples\n",
        "\n",
        "species = [\"human\"] * no_samples\n",
        "\n",
        "technology = [\"10xv2\"] * no_samples\n",
        "\n",
        "paper = [\"Muus et al 2020\"] * no_samples\n",
        "\n",
        "figure = [\"Fig 1 a,b  ED Fig 1 a,b,c,d  ED Fig 2 a,b,c,d,e\"] * no_samples\n",
        "\n",
        "\n",
        "# Set string variables for kb functions\n",
        "\n",
        "species_kb = species[0]\n",
        "\n",
        "technology_kb = technology[0]\n",
        "\n",
        "\n"
      ],
      "execution_count": null,
      "outputs": []
    },
    {
      "cell_type": "code",
      "metadata": {
        "id": "cPJgvQYkD1Hq"
      },
      "source": [
        "# Manually correct the relevant lists if necessary:\n",
        "\n",
        "\n"
      ],
      "execution_count": null,
      "outputs": []
    },
    {
      "cell_type": "markdown",
      "metadata": {
        "id": "KlC_6ZzDMKQR"
      },
      "source": [
        "# Download Kallisto index (run)"
      ]
    },
    {
      "cell_type": "code",
      "metadata": {
        "id": "ggRmg-nRN4vX",
        "colab": {
          "base_uri": "https://localhost:8080/"
        },
        "outputId": "daedf66c-66fb-4396-f4cf-ccfa2e4de916"
      },
      "source": [
        "if bam:\n",
        "  # Download the corresponding Kallisto index to folder containing fastqs\n",
        "  !kb ref -d $species_kb -i index.idx -g t2g.txt -f1 transcriptome.fasta\n",
        "\n",
        "if not bam:\n",
        "  %cd /content\n",
        "\n",
        "  # Download the corresponding Kallisto index to content folder\n",
        "  !kb ref -d $species_kb -i index.idx -g t2g.txt -f1 transcriptome.fasta"
      ],
      "execution_count": null,
      "outputs": [
        {
          "output_type": "stream",
          "text": [
            "[2021-03-02 20:56:11,457]    INFO Downloading files for human from https://caltech.box.com/shared/static/v1nm7lpnqz5syh8dyzdk2zs8bglncfib.gz to tmp/v1nm7lpnqz5syh8dyzdk2zs8bglncfib.gz\n",
            "100% 2.23G/2.23G [01:37<00:00, 24.6MB/s]\n",
            "[2021-03-02 20:57:49,938]    INFO Extracting files from tmp/v1nm7lpnqz5syh8dyzdk2zs8bglncfib.gz\n"
          ],
          "name": "stdout"
        }
      ]
    },
    {
      "cell_type": "markdown",
      "metadata": {
        "id": "VInyuq1Dp7iz"
      },
      "source": [
        "# Processing fastq files (select from list)"
      ]
    },
    {
      "cell_type": "code",
      "metadata": {
        "id": "OcqtBuH-pRaX",
        "colab": {
          "base_uri": "https://localhost:8080/"
        },
        "outputId": "a38831e8-d0f2-41ca-8141-6609fb751534"
      },
      "source": [
        "fastqs"
      ],
      "execution_count": null,
      "outputs": [
        {
          "output_type": "execute_result",
          "data": {
            "text/plain": [
              "['bamtofastq_S1_L001_R1_001.fastq.gz',\n",
              " 'bamtofastq_S1_L001_R2_001.fastq.gz',\n",
              " 'bamtofastq_S1_L002_R1_001.fastq.gz',\n",
              " 'bamtofastq_S1_L002_R2_001.fastq.gz',\n",
              " 'bamtofastq_S1_L003_R1_001.fastq.gz',\n",
              " 'bamtofastq_S1_L003_R2_001.fastq.gz',\n",
              " 'bamtofastq_S1_L004_R1_001.fastq.gz',\n",
              " 'bamtofastq_S1_L004_R2_001.fastq.gz']"
            ]
          },
          "metadata": {
            "tags": []
          },
          "execution_count": 10
        }
      ]
    },
    {
      "cell_type": "code",
      "metadata": {
        "id": "5qFzPj-0kZTi",
        "colab": {
          "base_uri": "https://localhost:8080/"
        },
        "outputId": "12c7c07c-d97e-4822-dbb5-0c99435ecbcf"
      },
      "source": [
        "#Specify the sample number you are analyzing\n",
        "number_of_samples = 1\n",
        "\n",
        "# Loop over samples for analysis\n",
        "for i in range(number_of_samples):\n",
        "\n",
        "  # 0-based Index for fastqs:\n",
        "  j = number_of_samples - 1\n",
        "  # Write the kb count command as a string\n",
        "  cmd = \"kb count --h5ad -i index.idx -g t2g.txt -x \" + technology_kb + \" -o output\" + sample_id[i] + \" \\\n",
        "  --filter bustools -t 2 --overwrite \" +\\\n",
        "  fastqs[j] + \" \" + fastqs[j+1] + \" \" + fastqs[j+2]+ \" \" + fastqs[j+3] + \" \" + fastqs[j+4]+ \" \" + fastqs[j+5]+ \" \" + fastqs[j+6] + \" \" + fastqs[j+7]\n",
        "  # Execute it\n",
        "  !$cmd\n",
        "  # Update j to get the two next fastqs\n",
        "  j = j + 2\n",
        "\n",
        "\n"
      ],
      "execution_count": null,
      "outputs": [
        {
          "output_type": "stream",
          "text": [
            "[2021-03-02 20:58:30,074]    INFO Using index index.idx to generate BUS file to outputGSM2786157 from\n",
            "[2021-03-02 20:58:30,074]    INFO         bamtofastq_S1_L001_R1_001.fastq.gz\n",
            "[2021-03-02 20:58:30,074]    INFO         bamtofastq_S1_L001_R2_001.fastq.gz\n",
            "[2021-03-02 20:58:30,074]    INFO         bamtofastq_S1_L002_R1_001.fastq.gz\n",
            "[2021-03-02 20:58:30,074]    INFO         bamtofastq_S1_L002_R2_001.fastq.gz\n",
            "[2021-03-02 20:58:30,074]    INFO         bamtofastq_S1_L003_R1_001.fastq.gz\n",
            "[2021-03-02 20:58:30,074]    INFO         bamtofastq_S1_L003_R2_001.fastq.gz\n",
            "[2021-03-02 20:58:30,074]    INFO         bamtofastq_S1_L004_R1_001.fastq.gz\n",
            "[2021-03-02 20:58:30,074]    INFO         bamtofastq_S1_L004_R2_001.fastq.gz\n",
            "[2021-03-02 21:29:24,451]    INFO Sorting BUS file outputGSM2786157/output.bus to outputGSM2786157/tmp/output.s.bus\n",
            "[2021-03-02 21:32:29,838]    INFO Whitelist not provided\n",
            "[2021-03-02 21:32:29,839]    INFO Copying pre-packaged 10XV2 whitelist to outputGSM2786157\n",
            "[2021-03-02 21:32:29,959]    INFO Inspecting BUS file outputGSM2786157/tmp/output.s.bus\n",
            "[2021-03-02 21:32:59,201]    INFO Correcting BUS records in outputGSM2786157/tmp/output.s.bus to outputGSM2786157/tmp/output.s.c.bus with whitelist outputGSM2786157/10xv2_whitelist.txt\n",
            "[2021-03-02 21:33:27,804]    INFO Sorting BUS file outputGSM2786157/tmp/output.s.c.bus to outputGSM2786157/output.unfiltered.bus\n",
            "[2021-03-02 21:35:11,516]    INFO Generating count matrix outputGSM2786157/counts_unfiltered/cells_x_genes from BUS file outputGSM2786157/output.unfiltered.bus\n",
            "[2021-03-02 21:35:39,863]    INFO Reading matrix outputGSM2786157/counts_unfiltered/cells_x_genes.mtx\n",
            "[2021-03-02 21:35:51,439]    INFO Writing matrix to h5ad outputGSM2786157/counts_unfiltered/adata.h5ad\n",
            "[2021-03-02 21:35:52,339]    INFO Filtering with bustools\n",
            "[2021-03-02 21:35:52,340]    INFO Generating whitelist outputGSM2786157/filter_barcodes.txt from BUS file outputGSM2786157/output.unfiltered.bus\n",
            "[2021-03-02 21:35:53,067]    INFO Correcting BUS records in outputGSM2786157/output.unfiltered.bus to outputGSM2786157/tmp/output.unfiltered.c.bus with whitelist outputGSM2786157/filter_barcodes.txt\n",
            "[2021-03-02 21:36:28,492]    INFO Sorting BUS file outputGSM2786157/tmp/output.unfiltered.c.bus to outputGSM2786157/output.filtered.bus\n",
            "[2021-03-02 21:38:13,454]    INFO Generating count matrix outputGSM2786157/counts_filtered/cells_x_genes from BUS file outputGSM2786157/output.filtered.bus\n",
            "[2021-03-02 21:38:38,530]    INFO Reading matrix outputGSM2786157/counts_filtered/cells_x_genes.mtx\n",
            "[2021-03-02 21:38:47,710]    INFO Writing matrix to h5ad outputGSM2786157/counts_filtered/adata.h5ad\n"
          ],
          "name": "stdout"
        }
      ]
    },
    {
      "cell_type": "markdown",
      "metadata": {
        "id": "VkNLZh_pNFFw"
      },
      "source": [
        "## Load the unfiltered matrix (check dimensions)"
      ]
    },
    {
      "cell_type": "code",
      "metadata": {
        "id": "PppRNeV8AIyw"
      },
      "source": [
        "# Define dict to store data\n",
        "results = {}\n"
      ],
      "execution_count": null,
      "outputs": []
    },
    {
      "cell_type": "code",
      "metadata": {
        "id": "pKmtGf3c_BiZ",
        "cellView": "both",
        "colab": {
          "base_uri": "https://localhost:8080/"
        },
        "outputId": "9ecb4761-2ee6-4dc9-f217-1763f83cccde"
      },
      "source": [
        "# load the unfiltered matrix\n",
        "for i in range(number_of_samples):\n",
        "  results[sample_id[i]] = anndata.read_h5ad(\"output\" + sample_id[i] + \"/counts_unfiltered/adata.h5ad\")\n",
        "  results[sample_id[i]].var[\"gene_id\"] = results[sample_id[i]].var.index.values\n",
        "\n",
        "  t2g = pd.read_csv(\"t2g.txt\", header=None, names=[\"tid\", \"gene_id\", \"gene_name\"], sep=\"\\t\")\n",
        "  t2g.index = t2g.gene_id\n",
        "  t2g = t2g.loc[~t2g.index.duplicated(keep='first')]\n",
        "\n",
        "  results[sample_id[i]].var[\"gene_name\"] = results[sample_id[i]].var.gene_id.map(t2g[\"gene_name\"])\n",
        "  results[sample_id[i]].var.index = results[sample_id[i]].var[\"gene_name\"]\n",
        "  print(\"The unfiltered matrix \" + sample_id[i] + \" contains {} cells by {} genes\".format(len(results[sample_id[i]].obs), len(results[sample_id[i]].var)))\n",
        "\n",
        "  results[sample_id[i]].obs[\"cell_counts\"] = results[sample_id[i]].X.sum(axis=1)\n",
        "  results[sample_id[i]].var[\"gene_counts\"] = nd(results[sample_id[i]].X.sum(axis=0))\n",
        "\n",
        "  results[sample_id[i]].obs[\"n_genes\"] = nd((results[sample_id[i]].X>0).sum(axis=1))\n",
        "  results[sample_id[i]].var[\"n_cells\"] = nd((results[sample_id[i]].X>0).sum(axis=0))\n",
        "\n",
        "  mito_genes = results[sample_id[i]].var_names.str.startswith(\"MT-\" or \"mt-\") \n",
        "  results[sample_id[i]].obs[\"percent_mito\"] = results[sample_id[i]][:,mito_genes].X.sum(axis=1)/results[sample_id[i]].X.sum(axis=1)*100\n",
        "\n",
        "  # Changing the name of the index is necessary to write the file (it won't work with duplicated names)\n",
        "  results[sample_id[i]].var.index.name = \"index\"\n",
        "\n"
      ],
      "execution_count": null,
      "outputs": [
        {
          "output_type": "stream",
          "text": [
            "The unfiltered matrix GSM2786157 contains 258657 cells by 60623 genes\n"
          ],
          "name": "stdout"
        }
      ]
    },
    {
      "cell_type": "markdown",
      "metadata": {
        "id": "hDAUH3eH_2RA"
      },
      "source": [
        "## Filter each matrix individually"
      ]
    },
    {
      "cell_type": "code",
      "metadata": {
        "id": "ukinuaKk_6Po"
      },
      "source": [
        "# Modify this manually to change sample after having assigned the \"expected_num_cells\" and \"mito_criteria\" parameters\n",
        "samp_n = 0\n",
        "\n",
        "\n",
        "# Filtering criteria\n",
        "cell_threshold = 100\n",
        "gene_threshold = 3\n",
        "\n",
        "mito_criteria = 30"
      ],
      "execution_count": null,
      "outputs": []
    },
    {
      "cell_type": "code",
      "metadata": {
        "id": "a5wZB5pEfwNs",
        "cellView": "form",
        "colab": {
          "base_uri": "https://localhost:8080/",
          "height": 726
        },
        "outputId": "7e61a948-5a31-4ebd-d2d0-8bdbf893506f"
      },
      "source": [
        "\n",
        "expected_num_cells = 950#@param {type:\"integer\"}\n",
        "knee = np.sort(nd(results[sample_id[i]].X.sum(axis=1)))[::-1]\n",
        "\n",
        "fig, ax = plt.subplots(figsize=(5, 5))\n",
        "\n",
        "x = knee\n",
        "y = range(len(knee))\n",
        "\n",
        "ax.loglog(x, y, linewidth=5, color=\"g\")\n",
        "\n",
        "ax.axvline(x=knee[expected_num_cells], linewidth=3, color=\"k\")\n",
        "ax.axhline(y=expected_num_cells, linewidth=3, color=\"k\")\n",
        "\n",
        "ax.set_xlabel(\"UMI Counts\")\n",
        "ax.set_ylabel(\"Set of Barcodes\")\n",
        "\n",
        "plt.show()\n",
        "\n",
        "cell_threshold = knee[expected_num_cells]\n",
        "\n",
        "results[\"cell_threshold\" + sample_id[samp_n]] = knee[expected_num_cells]\n",
        "\n",
        "print (\"Cells were filtered down to \" + str(expected_num_cells) + \" with at least \" + str(cell_threshold) + \" UMIs\")\n",
        "\n",
        "\n",
        "mito_criteria = 20#@param {type:\"integer\"}\n",
        "results[\"mito_criteria\" + sample_id[samp_n]] = mito_criteria\n",
        "\n",
        "fig, ax = plt.subplots(figsize=(5,5))\n",
        "\n",
        "\n",
        "x = nd(results[sample_id[i]].obs[\"cell_counts\"][results[sample_id[i]].obs[\"cell_counts\"] > cell_threshold])\n",
        "y = nd(results[sample_id[i]].obs[\"percent_mito\"][results[sample_id[i]].obs[\"cell_counts\"] > cell_threshold])\n",
        "\n",
        "ax.scatter(x, y, color=\"green\", alpha=0.1)\n",
        "\n",
        "ax.axhline(y=mito_criteria, linestyle=\"--\", color=\"k\")\n",
        "\n",
        "\n",
        "ax.set_xlabel(\"UMI Counts\")\n",
        "ax.set_ylabel(\"Percent mito\")\n",
        "\n",
        "\n",
        "plt.show()\n",
        "\n",
        "print(\"We select \" + str(mito_criteria) + \" % as the mitochondrial content threshold\")"
      ],
      "execution_count": null,
      "outputs": [
        {
          "output_type": "display_data",
          "data": {
            "image/png": "[encoded data removed]",
            "text/plain": [
              "<Figure size 360x360 with 1 Axes>"
            ]
          },
          "metadata": {
            "tags": [],
            "image/png": {
              "width": 358,
              "height": 337
            },
            "needs_background": "light"
          }
        },
        {
          "output_type": "stream",
          "text": [
            "Cells were filtered down to 950 with at least 2890.0 UMIs\n"
          ],
          "name": "stdout"
        },
        {
          "output_type": "display_data",
          "data": {
            "image/png": "[encoded data removed]",
            "text/plain": [
              "<Figure size 360x360 with 1 Axes>"
            ]
          },
          "metadata": {
            "tags": [],
            "image/png": {
              "width": 362,
              "height": 338
            },
            "needs_background": "light"
          }
        },
        {
          "output_type": "stream",
          "text": [
            "We select 20 % as the mitochondrial content threshold\n"
          ],
          "name": "stdout"
        }
      ]
    },
    {
      "cell_type": "markdown",
      "metadata": {
        "id": "cr0dPhRDC11-"
      },
      "source": [
        "### Filter anndata object"
      ]
    },
    {
      "cell_type": "code",
      "metadata": {
        "id": "sE51WUA3gVmG",
        "colab": {
          "base_uri": "https://localhost:8080/"
        },
        "outputId": "59d355d0-d52b-491f-d653-1ed4c9afe145"
      },
      "source": [
        "for i in range(number_of_samples):\n",
        "  results[sample_id[i]].obs[\"pass_count_filter\"] = results[sample_id[i]].obs[\"cell_counts\"] > results[\"cell_threshold\" + sample_id[i]]\n",
        "  results[sample_id[i]].obs[\"pass_mito_filter\"] = results[sample_id[i]].obs.percent_mito < results[\"mito_criteria\" + sample_id[i]]\n",
        "  results[sample_id[i]].var[\"pass_gene_filter\"] = results[sample_id[i]].var[\"n_cells\"] > gene_threshold\n",
        "\n",
        "  cell_mask = np.logical_and(results[sample_id[i]].obs[\"pass_count_filter\"].values, results[sample_id[i]].obs[\"pass_mito_filter\"].values)\n",
        "  gene_mask = results[sample_id[i]].var[\"pass_gene_filter\"].values\n",
        "\n",
        "  print(\"Current Shape: {:,} cells x {:,} genes\".format(results[sample_id[i]].shape[0], results[sample_id[i]].shape[1]))\n",
        "  print(\"    New shape: {:,} cells x {:,} genes\".format(cell_mask.sum(), gene_mask.sum()))\n",
        "  results[\"data_\" + sample_id[i]] = results[sample_id[i]][cell_mask, gene_mask]"
      ],
      "execution_count": null,
      "outputs": [
        {
          "output_type": "stream",
          "text": [
            "Current Shape: 258,657 cells x 60,623 genes\n",
            "    New shape: 857 cells x 27,753 genes\n"
          ],
          "name": "stdout"
        }
      ]
    },
    {
      "cell_type": "markdown",
      "metadata": {
        "id": "BxPA81yj4TlU"
      },
      "source": [
        "## Anotate the Anndata object"
      ]
    },
    {
      "cell_type": "code",
      "metadata": {
        "id": "O-q_Qj2U4kDU",
        "colab": {
          "base_uri": "https://localhost:8080/"
        },
        "outputId": "3ff45269-df8f-4ace-ae95-add43f0fac3c"
      },
      "source": [
        "for i in range(number_of_samples):\n",
        "\n",
        "\n",
        "  results[\"data_\" + sample_id[i]].uns[\"database_id\"] = database_id[samp_n]\n",
        "\n",
        "  results[\"data_\" + sample_id[i]].uns[\"tissue\"] = tissue[samp_n]\n",
        "\n",
        "  results[\"data_\" + sample_id[i]].uns[\"cell_type\"] = cell_type[samp_n]\n",
        "\n",
        "  results[\"data_\" + sample_id[i]].uns[\"sample_id\"] = sample_id[samp_n]\n",
        "\n",
        "  results[\"data_\" + sample_id[i]].uns[\"condition\"] = condition[samp_n]\n",
        "\n",
        "  results[\"data_\" + sample_id[i]].uns[\"species\"] = species[samp_n]\n",
        "\n",
        "  results[\"data_\" + sample_id[i]].uns[\"technology\"] = technology[samp_n]\n",
        "\n",
        "  results[\"data_\" + sample_id[i]].uns[\"paper\"] = paper[samp_n]\n",
        "\n",
        "  results[\"data_\" + sample_id[i]].uns[\"figure\"] = figure[samp_n]"
      ],
      "execution_count": null,
      "outputs": [
        {
          "output_type": "stream",
          "text": [
            "Trying to set attribute `.uns` of view, copying.\n",
            "Variable names are not unique. To make them unique, call `.var_names_make_unique`.\n",
            "Variable names are not unique. To make them unique, call `.var_names_make_unique`.\n"
          ],
          "name": "stderr"
        }
      ]
    },
    {
      "cell_type": "markdown",
      "metadata": {
        "id": "3wzCuzAT-gL2"
      },
      "source": [
        "# Write the Anndata object"
      ]
    },
    {
      "cell_type": "code",
      "metadata": {
        "id": "ICc77J94_Kye",
        "colab": {
          "base_uri": "https://localhost:8080/"
        },
        "outputId": "1643b73c-52b0-452f-aea2-db57f47181ee"
      },
      "source": [
        "%cd /content\n",
        "\n",
        "for i in range(number_of_samples):\n",
        "\n",
        "  results[\"data_\" + sample_id[i]].write(\"result\" + sample_id[i])"
      ],
      "execution_count": null,
      "outputs": [
        {
          "output_type": "stream",
          "text": [
            "/content\n"
          ],
          "name": "stdout"
        },
        {
          "output_type": "stream",
          "text": [
            "... storing 'gene_name' as categorical\n"
          ],
          "name": "stderr"
        }
      ]
    },
    {
      "cell_type": "code",
      "metadata": {
        "colab": {
          "base_uri": "https://localhost:8080/"
        },
        "id": "yNN7oPwbzaLX",
        "outputId": "9b93bb30-a19a-4485-f37e-bcd8d6f0dbe9"
      },
      "source": [
        "'''\n",
        "Create TCC matrix\n",
        "'''\n",
        "if not bam:\n",
        "  %cd /content/fastqs\n",
        "\n",
        "if bam:\n",
        "  %cd /content/fastqs/$_filename\n",
        "\n",
        "if no_samples == 1:\n",
        "\n",
        "  # Write the kb count command as a string with all fastqs of the list as an input\n",
        "  cmd = \"kb count --h5ad -i index.idx -g t2g.txt -x \" + technology_kb + \" -o tccoutput\" + sample_id[0] + \" \"\\\n",
        "  + \"--filter bustools -t 2 --tcc --overwrite \" + \"'\" +  \"' '\".join(fastqs) + \"'\"\n",
        "  \n",
        "  # Execute it\n",
        "  !$cmd\n",
        "\n",
        "# If more than one sample, iterate through fastqs accordingly\n",
        "else:\n",
        "\n",
        "  # Initializa counter for fastq files\n",
        "  j = 0\n",
        "\n",
        "  # Loop over samples for analysis\n",
        "  for i in range(no_samples):\n",
        "\n",
        "    fastqs_to_analyze = fastqs[j:j + fastqs_per_sample[i]]\n",
        "    # Write the kb count command as a string\n",
        "    cmd = \"kb count --h5ad -i index.idx -g t2g.txt -x \" + technology_kb + \" -o tccoutput\" + sample_id[i] + \" \\\n",
        "    --filter bustools -t 2 --tcc --overwrite \" + \"'\" +  \"' '\".join(fastqs_to_analyze) + \"'\"\n",
        "\n",
        "    # Execute it\n",
        "    !$cmd\n",
        "\n",
        "    # Update j to move to the next set of fastq\n",
        "    j = j + fastqs_per_sample[i]\n",
        "\n",
        "\n",
        "tcc_results = {}\n",
        "\n",
        "for sample in sample_id:\n",
        "  output = \"bus_raw_\" + sample\n",
        "  !mkdir $output\n",
        "  folder_tcc = \"tccoutput\" + sample\n",
        "  folder_gc = \"output\" + sample\n",
        "\n",
        "  # read tcc matrix\n",
        "  tcc_results[sample] = anndata.read(folder_tcc + \"/counts_unfiltered/adata.h5ad\")\n",
        "  # apply gene count matrix's filter\n",
        "  tcc_results[sample] = tcc_results[sample][results[\"data_\" + sample_id[i]].obs.index.values]\n",
        "  # transfer obs data\n",
        "  tcc_results[sample].obs = results[\"data_\" + sample].obs\n",
        "  # transfer metadata\n",
        "  tcc_results[sample].uns = results[\"data_\" + sample].uns\n",
        "  # write tcc matrix\n",
        "  tcc_results[sample].write(\"/content/tcc_\" + sample)\n",
        "  #gzip tcc matrix\n",
        "  cmd = \"gzip /content/tcc_\" + sample\n",
        "  !$cmd\n",
        "  #gzip unfiltered bus file\n",
        "  cmd = \"gzip \" + folder_tcc + \"/output.unfiltered.bus\"\n",
        "  !$cmd\n",
        "  # move and re-name bus file with sample id\n",
        "  cmd = \"mv \" + folder_tcc + \"/output.unfiltered.bus.gz \" + output + \"/\" + sample +\".unfiltered.bus.gz\"\n",
        "  !$cmd\n",
        "  # gzip all unfiltered counts\n",
        "  cmd = \"gzip \" + folder_tcc + \"/counts_unfiltered/*\"\n",
        "  !$cmd\n",
        "  cmd = \"gzip \" + folder_gc + \"/counts_unfiltered/*\"\n",
        "  !$cmd\n",
        "  # move unfiltered counts for both\n",
        "  cmd = \"mv \" + folder_tcc + \"/counts_unfiltered \" + output + \"/tcc_unfiltered\"\n",
        "  !$cmd\n",
        "  cmd = \"mv \" + folder_gc + \"/counts_unfiltered \" + output + \"/gc_unfiltered\"\n",
        "  !$cmd\n",
        "  cmd = \"mv \" + folder_gc + \"/counts_unfiltered \" + output + \"/gc_unfiltered\"\n",
        "  !$cmd\n",
        "  cmd = \"mv \" + folder_gc + \"/json* \" + output + \"/gc_unfiltered\"\n",
        "  !$cmd\n",
        "  # zip all files\n",
        "  cmd = \"zip -r /content\" + output + \".zip \" + output\n",
        "  !$cmd"
      ],
      "execution_count": null,
      "outputs": [
        {
          "output_type": "stream",
          "text": [
            "/content/fastqs/proximal_MissingLibrary_1_HVNYNBGX2\n",
            "[2021-03-03 01:57:24,115]    INFO Using index index.idx to generate BUS file to tccoutputGSM2786157 from\n",
            "[2021-03-03 01:57:24,116]    INFO         bamtofastq_S1_L001_R1_001.fastq.gz\n",
            "[2021-03-03 01:57:24,116]    INFO         bamtofastq_S1_L001_R2_001.fastq.gz\n",
            "[2021-03-03 01:57:24,116]    INFO         bamtofastq_S1_L002_R1_001.fastq.gz\n",
            "[2021-03-03 01:57:24,116]    INFO         bamtofastq_S1_L002_R2_001.fastq.gz\n",
            "[2021-03-03 01:57:24,116]    INFO         bamtofastq_S1_L003_R1_001.fastq.gz\n",
            "[2021-03-03 01:57:24,116]    INFO         bamtofastq_S1_L003_R2_001.fastq.gz\n",
            "[2021-03-03 01:57:24,116]    INFO         bamtofastq_S1_L004_R1_001.fastq.gz\n",
            "[2021-03-03 01:57:24,116]    INFO         bamtofastq_S1_L004_R2_001.fastq.gz\n",
            "[2021-03-03 02:28:18,533]    INFO Sorting BUS file tccoutputGSM2786157/output.bus to tccoutputGSM2786157/tmp/output.s.bus\n",
            "[2021-03-03 02:31:24,300]    INFO Whitelist not provided\n",
            "[2021-03-03 02:31:24,300]    INFO Copying pre-packaged 10XV2 whitelist to tccoutputGSM2786157\n",
            "[2021-03-03 02:31:24,421]    INFO Inspecting BUS file tccoutputGSM2786157/tmp/output.s.bus\n",
            "[2021-03-03 02:31:52,378]    INFO Correcting BUS records in tccoutputGSM2786157/tmp/output.s.bus to tccoutputGSM2786157/tmp/output.s.c.bus with whitelist tccoutputGSM2786157/10xv2_whitelist.txt\n",
            "[2021-03-03 02:32:18,991]    INFO Sorting BUS file tccoutputGSM2786157/tmp/output.s.c.bus to tccoutputGSM2786157/output.unfiltered.bus\n",
            "[2021-03-03 02:34:03,075]    INFO Generating count matrix tccoutputGSM2786157/counts_unfiltered/cells_x_tcc from BUS file tccoutputGSM2786157/output.unfiltered.bus\n",
            "[2021-03-03 02:35:11,074]    INFO Reading matrix tccoutputGSM2786157/counts_unfiltered/cells_x_tcc.mtx\n",
            "[2021-03-03 02:36:11,963]    INFO Writing matrix to h5ad tccoutputGSM2786157/counts_unfiltered/adata.h5ad\n",
            "[2021-03-03 02:40:17,427]    INFO Filtering with bustools\n",
            "[2021-03-03 02:40:17,427]    INFO Generating whitelist tccoutputGSM2786157/filter_barcodes.txt from BUS file tccoutputGSM2786157/output.unfiltered.bus\n",
            "[2021-03-03 02:40:18,344]    INFO Correcting BUS records in tccoutputGSM2786157/output.unfiltered.bus to tccoutputGSM2786157/tmp/output.unfiltered.c.bus with whitelist tccoutputGSM2786157/filter_barcodes.txt\n",
            "[2021-03-03 02:40:52,703]    INFO Sorting BUS file tccoutputGSM2786157/tmp/output.unfiltered.c.bus to tccoutputGSM2786157/output.filtered.bus\n",
            "[2021-03-03 02:43:11,664]    INFO Generating count matrix tccoutputGSM2786157/counts_filtered/cells_x_tcc from BUS file tccoutputGSM2786157/output.filtered.bus\n",
            "[2021-03-03 02:44:26,762]    INFO Reading matrix tccoutputGSM2786157/counts_filtered/cells_x_tcc.mtx\n",
            "[2021-03-03 02:45:23,059]    INFO Writing matrix to h5ad tccoutputGSM2786157/counts_filtered/adata.h5ad\n",
            "mv: cannot stat 'outputGSM2786157/counts_unfiltered': No such file or directory\n",
            "mv: cannot stat 'outputGSM2786157/json*': No such file or directory\n",
            "  adding: bus_raw_GSM2786157/ (stored 0%)\n",
            "  adding: bus_raw_GSM2786157/tcc_unfiltered/ (stored 0%)\n",
            "  adding: bus_raw_GSM2786157/tcc_unfiltered/adata.h5ad.gz (deflated 6%)\n",
            "  adding: bus_raw_GSM2786157/tcc_unfiltered/cells_x_tcc.mtx.gz (deflated 0%)\n",
            "  adding: bus_raw_GSM2786157/tcc_unfiltered/cells_x_tcc.barcodes.txt.gz (deflated 1%)\n",
            "  adding: bus_raw_GSM2786157/tcc_unfiltered/cells_x_tcc.ec.txt.gz (deflated 1%)\n",
            "  adding: bus_raw_GSM2786157/gc_unfiltered/ (stored 0%)\n",
            "  adding: bus_raw_GSM2786157/gc_unfiltered/cells_x_genes.barcodes.txt.gz (deflated 1%)\n",
            "  adding: bus_raw_GSM2786157/gc_unfiltered/adata.h5ad.gz (deflated 4%)\n",
            "  adding: bus_raw_GSM2786157/gc_unfiltered/cells_x_genes.mtx.gz (deflated 0%)\n",
            "  adding: bus_raw_GSM2786157/gc_unfiltered/cells_x_genes.genes.txt.gz (deflated 0%)\n",
            "  adding: bus_raw_GSM2786157/GSM2786157.unfiltered.bus.gz (deflated 4%)\n"
          ],
          "name": "stdout"
        }
      ]
    },
    {
      "cell_type": "code",
      "metadata": {
        "colab": {
          "base_uri": "https://localhost:8080/"
        },
        "id": "JNHB99EGBcL9",
        "outputId": "9b88b301-9688-4feb-9584-988db08f1d25"
      },
      "source": [
        "!zip -r /content/fastqs/proximal_MissingLibrary_1_HVNYNBGX2/bus_raw_GSM2786157.zip /content/fastqs/proximal_MissingLibrary_1_HVNYNBGX2/bus_raw_GSM2786157"
      ],
      "execution_count": null,
      "outputs": [
        {
          "output_type": "stream",
          "text": [
            "  adding: content/fastqs/proximal_MissingLibrary_1_HVNYNBGX2/bus_raw_GSM2786157/ (stored 0%)\n",
            "  adding: content/fastqs/proximal_MissingLibrary_1_HVNYNBGX2/bus_raw_GSM2786157/tcc_unfiltered/ (stored 0%)\n",
            "  adding: content/fastqs/proximal_MissingLibrary_1_HVNYNBGX2/bus_raw_GSM2786157/tcc_unfiltered/adata.h5ad.gz (deflated 6%)\n",
            "  adding: content/fastqs/proximal_MissingLibrary_1_HVNYNBGX2/bus_raw_GSM2786157/tcc_unfiltered/cells_x_tcc.mtx.gz (deflated 0%)\n",
            "  adding: content/fastqs/proximal_MissingLibrary_1_HVNYNBGX2/bus_raw_GSM2786157/tcc_unfiltered/cells_x_tcc.barcodes.txt.gz (deflated 1%)\n",
            "  adding: content/fastqs/proximal_MissingLibrary_1_HVNYNBGX2/bus_raw_GSM2786157/tcc_unfiltered/cells_x_tcc.ec.txt.gz (deflated 1%)\n",
            "  adding: content/fastqs/proximal_MissingLibrary_1_HVNYNBGX2/bus_raw_GSM2786157/run_info.json (deflated 56%)\n",
            "  adding: content/fastqs/proximal_MissingLibrary_1_HVNYNBGX2/bus_raw_GSM2786157/kb_info.json (deflated 77%)\n",
            "  adding: content/fastqs/proximal_MissingLibrary_1_HVNYNBGX2/bus_raw_GSM2786157/gc_unfiltered/ (stored 0%)\n",
            "  adding: content/fastqs/proximal_MissingLibrary_1_HVNYNBGX2/bus_raw_GSM2786157/gc_unfiltered/cells_x_genes.barcodes.txt.gz (deflated 1%)\n",
            "  adding: content/fastqs/proximal_MissingLibrary_1_HVNYNBGX2/bus_raw_GSM2786157/gc_unfiltered/adata.h5ad.gz (deflated 4%)\n",
            "  adding: content/fastqs/proximal_MissingLibrary_1_HVNYNBGX2/bus_raw_GSM2786157/gc_unfiltered/cells_x_genes.mtx.gz (deflated 0%)\n",
            "  adding: content/fastqs/proximal_MissingLibrary_1_HVNYNBGX2/bus_raw_GSM2786157/gc_unfiltered/cells_x_genes.genes.txt.gz (deflated 0%)\n",
            "  adding: content/fastqs/proximal_MissingLibrary_1_HVNYNBGX2/bus_raw_GSM2786157/GSM2786157.unfiltered.bus.gz (deflated 4%)\n",
            "  adding: content/fastqs/proximal_MissingLibrary_1_HVNYNBGX2/bus_raw_GSM2786157/inspect.json (deflated 57%)\n"
          ],
          "name": "stdout"
        }
      ]
    }
  ]
}