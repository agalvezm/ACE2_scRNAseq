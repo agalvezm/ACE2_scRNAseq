{
  "nbformat": 4,
  "nbformat_minor": 0,
  "metadata": {
    "colab": {
      "name": "GSE109037:GSM3302525_HNTYNBGX3",
      "provenance": [],
      "collapsed_sections": [],
      "include_colab_link": true
    },
    "kernelspec": {
      "name": "python3",
      "display_name": "Python 3"
    }
  },
  "cells": [
    {
      "cell_type": "markdown",
      "metadata": {
        "id": "view-in-github",
        "colab_type": "text"
      },
      "source": [
        "<a href=\"https://colab.research.google.com/github/agalvezm/ACE2_scRNAseq/blob/master/tcc/GSE109037_GSM3302525_from_gc.ipynb\" target=\"_parent\"><img src=\"https://colab.research.google.com/assets/colab-badge.svg\" alt=\"Open In Colab\"/></a>"
      ]
    },
    {
      "cell_type": "markdown",
      "metadata": {
        "id": "V9ryXluJsJw9"
      },
      "source": [
        "# GSE109037:GSM3302525"
      ]
    },
    {
      "cell_type": "markdown",
      "metadata": {
        "id": "vOLABRNLVy50"
      },
      "source": [
        "\n",
        "This notebook uses the filtered count matrix resulting from the following google colab notebook. https://github.com/agalvezm/ACE2_scRNAseq/blob/master/notebooks_countmatrices/GSE109037_GSM3302525.ipynb Please run the notebook above and upload the results file in /content"
      ]
    },
    {
      "cell_type": "code",
      "metadata": {
        "id": "ggNFAQJCRh6P",
        "colab": {
          "base_uri": "https://localhost:8080/"
        },
        "outputId": "216deefa-84b2-4803-9770-1842674078d4"
      },
      "source": [
        "# define the values for the analysis\n",
        "\n",
        "# accession id for the data\n",
        "id = \"GSE109037\"\n",
        "\n",
        "# If only bam available files, set bam = True, Fill link and filename\n",
        "bam = True\n",
        "if bam:\n",
        "  # Assign link to python variable\n",
        "  link_to_bam = \"https://sra-pub-src-1.s3.amazonaws.com/SRR7553901/AdultHuman_Spermatids_17_11_possorted_genome_bam.bam.1\"\n",
        "  \n",
        "  # Assigns the link to the bash variable BAM_LINK. To be used by wget\n",
        "  %env BAM_LINK=$link_to_bam\n",
        "\n",
        "  # Assign filename to python variable. Used to convert to fastq and remove bam file to fastq after conversion\n",
        "\n",
        "  bam_filename=\"AdultHuman_Spermatids_17_11_possorted_genome_bam.bam.1\"\n",
        "\n",
        "if not bam:\n",
        "  fastqs = [\"\",\n",
        "            \"\",\n",
        "            ]\n"
      ],
      "execution_count": 1,
      "outputs": [
        {
          "output_type": "stream",
          "text": [
            "env: BAM_LINK=https://sra-pub-src-1.s3.amazonaws.com/SRR7553901/AdultHuman_Spermatids_17_11_possorted_genome_bam.bam.1\n"
          ],
          "name": "stdout"
        }
      ]
    },
    {
      "cell_type": "code",
      "metadata": {
        "id": "5R3tPDqnoJUn"
      },
      "source": [
        "no_samples = 1\n",
        "\n",
        "database_id = [id] * no_samples\n",
        "\n",
        "tissue = [\"testis\"] * no_samples\n",
        "\n",
        "cell_type = [\"spermatids\"] * no_samples\n",
        "\n",
        "sample_id = [\"GSM3302525\"] * no_samples\n",
        "\n",
        "condition = [\"17-11\"] * no_samples\n",
        "\n",
        "species = [\"human\"] * no_samples\n",
        "\n",
        "technology = [\"10xv2\"] * no_samples\n",
        "\n",
        "paper = [\"Muus et al 2020\"] * no_samples\n",
        "\n",
        "figure = [\"Fig 1 a,b  ED Fig 1 a,b,c,d  ED Fig 2 a,b,c,d,e\"] * no_samples\n",
        "\n",
        "\n",
        "# Set string variables for kb functions\n",
        "\n",
        "species_kb = species[0]\n",
        "\n",
        "technology_kb = technology[0]"
      ],
      "execution_count": 2,
      "outputs": []
    },
    {
      "cell_type": "markdown",
      "metadata": {
        "id": "FPwL0-_-KSAw"
      },
      "source": [
        "# Imports and installs"
      ]
    },
    {
      "cell_type": "code",
      "metadata": {
        "id": "1HSlUGZEp3oP",
        "colab": {
          "base_uri": "https://localhost:8080/"
        },
        "outputId": "9b568977-bbff-47a0-e580-9dbc0b625cd5"
      },
      "source": [
        "# install and import necessary software\n",
        "\n",
        "# Install kb and scanpy\n",
        "!pip -q install kb-python \n",
        "!pip -q install scanpy\n",
        "\n",
        "import re\n",
        "import os\n",
        "\n",
        "# Setup\n",
        "\n",
        "import anndata\n",
        "import pandas as pd\n",
        "import numpy as np\n",
        "import matplotlib.pyplot as plt\n",
        "import matplotlib as mpl\n",
        "import matplotlib.patches as mpatches\n",
        "import scanpy as sc\n",
        "from scipy import stats\n",
        "\n",
        "from collections import OrderedDict\n",
        "from sklearn.decomposition import TruncatedSVD\n",
        "from sklearn.manifold import TSNE\n",
        "from sklearn.preprocessing import scale\n",
        "\n",
        "from sklearn.cluster import KMeans\n",
        "from sklearn.preprocessing import normalize\n",
        "from sklearn.preprocessing import LabelEncoder\n",
        "from sklearn.neighbors import NeighborhoodComponentsAnalysis\n",
        "from matplotlib import cm\n",
        "from matplotlib.lines import Line2D\n",
        "\n",
        "def nd(arr):\n",
        "    return np.asarray(arr).reshape(-1)\n",
        "def yex(ax):\n",
        "    lims = [np.min([ax.get_xlim(), ax.get_ylim()]),\n",
        "            np.max([ax.get_xlim(), ax.get_ylim()])]\n",
        "\n",
        "    # now plot both limits against eachother\n",
        "    ax.plot(lims, lims, 'k-', alpha=0.75, zorder=0)\n",
        "    ax.set_aspect('equal')\n",
        "    ax.set_xlim(lims)\n",
        "    ax.set_ylim(lims)\n",
        "    return ax\n",
        "\n",
        "def trim_axs(axs, N):\n",
        "    \"\"\"little helper to massage the axs list to have correct length...\"\"\"\n",
        "    axs = axs.flat\n",
        "    for ax in axs[N:]:\n",
        "        ax.remove()\n",
        "    return axs[:N]\n",
        "\n",
        "import warnings\n",
        "warnings.filterwarnings('ignore')\n",
        "\n",
        "fsize=20\n",
        "\n",
        "plt.rcParams.update({'font.size': fsize})\n",
        "%config InlineBackend.figure_format = 'retina'"
      ],
      "execution_count": 3,
      "outputs": [
        {
          "output_type": "stream",
          "text": [
            "\u001b[K     |████████████████████████████████| 59.1MB 118kB/s \n",
            "\u001b[K     |████████████████████████████████| 10.3MB 46.1MB/s \n",
            "\u001b[K     |████████████████████████████████| 13.2MB 43.1MB/s \n",
            "\u001b[K     |████████████████████████████████| 122kB 48.3MB/s \n",
            "\u001b[K     |████████████████████████████████| 51kB 6.8MB/s \n",
            "\u001b[K     |████████████████████████████████| 112kB 56.1MB/s \n",
            "\u001b[K     |████████████████████████████████| 71kB 8.8MB/s \n",
            "\u001b[K     |████████████████████████████████| 51kB 7.0MB/s \n",
            "\u001b[?25h  Building wheel for loompy (setup.py) ... \u001b[?25l\u001b[?25hdone\n",
            "  Building wheel for sinfo (setup.py) ... \u001b[?25l\u001b[?25hdone\n",
            "  Building wheel for numpy-groupies (setup.py) ... \u001b[?25l\u001b[?25hdone\n"
          ],
          "name": "stdout"
        }
      ]
    },
    {
      "cell_type": "markdown",
      "metadata": {
        "id": "7V6FbosVrvP4"
      },
      "source": [
        "# Downloads: (bam (if bam) and index"
      ]
    },
    {
      "cell_type": "code",
      "metadata": {
        "id": "q46hw4zqKUPS",
        "colab": {
          "base_uri": "https://localhost:8080/"
        },
        "outputId": "56a2843d-acb9-4b19-e942-52f9545f68a4"
      },
      "source": [
        "if bam:\n",
        "\n",
        "  # Install bamtofastq from 10x website (only bam files available)\n",
        "  !wget http://cf.10xgenomics.com/misc/bamtofastq-1.2.0\n",
        "  !chmod +x bamtofastq-1.2.0\n",
        "  # Download the bam file\n",
        "  !wget -- continue ${BAM_LINK}\n",
        "\n",
        "\n"
      ],
      "execution_count": 4,
      "outputs": [
        {
          "output_type": "stream",
          "text": [
            "--2021-03-22 19:10:18--  http://cf.10xgenomics.com/misc/bamtofastq-1.2.0\n",
            "Resolving cf.10xgenomics.com (cf.10xgenomics.com)... 104.18.1.173, 104.18.0.173, 2606:4700::6812:ad, ...\n",
            "Connecting to cf.10xgenomics.com (cf.10xgenomics.com)|104.18.1.173|:80... connected.\n",
            "HTTP request sent, awaiting response... 301 Moved Permanently\n",
            "Location: https://cf.10xgenomics.com/misc/bamtofastq-1.2.0 [following]\n",
            "--2021-03-22 19:10:18--  https://cf.10xgenomics.com/misc/bamtofastq-1.2.0\n",
            "Connecting to cf.10xgenomics.com (cf.10xgenomics.com)|104.18.1.173|:443... connected.\n",
            "HTTP request sent, awaiting response... 200 OK\n",
            "Length: 13288280 (13M) [binary/octet-stream]\n",
            "Saving to: ‘bamtofastq-1.2.0’\n",
            "\n",
            "bamtofastq-1.2.0    100%[===================>]  12.67M  26.5MB/s    in 0.5s    \n",
            "\n",
            "2021-03-22 19:10:19 (26.5 MB/s) - ‘bamtofastq-1.2.0’ saved [13288280/13288280]\n",
            "\n",
            "--2021-03-22 19:10:19--  http://continue/\n",
            "Resolving continue (continue)... failed: Name or service not known.\n",
            "wget: unable to resolve host address ‘continue’\n",
            "--2021-03-22 19:10:19--  https://sra-pub-src-1.s3.amazonaws.com/SRR7553901/AdultHuman_Spermatids_17_11_possorted_genome_bam.bam.1\n",
            "Resolving sra-pub-src-1.s3.amazonaws.com (sra-pub-src-1.s3.amazonaws.com)... 52.216.94.227\n",
            "Connecting to sra-pub-src-1.s3.amazonaws.com (sra-pub-src-1.s3.amazonaws.com)|52.216.94.227|:443... connected.\n",
            "HTTP request sent, awaiting response... 200 OK\n",
            "Length: 25049229620 (23G) [application/x-troff-man]\n",
            "Saving to: ‘AdultHuman_Spermatids_17_11_possorted_genome_bam.bam.1’\n",
            "\n",
            "AdultHuman_Spermati 100%[===================>]  23.33G  44.3MB/s    in 9m 50s  \n",
            "\n",
            "2021-03-22 19:20:10 (40.5 MB/s) - ‘AdultHuman_Spermatids_17_11_possorted_genome_bam.bam.1’ saved [25049229620/25049229620]\n",
            "\n",
            "FINISHED --2021-03-22 19:20:10--\n",
            "Total wall clock time: 9m 50s\n",
            "Downloaded: 1 files, 23G in 9m 50s (40.5 MB/s)\n"
          ],
          "name": "stdout"
        }
      ]
    },
    {
      "cell_type": "code",
      "metadata": {
        "id": "tDQlrjtqNF0m",
        "colab": {
          "base_uri": "https://localhost:8080/"
        },
        "outputId": "59b1dcbb-a409-4f06-e0b2-64192d404c49"
      },
      "source": [
        "if bam:\n",
        "  # Convert to fastq\n",
        "  !./bamtofastq-1.2.0 --reads-per-fastq=500000000 $bam_filename ./fastqs\\\n",
        "\n",
        "  # Remove original bam file to save space\n",
        "  !rm $bam_filename\n"
      ],
      "execution_count": 5,
      "outputs": [
        {
          "output_type": "stream",
          "text": [
            "bamtofastq v1.2.0\n",
            "Args { arg_bam: \"AdultHuman_Spermatids_17_11_possorted_genome_bam.bam.1\", arg_output_path: \"./fastqs\", flag_nthreads: 4, flag_locus: None, flag_bx_list: None, flag_reads_per_fastq: 500000000, flag_gemcode: false, flag_lr20: false, flag_cr11: false }\n",
            "Writing finished.  Observed 280859741 read pairs. Wrote 280859741 read pairs\n"
          ],
          "name": "stdout"
        }
      ]
    },
    {
      "cell_type": "code",
      "metadata": {
        "id": "0pfrwiFECWqm"
      },
      "source": [
        "\n",
        "!cd /content/fastqs/Human_SS082317_Std2_MissingLibrary_1_HNV7CBGX3; for f in * ; do mv -- \"$f\" \"second_$f\" ; done"
      ],
      "execution_count": 6,
      "outputs": []
    },
    {
      "cell_type": "code",
      "metadata": {
        "id": "i3UYSqSaCoFc"
      },
      "source": [
        "!mv /content/fastqs/Human_SS082317_Std2_MissingLibrary_1_HNV7CBGX3/* /content/fastqs/Human_SS082317_Std2_MissingLibrary_1_HNTYNBGX3"
      ],
      "execution_count": 7,
      "outputs": []
    },
    {
      "cell_type": "code",
      "metadata": {
        "id": "SXRDRphvqcLe",
        "colab": {
          "base_uri": "https://localhost:8080/"
        },
        "outputId": "ba426850-26c1-4968-8eb5-d1b99ccb6377"
      },
      "source": [
        "# Store fastq names on a list\n",
        "\n",
        "if bam:\n",
        "  # cd into fastqs folder\n",
        "  %cd /content/fastqs\n",
        "\n",
        "  #store the name of the folder generated by bamtofastq\n",
        "  _filename = os.listdir()[0]\n",
        "\n",
        "  # MODIFIED: cd into specific bam foler\n",
        "  %cd /content/fastqs/Human_SS082317_Std2_MissingLibrary_1_HNTYNBGX3/\n",
        "\n",
        "  # store fastq names in a list\n",
        "  fastqs = os.listdir()\n",
        "\n",
        "\n",
        "  # Remove I1 and R3 reads not relevant for our analysis\n",
        "\n",
        "  print (\"\\n\\nThis is the complete list of fastqs:\\n -----------\")\n",
        "  for elem in fastqs:\n",
        "    print (elem)\n",
        "\n",
        "  for elem in fastqs:\n",
        "    if re.search(\"_R3_\", elem) or re.search(\"_I1_\", elem):\n",
        "      fastqs.remove(elem)\n",
        "\n",
        "  print (\"\\n\\nThis is the filtered list of fastqs:\\n -----------\")\n",
        "  for elem in fastqs:\n",
        "    print (elem)\n"
      ],
      "execution_count": 8,
      "outputs": [
        {
          "output_type": "stream",
          "text": [
            "/content/fastqs\n",
            "/content/fastqs/Human_SS082317_Std2_MissingLibrary_1_HNTYNBGX3\n",
            "\n",
            "\n",
            "This is the complete list of fastqs:\n",
            " -----------\n",
            "bamtofastq_S1_L002_R2_001.fastq.gz\n",
            "second_bamtofastq_S1_L001_R1_001.fastq.gz\n",
            "second_bamtofastq_S1_L002_R1_001.fastq.gz\n",
            "bamtofastq_S1_L002_R1_001.fastq.gz\n",
            "second_bamtofastq_S1_L003_R1_001.fastq.gz\n",
            "bamtofastq_S1_L003_I1_001.fastq.gz\n",
            "bamtofastq_S1_L004_I1_001.fastq.gz\n",
            "bamtofastq_S1_L001_R2_001.fastq.gz\n",
            "bamtofastq_S1_L004_R1_001.fastq.gz\n",
            "second_bamtofastq_S1_L003_I1_001.fastq.gz\n",
            "second_bamtofastq_S1_L002_I1_001.fastq.gz\n",
            "bamtofastq_S1_L002_I1_001.fastq.gz\n",
            "bamtofastq_S1_L001_R1_001.fastq.gz\n",
            "second_bamtofastq_S1_L003_R2_001.fastq.gz\n",
            "bamtofastq_S1_L003_R2_001.fastq.gz\n",
            "bamtofastq_S1_L001_I1_001.fastq.gz\n",
            "second_bamtofastq_S1_L001_I1_001.fastq.gz\n",
            "second_bamtofastq_S1_L004_R1_001.fastq.gz\n",
            "bamtofastq_S1_L003_R1_001.fastq.gz\n",
            "second_bamtofastq_S1_L001_R2_001.fastq.gz\n",
            "second_bamtofastq_S1_L002_R2_001.fastq.gz\n",
            "bamtofastq_S1_L004_R2_001.fastq.gz\n",
            "second_bamtofastq_S1_L004_R2_001.fastq.gz\n",
            "second_bamtofastq_S1_L004_I1_001.fastq.gz\n",
            "\n",
            "\n",
            "This is the filtered list of fastqs:\n",
            " -----------\n",
            "bamtofastq_S1_L002_R2_001.fastq.gz\n",
            "second_bamtofastq_S1_L001_R1_001.fastq.gz\n",
            "second_bamtofastq_S1_L002_R1_001.fastq.gz\n",
            "bamtofastq_S1_L002_R1_001.fastq.gz\n",
            "second_bamtofastq_S1_L003_R1_001.fastq.gz\n",
            "bamtofastq_S1_L004_I1_001.fastq.gz\n",
            "bamtofastq_S1_L001_R2_001.fastq.gz\n",
            "bamtofastq_S1_L004_R1_001.fastq.gz\n",
            "second_bamtofastq_S1_L002_I1_001.fastq.gz\n",
            "bamtofastq_S1_L001_R1_001.fastq.gz\n",
            "second_bamtofastq_S1_L003_R2_001.fastq.gz\n",
            "bamtofastq_S1_L003_R2_001.fastq.gz\n",
            "second_bamtofastq_S1_L001_I1_001.fastq.gz\n",
            "second_bamtofastq_S1_L004_R1_001.fastq.gz\n",
            "bamtofastq_S1_L003_R1_001.fastq.gz\n",
            "second_bamtofastq_S1_L001_R2_001.fastq.gz\n",
            "second_bamtofastq_S1_L002_R2_001.fastq.gz\n",
            "bamtofastq_S1_L004_R2_001.fastq.gz\n",
            "second_bamtofastq_S1_L004_R2_001.fastq.gz\n"
          ],
          "name": "stdout"
        }
      ]
    },
    {
      "cell_type": "code",
      "metadata": {
        "id": "FLVS8aB7Dm6J"
      },
      "source": [
        "if bam:\n",
        "  # sort fastqs alphabetically to get R1 and R2 in order\n",
        "  fastqs = sorted(fastqs)"
      ],
      "execution_count": 9,
      "outputs": []
    },
    {
      "cell_type": "code",
      "metadata": {
        "id": "PC9oETW1pE9t",
        "colab": {
          "base_uri": "https://localhost:8080/"
        },
        "outputId": "188920f6-96c6-4371-90ec-b93a01149479"
      },
      "source": [
        "if bam:\n",
        "  # Download the corresponding Kallisto index to folder containing fastqs\n",
        "  !kb ref -d $species_kb -i index.idx -g t2g.txt -f1 transcriptome.fasta\n",
        "\n",
        "if not bam:\n",
        "  %cd /content\n",
        "\n",
        "  # Download the corresponding Kallisto index to content folder\n",
        "  !kb ref -d $species_kb -i index.idx -g t2g.txt -f1 transcriptome.fasta"
      ],
      "execution_count": 10,
      "outputs": [
        {
          "output_type": "stream",
          "text": [
            "[2021-03-22 20:06:50,117]    INFO Downloading files for human from https://caltech.box.com/shared/static/v1nm7lpnqz5syh8dyzdk2zs8bglncfib.gz to tmp/v1nm7lpnqz5syh8dyzdk2zs8bglncfib.gz\n",
            "100% 2.23G/2.23G [01:22<00:00, 29.0MB/s]\n",
            "[2021-03-22 20:08:13,738]    INFO Extracting files from tmp/v1nm7lpnqz5syh8dyzdk2zs8bglncfib.gz\n"
          ],
          "name": "stdout"
        }
      ]
    },
    {
      "cell_type": "code",
      "metadata": {
        "id": "vHVNa51Cp9Nr",
        "colab": {
          "base_uri": "https://localhost:8080/"
        },
        "outputId": "3cbfa424-bae3-4a69-91cb-fda7bfdd2e29"
      },
      "source": [
        "print(fastqs)"
      ],
      "execution_count": 11,
      "outputs": [
        {
          "output_type": "stream",
          "text": [
            "['bamtofastq_S1_L001_R1_001.fastq.gz', 'bamtofastq_S1_L001_R2_001.fastq.gz', 'bamtofastq_S1_L002_R1_001.fastq.gz', 'bamtofastq_S1_L002_R2_001.fastq.gz', 'bamtofastq_S1_L003_R1_001.fastq.gz', 'bamtofastq_S1_L003_R2_001.fastq.gz', 'bamtofastq_S1_L004_I1_001.fastq.gz', 'bamtofastq_S1_L004_R1_001.fastq.gz', 'bamtofastq_S1_L004_R2_001.fastq.gz', 'second_bamtofastq_S1_L001_I1_001.fastq.gz', 'second_bamtofastq_S1_L001_R1_001.fastq.gz', 'second_bamtofastq_S1_L001_R2_001.fastq.gz', 'second_bamtofastq_S1_L002_I1_001.fastq.gz', 'second_bamtofastq_S1_L002_R1_001.fastq.gz', 'second_bamtofastq_S1_L002_R2_001.fastq.gz', 'second_bamtofastq_S1_L003_R1_001.fastq.gz', 'second_bamtofastq_S1_L003_R2_001.fastq.gz', 'second_bamtofastq_S1_L004_R1_001.fastq.gz', 'second_bamtofastq_S1_L004_R2_001.fastq.gz']\n"
          ],
          "name": "stdout"
        }
      ]
    },
    {
      "cell_type": "markdown",
      "metadata": {
        "id": "VInyuq1Dp7iz"
      },
      "source": [
        "# Process fastq files (modify kb command according to fastqs list)\n"
      ]
    },
    {
      "cell_type": "code",
      "metadata": {
        "id": "OcqtBuH-pRaX"
      },
      "source": [
        "fastqs = ['bamtofastq_S1_L001_I1_001.fastq.gz',\n",
        " 'bamtofastq_S1_L001_R1_001.fastq.gz',\n",
        " 'bamtofastq_S1_L001_R2_001.fastq.gz',\n",
        " 'bamtofastq_S1_L002_I1_001.fastq.gz',\n",
        " 'bamtofastq_S1_L002_R1_001.fastq.gz',\n",
        " 'bamtofastq_S1_L002_R2_001.fastq.gz',\n",
        " 'bamtofastq_S1_L003_R1_001.fastq.gz',\n",
        " 'bamtofastq_S1_L003_R2_001.fastq.gz',\n",
        " 'bamtofastq_S1_L004_R1_001.fastq.gz',\n",
        " 'bamtofastq_S1_L004_R2_001.fastq.gz',\n",
        " 'second_bamtofastq_S1_L001_R1_001.fastq.gz',\n",
        " 'second_bamtofastq_S1_L001_R2_001.fastq.gz',\n",
        " 'second_bamtofastq_S1_L002_R1_001.fastq.gz',\n",
        " 'second_bamtofastq_S1_L002_R2_001.fastq.gz',\n",
        " 'second_bamtofastq_S1_L003_R1_001.fastq.gz',\n",
        " 'second_bamtofastq_S1_L003_R2_001.fastq.gz',\n",
        " 'second_bamtofastq_S1_L004_R1_001.fastq.gz',\n",
        " 'second_bamtofastq_S1_L004_R2_001.fastq.gz']"
      ],
      "execution_count": 12,
      "outputs": []
    },
    {
      "cell_type": "code",
      "metadata": {
        "id": "eIx1UfEzlcdE",
        "colab": {
          "base_uri": "https://localhost:8080/"
        },
        "outputId": "2f4463c0-4380-405d-dafd-564782615134"
      },
      "source": [
        "%cd /content/fastqs/Human_SS082317_Std2_MissingLibrary_1_HNTYNBGX3/"
      ],
      "execution_count": 13,
      "outputs": [
        {
          "output_type": "stream",
          "text": [
            "/content/fastqs/Human_SS082317_Std2_MissingLibrary_1_HNTYNBGX3\n"
          ],
          "name": "stdout"
        }
      ]
    },
    {
      "cell_type": "code",
      "metadata": {
        "id": "5qFzPj-0kZTi",
        "colab": {
          "base_uri": "https://localhost:8080/"
        },
        "outputId": "dbde9f1c-9b13-49a5-b61a-1ae0a560cf99"
      },
      "source": [
        "if no_samples == 1:\n",
        "\n",
        "  # Write the kb count command as a string with all fastqs of the list as an input\n",
        "  cmd = \"kb count --h5ad -i index.idx -g t2g.txt -x \" + technology_kb + \" -o tccoutput\" + sample_id[0] + \" \"\\\n",
        "  + \"--filter bustools --tcc -t 2 --overwrite \" + \"'\" +  \"' '\".join(fastqs) + \"'\"\n",
        "  \n",
        "  # Execute it\n",
        "  !$cmd\n",
        "\n",
        "# If more than one sample, iterate through fastqs accordingly\n",
        "else:\n",
        "\n",
        "  # Initializa counter for fastq files\n",
        "  j = 0\n",
        "\n",
        "  # Loop over samples for analysis\n",
        "  for i in range(no_samples):\n",
        "\n",
        "    fastqs_to_analyze = fastqs[j:j + fastqs_per_sample[i]]\n",
        "    # Write the kb count command as a string\n",
        "    cmd = \"kb count --h5ad -i ../index.idx -g ../t2g.txt -x \" + technology_kb + \" -o tccoutput\" + sample_id[i] + \" \\\n",
        "    --filter bustools --tcc -t 2 --overwrite \" + \"'\" +  \"' '\".join(fastqs_to_analyze) + \"'\"\n",
        "\n",
        "    # Execute it\n",
        "    !$cmd\n",
        "\n",
        "    # Update j to move to the next set of fastq\n",
        "    j = j + fastqs_per_sample[i]\n",
        "\n",
        "\n",
        "\n",
        "\n",
        "\n",
        "\n",
        "results = {}\n",
        "tcc_results = {}\n",
        "for sample in sample_id:\n",
        "  # Read the filtered gene count matrix\n",
        "  results[\"data_\" + sample] = anndata.read(\"/content/result\" + sample)\n",
        "\n",
        "\n",
        "for sample in sample_id:\n",
        "  output = \"bus_raw_\" + sample + \"_from_gc\"\n",
        "  !mkdir $output\n",
        "  folder_tcc = \"tccoutput\" + sample\n",
        "\n",
        "  # read tcc matrix\n",
        "  tcc_results[sample] = anndata.read(folder_tcc + \"/counts_unfiltered/adata.h5ad\")\n",
        "  # apply gene count matrix's filter\n",
        "  tcc_results[sample] = tcc_results[sample][results[\"data_\" + sample].obs.index.values]\n",
        "  # transfer obs data\n",
        "  tcc_results[sample].obs = results[\"data_\" + sample].obs\n",
        "  # transfer metadata\n",
        "  tcc_results[sample].uns = results[\"data_\" + sample].uns\n",
        "  # write tcc matrix\n",
        "  tcc_results[sample].write(\"/content/tcc_\" + sample)\n",
        "  #gzip tcc matrix\n",
        "  cmd = \"gzip /content/tcc_\" + sample\n",
        "  !$cmd\n",
        "  #gzip unfiltered bus file\n",
        "  cmd = \"gzip \" + folder_tcc + \"/output.unfiltered.bus\"\n",
        "  !$cmd\n",
        "  # move and re-name bus file with sample id\n",
        "  cmd = \"mv \" + folder_tcc + \"/output.unfiltered.bus.gz \" + output + \"/\" + sample +\".unfiltered.bus.gz\"\n",
        "  !$cmd\n",
        "  # gzip all unfiltered counts\n",
        "  cmd = \"gzip \" + folder_tcc + \"/counts_unfiltered/*\"\n",
        "  !$cmd\n",
        "\n",
        "  # move unfiltered counts for both\n",
        "  cmd = \"mv \" + folder_tcc + \"/counts_unfiltered \" + output + \"/tcc_unfiltered\"\n",
        "  !$cmd\n",
        "\n",
        "  cmd = \"mv \" + folder_tcc + \"/*.json \" + output \n",
        "  !$cmd\n",
        "  # zip all files\n",
        "  cmd = \"zip -r \"+ output + \".zip \" + output\n",
        "  !$cmd"
      ],
      "execution_count": 14,
      "outputs": [
        {
          "output_type": "stream",
          "text": [
            "[2021-03-22 20:08:52,480]    INFO Using index index.idx to generate BUS file to tccoutputGSM3302525 from\n",
            "[2021-03-22 20:08:52,480]    INFO         bamtofastq_S1_L001_I1_001.fastq.gz\n",
            "[2021-03-22 20:08:52,480]    INFO         bamtofastq_S1_L001_R1_001.fastq.gz\n",
            "[2021-03-22 20:08:52,481]    INFO         bamtofastq_S1_L001_R2_001.fastq.gz\n",
            "[2021-03-22 20:08:52,481]    INFO         bamtofastq_S1_L002_I1_001.fastq.gz\n",
            "[2021-03-22 20:08:52,481]    INFO         bamtofastq_S1_L002_R1_001.fastq.gz\n",
            "[2021-03-22 20:08:52,481]    INFO         bamtofastq_S1_L002_R2_001.fastq.gz\n",
            "[2021-03-22 20:08:52,481]    INFO         bamtofastq_S1_L003_R1_001.fastq.gz\n",
            "[2021-03-22 20:08:52,481]    INFO         bamtofastq_S1_L003_R2_001.fastq.gz\n",
            "[2021-03-22 20:08:52,481]    INFO         bamtofastq_S1_L004_R1_001.fastq.gz\n",
            "[2021-03-22 20:08:52,481]    INFO         bamtofastq_S1_L004_R2_001.fastq.gz\n",
            "[2021-03-22 20:08:52,481]    INFO         second_bamtofastq_S1_L001_R1_001.fastq.gz\n",
            "[2021-03-22 20:08:52,481]    INFO         second_bamtofastq_S1_L001_R2_001.fastq.gz\n",
            "[2021-03-22 20:08:52,481]    INFO         second_bamtofastq_S1_L002_R1_001.fastq.gz\n",
            "[2021-03-22 20:08:52,481]    INFO         second_bamtofastq_S1_L002_R2_001.fastq.gz\n",
            "[2021-03-22 20:08:52,481]    INFO         second_bamtofastq_S1_L003_R1_001.fastq.gz\n",
            "[2021-03-22 20:08:52,481]    INFO         second_bamtofastq_S1_L003_R2_001.fastq.gz\n",
            "[2021-03-22 20:08:52,481]    INFO         second_bamtofastq_S1_L004_R1_001.fastq.gz\n",
            "[2021-03-22 20:08:52,481]    INFO         second_bamtofastq_S1_L004_R2_001.fastq.gz\n",
            "[2021-03-22 20:39:01,509]    INFO Sorting BUS file tccoutputGSM3302525/output.bus to tccoutputGSM3302525/tmp/output.s.bus\n",
            "[2021-03-22 20:41:45,544]    INFO Whitelist not provided\n",
            "[2021-03-22 20:41:45,544]    INFO Copying pre-packaged 10XV2 whitelist to tccoutputGSM3302525\n",
            "[2021-03-22 20:41:45,657]    INFO Inspecting BUS file tccoutputGSM3302525/tmp/output.s.bus\n",
            "[2021-03-22 20:42:27,197]    INFO Correcting BUS records in tccoutputGSM3302525/tmp/output.s.bus to tccoutputGSM3302525/tmp/output.s.c.bus with whitelist tccoutputGSM3302525/10xv2_whitelist.txt\n",
            "[2021-03-22 20:43:13,261]    INFO Sorting BUS file tccoutputGSM3302525/tmp/output.s.c.bus to tccoutputGSM3302525/output.unfiltered.bus\n",
            "[2021-03-22 20:45:18,845]    INFO Generating count matrix tccoutputGSM3302525/counts_unfiltered/cells_x_tcc from BUS file tccoutputGSM3302525/output.unfiltered.bus\n",
            "[2021-03-22 20:47:31,537]    INFO Reading matrix tccoutputGSM3302525/counts_unfiltered/cells_x_tcc.mtx\n",
            "[2021-03-22 20:49:15,892]    INFO Writing matrix to h5ad tccoutputGSM3302525/counts_unfiltered/adata.h5ad\n",
            "[2021-03-22 20:52:20,174]    INFO Filtering with bustools\n",
            "[2021-03-22 20:52:20,175]    INFO Generating whitelist tccoutputGSM3302525/filter_barcodes.txt from BUS file tccoutputGSM3302525/output.unfiltered.bus\n",
            "[2021-03-22 20:52:21,209]    INFO Correcting BUS records in tccoutputGSM3302525/output.unfiltered.bus to tccoutputGSM3302525/tmp/output.unfiltered.c.bus with whitelist tccoutputGSM3302525/filter_barcodes.txt\n",
            "[2021-03-22 20:53:10,166]    INFO Sorting BUS file tccoutputGSM3302525/tmp/output.unfiltered.c.bus to tccoutputGSM3302525/output.filtered.bus\n",
            "[2021-03-22 20:54:45,233]    INFO Generating count matrix tccoutputGSM3302525/counts_filtered/cells_x_tcc from BUS file tccoutputGSM3302525/output.filtered.bus\n",
            "[2021-03-22 20:56:38,447]    INFO Reading matrix tccoutputGSM3302525/counts_filtered/cells_x_tcc.mtx\n",
            "[2021-03-22 20:58:08,311]    INFO Writing matrix to h5ad tccoutputGSM3302525/counts_filtered/adata.h5ad\n"
          ],
          "name": "stdout"
        },
        {
          "output_type": "stream",
          "text": [
            "Variable names are not unique. To make them unique, call `.var_names_make_unique`.\n"
          ],
          "name": "stderr"
        },
        {
          "output_type": "stream",
          "text": [
            "  adding: bus_raw_GSM3302525_from_gc/ (stored 0%)\n",
            "  adding: bus_raw_GSM3302525_from_gc/tcc_unfiltered/ (stored 0%)\n",
            "  adding: bus_raw_GSM3302525_from_gc/tcc_unfiltered/cells_x_tcc.ec.txt.gz (deflated 1%)\n",
            "  adding: bus_raw_GSM3302525_from_gc/tcc_unfiltered/cells_x_tcc.barcodes.txt.gz (deflated 1%)\n",
            "  adding: bus_raw_GSM3302525_from_gc/tcc_unfiltered/cells_x_tcc.mtx.gz (deflated 0%)\n",
            "  adding: bus_raw_GSM3302525_from_gc/tcc_unfiltered/adata.h5ad.gz (deflated 5%)\n",
            "  adding: bus_raw_GSM3302525_from_gc/inspect.json (deflated 57%)\n",
            "  adding: bus_raw_GSM3302525_from_gc/run_info.json (deflated 68%)\n",
            "  adding: bus_raw_GSM3302525_from_gc/kb_info.json (deflated 81%)\n",
            "  adding: bus_raw_GSM3302525_from_gc/GSM3302525.unfiltered.bus.gz (deflated 4%)\n"
          ],
          "name": "stdout"
        }
      ]
    },
    {
      "cell_type": "code",
      "metadata": {
        "id": "4ssw1LX1VpZJ"
      },
      "source": [
        "import time\n",
        "time.sleep(600000)"
      ],
      "execution_count": null,
      "outputs": []
    }
  ]
}