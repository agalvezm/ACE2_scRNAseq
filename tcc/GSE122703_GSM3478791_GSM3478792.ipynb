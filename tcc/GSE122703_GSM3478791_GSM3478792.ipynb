{
  "nbformat": 4,
  "nbformat_minor": 0,
  "metadata": {
    "colab": {
      "name": "Copy of GSE122703_GSM3478791_GSM3478792.ipynb",
      "provenance": [],
      "collapsed_sections": [],
      "include_colab_link": true
    },
    "kernelspec": {
      "name": "python3",
      "display_name": "Python 3"
    }
  },
  "cells": [
    {
      "cell_type": "markdown",
      "metadata": {
        "id": "view-in-github",
        "colab_type": "text"
      },
      "source": [
        "<a href=\"https://colab.research.google.com/github/agalvezm/ACE2_scRNAseq/blob/master/tcc/GSE122703_GSM3478791_GSM3478792.ipynb\" target=\"_parent\"><img src=\"https://colab.research.google.com/assets/colab-badge.svg\" alt=\"Open In Colab\"/></a>"
      ]
    },
    {
      "cell_type": "markdown",
      "metadata": {
        "id": "V9ryXluJsJw9"
      },
      "source": [
        "# GSE122703_GSM3478791_GSM3478792"
      ]
    },
    {
      "cell_type": "markdown",
      "metadata": {
        "id": "3wdFYMCdEUuO"
      },
      "source": [
        "\n",
        "This notebook uses the filtered count matrix resulting from the following google colab notebook. https://github.com/agalvezm/ACE2_scRNAseq/blob/master/notebooks_countmatrices/GSE122703_GSM3478791_GSM3478792.ipynb Please run the notebook above and upload the results file in /content"
      ]
    },
    {
      "cell_type": "code",
      "metadata": {
        "id": "ggNFAQJCRh6P"
      },
      "source": [
        "# define the values for the analysis\n",
        "\n",
        "# accession id for the data\n",
        "id = \"GSE122703\"\n",
        "samp_id = [\"GSM3478791\", \"GSM3478792\"]\n",
        "\n",
        "# If only bam available files, set bam = True, Fill link and filename\n",
        "bam = False\n",
        "\n",
        "# If fastq links available but are not ffq links\n",
        "fastq_ffqlinks = False\n",
        "\n",
        "\n",
        "if bam:\n",
        "  # Assign link to python variable\n",
        "  link_to_bam = \"ftp://ftp.sra.ebi.ac.uk/vol1/run/SRR638/SRR6389864/possorted_genome_bam.bam\"\n",
        "  \n",
        "  # Assigns the link to the bash variable BAM_LINK. To be used by wget\n",
        "  %env BAM_LINK=$link_to_bam\n",
        "\n",
        "  # Assign filename to python variable. Used to convert to fastq and remove bam file to fastq after conversion\n",
        "\n",
        "  bam_filename=\"possorted_genome_bam.bam\"\n",
        "\n",
        "if not bam:\n",
        "  fastqs = [\"ftp://ftp.sra.ebi.ac.uk/vol1/fastq/SRR820/000/SRR8207940/SRR8207940_1.fastq.gz\",\n",
        "  \t\"ftp://ftp.sra.ebi.ac.uk/vol1/fastq/SRR820/000/SRR8207940/SRR8207940_2.fastq.gz\",\n",
        "    \"ftp://ftp.sra.ebi.ac.uk/vol1/fastq/SRR820/001/SRR8207941/SRR8207941_1.fastq.gz\",\t\n",
        "    \"ftp://ftp.sra.ebi.ac.uk/vol1/fastq/SRR820/001/SRR8207941/SRR8207941_2.fastq.gz\"]\n"
      ],
      "execution_count": null,
      "outputs": []
    },
    {
      "cell_type": "code",
      "metadata": {
        "id": "5R3tPDqnoJUn"
      },
      "source": [
        "no_samples = 2\n",
        "\n",
        "fastqs_per_sample = [2, 2] \n",
        "\n",
        "sample_id = samp_id\n",
        "\n",
        "database_id = [id] * no_samples\n",
        "\n",
        "tissue = [\"blood\"] * no_samples\n",
        "\n",
        "cell_type = [\"Sezary Syndrome T Cells\"] * no_samples\n",
        "\n",
        "condition = [\"patient 1 malignant\", \"patient 1 non-malignant\"]\n",
        "\n",
        "species = [\"human\"] * no_samples\n",
        "\n",
        "technology = [\"10xv2\"] * no_samples\n",
        "\n",
        "paper = [\"Muus et al 2020\"] * no_samples\n",
        "\n",
        "figure = [\"Fig 1 a,b  ED Fig 1 a,b,c,d  ED Fig 2 a,b,c,d,e\"] * no_samples\n",
        "\n",
        "\n",
        "# Set string variables for kb functions\n",
        "\n",
        "species_kb = species[0]\n",
        "\n",
        "technology_kb = technology[0]\n",
        "\n"
      ],
      "execution_count": null,
      "outputs": []
    },
    {
      "cell_type": "markdown",
      "metadata": {
        "id": "FPwL0-_-KSAw"
      },
      "source": [
        "# Imports and installs"
      ]
    },
    {
      "cell_type": "code",
      "metadata": {
        "id": "1HSlUGZEp3oP"
      },
      "source": [
        "# install and import necessary software\n",
        "\n",
        "# Install kb and scanpy\n",
        "!pip -q install kb-python \n",
        "!pip -q install scanpy\n",
        "\n",
        "import re\n",
        "import os\n",
        "\n",
        "# Setup\n",
        "\n",
        "import anndata\n",
        "import pandas as pd\n",
        "import numpy as np\n",
        "import matplotlib.pyplot as plt\n",
        "import matplotlib as mpl\n",
        "import matplotlib.patches as mpatches\n",
        "import scanpy as sc\n",
        "from scipy import stats\n",
        "\n",
        "from collections import OrderedDict\n",
        "from sklearn.decomposition import TruncatedSVD\n",
        "from sklearn.manifold import TSNE\n",
        "from sklearn.preprocessing import scale\n",
        "\n",
        "from sklearn.cluster import KMeans\n",
        "from sklearn.preprocessing import normalize\n",
        "from sklearn.preprocessing import LabelEncoder\n",
        "from sklearn.neighbors import NeighborhoodComponentsAnalysis\n",
        "from matplotlib import cm\n",
        "from matplotlib.lines import Line2D\n",
        "\n",
        "def nd(arr):\n",
        "    return np.asarray(arr).reshape(-1)\n",
        "def yex(ax):\n",
        "    lims = [np.min([ax.get_xlim(), ax.get_ylim()]),\n",
        "            np.max([ax.get_xlim(), ax.get_ylim()])]\n",
        "\n",
        "    # now plot both limits against eachother\n",
        "    ax.plot(lims, lims, 'k-', alpha=0.75, zorder=0)\n",
        "    ax.set_aspect('equal')\n",
        "    ax.set_xlim(lims)\n",
        "    ax.set_ylim(lims)\n",
        "    return ax\n",
        "\n",
        "def trim_axs(axs, N):\n",
        "    \"\"\"little helper to massage the axs list to have correct length...\"\"\"\n",
        "    axs = axs.flat\n",
        "    for ax in axs[N:]:\n",
        "        ax.remove()\n",
        "    return axs[:N]\n",
        "\n",
        "import warnings\n",
        "warnings.filterwarnings('ignore')\n",
        "\n",
        "fsize=20\n",
        "\n",
        "plt.rcParams.update({'font.size': fsize})\n",
        "%config InlineBackend.figure_format = 'retina'"
      ],
      "execution_count": null,
      "outputs": []
    },
    {
      "cell_type": "markdown",
      "metadata": {
        "id": "7V6FbosVrvP4"
      },
      "source": [
        "# Downloads: (bam (if bam) and index"
      ]
    },
    {
      "cell_type": "code",
      "metadata": {
        "id": "q46hw4zqKUPS"
      },
      "source": [
        "if bam:\n",
        "\n",
        "  # Install bamtofastq from 10x website (only bam files available)\n",
        "  !wget http://cf.10xgenomics.com/misc/bamtofastq-1.2.0\n",
        "  !chmod +x bamtofastq-1.2.0\n",
        "  # Download the bam file\n",
        "  !wget -- continue ${BAM_LINK}\n",
        "\n",
        "\n"
      ],
      "execution_count": null,
      "outputs": []
    },
    {
      "cell_type": "code",
      "metadata": {
        "id": "tDQlrjtqNF0m"
      },
      "source": [
        "if bam:\n",
        "  # Convert to fastq\n",
        "  !./bamtofastq-1.2.0 --reads-per-fastq=500000000 $bam_filename ./fastqs\\\n",
        "\n",
        "  # Remove original bam file to save space\n",
        "  !rm $bam_filename\n"
      ],
      "execution_count": null,
      "outputs": []
    },
    {
      "cell_type": "code",
      "metadata": {
        "id": "SXRDRphvqcLe"
      },
      "source": [
        "# Store fastq names on a list\n",
        "\n",
        "if bam:\n",
        "  # cd into fastqs folder\n",
        "  %cd /content/fastqs\n",
        "\n",
        "  #store the name of the folder generated by bamtofastq\n",
        "  _filename = os.listdir()[0]\n",
        "\n",
        "  # cd into that folder\n",
        "  %cd $_filename\n",
        "\n",
        "  # store fastq names in a list\n",
        "  fastqs = os.listdir()\n",
        "\n",
        "\n",
        "  # Remove I1 and R3 reads not relevant for our analysis\n",
        "\n",
        "  # Initialize list containing elements to remove\n",
        "  remov_elem = []\n",
        "\n",
        "  print (\"\\n\\nThis is the complete list of fastqs:\\n -----------\")\n",
        "  for elem in fastqs:\n",
        "    print (elem)\n",
        "\n",
        "  # Search index (I1 or R3) fastqs and remove them from list\n",
        "  for elem in fastqs:\n",
        "    if re.search(\"_R3_\", elem) or re.search(\"_I1_\", elem):\n",
        "      remov_elem = remov_elem +[elem]\n",
        "\n",
        "  fastqs = [elem for elem in fastqs if elem not in remov_elem] \n",
        "\n",
        "  print (\"\\n\\nThis is the filtered list of fastqs:\\n -----------\")\n",
        "  for elem in fastqs:\n",
        "    print (elem)\n"
      ],
      "execution_count": null,
      "outputs": []
    },
    {
      "cell_type": "code",
      "metadata": {
        "id": "ZnFcqcSgjLBw"
      },
      "source": [
        "# Remove fastqs that wont be analyzed to save space\n",
        "if bam:\n",
        "  for elem in remov_elem:\n",
        "    !rm $elem"
      ],
      "execution_count": null,
      "outputs": []
    },
    {
      "cell_type": "code",
      "metadata": {
        "id": "FLVS8aB7Dm6J"
      },
      "source": [
        "if bam:\n",
        "  # sort fastqs alphabetically to get R1 and R2 in order\n",
        "  fastqs = sorted(fastqs)"
      ],
      "execution_count": null,
      "outputs": []
    },
    {
      "cell_type": "code",
      "metadata": {
        "id": "FE9gWbQgpBfR",
        "colab": {
          "base_uri": "https://localhost:8080/"
        },
        "outputId": "9e094ab8-2f7f-4a3b-dad9-5e1906db1b37"
      },
      "source": [
        "# wget fastqs from non ffq links in fastqs folder\n",
        "if not bam and not fastq_ffqlinks:\n",
        "  !mkdir fastqs\n",
        "  %cd fastqs\n",
        "  for link in fastqs:\n",
        "    !wget $link --continue\n",
        "\n",
        "# update fastqs variable with name of files\n",
        "fastqs = sorted(os.listdir())"
      ],
      "execution_count": null,
      "outputs": [
        {
          "output_type": "stream",
          "text": [
            "/content/fastqs\n",
            "--2021-03-17 21:36:36--  ftp://ftp.sra.ebi.ac.uk/vol1/fastq/SRR820/000/SRR8207940/SRR8207940_1.fastq.gz\n",
            "           => ‘SRR8207940_1.fastq.gz’\n",
            "Resolving ftp.sra.ebi.ac.uk (ftp.sra.ebi.ac.uk)... 193.62.197.74\n",
            "Connecting to ftp.sra.ebi.ac.uk (ftp.sra.ebi.ac.uk)|193.62.197.74|:21... connected.\n",
            "Logging in as anonymous ... Logged in!\n",
            "==> SYST ... done.    ==> PWD ... done.\n",
            "==> TYPE I ... done.  ==> CWD (1) /vol1/fastq/SRR820/000/SRR8207940 ... done.\n",
            "==> SIZE SRR8207940_1.fastq.gz ... 11770298831\n",
            "==> PASV ... done.    ==> RETR SRR8207940_1.fastq.gz ... done.\n",
            "Length: 11770298831 (11G) (unauthoritative)\n",
            "\n",
            "SRR8207940_1.fastq. 100%[===================>]  10.96G  32.9MB/s    in 5m 46s  \n",
            "\n",
            "2021-03-17 21:42:23 (32.5 MB/s) - ‘SRR8207940_1.fastq.gz’ saved [11770298831]\n",
            "\n",
            "--2021-03-17 21:42:23--  ftp://ftp.sra.ebi.ac.uk/vol1/fastq/SRR820/000/SRR8207940/SRR8207940_2.fastq.gz\n",
            "           => ‘SRR8207940_2.fastq.gz’\n",
            "Resolving ftp.sra.ebi.ac.uk (ftp.sra.ebi.ac.uk)... 193.62.197.74\n",
            "Connecting to ftp.sra.ebi.ac.uk (ftp.sra.ebi.ac.uk)|193.62.197.74|:21... connected.\n",
            "Logging in as anonymous ... Logged in!\n",
            "==> SYST ... done.    ==> PWD ... done.\n",
            "==> TYPE I ... done.  ==> CWD (1) /vol1/fastq/SRR820/000/SRR8207940 ... done.\n",
            "==> SIZE SRR8207940_2.fastq.gz ... 13039447698\n",
            "==> PASV ... done.    ==> RETR SRR8207940_2.fastq.gz ... done.\n",
            "Length: 13039447698 (12G) (unauthoritative)\n",
            "\n",
            "SRR8207940_2.fastq. 100%[===================>]  12.14G  32.1MB/s    in 7m 15s  \n",
            "\n",
            "2021-03-17 21:49:40 (28.6 MB/s) - ‘SRR8207940_2.fastq.gz’ saved [13039447698]\n",
            "\n",
            "--2021-03-17 21:49:40--  ftp://ftp.sra.ebi.ac.uk/vol1/fastq/SRR820/001/SRR8207941/SRR8207941_1.fastq.gz\n",
            "           => ‘SRR8207941_1.fastq.gz’\n",
            "Resolving ftp.sra.ebi.ac.uk (ftp.sra.ebi.ac.uk)... 193.62.197.74\n",
            "Connecting to ftp.sra.ebi.ac.uk (ftp.sra.ebi.ac.uk)|193.62.197.74|:21... connected.\n",
            "Logging in as anonymous ... Logged in!\n",
            "==> SYST ... done.    ==> PWD ... done.\n",
            "==> TYPE I ... done.  ==> CWD (1) /vol1/fastq/SRR820/001/SRR8207941 ... done.\n",
            "==> SIZE SRR8207941_1.fastq.gz ... 11616804681\n",
            "==> PASV ... done.    ==> RETR SRR8207941_1.fastq.gz ... done.\n",
            "Length: 11616804681 (11G) (unauthoritative)\n",
            "\n",
            "SRR8207941_1.fastq. 100%[===================>]  10.82G  31.2MB/s    in 6m 1s   \n",
            "\n",
            "2021-03-17 21:55:42 (30.7 MB/s) - ‘SRR8207941_1.fastq.gz’ saved [11616804681]\n",
            "\n",
            "--2021-03-17 21:55:42--  ftp://ftp.sra.ebi.ac.uk/vol1/fastq/SRR820/001/SRR8207941/SRR8207941_2.fastq.gz\n",
            "           => ‘SRR8207941_2.fastq.gz’\n",
            "Resolving ftp.sra.ebi.ac.uk (ftp.sra.ebi.ac.uk)... 193.62.197.74\n",
            "Connecting to ftp.sra.ebi.ac.uk (ftp.sra.ebi.ac.uk)|193.62.197.74|:21... connected.\n",
            "Logging in as anonymous ... Logged in!\n",
            "==> SYST ... done.    ==> PWD ... done.\n",
            "==> TYPE I ... done.  ==> CWD (1) /vol1/fastq/SRR820/001/SRR8207941 ... done.\n",
            "==> SIZE SRR8207941_2.fastq.gz ... 12693091870\n",
            "==> PASV ... done.    ==> RETR SRR8207941_2.fastq.gz ... done.\n",
            "Length: 12693091870 (12G) (unauthoritative)\n",
            "\n",
            "SRR8207941_2.fastq. 100%[===================>]  11.82G  32.7MB/s    in 6m 36s  \n",
            "\n",
            "2021-03-17 22:02:20 (30.6 MB/s) - ‘SRR8207941_2.fastq.gz’ saved [12693091870]\n",
            "\n"
          ],
          "name": "stdout"
        }
      ]
    },
    {
      "cell_type": "code",
      "metadata": {
        "id": "PC9oETW1pE9t",
        "colab": {
          "base_uri": "https://localhost:8080/"
        },
        "outputId": "b6c6c14c-b737-41b1-807b-a99bdbde24b1"
      },
      "source": [
        "if bam:\n",
        "  # Download the corresponding Kallisto index to folder containing fastqs\n",
        "  !kb ref -d $species_kb -i index.idx -g t2g.txt -f1 transcriptome.fasta\n",
        "\n",
        "if not bam:\n",
        "  %cd /content\n",
        "\n",
        "  # Download the corresponding Kallisto index to content folder\n",
        "  !kb ref -d $species_kb -i index.idx -g t2g.txt -f1 transcriptome.fasta\n",
        "\n",
        "if not bam and not fastq_ffqlinks:\n",
        "  %cd /content/fastqs\n",
        "\n",
        "  # Download the corresponding Kallisto index to fastq folder\n",
        "  !kb ref -d $species_kb -i index.idx -g t2g.txt -f1 transcriptome.fasta"
      ],
      "execution_count": null,
      "outputs": [
        {
          "output_type": "stream",
          "text": [
            "/content\n",
            "[2021-03-17 22:02:23,885]    INFO Downloading files for human from https://caltech.box.com/shared/static/v1nm7lpnqz5syh8dyzdk2zs8bglncfib.gz to tmp/v1nm7lpnqz5syh8dyzdk2zs8bglncfib.gz\n",
            "100% 2.23G/2.23G [01:36<00:00, 24.7MB/s]\n",
            "[2021-03-17 22:04:02,118]    INFO Extracting files from tmp/v1nm7lpnqz5syh8dyzdk2zs8bglncfib.gz\n",
            "/content/fastqs\n",
            "[2021-03-17 22:04:41,162]    INFO Downloading files for human from https://caltech.box.com/shared/static/v1nm7lpnqz5syh8dyzdk2zs8bglncfib.gz to tmp/v1nm7lpnqz5syh8dyzdk2zs8bglncfib.gz\n",
            "100% 2.23G/2.23G [01:40<00:00, 23.7MB/s]\n",
            "[2021-03-17 22:06:23,274]    INFO Extracting files from tmp/v1nm7lpnqz5syh8dyzdk2zs8bglncfib.gz\n"
          ],
          "name": "stdout"
        }
      ]
    },
    {
      "cell_type": "code",
      "metadata": {
        "id": "l5-k0H2jfNJE"
      },
      "source": [
        "fastqs = [\"ftp://ftp.sra.ebi.ac.uk/vol1/fastq/SRR820/000/SRR8207940/SRR8207940_1.fastq.gz\",\n",
        "  \t\"ftp://ftp.sra.ebi.ac.uk/vol1/fastq/SRR820/000/SRR8207940/SRR8207940_2.fastq.gz\",\n",
        "    \"ftp://ftp.sra.ebi.ac.uk/vol1/fastq/SRR820/001/SRR8207941/SRR8207941_1.fastq.gz\",\t\n",
        "    \"ftp://ftp.sra.ebi.ac.uk/vol1/fastq/SRR820/001/SRR8207941/SRR8207941_2.fastq.gz\"]"
      ],
      "execution_count": null,
      "outputs": []
    },
    {
      "cell_type": "code",
      "metadata": {
        "id": "vHVNa51Cp9Nr",
        "colab": {
          "base_uri": "https://localhost:8080/"
        },
        "outputId": "d02fc86a-0021-4725-a86a-582507781e74"
      },
      "source": [
        "# Check to make sure the metadata is in the right order after sorting\n",
        "print(fastqs)"
      ],
      "execution_count": null,
      "outputs": [
        {
          "output_type": "stream",
          "text": [
            "['ftp://ftp.sra.ebi.ac.uk/vol1/fastq/SRR820/000/SRR8207940/SRR8207940_1.fastq.gz', 'ftp://ftp.sra.ebi.ac.uk/vol1/fastq/SRR820/000/SRR8207940/SRR8207940_2.fastq.gz', 'ftp://ftp.sra.ebi.ac.uk/vol1/fastq/SRR820/001/SRR8207941/SRR8207941_1.fastq.gz', 'ftp://ftp.sra.ebi.ac.uk/vol1/fastq/SRR820/001/SRR8207941/SRR8207941_2.fastq.gz']\n"
          ],
          "name": "stdout"
        }
      ]
    },
    {
      "cell_type": "markdown",
      "metadata": {
        "id": "VInyuq1Dp7iz"
      },
      "source": [
        "# Process fastq files (modify kb command according to fastqs list)\n"
      ]
    },
    {
      "cell_type": "code",
      "metadata": {
        "id": "OcqtBuH-pRaX",
        "colab": {
          "base_uri": "https://localhost:8080/"
        },
        "outputId": "2b12bbad-0f54-46d5-d62b-126e198028c3"
      },
      "source": [
        "fastqs"
      ],
      "execution_count": null,
      "outputs": [
        {
          "output_type": "execute_result",
          "data": {
            "text/plain": [
              "['ftp://ftp.sra.ebi.ac.uk/vol1/fastq/SRR820/000/SRR8207940/SRR8207940_1.fastq.gz',\n",
              " 'ftp://ftp.sra.ebi.ac.uk/vol1/fastq/SRR820/000/SRR8207940/SRR8207940_2.fastq.gz',\n",
              " 'ftp://ftp.sra.ebi.ac.uk/vol1/fastq/SRR820/001/SRR8207941/SRR8207941_1.fastq.gz',\n",
              " 'ftp://ftp.sra.ebi.ac.uk/vol1/fastq/SRR820/001/SRR8207941/SRR8207941_2.fastq.gz']"
            ]
          },
          "metadata": {
            "tags": []
          },
          "execution_count": 29
        }
      ]
    },
    {
      "cell_type": "code",
      "metadata": {
        "id": "5qFzPj-0kZTi",
        "colab": {
          "base_uri": "https://localhost:8080/"
        },
        "outputId": "3db4df7b-966e-43e3-9cc3-ab66ce8dcb30"
      },
      "source": [
        "\n",
        "if no_samples == 1:\n",
        "\n",
        "  # Write the kb count command as a string with all fastqs of the list as an input\n",
        "  cmd = \"kb count --h5ad -i index.idx -g t2g.txt -x \" + technology_kb + \" -o tccoutput\" + sample_id[0] + \" \"\\\n",
        "  + \"--filter bustools --tcc -t 2 --overwrite \" + \"'\" +  \"' '\".join(fastqs) + \"'\"\n",
        "  \n",
        "  # Execute it\n",
        "  !$cmd\n",
        "\n",
        "# If more than one sample, iterate through fastqs accordingly\n",
        "else:\n",
        "\n",
        "  # Initializa counter for fastq files\n",
        "  j = 0\n",
        "\n",
        "  # Loop over samples for analysis\n",
        "  for i in range(no_samples):\n",
        "\n",
        "    fastqs_to_analyze = fastqs[j:j + fastqs_per_sample[i]]\n",
        "    # Write the kb count command as a string\n",
        "    cmd = \"kb count --h5ad -i ../index.idx -g ../t2g.txt -x \" + technology_kb + \" -o tccoutput\" + sample_id[i] + \" \\\n",
        "    --filter bustools --tcc -t 2 --overwrite \" + \"'\" +  \"' '\".join(fastqs_to_analyze) + \"'\"\n",
        "\n",
        "    # Execute it\n",
        "    !$cmd\n",
        "\n",
        "    # Update j to move to the next set of fastq\n",
        "    j = j + fastqs_per_sample[i]\n",
        "\n",
        "\n",
        "\n",
        "\n",
        "\n",
        "\n",
        "results = {}\n",
        "tcc_results = {}\n",
        "for sample in sample_id:\n",
        "  # Read the filtered gene count matrix\n",
        "  results[\"data_\" + sample] = anndata.read(\"/content/result\" + sample)\n",
        "\n",
        "\n",
        "for sample in sample_id:\n",
        "  output = \"bus_raw_\" + sample + \"_from_gc\"\n",
        "  !mkdir $output\n",
        "  folder_tcc = \"tccoutput\" + sample\n",
        "\n",
        "  # read tcc matrix\n",
        "  tcc_results[sample] = anndata.read(folder_tcc + \"/counts_unfiltered/adata.h5ad\")\n",
        "  # apply gene count matrix's filter\n",
        "  tcc_results[sample] = tcc_results[sample][results[\"data_\" + sample].obs.index.values]\n",
        "  # transfer obs data\n",
        "  tcc_results[sample].obs = results[\"data_\" + sample].obs\n",
        "  # transfer metadata\n",
        "  tcc_results[sample].uns = results[\"data_\" + sample].uns\n",
        "  # write tcc matrix\n",
        "  tcc_results[sample].write(\"/content/tcc_\" + sample)\n",
        "  #gzip tcc matrix\n",
        "  cmd = \"gzip /content/tcc_\" + sample\n",
        "  !$cmd\n",
        "  #gzip unfiltered bus file\n",
        "  cmd = \"gzip \" + folder_tcc + \"/output.unfiltered.bus\"\n",
        "  !$cmd\n",
        "  # move and re-name bus file with sample id\n",
        "  cmd = \"mv \" + folder_tcc + \"/output.unfiltered.bus.gz \" + output + \"/\" + sample +\".unfiltered.bus.gz\"\n",
        "  !$cmd\n",
        "  # gzip all unfiltered counts\n",
        "  cmd = \"gzip \" + folder_tcc + \"/counts_unfiltered/*\"\n",
        "  !$cmd\n",
        "\n",
        "  # move unfiltered counts for both\n",
        "  cmd = \"mv \" + folder_tcc + \"/counts_unfiltered \" + output + \"/tcc_unfiltered\"\n",
        "  !$cmd\n",
        "\n",
        "  cmd = \"mv \" + folder_tcc + \"/*.json \" + output \n",
        "  !$cmd\n",
        "  # zip all files\n",
        "  cmd = \"zip -r \"+ output + \".zip \" + output\n",
        "  !$cmd"
      ],
      "execution_count": null,
      "outputs": [
        {
          "output_type": "stream",
          "text": [
            "[2021-03-17 22:07:02,828]    INFO Piping ftp://ftp.sra.ebi.ac.uk/vol1/fastq/SRR820/000/SRR8207940/SRR8207940_1.fastq.gz to tccoutputGSM3478791/tmp/SRR8207940_1.fastq.gz\n",
            "[2021-03-17 22:07:02,829]    INFO Piping ftp://ftp.sra.ebi.ac.uk/vol1/fastq/SRR820/000/SRR8207940/SRR8207940_2.fastq.gz to tccoutputGSM3478791/tmp/SRR8207940_2.fastq.gz\n",
            "[2021-03-17 22:07:02,832]    INFO Using index ../index.idx to generate BUS file to tccoutputGSM3478791 from\n",
            "[2021-03-17 22:07:02,832]    INFO         tccoutputGSM3478791/tmp/SRR8207940_1.fastq.gz\n",
            "[2021-03-17 22:07:02,832]    INFO         tccoutputGSM3478791/tmp/SRR8207940_2.fastq.gz\n",
            "[2021-03-17 22:46:20,104]    INFO Sorting BUS file tccoutputGSM3478791/output.bus to tccoutputGSM3478791/tmp/output.s.bus\n",
            "[2021-03-17 22:47:29,618]    INFO Whitelist not provided\n",
            "[2021-03-17 22:47:29,618]    INFO Copying pre-packaged 10XV2 whitelist to tccoutputGSM3478791\n",
            "[2021-03-17 22:47:29,756]    INFO Inspecting BUS file tccoutputGSM3478791/tmp/output.s.bus\n",
            "[2021-03-17 22:47:52,456]    INFO Correcting BUS records in tccoutputGSM3478791/tmp/output.s.bus to tccoutputGSM3478791/tmp/output.s.c.bus with whitelist tccoutputGSM3478791/10xv2_whitelist.txt\n",
            "[2021-03-17 22:48:10,589]    INFO Sorting BUS file tccoutputGSM3478791/tmp/output.s.c.bus to tccoutputGSM3478791/output.unfiltered.bus\n",
            "[2021-03-17 22:49:01,319]    INFO Generating count matrix tccoutputGSM3478791/counts_unfiltered/cells_x_tcc from BUS file tccoutputGSM3478791/output.unfiltered.bus\n",
            "[2021-03-17 22:49:55,561]    INFO Reading matrix tccoutputGSM3478791/counts_unfiltered/cells_x_tcc.mtx\n",
            "[2021-03-17 22:50:33,219]    INFO Writing matrix to h5ad tccoutputGSM3478791/counts_unfiltered/adata.h5ad\n",
            "[2021-03-17 22:51:51,156]    INFO Filtering with bustools\n",
            "[2021-03-17 22:51:51,157]    INFO Generating whitelist tccoutputGSM3478791/filter_barcodes.txt from BUS file tccoutputGSM3478791/output.unfiltered.bus\n",
            "[2021-03-17 22:51:51,792]    INFO Correcting BUS records in tccoutputGSM3478791/output.unfiltered.bus to tccoutputGSM3478791/tmp/output.unfiltered.c.bus with whitelist tccoutputGSM3478791/filter_barcodes.txt\n",
            "[2021-03-17 22:52:09,811]    INFO Sorting BUS file tccoutputGSM3478791/tmp/output.unfiltered.c.bus to tccoutputGSM3478791/output.filtered.bus\n",
            "[2021-03-17 22:53:06,804]    INFO Generating count matrix tccoutputGSM3478791/counts_filtered/cells_x_tcc from BUS file tccoutputGSM3478791/output.filtered.bus\n",
            "[2021-03-17 22:53:57,897]    INFO Reading matrix tccoutputGSM3478791/counts_filtered/cells_x_tcc.mtx\n",
            "[2021-03-17 22:54:33,644]    INFO Writing matrix to h5ad tccoutputGSM3478791/counts_filtered/adata.h5ad\n",
            "[2021-03-17 22:55:55,361]    INFO Piping ftp://ftp.sra.ebi.ac.uk/vol1/fastq/SRR820/001/SRR8207941/SRR8207941_1.fastq.gz to tccoutputGSM3478792/tmp/SRR8207941_1.fastq.gz\n",
            "[2021-03-17 22:55:55,364]    INFO Piping ftp://ftp.sra.ebi.ac.uk/vol1/fastq/SRR820/001/SRR8207941/SRR8207941_2.fastq.gz to tccoutputGSM3478792/tmp/SRR8207941_2.fastq.gz\n",
            "[2021-03-17 22:55:55,365]    INFO Using index ../index.idx to generate BUS file to tccoutputGSM3478792 from\n",
            "[2021-03-17 22:55:55,365]    INFO         tccoutputGSM3478792/tmp/SRR8207941_1.fastq.gz\n",
            "[2021-03-17 22:55:55,365]    INFO         tccoutputGSM3478792/tmp/SRR8207941_2.fastq.gz\n",
            "[2021-03-17 23:38:27,352]    INFO Sorting BUS file tccoutputGSM3478792/output.bus to tccoutputGSM3478792/tmp/output.s.bus\n",
            "[2021-03-17 23:39:37,261]    INFO Whitelist not provided\n",
            "[2021-03-17 23:39:37,262]    INFO Copying pre-packaged 10XV2 whitelist to tccoutputGSM3478792\n",
            "[2021-03-17 23:39:37,398]    INFO Inspecting BUS file tccoutputGSM3478792/tmp/output.s.bus\n",
            "[2021-03-17 23:39:59,067]    INFO Correcting BUS records in tccoutputGSM3478792/tmp/output.s.bus to tccoutputGSM3478792/tmp/output.s.c.bus with whitelist tccoutputGSM3478792/10xv2_whitelist.txt\n",
            "[2021-03-17 23:40:17,226]    INFO Sorting BUS file tccoutputGSM3478792/tmp/output.s.c.bus to tccoutputGSM3478792/output.unfiltered.bus\n",
            "[2021-03-17 23:41:07,069]    INFO Generating count matrix tccoutputGSM3478792/counts_unfiltered/cells_x_tcc from BUS file tccoutputGSM3478792/output.unfiltered.bus\n",
            "[2021-03-17 23:41:55,066]    INFO Reading matrix tccoutputGSM3478792/counts_unfiltered/cells_x_tcc.mtx\n",
            "[2021-03-17 23:42:28,657]    INFO Writing matrix to h5ad tccoutputGSM3478792/counts_unfiltered/adata.h5ad\n",
            "[2021-03-17 23:43:41,399]    INFO Filtering with bustools\n",
            "[2021-03-17 23:43:41,399]    INFO Generating whitelist tccoutputGSM3478792/filter_barcodes.txt from BUS file tccoutputGSM3478792/output.unfiltered.bus\n",
            "[2021-03-17 23:43:42,016]    INFO Correcting BUS records in tccoutputGSM3478792/output.unfiltered.bus to tccoutputGSM3478792/tmp/output.unfiltered.c.bus with whitelist tccoutputGSM3478792/filter_barcodes.txt\n",
            "[2021-03-17 23:43:55,783]    INFO Sorting BUS file tccoutputGSM3478792/tmp/output.unfiltered.c.bus to tccoutputGSM3478792/output.filtered.bus\n",
            "[2021-03-17 23:44:47,322]    INFO Generating count matrix tccoutputGSM3478792/counts_filtered/cells_x_tcc from BUS file tccoutputGSM3478792/output.filtered.bus\n",
            "[2021-03-17 23:45:35,982]    INFO Reading matrix tccoutputGSM3478792/counts_filtered/cells_x_tcc.mtx\n",
            "[2021-03-17 23:46:08,172]    INFO Writing matrix to h5ad tccoutputGSM3478792/counts_filtered/adata.h5ad\n"
          ],
          "name": "stdout"
        },
        {
          "output_type": "stream",
          "text": [
            "Variable names are not unique. To make them unique, call `.var_names_make_unique`.\n",
            "Variable names are not unique. To make them unique, call `.var_names_make_unique`.\n"
          ],
          "name": "stderr"
        },
        {
          "output_type": "stream",
          "text": [
            "  adding: bus_raw_GSM3478791_from_gc/ (stored 0%)\n",
            "  adding: bus_raw_GSM3478791_from_gc/run_info.json (deflated 42%)\n",
            "  adding: bus_raw_GSM3478791_from_gc/inspect.json (deflated 57%)\n",
            "  adding: bus_raw_GSM3478791_from_gc/GSM3478791.unfiltered.bus.gz (deflated 4%)\n",
            "  adding: bus_raw_GSM3478791_from_gc/kb_info.json (deflated 75%)\n",
            "  adding: bus_raw_GSM3478791_from_gc/tcc_unfiltered/ (stored 0%)\n",
            "  adding: bus_raw_GSM3478791_from_gc/tcc_unfiltered/adata.h5ad.gz (deflated 7%)\n",
            "  adding: bus_raw_GSM3478791_from_gc/tcc_unfiltered/cells_x_tcc.ec.txt.gz (deflated 3%)\n",
            "  adding: bus_raw_GSM3478791_from_gc/tcc_unfiltered/cells_x_tcc.mtx.gz (deflated 0%)\n",
            "  adding: bus_raw_GSM3478791_from_gc/tcc_unfiltered/cells_x_tcc.barcodes.txt.gz (deflated 1%)\n",
            "  adding: bus_raw_GSM3478792_from_gc/ (stored 0%)\n",
            "  adding: bus_raw_GSM3478792_from_gc/run_info.json (deflated 42%)\n",
            "  adding: bus_raw_GSM3478792_from_gc/inspect.json (deflated 57%)\n",
            "  adding: bus_raw_GSM3478792_from_gc/kb_info.json (deflated 75%)\n",
            "  adding: bus_raw_GSM3478792_from_gc/tcc_unfiltered/ (stored 0%)\n",
            "  adding: bus_raw_GSM3478792_from_gc/tcc_unfiltered/adata.h5ad.gz (deflated 8%)\n",
            "  adding: bus_raw_GSM3478792_from_gc/tcc_unfiltered/cells_x_tcc.ec.txt.gz (deflated 3%)\n",
            "  adding: bus_raw_GSM3478792_from_gc/tcc_unfiltered/cells_x_tcc.mtx.gz (deflated 0%)\n",
            "  adding: bus_raw_GSM3478792_from_gc/tcc_unfiltered/cells_x_tcc.barcodes.txt.gz (deflated 1%)\n",
            "  adding: bus_raw_GSM3478792_from_gc/GSM3478792.unfiltered.bus.gz (deflated 5%)\n"
          ],
          "name": "stdout"
        }
      ]
    }
  ]
}