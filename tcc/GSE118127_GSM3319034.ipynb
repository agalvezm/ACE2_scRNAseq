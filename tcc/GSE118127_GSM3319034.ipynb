{
  "nbformat": 4,
  "nbformat_minor": 0,
  "metadata": {
    "colab": {
      "name": "GSE118127_GSM3319034.ipynb",
      "provenance": [],
      "collapsed_sections": [],
      "toc_visible": true,
      "include_colab_link": true
    },
    "kernelspec": {
      "name": "python3",
      "display_name": "Python 3"
    }
  },
  "cells": [
    {
      "cell_type": "markdown",
      "metadata": {
        "id": "view-in-github",
        "colab_type": "text"
      },
      "source": [
        "<a href=\"https://colab.research.google.com/github/agalvezm/ACE2_scRNAseq/blob/master/tcc/GSE118127_GSM3319034.ipynb\" target=\"_parent\"><img src=\"https://colab.research.google.com/assets/colab-badge.svg\" alt=\"Open In Colab\"/></a>"
      ]
    },
    {
      "cell_type": "markdown",
      "metadata": {
        "id": "V9ryXluJsJw9"
      },
      "source": [
        "# GSE118127:GSM3319034"
      ]
    },
    {
      "cell_type": "code",
      "metadata": {
        "id": "ggNFAQJCRh6P",
        "colab": {
          "base_uri": "https://localhost:8080/"
        },
        "outputId": "985b29cb-6798-42da-d947-c97d9fba83ea"
      },
      "source": [
        "# define the values for the analysis\n",
        "\n",
        "# accession id for the data\n",
        "id = \"GSE118127\"\n",
        "samp_id = \"GSM3319034\"\n",
        "\n",
        "# If only bam available files, set bam = True, Fill link and filename\n",
        "bam = True\n",
        "\n",
        "if bam:\n",
        "  # Assign link to python variable\n",
        "  link_to_bam = \"https://sra-pub-src-1.s3.amazonaws.com/SRR7644618/sample_1_3.bam.1\"\n",
        "  \n",
        "  # Assigns the link to the bash variable BAM_LINK. To be used by wget\n",
        "  %env BAM_LINK=$link_to_bam\n",
        "\n",
        "  # Assign filename to python variable. Used to convert to fastq and remove bam file to fastq after conversion\n",
        "\n",
        "  bam_filename=\"sample_1_3.bam.1\"\n",
        "\n",
        "if not bam:\n",
        "  fastqs = [\"\",\n",
        "            \"\",\n",
        "            ]\n"
      ],
      "execution_count": 1,
      "outputs": [
        {
          "output_type": "stream",
          "text": [
            "env: BAM_LINK=https://sra-pub-src-1.s3.amazonaws.com/SRR7644618/sample_1_3.bam.1\n"
          ],
          "name": "stdout"
        }
      ]
    },
    {
      "cell_type": "code",
      "metadata": {
        "id": "5R3tPDqnoJUn"
      },
      "source": [
        "no_samples = 1\n",
        "\n",
        "sample_id = [samp_id] * no_samples\n",
        "\n",
        "database_id = [id] * no_samples\n",
        "\n",
        "tissue = [\"ovary\"] * no_samples\n",
        "\n",
        "cell_type = [\"stroma\"] * no_samples\n",
        "\n",
        "condition = [\"sample 1-3\"] * no_samples\n",
        "\n",
        "species = [\"human\"] * no_samples\n",
        "\n",
        "technology = [\"10xv2\"] * no_samples\n",
        "\n",
        "paper = [\"Muus et al 2020\"] * no_samples\n",
        "\n",
        "figure = [\"Fig 1 a,b  ED Fig 1 a,b,c,d  ED Fig 2 a,b,c,d,e\"] * no_samples\n",
        "\n",
        "\n",
        "# Set string variables for kb functions\n",
        "\n",
        "species_kb = species[0]\n",
        "\n",
        "technology_kb = technology[0]"
      ],
      "execution_count": 2,
      "outputs": []
    },
    {
      "cell_type": "markdown",
      "metadata": {
        "id": "FPwL0-_-KSAw"
      },
      "source": [
        "# Imports and installs"
      ]
    },
    {
      "cell_type": "code",
      "metadata": {
        "id": "1HSlUGZEp3oP",
        "colab": {
          "base_uri": "https://localhost:8080/"
        },
        "outputId": "0e5dce9d-8ae3-4d77-dfc0-b267c10f0147"
      },
      "source": [
        "# install and import necessary software\n",
        "\n",
        "# Install kb and scanpy\n",
        "!pip -q install kb-python \n",
        "!pip -q install scanpy\n",
        "\n",
        "import re\n",
        "import os\n",
        "\n",
        "# Setup\n",
        "\n",
        "import anndata\n",
        "import pandas as pd\n",
        "import numpy as np\n",
        "import matplotlib.pyplot as plt\n",
        "import matplotlib as mpl\n",
        "import matplotlib.patches as mpatches\n",
        "import scanpy as sc\n",
        "from scipy import stats\n",
        "\n",
        "from collections import OrderedDict\n",
        "from sklearn.decomposition import TruncatedSVD\n",
        "from sklearn.manifold import TSNE\n",
        "from sklearn.preprocessing import scale\n",
        "\n",
        "from sklearn.cluster import KMeans\n",
        "from sklearn.preprocessing import normalize\n",
        "from sklearn.preprocessing import LabelEncoder\n",
        "from sklearn.neighbors import NeighborhoodComponentsAnalysis\n",
        "from matplotlib import cm\n",
        "from matplotlib.lines import Line2D\n",
        "\n",
        "def nd(arr):\n",
        "    return np.asarray(arr).reshape(-1)\n",
        "def yex(ax):\n",
        "    lims = [np.min([ax.get_xlim(), ax.get_ylim()]),\n",
        "            np.max([ax.get_xlim(), ax.get_ylim()])]\n",
        "\n",
        "    # now plot both limits against eachother\n",
        "    ax.plot(lims, lims, 'k-', alpha=0.75, zorder=0)\n",
        "    ax.set_aspect('equal')\n",
        "    ax.set_xlim(lims)\n",
        "    ax.set_ylim(lims)\n",
        "    return ax\n",
        "\n",
        "def trim_axs(axs, N):\n",
        "    \"\"\"little helper to massage the axs list to have correct length...\"\"\"\n",
        "    axs = axs.flat\n",
        "    for ax in axs[N:]:\n",
        "        ax.remove()\n",
        "    return axs[:N]\n",
        "\n",
        "import warnings\n",
        "warnings.filterwarnings('ignore')\n",
        "\n",
        "fsize=20\n",
        "\n",
        "plt.rcParams.update({'font.size': fsize})\n",
        "%config InlineBackend.figure_format = 'retina'"
      ],
      "execution_count": 3,
      "outputs": [
        {
          "output_type": "stream",
          "text": [
            "\u001b[K     |████████████████████████████████| 59.1MB 70kB/s \n",
            "\u001b[K     |████████████████████████████████| 13.2MB 43.9MB/s \n",
            "\u001b[K     |████████████████████████████████| 10.3MB 44.2MB/s \n",
            "\u001b[K     |████████████████████████████████| 122kB 56.0MB/s \n",
            "\u001b[K     |████████████████████████████████| 51kB 6.2MB/s \n",
            "\u001b[K     |████████████████████████████████| 112kB 55.2MB/s \n",
            "\u001b[K     |████████████████████████████████| 51kB 5.5MB/s \n",
            "\u001b[K     |████████████████████████████████| 71kB 8.0MB/s \n",
            "\u001b[?25h  Building wheel for loompy (setup.py) ... \u001b[?25l\u001b[?25hdone\n",
            "  Building wheel for sinfo (setup.py) ... \u001b[?25l\u001b[?25hdone\n",
            "  Building wheel for numpy-groupies (setup.py) ... \u001b[?25l\u001b[?25hdone\n"
          ],
          "name": "stdout"
        }
      ]
    },
    {
      "cell_type": "markdown",
      "metadata": {
        "id": "7V6FbosVrvP4"
      },
      "source": [
        "# Downloads: (bam (if bam) and index"
      ]
    },
    {
      "cell_type": "code",
      "metadata": {
        "id": "q46hw4zqKUPS",
        "colab": {
          "base_uri": "https://localhost:8080/"
        },
        "outputId": "2ae56885-d4bc-41b2-86cd-dcc224459064"
      },
      "source": [
        "if bam:\n",
        "\n",
        "  # Install bamtofastq from 10x website (only bam files available)\n",
        "  !wget http://cf.10xgenomics.com/misc/bamtofastq-1.2.0\n",
        "  !chmod +x bamtofastq-1.2.0\n",
        "  # Download the bam file\n",
        "  !wget -- continue ${BAM_LINK}\n",
        "\n",
        "\n"
      ],
      "execution_count": 4,
      "outputs": [
        {
          "output_type": "stream",
          "text": [
            "--2021-03-01 02:53:17--  http://cf.10xgenomics.com/misc/bamtofastq-1.2.0\n",
            "Resolving cf.10xgenomics.com (cf.10xgenomics.com)... 104.18.1.173, 104.18.0.173, 2606:4700::6812:ad, ...\n",
            "Connecting to cf.10xgenomics.com (cf.10xgenomics.com)|104.18.1.173|:80... connected.\n",
            "HTTP request sent, awaiting response... 301 Moved Permanently\n",
            "Location: https://cf.10xgenomics.com/misc/bamtofastq-1.2.0 [following]\n",
            "--2021-03-01 02:53:17--  https://cf.10xgenomics.com/misc/bamtofastq-1.2.0\n",
            "Connecting to cf.10xgenomics.com (cf.10xgenomics.com)|104.18.1.173|:443... connected.\n",
            "HTTP request sent, awaiting response... 200 OK\n",
            "Length: 13288280 (13M) [binary/octet-stream]\n",
            "Saving to: ‘bamtofastq-1.2.0’\n",
            "\n",
            "bamtofastq-1.2.0    100%[===================>]  12.67M  10.9MB/s    in 1.2s    \n",
            "\n",
            "2021-03-01 02:53:19 (10.9 MB/s) - ‘bamtofastq-1.2.0’ saved [13288280/13288280]\n",
            "\n",
            "--2021-03-01 02:53:19--  http://continue/\n",
            "Resolving continue (continue)... failed: Name or service not known.\n",
            "wget: unable to resolve host address ‘continue’\n",
            "--2021-03-01 02:53:19--  https://sra-pub-src-1.s3.amazonaws.com/SRR7644618/sample_1_3.bam.1\n",
            "Resolving sra-pub-src-1.s3.amazonaws.com (sra-pub-src-1.s3.amazonaws.com)... 52.216.237.203\n",
            "Connecting to sra-pub-src-1.s3.amazonaws.com (sra-pub-src-1.s3.amazonaws.com)|52.216.237.203|:443... connected.\n",
            "HTTP request sent, awaiting response... 200 OK\n",
            "Length: 5976480089 (5.6G) [application/x-troff-man]\n",
            "Saving to: ‘sample_1_3.bam.1’\n",
            "\n",
            "sample_1_3.bam.1    100%[===================>]   5.57G  16.7MB/s    in 5m 49s  \n",
            "\n",
            "2021-03-01 02:59:09 (16.3 MB/s) - ‘sample_1_3.bam.1’ saved [5976480089/5976480089]\n",
            "\n",
            "FINISHED --2021-03-01 02:59:09--\n",
            "Total wall clock time: 5m 50s\n",
            "Downloaded: 1 files, 5.6G in 5m 49s (16.3 MB/s)\n"
          ],
          "name": "stdout"
        }
      ]
    },
    {
      "cell_type": "code",
      "metadata": {
        "id": "tDQlrjtqNF0m",
        "colab": {
          "base_uri": "https://localhost:8080/"
        },
        "outputId": "90d6ed71-ec79-4971-acf3-4080765c078d"
      },
      "source": [
        "if bam:\n",
        "  # Convert to fastq\n",
        "  !./bamtofastq-1.2.0 --reads-per-fastq=500000000 $bam_filename ./fastqs\\\n",
        "\n",
        "  # Remove original bam file to save space\n",
        "  !rm $bam_filename\n"
      ],
      "execution_count": 5,
      "outputs": [
        {
          "output_type": "stream",
          "text": [
            "bamtofastq v1.2.0\n",
            "Args { arg_bam: \"sample_1_3.bam.1\", arg_output_path: \"./fastqs\", flag_nthreads: 4, flag_locus: None, flag_bx_list: None, flag_reads_per_fastq: 500000000, flag_gemcode: false, flag_lr20: false, flag_cr11: false }\n",
            "Writing finished.  Observed 48865726 read pairs. Wrote 48865726 read pairs\n"
          ],
          "name": "stdout"
        }
      ]
    },
    {
      "cell_type": "code",
      "metadata": {
        "id": "SXRDRphvqcLe",
        "colab": {
          "base_uri": "https://localhost:8080/"
        },
        "outputId": "07ffbf5a-a863-4d3a-c324-d9cadce8b422"
      },
      "source": [
        "# Store fastq names on a list\n",
        "\n",
        "if bam:\n",
        "  # cd into fastqs folder\n",
        "  %cd /content/fastqs\n",
        "\n",
        "  #store the name of the folder generated by bamtofastq\n",
        "  _filename = os.listdir()[0]\n",
        "\n",
        "  # cd into that folder\n",
        "  %cd $_filename\n",
        "\n",
        "  # store fastq names in a list\n",
        "  fastqs = os.listdir()\n",
        "\n",
        "\n",
        "  # Remove I1 and R3 reads not relevant for our analysis\n",
        "\n",
        "  # Initialize list containing elements to remove\n",
        "  remov_elem = []\n",
        "\n",
        "  print (\"\\n\\nThis is the complete list of fastqs:\\n -----------\")\n",
        "  for elem in fastqs:\n",
        "    print (elem)\n",
        "\n",
        "  # Search index (I1 or R3) fastqs and remove them from list\n",
        "  for elem in fastqs:\n",
        "    if re.search(\"_R3_\", elem) or re.search(\"_I1_\", elem):\n",
        "      remov_elem = remov_elem +[elem]\n",
        "\n",
        "  fastqs = [elem for elem in fastqs if elem not in remov_elem] \n",
        "\n",
        "  print (\"\\n\\nThis is the filtered list of fastqs:\\n -----------\")\n",
        "  for elem in fastqs:\n",
        "    print (elem)\n"
      ],
      "execution_count": 6,
      "outputs": [
        {
          "output_type": "stream",
          "text": [
            "/content/fastqs\n",
            "/content/fastqs/sample_1-3_MissingLibrary_1_HW2NMBBXX\n",
            "\n",
            "\n",
            "This is the complete list of fastqs:\n",
            " -----------\n",
            "bamtofastq_S1_L007_R2_001.fastq.gz\n",
            "bamtofastq_S1_L007_R1_001.fastq.gz\n",
            "bamtofastq_S1_L007_I1_001.fastq.gz\n",
            "\n",
            "\n",
            "This is the filtered list of fastqs:\n",
            " -----------\n",
            "bamtofastq_S1_L007_R2_001.fastq.gz\n",
            "bamtofastq_S1_L007_R1_001.fastq.gz\n"
          ],
          "name": "stdout"
        }
      ]
    },
    {
      "cell_type": "code",
      "metadata": {
        "id": "ZnFcqcSgjLBw"
      },
      "source": [
        "# Remove fastqs that wont be analyzed to save space\n",
        "if bam:\n",
        "  for elem in remov_elem:\n",
        "    !rm $elem"
      ],
      "execution_count": 7,
      "outputs": []
    },
    {
      "cell_type": "code",
      "metadata": {
        "id": "FLVS8aB7Dm6J"
      },
      "source": [
        "if bam:\n",
        "  # sort fastqs alphabetically to get R1 and R2 in order\n",
        "  fastqs = sorted(fastqs)"
      ],
      "execution_count": 8,
      "outputs": []
    },
    {
      "cell_type": "code",
      "metadata": {
        "id": "PC9oETW1pE9t",
        "colab": {
          "base_uri": "https://localhost:8080/"
        },
        "outputId": "54cd2961-3962-434b-b7d4-94ff3e28ee5a"
      },
      "source": [
        "if bam:\n",
        "  # Download the corresponding Kallisto index to folder containing fastqs\n",
        "  !kb ref -d $species_kb -i index.idx -g t2g.txt -f1 transcriptome.fasta\n",
        "\n",
        "if not bam:\n",
        "  %cd /content\n",
        "\n",
        "  # Download the corresponding Kallisto index to content folder\n",
        "  !kb ref -d $species_kb -i index.idx -g t2g.txt -f1 transcriptome.fasta"
      ],
      "execution_count": 9,
      "outputs": [
        {
          "output_type": "stream",
          "text": [
            "[2021-03-01 03:08:31,225]    INFO Downloading files for human from https://caltech.box.com/shared/static/v1nm7lpnqz5syh8dyzdk2zs8bglncfib.gz to tmp/v1nm7lpnqz5syh8dyzdk2zs8bglncfib.gz\n",
            "100% 2.23G/2.23G [02:27<00:00, 16.2MB/s]\n",
            "[2021-03-01 03:11:00,620]    INFO Extracting files from tmp/v1nm7lpnqz5syh8dyzdk2zs8bglncfib.gz\n"
          ],
          "name": "stdout"
        }
      ]
    },
    {
      "cell_type": "code",
      "metadata": {
        "id": "vHVNa51Cp9Nr",
        "colab": {
          "base_uri": "https://localhost:8080/"
        },
        "outputId": "86d3e20a-963a-4e1a-821b-38144eac921a"
      },
      "source": [
        "print(fastqs)"
      ],
      "execution_count": 10,
      "outputs": [
        {
          "output_type": "stream",
          "text": [
            "['bamtofastq_S1_L007_R1_001.fastq.gz', 'bamtofastq_S1_L007_R2_001.fastq.gz']\n"
          ],
          "name": "stdout"
        }
      ]
    },
    {
      "cell_type": "markdown",
      "metadata": {
        "id": "VInyuq1Dp7iz"
      },
      "source": [
        "# Process fastq files (modify kb command according to fastqs list)\n"
      ]
    },
    {
      "cell_type": "code",
      "metadata": {
        "id": "OcqtBuH-pRaX",
        "colab": {
          "base_uri": "https://localhost:8080/"
        },
        "outputId": "42cdf9bd-dbf1-46b6-dc7c-658523c1afe5"
      },
      "source": [
        "fastqs"
      ],
      "execution_count": 11,
      "outputs": [
        {
          "output_type": "execute_result",
          "data": {
            "text/plain": [
              "['bamtofastq_S1_L007_R1_001.fastq.gz', 'bamtofastq_S1_L007_R2_001.fastq.gz']"
            ]
          },
          "metadata": {
            "tags": []
          },
          "execution_count": 11
        }
      ]
    },
    {
      "cell_type": "code",
      "metadata": {
        "id": "5qFzPj-0kZTi",
        "colab": {
          "base_uri": "https://localhost:8080/"
        },
        "outputId": "f5b08280-7b7b-4ab9-a97f-afbae274819b"
      },
      "source": [
        "# Specify the sample number and whether they are paired-ended\n",
        "number_of_samples = 1\n",
        "paired_ended = True\n",
        "\n",
        "if number_of_samples == 1:\n",
        "\n",
        "  # Write the kb count command as a string with all fastqs of the list as an input\n",
        "  cmd = \"kb count --h5ad -i index.idx -g t2g.txt -x \" + technology_kb + \" -o output\" + sample_id[0] + \" \"\\\n",
        "  + \"--filter bustools -t 2 --overwrite \" + \"'\" +  \"' '\".join(fastqs) + \"'\"\n",
        "  \n",
        "  # Execute it\n",
        "  !$cmd\n",
        "\n",
        "# If more than one sample, iterate through fastqs accordingly\n",
        "else:\n",
        "\n",
        "  # Initializa counter for fastq files\n",
        "  j = 0\n",
        "\n",
        "  # Loop over samples for analysis\n",
        "  for i in range(number_of_samples):\n",
        "\n",
        "    # Write the kb count command as a string\n",
        "    cmd = \"kb count --h5ad -i index.idx -g t2g.txt -x \" + technology_kb + \" -o output\" + sample_id[i] + \" \\\n",
        "    --filter bustools -t 2 --overwrite \" +\\\n",
        "    fastqs[j] + \" \" + fastqs[j+1]\n",
        "\n",
        "    # Execute it\n",
        "    !$cmd\n",
        "\n",
        "    # Update j to move to the next fastq\n",
        "    if paired_ended:\n",
        "      j = j + 2\n",
        "    else:\n",
        "      j = j + 1\n",
        "\n",
        "\n"
      ],
      "execution_count": 12,
      "outputs": [
        {
          "output_type": "stream",
          "text": [
            "[2021-03-01 03:11:43,520]    INFO Using index index.idx to generate BUS file to outputGSM3319034 from\n",
            "[2021-03-01 03:11:43,520]    INFO         bamtofastq_S1_L007_R1_001.fastq.gz\n",
            "[2021-03-01 03:11:43,520]    INFO         bamtofastq_S1_L007_R2_001.fastq.gz\n",
            "[2021-03-01 03:21:30,760]    INFO Sorting BUS file outputGSM3319034/output.bus to outputGSM3319034/tmp/output.s.bus\n",
            "[2021-03-01 03:21:46,496]    INFO Whitelist not provided\n",
            "[2021-03-01 03:21:46,497]    INFO Copying pre-packaged 10XV2 whitelist to outputGSM3319034\n",
            "[2021-03-01 03:21:46,619]    INFO Inspecting BUS file outputGSM3319034/tmp/output.s.bus\n",
            "[2021-03-01 03:21:54,466]    INFO Correcting BUS records in outputGSM3319034/tmp/output.s.bus to outputGSM3319034/tmp/output.s.c.bus with whitelist outputGSM3319034/10xv2_whitelist.txt\n",
            "[2021-03-01 03:22:00,198]    INFO Sorting BUS file outputGSM3319034/tmp/output.s.c.bus to outputGSM3319034/output.unfiltered.bus\n",
            "[2021-03-01 03:22:11,980]    INFO Generating count matrix outputGSM3319034/counts_unfiltered/cells_x_genes from BUS file outputGSM3319034/output.unfiltered.bus\n",
            "[2021-03-01 03:22:29,375]    INFO Reading matrix outputGSM3319034/counts_unfiltered/cells_x_genes.mtx\n",
            "[2021-03-01 03:22:39,410]    INFO Writing matrix to h5ad outputGSM3319034/counts_unfiltered/adata.h5ad\n",
            "[2021-03-01 03:22:40,253]    INFO Filtering with bustools\n",
            "[2021-03-01 03:22:40,253]    INFO Generating whitelist outputGSM3319034/filter_barcodes.txt from BUS file outputGSM3319034/output.unfiltered.bus\n",
            "[2021-03-01 03:22:40,405]    INFO Correcting BUS records in outputGSM3319034/output.unfiltered.bus to outputGSM3319034/tmp/output.unfiltered.c.bus with whitelist outputGSM3319034/filter_barcodes.txt\n",
            "[2021-03-01 03:22:44,914]    INFO Sorting BUS file outputGSM3319034/tmp/output.unfiltered.c.bus to outputGSM3319034/output.filtered.bus\n",
            "[2021-03-01 03:22:55,044]    INFO Generating count matrix outputGSM3319034/counts_filtered/cells_x_genes from BUS file outputGSM3319034/output.filtered.bus\n",
            "[2021-03-01 03:23:10,157]    INFO Reading matrix outputGSM3319034/counts_filtered/cells_x_genes.mtx\n",
            "[2021-03-01 03:23:17,742]    INFO Writing matrix to h5ad outputGSM3319034/counts_filtered/adata.h5ad\n"
          ],
          "name": "stdout"
        }
      ]
    },
    {
      "cell_type": "code",
      "metadata": {
        "id": "FBvaFl4vjF0Z",
        "colab": {
          "base_uri": "https://localhost:8080/",
          "height": 75
        },
        "outputId": "d801b4d2-b167-4000-e9f4-680e09586b07"
      },
      "source": [
        "# sound notification when analysis is complete\n",
        "\n",
        "import IPython.display as display\n",
        "display.Audio(url=\"https://static.sfdict.com/audio/C07/C0702600.mp3\", autoplay=True)"
      ],
      "execution_count": 13,
      "outputs": [
        {
          "output_type": "execute_result",
          "data": {
            "text/html": [
              "\n",
              "                <audio controls=\"controls\" autoplay=\"autoplay\">\n",
              "                    <source src=\"https://static.sfdict.com/audio/C07/C0702600.mp3\" type=\"audio/mpeg\" />\n",
              "                    Your browser does not support the audio element.\n",
              "                </audio>\n",
              "              "
            ],
            "text/plain": [
              "<IPython.lib.display.Audio object>"
            ]
          },
          "metadata": {
            "tags": []
          },
          "execution_count": 13
        }
      ]
    },
    {
      "cell_type": "markdown",
      "metadata": {
        "id": "tDijOZzrqhN2"
      },
      "source": [
        "# Load unfiltered matrix and assign filters to each matrix individually"
      ]
    },
    {
      "cell_type": "markdown",
      "metadata": {
        "id": "VkNLZh_pNFFw"
      },
      "source": [
        "## Load the unfiltered matrix (check dimensions)"
      ]
    },
    {
      "cell_type": "code",
      "metadata": {
        "id": "PppRNeV8AIyw"
      },
      "source": [
        "# Define dict to store data\n",
        "results = {}\n"
      ],
      "execution_count": 14,
      "outputs": []
    },
    {
      "cell_type": "code",
      "metadata": {
        "id": "pKmtGf3c_BiZ",
        "cellView": "both",
        "colab": {
          "base_uri": "https://localhost:8080/"
        },
        "outputId": "da8758c3-e956-49e6-c044-b9ed7ada5d46"
      },
      "source": [
        "# load the unfiltered matrix\n",
        "for i in range(number_of_samples):\n",
        "  results[sample_id[i]] = anndata.read_h5ad(\"output\" + sample_id[i] + \"/counts_unfiltered/adata.h5ad\")\n",
        "  results[sample_id[i]].var[\"gene_id\"] = results[sample_id[i]].var.index.values\n",
        "\n",
        "  t2g = pd.read_csv(\"t2g.txt\", header=None, names=[\"tid\", \"gene_id\", \"gene_name\"], sep=\"\\t\")\n",
        "  t2g.index = t2g.gene_id\n",
        "  t2g = t2g.loc[~t2g.index.duplicated(keep='first')]\n",
        "\n",
        "  results[sample_id[i]].var[\"gene_name\"] = results[sample_id[i]].var.gene_id.map(t2g[\"gene_name\"])\n",
        "  results[sample_id[i]].var.index = results[sample_id[i]].var[\"gene_name\"]\n",
        "  print(\"The unfiltered matrix \" + sample_id[i] + \" contains {} cells by {} genes\".format(len(results[sample_id[i]].obs), len(results[sample_id[i]].var)))\n",
        "\n",
        "  results[sample_id[i]].obs[\"cell_counts\"] = results[sample_id[i]].X.sum(axis=1)\n",
        "  results[sample_id[i]].var[\"gene_counts\"] = nd(results[sample_id[i]].X.sum(axis=0))\n",
        "\n",
        "  results[sample_id[i]].obs[\"n_genes\"] = nd((results[sample_id[i]].X>0).sum(axis=1))\n",
        "  results[sample_id[i]].var[\"n_cells\"] = nd((results[sample_id[i]].X>0).sum(axis=0))\n",
        "\n",
        "  mito_genes = results[sample_id[i]].var_names.str.startswith(\"MT-\" or \"mt-\") \n",
        "  results[sample_id[i]].obs[\"percent_mito\"] = results[sample_id[i]][:,mito_genes].X.sum(axis=1)/results[sample_id[i]].X.sum(axis=1)*100\n",
        "\n",
        "  # Changing the name of the index is necessary to write the file (it won't work with duplicated names)\n",
        "  results[sample_id[i]].var.index.name = \"index\"\n",
        "\n"
      ],
      "execution_count": 15,
      "outputs": [
        {
          "output_type": "stream",
          "text": [
            "The unfiltered matrix GSM3319034 contains 247833 cells by 60623 genes\n"
          ],
          "name": "stdout"
        }
      ]
    },
    {
      "cell_type": "markdown",
      "metadata": {
        "id": "hDAUH3eH_2RA"
      },
      "source": [
        "## Assign filters for each matrix individually"
      ]
    },
    {
      "cell_type": "code",
      "metadata": {
        "id": "ukinuaKk_6Po"
      },
      "source": [
        "# Modify this manually to change sample after having assigned the \"expected_num_cells\" and \"mito_criteria\" parameters\n",
        "samp_n = 0\n",
        "\n",
        "\n",
        "# Filtering criteria\n",
        "cell_threshold = 100\n",
        "gene_threshold = 3\n",
        "\n",
        "mito_criteria = 30"
      ],
      "execution_count": 16,
      "outputs": []
    },
    {
      "cell_type": "code",
      "metadata": {
        "id": "a5wZB5pEfwNs",
        "cellView": "form",
        "colab": {
          "base_uri": "https://localhost:8080/",
          "height": 725
        },
        "outputId": "89e5c0ee-095e-4cc1-d102-a89b7c79b744"
      },
      "source": [
        "\n",
        "expected_num_cells = 5000#@param {type:\"integer\"}\n",
        "knee = np.sort(nd(results[sample_id[i]].X.sum(axis=1)))[::-1]\n",
        "\n",
        "fig, ax = plt.subplots(figsize=(5, 5))\n",
        "\n",
        "x = knee\n",
        "y = range(len(knee))\n",
        "\n",
        "ax.loglog(x, y, linewidth=5, color=\"g\")\n",
        "\n",
        "ax.axvline(x=knee[expected_num_cells], linewidth=3, color=\"k\")\n",
        "ax.axhline(y=expected_num_cells, linewidth=3, color=\"k\")\n",
        "\n",
        "ax.set_xlabel(\"UMI Counts\")\n",
        "ax.set_ylabel(\"Set of Barcodes\")\n",
        "\n",
        "plt.show()\n",
        "\n",
        "cell_threshold = knee[expected_num_cells]\n",
        "\n",
        "results[\"cell_threshold\" + sample_id[samp_n]] = knee[expected_num_cells]\n",
        "\n",
        "print (\"Cells were filtered down to \" + str(expected_num_cells) + \" with at least \" + str(cell_threshold) + \" UMIs\")\n",
        "\n",
        "\n",
        "mito_criteria = 30#@param {type:\"integer\"}\n",
        "results[\"mito_criteria\" + sample_id[samp_n]] = mito_criteria\n",
        "\n",
        "fig, ax = plt.subplots(figsize=(5,5))\n",
        "\n",
        "\n",
        "x = nd(results[sample_id[i]].obs[\"cell_counts\"][results[sample_id[i]].obs[\"cell_counts\"] > cell_threshold])\n",
        "y = nd(results[sample_id[i]].obs[\"percent_mito\"][results[sample_id[i]].obs[\"cell_counts\"] > cell_threshold])\n",
        "\n",
        "ax.scatter(x, y, color=\"green\", alpha=0.1)\n",
        "\n",
        "ax.axhline(y=mito_criteria, linestyle=\"--\", color=\"k\")\n",
        "\n",
        "\n",
        "ax.set_xlabel(\"UMI Counts\")\n",
        "ax.set_ylabel(\"Percent mito\")\n",
        "\n",
        "\n",
        "plt.show()\n",
        "\n",
        "print(\"We select \" + str(mito_criteria) + \" % as the mitochondrial content threshold\")"
      ],
      "execution_count": 17,
      "outputs": [
        {
          "output_type": "display_data",
          "data": {
            "image/png": "[encoded data removed]",
            "text/plain": [
              "<Figure size 360x360 with 1 Axes>"
            ]
          },
          "metadata": {
            "tags": [],
            "image/png": {
              "width": 358,
              "height": 337
            },
            "needs_background": "light"
          }
        },
        {
          "output_type": "stream",
          "text": [
            "Cells were filtered down to 5000 with at least 37.0 UMIs\n"
          ],
          "name": "stdout"
        },
        {
          "output_type": "display_data",
          "data": {
            "image/png": "[encoded data removed]",
            "text/plain": [
              "<Figure size 360x360 with 1 Axes>"
            ]
          },
          "metadata": {
            "tags": [],
            "image/png": {
              "width": 349,
              "height": 337
            },
            "needs_background": "light"
          }
        },
        {
          "output_type": "stream",
          "text": [
            "We select 30 % as the mitochondrial content threshold\n"
          ],
          "name": "stdout"
        }
      ]
    },
    {
      "cell_type": "markdown",
      "metadata": {
        "id": "eP9j2ouPq9KY"
      },
      "source": [
        "# Filter matrix"
      ]
    },
    {
      "cell_type": "code",
      "metadata": {
        "id": "sE51WUA3gVmG",
        "colab": {
          "base_uri": "https://localhost:8080/"
        },
        "outputId": "526d0158-84bb-4f70-a7de-3c164b1f330f"
      },
      "source": [
        "for i in range(number_of_samples):\n",
        "  results[sample_id[i]].obs[\"pass_count_filter\"] = results[sample_id[i]].obs[\"cell_counts\"] > results[\"cell_threshold\" + sample_id[i]]\n",
        "  results[sample_id[i]].obs[\"pass_mito_filter\"] = results[sample_id[i]].obs.percent_mito < results[\"mito_criteria\" + sample_id[i]]\n",
        "  results[sample_id[i]].var[\"pass_gene_filter\"] = results[sample_id[i]].var[\"n_cells\"] > gene_threshold\n",
        "\n",
        "  cell_mask = np.logical_and(results[sample_id[i]].obs[\"pass_count_filter\"].values, results[sample_id[i]].obs[\"pass_mito_filter\"].values)\n",
        "  gene_mask = results[sample_id[i]].var[\"pass_gene_filter\"].values\n",
        "\n",
        "  print(\"Current Shape: {:,} cells x {:,} genes\".format(results[sample_id[i]].shape[0], results[sample_id[i]].shape[1]))\n",
        "  print(\"    New shape: {:,} cells x {:,} genes\".format(cell_mask.sum(), gene_mask.sum()))\n",
        "  results[\"data_\" + sample_id[i]] = results[sample_id[i]][cell_mask, gene_mask]"
      ],
      "execution_count": 18,
      "outputs": [
        {
          "output_type": "stream",
          "text": [
            "Current Shape: 247,833 cells x 60,623 genes\n",
            "    New shape: 4,862 cells x 24,809 genes\n"
          ],
          "name": "stdout"
        }
      ]
    },
    {
      "cell_type": "markdown",
      "metadata": {
        "id": "BxPA81yj4TlU"
      },
      "source": [
        "# Anotate and write the Anndata object"
      ]
    },
    {
      "cell_type": "code",
      "metadata": {
        "id": "O-q_Qj2U4kDU",
        "colab": {
          "base_uri": "https://localhost:8080/"
        },
        "outputId": "0a8b9976-43d0-44e2-ed8e-d6a35d38b432"
      },
      "source": [
        "for i in range(number_of_samples):\n",
        "\n",
        "\n",
        "  results[\"data_\" + sample_id[i]].uns[\"database_id\"] = database_id[samp_n]\n",
        "\n",
        "  results[\"data_\" + sample_id[i]].uns[\"tissue\"] = tissue[samp_n]\n",
        "\n",
        "  results[\"data_\" + sample_id[i]].uns[\"cell_type\"] = cell_type[samp_n]\n",
        "\n",
        "  results[\"data_\" + sample_id[i]].uns[\"sample_id\"] = sample_id[samp_n]\n",
        "\n",
        "  results[\"data_\" + sample_id[i]].uns[\"condition\"] = condition[samp_n]\n",
        "\n",
        "  results[\"data_\" + sample_id[i]].uns[\"species\"] = species[samp_n]\n",
        "\n",
        "  results[\"data_\" + sample_id[i]].uns[\"technology\"] = technology[samp_n]\n",
        "\n",
        "  results[\"data_\" + sample_id[i]].uns[\"paper\"] = paper[samp_n]\n",
        "\n",
        "  results[\"data_\" + sample_id[i]].uns[\"figure\"] = figure[samp_n]"
      ],
      "execution_count": 19,
      "outputs": [
        {
          "output_type": "stream",
          "text": [
            "Trying to set attribute `.uns` of view, copying.\n",
            "Variable names are not unique. To make them unique, call `.var_names_make_unique`.\n",
            "Variable names are not unique. To make them unique, call `.var_names_make_unique`.\n"
          ],
          "name": "stderr"
        }
      ]
    },
    {
      "cell_type": "code",
      "metadata": {
        "id": "ICc77J94_Kye",
        "colab": {
          "base_uri": "https://localhost:8080/"
        },
        "outputId": "a6ec22df-f5f8-432a-c070-6fceec2f3a98"
      },
      "source": [
        "%cd /content\n",
        "\n",
        "for i in range(number_of_samples):\n",
        "\n",
        "  results[\"data_\" + sample_id[i]].write(\"result\" + sample_id[i])"
      ],
      "execution_count": 20,
      "outputs": [
        {
          "output_type": "stream",
          "text": [
            "/content\n"
          ],
          "name": "stdout"
        },
        {
          "output_type": "stream",
          "text": [
            "... storing 'gene_name' as categorical\n"
          ],
          "name": "stderr"
        }
      ]
    },
    {
      "cell_type": "code",
      "metadata": {
        "id": "TBEs3MCxs1q6",
        "outputId": "09887ee0-d009-41a5-b107-969dc49c3f92",
        "colab": {
          "base_uri": "https://localhost:8080/"
        }
      },
      "source": [
        "'''\n",
        "Create TCC matrix\n",
        "'''\n",
        "if not bam:\n",
        "  %cd /content/fastqs\n",
        "\n",
        "if bam:\n",
        "  %cd /content/fastqs/$_filename\n",
        "\n",
        "if no_samples == 1:\n",
        "\n",
        "  # Write the kb count command as a string with all fastqs of the list as an input\n",
        "  cmd = \"kb count --h5ad -i index.idx -g t2g.txt -x \" + technology_kb + \" -o tccoutput\" + sample_id[0] + \" \"\\\n",
        "  + \"--filter bustools -t 2 --tcc --overwrite \" + \"'\" +  \"' '\".join(fastqs) + \"'\"\n",
        "  \n",
        "  # Execute it\n",
        "  !$cmd\n",
        "\n",
        "# If more than one sample, iterate through fastqs accordingly\n",
        "else:\n",
        "\n",
        "  # Initializa counter for fastq files\n",
        "  j = 0\n",
        "\n",
        "  # Loop over samples for analysis\n",
        "  for i in range(no_samples):\n",
        "\n",
        "    fastqs_to_analyze = fastqs[j:j + fastqs_per_sample[i]]\n",
        "    # Write the kb count command as a string\n",
        "    cmd = \"kb count --h5ad -i index.idx -g t2g.txt -x \" + technology_kb + \" -o tccoutput\" + sample_id[i] + \" \\\n",
        "    --filter bustools -t 2 --tcc --overwrite \" + \"'\" +  \"' '\".join(fastqs_to_analyze) + \"'\"\n",
        "\n",
        "    # Execute it\n",
        "    !$cmd\n",
        "\n",
        "    # Update j to move to the next set of fastq\n",
        "    j = j + fastqs_per_sample[i]\n",
        "\n",
        "\n",
        "tcc_results = {}\n",
        "\n",
        "for sample in sample_id:\n",
        "  output = \"bus_raw_\" + sample\n",
        "  !mkdir $output\n",
        "  folder_tcc = \"tccoutput\" + sample\n",
        "  folder_gc = \"output\" + sample\n",
        "\n",
        "  # read tcc matrix\n",
        "  tcc_results[sample] = anndata.read(folder_tcc + \"/counts_unfiltered/adata.h5ad\")\n",
        "  # apply gene count matrix's filter\n",
        "  tcc_results[sample] = tcc_results[sample][results[\"data_\" + sample_id[i]].obs.index.values]\n",
        "  # transfer obs data\n",
        "  tcc_results[sample].obs = results[\"data_\" + sample].obs\n",
        "  # transfer metadata\n",
        "  tcc_results[sample].uns = results[\"data_\" + sample].uns\n",
        "  # write tcc matrix\n",
        "  tcc_results[sample].write(\"/content/tcc_\" + sample)\n",
        "  #gzip tcc matrix\n",
        "  cmd = \"gzip /content/tcc_\" + sample\n",
        "  !$cmd\n",
        "  #gzip filtered bus file\n",
        "  cmd = \"gzip \" + folder_tcc + \"/output.filtered.bus\"\n",
        "  !$cmd\n",
        "  # move and re-name bus file with sample id\n",
        "  cmd = \"mv \" + folder_tcc + \"/output.filtered.bus.gz \" + output + \"/\" + sample +\".filtered.bus.gz\"\n",
        "  !$cmd\n",
        "  # gzip all unfiltered counts\n",
        "  cmd = \"gzip \" + folder_tcc + \"/counts_unfiltered/*\"\n",
        "  !$cmd\n",
        "  cmd = \"gzip \" + folder_gc + \"/counts_unfiltered/*\"\n",
        "  !$cmd\n",
        "  # move unfiltered counts for both\n",
        "  cmd = \"mv \" + folder_tcc + \"/counts_unfiltered \" + output + \"/tcc_unfiltered\"\n",
        "  !$cmd\n",
        "  cmd = \"mv \" + folder_gc + \"/counts_unfiltered \" + output + \"/gc_unfiltered\"\n",
        "  !$cmd\n",
        "\n",
        "  # zip all files\n",
        "  cmd = \"zip -r /content\" + output + \".zip \" + output\n",
        "  !$cmd"
      ],
      "execution_count": 22,
      "outputs": [
        {
          "output_type": "stream",
          "text": [
            "/content/fastqs/sample_1-3_MissingLibrary_1_HW2NMBBXX\n",
            "[2021-03-01 03:42:53,862]    INFO Using index index.idx to generate BUS file to tccoutputGSM3319034 from\n",
            "[2021-03-01 03:42:53,863]    INFO         bamtofastq_S1_L007_R1_001.fastq.gz\n",
            "[2021-03-01 03:42:53,863]    INFO         bamtofastq_S1_L007_R2_001.fastq.gz\n",
            "[2021-03-01 03:52:57,710]    INFO Sorting BUS file tccoutputGSM3319034/output.bus to tccoutputGSM3319034/tmp/output.s.bus\n",
            "[2021-03-01 03:53:13,912]    INFO Whitelist not provided\n",
            "[2021-03-01 03:53:13,912]    INFO Copying pre-packaged 10XV2 whitelist to tccoutputGSM3319034\n",
            "[2021-03-01 03:53:14,031]    INFO Inspecting BUS file tccoutputGSM3319034/tmp/output.s.bus\n",
            "[2021-03-01 03:53:22,533]    INFO Correcting BUS records in tccoutputGSM3319034/tmp/output.s.bus to tccoutputGSM3319034/tmp/output.s.c.bus with whitelist tccoutputGSM3319034/10xv2_whitelist.txt\n",
            "[2021-03-01 03:53:28,799]    INFO Sorting BUS file tccoutputGSM3319034/tmp/output.s.c.bus to tccoutputGSM3319034/output.unfiltered.bus\n",
            "[2021-03-01 03:53:40,847]    INFO Generating count matrix tccoutputGSM3319034/counts_unfiltered/cells_x_tcc from BUS file tccoutputGSM3319034/output.unfiltered.bus\n",
            "[2021-03-01 03:54:17,994]    INFO Reading matrix tccoutputGSM3319034/counts_unfiltered/cells_x_tcc.mtx\n",
            "[2021-03-01 03:54:44,179]    INFO Writing matrix to h5ad tccoutputGSM3319034/counts_unfiltered/adata.h5ad\n",
            "[2021-03-01 03:55:50,823]    INFO Filtering with bustools\n",
            "[2021-03-01 03:55:50,823]    INFO Generating whitelist tccoutputGSM3319034/filter_barcodes.txt from BUS file tccoutputGSM3319034/output.unfiltered.bus\n",
            "[2021-03-01 03:55:51,210]    INFO Correcting BUS records in tccoutputGSM3319034/output.unfiltered.bus to tccoutputGSM3319034/tmp/output.unfiltered.c.bus with whitelist tccoutputGSM3319034/filter_barcodes.txt\n",
            "[2021-03-01 03:55:56,006]    INFO Sorting BUS file tccoutputGSM3319034/tmp/output.unfiltered.c.bus to tccoutputGSM3319034/output.filtered.bus\n",
            "[2021-03-01 03:56:07,812]    INFO Generating count matrix tccoutputGSM3319034/counts_filtered/cells_x_tcc from BUS file tccoutputGSM3319034/output.filtered.bus\n",
            "[2021-03-01 03:56:29,060]    INFO Reading matrix tccoutputGSM3319034/counts_filtered/cells_x_tcc.mtx\n",
            "[2021-03-01 03:56:50,612]    INFO Writing matrix to h5ad tccoutputGSM3319034/counts_filtered/adata.h5ad\n",
            "  adding: bus_raw_GSM3319034/ (stored 0%)\n",
            "  adding: bus_raw_GSM3319034/gc_unfiltered/ (stored 0%)\n",
            "  adding: bus_raw_GSM3319034/gc_unfiltered/cells_x_genes.barcodes.txt.gz (deflated 1%)\n",
            "  adding: bus_raw_GSM3319034/gc_unfiltered/cells_x_genes.genes.txt.gz (deflated 0%)\n",
            "  adding: bus_raw_GSM3319034/gc_unfiltered/cells_x_genes.mtx.gz (deflated 0%)\n",
            "  adding: bus_raw_GSM3319034/gc_unfiltered/adata.h5ad.gz (deflated 5%)\n",
            "  adding: bus_raw_GSM3319034/GSM3319034.filtered.bus.gz (deflated 3%)\n",
            "  adding: bus_raw_GSM3319034/tcc_unfiltered/ (stored 0%)\n",
            "  adding: bus_raw_GSM3319034/tcc_unfiltered/cells_x_tcc.ec.txt.gz (deflated 4%)\n",
            "  adding: bus_raw_GSM3319034/tcc_unfiltered/adata.h5ad.gz (deflated 9%)\n",
            "  adding: bus_raw_GSM3319034/tcc_unfiltered/cells_x_tcc.mtx.gz (deflated 0%)\n",
            "  adding: bus_raw_GSM3319034/tcc_unfiltered/cells_x_tcc.barcodes.txt.gz (deflated 1%)\n"
          ],
          "name": "stdout"
        }
      ]
    },
    {
      "cell_type": "code",
      "metadata": {
        "id": "CofE_zUo_H8e",
        "outputId": "8f095f73-44d5-49b5-902e-7005bd114e38",
        "colab": {
          "base_uri": "https://localhost:8080/"
        }
      },
      "source": [
        "!zip -r /content/fastqs/sample_1-3_MissingLibrary_1_HW2NMBBXX/bus_raw_GSM3319034.zip /content/fastqs/sample_1-3_MissingLibrary_1_HW2NMBBXX/bus_raw_GSM3319034"
      ],
      "execution_count": 23,
      "outputs": [
        {
          "output_type": "stream",
          "text": [
            "  adding: content/fastqs/sample_1-3_MissingLibrary_1_HW2NMBBXX/bus_raw_GSM3319034/ (stored 0%)\n",
            "  adding: content/fastqs/sample_1-3_MissingLibrary_1_HW2NMBBXX/bus_raw_GSM3319034/gc_unfiltered/ (stored 0%)\n",
            "  adding: content/fastqs/sample_1-3_MissingLibrary_1_HW2NMBBXX/bus_raw_GSM3319034/gc_unfiltered/cells_x_genes.barcodes.txt.gz (deflated 1%)\n",
            "  adding: content/fastqs/sample_1-3_MissingLibrary_1_HW2NMBBXX/bus_raw_GSM3319034/gc_unfiltered/cells_x_genes.genes.txt.gz (deflated 0%)\n",
            "  adding: content/fastqs/sample_1-3_MissingLibrary_1_HW2NMBBXX/bus_raw_GSM3319034/gc_unfiltered/cells_x_genes.mtx.gz (deflated 0%)\n",
            "  adding: content/fastqs/sample_1-3_MissingLibrary_1_HW2NMBBXX/bus_raw_GSM3319034/gc_unfiltered/adata.h5ad.gz (deflated 5%)\n",
            "  adding: content/fastqs/sample_1-3_MissingLibrary_1_HW2NMBBXX/bus_raw_GSM3319034/GSM3319034.filtered.bus.gz (deflated 3%)\n",
            "  adding: content/fastqs/sample_1-3_MissingLibrary_1_HW2NMBBXX/bus_raw_GSM3319034/tcc_unfiltered/ (stored 0%)\n",
            "  adding: content/fastqs/sample_1-3_MissingLibrary_1_HW2NMBBXX/bus_raw_GSM3319034/tcc_unfiltered/cells_x_tcc.ec.txt.gz (deflated 4%)\n",
            "  adding: content/fastqs/sample_1-3_MissingLibrary_1_HW2NMBBXX/bus_raw_GSM3319034/tcc_unfiltered/adata.h5ad.gz (deflated 9%)\n",
            "  adding: content/fastqs/sample_1-3_MissingLibrary_1_HW2NMBBXX/bus_raw_GSM3319034/tcc_unfiltered/cells_x_tcc.mtx.gz (deflated 0%)\n",
            "  adding: content/fastqs/sample_1-3_MissingLibrary_1_HW2NMBBXX/bus_raw_GSM3319034/tcc_unfiltered/cells_x_tcc.barcodes.txt.gz (deflated 1%)\n"
          ],
          "name": "stdout"
        }
      ]
    },
    {
      "cell_type": "code",
      "metadata": {
        "id": "m8zLApdP_MiZ"
      },
      "source": [
        ""
      ],
      "execution_count": null,
      "outputs": []
    }
  ]
}