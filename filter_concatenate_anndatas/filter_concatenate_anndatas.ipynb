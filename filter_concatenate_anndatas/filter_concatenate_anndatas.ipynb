{
  "nbformat": 4,
  "nbformat_minor": 0,
  "metadata": {
    "colab": {
      "name": "filter_concatenate_anndatas.ipynb",
      "provenance": [],
      "collapsed_sections": [],
      "toc_visible": true,
      "authorship_tag": "ABX9TyM8yE36RfqyQbBBnr8a+/Qo",
      "include_colab_link": true
    },
    "kernelspec": {
      "name": "python3",
      "display_name": "Python 3"
    }
  },
  "cells": [
    {
      "cell_type": "markdown",
      "metadata": {
        "id": "view-in-github",
        "colab_type": "text"
      },
      "source": [
        "<a href=\"https://colab.research.google.com/github/agalvezm/ACE2_scRNAseq/blob/master/filter_concatenate_anndatas/filter_concatenate_anndatas.ipynb\" target=\"_parent\"><img src=\"https://colab.research.google.com/assets/colab-badge.svg\" alt=\"Open In Colab\"/></a>"
      ]
    },
    {
      "cell_type": "markdown",
      "metadata": {
        "id": "l9enASAfi5m_"
      },
      "source": [
        "## Pre-processing of anndata"
      ]
    },
    {
      "cell_type": "code",
      "metadata": {
        "id": "tsUQ3KT8NqqF"
      },
      "source": [
        ""
      ],
      "execution_count": null,
      "outputs": []
    },
    {
      "cell_type": "code",
      "metadata": {
        "colab": {
          "base_uri": "https://localhost:8080/"
        },
        "id": "ghQsEXgzN4sN",
        "outputId": "f0886cec-7bbb-4fcf-83a2-58767a00b5c8"
      },
      "source": [
        "!pip install scikit-misc"
      ],
      "execution_count": 13,
      "outputs": [
        {
          "output_type": "stream",
          "text": [
            "Collecting scikit-misc\n",
            "\u001b[?25l  Downloading https://files.pythonhosted.org/packages/e5/a9/7e539368f6a3c7cc071481fad9872825b174cd86408be40bd8b286d3977c/scikit_misc-0.1.3-cp36-cp36m-manylinux1_x86_64.whl (8.7MB)\n",
            "\u001b[K     |████████████████████████████████| 8.7MB 3.9MB/s \n",
            "\u001b[?25hRequirement already satisfied: numpy in /usr/local/lib/python3.6/dist-packages (from scikit-misc) (1.19.5)\n",
            "Installing collected packages: scikit-misc\n",
            "Successfully installed scikit-misc-0.1.3\n"
          ],
          "name": "stdout"
        }
      ]
    },
    {
      "cell_type": "code",
      "metadata": {
        "id": "0mkXYPXIN3Ga"
      },
      "source": [
        "from skmisc.loess import loess"
      ],
      "execution_count": 14,
      "outputs": []
    },
    {
      "cell_type": "code",
      "metadata": {
        "colab": {
          "base_uri": "https://localhost:8080/"
        },
        "id": "fo6v09nNTsQW",
        "outputId": "ffbdab99-7c7d-4d81-83b6-d5b3ee3c16a2"
      },
      "source": [
        "!pip install scvi-tools==0.8.0b0\n"
      ],
      "execution_count": 39,
      "outputs": [
        {
          "output_type": "stream",
          "text": [
            "Requirement already satisfied: scvi-tools==0.8.0b0 in /usr/local/lib/python3.6/dist-packages (0.8.0b0)\n",
            "Requirement already satisfied: numpy>=1.17.0 in /usr/local/lib/python3.6/dist-packages (from scvi-tools==0.8.0b0) (1.19.5)\n",
            "Requirement already satisfied: anndata>=0.7.5 in /usr/local/lib/python3.6/dist-packages (from scvi-tools==0.8.0b0) (0.7.5)\n",
            "Requirement already satisfied: xlrd>=1.2.0 in /usr/local/lib/python3.6/dist-packages (from scvi-tools==0.8.0b0) (2.0.1)\n",
            "Requirement already satisfied: torch>=1.3 in /usr/local/lib/python3.6/dist-packages (from scvi-tools==0.8.0b0) (1.7.0+cu101)\n",
            "Requirement already satisfied: ipywidgets in /usr/local/lib/python3.6/dist-packages (from scvi-tools==0.8.0b0) (7.6.3)\n",
            "Requirement already satisfied: rich>=6.2.0 in /usr/local/lib/python3.6/dist-packages (from scvi-tools==0.8.0b0) (9.9.0)\n",
            "Requirement already satisfied: importlib-metadata<2.0,>=1.0; python_version < \"3.8\" in /usr/local/lib/python3.6/dist-packages (from scvi-tools==0.8.0b0) (1.7.0)\n",
            "Requirement already satisfied: h5py>=2.9.0 in /usr/local/lib/python3.6/dist-packages (from scvi-tools==0.8.0b0) (2.10.0)\n",
            "Requirement already satisfied: scikit-learn>=0.21.2 in /usr/local/lib/python3.6/dist-packages (from scvi-tools==0.8.0b0) (0.22.2.post1)\n",
            "Requirement already satisfied: tqdm>=4.31.1 in /usr/local/lib/python3.6/dist-packages (from scvi-tools==0.8.0b0) (4.41.1)\n",
            "Requirement already satisfied: numba>=0.41.0 in /usr/local/lib/python3.6/dist-packages (from scvi-tools==0.8.0b0) (0.48.0)\n",
            "Requirement already satisfied: hyperopt==0.1.2 in /usr/local/lib/python3.6/dist-packages (from scvi-tools==0.8.0b0) (0.1.2)\n",
            "Requirement already satisfied: pandas>=1.0 in /usr/local/lib/python3.6/dist-packages (from scvi-tools==0.8.0b0) (1.1.5)\n",
            "Requirement already satisfied: scipy~=1.0 in /usr/local/lib/python3.6/dist-packages (from anndata>=0.7.5->scvi-tools==0.8.0b0) (1.4.1)\n",
            "Requirement already satisfied: natsort in /usr/local/lib/python3.6/dist-packages (from anndata>=0.7.5->scvi-tools==0.8.0b0) (5.5.0)\n",
            "Requirement already satisfied: packaging in /usr/local/lib/python3.6/dist-packages (from anndata>=0.7.5->scvi-tools==0.8.0b0) (20.8)\n",
            "Requirement already satisfied: dataclasses in /usr/local/lib/python3.6/dist-packages (from torch>=1.3->scvi-tools==0.8.0b0) (0.8)\n",
            "Requirement already satisfied: future in /usr/local/lib/python3.6/dist-packages (from torch>=1.3->scvi-tools==0.8.0b0) (0.16.0)\n",
            "Requirement already satisfied: typing-extensions in /usr/local/lib/python3.6/dist-packages (from torch>=1.3->scvi-tools==0.8.0b0) (3.7.4.3)\n",
            "Requirement already satisfied: traitlets>=4.3.1 in /usr/local/lib/python3.6/dist-packages (from ipywidgets->scvi-tools==0.8.0b0) (4.3.3)\n",
            "Requirement already satisfied: nbformat>=4.2.0 in /usr/local/lib/python3.6/dist-packages (from ipywidgets->scvi-tools==0.8.0b0) (5.0.8)\n",
            "Requirement already satisfied: ipykernel>=4.5.1 in /usr/local/lib/python3.6/dist-packages (from ipywidgets->scvi-tools==0.8.0b0) (4.10.1)\n",
            "Requirement already satisfied: widgetsnbextension~=3.5.0 in /usr/local/lib/python3.6/dist-packages (from ipywidgets->scvi-tools==0.8.0b0) (3.5.1)\n",
            "Requirement already satisfied: jupyterlab-widgets>=1.0.0; python_version >= \"3.6\" in /usr/local/lib/python3.6/dist-packages (from ipywidgets->scvi-tools==0.8.0b0) (1.0.0)\n",
            "Requirement already satisfied: ipython>=4.0.0; python_version >= \"3.3\" in /usr/local/lib/python3.6/dist-packages (from ipywidgets->scvi-tools==0.8.0b0) (5.5.0)\n",
            "Requirement already satisfied: colorama<0.5.0,>=0.4.0 in /usr/local/lib/python3.6/dist-packages (from rich>=6.2.0->scvi-tools==0.8.0b0) (0.4.4)\n",
            "Requirement already satisfied: pygments<3.0.0,>=2.6.0 in /usr/local/lib/python3.6/dist-packages (from rich>=6.2.0->scvi-tools==0.8.0b0) (2.6.1)\n",
            "Requirement already satisfied: commonmark<0.10.0,>=0.9.0 in /usr/local/lib/python3.6/dist-packages (from rich>=6.2.0->scvi-tools==0.8.0b0) (0.9.1)\n",
            "Requirement already satisfied: zipp>=0.5 in /usr/local/lib/python3.6/dist-packages (from importlib-metadata<2.0,>=1.0; python_version < \"3.8\"->scvi-tools==0.8.0b0) (3.4.0)\n",
            "Requirement already satisfied: six in /usr/local/lib/python3.6/dist-packages (from h5py>=2.9.0->scvi-tools==0.8.0b0) (1.15.0)\n",
            "Requirement already satisfied: joblib>=0.11 in /usr/local/lib/python3.6/dist-packages (from scikit-learn>=0.21.2->scvi-tools==0.8.0b0) (1.0.0)\n",
            "Requirement already satisfied: llvmlite<0.32.0,>=0.31.0dev0 in /usr/local/lib/python3.6/dist-packages (from numba>=0.41.0->scvi-tools==0.8.0b0) (0.31.0)\n",
            "Requirement already satisfied: setuptools in /usr/local/lib/python3.6/dist-packages (from numba>=0.41.0->scvi-tools==0.8.0b0) (51.3.3)\n",
            "Requirement already satisfied: networkx in /usr/local/lib/python3.6/dist-packages (from hyperopt==0.1.2->scvi-tools==0.8.0b0) (2.5)\n",
            "Requirement already satisfied: pymongo in /usr/local/lib/python3.6/dist-packages (from hyperopt==0.1.2->scvi-tools==0.8.0b0) (3.11.2)\n",
            "Requirement already satisfied: python-dateutil>=2.7.3 in /usr/local/lib/python3.6/dist-packages (from pandas>=1.0->scvi-tools==0.8.0b0) (2.8.1)\n",
            "Requirement already satisfied: pytz>=2017.2 in /usr/local/lib/python3.6/dist-packages (from pandas>=1.0->scvi-tools==0.8.0b0) (2018.9)\n",
            "Requirement already satisfied: pyparsing>=2.0.2 in /usr/local/lib/python3.6/dist-packages (from packaging->anndata>=0.7.5->scvi-tools==0.8.0b0) (2.4.7)\n",
            "Requirement already satisfied: ipython-genutils in /usr/local/lib/python3.6/dist-packages (from traitlets>=4.3.1->ipywidgets->scvi-tools==0.8.0b0) (0.2.0)\n",
            "Requirement already satisfied: decorator in /usr/local/lib/python3.6/dist-packages (from traitlets>=4.3.1->ipywidgets->scvi-tools==0.8.0b0) (4.4.2)\n",
            "Requirement already satisfied: jupyter-core in /usr/local/lib/python3.6/dist-packages (from nbformat>=4.2.0->ipywidgets->scvi-tools==0.8.0b0) (4.7.0)\n",
            "Requirement already satisfied: jsonschema!=2.5.0,>=2.4 in /usr/local/lib/python3.6/dist-packages (from nbformat>=4.2.0->ipywidgets->scvi-tools==0.8.0b0) (2.6.0)\n",
            "Requirement already satisfied: jupyter-client in /usr/local/lib/python3.6/dist-packages (from ipykernel>=4.5.1->ipywidgets->scvi-tools==0.8.0b0) (5.3.5)\n",
            "Requirement already satisfied: tornado>=4.0 in /usr/local/lib/python3.6/dist-packages (from ipykernel>=4.5.1->ipywidgets->scvi-tools==0.8.0b0) (5.1.1)\n",
            "Requirement already satisfied: notebook>=4.4.1 in /usr/local/lib/python3.6/dist-packages (from widgetsnbextension~=3.5.0->ipywidgets->scvi-tools==0.8.0b0) (5.3.1)\n",
            "Requirement already satisfied: prompt-toolkit<2.0.0,>=1.0.4 in /usr/local/lib/python3.6/dist-packages (from ipython>=4.0.0; python_version >= \"3.3\"->ipywidgets->scvi-tools==0.8.0b0) (1.0.18)\n",
            "Requirement already satisfied: pickleshare in /usr/local/lib/python3.6/dist-packages (from ipython>=4.0.0; python_version >= \"3.3\"->ipywidgets->scvi-tools==0.8.0b0) (0.7.5)\n",
            "Requirement already satisfied: simplegeneric>0.8 in /usr/local/lib/python3.6/dist-packages (from ipython>=4.0.0; python_version >= \"3.3\"->ipywidgets->scvi-tools==0.8.0b0) (0.8.1)\n",
            "Requirement already satisfied: pexpect; sys_platform != \"win32\" in /usr/local/lib/python3.6/dist-packages (from ipython>=4.0.0; python_version >= \"3.3\"->ipywidgets->scvi-tools==0.8.0b0) (4.8.0)\n",
            "Requirement already satisfied: pyzmq>=13 in /usr/local/lib/python3.6/dist-packages (from jupyter-client->ipykernel>=4.5.1->ipywidgets->scvi-tools==0.8.0b0) (20.0.0)\n",
            "Requirement already satisfied: nbconvert in /usr/local/lib/python3.6/dist-packages (from notebook>=4.4.1->widgetsnbextension~=3.5.0->ipywidgets->scvi-tools==0.8.0b0) (5.6.1)\n",
            "Requirement already satisfied: Send2Trash in /usr/local/lib/python3.6/dist-packages (from notebook>=4.4.1->widgetsnbextension~=3.5.0->ipywidgets->scvi-tools==0.8.0b0) (1.5.0)\n",
            "Requirement already satisfied: jinja2 in /usr/local/lib/python3.6/dist-packages (from notebook>=4.4.1->widgetsnbextension~=3.5.0->ipywidgets->scvi-tools==0.8.0b0) (2.11.2)\n",
            "Requirement already satisfied: terminado>=0.8.1 in /usr/local/lib/python3.6/dist-packages (from notebook>=4.4.1->widgetsnbextension~=3.5.0->ipywidgets->scvi-tools==0.8.0b0) (0.9.2)\n",
            "Requirement already satisfied: wcwidth in /usr/local/lib/python3.6/dist-packages (from prompt-toolkit<2.0.0,>=1.0.4->ipython>=4.0.0; python_version >= \"3.3\"->ipywidgets->scvi-tools==0.8.0b0) (0.2.5)\n",
            "Requirement already satisfied: ptyprocess>=0.5 in /usr/local/lib/python3.6/dist-packages (from pexpect; sys_platform != \"win32\"->ipython>=4.0.0; python_version >= \"3.3\"->ipywidgets->scvi-tools==0.8.0b0) (0.7.0)\n",
            "Requirement already satisfied: defusedxml in /usr/local/lib/python3.6/dist-packages (from nbconvert->notebook>=4.4.1->widgetsnbextension~=3.5.0->ipywidgets->scvi-tools==0.8.0b0) (0.6.0)\n",
            "Requirement already satisfied: testpath in /usr/local/lib/python3.6/dist-packages (from nbconvert->notebook>=4.4.1->widgetsnbextension~=3.5.0->ipywidgets->scvi-tools==0.8.0b0) (0.4.4)\n",
            "Requirement already satisfied: entrypoints>=0.2.2 in /usr/local/lib/python3.6/dist-packages (from nbconvert->notebook>=4.4.1->widgetsnbextension~=3.5.0->ipywidgets->scvi-tools==0.8.0b0) (0.3)\n",
            "Requirement already satisfied: bleach in /usr/local/lib/python3.6/dist-packages (from nbconvert->notebook>=4.4.1->widgetsnbextension~=3.5.0->ipywidgets->scvi-tools==0.8.0b0) (3.2.1)\n",
            "Requirement already satisfied: pandocfilters>=1.4.1 in /usr/local/lib/python3.6/dist-packages (from nbconvert->notebook>=4.4.1->widgetsnbextension~=3.5.0->ipywidgets->scvi-tools==0.8.0b0) (1.4.3)\n",
            "Requirement already satisfied: mistune<2,>=0.8.1 in /usr/local/lib/python3.6/dist-packages (from nbconvert->notebook>=4.4.1->widgetsnbextension~=3.5.0->ipywidgets->scvi-tools==0.8.0b0) (0.8.4)\n",
            "Requirement already satisfied: MarkupSafe>=0.23 in /usr/local/lib/python3.6/dist-packages (from jinja2->notebook>=4.4.1->widgetsnbextension~=3.5.0->ipywidgets->scvi-tools==0.8.0b0) (1.1.1)\n",
            "Requirement already satisfied: webencodings in /usr/local/lib/python3.6/dist-packages (from bleach->nbconvert->notebook>=4.4.1->widgetsnbextension~=3.5.0->ipywidgets->scvi-tools==0.8.0b0) (0.5.1)\n"
          ],
          "name": "stdout"
        }
      ]
    },
    {
      "cell_type": "code",
      "metadata": {
        "colab": {
          "base_uri": "https://localhost:8080/"
        },
        "id": "tWZL1Rm3BkAa",
        "outputId": "85e2f051-cb3b-4eee-c472-6500c8ed9477"
      },
      "source": [
        "!pip install scikit-misc\n",
        "!pip install pillow scikit-learn\n",
        "\n",
        "# Install scvi\n",
        "#!pip install scvi-tools\n",
        "!pip install scvi-tools==0.8.0b0\n",
        "\n",
        "\n",
        "!pip install scanpy anndata\n",
        "\n",
        "!pip install scanpy python-igraph louvain MulticoreTSNE pybiomart\n",
        "\n",
        "#import packages\n",
        "import scanpy as sc\n",
        "import numpy as np\n",
        "import pandas as pd\n",
        "import matplotlib.pyplot as plt\n",
        "import seaborn as sns\n",
        "import anndata\n",
        "import scvi\n",
        "\n",
        "\n",
        "# Import packages\n",
        "import anndata\n",
        "import matplotlib\n",
        "import matplotlib.pyplot as plt\n",
        "import numpy as np\n",
        "import pandas as pd\n",
        "import scanpy as sc\n",
        "from sklearn.decomposition import TruncatedSVD\n",
        "from scipy import sparse, io\n",
        "\n",
        "matplotlib.rcParams.update({'font.size': 12})\n",
        "%config InlineBackend.figure_format = 'retina'\n",
        "\n",
        "def nd(arr):\n",
        "    return np.asarray(arr).reshape(-1)"
      ],
      "execution_count": 1,
      "outputs": [
        {
          "output_type": "stream",
          "text": [
            "Requirement already satisfied: scikit-misc in /usr/local/lib/python3.6/dist-packages (0.1.3)\n",
            "Requirement already satisfied: numpy in /usr/local/lib/python3.6/dist-packages (from scikit-misc) (1.19.5)\n",
            "Requirement already satisfied: pillow in /usr/local/lib/python3.6/dist-packages (7.0.0)\n",
            "Requirement already satisfied: scikit-learn in /usr/local/lib/python3.6/dist-packages (0.22.2.post1)\n",
            "Requirement already satisfied: numpy>=1.11.0 in /usr/local/lib/python3.6/dist-packages (from scikit-learn) (1.19.5)\n",
            "Requirement already satisfied: scipy>=0.17.0 in /usr/local/lib/python3.6/dist-packages (from scikit-learn) (1.4.1)\n",
            "Requirement already satisfied: joblib>=0.11 in /usr/local/lib/python3.6/dist-packages (from scikit-learn) (1.0.0)\n",
            "Requirement already satisfied: scvi-tools==0.8.0b0 in /usr/local/lib/python3.6/dist-packages (0.8.0b0)\n",
            "Requirement already satisfied: anndata>=0.7.5 in /usr/local/lib/python3.6/dist-packages (from scvi-tools==0.8.0b0) (0.7.5)\n",
            "Requirement already satisfied: rich>=6.2.0 in /usr/local/lib/python3.6/dist-packages (from scvi-tools==0.8.0b0) (9.9.0)\n",
            "Requirement already satisfied: pandas>=1.0 in /usr/local/lib/python3.6/dist-packages (from scvi-tools==0.8.0b0) (1.1.5)\n",
            "Requirement already satisfied: importlib-metadata<2.0,>=1.0; python_version < \"3.8\" in /usr/local/lib/python3.6/dist-packages (from scvi-tools==0.8.0b0) (1.7.0)\n",
            "Requirement already satisfied: ipywidgets in /usr/local/lib/python3.6/dist-packages (from scvi-tools==0.8.0b0) (7.6.3)\n",
            "Requirement already satisfied: torch>=1.3 in /usr/local/lib/python3.6/dist-packages (from scvi-tools==0.8.0b0) (1.7.0+cu101)\n",
            "Requirement already satisfied: h5py>=2.9.0 in /usr/local/lib/python3.6/dist-packages (from scvi-tools==0.8.0b0) (2.10.0)\n",
            "Requirement already satisfied: scikit-learn>=0.21.2 in /usr/local/lib/python3.6/dist-packages (from scvi-tools==0.8.0b0) (0.22.2.post1)\n",
            "Requirement already satisfied: tqdm>=4.31.1 in /usr/local/lib/python3.6/dist-packages (from scvi-tools==0.8.0b0) (4.41.1)\n",
            "Requirement already satisfied: xlrd>=1.2.0 in /usr/local/lib/python3.6/dist-packages (from scvi-tools==0.8.0b0) (2.0.1)\n",
            "Requirement already satisfied: numba>=0.41.0 in /usr/local/lib/python3.6/dist-packages (from scvi-tools==0.8.0b0) (0.48.0)\n",
            "Requirement already satisfied: hyperopt==0.1.2 in /usr/local/lib/python3.6/dist-packages (from scvi-tools==0.8.0b0) (0.1.2)\n",
            "Requirement already satisfied: numpy>=1.17.0 in /usr/local/lib/python3.6/dist-packages (from scvi-tools==0.8.0b0) (1.19.5)\n",
            "Requirement already satisfied: packaging in /usr/local/lib/python3.6/dist-packages (from anndata>=0.7.5->scvi-tools==0.8.0b0) (20.8)\n",
            "Requirement already satisfied: scipy~=1.0 in /usr/local/lib/python3.6/dist-packages (from anndata>=0.7.5->scvi-tools==0.8.0b0) (1.4.1)\n",
            "Requirement already satisfied: natsort in /usr/local/lib/python3.6/dist-packages (from anndata>=0.7.5->scvi-tools==0.8.0b0) (5.5.0)\n",
            "Requirement already satisfied: pygments<3.0.0,>=2.6.0 in /usr/local/lib/python3.6/dist-packages (from rich>=6.2.0->scvi-tools==0.8.0b0) (2.6.1)\n",
            "Requirement already satisfied: typing-extensions<4.0.0,>=3.7.4 in /usr/local/lib/python3.6/dist-packages (from rich>=6.2.0->scvi-tools==0.8.0b0) (3.7.4.3)\n",
            "Requirement already satisfied: colorama<0.5.0,>=0.4.0 in /usr/local/lib/python3.6/dist-packages (from rich>=6.2.0->scvi-tools==0.8.0b0) (0.4.4)\n",
            "Requirement already satisfied: dataclasses<0.9,>=0.7; python_version >= \"3.6\" and python_version < \"3.7\" in /usr/local/lib/python3.6/dist-packages (from rich>=6.2.0->scvi-tools==0.8.0b0) (0.8)\n",
            "Requirement already satisfied: commonmark<0.10.0,>=0.9.0 in /usr/local/lib/python3.6/dist-packages (from rich>=6.2.0->scvi-tools==0.8.0b0) (0.9.1)\n",
            "Requirement already satisfied: python-dateutil>=2.7.3 in /usr/local/lib/python3.6/dist-packages (from pandas>=1.0->scvi-tools==0.8.0b0) (2.8.1)\n",
            "Requirement already satisfied: pytz>=2017.2 in /usr/local/lib/python3.6/dist-packages (from pandas>=1.0->scvi-tools==0.8.0b0) (2018.9)\n",
            "Requirement already satisfied: zipp>=0.5 in /usr/local/lib/python3.6/dist-packages (from importlib-metadata<2.0,>=1.0; python_version < \"3.8\"->scvi-tools==0.8.0b0) (3.4.0)\n",
            "Requirement already satisfied: nbformat>=4.2.0 in /usr/local/lib/python3.6/dist-packages (from ipywidgets->scvi-tools==0.8.0b0) (5.0.8)\n",
            "Requirement already satisfied: traitlets>=4.3.1 in /usr/local/lib/python3.6/dist-packages (from ipywidgets->scvi-tools==0.8.0b0) (4.3.3)\n",
            "Requirement already satisfied: jupyterlab-widgets>=1.0.0; python_version >= \"3.6\" in /usr/local/lib/python3.6/dist-packages (from ipywidgets->scvi-tools==0.8.0b0) (1.0.0)\n",
            "Requirement already satisfied: ipython>=4.0.0; python_version >= \"3.3\" in /usr/local/lib/python3.6/dist-packages (from ipywidgets->scvi-tools==0.8.0b0) (5.5.0)\n",
            "Requirement already satisfied: widgetsnbextension~=3.5.0 in /usr/local/lib/python3.6/dist-packages (from ipywidgets->scvi-tools==0.8.0b0) (3.5.1)\n",
            "Requirement already satisfied: ipykernel>=4.5.1 in /usr/local/lib/python3.6/dist-packages (from ipywidgets->scvi-tools==0.8.0b0) (4.10.1)\n",
            "Requirement already satisfied: future in /usr/local/lib/python3.6/dist-packages (from torch>=1.3->scvi-tools==0.8.0b0) (0.16.0)\n",
            "Requirement already satisfied: six in /usr/local/lib/python3.6/dist-packages (from h5py>=2.9.0->scvi-tools==0.8.0b0) (1.15.0)\n",
            "Requirement already satisfied: joblib>=0.11 in /usr/local/lib/python3.6/dist-packages (from scikit-learn>=0.21.2->scvi-tools==0.8.0b0) (1.0.0)\n",
            "Requirement already satisfied: setuptools in /usr/local/lib/python3.6/dist-packages (from numba>=0.41.0->scvi-tools==0.8.0b0) (51.3.3)\n",
            "Requirement already satisfied: llvmlite<0.32.0,>=0.31.0dev0 in /usr/local/lib/python3.6/dist-packages (from numba>=0.41.0->scvi-tools==0.8.0b0) (0.31.0)\n",
            "Requirement already satisfied: networkx in /usr/local/lib/python3.6/dist-packages (from hyperopt==0.1.2->scvi-tools==0.8.0b0) (2.5)\n",
            "Requirement already satisfied: pymongo in /usr/local/lib/python3.6/dist-packages (from hyperopt==0.1.2->scvi-tools==0.8.0b0) (3.11.2)\n",
            "Requirement already satisfied: pyparsing>=2.0.2 in /usr/local/lib/python3.6/dist-packages (from packaging->anndata>=0.7.5->scvi-tools==0.8.0b0) (2.4.7)\n",
            "Requirement already satisfied: ipython-genutils in /usr/local/lib/python3.6/dist-packages (from nbformat>=4.2.0->ipywidgets->scvi-tools==0.8.0b0) (0.2.0)\n",
            "Requirement already satisfied: jsonschema!=2.5.0,>=2.4 in /usr/local/lib/python3.6/dist-packages (from nbformat>=4.2.0->ipywidgets->scvi-tools==0.8.0b0) (2.6.0)\n",
            "Requirement already satisfied: jupyter-core in /usr/local/lib/python3.6/dist-packages (from nbformat>=4.2.0->ipywidgets->scvi-tools==0.8.0b0) (4.7.0)\n",
            "Requirement already satisfied: decorator in /usr/local/lib/python3.6/dist-packages (from traitlets>=4.3.1->ipywidgets->scvi-tools==0.8.0b0) (4.4.2)\n",
            "Requirement already satisfied: pickleshare in /usr/local/lib/python3.6/dist-packages (from ipython>=4.0.0; python_version >= \"3.3\"->ipywidgets->scvi-tools==0.8.0b0) (0.7.5)\n",
            "Requirement already satisfied: pexpect; sys_platform != \"win32\" in /usr/local/lib/python3.6/dist-packages (from ipython>=4.0.0; python_version >= \"3.3\"->ipywidgets->scvi-tools==0.8.0b0) (4.8.0)\n",
            "Requirement already satisfied: simplegeneric>0.8 in /usr/local/lib/python3.6/dist-packages (from ipython>=4.0.0; python_version >= \"3.3\"->ipywidgets->scvi-tools==0.8.0b0) (0.8.1)\n",
            "Requirement already satisfied: prompt-toolkit<2.0.0,>=1.0.4 in /usr/local/lib/python3.6/dist-packages (from ipython>=4.0.0; python_version >= \"3.3\"->ipywidgets->scvi-tools==0.8.0b0) (1.0.18)\n",
            "Requirement already satisfied: notebook>=4.4.1 in /usr/local/lib/python3.6/dist-packages (from widgetsnbextension~=3.5.0->ipywidgets->scvi-tools==0.8.0b0) (5.3.1)\n",
            "Requirement already satisfied: jupyter-client in /usr/local/lib/python3.6/dist-packages (from ipykernel>=4.5.1->ipywidgets->scvi-tools==0.8.0b0) (5.3.5)\n",
            "Requirement already satisfied: tornado>=4.0 in /usr/local/lib/python3.6/dist-packages (from ipykernel>=4.5.1->ipywidgets->scvi-tools==0.8.0b0) (5.1.1)\n",
            "Requirement already satisfied: ptyprocess>=0.5 in /usr/local/lib/python3.6/dist-packages (from pexpect; sys_platform != \"win32\"->ipython>=4.0.0; python_version >= \"3.3\"->ipywidgets->scvi-tools==0.8.0b0) (0.7.0)\n",
            "Requirement already satisfied: wcwidth in /usr/local/lib/python3.6/dist-packages (from prompt-toolkit<2.0.0,>=1.0.4->ipython>=4.0.0; python_version >= \"3.3\"->ipywidgets->scvi-tools==0.8.0b0) (0.2.5)\n",
            "Requirement already satisfied: terminado>=0.8.1 in /usr/local/lib/python3.6/dist-packages (from notebook>=4.4.1->widgetsnbextension~=3.5.0->ipywidgets->scvi-tools==0.8.0b0) (0.9.2)\n",
            "Requirement already satisfied: jinja2 in /usr/local/lib/python3.6/dist-packages (from notebook>=4.4.1->widgetsnbextension~=3.5.0->ipywidgets->scvi-tools==0.8.0b0) (2.11.2)\n",
            "Requirement already satisfied: nbconvert in /usr/local/lib/python3.6/dist-packages (from notebook>=4.4.1->widgetsnbextension~=3.5.0->ipywidgets->scvi-tools==0.8.0b0) (5.6.1)\n",
            "Requirement already satisfied: Send2Trash in /usr/local/lib/python3.6/dist-packages (from notebook>=4.4.1->widgetsnbextension~=3.5.0->ipywidgets->scvi-tools==0.8.0b0) (1.5.0)\n",
            "Requirement already satisfied: pyzmq>=13 in /usr/local/lib/python3.6/dist-packages (from jupyter-client->ipykernel>=4.5.1->ipywidgets->scvi-tools==0.8.0b0) (20.0.0)\n",
            "Requirement already satisfied: MarkupSafe>=0.23 in /usr/local/lib/python3.6/dist-packages (from jinja2->notebook>=4.4.1->widgetsnbextension~=3.5.0->ipywidgets->scvi-tools==0.8.0b0) (1.1.1)\n",
            "Requirement already satisfied: entrypoints>=0.2.2 in /usr/local/lib/python3.6/dist-packages (from nbconvert->notebook>=4.4.1->widgetsnbextension~=3.5.0->ipywidgets->scvi-tools==0.8.0b0) (0.3)\n",
            "Requirement already satisfied: pandocfilters>=1.4.1 in /usr/local/lib/python3.6/dist-packages (from nbconvert->notebook>=4.4.1->widgetsnbextension~=3.5.0->ipywidgets->scvi-tools==0.8.0b0) (1.4.3)\n",
            "Requirement already satisfied: defusedxml in /usr/local/lib/python3.6/dist-packages (from nbconvert->notebook>=4.4.1->widgetsnbextension~=3.5.0->ipywidgets->scvi-tools==0.8.0b0) (0.6.0)\n",
            "Requirement already satisfied: mistune<2,>=0.8.1 in /usr/local/lib/python3.6/dist-packages (from nbconvert->notebook>=4.4.1->widgetsnbextension~=3.5.0->ipywidgets->scvi-tools==0.8.0b0) (0.8.4)\n",
            "Requirement already satisfied: bleach in /usr/local/lib/python3.6/dist-packages (from nbconvert->notebook>=4.4.1->widgetsnbextension~=3.5.0->ipywidgets->scvi-tools==0.8.0b0) (3.2.1)\n",
            "Requirement already satisfied: testpath in /usr/local/lib/python3.6/dist-packages (from nbconvert->notebook>=4.4.1->widgetsnbextension~=3.5.0->ipywidgets->scvi-tools==0.8.0b0) (0.4.4)\n",
            "Requirement already satisfied: webencodings in /usr/local/lib/python3.6/dist-packages (from bleach->nbconvert->notebook>=4.4.1->widgetsnbextension~=3.5.0->ipywidgets->scvi-tools==0.8.0b0) (0.5.1)\n",
            "Requirement already satisfied: scanpy in /usr/local/lib/python3.6/dist-packages (1.6.1)\n",
            "Requirement already satisfied: anndata in /usr/local/lib/python3.6/dist-packages (0.7.5)\n",
            "Requirement already satisfied: tables in /usr/local/lib/python3.6/dist-packages (from scanpy) (3.4.4)\n",
            "Requirement already satisfied: h5py>=2.10.0 in /usr/local/lib/python3.6/dist-packages (from scanpy) (2.10.0)\n",
            "Requirement already satisfied: tqdm in /usr/local/lib/python3.6/dist-packages (from scanpy) (4.41.1)\n",
            "Requirement already satisfied: setuptools-scm in /usr/local/lib/python3.6/dist-packages (from scanpy) (5.0.1)\n",
            "Requirement already satisfied: numpy>=1.17.0 in /usr/local/lib/python3.6/dist-packages (from scanpy) (1.19.5)\n",
            "Requirement already satisfied: statsmodels>=0.10.0rc2 in /usr/local/lib/python3.6/dist-packages (from scanpy) (0.10.2)\n",
            "Requirement already satisfied: pandas>=0.21 in /usr/local/lib/python3.6/dist-packages (from scanpy) (1.1.5)\n",
            "Requirement already satisfied: numba>=0.41.0 in /usr/local/lib/python3.6/dist-packages (from scanpy) (0.48.0)\n",
            "Requirement already satisfied: packaging in /usr/local/lib/python3.6/dist-packages (from scanpy) (20.8)\n",
            "Requirement already satisfied: sinfo in /usr/local/lib/python3.6/dist-packages (from scanpy) (0.3.1)\n",
            "Requirement already satisfied: networkx>=2.3 in /usr/local/lib/python3.6/dist-packages (from scanpy) (2.5)\n",
            "Requirement already satisfied: joblib in /usr/local/lib/python3.6/dist-packages (from scanpy) (1.0.0)\n",
            "Requirement already satisfied: natsort in /usr/local/lib/python3.6/dist-packages (from scanpy) (5.5.0)\n",
            "Requirement already satisfied: seaborn in /usr/local/lib/python3.6/dist-packages (from scanpy) (0.11.1)\n",
            "Requirement already satisfied: umap-learn<0.5,>=0.3.10 in /usr/local/lib/python3.6/dist-packages (from scanpy) (0.4.6)\n",
            "Requirement already satisfied: scikit-learn>=0.21.2 in /usr/local/lib/python3.6/dist-packages (from scanpy) (0.22.2.post1)\n",
            "Requirement already satisfied: patsy in /usr/local/lib/python3.6/dist-packages (from scanpy) (0.5.1)\n",
            "Requirement already satisfied: matplotlib>=3.1.2 in /usr/local/lib/python3.6/dist-packages (from scanpy) (3.2.2)\n",
            "Requirement already satisfied: legacy-api-wrap in /usr/local/lib/python3.6/dist-packages (from scanpy) (1.2)\n",
            "Requirement already satisfied: scipy>=1.4 in /usr/local/lib/python3.6/dist-packages (from scanpy) (1.4.1)\n",
            "Requirement already satisfied: importlib-metadata>=0.7; python_version < \"3.8\" in /usr/local/lib/python3.6/dist-packages (from scanpy) (1.7.0)\n",
            "Requirement already satisfied: numexpr>=2.5.2 in /usr/local/lib/python3.6/dist-packages (from tables->scanpy) (2.7.2)\n",
            "Requirement already satisfied: six>=1.9.0 in /usr/local/lib/python3.6/dist-packages (from tables->scanpy) (1.15.0)\n",
            "Requirement already satisfied: setuptools in /usr/local/lib/python3.6/dist-packages (from setuptools-scm->scanpy) (51.3.3)\n",
            "Requirement already satisfied: python-dateutil>=2.7.3 in /usr/local/lib/python3.6/dist-packages (from pandas>=0.21->scanpy) (2.8.1)\n",
            "Requirement already satisfied: pytz>=2017.2 in /usr/local/lib/python3.6/dist-packages (from pandas>=0.21->scanpy) (2018.9)\n",
            "Requirement already satisfied: llvmlite<0.32.0,>=0.31.0dev0 in /usr/local/lib/python3.6/dist-packages (from numba>=0.41.0->scanpy) (0.31.0)\n",
            "Requirement already satisfied: pyparsing>=2.0.2 in /usr/local/lib/python3.6/dist-packages (from packaging->scanpy) (2.4.7)\n",
            "Requirement already satisfied: stdlib-list in /usr/local/lib/python3.6/dist-packages (from sinfo->scanpy) (0.8.0)\n",
            "Requirement already satisfied: decorator>=4.3.0 in /usr/local/lib/python3.6/dist-packages (from networkx>=2.3->scanpy) (4.4.2)\n",
            "Requirement already satisfied: kiwisolver>=1.0.1 in /usr/local/lib/python3.6/dist-packages (from matplotlib>=3.1.2->scanpy) (1.3.1)\n",
            "Requirement already satisfied: cycler>=0.10 in /usr/local/lib/python3.6/dist-packages (from matplotlib>=3.1.2->scanpy) (0.10.0)\n",
            "Requirement already satisfied: get-version>=2.0.4 in /usr/local/lib/python3.6/dist-packages (from legacy-api-wrap->scanpy) (2.1)\n",
            "Requirement already satisfied: zipp>=0.5 in /usr/local/lib/python3.6/dist-packages (from importlib-metadata>=0.7; python_version < \"3.8\"->scanpy) (3.4.0)\n",
            "Requirement already satisfied: scanpy in /usr/local/lib/python3.6/dist-packages (1.6.1)\n",
            "Requirement already satisfied: python-igraph in /usr/local/lib/python3.6/dist-packages (0.8.3)\n",
            "Requirement already satisfied: louvain in /usr/local/lib/python3.6/dist-packages (0.7.0)\n",
            "Requirement already satisfied: MulticoreTSNE in /usr/local/lib/python3.6/dist-packages (0.1)\n",
            "Requirement already satisfied: pybiomart in /usr/local/lib/python3.6/dist-packages (0.2.0)\n",
            "Requirement already satisfied: tqdm in /usr/local/lib/python3.6/dist-packages (from scanpy) (4.41.1)\n",
            "Requirement already satisfied: natsort in /usr/local/lib/python3.6/dist-packages (from scanpy) (5.5.0)\n",
            "Requirement already satisfied: statsmodels>=0.10.0rc2 in /usr/local/lib/python3.6/dist-packages (from scanpy) (0.10.2)\n",
            "Requirement already satisfied: legacy-api-wrap in /usr/local/lib/python3.6/dist-packages (from scanpy) (1.2)\n",
            "Requirement already satisfied: h5py>=2.10.0 in /usr/local/lib/python3.6/dist-packages (from scanpy) (2.10.0)\n",
            "Requirement already satisfied: scipy>=1.4 in /usr/local/lib/python3.6/dist-packages (from scanpy) (1.4.1)\n",
            "Requirement already satisfied: tables in /usr/local/lib/python3.6/dist-packages (from scanpy) (3.4.4)\n",
            "Requirement already satisfied: pandas>=0.21 in /usr/local/lib/python3.6/dist-packages (from scanpy) (1.1.5)\n",
            "Requirement already satisfied: matplotlib>=3.1.2 in /usr/local/lib/python3.6/dist-packages (from scanpy) (3.2.2)\n",
            "Requirement already satisfied: importlib-metadata>=0.7; python_version < \"3.8\" in /usr/local/lib/python3.6/dist-packages (from scanpy) (1.7.0)\n",
            "Requirement already satisfied: sinfo in /usr/local/lib/python3.6/dist-packages (from scanpy) (0.3.1)\n",
            "Requirement already satisfied: setuptools-scm in /usr/local/lib/python3.6/dist-packages (from scanpy) (5.0.1)\n",
            "Requirement already satisfied: anndata>=0.7 in /usr/local/lib/python3.6/dist-packages (from scanpy) (0.7.5)\n",
            "Requirement already satisfied: numpy>=1.17.0 in /usr/local/lib/python3.6/dist-packages (from scanpy) (1.19.5)\n",
            "Requirement already satisfied: patsy in /usr/local/lib/python3.6/dist-packages (from scanpy) (0.5.1)\n",
            "Requirement already satisfied: scikit-learn>=0.21.2 in /usr/local/lib/python3.6/dist-packages (from scanpy) (0.22.2.post1)\n",
            "Requirement already satisfied: networkx>=2.3 in /usr/local/lib/python3.6/dist-packages (from scanpy) (2.5)\n",
            "Requirement already satisfied: seaborn in /usr/local/lib/python3.6/dist-packages (from scanpy) (0.11.1)\n",
            "Requirement already satisfied: umap-learn<0.5,>=0.3.10 in /usr/local/lib/python3.6/dist-packages (from scanpy) (0.4.6)\n",
            "Requirement already satisfied: numba>=0.41.0 in /usr/local/lib/python3.6/dist-packages (from scanpy) (0.48.0)\n",
            "Requirement already satisfied: joblib in /usr/local/lib/python3.6/dist-packages (from scanpy) (1.0.0)\n",
            "Requirement already satisfied: packaging in /usr/local/lib/python3.6/dist-packages (from scanpy) (20.8)\n",
            "Requirement already satisfied: texttable>=1.6.2 in /usr/local/lib/python3.6/dist-packages (from python-igraph) (1.6.3)\n",
            "Requirement already satisfied: cffi in /usr/local/lib/python3.6/dist-packages (from MulticoreTSNE) (1.14.4)\n",
            "Requirement already satisfied: requests-cache in /usr/local/lib/python3.6/dist-packages (from pybiomart) (0.5.2)\n",
            "Requirement already satisfied: future in /usr/local/lib/python3.6/dist-packages (from pybiomart) (0.16.0)\n",
            "Requirement already satisfied: requests in /usr/local/lib/python3.6/dist-packages (from pybiomart) (2.23.0)\n",
            "Requirement already satisfied: setuptools in /usr/local/lib/python3.6/dist-packages (from legacy-api-wrap->scanpy) (51.3.3)\n",
            "Requirement already satisfied: get-version>=2.0.4 in /usr/local/lib/python3.6/dist-packages (from legacy-api-wrap->scanpy) (2.1)\n",
            "Requirement already satisfied: six in /usr/local/lib/python3.6/dist-packages (from h5py>=2.10.0->scanpy) (1.15.0)\n",
            "Requirement already satisfied: numexpr>=2.5.2 in /usr/local/lib/python3.6/dist-packages (from tables->scanpy) (2.7.2)\n",
            "Requirement already satisfied: python-dateutil>=2.7.3 in /usr/local/lib/python3.6/dist-packages (from pandas>=0.21->scanpy) (2.8.1)\n",
            "Requirement already satisfied: pytz>=2017.2 in /usr/local/lib/python3.6/dist-packages (from pandas>=0.21->scanpy) (2018.9)\n",
            "Requirement already satisfied: kiwisolver>=1.0.1 in /usr/local/lib/python3.6/dist-packages (from matplotlib>=3.1.2->scanpy) (1.3.1)\n",
            "Requirement already satisfied: pyparsing!=2.0.4,!=2.1.2,!=2.1.6,>=2.0.1 in /usr/local/lib/python3.6/dist-packages (from matplotlib>=3.1.2->scanpy) (2.4.7)\n",
            "Requirement already satisfied: cycler>=0.10 in /usr/local/lib/python3.6/dist-packages (from matplotlib>=3.1.2->scanpy) (0.10.0)\n",
            "Requirement already satisfied: zipp>=0.5 in /usr/local/lib/python3.6/dist-packages (from importlib-metadata>=0.7; python_version < \"3.8\"->scanpy) (3.4.0)\n",
            "Requirement already satisfied: stdlib-list in /usr/local/lib/python3.6/dist-packages (from sinfo->scanpy) (0.8.0)\n",
            "Requirement already satisfied: decorator>=4.3.0 in /usr/local/lib/python3.6/dist-packages (from networkx>=2.3->scanpy) (4.4.2)\n",
            "Requirement already satisfied: llvmlite<0.32.0,>=0.31.0dev0 in /usr/local/lib/python3.6/dist-packages (from numba>=0.41.0->scanpy) (0.31.0)\n",
            "Requirement already satisfied: pycparser in /usr/local/lib/python3.6/dist-packages (from cffi->MulticoreTSNE) (2.20)\n",
            "Requirement already satisfied: chardet<4,>=3.0.2 in /usr/local/lib/python3.6/dist-packages (from requests->pybiomart) (3.0.4)\n",
            "Requirement already satisfied: idna<3,>=2.5 in /usr/local/lib/python3.6/dist-packages (from requests->pybiomart) (2.10)\n",
            "Requirement already satisfied: urllib3!=1.25.0,!=1.25.1,<1.26,>=1.21.1 in /usr/local/lib/python3.6/dist-packages (from requests->pybiomart) (1.24.3)\n",
            "Requirement already satisfied: certifi>=2017.4.17 in /usr/local/lib/python3.6/dist-packages (from requests->pybiomart) (2020.12.5)\n"
          ],
          "name": "stdout"
        }
      ]
    },
    {
      "cell_type": "markdown",
      "metadata": {
        "id": "aDTh-Knji8cf"
      },
      "source": [
        "We first need to transfer the metadata from the uns dictionary to obs columns. Will need a different notebook to do this but I can start drafting the code here."
      ]
    },
    {
      "cell_type": "markdown",
      "metadata": {
        "id": "jX9IqrvziiyL"
      },
      "source": [
        "## Download the data from Box"
      ]
    },
    {
      "cell_type": "code",
      "metadata": {
        "colab": {
          "base_uri": "https://localhost:8080/"
        },
        "id": "CQG7knF0ilK4",
        "outputId": "4171e02e-4c31-4dbb-953a-3e136ccb4f7c"
      },
      "source": [
        "!wget -O results.zip https://caltech.box.com/shared/static/0ddcz5qx0xnfxp77gerliu53re5u9p1m"
      ],
      "execution_count": 2,
      "outputs": [
        {
          "output_type": "stream",
          "text": [
            "--2021-01-27 00:23:39--  https://caltech.box.com/shared/static/0ddcz5qx0xnfxp77gerliu53re5u9p1m\n",
            "Resolving caltech.box.com (caltech.box.com)... 107.152.24.197\n",
            "Connecting to caltech.box.com (caltech.box.com)|107.152.24.197|:443... connected.\n",
            "HTTP request sent, awaiting response... 301 Moved Permanently\n",
            "Location: /public/static/0ddcz5qx0xnfxp77gerliu53re5u9p1m [following]\n",
            "--2021-01-27 00:23:39--  https://caltech.box.com/public/static/0ddcz5qx0xnfxp77gerliu53re5u9p1m\n",
            "Reusing existing connection to caltech.box.com:443.\n",
            "HTTP request sent, awaiting response... 301 Moved Permanently\n",
            "Location: https://caltech.app.box.com/public/static/0ddcz5qx0xnfxp77gerliu53re5u9p1m [following]\n",
            "--2021-01-27 00:23:39--  https://caltech.app.box.com/public/static/0ddcz5qx0xnfxp77gerliu53re5u9p1m\n",
            "Resolving caltech.app.box.com (caltech.app.box.com)... 107.152.24.201\n",
            "Connecting to caltech.app.box.com (caltech.app.box.com)|107.152.24.201|:443... connected.\n",
            "HTTP request sent, awaiting response... 302 Found\n",
            "Location: https://public.boxcloud.com/d/1/b1!vSBvtpNXYhuv606Vrqv20TnAWxalyYnt1qtJbFDuF-hGfAQFiT5spQwS_XPd2GDjiY1VWo1RvaF-6bucQhFeA0xyV6-Tu7qxxaXwaNq6yKjQaanmlXStq1d6qMvbuB9NAfxz58I39ZNcjBAM6RC_fIetC6u3y5RxOIG-zsyWuizG6ftFkfh_wiUzjKyOUU_D6HpElD6d3Sk_nnlhkuEWvbFjRZP3Hth5LZuNIJd8mPr3oP80J89xNh-39qS5VzBFkqLItdva0_vlzZX4u6C-nyoi-FIcV6HCTS3Yg17HoL2CwWkvXkaKeIf4jCz4cysSJxpZn6NmgZ-vAf77P0FajGhrGbTzaAvZPSlXmoGQPm6kd5eNeyeLqpz5AS0zobrdOGMprAOTz6GDHIQgSDRpuaolMnEEXikv2Q5CkjuOf5NfMAWzkry1KngyWFmCeLIvdMaOI5l8xU2mH4evB4DXTjxLDJ7imHTw6KN36a8SDZh300M9_rMpN_GDgFphgvODIZunae1oLy_yNuQv8Zi2KArMuccIvXmTqsVigQL6M4hUn_HKkSwfcgU_MneifxPfsGT3ANb-0dW-oyfSdJ6cWR8CtaFhgamNQwseGcMXOrydPPSmFOuagF0j6vjzQyM9JJyzciVzd3DzIu7Wk5yIb5-VPIj1LLIwUQvvgeV43Ce078G1dfUuAM4Awze280LBeRf4hf_R1PiBApAD3nIwjmXIKuob-p30kKMh3HeW_zUCrswmARv_KBE4sQplJOS7TDK_TNRL5oLXlhF61nf0oFFxK1E5Rml9USda9XFE0raQP_cnnnaHUdNKrHCawq4E2PY-aeefGM25equFPMWnX9ieHw56Q14BrnXZKeTs-3up8yLBFBS8ThdCVaC28pfoBgOibrgBtPCXkKEONKCVdYYyojiDx251dYwcq-BvpSxI0WDWVA4T6CJlAs1T2xWEhVI2brkyEIdeO_13JT-zmA7qzhicoRwX57Xepu71R2NYV0nDcK7eBndh6qc4yOIEFGlJnNQmPvJRUooBM2iG_10_I5onjJPEsnAqKuT0_gRu_62QM7ViFNK6kwrgnVql81BcaeYL-k6VBINcjeSZSfyKLkFHj3xMeZUqkY1WxUDYXH8BaYN-QJjQLcDPVLY6zvbG6LmVDpB3dAEUPqS5bdP7UR-6fpqGJGEcRzJ8FtqmpGHzqVkMkJBCZ60gpQwOIeOqhiRxI9-jNTJzZaH5_DJn2Jlq2nVlRWrocpKAc1vLaOpOYHJCPQS-Kl378x5-VMIz_0FekLcQXVOJHjGZwznh0JHu05JGLwMeKwJb_n9dJI4MlJGoy7e9XWB21gVvDEzCEIwCk1JchF9qaHixQFTyuIARa1sTJtQbkYmk-Kodmjm2rWFeTPeGIxKZl_rqPMImir4Z4S5vHOM5TEBW3CloIQ../download [following]\n",
            "--2021-01-27 00:23:40--  https://public.boxcloud.com/d/1/b1!vSBvtpNXYhuv606Vrqv20TnAWxalyYnt1qtJbFDuF-hGfAQFiT5spQwS_XPd2GDjiY1VWo1RvaF-6bucQhFeA0xyV6-Tu7qxxaXwaNq6yKjQaanmlXStq1d6qMvbuB9NAfxz58I39ZNcjBAM6RC_fIetC6u3y5RxOIG-zsyWuizG6ftFkfh_wiUzjKyOUU_D6HpElD6d3Sk_nnlhkuEWvbFjRZP3Hth5LZuNIJd8mPr3oP80J89xNh-39qS5VzBFkqLItdva0_vlzZX4u6C-nyoi-FIcV6HCTS3Yg17HoL2CwWkvXkaKeIf4jCz4cysSJxpZn6NmgZ-vAf77P0FajGhrGbTzaAvZPSlXmoGQPm6kd5eNeyeLqpz5AS0zobrdOGMprAOTz6GDHIQgSDRpuaolMnEEXikv2Q5CkjuOf5NfMAWzkry1KngyWFmCeLIvdMaOI5l8xU2mH4evB4DXTjxLDJ7imHTw6KN36a8SDZh300M9_rMpN_GDgFphgvODIZunae1oLy_yNuQv8Zi2KArMuccIvXmTqsVigQL6M4hUn_HKkSwfcgU_MneifxPfsGT3ANb-0dW-oyfSdJ6cWR8CtaFhgamNQwseGcMXOrydPPSmFOuagF0j6vjzQyM9JJyzciVzd3DzIu7Wk5yIb5-VPIj1LLIwUQvvgeV43Ce078G1dfUuAM4Awze280LBeRf4hf_R1PiBApAD3nIwjmXIKuob-p30kKMh3HeW_zUCrswmARv_KBE4sQplJOS7TDK_TNRL5oLXlhF61nf0oFFxK1E5Rml9USda9XFE0raQP_cnnnaHUdNKrHCawq4E2PY-aeefGM25equFPMWnX9ieHw56Q14BrnXZKeTs-3up8yLBFBS8ThdCVaC28pfoBgOibrgBtPCXkKEONKCVdYYyojiDx251dYwcq-BvpSxI0WDWVA4T6CJlAs1T2xWEhVI2brkyEIdeO_13JT-zmA7qzhicoRwX57Xepu71R2NYV0nDcK7eBndh6qc4yOIEFGlJnNQmPvJRUooBM2iG_10_I5onjJPEsnAqKuT0_gRu_62QM7ViFNK6kwrgnVql81BcaeYL-k6VBINcjeSZSfyKLkFHj3xMeZUqkY1WxUDYXH8BaYN-QJjQLcDPVLY6zvbG6LmVDpB3dAEUPqS5bdP7UR-6fpqGJGEcRzJ8FtqmpGHzqVkMkJBCZ60gpQwOIeOqhiRxI9-jNTJzZaH5_DJn2Jlq2nVlRWrocpKAc1vLaOpOYHJCPQS-Kl378x5-VMIz_0FekLcQXVOJHjGZwznh0JHu05JGLwMeKwJb_n9dJI4MlJGoy7e9XWB21gVvDEzCEIwCk1JchF9qaHixQFTyuIARa1sTJtQbkYmk-Kodmjm2rWFeTPeGIxKZl_rqPMImir4Z4S5vHOM5TEBW3CloIQ../download\n",
            "Resolving public.boxcloud.com (public.boxcloud.com)... 107.152.24.200\n",
            "Connecting to public.boxcloud.com (public.boxcloud.com)|107.152.24.200|:443... connected.\n",
            "HTTP request sent, awaiting response... 200 OK\n",
            "Length: 3430061778 (3.2G) [application/zip]\n",
            "Saving to: ‘results.zip’\n",
            "\n",
            "results.zip         100%[===================>]   3.19G  23.3MB/s    in 2m 58s  \n",
            "\n",
            "2021-01-27 00:26:39 (18.4 MB/s) - ‘results.zip’ saved [3430061778/3430061778]\n",
            "\n"
          ],
          "name": "stdout"
        }
      ]
    },
    {
      "cell_type": "code",
      "metadata": {
        "colab": {
          "base_uri": "https://localhost:8080/"
        },
        "id": "ZE4c8YiaC_qL",
        "outputId": "f5d6c145-0fc5-4999-b93f-d3b8a29aae88"
      },
      "source": [
        "!unzip results.zip"
      ],
      "execution_count": 3,
      "outputs": [
        {
          "output_type": "stream",
          "text": [
            "Archive:  results.zip\n",
            "   creating: results/\n",
            "  inflating: __MACOSX/._results      \n",
            "  inflating: results/resultGSM3319036.dms  \n",
            "  inflating: __MACOSX/results/._resultGSM3319036.dms  \n",
            "  inflating: results/resultGSM2803967.dms  \n",
            "  inflating: __MACOSX/results/._resultGSM2803967.dms  \n",
            "  inflating: results/resultGSM3509839  \n",
            "  inflating: __MACOSX/results/._resultGSM3509839  \n",
            "  inflating: results/resultGSM2905292.dms  \n",
            "  inflating: __MACOSX/results/._resultGSM2905292.dms  \n",
            "  inflating: results/resultGSM3439917  \n",
            "  inflating: __MACOSX/results/._resultGSM3439917  \n",
            "  inflating: results/resultGSM2905293.dms  \n",
            "  inflating: __MACOSX/results/._resultGSM2905293.dms  \n",
            "  inflating: results/resultGSM3439921  \n",
            "  inflating: __MACOSX/results/._resultGSM3439921  \n",
            "  inflating: results/resultGSM3439926  \n",
            "  inflating: __MACOSX/results/._resultGSM3439926  \n",
            "  inflating: results/resultGSM3439919  \n",
            "  inflating: __MACOSX/results/._resultGSM3439919  \n",
            "  inflating: results/resultGSM3319037.dms  \n",
            "  inflating: __MACOSX/results/._resultGSM3319037.dms  \n",
            "  inflating: results/resultGSM3319035.dms  \n",
            "  inflating: __MACOSX/results/._resultGSM3319035.dms  \n",
            "  inflating: results/resultGSM2905291.dms  \n",
            "  inflating: __MACOSX/results/._resultGSM2905291.dms  \n",
            "  inflating: results/resultGSM3430549.dms  \n",
            "  inflating: __MACOSX/results/._resultGSM3430549.dms  \n",
            "  inflating: results/resultGSM3735993  \n",
            "  inflating: __MACOSX/results/._resultGSM3735993  \n",
            "  inflating: results/resultGSM3439927  \n",
            "  inflating: __MACOSX/results/._resultGSM3439927  \n",
            "  inflating: results/resultGSM3439918  \n",
            "  inflating: __MACOSX/results/._resultGSM3439918  \n",
            "  inflating: results/resultGSM3439920  \n",
            "  inflating: __MACOSX/results/._resultGSM3439920  \n",
            "  inflating: results/resultGSM3430548.dms  \n",
            "  inflating: __MACOSX/results/._resultGSM3430548.dms  \n",
            "  inflating: results/resultGSM2905290.dms  \n",
            "  inflating: __MACOSX/results/._resultGSM2905290.dms  \n",
            "  inflating: results/resultGSM3319034.dms  \n",
            "  inflating: __MACOSX/results/._resultGSM3319034.dms  \n",
            "  inflating: results/resultGSM3148576.dms  \n",
            "  inflating: __MACOSX/results/._resultGSM3148576.dms  \n",
            "  inflating: results/resultGSM3273570.dms  \n",
            "  inflating: __MACOSX/results/._resultGSM3273570.dms  \n",
            "  inflating: results/resultGSM2786157.dms  \n",
            "  inflating: __MACOSX/results/._resultGSM2786157.dms  \n",
            "  inflating: results/resultGSM3717979  \n",
            "  inflating: __MACOSX/results/._resultGSM3717979  \n",
            "  inflating: results/resultGSM3557969  \n",
            "  inflating: __MACOSX/results/._resultGSM3557969  \n",
            "  inflating: results/resultGSM3526590  \n",
            "  inflating: __MACOSX/results/._resultGSM3526590  \n",
            "  inflating: results/.DS_Store       \n",
            "  inflating: __MACOSX/results/._.DS_Store  \n",
            "  inflating: results/resultGSM3302524_HNV7CBGX3.dms  \n",
            "  inflating: __MACOSX/results/._resultGSM3302524_HNV7CBGX3.dms  \n",
            "  inflating: results/resultGSM3396161  \n",
            "  inflating: __MACOSX/results/._resultGSM3396161  \n",
            "  inflating: results/resultGSM4463239  \n",
            "  inflating: __MACOSX/results/._resultGSM4463239  \n",
            "  inflating: results/resultGSM3168248.dms  \n",
            "  inflating: __MACOSX/results/._resultGSM3168248.dms  \n",
            "  inflating: results/resultGSM3665018  \n",
            "  inflating: __MACOSX/results/._resultGSM3665018  \n",
            "  inflating: results/resultGSM4037323  \n",
            "  inflating: __MACOSX/results/._resultGSM4037323  \n",
            "  inflating: results/resultGSM3148577.dms  \n",
            "  inflating: __MACOSX/results/._resultGSM3148577.dms  \n",
            "  inflating: results/resultGSM4037324  \n",
            "  inflating: __MACOSX/results/._resultGSM4037324  \n",
            "  inflating: results/resultGSM3319033.dms  \n",
            "  inflating: __MACOSX/results/._resultGSM3319033.dms  \n",
            "  inflating: results/resultGSM2894834.dms  \n",
            "  inflating: __MACOSX/results/._resultGSM2894834.dms  \n",
            "  inflating: results/resultGSM3148575.dms  \n",
            "  inflating: __MACOSX/results/._resultGSM3148575.dms  \n",
            "  inflating: results/resultGSM4463253  \n",
            "  inflating: __MACOSX/results/._resultGSM4463253  \n",
            "  inflating: results/resultGSM3557968  \n",
            "  inflating: __MACOSX/results/._resultGSM3557968  \n",
            "  inflating: results/resultGSM3396169  \n",
            "  inflating: __MACOSX/results/._resultGSM3396169  \n",
            "  inflating: results/resultGSM4037325  \n",
            "  inflating: __MACOSX/results/._resultGSM4037325  \n",
            "  inflating: results/resultGSM3665019  \n",
            "  inflating: __MACOSX/results/._resultGSM3665019  \n",
            "  inflating: results/resultGSM4037313  \n",
            "  inflating: __MACOSX/results/._resultGSM4037313  \n",
            "  inflating: results/resultGSM3319032.dms  \n",
            "  inflating: __MACOSX/results/._resultGSM3319032.dms  \n",
            "  inflating: results/resultGSM2894835.dms  \n",
            "  inflating: __MACOSX/results/._resultGSM2894835.dms  \n",
            "  inflating: results/resultGSM3665017  \n",
            "  inflating: __MACOSX/results/._resultGSM3665017  \n",
            "  inflating: results/resultGSM3319041.dms  \n",
            "  inflating: __MACOSX/results/._resultGSM3319041.dms  \n",
            "  inflating: results/resultGSM4037309  \n",
            "  inflating: __MACOSX/results/._resultGSM4037309  \n",
            "  inflating: results/resultGSM3378058  \n",
            "  inflating: __MACOSX/results/._resultGSM3378058  \n",
            "  inflating: results/resultGSM2928377.dms  \n",
            "  inflating: __MACOSX/results/._resultGSM2928377.dms  \n",
            "  inflating: results/resultGSM3396173  \n",
            "  inflating: __MACOSX/results/._resultGSM3396173  \n",
            "  inflating: results/resultGSM3738542  \n",
            "  inflating: __MACOSX/results/._resultGSM3738542  \n",
            "  inflating: results/resultGSM3396174  \n",
            "  inflating: __MACOSX/results/._resultGSM3396174  \n",
            "  inflating: results/resultGSM3439914.dms  \n",
            "  inflating: __MACOSX/results/._resultGSM3439914.dms  \n",
            "  inflating: results/resultGSM3478791.dms  \n",
            "  inflating: __MACOSX/results/._resultGSM3478791.dms  \n",
            "  inflating: results/resultGSM3439915.dms  \n",
            "  inflating: __MACOSX/results/._resultGSM3439915.dms  \n",
            "  inflating: results/resultGSM3557972  \n",
            "  inflating: __MACOSX/results/._resultGSM3557972  \n",
            "  inflating: results/resultGSM3526585  \n",
            "  inflating: __MACOSX/results/._resultGSM3526585  \n",
            "  inflating: results/resultGSM4463249  \n",
            "  inflating: __MACOSX/results/._resultGSM4463249  \n",
            "  inflating: results/resultGSM3319040.dms  \n",
            "  inflating: __MACOSX/results/._resultGSM3319040.dms  \n",
            "  inflating: results/resultGSM3319042.dms  \n",
            "  inflating: __MACOSX/results/._resultGSM3319042.dms  \n",
            "  inflating: results/resultGSM3378057  \n",
            "  inflating: __MACOSX/results/._resultGSM3378057  \n",
            "  inflating: results/resultGSM4037306  \n",
            "  inflating: __MACOSX/results/._resultGSM4037306  \n",
            "  inflating: results/resultGSM3396175  \n",
            "  inflating: __MACOSX/results/._resultGSM3396175  \n",
            "  inflating: results/resultGSM3396172  \n",
            "  inflating: __MACOSX/results/._resultGSM3396172  \n",
            "  inflating: results/resultGSM4037301  \n",
            "  inflating: __MACOSX/results/._resultGSM4037301  \n",
            "  inflating: results/resultGSM4080085  \n",
            "  inflating: __MACOSX/results/._resultGSM4080085  \n",
            "  inflating: results/resultGSM3738543  \n",
            "  inflating: __MACOSX/results/._resultGSM3738543  \n",
            "  inflating: results/resultGSM3378059  \n",
            "  inflating: __MACOSX/results/._resultGSM3378059  \n",
            "  inflating: results/resultGSM4463223  \n",
            "  inflating: __MACOSX/results/._resultGSM4463223  \n",
            "  inflating: results/resultGSM3439916.dms  \n",
            "  inflating: __MACOSX/results/._resultGSM3439916.dms  \n",
            "  inflating: results/resultGSM3478792.dms  \n",
            "  inflating: __MACOSX/results/._resultGSM3478792.dms  \n",
            "  inflating: results/resultGSM4142873  \n",
            "  inflating: __MACOSX/results/._resultGSM4142873  \n",
            "  inflating: results/resultGSM3526584  \n",
            "  inflating: __MACOSX/results/._resultGSM3526584  \n",
            "  inflating: results/resultGSM3526583  \n",
            "  inflating: __MACOSX/results/._resultGSM3526583  \n",
            "  inflating: results/resultGSM3319043.dms  \n",
            "  inflating: __MACOSX/results/._resultGSM3319043.dms  \n",
            "  inflating: results/resultGSM3319047.dms  \n",
            "  inflating: __MACOSX/results/._resultGSM3319047.dms  \n",
            "  inflating: results/resultGSM3378056.dms  \n",
            "  inflating: __MACOSX/results/._resultGSM3378056.dms  \n",
            "  inflating: results/resultGSM3439913.dms  \n",
            "  inflating: __MACOSX/results/._resultGSM3439913.dms  \n",
            "  inflating: results/resultGSM3755699  \n",
            "  inflating: __MACOSX/results/._resultGSM3755699  \n",
            "  inflating: results/resultGSM3739217.dms  \n",
            "  inflating: __MACOSX/results/._resultGSM3739217.dms  \n",
            "  inflating: results/resultGSM3396165.dms  \n",
            "  inflating: __MACOSX/results/._resultGSM3396165.dms  \n",
            "  inflating: results/resultGSM3755690  \n",
            "  inflating: __MACOSX/results/._resultGSM3755690  \n",
            "  inflating: results/resultGSM3478792  \n",
            "  inflating: __MACOSX/results/._resultGSM3478792  \n",
            "  inflating: results/resultGSM3755697  \n",
            "  inflating: __MACOSX/results/._resultGSM3755697  \n",
            "  inflating: results/resultGSM3319046.dms  \n",
            "  inflating: __MACOSX/results/._resultGSM3319046.dms  \n",
            "  inflating: results/resultGSM3319044.dms  \n",
            "  inflating: __MACOSX/results/._resultGSM3319044.dms  \n",
            "  inflating: results/resultGSM3396167.dms  \n",
            "  inflating: __MACOSX/results/._resultGSM3396167.dms  \n",
            "  inflating: results/resultGSM3734296  \n",
            "  inflating: __MACOSX/results/._resultGSM3734296  \n",
            "  inflating: results/resultGSM3509839.dms  \n",
            "  inflating: __MACOSX/results/._resultGSM3509839.dms  \n",
            "  inflating: results/resultGSM3509838.dms  \n",
            "  inflating: __MACOSX/results/._resultGSM3509838.dms  \n",
            "  inflating: results/resultGSM3755691  \n",
            "  inflating: __MACOSX/results/._resultGSM3755691  \n",
            "  inflating: results/resultGSM3558027  \n",
            "  inflating: __MACOSX/results/._resultGSM3558027  \n",
            "  inflating: results/resultGSM3396166.dms  \n",
            "  inflating: __MACOSX/results/._resultGSM3396166.dms  \n",
            "  inflating: results/resultGSM3755698  \n",
            "  inflating: __MACOSX/results/._resultGSM3755698  \n",
            "  inflating: results/resultGSM3302525_HNTYNBGX3.dms  \n",
            "  inflating: __MACOSX/results/._resultGSM3302525_HNTYNBGX3.dms  \n",
            "  inflating: results/resultGSM3319045.dms  \n",
            "  inflating: __MACOSX/results/._resultGSM3319045.dms  \n",
            "  inflating: results/resultGSM3439925  \n",
            "  inflating: __MACOSX/results/._resultGSM3439925  \n",
            "  inflating: results/resultGSM3739219.dms  \n",
            "  inflating: __MACOSX/results/._resultGSM3739219.dms  \n",
            "  inflating: results/resultGSM3396180.dms  \n",
            "  inflating: __MACOSX/results/._resultGSM3396180.dms  \n",
            "  inflating: results/resultGSM2928381.dms  \n",
            "  inflating: __MACOSX/results/._resultGSM2928381.dms  \n",
            "  inflating: results/resultGSM3557961.dms  \n",
            "  inflating: __MACOSX/results/._resultGSM3557961.dms  \n",
            "  inflating: results/resultGSM3557960.dms  \n",
            "  inflating: __MACOSX/results/._resultGSM3557960.dms  \n",
            "  inflating: results/resultGSM2928380.dms  \n",
            "  inflating: __MACOSX/results/._resultGSM2928380.dms  \n",
            "  inflating: results/resultGSM3396181.dms  \n",
            "  inflating: __MACOSX/results/._resultGSM3396181.dms  \n",
            "  inflating: results/resultGSM3739218.dms  \n",
            "  inflating: __MACOSX/results/._resultGSM3739218.dms  \n",
            "  inflating: results/resultGSM3755688  \n",
            "  inflating: __MACOSX/results/._resultGSM3755688  \n",
            "  inflating: results/resultGSM3439923  \n",
            "  inflating: __MACOSX/results/._resultGSM3439923  \n",
            "  inflating: results/resultGSM3302524_HNTYNBGX3.dms  \n",
            "  inflating: __MACOSX/results/._resultGSM3302524_HNTYNBGX3.dms  \n",
            "  inflating: results/resultGSM3396168.dms  \n",
            "  inflating: __MACOSX/results/._resultGSM3396168.dms  \n",
            "  inflating: results/resultGSM3396183.dms  \n",
            "  inflating: __MACOSX/results/._resultGSM3396183.dms  \n",
            "  inflating: results/resultGSM2928382.dms  \n",
            "  inflating: __MACOSX/results/._resultGSM2928382.dms  \n",
            "  inflating: results/resultGSM3557962.dms  \n",
            "  inflating: __MACOSX/results/._resultGSM3557962.dms  \n",
            "  inflating: results/resultGSM3509837.dms  \n",
            "  inflating: __MACOSX/results/._resultGSM3509837.dms  \n",
            "   creating: results/SRA_tables/\n",
            "  inflating: results/resultGSM2928383.dms  \n",
            "  inflating: __MACOSX/results/._resultGSM2928383.dms  \n",
            "  inflating: results/resultGSM3396182.dms  \n",
            "  inflating: __MACOSX/results/._resultGSM3396182.dms  \n",
            "  inflating: results/resultGSM3755689  \n",
            "  inflating: __MACOSX/results/._resultGSM3755689  \n",
            "  inflating: results/resultGSM3755687  \n",
            "  inflating: __MACOSX/results/._resultGSM3755687  \n",
            "  inflating: results/resultGSM3375767  \n",
            "  inflating: __MACOSX/results/._resultGSM3375767  \n",
            "  inflating: results/resultGSM4037316  \n",
            "  inflating: __MACOSX/results/._resultGSM4037316  \n",
            "  inflating: results/resultGSM3169075.dms  \n",
            "  inflating: __MACOSX/results/._resultGSM3169075.dms  \n",
            "  inflating: results/resultGSM3396162  \n",
            "  inflating: __MACOSX/results/._resultGSM3396162  \n",
            "  inflating: results/resultGSM2928378.dms  \n",
            "  inflating: __MACOSX/results/._resultGSM2928378.dms  \n",
            "  inflating: results/resultGSM4463234  \n",
            "  inflating: __MACOSX/results/._resultGSM4463234  \n",
            "  inflating: results/resultGSM3667328  \n",
            "  inflating: __MACOSX/results/._resultGSM3667328  \n",
            "  inflating: results/resultGSM3557967.dms  \n",
            "  inflating: __MACOSX/results/._resultGSM3557967.dms  \n",
            "  inflating: results/resultGSM3557973.dms  \n",
            "  inflating: __MACOSX/results/._resultGSM3557973.dms  \n",
            "  inflating: results/resultGSM3557966.dms  \n",
            "  inflating: __MACOSX/results/._resultGSM3557966.dms  \n",
            "  inflating: results/resultGSM3738536  \n",
            "  inflating: __MACOSX/results/._resultGSM3738536  \n",
            "  inflating: results/resultGSM2928379.dms  \n",
            "  inflating: __MACOSX/results/._resultGSM2928379.dms  \n",
            "  inflating: results/resultGSM3739222.dms  \n",
            "  inflating: __MACOSX/results/._resultGSM3739222.dms  \n",
            "  inflating: results/resultGSM3430548  \n",
            "  inflating: __MACOSX/results/._resultGSM3430548  \n",
            "  inflating: results/resultGSM3738538  \n",
            "  inflating: __MACOSX/results/._resultGSM3738538  \n",
            "  inflating: results/resultGSM3667329  \n",
            "  inflating: __MACOSX/results/._resultGSM3667329  \n",
            "  inflating: results/resultGSM3739220.dms  \n",
            "  inflating: __MACOSX/results/._resultGSM3739220.dms  \n",
            "  inflating: results/resultGSM3396163  \n",
            "  inflating: __MACOSX/results/._resultGSM3396163  \n",
            "  inflating: results/resultGSM3396185.dms  \n",
            "  inflating: __MACOSX/results/._resultGSM3396185.dms  \n",
            "  inflating: results/resultGSM2928384.dms  \n",
            "  inflating: __MACOSX/results/._resultGSM2928384.dms  \n",
            "  inflating: results/resultGSM3667327  \n",
            "  inflating: __MACOSX/results/._resultGSM3667327  \n",
            "  inflating: results/resultGSM3396164  \n",
            "  inflating: __MACOSX/results/._resultGSM3396164  \n",
            "  inflating: results/resultGSM3557964.dms  \n",
            "  inflating: __MACOSX/results/._resultGSM3557964.dms  \n",
            "  inflating: results/resultGSM3557959.dms  \n",
            "  inflating: __MACOSX/results/._resultGSM3557959.dms  \n",
            "  inflating: results/resultGSM3738539  \n",
            "  inflating: __MACOSX/results/._resultGSM3738539  \n",
            "  inflating: results/resultGSM3557965  \n",
            "  inflating: __MACOSX/results/._resultGSM3557965  \n",
            "  inflating: results/resultGSM3396184.dms  \n",
            "  inflating: __MACOSX/results/._resultGSM3396184.dms  \n",
            "  inflating: results/resultGSM3739221.dms  \n",
            "  inflating: __MACOSX/results/._resultGSM3739221.dms  \n",
            "  inflating: results/resultGSM3738537  \n",
            "  inflating: __MACOSX/results/._resultGSM3738537  \n",
            "  inflating: results/resultGSM3526586  \n",
            "  inflating: __MACOSX/results/._resultGSM3526586  \n",
            "  inflating: results/resultGSM4463244  \n",
            "  inflating: __MACOSX/results/._resultGSM4463244  \n",
            "  inflating: results/resultGSM3148579.dms  \n",
            "  inflating: __MACOSX/results/._resultGSM3148579.dms  \n",
            "  inflating: results/resultGSM2786158.dms  \n",
            "  inflating: __MACOSX/results/._resultGSM2786158.dms  \n",
            "  inflating: results/resultGSM3723357  \n",
            "  inflating: __MACOSX/results/._resultGSM3723357  \n",
            "  inflating: results/resultGSM3309833.dms  \n",
            "  inflating: __MACOSX/results/._resultGSM3309833.dms  \n",
            "  inflating: results/resultGSM3526588  \n",
            "  inflating: __MACOSX/results/._resultGSM3526588  \n",
            "  inflating: results/resultGSM4142871  \n",
            "  inflating: __MACOSX/results/._resultGSM4142871  \n",
            "  inflating: results/resultGSM3723359  \n",
            "  inflating: __MACOSX/results/._resultGSM3723359  \n",
            "  inflating: results/resultGSM3302525_HNV7CBGX3.dms  \n",
            "  inflating: __MACOSX/results/._resultGSM3302525_HNV7CBGX3.dms  \n",
            "  inflating: results/resultGSM3396179  \n",
            "  inflating: __MACOSX/results/._resultGSM3396179  \n",
            "  inflating: results/resultGSM4080089  \n",
            "  inflating: __MACOSX/results/._resultGSM4080089  \n",
            "  inflating: results/resultGSM3309832.dms  \n",
            "  inflating: __MACOSX/results/._resultGSM3309832.dms  \n",
            "  inflating: results/resultGSM3378055  \n",
            "  inflating: __MACOSX/results/._resultGSM3378055  \n",
            "  inflating: results/resultGSM3396177  \n",
            "  inflating: __MACOSX/results/._resultGSM3396177  \n",
            "  inflating: results/resultGSM3396170  \n",
            "  inflating: __MACOSX/results/._resultGSM3396170  \n",
            "  inflating: results/resultGSM3148578.dms  \n",
            "  inflating: __MACOSX/results/._resultGSM3148578.dms  \n",
            "  inflating: results/resultGSM4080087  \n",
            "  inflating: __MACOSX/results/._resultGSM4080087  \n",
            "  inflating: results/resultGSM3738541  \n",
            "  inflating: __MACOSX/results/._resultGSM3738541  \n",
            "  inflating: results/resultGSM3723358  \n",
            "  inflating: __MACOSX/results/._resultGSM3723358  \n",
            "  inflating: results/resultGSM4142870  \n",
            "  inflating: __MACOSX/results/._resultGSM4142870  \n",
            "  inflating: results/resultGSM3073088.dms  \n",
            "  inflating: __MACOSX/results/._resultGSM3073088.dms  \n",
            "  inflating: results/resultGSM3526589  \n",
            "  inflating: __MACOSX/results/._resultGSM3526589  \n",
            "  inflating: results/resultGSM3557970  \n",
            "  inflating: __MACOSX/results/._resultGSM3557970  \n",
            "  inflating: results/SRR5481335_1.fastq.gz  \n",
            "  inflating: __MACOSX/results/._SRR5481335_1.fastq.gz  \n",
            "  inflating: results/resultGSM3526587  \n",
            "  inflating: __MACOSX/results/._resultGSM3526587  \n",
            "  inflating: results/resultGSM3396171  \n",
            "  inflating: __MACOSX/results/._resultGSM3396171  \n",
            "  inflating: results/resultGSM3509840.dms  \n",
            "  inflating: __MACOSX/results/._resultGSM3509840.dms  \n",
            "  inflating: results/resultGSM4037302  \n",
            "  inflating: __MACOSX/results/._resultGSM4037302  \n",
            "  inflating: results/resultGSM4080086  \n",
            "  inflating: __MACOSX/results/._resultGSM4080086  \n",
            "  inflating: results/resultGSM3738540  \n",
            "  inflating: __MACOSX/results/._resultGSM3738540  \n",
            "  inflating: results/resultGSM4037305  \n",
            "  inflating: __MACOSX/results/._resultGSM4037305  \n",
            "  inflating: results/resultGSM3378054  \n",
            "  inflating: __MACOSX/results/._resultGSM3378054  \n",
            "  inflating: results/resultGSM3396176  \n",
            "  inflating: __MACOSX/results/._resultGSM3396176  \n",
            "  inflating: results/resultGSM4463229  \n",
            "  inflating: __MACOSX/results/._resultGSM4463229  \n",
            "  inflating: results/resultGSM3073089.dms  \n",
            "  inflating: __MACOSX/results/._resultGSM3073089.dms  \n",
            "  inflating: results/resultGSM4080088  \n",
            "  inflating: __MACOSX/results/._resultGSM4080088  \n",
            "  inflating: results/resultGSM2877960.dms  \n",
            "  inflating: __MACOSX/results/._resultGSM2877960.dms  \n",
            "  inflating: results/resultGSM3396178  \n",
            "  inflating: __MACOSX/results/._resultGSM3396178  \n",
            "  inflating: results/resultGSM3319039.dms  \n",
            "  inflating: __MACOSX/results/._resultGSM3319039.dms  \n",
            "  inflating: results/resultGSM3755693  \n",
            "  inflating: __MACOSX/results/._resultGSM3755693  \n",
            "  inflating: results/resultGSM3309834.dms  \n",
            "  inflating: __MACOSX/results/._resultGSM3309834.dms  \n",
            "  inflating: results/resultGSM3143601.dms  \n",
            "  inflating: __MACOSX/results/._resultGSM3143601.dms  \n",
            "  inflating: results/resultGSM2877959.dms  \n",
            "  inflating: __MACOSX/results/._resultGSM2877959.dms  \n",
            "  inflating: results/resultGSM3319038.dms  \n",
            "  inflating: __MACOSX/results/._resultGSM3319038.dms  \n",
            "  inflating: results/resultGSM3755692  \n",
            "  inflating: __MACOSX/results/._resultGSM3755692  \n",
            "  inflating: results/resultGSM3755695  \n",
            "  inflating: __MACOSX/results/._resultGSM3755695  \n",
            "  inflating: results/resultGSM3529821  \n",
            "  inflating: __MACOSX/results/._resultGSM3529821  \n",
            "  inflating: results/resultGSM3734295  \n",
            "  inflating: __MACOSX/results/._resultGSM3734295  \n",
            "  inflating: results/SRA_tables/.DS_Store  \n",
            "  inflating: __MACOSX/results/SRA_tables/._.DS_Store  \n",
            "  inflating: results/SRA_tables/GSE117824_GSM3739218_GSM3739219.txt  \n",
            "  inflating: __MACOSX/results/SRA_tables/._GSE117824_GSM3739218_GSM3739219.txt  \n",
            "  inflating: results/SRA_tables/GSM3143601_GSM3509839.txt  \n",
            "  inflating: __MACOSX/results/SRA_tables/._GSM3143601_GSM3509839.txt  \n",
            "  inflating: results/SRA_tables/GSE117824_GSM3739220_GSM3739221.txt  \n",
            "  inflating: __MACOSX/results/SRA_tables/._GSE117824_GSM3739220_GSM3739221.txt  \n",
            "  inflating: results/SRA_tables/GSE117824_GSM3739217_GSM3309835_GSM3309836.txt  \n",
            "  inflating: __MACOSX/results/SRA_tables/._GSE117824_GSM3739217_GSM3309835_GSM3309836.txt  \n",
            "  inflating: results/SRA_tables/GSE114530.txt  \n",
            "  inflating: __MACOSX/results/SRA_tables/._GSE114530.txt  \n"
          ],
          "name": "stdout"
        }
      ]
    },
    {
      "cell_type": "markdown",
      "metadata": {
        "id": "OIYMMZ6NTtlG"
      },
      "source": [
        "First get list of names of anndata objects"
      ]
    },
    {
      "cell_type": "code",
      "metadata": {
        "id": "47hH03iZTvms"
      },
      "source": [
        "import os\n",
        "adata_names = os.listdir(\"/content/results\")"
      ],
      "execution_count": 2,
      "outputs": []
    },
    {
      "cell_type": "code",
      "metadata": {
        "id": "wgKR-JRROQak"
      },
      "source": [
        "invalid_names = [name for name in adata_names if (\"result\" not in name and \"SRR\" not in name) or \"fastq\" in name]"
      ],
      "execution_count": 15,
      "outputs": []
    },
    {
      "cell_type": "code",
      "metadata": {
        "colab": {
          "base_uri": "https://localhost:8080/"
        },
        "id": "kOkt2qZLVotu",
        "outputId": "5d7c536c-288d-47ed-c6e1-55008585bea2"
      },
      "source": [
        "invalid_names"
      ],
      "execution_count": 16,
      "outputs": [
        {
          "output_type": "execute_result",
          "data": {
            "text/plain": [
              "['SRR5481335_1.fastq.gz']"
            ]
          },
          "metadata": {
            "tags": []
          },
          "execution_count": 16
        }
      ]
    },
    {
      "cell_type": "code",
      "metadata": {
        "id": "3EouYBjpRKyc"
      },
      "source": [
        "for invalid_name in invalid_names:\n",
        "  adata_names.remove(invalid_name)"
      ],
      "execution_count": 17,
      "outputs": []
    },
    {
      "cell_type": "code",
      "metadata": {
        "id": "M645sXYc_Gf2"
      },
      "source": [
        "adata_objects = {}\n",
        "wrong_adatas = []\n"
      ],
      "execution_count": 18,
      "outputs": []
    },
    {
      "cell_type": "code",
      "metadata": {
        "colab": {
          "base_uri": "https://localhost:8080/"
        },
        "id": "7qOWuGAwT72Y",
        "outputId": "8968fe1b-6b2d-47b5-9730-fa26e7c0178c"
      },
      "source": [
        "for adata in adata_names:\n",
        "  # Read adata into dictionary\n",
        "  print(\"Starting \" + adata)\n",
        "\n",
        "  adata_objects[adata] = anndata.read_h5ad(\"/content/results/\" + adata);\n",
        "\n",
        "  adata_objects[adata].var_names_make_unique()\n",
        "\n",
        "  # transfer metadata from uns to obs columns\n",
        "  for key, value in adata_objects[adata].uns.items():\n",
        "    adata_objects[adata].obs[key] = value\n",
        "\n",
        "  # Reduce dimensionality\n",
        "  try:\n",
        "    sc.pp.highly_variable_genes(\n",
        "      adata_objects[adata],\n",
        "      n_top_genes=3000,\n",
        "      subset=True,\n",
        "      #layer=\"counts\", in the tutorial, they make a layer for raw counts and another for normalized. we won't do this so think this is not necessary.\n",
        "      flavor=\"seurat_v3\"\n",
        "    )\n",
        "  except:\n",
        "    wrong_adatas.append(adata)\n",
        "  finally:\n",
        "    pass\n",
        "  adata_objects[adata]\n",
        "  print(\"Finishing \" + adata)\n",
        "\n"
      ],
      "execution_count": 19,
      "outputs": [
        {
          "output_type": "stream",
          "text": [
            "Variable names are not unique. To make them unique, call `.var_names_make_unique`.\n"
          ],
          "name": "stderr"
        },
        {
          "output_type": "stream",
          "text": [
            "Starting resultGSM3439916.dms\n"
          ],
          "name": "stdout"
        },
        {
          "output_type": "stream",
          "text": [
            "/usr/local/lib/python3.6/dist-packages/scanpy/preprocessing/_highly_variable_genes.py:144: FutureWarning: Slicing a positional slice with .loc is not supported, and will raise TypeError in a future version.  Use .loc with labels or .iloc with positions instead.\n",
            "  df.loc[: int(n_top_genes), 'highly_variable'] = True\n",
            "Variable names are not unique. To make them unique, call `.var_names_make_unique`.\n"
          ],
          "name": "stderr"
        },
        {
          "output_type": "stream",
          "text": [
            "Finishing resultGSM3439916.dms\n",
            "Starting resultGSM3319041.dms\n"
          ],
          "name": "stdout"
        },
        {
          "output_type": "stream",
          "text": [
            "/usr/local/lib/python3.6/dist-packages/scanpy/preprocessing/_highly_variable_genes.py:144: FutureWarning: Slicing a positional slice with .loc is not supported, and will raise TypeError in a future version.  Use .loc with labels or .iloc with positions instead.\n",
            "  df.loc[: int(n_top_genes), 'highly_variable'] = True\n",
            "Variable names are not unique. To make them unique, call `.var_names_make_unique`.\n"
          ],
          "name": "stderr"
        },
        {
          "output_type": "stream",
          "text": [
            "Finishing resultGSM3319041.dms\n",
            "Starting resultGSM4037316\n"
          ],
          "name": "stdout"
        },
        {
          "output_type": "stream",
          "text": [
            "/usr/local/lib/python3.6/dist-packages/scanpy/preprocessing/_highly_variable_genes.py:144: FutureWarning: Slicing a positional slice with .loc is not supported, and will raise TypeError in a future version.  Use .loc with labels or .iloc with positions instead.\n",
            "  df.loc[: int(n_top_genes), 'highly_variable'] = True\n",
            "Variable names are not unique. To make them unique, call `.var_names_make_unique`.\n"
          ],
          "name": "stderr"
        },
        {
          "output_type": "stream",
          "text": [
            "Finishing resultGSM4037316\n",
            "Starting resultGSM3439919\n"
          ],
          "name": "stdout"
        },
        {
          "output_type": "stream",
          "text": [
            "/usr/local/lib/python3.6/dist-packages/scanpy/preprocessing/_highly_variable_genes.py:144: FutureWarning: Slicing a positional slice with .loc is not supported, and will raise TypeError in a future version.  Use .loc with labels or .iloc with positions instead.\n",
            "  df.loc[: int(n_top_genes), 'highly_variable'] = True\n",
            "Variable names are not unique. To make them unique, call `.var_names_make_unique`.\n"
          ],
          "name": "stderr"
        },
        {
          "output_type": "stream",
          "text": [
            "Finishing resultGSM3439919\n",
            "Starting resultGSM3526588\n"
          ],
          "name": "stdout"
        },
        {
          "output_type": "stream",
          "text": [
            "/usr/local/lib/python3.6/dist-packages/scanpy/preprocessing/_highly_variable_genes.py:144: FutureWarning: Slicing a positional slice with .loc is not supported, and will raise TypeError in a future version.  Use .loc with labels or .iloc with positions instead.\n",
            "  df.loc[: int(n_top_genes), 'highly_variable'] = True\n",
            "Variable names are not unique. To make them unique, call `.var_names_make_unique`.\n"
          ],
          "name": "stderr"
        },
        {
          "output_type": "stream",
          "text": [
            "Finishing resultGSM3526588\n",
            "Starting resultGSM3319036.dms\n"
          ],
          "name": "stdout"
        },
        {
          "output_type": "stream",
          "text": [
            "/usr/local/lib/python3.6/dist-packages/scanpy/preprocessing/_highly_variable_genes.py:144: FutureWarning: Slicing a positional slice with .loc is not supported, and will raise TypeError in a future version.  Use .loc with labels or .iloc with positions instead.\n",
            "  df.loc[: int(n_top_genes), 'highly_variable'] = True\n",
            "Variable names are not unique. To make them unique, call `.var_names_make_unique`.\n"
          ],
          "name": "stderr"
        },
        {
          "output_type": "stream",
          "text": [
            "Finishing resultGSM3319036.dms\n",
            "Starting resultGSM3396184.dms\n"
          ],
          "name": "stdout"
        },
        {
          "output_type": "stream",
          "text": [
            "/usr/local/lib/python3.6/dist-packages/scanpy/preprocessing/_highly_variable_genes.py:144: FutureWarning: Slicing a positional slice with .loc is not supported, and will raise TypeError in a future version.  Use .loc with labels or .iloc with positions instead.\n",
            "  df.loc[: int(n_top_genes), 'highly_variable'] = True\n",
            "Variable names are not unique. To make them unique, call `.var_names_make_unique`.\n"
          ],
          "name": "stderr"
        },
        {
          "output_type": "stream",
          "text": [
            "Finishing resultGSM3396184.dms\n",
            "Starting resultGSM3319047.dms\n",
            "Finishing resultGSM3319047.dms\n",
            "Starting resultGSM4080086\n"
          ],
          "name": "stdout"
        },
        {
          "output_type": "stream",
          "text": [
            "Variable names are not unique. To make them unique, call `.var_names_make_unique`.\n",
            "/usr/local/lib/python3.6/dist-packages/scanpy/preprocessing/_highly_variable_genes.py:144: FutureWarning: Slicing a positional slice with .loc is not supported, and will raise TypeError in a future version.  Use .loc with labels or .iloc with positions instead.\n",
            "  df.loc[: int(n_top_genes), 'highly_variable'] = True\n",
            "Variable names are not unique. To make them unique, call `.var_names_make_unique`.\n"
          ],
          "name": "stderr"
        },
        {
          "output_type": "stream",
          "text": [
            "Finishing resultGSM4080086\n",
            "Starting resultGSM3738540\n"
          ],
          "name": "stdout"
        },
        {
          "output_type": "stream",
          "text": [
            "/usr/local/lib/python3.6/dist-packages/scanpy/preprocessing/_highly_variable_genes.py:144: FutureWarning: Slicing a positional slice with .loc is not supported, and will raise TypeError in a future version.  Use .loc with labels or .iloc with positions instead.\n",
            "  df.loc[: int(n_top_genes), 'highly_variable'] = True\n",
            "Variable names are not unique. To make them unique, call `.var_names_make_unique`.\n"
          ],
          "name": "stderr"
        },
        {
          "output_type": "stream",
          "text": [
            "Finishing resultGSM3738540\n",
            "Starting resultGSM3378057\n"
          ],
          "name": "stdout"
        },
        {
          "output_type": "stream",
          "text": [
            "/usr/local/lib/python3.6/dist-packages/scanpy/preprocessing/_highly_variable_genes.py:144: FutureWarning: Slicing a positional slice with .loc is not supported, and will raise TypeError in a future version.  Use .loc with labels or .iloc with positions instead.\n",
            "  df.loc[: int(n_top_genes), 'highly_variable'] = True\n",
            "Variable names are not unique. To make them unique, call `.var_names_make_unique`.\n"
          ],
          "name": "stderr"
        },
        {
          "output_type": "stream",
          "text": [
            "Finishing resultGSM3378057\n",
            "Starting resultGSM3755695\n"
          ],
          "name": "stdout"
        },
        {
          "output_type": "stream",
          "text": [
            "/usr/local/lib/python3.6/dist-packages/scanpy/preprocessing/_highly_variable_genes.py:144: FutureWarning: Slicing a positional slice with .loc is not supported, and will raise TypeError in a future version.  Use .loc with labels or .iloc with positions instead.\n",
            "  df.loc[: int(n_top_genes), 'highly_variable'] = True\n",
            "Variable names are not unique. To make them unique, call `.var_names_make_unique`.\n"
          ],
          "name": "stderr"
        },
        {
          "output_type": "stream",
          "text": [
            "Finishing resultGSM3755695\n",
            "Starting resultGSM2905290.dms\n"
          ],
          "name": "stdout"
        },
        {
          "output_type": "stream",
          "text": [
            "/usr/local/lib/python3.6/dist-packages/scanpy/preprocessing/_highly_variable_genes.py:144: FutureWarning: Slicing a positional slice with .loc is not supported, and will raise TypeError in a future version.  Use .loc with labels or .iloc with positions instead.\n",
            "  df.loc[: int(n_top_genes), 'highly_variable'] = True\n",
            "Variable names are not unique. To make them unique, call `.var_names_make_unique`.\n"
          ],
          "name": "stderr"
        },
        {
          "output_type": "stream",
          "text": [
            "Finishing resultGSM2905290.dms\n",
            "Starting resultGSM2894835.dms\n"
          ],
          "name": "stdout"
        },
        {
          "output_type": "stream",
          "text": [
            "/usr/local/lib/python3.6/dist-packages/scanpy/preprocessing/_highly_variable_genes.py:144: FutureWarning: Slicing a positional slice with .loc is not supported, and will raise TypeError in a future version.  Use .loc with labels or .iloc with positions instead.\n",
            "  df.loc[: int(n_top_genes), 'highly_variable'] = True\n",
            "Variable names are not unique. To make them unique, call `.var_names_make_unique`.\n"
          ],
          "name": "stderr"
        },
        {
          "output_type": "stream",
          "text": [
            "Finishing resultGSM2894835.dms\n",
            "Starting resultGSM3148579.dms\n"
          ],
          "name": "stdout"
        },
        {
          "output_type": "stream",
          "text": [
            "/usr/local/lib/python3.6/dist-packages/scanpy/preprocessing/_highly_variable_genes.py:144: FutureWarning: Slicing a positional slice with .loc is not supported, and will raise TypeError in a future version.  Use .loc with labels or .iloc with positions instead.\n",
            "  df.loc[: int(n_top_genes), 'highly_variable'] = True\n",
            "Variable names are not unique. To make them unique, call `.var_names_make_unique`.\n"
          ],
          "name": "stderr"
        },
        {
          "output_type": "stream",
          "text": [
            "Finishing resultGSM3148579.dms\n",
            "Starting resultGSM3319045.dms\n"
          ],
          "name": "stdout"
        },
        {
          "output_type": "stream",
          "text": [
            "/usr/local/lib/python3.6/dist-packages/scanpy/preprocessing/_highly_variable_genes.py:144: FutureWarning: Slicing a positional slice with .loc is not supported, and will raise TypeError in a future version.  Use .loc with labels or .iloc with positions instead.\n",
            "  df.loc[: int(n_top_genes), 'highly_variable'] = True\n",
            "Variable names are not unique. To make them unique, call `.var_names_make_unique`.\n"
          ],
          "name": "stderr"
        },
        {
          "output_type": "stream",
          "text": [
            "Finishing resultGSM3319045.dms\n",
            "Starting resultGSM3319044.dms\n"
          ],
          "name": "stdout"
        },
        {
          "output_type": "stream",
          "text": [
            "/usr/local/lib/python3.6/dist-packages/scanpy/preprocessing/_highly_variable_genes.py:144: FutureWarning: Slicing a positional slice with .loc is not supported, and will raise TypeError in a future version.  Use .loc with labels or .iloc with positions instead.\n",
            "  df.loc[: int(n_top_genes), 'highly_variable'] = True\n",
            "Variable names are not unique. To make them unique, call `.var_names_make_unique`.\n"
          ],
          "name": "stderr"
        },
        {
          "output_type": "stream",
          "text": [
            "Finishing resultGSM3319044.dms\n",
            "Starting resultGSM4463229\n"
          ],
          "name": "stdout"
        },
        {
          "output_type": "stream",
          "text": [
            "/usr/local/lib/python3.6/dist-packages/scanpy/preprocessing/_highly_variable_genes.py:144: FutureWarning: Slicing a positional slice with .loc is not supported, and will raise TypeError in a future version.  Use .loc with labels or .iloc with positions instead.\n",
            "  df.loc[: int(n_top_genes), 'highly_variable'] = True\n",
            "Variable names are not unique. To make them unique, call `.var_names_make_unique`.\n"
          ],
          "name": "stderr"
        },
        {
          "output_type": "stream",
          "text": [
            "Finishing resultGSM4463229\n",
            "Starting resultGSM3738543\n"
          ],
          "name": "stdout"
        },
        {
          "output_type": "stream",
          "text": [
            "/usr/local/lib/python3.6/dist-packages/scanpy/preprocessing/_highly_variable_genes.py:144: FutureWarning: Slicing a positional slice with .loc is not supported, and will raise TypeError in a future version.  Use .loc with labels or .iloc with positions instead.\n",
            "  df.loc[: int(n_top_genes), 'highly_variable'] = True\n",
            "Variable names are not unique. To make them unique, call `.var_names_make_unique`.\n"
          ],
          "name": "stderr"
        },
        {
          "output_type": "stream",
          "text": [
            "Finishing resultGSM3738543\n",
            "Starting resultGSM3526589\n"
          ],
          "name": "stdout"
        },
        {
          "output_type": "stream",
          "text": [
            "/usr/local/lib/python3.6/dist-packages/scanpy/preprocessing/_highly_variable_genes.py:144: FutureWarning: Slicing a positional slice with .loc is not supported, and will raise TypeError in a future version.  Use .loc with labels or .iloc with positions instead.\n",
            "  df.loc[: int(n_top_genes), 'highly_variable'] = True\n",
            "Variable names are not unique. To make them unique, call `.var_names_make_unique`.\n"
          ],
          "name": "stderr"
        },
        {
          "output_type": "stream",
          "text": [
            "Finishing resultGSM3526589\n",
            "Starting resultGSM3755690\n"
          ],
          "name": "stdout"
        },
        {
          "output_type": "stream",
          "text": [
            "/usr/local/lib/python3.6/dist-packages/scanpy/preprocessing/_highly_variable_genes.py:144: FutureWarning: Slicing a positional slice with .loc is not supported, and will raise TypeError in a future version.  Use .loc with labels or .iloc with positions instead.\n",
            "  df.loc[: int(n_top_genes), 'highly_variable'] = True\n",
            "Variable names are not unique. To make them unique, call `.var_names_make_unique`.\n"
          ],
          "name": "stderr"
        },
        {
          "output_type": "stream",
          "text": [
            "Finishing resultGSM3755690\n",
            "Starting resultGSM3073088.dms\n"
          ],
          "name": "stdout"
        },
        {
          "output_type": "stream",
          "text": [
            "/usr/local/lib/python3.6/dist-packages/scanpy/preprocessing/_highly_variable_genes.py:144: FutureWarning: Slicing a positional slice with .loc is not supported, and will raise TypeError in a future version.  Use .loc with labels or .iloc with positions instead.\n",
            "  df.loc[: int(n_top_genes), 'highly_variable'] = True\n",
            "Variable names are not unique. To make them unique, call `.var_names_make_unique`.\n"
          ],
          "name": "stderr"
        },
        {
          "output_type": "stream",
          "text": [
            "Finishing resultGSM3073088.dms\n",
            "Starting resultGSM3302525_HNTYNBGX3.dms\n"
          ],
          "name": "stdout"
        },
        {
          "output_type": "stream",
          "text": [
            "/usr/local/lib/python3.6/dist-packages/scanpy/preprocessing/_highly_variable_genes.py:144: FutureWarning: Slicing a positional slice with .loc is not supported, and will raise TypeError in a future version.  Use .loc with labels or .iloc with positions instead.\n",
            "  df.loc[: int(n_top_genes), 'highly_variable'] = True\n",
            "Variable names are not unique. To make them unique, call `.var_names_make_unique`.\n"
          ],
          "name": "stderr"
        },
        {
          "output_type": "stream",
          "text": [
            "Finishing resultGSM3302525_HNTYNBGX3.dms\n",
            "Starting resultGSM4080085\n"
          ],
          "name": "stdout"
        },
        {
          "output_type": "stream",
          "text": [
            "/usr/local/lib/python3.6/dist-packages/scanpy/preprocessing/_highly_variable_genes.py:144: FutureWarning: Slicing a positional slice with .loc is not supported, and will raise TypeError in a future version.  Use .loc with labels or .iloc with positions instead.\n",
            "  df.loc[: int(n_top_genes), 'highly_variable'] = True\n",
            "Variable names are not unique. To make them unique, call `.var_names_make_unique`.\n"
          ],
          "name": "stderr"
        },
        {
          "output_type": "stream",
          "text": [
            "Finishing resultGSM4080085\n",
            "Starting resultGSM4037324\n"
          ],
          "name": "stdout"
        },
        {
          "output_type": "stream",
          "text": [
            "/usr/local/lib/python3.6/dist-packages/scanpy/preprocessing/_highly_variable_genes.py:144: FutureWarning: Slicing a positional slice with .loc is not supported, and will raise TypeError in a future version.  Use .loc with labels or .iloc with positions instead.\n",
            "  df.loc[: int(n_top_genes), 'highly_variable'] = True\n",
            "Variable names are not unique. To make them unique, call `.var_names_make_unique`.\n"
          ],
          "name": "stderr"
        },
        {
          "output_type": "stream",
          "text": [
            "Finishing resultGSM4037324\n",
            "Starting resultGSM4080087\n"
          ],
          "name": "stdout"
        },
        {
          "output_type": "stream",
          "text": [
            "/usr/local/lib/python3.6/dist-packages/scanpy/preprocessing/_highly_variable_genes.py:144: FutureWarning: Slicing a positional slice with .loc is not supported, and will raise TypeError in a future version.  Use .loc with labels or .iloc with positions instead.\n",
            "  df.loc[: int(n_top_genes), 'highly_variable'] = True\n",
            "Variable names are not unique. To make them unique, call `.var_names_make_unique`.\n"
          ],
          "name": "stderr"
        },
        {
          "output_type": "stream",
          "text": [
            "Finishing resultGSM4080087\n",
            "Starting resultGSM3557962.dms\n",
            "Finishing resultGSM3557962.dms\n",
            "Starting resultGSM3378058\n"
          ],
          "name": "stdout"
        },
        {
          "output_type": "stream",
          "text": [
            "/usr/local/lib/python3.6/dist-packages/scanpy/preprocessing/_highly_variable_genes.py:144: FutureWarning: Slicing a positional slice with .loc is not supported, and will raise TypeError in a future version.  Use .loc with labels or .iloc with positions instead.\n",
            "  df.loc[: int(n_top_genes), 'highly_variable'] = True\n",
            "Variable names are not unique. To make them unique, call `.var_names_make_unique`.\n",
            "/usr/local/lib/python3.6/dist-packages/scanpy/preprocessing/_highly_variable_genes.py:144: FutureWarning: Slicing a positional slice with .loc is not supported, and will raise TypeError in a future version.  Use .loc with labels or .iloc with positions instead.\n",
            "  df.loc[: int(n_top_genes), 'highly_variable'] = True\n",
            "Variable names are not unique. To make them unique, call `.var_names_make_unique`.\n"
          ],
          "name": "stderr"
        },
        {
          "output_type": "stream",
          "text": [
            "Finishing resultGSM3378058\n",
            "Starting resultGSM3396162\n"
          ],
          "name": "stdout"
        },
        {
          "output_type": "stream",
          "text": [
            "/usr/local/lib/python3.6/dist-packages/scanpy/preprocessing/_highly_variable_genes.py:144: FutureWarning: Slicing a positional slice with .loc is not supported, and will raise TypeError in a future version.  Use .loc with labels or .iloc with positions instead.\n",
            "  df.loc[: int(n_top_genes), 'highly_variable'] = True\n",
            "Variable names are not unique. To make them unique, call `.var_names_make_unique`.\n"
          ],
          "name": "stderr"
        },
        {
          "output_type": "stream",
          "text": [
            "Finishing resultGSM3396162\n",
            "Starting resultGSM3396163\n"
          ],
          "name": "stdout"
        },
        {
          "output_type": "stream",
          "text": [
            "/usr/local/lib/python3.6/dist-packages/scanpy/preprocessing/_highly_variable_genes.py:144: FutureWarning: Slicing a positional slice with .loc is not supported, and will raise TypeError in a future version.  Use .loc with labels or .iloc with positions instead.\n",
            "  df.loc[: int(n_top_genes), 'highly_variable'] = True\n",
            "Variable names are not unique. To make them unique, call `.var_names_make_unique`.\n",
            "/usr/local/lib/python3.6/dist-packages/scanpy/preprocessing/_highly_variable_genes.py:144: FutureWarning: Slicing a positional slice with .loc is not supported, and will raise TypeError in a future version.  Use .loc with labels or .iloc with positions instead.\n",
            "  df.loc[: int(n_top_genes), 'highly_variable'] = True\n"
          ],
          "name": "stderr"
        },
        {
          "output_type": "stream",
          "text": [
            "Finishing resultGSM3396163\n",
            "Starting resultGSM3509837.dms\n",
            "Finishing resultGSM3509837.dms\n",
            "Starting resultGSM3717979\n"
          ],
          "name": "stdout"
        },
        {
          "output_type": "stream",
          "text": [
            "Variable names are not unique. To make them unique, call `.var_names_make_unique`.\n",
            "/usr/local/lib/python3.6/dist-packages/scanpy/preprocessing/_highly_variable_genes.py:144: FutureWarning: Slicing a positional slice with .loc is not supported, and will raise TypeError in a future version.  Use .loc with labels or .iloc with positions instead.\n",
            "  df.loc[: int(n_top_genes), 'highly_variable'] = True\n",
            "Variable names are not unique. To make them unique, call `.var_names_make_unique`.\n"
          ],
          "name": "stderr"
        },
        {
          "output_type": "stream",
          "text": [
            "Finishing resultGSM3717979\n",
            "Starting resultGSM3755689\n"
          ],
          "name": "stdout"
        },
        {
          "output_type": "stream",
          "text": [
            "/usr/local/lib/python3.6/dist-packages/scanpy/preprocessing/_highly_variable_genes.py:144: FutureWarning: Slicing a positional slice with .loc is not supported, and will raise TypeError in a future version.  Use .loc with labels or .iloc with positions instead.\n",
            "  df.loc[: int(n_top_genes), 'highly_variable'] = True\n",
            "Variable names are not unique. To make them unique, call `.var_names_make_unique`.\n",
            "/usr/local/lib/python3.6/dist-packages/scanpy/preprocessing/_highly_variable_genes.py:144: FutureWarning: Slicing a positional slice with .loc is not supported, and will raise TypeError in a future version.  Use .loc with labels or .iloc with positions instead.\n",
            "  df.loc[: int(n_top_genes), 'highly_variable'] = True\n",
            "Variable names are not unique. To make them unique, call `.var_names_make_unique`.\n"
          ],
          "name": "stderr"
        },
        {
          "output_type": "stream",
          "text": [
            "Finishing resultGSM3755689\n",
            "Starting resultGSM3739219.dms\n",
            "Finishing resultGSM3739219.dms\n",
            "Starting resultGSM3319043.dms\n"
          ],
          "name": "stdout"
        },
        {
          "output_type": "stream",
          "text": [
            "/usr/local/lib/python3.6/dist-packages/scanpy/preprocessing/_highly_variable_genes.py:144: FutureWarning: Slicing a positional slice with .loc is not supported, and will raise TypeError in a future version.  Use .loc with labels or .iloc with positions instead.\n",
            "  df.loc[: int(n_top_genes), 'highly_variable'] = True\n",
            "Variable names are not unique. To make them unique, call `.var_names_make_unique`.\n"
          ],
          "name": "stderr"
        },
        {
          "output_type": "stream",
          "text": [
            "Finishing resultGSM3319043.dms\n",
            "Starting resultGSM3378055\n"
          ],
          "name": "stdout"
        },
        {
          "output_type": "stream",
          "text": [
            "/usr/local/lib/python3.6/dist-packages/scanpy/preprocessing/_highly_variable_genes.py:144: FutureWarning: Slicing a positional slice with .loc is not supported, and will raise TypeError in a future version.  Use .loc with labels or .iloc with positions instead.\n",
            "  df.loc[: int(n_top_genes), 'highly_variable'] = True\n",
            "Variable names are not unique. To make them unique, call `.var_names_make_unique`.\n"
          ],
          "name": "stderr"
        },
        {
          "output_type": "stream",
          "text": [
            "Finishing resultGSM3378055\n",
            "Starting resultGSM4037313\n"
          ],
          "name": "stdout"
        },
        {
          "output_type": "stream",
          "text": [
            "/usr/local/lib/python3.6/dist-packages/scanpy/preprocessing/_highly_variable_genes.py:144: FutureWarning: Slicing a positional slice with .loc is not supported, and will raise TypeError in a future version.  Use .loc with labels or .iloc with positions instead.\n",
            "  df.loc[: int(n_top_genes), 'highly_variable'] = True\n",
            "Variable names are not unique. To make them unique, call `.var_names_make_unique`.\n"
          ],
          "name": "stderr"
        },
        {
          "output_type": "stream",
          "text": [
            "Finishing resultGSM4037313\n",
            "Starting resultGSM3478791.dms\n"
          ],
          "name": "stdout"
        },
        {
          "output_type": "stream",
          "text": [
            "/usr/local/lib/python3.6/dist-packages/scanpy/preprocessing/_highly_variable_genes.py:144: FutureWarning: Slicing a positional slice with .loc is not supported, and will raise TypeError in a future version.  Use .loc with labels or .iloc with positions instead.\n",
            "  df.loc[: int(n_top_genes), 'highly_variable'] = True\n",
            "Variable names are not unique. To make them unique, call `.var_names_make_unique`.\n"
          ],
          "name": "stderr"
        },
        {
          "output_type": "stream",
          "text": [
            "Finishing resultGSM3478791.dms\n",
            "Starting resultGSM3755687\n"
          ],
          "name": "stdout"
        },
        {
          "output_type": "stream",
          "text": [
            "/usr/local/lib/python3.6/dist-packages/scanpy/preprocessing/_highly_variable_genes.py:144: FutureWarning: Slicing a positional slice with .loc is not supported, and will raise TypeError in a future version.  Use .loc with labels or .iloc with positions instead.\n",
            "  df.loc[: int(n_top_genes), 'highly_variable'] = True\n",
            "Variable names are not unique. To make them unique, call `.var_names_make_unique`.\n"
          ],
          "name": "stderr"
        },
        {
          "output_type": "stream",
          "text": [
            "Finishing resultGSM3755687\n",
            "Starting resultGSM3478792\n"
          ],
          "name": "stdout"
        },
        {
          "output_type": "stream",
          "text": [
            "/usr/local/lib/python3.6/dist-packages/scanpy/preprocessing/_highly_variable_genes.py:144: FutureWarning: Slicing a positional slice with .loc is not supported, and will raise TypeError in a future version.  Use .loc with labels or .iloc with positions instead.\n",
            "  df.loc[: int(n_top_genes), 'highly_variable'] = True\n",
            "Variable names are not unique. To make them unique, call `.var_names_make_unique`.\n"
          ],
          "name": "stderr"
        },
        {
          "output_type": "stream",
          "text": [
            "Finishing resultGSM3478792\n",
            "Starting resultGSM3439915.dms\n"
          ],
          "name": "stdout"
        },
        {
          "output_type": "stream",
          "text": [
            "/usr/local/lib/python3.6/dist-packages/scanpy/preprocessing/_highly_variable_genes.py:144: FutureWarning: Slicing a positional slice with .loc is not supported, and will raise TypeError in a future version.  Use .loc with labels or .iloc with positions instead.\n",
            "  df.loc[: int(n_top_genes), 'highly_variable'] = True\n",
            "Variable names are not unique. To make them unique, call `.var_names_make_unique`.\n"
          ],
          "name": "stderr"
        },
        {
          "output_type": "stream",
          "text": [
            "Finishing resultGSM3439915.dms\n",
            "Starting resultGSM3735993\n"
          ],
          "name": "stdout"
        },
        {
          "output_type": "stream",
          "text": [
            "/usr/local/lib/python3.6/dist-packages/scanpy/preprocessing/_highly_variable_genes.py:144: FutureWarning: Slicing a positional slice with .loc is not supported, and will raise TypeError in a future version.  Use .loc with labels or .iloc with positions instead.\n",
            "  df.loc[: int(n_top_genes), 'highly_variable'] = True\n",
            "Variable names are not unique. To make them unique, call `.var_names_make_unique`.\n"
          ],
          "name": "stderr"
        },
        {
          "output_type": "stream",
          "text": [
            "Finishing resultGSM3735993\n",
            "Starting resultGSM3396176\n"
          ],
          "name": "stdout"
        },
        {
          "output_type": "stream",
          "text": [
            "/usr/local/lib/python3.6/dist-packages/scanpy/preprocessing/_highly_variable_genes.py:144: FutureWarning: Slicing a positional slice with .loc is not supported, and will raise TypeError in a future version.  Use .loc with labels or .iloc with positions instead.\n",
            "  df.loc[: int(n_top_genes), 'highly_variable'] = True\n",
            "Variable names are not unique. To make them unique, call `.var_names_make_unique`.\n",
            "/usr/local/lib/python3.6/dist-packages/scanpy/preprocessing/_highly_variable_genes.py:144: FutureWarning: Slicing a positional slice with .loc is not supported, and will raise TypeError in a future version.  Use .loc with labels or .iloc with positions instead.\n",
            "  df.loc[: int(n_top_genes), 'highly_variable'] = True\n",
            "Variable names are not unique. To make them unique, call `.var_names_make_unique`.\n"
          ],
          "name": "stderr"
        },
        {
          "output_type": "stream",
          "text": [
            "Finishing resultGSM3396176\n",
            "Starting resultGSM3509840.dms\n",
            "Finishing resultGSM3509840.dms\n",
            "Starting resultGSM4463244\n"
          ],
          "name": "stdout"
        },
        {
          "output_type": "stream",
          "text": [
            "/usr/local/lib/python3.6/dist-packages/scanpy/preprocessing/_highly_variable_genes.py:144: FutureWarning: Slicing a positional slice with .loc is not supported, and will raise TypeError in a future version.  Use .loc with labels or .iloc with positions instead.\n",
            "  df.loc[: int(n_top_genes), 'highly_variable'] = True\n"
          ],
          "name": "stderr"
        },
        {
          "output_type": "stream",
          "text": [
            "Finishing resultGSM4463244\n",
            "Starting resultGSM3526584\n"
          ],
          "name": "stdout"
        },
        {
          "output_type": "stream",
          "text": [
            "Variable names are not unique. To make them unique, call `.var_names_make_unique`.\n",
            "/usr/local/lib/python3.6/dist-packages/scanpy/preprocessing/_highly_variable_genes.py:144: FutureWarning: Slicing a positional slice with .loc is not supported, and will raise TypeError in a future version.  Use .loc with labels or .iloc with positions instead.\n",
            "  df.loc[: int(n_top_genes), 'highly_variable'] = True\n"
          ],
          "name": "stderr"
        },
        {
          "output_type": "stream",
          "text": [
            "Finishing resultGSM3526584\n",
            "Starting resultGSM3526587\n"
          ],
          "name": "stdout"
        },
        {
          "output_type": "stream",
          "text": [
            "Variable names are not unique. To make them unique, call `.var_names_make_unique`.\n",
            "/usr/local/lib/python3.6/dist-packages/scanpy/preprocessing/_highly_variable_genes.py:144: FutureWarning: Slicing a positional slice with .loc is not supported, and will raise TypeError in a future version.  Use .loc with labels or .iloc with positions instead.\n",
            "  df.loc[: int(n_top_genes), 'highly_variable'] = True\n"
          ],
          "name": "stderr"
        },
        {
          "output_type": "stream",
          "text": [
            "Finishing resultGSM3526587\n",
            "Starting resultGSM4037306\n"
          ],
          "name": "stdout"
        },
        {
          "output_type": "stream",
          "text": [
            "Variable names are not unique. To make them unique, call `.var_names_make_unique`.\n",
            "/usr/local/lib/python3.6/dist-packages/scanpy/preprocessing/_highly_variable_genes.py:144: FutureWarning: Slicing a positional slice with .loc is not supported, and will raise TypeError in a future version.  Use .loc with labels or .iloc with positions instead.\n",
            "  df.loc[: int(n_top_genes), 'highly_variable'] = True\n"
          ],
          "name": "stderr"
        },
        {
          "output_type": "stream",
          "text": [
            "Finishing resultGSM4037306\n",
            "Starting resultGSM2928377.dms\n"
          ],
          "name": "stdout"
        },
        {
          "output_type": "stream",
          "text": [
            "Variable names are not unique. To make them unique, call `.var_names_make_unique`.\n",
            "/usr/local/lib/python3.6/dist-packages/scanpy/preprocessing/_highly_variable_genes.py:144: FutureWarning: Slicing a positional slice with .loc is not supported, and will raise TypeError in a future version.  Use .loc with labels or .iloc with positions instead.\n",
            "  df.loc[: int(n_top_genes), 'highly_variable'] = True\n"
          ],
          "name": "stderr"
        },
        {
          "output_type": "stream",
          "text": [
            "Finishing resultGSM2928377.dms\n",
            "Starting resultGSM3319035.dms\n"
          ],
          "name": "stdout"
        },
        {
          "output_type": "stream",
          "text": [
            "Variable names are not unique. To make them unique, call `.var_names_make_unique`.\n",
            "/usr/local/lib/python3.6/dist-packages/scanpy/preprocessing/_highly_variable_genes.py:144: FutureWarning: Slicing a positional slice with .loc is not supported, and will raise TypeError in a future version.  Use .loc with labels or .iloc with positions instead.\n",
            "  df.loc[: int(n_top_genes), 'highly_variable'] = True\n"
          ],
          "name": "stderr"
        },
        {
          "output_type": "stream",
          "text": [
            "Finishing resultGSM3319035.dms\n",
            "Starting resultGSM2928379.dms\n"
          ],
          "name": "stdout"
        },
        {
          "output_type": "stream",
          "text": [
            "Variable names are not unique. To make them unique, call `.var_names_make_unique`.\n",
            "/usr/local/lib/python3.6/dist-packages/scanpy/preprocessing/_highly_variable_genes.py:144: FutureWarning: Slicing a positional slice with .loc is not supported, and will raise TypeError in a future version.  Use .loc with labels or .iloc with positions instead.\n",
            "  df.loc[: int(n_top_genes), 'highly_variable'] = True\n"
          ],
          "name": "stderr"
        },
        {
          "output_type": "stream",
          "text": [
            "Finishing resultGSM2928379.dms\n",
            "Starting resultGSM4037302\n"
          ],
          "name": "stdout"
        },
        {
          "output_type": "stream",
          "text": [
            "Variable names are not unique. To make them unique, call `.var_names_make_unique`.\n",
            "/usr/local/lib/python3.6/dist-packages/scanpy/preprocessing/_highly_variable_genes.py:144: FutureWarning: Slicing a positional slice with .loc is not supported, and will raise TypeError in a future version.  Use .loc with labels or .iloc with positions instead.\n",
            "  df.loc[: int(n_top_genes), 'highly_variable'] = True\n"
          ],
          "name": "stderr"
        },
        {
          "output_type": "stream",
          "text": [
            "Finishing resultGSM4037302\n",
            "Starting resultGSM3667327\n"
          ],
          "name": "stdout"
        },
        {
          "output_type": "stream",
          "text": [
            "Variable names are not unique. To make them unique, call `.var_names_make_unique`.\n",
            "/usr/local/lib/python3.6/dist-packages/scanpy/preprocessing/_highly_variable_genes.py:144: FutureWarning: Slicing a positional slice with .loc is not supported, and will raise TypeError in a future version.  Use .loc with labels or .iloc with positions instead.\n",
            "  df.loc[: int(n_top_genes), 'highly_variable'] = True\n",
            "Variable names are not unique. To make them unique, call `.var_names_make_unique`.\n"
          ],
          "name": "stderr"
        },
        {
          "output_type": "stream",
          "text": [
            "Finishing resultGSM3667327\n",
            "Starting resultGSM3557970\n"
          ],
          "name": "stdout"
        },
        {
          "output_type": "stream",
          "text": [
            "/usr/local/lib/python3.6/dist-packages/scanpy/preprocessing/_highly_variable_genes.py:144: FutureWarning: Slicing a positional slice with .loc is not supported, and will raise TypeError in a future version.  Use .loc with labels or .iloc with positions instead.\n",
            "  df.loc[: int(n_top_genes), 'highly_variable'] = True\n"
          ],
          "name": "stderr"
        },
        {
          "output_type": "stream",
          "text": [
            "Finishing resultGSM3557970\n",
            "Starting resultGSM3396169\n"
          ],
          "name": "stdout"
        },
        {
          "output_type": "stream",
          "text": [
            "Variable names are not unique. To make them unique, call `.var_names_make_unique`.\n",
            "/usr/local/lib/python3.6/dist-packages/scanpy/preprocessing/_highly_variable_genes.py:144: FutureWarning: Slicing a positional slice with .loc is not supported, and will raise TypeError in a future version.  Use .loc with labels or .iloc with positions instead.\n",
            "  df.loc[: int(n_top_genes), 'highly_variable'] = True\n",
            "Variable names are not unique. To make them unique, call `.var_names_make_unique`.\n"
          ],
          "name": "stderr"
        },
        {
          "output_type": "stream",
          "text": [
            "Finishing resultGSM3396169\n",
            "Starting resultGSM3734296\n"
          ],
          "name": "stdout"
        },
        {
          "output_type": "stream",
          "text": [
            "/usr/local/lib/python3.6/dist-packages/scanpy/preprocessing/_highly_variable_genes.py:144: FutureWarning: Slicing a positional slice with .loc is not supported, and will raise TypeError in a future version.  Use .loc with labels or .iloc with positions instead.\n",
            "  df.loc[: int(n_top_genes), 'highly_variable'] = True\n",
            "Variable names are not unique. To make them unique, call `.var_names_make_unique`.\n",
            "/usr/local/lib/python3.6/dist-packages/scanpy/preprocessing/_highly_variable_genes.py:144: FutureWarning: Slicing a positional slice with .loc is not supported, and will raise TypeError in a future version.  Use .loc with labels or .iloc with positions instead.\n",
            "  df.loc[: int(n_top_genes), 'highly_variable'] = True\n"
          ],
          "name": "stderr"
        },
        {
          "output_type": "stream",
          "text": [
            "Finishing resultGSM3734296\n",
            "Starting resultGSM4142871\n",
            "Finishing resultGSM4142871\n",
            "Starting resultGSM3557964.dms\n"
          ],
          "name": "stdout"
        },
        {
          "output_type": "stream",
          "text": [
            "Variable names are not unique. To make them unique, call `.var_names_make_unique`.\n",
            "/usr/local/lib/python3.6/dist-packages/scanpy/preprocessing/_highly_variable_genes.py:144: FutureWarning: Slicing a positional slice with .loc is not supported, and will raise TypeError in a future version.  Use .loc with labels or .iloc with positions instead.\n",
            "  df.loc[: int(n_top_genes), 'highly_variable'] = True\n"
          ],
          "name": "stderr"
        },
        {
          "output_type": "stream",
          "text": [
            "Finishing resultGSM3557964.dms\n",
            "Starting resultGSM4080088\n"
          ],
          "name": "stdout"
        },
        {
          "output_type": "stream",
          "text": [
            "Variable names are not unique. To make them unique, call `.var_names_make_unique`.\n",
            "/usr/local/lib/python3.6/dist-packages/scanpy/preprocessing/_highly_variable_genes.py:144: FutureWarning: Slicing a positional slice with .loc is not supported, and will raise TypeError in a future version.  Use .loc with labels or .iloc with positions instead.\n",
            "  df.loc[: int(n_top_genes), 'highly_variable'] = True\n"
          ],
          "name": "stderr"
        },
        {
          "output_type": "stream",
          "text": [
            "Finishing resultGSM4080088\n",
            "Starting resultGSM3396166.dms\n"
          ],
          "name": "stdout"
        },
        {
          "output_type": "stream",
          "text": [
            "Variable names are not unique. To make them unique, call `.var_names_make_unique`.\n",
            "/usr/local/lib/python3.6/dist-packages/scanpy/preprocessing/_highly_variable_genes.py:144: FutureWarning: Slicing a positional slice with .loc is not supported, and will raise TypeError in a future version.  Use .loc with labels or .iloc with positions instead.\n",
            "  df.loc[: int(n_top_genes), 'highly_variable'] = True\n"
          ],
          "name": "stderr"
        },
        {
          "output_type": "stream",
          "text": [
            "Finishing resultGSM3396166.dms\n",
            "Starting resultGSM3755699\n"
          ],
          "name": "stdout"
        },
        {
          "output_type": "stream",
          "text": [
            "Variable names are not unique. To make them unique, call `.var_names_make_unique`.\n",
            "/usr/local/lib/python3.6/dist-packages/scanpy/preprocessing/_highly_variable_genes.py:144: FutureWarning: Slicing a positional slice with .loc is not supported, and will raise TypeError in a future version.  Use .loc with labels or .iloc with positions instead.\n",
            "  df.loc[: int(n_top_genes), 'highly_variable'] = True\n"
          ],
          "name": "stderr"
        },
        {
          "output_type": "stream",
          "text": [
            "Finishing resultGSM3755699\n",
            "Starting resultGSM3396173\n"
          ],
          "name": "stdout"
        },
        {
          "output_type": "stream",
          "text": [
            "Variable names are not unique. To make them unique, call `.var_names_make_unique`.\n",
            "/usr/local/lib/python3.6/dist-packages/scanpy/preprocessing/_highly_variable_genes.py:144: FutureWarning: Slicing a positional slice with .loc is not supported, and will raise TypeError in a future version.  Use .loc with labels or .iloc with positions instead.\n",
            "  df.loc[: int(n_top_genes), 'highly_variable'] = True\n"
          ],
          "name": "stderr"
        },
        {
          "output_type": "stream",
          "text": [
            "Finishing resultGSM3396173\n",
            "Starting resultGSM3375767\n"
          ],
          "name": "stdout"
        },
        {
          "output_type": "stream",
          "text": [
            "Variable names are not unique. To make them unique, call `.var_names_make_unique`.\n",
            "/usr/local/lib/python3.6/dist-packages/scanpy/preprocessing/_highly_variable_genes.py:144: FutureWarning: Slicing a positional slice with .loc is not supported, and will raise TypeError in a future version.  Use .loc with labels or .iloc with positions instead.\n",
            "  df.loc[: int(n_top_genes), 'highly_variable'] = True\n"
          ],
          "name": "stderr"
        },
        {
          "output_type": "stream",
          "text": [
            "Finishing resultGSM3375767\n",
            "Starting resultGSM3526585\n"
          ],
          "name": "stdout"
        },
        {
          "output_type": "stream",
          "text": [
            "Variable names are not unique. To make them unique, call `.var_names_make_unique`.\n",
            "/usr/local/lib/python3.6/dist-packages/scanpy/preprocessing/_highly_variable_genes.py:144: FutureWarning: Slicing a positional slice with .loc is not supported, and will raise TypeError in a future version.  Use .loc with labels or .iloc with positions instead.\n",
            "  df.loc[: int(n_top_genes), 'highly_variable'] = True\n"
          ],
          "name": "stderr"
        },
        {
          "output_type": "stream",
          "text": [
            "Finishing resultGSM3526585\n",
            "Starting resultGSM3509839\n"
          ],
          "name": "stdout"
        },
        {
          "output_type": "stream",
          "text": [
            "Variable names are not unique. To make them unique, call `.var_names_make_unique`.\n",
            "/usr/local/lib/python3.6/dist-packages/scanpy/preprocessing/_highly_variable_genes.py:144: FutureWarning: Slicing a positional slice with .loc is not supported, and will raise TypeError in a future version.  Use .loc with labels or .iloc with positions instead.\n",
            "  df.loc[: int(n_top_genes), 'highly_variable'] = True\n"
          ],
          "name": "stderr"
        },
        {
          "output_type": "stream",
          "text": [
            "Finishing resultGSM3509839\n",
            "Starting resultGSM3319039.dms\n"
          ],
          "name": "stdout"
        },
        {
          "output_type": "stream",
          "text": [
            "Variable names are not unique. To make them unique, call `.var_names_make_unique`.\n",
            "/usr/local/lib/python3.6/dist-packages/scanpy/preprocessing/_highly_variable_genes.py:144: FutureWarning: Slicing a positional slice with .loc is not supported, and will raise TypeError in a future version.  Use .loc with labels or .iloc with positions instead.\n",
            "  df.loc[: int(n_top_genes), 'highly_variable'] = True\n"
          ],
          "name": "stderr"
        },
        {
          "output_type": "stream",
          "text": [
            "Finishing resultGSM3319039.dms\n",
            "Starting resultGSM2905293.dms\n"
          ],
          "name": "stdout"
        },
        {
          "output_type": "stream",
          "text": [
            "Variable names are not unique. To make them unique, call `.var_names_make_unique`.\n",
            "/usr/local/lib/python3.6/dist-packages/scanpy/preprocessing/_highly_variable_genes.py:144: FutureWarning: Slicing a positional slice with .loc is not supported, and will raise TypeError in a future version.  Use .loc with labels or .iloc with positions instead.\n",
            "  df.loc[: int(n_top_genes), 'highly_variable'] = True\n"
          ],
          "name": "stderr"
        },
        {
          "output_type": "stream",
          "text": [
            "Finishing resultGSM2905293.dms\n",
            "Starting resultGSM4037323\n"
          ],
          "name": "stdout"
        },
        {
          "output_type": "stream",
          "text": [
            "Variable names are not unique. To make them unique, call `.var_names_make_unique`.\n",
            "/usr/local/lib/python3.6/dist-packages/scanpy/preprocessing/_highly_variable_genes.py:144: FutureWarning: Slicing a positional slice with .loc is not supported, and will raise TypeError in a future version.  Use .loc with labels or .iloc with positions instead.\n",
            "  df.loc[: int(n_top_genes), 'highly_variable'] = True\n"
          ],
          "name": "stderr"
        },
        {
          "output_type": "stream",
          "text": [
            "Finishing resultGSM4037323\n",
            "Starting resultGSM3665017\n"
          ],
          "name": "stdout"
        },
        {
          "output_type": "stream",
          "text": [
            "Variable names are not unique. To make them unique, call `.var_names_make_unique`.\n",
            "/usr/local/lib/python3.6/dist-packages/scanpy/preprocessing/_highly_variable_genes.py:144: FutureWarning: Slicing a positional slice with .loc is not supported, and will raise TypeError in a future version.  Use .loc with labels or .iloc with positions instead.\n",
            "  df.loc[: int(n_top_genes), 'highly_variable'] = True\n"
          ],
          "name": "stderr"
        },
        {
          "output_type": "stream",
          "text": [
            "Finishing resultGSM3665017\n",
            "Starting resultGSM3319033.dms\n"
          ],
          "name": "stdout"
        },
        {
          "output_type": "stream",
          "text": [
            "Variable names are not unique. To make them unique, call `.var_names_make_unique`.\n",
            "/usr/local/lib/python3.6/dist-packages/scanpy/preprocessing/_highly_variable_genes.py:144: FutureWarning: Slicing a positional slice with .loc is not supported, and will raise TypeError in a future version.  Use .loc with labels or .iloc with positions instead.\n",
            "  df.loc[: int(n_top_genes), 'highly_variable'] = True\n"
          ],
          "name": "stderr"
        },
        {
          "output_type": "stream",
          "text": [
            "Finishing resultGSM3319033.dms\n",
            "Starting resultGSM3148577.dms\n"
          ],
          "name": "stdout"
        },
        {
          "output_type": "stream",
          "text": [
            "Variable names are not unique. To make them unique, call `.var_names_make_unique`.\n",
            "/usr/local/lib/python3.6/dist-packages/scanpy/preprocessing/_highly_variable_genes.py:144: FutureWarning: Slicing a positional slice with .loc is not supported, and will raise TypeError in a future version.  Use .loc with labels or .iloc with positions instead.\n",
            "  df.loc[: int(n_top_genes), 'highly_variable'] = True\n"
          ],
          "name": "stderr"
        },
        {
          "output_type": "stream",
          "text": [
            "Finishing resultGSM3148577.dms\n",
            "Starting resultGSM3529821\n"
          ],
          "name": "stdout"
        },
        {
          "output_type": "stream",
          "text": [
            "Variable names are not unique. To make them unique, call `.var_names_make_unique`.\n",
            "/usr/local/lib/python3.6/dist-packages/scanpy/preprocessing/_highly_variable_genes.py:144: FutureWarning: Slicing a positional slice with .loc is not supported, and will raise TypeError in a future version.  Use .loc with labels or .iloc with positions instead.\n",
            "  df.loc[: int(n_top_genes), 'highly_variable'] = True\n"
          ],
          "name": "stderr"
        },
        {
          "output_type": "stream",
          "text": [
            "Finishing resultGSM3529821\n",
            "Starting resultGSM3738539\n"
          ],
          "name": "stdout"
        },
        {
          "output_type": "stream",
          "text": [
            "Variable names are not unique. To make them unique, call `.var_names_make_unique`.\n",
            "/usr/local/lib/python3.6/dist-packages/scanpy/preprocessing/_highly_variable_genes.py:144: FutureWarning: Slicing a positional slice with .loc is not supported, and will raise TypeError in a future version.  Use .loc with labels or .iloc with positions instead.\n",
            "  df.loc[: int(n_top_genes), 'highly_variable'] = True\n"
          ],
          "name": "stderr"
        },
        {
          "output_type": "stream",
          "text": [
            "Finishing resultGSM3738539\n",
            "Starting resultGSM3755692\n"
          ],
          "name": "stdout"
        },
        {
          "output_type": "stream",
          "text": [
            "Variable names are not unique. To make them unique, call `.var_names_make_unique`.\n",
            "/usr/local/lib/python3.6/dist-packages/scanpy/preprocessing/_highly_variable_genes.py:144: FutureWarning: Slicing a positional slice with .loc is not supported, and will raise TypeError in a future version.  Use .loc with labels or .iloc with positions instead.\n",
            "  df.loc[: int(n_top_genes), 'highly_variable'] = True\n"
          ],
          "name": "stderr"
        },
        {
          "output_type": "stream",
          "text": [
            "Finishing resultGSM3755692\n",
            "Starting resultGSM3738538\n"
          ],
          "name": "stdout"
        },
        {
          "output_type": "stream",
          "text": [
            "Variable names are not unique. To make them unique, call `.var_names_make_unique`.\n",
            "/usr/local/lib/python3.6/dist-packages/scanpy/preprocessing/_highly_variable_genes.py:144: FutureWarning: Slicing a positional slice with .loc is not supported, and will raise TypeError in a future version.  Use .loc with labels or .iloc with positions instead.\n",
            "  df.loc[: int(n_top_genes), 'highly_variable'] = True\n"
          ],
          "name": "stderr"
        },
        {
          "output_type": "stream",
          "text": [
            "Finishing resultGSM3738538\n",
            "Starting resultGSM3396171\n"
          ],
          "name": "stdout"
        },
        {
          "output_type": "stream",
          "text": [
            "Variable names are not unique. To make them unique, call `.var_names_make_unique`.\n",
            "/usr/local/lib/python3.6/dist-packages/scanpy/preprocessing/_highly_variable_genes.py:144: FutureWarning: Slicing a positional slice with .loc is not supported, and will raise TypeError in a future version.  Use .loc with labels or .iloc with positions instead.\n",
            "  df.loc[: int(n_top_genes), 'highly_variable'] = True\n"
          ],
          "name": "stderr"
        },
        {
          "output_type": "stream",
          "text": [
            "Finishing resultGSM3396171\n",
            "Starting resultGSM3667329\n"
          ],
          "name": "stdout"
        },
        {
          "output_type": "stream",
          "text": [
            "Variable names are not unique. To make them unique, call `.var_names_make_unique`.\n",
            "/usr/local/lib/python3.6/dist-packages/scanpy/preprocessing/_highly_variable_genes.py:144: FutureWarning: Slicing a positional slice with .loc is not supported, and will raise TypeError in a future version.  Use .loc with labels or .iloc with positions instead.\n",
            "  df.loc[: int(n_top_genes), 'highly_variable'] = True\n",
            "Variable names are not unique. To make them unique, call `.var_names_make_unique`.\n"
          ],
          "name": "stderr"
        },
        {
          "output_type": "stream",
          "text": [
            "Finishing resultGSM3667329\n",
            "Starting resultGSM4037309\n"
          ],
          "name": "stdout"
        },
        {
          "output_type": "stream",
          "text": [
            "/usr/local/lib/python3.6/dist-packages/scanpy/preprocessing/_highly_variable_genes.py:144: FutureWarning: Slicing a positional slice with .loc is not supported, and will raise TypeError in a future version.  Use .loc with labels or .iloc with positions instead.\n",
            "  df.loc[: int(n_top_genes), 'highly_variable'] = True\n"
          ],
          "name": "stderr"
        },
        {
          "output_type": "stream",
          "text": [
            "Finishing resultGSM4037309\n",
            "Starting resultGSM4463223\n"
          ],
          "name": "stdout"
        },
        {
          "output_type": "stream",
          "text": [
            "Variable names are not unique. To make them unique, call `.var_names_make_unique`.\n",
            "/usr/local/lib/python3.6/dist-packages/scanpy/preprocessing/_highly_variable_genes.py:144: FutureWarning: Slicing a positional slice with .loc is not supported, and will raise TypeError in a future version.  Use .loc with labels or .iloc with positions instead.\n",
            "  df.loc[: int(n_top_genes), 'highly_variable'] = True\n"
          ],
          "name": "stderr"
        },
        {
          "output_type": "stream",
          "text": [
            "Finishing resultGSM4463223\n",
            "Starting resultGSM3169075.dms\n"
          ],
          "name": "stdout"
        },
        {
          "output_type": "stream",
          "text": [
            "Variable names are not unique. To make them unique, call `.var_names_make_unique`.\n",
            "/usr/local/lib/python3.6/dist-packages/scanpy/preprocessing/_highly_variable_genes.py:144: FutureWarning: Slicing a positional slice with .loc is not supported, and will raise TypeError in a future version.  Use .loc with labels or .iloc with positions instead.\n",
            "  df.loc[: int(n_top_genes), 'highly_variable'] = True\n"
          ],
          "name": "stderr"
        },
        {
          "output_type": "stream",
          "text": [
            "Finishing resultGSM3169075.dms\n",
            "Starting resultGSM3526586\n"
          ],
          "name": "stdout"
        },
        {
          "output_type": "stream",
          "text": [
            "Variable names are not unique. To make them unique, call `.var_names_make_unique`.\n",
            "/usr/local/lib/python3.6/dist-packages/scanpy/preprocessing/_highly_variable_genes.py:144: FutureWarning: Slicing a positional slice with .loc is not supported, and will raise TypeError in a future version.  Use .loc with labels or .iloc with positions instead.\n",
            "  df.loc[: int(n_top_genes), 'highly_variable'] = True\n",
            "Variable names are not unique. To make them unique, call `.var_names_make_unique`.\n"
          ],
          "name": "stderr"
        },
        {
          "output_type": "stream",
          "text": [
            "Finishing resultGSM3526586\n",
            "Starting resultGSM3557972\n"
          ],
          "name": "stdout"
        },
        {
          "output_type": "stream",
          "text": [
            "/usr/local/lib/python3.6/dist-packages/scanpy/preprocessing/_highly_variable_genes.py:144: FutureWarning: Slicing a positional slice with .loc is not supported, and will raise TypeError in a future version.  Use .loc with labels or .iloc with positions instead.\n",
            "  df.loc[: int(n_top_genes), 'highly_variable'] = True\n"
          ],
          "name": "stderr"
        },
        {
          "output_type": "stream",
          "text": [
            "Finishing resultGSM3557972\n",
            "Starting resultGSM3439926\n"
          ],
          "name": "stdout"
        },
        {
          "output_type": "stream",
          "text": [
            "Variable names are not unique. To make them unique, call `.var_names_make_unique`.\n",
            "/usr/local/lib/python3.6/dist-packages/scanpy/preprocessing/_highly_variable_genes.py:144: FutureWarning: Slicing a positional slice with .loc is not supported, and will raise TypeError in a future version.  Use .loc with labels or .iloc with positions instead.\n",
            "  df.loc[: int(n_top_genes), 'highly_variable'] = True\n"
          ],
          "name": "stderr"
        },
        {
          "output_type": "stream",
          "text": [
            "Finishing resultGSM3439926\n",
            "Starting resultGSM3396181.dms\n"
          ],
          "name": "stdout"
        },
        {
          "output_type": "stream",
          "text": [
            "Variable names are not unique. To make them unique, call `.var_names_make_unique`.\n",
            "/usr/local/lib/python3.6/dist-packages/scanpy/preprocessing/_highly_variable_genes.py:144: FutureWarning: Slicing a positional slice with .loc is not supported, and will raise TypeError in a future version.  Use .loc with labels or .iloc with positions instead.\n",
            "  df.loc[: int(n_top_genes), 'highly_variable'] = True\n"
          ],
          "name": "stderr"
        },
        {
          "output_type": "stream",
          "text": [
            "Finishing resultGSM3396181.dms\n",
            "Starting resultGSM3739220.dms\n"
          ],
          "name": "stdout"
        },
        {
          "output_type": "stream",
          "text": [
            "Variable names are not unique. To make them unique, call `.var_names_make_unique`.\n",
            "/usr/local/lib/python3.6/dist-packages/scanpy/preprocessing/_highly_variable_genes.py:144: FutureWarning: Slicing a positional slice with .loc is not supported, and will raise TypeError in a future version.  Use .loc with labels or .iloc with positions instead.\n",
            "  df.loc[: int(n_top_genes), 'highly_variable'] = True\n"
          ],
          "name": "stderr"
        },
        {
          "output_type": "stream",
          "text": [
            "Finishing resultGSM3739220.dms\n",
            "Starting resultGSM2894834.dms\n"
          ],
          "name": "stdout"
        },
        {
          "output_type": "stream",
          "text": [
            "Variable names are not unique. To make them unique, call `.var_names_make_unique`.\n",
            "/usr/local/lib/python3.6/dist-packages/scanpy/preprocessing/_highly_variable_genes.py:144: FutureWarning: Slicing a positional slice with .loc is not supported, and will raise TypeError in a future version.  Use .loc with labels or .iloc with positions instead.\n",
            "  df.loc[: int(n_top_genes), 'highly_variable'] = True\n"
          ],
          "name": "stderr"
        },
        {
          "output_type": "stream",
          "text": [
            "Finishing resultGSM2894834.dms\n",
            "Starting resultGSM3755698\n"
          ],
          "name": "stdout"
        },
        {
          "output_type": "stream",
          "text": [
            "Variable names are not unique. To make them unique, call `.var_names_make_unique`.\n",
            "/usr/local/lib/python3.6/dist-packages/scanpy/preprocessing/_highly_variable_genes.py:144: FutureWarning: Slicing a positional slice with .loc is not supported, and will raise TypeError in a future version.  Use .loc with labels or .iloc with positions instead.\n",
            "  df.loc[: int(n_top_genes), 'highly_variable'] = True\n",
            "Variable names are not unique. To make them unique, call `.var_names_make_unique`.\n"
          ],
          "name": "stderr"
        },
        {
          "output_type": "stream",
          "text": [
            "Finishing resultGSM3755698\n",
            "Starting resultGSM3557959.dms\n"
          ],
          "name": "stdout"
        },
        {
          "output_type": "stream",
          "text": [
            "/usr/local/lib/python3.6/dist-packages/scanpy/preprocessing/_highly_variable_genes.py:144: FutureWarning: Slicing a positional slice with .loc is not supported, and will raise TypeError in a future version.  Use .loc with labels or .iloc with positions instead.\n",
            "  df.loc[: int(n_top_genes), 'highly_variable'] = True\n",
            "Variable names are not unique. To make them unique, call `.var_names_make_unique`.\n"
          ],
          "name": "stderr"
        },
        {
          "output_type": "stream",
          "text": [
            "Finishing resultGSM3557959.dms\n",
            "Starting resultGSM3723357\n"
          ],
          "name": "stdout"
        },
        {
          "output_type": "stream",
          "text": [
            "/usr/local/lib/python3.6/dist-packages/scanpy/preprocessing/_highly_variable_genes.py:144: FutureWarning: Slicing a positional slice with .loc is not supported, and will raise TypeError in a future version.  Use .loc with labels or .iloc with positions instead.\n",
            "  df.loc[: int(n_top_genes), 'highly_variable'] = True\n"
          ],
          "name": "stderr"
        },
        {
          "output_type": "stream",
          "text": [
            "Finishing resultGSM3723357\n",
            "Starting resultGSM3302524_HNV7CBGX3.dms\n"
          ],
          "name": "stdout"
        },
        {
          "output_type": "stream",
          "text": [
            "Variable names are not unique. To make them unique, call `.var_names_make_unique`.\n",
            "/usr/local/lib/python3.6/dist-packages/scanpy/preprocessing/_highly_variable_genes.py:144: FutureWarning: Slicing a positional slice with .loc is not supported, and will raise TypeError in a future version.  Use .loc with labels or .iloc with positions instead.\n",
            "  df.loc[: int(n_top_genes), 'highly_variable'] = True\n"
          ],
          "name": "stderr"
        },
        {
          "output_type": "stream",
          "text": [
            "Finishing resultGSM3302524_HNV7CBGX3.dms\n",
            "Starting resultGSM3439921\n"
          ],
          "name": "stdout"
        },
        {
          "output_type": "stream",
          "text": [
            "Variable names are not unique. To make them unique, call `.var_names_make_unique`.\n",
            "/usr/local/lib/python3.6/dist-packages/scanpy/preprocessing/_highly_variable_genes.py:144: FutureWarning: Slicing a positional slice with .loc is not supported, and will raise TypeError in a future version.  Use .loc with labels or .iloc with positions instead.\n",
            "  df.loc[: int(n_top_genes), 'highly_variable'] = True\n"
          ],
          "name": "stderr"
        },
        {
          "output_type": "stream",
          "text": [
            "Finishing resultGSM3439921\n",
            "Starting resultGSM3430549.dms\n"
          ],
          "name": "stdout"
        },
        {
          "output_type": "stream",
          "text": [
            "Variable names are not unique. To make them unique, call `.var_names_make_unique`.\n",
            "/usr/local/lib/python3.6/dist-packages/scanpy/preprocessing/_highly_variable_genes.py:144: FutureWarning: Slicing a positional slice with .loc is not supported, and will raise TypeError in a future version.  Use .loc with labels or .iloc with positions instead.\n",
            "  df.loc[: int(n_top_genes), 'highly_variable'] = True\n",
            "Variable names are not unique. To make them unique, call `.var_names_make_unique`.\n"
          ],
          "name": "stderr"
        },
        {
          "output_type": "stream",
          "text": [
            "Finishing resultGSM3430549.dms\n",
            "Starting resultGSM3557960.dms\n"
          ],
          "name": "stdout"
        },
        {
          "output_type": "stream",
          "text": [
            "/usr/local/lib/python3.6/dist-packages/scanpy/preprocessing/_highly_variable_genes.py:144: FutureWarning: Slicing a positional slice with .loc is not supported, and will raise TypeError in a future version.  Use .loc with labels or .iloc with positions instead.\n",
            "  df.loc[: int(n_top_genes), 'highly_variable'] = True\n",
            "Variable names are not unique. To make them unique, call `.var_names_make_unique`.\n"
          ],
          "name": "stderr"
        },
        {
          "output_type": "stream",
          "text": [
            "Finishing resultGSM3557960.dms\n",
            "Starting resultGSM3738537\n"
          ],
          "name": "stdout"
        },
        {
          "output_type": "stream",
          "text": [
            "/usr/local/lib/python3.6/dist-packages/scanpy/preprocessing/_highly_variable_genes.py:144: FutureWarning: Slicing a positional slice with .loc is not supported, and will raise TypeError in a future version.  Use .loc with labels or .iloc with positions instead.\n",
            "  df.loc[: int(n_top_genes), 'highly_variable'] = True\n"
          ],
          "name": "stderr"
        },
        {
          "output_type": "stream",
          "text": [
            "Finishing resultGSM3738537\n",
            "Starting resultGSM3378056.dms\n"
          ],
          "name": "stdout"
        },
        {
          "output_type": "stream",
          "text": [
            "Variable names are not unique. To make them unique, call `.var_names_make_unique`.\n",
            "/usr/local/lib/python3.6/dist-packages/scanpy/preprocessing/_highly_variable_genes.py:144: FutureWarning: Slicing a positional slice with .loc is not supported, and will raise TypeError in a future version.  Use .loc with labels or .iloc with positions instead.\n",
            "  df.loc[: int(n_top_genes), 'highly_variable'] = True\n"
          ],
          "name": "stderr"
        },
        {
          "output_type": "stream",
          "text": [
            "Finishing resultGSM3378056.dms\n",
            "Starting resultGSM3430548\n"
          ],
          "name": "stdout"
        },
        {
          "output_type": "stream",
          "text": [
            "Variable names are not unique. To make them unique, call `.var_names_make_unique`.\n",
            "/usr/local/lib/python3.6/dist-packages/scanpy/preprocessing/_highly_variable_genes.py:144: FutureWarning: Slicing a positional slice with .loc is not supported, and will raise TypeError in a future version.  Use .loc with labels or .iloc with positions instead.\n",
            "  df.loc[: int(n_top_genes), 'highly_variable'] = True\n"
          ],
          "name": "stderr"
        },
        {
          "output_type": "stream",
          "text": [
            "Finishing resultGSM3430548\n",
            "Starting resultGSM3723359\n"
          ],
          "name": "stdout"
        },
        {
          "output_type": "stream",
          "text": [
            "Variable names are not unique. To make them unique, call `.var_names_make_unique`.\n",
            "/usr/local/lib/python3.6/dist-packages/scanpy/preprocessing/_highly_variable_genes.py:144: FutureWarning: Slicing a positional slice with .loc is not supported, and will raise TypeError in a future version.  Use .loc with labels or .iloc with positions instead.\n",
            "  df.loc[: int(n_top_genes), 'highly_variable'] = True\n"
          ],
          "name": "stderr"
        },
        {
          "output_type": "stream",
          "text": [
            "Finishing resultGSM3723359\n",
            "Starting resultGSM3667328\n"
          ],
          "name": "stdout"
        },
        {
          "output_type": "stream",
          "text": [
            "Variable names are not unique. To make them unique, call `.var_names_make_unique`.\n",
            "/usr/local/lib/python3.6/dist-packages/scanpy/preprocessing/_highly_variable_genes.py:144: FutureWarning: Slicing a positional slice with .loc is not supported, and will raise TypeError in a future version.  Use .loc with labels or .iloc with positions instead.\n",
            "  df.loc[: int(n_top_genes), 'highly_variable'] = True\n"
          ],
          "name": "stderr"
        },
        {
          "output_type": "stream",
          "text": [
            "Finishing resultGSM3667328\n",
            "Starting resultGSM4463239\n"
          ],
          "name": "stdout"
        },
        {
          "output_type": "stream",
          "text": [
            "Variable names are not unique. To make them unique, call `.var_names_make_unique`.\n",
            "/usr/local/lib/python3.6/dist-packages/scanpy/preprocessing/_highly_variable_genes.py:144: FutureWarning: Slicing a positional slice with .loc is not supported, and will raise TypeError in a future version.  Use .loc with labels or .iloc with positions instead.\n",
            "  df.loc[: int(n_top_genes), 'highly_variable'] = True\n"
          ],
          "name": "stderr"
        },
        {
          "output_type": "stream",
          "text": [
            "Finishing resultGSM4463239\n",
            "Starting resultGSM3168248.dms\n"
          ],
          "name": "stdout"
        },
        {
          "output_type": "stream",
          "text": [
            "Variable names are not unique. To make them unique, call `.var_names_make_unique`.\n",
            "/usr/local/lib/python3.6/dist-packages/scanpy/preprocessing/_highly_variable_genes.py:144: FutureWarning: Slicing a positional slice with .loc is not supported, and will raise TypeError in a future version.  Use .loc with labels or .iloc with positions instead.\n",
            "  df.loc[: int(n_top_genes), 'highly_variable'] = True\n",
            "Variable names are not unique. To make them unique, call `.var_names_make_unique`.\n"
          ],
          "name": "stderr"
        },
        {
          "output_type": "stream",
          "text": [
            "Finishing resultGSM3168248.dms\n",
            "Starting resultGSM3557969\n"
          ],
          "name": "stdout"
        },
        {
          "output_type": "stream",
          "text": [
            "/usr/local/lib/python3.6/dist-packages/scanpy/preprocessing/_highly_variable_genes.py:144: FutureWarning: Slicing a positional slice with .loc is not supported, and will raise TypeError in a future version.  Use .loc with labels or .iloc with positions instead.\n",
            "  df.loc[: int(n_top_genes), 'highly_variable'] = True\n"
          ],
          "name": "stderr"
        },
        {
          "output_type": "stream",
          "text": [
            "Finishing resultGSM3557969\n",
            "Starting resultGSM3665019\n"
          ],
          "name": "stdout"
        },
        {
          "output_type": "stream",
          "text": [
            "Variable names are not unique. To make them unique, call `.var_names_make_unique`.\n",
            "/usr/local/lib/python3.6/dist-packages/scanpy/preprocessing/_highly_variable_genes.py:144: FutureWarning: Slicing a positional slice with .loc is not supported, and will raise TypeError in a future version.  Use .loc with labels or .iloc with positions instead.\n",
            "  df.loc[: int(n_top_genes), 'highly_variable'] = True\n"
          ],
          "name": "stderr"
        },
        {
          "output_type": "stream",
          "text": [
            "Finishing resultGSM3665019\n",
            "Starting resultGSM4080089\n"
          ],
          "name": "stdout"
        },
        {
          "output_type": "stream",
          "text": [
            "Variable names are not unique. To make them unique, call `.var_names_make_unique`.\n",
            "/usr/local/lib/python3.6/dist-packages/scanpy/preprocessing/_highly_variable_genes.py:144: FutureWarning: Slicing a positional slice with .loc is not supported, and will raise TypeError in a future version.  Use .loc with labels or .iloc with positions instead.\n",
            "  df.loc[: int(n_top_genes), 'highly_variable'] = True\n",
            "Variable names are not unique. To make them unique, call `.var_names_make_unique`.\n"
          ],
          "name": "stderr"
        },
        {
          "output_type": "stream",
          "text": [
            "Finishing resultGSM4080089\n",
            "Starting resultGSM3557967.dms\n",
            "Finishing resultGSM3557967.dms\n",
            "Starting resultGSM3509838.dms\n"
          ],
          "name": "stdout"
        },
        {
          "output_type": "stream",
          "text": [
            "/usr/local/lib/python3.6/dist-packages/scanpy/preprocessing/_highly_variable_genes.py:144: FutureWarning: Slicing a positional slice with .loc is not supported, and will raise TypeError in a future version.  Use .loc with labels or .iloc with positions instead.\n",
            "  df.loc[: int(n_top_genes), 'highly_variable'] = True\n",
            "Variable names are not unique. To make them unique, call `.var_names_make_unique`.\n",
            "/usr/local/lib/python3.6/dist-packages/scanpy/preprocessing/_highly_variable_genes.py:144: FutureWarning: Slicing a positional slice with .loc is not supported, and will raise TypeError in a future version.  Use .loc with labels or .iloc with positions instead.\n",
            "  df.loc[: int(n_top_genes), 'highly_variable'] = True\n",
            "Variable names are not unique. To make them unique, call `.var_names_make_unique`.\n"
          ],
          "name": "stderr"
        },
        {
          "output_type": "stream",
          "text": [
            "Finishing resultGSM3509838.dms\n",
            "Starting resultGSM3557968\n",
            "Finishing resultGSM3557968\n",
            "Starting resultGSM3430548.dms\n"
          ],
          "name": "stdout"
        },
        {
          "output_type": "stream",
          "text": [
            "/usr/local/lib/python3.6/dist-packages/scanpy/preprocessing/_highly_variable_genes.py:144: FutureWarning: Slicing a positional slice with .loc is not supported, and will raise TypeError in a future version.  Use .loc with labels or .iloc with positions instead.\n",
            "  df.loc[: int(n_top_genes), 'highly_variable'] = True\n",
            "Variable names are not unique. To make them unique, call `.var_names_make_unique`.\n",
            "/usr/local/lib/python3.6/dist-packages/scanpy/preprocessing/_highly_variable_genes.py:144: FutureWarning: Slicing a positional slice with .loc is not supported, and will raise TypeError in a future version.  Use .loc with labels or .iloc with positions instead.\n",
            "  df.loc[: int(n_top_genes), 'highly_variable'] = True\n"
          ],
          "name": "stderr"
        },
        {
          "output_type": "stream",
          "text": [
            "Finishing resultGSM3430548.dms\n",
            "Starting resultGSM3319032.dms\n"
          ],
          "name": "stdout"
        },
        {
          "output_type": "stream",
          "text": [
            "Variable names are not unique. To make them unique, call `.var_names_make_unique`.\n",
            "/usr/local/lib/python3.6/dist-packages/scanpy/preprocessing/_highly_variable_genes.py:144: FutureWarning: Slicing a positional slice with .loc is not supported, and will raise TypeError in a future version.  Use .loc with labels or .iloc with positions instead.\n",
            "  df.loc[: int(n_top_genes), 'highly_variable'] = True\n"
          ],
          "name": "stderr"
        },
        {
          "output_type": "stream",
          "text": [
            "Finishing resultGSM3319032.dms\n",
            "Starting resultGSM3734295\n"
          ],
          "name": "stdout"
        },
        {
          "output_type": "stream",
          "text": [
            "Variable names are not unique. To make them unique, call `.var_names_make_unique`.\n",
            "/usr/local/lib/python3.6/dist-packages/scanpy/preprocessing/_highly_variable_genes.py:144: FutureWarning: Slicing a positional slice with .loc is not supported, and will raise TypeError in a future version.  Use .loc with labels or .iloc with positions instead.\n",
            "  df.loc[: int(n_top_genes), 'highly_variable'] = True\n"
          ],
          "name": "stderr"
        },
        {
          "output_type": "stream",
          "text": [
            "Finishing resultGSM3734295\n",
            "Starting resultGSM3302525_HNV7CBGX3.dms\n"
          ],
          "name": "stdout"
        },
        {
          "output_type": "stream",
          "text": [
            "Variable names are not unique. To make them unique, call `.var_names_make_unique`.\n",
            "/usr/local/lib/python3.6/dist-packages/scanpy/preprocessing/_highly_variable_genes.py:144: FutureWarning: Slicing a positional slice with .loc is not supported, and will raise TypeError in a future version.  Use .loc with labels or .iloc with positions instead.\n",
            "  df.loc[: int(n_top_genes), 'highly_variable'] = True\n"
          ],
          "name": "stderr"
        },
        {
          "output_type": "stream",
          "text": [
            "Finishing resultGSM3302525_HNV7CBGX3.dms\n",
            "Starting resultGSM3439927\n"
          ],
          "name": "stdout"
        },
        {
          "output_type": "stream",
          "text": [
            "Variable names are not unique. To make them unique, call `.var_names_make_unique`.\n",
            "/usr/local/lib/python3.6/dist-packages/scanpy/preprocessing/_highly_variable_genes.py:144: FutureWarning: Slicing a positional slice with .loc is not supported, and will raise TypeError in a future version.  Use .loc with labels or .iloc with positions instead.\n",
            "  df.loc[: int(n_top_genes), 'highly_variable'] = True\n"
          ],
          "name": "stderr"
        },
        {
          "output_type": "stream",
          "text": [
            "Finishing resultGSM3439927\n",
            "Starting resultGSM3558027\n"
          ],
          "name": "stdout"
        },
        {
          "output_type": "stream",
          "text": [
            "Variable names are not unique. To make them unique, call `.var_names_make_unique`.\n",
            "/usr/local/lib/python3.6/dist-packages/scanpy/preprocessing/_highly_variable_genes.py:144: FutureWarning: Slicing a positional slice with .loc is not supported, and will raise TypeError in a future version.  Use .loc with labels or .iloc with positions instead.\n",
            "  df.loc[: int(n_top_genes), 'highly_variable'] = True\n"
          ],
          "name": "stderr"
        },
        {
          "output_type": "stream",
          "text": [
            "Finishing resultGSM3558027\n",
            "Starting resultGSM3396161\n"
          ],
          "name": "stdout"
        },
        {
          "output_type": "stream",
          "text": [
            "Variable names are not unique. To make them unique, call `.var_names_make_unique`.\n",
            "/usr/local/lib/python3.6/dist-packages/scanpy/preprocessing/_highly_variable_genes.py:144: FutureWarning: Slicing a positional slice with .loc is not supported, and will raise TypeError in a future version.  Use .loc with labels or .iloc with positions instead.\n",
            "  df.loc[: int(n_top_genes), 'highly_variable'] = True\n"
          ],
          "name": "stderr"
        },
        {
          "output_type": "stream",
          "text": [
            "Finishing resultGSM3396161\n",
            "Starting resultGSM3396165.dms\n"
          ],
          "name": "stdout"
        },
        {
          "output_type": "stream",
          "text": [
            "Variable names are not unique. To make them unique, call `.var_names_make_unique`.\n",
            "/usr/local/lib/python3.6/dist-packages/scanpy/preprocessing/_highly_variable_genes.py:144: FutureWarning: Slicing a positional slice with .loc is not supported, and will raise TypeError in a future version.  Use .loc with labels or .iloc with positions instead.\n",
            "  df.loc[: int(n_top_genes), 'highly_variable'] = True\n"
          ],
          "name": "stderr"
        },
        {
          "output_type": "stream",
          "text": [
            "Finishing resultGSM3396165.dms\n",
            "Starting resultGSM3755693\n"
          ],
          "name": "stdout"
        },
        {
          "output_type": "stream",
          "text": [
            "Variable names are not unique. To make them unique, call `.var_names_make_unique`.\n",
            "/usr/local/lib/python3.6/dist-packages/scanpy/preprocessing/_highly_variable_genes.py:144: FutureWarning: Slicing a positional slice with .loc is not supported, and will raise TypeError in a future version.  Use .loc with labels or .iloc with positions instead.\n",
            "  df.loc[: int(n_top_genes), 'highly_variable'] = True\n"
          ],
          "name": "stderr"
        },
        {
          "output_type": "stream",
          "text": [
            "Finishing resultGSM3755693\n",
            "Starting resultGSM3148576.dms\n"
          ],
          "name": "stdout"
        },
        {
          "output_type": "stream",
          "text": [
            "Variable names are not unique. To make them unique, call `.var_names_make_unique`.\n",
            "/usr/local/lib/python3.6/dist-packages/scanpy/preprocessing/_highly_variable_genes.py:144: FutureWarning: Slicing a positional slice with .loc is not supported, and will raise TypeError in a future version.  Use .loc with labels or .iloc with positions instead.\n",
            "  df.loc[: int(n_top_genes), 'highly_variable'] = True\n"
          ],
          "name": "stderr"
        },
        {
          "output_type": "stream",
          "text": [
            "Finishing resultGSM3148576.dms\n",
            "Starting resultGSM3396183.dms\n"
          ],
          "name": "stdout"
        },
        {
          "output_type": "stream",
          "text": [
            "Variable names are not unique. To make them unique, call `.var_names_make_unique`.\n",
            "/usr/local/lib/python3.6/dist-packages/scanpy/preprocessing/_highly_variable_genes.py:144: FutureWarning: Slicing a positional slice with .loc is not supported, and will raise TypeError in a future version.  Use .loc with labels or .iloc with positions instead.\n",
            "  df.loc[: int(n_top_genes), 'highly_variable'] = True\n",
            "Variable names are not unique. To make them unique, call `.var_names_make_unique`.\n"
          ],
          "name": "stderr"
        },
        {
          "output_type": "stream",
          "text": [
            "Finishing resultGSM3396183.dms\n",
            "Starting resultGSM3755697\n"
          ],
          "name": "stdout"
        },
        {
          "output_type": "stream",
          "text": [
            "/usr/local/lib/python3.6/dist-packages/scanpy/preprocessing/_highly_variable_genes.py:144: FutureWarning: Slicing a positional slice with .loc is not supported, and will raise TypeError in a future version.  Use .loc with labels or .iloc with positions instead.\n",
            "  df.loc[: int(n_top_genes), 'highly_variable'] = True\n",
            "Variable names are not unique. To make them unique, call `.var_names_make_unique`.\n"
          ],
          "name": "stderr"
        },
        {
          "output_type": "stream",
          "text": [
            "Finishing resultGSM3755697\n",
            "Starting resultGSM3319042.dms\n"
          ],
          "name": "stdout"
        },
        {
          "output_type": "stream",
          "text": [
            "/usr/local/lib/python3.6/dist-packages/scanpy/preprocessing/_highly_variable_genes.py:144: FutureWarning: Slicing a positional slice with .loc is not supported, and will raise TypeError in a future version.  Use .loc with labels or .iloc with positions instead.\n",
            "  df.loc[: int(n_top_genes), 'highly_variable'] = True\n",
            "Variable names are not unique. To make them unique, call `.var_names_make_unique`.\n"
          ],
          "name": "stderr"
        },
        {
          "output_type": "stream",
          "text": [
            "Finishing resultGSM3319042.dms\n",
            "Starting resultGSM3665018\n"
          ],
          "name": "stdout"
        },
        {
          "output_type": "stream",
          "text": [
            "/usr/local/lib/python3.6/dist-packages/scanpy/preprocessing/_highly_variable_genes.py:144: FutureWarning: Slicing a positional slice with .loc is not supported, and will raise TypeError in a future version.  Use .loc with labels or .iloc with positions instead.\n",
            "  df.loc[: int(n_top_genes), 'highly_variable'] = True\n"
          ],
          "name": "stderr"
        },
        {
          "output_type": "stream",
          "text": [
            "Finishing resultGSM3665018\n",
            "Starting resultGSM3396185.dms\n"
          ],
          "name": "stdout"
        },
        {
          "output_type": "stream",
          "text": [
            "Variable names are not unique. To make them unique, call `.var_names_make_unique`.\n",
            "/usr/local/lib/python3.6/dist-packages/scanpy/preprocessing/_highly_variable_genes.py:144: FutureWarning: Slicing a positional slice with .loc is not supported, and will raise TypeError in a future version.  Use .loc with labels or .iloc with positions instead.\n",
            "  df.loc[: int(n_top_genes), 'highly_variable'] = True\n"
          ],
          "name": "stderr"
        },
        {
          "output_type": "stream",
          "text": [
            "Finishing resultGSM3396185.dms\n",
            "Starting resultGSM3396179\n"
          ],
          "name": "stdout"
        },
        {
          "output_type": "stream",
          "text": [
            "Variable names are not unique. To make them unique, call `.var_names_make_unique`.\n",
            "/usr/local/lib/python3.6/dist-packages/scanpy/preprocessing/_highly_variable_genes.py:144: FutureWarning: Slicing a positional slice with .loc is not supported, and will raise TypeError in a future version.  Use .loc with labels or .iloc with positions instead.\n",
            "  df.loc[: int(n_top_genes), 'highly_variable'] = True\n"
          ],
          "name": "stderr"
        },
        {
          "output_type": "stream",
          "text": [
            "Finishing resultGSM3396179\n",
            "Starting resultGSM2877960.dms\n"
          ],
          "name": "stdout"
        },
        {
          "output_type": "stream",
          "text": [
            "Variable names are not unique. To make them unique, call `.var_names_make_unique`.\n",
            "/usr/local/lib/python3.6/dist-packages/scanpy/preprocessing/_highly_variable_genes.py:144: FutureWarning: Slicing a positional slice with .loc is not supported, and will raise TypeError in a future version.  Use .loc with labels or .iloc with positions instead.\n",
            "  df.loc[: int(n_top_genes), 'highly_variable'] = True\n"
          ],
          "name": "stderr"
        },
        {
          "output_type": "stream",
          "text": [
            "Finishing resultGSM2877960.dms\n",
            "Starting resultGSM3319037.dms\n"
          ],
          "name": "stdout"
        },
        {
          "output_type": "stream",
          "text": [
            "Variable names are not unique. To make them unique, call `.var_names_make_unique`.\n",
            "/usr/local/lib/python3.6/dist-packages/scanpy/preprocessing/_highly_variable_genes.py:144: FutureWarning: Slicing a positional slice with .loc is not supported, and will raise TypeError in a future version.  Use .loc with labels or .iloc with positions instead.\n",
            "  df.loc[: int(n_top_genes), 'highly_variable'] = True\n"
          ],
          "name": "stderr"
        },
        {
          "output_type": "stream",
          "text": [
            "Finishing resultGSM3319037.dms\n",
            "Starting resultGSM3148575.dms\n"
          ],
          "name": "stdout"
        },
        {
          "output_type": "stream",
          "text": [
            "Variable names are not unique. To make them unique, call `.var_names_make_unique`.\n",
            "/usr/local/lib/python3.6/dist-packages/scanpy/preprocessing/_highly_variable_genes.py:144: FutureWarning: Slicing a positional slice with .loc is not supported, and will raise TypeError in a future version.  Use .loc with labels or .iloc with positions instead.\n",
            "  df.loc[: int(n_top_genes), 'highly_variable'] = True\n"
          ],
          "name": "stderr"
        },
        {
          "output_type": "stream",
          "text": [
            "Finishing resultGSM3148575.dms\n",
            "Starting resultGSM3309834.dms\n"
          ],
          "name": "stdout"
        },
        {
          "output_type": "stream",
          "text": [
            "Variable names are not unique. To make them unique, call `.var_names_make_unique`.\n",
            "/usr/local/lib/python3.6/dist-packages/scanpy/preprocessing/_highly_variable_genes.py:144: FutureWarning: Slicing a positional slice with .loc is not supported, and will raise TypeError in a future version.  Use .loc with labels or .iloc with positions instead.\n",
            "  df.loc[: int(n_top_genes), 'highly_variable'] = True\n",
            "Variable names are not unique. To make them unique, call `.var_names_make_unique`.\n"
          ],
          "name": "stderr"
        },
        {
          "output_type": "stream",
          "text": [
            "Finishing resultGSM3309834.dms\n",
            "Starting resultGSM3739221.dms\n",
            "Finishing resultGSM3739221.dms\n",
            "Starting resultGSM3439914.dms\n"
          ],
          "name": "stdout"
        },
        {
          "output_type": "stream",
          "text": [
            "/usr/local/lib/python3.6/dist-packages/scanpy/preprocessing/_highly_variable_genes.py:144: FutureWarning: Slicing a positional slice with .loc is not supported, and will raise TypeError in a future version.  Use .loc with labels or .iloc with positions instead.\n",
            "  df.loc[: int(n_top_genes), 'highly_variable'] = True\n",
            "Variable names are not unique. To make them unique, call `.var_names_make_unique`.\n",
            "/usr/local/lib/python3.6/dist-packages/scanpy/preprocessing/_highly_variable_genes.py:144: FutureWarning: Slicing a positional slice with .loc is not supported, and will raise TypeError in a future version.  Use .loc with labels or .iloc with positions instead.\n",
            "  df.loc[: int(n_top_genes), 'highly_variable'] = True\n",
            "Variable names are not unique. To make them unique, call `.var_names_make_unique`.\n"
          ],
          "name": "stderr"
        },
        {
          "output_type": "stream",
          "text": [
            "Finishing resultGSM3439914.dms\n",
            "Starting resultGSM3557966.dms\n",
            "Finishing resultGSM3557966.dms\n",
            "Starting resultGSM4037325\n"
          ],
          "name": "stdout"
        },
        {
          "output_type": "stream",
          "text": [
            "/usr/local/lib/python3.6/dist-packages/scanpy/preprocessing/_highly_variable_genes.py:144: FutureWarning: Slicing a positional slice with .loc is not supported, and will raise TypeError in a future version.  Use .loc with labels or .iloc with positions instead.\n",
            "  df.loc[: int(n_top_genes), 'highly_variable'] = True\n",
            "Variable names are not unique. To make them unique, call `.var_names_make_unique`.\n",
            "/usr/local/lib/python3.6/dist-packages/scanpy/preprocessing/_highly_variable_genes.py:144: FutureWarning: Slicing a positional slice with .loc is not supported, and will raise TypeError in a future version.  Use .loc with labels or .iloc with positions instead.\n",
            "  df.loc[: int(n_top_genes), 'highly_variable'] = True\n"
          ],
          "name": "stderr"
        },
        {
          "output_type": "stream",
          "text": [
            "Finishing resultGSM4037325\n",
            "Starting resultGSM3439923\n"
          ],
          "name": "stdout"
        },
        {
          "output_type": "stream",
          "text": [
            "Variable names are not unique. To make them unique, call `.var_names_make_unique`.\n",
            "/usr/local/lib/python3.6/dist-packages/scanpy/preprocessing/_highly_variable_genes.py:144: FutureWarning: Slicing a positional slice with .loc is not supported, and will raise TypeError in a future version.  Use .loc with labels or .iloc with positions instead.\n",
            "  df.loc[: int(n_top_genes), 'highly_variable'] = True\n",
            "Variable names are not unique. To make them unique, call `.var_names_make_unique`.\n"
          ],
          "name": "stderr"
        },
        {
          "output_type": "stream",
          "text": [
            "Finishing resultGSM3439923\n",
            "Starting resultGSM3396180.dms\n"
          ],
          "name": "stdout"
        },
        {
          "output_type": "stream",
          "text": [
            "/usr/local/lib/python3.6/dist-packages/scanpy/preprocessing/_highly_variable_genes.py:144: FutureWarning: Slicing a positional slice with .loc is not supported, and will raise TypeError in a future version.  Use .loc with labels or .iloc with positions instead.\n",
            "  df.loc[: int(n_top_genes), 'highly_variable'] = True\n"
          ],
          "name": "stderr"
        },
        {
          "output_type": "stream",
          "text": [
            "Finishing resultGSM3396180.dms\n",
            "Starting resultGSM3396170\n"
          ],
          "name": "stdout"
        },
        {
          "output_type": "stream",
          "text": [
            "Variable names are not unique. To make them unique, call `.var_names_make_unique`.\n",
            "/usr/local/lib/python3.6/dist-packages/scanpy/preprocessing/_highly_variable_genes.py:144: FutureWarning: Slicing a positional slice with .loc is not supported, and will raise TypeError in a future version.  Use .loc with labels or .iloc with positions instead.\n",
            "  df.loc[: int(n_top_genes), 'highly_variable'] = True\n"
          ],
          "name": "stderr"
        },
        {
          "output_type": "stream",
          "text": [
            "Finishing resultGSM3396170\n",
            "Starting resultGSM3738542\n"
          ],
          "name": "stdout"
        },
        {
          "output_type": "stream",
          "text": [
            "Variable names are not unique. To make them unique, call `.var_names_make_unique`.\n",
            "/usr/local/lib/python3.6/dist-packages/scanpy/preprocessing/_highly_variable_genes.py:144: FutureWarning: Slicing a positional slice with .loc is not supported, and will raise TypeError in a future version.  Use .loc with labels or .iloc with positions instead.\n",
            "  df.loc[: int(n_top_genes), 'highly_variable'] = True\n"
          ],
          "name": "stderr"
        },
        {
          "output_type": "stream",
          "text": [
            "Finishing resultGSM3738542\n",
            "Starting resultGSM3396168.dms\n"
          ],
          "name": "stdout"
        },
        {
          "output_type": "stream",
          "text": [
            "Variable names are not unique. To make them unique, call `.var_names_make_unique`.\n",
            "/usr/local/lib/python3.6/dist-packages/scanpy/preprocessing/_highly_variable_genes.py:144: FutureWarning: Slicing a positional slice with .loc is not supported, and will raise TypeError in a future version.  Use .loc with labels or .iloc with positions instead.\n",
            "  df.loc[: int(n_top_genes), 'highly_variable'] = True\n"
          ],
          "name": "stderr"
        },
        {
          "output_type": "stream",
          "text": [
            "Finishing resultGSM3396168.dms\n",
            "Starting resultGSM3723358\n"
          ],
          "name": "stdout"
        },
        {
          "output_type": "stream",
          "text": [
            "Variable names are not unique. To make them unique, call `.var_names_make_unique`.\n",
            "/usr/local/lib/python3.6/dist-packages/scanpy/preprocessing/_highly_variable_genes.py:144: FutureWarning: Slicing a positional slice with .loc is not supported, and will raise TypeError in a future version.  Use .loc with labels or .iloc with positions instead.\n",
            "  df.loc[: int(n_top_genes), 'highly_variable'] = True\n"
          ],
          "name": "stderr"
        },
        {
          "output_type": "stream",
          "text": [
            "Finishing resultGSM3723358\n",
            "Starting resultGSM4463249\n"
          ],
          "name": "stdout"
        },
        {
          "output_type": "stream",
          "text": [
            "Variable names are not unique. To make them unique, call `.var_names_make_unique`.\n",
            "/usr/local/lib/python3.6/dist-packages/scanpy/preprocessing/_highly_variable_genes.py:144: FutureWarning: Slicing a positional slice with .loc is not supported, and will raise TypeError in a future version.  Use .loc with labels or .iloc with positions instead.\n",
            "  df.loc[: int(n_top_genes), 'highly_variable'] = True\n"
          ],
          "name": "stderr"
        },
        {
          "output_type": "stream",
          "text": [
            "Finishing resultGSM4463249\n",
            "Starting resultGSM3309832.dms\n"
          ],
          "name": "stdout"
        },
        {
          "output_type": "stream",
          "text": [
            "Variable names are not unique. To make them unique, call `.var_names_make_unique`.\n",
            "/usr/local/lib/python3.6/dist-packages/scanpy/preprocessing/_highly_variable_genes.py:144: FutureWarning: Slicing a positional slice with .loc is not supported, and will raise TypeError in a future version.  Use .loc with labels or .iloc with positions instead.\n",
            "  df.loc[: int(n_top_genes), 'highly_variable'] = True\n"
          ],
          "name": "stderr"
        },
        {
          "output_type": "stream",
          "text": [
            "Finishing resultGSM3309832.dms\n",
            "Starting resultGSM3755691\n"
          ],
          "name": "stdout"
        },
        {
          "output_type": "stream",
          "text": [
            "Variable names are not unique. To make them unique, call `.var_names_make_unique`.\n",
            "/usr/local/lib/python3.6/dist-packages/scanpy/preprocessing/_highly_variable_genes.py:144: FutureWarning: Slicing a positional slice with .loc is not supported, and will raise TypeError in a future version.  Use .loc with labels or .iloc with positions instead.\n",
            "  df.loc[: int(n_top_genes), 'highly_variable'] = True\n"
          ],
          "name": "stderr"
        },
        {
          "output_type": "stream",
          "text": [
            "Finishing resultGSM3755691\n",
            "Starting resultGSM4142870\n"
          ],
          "name": "stdout"
        },
        {
          "output_type": "stream",
          "text": [
            "Variable names are not unique. To make them unique, call `.var_names_make_unique`.\n",
            "/usr/local/lib/python3.6/dist-packages/scanpy/preprocessing/_highly_variable_genes.py:144: FutureWarning: Slicing a positional slice with .loc is not supported, and will raise TypeError in a future version.  Use .loc with labels or .iloc with positions instead.\n",
            "  df.loc[: int(n_top_genes), 'highly_variable'] = True\n",
            "Variable names are not unique. To make them unique, call `.var_names_make_unique`.\n"
          ],
          "name": "stderr"
        },
        {
          "output_type": "stream",
          "text": [
            "Finishing resultGSM4142870\n",
            "Starting resultGSM3738541\n"
          ],
          "name": "stdout"
        },
        {
          "output_type": "stream",
          "text": [
            "/usr/local/lib/python3.6/dist-packages/scanpy/preprocessing/_highly_variable_genes.py:144: FutureWarning: Slicing a positional slice with .loc is not supported, and will raise TypeError in a future version.  Use .loc with labels or .iloc with positions instead.\n",
            "  df.loc[: int(n_top_genes), 'highly_variable'] = True\n"
          ],
          "name": "stderr"
        },
        {
          "output_type": "stream",
          "text": [
            "Finishing resultGSM3738541\n",
            "Starting resultGSM3319038.dms\n"
          ],
          "name": "stdout"
        },
        {
          "output_type": "stream",
          "text": [
            "Variable names are not unique. To make them unique, call `.var_names_make_unique`.\n",
            "/usr/local/lib/python3.6/dist-packages/scanpy/preprocessing/_highly_variable_genes.py:144: FutureWarning: Slicing a positional slice with .loc is not supported, and will raise TypeError in a future version.  Use .loc with labels or .iloc with positions instead.\n",
            "  df.loc[: int(n_top_genes), 'highly_variable'] = True\n"
          ],
          "name": "stderr"
        },
        {
          "output_type": "stream",
          "text": [
            "Finishing resultGSM3319038.dms\n",
            "Starting resultGSM3273570.dms\n"
          ],
          "name": "stdout"
        },
        {
          "output_type": "stream",
          "text": [
            "Variable names are not unique. To make them unique, call `.var_names_make_unique`.\n",
            "/usr/local/lib/python3.6/dist-packages/scanpy/preprocessing/_highly_variable_genes.py:144: FutureWarning: Slicing a positional slice with .loc is not supported, and will raise TypeError in a future version.  Use .loc with labels or .iloc with positions instead.\n",
            "  df.loc[: int(n_top_genes), 'highly_variable'] = True\n"
          ],
          "name": "stderr"
        },
        {
          "output_type": "stream",
          "text": [
            "Finishing resultGSM3273570.dms\n",
            "Starting resultGSM3378054\n"
          ],
          "name": "stdout"
        },
        {
          "output_type": "stream",
          "text": [
            "Variable names are not unique. To make them unique, call `.var_names_make_unique`.\n",
            "/usr/local/lib/python3.6/dist-packages/scanpy/preprocessing/_highly_variable_genes.py:144: FutureWarning: Slicing a positional slice with .loc is not supported, and will raise TypeError in a future version.  Use .loc with labels or .iloc with positions instead.\n",
            "  df.loc[: int(n_top_genes), 'highly_variable'] = True\n",
            "Variable names are not unique. To make them unique, call `.var_names_make_unique`.\n"
          ],
          "name": "stderr"
        },
        {
          "output_type": "stream",
          "text": [
            "Finishing resultGSM3378054\n",
            "Starting resultGSM3557961.dms\n"
          ],
          "name": "stdout"
        },
        {
          "output_type": "stream",
          "text": [
            "/usr/local/lib/python3.6/dist-packages/scanpy/preprocessing/_highly_variable_genes.py:144: FutureWarning: Slicing a positional slice with .loc is not supported, and will raise TypeError in a future version.  Use .loc with labels or .iloc with positions instead.\n",
            "  df.loc[: int(n_top_genes), 'highly_variable'] = True\n",
            "Variable names are not unique. To make them unique, call `.var_names_make_unique`.\n"
          ],
          "name": "stderr"
        },
        {
          "output_type": "stream",
          "text": [
            "Finishing resultGSM3557961.dms\n",
            "Starting resultGSM3319046.dms\n",
            "Finishing resultGSM3319046.dms\n",
            "Starting resultGSM3755688\n"
          ],
          "name": "stdout"
        },
        {
          "output_type": "stream",
          "text": [
            "/usr/local/lib/python3.6/dist-packages/scanpy/preprocessing/_highly_variable_genes.py:144: FutureWarning: Slicing a positional slice with .loc is not supported, and will raise TypeError in a future version.  Use .loc with labels or .iloc with positions instead.\n",
            "  df.loc[: int(n_top_genes), 'highly_variable'] = True\n",
            "Variable names are not unique. To make them unique, call `.var_names_make_unique`.\n",
            "/usr/local/lib/python3.6/dist-packages/scanpy/preprocessing/_highly_variable_genes.py:144: FutureWarning: Slicing a positional slice with .loc is not supported, and will raise TypeError in a future version.  Use .loc with labels or .iloc with positions instead.\n",
            "  df.loc[: int(n_top_genes), 'highly_variable'] = True\n",
            "Variable names are not unique. To make them unique, call `.var_names_make_unique`.\n"
          ],
          "name": "stderr"
        },
        {
          "output_type": "stream",
          "text": [
            "Finishing resultGSM3755688\n",
            "Starting resultGSM3557973.dms\n",
            "Finishing resultGSM3557973.dms\n",
            "Starting resultGSM3319034.dms\n"
          ],
          "name": "stdout"
        },
        {
          "output_type": "stream",
          "text": [
            "/usr/local/lib/python3.6/dist-packages/scanpy/preprocessing/_highly_variable_genes.py:144: FutureWarning: Slicing a positional slice with .loc is not supported, and will raise TypeError in a future version.  Use .loc with labels or .iloc with positions instead.\n",
            "  df.loc[: int(n_top_genes), 'highly_variable'] = True\n",
            "Variable names are not unique. To make them unique, call `.var_names_make_unique`.\n",
            "/usr/local/lib/python3.6/dist-packages/scanpy/preprocessing/_highly_variable_genes.py:144: FutureWarning: Slicing a positional slice with .loc is not supported, and will raise TypeError in a future version.  Use .loc with labels or .iloc with positions instead.\n",
            "  df.loc[: int(n_top_genes), 'highly_variable'] = True\n",
            "Variable names are not unique. To make them unique, call `.var_names_make_unique`.\n"
          ],
          "name": "stderr"
        },
        {
          "output_type": "stream",
          "text": [
            "Finishing resultGSM3319034.dms\n",
            "Starting resultGSM3557965\n"
          ],
          "name": "stdout"
        },
        {
          "output_type": "stream",
          "text": [
            "/usr/local/lib/python3.6/dist-packages/scanpy/preprocessing/_highly_variable_genes.py:144: FutureWarning: Slicing a positional slice with .loc is not supported, and will raise TypeError in a future version.  Use .loc with labels or .iloc with positions instead.\n",
            "  df.loc[: int(n_top_genes), 'highly_variable'] = True\n"
          ],
          "name": "stderr"
        },
        {
          "output_type": "stream",
          "text": [
            "Finishing resultGSM3557965\n",
            "Starting resultGSM2905291.dms\n"
          ],
          "name": "stdout"
        },
        {
          "output_type": "stream",
          "text": [
            "Variable names are not unique. To make them unique, call `.var_names_make_unique`.\n",
            "/usr/local/lib/python3.6/dist-packages/scanpy/preprocessing/_highly_variable_genes.py:144: FutureWarning: Slicing a positional slice with .loc is not supported, and will raise TypeError in a future version.  Use .loc with labels or .iloc with positions instead.\n",
            "  df.loc[: int(n_top_genes), 'highly_variable'] = True\n",
            "Variable names are not unique. To make them unique, call `.var_names_make_unique`.\n"
          ],
          "name": "stderr"
        },
        {
          "output_type": "stream",
          "text": [
            "Finishing resultGSM2905291.dms\n",
            "Starting resultGSM3396164\n"
          ],
          "name": "stdout"
        },
        {
          "output_type": "stream",
          "text": [
            "/usr/local/lib/python3.6/dist-packages/scanpy/preprocessing/_highly_variable_genes.py:144: FutureWarning: Slicing a positional slice with .loc is not supported, and will raise TypeError in a future version.  Use .loc with labels or .iloc with positions instead.\n",
            "  df.loc[: int(n_top_genes), 'highly_variable'] = True\n"
          ],
          "name": "stderr"
        },
        {
          "output_type": "stream",
          "text": [
            "Finishing resultGSM3396164\n",
            "Starting resultGSM3439913.dms\n"
          ],
          "name": "stdout"
        },
        {
          "output_type": "stream",
          "text": [
            "Variable names are not unique. To make them unique, call `.var_names_make_unique`.\n",
            "/usr/local/lib/python3.6/dist-packages/scanpy/preprocessing/_highly_variable_genes.py:144: FutureWarning: Slicing a positional slice with .loc is not supported, and will raise TypeError in a future version.  Use .loc with labels or .iloc with positions instead.\n",
            "  df.loc[: int(n_top_genes), 'highly_variable'] = True\n",
            "Variable names are not unique. To make them unique, call `.var_names_make_unique`.\n"
          ],
          "name": "stderr"
        },
        {
          "output_type": "stream",
          "text": [
            "Finishing resultGSM3439913.dms\n",
            "Starting resultGSM3526583\n"
          ],
          "name": "stdout"
        },
        {
          "output_type": "stream",
          "text": [
            "/usr/local/lib/python3.6/dist-packages/scanpy/preprocessing/_highly_variable_genes.py:144: FutureWarning: Slicing a positional slice with .loc is not supported, and will raise TypeError in a future version.  Use .loc with labels or .iloc with positions instead.\n",
            "  df.loc[: int(n_top_genes), 'highly_variable'] = True\n",
            "Variable names are not unique. To make them unique, call `.var_names_make_unique`.\n",
            "/usr/local/lib/python3.6/dist-packages/scanpy/preprocessing/_highly_variable_genes.py:144: FutureWarning: Slicing a positional slice with .loc is not supported, and will raise TypeError in a future version.  Use .loc with labels or .iloc with positions instead.\n",
            "  df.loc[: int(n_top_genes), 'highly_variable'] = True\n"
          ],
          "name": "stderr"
        },
        {
          "output_type": "stream",
          "text": [
            "Finishing resultGSM3526583\n",
            "Starting resultGSM3739218.dms\n",
            "Finishing resultGSM3739218.dms\n",
            "Starting resultGSM2928381.dms\n"
          ],
          "name": "stdout"
        },
        {
          "output_type": "stream",
          "text": [
            "Variable names are not unique. To make them unique, call `.var_names_make_unique`.\n",
            "/usr/local/lib/python3.6/dist-packages/scanpy/preprocessing/_highly_variable_genes.py:144: FutureWarning: Slicing a positional slice with .loc is not supported, and will raise TypeError in a future version.  Use .loc with labels or .iloc with positions instead.\n",
            "  df.loc[: int(n_top_genes), 'highly_variable'] = True\n"
          ],
          "name": "stderr"
        },
        {
          "output_type": "stream",
          "text": [
            "Finishing resultGSM2928381.dms\n",
            "Starting resultGSM3396178\n"
          ],
          "name": "stdout"
        },
        {
          "output_type": "stream",
          "text": [
            "Variable names are not unique. To make them unique, call `.var_names_make_unique`.\n",
            "/usr/local/lib/python3.6/dist-packages/scanpy/preprocessing/_highly_variable_genes.py:144: FutureWarning: Slicing a positional slice with .loc is not supported, and will raise TypeError in a future version.  Use .loc with labels or .iloc with positions instead.\n",
            "  df.loc[: int(n_top_genes), 'highly_variable'] = True\n"
          ],
          "name": "stderr"
        },
        {
          "output_type": "stream",
          "text": [
            "Finishing resultGSM3396178\n",
            "Starting resultGSM3143601.dms\n"
          ],
          "name": "stdout"
        },
        {
          "output_type": "stream",
          "text": [
            "Variable names are not unique. To make them unique, call `.var_names_make_unique`.\n",
            "/usr/local/lib/python3.6/dist-packages/scanpy/preprocessing/_highly_variable_genes.py:144: FutureWarning: Slicing a positional slice with .loc is not supported, and will raise TypeError in a future version.  Use .loc with labels or .iloc with positions instead.\n",
            "  df.loc[: int(n_top_genes), 'highly_variable'] = True\n",
            "Variable names are not unique. To make them unique, call `.var_names_make_unique`.\n"
          ],
          "name": "stderr"
        },
        {
          "output_type": "stream",
          "text": [
            "Finishing resultGSM3143601.dms\n",
            "Starting resultGSM3739222.dms\n",
            "Finishing resultGSM3739222.dms\n",
            "Starting resultGSM3309833.dms\n"
          ],
          "name": "stdout"
        },
        {
          "output_type": "stream",
          "text": [
            "/usr/local/lib/python3.6/dist-packages/scanpy/preprocessing/_highly_variable_genes.py:144: FutureWarning: Slicing a positional slice with .loc is not supported, and will raise TypeError in a future version.  Use .loc with labels or .iloc with positions instead.\n",
            "  df.loc[: int(n_top_genes), 'highly_variable'] = True\n",
            "Variable names are not unique. To make them unique, call `.var_names_make_unique`.\n",
            "/usr/local/lib/python3.6/dist-packages/scanpy/preprocessing/_highly_variable_genes.py:144: FutureWarning: Slicing a positional slice with .loc is not supported, and will raise TypeError in a future version.  Use .loc with labels or .iloc with positions instead.\n",
            "  df.loc[: int(n_top_genes), 'highly_variable'] = True\n"
          ],
          "name": "stderr"
        },
        {
          "output_type": "stream",
          "text": [
            "Finishing resultGSM3309833.dms\n",
            "Starting resultGSM2928380.dms\n"
          ],
          "name": "stdout"
        },
        {
          "output_type": "stream",
          "text": [
            "Variable names are not unique. To make them unique, call `.var_names_make_unique`.\n",
            "/usr/local/lib/python3.6/dist-packages/scanpy/preprocessing/_highly_variable_genes.py:144: FutureWarning: Slicing a positional slice with .loc is not supported, and will raise TypeError in a future version.  Use .loc with labels or .iloc with positions instead.\n",
            "  df.loc[: int(n_top_genes), 'highly_variable'] = True\n",
            "Variable names are not unique. To make them unique, call `.var_names_make_unique`.\n"
          ],
          "name": "stderr"
        },
        {
          "output_type": "stream",
          "text": [
            "Finishing resultGSM2928380.dms\n",
            "Starting resultGSM4463253\n",
            "Finishing resultGSM4463253\n",
            "Starting resultGSM4463234\n"
          ],
          "name": "stdout"
        },
        {
          "output_type": "stream",
          "text": [
            "/usr/local/lib/python3.6/dist-packages/scanpy/preprocessing/_highly_variable_genes.py:144: FutureWarning: Slicing a positional slice with .loc is not supported, and will raise TypeError in a future version.  Use .loc with labels or .iloc with positions instead.\n",
            "  df.loc[: int(n_top_genes), 'highly_variable'] = True\n",
            "Variable names are not unique. To make them unique, call `.var_names_make_unique`.\n",
            "/usr/local/lib/python3.6/dist-packages/scanpy/preprocessing/_highly_variable_genes.py:144: FutureWarning: Slicing a positional slice with .loc is not supported, and will raise TypeError in a future version.  Use .loc with labels or .iloc with positions instead.\n",
            "  df.loc[: int(n_top_genes), 'highly_variable'] = True\n"
          ],
          "name": "stderr"
        },
        {
          "output_type": "stream",
          "text": [
            "Finishing resultGSM4463234\n",
            "Starting resultGSM3396172\n"
          ],
          "name": "stdout"
        },
        {
          "output_type": "stream",
          "text": [
            "Variable names are not unique. To make them unique, call `.var_names_make_unique`.\n",
            "/usr/local/lib/python3.6/dist-packages/scanpy/preprocessing/_highly_variable_genes.py:144: FutureWarning: Slicing a positional slice with .loc is not supported, and will raise TypeError in a future version.  Use .loc with labels or .iloc with positions instead.\n",
            "  df.loc[: int(n_top_genes), 'highly_variable'] = True\n"
          ],
          "name": "stderr"
        },
        {
          "output_type": "stream",
          "text": [
            "Finishing resultGSM3396172\n",
            "Starting resultGSM2928384.dms\n"
          ],
          "name": "stdout"
        },
        {
          "output_type": "stream",
          "text": [
            "Variable names are not unique. To make them unique, call `.var_names_make_unique`.\n",
            "/usr/local/lib/python3.6/dist-packages/scanpy/preprocessing/_highly_variable_genes.py:144: FutureWarning: Slicing a positional slice with .loc is not supported, and will raise TypeError in a future version.  Use .loc with labels or .iloc with positions instead.\n",
            "  df.loc[: int(n_top_genes), 'highly_variable'] = True\n"
          ],
          "name": "stderr"
        },
        {
          "output_type": "stream",
          "text": [
            "Finishing resultGSM2928384.dms\n",
            "Starting resultGSM3509839.dms\n"
          ],
          "name": "stdout"
        },
        {
          "output_type": "stream",
          "text": [
            "Variable names are not unique. To make them unique, call `.var_names_make_unique`.\n",
            "/usr/local/lib/python3.6/dist-packages/scanpy/preprocessing/_highly_variable_genes.py:144: FutureWarning: Slicing a positional slice with .loc is not supported, and will raise TypeError in a future version.  Use .loc with labels or .iloc with positions instead.\n",
            "  df.loc[: int(n_top_genes), 'highly_variable'] = True\n"
          ],
          "name": "stderr"
        },
        {
          "output_type": "stream",
          "text": [
            "Finishing resultGSM3509839.dms\n",
            "Starting resultGSM3439918\n"
          ],
          "name": "stdout"
        },
        {
          "output_type": "stream",
          "text": [
            "Variable names are not unique. To make them unique, call `.var_names_make_unique`.\n",
            "/usr/local/lib/python3.6/dist-packages/scanpy/preprocessing/_highly_variable_genes.py:144: FutureWarning: Slicing a positional slice with .loc is not supported, and will raise TypeError in a future version.  Use .loc with labels or .iloc with positions instead.\n",
            "  df.loc[: int(n_top_genes), 'highly_variable'] = True\n"
          ],
          "name": "stderr"
        },
        {
          "output_type": "stream",
          "text": [
            "Finishing resultGSM3439918\n",
            "Starting resultGSM4037305\n"
          ],
          "name": "stdout"
        },
        {
          "output_type": "stream",
          "text": [
            "Variable names are not unique. To make them unique, call `.var_names_make_unique`.\n",
            "/usr/local/lib/python3.6/dist-packages/scanpy/preprocessing/_highly_variable_genes.py:144: FutureWarning: Slicing a positional slice with .loc is not supported, and will raise TypeError in a future version.  Use .loc with labels or .iloc with positions instead.\n",
            "  df.loc[: int(n_top_genes), 'highly_variable'] = True\n",
            "Variable names are not unique. To make them unique, call `.var_names_make_unique`.\n"
          ],
          "name": "stderr"
        },
        {
          "output_type": "stream",
          "text": [
            "Finishing resultGSM4037305\n",
            "Starting resultGSM3319040.dms\n"
          ],
          "name": "stdout"
        },
        {
          "output_type": "stream",
          "text": [
            "/usr/local/lib/python3.6/dist-packages/scanpy/preprocessing/_highly_variable_genes.py:144: FutureWarning: Slicing a positional slice with .loc is not supported, and will raise TypeError in a future version.  Use .loc with labels or .iloc with positions instead.\n",
            "  df.loc[: int(n_top_genes), 'highly_variable'] = True\n"
          ],
          "name": "stderr"
        },
        {
          "output_type": "stream",
          "text": [
            "Finishing resultGSM3319040.dms\n",
            "Starting resultGSM3478792.dms\n"
          ],
          "name": "stdout"
        },
        {
          "output_type": "stream",
          "text": [
            "Variable names are not unique. To make them unique, call `.var_names_make_unique`.\n",
            "/usr/local/lib/python3.6/dist-packages/scanpy/preprocessing/_highly_variable_genes.py:144: FutureWarning: Slicing a positional slice with .loc is not supported, and will raise TypeError in a future version.  Use .loc with labels or .iloc with positions instead.\n",
            "  df.loc[: int(n_top_genes), 'highly_variable'] = True\n"
          ],
          "name": "stderr"
        },
        {
          "output_type": "stream",
          "text": [
            "Finishing resultGSM3478792.dms\n",
            "Starting resultGSM2786157.dms\n"
          ],
          "name": "stdout"
        },
        {
          "output_type": "stream",
          "text": [
            "Variable names are not unique. To make them unique, call `.var_names_make_unique`.\n",
            "/usr/local/lib/python3.6/dist-packages/scanpy/preprocessing/_highly_variable_genes.py:144: FutureWarning: Slicing a positional slice with .loc is not supported, and will raise TypeError in a future version.  Use .loc with labels or .iloc with positions instead.\n",
            "  df.loc[: int(n_top_genes), 'highly_variable'] = True\n",
            "Variable names are not unique. To make them unique, call `.var_names_make_unique`.\n"
          ],
          "name": "stderr"
        },
        {
          "output_type": "stream",
          "text": [
            "Finishing resultGSM2786157.dms\n",
            "Starting resultGSM3396177\n"
          ],
          "name": "stdout"
        },
        {
          "output_type": "stream",
          "text": [
            "/usr/local/lib/python3.6/dist-packages/scanpy/preprocessing/_highly_variable_genes.py:144: FutureWarning: Slicing a positional slice with .loc is not supported, and will raise TypeError in a future version.  Use .loc with labels or .iloc with positions instead.\n",
            "  df.loc[: int(n_top_genes), 'highly_variable'] = True\n"
          ],
          "name": "stderr"
        },
        {
          "output_type": "stream",
          "text": [
            "Finishing resultGSM3396177\n",
            "Starting resultGSM2928378.dms\n"
          ],
          "name": "stdout"
        },
        {
          "output_type": "stream",
          "text": [
            "Variable names are not unique. To make them unique, call `.var_names_make_unique`.\n",
            "/usr/local/lib/python3.6/dist-packages/scanpy/preprocessing/_highly_variable_genes.py:144: FutureWarning: Slicing a positional slice with .loc is not supported, and will raise TypeError in a future version.  Use .loc with labels or .iloc with positions instead.\n",
            "  df.loc[: int(n_top_genes), 'highly_variable'] = True\n"
          ],
          "name": "stderr"
        },
        {
          "output_type": "stream",
          "text": [
            "Finishing resultGSM2928378.dms\n",
            "Starting resultGSM3739217.dms\n"
          ],
          "name": "stdout"
        },
        {
          "output_type": "stream",
          "text": [
            "Variable names are not unique. To make them unique, call `.var_names_make_unique`.\n",
            "/usr/local/lib/python3.6/dist-packages/scanpy/preprocessing/_highly_variable_genes.py:144: FutureWarning: Slicing a positional slice with .loc is not supported, and will raise TypeError in a future version.  Use .loc with labels or .iloc with positions instead.\n",
            "  df.loc[: int(n_top_genes), 'highly_variable'] = True\n"
          ],
          "name": "stderr"
        },
        {
          "output_type": "stream",
          "text": [
            "Finishing resultGSM3739217.dms\n",
            "Starting resultGSM3439920\n"
          ],
          "name": "stdout"
        },
        {
          "output_type": "stream",
          "text": [
            "Variable names are not unique. To make them unique, call `.var_names_make_unique`.\n",
            "/usr/local/lib/python3.6/dist-packages/scanpy/preprocessing/_highly_variable_genes.py:144: FutureWarning: Slicing a positional slice with .loc is not supported, and will raise TypeError in a future version.  Use .loc with labels or .iloc with positions instead.\n",
            "  df.loc[: int(n_top_genes), 'highly_variable'] = True\n"
          ],
          "name": "stderr"
        },
        {
          "output_type": "stream",
          "text": [
            "Finishing resultGSM3439920\n",
            "Starting resultGSM2928383.dms\n"
          ],
          "name": "stdout"
        },
        {
          "output_type": "stream",
          "text": [
            "Variable names are not unique. To make them unique, call `.var_names_make_unique`.\n",
            "/usr/local/lib/python3.6/dist-packages/scanpy/preprocessing/_highly_variable_genes.py:144: FutureWarning: Slicing a positional slice with .loc is not supported, and will raise TypeError in a future version.  Use .loc with labels or .iloc with positions instead.\n",
            "  df.loc[: int(n_top_genes), 'highly_variable'] = True\n"
          ],
          "name": "stderr"
        },
        {
          "output_type": "stream",
          "text": [
            "Finishing resultGSM2928383.dms\n",
            "Starting resultGSM3396174\n"
          ],
          "name": "stdout"
        },
        {
          "output_type": "stream",
          "text": [
            "Variable names are not unique. To make them unique, call `.var_names_make_unique`.\n",
            "/usr/local/lib/python3.6/dist-packages/scanpy/preprocessing/_highly_variable_genes.py:144: FutureWarning: Slicing a positional slice with .loc is not supported, and will raise TypeError in a future version.  Use .loc with labels or .iloc with positions instead.\n",
            "  df.loc[: int(n_top_genes), 'highly_variable'] = True\n",
            "Variable names are not unique. To make them unique, call `.var_names_make_unique`.\n"
          ],
          "name": "stderr"
        },
        {
          "output_type": "stream",
          "text": [
            "Finishing resultGSM3396174\n",
            "Starting resultGSM2803967.dms\n"
          ],
          "name": "stdout"
        },
        {
          "output_type": "stream",
          "text": [
            "/usr/local/lib/python3.6/dist-packages/scanpy/preprocessing/_highly_variable_genes.py:144: FutureWarning: Slicing a positional slice with .loc is not supported, and will raise TypeError in a future version.  Use .loc with labels or .iloc with positions instead.\n",
            "  df.loc[: int(n_top_genes), 'highly_variable'] = True\n"
          ],
          "name": "stderr"
        },
        {
          "output_type": "stream",
          "text": [
            "Finishing resultGSM2803967.dms\n",
            "Starting resultGSM3526590\n"
          ],
          "name": "stdout"
        },
        {
          "output_type": "stream",
          "text": [
            "Variable names are not unique. To make them unique, call `.var_names_make_unique`.\n",
            "/usr/local/lib/python3.6/dist-packages/scanpy/preprocessing/_highly_variable_genes.py:144: FutureWarning: Slicing a positional slice with .loc is not supported, and will raise TypeError in a future version.  Use .loc with labels or .iloc with positions instead.\n",
            "  df.loc[: int(n_top_genes), 'highly_variable'] = True\n",
            "Variable names are not unique. To make them unique, call `.var_names_make_unique`.\n"
          ],
          "name": "stderr"
        },
        {
          "output_type": "stream",
          "text": [
            "Finishing resultGSM3526590\n",
            "Starting resultGSM4142873\n",
            "Finishing resultGSM4142873\n",
            "Starting resultGSM3148578.dms\n"
          ],
          "name": "stdout"
        },
        {
          "output_type": "stream",
          "text": [
            "/usr/local/lib/python3.6/dist-packages/scanpy/preprocessing/_highly_variable_genes.py:144: FutureWarning: Slicing a positional slice with .loc is not supported, and will raise TypeError in a future version.  Use .loc with labels or .iloc with positions instead.\n",
            "  df.loc[: int(n_top_genes), 'highly_variable'] = True\n",
            "Variable names are not unique. To make them unique, call `.var_names_make_unique`.\n",
            "/usr/local/lib/python3.6/dist-packages/scanpy/preprocessing/_highly_variable_genes.py:144: FutureWarning: Slicing a positional slice with .loc is not supported, and will raise TypeError in a future version.  Use .loc with labels or .iloc with positions instead.\n",
            "  df.loc[: int(n_top_genes), 'highly_variable'] = True\n"
          ],
          "name": "stderr"
        },
        {
          "output_type": "stream",
          "text": [
            "Finishing resultGSM3148578.dms\n",
            "Starting resultGSM3302524_HNTYNBGX3.dms\n"
          ],
          "name": "stdout"
        },
        {
          "output_type": "stream",
          "text": [
            "Variable names are not unique. To make them unique, call `.var_names_make_unique`.\n",
            "/usr/local/lib/python3.6/dist-packages/scanpy/preprocessing/_highly_variable_genes.py:144: FutureWarning: Slicing a positional slice with .loc is not supported, and will raise TypeError in a future version.  Use .loc with labels or .iloc with positions instead.\n",
            "  df.loc[: int(n_top_genes), 'highly_variable'] = True\n"
          ],
          "name": "stderr"
        },
        {
          "output_type": "stream",
          "text": [
            "Finishing resultGSM3302524_HNTYNBGX3.dms\n",
            "Starting resultGSM3396175\n"
          ],
          "name": "stdout"
        },
        {
          "output_type": "stream",
          "text": [
            "Variable names are not unique. To make them unique, call `.var_names_make_unique`.\n",
            "/usr/local/lib/python3.6/dist-packages/scanpy/preprocessing/_highly_variable_genes.py:144: FutureWarning: Slicing a positional slice with .loc is not supported, and will raise TypeError in a future version.  Use .loc with labels or .iloc with positions instead.\n",
            "  df.loc[: int(n_top_genes), 'highly_variable'] = True\n"
          ],
          "name": "stderr"
        },
        {
          "output_type": "stream",
          "text": [
            "Finishing resultGSM3396175\n",
            "Starting resultGSM3073089.dms\n"
          ],
          "name": "stdout"
        },
        {
          "output_type": "stream",
          "text": [
            "Variable names are not unique. To make them unique, call `.var_names_make_unique`.\n",
            "/usr/local/lib/python3.6/dist-packages/scanpy/preprocessing/_highly_variable_genes.py:144: FutureWarning: Slicing a positional slice with .loc is not supported, and will raise TypeError in a future version.  Use .loc with labels or .iloc with positions instead.\n",
            "  df.loc[: int(n_top_genes), 'highly_variable'] = True\n"
          ],
          "name": "stderr"
        },
        {
          "output_type": "stream",
          "text": [
            "Finishing resultGSM3073089.dms\n",
            "Starting resultGSM2905292.dms\n"
          ],
          "name": "stdout"
        },
        {
          "output_type": "stream",
          "text": [
            "Variable names are not unique. To make them unique, call `.var_names_make_unique`.\n",
            "/usr/local/lib/python3.6/dist-packages/scanpy/preprocessing/_highly_variable_genes.py:144: FutureWarning: Slicing a positional slice with .loc is not supported, and will raise TypeError in a future version.  Use .loc with labels or .iloc with positions instead.\n",
            "  df.loc[: int(n_top_genes), 'highly_variable'] = True\n"
          ],
          "name": "stderr"
        },
        {
          "output_type": "stream",
          "text": [
            "Finishing resultGSM2905292.dms\n",
            "Starting resultGSM3396167.dms\n"
          ],
          "name": "stdout"
        },
        {
          "output_type": "stream",
          "text": [
            "Variable names are not unique. To make them unique, call `.var_names_make_unique`.\n",
            "/usr/local/lib/python3.6/dist-packages/scanpy/preprocessing/_highly_variable_genes.py:144: FutureWarning: Slicing a positional slice with .loc is not supported, and will raise TypeError in a future version.  Use .loc with labels or .iloc with positions instead.\n",
            "  df.loc[: int(n_top_genes), 'highly_variable'] = True\n"
          ],
          "name": "stderr"
        },
        {
          "output_type": "stream",
          "text": [
            "Finishing resultGSM3396167.dms\n",
            "Starting resultGSM4037301\n"
          ],
          "name": "stdout"
        },
        {
          "output_type": "stream",
          "text": [
            "Variable names are not unique. To make them unique, call `.var_names_make_unique`.\n",
            "/usr/local/lib/python3.6/dist-packages/scanpy/preprocessing/_highly_variable_genes.py:144: FutureWarning: Slicing a positional slice with .loc is not supported, and will raise TypeError in a future version.  Use .loc with labels or .iloc with positions instead.\n",
            "  df.loc[: int(n_top_genes), 'highly_variable'] = True\n"
          ],
          "name": "stderr"
        },
        {
          "output_type": "stream",
          "text": [
            "Finishing resultGSM4037301\n",
            "Starting resultGSM2877959.dms\n"
          ],
          "name": "stdout"
        },
        {
          "output_type": "stream",
          "text": [
            "Variable names are not unique. To make them unique, call `.var_names_make_unique`.\n",
            "/usr/local/lib/python3.6/dist-packages/scanpy/preprocessing/_highly_variable_genes.py:144: FutureWarning: Slicing a positional slice with .loc is not supported, and will raise TypeError in a future version.  Use .loc with labels or .iloc with positions instead.\n",
            "  df.loc[: int(n_top_genes), 'highly_variable'] = True\n"
          ],
          "name": "stderr"
        },
        {
          "output_type": "stream",
          "text": [
            "Finishing resultGSM2877959.dms\n",
            "Starting resultGSM2786158.dms\n"
          ],
          "name": "stdout"
        },
        {
          "output_type": "stream",
          "text": [
            "Variable names are not unique. To make them unique, call `.var_names_make_unique`.\n",
            "/usr/local/lib/python3.6/dist-packages/scanpy/preprocessing/_highly_variable_genes.py:144: FutureWarning: Slicing a positional slice with .loc is not supported, and will raise TypeError in a future version.  Use .loc with labels or .iloc with positions instead.\n",
            "  df.loc[: int(n_top_genes), 'highly_variable'] = True\n"
          ],
          "name": "stderr"
        },
        {
          "output_type": "stream",
          "text": [
            "Finishing resultGSM2786158.dms\n",
            "Starting resultGSM3378059\n"
          ],
          "name": "stdout"
        },
        {
          "output_type": "stream",
          "text": [
            "Variable names are not unique. To make them unique, call `.var_names_make_unique`.\n",
            "/usr/local/lib/python3.6/dist-packages/scanpy/preprocessing/_highly_variable_genes.py:144: FutureWarning: Slicing a positional slice with .loc is not supported, and will raise TypeError in a future version.  Use .loc with labels or .iloc with positions instead.\n",
            "  df.loc[: int(n_top_genes), 'highly_variable'] = True\n"
          ],
          "name": "stderr"
        },
        {
          "output_type": "stream",
          "text": [
            "Finishing resultGSM3378059\n",
            "Starting resultGSM3439925\n"
          ],
          "name": "stdout"
        },
        {
          "output_type": "stream",
          "text": [
            "Variable names are not unique. To make them unique, call `.var_names_make_unique`.\n",
            "/usr/local/lib/python3.6/dist-packages/scanpy/preprocessing/_highly_variable_genes.py:144: FutureWarning: Slicing a positional slice with .loc is not supported, and will raise TypeError in a future version.  Use .loc with labels or .iloc with positions instead.\n",
            "  df.loc[: int(n_top_genes), 'highly_variable'] = True\n"
          ],
          "name": "stderr"
        },
        {
          "output_type": "stream",
          "text": [
            "Finishing resultGSM3439925\n",
            "Starting resultGSM3439917\n"
          ],
          "name": "stdout"
        },
        {
          "output_type": "stream",
          "text": [
            "Variable names are not unique. To make them unique, call `.var_names_make_unique`.\n",
            "/usr/local/lib/python3.6/dist-packages/scanpy/preprocessing/_highly_variable_genes.py:144: FutureWarning: Slicing a positional slice with .loc is not supported, and will raise TypeError in a future version.  Use .loc with labels or .iloc with positions instead.\n",
            "  df.loc[: int(n_top_genes), 'highly_variable'] = True\n",
            "Variable names are not unique. To make them unique, call `.var_names_make_unique`.\n"
          ],
          "name": "stderr"
        },
        {
          "output_type": "stream",
          "text": [
            "Finishing resultGSM3439917\n",
            "Starting resultGSM3396182.dms\n"
          ],
          "name": "stdout"
        },
        {
          "output_type": "stream",
          "text": [
            "/usr/local/lib/python3.6/dist-packages/scanpy/preprocessing/_highly_variable_genes.py:144: FutureWarning: Slicing a positional slice with .loc is not supported, and will raise TypeError in a future version.  Use .loc with labels or .iloc with positions instead.\n",
            "  df.loc[: int(n_top_genes), 'highly_variable'] = True\n",
            "Variable names are not unique. To make them unique, call `.var_names_make_unique`.\n"
          ],
          "name": "stderr"
        },
        {
          "output_type": "stream",
          "text": [
            "Finishing resultGSM3396182.dms\n",
            "Starting resultGSM3738536\n"
          ],
          "name": "stdout"
        },
        {
          "output_type": "stream",
          "text": [
            "/usr/local/lib/python3.6/dist-packages/scanpy/preprocessing/_highly_variable_genes.py:144: FutureWarning: Slicing a positional slice with .loc is not supported, and will raise TypeError in a future version.  Use .loc with labels or .iloc with positions instead.\n",
            "  df.loc[: int(n_top_genes), 'highly_variable'] = True\n"
          ],
          "name": "stderr"
        },
        {
          "output_type": "stream",
          "text": [
            "Finishing resultGSM3738536\n",
            "Starting resultGSM2928382.dms\n"
          ],
          "name": "stdout"
        },
        {
          "output_type": "stream",
          "text": [
            "Variable names are not unique. To make them unique, call `.var_names_make_unique`.\n"
          ],
          "name": "stderr"
        },
        {
          "output_type": "stream",
          "text": [
            "Finishing resultGSM2928382.dms\n"
          ],
          "name": "stdout"
        },
        {
          "output_type": "stream",
          "text": [
            "/usr/local/lib/python3.6/dist-packages/scanpy/preprocessing/_highly_variable_genes.py:144: FutureWarning: Slicing a positional slice with .loc is not supported, and will raise TypeError in a future version.  Use .loc with labels or .iloc with positions instead.\n",
            "  df.loc[: int(n_top_genes), 'highly_variable'] = True\n"
          ],
          "name": "stderr"
        }
      ]
    },
    {
      "cell_type": "code",
      "metadata": {
        "colab": {
          "base_uri": "https://localhost:8080/"
        },
        "id": "pfrakBFAbjtg",
        "outputId": "b9dcedf8-5106-46b1-865d-d3bcc203c846"
      },
      "source": [
        "wrong_adatas"
      ],
      "execution_count": 50,
      "outputs": [
        {
          "output_type": "execute_result",
          "data": {
            "text/plain": [
              "['resultGSM3319047.dms']"
            ]
          },
          "metadata": {
            "tags": []
          },
          "execution_count": 50
        }
      ]
    },
    {
      "cell_type": "code",
      "metadata": {
        "colab": {
          "base_uri": "https://localhost:8080/"
        },
        "id": "k4WIRyOnU2nQ",
        "outputId": "a0c63a19-0721-4217-cd46-8664b1f9e34c"
      },
      "source": [
        "adata_objects"
      ],
      "execution_count": 20,
      "outputs": [
        {
          "output_type": "execute_result",
          "data": {
            "text/plain": [
              "{'resultGSM2786157.dms': AnnData object with n_obs × n_vars = 1156 × 3000\n",
              "     obs: 'cell_counts', 'n_genes', 'percent_mito', 'pass_count_filter', 'pass_mito_filter', 'cell_type', 'condition', 'database_id', 'figure', 'paper', 'sample_id', 'species', 'technology', 'tissue'\n",
              "     var: 'gene_id', 'gene_name', 'gene_counts', 'n_cells', 'pass_gene_filter', 'highly_variable', 'highly_variable_rank', 'means', 'variances', 'variances_norm'\n",
              "     uns: 'cell_type', 'condition', 'database_id', 'figure', 'paper', 'sample_id', 'species', 'technology', 'tissue', 'hvg',\n",
              " 'resultGSM2786158.dms': AnnData object with n_obs × n_vars = 919 × 3000\n",
              "     obs: 'cell_counts', 'n_genes', 'percent_mito', 'pass_count_filter', 'pass_mito_filter', 'cell_type', 'condition', 'database_id', 'figure', 'paper', 'sample_id', 'species', 'technology', 'tissue'\n",
              "     var: 'gene_id', 'gene_name', 'gene_counts', 'n_cells', 'pass_gene_filter', 'highly_variable', 'highly_variable_rank', 'means', 'variances', 'variances_norm'\n",
              "     uns: 'cell_type', 'condition', 'database_id', 'figure', 'paper', 'sample_id', 'species', 'technology', 'tissue', 'hvg',\n",
              " 'resultGSM2803967.dms': AnnData object with n_obs × n_vars = 1169 × 3000\n",
              "     obs: 'cell_counts', 'n_genes', 'percent_mito', 'pass_count_filter', 'pass_mito_filter', 'cell_type', 'condition', 'database_id', 'figure', 'paper', 'sample_id', 'species', 'technology', 'tissue'\n",
              "     var: 'gene_id', 'gene_name', 'gene_counts', 'n_cells', 'pass_gene_filter', 'highly_variable', 'highly_variable_rank', 'means', 'variances', 'variances_norm'\n",
              "     uns: 'cell_type', 'condition', 'database_id', 'figure', 'paper', 'sample_id', 'species', 'technology', 'tissue', 'hvg',\n",
              " 'resultGSM2877959.dms': AnnData object with n_obs × n_vars = 5851 × 3000\n",
              "     obs: 'cell_counts', 'n_genes', 'percent_mito', 'pass_count_filter', 'pass_mito_filter', 'cell_type', 'condition', 'database_id', 'figure', 'paper', 'sample_id', 'species', 'technology', 'tissue'\n",
              "     var: 'gene_id', 'gene_name', 'gene_counts', 'n_cells', 'pass_gene_filter', 'highly_variable', 'highly_variable_rank', 'means', 'variances', 'variances_norm'\n",
              "     uns: 'cell_type', 'condition', 'database_id', 'figure', 'paper', 'sample_id', 'species', 'technology', 'tissue', 'hvg',\n",
              " 'resultGSM2877960.dms': AnnData object with n_obs × n_vars = 4319 × 3000\n",
              "     obs: 'cell_counts', 'n_genes', 'percent_mito', 'pass_count_filter', 'pass_mito_filter', 'cell_type', 'condition', 'database_id', 'figure', 'paper', 'sample_id', 'species', 'technology', 'tissue'\n",
              "     var: 'gene_id', 'gene_name', 'gene_counts', 'n_cells', 'pass_gene_filter', 'highly_variable', 'highly_variable_rank', 'means', 'variances', 'variances_norm'\n",
              "     uns: 'cell_type', 'condition', 'database_id', 'figure', 'paper', 'sample_id', 'species', 'technology', 'tissue', 'hvg',\n",
              " 'resultGSM2894834.dms': AnnData object with n_obs × n_vars = 9976 × 3000\n",
              "     obs: 'cell_counts', 'n_genes', 'percent_mito', 'pass_count_filter', 'pass_mito_filter', 'cell_type', 'condition', 'database_id', 'figure', 'paper', 'sample_id', 'species', 'technology', 'tissue'\n",
              "     var: 'gene_id', 'gene_name', 'gene_counts', 'n_cells', 'pass_gene_filter', 'highly_variable', 'highly_variable_rank', 'means', 'variances', 'variances_norm'\n",
              "     uns: 'cell_type', 'condition', 'database_id', 'figure', 'paper', 'sample_id', 'species', 'technology', 'tissue', 'hvg',\n",
              " 'resultGSM2894835.dms': AnnData object with n_obs × n_vars = 9940 × 3000\n",
              "     obs: 'cell_counts', 'n_genes', 'percent_mito', 'pass_count_filter', 'pass_mito_filter', 'cell_type', 'condition', 'database_id', 'figure', 'paper', 'sample_id', 'species', 'technology', 'tissue'\n",
              "     var: 'gene_id', 'gene_name', 'gene_counts', 'n_cells', 'pass_gene_filter', 'highly_variable', 'highly_variable_rank', 'means', 'variances', 'variances_norm'\n",
              "     uns: 'cell_type', 'condition', 'database_id', 'figure', 'paper', 'sample_id', 'species', 'technology', 'tissue', 'hvg',\n",
              " 'resultGSM2905290.dms': AnnData object with n_obs × n_vars = 3948 × 3000\n",
              "     obs: 'cell_counts', 'n_genes', 'percent_mito', 'pass_count_filter', 'pass_mito_filter', 'cell_type', 'condition', 'database_id', 'figure', 'paper', 'sample_id', 'species', 'technology', 'tissue'\n",
              "     var: 'gene_id', 'gene_name', 'gene_counts', 'n_cells', 'pass_gene_filter', 'highly_variable', 'highly_variable_rank', 'means', 'variances', 'variances_norm'\n",
              "     uns: 'cell_type', 'condition', 'database_id', 'figure', 'paper', 'sample_id', 'species', 'technology', 'tissue', 'hvg',\n",
              " 'resultGSM2905291.dms': AnnData object with n_obs × n_vars = 9955 × 3000\n",
              "     obs: 'cell_counts', 'n_genes', 'percent_mito', 'pass_count_filter', 'pass_mito_filter', 'cell_type', 'condition', 'database_id', 'figure', 'paper', 'sample_id', 'species', 'technology', 'tissue'\n",
              "     var: 'gene_id', 'gene_name', 'gene_counts', 'n_cells', 'pass_gene_filter', 'highly_variable', 'highly_variable_rank', 'means', 'variances', 'variances_norm'\n",
              "     uns: 'cell_type', 'condition', 'database_id', 'figure', 'paper', 'sample_id', 'species', 'technology', 'tissue', 'hvg',\n",
              " 'resultGSM2905292.dms': AnnData object with n_obs × n_vars = 2958 × 3000\n",
              "     obs: 'cell_counts', 'n_genes', 'percent_mito', 'pass_count_filter', 'pass_mito_filter', 'cell_type', 'condition', 'database_id', 'figure', 'paper', 'sample_id', 'species', 'technology', 'tissue'\n",
              "     var: 'gene_id', 'gene_name', 'gene_counts', 'n_cells', 'pass_gene_filter', 'highly_variable', 'highly_variable_rank', 'means', 'variances', 'variances_norm'\n",
              "     uns: 'cell_type', 'condition', 'database_id', 'figure', 'paper', 'sample_id', 'species', 'technology', 'tissue', 'hvg',\n",
              " 'resultGSM2905293.dms': AnnData object with n_obs × n_vars = 6978 × 3000\n",
              "     obs: 'cell_counts', 'n_genes', 'percent_mito', 'pass_count_filter', 'pass_mito_filter', 'cell_type', 'condition', 'database_id', 'figure', 'paper', 'sample_id', 'species', 'technology', 'tissue'\n",
              "     var: 'gene_id', 'gene_name', 'gene_counts', 'n_cells', 'pass_gene_filter', 'highly_variable', 'highly_variable_rank', 'means', 'variances', 'variances_norm'\n",
              "     uns: 'cell_type', 'condition', 'database_id', 'figure', 'paper', 'sample_id', 'species', 'technology', 'tissue', 'hvg',\n",
              " 'resultGSM2928377.dms': AnnData object with n_obs × n_vars = 4426 × 3000\n",
              "     obs: 'cell_counts', 'n_genes', 'percent_mito', 'pass_count_filter', 'pass_mito_filter', 'cell_type', 'condition', 'database_id', 'figure', 'paper', 'sample_id', 'species', 'technology', 'tissue'\n",
              "     var: 'gene_id', 'gene_name', 'gene_counts', 'n_cells', 'pass_gene_filter', 'highly_variable', 'highly_variable_rank', 'means', 'variances', 'variances_norm'\n",
              "     uns: 'cell_type', 'condition', 'database_id', 'figure', 'paper', 'sample_id', 'species', 'technology', 'tissue', 'hvg',\n",
              " 'resultGSM2928378.dms': AnnData object with n_obs × n_vars = 4935 × 3000\n",
              "     obs: 'cell_counts', 'n_genes', 'percent_mito', 'pass_count_filter', 'pass_mito_filter', 'cell_type', 'condition', 'database_id', 'figure', 'paper', 'sample_id', 'species', 'technology', 'tissue'\n",
              "     var: 'gene_id', 'gene_name', 'gene_counts', 'n_cells', 'pass_gene_filter', 'highly_variable', 'highly_variable_rank', 'means', 'variances', 'variances_norm'\n",
              "     uns: 'cell_type', 'condition', 'database_id', 'figure', 'paper', 'sample_id', 'species', 'technology', 'tissue', 'hvg',\n",
              " 'resultGSM2928379.dms': AnnData object with n_obs × n_vars = 3945 × 3000\n",
              "     obs: 'cell_counts', 'n_genes', 'percent_mito', 'pass_count_filter', 'pass_mito_filter', 'cell_type', 'condition', 'database_id', 'figure', 'paper', 'sample_id', 'species', 'technology', 'tissue'\n",
              "     var: 'gene_id', 'gene_name', 'gene_counts', 'n_cells', 'pass_gene_filter', 'highly_variable', 'highly_variable_rank', 'means', 'variances', 'variances_norm'\n",
              "     uns: 'cell_type', 'condition', 'database_id', 'figure', 'paper', 'sample_id', 'species', 'technology', 'tissue', 'hvg',\n",
              " 'resultGSM2928380.dms': AnnData object with n_obs × n_vars = 3952 × 3000\n",
              "     obs: 'cell_counts', 'n_genes', 'percent_mito', 'pass_count_filter', 'pass_mito_filter', 'cell_type', 'condition', 'database_id', 'figure', 'paper', 'sample_id', 'species', 'technology', 'tissue'\n",
              "     var: 'gene_id', 'gene_name', 'gene_counts', 'n_cells', 'pass_gene_filter', 'highly_variable', 'highly_variable_rank', 'means', 'variances', 'variances_norm'\n",
              "     uns: 'cell_type', 'condition', 'database_id', 'figure', 'paper', 'sample_id', 'species', 'technology', 'tissue', 'hvg',\n",
              " 'resultGSM2928381.dms': AnnData object with n_obs × n_vars = 4984 × 3000\n",
              "     obs: 'cell_counts', 'n_genes', 'percent_mito', 'pass_count_filter', 'pass_mito_filter', 'cell_type', 'condition', 'database_id', 'figure', 'paper', 'sample_id', 'species', 'technology', 'tissue'\n",
              "     var: 'gene_id', 'gene_name', 'gene_counts', 'n_cells', 'pass_gene_filter', 'highly_variable', 'highly_variable_rank', 'means', 'variances', 'variances_norm'\n",
              "     uns: 'cell_type', 'condition', 'database_id', 'figure', 'paper', 'sample_id', 'species', 'technology', 'tissue', 'hvg',\n",
              " 'resultGSM2928382.dms': AnnData object with n_obs × n_vars = 3926 × 3000\n",
              "     obs: 'cell_counts', 'n_genes', 'percent_mito', 'pass_count_filter', 'pass_mito_filter', 'cell_type', 'condition', 'database_id', 'figure', 'paper', 'sample_id', 'species', 'technology', 'tissue'\n",
              "     var: 'gene_id', 'gene_name', 'gene_counts', 'n_cells', 'pass_gene_filter', 'highly_variable', 'highly_variable_rank', 'means', 'variances', 'variances_norm'\n",
              "     uns: 'cell_type', 'condition', 'database_id', 'figure', 'paper', 'sample_id', 'species', 'technology', 'tissue', 'hvg',\n",
              " 'resultGSM2928383.dms': AnnData object with n_obs × n_vars = 4386 × 3000\n",
              "     obs: 'cell_counts', 'n_genes', 'percent_mito', 'pass_count_filter', 'pass_mito_filter', 'cell_type', 'condition', 'database_id', 'figure', 'paper', 'sample_id', 'species', 'technology', 'tissue'\n",
              "     var: 'gene_id', 'gene_name', 'gene_counts', 'n_cells', 'pass_gene_filter', 'highly_variable', 'highly_variable_rank', 'means', 'variances', 'variances_norm'\n",
              "     uns: 'cell_type', 'condition', 'database_id', 'figure', 'paper', 'sample_id', 'species', 'technology', 'tissue', 'hvg',\n",
              " 'resultGSM2928384.dms': AnnData object with n_obs × n_vars = 9797 × 3000\n",
              "     obs: 'cell_counts', 'n_genes', 'percent_mito', 'pass_count_filter', 'pass_mito_filter', 'cell_type', 'condition', 'database_id', 'figure', 'paper', 'sample_id', 'species', 'technology', 'tissue'\n",
              "     var: 'gene_id', 'gene_name', 'gene_counts', 'n_cells', 'pass_gene_filter', 'highly_variable', 'highly_variable_rank', 'means', 'variances', 'variances_norm'\n",
              "     uns: 'cell_type', 'condition', 'database_id', 'figure', 'paper', 'sample_id', 'species', 'technology', 'tissue', 'hvg',\n",
              " 'resultGSM3073088.dms': AnnData object with n_obs × n_vars = 4908 × 3000\n",
              "     obs: 'cell_counts', 'n_genes', 'percent_mito', 'pass_count_filter', 'pass_mito_filter', 'cell_type', 'condition', 'database_id', 'figure', 'paper', 'sample_id', 'species', 'technology', 'tissue'\n",
              "     var: 'gene_id', 'gene_name', 'gene_counts', 'n_cells', 'pass_gene_filter', 'highly_variable', 'highly_variable_rank', 'means', 'variances', 'variances_norm'\n",
              "     uns: 'cell_type', 'condition', 'database_id', 'figure', 'paper', 'sample_id', 'species', 'technology', 'tissue', 'hvg',\n",
              " 'resultGSM3073089.dms': AnnData object with n_obs × n_vars = 3976 × 3000\n",
              "     obs: 'cell_counts', 'n_genes', 'percent_mito', 'pass_count_filter', 'pass_mito_filter', 'cell_type', 'condition', 'database_id', 'figure', 'paper', 'sample_id', 'species', 'technology', 'tissue'\n",
              "     var: 'gene_id', 'gene_name', 'gene_counts', 'n_cells', 'pass_gene_filter', 'highly_variable', 'highly_variable_rank', 'means', 'variances', 'variances_norm'\n",
              "     uns: 'cell_type', 'condition', 'database_id', 'figure', 'paper', 'sample_id', 'species', 'technology', 'tissue', 'hvg',\n",
              " 'resultGSM3143601.dms': AnnData object with n_obs × n_vars = 11806 × 3000\n",
              "     obs: 'cell_counts', 'n_genes', 'percent_mito', 'pass_count_filter', 'pass_mito_filter', 'cell_type', 'condition', 'database_id', 'figure', 'paper', 'sample_id', 'species', 'technology', 'tissue'\n",
              "     var: 'gene_id', 'gene_name', 'gene_counts', 'n_cells', 'pass_gene_filter', 'highly_variable', 'highly_variable_rank', 'means', 'variances', 'variances_norm'\n",
              "     uns: 'cell_type', 'condition', 'database_id', 'figure', 'paper', 'sample_id', 'species', 'technology', 'tissue', 'hvg',\n",
              " 'resultGSM3148575.dms': AnnData object with n_obs × n_vars = 7724 × 3000\n",
              "     obs: 'cell_counts', 'n_genes', 'percent_mito', 'pass_count_filter', 'pass_mito_filter', 'cell_type', 'condition', 'database_id', 'figure', 'paper', 'sample_id', 'species', 'technology', 'tissue'\n",
              "     var: 'gene_id', 'gene_name', 'gene_counts', 'n_cells', 'pass_gene_filter', 'highly_variable', 'highly_variable_rank', 'means', 'variances', 'variances_norm'\n",
              "     uns: 'cell_type', 'condition', 'database_id', 'figure', 'paper', 'sample_id', 'species', 'technology', 'tissue', 'hvg',\n",
              " 'resultGSM3148576.dms': AnnData object with n_obs × n_vars = 7030 × 3000\n",
              "     obs: 'cell_counts', 'n_genes', 'percent_mito', 'pass_count_filter', 'pass_mito_filter', 'cell_type', 'condition', 'database_id', 'figure', 'paper', 'sample_id', 'species', 'technology', 'tissue'\n",
              "     var: 'gene_id', 'gene_name', 'gene_counts', 'n_cells', 'pass_gene_filter', 'highly_variable', 'highly_variable_rank', 'means', 'variances', 'variances_norm'\n",
              "     uns: 'cell_type', 'condition', 'database_id', 'figure', 'paper', 'sample_id', 'species', 'technology', 'tissue', 'hvg',\n",
              " 'resultGSM3148577.dms': AnnData object with n_obs × n_vars = 5447 × 3000\n",
              "     obs: 'cell_counts', 'n_genes', 'percent_mito', 'pass_count_filter', 'pass_mito_filter', 'cell_type', 'condition', 'database_id', 'figure', 'paper', 'sample_id', 'species', 'technology', 'tissue'\n",
              "     var: 'gene_id', 'gene_name', 'gene_counts', 'n_cells', 'pass_gene_filter', 'highly_variable', 'highly_variable_rank', 'means', 'variances', 'variances_norm'\n",
              "     uns: 'cell_type', 'condition', 'database_id', 'figure', 'paper', 'sample_id', 'species', 'technology', 'tissue', 'hvg',\n",
              " 'resultGSM3148578.dms': AnnData object with n_obs × n_vars = 5547 × 3000\n",
              "     obs: 'cell_counts', 'n_genes', 'percent_mito', 'pass_count_filter', 'pass_mito_filter', 'cell_type', 'condition', 'database_id', 'figure', 'paper', 'sample_id', 'species', 'technology', 'tissue'\n",
              "     var: 'gene_id', 'gene_name', 'gene_counts', 'n_cells', 'pass_gene_filter', 'highly_variable', 'highly_variable_rank', 'means', 'variances', 'variances_norm'\n",
              "     uns: 'cell_type', 'condition', 'database_id', 'figure', 'paper', 'sample_id', 'species', 'technology', 'tissue', 'hvg',\n",
              " 'resultGSM3148579.dms': AnnData object with n_obs × n_vars = 4908 × 3000\n",
              "     obs: 'cell_counts', 'n_genes', 'percent_mito', 'pass_count_filter', 'pass_mito_filter', 'cell_type', 'condition', 'database_id', 'figure', 'paper', 'sample_id', 'species', 'technology', 'tissue'\n",
              "     var: 'gene_id', 'gene_name', 'gene_counts', 'n_cells', 'pass_gene_filter', 'highly_variable', 'highly_variable_rank', 'means', 'variances', 'variances_norm'\n",
              "     uns: 'cell_type', 'condition', 'database_id', 'figure', 'paper', 'sample_id', 'species', 'technology', 'tissue', 'hvg',\n",
              " 'resultGSM3168248.dms': AnnData object with n_obs × n_vars = 4847 × 3000\n",
              "     obs: 'cell_counts', 'n_genes', 'percent_mito', 'pass_count_filter', 'pass_mito_filter', 'cell_type', 'condition', 'database_id', 'figure', 'paper', 'sample_id', 'species', 'technology', 'tissue'\n",
              "     var: 'gene_id', 'gene_name', 'gene_counts', 'n_cells', 'pass_gene_filter', 'highly_variable', 'highly_variable_rank', 'means', 'variances', 'variances_norm'\n",
              "     uns: 'cell_type', 'condition', 'database_id', 'figure', 'paper', 'sample_id', 'species', 'technology', 'tissue', 'hvg',\n",
              " 'resultGSM3169075.dms': AnnData object with n_obs × n_vars = 4477 × 3000\n",
              "     obs: 'cell_counts', 'n_genes', 'percent_mito', 'pass_count_filter', 'pass_mito_filter', 'cell_type', 'condition', 'database_id', 'figure', 'paper', 'sample_id', 'species', 'technology', 'tissue'\n",
              "     var: 'gene_id', 'gene_name', 'gene_counts', 'n_cells', 'pass_gene_filter', 'highly_variable', 'highly_variable_rank', 'means', 'variances', 'variances_norm'\n",
              "     uns: 'cell_type', 'condition', 'database_id', 'figure', 'paper', 'sample_id', 'species', 'technology', 'tissue', 'hvg',\n",
              " 'resultGSM3273570.dms': AnnData object with n_obs × n_vars = 4218 × 3000\n",
              "     obs: 'cell_counts', 'n_genes', 'percent_mito', 'pass_count_filter', 'pass_mito_filter', 'cell_type', 'condition', 'database_id', 'figure', 'paper', 'sample_id', 'species', 'technology', 'tissue'\n",
              "     var: 'gene_id', 'gene_name', 'gene_counts', 'n_cells', 'pass_gene_filter', 'highly_variable', 'highly_variable_rank', 'means', 'variances', 'variances_norm'\n",
              "     uns: 'cell_type', 'condition', 'database_id', 'figure', 'paper', 'sample_id', 'species', 'technology', 'tissue', 'hvg',\n",
              " 'resultGSM3302524_HNTYNBGX3.dms': AnnData object with n_obs × n_vars = 3978 × 3000\n",
              "     obs: 'cell_counts', 'n_genes', 'percent_mito', 'pass_count_filter', 'pass_mito_filter', 'cell_type', 'condition', 'database_id', 'figure', 'paper', 'sample_id', 'species', 'technology', 'tissue'\n",
              "     var: 'gene_id', 'gene_name', 'gene_counts', 'n_cells', 'pass_gene_filter', 'highly_variable', 'highly_variable_rank', 'means', 'variances', 'variances_norm'\n",
              "     uns: 'cell_type', 'condition', 'database_id', 'figure', 'paper', 'sample_id', 'species', 'technology', 'tissue', 'hvg',\n",
              " 'resultGSM3302524_HNV7CBGX3.dms': AnnData object with n_obs × n_vars = 3991 × 3000\n",
              "     obs: 'cell_counts', 'n_genes', 'percent_mito', 'pass_count_filter', 'pass_mito_filter', 'cell_type', 'condition', 'database_id', 'figure', 'paper', 'sample_id', 'species', 'technology', 'tissue'\n",
              "     var: 'gene_id', 'gene_name', 'gene_counts', 'n_cells', 'pass_gene_filter', 'highly_variable', 'highly_variable_rank', 'means', 'variances', 'variances_norm'\n",
              "     uns: 'cell_type', 'condition', 'database_id', 'figure', 'paper', 'sample_id', 'species', 'technology', 'tissue', 'hvg',\n",
              " 'resultGSM3302525_HNTYNBGX3.dms': AnnData object with n_obs × n_vars = 5938 × 3000\n",
              "     obs: 'cell_counts', 'n_genes', 'percent_mito', 'pass_count_filter', 'pass_mito_filter', 'cell_type', 'condition', 'database_id', 'figure', 'paper', 'sample_id', 'species', 'technology', 'tissue'\n",
              "     var: 'gene_id', 'gene_name', 'gene_counts', 'n_cells', 'pass_gene_filter', 'highly_variable', 'highly_variable_rank', 'means', 'variances', 'variances_norm'\n",
              "     uns: 'cell_type', 'condition', 'database_id', 'figure', 'paper', 'sample_id', 'species', 'technology', 'tissue', 'hvg',\n",
              " 'resultGSM3302525_HNV7CBGX3.dms': AnnData object with n_obs × n_vars = 5941 × 3000\n",
              "     obs: 'cell_counts', 'n_genes', 'percent_mito', 'pass_count_filter', 'pass_mito_filter', 'cell_type', 'condition', 'database_id', 'figure', 'paper', 'sample_id', 'species', 'technology', 'tissue'\n",
              "     var: 'gene_id', 'gene_name', 'gene_counts', 'n_cells', 'pass_gene_filter', 'highly_variable', 'highly_variable_rank', 'means', 'variances', 'variances_norm'\n",
              "     uns: 'cell_type', 'condition', 'database_id', 'figure', 'paper', 'sample_id', 'species', 'technology', 'tissue', 'hvg',\n",
              " 'resultGSM3309832.dms': AnnData object with n_obs × n_vars = 8354 × 3000\n",
              "     obs: 'cell_counts', 'n_genes', 'percent_mito', 'pass_count_filter', 'pass_mito_filter', 'cell_type', 'condition', 'database_id', 'figure', 'paper', 'sample_id', 'species', 'technology', 'tissue'\n",
              "     var: 'gene_id', 'gene_name', 'gene_counts', 'n_cells', 'pass_gene_filter', 'highly_variable', 'highly_variable_rank', 'means', 'variances', 'variances_norm'\n",
              "     uns: 'cell_type', 'condition', 'database_id', 'figure', 'paper', 'sample_id', 'species', 'technology', 'tissue', 'hvg',\n",
              " 'resultGSM3309833.dms': AnnData object with n_obs × n_vars = 2810 × 3000\n",
              "     obs: 'cell_counts', 'n_genes', 'percent_mito', 'pass_count_filter', 'pass_mito_filter', 'cell_type', 'condition', 'database_id', 'figure', 'paper', 'sample_id', 'species', 'technology', 'tissue'\n",
              "     var: 'gene_id', 'gene_name', 'gene_counts', 'n_cells', 'pass_gene_filter', 'highly_variable', 'highly_variable_rank', 'means', 'variances', 'variances_norm'\n",
              "     uns: 'cell_type', 'condition', 'database_id', 'figure', 'paper', 'sample_id', 'species', 'technology', 'tissue', 'hvg',\n",
              " 'resultGSM3309834.dms': AnnData object with n_obs × n_vars = 4803 × 3000\n",
              "     obs: 'cell_counts', 'n_genes', 'percent_mito', 'pass_count_filter', 'pass_mito_filter', 'cell_type', 'condition', 'database_id', 'figure', 'paper', 'sample_id', 'species', 'technology', 'tissue'\n",
              "     var: 'gene_id', 'gene_name', 'gene_counts', 'n_cells', 'pass_gene_filter', 'highly_variable', 'highly_variable_rank', 'means', 'variances', 'variances_norm'\n",
              "     uns: 'cell_type', 'condition', 'database_id', 'figure', 'paper', 'sample_id', 'species', 'technology', 'tissue', 'hvg',\n",
              " 'resultGSM3319032.dms': AnnData object with n_obs × n_vars = 7624 × 3000\n",
              "     obs: 'cell_counts', 'n_genes', 'percent_mito', 'pass_count_filter', 'pass_mito_filter', 'cell_type', 'condition', 'database_id', 'figure', 'paper', 'sample_id', 'species', 'technology', 'tissue'\n",
              "     var: 'gene_id', 'gene_name', 'gene_counts', 'n_cells', 'pass_gene_filter', 'highly_variable', 'highly_variable_rank', 'means', 'variances', 'variances_norm'\n",
              "     uns: 'cell_type', 'condition', 'database_id', 'figure', 'paper', 'sample_id', 'species', 'technology', 'tissue', 'hvg',\n",
              " 'resultGSM3319033.dms': AnnData object with n_obs × n_vars = 2423 × 3000\n",
              "     obs: 'cell_counts', 'n_genes', 'percent_mito', 'pass_count_filter', 'pass_mito_filter', 'cell_type', 'condition', 'database_id', 'figure', 'paper', 'sample_id', 'species', 'technology', 'tissue'\n",
              "     var: 'gene_id', 'gene_name', 'gene_counts', 'n_cells', 'pass_gene_filter', 'highly_variable', 'highly_variable_rank', 'means', 'variances', 'variances_norm'\n",
              "     uns: 'cell_type', 'condition', 'database_id', 'figure', 'paper', 'sample_id', 'species', 'technology', 'tissue', 'hvg',\n",
              " 'resultGSM3319034.dms': AnnData object with n_obs × n_vars = 4862 × 3000\n",
              "     obs: 'cell_counts', 'n_genes', 'percent_mito', 'pass_count_filter', 'pass_mito_filter', 'cell_type', 'condition', 'database_id', 'figure', 'paper', 'sample_id', 'species', 'technology', 'tissue'\n",
              "     var: 'gene_id', 'gene_name', 'gene_counts', 'n_cells', 'pass_gene_filter', 'highly_variable', 'highly_variable_rank', 'means', 'variances', 'variances_norm'\n",
              "     uns: 'cell_type', 'condition', 'database_id', 'figure', 'paper', 'sample_id', 'species', 'technology', 'tissue', 'hvg',\n",
              " 'resultGSM3319035.dms': AnnData object with n_obs × n_vars = 4561 × 3000\n",
              "     obs: 'cell_counts', 'n_genes', 'percent_mito', 'pass_count_filter', 'pass_mito_filter', 'cell_type', 'condition', 'database_id', 'figure', 'paper', 'sample_id', 'species', 'technology', 'tissue'\n",
              "     var: 'gene_id', 'gene_name', 'gene_counts', 'n_cells', 'pass_gene_filter', 'highly_variable', 'highly_variable_rank', 'means', 'variances', 'variances_norm'\n",
              "     uns: 'cell_type', 'condition', 'database_id', 'figure', 'paper', 'sample_id', 'species', 'technology', 'tissue', 'hvg',\n",
              " 'resultGSM3319036.dms': AnnData object with n_obs × n_vars = 3887 × 3000\n",
              "     obs: 'cell_counts', 'n_genes', 'percent_mito', 'pass_count_filter', 'pass_mito_filter', 'cell_type', 'condition', 'database_id', 'figure', 'paper', 'sample_id', 'species', 'technology', 'tissue'\n",
              "     var: 'gene_id', 'gene_name', 'gene_counts', 'n_cells', 'pass_gene_filter', 'highly_variable', 'highly_variable_rank', 'means', 'variances', 'variances_norm'\n",
              "     uns: 'cell_type', 'condition', 'database_id', 'figure', 'paper', 'sample_id', 'species', 'technology', 'tissue', 'hvg',\n",
              " 'resultGSM3319037.dms': AnnData object with n_obs × n_vars = 2460 × 3000\n",
              "     obs: 'cell_counts', 'n_genes', 'percent_mito', 'pass_count_filter', 'pass_mito_filter', 'cell_type', 'condition', 'database_id', 'figure', 'paper', 'sample_id', 'species', 'technology', 'tissue'\n",
              "     var: 'gene_id', 'gene_name', 'gene_counts', 'n_cells', 'pass_gene_filter', 'highly_variable', 'highly_variable_rank', 'means', 'variances', 'variances_norm'\n",
              "     uns: 'cell_type', 'condition', 'database_id', 'figure', 'paper', 'sample_id', 'species', 'technology', 'tissue', 'hvg',\n",
              " 'resultGSM3319038.dms': AnnData object with n_obs × n_vars = 5074 × 3000\n",
              "     obs: 'cell_counts', 'n_genes', 'percent_mito', 'pass_count_filter', 'pass_mito_filter', 'cell_type', 'condition', 'database_id', 'figure', 'paper', 'sample_id', 'species', 'technology', 'tissue'\n",
              "     var: 'gene_id', 'gene_name', 'gene_counts', 'n_cells', 'pass_gene_filter', 'highly_variable', 'highly_variable_rank', 'means', 'variances', 'variances_norm'\n",
              "     uns: 'cell_type', 'condition', 'database_id', 'figure', 'paper', 'sample_id', 'species', 'technology', 'tissue', 'hvg',\n",
              " 'resultGSM3319039.dms': AnnData object with n_obs × n_vars = 3862 × 3000\n",
              "     obs: 'cell_counts', 'n_genes', 'percent_mito', 'pass_count_filter', 'pass_mito_filter', 'cell_type', 'condition', 'database_id', 'figure', 'paper', 'sample_id', 'species', 'technology', 'tissue'\n",
              "     var: 'gene_id', 'gene_name', 'gene_counts', 'n_cells', 'pass_gene_filter', 'highly_variable', 'highly_variable_rank', 'means', 'variances', 'variances_norm'\n",
              "     uns: 'cell_type', 'condition', 'database_id', 'figure', 'paper', 'sample_id', 'species', 'technology', 'tissue', 'hvg',\n",
              " 'resultGSM3319040.dms': AnnData object with n_obs × n_vars = 1259 × 3000\n",
              "     obs: 'cell_counts', 'n_genes', 'percent_mito', 'pass_count_filter', 'pass_mito_filter', 'cell_type', 'condition', 'database_id', 'figure', 'paper', 'sample_id', 'species', 'technology', 'tissue'\n",
              "     var: 'gene_id', 'gene_name', 'gene_counts', 'n_cells', 'pass_gene_filter', 'highly_variable', 'highly_variable_rank', 'means', 'variances', 'variances_norm'\n",
              "     uns: 'cell_type', 'condition', 'database_id', 'figure', 'paper', 'sample_id', 'species', 'technology', 'tissue', 'hvg',\n",
              " 'resultGSM3319041.dms': AnnData object with n_obs × n_vars = 2196 × 3000\n",
              "     obs: 'cell_counts', 'n_genes', 'percent_mito', 'pass_count_filter', 'pass_mito_filter', 'cell_type', 'condition', 'database_id', 'figure', 'paper', 'sample_id', 'species', 'technology', 'tissue'\n",
              "     var: 'gene_id', 'gene_name', 'gene_counts', 'n_cells', 'pass_gene_filter', 'highly_variable', 'highly_variable_rank', 'means', 'variances', 'variances_norm'\n",
              "     uns: 'cell_type', 'condition', 'database_id', 'figure', 'paper', 'sample_id', 'species', 'technology', 'tissue', 'hvg',\n",
              " 'resultGSM3319042.dms': AnnData object with n_obs × n_vars = 1687 × 3000\n",
              "     obs: 'cell_counts', 'n_genes', 'percent_mito', 'pass_count_filter', 'pass_mito_filter', 'cell_type', 'condition', 'database_id', 'figure', 'paper', 'sample_id', 'species', 'technology', 'tissue'\n",
              "     var: 'gene_id', 'gene_name', 'gene_counts', 'n_cells', 'pass_gene_filter', 'highly_variable', 'highly_variable_rank', 'means', 'variances', 'variances_norm'\n",
              "     uns: 'cell_type', 'condition', 'database_id', 'figure', 'paper', 'sample_id', 'species', 'technology', 'tissue', 'hvg',\n",
              " 'resultGSM3319043.dms': AnnData object with n_obs × n_vars = 7103 × 3000\n",
              "     obs: 'cell_counts', 'n_genes', 'percent_mito', 'pass_count_filter', 'pass_mito_filter', 'cell_type', 'condition', 'database_id', 'figure', 'paper', 'sample_id', 'species', 'technology', 'tissue'\n",
              "     var: 'gene_id', 'gene_name', 'gene_counts', 'n_cells', 'pass_gene_filter', 'highly_variable', 'highly_variable_rank', 'means', 'variances', 'variances_norm'\n",
              "     uns: 'cell_type', 'condition', 'database_id', 'figure', 'paper', 'sample_id', 'species', 'technology', 'tissue', 'hvg',\n",
              " 'resultGSM3319044.dms': AnnData object with n_obs × n_vars = 5832 × 3000\n",
              "     obs: 'cell_counts', 'n_genes', 'percent_mito', 'pass_count_filter', 'pass_mito_filter', 'cell_type', 'condition', 'database_id', 'figure', 'paper', 'sample_id', 'species', 'technology', 'tissue'\n",
              "     var: 'gene_id', 'gene_name', 'gene_counts', 'n_cells', 'pass_gene_filter', 'highly_variable', 'highly_variable_rank', 'means', 'variances', 'variances_norm'\n",
              "     uns: 'cell_type', 'condition', 'database_id', 'figure', 'paper', 'sample_id', 'species', 'technology', 'tissue', 'hvg',\n",
              " 'resultGSM3319045.dms': AnnData object with n_obs × n_vars = 7811 × 3000\n",
              "     obs: 'cell_counts', 'n_genes', 'percent_mito', 'pass_count_filter', 'pass_mito_filter', 'cell_type', 'condition', 'database_id', 'figure', 'paper', 'sample_id', 'species', 'technology', 'tissue'\n",
              "     var: 'gene_id', 'gene_name', 'gene_counts', 'n_cells', 'pass_gene_filter', 'highly_variable', 'highly_variable_rank', 'means', 'variances', 'variances_norm'\n",
              "     uns: 'cell_type', 'condition', 'database_id', 'figure', 'paper', 'sample_id', 'species', 'technology', 'tissue', 'hvg',\n",
              " 'resultGSM3319046.dms': AnnData object with n_obs × n_vars = 912 × 3000\n",
              "     obs: 'cell_counts', 'n_genes', 'percent_mito', 'pass_count_filter', 'pass_mito_filter', 'cell_type', 'condition', 'database_id', 'figure', 'paper', 'sample_id', 'species', 'technology', 'tissue'\n",
              "     var: 'gene_id', 'gene_name', 'gene_counts', 'n_cells', 'pass_gene_filter', 'highly_variable', 'highly_variable_rank', 'means', 'variances', 'variances_norm'\n",
              "     uns: 'cell_type', 'condition', 'database_id', 'figure', 'paper', 'sample_id', 'species', 'technology', 'tissue', 'hvg',\n",
              " 'resultGSM3319047.dms': AnnData object with n_obs × n_vars = 1395 × 9545\n",
              "     obs: 'cell_counts', 'n_genes', 'percent_mito', 'pass_count_filter', 'pass_mito_filter', 'cell_type', 'condition', 'database_id', 'figure', 'paper', 'sample_id', 'species', 'technology', 'tissue'\n",
              "     var: 'gene_id', 'gene_name', 'gene_counts', 'n_cells', 'pass_gene_filter'\n",
              "     uns: 'cell_type', 'condition', 'database_id', 'figure', 'paper', 'sample_id', 'species', 'technology', 'tissue',\n",
              " 'resultGSM3375767': AnnData object with n_obs × n_vars = 1996 × 3000\n",
              "     obs: 'cell_counts', 'n_genes', 'percent_mito', 'pass_count_filter', 'pass_mito_filter', 'cell_type', 'condition', 'database_id', 'figure', 'paper', 'sample_id', 'species', 'technology', 'tissue'\n",
              "     var: 'gene_id', 'gene_name', 'gene_counts', 'n_cells', 'pass_gene_filter', 'highly_variable', 'highly_variable_rank', 'means', 'variances', 'variances_norm'\n",
              "     uns: 'cell_type', 'condition', 'database_id', 'figure', 'paper', 'sample_id', 'species', 'technology', 'tissue', 'hvg',\n",
              " 'resultGSM3378054': AnnData object with n_obs × n_vars = 2904 × 3000\n",
              "     obs: 'cell_counts', 'n_genes', 'percent_mito', 'pass_count_filter', 'pass_mito_filter', 'cell_type', 'condition', 'database_id', 'figure', 'paper', 'sample_id', 'species', 'technology', 'tissue'\n",
              "     var: 'gene_id', 'gene_name', 'gene_counts', 'n_cells', 'pass_gene_filter', 'highly_variable', 'highly_variable_rank', 'means', 'variances', 'variances_norm'\n",
              "     uns: 'cell_type', 'condition', 'database_id', 'figure', 'paper', 'sample_id', 'species', 'technology', 'tissue', 'hvg',\n",
              " 'resultGSM3378055': AnnData object with n_obs × n_vars = 2942 × 3000\n",
              "     obs: 'cell_counts', 'n_genes', 'percent_mito', 'pass_count_filter', 'pass_mito_filter', 'cell_type', 'condition', 'database_id', 'figure', 'paper', 'sample_id', 'species', 'technology', 'tissue'\n",
              "     var: 'gene_id', 'gene_name', 'gene_counts', 'n_cells', 'pass_gene_filter', 'highly_variable', 'highly_variable_rank', 'means', 'variances', 'variances_norm'\n",
              "     uns: 'cell_type', 'condition', 'database_id', 'figure', 'paper', 'sample_id', 'species', 'technology', 'tissue', 'hvg',\n",
              " 'resultGSM3378056.dms': AnnData object with n_obs × n_vars = 2310 × 3000\n",
              "     obs: 'cell_counts', 'n_genes', 'percent_mito', 'pass_count_filter', 'pass_mito_filter', 'cell_type', 'condition', 'database_id', 'figure', 'paper', 'sample_id', 'species', 'technology', 'tissue'\n",
              "     var: 'gene_id', 'gene_name', 'gene_counts', 'n_cells', 'pass_gene_filter', 'highly_variable', 'highly_variable_rank', 'means', 'variances', 'variances_norm'\n",
              "     uns: 'cell_type', 'condition', 'database_id', 'figure', 'paper', 'sample_id', 'species', 'technology', 'tissue', 'hvg',\n",
              " 'resultGSM3378057': AnnData object with n_obs × n_vars = 2821 × 3000\n",
              "     obs: 'cell_counts', 'n_genes', 'percent_mito', 'pass_count_filter', 'pass_mito_filter', 'cell_type', 'condition', 'database_id', 'figure', 'paper', 'sample_id', 'species', 'technology', 'tissue'\n",
              "     var: 'gene_id', 'gene_name', 'gene_counts', 'n_cells', 'pass_gene_filter', 'highly_variable', 'highly_variable_rank', 'means', 'variances', 'variances_norm'\n",
              "     uns: 'cell_type', 'condition', 'database_id', 'figure', 'paper', 'sample_id', 'species', 'technology', 'tissue', 'hvg',\n",
              " 'resultGSM3378058': AnnData object with n_obs × n_vars = 2858 × 3000\n",
              "     obs: 'cell_counts', 'n_genes', 'percent_mito', 'pass_count_filter', 'pass_mito_filter', 'cell_type', 'condition', 'database_id', 'figure', 'paper', 'sample_id', 'species', 'technology', 'tissue'\n",
              "     var: 'gene_id', 'gene_name', 'gene_counts', 'n_cells', 'pass_gene_filter', 'highly_variable', 'highly_variable_rank', 'means', 'variances', 'variances_norm'\n",
              "     uns: 'cell_type', 'condition', 'database_id', 'figure', 'paper', 'sample_id', 'species', 'technology', 'tissue', 'hvg',\n",
              " 'resultGSM3378059': AnnData object with n_obs × n_vars = 4804 × 3000\n",
              "     obs: 'cell_counts', 'n_genes', 'percent_mito', 'pass_count_filter', 'pass_mito_filter', 'cell_type', 'condition', 'database_id', 'figure', 'paper', 'sample_id', 'species', 'technology', 'tissue'\n",
              "     var: 'gene_id', 'gene_name', 'gene_counts', 'n_cells', 'pass_gene_filter', 'highly_variable', 'highly_variable_rank', 'means', 'variances', 'variances_norm'\n",
              "     uns: 'cell_type', 'condition', 'database_id', 'figure', 'paper', 'sample_id', 'species', 'technology', 'tissue', 'hvg',\n",
              " 'resultGSM3396161': AnnData object with n_obs × n_vars = 9956 × 3000\n",
              "     obs: 'cell_counts', 'n_genes', 'percent_mito', 'pass_count_filter', 'pass_mito_filter', 'cell_type', 'condition', 'database_id', 'figure', 'paper', 'sample_id', 'species', 'technology', 'tissue'\n",
              "     var: 'gene_id', 'gene_name', 'gene_counts', 'n_cells', 'pass_gene_filter', 'highly_variable', 'highly_variable_rank', 'means', 'variances', 'variances_norm'\n",
              "     uns: 'cell_type', 'condition', 'database_id', 'figure', 'paper', 'sample_id', 'species', 'technology', 'tissue', 'hvg',\n",
              " 'resultGSM3396162': AnnData object with n_obs × n_vars = 7726 × 3000\n",
              "     obs: 'cell_counts', 'n_genes', 'percent_mito', 'pass_count_filter', 'pass_mito_filter', 'cell_type', 'condition', 'database_id', 'figure', 'paper', 'sample_id', 'species', 'technology', 'tissue'\n",
              "     var: 'gene_id', 'gene_name', 'gene_counts', 'n_cells', 'pass_gene_filter', 'highly_variable', 'highly_variable_rank', 'means', 'variances', 'variances_norm'\n",
              "     uns: 'cell_type', 'condition', 'database_id', 'figure', 'paper', 'sample_id', 'species', 'technology', 'tissue', 'hvg',\n",
              " 'resultGSM3396163': AnnData object with n_obs × n_vars = 9891 × 3000\n",
              "     obs: 'cell_counts', 'n_genes', 'percent_mito', 'pass_count_filter', 'pass_mito_filter', 'cell_type', 'condition', 'database_id', 'figure', 'paper', 'sample_id', 'species', 'technology', 'tissue'\n",
              "     var: 'gene_id', 'gene_name', 'gene_counts', 'n_cells', 'pass_gene_filter', 'highly_variable', 'highly_variable_rank', 'means', 'variances', 'variances_norm'\n",
              "     uns: 'cell_type', 'condition', 'database_id', 'figure', 'paper', 'sample_id', 'species', 'technology', 'tissue', 'hvg',\n",
              " 'resultGSM3396164': AnnData object with n_obs × n_vars = 6864 × 3000\n",
              "     obs: 'cell_counts', 'n_genes', 'percent_mito', 'pass_count_filter', 'pass_mito_filter', 'cell_type', 'condition', 'database_id', 'figure', 'paper', 'sample_id', 'species', 'technology', 'tissue'\n",
              "     var: 'gene_id', 'gene_name', 'gene_counts', 'n_cells', 'pass_gene_filter', 'highly_variable', 'highly_variable_rank', 'means', 'variances', 'variances_norm'\n",
              "     uns: 'cell_type', 'condition', 'database_id', 'figure', 'paper', 'sample_id', 'species', 'technology', 'tissue', 'hvg',\n",
              " 'resultGSM3396165.dms': AnnData object with n_obs × n_vars = 7915 × 3000\n",
              "     obs: 'cell_counts', 'n_genes', 'percent_mito', 'pass_count_filter', 'pass_mito_filter', 'cell_type', 'condition', 'database_id', 'figure', 'paper', 'sample_id', 'species', 'technology', 'tissue'\n",
              "     var: 'gene_id', 'gene_name', 'gene_counts', 'n_cells', 'pass_gene_filter', 'highly_variable', 'highly_variable_rank', 'means', 'variances', 'variances_norm'\n",
              "     uns: 'cell_type', 'condition', 'database_id', 'figure', 'paper', 'sample_id', 'species', 'technology', 'tissue', 'hvg',\n",
              " 'resultGSM3396166.dms': AnnData object with n_obs × n_vars = 6380 × 3000\n",
              "     obs: 'cell_counts', 'n_genes', 'percent_mito', 'pass_count_filter', 'pass_mito_filter', 'cell_type', 'condition', 'database_id', 'figure', 'paper', 'sample_id', 'species', 'technology', 'tissue'\n",
              "     var: 'gene_id', 'gene_name', 'gene_counts', 'n_cells', 'pass_gene_filter', 'highly_variable', 'highly_variable_rank', 'means', 'variances', 'variances_norm'\n",
              "     uns: 'cell_type', 'condition', 'database_id', 'figure', 'paper', 'sample_id', 'species', 'technology', 'tissue', 'hvg',\n",
              " 'resultGSM3396167.dms': AnnData object with n_obs × n_vars = 7138 × 3000\n",
              "     obs: 'cell_counts', 'n_genes', 'percent_mito', 'pass_count_filter', 'pass_mito_filter', 'cell_type', 'condition', 'database_id', 'figure', 'paper', 'sample_id', 'species', 'technology', 'tissue'\n",
              "     var: 'gene_id', 'gene_name', 'gene_counts', 'n_cells', 'pass_gene_filter', 'highly_variable', 'highly_variable_rank', 'means', 'variances', 'variances_norm'\n",
              "     uns: 'cell_type', 'condition', 'database_id', 'figure', 'paper', 'sample_id', 'species', 'technology', 'tissue', 'hvg',\n",
              " 'resultGSM3396168.dms': AnnData object with n_obs × n_vars = 6333 × 3000\n",
              "     obs: 'cell_counts', 'n_genes', 'percent_mito', 'pass_count_filter', 'pass_mito_filter', 'cell_type', 'condition', 'database_id', 'figure', 'paper', 'sample_id', 'species', 'technology', 'tissue'\n",
              "     var: 'gene_id', 'gene_name', 'gene_counts', 'n_cells', 'pass_gene_filter', 'highly_variable', 'highly_variable_rank', 'means', 'variances', 'variances_norm'\n",
              "     uns: 'cell_type', 'condition', 'database_id', 'figure', 'paper', 'sample_id', 'species', 'technology', 'tissue', 'hvg',\n",
              " 'resultGSM3396169': AnnData object with n_obs × n_vars = 6357 × 3000\n",
              "     obs: 'cell_counts', 'n_genes', 'percent_mito', 'pass_count_filter', 'pass_mito_filter', 'cell_type', 'condition', 'database_id', 'figure', 'paper', 'sample_id', 'species', 'technology', 'tissue'\n",
              "     var: 'gene_id', 'gene_name', 'gene_counts', 'n_cells', 'pass_gene_filter', 'highly_variable', 'highly_variable_rank', 'means', 'variances', 'variances_norm'\n",
              "     uns: 'cell_type', 'condition', 'database_id', 'figure', 'paper', 'sample_id', 'species', 'technology', 'tissue', 'hvg',\n",
              " 'resultGSM3396170': AnnData object with n_obs × n_vars = 6868 × 3000\n",
              "     obs: 'cell_counts', 'n_genes', 'percent_mito', 'pass_count_filter', 'pass_mito_filter', 'cell_type', 'condition', 'database_id', 'figure', 'paper', 'sample_id', 'species', 'technology', 'tissue'\n",
              "     var: 'gene_id', 'gene_name', 'gene_counts', 'n_cells', 'pass_gene_filter', 'highly_variable', 'highly_variable_rank', 'means', 'variances', 'variances_norm'\n",
              "     uns: 'cell_type', 'condition', 'database_id', 'figure', 'paper', 'sample_id', 'species', 'technology', 'tissue', 'hvg',\n",
              " 'resultGSM3396171': AnnData object with n_obs × n_vars = 8775 × 3000\n",
              "     obs: 'cell_counts', 'n_genes', 'percent_mito', 'pass_count_filter', 'pass_mito_filter', 'cell_type', 'condition', 'database_id', 'figure', 'paper', 'sample_id', 'species', 'technology', 'tissue'\n",
              "     var: 'gene_id', 'gene_name', 'gene_counts', 'n_cells', 'pass_gene_filter', 'highly_variable', 'highly_variable_rank', 'means', 'variances', 'variances_norm'\n",
              "     uns: 'cell_type', 'condition', 'database_id', 'figure', 'paper', 'sample_id', 'species', 'technology', 'tissue', 'hvg',\n",
              " 'resultGSM3396172': AnnData object with n_obs × n_vars = 5936 × 3000\n",
              "     obs: 'cell_counts', 'n_genes', 'percent_mito', 'pass_count_filter', 'pass_mito_filter', 'cell_type', 'condition', 'database_id', 'figure', 'paper', 'sample_id', 'species', 'technology', 'tissue'\n",
              "     var: 'gene_id', 'gene_name', 'gene_counts', 'n_cells', 'pass_gene_filter', 'highly_variable', 'highly_variable_rank', 'means', 'variances', 'variances_norm'\n",
              "     uns: 'cell_type', 'condition', 'database_id', 'figure', 'paper', 'sample_id', 'species', 'technology', 'tissue', 'hvg',\n",
              " 'resultGSM3396173': AnnData object with n_obs × n_vars = 7309 × 3000\n",
              "     obs: 'cell_counts', 'n_genes', 'percent_mito', 'pass_count_filter', 'pass_mito_filter', 'cell_type', 'condition', 'database_id', 'figure', 'paper', 'sample_id', 'species', 'technology', 'tissue'\n",
              "     var: 'gene_id', 'gene_name', 'gene_counts', 'n_cells', 'pass_gene_filter', 'highly_variable', 'highly_variable_rank', 'means', 'variances', 'variances_norm'\n",
              "     uns: 'cell_type', 'condition', 'database_id', 'figure', 'paper', 'sample_id', 'species', 'technology', 'tissue', 'hvg',\n",
              " 'resultGSM3396174': AnnData object with n_obs × n_vars = 7472 × 3000\n",
              "     obs: 'cell_counts', 'n_genes', 'percent_mito', 'pass_count_filter', 'pass_mito_filter', 'cell_type', 'condition', 'database_id', 'figure', 'paper', 'sample_id', 'species', 'technology', 'tissue'\n",
              "     var: 'gene_id', 'gene_name', 'gene_counts', 'n_cells', 'pass_gene_filter', 'highly_variable', 'highly_variable_rank', 'means', 'variances', 'variances_norm'\n",
              "     uns: 'cell_type', 'condition', 'database_id', 'figure', 'paper', 'sample_id', 'species', 'technology', 'tissue', 'hvg',\n",
              " 'resultGSM3396175': AnnData object with n_obs × n_vars = 7717 × 3000\n",
              "     obs: 'cell_counts', 'n_genes', 'percent_mito', 'pass_count_filter', 'pass_mito_filter', 'cell_type', 'condition', 'database_id', 'figure', 'paper', 'sample_id', 'species', 'technology', 'tissue'\n",
              "     var: 'gene_id', 'gene_name', 'gene_counts', 'n_cells', 'pass_gene_filter', 'highly_variable', 'highly_variable_rank', 'means', 'variances', 'variances_norm'\n",
              "     uns: 'cell_type', 'condition', 'database_id', 'figure', 'paper', 'sample_id', 'species', 'technology', 'tissue', 'hvg',\n",
              " 'resultGSM3396176': AnnData object with n_obs × n_vars = 6990 × 3000\n",
              "     obs: 'cell_counts', 'n_genes', 'percent_mito', 'pass_count_filter', 'pass_mito_filter', 'cell_type', 'condition', 'database_id', 'figure', 'paper', 'sample_id', 'species', 'technology', 'tissue'\n",
              "     var: 'gene_id', 'gene_name', 'gene_counts', 'n_cells', 'pass_gene_filter', 'highly_variable', 'highly_variable_rank', 'means', 'variances', 'variances_norm'\n",
              "     uns: 'cell_type', 'condition', 'database_id', 'figure', 'paper', 'sample_id', 'species', 'technology', 'tissue', 'hvg',\n",
              " 'resultGSM3396177': AnnData object with n_obs × n_vars = 3866 × 3000\n",
              "     obs: 'cell_counts', 'n_genes', 'percent_mito', 'pass_count_filter', 'pass_mito_filter', 'cell_type', 'condition', 'database_id', 'figure', 'paper', 'sample_id', 'species', 'technology', 'tissue'\n",
              "     var: 'gene_id', 'gene_name', 'gene_counts', 'n_cells', 'pass_gene_filter', 'highly_variable', 'highly_variable_rank', 'means', 'variances', 'variances_norm'\n",
              "     uns: 'cell_type', 'condition', 'database_id', 'figure', 'paper', 'sample_id', 'species', 'technology', 'tissue', 'hvg',\n",
              " 'resultGSM3396178': AnnData object with n_obs × n_vars = 9943 × 3000\n",
              "     obs: 'cell_counts', 'n_genes', 'percent_mito', 'pass_count_filter', 'pass_mito_filter', 'cell_type', 'condition', 'database_id', 'figure', 'paper', 'sample_id', 'species', 'technology', 'tissue'\n",
              "     var: 'gene_id', 'gene_name', 'gene_counts', 'n_cells', 'pass_gene_filter', 'highly_variable', 'highly_variable_rank', 'means', 'variances', 'variances_norm'\n",
              "     uns: 'cell_type', 'condition', 'database_id', 'figure', 'paper', 'sample_id', 'species', 'technology', 'tissue', 'hvg',\n",
              " 'resultGSM3396179': AnnData object with n_obs × n_vars = 7448 × 3000\n",
              "     obs: 'cell_counts', 'n_genes', 'percent_mito', 'pass_count_filter', 'pass_mito_filter', 'cell_type', 'condition', 'database_id', 'figure', 'paper', 'sample_id', 'species', 'technology', 'tissue'\n",
              "     var: 'gene_id', 'gene_name', 'gene_counts', 'n_cells', 'pass_gene_filter', 'highly_variable', 'highly_variable_rank', 'means', 'variances', 'variances_norm'\n",
              "     uns: 'cell_type', 'condition', 'database_id', 'figure', 'paper', 'sample_id', 'species', 'technology', 'tissue', 'hvg',\n",
              " 'resultGSM3396180.dms': AnnData object with n_obs × n_vars = 6927 × 3000\n",
              "     obs: 'cell_counts', 'n_genes', 'percent_mito', 'pass_count_filter', 'pass_mito_filter', 'cell_type', 'condition', 'database_id', 'figure', 'paper', 'sample_id', 'species', 'technology', 'tissue'\n",
              "     var: 'gene_id', 'gene_name', 'gene_counts', 'n_cells', 'pass_gene_filter', 'highly_variable', 'highly_variable_rank', 'means', 'variances', 'variances_norm'\n",
              "     uns: 'cell_type', 'condition', 'database_id', 'figure', 'paper', 'sample_id', 'species', 'technology', 'tissue', 'hvg',\n",
              " 'resultGSM3396181.dms': AnnData object with n_obs × n_vars = 7403 × 3000\n",
              "     obs: 'cell_counts', 'n_genes', 'percent_mito', 'pass_count_filter', 'pass_mito_filter', 'cell_type', 'condition', 'database_id', 'figure', 'paper', 'sample_id', 'species', 'technology', 'tissue'\n",
              "     var: 'gene_id', 'gene_name', 'gene_counts', 'n_cells', 'pass_gene_filter', 'highly_variable', 'highly_variable_rank', 'means', 'variances', 'variances_norm'\n",
              "     uns: 'cell_type', 'condition', 'database_id', 'figure', 'paper', 'sample_id', 'species', 'technology', 'tissue', 'hvg',\n",
              " 'resultGSM3396182.dms': AnnData object with n_obs × n_vars = 7976 × 3000\n",
              "     obs: 'cell_counts', 'n_genes', 'percent_mito', 'pass_count_filter', 'pass_mito_filter', 'cell_type', 'condition', 'database_id', 'figure', 'paper', 'sample_id', 'species', 'technology', 'tissue'\n",
              "     var: 'gene_id', 'gene_name', 'gene_counts', 'n_cells', 'pass_gene_filter', 'highly_variable', 'highly_variable_rank', 'means', 'variances', 'variances_norm'\n",
              "     uns: 'cell_type', 'condition', 'database_id', 'figure', 'paper', 'sample_id', 'species', 'technology', 'tissue', 'hvg',\n",
              " 'resultGSM3396183.dms': AnnData object with n_obs × n_vars = 7403 × 3000\n",
              "     obs: 'cell_counts', 'n_genes', 'percent_mito', 'pass_count_filter', 'pass_mito_filter', 'cell_type', 'condition', 'database_id', 'figure', 'paper', 'sample_id', 'species', 'technology', 'tissue'\n",
              "     var: 'gene_id', 'gene_name', 'gene_counts', 'n_cells', 'pass_gene_filter', 'highly_variable', 'highly_variable_rank', 'means', 'variances', 'variances_norm'\n",
              "     uns: 'cell_type', 'condition', 'database_id', 'figure', 'paper', 'sample_id', 'species', 'technology', 'tissue', 'hvg',\n",
              " 'resultGSM3396184.dms': AnnData object with n_obs × n_vars = 6838 × 3000\n",
              "     obs: 'cell_counts', 'n_genes', 'percent_mito', 'pass_count_filter', 'pass_mito_filter', 'cell_type', 'condition', 'database_id', 'figure', 'paper', 'sample_id', 'species', 'technology', 'tissue'\n",
              "     var: 'gene_id', 'gene_name', 'gene_counts', 'n_cells', 'pass_gene_filter', 'highly_variable', 'highly_variable_rank', 'means', 'variances', 'variances_norm'\n",
              "     uns: 'cell_type', 'condition', 'database_id', 'figure', 'paper', 'sample_id', 'species', 'technology', 'tissue', 'hvg',\n",
              " 'resultGSM3396185.dms': AnnData object with n_obs × n_vars = 5383 × 3000\n",
              "     obs: 'cell_counts', 'n_genes', 'percent_mito', 'pass_count_filter', 'pass_mito_filter', 'cell_type', 'condition', 'database_id', 'figure', 'paper', 'sample_id', 'species', 'technology', 'tissue'\n",
              "     var: 'gene_id', 'gene_name', 'gene_counts', 'n_cells', 'pass_gene_filter', 'highly_variable', 'highly_variable_rank', 'means', 'variances', 'variances_norm'\n",
              "     uns: 'cell_type', 'condition', 'database_id', 'figure', 'paper', 'sample_id', 'species', 'technology', 'tissue', 'hvg',\n",
              " 'resultGSM3430548': AnnData object with n_obs × n_vars = 2471 × 3000\n",
              "     obs: 'cell_counts', 'n_genes', 'percent_mito', 'pass_count_filter', 'pass_mito_filter', 'cell_type', 'condition', 'database_id', 'figure', 'paper', 'sample_id', 'species', 'technology', 'tissue'\n",
              "     var: 'gene_id', 'gene_name', 'gene_counts', 'n_cells', 'pass_gene_filter', 'highly_variable', 'highly_variable_rank', 'means', 'variances', 'variances_norm'\n",
              "     uns: 'cell_type', 'condition', 'database_id', 'figure', 'paper', 'sample_id', 'species', 'technology', 'tissue', 'hvg',\n",
              " 'resultGSM3430548.dms': AnnData object with n_obs × n_vars = 2471 × 3000\n",
              "     obs: 'cell_counts', 'n_genes', 'percent_mito', 'pass_count_filter', 'pass_mito_filter', 'cell_type', 'condition', 'database_id', 'figure', 'paper', 'sample_id', 'species', 'technology', 'tissue'\n",
              "     var: 'gene_id', 'gene_name', 'gene_counts', 'n_cells', 'pass_gene_filter', 'highly_variable', 'highly_variable_rank', 'means', 'variances', 'variances_norm'\n",
              "     uns: 'cell_type', 'condition', 'database_id', 'figure', 'paper', 'sample_id', 'species', 'technology', 'tissue', 'hvg',\n",
              " 'resultGSM3430549.dms': AnnData object with n_obs × n_vars = 1386 × 3000\n",
              "     obs: 'cell_counts', 'n_genes', 'percent_mito', 'pass_count_filter', 'pass_mito_filter', 'cell_type', 'condition', 'database_id', 'figure', 'paper', 'sample_id', 'species', 'technology', 'tissue'\n",
              "     var: 'gene_id', 'gene_name', 'gene_counts', 'n_cells', 'pass_gene_filter', 'highly_variable', 'highly_variable_rank', 'means', 'variances', 'variances_norm'\n",
              "     uns: 'cell_type', 'condition', 'database_id', 'figure', 'paper', 'sample_id', 'species', 'technology', 'tissue', 'hvg',\n",
              " 'resultGSM3439913.dms': AnnData object with n_obs × n_vars = 1857 × 3000\n",
              "     obs: 'cell_counts', 'n_genes', 'percent_mito', 'pass_count_filter', 'pass_mito_filter', 'cell_type', 'condition', 'database_id', 'figure', 'paper', 'sample_id', 'species', 'technology', 'tissue'\n",
              "     var: 'gene_id', 'gene_name', 'gene_counts', 'n_cells', 'pass_gene_filter', 'highly_variable', 'highly_variable_rank', 'means', 'variances', 'variances_norm'\n",
              "     uns: 'cell_type', 'condition', 'database_id', 'figure', 'paper', 'sample_id', 'species', 'technology', 'tissue', 'hvg',\n",
              " 'resultGSM3439914.dms': AnnData object with n_obs × n_vars = 2853 × 3000\n",
              "     obs: 'cell_counts', 'n_genes', 'percent_mito', 'pass_count_filter', 'pass_mito_filter', 'cell_type', 'condition', 'database_id', 'figure', 'paper', 'sample_id', 'species', 'technology', 'tissue'\n",
              "     var: 'gene_id', 'gene_name', 'gene_counts', 'n_cells', 'pass_gene_filter', 'highly_variable', 'highly_variable_rank', 'means', 'variances', 'variances_norm'\n",
              "     uns: 'cell_type', 'condition', 'database_id', 'figure', 'paper', 'sample_id', 'species', 'technology', 'tissue', 'hvg',\n",
              " 'resultGSM3439915.dms': AnnData object with n_obs × n_vars = 2007 × 3000\n",
              "     obs: 'cell_counts', 'n_genes', 'percent_mito', 'pass_count_filter', 'pass_mito_filter', 'cell_type', 'condition', 'database_id', 'figure', 'paper', 'sample_id', 'species', 'technology', 'tissue'\n",
              "     var: 'gene_id', 'gene_name', 'gene_counts', 'n_cells', 'pass_gene_filter', 'highly_variable', 'highly_variable_rank', 'means', 'variances', 'variances_norm'\n",
              "     uns: 'cell_type', 'condition', 'database_id', 'figure', 'paper', 'sample_id', 'species', 'technology', 'tissue', 'hvg',\n",
              " 'resultGSM3439916.dms': AnnData object with n_obs × n_vars = 2233 × 3000\n",
              "     obs: 'cell_counts', 'n_genes', 'percent_mito', 'pass_count_filter', 'pass_mito_filter', 'cell_type', 'condition', 'database_id', 'figure', 'paper', 'sample_id', 'species', 'technology', 'tissue'\n",
              "     var: 'gene_id', 'gene_name', 'gene_counts', 'n_cells', 'pass_gene_filter', 'highly_variable', 'highly_variable_rank', 'means', 'variances', 'variances_norm'\n",
              "     uns: 'cell_type', 'condition', 'database_id', 'figure', 'paper', 'sample_id', 'species', 'technology', 'tissue', 'hvg',\n",
              " 'resultGSM3439917': AnnData object with n_obs × n_vars = 2977 × 3000\n",
              "     obs: 'cell_counts', 'n_genes', 'percent_mito', 'pass_count_filter', 'pass_mito_filter', 'cell_type', 'condition', 'database_id', 'figure', 'paper', 'sample_id', 'species', 'technology', 'tissue'\n",
              "     var: 'gene_id', 'gene_name', 'gene_counts', 'n_cells', 'pass_gene_filter', 'highly_variable', 'highly_variable_rank', 'means', 'variances', 'variances_norm'\n",
              "     uns: 'cell_type', 'condition', 'database_id', 'figure', 'paper', 'sample_id', 'species', 'technology', 'tissue', 'hvg',\n",
              " 'resultGSM3439918': AnnData object with n_obs × n_vars = 3696 × 3000\n",
              "     obs: 'cell_counts', 'n_genes', 'percent_mito', 'pass_count_filter', 'pass_mito_filter', 'cell_type', 'condition', 'database_id', 'figure', 'paper', 'sample_id', 'species', 'technology', 'tissue'\n",
              "     var: 'gene_id', 'gene_name', 'gene_counts', 'n_cells', 'pass_gene_filter', 'highly_variable', 'highly_variable_rank', 'means', 'variances', 'variances_norm'\n",
              "     uns: 'cell_type', 'condition', 'database_id', 'figure', 'paper', 'sample_id', 'species', 'technology', 'tissue', 'hvg',\n",
              " 'resultGSM3439919': AnnData object with n_obs × n_vars = 1377 × 3000\n",
              "     obs: 'cell_counts', 'n_genes', 'percent_mito', 'pass_count_filter', 'pass_mito_filter', 'cell_type', 'condition', 'database_id', 'figure', 'paper', 'sample_id', 'species', 'technology', 'tissue'\n",
              "     var: 'gene_id', 'gene_name', 'gene_counts', 'n_cells', 'pass_gene_filter', 'highly_variable', 'highly_variable_rank', 'means', 'variances', 'variances_norm'\n",
              "     uns: 'cell_type', 'condition', 'database_id', 'figure', 'paper', 'sample_id', 'species', 'technology', 'tissue', 'hvg',\n",
              " 'resultGSM3439920': AnnData object with n_obs × n_vars = 6473 × 3000\n",
              "     obs: 'cell_counts', 'n_genes', 'percent_mito', 'pass_count_filter', 'pass_mito_filter', 'cell_type', 'condition', 'database_id', 'figure', 'paper', 'sample_id', 'species', 'technology', 'tissue'\n",
              "     var: 'gene_id', 'gene_name', 'gene_counts', 'n_cells', 'pass_gene_filter', 'highly_variable', 'highly_variable_rank', 'means', 'variances', 'variances_norm'\n",
              "     uns: 'cell_type', 'condition', 'database_id', 'figure', 'paper', 'sample_id', 'species', 'technology', 'tissue', 'hvg',\n",
              " 'resultGSM3439921': AnnData object with n_obs × n_vars = 49159 × 3000\n",
              "     obs: 'cell_counts', 'n_genes', 'percent_mito', 'pass_count_filter', 'pass_mito_filter', 'cell_type', 'condition', 'database_id', 'figure', 'paper', 'sample_id', 'species', 'technology', 'tissue'\n",
              "     var: 'gene_id', 'gene_name', 'gene_counts', 'n_cells', 'pass_gene_filter', 'highly_variable', 'highly_variable_rank', 'means', 'variances', 'variances_norm'\n",
              "     uns: 'cell_type', 'condition', 'database_id', 'figure', 'paper', 'sample_id', 'species', 'technology', 'tissue', 'hvg',\n",
              " 'resultGSM3439923': AnnData object with n_obs × n_vars = 6730 × 3000\n",
              "     obs: 'cell_counts', 'n_genes', 'percent_mito', 'pass_count_filter', 'pass_mito_filter', 'cell_type', 'condition', 'database_id', 'figure', 'paper', 'sample_id', 'species', 'technology', 'tissue'\n",
              "     var: 'gene_id', 'gene_name', 'gene_counts', 'n_cells', 'pass_gene_filter', 'highly_variable', 'highly_variable_rank', 'means', 'variances', 'variances_norm'\n",
              "     uns: 'cell_type', 'condition', 'database_id', 'figure', 'paper', 'sample_id', 'species', 'technology', 'tissue', 'hvg',\n",
              " 'resultGSM3439925': AnnData object with n_obs × n_vars = 58800 × 3000\n",
              "     obs: 'cell_counts', 'n_genes', 'percent_mito', 'pass_count_filter', 'pass_mito_filter', 'cell_type', 'condition', 'database_id', 'figure', 'paper', 'sample_id', 'species', 'technology', 'tissue'\n",
              "     var: 'gene_id', 'gene_name', 'gene_counts', 'n_cells', 'pass_gene_filter', 'highly_variable', 'highly_variable_rank', 'means', 'variances', 'variances_norm'\n",
              "     uns: 'cell_type', 'condition', 'database_id', 'figure', 'paper', 'sample_id', 'species', 'technology', 'tissue', 'hvg',\n",
              " 'resultGSM3439926': AnnData object with n_obs × n_vars = 5441 × 3000\n",
              "     obs: 'cell_counts', 'n_genes', 'percent_mito', 'pass_count_filter', 'pass_mito_filter', 'cell_type', 'condition', 'database_id', 'figure', 'paper', 'sample_id', 'species', 'technology', 'tissue'\n",
              "     var: 'gene_id', 'gene_name', 'gene_counts', 'n_cells', 'pass_gene_filter', 'highly_variable', 'highly_variable_rank', 'means', 'variances', 'variances_norm'\n",
              "     uns: 'cell_type', 'condition', 'database_id', 'figure', 'paper', 'sample_id', 'species', 'technology', 'tissue', 'hvg',\n",
              " 'resultGSM3439927': AnnData object with n_obs × n_vars = 6834 × 3000\n",
              "     obs: 'cell_counts', 'n_genes', 'percent_mito', 'pass_count_filter', 'pass_mito_filter', 'cell_type', 'condition', 'database_id', 'figure', 'paper', 'sample_id', 'species', 'technology', 'tissue'\n",
              "     var: 'gene_id', 'gene_name', 'gene_counts', 'n_cells', 'pass_gene_filter', 'highly_variable', 'highly_variable_rank', 'means', 'variances', 'variances_norm'\n",
              "     uns: 'cell_type', 'condition', 'database_id', 'figure', 'paper', 'sample_id', 'species', 'technology', 'tissue', 'hvg',\n",
              " 'resultGSM3478791.dms': AnnData object with n_obs × n_vars = 4091 × 3000\n",
              "     obs: 'cell_counts', 'n_genes', 'percent_mito', 'pass_count_filter', 'pass_mito_filter', 'cell_type', 'condition', 'database_id', 'figure', 'paper', 'sample_id', 'species', 'technology', 'tissue'\n",
              "     var: 'gene_id', 'gene_name', 'gene_counts', 'n_cells', 'pass_gene_filter', 'highly_variable', 'highly_variable_rank', 'means', 'variances', 'variances_norm'\n",
              "     uns: 'cell_type', 'condition', 'database_id', 'figure', 'paper', 'sample_id', 'species', 'technology', 'tissue', 'hvg',\n",
              " 'resultGSM3478792': AnnData object with n_obs × n_vars = 4832 × 3000\n",
              "     obs: 'cell_counts', 'n_genes', 'percent_mito', 'pass_count_filter', 'pass_mito_filter', 'cell_type', 'condition', 'database_id', 'figure', 'paper', 'sample_id', 'species', 'technology', 'tissue'\n",
              "     var: 'gene_id', 'gene_name', 'gene_counts', 'n_cells', 'pass_gene_filter', 'highly_variable', 'highly_variable_rank', 'means', 'variances', 'variances_norm'\n",
              "     uns: 'cell_type', 'condition', 'database_id', 'figure', 'paper', 'sample_id', 'species', 'technology', 'tissue', 'hvg',\n",
              " 'resultGSM3478792.dms': AnnData object with n_obs × n_vars = 4832 × 3000\n",
              "     obs: 'cell_counts', 'n_genes', 'percent_mito', 'pass_count_filter', 'pass_mito_filter', 'cell_type', 'condition', 'database_id', 'figure', 'paper', 'sample_id', 'species', 'technology', 'tissue'\n",
              "     var: 'gene_id', 'gene_name', 'gene_counts', 'n_cells', 'pass_gene_filter', 'highly_variable', 'highly_variable_rank', 'means', 'variances', 'variances_norm'\n",
              "     uns: 'cell_type', 'condition', 'database_id', 'figure', 'paper', 'sample_id', 'species', 'technology', 'tissue', 'hvg',\n",
              " 'resultGSM3509837.dms': AnnData object with n_obs × n_vars = 845 × 3000\n",
              "     obs: 'cell_counts', 'n_genes', 'percent_mito', 'pass_count_filter', 'pass_mito_filter', 'cell_type', 'condition', 'database_id', 'figure', 'paper', 'sample_id', 'species', 'technology', 'tissue'\n",
              "     var: 'gene_id', 'gene_name', 'gene_counts', 'n_cells', 'pass_gene_filter', 'highly_variable', 'highly_variable_rank', 'means', 'variances', 'variances_norm'\n",
              "     uns: 'cell_type', 'condition', 'database_id', 'figure', 'paper', 'sample_id', 'species', 'technology', 'tissue', 'hvg',\n",
              " 'resultGSM3509838.dms': AnnData object with n_obs × n_vars = 4318 × 3000\n",
              "     obs: 'cell_counts', 'n_genes', 'percent_mito', 'pass_count_filter', 'pass_mito_filter', 'cell_type', 'condition', 'database_id', 'figure', 'paper', 'sample_id', 'species', 'technology', 'tissue'\n",
              "     var: 'gene_id', 'gene_name', 'gene_counts', 'n_cells', 'pass_gene_filter', 'highly_variable', 'highly_variable_rank', 'means', 'variances', 'variances_norm'\n",
              "     uns: 'cell_type', 'condition', 'database_id', 'figure', 'paper', 'sample_id', 'species', 'technology', 'tissue', 'hvg',\n",
              " 'resultGSM3509839': AnnData object with n_obs × n_vars = 4180 × 3000\n",
              "     obs: 'cell_counts', 'n_genes', 'percent_mito', 'pass_count_filter', 'pass_mito_filter', 'cell_type', 'condition', 'database_id', 'figure', 'paper', 'sample_id', 'species', 'technology', 'tissue'\n",
              "     var: 'gene_id', 'gene_name', 'gene_counts', 'n_cells', 'pass_gene_filter', 'highly_variable', 'highly_variable_rank', 'means', 'variances', 'variances_norm'\n",
              "     uns: 'cell_type', 'condition', 'database_id', 'figure', 'paper', 'sample_id', 'species', 'technology', 'tissue', 'hvg',\n",
              " 'resultGSM3509839.dms': AnnData object with n_obs × n_vars = 4416 × 3000\n",
              "     obs: 'cell_counts', 'n_genes', 'percent_mito', 'pass_count_filter', 'pass_mito_filter', 'cell_type', 'condition', 'database_id', 'figure', 'paper', 'sample_id', 'species', 'technology', 'tissue'\n",
              "     var: 'gene_id', 'gene_name', 'gene_counts', 'n_cells', 'pass_gene_filter', 'highly_variable', 'highly_variable_rank', 'means', 'variances', 'variances_norm'\n",
              "     uns: 'cell_type', 'condition', 'database_id', 'figure', 'paper', 'sample_id', 'species', 'technology', 'tissue', 'hvg',\n",
              " 'resultGSM3509840.dms': AnnData object with n_obs × n_vars = 3492 × 3000\n",
              "     obs: 'cell_counts', 'n_genes', 'percent_mito', 'pass_count_filter', 'pass_mito_filter', 'cell_type', 'condition', 'database_id', 'figure', 'paper', 'sample_id', 'species', 'technology', 'tissue'\n",
              "     var: 'gene_id', 'gene_name', 'gene_counts', 'n_cells', 'pass_gene_filter', 'highly_variable', 'highly_variable_rank', 'means', 'variances', 'variances_norm'\n",
              "     uns: 'cell_type', 'condition', 'database_id', 'figure', 'paper', 'sample_id', 'species', 'technology', 'tissue', 'hvg',\n",
              " 'resultGSM3526583': AnnData object with n_obs × n_vars = 3735 × 3000\n",
              "     obs: 'cell_counts', 'n_genes', 'percent_mito', 'pass_count_filter', 'pass_mito_filter', 'cell_type', 'condition', 'database_id', 'figure', 'paper', 'sample_id', 'species', 'technology', 'tissue'\n",
              "     var: 'gene_id', 'gene_name', 'gene_counts', 'n_cells', 'pass_gene_filter', 'highly_variable', 'highly_variable_rank', 'means', 'variances', 'variances_norm'\n",
              "     uns: 'cell_type', 'condition', 'database_id', 'figure', 'paper', 'sample_id', 'species', 'technology', 'tissue', 'hvg',\n",
              " 'resultGSM3526584': AnnData object with n_obs × n_vars = 8214 × 3000\n",
              "     obs: 'cell_counts', 'n_genes', 'percent_mito', 'pass_count_filter', 'pass_mito_filter', 'cell_type', 'condition', 'database_id', 'figure', 'paper', 'sample_id', 'species', 'technology', 'tissue'\n",
              "     var: 'gene_id', 'gene_name', 'gene_counts', 'n_cells', 'pass_gene_filter', 'highly_variable', 'highly_variable_rank', 'means', 'variances', 'variances_norm'\n",
              "     uns: 'cell_type', 'condition', 'database_id', 'figure', 'paper', 'sample_id', 'species', 'technology', 'tissue', 'hvg',\n",
              " 'resultGSM3526585': AnnData object with n_obs × n_vars = 8548 × 3000\n",
              "     obs: 'cell_counts', 'n_genes', 'percent_mito', 'pass_count_filter', 'pass_mito_filter', 'cell_type', 'condition', 'database_id', 'figure', 'paper', 'sample_id', 'species', 'technology', 'tissue'\n",
              "     var: 'gene_id', 'gene_name', 'gene_counts', 'n_cells', 'pass_gene_filter', 'highly_variable', 'highly_variable_rank', 'means', 'variances', 'variances_norm'\n",
              "     uns: 'cell_type', 'condition', 'database_id', 'figure', 'paper', 'sample_id', 'species', 'technology', 'tissue', 'hvg',\n",
              " 'resultGSM3526586': AnnData object with n_obs × n_vars = 7327 × 3000\n",
              "     obs: 'cell_counts', 'n_genes', 'percent_mito', 'pass_count_filter', 'pass_mito_filter', 'cell_type', 'condition', 'database_id', 'figure', 'paper', 'sample_id', 'species', 'technology', 'tissue'\n",
              "     var: 'gene_id', 'gene_name', 'gene_counts', 'n_cells', 'pass_gene_filter', 'highly_variable', 'highly_variable_rank', 'means', 'variances', 'variances_norm'\n",
              "     uns: 'cell_type', 'condition', 'database_id', 'figure', 'paper', 'sample_id', 'species', 'technology', 'tissue', 'hvg',\n",
              " 'resultGSM3526587': AnnData object with n_obs × n_vars = 7402 × 3000\n",
              "     obs: 'cell_counts', 'n_genes', 'percent_mito', 'pass_count_filter', 'pass_mito_filter', 'cell_type', 'condition', 'database_id', 'figure', 'paper', 'sample_id', 'species', 'technology', 'tissue'\n",
              "     var: 'gene_id', 'gene_name', 'gene_counts', 'n_cells', 'pass_gene_filter', 'highly_variable', 'highly_variable_rank', 'means', 'variances', 'variances_norm'\n",
              "     uns: 'cell_type', 'condition', 'database_id', 'figure', 'paper', 'sample_id', 'species', 'technology', 'tissue', 'hvg',\n",
              " 'resultGSM3526588': AnnData object with n_obs × n_vars = 7438 × 3000\n",
              "     obs: 'cell_counts', 'n_genes', 'percent_mito', 'pass_count_filter', 'pass_mito_filter', 'cell_type', 'condition', 'database_id', 'figure', 'paper', 'sample_id', 'species', 'technology', 'tissue'\n",
              "     var: 'gene_id', 'gene_name', 'gene_counts', 'n_cells', 'pass_gene_filter', 'highly_variable', 'highly_variable_rank', 'means', 'variances', 'variances_norm'\n",
              "     uns: 'cell_type', 'condition', 'database_id', 'figure', 'paper', 'sample_id', 'species', 'technology', 'tissue', 'hvg',\n",
              " 'resultGSM3526589': AnnData object with n_obs × n_vars = 6244 × 3000\n",
              "     obs: 'cell_counts', 'n_genes', 'percent_mito', 'pass_count_filter', 'pass_mito_filter', 'cell_type', 'condition', 'database_id', 'figure', 'paper', 'sample_id', 'species', 'technology', 'tissue'\n",
              "     var: 'gene_id', 'gene_name', 'gene_counts', 'n_cells', 'pass_gene_filter', 'highly_variable', 'highly_variable_rank', 'means', 'variances', 'variances_norm'\n",
              "     uns: 'cell_type', 'condition', 'database_id', 'figure', 'paper', 'sample_id', 'species', 'technology', 'tissue', 'hvg',\n",
              " 'resultGSM3526590': AnnData object with n_obs × n_vars = 9514 × 3000\n",
              "     obs: 'cell_counts', 'n_genes', 'percent_mito', 'pass_count_filter', 'pass_mito_filter', 'cell_type', 'condition', 'database_id', 'figure', 'paper', 'sample_id', 'species', 'technology', 'tissue'\n",
              "     var: 'gene_id', 'gene_name', 'gene_counts', 'n_cells', 'pass_gene_filter', 'highly_variable', 'highly_variable_rank', 'means', 'variances', 'variances_norm'\n",
              "     uns: 'cell_type', 'condition', 'database_id', 'figure', 'paper', 'sample_id', 'species', 'technology', 'tissue', 'hvg',\n",
              " 'resultGSM3529821': AnnData object with n_obs × n_vars = 9876 × 3000\n",
              "     obs: 'cell_counts', 'n_genes', 'percent_mito', 'pass_count_filter', 'pass_mito_filter', 'cell_type', 'condition', 'database_id', 'figure', 'paper', 'sample_id', 'species', 'technology', 'tissue'\n",
              "     var: 'gene_id', 'gene_name', 'gene_counts', 'n_cells', 'pass_gene_filter', 'highly_variable', 'highly_variable_rank', 'means', 'variances', 'variances_norm'\n",
              "     uns: 'cell_type', 'condition', 'database_id', 'figure', 'paper', 'sample_id', 'species', 'technology', 'tissue', 'hvg',\n",
              " 'resultGSM3557959.dms': AnnData object with n_obs × n_vars = 1893 × 3000\n",
              "     obs: 'cell_counts', 'n_genes', 'percent_mito', 'pass_count_filter', 'pass_mito_filter', 'cell_type', 'condition', 'database_id', 'figure', 'paper', 'sample_id', 'species', 'technology', 'tissue'\n",
              "     var: 'gene_id', 'gene_name', 'gene_counts', 'n_cells', 'pass_gene_filter', 'highly_variable', 'highly_variable_rank', 'means', 'variances', 'variances_norm'\n",
              "     uns: 'cell_type', 'condition', 'database_id', 'figure', 'paper', 'sample_id', 'species', 'technology', 'tissue', 'hvg',\n",
              " 'resultGSM3557960.dms': AnnData object with n_obs × n_vars = 1312 × 3000\n",
              "     obs: 'cell_counts', 'n_genes', 'percent_mito', 'pass_count_filter', 'pass_mito_filter', 'cell_type', 'condition', 'database_id', 'figure', 'paper', 'sample_id', 'species', 'technology', 'tissue'\n",
              "     var: 'gene_id', 'gene_name', 'gene_counts', 'n_cells', 'pass_gene_filter', 'highly_variable', 'highly_variable_rank', 'means', 'variances', 'variances_norm'\n",
              "     uns: 'cell_type', 'condition', 'database_id', 'figure', 'paper', 'sample_id', 'species', 'technology', 'tissue', 'hvg',\n",
              " 'resultGSM3557961.dms': AnnData object with n_obs × n_vars = 2329 × 3000\n",
              "     obs: 'cell_counts', 'n_genes', 'percent_mito', 'pass_count_filter', 'pass_mito_filter', 'cell_type', 'condition', 'database_id', 'figure', 'paper', 'sample_id', 'species', 'technology', 'tissue'\n",
              "     var: 'gene_id', 'gene_name', 'gene_counts', 'n_cells', 'pass_gene_filter', 'highly_variable', 'highly_variable_rank', 'means', 'variances', 'variances_norm'\n",
              "     uns: 'cell_type', 'condition', 'database_id', 'figure', 'paper', 'sample_id', 'species', 'technology', 'tissue', 'hvg',\n",
              " 'resultGSM3557962.dms': AnnData object with n_obs × n_vars = 1715 × 3000\n",
              "     obs: 'cell_counts', 'n_genes', 'percent_mito', 'pass_count_filter', 'pass_mito_filter', 'cell_type', 'condition', 'database_id', 'figure', 'paper', 'sample_id', 'species', 'technology', 'tissue'\n",
              "     var: 'gene_id', 'gene_name', 'gene_counts', 'n_cells', 'pass_gene_filter', 'highly_variable', 'highly_variable_rank', 'means', 'variances', 'variances_norm'\n",
              "     uns: 'cell_type', 'condition', 'database_id', 'figure', 'paper', 'sample_id', 'species', 'technology', 'tissue', 'hvg',\n",
              " 'resultGSM3557964.dms': AnnData object with n_obs × n_vars = 2041 × 3000\n",
              "     obs: 'cell_counts', 'n_genes', 'percent_mito', 'pass_count_filter', 'pass_mito_filter', 'cell_type', 'condition', 'database_id', 'figure', 'paper', 'sample_id', 'species', 'technology', 'tissue'\n",
              "     var: 'gene_id', 'gene_name', 'gene_counts', 'n_cells', 'pass_gene_filter', 'highly_variable', 'highly_variable_rank', 'means', 'variances', 'variances_norm'\n",
              "     uns: 'cell_type', 'condition', 'database_id', 'figure', 'paper', 'sample_id', 'species', 'technology', 'tissue', 'hvg',\n",
              " 'resultGSM3557965': AnnData object with n_obs × n_vars = 2211 × 3000\n",
              "     obs: 'cell_counts', 'n_genes', 'percent_mito', 'pass_count_filter', 'pass_mito_filter', 'cell_type', 'condition', 'database_id', 'figure', 'paper', 'sample_id', 'species', 'technology', 'tissue'\n",
              "     var: 'gene_id', 'gene_name', 'gene_counts', 'n_cells', 'pass_gene_filter', 'highly_variable', 'highly_variable_rank', 'means', 'variances', 'variances_norm'\n",
              "     uns: 'cell_type', 'condition', 'database_id', 'figure', 'paper', 'sample_id', 'species', 'technology', 'tissue', 'hvg',\n",
              " 'resultGSM3557966.dms': AnnData object with n_obs × n_vars = 1862 × 3000\n",
              "     obs: 'cell_counts', 'n_genes', 'percent_mito', 'pass_count_filter', 'pass_mito_filter', 'cell_type', 'condition', 'database_id', 'figure', 'paper', 'sample_id', 'species', 'technology', 'tissue'\n",
              "     var: 'gene_id', 'gene_name', 'gene_counts', 'n_cells', 'pass_gene_filter', 'highly_variable', 'highly_variable_rank', 'means', 'variances', 'variances_norm'\n",
              "     uns: 'cell_type', 'condition', 'database_id', 'figure', 'paper', 'sample_id', 'species', 'technology', 'tissue', 'hvg',\n",
              " 'resultGSM3557967.dms': AnnData object with n_obs × n_vars = 644 × 3000\n",
              "     obs: 'cell_counts', 'n_genes', 'percent_mito', 'pass_count_filter', 'pass_mito_filter', 'cell_type', 'condition', 'database_id', 'figure', 'paper', 'sample_id', 'species', 'technology', 'tissue'\n",
              "     var: 'gene_id', 'gene_name', 'gene_counts', 'n_cells', 'pass_gene_filter', 'highly_variable', 'highly_variable_rank', 'means', 'variances', 'variances_norm'\n",
              "     uns: 'cell_type', 'condition', 'database_id', 'figure', 'paper', 'sample_id', 'species', 'technology', 'tissue', 'hvg',\n",
              " 'resultGSM3557968': AnnData object with n_obs × n_vars = 1834 × 3000\n",
              "     obs: 'cell_counts', 'n_genes', 'percent_mito', 'pass_count_filter', 'pass_mito_filter', 'cell_type', 'condition', 'database_id', 'figure', 'paper', 'sample_id', 'species', 'technology', 'tissue'\n",
              "     var: 'gene_id', 'gene_name', 'gene_counts', 'n_cells', 'pass_gene_filter', 'highly_variable', 'highly_variable_rank', 'means', 'variances', 'variances_norm'\n",
              "     uns: 'cell_type', 'condition', 'database_id', 'figure', 'paper', 'sample_id', 'species', 'technology', 'tissue', 'hvg',\n",
              " 'resultGSM3557969': AnnData object with n_obs × n_vars = 3575 × 3000\n",
              "     obs: 'cell_counts', 'n_genes', 'percent_mito', 'pass_count_filter', 'pass_mito_filter', 'cell_type', 'condition', 'database_id', 'figure', 'paper', 'sample_id', 'species', 'technology', 'tissue'\n",
              "     var: 'gene_id', 'gene_name', 'gene_counts', 'n_cells', 'pass_gene_filter', 'highly_variable', 'highly_variable_rank', 'means', 'variances', 'variances_norm'\n",
              "     uns: 'cell_type', 'condition', 'database_id', 'figure', 'paper', 'sample_id', 'species', 'technology', 'tissue', 'hvg',\n",
              " 'resultGSM3557970': AnnData object with n_obs × n_vars = 1676 × 3000\n",
              "     obs: 'cell_counts', 'n_genes', 'percent_mito', 'pass_count_filter', 'pass_mito_filter', 'cell_type', 'condition', 'database_id', 'figure', 'paper', 'sample_id', 'species', 'technology', 'tissue'\n",
              "     var: 'gene_id', 'gene_name', 'gene_counts', 'n_cells', 'pass_gene_filter', 'highly_variable', 'highly_variable_rank', 'means', 'variances', 'variances_norm'\n",
              "     uns: 'cell_type', 'condition', 'database_id', 'figure', 'paper', 'sample_id', 'species', 'technology', 'tissue', 'hvg',\n",
              " 'resultGSM3557972': AnnData object with n_obs × n_vars = 1869 × 3000\n",
              "     obs: 'cell_counts', 'n_genes', 'percent_mito', 'pass_count_filter', 'pass_mito_filter', 'cell_type', 'condition', 'database_id', 'figure', 'paper', 'sample_id', 'species', 'technology', 'tissue'\n",
              "     var: 'gene_id', 'gene_name', 'gene_counts', 'n_cells', 'pass_gene_filter', 'highly_variable', 'highly_variable_rank', 'means', 'variances', 'variances_norm'\n",
              "     uns: 'cell_type', 'condition', 'database_id', 'figure', 'paper', 'sample_id', 'species', 'technology', 'tissue', 'hvg',\n",
              " 'resultGSM3557973.dms': AnnData object with n_obs × n_vars = 1317 × 3000\n",
              "     obs: 'cell_counts', 'n_genes', 'percent_mito', 'pass_count_filter', 'pass_mito_filter', 'cell_type', 'condition', 'database_id', 'figure', 'paper', 'sample_id', 'species', 'technology', 'tissue'\n",
              "     var: 'gene_id', 'gene_name', 'gene_counts', 'n_cells', 'pass_gene_filter', 'highly_variable', 'highly_variable_rank', 'means', 'variances', 'variances_norm'\n",
              "     uns: 'cell_type', 'condition', 'database_id', 'figure', 'paper', 'sample_id', 'species', 'technology', 'tissue', 'hvg',\n",
              " 'resultGSM3558027': AnnData object with n_obs × n_vars = 3698 × 3000\n",
              "     obs: 'cell_counts', 'n_genes', 'percent_mito', 'pass_count_filter', 'pass_mito_filter', 'cell_type', 'condition', 'database_id', 'figure', 'paper', 'sample_id', 'species', 'technology', 'tissue'\n",
              "     var: 'gene_id', 'gene_name', 'gene_counts', 'n_cells', 'pass_gene_filter', 'highly_variable', 'highly_variable_rank', 'means', 'variances', 'variances_norm'\n",
              "     uns: 'cell_type', 'condition', 'database_id', 'figure', 'paper', 'sample_id', 'species', 'technology', 'tissue', 'hvg',\n",
              " 'resultGSM3665017': AnnData object with n_obs × n_vars = 2817 × 3000\n",
              "     obs: 'cell_counts', 'n_genes', 'percent_mito', 'pass_count_filter', 'pass_mito_filter', 'cell_type', 'condition', 'database_id', 'figure', 'paper', 'sample_id', 'species', 'technology', 'tissue'\n",
              "     var: 'gene_id', 'gene_name', 'gene_counts', 'n_cells', 'pass_gene_filter', 'highly_variable', 'highly_variable_rank', 'means', 'variances', 'variances_norm'\n",
              "     uns: 'cell_type', 'condition', 'database_id', 'figure', 'paper', 'sample_id', 'species', 'technology', 'tissue', 'hvg',\n",
              " 'resultGSM3665018': AnnData object with n_obs × n_vars = 2926 × 3000\n",
              "     obs: 'cell_counts', 'n_genes', 'percent_mito', 'pass_count_filter', 'pass_mito_filter', 'cell_type', 'condition', 'database_id', 'figure', 'paper', 'sample_id', 'species', 'technology', 'tissue'\n",
              "     var: 'gene_id', 'gene_name', 'gene_counts', 'n_cells', 'pass_gene_filter', 'highly_variable', 'highly_variable_rank', 'means', 'variances', 'variances_norm'\n",
              "     uns: 'cell_type', 'condition', 'database_id', 'figure', 'paper', 'sample_id', 'species', 'technology', 'tissue', 'hvg',\n",
              " 'resultGSM3665019': AnnData object with n_obs × n_vars = 2965 × 3000\n",
              "     obs: 'cell_counts', 'n_genes', 'percent_mito', 'pass_count_filter', 'pass_mito_filter', 'cell_type', 'condition', 'database_id', 'figure', 'paper', 'sample_id', 'species', 'technology', 'tissue'\n",
              "     var: 'gene_id', 'gene_name', 'gene_counts', 'n_cells', 'pass_gene_filter', 'highly_variable', 'highly_variable_rank', 'means', 'variances', 'variances_norm'\n",
              "     uns: 'cell_type', 'condition', 'database_id', 'figure', 'paper', 'sample_id', 'species', 'technology', 'tissue', 'hvg',\n",
              " 'resultGSM3667327': AnnData object with n_obs × n_vars = 2125 × 3000\n",
              "     obs: 'cell_counts', 'n_genes', 'percent_mito', 'pass_count_filter', 'pass_mito_filter', 'cell_type', 'condition', 'database_id', 'figure', 'paper', 'sample_id', 'species', 'technology', 'tissue'\n",
              "     var: 'gene_id', 'gene_name', 'gene_counts', 'n_cells', 'pass_gene_filter', 'highly_variable', 'highly_variable_rank', 'means', 'variances', 'variances_norm'\n",
              "     uns: 'cell_type', 'condition', 'database_id', 'figure', 'paper', 'sample_id', 'species', 'technology', 'tissue', 'hvg',\n",
              " 'resultGSM3667328': AnnData object with n_obs × n_vars = 3550 × 3000\n",
              "     obs: 'cell_counts', 'n_genes', 'percent_mito', 'pass_count_filter', 'pass_mito_filter', 'cell_type', 'condition', 'database_id', 'figure', 'paper', 'sample_id', 'species', 'technology', 'tissue'\n",
              "     var: 'gene_id', 'gene_name', 'gene_counts', 'n_cells', 'pass_gene_filter', 'highly_variable', 'highly_variable_rank', 'means', 'variances', 'variances_norm'\n",
              "     uns: 'cell_type', 'condition', 'database_id', 'figure', 'paper', 'sample_id', 'species', 'technology', 'tissue', 'hvg',\n",
              " 'resultGSM3667329': AnnData object with n_obs × n_vars = 2393 × 3000\n",
              "     obs: 'cell_counts', 'n_genes', 'percent_mito', 'pass_count_filter', 'pass_mito_filter', 'cell_type', 'condition', 'database_id', 'figure', 'paper', 'sample_id', 'species', 'technology', 'tissue'\n",
              "     var: 'gene_id', 'gene_name', 'gene_counts', 'n_cells', 'pass_gene_filter', 'highly_variable', 'highly_variable_rank', 'means', 'variances', 'variances_norm'\n",
              "     uns: 'cell_type', 'condition', 'database_id', 'figure', 'paper', 'sample_id', 'species', 'technology', 'tissue', 'hvg',\n",
              " 'resultGSM3717979': AnnData object with n_obs × n_vars = 11976 × 3000\n",
              "     obs: 'cell_counts', 'n_genes', 'percent_mito', 'pass_count_filter', 'pass_mito_filter', 'cell_type', 'condition', 'database_id', 'figure', 'paper', 'sample_id', 'species', 'technology', 'tissue'\n",
              "     var: 'gene_id', 'gene_name', 'gene_counts', 'n_cells', 'pass_gene_filter', 'highly_variable', 'highly_variable_rank', 'means', 'variances', 'variances_norm'\n",
              "     uns: 'cell_type', 'condition', 'database_id', 'figure', 'paper', 'sample_id', 'species', 'technology', 'tissue', 'hvg',\n",
              " 'resultGSM3723357': AnnData object with n_obs × n_vars = 616 × 3000\n",
              "     obs: 'cell_counts', 'n_genes', 'percent_mito', 'pass_count_filter', 'pass_mito_filter', 'cell_type', 'condition', 'database_id', 'figure', 'paper', 'sample_id', 'species', 'technology', 'tissue'\n",
              "     var: 'gene_id', 'gene_name', 'gene_counts', 'n_cells', 'pass_gene_filter', 'highly_variable', 'highly_variable_rank', 'means', 'variances', 'variances_norm'\n",
              "     uns: 'cell_type', 'condition', 'database_id', 'figure', 'paper', 'sample_id', 'species', 'technology', 'tissue', 'hvg',\n",
              " 'resultGSM3723358': AnnData object with n_obs × n_vars = 7571 × 3000\n",
              "     obs: 'cell_counts', 'n_genes', 'percent_mito', 'pass_count_filter', 'pass_mito_filter', 'cell_type', 'condition', 'database_id', 'figure', 'paper', 'sample_id', 'species', 'technology', 'tissue'\n",
              "     var: 'gene_id', 'gene_name', 'gene_counts', 'n_cells', 'pass_gene_filter', 'highly_variable', 'highly_variable_rank', 'means', 'variances', 'variances_norm'\n",
              "     uns: 'cell_type', 'condition', 'database_id', 'figure', 'paper', 'sample_id', 'species', 'technology', 'tissue', 'hvg',\n",
              " 'resultGSM3723359': AnnData object with n_obs × n_vars = 14145 × 3000\n",
              "     obs: 'cell_counts', 'n_genes', 'percent_mito', 'pass_count_filter', 'pass_mito_filter', 'cell_type', 'condition', 'database_id', 'figure', 'paper', 'sample_id', 'species', 'technology', 'tissue'\n",
              "     var: 'gene_id', 'gene_name', 'gene_counts', 'n_cells', 'pass_gene_filter', 'highly_variable', 'highly_variable_rank', 'means', 'variances', 'variances_norm'\n",
              "     uns: 'cell_type', 'condition', 'database_id', 'figure', 'paper', 'sample_id', 'species', 'technology', 'tissue', 'hvg',\n",
              " 'resultGSM3734295': AnnData object with n_obs × n_vars = 3965 × 3000\n",
              "     obs: 'cell_counts', 'n_genes', 'percent_mito', 'pass_count_filter', 'pass_mito_filter', 'cell_type', 'condition', 'database_id', 'figure', 'paper', 'sample_id', 'species', 'technology', 'tissue'\n",
              "     var: 'gene_id', 'gene_name', 'gene_counts', 'n_cells', 'pass_gene_filter', 'highly_variable', 'highly_variable_rank', 'means', 'variances', 'variances_norm'\n",
              "     uns: 'cell_type', 'condition', 'database_id', 'figure', 'paper', 'sample_id', 'species', 'technology', 'tissue', 'hvg',\n",
              " 'resultGSM3734296': AnnData object with n_obs × n_vars = 4441 × 3000\n",
              "     obs: 'cell_counts', 'n_genes', 'percent_mito', 'pass_count_filter', 'pass_mito_filter', 'cell_type', 'condition', 'database_id', 'figure', 'paper', 'sample_id', 'species', 'technology', 'tissue'\n",
              "     var: 'gene_id', 'gene_name', 'gene_counts', 'n_cells', 'pass_gene_filter', 'highly_variable', 'highly_variable_rank', 'means', 'variances', 'variances_norm'\n",
              "     uns: 'cell_type', 'condition', 'database_id', 'figure', 'paper', 'sample_id', 'species', 'technology', 'tissue', 'hvg',\n",
              " 'resultGSM3735993': AnnData object with n_obs × n_vars = 10867 × 3000\n",
              "     obs: 'cell_counts', 'n_genes', 'percent_mito', 'pass_count_filter', 'pass_mito_filter', 'cell_type', 'condition', 'database_id', 'figure', 'paper', 'sample_id', 'species', 'technology', 'tissue'\n",
              "     var: 'gene_id', 'gene_name', 'gene_counts', 'n_cells', 'pass_gene_filter', 'highly_variable', 'highly_variable_rank', 'means', 'variances', 'variances_norm'\n",
              "     uns: 'cell_type', 'condition', 'database_id', 'figure', 'paper', 'sample_id', 'species', 'technology', 'tissue', 'hvg',\n",
              " 'resultGSM3738536': AnnData object with n_obs × n_vars = 952 × 3000\n",
              "     obs: 'cell_counts', 'n_genes', 'percent_mito', 'pass_count_filter', 'pass_mito_filter', 'cell_type', 'condition', 'database_id', 'figure', 'paper', 'sample_id', 'species', 'technology', 'tissue'\n",
              "     var: 'gene_id', 'gene_name', 'gene_counts', 'n_cells', 'pass_gene_filter', 'highly_variable', 'highly_variable_rank', 'means', 'variances', 'variances_norm'\n",
              "     uns: 'cell_type', 'condition', 'database_id', 'figure', 'paper', 'sample_id', 'species', 'technology', 'tissue', 'hvg',\n",
              " 'resultGSM3738537': AnnData object with n_obs × n_vars = 968 × 3000\n",
              "     obs: 'cell_counts', 'n_genes', 'percent_mito', 'pass_count_filter', 'pass_mito_filter', 'cell_type', 'condition', 'database_id', 'figure', 'paper', 'sample_id', 'species', 'technology', 'tissue'\n",
              "     var: 'gene_id', 'gene_name', 'gene_counts', 'n_cells', 'pass_gene_filter', 'highly_variable', 'highly_variable_rank', 'means', 'variances', 'variances_norm'\n",
              "     uns: 'cell_type', 'condition', 'database_id', 'figure', 'paper', 'sample_id', 'species', 'technology', 'tissue', 'hvg',\n",
              " 'resultGSM3738538': AnnData object with n_obs × n_vars = 1388 × 3000\n",
              "     obs: 'cell_counts', 'n_genes', 'percent_mito', 'pass_count_filter', 'pass_mito_filter', 'cell_type', 'condition', 'database_id', 'figure', 'paper', 'sample_id', 'species', 'technology', 'tissue'\n",
              "     var: 'gene_id', 'gene_name', 'gene_counts', 'n_cells', 'pass_gene_filter', 'highly_variable', 'highly_variable_rank', 'means', 'variances', 'variances_norm'\n",
              "     uns: 'cell_type', 'condition', 'database_id', 'figure', 'paper', 'sample_id', 'species', 'technology', 'tissue', 'hvg',\n",
              " 'resultGSM3738539': AnnData object with n_obs × n_vars = 1361 × 3000\n",
              "     obs: 'cell_counts', 'n_genes', 'percent_mito', 'pass_count_filter', 'pass_mito_filter', 'cell_type', 'condition', 'database_id', 'figure', 'paper', 'sample_id', 'species', 'technology', 'tissue'\n",
              "     var: 'gene_id', 'gene_name', 'gene_counts', 'n_cells', 'pass_gene_filter', 'highly_variable', 'highly_variable_rank', 'means', 'variances', 'variances_norm'\n",
              "     uns: 'cell_type', 'condition', 'database_id', 'figure', 'paper', 'sample_id', 'species', 'technology', 'tissue', 'hvg',\n",
              " 'resultGSM3738540': AnnData object with n_obs × n_vars = 950 × 3000\n",
              "     obs: 'cell_counts', 'n_genes', 'percent_mito', 'pass_count_filter', 'pass_mito_filter', 'cell_type', 'condition', 'database_id', 'figure', 'paper', 'sample_id', 'species', 'technology', 'tissue'\n",
              "     var: 'gene_id', 'gene_name', 'gene_counts', 'n_cells', 'pass_gene_filter', 'highly_variable', 'highly_variable_rank', 'means', 'variances', 'variances_norm'\n",
              "     uns: 'cell_type', 'condition', 'database_id', 'figure', 'paper', 'sample_id', 'species', 'technology', 'tissue', 'hvg',\n",
              " 'resultGSM3738541': AnnData object with n_obs × n_vars = 866 × 3000\n",
              "     obs: 'cell_counts', 'n_genes', 'percent_mito', 'pass_count_filter', 'pass_mito_filter', 'cell_type', 'condition', 'database_id', 'figure', 'paper', 'sample_id', 'species', 'technology', 'tissue'\n",
              "     var: 'gene_id', 'gene_name', 'gene_counts', 'n_cells', 'pass_gene_filter', 'highly_variable', 'highly_variable_rank', 'means', 'variances', 'variances_norm'\n",
              "     uns: 'cell_type', 'condition', 'database_id', 'figure', 'paper', 'sample_id', 'species', 'technology', 'tissue', 'hvg',\n",
              " 'resultGSM3738542': AnnData object with n_obs × n_vars = 1656 × 3000\n",
              "     obs: 'cell_counts', 'n_genes', 'percent_mito', 'pass_count_filter', 'pass_mito_filter', 'cell_type', 'condition', 'database_id', 'figure', 'paper', 'sample_id', 'species', 'technology', 'tissue'\n",
              "     var: 'gene_id', 'gene_name', 'gene_counts', 'n_cells', 'pass_gene_filter', 'highly_variable', 'highly_variable_rank', 'means', 'variances', 'variances_norm'\n",
              "     uns: 'cell_type', 'condition', 'database_id', 'figure', 'paper', 'sample_id', 'species', 'technology', 'tissue', 'hvg',\n",
              " 'resultGSM3738543': AnnData object with n_obs × n_vars = 1558 × 3000\n",
              "     obs: 'cell_counts', 'n_genes', 'percent_mito', 'pass_count_filter', 'pass_mito_filter', 'cell_type', 'condition', 'database_id', 'figure', 'paper', 'sample_id', 'species', 'technology', 'tissue'\n",
              "     var: 'gene_id', 'gene_name', 'gene_counts', 'n_cells', 'pass_gene_filter', 'highly_variable', 'highly_variable_rank', 'means', 'variances', 'variances_norm'\n",
              "     uns: 'cell_type', 'condition', 'database_id', 'figure', 'paper', 'sample_id', 'species', 'technology', 'tissue', 'hvg',\n",
              " 'resultGSM3739217.dms': AnnData object with n_obs × n_vars = 7021 × 3000\n",
              "     obs: 'cell_counts', 'n_genes', 'percent_mito', 'pass_count_filter', 'pass_mito_filter', 'cell_type', 'condition', 'database_id', 'figure', 'paper', 'sample_id', 'species', 'technology', 'tissue'\n",
              "     var: 'gene_id', 'gene_name', 'gene_counts', 'n_cells', 'pass_gene_filter', 'highly_variable', 'highly_variable_rank', 'means', 'variances', 'variances_norm'\n",
              "     uns: 'cell_type', 'condition', 'database_id', 'figure', 'paper', 'sample_id', 'species', 'technology', 'tissue', 'hvg',\n",
              " 'resultGSM3739218.dms': AnnData object with n_obs × n_vars = 258 × 3000\n",
              "     obs: 'cell_counts', 'n_genes', 'percent_mito', 'pass_count_filter', 'pass_mito_filter', 'cell_type', 'condition', 'database_id', 'figure', 'paper', 'sample_id', 'species', 'technology', 'tissue'\n",
              "     var: 'gene_id', 'gene_name', 'gene_counts', 'n_cells', 'pass_gene_filter', 'highly_variable', 'highly_variable_rank', 'means', 'variances', 'variances_norm'\n",
              "     uns: 'cell_type', 'condition', 'database_id', 'figure', 'paper', 'sample_id', 'species', 'technology', 'tissue', 'hvg',\n",
              " 'resultGSM3739219.dms': AnnData object with n_obs × n_vars = 274 × 3000\n",
              "     obs: 'cell_counts', 'n_genes', 'percent_mito', 'pass_count_filter', 'pass_mito_filter', 'cell_type', 'condition', 'database_id', 'figure', 'paper', 'sample_id', 'species', 'technology', 'tissue'\n",
              "     var: 'gene_id', 'gene_name', 'gene_counts', 'n_cells', 'pass_gene_filter', 'highly_variable', 'highly_variable_rank', 'means', 'variances', 'variances_norm'\n",
              "     uns: 'cell_type', 'condition', 'database_id', 'figure', 'paper', 'sample_id', 'species', 'technology', 'tissue', 'hvg',\n",
              " 'resultGSM3739220.dms': AnnData object with n_obs × n_vars = 4802 × 3000\n",
              "     obs: 'cell_counts', 'n_genes', 'percent_mito', 'pass_count_filter', 'pass_mito_filter', 'cell_type', 'condition', 'database_id', 'figure', 'paper', 'sample_id', 'species', 'technology', 'tissue'\n",
              "     var: 'gene_id', 'gene_name', 'gene_counts', 'n_cells', 'pass_gene_filter', 'highly_variable', 'highly_variable_rank', 'means', 'variances', 'variances_norm'\n",
              "     uns: 'cell_type', 'condition', 'database_id', 'figure', 'paper', 'sample_id', 'species', 'technology', 'tissue', 'hvg',\n",
              " 'resultGSM3739221.dms': AnnData object with n_obs × n_vars = 81 × 3000\n",
              "     obs: 'cell_counts', 'n_genes', 'percent_mito', 'pass_count_filter', 'pass_mito_filter', 'cell_type', 'condition', 'database_id', 'figure', 'paper', 'sample_id', 'species', 'technology', 'tissue'\n",
              "     var: 'gene_id', 'gene_name', 'gene_counts', 'n_cells', 'pass_gene_filter', 'highly_variable', 'highly_variable_rank', 'means', 'variances', 'variances_norm'\n",
              "     uns: 'cell_type', 'condition', 'database_id', 'figure', 'paper', 'sample_id', 'species', 'technology', 'tissue', 'hvg',\n",
              " 'resultGSM3739222.dms': AnnData object with n_obs × n_vars = 91 × 3000\n",
              "     obs: 'cell_counts', 'n_genes', 'percent_mito', 'pass_count_filter', 'pass_mito_filter', 'cell_type', 'condition', 'database_id', 'figure', 'paper', 'sample_id', 'species', 'technology', 'tissue'\n",
              "     var: 'gene_id', 'gene_name', 'gene_counts', 'n_cells', 'pass_gene_filter', 'highly_variable', 'highly_variable_rank', 'means', 'variances', 'variances_norm'\n",
              "     uns: 'cell_type', 'condition', 'database_id', 'figure', 'paper', 'sample_id', 'species', 'technology', 'tissue', 'hvg',\n",
              " 'resultGSM3755687': AnnData object with n_obs × n_vars = 9941 × 3000\n",
              "     obs: 'cell_counts', 'n_genes', 'percent_mito', 'pass_count_filter', 'pass_mito_filter', 'cell_type', 'condition', 'database_id', 'figure', 'paper', 'sample_id', 'species', 'technology', 'tissue'\n",
              "     var: 'gene_id', 'gene_name', 'gene_counts', 'n_cells', 'pass_gene_filter', 'highly_variable', 'highly_variable_rank', 'means', 'variances', 'variances_norm'\n",
              "     uns: 'cell_type', 'condition', 'database_id', 'figure', 'paper', 'sample_id', 'species', 'technology', 'tissue', 'hvg',\n",
              " 'resultGSM3755688': AnnData object with n_obs × n_vars = 11784 × 3000\n",
              "     obs: 'cell_counts', 'n_genes', 'percent_mito', 'pass_count_filter', 'pass_mito_filter', 'cell_type', 'condition', 'database_id', 'figure', 'paper', 'sample_id', 'species', 'technology', 'tissue'\n",
              "     var: 'gene_id', 'gene_name', 'gene_counts', 'n_cells', 'pass_gene_filter', 'highly_variable', 'highly_variable_rank', 'means', 'variances', 'variances_norm'\n",
              "     uns: 'cell_type', 'condition', 'database_id', 'figure', 'paper', 'sample_id', 'species', 'technology', 'tissue', 'hvg',\n",
              " 'resultGSM3755689': AnnData object with n_obs × n_vars = 11915 × 3000\n",
              "     obs: 'cell_counts', 'n_genes', 'percent_mito', 'pass_count_filter', 'pass_mito_filter', 'cell_type', 'condition', 'database_id', 'figure', 'paper', 'sample_id', 'species', 'technology', 'tissue'\n",
              "     var: 'gene_id', 'gene_name', 'gene_counts', 'n_cells', 'pass_gene_filter', 'highly_variable', 'highly_variable_rank', 'means', 'variances', 'variances_norm'\n",
              "     uns: 'cell_type', 'condition', 'database_id', 'figure', 'paper', 'sample_id', 'species', 'technology', 'tissue', 'hvg',\n",
              " 'resultGSM3755690': AnnData object with n_obs × n_vars = 11938 × 3000\n",
              "     obs: 'cell_counts', 'n_genes', 'percent_mito', 'pass_count_filter', 'pass_mito_filter', 'cell_type', 'condition', 'database_id', 'figure', 'paper', 'sample_id', 'species', 'technology', 'tissue'\n",
              "     var: 'gene_id', 'gene_name', 'gene_counts', 'n_cells', 'pass_gene_filter', 'highly_variable', 'highly_variable_rank', 'means', 'variances', 'variances_norm'\n",
              "     uns: 'cell_type', 'condition', 'database_id', 'figure', 'paper', 'sample_id', 'species', 'technology', 'tissue', 'hvg',\n",
              " 'resultGSM3755691': AnnData object with n_obs × n_vars = 14930 × 3000\n",
              "     obs: 'cell_counts', 'n_genes', 'percent_mito', 'pass_count_filter', 'pass_mito_filter', 'cell_type', 'condition', 'database_id', 'figure', 'paper', 'sample_id', 'species', 'technology', 'tissue'\n",
              "     var: 'gene_id', 'gene_name', 'gene_counts', 'n_cells', 'pass_gene_filter', 'highly_variable', 'highly_variable_rank', 'means', 'variances', 'variances_norm'\n",
              "     uns: 'cell_type', 'condition', 'database_id', 'figure', 'paper', 'sample_id', 'species', 'technology', 'tissue', 'hvg',\n",
              " 'resultGSM3755692': AnnData object with n_obs × n_vars = 12990 × 3000\n",
              "     obs: 'cell_counts', 'n_genes', 'percent_mito', 'pass_count_filter', 'pass_mito_filter', 'cell_type', 'condition', 'database_id', 'figure', 'paper', 'sample_id', 'species', 'technology', 'tissue'\n",
              "     var: 'gene_id', 'gene_name', 'gene_counts', 'n_cells', 'pass_gene_filter', 'highly_variable', 'highly_variable_rank', 'means', 'variances', 'variances_norm'\n",
              "     uns: 'cell_type', 'condition', 'database_id', 'figure', 'paper', 'sample_id', 'species', 'technology', 'tissue', 'hvg',\n",
              " 'resultGSM3755693': AnnData object with n_obs × n_vars = 9854 × 3000\n",
              "     obs: 'cell_counts', 'n_genes', 'percent_mito', 'pass_count_filter', 'pass_mito_filter', 'cell_type', 'condition', 'database_id', 'figure', 'paper', 'sample_id', 'species', 'technology', 'tissue'\n",
              "     var: 'gene_id', 'gene_name', 'gene_counts', 'n_cells', 'pass_gene_filter', 'highly_variable', 'highly_variable_rank', 'means', 'variances', 'variances_norm'\n",
              "     uns: 'cell_type', 'condition', 'database_id', 'figure', 'paper', 'sample_id', 'species', 'technology', 'tissue', 'hvg',\n",
              " 'resultGSM3755695': AnnData object with n_obs × n_vars = 4920 × 3000\n",
              "     obs: 'cell_counts', 'n_genes', 'percent_mito', 'pass_count_filter', 'pass_mito_filter', 'cell_type', 'condition', 'database_id', 'figure', 'paper', 'sample_id', 'species', 'technology', 'tissue'\n",
              "     var: 'gene_id', 'gene_name', 'gene_counts', 'n_cells', 'pass_gene_filter', 'highly_variable', 'highly_variable_rank', 'means', 'variances', 'variances_norm'\n",
              "     uns: 'cell_type', 'condition', 'database_id', 'figure', 'paper', 'sample_id', 'species', 'technology', 'tissue', 'hvg',\n",
              " 'resultGSM3755697': AnnData object with n_obs × n_vars = 3456 × 3000\n",
              "     obs: 'cell_counts', 'n_genes', 'percent_mito', 'pass_count_filter', 'pass_mito_filter', 'cell_type', 'condition', 'database_id', 'figure', 'paper', 'sample_id', 'species', 'technology', 'tissue'\n",
              "     var: 'gene_id', 'gene_name', 'gene_counts', 'n_cells', 'pass_gene_filter', 'highly_variable', 'highly_variable_rank', 'means', 'variances', 'variances_norm'\n",
              "     uns: 'cell_type', 'condition', 'database_id', 'figure', 'paper', 'sample_id', 'species', 'technology', 'tissue', 'hvg',\n",
              " 'resultGSM3755698': AnnData object with n_obs × n_vars = 11941 × 3000\n",
              "     obs: 'cell_counts', 'n_genes', 'percent_mito', 'pass_count_filter', 'pass_mito_filter', 'cell_type', 'condition', 'database_id', 'figure', 'paper', 'sample_id', 'species', 'technology', 'tissue'\n",
              "     var: 'gene_id', 'gene_name', 'gene_counts', 'n_cells', 'pass_gene_filter', 'highly_variable', 'highly_variable_rank', 'means', 'variances', 'variances_norm'\n",
              "     uns: 'cell_type', 'condition', 'database_id', 'figure', 'paper', 'sample_id', 'species', 'technology', 'tissue', 'hvg',\n",
              " 'resultGSM3755699': AnnData object with n_obs × n_vars = 11756 × 3000\n",
              "     obs: 'cell_counts', 'n_genes', 'percent_mito', 'pass_count_filter', 'pass_mito_filter', 'cell_type', 'condition', 'database_id', 'figure', 'paper', 'sample_id', 'species', 'technology', 'tissue'\n",
              "     var: 'gene_id', 'gene_name', 'gene_counts', 'n_cells', 'pass_gene_filter', 'highly_variable', 'highly_variable_rank', 'means', 'variances', 'variances_norm'\n",
              "     uns: 'cell_type', 'condition', 'database_id', 'figure', 'paper', 'sample_id', 'species', 'technology', 'tissue', 'hvg',\n",
              " 'resultGSM4037301': AnnData object with n_obs × n_vars = 3144 × 3000\n",
              "     obs: 'cell_counts', 'n_genes', 'percent_mito', 'pass_count_filter', 'pass_mito_filter', 'cell_type', 'condition', 'database_id', 'figure', 'paper', 'sample_id', 'species', 'technology', 'tissue'\n",
              "     var: 'gene_name', 'gene_id', 'gene_counts', 'n_cells', 'pass_gene_filter', 'highly_variable', 'highly_variable_rank', 'means', 'variances', 'variances_norm'\n",
              "     uns: 'cell_type', 'condition', 'database_id', 'figure', 'paper', 'sample_id', 'species', 'technology', 'tissue', 'hvg',\n",
              " 'resultGSM4037302': AnnData object with n_obs × n_vars = 3519 × 3000\n",
              "     obs: 'cell_counts', 'n_genes', 'percent_mito', 'pass_count_filter', 'pass_mito_filter', 'cell_type', 'condition', 'database_id', 'figure', 'paper', 'sample_id', 'species', 'technology', 'tissue'\n",
              "     var: 'gene_name', 'gene_id', 'gene_counts', 'n_cells', 'pass_gene_filter', 'highly_variable', 'highly_variable_rank', 'means', 'variances', 'variances_norm'\n",
              "     uns: 'cell_type', 'condition', 'database_id', 'figure', 'paper', 'sample_id', 'species', 'technology', 'tissue', 'hvg',\n",
              " 'resultGSM4037305': AnnData object with n_obs × n_vars = 8879 × 3000\n",
              "     obs: 'cell_counts', 'n_genes', 'percent_mito', 'pass_count_filter', 'pass_mito_filter', 'cell_type', 'condition', 'database_id', 'figure', 'paper', 'sample_id', 'species', 'technology', 'tissue'\n",
              "     var: 'gene_name', 'gene_id', 'gene_counts', 'n_cells', 'pass_gene_filter', 'highly_variable', 'highly_variable_rank', 'means', 'variances', 'variances_norm'\n",
              "     uns: 'cell_type', 'condition', 'database_id', 'figure', 'paper', 'sample_id', 'species', 'technology', 'tissue', 'hvg',\n",
              " 'resultGSM4037306': AnnData object with n_obs × n_vars = 3916 × 3000\n",
              "     obs: 'cell_counts', 'n_genes', 'percent_mito', 'pass_count_filter', 'pass_mito_filter', 'cell_type', 'condition', 'database_id', 'figure', 'paper', 'sample_id', 'species', 'technology', 'tissue'\n",
              "     var: 'gene_name', 'gene_id', 'gene_counts', 'n_cells', 'pass_gene_filter', 'highly_variable', 'highly_variable_rank', 'means', 'variances', 'variances_norm'\n",
              "     uns: 'cell_type', 'condition', 'database_id', 'figure', 'paper', 'sample_id', 'species', 'technology', 'tissue', 'hvg',\n",
              " 'resultGSM4037309': AnnData object with n_obs × n_vars = 1511 × 3000\n",
              "     obs: 'cell_counts', 'n_genes', 'percent_mito', 'pass_count_filter', 'pass_mito_filter', 'cell_type', 'condition', 'database_id', 'figure', 'paper', 'sample_id', 'species', 'technology', 'tissue'\n",
              "     var: 'gene_id', 'gene_name', 'gene_counts', 'n_cells', 'pass_gene_filter', 'highly_variable', 'highly_variable_rank', 'means', 'variances', 'variances_norm'\n",
              "     uns: 'cell_type', 'condition', 'database_id', 'figure', 'paper', 'sample_id', 'species', 'technology', 'tissue', 'hvg',\n",
              " 'resultGSM4037313': AnnData object with n_obs × n_vars = 7746 × 3000\n",
              "     obs: 'cell_counts', 'n_genes', 'percent_mito', 'pass_count_filter', 'pass_mito_filter', 'cell_type', 'condition', 'database_id', 'figure', 'paper', 'sample_id', 'species', 'technology', 'tissue'\n",
              "     var: 'gene_id', 'gene_name', 'gene_counts', 'n_cells', 'pass_gene_filter', 'highly_variable', 'highly_variable_rank', 'means', 'variances', 'variances_norm'\n",
              "     uns: 'cell_type', 'condition', 'database_id', 'figure', 'paper', 'sample_id', 'species', 'technology', 'tissue', 'hvg',\n",
              " 'resultGSM4037316': AnnData object with n_obs × n_vars = 3254 × 3000\n",
              "     obs: 'cell_counts', 'n_genes', 'percent_mito', 'pass_count_filter', 'pass_mito_filter', 'cell_type', 'condition', 'database_id', 'figure', 'paper', 'sample_id', 'species', 'technology', 'tissue'\n",
              "     var: 'gene_name', 'gene_id', 'gene_counts', 'n_cells', 'pass_gene_filter', 'highly_variable', 'highly_variable_rank', 'means', 'variances', 'variances_norm'\n",
              "     uns: 'cell_type', 'condition', 'database_id', 'figure', 'paper', 'sample_id', 'species', 'technology', 'tissue', 'hvg',\n",
              " 'resultGSM4037323': AnnData object with n_obs × n_vars = 7562 × 3000\n",
              "     obs: 'cell_counts', 'n_genes', 'percent_mito', 'pass_count_filter', 'pass_mito_filter', 'cell_type', 'condition', 'database_id', 'figure', 'paper', 'sample_id', 'species', 'technology', 'tissue'\n",
              "     var: 'gene_id', 'gene_name', 'gene_counts', 'n_cells', 'pass_gene_filter', 'highly_variable', 'highly_variable_rank', 'means', 'variances', 'variances_norm'\n",
              "     uns: 'cell_type', 'condition', 'database_id', 'figure', 'paper', 'sample_id', 'species', 'technology', 'tissue', 'hvg',\n",
              " 'resultGSM4037324': AnnData object with n_obs × n_vars = 7729 × 3000\n",
              "     obs: 'cell_counts', 'n_genes', 'percent_mito', 'pass_count_filter', 'pass_mito_filter', 'cell_type', 'condition', 'database_id', 'figure', 'paper', 'sample_id', 'species', 'technology', 'tissue'\n",
              "     var: 'gene_id', 'gene_name', 'gene_counts', 'n_cells', 'pass_gene_filter', 'highly_variable', 'highly_variable_rank', 'means', 'variances', 'variances_norm'\n",
              "     uns: 'cell_type', 'condition', 'database_id', 'figure', 'paper', 'sample_id', 'species', 'technology', 'tissue', 'hvg',\n",
              " 'resultGSM4037325': AnnData object with n_obs × n_vars = 5551 × 3000\n",
              "     obs: 'cell_counts', 'n_genes', 'percent_mito', 'pass_count_filter', 'pass_mito_filter', 'cell_type', 'condition', 'database_id', 'figure', 'paper', 'sample_id', 'species', 'technology', 'tissue'\n",
              "     var: 'gene_name', 'gene_id', 'gene_counts', 'n_cells', 'pass_gene_filter', 'highly_variable', 'highly_variable_rank', 'means', 'variances', 'variances_norm'\n",
              "     uns: 'cell_type', 'condition', 'database_id', 'figure', 'paper', 'sample_id', 'species', 'technology', 'tissue', 'hvg',\n",
              " 'resultGSM4080085': AnnData object with n_obs × n_vars = 58747 × 3000\n",
              "     obs: 'cell_counts', 'n_genes', 'percent_mito', 'pass_count_filter', 'pass_mito_filter', 'cell_type', 'condition', 'database_id', 'figure', 'paper', 'sample_id', 'species', 'technology', 'tissue'\n",
              "     var: 'gene_id', 'gene_name', 'gene_counts', 'n_cells', 'pass_gene_filter', 'highly_variable', 'highly_variable_rank', 'means', 'variances', 'variances_norm'\n",
              "     uns: 'cell_type', 'condition', 'database_id', 'figure', 'paper', 'sample_id', 'species', 'technology', 'tissue', 'hvg',\n",
              " 'resultGSM4080086': AnnData object with n_obs × n_vars = 58542 × 3000\n",
              "     obs: 'cell_counts', 'n_genes', 'percent_mito', 'pass_count_filter', 'pass_mito_filter', 'cell_type', 'condition', 'database_id', 'figure', 'paper', 'sample_id', 'species', 'technology', 'tissue'\n",
              "     var: 'gene_id', 'gene_name', 'gene_counts', 'n_cells', 'pass_gene_filter', 'highly_variable', 'highly_variable_rank', 'means', 'variances', 'variances_norm'\n",
              "     uns: 'cell_type', 'condition', 'database_id', 'figure', 'paper', 'sample_id', 'species', 'technology', 'tissue', 'hvg',\n",
              " 'resultGSM4080087': AnnData object with n_obs × n_vars = 5924 × 3000\n",
              "     obs: 'cell_counts', 'n_genes', 'percent_mito', 'pass_count_filter', 'pass_mito_filter', 'cell_type', 'condition', 'database_id', 'figure', 'paper', 'sample_id', 'species', 'technology', 'tissue'\n",
              "     var: 'gene_id', 'gene_name', 'gene_counts', 'n_cells', 'pass_gene_filter', 'highly_variable', 'highly_variable_rank', 'means', 'variances', 'variances_norm'\n",
              "     uns: 'cell_type', 'condition', 'database_id', 'figure', 'paper', 'sample_id', 'species', 'technology', 'tissue', 'hvg',\n",
              " 'resultGSM4080088': AnnData object with n_obs × n_vars = 2688 × 3000\n",
              "     obs: 'cell_counts', 'n_genes', 'percent_mito', 'pass_count_filter', 'pass_mito_filter', 'cell_type', 'condition', 'database_id', 'figure', 'paper', 'sample_id', 'species', 'technology', 'tissue'\n",
              "     var: 'gene_id', 'gene_name', 'gene_counts', 'n_cells', 'pass_gene_filter', 'highly_variable', 'highly_variable_rank', 'means', 'variances', 'variances_norm'\n",
              "     uns: 'cell_type', 'condition', 'database_id', 'figure', 'paper', 'sample_id', 'species', 'technology', 'tissue', 'hvg',\n",
              " 'resultGSM4080089': AnnData object with n_obs × n_vars = 4607 × 3000\n",
              "     obs: 'cell_counts', 'n_genes', 'percent_mito', 'pass_count_filter', 'pass_mito_filter', 'cell_type', 'condition', 'database_id', 'figure', 'paper', 'sample_id', 'species', 'technology', 'tissue'\n",
              "     var: 'gene_id', 'gene_name', 'gene_counts', 'n_cells', 'pass_gene_filter', 'highly_variable', 'highly_variable_rank', 'means', 'variances', 'variances_norm'\n",
              "     uns: 'cell_type', 'condition', 'database_id', 'figure', 'paper', 'sample_id', 'species', 'technology', 'tissue', 'hvg',\n",
              " 'resultGSM4142870': AnnData object with n_obs × n_vars = 6564 × 3000\n",
              "     obs: 'cell_counts', 'n_genes', 'percent_mito', 'pass_count_filter', 'pass_mito_filter', 'cell_type', 'condition', 'database_id', 'figure', 'paper', 'sample_id', 'species', 'technology', 'tissue'\n",
              "     var: 'gene_name', 'gene_id', 'gene_counts', 'n_cells', 'pass_gene_filter', 'highly_variable', 'highly_variable_rank', 'means', 'variances', 'variances_norm'\n",
              "     uns: 'cell_type', 'condition', 'database_id', 'figure', 'paper', 'sample_id', 'species', 'technology', 'tissue', 'hvg',\n",
              " 'resultGSM4142871': AnnData object with n_obs × n_vars = 159 × 3000\n",
              "     obs: 'cell_counts', 'n_genes', 'percent_mito', 'pass_count_filter', 'pass_mito_filter', 'cell_type', 'condition', 'database_id', 'figure', 'paper', 'sample_id', 'species', 'technology', 'tissue'\n",
              "     var: 'gene_name', 'gene_id', 'gene_counts', 'n_cells', 'pass_gene_filter', 'highly_variable', 'highly_variable_rank', 'means', 'variances', 'variances_norm'\n",
              "     uns: 'cell_type', 'condition', 'database_id', 'figure', 'paper', 'sample_id', 'species', 'technology', 'tissue', 'hvg',\n",
              " 'resultGSM4142873': AnnData object with n_obs × n_vars = 160 × 3000\n",
              "     obs: 'cell_counts', 'n_genes', 'percent_mito', 'pass_count_filter', 'pass_mito_filter', 'cell_type', 'condition', 'database_id', 'figure', 'paper', 'sample_id', 'species', 'technology', 'tissue'\n",
              "     var: 'gene_name', 'gene_id', 'gene_counts', 'n_cells', 'pass_gene_filter', 'highly_variable', 'highly_variable_rank', 'means', 'variances', 'variances_norm'\n",
              "     uns: 'cell_type', 'condition', 'database_id', 'figure', 'paper', 'sample_id', 'species', 'technology', 'tissue', 'hvg',\n",
              " 'resultGSM4463223': AnnData object with n_obs × n_vars = 5338 × 3000\n",
              "     obs: 'cell_counts', 'n_genes', 'percent_mito', 'pass_count_filter', 'pass_mito_filter', 'cell_type', 'condition', 'database_id', 'figure', 'paper', 'sample_id', 'species', 'technology', 'tissue'\n",
              "     var: 'gene_id', 'gene_name', 'gene_counts', 'n_cells', 'pass_gene_filter', 'highly_variable', 'highly_variable_rank', 'means', 'variances', 'variances_norm'\n",
              "     uns: 'cell_type', 'condition', 'database_id', 'figure', 'paper', 'sample_id', 'species', 'technology', 'tissue', 'hvg',\n",
              " 'resultGSM4463229': AnnData object with n_obs × n_vars = 2050 × 3000\n",
              "     obs: 'cell_counts', 'n_genes', 'percent_mito', 'pass_count_filter', 'pass_mito_filter', 'cell_type', 'condition', 'database_id', 'figure', 'paper', 'sample_id', 'species', 'technology', 'tissue'\n",
              "     var: 'gene_id', 'gene_name', 'gene_counts', 'n_cells', 'pass_gene_filter', 'highly_variable', 'highly_variable_rank', 'means', 'variances', 'variances_norm'\n",
              "     uns: 'cell_type', 'condition', 'database_id', 'figure', 'paper', 'sample_id', 'species', 'technology', 'tissue', 'hvg',\n",
              " 'resultGSM4463234': AnnData object with n_obs × n_vars = 2516 × 3000\n",
              "     obs: 'cell_counts', 'n_genes', 'percent_mito', 'pass_count_filter', 'pass_mito_filter', 'cell_type', 'condition', 'database_id', 'figure', 'paper', 'sample_id', 'species', 'technology', 'tissue'\n",
              "     var: 'gene_id', 'gene_name', 'gene_counts', 'n_cells', 'pass_gene_filter', 'highly_variable', 'highly_variable_rank', 'means', 'variances', 'variances_norm'\n",
              "     uns: 'cell_type', 'condition', 'database_id', 'figure', 'paper', 'sample_id', 'species', 'technology', 'tissue', 'hvg',\n",
              " 'resultGSM4463239': AnnData object with n_obs × n_vars = 3217 × 3000\n",
              "     obs: 'cell_counts', 'n_genes', 'percent_mito', 'pass_count_filter', 'pass_mito_filter', 'cell_type', 'condition', 'database_id', 'figure', 'paper', 'sample_id', 'species', 'technology', 'tissue'\n",
              "     var: 'gene_id', 'gene_name', 'gene_counts', 'n_cells', 'pass_gene_filter', 'highly_variable', 'highly_variable_rank', 'means', 'variances', 'variances_norm'\n",
              "     uns: 'cell_type', 'condition', 'database_id', 'figure', 'paper', 'sample_id', 'species', 'technology', 'tissue', 'hvg',\n",
              " 'resultGSM4463244': AnnData object with n_obs × n_vars = 1863 × 3000\n",
              "     obs: 'cell_counts', 'n_genes', 'percent_mito', 'pass_count_filter', 'pass_mito_filter', 'cell_type', 'condition', 'database_id', 'figure', 'paper', 'sample_id', 'species', 'technology', 'tissue'\n",
              "     var: 'gene_id', 'gene_name', 'gene_counts', 'n_cells', 'pass_gene_filter', 'highly_variable', 'highly_variable_rank', 'means', 'variances', 'variances_norm'\n",
              "     uns: 'cell_type', 'condition', 'database_id', 'figure', 'paper', 'sample_id', 'species', 'technology', 'tissue', 'hvg',\n",
              " 'resultGSM4463249': AnnData object with n_obs × n_vars = 3747 × 3000\n",
              "     obs: 'cell_counts', 'n_genes', 'percent_mito', 'pass_count_filter', 'pass_mito_filter', 'cell_type', 'condition', 'database_id', 'figure', 'paper', 'sample_id', 'species', 'technology', 'tissue'\n",
              "     var: 'gene_id', 'gene_name', 'gene_counts', 'n_cells', 'pass_gene_filter', 'highly_variable', 'highly_variable_rank', 'means', 'variances', 'variances_norm'\n",
              "     uns: 'cell_type', 'condition', 'database_id', 'figure', 'paper', 'sample_id', 'species', 'technology', 'tissue', 'hvg',\n",
              " 'resultGSM4463253': AnnData object with n_obs × n_vars = 202 × 3000\n",
              "     obs: 'cell_counts', 'n_genes', 'percent_mito', 'pass_count_filter', 'pass_mito_filter', 'cell_type', 'condition', 'database_id', 'figure', 'paper', 'sample_id', 'species', 'technology', 'tissue'\n",
              "     var: 'gene_id', 'gene_name', 'gene_counts', 'n_cells', 'pass_gene_filter', 'highly_variable', 'highly_variable_rank', 'means', 'variances', 'variances_norm'\n",
              "     uns: 'cell_type', 'condition', 'database_id', 'figure', 'paper', 'sample_id', 'species', 'technology', 'tissue', 'hvg'}"
            ]
          },
          "metadata": {
            "tags": []
          },
          "execution_count": 20
        }
      ]
    },
    {
      "cell_type": "code",
      "metadata": {
        "id": "AjwvZBBtZY4b"
      },
      "source": [
        "# Turns out we have duplicated names from (did with SRA table) Until I figure this out I will just rename then:\n",
        "\n",
        "def uniq(input):\n",
        "  a = 0\n",
        "  output = []\n",
        "  for x in input:\n",
        "    if x not in output:\n",
        "      output.append(x)\n",
        "    else:\n",
        "      output.append(x + str(a))\n",
        "      a+=1\n",
        "  return output\n",
        "\n",
        "\n",
        "adata_keys_unique = uniq(adata_keys)"
      ],
      "execution_count": 43,
      "outputs": []
    },
    {
      "cell_type": "code",
      "metadata": {
        "id": "R3mHB3Icfo5Q"
      },
      "source": [
        "# Get list of adata to concatenate\n",
        "adata_list = [adata_objects[name] for name in adata_names]\n",
        "adata_keys = [nd(adata_objects[name].obs[\"sample_id\"])[0] for name in adata_names]"
      ],
      "execution_count": 21,
      "outputs": []
    },
    {
      "cell_type": "code",
      "metadata": {
        "id": "HclIHMJ0XwC8"
      },
      "source": [
        "concat_samples = anndata.concat(adata_list, join='outer', label = \"sample_id\", keys = adata_keys_unique, index_unique=\"_\")"
      ],
      "execution_count": 44,
      "outputs": []
    },
    {
      "cell_type": "code",
      "metadata": {
        "colab": {
          "base_uri": "https://localhost:8080/"
        },
        "id": "HxXE_7r0Z7Gy",
        "outputId": "d7a506e1-d43f-46e5-b504-2c6c5ffc347c"
      },
      "source": [
        "np.unique(concat_samples.obs[\"tissue\"])"
      ],
      "execution_count": 48,
      "outputs": [
        {
          "output_type": "execute_result",
          "data": {
            "text/plain": [
              "array(['adipose', 'bladder', 'blood', 'bone marrow', 'brain',\n",
              "       'brain organoid', 'eye', 'kidney', 'lung', 'mammary',\n",
              "       'olfactory epithelium', 'ovary', 'peritoneal', 'prostate',\n",
              "       'respiratory epithelium', 'skin', 'testis', 'tonsil'], dtype=object)"
            ]
          },
          "metadata": {
            "tags": []
          },
          "execution_count": 48
        }
      ]
    },
    {
      "cell_type": "code",
      "metadata": {
        "colab": {
          "base_uri": "https://localhost:8080/"
        },
        "id": "1R32nTEQaHFQ",
        "outputId": "7586d772-476c-4563-a91c-6059f56b017c"
      },
      "source": [
        "concat_samples.write(\"concatenated_adatas_3000genes.dms\")"
      ],
      "execution_count": 49,
      "outputs": [
        {
          "output_type": "stream",
          "text": [
            "... storing 'cell_type' as categorical\n",
            "... storing 'condition' as categorical\n",
            "... storing 'database_id' as categorical\n",
            "... storing 'figure' as categorical\n",
            "... storing 'paper' as categorical\n",
            "... storing 'species' as categorical\n",
            "... storing 'technology' as categorical\n",
            "... storing 'tissue' as categorical\n"
          ],
          "name": "stderr"
        }
      ]
    }
  ]
}