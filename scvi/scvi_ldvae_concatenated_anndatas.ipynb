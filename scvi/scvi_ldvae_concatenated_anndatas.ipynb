{
  "nbformat": 4,
  "nbformat_minor": 0,
  "metadata": {
    "colab": {
      "name": "scvi_ldvae_concatenated_anndatas.ipynb",
      "provenance": [],
      "collapsed_sections": [],
      "toc_visible": true,
      "machine_shape": "hm",
      "authorship_tag": "ABX9TyM1wSluse5EdPKo0x2BSAxy",
      "include_colab_link": true
    },
    "kernelspec": {
      "name": "python3",
      "display_name": "Python 3"
    },
    "accelerator": "GPU"
  },
  "cells": [
    {
      "cell_type": "markdown",
      "metadata": {
        "id": "view-in-github",
        "colab_type": "text"
      },
      "source": [
        "<a href=\"https://colab.research.google.com/github/agalvezm/ACE2_scRNAseq/blob/master/scvi/scvi_ldvae_concatenated_anndatas.ipynb\" target=\"_parent\"><img src=\"https://colab.research.google.com/assets/colab-badge.svg\" alt=\"Open In Colab\"/></a>"
      ]
    },
    {
      "cell_type": "markdown",
      "metadata": {
        "id": "BjCIIdY1lYme"
      },
      "source": [
        "## Import and install packages"
      ]
    },
    {
      "cell_type": "code",
      "metadata": {
        "colab": {
          "base_uri": "https://localhost:8080/"
        },
        "id": "9AtrxyrSj5ZB",
        "outputId": "04f1b85e-0982-439b-ba98-1edbb36c2fe4"
      },
      "source": [
        "!pip install scikit-misc\n",
        "!pip install pillow scikit-learn\n",
        "\n",
        "# Install scvi\n",
        "!pip install scvi-tools\n",
        "#!pip install scvi-tools==0.8.0b0\n",
        "\n",
        "\n",
        "!pip install scanpy anndata\n",
        "\n",
        "!pip install scanpy python-igraph louvain MulticoreTSNE pybiomart\n",
        "\n",
        "#import packages\n",
        "import scanpy as sc\n",
        "import numpy as np\n",
        "import pandas as pd\n",
        "import matplotlib.pyplot as plt\n",
        "import seaborn as sns\n",
        "import anndata\n",
        "import scvi\n",
        "\n",
        "\n",
        "# Import packages\n",
        "import anndata\n",
        "import matplotlib\n",
        "import matplotlib.pyplot as plt\n",
        "import numpy as np\n",
        "import pandas as pd\n",
        "import scanpy as sc\n",
        "from sklearn.decomposition import TruncatedSVD\n",
        "from scipy import sparse, io\n",
        "\n",
        "matplotlib.rcParams.update({'font.size': 12})\n",
        "%config InlineBackend.figure_format = 'retina'\n",
        "\n",
        "def nd(arr):\n",
        "    return np.asarray(arr).reshape(-1)"
      ],
      "execution_count": 5,
      "outputs": [
        {
          "output_type": "stream",
          "text": [
            "Collecting scikit-misc\n",
            "\u001b[?25l  Downloading https://files.pythonhosted.org/packages/e5/a9/7e539368f6a3c7cc071481fad9872825b174cd86408be40bd8b286d3977c/scikit_misc-0.1.3-cp36-cp36m-manylinux1_x86_64.whl (8.7MB)\n",
            "\u001b[K     |████████████████████████████████| 8.7MB 4.6MB/s \n",
            "\u001b[?25hRequirement already satisfied: numpy in /usr/local/lib/python3.6/dist-packages (from scikit-misc) (1.19.5)\n",
            "Installing collected packages: scikit-misc\n",
            "Successfully installed scikit-misc-0.1.3\n",
            "Requirement already satisfied: pillow in /usr/local/lib/python3.6/dist-packages (7.0.0)\n",
            "Requirement already satisfied: scikit-learn in /usr/local/lib/python3.6/dist-packages (0.22.2.post1)\n",
            "Requirement already satisfied: scipy>=0.17.0 in /usr/local/lib/python3.6/dist-packages (from scikit-learn) (1.4.1)\n",
            "Requirement already satisfied: numpy>=1.11.0 in /usr/local/lib/python3.6/dist-packages (from scikit-learn) (1.19.5)\n",
            "Requirement already satisfied: joblib>=0.11 in /usr/local/lib/python3.6/dist-packages (from scikit-learn) (1.0.0)\n",
            "Collecting scvi-tools\n",
            "\u001b[?25l  Downloading https://files.pythonhosted.org/packages/82/fb/c7094dc71ff68c50ea233767302ca61f05f81a943935b616cad38476d900/scvi_tools-0.8.1-py3-none-any.whl (149kB)\n",
            "\u001b[K     |████████████████████████████████| 153kB 5.4MB/s \n",
            "\u001b[?25hRequirement already satisfied: hyperopt==0.1.2 in /usr/local/lib/python3.6/dist-packages (from scvi-tools) (0.1.2)\n",
            "Requirement already satisfied: torch>=1.3 in /usr/local/lib/python3.6/dist-packages (from scvi-tools) (1.7.0+cu101)\n",
            "Collecting openpyxl>=3.0\n",
            "\u001b[?25l  Downloading https://files.pythonhosted.org/packages/d4/c5/1a5f82b3020bfb27f21b302f96c8ae6a34475070015d1b1e0b197a97e2af/openpyxl-3.0.6-py2.py3-none-any.whl (242kB)\n",
            "\u001b[K     |████████████████████████████████| 245kB 36.6MB/s \n",
            "\u001b[?25hRequirement already satisfied: h5py>=2.9.0 in /usr/local/lib/python3.6/dist-packages (from scvi-tools) (2.10.0)\n",
            "Requirement already satisfied: ipywidgets in /usr/local/lib/python3.6/dist-packages (from scvi-tools) (7.6.3)\n",
            "Collecting anndata>=0.7.5\n",
            "\u001b[?25l  Downloading https://files.pythonhosted.org/packages/81/b1/743cc79f89d9db6dccbfb7e6000795acb218a6c6320b7a2337cad99bd047/anndata-0.7.5-py3-none-any.whl (119kB)\n",
            "\u001b[K     |████████████████████████████████| 122kB 64.4MB/s \n",
            "\u001b[?25hRequirement already satisfied: numba>=0.41.0 in /usr/local/lib/python3.6/dist-packages (from scvi-tools) (0.51.2)\n",
            "Collecting rich>=6.2.0\n",
            "\u001b[?25l  Downloading https://files.pythonhosted.org/packages/41/60/765dc36f3623c22fd08f152bfae65cc9f0d815c05503ea50f7c189486d10/rich-9.10.0-py3-none-any.whl (188kB)\n",
            "\u001b[K     |████████████████████████████████| 194kB 74.4MB/s \n",
            "\u001b[?25hRequirement already satisfied: scikit-learn>=0.21.2 in /usr/local/lib/python3.6/dist-packages (from scvi-tools) (0.22.2.post1)\n",
            "Requirement already satisfied: tqdm>=4.31.1 in /usr/local/lib/python3.6/dist-packages (from scvi-tools) (4.41.1)\n",
            "Collecting importlib-metadata<2.0,>=1.0; python_version < \"3.8\"\n",
            "  Downloading https://files.pythonhosted.org/packages/8e/58/cdea07eb51fc2b906db0968a94700866fc46249bdc75cac23f9d13168929/importlib_metadata-1.7.0-py2.py3-none-any.whl\n",
            "Requirement already satisfied: numpy>=1.17.0 in /usr/local/lib/python3.6/dist-packages (from scvi-tools) (1.19.5)\n",
            "Requirement already satisfied: pandas>=1.0 in /usr/local/lib/python3.6/dist-packages (from scvi-tools) (1.1.5)\n",
            "Requirement already satisfied: scipy in /usr/local/lib/python3.6/dist-packages (from hyperopt==0.1.2->scvi-tools) (1.4.1)\n",
            "Requirement already satisfied: pymongo in /usr/local/lib/python3.6/dist-packages (from hyperopt==0.1.2->scvi-tools) (3.11.2)\n",
            "Requirement already satisfied: six in /usr/local/lib/python3.6/dist-packages (from hyperopt==0.1.2->scvi-tools) (1.15.0)\n",
            "Requirement already satisfied: future in /usr/local/lib/python3.6/dist-packages (from hyperopt==0.1.2->scvi-tools) (0.16.0)\n",
            "Requirement already satisfied: networkx in /usr/local/lib/python3.6/dist-packages (from hyperopt==0.1.2->scvi-tools) (2.5)\n",
            "Requirement already satisfied: typing-extensions in /usr/local/lib/python3.6/dist-packages (from torch>=1.3->scvi-tools) (3.7.4.3)\n",
            "Requirement already satisfied: dataclasses in /usr/local/lib/python3.6/dist-packages (from torch>=1.3->scvi-tools) (0.8)\n",
            "Requirement already satisfied: et-xmlfile in /usr/local/lib/python3.6/dist-packages (from openpyxl>=3.0->scvi-tools) (1.0.1)\n",
            "Requirement already satisfied: jdcal in /usr/local/lib/python3.6/dist-packages (from openpyxl>=3.0->scvi-tools) (1.4.1)\n",
            "Requirement already satisfied: nbformat>=4.2.0 in /usr/local/lib/python3.6/dist-packages (from ipywidgets->scvi-tools) (5.1.2)\n",
            "Requirement already satisfied: traitlets>=4.3.1 in /usr/local/lib/python3.6/dist-packages (from ipywidgets->scvi-tools) (4.3.3)\n",
            "Requirement already satisfied: ipython>=4.0.0; python_version >= \"3.3\" in /usr/local/lib/python3.6/dist-packages (from ipywidgets->scvi-tools) (5.5.0)\n",
            "Requirement already satisfied: widgetsnbextension~=3.5.0 in /usr/local/lib/python3.6/dist-packages (from ipywidgets->scvi-tools) (3.5.1)\n",
            "Requirement already satisfied: jupyterlab-widgets>=1.0.0; python_version >= \"3.6\" in /usr/local/lib/python3.6/dist-packages (from ipywidgets->scvi-tools) (1.0.0)\n",
            "Requirement already satisfied: ipykernel>=4.5.1 in /usr/local/lib/python3.6/dist-packages (from ipywidgets->scvi-tools) (4.10.1)\n",
            "Requirement already satisfied: packaging in /usr/local/lib/python3.6/dist-packages (from anndata>=0.7.5->scvi-tools) (20.8)\n",
            "Requirement already satisfied: natsort in /usr/local/lib/python3.6/dist-packages (from anndata>=0.7.5->scvi-tools) (5.5.0)\n",
            "Requirement already satisfied: setuptools in /usr/local/lib/python3.6/dist-packages (from numba>=0.41.0->scvi-tools) (53.0.0)\n",
            "Requirement already satisfied: llvmlite<0.35,>=0.34.0.dev0 in /usr/local/lib/python3.6/dist-packages (from numba>=0.41.0->scvi-tools) (0.34.0)\n",
            "Collecting colorama<0.5.0,>=0.4.0\n",
            "  Downloading https://files.pythonhosted.org/packages/44/98/5b86278fbbf250d239ae0ecb724f8572af1c91f4a11edf4d36a206189440/colorama-0.4.4-py2.py3-none-any.whl\n",
            "Requirement already satisfied: pygments<3.0.0,>=2.6.0 in /usr/local/lib/python3.6/dist-packages (from rich>=6.2.0->scvi-tools) (2.6.1)\n",
            "Collecting commonmark<0.10.0,>=0.9.0\n",
            "\u001b[?25l  Downloading https://files.pythonhosted.org/packages/b1/92/dfd892312d822f36c55366118b95d914e5f16de11044a27cf10a7d71bbbf/commonmark-0.9.1-py2.py3-none-any.whl (51kB)\n",
            "\u001b[K     |████████████████████████████████| 51kB 7.3MB/s \n",
            "\u001b[?25hRequirement already satisfied: joblib>=0.11 in /usr/local/lib/python3.6/dist-packages (from scikit-learn>=0.21.2->scvi-tools) (1.0.0)\n",
            "Requirement already satisfied: zipp>=0.5 in /usr/local/lib/python3.6/dist-packages (from importlib-metadata<2.0,>=1.0; python_version < \"3.8\"->scvi-tools) (3.4.0)\n",
            "Requirement already satisfied: pytz>=2017.2 in /usr/local/lib/python3.6/dist-packages (from pandas>=1.0->scvi-tools) (2018.9)\n",
            "Requirement already satisfied: python-dateutil>=2.7.3 in /usr/local/lib/python3.6/dist-packages (from pandas>=1.0->scvi-tools) (2.8.1)\n",
            "Requirement already satisfied: decorator>=4.3.0 in /usr/local/lib/python3.6/dist-packages (from networkx->hyperopt==0.1.2->scvi-tools) (4.4.2)\n",
            "Requirement already satisfied: jsonschema!=2.5.0,>=2.4 in /usr/local/lib/python3.6/dist-packages (from nbformat>=4.2.0->ipywidgets->scvi-tools) (2.6.0)\n",
            "Requirement already satisfied: jupyter-core in /usr/local/lib/python3.6/dist-packages (from nbformat>=4.2.0->ipywidgets->scvi-tools) (4.7.0)\n",
            "Requirement already satisfied: ipython-genutils in /usr/local/lib/python3.6/dist-packages (from nbformat>=4.2.0->ipywidgets->scvi-tools) (0.2.0)\n",
            "Requirement already satisfied: prompt-toolkit<2.0.0,>=1.0.4 in /usr/local/lib/python3.6/dist-packages (from ipython>=4.0.0; python_version >= \"3.3\"->ipywidgets->scvi-tools) (1.0.18)\n",
            "Requirement already satisfied: simplegeneric>0.8 in /usr/local/lib/python3.6/dist-packages (from ipython>=4.0.0; python_version >= \"3.3\"->ipywidgets->scvi-tools) (0.8.1)\n",
            "Requirement already satisfied: pickleshare in /usr/local/lib/python3.6/dist-packages (from ipython>=4.0.0; python_version >= \"3.3\"->ipywidgets->scvi-tools) (0.7.5)\n",
            "Requirement already satisfied: pexpect; sys_platform != \"win32\" in /usr/local/lib/python3.6/dist-packages (from ipython>=4.0.0; python_version >= \"3.3\"->ipywidgets->scvi-tools) (4.8.0)\n",
            "Requirement already satisfied: notebook>=4.4.1 in /usr/local/lib/python3.6/dist-packages (from widgetsnbextension~=3.5.0->ipywidgets->scvi-tools) (5.3.1)\n",
            "Requirement already satisfied: tornado>=4.0 in /usr/local/lib/python3.6/dist-packages (from ipykernel>=4.5.1->ipywidgets->scvi-tools) (5.1.1)\n",
            "Requirement already satisfied: jupyter-client in /usr/local/lib/python3.6/dist-packages (from ipykernel>=4.5.1->ipywidgets->scvi-tools) (5.3.5)\n",
            "Requirement already satisfied: pyparsing>=2.0.2 in /usr/local/lib/python3.6/dist-packages (from packaging->anndata>=0.7.5->scvi-tools) (2.4.7)\n",
            "Requirement already satisfied: wcwidth in /usr/local/lib/python3.6/dist-packages (from prompt-toolkit<2.0.0,>=1.0.4->ipython>=4.0.0; python_version >= \"3.3\"->ipywidgets->scvi-tools) (0.2.5)\n",
            "Requirement already satisfied: ptyprocess>=0.5 in /usr/local/lib/python3.6/dist-packages (from pexpect; sys_platform != \"win32\"->ipython>=4.0.0; python_version >= \"3.3\"->ipywidgets->scvi-tools) (0.7.0)\n",
            "Requirement already satisfied: terminado>=0.8.1 in /usr/local/lib/python3.6/dist-packages (from notebook>=4.4.1->widgetsnbextension~=3.5.0->ipywidgets->scvi-tools) (0.9.2)\n",
            "Requirement already satisfied: nbconvert in /usr/local/lib/python3.6/dist-packages (from notebook>=4.4.1->widgetsnbextension~=3.5.0->ipywidgets->scvi-tools) (5.6.1)\n",
            "Requirement already satisfied: jinja2 in /usr/local/lib/python3.6/dist-packages (from notebook>=4.4.1->widgetsnbextension~=3.5.0->ipywidgets->scvi-tools) (2.11.2)\n",
            "Requirement already satisfied: Send2Trash in /usr/local/lib/python3.6/dist-packages (from notebook>=4.4.1->widgetsnbextension~=3.5.0->ipywidgets->scvi-tools) (1.5.0)\n",
            "Requirement already satisfied: pyzmq>=13 in /usr/local/lib/python3.6/dist-packages (from jupyter-client->ipykernel>=4.5.1->ipywidgets->scvi-tools) (22.0.2)\n",
            "Requirement already satisfied: pandocfilters>=1.4.1 in /usr/local/lib/python3.6/dist-packages (from nbconvert->notebook>=4.4.1->widgetsnbextension~=3.5.0->ipywidgets->scvi-tools) (1.4.3)\n",
            "Requirement already satisfied: bleach in /usr/local/lib/python3.6/dist-packages (from nbconvert->notebook>=4.4.1->widgetsnbextension~=3.5.0->ipywidgets->scvi-tools) (3.2.3)\n",
            "Requirement already satisfied: entrypoints>=0.2.2 in /usr/local/lib/python3.6/dist-packages (from nbconvert->notebook>=4.4.1->widgetsnbextension~=3.5.0->ipywidgets->scvi-tools) (0.3)\n",
            "Requirement already satisfied: mistune<2,>=0.8.1 in /usr/local/lib/python3.6/dist-packages (from nbconvert->notebook>=4.4.1->widgetsnbextension~=3.5.0->ipywidgets->scvi-tools) (0.8.4)\n",
            "Requirement already satisfied: defusedxml in /usr/local/lib/python3.6/dist-packages (from nbconvert->notebook>=4.4.1->widgetsnbextension~=3.5.0->ipywidgets->scvi-tools) (0.6.0)\n",
            "Requirement already satisfied: testpath in /usr/local/lib/python3.6/dist-packages (from nbconvert->notebook>=4.4.1->widgetsnbextension~=3.5.0->ipywidgets->scvi-tools) (0.4.4)\n",
            "Requirement already satisfied: MarkupSafe>=0.23 in /usr/local/lib/python3.6/dist-packages (from jinja2->notebook>=4.4.1->widgetsnbextension~=3.5.0->ipywidgets->scvi-tools) (1.1.1)\n",
            "Requirement already satisfied: webencodings in /usr/local/lib/python3.6/dist-packages (from bleach->nbconvert->notebook>=4.4.1->widgetsnbextension~=3.5.0->ipywidgets->scvi-tools) (0.5.1)\n",
            "Installing collected packages: openpyxl, importlib-metadata, anndata, colorama, commonmark, rich, scvi-tools\n",
            "  Found existing installation: openpyxl 2.5.9\n",
            "    Uninstalling openpyxl-2.5.9:\n",
            "      Successfully uninstalled openpyxl-2.5.9\n",
            "  Found existing installation: importlib-metadata 3.4.0\n",
            "    Uninstalling importlib-metadata-3.4.0:\n",
            "      Successfully uninstalled importlib-metadata-3.4.0\n",
            "Successfully installed anndata-0.7.5 colorama-0.4.4 commonmark-0.9.1 importlib-metadata-1.7.0 openpyxl-3.0.6 rich-9.10.0 scvi-tools-0.8.1\n",
            "Collecting scanpy\n",
            "\u001b[?25l  Downloading https://files.pythonhosted.org/packages/73/b9/87ba735a943b49e5f18c4b5ebb04a84d493ec8cc323341bbb179f3c80553/scanpy-1.7.0-py3-none-any.whl (10.2MB)\n",
            "\u001b[K     |████████████████████████████████| 10.3MB 5.3MB/s \n",
            "\u001b[?25hRequirement already satisfied: anndata in /usr/local/lib/python3.6/dist-packages (0.7.5)\n",
            "Requirement already satisfied: pandas>=0.21 in /usr/local/lib/python3.6/dist-packages (from scanpy) (1.1.5)\n",
            "Requirement already satisfied: matplotlib>=3.1.2 in /usr/local/lib/python3.6/dist-packages (from scanpy) (3.2.2)\n",
            "Requirement already satisfied: umap-learn>=0.3.10 in /usr/local/lib/python3.6/dist-packages (from scanpy) (0.5.0)\n",
            "Requirement already satisfied: statsmodels>=0.10.0rc2 in /usr/local/lib/python3.6/dist-packages (from scanpy) (0.10.2)\n",
            "Requirement already satisfied: networkx>=2.3 in /usr/local/lib/python3.6/dist-packages (from scanpy) (2.5)\n",
            "Requirement already satisfied: patsy in /usr/local/lib/python3.6/dist-packages (from scanpy) (0.5.1)\n",
            "Requirement already satisfied: packaging in /usr/local/lib/python3.6/dist-packages (from scanpy) (20.8)\n",
            "Requirement already satisfied: numpy>=1.17.0 in /usr/local/lib/python3.6/dist-packages (from scanpy) (1.19.5)\n",
            "Requirement already satisfied: tables in /usr/local/lib/python3.6/dist-packages (from scanpy) (3.4.4)\n",
            "Collecting legacy-api-wrap\n",
            "  Downloading https://files.pythonhosted.org/packages/a4/68/da997bc56bb69dcdcee4054f0bc42266909307b905389fbc54c9158f42da/legacy_api_wrap-1.2-py3-none-any.whl\n",
            "Requirement already satisfied: natsort in /usr/local/lib/python3.6/dist-packages (from scanpy) (5.5.0)\n",
            "Requirement already satisfied: tqdm in /usr/local/lib/python3.6/dist-packages (from scanpy) (4.41.1)\n",
            "Requirement already satisfied: seaborn in /usr/local/lib/python3.6/dist-packages (from scanpy) (0.11.1)\n",
            "Requirement already satisfied: scikit-learn>=0.21.2 in /usr/local/lib/python3.6/dist-packages (from scanpy) (0.22.2.post1)\n",
            "Requirement already satisfied: scipy>=1.4 in /usr/local/lib/python3.6/dist-packages (from scanpy) (1.4.1)\n",
            "Requirement already satisfied: joblib in /usr/local/lib/python3.6/dist-packages (from scanpy) (1.0.0)\n",
            "Requirement already satisfied: h5py>=2.10.0 in /usr/local/lib/python3.6/dist-packages (from scanpy) (2.10.0)\n",
            "Requirement already satisfied: importlib-metadata>=0.7; python_version < \"3.8\" in /usr/local/lib/python3.6/dist-packages (from scanpy) (1.7.0)\n",
            "Collecting sinfo\n",
            "  Downloading https://files.pythonhosted.org/packages/e1/4c/aef8456284f1a1c3645b938d9ca72388c9c4878e6e67b8a349c7d22fac78/sinfo-0.3.1.tar.gz\n",
            "Requirement already satisfied: numba>=0.41.0 in /usr/local/lib/python3.6/dist-packages (from scanpy) (0.51.2)\n",
            "Requirement already satisfied: python-dateutil>=2.7.3 in /usr/local/lib/python3.6/dist-packages (from pandas>=0.21->scanpy) (2.8.1)\n",
            "Requirement already satisfied: pytz>=2017.2 in /usr/local/lib/python3.6/dist-packages (from pandas>=0.21->scanpy) (2018.9)\n",
            "Requirement already satisfied: kiwisolver>=1.0.1 in /usr/local/lib/python3.6/dist-packages (from matplotlib>=3.1.2->scanpy) (1.3.1)\n",
            "Requirement already satisfied: pyparsing!=2.0.4,!=2.1.2,!=2.1.6,>=2.0.1 in /usr/local/lib/python3.6/dist-packages (from matplotlib>=3.1.2->scanpy) (2.4.7)\n",
            "Requirement already satisfied: cycler>=0.10 in /usr/local/lib/python3.6/dist-packages (from matplotlib>=3.1.2->scanpy) (0.10.0)\n",
            "Requirement already satisfied: pynndescent>=0.5 in /usr/local/lib/python3.6/dist-packages (from umap-learn>=0.3.10->scanpy) (0.5.1)\n",
            "Requirement already satisfied: decorator>=4.3.0 in /usr/local/lib/python3.6/dist-packages (from networkx>=2.3->scanpy) (4.4.2)\n",
            "Requirement already satisfied: six in /usr/local/lib/python3.6/dist-packages (from patsy->scanpy) (1.15.0)\n",
            "Requirement already satisfied: numexpr>=2.5.2 in /usr/local/lib/python3.6/dist-packages (from tables->scanpy) (2.7.2)\n",
            "Requirement already satisfied: setuptools in /usr/local/lib/python3.6/dist-packages (from legacy-api-wrap->scanpy) (53.0.0)\n",
            "Collecting get-version>=2.0.4\n",
            "\u001b[?25l  Downloading https://files.pythonhosted.org/packages/23/48/7610e884e62fff2183e7bc8592397c39a020267fb5147905fcd3f9cc820c/get_version-2.1-py3-none-any.whl (43kB)\n",
            "\u001b[K     |████████████████████████████████| 51kB 7.2MB/s \n",
            "\u001b[?25hRequirement already satisfied: zipp>=0.5 in /usr/local/lib/python3.6/dist-packages (from importlib-metadata>=0.7; python_version < \"3.8\"->scanpy) (3.4.0)\n",
            "Collecting stdlib_list\n",
            "\u001b[?25l  Downloading https://files.pythonhosted.org/packages/7a/b1/52f59dcf31ead2f0ceff8976288449608d912972b911f55dff712cef5719/stdlib_list-0.8.0-py3-none-any.whl (63kB)\n",
            "\u001b[K     |████████████████████████████████| 71kB 10.6MB/s \n",
            "\u001b[?25hRequirement already satisfied: llvmlite<0.35,>=0.34.0.dev0 in /usr/local/lib/python3.6/dist-packages (from numba>=0.41.0->scanpy) (0.34.0)\n",
            "Building wheels for collected packages: sinfo\n",
            "  Building wheel for sinfo (setup.py) ... \u001b[?25l\u001b[?25hdone\n",
            "  Created wheel for sinfo: filename=sinfo-0.3.1-cp36-none-any.whl size=7014 sha256=a4d8b668551838f3e322e70c6d846c2e03c172e016b9224220f5418422891671\n",
            "  Stored in directory: /root/.cache/pip/wheels/11/f0/23/347d6d8e59787c2bc272162d18223dc3b45bd6dc40aceee6af\n",
            "Successfully built sinfo\n",
            "Installing collected packages: get-version, legacy-api-wrap, stdlib-list, sinfo, scanpy\n",
            "Successfully installed get-version-2.1 legacy-api-wrap-1.2 scanpy-1.7.0 sinfo-0.3.1 stdlib-list-0.8.0\n",
            "Requirement already satisfied: scanpy in /usr/local/lib/python3.6/dist-packages (1.7.0)\n",
            "Collecting python-igraph\n",
            "\u001b[?25l  Downloading https://files.pythonhosted.org/packages/20/6e/3ac2fc339051f652d4a01570d133e4d15321aaec929ffb5f49a67852f8d9/python_igraph-0.8.3-cp36-cp36m-manylinux2010_x86_64.whl (3.2MB)\n",
            "\u001b[K     |████████████████████████████████| 3.2MB 4.3MB/s \n",
            "\u001b[?25hCollecting louvain\n",
            "\u001b[?25l  Downloading https://files.pythonhosted.org/packages/44/49/d81aafdc4b50d9e812bbebc5eacf8d028363ebe0387165cb4a64703cc8f9/louvain-0.7.0-cp36-cp36m-manylinux2010_x86_64.whl (2.1MB)\n",
            "\u001b[K     |████████████████████████████████| 2.2MB 53.5MB/s \n",
            "\u001b[?25hCollecting MulticoreTSNE\n",
            "  Downloading https://files.pythonhosted.org/packages/2d/e8/2afa896fa4eebfa1d0d0ba2673fddac45582ec0f06b2bdda88108ced5425/MulticoreTSNE-0.1.tar.gz\n",
            "Collecting pybiomart\n",
            "  Downloading https://files.pythonhosted.org/packages/4a/6d/23cf5ae8b0a549a60164c49836c8e8eb393747b5fd00a7b5d9445886e0d8/pybiomart-0.2.0-py3-none-any.whl\n",
            "Requirement already satisfied: statsmodels>=0.10.0rc2 in /usr/local/lib/python3.6/dist-packages (from scanpy) (0.10.2)\n",
            "Requirement already satisfied: numba>=0.41.0 in /usr/local/lib/python3.6/dist-packages (from scanpy) (0.51.2)\n",
            "Requirement already satisfied: networkx>=2.3 in /usr/local/lib/python3.6/dist-packages (from scanpy) (2.5)\n",
            "Requirement already satisfied: seaborn in /usr/local/lib/python3.6/dist-packages (from scanpy) (0.11.1)\n",
            "Requirement already satisfied: legacy-api-wrap in /usr/local/lib/python3.6/dist-packages (from scanpy) (1.2)\n",
            "Requirement already satisfied: umap-learn>=0.3.10 in /usr/local/lib/python3.6/dist-packages (from scanpy) (0.5.0)\n",
            "Requirement already satisfied: scipy>=1.4 in /usr/local/lib/python3.6/dist-packages (from scanpy) (1.4.1)\n",
            "Requirement already satisfied: numpy>=1.17.0 in /usr/local/lib/python3.6/dist-packages (from scanpy) (1.19.5)\n",
            "Requirement already satisfied: patsy in /usr/local/lib/python3.6/dist-packages (from scanpy) (0.5.1)\n",
            "Requirement already satisfied: pandas>=0.21 in /usr/local/lib/python3.6/dist-packages (from scanpy) (1.1.5)\n",
            "Requirement already satisfied: natsort in /usr/local/lib/python3.6/dist-packages (from scanpy) (5.5.0)\n",
            "Requirement already satisfied: sinfo in /usr/local/lib/python3.6/dist-packages (from scanpy) (0.3.1)\n",
            "Requirement already satisfied: scikit-learn>=0.21.2 in /usr/local/lib/python3.6/dist-packages (from scanpy) (0.22.2.post1)\n",
            "Requirement already satisfied: matplotlib>=3.1.2 in /usr/local/lib/python3.6/dist-packages (from scanpy) (3.2.2)\n",
            "Requirement already satisfied: tables in /usr/local/lib/python3.6/dist-packages (from scanpy) (3.4.4)\n",
            "Requirement already satisfied: joblib in /usr/local/lib/python3.6/dist-packages (from scanpy) (1.0.0)\n",
            "Requirement already satisfied: tqdm in /usr/local/lib/python3.6/dist-packages (from scanpy) (4.41.1)\n",
            "Requirement already satisfied: importlib-metadata>=0.7; python_version < \"3.8\" in /usr/local/lib/python3.6/dist-packages (from scanpy) (1.7.0)\n",
            "Requirement already satisfied: h5py>=2.10.0 in /usr/local/lib/python3.6/dist-packages (from scanpy) (2.10.0)\n",
            "Requirement already satisfied: packaging in /usr/local/lib/python3.6/dist-packages (from scanpy) (20.8)\n",
            "Requirement already satisfied: anndata>=0.7.4 in /usr/local/lib/python3.6/dist-packages (from scanpy) (0.7.5)\n",
            "Collecting texttable>=1.6.2\n",
            "  Downloading https://files.pythonhosted.org/packages/06/f5/46201c428aebe0eecfa83df66bf3e6caa29659dbac5a56ddfd83cae0d4a4/texttable-1.6.3-py2.py3-none-any.whl\n",
            "Requirement already satisfied: cffi in /usr/local/lib/python3.6/dist-packages (from MulticoreTSNE) (1.14.4)\n",
            "Requirement already satisfied: future in /usr/local/lib/python3.6/dist-packages (from pybiomart) (0.16.0)\n",
            "Collecting requests-cache\n",
            "  Downloading https://files.pythonhosted.org/packages/7f/55/9b1c40eb83c16d8fc79c5f6c2ffade04208b080670fbfc35e0a5effb5a92/requests_cache-0.5.2-py2.py3-none-any.whl\n",
            "Requirement already satisfied: requests in /usr/local/lib/python3.6/dist-packages (from pybiomart) (2.23.0)\n",
            "Requirement already satisfied: llvmlite<0.35,>=0.34.0.dev0 in /usr/local/lib/python3.6/dist-packages (from numba>=0.41.0->scanpy) (0.34.0)\n",
            "Requirement already satisfied: setuptools in /usr/local/lib/python3.6/dist-packages (from numba>=0.41.0->scanpy) (53.0.0)\n",
            "Requirement already satisfied: decorator>=4.3.0 in /usr/local/lib/python3.6/dist-packages (from networkx>=2.3->scanpy) (4.4.2)\n",
            "Requirement already satisfied: get-version>=2.0.4 in /usr/local/lib/python3.6/dist-packages (from legacy-api-wrap->scanpy) (2.1)\n",
            "Requirement already satisfied: pynndescent>=0.5 in /usr/local/lib/python3.6/dist-packages (from umap-learn>=0.3.10->scanpy) (0.5.1)\n",
            "Requirement already satisfied: six in /usr/local/lib/python3.6/dist-packages (from patsy->scanpy) (1.15.0)\n",
            "Requirement already satisfied: python-dateutil>=2.7.3 in /usr/local/lib/python3.6/dist-packages (from pandas>=0.21->scanpy) (2.8.1)\n",
            "Requirement already satisfied: pytz>=2017.2 in /usr/local/lib/python3.6/dist-packages (from pandas>=0.21->scanpy) (2018.9)\n",
            "Requirement already satisfied: stdlib-list in /usr/local/lib/python3.6/dist-packages (from sinfo->scanpy) (0.8.0)\n",
            "Requirement already satisfied: cycler>=0.10 in /usr/local/lib/python3.6/dist-packages (from matplotlib>=3.1.2->scanpy) (0.10.0)\n",
            "Requirement already satisfied: pyparsing!=2.0.4,!=2.1.2,!=2.1.6,>=2.0.1 in /usr/local/lib/python3.6/dist-packages (from matplotlib>=3.1.2->scanpy) (2.4.7)\n",
            "Requirement already satisfied: kiwisolver>=1.0.1 in /usr/local/lib/python3.6/dist-packages (from matplotlib>=3.1.2->scanpy) (1.3.1)\n",
            "Requirement already satisfied: numexpr>=2.5.2 in /usr/local/lib/python3.6/dist-packages (from tables->scanpy) (2.7.2)\n",
            "Requirement already satisfied: zipp>=0.5 in /usr/local/lib/python3.6/dist-packages (from importlib-metadata>=0.7; python_version < \"3.8\"->scanpy) (3.4.0)\n",
            "Requirement already satisfied: pycparser in /usr/local/lib/python3.6/dist-packages (from cffi->MulticoreTSNE) (2.20)\n",
            "Requirement already satisfied: chardet<4,>=3.0.2 in /usr/local/lib/python3.6/dist-packages (from requests->pybiomart) (3.0.4)\n",
            "Requirement already satisfied: idna<3,>=2.5 in /usr/local/lib/python3.6/dist-packages (from requests->pybiomart) (2.10)\n",
            "Requirement already satisfied: certifi>=2017.4.17 in /usr/local/lib/python3.6/dist-packages (from requests->pybiomart) (2020.12.5)\n",
            "Requirement already satisfied: urllib3!=1.25.0,!=1.25.1,<1.26,>=1.21.1 in /usr/local/lib/python3.6/dist-packages (from requests->pybiomart) (1.24.3)\n",
            "Building wheels for collected packages: MulticoreTSNE\n",
            "  Building wheel for MulticoreTSNE (setup.py) ... \u001b[?25l\u001b[?25hdone\n",
            "  Created wheel for MulticoreTSNE: filename=MulticoreTSNE-0.1-cp36-cp36m-linux_x86_64.whl size=68503 sha256=8a3509e99113c9693a2d87560062f2de7376e59a4fcea56546d5ea77e099f759\n",
            "  Stored in directory: /root/.cache/pip/wheels/27/59/53/3b52ee63add3692254c30d687fa4dff4d128d0557861fb028e\n",
            "Successfully built MulticoreTSNE\n",
            "Installing collected packages: texttable, python-igraph, louvain, MulticoreTSNE, requests-cache, pybiomart\n",
            "Successfully installed MulticoreTSNE-0.1 louvain-0.7.0 pybiomart-0.2.0 python-igraph-0.8.3 requests-cache-0.5.2 texttable-1.6.3\n"
          ],
          "name": "stdout"
        }
      ]
    },
    {
      "cell_type": "code",
      "metadata": {
        "colab": {
          "base_uri": "https://localhost:8080/"
        },
        "id": "DKFx-vBNVhpx",
        "outputId": "1795a986-9d82-47ef-9925-22d188f2f898"
      },
      "source": [
        "!pip3 install torch torchvision"
      ],
      "execution_count": 1,
      "outputs": [
        {
          "output_type": "stream",
          "text": [
            "Requirement already satisfied: torch in /usr/local/lib/python3.6/dist-packages (1.7.0+cu101)\n",
            "Requirement already satisfied: torchvision in /usr/local/lib/python3.6/dist-packages (0.8.1+cu101)\n",
            "Requirement already satisfied: future in /usr/local/lib/python3.6/dist-packages (from torch) (0.16.0)\n",
            "Requirement already satisfied: typing-extensions in /usr/local/lib/python3.6/dist-packages (from torch) (3.7.4.3)\n",
            "Requirement already satisfied: dataclasses in /usr/local/lib/python3.6/dist-packages (from torch) (0.8)\n",
            "Requirement already satisfied: numpy in /usr/local/lib/python3.6/dist-packages (from torch) (1.19.5)\n",
            "Requirement already satisfied: pillow>=4.1.1 in /usr/local/lib/python3.6/dist-packages (from torchvision) (7.0.0)\n"
          ],
          "name": "stdout"
        }
      ]
    },
    {
      "cell_type": "markdown",
      "metadata": {
        "id": "Ds5zjUo-lhgM"
      },
      "source": [
        "## Download concatenated anndata"
      ]
    },
    {
      "cell_type": "code",
      "metadata": {
        "colab": {
          "base_uri": "https://localhost:8080/"
        },
        "id": "JIOhqOaelmAJ",
        "outputId": "97eef664-bbd9-4986-9b41-4724f7daa14b"
      },
      "source": [
        "# No hvg filters, all data\n",
        "!wget -O concatenated_adata.dms "
      ],
      "execution_count": 3,
      "outputs": [
        {
          "output_type": "stream",
          "text": [
            "--2021-02-03 21:28:58--  https://caltech.box.com/shared/static/3izsxihbu8vo9k2tf44et42mlpnwm3h5\n",
            "Resolving caltech.box.com (caltech.box.com)... 103.116.4.197\n",
            "Connecting to caltech.box.com (caltech.box.com)|103.116.4.197|:443... connected.\n",
            "HTTP request sent, awaiting response... 301 Moved Permanently\n",
            "Location: /public/static/3izsxihbu8vo9k2tf44et42mlpnwm3h5 [following]\n",
            "--2021-02-03 21:28:58--  https://caltech.box.com/public/static/3izsxihbu8vo9k2tf44et42mlpnwm3h5\n",
            "Reusing existing connection to caltech.box.com:443.\n",
            "HTTP request sent, awaiting response... 301 Moved Permanently\n",
            "Location: https://caltech.app.box.com/public/static/3izsxihbu8vo9k2tf44et42mlpnwm3h5 [following]\n",
            "--2021-02-03 21:28:58--  https://caltech.app.box.com/public/static/3izsxihbu8vo9k2tf44et42mlpnwm3h5\n",
            "Resolving caltech.app.box.com (caltech.app.box.com)... 103.116.4.201\n",
            "Connecting to caltech.app.box.com (caltech.app.box.com)|103.116.4.201|:443... connected.\n",
            "HTTP request sent, awaiting response... 302 Found\n",
            "Location: https://public.boxcloud.com/d/1/b1!rZyROhAKCb4QgcfdfmtfvO1zE5ESGX0gD6E3MDK_lA4gKS8YTNc0EuHNGq10iZHcxaOTn9rNcBTpbLbALC_Pk7XjDFUuLE4YRk1iaCXRqhOiHu5IM8P3wNlWDrCxMj9ki643giqeIYedaKJFluVANcYOZQ02d-yBUWfWVi2hYto1WVuMr-aBx5M0_HO2-sDcKMJZXGWAqg5hM3-6smrCwPwjXvYGXwJNwJUdSogVFvReHOYGQ2O-YCmyvPejsVn0Gv0b-9enU3JgGFUGQMOH4GZY2pJ-IzNttwMHNWBx5UPiEWb-HHYWjVL8SE8HGphWzhq58coZuLQIr33lLcAMurgT41z-1udthGetKRTX4_4rHyebKTBpnwH7zxzUNLiJc2fjRQpSgTb8bdj5UTlnQHcHsYg1PkE7QnIaG_S0mBx2QfNb6rSj8Ocgosv1_PI0Gvxqxf4MKGbQg0egZwuna4bOKihga38GpIEOeUA9e-i1yMU-99dEezSYkVvTzRxV3yaxTtPfWpfbri0EdqrEru7yGPcJveQ2bWz929KotAWSx0SNb31sa8yirVAiLUiL9dxoi2z8Dyf5SkPrpUtqWEIrB5tetttzY9nDtgdrpQUYactO9XCBVDV3-zUGl4u9tAuLdiRZ0NF9LAdg_S5FkSYEzxNcTVcxqWtWpoi_K73bcGsktxP57TaII_ItxXSMKfcpfVl8AFEHoQwST3fMUwxFzkGrk_0EluPmwZrepaYjpqHVYKBLoPH26hAGexJQxVzDjU5dqHtV1_f_wkab-ya1cIHc2jgu-g0pYt9RiafYz39lQslkFWdorlt9ZvY0UZnhJXK4lgReOXlwUxm8lcdhYTf0lNtUGDglB57n6Gh3DEf76seX0Ffs3snQONC0JOxQbDCxuVR7Fnosbsv3MSZEQxQfBdTuaFWNHrN2mFDBNtdYl5Yae0CBR1D7UAbKQ7qQC0ZrJSEUDsBw_jL6G52Av1xhpPvsqxgg6NI8IAMiEJkGUaAFem27BtlWwNLlbvBHVKxCe_xkv9Z2Bu6gIdzSLfY9FqIyk6gtJilJ_sLxXGx_gIhytEsVgkjhq6Dt5NRsBu0iQnR_RCt8aeNIGRD5KNyiN_QftacvEbBY8Gl2gBv62kgEKMCOhE1sLjORnu3SOIq3G1fQmLRsrWHPZ9ysY9XjyuDiS1FX7-DqGvmM9ia6Y4oKJzq1iQj3jmK4VNYf2sahdJwA7OK5P6RvMJUDvK4mvuvm5IWE1ChzNrUC6bKBNOnoahHl_CKQ2JBn7c0Hv07gGYndh2Auze-4nelpiHiI3lqIXeivcLXLnbiaGvdAvQMNbr9RIM8HFNO_K1V4mbfDGfuYEdDcch1MdmuNFnkusm6fQJvdfTq6KVREYnoCVZ6G9nWIIbe-BbQoJ67wfA407kGAG7bjKduvL6e63afmW6iRojL15-0btdW3OWys3xPrlEEfifSwelp3kSZs2A../download [following]\n",
            "--2021-02-03 21:28:59--  https://public.boxcloud.com/d/1/b1!rZyROhAKCb4QgcfdfmtfvO1zE5ESGX0gD6E3MDK_lA4gKS8YTNc0EuHNGq10iZHcxaOTn9rNcBTpbLbALC_Pk7XjDFUuLE4YRk1iaCXRqhOiHu5IM8P3wNlWDrCxMj9ki643giqeIYedaKJFluVANcYOZQ02d-yBUWfWVi2hYto1WVuMr-aBx5M0_HO2-sDcKMJZXGWAqg5hM3-6smrCwPwjXvYGXwJNwJUdSogVFvReHOYGQ2O-YCmyvPejsVn0Gv0b-9enU3JgGFUGQMOH4GZY2pJ-IzNttwMHNWBx5UPiEWb-HHYWjVL8SE8HGphWzhq58coZuLQIr33lLcAMurgT41z-1udthGetKRTX4_4rHyebKTBpnwH7zxzUNLiJc2fjRQpSgTb8bdj5UTlnQHcHsYg1PkE7QnIaG_S0mBx2QfNb6rSj8Ocgosv1_PI0Gvxqxf4MKGbQg0egZwuna4bOKihga38GpIEOeUA9e-i1yMU-99dEezSYkVvTzRxV3yaxTtPfWpfbri0EdqrEru7yGPcJveQ2bWz929KotAWSx0SNb31sa8yirVAiLUiL9dxoi2z8Dyf5SkPrpUtqWEIrB5tetttzY9nDtgdrpQUYactO9XCBVDV3-zUGl4u9tAuLdiRZ0NF9LAdg_S5FkSYEzxNcTVcxqWtWpoi_K73bcGsktxP57TaII_ItxXSMKfcpfVl8AFEHoQwST3fMUwxFzkGrk_0EluPmwZrepaYjpqHVYKBLoPH26hAGexJQxVzDjU5dqHtV1_f_wkab-ya1cIHc2jgu-g0pYt9RiafYz39lQslkFWdorlt9ZvY0UZnhJXK4lgReOXlwUxm8lcdhYTf0lNtUGDglB57n6Gh3DEf76seX0Ffs3snQONC0JOxQbDCxuVR7Fnosbsv3MSZEQxQfBdTuaFWNHrN2mFDBNtdYl5Yae0CBR1D7UAbKQ7qQC0ZrJSEUDsBw_jL6G52Av1xhpPvsqxgg6NI8IAMiEJkGUaAFem27BtlWwNLlbvBHVKxCe_xkv9Z2Bu6gIdzSLfY9FqIyk6gtJilJ_sLxXGx_gIhytEsVgkjhq6Dt5NRsBu0iQnR_RCt8aeNIGRD5KNyiN_QftacvEbBY8Gl2gBv62kgEKMCOhE1sLjORnu3SOIq3G1fQmLRsrWHPZ9ysY9XjyuDiS1FX7-DqGvmM9ia6Y4oKJzq1iQj3jmK4VNYf2sahdJwA7OK5P6RvMJUDvK4mvuvm5IWE1ChzNrUC6bKBNOnoahHl_CKQ2JBn7c0Hv07gGYndh2Auze-4nelpiHiI3lqIXeivcLXLnbiaGvdAvQMNbr9RIM8HFNO_K1V4mbfDGfuYEdDcch1MdmuNFnkusm6fQJvdfTq6KVREYnoCVZ6G9nWIIbe-BbQoJ67wfA407kGAG7bjKduvL6e63afmW6iRojL15-0btdW3OWys3xPrlEEfifSwelp3kSZs2A../download\n",
            "Resolving public.boxcloud.com (public.boxcloud.com)... 103.116.4.200\n",
            "Connecting to public.boxcloud.com (public.boxcloud.com)|103.116.4.200|:443... connected.\n",
            "HTTP request sent, awaiting response... 200 OK\n",
            "Length: 1842571832 (1.7G) [application/octet-stream]\n",
            "Saving to: ‘concatenated_adata.dms’\n",
            "\n",
            "concatenated_adata. 100%[===================>]   1.72G  13.9MB/s    in 2m 8s   \n",
            "\n",
            "2021-02-03 21:31:08 (13.8 MB/s) - ‘concatenated_adata.dms’ saved [1842571832/1842571832]\n",
            "\n"
          ],
          "name": "stdout"
        }
      ]
    },
    {
      "cell_type": "markdown",
      "metadata": {
        "id": "hKhW-uRJlmtX"
      },
      "source": [
        "## Read and filter anndata object"
      ]
    },
    {
      "cell_type": "code",
      "metadata": {
        "id": "nRn6zDdGl8CI"
      },
      "source": [
        "adata = scvi.data.read_h5ad(\"concatenated_adata.dms\")\n"
      ],
      "execution_count": 7,
      "outputs": []
    },
    {
      "cell_type": "code",
      "metadata": {
        "colab": {
          "base_uri": "https://localhost:8080/"
        },
        "id": "wO_39BeqmE2-",
        "outputId": "89a9937e-9039-4fbd-aada-0986fb1772af"
      },
      "source": [
        "sc.pp.highly_variable_genes(adata, flavor='seurat_v3', n_top_genes=3000) # subset=True)"
      ],
      "execution_count": 8,
      "outputs": [
        {
          "output_type": "stream",
          "text": [
            "/usr/local/lib/python3.6/dist-packages/scanpy/preprocessing/_highly_variable_genes.py:144: FutureWarning: Slicing a positional slice with .loc is not supported, and will raise TypeError in a future version.  Use .loc with labels or .iloc with positions instead.\n",
            "  df.loc[: int(n_top_genes), 'highly_variable'] = True\n"
          ],
          "name": "stderr"
        }
      ]
    },
    {
      "cell_type": "code",
      "metadata": {
        "colab": {
          "base_uri": "https://localhost:8080/"
        },
        "id": "gZsN-7bMkDEs",
        "outputId": "9ad9b335-47e8-4844-9ee7-4b86a58c1bf6"
      },
      "source": [
        "adata"
      ],
      "execution_count": 10,
      "outputs": [
        {
          "output_type": "execute_result",
          "data": {
            "text/plain": [
              "AnnData object with n_obs × n_vars = 1165808 × 39442\n",
              "    obs: 'cell_counts', 'n_genes', 'percent_mito', 'pass_count_filter', 'pass_mito_filter', 'cell_type', 'condition', 'database_id', 'figure', 'paper', 'sample_id', 'species', 'technology', 'tissue'\n",
              "    var: 'highly_variable', 'highly_variable_rank', 'means', 'variances', 'variances_norm'\n",
              "    uns: 'hvg'"
            ]
          },
          "metadata": {
            "tags": []
          },
          "execution_count": 10
        }
      ]
    },
    {
      "cell_type": "code",
      "metadata": {
        "id": "2XeI76-jj2r-"
      },
      "source": [
        "#Remove empty cells\n",
        "sc.pp.filter_cells(adata, min_genes = 1)"
      ],
      "execution_count": 11,
      "outputs": []
    },
    {
      "cell_type": "code",
      "metadata": {
        "colab": {
          "base_uri": "https://localhost:8080/"
        },
        "id": "hp7Hy1a7kD0G",
        "outputId": "1a201643-cebb-4d16-8866-b0a775492f1f"
      },
      "source": [
        "adata"
      ],
      "execution_count": null,
      "outputs": [
        {
          "output_type": "execute_result",
          "data": {
            "text/plain": [
              "AnnData object with n_obs × n_vars = 1165694 × 39442\n",
              "    obs: 'cell_counts', 'n_genes', 'percent_mito', 'pass_count_filter', 'pass_mito_filter', 'cell_type', 'condition', 'database_id', 'figure', 'paper', 'sample_id', 'species', 'technology', 'tissue'\n",
              "    var: 'highly_variable', 'highly_variable_rank', 'means', 'variances', 'variances_norm'\n",
              "    uns: 'hvg'"
            ]
          },
          "metadata": {
            "tags": []
          },
          "execution_count": 9
        }
      ]
    },
    {
      "cell_type": "code",
      "metadata": {
        "id": "UPBX2zmxexfM"
      },
      "source": [
        "adata.write(\"adata_concatenated_filtered_post.dms\")"
      ],
      "execution_count": null,
      "outputs": []
    },
    {
      "cell_type": "code",
      "metadata": {
        "colab": {
          "base_uri": "https://localhost:8080/"
        },
        "id": "dlVlKzKfobMD",
        "outputId": "2736746a-7237-4cdf-9a99-940dbf828aa5"
      },
      "source": [
        "scvi.data.setup_anndata(adata, batch_key=\"sample_id\") # , layer=\"counts\")"
      ],
      "execution_count": 12,
      "outputs": [
        {
          "output_type": "stream",
          "text": [
            "\u001b[34mINFO    \u001b[0m Using batches from adata.obs\u001b[1m[\u001b[0m\u001b[32m\"sample_id\"\u001b[0m\u001b[1m]\u001b[0m                              \n",
            "\u001b[34mINFO    \u001b[0m No label_key inputted, assuming all cells have same label              \n",
            "\u001b[34mINFO    \u001b[0m Using data from adata.X                                                \n",
            "\u001b[34mINFO    \u001b[0m Computing library size prior per batch                                 \n",
            "\u001b[34mINFO    \u001b[0m Successfully registered anndata object containing \u001b[1;34m1165694\u001b[0m cells, \u001b[1;34m39442\u001b[0m \n",
            "         vars, \u001b[1;34m195\u001b[0m batches, \u001b[1;34m1\u001b[0m labels, and \u001b[1;34m0\u001b[0m proteins. Also registered \u001b[1;34m0\u001b[0m extra   \n",
            "         categorical covariates and \u001b[1;34m0\u001b[0m extra continuous covariates.              \n",
            "\u001b[34mINFO    \u001b[0m Please do not further modify adata until model is trained.             \n"
          ],
          "name": "stdout"
        }
      ]
    },
    {
      "cell_type": "code",
      "metadata": {
        "colab": {
          "base_uri": "https://localhost:8080/",
          "height": 1000
        },
        "id": "cjAGrm7Fovqm",
        "outputId": "0345836a-9d1e-4fe0-aecc-208ca5db82e0"
      },
      "source": [
        "scvi.data.view_anndata_setup(adata)"
      ],
      "execution_count": 13,
      "outputs": [
        {
          "output_type": "stream",
          "text": [
            "Anndata setup with scvi-tools version 0.8.1.\n"
          ],
          "name": "stdout"
        },
        {
          "output_type": "display_data",
          "data": {
            "text/html": [
              "<pre style=\"white-space:pre;overflow-x:auto;line-height:normal;font-family:Menlo,'DejaVu Sans Mono',consolas,'Courier New',monospace\"><span style=\"font-style: italic\">               Data Summary               </span>\n",
              "┏━━━━━━━━━━━━━━━━━━━━━━━━━━━━━━┳━━━━━━━━━┓\n",
              "┃<span style=\"font-weight: bold\">             Data             </span>┃<span style=\"font-weight: bold\">  Count  </span>┃\n",
              "┡━━━━━━━━━━━━━━━━━━━━━━━━━━━━━━╇━━━━━━━━━┩\n",
              "│<span style=\"color: #0087ff\">            Cells             </span>│<span style=\"color: #af00d7\"> 1165694 </span>│\n",
              "│<span style=\"color: #0087ff\">             Vars             </span>│<span style=\"color: #af00d7\">  39442  </span>│\n",
              "│<span style=\"color: #0087ff\">            Labels            </span>│<span style=\"color: #af00d7\">    1    </span>│\n",
              "│<span style=\"color: #0087ff\">           Batches            </span>│<span style=\"color: #af00d7\">   195   </span>│\n",
              "│<span style=\"color: #0087ff\">           Proteins           </span>│<span style=\"color: #af00d7\">    0    </span>│\n",
              "│<span style=\"color: #0087ff\"> Extra Categorical Covariates </span>│<span style=\"color: #af00d7\">    0    </span>│\n",
              "│<span style=\"color: #0087ff\"> Extra Continuous Covariates  </span>│<span style=\"color: #af00d7\">    0    </span>│\n",
              "└──────────────────────────────┴─────────┘\n",
              "</pre>\n"
            ],
            "text/plain": [
              "<rich.jupyter.JupyterRenderable at 0x7f76597aab70>"
            ]
          },
          "metadata": {
            "tags": []
          }
        },
        {
          "output_type": "display_data",
          "data": {
            "text/html": [
              "<pre style=\"white-space:pre;overflow-x:auto;line-height:normal;font-family:Menlo,'DejaVu Sans Mono',consolas,'Courier New',monospace\"><span style=\"font-style: italic\">                SCVI Data Registry                 </span>\n",
              "┏━━━━━━━━━━━━━━━┳━━━━━━━━━━━━━━━━━━━━━━━━━━━━━━━━━┓\n",
              "┃<span style=\"font-weight: bold\">     Data      </span>┃<span style=\"font-weight: bold\">       scvi-tools Location       </span>┃\n",
              "┡━━━━━━━━━━━━━━━╇━━━━━━━━━━━━━━━━━━━━━━━━━━━━━━━━━┩\n",
              "│<span style=\"color: #0087ff\">       X       </span>│<span style=\"color: #af00d7\">             adata.X             </span>│\n",
              "│<span style=\"color: #0087ff\"> batch_indices </span>│<span style=\"color: #af00d7\">    adata.obs['_scvi_batch']     </span>│\n",
              "│<span style=\"color: #0087ff\"> local_l_mean  </span>│<span style=\"color: #af00d7\"> adata.obs['_scvi_local_l_mean'] </span>│\n",
              "│<span style=\"color: #0087ff\">  local_l_var  </span>│<span style=\"color: #af00d7\"> adata.obs['_scvi_local_l_var']  </span>│\n",
              "│<span style=\"color: #0087ff\">    labels     </span>│<span style=\"color: #af00d7\">    adata.obs['_scvi_labels']    </span>│\n",
              "└───────────────┴─────────────────────────────────┘\n",
              "</pre>\n"
            ],
            "text/plain": [
              "<rich.jupyter.JupyterRenderable at 0x7f76597aa630>"
            ]
          },
          "metadata": {
            "tags": []
          }
        },
        {
          "output_type": "display_data",
          "data": {
            "text/html": [
              "<pre style=\"white-space:pre;overflow-x:auto;line-height:normal;font-family:Menlo,'DejaVu Sans Mono',consolas,'Courier New',monospace\"><span style=\"font-style: italic\">                        Label Categories                        </span>\n",
              "┏━━━━━━━━━━━━━━━━━━━━━━━━━━━┳━━━━━━━━━━━━┳━━━━━━━━━━━━━━━━━━━━━┓\n",
              "┃<span style=\"font-weight: bold\">      Source Location      </span>┃<span style=\"font-weight: bold\"> Categories </span>┃<span style=\"font-weight: bold\"> scvi-tools Encoding </span>┃\n",
              "┡━━━━━━━━━━━━━━━━━━━━━━━━━━━╇━━━━━━━━━━━━╇━━━━━━━━━━━━━━━━━━━━━┩\n",
              "│<span style=\"color: #0087ff\"> adata.obs['_scvi_labels'] </span>│<span style=\"color: #008000\">     0      </span>│<span style=\"color: #af00d7\">          0          </span>│\n",
              "└───────────────────────────┴────────────┴─────────────────────┘\n",
              "</pre>\n"
            ],
            "text/plain": [
              "<rich.jupyter.JupyterRenderable at 0x7f76597aa9b0>"
            ]
          },
          "metadata": {
            "tags": []
          }
        },
        {
          "output_type": "display_data",
          "data": {
            "text/html": [
              "<pre style=\"white-space:pre;overflow-x:auto;line-height:normal;font-family:Menlo,'DejaVu Sans Mono',consolas,'Courier New',monospace\"><span style=\"font-style: italic\">                       Batch Categories                        </span>\n",
              "┏━━━━━━━━━━━━━━━━━━━━━━━━┳━━━━━━━━━━━━━━┳━━━━━━━━━━━━━━━━━━━━━┓\n",
              "┃<span style=\"font-weight: bold\">    Source Location     </span>┃<span style=\"font-weight: bold\">  Categories  </span>┃<span style=\"font-weight: bold\"> scvi-tools Encoding </span>┃\n",
              "┡━━━━━━━━━━━━━━━━━━━━━━━━╇━━━━━━━━━━━━━━╇━━━━━━━━━━━━━━━━━━━━━┩\n",
              "│<span style=\"color: #0087ff\"> adata.obs['sample_id'] </span>│<span style=\"color: #008000\">  GSM3439916  </span>│<span style=\"color: #af00d7\">          0          </span>│\n",
              "│<span style=\"color: #0087ff\">                        </span>│<span style=\"color: #008000\">  GSM3319041  </span>│<span style=\"color: #af00d7\">          1          </span>│\n",
              "│<span style=\"color: #0087ff\">                        </span>│<span style=\"color: #008000\">  GSM4037316  </span>│<span style=\"color: #af00d7\">          2          </span>│\n",
              "│<span style=\"color: #0087ff\">                        </span>│<span style=\"color: #008000\">  GSM3439919  </span>│<span style=\"color: #af00d7\">          3          </span>│\n",
              "│<span style=\"color: #0087ff\">                        </span>│<span style=\"color: #008000\">  GSM3526588  </span>│<span style=\"color: #af00d7\">          4          </span>│\n",
              "│<span style=\"color: #0087ff\">                        </span>│<span style=\"color: #008000\">  GSM3319036  </span>│<span style=\"color: #af00d7\">          5          </span>│\n",
              "│<span style=\"color: #0087ff\">                        </span>│<span style=\"color: #008000\">  GSM3396184  </span>│<span style=\"color: #af00d7\">          6          </span>│\n",
              "│<span style=\"color: #0087ff\">                        </span>│<span style=\"color: #008000\">  GSM3319047  </span>│<span style=\"color: #af00d7\">          7          </span>│\n",
              "│<span style=\"color: #0087ff\">                        </span>│<span style=\"color: #008000\">  GSM4080086  </span>│<span style=\"color: #af00d7\">          8          </span>│\n",
              "│<span style=\"color: #0087ff\">                        </span>│<span style=\"color: #008000\">  GSM3738540  </span>│<span style=\"color: #af00d7\">          9          </span>│\n",
              "│<span style=\"color: #0087ff\">                        </span>│<span style=\"color: #008000\">  GSM3378057  </span>│<span style=\"color: #af00d7\">         10          </span>│\n",
              "│<span style=\"color: #0087ff\">                        </span>│<span style=\"color: #008000\">  GSM3755695  </span>│<span style=\"color: #af00d7\">         11          </span>│\n",
              "│<span style=\"color: #0087ff\">                        </span>│<span style=\"color: #008000\">  GSM2905290  </span>│<span style=\"color: #af00d7\">         12          </span>│\n",
              "│<span style=\"color: #0087ff\">                        </span>│<span style=\"color: #008000\">  GSM2894835  </span>│<span style=\"color: #af00d7\">         13          </span>│\n",
              "│<span style=\"color: #0087ff\">                        </span>│<span style=\"color: #008000\">  GSM3148579  </span>│<span style=\"color: #af00d7\">         14          </span>│\n",
              "│<span style=\"color: #0087ff\">                        </span>│<span style=\"color: #008000\">  GSM3319045  </span>│<span style=\"color: #af00d7\">         15          </span>│\n",
              "│<span style=\"color: #0087ff\">                        </span>│<span style=\"color: #008000\">  GSM3319044  </span>│<span style=\"color: #af00d7\">         16          </span>│\n",
              "│<span style=\"color: #0087ff\">                        </span>│<span style=\"color: #008000\">  GSM4463229  </span>│<span style=\"color: #af00d7\">         17          </span>│\n",
              "│<span style=\"color: #0087ff\">                        </span>│<span style=\"color: #008000\">  GSM3738543  </span>│<span style=\"color: #af00d7\">         18          </span>│\n",
              "│<span style=\"color: #0087ff\">                        </span>│<span style=\"color: #008000\">  GSM3526589  </span>│<span style=\"color: #af00d7\">         19          </span>│\n",
              "│<span style=\"color: #0087ff\">                        </span>│<span style=\"color: #008000\">  GSM3755690  </span>│<span style=\"color: #af00d7\">         20          </span>│\n",
              "│<span style=\"color: #0087ff\">                        </span>│<span style=\"color: #008000\">  GSM3073088  </span>│<span style=\"color: #af00d7\">         21          </span>│\n",
              "│<span style=\"color: #0087ff\">                        </span>│<span style=\"color: #008000\">  GSM3302525  </span>│<span style=\"color: #af00d7\">         22          </span>│\n",
              "│<span style=\"color: #0087ff\">                        </span>│<span style=\"color: #008000\">  GSM4080085  </span>│<span style=\"color: #af00d7\">         23          </span>│\n",
              "│<span style=\"color: #0087ff\">                        </span>│<span style=\"color: #008000\">  GSM4037324  </span>│<span style=\"color: #af00d7\">         24          </span>│\n",
              "│<span style=\"color: #0087ff\">                        </span>│<span style=\"color: #008000\">  GSM4080087  </span>│<span style=\"color: #af00d7\">         25          </span>│\n",
              "│<span style=\"color: #0087ff\">                        </span>│<span style=\"color: #008000\">  GSM3557962  </span>│<span style=\"color: #af00d7\">         26          </span>│\n",
              "│<span style=\"color: #0087ff\">                        </span>│<span style=\"color: #008000\">  GSM3378058  </span>│<span style=\"color: #af00d7\">         27          </span>│\n",
              "│<span style=\"color: #0087ff\">                        </span>│<span style=\"color: #008000\">  GSM3396162  </span>│<span style=\"color: #af00d7\">         28          </span>│\n",
              "│<span style=\"color: #0087ff\">                        </span>│<span style=\"color: #008000\">  GSM3396163  </span>│<span style=\"color: #af00d7\">         29          </span>│\n",
              "│<span style=\"color: #0087ff\">                        </span>│<span style=\"color: #008000\">  GSM3509840  </span>│<span style=\"color: #af00d7\">         30          </span>│\n",
              "│<span style=\"color: #0087ff\">                        </span>│<span style=\"color: #008000\">  GSM3717979  </span>│<span style=\"color: #af00d7\">         31          </span>│\n",
              "│<span style=\"color: #0087ff\">                        </span>│<span style=\"color: #008000\">  GSM3755689  </span>│<span style=\"color: #af00d7\">         32          </span>│\n",
              "│<span style=\"color: #0087ff\">                        </span>│<span style=\"color: #008000\">  GSM3739218  </span>│<span style=\"color: #af00d7\">         33          </span>│\n",
              "│<span style=\"color: #0087ff\">                        </span>│<span style=\"color: #008000\">  GSM3319043  </span>│<span style=\"color: #af00d7\">         34          </span>│\n",
              "│<span style=\"color: #0087ff\">                        </span>│<span style=\"color: #008000\">  GSM3378055  </span>│<span style=\"color: #af00d7\">         35          </span>│\n",
              "│<span style=\"color: #0087ff\">                        </span>│<span style=\"color: #008000\">  GSM4037313  </span>│<span style=\"color: #af00d7\">         36          </span>│\n",
              "│<span style=\"color: #0087ff\">                        </span>│<span style=\"color: #008000\">  GSM3478791  </span>│<span style=\"color: #af00d7\">         37          </span>│\n",
              "│<span style=\"color: #0087ff\">                        </span>│<span style=\"color: #008000\">  GSM3755687  </span>│<span style=\"color: #af00d7\">         38          </span>│\n",
              "│<span style=\"color: #0087ff\">                        </span>│<span style=\"color: #008000\">  GSM3478792  </span>│<span style=\"color: #af00d7\">         39          </span>│\n",
              "│<span style=\"color: #0087ff\">                        </span>│<span style=\"color: #008000\">  GSM3439915  </span>│<span style=\"color: #af00d7\">         40          </span>│\n",
              "│<span style=\"color: #0087ff\">                        </span>│<span style=\"color: #008000\">  GSM3735993  </span>│<span style=\"color: #af00d7\">         41          </span>│\n",
              "│<span style=\"color: #0087ff\">                        </span>│<span style=\"color: #008000\">  GSM3396176  </span>│<span style=\"color: #af00d7\">         42          </span>│\n",
              "│<span style=\"color: #0087ff\">                        </span>│<span style=\"color: #008000\"> GSM35098400  </span>│<span style=\"color: #af00d7\">         43          </span>│\n",
              "│<span style=\"color: #0087ff\">                        </span>│<span style=\"color: #008000\">  GSM4463244  </span>│<span style=\"color: #af00d7\">         44          </span>│\n",
              "│<span style=\"color: #0087ff\">                        </span>│<span style=\"color: #008000\">  GSM3526584  </span>│<span style=\"color: #af00d7\">         45          </span>│\n",
              "│<span style=\"color: #0087ff\">                        </span>│<span style=\"color: #008000\">  GSM3526587  </span>│<span style=\"color: #af00d7\">         46          </span>│\n",
              "│<span style=\"color: #0087ff\">                        </span>│<span style=\"color: #008000\">  GSM4037306  </span>│<span style=\"color: #af00d7\">         47          </span>│\n",
              "│<span style=\"color: #0087ff\">                        </span>│<span style=\"color: #008000\">  GSM2928377  </span>│<span style=\"color: #af00d7\">         48          </span>│\n",
              "│<span style=\"color: #0087ff\">                        </span>│<span style=\"color: #008000\">  GSM3319035  </span>│<span style=\"color: #af00d7\">         49          </span>│\n",
              "│<span style=\"color: #0087ff\">                        </span>│<span style=\"color: #008000\">  GSM2928379  </span>│<span style=\"color: #af00d7\">         50          </span>│\n",
              "│<span style=\"color: #0087ff\">                        </span>│<span style=\"color: #008000\">  GSM4037302  </span>│<span style=\"color: #af00d7\">         51          </span>│\n",
              "│<span style=\"color: #0087ff\">                        </span>│<span style=\"color: #008000\">  GSM3667327  </span>│<span style=\"color: #af00d7\">         52          </span>│\n",
              "│<span style=\"color: #0087ff\">                        </span>│<span style=\"color: #008000\">  GSM3557970  </span>│<span style=\"color: #af00d7\">         53          </span>│\n",
              "│<span style=\"color: #0087ff\">                        </span>│<span style=\"color: #008000\">  GSM3396169  </span>│<span style=\"color: #af00d7\">         54          </span>│\n",
              "│<span style=\"color: #0087ff\">                        </span>│<span style=\"color: #008000\">  GSM3734297  </span>│<span style=\"color: #af00d7\">         55          </span>│\n",
              "│<span style=\"color: #0087ff\">                        </span>│<span style=\"color: #008000\">  GSM4142871  </span>│<span style=\"color: #af00d7\">         56          </span>│\n",
              "│<span style=\"color: #0087ff\">                        </span>│<span style=\"color: #008000\">  GSM3557964  </span>│<span style=\"color: #af00d7\">         57          </span>│\n",
              "│<span style=\"color: #0087ff\">                        </span>│<span style=\"color: #008000\">  GSM4080088  </span>│<span style=\"color: #af00d7\">         58          </span>│\n",
              "│<span style=\"color: #0087ff\">                        </span>│<span style=\"color: #008000\">  GSM3396166  </span>│<span style=\"color: #af00d7\">         59          </span>│\n",
              "│<span style=\"color: #0087ff\">                        </span>│<span style=\"color: #008000\">  GSM3755699  </span>│<span style=\"color: #af00d7\">         60          </span>│\n",
              "│<span style=\"color: #0087ff\">                        </span>│<span style=\"color: #008000\">  GSM3396173  </span>│<span style=\"color: #af00d7\">         61          </span>│\n",
              "│<span style=\"color: #0087ff\">                        </span>│<span style=\"color: #008000\">  GSM3375767  </span>│<span style=\"color: #af00d7\">         62          </span>│\n",
              "│<span style=\"color: #0087ff\">                        </span>│<span style=\"color: #008000\">  GSM3526585  </span>│<span style=\"color: #af00d7\">         63          </span>│\n",
              "│<span style=\"color: #0087ff\">                        </span>│<span style=\"color: #008000\">  GSM3509839  </span>│<span style=\"color: #af00d7\">         64          </span>│\n",
              "│<span style=\"color: #0087ff\">                        </span>│<span style=\"color: #008000\">  GSM3319039  </span>│<span style=\"color: #af00d7\">         65          </span>│\n",
              "│<span style=\"color: #0087ff\">                        </span>│<span style=\"color: #008000\">  GSM2905293  </span>│<span style=\"color: #af00d7\">         66          </span>│\n",
              "│<span style=\"color: #0087ff\">                        </span>│<span style=\"color: #008000\">  GSM4037323  </span>│<span style=\"color: #af00d7\">         67          </span>│\n",
              "│<span style=\"color: #0087ff\">                        </span>│<span style=\"color: #008000\">  GSM3665017  </span>│<span style=\"color: #af00d7\">         68          </span>│\n",
              "│<span style=\"color: #0087ff\">                        </span>│<span style=\"color: #008000\">  GSM3319033  </span>│<span style=\"color: #af00d7\">         69          </span>│\n",
              "│<span style=\"color: #0087ff\">                        </span>│<span style=\"color: #008000\">  GSM3148577  </span>│<span style=\"color: #af00d7\">         70          </span>│\n",
              "│<span style=\"color: #0087ff\">                        </span>│<span style=\"color: #008000\">  GSM3529821  </span>│<span style=\"color: #af00d7\">         71          </span>│\n",
              "│<span style=\"color: #0087ff\">                        </span>│<span style=\"color: #008000\">  GSM3738539  </span>│<span style=\"color: #af00d7\">         72          </span>│\n",
              "│<span style=\"color: #0087ff\">                        </span>│<span style=\"color: #008000\">  GSM3755692  </span>│<span style=\"color: #af00d7\">         73          </span>│\n",
              "│<span style=\"color: #0087ff\">                        </span>│<span style=\"color: #008000\">  GSM3738538  </span>│<span style=\"color: #af00d7\">         74          </span>│\n",
              "│<span style=\"color: #0087ff\">                        </span>│<span style=\"color: #008000\">  GSM3396171  </span>│<span style=\"color: #af00d7\">         75          </span>│\n",
              "│<span style=\"color: #0087ff\">                        </span>│<span style=\"color: #008000\">  GSM3667329  </span>│<span style=\"color: #af00d7\">         76          </span>│\n",
              "│<span style=\"color: #0087ff\">                        </span>│<span style=\"color: #008000\">  GSM4037309  </span>│<span style=\"color: #af00d7\">         77          </span>│\n",
              "│<span style=\"color: #0087ff\">                        </span>│<span style=\"color: #008000\">  GSM4463223  </span>│<span style=\"color: #af00d7\">         78          </span>│\n",
              "│<span style=\"color: #0087ff\">                        </span>│<span style=\"color: #008000\">  GSM3169075  </span>│<span style=\"color: #af00d7\">         79          </span>│\n",
              "│<span style=\"color: #0087ff\">                        </span>│<span style=\"color: #008000\">  GSM3526586  </span>│<span style=\"color: #af00d7\">         80          </span>│\n",
              "│<span style=\"color: #0087ff\">                        </span>│<span style=\"color: #008000\">  GSM3557972  </span>│<span style=\"color: #af00d7\">         81          </span>│\n",
              "│<span style=\"color: #0087ff\">                        </span>│<span style=\"color: #008000\">  GSM3439926  </span>│<span style=\"color: #af00d7\">         82          </span>│\n",
              "│<span style=\"color: #0087ff\">                        </span>│<span style=\"color: #008000\">  GSM3396181  </span>│<span style=\"color: #af00d7\">         83          </span>│\n",
              "│<span style=\"color: #0087ff\">                        </span>│<span style=\"color: #008000\">  GSM3739222  </span>│<span style=\"color: #af00d7\">         84          </span>│\n",
              "│<span style=\"color: #0087ff\">                        </span>│<span style=\"color: #008000\">  GSM2894834  </span>│<span style=\"color: #af00d7\">         85          </span>│\n",
              "│<span style=\"color: #0087ff\">                        </span>│<span style=\"color: #008000\">  GSM3755698  </span>│<span style=\"color: #af00d7\">         86          </span>│\n",
              "│<span style=\"color: #0087ff\">                        </span>│<span style=\"color: #008000\">  GSM3557959  </span>│<span style=\"color: #af00d7\">         87          </span>│\n",
              "│<span style=\"color: #0087ff\">                        </span>│<span style=\"color: #008000\">  GSM3723357  </span>│<span style=\"color: #af00d7\">         88          </span>│\n",
              "│<span style=\"color: #0087ff\">                        </span>│<span style=\"color: #008000\">  GSM3302524  </span>│<span style=\"color: #af00d7\">         89          </span>│\n",
              "│<span style=\"color: #0087ff\">                        </span>│<span style=\"color: #008000\">  GSM3439921  </span>│<span style=\"color: #af00d7\">         90          </span>│\n",
              "│<span style=\"color: #0087ff\">                        </span>│<span style=\"color: #008000\">  GSM3430549  </span>│<span style=\"color: #af00d7\">         91          </span>│\n",
              "│<span style=\"color: #0087ff\">                        </span>│<span style=\"color: #008000\">  GSM3557960  </span>│<span style=\"color: #af00d7\">         92          </span>│\n",
              "│<span style=\"color: #0087ff\">                        </span>│<span style=\"color: #008000\">  GSM3738537  </span>│<span style=\"color: #af00d7\">         93          </span>│\n",
              "│<span style=\"color: #0087ff\">                        </span>│<span style=\"color: #008000\">  GSM3378056  </span>│<span style=\"color: #af00d7\">         94          </span>│\n",
              "│<span style=\"color: #0087ff\">                        </span>│<span style=\"color: #008000\">  GSM3430548  </span>│<span style=\"color: #af00d7\">         95          </span>│\n",
              "│<span style=\"color: #0087ff\">                        </span>│<span style=\"color: #008000\">  GSM3723359  </span>│<span style=\"color: #af00d7\">         96          </span>│\n",
              "│<span style=\"color: #0087ff\">                        </span>│<span style=\"color: #008000\">  GSM3667328  </span>│<span style=\"color: #af00d7\">         97          </span>│\n",
              "│<span style=\"color: #0087ff\">                        </span>│<span style=\"color: #008000\">  GSM4463239  </span>│<span style=\"color: #af00d7\">         98          </span>│\n",
              "│<span style=\"color: #0087ff\">                        </span>│<span style=\"color: #008000\">  GSM3168248  </span>│<span style=\"color: #af00d7\">         99          </span>│\n",
              "│<span style=\"color: #0087ff\">                        </span>│<span style=\"color: #008000\">  GSM3557969  </span>│<span style=\"color: #af00d7\">         100         </span>│\n",
              "│<span style=\"color: #0087ff\">                        </span>│<span style=\"color: #008000\">  GSM3665019  </span>│<span style=\"color: #af00d7\">         101         </span>│\n",
              "│<span style=\"color: #0087ff\">                        </span>│<span style=\"color: #008000\">  GSM4080089  </span>│<span style=\"color: #af00d7\">         102         </span>│\n",
              "│<span style=\"color: #0087ff\">                        </span>│<span style=\"color: #008000\">  GSM3557967  </span>│<span style=\"color: #af00d7\">         103         </span>│\n",
              "│<span style=\"color: #0087ff\">                        </span>│<span style=\"color: #008000\"> GSM35098401  </span>│<span style=\"color: #af00d7\">         104         </span>│\n",
              "│<span style=\"color: #0087ff\">                        </span>│<span style=\"color: #008000\">  GSM3557968  </span>│<span style=\"color: #af00d7\">         105         </span>│\n",
              "│<span style=\"color: #0087ff\">                        </span>│<span style=\"color: #008000\"> GSM34305492  </span>│<span style=\"color: #af00d7\">         106         </span>│\n",
              "│<span style=\"color: #0087ff\">                        </span>│<span style=\"color: #008000\">  GSM3319032  </span>│<span style=\"color: #af00d7\">         107         </span>│\n",
              "│<span style=\"color: #0087ff\">                        </span>│<span style=\"color: #008000\">  GSM3734295  </span>│<span style=\"color: #af00d7\">         108         </span>│\n",
              "│<span style=\"color: #0087ff\">                        </span>│<span style=\"color: #008000\"> GSM33025253  </span>│<span style=\"color: #af00d7\">         109         </span>│\n",
              "│<span style=\"color: #0087ff\">                        </span>│<span style=\"color: #008000\">  GSM3439927  </span>│<span style=\"color: #af00d7\">         110         </span>│\n",
              "│<span style=\"color: #0087ff\">                        </span>│<span style=\"color: #008000\">  GSM3558027  </span>│<span style=\"color: #af00d7\">         111         </span>│\n",
              "│<span style=\"color: #0087ff\">                        </span>│<span style=\"color: #008000\">  GSM3396161  </span>│<span style=\"color: #af00d7\">         112         </span>│\n",
              "│<span style=\"color: #0087ff\">                        </span>│<span style=\"color: #008000\">  GSM3396165  </span>│<span style=\"color: #af00d7\">         113         </span>│\n",
              "│<span style=\"color: #0087ff\">                        </span>│<span style=\"color: #008000\">  GSM3755693  </span>│<span style=\"color: #af00d7\">         114         </span>│\n",
              "│<span style=\"color: #0087ff\">                        </span>│<span style=\"color: #008000\">  GSM3148576  </span>│<span style=\"color: #af00d7\">         115         </span>│\n",
              "│<span style=\"color: #0087ff\">                        </span>│<span style=\"color: #008000\">  GSM3396183  </span>│<span style=\"color: #af00d7\">         116         </span>│\n",
              "│<span style=\"color: #0087ff\">                        </span>│<span style=\"color: #008000\">  GSM3755697  </span>│<span style=\"color: #af00d7\">         117         </span>│\n",
              "│<span style=\"color: #0087ff\">                        </span>│<span style=\"color: #008000\">  GSM3319042  </span>│<span style=\"color: #af00d7\">         118         </span>│\n",
              "│<span style=\"color: #0087ff\">                        </span>│<span style=\"color: #008000\">  GSM3665018  </span>│<span style=\"color: #af00d7\">         119         </span>│\n",
              "│<span style=\"color: #0087ff\">                        </span>│<span style=\"color: #008000\">  GSM3396185  </span>│<span style=\"color: #af00d7\">         120         </span>│\n",
              "│<span style=\"color: #0087ff\">                        </span>│<span style=\"color: #008000\">  GSM3396179  </span>│<span style=\"color: #af00d7\">         121         </span>│\n",
              "│<span style=\"color: #0087ff\">                        </span>│<span style=\"color: #008000\">  GSM2877960  </span>│<span style=\"color: #af00d7\">         122         </span>│\n",
              "│<span style=\"color: #0087ff\">                        </span>│<span style=\"color: #008000\">  GSM3319037  </span>│<span style=\"color: #af00d7\">         123         </span>│\n",
              "│<span style=\"color: #0087ff\">                        </span>│<span style=\"color: #008000\">  GSM3148575  </span>│<span style=\"color: #af00d7\">         124         </span>│\n",
              "│<span style=\"color: #0087ff\">                        </span>│<span style=\"color: #008000\">  GSM3309834  </span>│<span style=\"color: #af00d7\">         125         </span>│\n",
              "│<span style=\"color: #0087ff\">                        </span>│<span style=\"color: #008000\"> GSM37392224  </span>│<span style=\"color: #af00d7\">         126         </span>│\n",
              "│<span style=\"color: #0087ff\">                        </span>│<span style=\"color: #008000\">  GSM3439914  </span>│<span style=\"color: #af00d7\">         127         </span>│\n",
              "│<span style=\"color: #0087ff\">                        </span>│<span style=\"color: #008000\">  GSM3557966  </span>│<span style=\"color: #af00d7\">         128         </span>│\n",
              "│<span style=\"color: #0087ff\">                        </span>│<span style=\"color: #008000\">  GSM4037325  </span>│<span style=\"color: #af00d7\">         129         </span>│\n",
              "│<span style=\"color: #0087ff\">                        </span>│<span style=\"color: #008000\">  GSM3439923  </span>│<span style=\"color: #af00d7\">         130         </span>│\n",
              "│<span style=\"color: #0087ff\">                        </span>│<span style=\"color: #008000\">  GSM3396180  </span>│<span style=\"color: #af00d7\">         131         </span>│\n",
              "│<span style=\"color: #0087ff\">                        </span>│<span style=\"color: #008000\">  GSM3396170  </span>│<span style=\"color: #af00d7\">         132         </span>│\n",
              "│<span style=\"color: #0087ff\">                        </span>│<span style=\"color: #008000\">  GSM3738542  </span>│<span style=\"color: #af00d7\">         133         </span>│\n",
              "│<span style=\"color: #0087ff\">                        </span>│<span style=\"color: #008000\">  GSM3396168  </span>│<span style=\"color: #af00d7\">         134         </span>│\n",
              "│<span style=\"color: #0087ff\">                        </span>│<span style=\"color: #008000\">  GSM3723358  </span>│<span style=\"color: #af00d7\">         135         </span>│\n",
              "│<span style=\"color: #0087ff\">                        </span>│<span style=\"color: #008000\">  GSM4463249  </span>│<span style=\"color: #af00d7\">         136         </span>│\n",
              "│<span style=\"color: #0087ff\">                        </span>│<span style=\"color: #008000\">  GSM3309832  </span>│<span style=\"color: #af00d7\">         137         </span>│\n",
              "│<span style=\"color: #0087ff\">                        </span>│<span style=\"color: #008000\">  GSM3755691  </span>│<span style=\"color: #af00d7\">         138         </span>│\n",
              "│<span style=\"color: #0087ff\">                        </span>│<span style=\"color: #008000\">  GSM4142870  </span>│<span style=\"color: #af00d7\">         139         </span>│\n",
              "│<span style=\"color: #0087ff\">                        </span>│<span style=\"color: #008000\">  GSM3738541  </span>│<span style=\"color: #af00d7\">         140         </span>│\n",
              "│<span style=\"color: #0087ff\">                        </span>│<span style=\"color: #008000\">  GSM3319038  </span>│<span style=\"color: #af00d7\">         141         </span>│\n",
              "│<span style=\"color: #0087ff\">                        </span>│<span style=\"color: #008000\">  GSM3273570  </span>│<span style=\"color: #af00d7\">         142         </span>│\n",
              "│<span style=\"color: #0087ff\">                        </span>│<span style=\"color: #008000\">  GSM3378054  </span>│<span style=\"color: #af00d7\">         143         </span>│\n",
              "│<span style=\"color: #0087ff\">                        </span>│<span style=\"color: #008000\">  GSM3557961  </span>│<span style=\"color: #af00d7\">         144         </span>│\n",
              "│<span style=\"color: #0087ff\">                        </span>│<span style=\"color: #008000\">  GSM3319046  </span>│<span style=\"color: #af00d7\">         145         </span>│\n",
              "│<span style=\"color: #0087ff\">                        </span>│<span style=\"color: #008000\">  GSM3755688  </span>│<span style=\"color: #af00d7\">         146         </span>│\n",
              "│<span style=\"color: #0087ff\">                        </span>│<span style=\"color: #008000\">  GSM3557973  </span>│<span style=\"color: #af00d7\">         147         </span>│\n",
              "│<span style=\"color: #0087ff\">                        </span>│<span style=\"color: #008000\">  GSM3319034  </span>│<span style=\"color: #af00d7\">         148         </span>│\n",
              "│<span style=\"color: #0087ff\">                        </span>│<span style=\"color: #008000\">  GSM3557965  </span>│<span style=\"color: #af00d7\">         149         </span>│\n",
              "│<span style=\"color: #0087ff\">                        </span>│<span style=\"color: #008000\">  GSM2905291  </span>│<span style=\"color: #af00d7\">         150         </span>│\n",
              "│<span style=\"color: #0087ff\">                        </span>│<span style=\"color: #008000\">  GSM3396164  </span>│<span style=\"color: #af00d7\">         151         </span>│\n",
              "│<span style=\"color: #0087ff\">                        </span>│<span style=\"color: #008000\">  GSM3439913  </span>│<span style=\"color: #af00d7\">         152         </span>│\n",
              "│<span style=\"color: #0087ff\">                        </span>│<span style=\"color: #008000\">  GSM3526583  </span>│<span style=\"color: #af00d7\">         153         </span>│\n",
              "│<span style=\"color: #0087ff\">                        </span>│<span style=\"color: #008000\"> GSM37392185  </span>│<span style=\"color: #af00d7\">         154         </span>│\n",
              "│<span style=\"color: #0087ff\">                        </span>│<span style=\"color: #008000\">  GSM2928381  </span>│<span style=\"color: #af00d7\">         155         </span>│\n",
              "│<span style=\"color: #0087ff\">                        </span>│<span style=\"color: #008000\">  GSM3396178  </span>│<span style=\"color: #af00d7\">         156         </span>│\n",
              "│<span style=\"color: #0087ff\">                        </span>│<span style=\"color: #008000\"> GSM35098396  </span>│<span style=\"color: #af00d7\">         157         </span>│\n",
              "│<span style=\"color: #0087ff\">                        </span>│<span style=\"color: #008000\"> GSM37392227  </span>│<span style=\"color: #af00d7\">         158         </span>│\n",
              "│<span style=\"color: #0087ff\">                        </span>│<span style=\"color: #008000\">  GSM3309833  </span>│<span style=\"color: #af00d7\">         159         </span>│\n",
              "│<span style=\"color: #0087ff\">                        </span>│<span style=\"color: #008000\">  GSM2928380  </span>│<span style=\"color: #af00d7\">         160         </span>│\n",
              "│<span style=\"color: #0087ff\">                        </span>│<span style=\"color: #008000\">  GSM4463253  </span>│<span style=\"color: #af00d7\">         161         </span>│\n",
              "│<span style=\"color: #0087ff\">                        </span>│<span style=\"color: #008000\">  GSM4463234  </span>│<span style=\"color: #af00d7\">         162         </span>│\n",
              "│<span style=\"color: #0087ff\">                        </span>│<span style=\"color: #008000\">  GSM3396172  </span>│<span style=\"color: #af00d7\">         163         </span>│\n",
              "│<span style=\"color: #0087ff\">                        </span>│<span style=\"color: #008000\">  GSM2928384  </span>│<span style=\"color: #af00d7\">         164         </span>│\n",
              "│<span style=\"color: #0087ff\">                        </span>│<span style=\"color: #008000\"> GSM35098398  </span>│<span style=\"color: #af00d7\">         165         </span>│\n",
              "│<span style=\"color: #0087ff\">                        </span>│<span style=\"color: #008000\">  GSM3439918  </span>│<span style=\"color: #af00d7\">         166         </span>│\n",
              "│<span style=\"color: #0087ff\">                        </span>│<span style=\"color: #008000\">  GSM4037305  </span>│<span style=\"color: #af00d7\">         167         </span>│\n",
              "│<span style=\"color: #0087ff\">                        </span>│<span style=\"color: #008000\">  GSM3319040  </span>│<span style=\"color: #af00d7\">         168         </span>│\n",
              "│<span style=\"color: #0087ff\">                        </span>│<span style=\"color: #008000\"> GSM34787919  </span>│<span style=\"color: #af00d7\">         169         </span>│\n",
              "│<span style=\"color: #0087ff\">                        </span>│<span style=\"color: #008000\">  GSM2786157  </span>│<span style=\"color: #af00d7\">         170         </span>│\n",
              "│<span style=\"color: #0087ff\">                        </span>│<span style=\"color: #008000\">  GSM3396177  </span>│<span style=\"color: #af00d7\">         171         </span>│\n",
              "│<span style=\"color: #0087ff\">                        </span>│<span style=\"color: #008000\">  GSM2928378  </span>│<span style=\"color: #af00d7\">         172         </span>│\n",
              "│<span style=\"color: #0087ff\">                        </span>│<span style=\"color: #008000\"> GSM373921810 </span>│<span style=\"color: #af00d7\">         173         </span>│\n",
              "│<span style=\"color: #0087ff\">                        </span>│<span style=\"color: #008000\">  GSM3439920  </span>│<span style=\"color: #af00d7\">         174         </span>│\n",
              "│<span style=\"color: #0087ff\">                        </span>│<span style=\"color: #008000\">  GSM2928383  </span>│<span style=\"color: #af00d7\">         175         </span>│\n",
              "│<span style=\"color: #0087ff\">                        </span>│<span style=\"color: #008000\">  GSM3396174  </span>│<span style=\"color: #af00d7\">         176         </span>│\n",
              "│<span style=\"color: #0087ff\">                        </span>│<span style=\"color: #008000\">  GSM2803967  </span>│<span style=\"color: #af00d7\">         177         </span>│\n",
              "│<span style=\"color: #0087ff\">                        </span>│<span style=\"color: #008000\">  GSM3526590  </span>│<span style=\"color: #af00d7\">         178         </span>│\n",
              "│<span style=\"color: #0087ff\">                        </span>│<span style=\"color: #008000\">  GSM4142873  </span>│<span style=\"color: #af00d7\">         179         </span>│\n",
              "│<span style=\"color: #0087ff\">                        </span>│<span style=\"color: #008000\">  GSM3148578  </span>│<span style=\"color: #af00d7\">         180         </span>│\n",
              "│<span style=\"color: #0087ff\">                        </span>│<span style=\"color: #008000\"> GSM330252411 </span>│<span style=\"color: #af00d7\">         181         </span>│\n",
              "│<span style=\"color: #0087ff\">                        </span>│<span style=\"color: #008000\">  GSM3396175  </span>│<span style=\"color: #af00d7\">         182         </span>│\n",
              "│<span style=\"color: #0087ff\">                        </span>│<span style=\"color: #008000\">  GSM3073089  </span>│<span style=\"color: #af00d7\">         183         </span>│\n",
              "│<span style=\"color: #0087ff\">                        </span>│<span style=\"color: #008000\">  GSM2905292  </span>│<span style=\"color: #af00d7\">         184         </span>│\n",
              "│<span style=\"color: #0087ff\">                        </span>│<span style=\"color: #008000\">  GSM3396167  </span>│<span style=\"color: #af00d7\">         185         </span>│\n",
              "│<span style=\"color: #0087ff\">                        </span>│<span style=\"color: #008000\">  GSM4037301  </span>│<span style=\"color: #af00d7\">         186         </span>│\n",
              "│<span style=\"color: #0087ff\">                        </span>│<span style=\"color: #008000\">  GSM2877959  </span>│<span style=\"color: #af00d7\">         187         </span>│\n",
              "│<span style=\"color: #0087ff\">                        </span>│<span style=\"color: #008000\">  GSM2786158  </span>│<span style=\"color: #af00d7\">         188         </span>│\n",
              "│<span style=\"color: #0087ff\">                        </span>│<span style=\"color: #008000\">  GSM3378059  </span>│<span style=\"color: #af00d7\">         189         </span>│\n",
              "│<span style=\"color: #0087ff\">                        </span>│<span style=\"color: #008000\">  GSM3439925  </span>│<span style=\"color: #af00d7\">         190         </span>│\n",
              "│<span style=\"color: #0087ff\">                        </span>│<span style=\"color: #008000\">  GSM3439917  </span>│<span style=\"color: #af00d7\">         191         </span>│\n",
              "│<span style=\"color: #0087ff\">                        </span>│<span style=\"color: #008000\">  GSM3396182  </span>│<span style=\"color: #af00d7\">         192         </span>│\n",
              "│<span style=\"color: #0087ff\">                        </span>│<span style=\"color: #008000\">  GSM3738536  </span>│<span style=\"color: #af00d7\">         193         </span>│\n",
              "│<span style=\"color: #0087ff\">                        </span>│<span style=\"color: #008000\">  GSM2928382  </span>│<span style=\"color: #af00d7\">         194         </span>│\n",
              "└────────────────────────┴──────────────┴─────────────────────┘\n",
              "</pre>\n"
            ],
            "text/plain": [
              "<rich.jupyter.JupyterRenderable at 0x7f76597b2eb8>"
            ]
          },
          "metadata": {
            "tags": []
          }
        }
      ]
    },
    {
      "cell_type": "code",
      "metadata": {
        "id": "YT9up_4smki_"
      },
      "source": [
        "# initialize LinearSCVI model\n",
        "model = scvi.model.LinearSCVI(adata, n_latent=10)"
      ],
      "execution_count": 14,
      "outputs": []
    },
    {
      "cell_type": "code",
      "metadata": {
        "colab": {
          "base_uri": "https://localhost:8080/"
        },
        "id": "NzTQRlgGmml_",
        "outputId": "1d8571a5-bcce-4986-fc66-73ca9bdad9fe"
      },
      "source": [
        "# train for 250 epochs, compute metrics every 10 epochs\n",
        "model.train(n_epochs=250, lr = 5e-3, frequency = 10)"
      ],
      "execution_count": 15,
      "outputs": [
        {
          "output_type": "stream",
          "text": [
            "\u001b[34mINFO    \u001b[0m Training for \u001b[1;34m250\u001b[0m epochs                                                \n",
            "\u001b[34mINFO    \u001b[0m KL warmup phase exceeds overall training phaseIf your applications rely\n",
            "         on the posterior quality, consider training for more epochs or reducing\n",
            "         the kl warmup.                                                         \n",
            "\u001b[34mINFO    \u001b[0m KL warmup for \u001b[1;34m400\u001b[0m epochs                                               \n",
            "Training...: 100%|██████████| 250/250 [16:07:14<00:00, 232.14s/it]\n",
            "\u001b[34mINFO    \u001b[0m Training is still in warming up phase. If your applications rely on the\n",
            "         posterior quality, consider training for more epochs or reducing the kl\n",
            "         warmup.                                                                \n",
            "\u001b[34mINFO    \u001b[0m Training time:  \u001b[1;34m54523\u001b[0m s. \u001b[35m/\u001b[0m \u001b[1;34m250\u001b[0m epochs                                  \n"
          ],
          "name": "stdout"
        }
      ]
    },
    {
      "cell_type": "code",
      "metadata": {
        "id": "PqTxNXQMmpWY"
      },
      "source": [
        "fig, ax = plt.subplots(figsize=(6, 4))\n",
        "\n",
        "#ignore plotting elbo of first epoch\n",
        "train_elbo = model.trainer.history['elbo_train_set'][1:]\n",
        "test_elbo = model.trainer.history['elbo_test_set'][1:]\n",
        "epochs = np.arange(10,260,10)\n",
        "\n",
        "ax.plot(epochs, train_elbo, label='train')\n",
        "ax.plot(epochs, test_elbo, label='test')\n",
        "ax.legend()"
      ],
      "execution_count": null,
      "outputs": []
    },
    {
      "cell_type": "code",
      "metadata": {
        "id": "kX95MyIMmsxD"
      },
      "source": [
        "Z_hat = model.get_latent_representation()\n",
        "for i, z in enumerate(Z_hat.T):\n",
        "    adata.obs[f'Z_{i}'] = z"
      ],
      "execution_count": null,
      "outputs": []
    },
    {
      "cell_type": "code",
      "metadata": {
        "id": "xJ6jJYTXmtRB"
      },
      "source": [
        "fig = plt.figure(figsize=(12, 8))\n",
        "\n",
        "for f in range(0, 9, 2):\n",
        "    plt.subplot(2, 3, int(f / 2) + 1)\n",
        "\n",
        "    plt.scatter(adata.obs[f'Z_{f}'], adata.obs[f'Z_{f + 1}'], marker='.', s=4, label='Cells')\n",
        "\n",
        "    plt.xlabel(f'Z_{f}')\n",
        "    plt.ylabel(f'Z_{f + 1}')\n",
        "\n",
        "plt.subplot(2, 3, 6)\n",
        "plt.scatter(adata.obs[f'Z_{f}'], adata.obs[f'Z_{f + 1}'], marker='.', label='Cells', s=4)\n",
        "plt.scatter(adata.obs[f'Z_{f}'], adata.obs[f'Z_{f + 1}'], c='w', label=None)\n",
        "plt.gca().set_frame_on(False)\n",
        "plt.gca().axis('off')\n",
        "\n",
        "lgd = plt.legend(scatterpoints=3, loc='upper left')\n",
        "for handle in lgd.legendHandles:\n",
        "    handle.set_sizes([200])\n",
        "\n",
        "\n",
        "plt.tight_layout()"
      ],
      "execution_count": null,
      "outputs": []
    }
  ]
}